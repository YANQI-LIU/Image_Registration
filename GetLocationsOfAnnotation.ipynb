{
 "cells": [
  {
   "cell_type": "markdown",
   "metadata": {},
   "source": [
    "### Load downsampled annotation file anre identify location\n",
    "\n",
    "If the points has been transformed, load the output from Transformix\n",
    "If ara2sample ran, just load the downsampled points itself\n",
    "\n",
    "Associated each point with an atlas ID\n",
    "\n",
    "Project downsampled points in to tiff file for illustration purposes (ie, can overlay to brain image stack or template stack)\n",
    "- For axons only...since downsampled dendrites at 25um will just be a blob\n",
    "\n",
    "Plot as a percentage of total axonal length\n",
    "\n",
    "Plot as full resolution 3D scatter plot with hover region name"
   ]
  },
  {
   "cell_type": "code",
   "execution_count": 16,
   "metadata": {},
   "outputs": [],
   "source": [
    "import os\n",
    "\n",
    "import pandas as pd\n",
    "\n",
    "import numpy as np\n",
    "\n",
    "import SimpleITK as sitk\n",
    "\n",
    "import warnings\n",
    "\n",
    "import tkinter.filedialog as fdialog\n",
    "\n",
    "import skimage\n",
    "from skimage import io\n",
    "\n",
    "import random\n",
    "\n",
    "import matplotlib.pyplot as plt\n",
    "import seaborn as sns\n",
    "\n",
    "import re"
   ]
  },
  {
   "cell_type": "code",
   "execution_count": 2,
   "metadata": {},
   "outputs": [
    {
     "data": {
      "text/plain": [
       "(563, 419, 360)"
      ]
     },
     "execution_count": 2,
     "metadata": {},
     "output_type": "execute_result"
    }
   ],
   "source": [
    "points_name=fdialog.askopenfile( title='Select the downsampled points(transformed if sample2ara, non-transformed if ara2sample)').name\n",
    "ending_idx_name=fdialog.askopenfile( title='Select the ending indices corresponding to the point').name\n",
    "atlas_name=fdialog.askopenfile( title='Select the corresponding atlas').name\n",
    "\n",
    "outdir = fdialog.askdirectory(title='Please select the output directory')\n",
    "\n",
    "atlas= sitk.ReadImage(atlas_name)\n",
    "\n",
    "atlas.GetSize()"
   ]
  },
  {
   "cell_type": "code",
   "execution_count": 3,
   "metadata": {},
   "outputs": [],
   "source": [
    "ending_indices = np.genfromtxt(ending_idx_name, delimiter=',', dtype='int')"
   ]
  },
  {
   "cell_type": "code",
   "execution_count": 4,
   "metadata": {},
   "outputs": [],
   "source": [
    "# Load the csv file containing the labels\n",
    "atlas_labels=pd.read_csv('D:\\Allenbrainatlas\\ARA_25_micron_mhd_ccf2017\\labels.csv')\n",
    "\n",
    "#Read the output points\n",
    "output=open(points_name,'r')\n",
    "outputpoint= output.readlines()"
   ]
  },
  {
   "cell_type": "code",
   "execution_count": 5,
   "metadata": {},
   "outputs": [],
   "source": [
    "#Read the output points\n",
    "output=open(points_name,'r')\n",
    "outputpoint= output.readlines()"
   ]
  },
  {
   "cell_type": "markdown",
   "metadata": {},
   "source": [
    "### The next 3 cells are only for points that are transformed(after sample2ara)"
   ]
  },
  {
   "cell_type": "code",
   "execution_count": 41,
   "metadata": {
    "jupyter": {
     "source_hidden": true
    }
   },
   "outputs": [],
   "source": [
    "#This section is only for points that are transformed(after sample2ara)\n",
    "key_word='OutputIndexFixed'\n",
    "length=len(key_word)\n",
    "\n",
    "all_points=[]\n",
    "for lines in outputpoint:\n",
    "    start= lines.find('OutputIndexFixed')\n",
    "    this_line=lines[start+length+5:start+length+17] \n",
    "    this_line= this_line.split(' ')\n",
    "    mypoints=[int(stuff) for stuff in this_line if stuff.isnumeric()]\n",
    "    all_points.append(mypoints)\n",
    "\n",
    "#this is a very stupid way of finding the output points\n",
    "# note that we convert string into integer here"
   ]
  },
  {
   "cell_type": "code",
   "execution_count": 44,
   "metadata": {
    "collapsed": true,
    "jupyter": {
     "outputs_hidden": true,
     "source_hidden": true
    }
   },
   "outputs": [
    {
     "data": {
      "text/html": [
       "<div>\n",
       "<style scoped>\n",
       "    .dataframe tbody tr th:only-of-type {\n",
       "        vertical-align: middle;\n",
       "    }\n",
       "\n",
       "    .dataframe tbody tr th {\n",
       "        vertical-align: top;\n",
       "    }\n",
       "\n",
       "    .dataframe thead th {\n",
       "        text-align: right;\n",
       "    }\n",
       "</style>\n",
       "<table border=\"1\" class=\"dataframe\">\n",
       "  <thead>\n",
       "    <tr style=\"text-align: right;\">\n",
       "      <th></th>\n",
       "      <th>id</th>\n",
       "      <th>atlas_id</th>\n",
       "      <th>name</th>\n",
       "      <th>acronym</th>\n",
       "      <th>st_level</th>\n",
       "      <th>ontology_id</th>\n",
       "      <th>hemisphere_id</th>\n",
       "      <th>weight</th>\n",
       "      <th>parent_structure_id</th>\n",
       "      <th>depth</th>\n",
       "      <th>...</th>\n",
       "      <th>structure_id_path</th>\n",
       "      <th>color_hex_triplet</th>\n",
       "      <th>neuro_name_structure_id</th>\n",
       "      <th>neuro_name_structure_id_path</th>\n",
       "      <th>failed</th>\n",
       "      <th>sphinx_id</th>\n",
       "      <th>structure_name_facet</th>\n",
       "      <th>failed_facet</th>\n",
       "      <th>safe_name</th>\n",
       "      <th>counts</th>\n",
       "    </tr>\n",
       "  </thead>\n",
       "  <tbody>\n",
       "    <tr>\n",
       "      <th>0</th>\n",
       "      <td>1047</td>\n",
       "      <td>979.0</td>\n",
       "      <td>Primary somatosensory area, barrel field, layer 4</td>\n",
       "      <td>SSp-bfd4</td>\n",
       "      <td>11</td>\n",
       "      <td>1</td>\n",
       "      <td>3</td>\n",
       "      <td>8690</td>\n",
       "      <td>329.0</td>\n",
       "      <td>9</td>\n",
       "      <td>...</td>\n",
       "      <td>/997/8/567/688/695/315/453/322/329/1047/</td>\n",
       "      <td>188064</td>\n",
       "      <td>NaN</td>\n",
       "      <td>NaN</td>\n",
       "      <td>f</td>\n",
       "      <td>55</td>\n",
       "      <td>3439709501</td>\n",
       "      <td>734881840</td>\n",
       "      <td>Primary somatosensory area barrel field layer 4</td>\n",
       "      <td>2298</td>\n",
       "    </tr>\n",
       "    <tr>\n",
       "      <th>1</th>\n",
       "      <td>600</td>\n",
       "      <td>923.0</td>\n",
       "      <td>Dorsal auditory area, layer 2/3</td>\n",
       "      <td>AUDd2/3</td>\n",
       "      <td>11</td>\n",
       "      <td>1</td>\n",
       "      <td>3</td>\n",
       "      <td>8690</td>\n",
       "      <td>1011.0</td>\n",
       "      <td>8</td>\n",
       "      <td>...</td>\n",
       "      <td>/997/8/567/688/695/315/247/1011/600/</td>\n",
       "      <td>019399</td>\n",
       "      <td>NaN</td>\n",
       "      <td>NaN</td>\n",
       "      <td>f</td>\n",
       "      <td>125</td>\n",
       "      <td>2148227545</td>\n",
       "      <td>734881840</td>\n",
       "      <td>Dorsal auditory area layer 2/3</td>\n",
       "      <td>2193</td>\n",
       "    </tr>\n",
       "    <tr>\n",
       "      <th>2</th>\n",
       "      <td>678</td>\n",
       "      <td>650.0</td>\n",
       "      <td>Dorsal auditory area, layer 4</td>\n",
       "      <td>AUDd4</td>\n",
       "      <td>11</td>\n",
       "      <td>1</td>\n",
       "      <td>3</td>\n",
       "      <td>8690</td>\n",
       "      <td>1011.0</td>\n",
       "      <td>8</td>\n",
       "      <td>...</td>\n",
       "      <td>/997/8/567/688/695/315/247/1011/678/</td>\n",
       "      <td>019399</td>\n",
       "      <td>NaN</td>\n",
       "      <td>NaN</td>\n",
       "      <td>f</td>\n",
       "      <td>126</td>\n",
       "      <td>3650389730</td>\n",
       "      <td>734881840</td>\n",
       "      <td>Dorsal auditory area layer 4</td>\n",
       "      <td>873</td>\n",
       "    </tr>\n",
       "    <tr>\n",
       "      <th>3</th>\n",
       "      <td>873</td>\n",
       "      <td>1099.0</td>\n",
       "      <td>Supplemental somatosensory area, layer 1</td>\n",
       "      <td>SSs1</td>\n",
       "      <td>11</td>\n",
       "      <td>1</td>\n",
       "      <td>3</td>\n",
       "      <td>8690</td>\n",
       "      <td>378.0</td>\n",
       "      <td>8</td>\n",
       "      <td>...</td>\n",
       "      <td>/997/8/567/688/695/315/453/378/873/</td>\n",
       "      <td>188064</td>\n",
       "      <td>NaN</td>\n",
       "      <td>NaN</td>\n",
       "      <td>f</td>\n",
       "      <td>102</td>\n",
       "      <td>697782769</td>\n",
       "      <td>734881840</td>\n",
       "      <td>Supplemental somatosensory area layer 1</td>\n",
       "      <td>2151</td>\n",
       "    </tr>\n",
       "    <tr>\n",
       "      <th>4</th>\n",
       "      <td>1038</td>\n",
       "      <td>978.0</td>\n",
       "      <td>Primary somatosensory area, barrel field, laye...</td>\n",
       "      <td>SSp-bfd6a</td>\n",
       "      <td>11</td>\n",
       "      <td>1</td>\n",
       "      <td>3</td>\n",
       "      <td>8690</td>\n",
       "      <td>329.0</td>\n",
       "      <td>9</td>\n",
       "      <td>...</td>\n",
       "      <td>/997/8/567/688/695/315/453/322/329/1038/</td>\n",
       "      <td>188064</td>\n",
       "      <td>NaN</td>\n",
       "      <td>NaN</td>\n",
       "      <td>f</td>\n",
       "      <td>57</td>\n",
       "      <td>2183435549</td>\n",
       "      <td>734881840</td>\n",
       "      <td>Primary somatosensory area barrel field layer 6a</td>\n",
       "      <td>1400</td>\n",
       "    </tr>\n",
       "  </tbody>\n",
       "</table>\n",
       "<p>5 rows × 22 columns</p>\n",
       "</div>"
      ],
      "text/plain": [
       "     id  atlas_id                                               name  \\\n",
       "0  1047     979.0  Primary somatosensory area, barrel field, layer 4   \n",
       "1   600     923.0                    Dorsal auditory area, layer 2/3   \n",
       "2   678     650.0                      Dorsal auditory area, layer 4   \n",
       "3   873    1099.0           Supplemental somatosensory area, layer 1   \n",
       "4  1038     978.0  Primary somatosensory area, barrel field, laye...   \n",
       "\n",
       "     acronym  st_level  ontology_id  hemisphere_id  weight  \\\n",
       "0   SSp-bfd4        11            1              3    8690   \n",
       "1    AUDd2/3        11            1              3    8690   \n",
       "2      AUDd4        11            1              3    8690   \n",
       "3       SSs1        11            1              3    8690   \n",
       "4  SSp-bfd6a        11            1              3    8690   \n",
       "\n",
       "   parent_structure_id  depth  ...                         structure_id_path  \\\n",
       "0                329.0      9  ...  /997/8/567/688/695/315/453/322/329/1047/   \n",
       "1               1011.0      8  ...      /997/8/567/688/695/315/247/1011/600/   \n",
       "2               1011.0      8  ...      /997/8/567/688/695/315/247/1011/678/   \n",
       "3                378.0      8  ...       /997/8/567/688/695/315/453/378/873/   \n",
       "4                329.0      9  ...  /997/8/567/688/695/315/453/322/329/1038/   \n",
       "\n",
       "   color_hex_triplet neuro_name_structure_id neuro_name_structure_id_path  \\\n",
       "0             188064                     NaN                          NaN   \n",
       "1             019399                     NaN                          NaN   \n",
       "2             019399                     NaN                          NaN   \n",
       "3             188064                     NaN                          NaN   \n",
       "4             188064                     NaN                          NaN   \n",
       "\n",
       "   failed  sphinx_id structure_name_facet  failed_facet  \\\n",
       "0       f         55           3439709501     734881840   \n",
       "1       f        125           2148227545     734881840   \n",
       "2       f        126           3650389730     734881840   \n",
       "3       f        102            697782769     734881840   \n",
       "4       f         57           2183435549     734881840   \n",
       "\n",
       "                                          safe_name  counts  \n",
       "0   Primary somatosensory area barrel field layer 4    2298  \n",
       "1                    Dorsal auditory area layer 2/3    2193  \n",
       "2                      Dorsal auditory area layer 4     873  \n",
       "3           Supplemental somatosensory area layer 1    2151  \n",
       "4  Primary somatosensory area barrel field layer 6a    1400  \n",
       "\n",
       "[5 rows x 22 columns]"
      ]
     },
     "execution_count": 44,
     "metadata": {},
     "output_type": "execute_result"
    }
   ],
   "source": [
    "points_in_atlas=[int(atlas[i]) for i in all_points ]\n",
    "\n",
    "unique_id_inbrain=set(points_in_atlas)\n",
    "\n",
    "our_regions=atlas_labels.loc[atlas_labels['id'].isin (unique_id)]\n",
    "\n",
    "id_withcounts=[]\n",
    "for i in unique_id:\n",
    "    id_withcounts.append([i, points_in_atlas.count(i)])\n",
    "\n",
    "new_df= pd.DataFrame(id_withcounts, columns=['id', 'counts'])\n",
    "our_regionWcounts=pd.merge(atlas_labels, new_df)\n",
    "our_regionWcounts.head()"
   ]
  },
  {
   "cell_type": "code",
   "execution_count": 49,
   "metadata": {
    "collapsed": true,
    "jupyter": {
     "outputs_hidden": true,
     "source_hidden": true
    }
   },
   "outputs": [
    {
     "name": "stdout",
     "output_type": "stream",
     "text": [
      "182305696 this index does not exist in allen reference atlas, see https://github.com/ChristophKirst/ClearMap/issues/37\n",
      "182305712 this index does not exist in allen reference atlas, see https://github.com/ChristophKirst/ClearMap/issues/37\n"
     ]
    },
    {
     "name": "stderr",
     "output_type": "stream",
     "text": [
      "C:\\Users\\liu\\AppData\\Local\\Continuum\\anaconda3\\lib\\site-packages\\ipykernel_launcher.py:18: UserWarning: Some points do not have corresponding labels\n"
     ]
    }
   ],
   "source": [
    "# In case of suboptimal registration, some points will fall out of the atlas (and will give a 0 index)\n",
    "# check for this and thrown a warning\n",
    "\n",
    "id_inatlas=[]\n",
    "for x in atlas_labels['id']:\n",
    "    intID = int(x)\n",
    "    id_inatlas.append(intID)\n",
    "\n",
    "# need to format this first ourselves,otherwise problematic for 0 and very large numbers (idk why)    \n",
    "\n",
    "for id_inbrain in unique_id_inbrain:\n",
    "    if id_inbrain not in id_inatlas:\n",
    "        if id_inbrain==0:\n",
    "            \n",
    "            print(id_inbrain,'this index is outside of the brain, consider possible suboptimal image registration')\n",
    "        else: \n",
    "            print(id_inbrain,'this index does not exist in allen reference atlas, see https://github.com/ChristophKirst/ClearMap/issues/37')\n",
    "        warnings.warn('Some points do not have corresponding labels')"
   ]
  },
  {
   "cell_type": "markdown",
   "metadata": {},
   "source": [
    "### The next cells are only for points that are not transformed (after ara2sample)"
   ]
  },
  {
   "cell_type": "code",
   "execution_count": 6,
   "metadata": {},
   "outputs": [],
   "source": [
    "# This section is only for points that are not transformed (after ara2sample)\n",
    "all_points=[]\n",
    "for lines in outputpoint[2:]:\n",
    "    this_line= lines.split (' ')\n",
    "    mypoints= [int(stuff) for stuff in this_line]\n",
    "    all_points.append(mypoints)"
   ]
  },
  {
   "cell_type": "code",
   "execution_count": 9,
   "metadata": {
    "collapsed": true,
    "jupyter": {
     "outputs_hidden": true
    }
   },
   "outputs": [
    {
     "data": {
      "text/html": [
       "<div>\n",
       "<style scoped>\n",
       "    .dataframe tbody tr th:only-of-type {\n",
       "        vertical-align: middle;\n",
       "    }\n",
       "\n",
       "    .dataframe tbody tr th {\n",
       "        vertical-align: top;\n",
       "    }\n",
       "\n",
       "    .dataframe thead th {\n",
       "        text-align: right;\n",
       "    }\n",
       "</style>\n",
       "<table border=\"1\" class=\"dataframe\">\n",
       "  <thead>\n",
       "    <tr style=\"text-align: right;\">\n",
       "      <th></th>\n",
       "      <th>id</th>\n",
       "      <th>atlas_id</th>\n",
       "      <th>name</th>\n",
       "      <th>acronym</th>\n",
       "      <th>st_level</th>\n",
       "      <th>ontology_id</th>\n",
       "      <th>hemisphere_id</th>\n",
       "      <th>weight</th>\n",
       "      <th>parent_structure_id</th>\n",
       "      <th>depth</th>\n",
       "      <th>...</th>\n",
       "      <th>color_hex_triplet</th>\n",
       "      <th>neuro_name_structure_id</th>\n",
       "      <th>neuro_name_structure_id_path</th>\n",
       "      <th>failed</th>\n",
       "      <th>sphinx_id</th>\n",
       "      <th>structure_name_facet</th>\n",
       "      <th>failed_facet</th>\n",
       "      <th>safe_name</th>\n",
       "      <th>Total_counts</th>\n",
       "      <th>Endings_counts</th>\n",
       "    </tr>\n",
       "  </thead>\n",
       "  <tbody>\n",
       "    <tr>\n",
       "      <th>0</th>\n",
       "      <td>1047</td>\n",
       "      <td>979.0</td>\n",
       "      <td>Primary somatosensory area, barrel field, layer 4</td>\n",
       "      <td>SSp-bfd4</td>\n",
       "      <td>11</td>\n",
       "      <td>1</td>\n",
       "      <td>3</td>\n",
       "      <td>8690</td>\n",
       "      <td>329.0</td>\n",
       "      <td>9</td>\n",
       "      <td>...</td>\n",
       "      <td>188064</td>\n",
       "      <td>NaN</td>\n",
       "      <td>NaN</td>\n",
       "      <td>f</td>\n",
       "      <td>55</td>\n",
       "      <td>3439709501</td>\n",
       "      <td>734881840</td>\n",
       "      <td>Primary somatosensory area barrel field layer 4</td>\n",
       "      <td>9168</td>\n",
       "      <td>61</td>\n",
       "    </tr>\n",
       "    <tr>\n",
       "      <th>1</th>\n",
       "      <td>844</td>\n",
       "      <td>1095.0</td>\n",
       "      <td>Primary motor area, Layer 6a</td>\n",
       "      <td>MOp6a</td>\n",
       "      <td>11</td>\n",
       "      <td>1</td>\n",
       "      <td>3</td>\n",
       "      <td>8690</td>\n",
       "      <td>985.0</td>\n",
       "      <td>8</td>\n",
       "      <td>...</td>\n",
       "      <td>1F9D5A</td>\n",
       "      <td>NaN</td>\n",
       "      <td>NaN</td>\n",
       "      <td>f</td>\n",
       "      <td>23</td>\n",
       "      <td>3473508879</td>\n",
       "      <td>734881840</td>\n",
       "      <td>Primary motor area Layer 6a</td>\n",
       "      <td>479</td>\n",
       "      <td>1</td>\n",
       "    </tr>\n",
       "    <tr>\n",
       "      <th>2</th>\n",
       "      <td>1085</td>\n",
       "      <td>1125.0</td>\n",
       "      <td>Secondary motor area, layer 6b</td>\n",
       "      <td>MOs6b</td>\n",
       "      <td>11</td>\n",
       "      <td>1</td>\n",
       "      <td>3</td>\n",
       "      <td>8690</td>\n",
       "      <td>993.0</td>\n",
       "      <td>8</td>\n",
       "      <td>...</td>\n",
       "      <td>1F9D5A</td>\n",
       "      <td>NaN</td>\n",
       "      <td>NaN</td>\n",
       "      <td>f</td>\n",
       "      <td>30</td>\n",
       "      <td>1225271489</td>\n",
       "      <td>734881840</td>\n",
       "      <td>Secondary motor area layer 6b</td>\n",
       "      <td>18</td>\n",
       "      <td>0</td>\n",
       "    </tr>\n",
       "    <tr>\n",
       "      <th>3</th>\n",
       "      <td>945</td>\n",
       "      <td>1108.0</td>\n",
       "      <td>Primary somatosensory area, upper limb, layer 6a</td>\n",
       "      <td>SSp-ul6a</td>\n",
       "      <td>11</td>\n",
       "      <td>1</td>\n",
       "      <td>3</td>\n",
       "      <td>8690</td>\n",
       "      <td>369.0</td>\n",
       "      <td>9</td>\n",
       "      <td>...</td>\n",
       "      <td>188064</td>\n",
       "      <td>NaN</td>\n",
       "      <td>NaN</td>\n",
       "      <td>f</td>\n",
       "      <td>85</td>\n",
       "      <td>2726127758</td>\n",
       "      <td>734881840</td>\n",
       "      <td>Primary somatosensory area upper limb layer 6a</td>\n",
       "      <td>1752</td>\n",
       "      <td>3</td>\n",
       "    </tr>\n",
       "    <tr>\n",
       "      <th>4</th>\n",
       "      <td>1086</td>\n",
       "      <td>984.0</td>\n",
       "      <td>Primary somatosensory area, trunk, layer 4</td>\n",
       "      <td>SSp-tr4</td>\n",
       "      <td>11</td>\n",
       "      <td>1</td>\n",
       "      <td>3</td>\n",
       "      <td>8690</td>\n",
       "      <td>361.0</td>\n",
       "      <td>9</td>\n",
       "      <td>...</td>\n",
       "      <td>188064</td>\n",
       "      <td>NaN</td>\n",
       "      <td>NaN</td>\n",
       "      <td>f</td>\n",
       "      <td>90</td>\n",
       "      <td>1741439834</td>\n",
       "      <td>734881840</td>\n",
       "      <td>Primary somatosensory area trunk layer 4</td>\n",
       "      <td>27</td>\n",
       "      <td>0</td>\n",
       "    </tr>\n",
       "    <tr>\n",
       "      <th>5</th>\n",
       "      <td>1038</td>\n",
       "      <td>978.0</td>\n",
       "      <td>Primary somatosensory area, barrel field, laye...</td>\n",
       "      <td>SSp-bfd6a</td>\n",
       "      <td>11</td>\n",
       "      <td>1</td>\n",
       "      <td>3</td>\n",
       "      <td>8690</td>\n",
       "      <td>329.0</td>\n",
       "      <td>9</td>\n",
       "      <td>...</td>\n",
       "      <td>188064</td>\n",
       "      <td>NaN</td>\n",
       "      <td>NaN</td>\n",
       "      <td>f</td>\n",
       "      <td>57</td>\n",
       "      <td>2183435549</td>\n",
       "      <td>734881840</td>\n",
       "      <td>Primary somatosensory area barrel field layer 6a</td>\n",
       "      <td>839</td>\n",
       "      <td>0</td>\n",
       "    </tr>\n",
       "    <tr>\n",
       "      <th>6</th>\n",
       "      <td>854</td>\n",
       "      <td>955.0</td>\n",
       "      <td>Primary somatosensory area, upper limb, layer 2/3</td>\n",
       "      <td>SSp-ul2/3</td>\n",
       "      <td>11</td>\n",
       "      <td>1</td>\n",
       "      <td>3</td>\n",
       "      <td>8690</td>\n",
       "      <td>369.0</td>\n",
       "      <td>9</td>\n",
       "      <td>...</td>\n",
       "      <td>188064</td>\n",
       "      <td>NaN</td>\n",
       "      <td>NaN</td>\n",
       "      <td>f</td>\n",
       "      <td>82</td>\n",
       "      <td>243505027</td>\n",
       "      <td>734881840</td>\n",
       "      <td>Primary somatosensory area upper limb layer 2/3</td>\n",
       "      <td>2047</td>\n",
       "      <td>16</td>\n",
       "    </tr>\n",
       "    <tr>\n",
       "      <th>7</th>\n",
       "      <td>940</td>\n",
       "      <td>541.0</td>\n",
       "      <td>cingulum bundle</td>\n",
       "      <td>cing</td>\n",
       "      <td>8</td>\n",
       "      <td>1</td>\n",
       "      <td>3</td>\n",
       "      <td>8690</td>\n",
       "      <td>768.0</td>\n",
       "      <td>4</td>\n",
       "      <td>...</td>\n",
       "      <td>CCCCCC</td>\n",
       "      <td>NaN</td>\n",
       "      <td>NaN</td>\n",
       "      <td>f</td>\n",
       "      <td>1244</td>\n",
       "      <td>1622445056</td>\n",
       "      <td>734881840</td>\n",
       "      <td>cingulum bundle</td>\n",
       "      <td>896</td>\n",
       "      <td>3</td>\n",
       "    </tr>\n",
       "    <tr>\n",
       "      <th>8</th>\n",
       "      <td>577</td>\n",
       "      <td>1062.0</td>\n",
       "      <td>Primary somatosensory area, upper limb, layer 4</td>\n",
       "      <td>SSp-ul4</td>\n",
       "      <td>11</td>\n",
       "      <td>1</td>\n",
       "      <td>3</td>\n",
       "      <td>8690</td>\n",
       "      <td>369.0</td>\n",
       "      <td>9</td>\n",
       "      <td>...</td>\n",
       "      <td>188064</td>\n",
       "      <td>NaN</td>\n",
       "      <td>NaN</td>\n",
       "      <td>f</td>\n",
       "      <td>83</td>\n",
       "      <td>4219333960</td>\n",
       "      <td>734881840</td>\n",
       "      <td>Primary somatosensory area upper limb layer 4</td>\n",
       "      <td>5121</td>\n",
       "      <td>34</td>\n",
       "    </tr>\n",
       "    <tr>\n",
       "      <th>9</th>\n",
       "      <td>1006</td>\n",
       "      <td>974.0</td>\n",
       "      <td>Primary somatosensory area, trunk, layer 1</td>\n",
       "      <td>SSp-tr1</td>\n",
       "      <td>11</td>\n",
       "      <td>1</td>\n",
       "      <td>3</td>\n",
       "      <td>8690</td>\n",
       "      <td>361.0</td>\n",
       "      <td>9</td>\n",
       "      <td>...</td>\n",
       "      <td>188064</td>\n",
       "      <td>NaN</td>\n",
       "      <td>NaN</td>\n",
       "      <td>f</td>\n",
       "      <td>88</td>\n",
       "      <td>396802005</td>\n",
       "      <td>734881840</td>\n",
       "      <td>Primary somatosensory area trunk layer 1</td>\n",
       "      <td>1179</td>\n",
       "      <td>2</td>\n",
       "    </tr>\n",
       "    <tr>\n",
       "      <th>10</th>\n",
       "      <td>484682528</td>\n",
       "      <td>NaN</td>\n",
       "      <td>commissural branch of stria terminalis</td>\n",
       "      <td>stc</td>\n",
       "      <td>9</td>\n",
       "      <td>1</td>\n",
       "      <td>3</td>\n",
       "      <td>8690</td>\n",
       "      <td>301.0</td>\n",
       "      <td>5</td>\n",
       "      <td>...</td>\n",
       "      <td>CCCCCC</td>\n",
       "      <td>NaN</td>\n",
       "      <td>NaN</td>\n",
       "      <td>f</td>\n",
       "      <td>1261</td>\n",
       "      <td>2072512978</td>\n",
       "      <td>734881840</td>\n",
       "      <td>commissural branch of stria terminalis</td>\n",
       "      <td>78</td>\n",
       "      <td>1</td>\n",
       "    </tr>\n",
       "    <tr>\n",
       "      <th>11</th>\n",
       "      <td>9</td>\n",
       "      <td>991.0</td>\n",
       "      <td>Primary somatosensory area, trunk, layer 6a</td>\n",
       "      <td>SSp-tr6a</td>\n",
       "      <td>11</td>\n",
       "      <td>1</td>\n",
       "      <td>3</td>\n",
       "      <td>8690</td>\n",
       "      <td>361.0</td>\n",
       "      <td>9</td>\n",
       "      <td>...</td>\n",
       "      <td>188064</td>\n",
       "      <td>NaN</td>\n",
       "      <td>NaN</td>\n",
       "      <td>f</td>\n",
       "      <td>92</td>\n",
       "      <td>1364764776</td>\n",
       "      <td>734881840</td>\n",
       "      <td>Primary somatosensory area trunk layer 6a</td>\n",
       "      <td>1291</td>\n",
       "      <td>3</td>\n",
       "    </tr>\n",
       "    <tr>\n",
       "      <th>12</th>\n",
       "      <td>670</td>\n",
       "      <td>649.0</td>\n",
       "      <td>Primary somatosensory area, trunk, layer 2/3</td>\n",
       "      <td>SSp-tr2/3</td>\n",
       "      <td>11</td>\n",
       "      <td>1</td>\n",
       "      <td>3</td>\n",
       "      <td>8690</td>\n",
       "      <td>361.0</td>\n",
       "      <td>9</td>\n",
       "      <td>...</td>\n",
       "      <td>188064</td>\n",
       "      <td>NaN</td>\n",
       "      <td>NaN</td>\n",
       "      <td>f</td>\n",
       "      <td>89</td>\n",
       "      <td>1192883470</td>\n",
       "      <td>734881840</td>\n",
       "      <td>Primary somatosensory area trunk layer 2/3</td>\n",
       "      <td>211</td>\n",
       "      <td>2</td>\n",
       "    </tr>\n",
       "    <tr>\n",
       "      <th>13</th>\n",
       "      <td>882</td>\n",
       "      <td>1100.0</td>\n",
       "      <td>Primary motor area, Layer 6b</td>\n",
       "      <td>MOp6b</td>\n",
       "      <td>11</td>\n",
       "      <td>1</td>\n",
       "      <td>3</td>\n",
       "      <td>8690</td>\n",
       "      <td>985.0</td>\n",
       "      <td>8</td>\n",
       "      <td>...</td>\n",
       "      <td>1F9D5A</td>\n",
       "      <td>NaN</td>\n",
       "      <td>NaN</td>\n",
       "      <td>f</td>\n",
       "      <td>24</td>\n",
       "      <td>1442896821</td>\n",
       "      <td>734881840</td>\n",
       "      <td>Primary motor area Layer 6b</td>\n",
       "      <td>423</td>\n",
       "      <td>0</td>\n",
       "    </tr>\n",
       "    <tr>\n",
       "      <th>14</th>\n",
       "      <td>450</td>\n",
       "      <td>1046.0</td>\n",
       "      <td>Primary somatosensory area, upper limb, layer 1</td>\n",
       "      <td>SSp-ul1</td>\n",
       "      <td>11</td>\n",
       "      <td>1</td>\n",
       "      <td>3</td>\n",
       "      <td>8690</td>\n",
       "      <td>369.0</td>\n",
       "      <td>9</td>\n",
       "      <td>...</td>\n",
       "      <td>188064</td>\n",
       "      <td>NaN</td>\n",
       "      <td>NaN</td>\n",
       "      <td>f</td>\n",
       "      <td>81</td>\n",
       "      <td>2333546951</td>\n",
       "      <td>734881840</td>\n",
       "      <td>Primary somatosensory area upper limb layer 1</td>\n",
       "      <td>812</td>\n",
       "      <td>5</td>\n",
       "    </tr>\n",
       "    <tr>\n",
       "      <th>15</th>\n",
       "      <td>625</td>\n",
       "      <td>1068.0</td>\n",
       "      <td>Primary somatosensory area, upper limb, layer 5</td>\n",
       "      <td>SSp-ul5</td>\n",
       "      <td>11</td>\n",
       "      <td>1</td>\n",
       "      <td>3</td>\n",
       "      <td>8690</td>\n",
       "      <td>369.0</td>\n",
       "      <td>9</td>\n",
       "      <td>...</td>\n",
       "      <td>188064</td>\n",
       "      <td>NaN</td>\n",
       "      <td>NaN</td>\n",
       "      <td>f</td>\n",
       "      <td>84</td>\n",
       "      <td>2356862430</td>\n",
       "      <td>734881840</td>\n",
       "      <td>Primary somatosensory area upper limb layer 5</td>\n",
       "      <td>1443</td>\n",
       "      <td>4</td>\n",
       "    </tr>\n",
       "    <tr>\n",
       "      <th>16</th>\n",
       "      <td>1111</td>\n",
       "      <td>987.0</td>\n",
       "      <td>Primary somatosensory area, trunk, layer 5</td>\n",
       "      <td>SSp-tr5</td>\n",
       "      <td>11</td>\n",
       "      <td>1</td>\n",
       "      <td>3</td>\n",
       "      <td>8690</td>\n",
       "      <td>361.0</td>\n",
       "      <td>9</td>\n",
       "      <td>...</td>\n",
       "      <td>188064</td>\n",
       "      <td>NaN</td>\n",
       "      <td>NaN</td>\n",
       "      <td>f</td>\n",
       "      <td>91</td>\n",
       "      <td>281768908</td>\n",
       "      <td>734881840</td>\n",
       "      <td>Primary somatosensory area trunk layer 5</td>\n",
       "      <td>1283</td>\n",
       "      <td>2</td>\n",
       "    </tr>\n",
       "    <tr>\n",
       "      <th>17</th>\n",
       "      <td>478</td>\n",
       "      <td>625.0</td>\n",
       "      <td>Primary somatosensory area, lower limb, layer 6a</td>\n",
       "      <td>SSp-ll6a</td>\n",
       "      <td>11</td>\n",
       "      <td>1</td>\n",
       "      <td>3</td>\n",
       "      <td>8690</td>\n",
       "      <td>337.0</td>\n",
       "      <td>9</td>\n",
       "      <td>...</td>\n",
       "      <td>188064</td>\n",
       "      <td>NaN</td>\n",
       "      <td>NaN</td>\n",
       "      <td>f</td>\n",
       "      <td>71</td>\n",
       "      <td>2536655458</td>\n",
       "      <td>734881840</td>\n",
       "      <td>Primary somatosensory area lower limb layer 6a</td>\n",
       "      <td>1497</td>\n",
       "      <td>0</td>\n",
       "    </tr>\n",
       "    <tr>\n",
       "      <th>18</th>\n",
       "      <td>201</td>\n",
       "      <td>1015.0</td>\n",
       "      <td>Primary somatosensory area, barrel field, laye...</td>\n",
       "      <td>SSp-bfd2/3</td>\n",
       "      <td>11</td>\n",
       "      <td>1</td>\n",
       "      <td>3</td>\n",
       "      <td>8690</td>\n",
       "      <td>329.0</td>\n",
       "      <td>9</td>\n",
       "      <td>...</td>\n",
       "      <td>188064</td>\n",
       "      <td>NaN</td>\n",
       "      <td>NaN</td>\n",
       "      <td>f</td>\n",
       "      <td>54</td>\n",
       "      <td>1738869888</td>\n",
       "      <td>734881840</td>\n",
       "      <td>Primary somatosensory area barrel field layer 2/3</td>\n",
       "      <td>10166</td>\n",
       "      <td>61</td>\n",
       "    </tr>\n",
       "    <tr>\n",
       "      <th>19</th>\n",
       "      <td>981</td>\n",
       "      <td>971.0</td>\n",
       "      <td>Primary somatosensory area, barrel field, layer 1</td>\n",
       "      <td>SSp-bfd1</td>\n",
       "      <td>11</td>\n",
       "      <td>1</td>\n",
       "      <td>3</td>\n",
       "      <td>8690</td>\n",
       "      <td>329.0</td>\n",
       "      <td>9</td>\n",
       "      <td>...</td>\n",
       "      <td>188064</td>\n",
       "      <td>NaN</td>\n",
       "      <td>NaN</td>\n",
       "      <td>f</td>\n",
       "      <td>53</td>\n",
       "      <td>3178183090</td>\n",
       "      <td>734881840</td>\n",
       "      <td>Primary somatosensory area barrel field layer 1</td>\n",
       "      <td>21379</td>\n",
       "      <td>159</td>\n",
       "    </tr>\n",
       "    <tr>\n",
       "      <th>20</th>\n",
       "      <td>1021</td>\n",
       "      <td>1117.0</td>\n",
       "      <td>Secondary motor area, layer 6a</td>\n",
       "      <td>MOs6a</td>\n",
       "      <td>11</td>\n",
       "      <td>1</td>\n",
       "      <td>3</td>\n",
       "      <td>8690</td>\n",
       "      <td>993.0</td>\n",
       "      <td>8</td>\n",
       "      <td>...</td>\n",
       "      <td>1F9D5A</td>\n",
       "      <td>NaN</td>\n",
       "      <td>NaN</td>\n",
       "      <td>f</td>\n",
       "      <td>29</td>\n",
       "      <td>3489757563</td>\n",
       "      <td>734881840</td>\n",
       "      <td>Secondary motor area layer 6a</td>\n",
       "      <td>2557</td>\n",
       "      <td>9</td>\n",
       "    </tr>\n",
       "    <tr>\n",
       "      <th>21</th>\n",
       "      <td>1070</td>\n",
       "      <td>982.0</td>\n",
       "      <td>Primary somatosensory area, barrel field, layer 5</td>\n",
       "      <td>SSp-bfd5</td>\n",
       "      <td>11</td>\n",
       "      <td>1</td>\n",
       "      <td>3</td>\n",
       "      <td>8690</td>\n",
       "      <td>329.0</td>\n",
       "      <td>9</td>\n",
       "      <td>...</td>\n",
       "      <td>188064</td>\n",
       "      <td>NaN</td>\n",
       "      <td>NaN</td>\n",
       "      <td>f</td>\n",
       "      <td>56</td>\n",
       "      <td>3120758187</td>\n",
       "      <td>734881840</td>\n",
       "      <td>Primary somatosensory area barrel field layer 5</td>\n",
       "      <td>1587</td>\n",
       "      <td>5</td>\n",
       "    </tr>\n",
       "  </tbody>\n",
       "</table>\n",
       "<p>22 rows × 23 columns</p>\n",
       "</div>"
      ],
      "text/plain": [
       "           id  atlas_id                                               name  \\\n",
       "0        1047     979.0  Primary somatosensory area, barrel field, layer 4   \n",
       "1         844    1095.0                       Primary motor area, Layer 6a   \n",
       "2        1085    1125.0                     Secondary motor area, layer 6b   \n",
       "3         945    1108.0   Primary somatosensory area, upper limb, layer 6a   \n",
       "4        1086     984.0         Primary somatosensory area, trunk, layer 4   \n",
       "5        1038     978.0  Primary somatosensory area, barrel field, laye...   \n",
       "6         854     955.0  Primary somatosensory area, upper limb, layer 2/3   \n",
       "7         940     541.0                                    cingulum bundle   \n",
       "8         577    1062.0    Primary somatosensory area, upper limb, layer 4   \n",
       "9        1006     974.0         Primary somatosensory area, trunk, layer 1   \n",
       "10  484682528       NaN             commissural branch of stria terminalis   \n",
       "11          9     991.0        Primary somatosensory area, trunk, layer 6a   \n",
       "12        670     649.0       Primary somatosensory area, trunk, layer 2/3   \n",
       "13        882    1100.0                       Primary motor area, Layer 6b   \n",
       "14        450    1046.0    Primary somatosensory area, upper limb, layer 1   \n",
       "15        625    1068.0    Primary somatosensory area, upper limb, layer 5   \n",
       "16       1111     987.0         Primary somatosensory area, trunk, layer 5   \n",
       "17        478     625.0   Primary somatosensory area, lower limb, layer 6a   \n",
       "18        201    1015.0  Primary somatosensory area, barrel field, laye...   \n",
       "19        981     971.0  Primary somatosensory area, barrel field, layer 1   \n",
       "20       1021    1117.0                     Secondary motor area, layer 6a   \n",
       "21       1070     982.0  Primary somatosensory area, barrel field, layer 5   \n",
       "\n",
       "       acronym  st_level  ontology_id  hemisphere_id  weight  \\\n",
       "0     SSp-bfd4        11            1              3    8690   \n",
       "1        MOp6a        11            1              3    8690   \n",
       "2        MOs6b        11            1              3    8690   \n",
       "3     SSp-ul6a        11            1              3    8690   \n",
       "4      SSp-tr4        11            1              3    8690   \n",
       "5    SSp-bfd6a        11            1              3    8690   \n",
       "6    SSp-ul2/3        11            1              3    8690   \n",
       "7         cing         8            1              3    8690   \n",
       "8      SSp-ul4        11            1              3    8690   \n",
       "9      SSp-tr1        11            1              3    8690   \n",
       "10         stc         9            1              3    8690   \n",
       "11    SSp-tr6a        11            1              3    8690   \n",
       "12   SSp-tr2/3        11            1              3    8690   \n",
       "13       MOp6b        11            1              3    8690   \n",
       "14     SSp-ul1        11            1              3    8690   \n",
       "15     SSp-ul5        11            1              3    8690   \n",
       "16     SSp-tr5        11            1              3    8690   \n",
       "17    SSp-ll6a        11            1              3    8690   \n",
       "18  SSp-bfd2/3        11            1              3    8690   \n",
       "19    SSp-bfd1        11            1              3    8690   \n",
       "20       MOs6a        11            1              3    8690   \n",
       "21    SSp-bfd5        11            1              3    8690   \n",
       "\n",
       "    parent_structure_id  depth  ...  color_hex_triplet  \\\n",
       "0                 329.0      9  ...             188064   \n",
       "1                 985.0      8  ...             1F9D5A   \n",
       "2                 993.0      8  ...             1F9D5A   \n",
       "3                 369.0      9  ...             188064   \n",
       "4                 361.0      9  ...             188064   \n",
       "5                 329.0      9  ...             188064   \n",
       "6                 369.0      9  ...             188064   \n",
       "7                 768.0      4  ...             CCCCCC   \n",
       "8                 369.0      9  ...             188064   \n",
       "9                 361.0      9  ...             188064   \n",
       "10                301.0      5  ...             CCCCCC   \n",
       "11                361.0      9  ...             188064   \n",
       "12                361.0      9  ...             188064   \n",
       "13                985.0      8  ...             1F9D5A   \n",
       "14                369.0      9  ...             188064   \n",
       "15                369.0      9  ...             188064   \n",
       "16                361.0      9  ...             188064   \n",
       "17                337.0      9  ...             188064   \n",
       "18                329.0      9  ...             188064   \n",
       "19                329.0      9  ...             188064   \n",
       "20                993.0      8  ...             1F9D5A   \n",
       "21                329.0      9  ...             188064   \n",
       "\n",
       "    neuro_name_structure_id neuro_name_structure_id_path failed  sphinx_id  \\\n",
       "0                       NaN                          NaN      f         55   \n",
       "1                       NaN                          NaN      f         23   \n",
       "2                       NaN                          NaN      f         30   \n",
       "3                       NaN                          NaN      f         85   \n",
       "4                       NaN                          NaN      f         90   \n",
       "5                       NaN                          NaN      f         57   \n",
       "6                       NaN                          NaN      f         82   \n",
       "7                       NaN                          NaN      f       1244   \n",
       "8                       NaN                          NaN      f         83   \n",
       "9                       NaN                          NaN      f         88   \n",
       "10                      NaN                          NaN      f       1261   \n",
       "11                      NaN                          NaN      f         92   \n",
       "12                      NaN                          NaN      f         89   \n",
       "13                      NaN                          NaN      f         24   \n",
       "14                      NaN                          NaN      f         81   \n",
       "15                      NaN                          NaN      f         84   \n",
       "16                      NaN                          NaN      f         91   \n",
       "17                      NaN                          NaN      f         71   \n",
       "18                      NaN                          NaN      f         54   \n",
       "19                      NaN                          NaN      f         53   \n",
       "20                      NaN                          NaN      f         29   \n",
       "21                      NaN                          NaN      f         56   \n",
       "\n",
       "    structure_name_facet failed_facet  \\\n",
       "0             3439709501    734881840   \n",
       "1             3473508879    734881840   \n",
       "2             1225271489    734881840   \n",
       "3             2726127758    734881840   \n",
       "4             1741439834    734881840   \n",
       "5             2183435549    734881840   \n",
       "6              243505027    734881840   \n",
       "7             1622445056    734881840   \n",
       "8             4219333960    734881840   \n",
       "9              396802005    734881840   \n",
       "10            2072512978    734881840   \n",
       "11            1364764776    734881840   \n",
       "12            1192883470    734881840   \n",
       "13            1442896821    734881840   \n",
       "14            2333546951    734881840   \n",
       "15            2356862430    734881840   \n",
       "16             281768908    734881840   \n",
       "17            2536655458    734881840   \n",
       "18            1738869888    734881840   \n",
       "19            3178183090    734881840   \n",
       "20            3489757563    734881840   \n",
       "21            3120758187    734881840   \n",
       "\n",
       "                                            safe_name  Total_counts  \\\n",
       "0     Primary somatosensory area barrel field layer 4          9168   \n",
       "1                         Primary motor area Layer 6a           479   \n",
       "2                       Secondary motor area layer 6b            18   \n",
       "3      Primary somatosensory area upper limb layer 6a          1752   \n",
       "4            Primary somatosensory area trunk layer 4            27   \n",
       "5    Primary somatosensory area barrel field layer 6a           839   \n",
       "6     Primary somatosensory area upper limb layer 2/3          2047   \n",
       "7                                     cingulum bundle           896   \n",
       "8       Primary somatosensory area upper limb layer 4          5121   \n",
       "9            Primary somatosensory area trunk layer 1          1179   \n",
       "10             commissural branch of stria terminalis            78   \n",
       "11          Primary somatosensory area trunk layer 6a          1291   \n",
       "12         Primary somatosensory area trunk layer 2/3           211   \n",
       "13                        Primary motor area Layer 6b           423   \n",
       "14      Primary somatosensory area upper limb layer 1           812   \n",
       "15      Primary somatosensory area upper limb layer 5          1443   \n",
       "16           Primary somatosensory area trunk layer 5          1283   \n",
       "17     Primary somatosensory area lower limb layer 6a          1497   \n",
       "18  Primary somatosensory area barrel field layer 2/3         10166   \n",
       "19    Primary somatosensory area barrel field layer 1         21379   \n",
       "20                      Secondary motor area layer 6a          2557   \n",
       "21    Primary somatosensory area barrel field layer 5          1587   \n",
       "\n",
       "    Endings_counts  \n",
       "0               61  \n",
       "1                1  \n",
       "2                0  \n",
       "3                3  \n",
       "4                0  \n",
       "5                0  \n",
       "6               16  \n",
       "7                3  \n",
       "8               34  \n",
       "9                2  \n",
       "10               1  \n",
       "11               3  \n",
       "12               2  \n",
       "13               0  \n",
       "14               5  \n",
       "15               4  \n",
       "16               2  \n",
       "17               0  \n",
       "18              61  \n",
       "19             159  \n",
       "20               9  \n",
       "21               5  \n",
       "\n",
       "[22 rows x 23 columns]"
      ]
     },
     "execution_count": 9,
     "metadata": {},
     "output_type": "execute_result"
    }
   ],
   "source": [
    "points_in_atlas=[int(atlas[i]) for i in all_points ]\n",
    "#find an ID for all points\n",
    "\n",
    "endings_in_atlas=[points_in_atlas[i] for i in ending_indices]\n",
    "# find the IDs associated with endings\n",
    "\n",
    "unique_id=set(points_in_atlas)\n",
    "\n",
    "our_regions=atlas_labels.loc[atlas_labels['id'].isin (unique_id)]\n",
    "\n",
    "id_withcounts=[]\n",
    "for i in unique_id:\n",
    "    id_withcounts.append([i, points_in_atlas.count(i), endings_in_atlas.count(i)])\n",
    "\n",
    "new_df= pd.DataFrame(id_withcounts, columns=['id', 'Total_counts','Endings_counts'])\n",
    "our_regionWcounts=pd.merge(atlas_labels, new_df)\n",
    "our_regionWcounts.head()\n",
    "\n",
    "#our_regionWcounts.to_excel(outdir+'/RegionCounts.xlsx')"
   ]
  },
  {
   "cell_type": "code",
   "execution_count": 9,
   "metadata": {
    "jupyter": {
     "source_hidden": true
    }
   },
   "outputs": [
    {
     "name": "stdout",
     "output_type": "stream",
     "text": [
      "There are 504 points with ID= 0, this index is outside of the brain, consider possible suboptimal image registration\n"
     ]
    },
    {
     "name": "stderr",
     "output_type": "stream",
     "text": [
      "C:\\Users\\liu\\AppData\\Local\\Continuum\\anaconda3\\lib\\site-packages\\ipykernel_launcher.py:20: UserWarning: Some points do not have corresponding labels\n"
     ]
    }
   ],
   "source": [
    "# In case of suboptimal registration, some points will fall out of the atlas (and will give a 0 index)\n",
    "# check for this and thrown a warning\n",
    "\n",
    "id_inatlas=[]\n",
    "for x in atlas_labels['id']:\n",
    "    intID = int(x)\n",
    "    id_inatlas.append(intID)\n",
    "\n",
    "# need to format this first ourselves,otherwise problematic for 0 and very large numbers (idk why)    \n",
    "\n",
    "num_of_zeros = [i for i, x in enumerate(points_in_atlas) if x == 0]\n",
    "# find the indices for which carries an id =0\n",
    "\n",
    "for id_inbrain in unique_id:\n",
    "    if id_inbrain not in id_inatlas:\n",
    "        if id_inbrain==0:\n",
    "            print(f'There are {len(num_of_zeros)} points with ID= {id_inbrain}, this index is outside of the brain, consider possible suboptimal image registration')\n",
    "        else: \n",
    "            print(id_inbrain,'this index does not exist in allen reference atlas, see https://github.com/ChristophKirst/ClearMap/issues/37')\n",
    "        warnings.warn('Some points do not have corresponding labels')\n",
    "\n",
    "# Turns out these big numbers exist in atlas but have no name in the json file..ask on allen brain map community forum\n",
    "# the 0 index is points out of the brain b/c registration problem"
   ]
  },
  {
   "cell_type": "markdown",
   "metadata": {},
   "source": [
    "## Now the two methods converge, continue here\n",
    "\n",
    "count the numberof points in each region andplot as a percentage\n",
    "\n",
    "Save the points position as a tiff stack to later project to the brain"
   ]
  },
  {
   "cell_type": "code",
   "execution_count": 30,
   "metadata": {},
   "outputs": [
    {
     "data": {
      "application/vnd.plotly.v1+json": {
       "config": {
        "plotlyServerURL": "https://plot.ly"
       },
       "data": [
        {
         "hovertext": [
          "Secondary motor area, layer 6b",
          "Primary somatosensory area, trunk, layer 4",
          "commissural branch of stria terminalis",
          "Primary somatosensory area, trunk, layer 2/3",
          "Primary motor area, Layer 6b",
          "Primary motor area, Layer 6a",
          "Primary somatosensory area, upper limb, layer 1",
          "Primary somatosensory area, barrel field, layer 6a",
          "cingulum bundle",
          "Primary somatosensory area, trunk, layer 1",
          "Primary somatosensory area, trunk, layer 5",
          "Primary somatosensory area, trunk, layer 6a",
          "Primary somatosensory area, upper limb, layer 5",
          "Primary somatosensory area, lower limb, layer 6a",
          "Primary somatosensory area, barrel field, layer 5",
          "Primary somatosensory area, upper limb, layer 6a",
          "Primary somatosensory area, upper limb, layer 2/3",
          "Secondary motor area, layer 6a",
          "Primary somatosensory area, upper limb, layer 4",
          "Primary somatosensory area, barrel field, layer 4",
          "Primary somatosensory area, barrel field, layer 2/3",
          "Primary somatosensory area, barrel field, layer 1"
         ],
         "marker": {
          "color": "olive"
         },
         "name": "Non-endings",
         "orientation": "h",
         "type": "bar",
         "x": [
          18,
          27,
          77,
          209,
          423,
          478,
          807,
          839,
          893,
          1177,
          1281,
          1288,
          1439,
          1497,
          1582,
          1749,
          2031,
          2548,
          5087,
          9107,
          10105,
          21220
         ],
         "y": [
          "MOs6b",
          "SSp-tr4",
          "stc",
          "SSp-tr2/3",
          "MOp6b",
          "MOp6a",
          "SSp-ul1",
          "SSp-bfd6a",
          "cing",
          "SSp-tr1",
          "SSp-tr5",
          "SSp-tr6a",
          "SSp-ul5",
          "SSp-ll6a",
          "SSp-bfd5",
          "SSp-ul6a",
          "SSp-ul2/3",
          "MOs6a",
          "SSp-ul4",
          "SSp-bfd4",
          "SSp-bfd2/3",
          "SSp-bfd1"
         ]
        },
        {
         "marker": {
          "color": "seagreen"
         },
         "name": "Endings",
         "orientation": "h",
         "type": "bar",
         "x": [
          0,
          0,
          1,
          2,
          0,
          1,
          5,
          0,
          3,
          2,
          2,
          3,
          4,
          0,
          5,
          3,
          16,
          9,
          34,
          61,
          61,
          159
         ],
         "y": [
          "MOs6b",
          "SSp-tr4",
          "stc",
          "SSp-tr2/3",
          "MOp6b",
          "MOp6a",
          "SSp-ul1",
          "SSp-bfd6a",
          "cing",
          "SSp-tr1",
          "SSp-tr5",
          "SSp-tr6a",
          "SSp-ul5",
          "SSp-ll6a",
          "SSp-bfd5",
          "SSp-ul6a",
          "SSp-ul2/3",
          "MOs6a",
          "SSp-ul4",
          "SSp-bfd4",
          "SSp-bfd2/3",
          "SSp-bfd1"
         ]
        }
       ],
       "layout": {
        "autosize": true,
        "barmode": "stack",
        "hovermode": "y",
        "template": {
         "data": {
          "bar": [
           {
            "error_x": {
             "color": "#2a3f5f"
            },
            "error_y": {
             "color": "#2a3f5f"
            },
            "marker": {
             "line": {
              "color": "#E5ECF6",
              "width": 0.5
             }
            },
            "type": "bar"
           }
          ],
          "barpolar": [
           {
            "marker": {
             "line": {
              "color": "#E5ECF6",
              "width": 0.5
             }
            },
            "type": "barpolar"
           }
          ],
          "carpet": [
           {
            "aaxis": {
             "endlinecolor": "#2a3f5f",
             "gridcolor": "white",
             "linecolor": "white",
             "minorgridcolor": "white",
             "startlinecolor": "#2a3f5f"
            },
            "baxis": {
             "endlinecolor": "#2a3f5f",
             "gridcolor": "white",
             "linecolor": "white",
             "minorgridcolor": "white",
             "startlinecolor": "#2a3f5f"
            },
            "type": "carpet"
           }
          ],
          "choropleth": [
           {
            "colorbar": {
             "outlinewidth": 0,
             "ticks": ""
            },
            "type": "choropleth"
           }
          ],
          "contour": [
           {
            "colorbar": {
             "outlinewidth": 0,
             "ticks": ""
            },
            "colorscale": [
             [
              0,
              "#0d0887"
             ],
             [
              0.1111111111111111,
              "#46039f"
             ],
             [
              0.2222222222222222,
              "#7201a8"
             ],
             [
              0.3333333333333333,
              "#9c179e"
             ],
             [
              0.4444444444444444,
              "#bd3786"
             ],
             [
              0.5555555555555556,
              "#d8576b"
             ],
             [
              0.6666666666666666,
              "#ed7953"
             ],
             [
              0.7777777777777778,
              "#fb9f3a"
             ],
             [
              0.8888888888888888,
              "#fdca26"
             ],
             [
              1,
              "#f0f921"
             ]
            ],
            "type": "contour"
           }
          ],
          "contourcarpet": [
           {
            "colorbar": {
             "outlinewidth": 0,
             "ticks": ""
            },
            "type": "contourcarpet"
           }
          ],
          "heatmap": [
           {
            "colorbar": {
             "outlinewidth": 0,
             "ticks": ""
            },
            "colorscale": [
             [
              0,
              "#0d0887"
             ],
             [
              0.1111111111111111,
              "#46039f"
             ],
             [
              0.2222222222222222,
              "#7201a8"
             ],
             [
              0.3333333333333333,
              "#9c179e"
             ],
             [
              0.4444444444444444,
              "#bd3786"
             ],
             [
              0.5555555555555556,
              "#d8576b"
             ],
             [
              0.6666666666666666,
              "#ed7953"
             ],
             [
              0.7777777777777778,
              "#fb9f3a"
             ],
             [
              0.8888888888888888,
              "#fdca26"
             ],
             [
              1,
              "#f0f921"
             ]
            ],
            "type": "heatmap"
           }
          ],
          "heatmapgl": [
           {
            "colorbar": {
             "outlinewidth": 0,
             "ticks": ""
            },
            "colorscale": [
             [
              0,
              "#0d0887"
             ],
             [
              0.1111111111111111,
              "#46039f"
             ],
             [
              0.2222222222222222,
              "#7201a8"
             ],
             [
              0.3333333333333333,
              "#9c179e"
             ],
             [
              0.4444444444444444,
              "#bd3786"
             ],
             [
              0.5555555555555556,
              "#d8576b"
             ],
             [
              0.6666666666666666,
              "#ed7953"
             ],
             [
              0.7777777777777778,
              "#fb9f3a"
             ],
             [
              0.8888888888888888,
              "#fdca26"
             ],
             [
              1,
              "#f0f921"
             ]
            ],
            "type": "heatmapgl"
           }
          ],
          "histogram": [
           {
            "marker": {
             "colorbar": {
              "outlinewidth": 0,
              "ticks": ""
             }
            },
            "type": "histogram"
           }
          ],
          "histogram2d": [
           {
            "colorbar": {
             "outlinewidth": 0,
             "ticks": ""
            },
            "colorscale": [
             [
              0,
              "#0d0887"
             ],
             [
              0.1111111111111111,
              "#46039f"
             ],
             [
              0.2222222222222222,
              "#7201a8"
             ],
             [
              0.3333333333333333,
              "#9c179e"
             ],
             [
              0.4444444444444444,
              "#bd3786"
             ],
             [
              0.5555555555555556,
              "#d8576b"
             ],
             [
              0.6666666666666666,
              "#ed7953"
             ],
             [
              0.7777777777777778,
              "#fb9f3a"
             ],
             [
              0.8888888888888888,
              "#fdca26"
             ],
             [
              1,
              "#f0f921"
             ]
            ],
            "type": "histogram2d"
           }
          ],
          "histogram2dcontour": [
           {
            "colorbar": {
             "outlinewidth": 0,
             "ticks": ""
            },
            "colorscale": [
             [
              0,
              "#0d0887"
             ],
             [
              0.1111111111111111,
              "#46039f"
             ],
             [
              0.2222222222222222,
              "#7201a8"
             ],
             [
              0.3333333333333333,
              "#9c179e"
             ],
             [
              0.4444444444444444,
              "#bd3786"
             ],
             [
              0.5555555555555556,
              "#d8576b"
             ],
             [
              0.6666666666666666,
              "#ed7953"
             ],
             [
              0.7777777777777778,
              "#fb9f3a"
             ],
             [
              0.8888888888888888,
              "#fdca26"
             ],
             [
              1,
              "#f0f921"
             ]
            ],
            "type": "histogram2dcontour"
           }
          ],
          "mesh3d": [
           {
            "colorbar": {
             "outlinewidth": 0,
             "ticks": ""
            },
            "type": "mesh3d"
           }
          ],
          "parcoords": [
           {
            "line": {
             "colorbar": {
              "outlinewidth": 0,
              "ticks": ""
             }
            },
            "type": "parcoords"
           }
          ],
          "pie": [
           {
            "automargin": true,
            "type": "pie"
           }
          ],
          "scatter": [
           {
            "marker": {
             "colorbar": {
              "outlinewidth": 0,
              "ticks": ""
             }
            },
            "type": "scatter"
           }
          ],
          "scatter3d": [
           {
            "line": {
             "colorbar": {
              "outlinewidth": 0,
              "ticks": ""
             }
            },
            "marker": {
             "colorbar": {
              "outlinewidth": 0,
              "ticks": ""
             }
            },
            "type": "scatter3d"
           }
          ],
          "scattercarpet": [
           {
            "marker": {
             "colorbar": {
              "outlinewidth": 0,
              "ticks": ""
             }
            },
            "type": "scattercarpet"
           }
          ],
          "scattergeo": [
           {
            "marker": {
             "colorbar": {
              "outlinewidth": 0,
              "ticks": ""
             }
            },
            "type": "scattergeo"
           }
          ],
          "scattergl": [
           {
            "marker": {
             "colorbar": {
              "outlinewidth": 0,
              "ticks": ""
             }
            },
            "type": "scattergl"
           }
          ],
          "scattermapbox": [
           {
            "marker": {
             "colorbar": {
              "outlinewidth": 0,
              "ticks": ""
             }
            },
            "type": "scattermapbox"
           }
          ],
          "scatterpolar": [
           {
            "marker": {
             "colorbar": {
              "outlinewidth": 0,
              "ticks": ""
             }
            },
            "type": "scatterpolar"
           }
          ],
          "scatterpolargl": [
           {
            "marker": {
             "colorbar": {
              "outlinewidth": 0,
              "ticks": ""
             }
            },
            "type": "scatterpolargl"
           }
          ],
          "scatterternary": [
           {
            "marker": {
             "colorbar": {
              "outlinewidth": 0,
              "ticks": ""
             }
            },
            "type": "scatterternary"
           }
          ],
          "surface": [
           {
            "colorbar": {
             "outlinewidth": 0,
             "ticks": ""
            },
            "colorscale": [
             [
              0,
              "#0d0887"
             ],
             [
              0.1111111111111111,
              "#46039f"
             ],
             [
              0.2222222222222222,
              "#7201a8"
             ],
             [
              0.3333333333333333,
              "#9c179e"
             ],
             [
              0.4444444444444444,
              "#bd3786"
             ],
             [
              0.5555555555555556,
              "#d8576b"
             ],
             [
              0.6666666666666666,
              "#ed7953"
             ],
             [
              0.7777777777777778,
              "#fb9f3a"
             ],
             [
              0.8888888888888888,
              "#fdca26"
             ],
             [
              1,
              "#f0f921"
             ]
            ],
            "type": "surface"
           }
          ],
          "table": [
           {
            "cells": {
             "fill": {
              "color": "#EBF0F8"
             },
             "line": {
              "color": "white"
             }
            },
            "header": {
             "fill": {
              "color": "#C8D4E3"
             },
             "line": {
              "color": "white"
             }
            },
            "type": "table"
           }
          ]
         },
         "layout": {
          "annotationdefaults": {
           "arrowcolor": "#2a3f5f",
           "arrowhead": 0,
           "arrowwidth": 1
          },
          "coloraxis": {
           "colorbar": {
            "outlinewidth": 0,
            "ticks": ""
           }
          },
          "colorscale": {
           "diverging": [
            [
             0,
             "#8e0152"
            ],
            [
             0.1,
             "#c51b7d"
            ],
            [
             0.2,
             "#de77ae"
            ],
            [
             0.3,
             "#f1b6da"
            ],
            [
             0.4,
             "#fde0ef"
            ],
            [
             0.5,
             "#f7f7f7"
            ],
            [
             0.6,
             "#e6f5d0"
            ],
            [
             0.7,
             "#b8e186"
            ],
            [
             0.8,
             "#7fbc41"
            ],
            [
             0.9,
             "#4d9221"
            ],
            [
             1,
             "#276419"
            ]
           ],
           "sequential": [
            [
             0,
             "#0d0887"
            ],
            [
             0.1111111111111111,
             "#46039f"
            ],
            [
             0.2222222222222222,
             "#7201a8"
            ],
            [
             0.3333333333333333,
             "#9c179e"
            ],
            [
             0.4444444444444444,
             "#bd3786"
            ],
            [
             0.5555555555555556,
             "#d8576b"
            ],
            [
             0.6666666666666666,
             "#ed7953"
            ],
            [
             0.7777777777777778,
             "#fb9f3a"
            ],
            [
             0.8888888888888888,
             "#fdca26"
            ],
            [
             1,
             "#f0f921"
            ]
           ],
           "sequentialminus": [
            [
             0,
             "#0d0887"
            ],
            [
             0.1111111111111111,
             "#46039f"
            ],
            [
             0.2222222222222222,
             "#7201a8"
            ],
            [
             0.3333333333333333,
             "#9c179e"
            ],
            [
             0.4444444444444444,
             "#bd3786"
            ],
            [
             0.5555555555555556,
             "#d8576b"
            ],
            [
             0.6666666666666666,
             "#ed7953"
            ],
            [
             0.7777777777777778,
             "#fb9f3a"
            ],
            [
             0.8888888888888888,
             "#fdca26"
            ],
            [
             1,
             "#f0f921"
            ]
           ]
          },
          "colorway": [
           "#636efa",
           "#EF553B",
           "#00cc96",
           "#ab63fa",
           "#FFA15A",
           "#19d3f3",
           "#FF6692",
           "#B6E880",
           "#FF97FF",
           "#FECB52"
          ],
          "font": {
           "color": "#2a3f5f"
          },
          "geo": {
           "bgcolor": "white",
           "lakecolor": "white",
           "landcolor": "#E5ECF6",
           "showlakes": true,
           "showland": true,
           "subunitcolor": "white"
          },
          "hoverlabel": {
           "align": "left"
          },
          "hovermode": "closest",
          "mapbox": {
           "style": "light"
          },
          "paper_bgcolor": "white",
          "plot_bgcolor": "#E5ECF6",
          "polar": {
           "angularaxis": {
            "gridcolor": "white",
            "linecolor": "white",
            "ticks": ""
           },
           "bgcolor": "#E5ECF6",
           "radialaxis": {
            "gridcolor": "white",
            "linecolor": "white",
            "ticks": ""
           }
          },
          "scene": {
           "xaxis": {
            "backgroundcolor": "#E5ECF6",
            "gridcolor": "white",
            "gridwidth": 2,
            "linecolor": "white",
            "showbackground": true,
            "ticks": "",
            "zerolinecolor": "white"
           },
           "yaxis": {
            "backgroundcolor": "#E5ECF6",
            "gridcolor": "white",
            "gridwidth": 2,
            "linecolor": "white",
            "showbackground": true,
            "ticks": "",
            "zerolinecolor": "white"
           },
           "zaxis": {
            "backgroundcolor": "#E5ECF6",
            "gridcolor": "white",
            "gridwidth": 2,
            "linecolor": "white",
            "showbackground": true,
            "ticks": "",
            "zerolinecolor": "white"
           }
          },
          "shapedefaults": {
           "line": {
            "color": "#2a3f5f"
           }
          },
          "ternary": {
           "aaxis": {
            "gridcolor": "white",
            "linecolor": "white",
            "ticks": ""
           },
           "baxis": {
            "gridcolor": "white",
            "linecolor": "white",
            "ticks": ""
           },
           "bgcolor": "#E5ECF6",
           "caxis": {
            "gridcolor": "white",
            "linecolor": "white",
            "ticks": ""
           }
          },
          "title": {
           "x": 0.05
          },
          "xaxis": {
           "automargin": true,
           "gridcolor": "white",
           "linecolor": "white",
           "ticks": "",
           "title": {
            "standoff": 15
           },
           "zerolinecolor": "white",
           "zerolinewidth": 2
          },
          "yaxis": {
           "automargin": true,
           "gridcolor": "white",
           "linecolor": "white",
           "ticks": "",
           "title": {
            "standoff": 15
           },
           "zerolinecolor": "white",
           "zerolinewidth": 2
          }
         }
        },
        "title": {
         "text": "Axons in respective brain regions"
        },
        "xaxis": {
         "autorange": true,
         "range": [
          0,
          22504.21052631579
         ],
         "title": {
          "text": "um"
         },
         "type": "linear"
        },
        "yaxis": {
         "autorange": true,
         "categoryorder": "total ascending",
         "range": [
          -0.5,
          21.5
         ],
         "type": "category"
        }
       }
      },
      "image/png": "[encoded data removed]",
      "text/html": [
       "<div>\n",
       "        \n",
       "        \n",
       "            <div id=\"292f3cee-2bd2-40b6-949e-04996cc5141b\" class=\"plotly-graph-div\" style=\"height:525px; width:100%;\"></div>\n",
       "            <script type=\"text/javascript\">\n",
       "                require([\"plotly\"], function(Plotly) {\n",
       "                    window.PLOTLYENV=window.PLOTLYENV || {};\n",
       "                    \n",
       "                if (document.getElementById(\"292f3cee-2bd2-40b6-949e-04996cc5141b\")) {\n",
       "                    Plotly.newPlot(\n",
       "                        '292f3cee-2bd2-40b6-949e-04996cc5141b',\n",
       "                        [{\"hovertext\": [\"Secondary motor area, layer 6b\", \"Primary somatosensory area, trunk, layer 4\", \"commissural branch of stria terminalis\", \"Primary somatosensory area, trunk, layer 2/3\", \"Primary motor area, Layer 6b\", \"Primary motor area, Layer 6a\", \"Primary somatosensory area, upper limb, layer 1\", \"Primary somatosensory area, barrel field, layer 6a\", \"cingulum bundle\", \"Primary somatosensory area, trunk, layer 1\", \"Primary somatosensory area, trunk, layer 5\", \"Primary somatosensory area, trunk, layer 6a\", \"Primary somatosensory area, upper limb, layer 5\", \"Primary somatosensory area, lower limb, layer 6a\", \"Primary somatosensory area, barrel field, layer 5\", \"Primary somatosensory area, upper limb, layer 6a\", \"Primary somatosensory area, upper limb, layer 2/3\", \"Secondary motor area, layer 6a\", \"Primary somatosensory area, upper limb, layer 4\", \"Primary somatosensory area, barrel field, layer 4\", \"Primary somatosensory area, barrel field, layer 2/3\", \"Primary somatosensory area, barrel field, layer 1\"], \"marker\": {\"color\": \"olive\"}, \"name\": \"Non-endings\", \"orientation\": \"h\", \"type\": \"bar\", \"x\": [18, 27, 77, 209, 423, 478, 807, 839, 893, 1177, 1281, 1288, 1439, 1497, 1582, 1749, 2031, 2548, 5087, 9107, 10105, 21220], \"y\": [\"MOs6b\", \"SSp-tr4\", \"stc\", \"SSp-tr2/3\", \"MOp6b\", \"MOp6a\", \"SSp-ul1\", \"SSp-bfd6a\", \"cing\", \"SSp-tr1\", \"SSp-tr5\", \"SSp-tr6a\", \"SSp-ul5\", \"SSp-ll6a\", \"SSp-bfd5\", \"SSp-ul6a\", \"SSp-ul2/3\", \"MOs6a\", \"SSp-ul4\", \"SSp-bfd4\", \"SSp-bfd2/3\", \"SSp-bfd1\"]}, {\"marker\": {\"color\": \"seagreen\"}, \"name\": \"Endings\", \"orientation\": \"h\", \"type\": \"bar\", \"x\": [0, 0, 1, 2, 0, 1, 5, 0, 3, 2, 2, 3, 4, 0, 5, 3, 16, 9, 34, 61, 61, 159], \"y\": [\"MOs6b\", \"SSp-tr4\", \"stc\", \"SSp-tr2/3\", \"MOp6b\", \"MOp6a\", \"SSp-ul1\", \"SSp-bfd6a\", \"cing\", \"SSp-tr1\", \"SSp-tr5\", \"SSp-tr6a\", \"SSp-ul5\", \"SSp-ll6a\", \"SSp-bfd5\", \"SSp-ul6a\", \"SSp-ul2/3\", \"MOs6a\", \"SSp-ul4\", \"SSp-bfd4\", \"SSp-bfd2/3\", \"SSp-bfd1\"]}],\n",
       "                        {\"barmode\": \"stack\", \"hovermode\": \"y\", \"template\": {\"data\": {\"bar\": [{\"error_x\": {\"color\": \"#2a3f5f\"}, \"error_y\": {\"color\": \"#2a3f5f\"}, \"marker\": {\"line\": {\"color\": \"#E5ECF6\", \"width\": 0.5}}, \"type\": \"bar\"}], \"barpolar\": [{\"marker\": {\"line\": {\"color\": \"#E5ECF6\", \"width\": 0.5}}, \"type\": \"barpolar\"}], \"carpet\": [{\"aaxis\": {\"endlinecolor\": \"#2a3f5f\", \"gridcolor\": \"white\", \"linecolor\": \"white\", \"minorgridcolor\": \"white\", \"startlinecolor\": \"#2a3f5f\"}, \"baxis\": {\"endlinecolor\": \"#2a3f5f\", \"gridcolor\": \"white\", \"linecolor\": \"white\", \"minorgridcolor\": \"white\", \"startlinecolor\": \"#2a3f5f\"}, \"type\": \"carpet\"}], \"choropleth\": [{\"colorbar\": {\"outlinewidth\": 0, \"ticks\": \"\"}, \"type\": \"choropleth\"}], \"contour\": [{\"colorbar\": {\"outlinewidth\": 0, \"ticks\": \"\"}, \"colorscale\": [[0.0, \"#0d0887\"], [0.1111111111111111, \"#46039f\"], [0.2222222222222222, \"#7201a8\"], [0.3333333333333333, \"#9c179e\"], [0.4444444444444444, \"#bd3786\"], [0.5555555555555556, \"#d8576b\"], [0.6666666666666666, \"#ed7953\"], [0.7777777777777778, \"#fb9f3a\"], [0.8888888888888888, \"#fdca26\"], [1.0, \"#f0f921\"]], \"type\": \"contour\"}], \"contourcarpet\": [{\"colorbar\": {\"outlinewidth\": 0, \"ticks\": \"\"}, \"type\": \"contourcarpet\"}], \"heatmap\": [{\"colorbar\": {\"outlinewidth\": 0, \"ticks\": \"\"}, \"colorscale\": [[0.0, \"#0d0887\"], [0.1111111111111111, \"#46039f\"], [0.2222222222222222, \"#7201a8\"], [0.3333333333333333, \"#9c179e\"], [0.4444444444444444, \"#bd3786\"], [0.5555555555555556, \"#d8576b\"], [0.6666666666666666, \"#ed7953\"], [0.7777777777777778, \"#fb9f3a\"], [0.8888888888888888, \"#fdca26\"], [1.0, \"#f0f921\"]], \"type\": \"heatmap\"}], \"heatmapgl\": [{\"colorbar\": {\"outlinewidth\": 0, \"ticks\": \"\"}, \"colorscale\": [[0.0, \"#0d0887\"], [0.1111111111111111, \"#46039f\"], [0.2222222222222222, \"#7201a8\"], [0.3333333333333333, \"#9c179e\"], [0.4444444444444444, \"#bd3786\"], [0.5555555555555556, \"#d8576b\"], [0.6666666666666666, \"#ed7953\"], [0.7777777777777778, \"#fb9f3a\"], [0.8888888888888888, \"#fdca26\"], [1.0, \"#f0f921\"]], \"type\": \"heatmapgl\"}], \"histogram\": [{\"marker\": {\"colorbar\": {\"outlinewidth\": 0, \"ticks\": \"\"}}, \"type\": \"histogram\"}], \"histogram2d\": [{\"colorbar\": {\"outlinewidth\": 0, \"ticks\": \"\"}, \"colorscale\": [[0.0, \"#0d0887\"], [0.1111111111111111, \"#46039f\"], [0.2222222222222222, \"#7201a8\"], [0.3333333333333333, \"#9c179e\"], [0.4444444444444444, \"#bd3786\"], [0.5555555555555556, \"#d8576b\"], [0.6666666666666666, \"#ed7953\"], [0.7777777777777778, \"#fb9f3a\"], [0.8888888888888888, \"#fdca26\"], [1.0, \"#f0f921\"]], \"type\": \"histogram2d\"}], \"histogram2dcontour\": [{\"colorbar\": {\"outlinewidth\": 0, \"ticks\": \"\"}, \"colorscale\": [[0.0, \"#0d0887\"], [0.1111111111111111, \"#46039f\"], [0.2222222222222222, \"#7201a8\"], [0.3333333333333333, \"#9c179e\"], [0.4444444444444444, \"#bd3786\"], [0.5555555555555556, \"#d8576b\"], [0.6666666666666666, \"#ed7953\"], [0.7777777777777778, \"#fb9f3a\"], [0.8888888888888888, \"#fdca26\"], [1.0, \"#f0f921\"]], \"type\": \"histogram2dcontour\"}], \"mesh3d\": [{\"colorbar\": {\"outlinewidth\": 0, \"ticks\": \"\"}, \"type\": \"mesh3d\"}], \"parcoords\": [{\"line\": {\"colorbar\": {\"outlinewidth\": 0, \"ticks\": \"\"}}, \"type\": \"parcoords\"}], \"pie\": [{\"automargin\": true, \"type\": \"pie\"}], \"scatter\": [{\"marker\": {\"colorbar\": {\"outlinewidth\": 0, \"ticks\": \"\"}}, \"type\": \"scatter\"}], \"scatter3d\": [{\"line\": {\"colorbar\": {\"outlinewidth\": 0, \"ticks\": \"\"}}, \"marker\": {\"colorbar\": {\"outlinewidth\": 0, \"ticks\": \"\"}}, \"type\": \"scatter3d\"}], \"scattercarpet\": [{\"marker\": {\"colorbar\": {\"outlinewidth\": 0, \"ticks\": \"\"}}, \"type\": \"scattercarpet\"}], \"scattergeo\": [{\"marker\": {\"colorbar\": {\"outlinewidth\": 0, \"ticks\": \"\"}}, \"type\": \"scattergeo\"}], \"scattergl\": [{\"marker\": {\"colorbar\": {\"outlinewidth\": 0, \"ticks\": \"\"}}, \"type\": \"scattergl\"}], \"scattermapbox\": [{\"marker\": {\"colorbar\": {\"outlinewidth\": 0, \"ticks\": \"\"}}, \"type\": \"scattermapbox\"}], \"scatterpolar\": [{\"marker\": {\"colorbar\": {\"outlinewidth\": 0, \"ticks\": \"\"}}, \"type\": \"scatterpolar\"}], \"scatterpolargl\": [{\"marker\": {\"colorbar\": {\"outlinewidth\": 0, \"ticks\": \"\"}}, \"type\": \"scatterpolargl\"}], \"scatterternary\": [{\"marker\": {\"colorbar\": {\"outlinewidth\": 0, \"ticks\": \"\"}}, \"type\": \"scatterternary\"}], \"surface\": [{\"colorbar\": {\"outlinewidth\": 0, \"ticks\": \"\"}, \"colorscale\": [[0.0, \"#0d0887\"], [0.1111111111111111, \"#46039f\"], [0.2222222222222222, \"#7201a8\"], [0.3333333333333333, \"#9c179e\"], [0.4444444444444444, \"#bd3786\"], [0.5555555555555556, \"#d8576b\"], [0.6666666666666666, \"#ed7953\"], [0.7777777777777778, \"#fb9f3a\"], [0.8888888888888888, \"#fdca26\"], [1.0, \"#f0f921\"]], \"type\": \"surface\"}], \"table\": [{\"cells\": {\"fill\": {\"color\": \"#EBF0F8\"}, \"line\": {\"color\": \"white\"}}, \"header\": {\"fill\": {\"color\": \"#C8D4E3\"}, \"line\": {\"color\": \"white\"}}, \"type\": \"table\"}]}, \"layout\": {\"annotationdefaults\": {\"arrowcolor\": \"#2a3f5f\", \"arrowhead\": 0, \"arrowwidth\": 1}, \"coloraxis\": {\"colorbar\": {\"outlinewidth\": 0, \"ticks\": \"\"}}, \"colorscale\": {\"diverging\": [[0, \"#8e0152\"], [0.1, \"#c51b7d\"], [0.2, \"#de77ae\"], [0.3, \"#f1b6da\"], [0.4, \"#fde0ef\"], [0.5, \"#f7f7f7\"], [0.6, \"#e6f5d0\"], [0.7, \"#b8e186\"], [0.8, \"#7fbc41\"], [0.9, \"#4d9221\"], [1, \"#276419\"]], \"sequential\": [[0.0, \"#0d0887\"], [0.1111111111111111, \"#46039f\"], [0.2222222222222222, \"#7201a8\"], [0.3333333333333333, \"#9c179e\"], [0.4444444444444444, \"#bd3786\"], [0.5555555555555556, \"#d8576b\"], [0.6666666666666666, \"#ed7953\"], [0.7777777777777778, \"#fb9f3a\"], [0.8888888888888888, \"#fdca26\"], [1.0, \"#f0f921\"]], \"sequentialminus\": [[0.0, \"#0d0887\"], [0.1111111111111111, \"#46039f\"], [0.2222222222222222, \"#7201a8\"], [0.3333333333333333, \"#9c179e\"], [0.4444444444444444, \"#bd3786\"], [0.5555555555555556, \"#d8576b\"], [0.6666666666666666, \"#ed7953\"], [0.7777777777777778, \"#fb9f3a\"], [0.8888888888888888, \"#fdca26\"], [1.0, \"#f0f921\"]]}, \"colorway\": [\"#636efa\", \"#EF553B\", \"#00cc96\", \"#ab63fa\", \"#FFA15A\", \"#19d3f3\", \"#FF6692\", \"#B6E880\", \"#FF97FF\", \"#FECB52\"], \"font\": {\"color\": \"#2a3f5f\"}, \"geo\": {\"bgcolor\": \"white\", \"lakecolor\": \"white\", \"landcolor\": \"#E5ECF6\", \"showlakes\": true, \"showland\": true, \"subunitcolor\": \"white\"}, \"hoverlabel\": {\"align\": \"left\"}, \"hovermode\": \"closest\", \"mapbox\": {\"style\": \"light\"}, \"paper_bgcolor\": \"white\", \"plot_bgcolor\": \"#E5ECF6\", \"polar\": {\"angularaxis\": {\"gridcolor\": \"white\", \"linecolor\": \"white\", \"ticks\": \"\"}, \"bgcolor\": \"#E5ECF6\", \"radialaxis\": {\"gridcolor\": \"white\", \"linecolor\": \"white\", \"ticks\": \"\"}}, \"scene\": {\"xaxis\": {\"backgroundcolor\": \"#E5ECF6\", \"gridcolor\": \"white\", \"gridwidth\": 2, \"linecolor\": \"white\", \"showbackground\": true, \"ticks\": \"\", \"zerolinecolor\": \"white\"}, \"yaxis\": {\"backgroundcolor\": \"#E5ECF6\", \"gridcolor\": \"white\", \"gridwidth\": 2, \"linecolor\": \"white\", \"showbackground\": true, \"ticks\": \"\", \"zerolinecolor\": \"white\"}, \"zaxis\": {\"backgroundcolor\": \"#E5ECF6\", \"gridcolor\": \"white\", \"gridwidth\": 2, \"linecolor\": \"white\", \"showbackground\": true, \"ticks\": \"\", \"zerolinecolor\": \"white\"}}, \"shapedefaults\": {\"line\": {\"color\": \"#2a3f5f\"}}, \"ternary\": {\"aaxis\": {\"gridcolor\": \"white\", \"linecolor\": \"white\", \"ticks\": \"\"}, \"baxis\": {\"gridcolor\": \"white\", \"linecolor\": \"white\", \"ticks\": \"\"}, \"bgcolor\": \"#E5ECF6\", \"caxis\": {\"gridcolor\": \"white\", \"linecolor\": \"white\", \"ticks\": \"\"}}, \"title\": {\"x\": 0.05}, \"xaxis\": {\"automargin\": true, \"gridcolor\": \"white\", \"linecolor\": \"white\", \"ticks\": \"\", \"title\": {\"standoff\": 15}, \"zerolinecolor\": \"white\", \"zerolinewidth\": 2}, \"yaxis\": {\"automargin\": true, \"gridcolor\": \"white\", \"linecolor\": \"white\", \"ticks\": \"\", \"title\": {\"standoff\": 15}, \"zerolinecolor\": \"white\", \"zerolinewidth\": 2}}}, \"title\": {\"text\": \"Axons in respective brain regions\"}, \"xaxis\": {\"title\": {\"text\": \"um\"}}, \"yaxis\": {\"categoryorder\": \"total ascending\"}},\n",
       "                        {\"responsive\": true}\n",
       "                    ).then(function(){\n",
       "                            \n",
       "var gd = document.getElementById('292f3cee-2bd2-40b6-949e-04996cc5141b');\n",
       "var x = new MutationObserver(function (mutations, observer) {{\n",
       "        var display = window.getComputedStyle(gd).display;\n",
       "        if (!display || display === 'none') {{\n",
       "            console.log([gd, 'removed!']);\n",
       "            Plotly.purge(gd);\n",
       "            observer.disconnect();\n",
       "        }}\n",
       "}});\n",
       "\n",
       "// Listen for the removal of the full notebook cells\n",
       "var notebookContainer = gd.closest('#notebook-container');\n",
       "if (notebookContainer) {{\n",
       "    x.observe(notebookContainer, {childList: true});\n",
       "}}\n",
       "\n",
       "// Listen for the clearing of the current output cell\n",
       "var outputEl = gd.closest('.output');\n",
       "if (outputEl) {{\n",
       "    x.observe(outputEl, {childList: true});\n",
       "}}\n",
       "\n",
       "                        })\n",
       "                };\n",
       "                });\n",
       "            </script>\n",
       "        </div>"
      ]
     },
     "metadata": {},
     "output_type": "display_data"
    }
   ],
   "source": [
    "import plotly.offline\n",
    "import plotly.graph_objects as go\n",
    "\n",
    "y=our_regionWcounts['acronym']\n",
    "fig = go.Figure()\n",
    "fig.add_trace(go.Bar(\n",
    "    y=y, x=our_regionWcounts['Total_counts']-our_regionWcounts['Endings_counts'], \n",
    "    name='Non-endings', marker_color='olive',\n",
    "    hovertext=our_regionWcounts['name'],\n",
    "    orientation='h')\n",
    "             )\n",
    "fig.add_trace(go.Bar(\n",
    "    y=y, x=our_regionWcounts['Endings_counts'],\n",
    "    name='Endings', marker_color='seagreen',\n",
    "    orientation='h')\n",
    "             )\n",
    "\n",
    "fig.update_layout(barmode='stack', yaxis={'categoryorder':'total ascending'}, \n",
    "                  title='Axons in respective brain regions',\n",
    "                  hovermode=\"y\",\n",
    "                  xaxis_title='um')\n",
    "fig.show()\n",
    "plotly.offline.plot(fig, filename=outdir+'/'+ outdir[3:8]+'BarPlot.html')"
   ]
  },
  {
   "cell_type": "code",
   "execution_count": 14,
   "metadata": {
    "jupyter": {
     "source_hidden": true
    }
   },
   "outputs": [],
   "source": [
    "#Plot the result\n",
    "\n",
    "our_regionWcounts=our_regionWcounts.sort_values(by=['Total_counts'])\n",
    "\n",
    "percent=100*our_regionWcounts['Total_counts']/np.sum(our_regionWcounts['Total_counts'])"
   ]
  },
  {
   "cell_type": "code",
   "execution_count": 17,
   "metadata": {
    "jupyter": {
     "source_hidden": true
    }
   },
   "outputs": [
    {
     "data": {
      "image/png": "[encoded data removed]",
      "text/plain": [
       "<Figure size 720x720 with 1 Axes>"
      ]
     },
     "metadata": {
      "needs_background": "light"
     },
     "output_type": "display_data"
    }
   ],
   "source": [
    "fig, ax = plt.subplots(figsize=[10,10])\n",
    "my_plot=sns.barplot(y=\"acronym\", x=percent, data=our_regionWcounts)\n",
    "ax.set(xlabel='% of axons', ylabel='Brain region')\n",
    "sns.set_context(\"talk\")\n",
    "sns.set_palette(\"pastel\")\n",
    "                \n",
    "#fig.savefig(outdir+\"/RegionPlot.svg\")"
   ]
  },
  {
   "cell_type": "code",
   "execution_count": 21,
   "metadata": {},
   "outputs": [
    {
     "name": "stdout",
     "output_type": "stream",
     "text": [
      "[ 14  15  60  61  62  63  64  65  66  67  68  69  70  71  72  73  74  75\n",
      "  76  77  78  79  80  81  83  84  88  89  90  91  92  93  94  95  96  97\n",
      "  98  99 100 101 102 103 104 105 106 107 108 109 110 111 112 113 114 115\n",
      " 116 117 118 119 120 121 122 123 124 125 126 127 128 129 130 131 132 133\n",
      " 134 135 136 137 138 139 140 141 142 143 144 145 146 147 148 149 150 151\n",
      " 152 153 154 155 156 157 158 159 160 161 162 163 164 165 166 167 168 169\n",
      " 170 171 172 173 174 175 176 177 178 179 180 181 182 183 184 185 186 187\n",
      " 188 189 190 191 192 193 194 195 196 197]\n"
     ]
    }
   ],
   "source": [
    "# Now project downsampled points into tiff to see if they make sense\n",
    "svolume=np.zeros(atlas.GetSize())\n",
    "#columns, rows, planes\n",
    "\n",
    "zplanes=[]\n",
    "for i in all_points:\n",
    "    zplanes.append( i[2])\n",
    "zplanes=np.unique(zplanes)\n",
    "print(zplanes)"
   ]
  },
  {
   "cell_type": "code",
   "execution_count": 22,
   "metadata": {},
   "outputs": [],
   "source": [
    "temp=np.zeros(atlas.GetSize()[0:2])\n",
    "thepoints=np.asarray(all_points)\n",
    "\n",
    "for i in zplanes:\n",
    "    index= thepoints[:,2]==i\n",
    "    uindex,counts=np.unique(thepoints[index],return_counts=True, axis=0)\n",
    "    for j, lines in enumerate(uindex):\n",
    "        coord1,coord2=lines[0:2]\n",
    "        temp[coord1][coord2]= counts[j]\n",
    "    svolume[:,:,i]=temp #write this in \n",
    "    temp=np.zeros(atlas.GetSize()[0:2]) #reset the empty plane after each z"
   ]
  },
  {
   "cell_type": "code",
   "execution_count": 23,
   "metadata": {},
   "outputs": [],
   "source": [
    "for j, lines in enumerate(uindex):\n",
    "    coord1,coord2=lines[0:2]\n",
    "    temp[coord1][coord2]= counts[j]"
   ]
  },
  {
   "cell_type": "code",
   "execution_count": 27,
   "metadata": {},
   "outputs": [
    {
     "name": "stdout",
     "output_type": "stream",
     "text": [
      "displaying plane 186\n"
     ]
    },
    {
     "data": {
      "image/png": "[encoded data removed]",
      "text/plain": [
       "<Figure size 432x288 with 1 Axes>"
      ]
     },
     "metadata": {
      "needs_background": "light"
     },
     "output_type": "display_data"
    }
   ],
   "source": [
    "ztoshow=random.choice(zplanes)\n",
    "plt.imshow(svolume[:,:,ztoshow])\n",
    "print(f'displaying plane {ztoshow}' )"
   ]
  },
  {
   "cell_type": "code",
   "execution_count": 37,
   "metadata": {},
   "outputs": [
    {
     "name": "stdout",
     "output_type": "stream",
     "text": [
      "D:/AL126/AL126_DSpoints.tif\n"
     ]
    },
    {
     "name": "stderr",
     "output_type": "stream",
     "text": [
      "C:\\Users\\liu\\AppData\\Local\\Continuum\\anaconda3\\lib\\site-packages\\skimage\\io\\_io.py:141: UserWarning: D:/AL126/AL126_DSpoints.tif is a low contrast image\n",
      "  warn('%s is a low contrast image' % fname)\n"
     ]
    }
   ],
   "source": [
    "coronal_planetmp= np.swapaxes(np.int16(svolume),0,2)\n",
    "#for some reason, if just save stuff as tiff, it will save x planes of yz view\n",
    "#here we shift the 3rd dimension with the first dimension to obtain xy view\n",
    "m=re.search('\\D{2}[0-9]{3}[D]', name)\n",
    "\n",
    "if m:\n",
    "    out_name= outdir[3:]+ 'D_DSpoints.tif'\n",
    "else:\n",
    "    out_name= outdir[3:]+ '_DSpoints.tif'\n",
    "print(outdir+'/'+ out_name)\n",
    "\n",
    "io.imsave(outdir+'/'+ out_name,coronal_planetmp)"
   ]
  },
  {
   "cell_type": "markdown",
   "metadata": {},
   "source": [
    "## Plots the non'downsampled points in 3d space"
   ]
  },
  {
   "cell_type": "code",
   "execution_count": 18,
   "metadata": {},
   "outputs": [
    {
     "name": "stdout",
     "output_type": "stream",
     "text": [
      "4.5.0\n"
     ]
    },
    {
     "data": {
      "text/html": [
       "        <script type=\"text/javascript\">\n",
       "        window.PlotlyConfig = {MathJaxConfig: 'local'};\n",
       "        if (window.MathJax) {MathJax.Hub.Config({SVG: {font: \"STIX-Web\"}});}\n",
       "        if (typeof require !== 'undefined') {\n",
       "        require.undef(\"plotly\");\n",
       "        requirejs.config({\n",
       "            paths: {\n",
       "                'plotly': ['https://cdn.plot.ly/plotly-latest.min']\n",
       "            }\n",
       "        });\n",
       "        require(['plotly'], function(Plotly) {\n",
       "            window._Plotly = Plotly;\n",
       "        });\n",
       "        }\n",
       "        </script>\n",
       "        "
      ]
     },
     "metadata": {},
     "output_type": "display_data"
    }
   ],
   "source": [
    "import plotly\n",
    "import plotly.graph_objects as go\n",
    "from plotly import __version__\n",
    "print(__version__)\n",
    "\n",
    "\n",
    "from plotly.offline import download_plotlyjs, init_notebook_mode, plot, iplot\n",
    "init_notebook_mode(connected=True)"
   ]
  },
  {
   "cell_type": "code",
   "execution_count": 19,
   "metadata": {},
   "outputs": [
    {
     "data": {
      "text/html": [
       "<div>\n",
       "<style scoped>\n",
       "    .dataframe tbody tr th:only-of-type {\n",
       "        vertical-align: middle;\n",
       "    }\n",
       "\n",
       "    .dataframe tbody tr th {\n",
       "        vertical-align: top;\n",
       "    }\n",
       "\n",
       "    .dataframe thead th {\n",
       "        text-align: right;\n",
       "    }\n",
       "</style>\n",
       "<table border=\"1\" class=\"dataframe\">\n",
       "  <thead>\n",
       "    <tr style=\"text-align: right;\">\n",
       "      <th></th>\n",
       "      <th>#id</th>\n",
       "      <th>type</th>\n",
       "      <th>x</th>\n",
       "      <th>y</th>\n",
       "      <th>z</th>\n",
       "      <th>r</th>\n",
       "      <th>pid</th>\n",
       "    </tr>\n",
       "  </thead>\n",
       "  <tbody>\n",
       "    <tr>\n",
       "      <th>0</th>\n",
       "      <td>1</td>\n",
       "      <td>3</td>\n",
       "      <td>4811.63</td>\n",
       "      <td>2360.22</td>\n",
       "      <td>3550.49</td>\n",
       "      <td>1</td>\n",
       "      <td>2</td>\n",
       "    </tr>\n",
       "    <tr>\n",
       "      <th>1</th>\n",
       "      <td>2</td>\n",
       "      <td>3</td>\n",
       "      <td>4812.59</td>\n",
       "      <td>2360.24</td>\n",
       "      <td>3550.77</td>\n",
       "      <td>1</td>\n",
       "      <td>3</td>\n",
       "    </tr>\n",
       "    <tr>\n",
       "      <th>2</th>\n",
       "      <td>3</td>\n",
       "      <td>3</td>\n",
       "      <td>4813.55</td>\n",
       "      <td>2360.27</td>\n",
       "      <td>3551.06</td>\n",
       "      <td>1</td>\n",
       "      <td>4</td>\n",
       "    </tr>\n",
       "    <tr>\n",
       "      <th>3</th>\n",
       "      <td>4</td>\n",
       "      <td>3</td>\n",
       "      <td>4814.49</td>\n",
       "      <td>2360.24</td>\n",
       "      <td>3551.37</td>\n",
       "      <td>1</td>\n",
       "      <td>5</td>\n",
       "    </tr>\n",
       "    <tr>\n",
       "      <th>4</th>\n",
       "      <td>5</td>\n",
       "      <td>3</td>\n",
       "      <td>4815.36</td>\n",
       "      <td>2360.01</td>\n",
       "      <td>3551.81</td>\n",
       "      <td>1</td>\n",
       "      <td>6</td>\n",
       "    </tr>\n",
       "  </tbody>\n",
       "</table>\n",
       "</div>"
      ],
      "text/plain": [
       "  #id type        x        y        z  r pid\n",
       "0   1    3  4811.63  2360.22  3550.49  1   2\n",
       "1   2    3  4812.59  2360.24  3550.77  1   3\n",
       "2   3    3  4813.55  2360.27  3551.06  1   4\n",
       "3   4    3  4814.49  2360.24  3551.37  1   5\n",
       "4   5    3  4815.36  2360.01  3551.81  1   6"
      ]
     },
     "execution_count": 19,
     "metadata": {},
     "output_type": "execute_result"
    }
   ],
   "source": [
    "ori_points_name=fdialog.askopenfile( title='Select the converted&resampled origional points').name\n",
    "\n",
    "#Load the origional points\n",
    "anno=open(ori_points_name,'r')\n",
    "anno_data=anno.readlines()\n",
    "# heading is stored in anno_data[2], 1st line basically useless\n",
    "\n",
    "headings=anno_data[2].rstrip('\\n').replace(' ', '').split(',')\n",
    "annotations=[lines.rstrip(' 0\\n').split(' ') for lines in anno_data[3:]]\n",
    "#slight modification on replacing and stripping due to the format of the resampled swc\n",
    "annotation_df=pd.DataFrame(annotations, columns=headings)\n",
    "\n",
    "annotation_df.head()"
   ]
  },
  {
   "cell_type": "code",
   "execution_count": 20,
   "metadata": {},
   "outputs": [
    {
     "data": {
      "text/html": [
       "<div>\n",
       "<style scoped>\n",
       "    .dataframe tbody tr th:only-of-type {\n",
       "        vertical-align: middle;\n",
       "    }\n",
       "\n",
       "    .dataframe tbody tr th {\n",
       "        vertical-align: top;\n",
       "    }\n",
       "\n",
       "    .dataframe thead th {\n",
       "        text-align: right;\n",
       "    }\n",
       "</style>\n",
       "<table border=\"1\" class=\"dataframe\">\n",
       "  <thead>\n",
       "    <tr style=\"text-align: right;\">\n",
       "      <th></th>\n",
       "      <th>x</th>\n",
       "      <th>y</th>\n",
       "      <th>z</th>\n",
       "      <th>atlasID</th>\n",
       "    </tr>\n",
       "  </thead>\n",
       "  <tbody>\n",
       "    <tr>\n",
       "      <th>0</th>\n",
       "      <td>4811.63</td>\n",
       "      <td>2360.22</td>\n",
       "      <td>3550.49</td>\n",
       "      <td>971</td>\n",
       "    </tr>\n",
       "    <tr>\n",
       "      <th>1</th>\n",
       "      <td>4812.59</td>\n",
       "      <td>2360.24</td>\n",
       "      <td>3550.77</td>\n",
       "      <td>971</td>\n",
       "    </tr>\n",
       "    <tr>\n",
       "      <th>2</th>\n",
       "      <td>4813.55</td>\n",
       "      <td>2360.27</td>\n",
       "      <td>3551.06</td>\n",
       "      <td>971</td>\n",
       "    </tr>\n",
       "    <tr>\n",
       "      <th>3</th>\n",
       "      <td>4814.49</td>\n",
       "      <td>2360.24</td>\n",
       "      <td>3551.37</td>\n",
       "      <td>971</td>\n",
       "    </tr>\n",
       "    <tr>\n",
       "      <th>4</th>\n",
       "      <td>4815.36</td>\n",
       "      <td>2360.01</td>\n",
       "      <td>3551.81</td>\n",
       "      <td>971</td>\n",
       "    </tr>\n",
       "    <tr>\n",
       "      <th>5</th>\n",
       "      <td>4816.23</td>\n",
       "      <td>2359.79</td>\n",
       "      <td>3552.25</td>\n",
       "      <td>971</td>\n",
       "    </tr>\n",
       "    <tr>\n",
       "      <th>6</th>\n",
       "      <td>4817.13</td>\n",
       "      <td>2359.73</td>\n",
       "      <td>3552.67</td>\n",
       "      <td>971</td>\n",
       "    </tr>\n",
       "    <tr>\n",
       "      <th>7</th>\n",
       "      <td>4818.03</td>\n",
       "      <td>2359.75</td>\n",
       "      <td>3553.1</td>\n",
       "      <td>971</td>\n",
       "    </tr>\n",
       "    <tr>\n",
       "      <th>8</th>\n",
       "      <td>4818.89</td>\n",
       "      <td>2360</td>\n",
       "      <td>3553.54</td>\n",
       "      <td>971</td>\n",
       "    </tr>\n",
       "    <tr>\n",
       "      <th>9</th>\n",
       "      <td>4819.75</td>\n",
       "      <td>2360.24</td>\n",
       "      <td>3553.99</td>\n",
       "      <td>971</td>\n",
       "    </tr>\n",
       "  </tbody>\n",
       "</table>\n",
       "</div>"
      ],
      "text/plain": [
       "         x        y        z  atlasID\n",
       "0  4811.63  2360.22  3550.49      971\n",
       "1  4812.59  2360.24  3550.77      971\n",
       "2  4813.55  2360.27  3551.06      971\n",
       "3  4814.49  2360.24  3551.37      971\n",
       "4  4815.36  2360.01  3551.81      971\n",
       "5  4816.23  2359.79  3552.25      971\n",
       "6  4817.13  2359.73  3552.67      971\n",
       "7  4818.03  2359.75   3553.1      971\n",
       "8  4818.89     2360  3553.54      971\n",
       "9  4819.75  2360.24  3553.99      971"
      ]
     },
     "execution_count": 20,
     "metadata": {},
     "output_type": "execute_result"
    }
   ],
   "source": [
    "points_with_id= pd.DataFrame (zip(annotation_df['x'],annotation_df['y'], annotation_df['z'],points_in_atlas ), columns=['x', 'y','z', 'atlasID'])\n",
    "points_with_id.to_csv (outdir+'/resamp_oripoints_withID.csv', index = None, header=True) #Don't forget to add '.csv' at the end of the path\n",
    "points_with_id.head(10)"
   ]
  },
  {
   "cell_type": "code",
   "execution_count": 21,
   "metadata": {},
   "outputs": [
    {
     "data": {
      "text/plain": [
       "102165"
      ]
     },
     "execution_count": 21,
     "metadata": {},
     "output_type": "execute_result"
    }
   ],
   "source": [
    "len(points_with_id)\n",
    "# this is the total length (in um) of the trace if the trace is resampled in 1um steps"
   ]
  },
  {
   "cell_type": "code",
   "execution_count": 22,
   "metadata": {},
   "outputs": [],
   "source": [
    "#Assign a colour to each unique atlas ID for plotting\n",
    "#this is need because atlas IDs has very high values which is outside of the colour range\n",
    "uniqueID=np.unique(points_with_id['atlasID'])\n",
    "colour= np.linspace(1,np.size(uniqueID)+1, num=np.size(uniqueID),dtype='int')\n",
    "\n",
    "colourdict=dict(zip(uniqueID,colour))"
   ]
  },
  {
   "cell_type": "code",
   "execution_count": 74,
   "metadata": {},
   "outputs": [],
   "source": [
    "#colourdict=dict(zip(atlas_labels['id'], atlas_labels['color_hex_triplet']))\n",
    "# cannot use the allen atlases colour because some are not recognized by plotly"
   ]
  },
  {
   "cell_type": "code",
   "execution_count": 23,
   "metadata": {},
   "outputs": [
    {
     "data": {
      "text/html": [
       "<div>\n",
       "<style scoped>\n",
       "    .dataframe tbody tr th:only-of-type {\n",
       "        vertical-align: middle;\n",
       "    }\n",
       "\n",
       "    .dataframe tbody tr th {\n",
       "        vertical-align: top;\n",
       "    }\n",
       "\n",
       "    .dataframe thead th {\n",
       "        text-align: right;\n",
       "    }\n",
       "</style>\n",
       "<table border=\"1\" class=\"dataframe\">\n",
       "  <thead>\n",
       "    <tr style=\"text-align: right;\">\n",
       "      <th></th>\n",
       "      <th>x</th>\n",
       "      <th>y</th>\n",
       "      <th>z</th>\n",
       "      <th>atlasID</th>\n",
       "      <th>name</th>\n",
       "      <th>colour</th>\n",
       "    </tr>\n",
       "  </thead>\n",
       "  <tbody>\n",
       "    <tr>\n",
       "      <th>0</th>\n",
       "      <td>4811.63</td>\n",
       "      <td>2360.22</td>\n",
       "      <td>3550.49</td>\n",
       "      <td>971</td>\n",
       "      <td>corpus callosum, posterior forceps</td>\n",
       "      <td>26</td>\n",
       "    </tr>\n",
       "    <tr>\n",
       "      <th>1</th>\n",
       "      <td>4812.59</td>\n",
       "      <td>2360.24</td>\n",
       "      <td>3550.77</td>\n",
       "      <td>971</td>\n",
       "      <td>corpus callosum, posterior forceps</td>\n",
       "      <td>26</td>\n",
       "    </tr>\n",
       "    <tr>\n",
       "      <th>2</th>\n",
       "      <td>4813.55</td>\n",
       "      <td>2360.27</td>\n",
       "      <td>3551.06</td>\n",
       "      <td>971</td>\n",
       "      <td>corpus callosum, posterior forceps</td>\n",
       "      <td>26</td>\n",
       "    </tr>\n",
       "    <tr>\n",
       "      <th>3</th>\n",
       "      <td>4814.49</td>\n",
       "      <td>2360.24</td>\n",
       "      <td>3551.37</td>\n",
       "      <td>971</td>\n",
       "      <td>corpus callosum, posterior forceps</td>\n",
       "      <td>26</td>\n",
       "    </tr>\n",
       "    <tr>\n",
       "      <th>4</th>\n",
       "      <td>4815.36</td>\n",
       "      <td>2360.01</td>\n",
       "      <td>3551.81</td>\n",
       "      <td>971</td>\n",
       "      <td>corpus callosum, posterior forceps</td>\n",
       "      <td>26</td>\n",
       "    </tr>\n",
       "  </tbody>\n",
       "</table>\n",
       "</div>"
      ],
      "text/plain": [
       "         x        y        z  atlasID                                name  \\\n",
       "0  4811.63  2360.22  3550.49      971  corpus callosum, posterior forceps   \n",
       "1  4812.59  2360.24  3550.77      971  corpus callosum, posterior forceps   \n",
       "2  4813.55  2360.27  3551.06      971  corpus callosum, posterior forceps   \n",
       "3  4814.49  2360.24  3551.37      971  corpus callosum, posterior forceps   \n",
       "4  4815.36  2360.01  3551.81      971  corpus callosum, posterior forceps   \n",
       "\n",
       "   colour  \n",
       "0      26  \n",
       "1      26  \n",
       "2      26  \n",
       "3      26  \n",
       "4      26  "
      ]
     },
     "execution_count": 23,
     "metadata": {},
     "output_type": "execute_result"
    }
   ],
   "source": [
    "namedict=dict(zip(atlas_labels['id'],atlas_labels['name']))\n",
    "points_with_id['name'] = points_with_id['atlasID'].map(namedict)\n",
    "\n",
    "points_with_id['colour'] = points_with_id['atlasID'].map(colourdict)\n",
    "points_with_id.head()"
   ]
  },
  {
   "cell_type": "code",
   "execution_count": 24,
   "metadata": {},
   "outputs": [
    {
     "data": {
      "text/plain": [
       "'D:/AL066/AL066resampled3Dplot.html'"
      ]
     },
     "execution_count": 24,
     "metadata": {},
     "output_type": "execute_result"
    }
   ],
   "source": [
    "trace= go.Scatter3d( \n",
    "    x=points_with_id[::3]['x'],\n",
    "    y=points_with_id[::3]['y'],\n",
    "    z=points_with_id[::3]['z'],\n",
    "    mode='markers',\n",
    "    marker=dict(\n",
    "        size=1,\n",
    "        color=points_with_id[::3]['colour'],\n",
    "        opacity=0.5),\n",
    "    hovertext= points_with_id[::3]['name'],\n",
    "    hoverinfo='text'\n",
    ")\n",
    "\n",
    "layout=go.Layout(\n",
    "    margin=dict(\n",
    "        l=0,\n",
    "        r=0,\n",
    "        b=0,\n",
    "        t=0)\n",
    ")\n",
    "\n",
    "#Here we want horizontal view with dorsal surface toward us\n",
    "#first we set a xz view for coronal section this is done by setting x and z as 0 in eye\n",
    "# then, for y we want the smaller values to point toward us (because in our original coronal images dorsal surface is pointed up)\n",
    "camera = dict(\n",
    "    eye=dict(x=0, y=-1, z=0)\n",
    ")\n",
    "\n",
    "\n",
    "#Need to change the axis title depending on the direction and orientation of the origional image (ie, imaging started from cerebellum vs. imaging started from olfactorybulb)\n",
    "fig=go.Figure(data=trace,layout=layout)\n",
    "fig.update_layout(scene_camera=camera, \n",
    "                  scene=dict(\n",
    "                    xaxis_title='Smaller=more medial',\n",
    "                    yaxis_title='Smaller=more dorsal',\n",
    "                    zaxis_title='Smaller=more anterior'))\n",
    "plot(fig,filename=outdir+'/'+ outdir[3:8]+'resampled3Dplot.html')"
   ]
  },
  {
   "cell_type": "code",
   "execution_count": null,
   "metadata": {},
   "outputs": [],
   "source": []
  }
 ],
 "metadata": {
  "kernelspec": {
   "display_name": "Python 3",
   "language": "python",
   "name": "python3"
  },
  "language_info": {
   "codemirror_mode": {
    "name": "ipython",
    "version": 3
   },
   "file_extension": ".py",
   "mimetype": "text/x-python",
   "name": "python",
   "nbconvert_exporter": "python",
   "pygments_lexer": "ipython3",
   "version": "3.7.3"
  }
 },
 "nbformat": 4,
 "nbformat_minor": 4
}
