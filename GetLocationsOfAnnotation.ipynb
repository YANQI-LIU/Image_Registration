{
 "cells": [
  {
   "cell_type": "markdown",
   "metadata": {},
   "source": [
    "### Load downsampled annotation file and identify location\n",
    "\n",
    "Major May 2022 update! \n",
    "\n",
    "Associated each point with an atlas ID based on full allen brain atlas directly fetched from allenSDK\n",
    "(split to left and right hemisphere for axons)\n",
    "\n",
    "Project downsampled points in to tiff file for illustration purposes (ie, can overlay to brain image stack or template stack)\n",
    "\n",
    "Plot as bar graph\n",
    "\n",
    "Plot as full resolution 3D scatter plot with hover region name"
   ]
  },
  {
   "cell_type": "code",
   "execution_count": 1,
   "metadata": {},
   "outputs": [
    {
     "name": "stderr",
     "output_type": "stream",
     "text": [
      "C:\\Users\\liu\\AppData\\Local\\Continuum\\anaconda3\\lib\\site-packages\\statsmodels\\tools\\_testing.py:19: FutureWarning: pandas.util.testing is deprecated. Use the functions in the public API at pandas.testing instead.\n",
      "  import pandas.util.testing as tm\n"
     ]
    }
   ],
   "source": [
    "import os\n",
    "\n",
    "import pandas as pd\n",
    "\n",
    "import numpy as np\n",
    "\n",
    "import SimpleITK as sitk\n",
    "\n",
    "import warnings\n",
    "\n",
    "import tkinter.filedialog as fdialog\n",
    "\n",
    "import skimage\n",
    "from skimage import io\n",
    "\n",
    "import random\n",
    "\n",
    "import matplotlib.pyplot as plt\n",
    "\n",
    "import re\n",
    "\n",
    "import Neuron_analysis as na\n",
    "from Neuron_analysis import *\n",
    "\n",
    "from allensdk.core.mouse_connectivity_cache import MouseConnectivityCache\n"
   ]
  },
  {
   "cell_type": "code",
   "execution_count": 2,
   "metadata": {},
   "outputs": [],
   "source": [
    "points_name=fdialog.askopenfile( title='Select the downsampled axon points').name\n",
    "Dpoints_name=fdialog.askopenfile( title='Select the downsampled dendritic points').name\n",
    "\n",
    "outdir = fdialog.askdirectory(title='Please select the output directory')\n",
    "\n",
    "mcc = MouseConnectivityCache(resolution=25)\n",
    "\n",
    "annot, annot_info = mcc.get_annotation_volume()"
   ]
  },
  {
   "cell_type": "code",
   "execution_count": 3,
   "metadata": {},
   "outputs": [
    {
     "name": "stdout",
     "output_type": "stream",
     "text": [
      "Coronal atlas has shape (528, 320, 456)\n",
      "Converted to horizontal atlas with shape (456, 528, 320)\n"
     ]
    },
    {
     "data": {
      "image/png": "[encoded data removed]",
      "text/plain": [
       "<Figure size 640x480 with 1 Axes>"
      ]
     },
     "metadata": {},
     "output_type": "display_data"
    }
   ],
   "source": [
    "print('Coronal atlas has shape', annot.shape)\n",
    "\n",
    "annot_h=np.moveaxis(annot, 2, 0) #reslice corontal atlas to horizontal atlas\n",
    "print('Converted to horizontal atlas with shape', annot_h.shape)\n",
    "\n",
    "plt.imshow(annot_h[:,:,36], interpolation='nearest', vmin=0, vmax=3000)\n",
    "plt.show()\n",
    "# although in this plot it looks like the image should rotate 90 degrees to the right but it actually matches the dimension of image"
   ]
  },
  {
   "cell_type": "code",
   "execution_count": 5,
   "metadata": {},
   "outputs": [
    {
     "data": {
      "text/plain": [
       "'D:/SingleNeuron_results\\\\AL223'"
      ]
     },
     "execution_count": 5,
     "metadata": {},
     "output_type": "execute_result"
    }
   ],
   "source": [
    "# Load the csv file containing the labels\n",
    "atlas_labels=pd.read_csv('D:\\Allenbrainatlas\\ARA_25_micron_mhd_ccf2017\\labels.csv')\n",
    "mouse_name= na.find_mousename(points_name)\n",
    "\n",
    "out_name= os.path.join(outdir,mouse_name)\n",
    "\n",
    "out_name"
   ]
  },
  {
   "cell_type": "code",
   "execution_count": 9,
   "metadata": {
    "jupyter": {
     "source_hidden": true
    }
   },
   "outputs": [],
   "source": [
    "def readandrefill(points_fname, to_add):\n",
    "    \n",
    "    all_points=[]\n",
    "    \n",
    "    with open(points_fname,'r') as output:\n",
    "        outputpoint= output.readlines()\n",
    "\n",
    "        for lines in outputpoint:\n",
    "            m=re.search(\"(?:OutputIndexFixed = \\[ )([0-9]+ [0-9]+ [0-9]+)\", lines).groups(0)\n",
    "            this_line= str(m[0]).split(' ')\n",
    "            mypoints= [int(stuff) for stuff in this_line]\n",
    "            mypoints[1]= mypoints[1]+to_add\n",
    "            all_points.append(mypoints)\n",
    "    return all_points\n",
    "\n",
    "\n",
    "def make_tif(all_points, atlas_shape, outname):\n",
    "    ''' Project downsampled points on to a tif stack, useful for overlaping with brain or template (ie, in imageJ)\n",
    "    input: downsampled points in a list containing x y z ordinates as int, directory containing it (this is also the output directory) and whether annotation is axon or not (default True)\n",
    "    example: [[12, 13, 25],\n",
    "             [13, 14, 25],...]\n",
    "    \n",
    "    output: a tiff stack with the same dimensions of the template/atlas mhd files with downsampled points only\n",
    "    each point has a value of the number of occurences (since downsampling combines multiple points as one)\n",
    "    '''\n",
    "        \n",
    "    print('Starting to saving tif files..')\n",
    "    \n",
    "    svolume=np.zeros(atlas_shape)\n",
    "    #columns, rows, planes\n",
    "\n",
    "    zplanes=[]\n",
    "    for i in all_points:\n",
    "        zplanes.append( i[2])\n",
    "    zplanes=np.unique(zplanes)\n",
    "    temp=np.zeros(atlas_shape[0:2])\n",
    "    thepoints=np.asarray(all_points)\n",
    "\n",
    "    for i in zplanes:\n",
    "        index= thepoints[:,2]==i\n",
    "        uindex,counts=np.unique(thepoints[index],return_counts=True, axis=0)\n",
    "        for j, lines in enumerate(uindex):\n",
    "            coord1,coord2=lines[0:2]\n",
    "            temp[coord1][coord2]= counts[j]\n",
    "        svolume[:,:,i]=temp #write this in \n",
    "        temp=np.zeros(atlas_shape[0:2]) #reset the empty plane after each z\n",
    "\n",
    "\n",
    "    coronal_planetmp= np.swapaxes(np.int16(svolume),0,2)\n",
    "    #for some reason, if just save stuff as tiff, it will save x planes of yz view\n",
    "    #here we shift the 3rd dimension with the first dimension to obtain xy view\n",
    "\n",
    "    io.imsave(outname,coronal_planetmp)\n",
    "    return \n",
    "\n",
    "def regions_csv(points, out_name):\n",
    "    points_in_atlas=[int(annot_h[i[0], i[1],i[2]]) for i in points]\n",
    "    \n",
    "    points_in_atlas= np.where(points_in_atlas==0, 981, points_in_atlas) \n",
    "    # replace id= 0 with 981 (ssp-bfd layer1)\n",
    "\n",
    "    points_in_atlas= np.where(points_in_atlas==484682520, 484682528 , points_in_atlas) \n",
    "    points_in_atlas= np.where(points_in_atlas==484682524, 484682528 , points_in_atlas)\n",
    "    # replace id= 484682520 (optic radiation)  and id= 484682524 (auditory radiation) with 484682258, stc(a subregion of fiber bundle)\n",
    "    # these are intrinsic issue of the allen atlas, the labels for these regions are wrong\n",
    "    \n",
    "    points_in_atlas= np.where(points_in_atlas==0, 981, points_in_atlas) \n",
    "    # somehow this line needs to be ran twice??\n",
    "    unique_id, counts = np.unique(points_in_atlas, return_counts=True)\n",
    "    id_withcounts=list(zip(unique_id, counts))\n",
    "\n",
    "    our_regions=na.atlas_labels.loc[na.atlas_labels['id'].isin (unique_id)]\n",
    "\n",
    "    new_df= pd.DataFrame(id_withcounts, columns=['id', 'counts'])\n",
    "    our_regionWcounts=pd.merge(na.atlas_labels, new_df)\n",
    "    \n",
    "    our_regionWcounts.to_excel(out_name+'region_with_counts.xls',index=None,header=True)\n",
    "\n",
    "    return points_in_atlas, our_regionWcounts\n",
    "\n",
    "def parent_df(df):\n",
    "    # group dataframe by parent id structure\n",
    "    grouped_pd=df.groupby(['parent_structure_id'],as_index=False).sum()\n",
    "    d= {'id': grouped_pd.parent_structure_id.astype(int), 'counts': grouped_pd.counts}\n",
    "    grouped_pd2= pd.DataFrame(data=d)\n",
    "    result = pd.merge(grouped_pd2, na.atlas_labels, on=[\"id\"])\n",
    "    result.sort_values(['counts'], ascending=True, inplace=True)\n",
    "    # result is the final pd\n",
    "\n",
    "    return result"
   ]
  },
  {
   "cell_type": "code",
   "execution_count": 7,
   "metadata": {},
   "outputs": [],
   "source": [
    "# refill y section\n",
    "\n",
    "template_file = [x for x in os.listdir(f'D:\\{mouse_name}\\\\') if 'template' in x]\n",
    "to_add=na.find_crop(template_file[0])\n",
    "\n",
    "all_points=readandrefill(points_name,to_add)"
   ]
  },
  {
   "cell_type": "code",
   "execution_count": 10,
   "metadata": {},
   "outputs": [
    {
     "name": "stdout",
     "output_type": "stream",
     "text": [
      "Starting to saving tif files..\n"
     ]
    },
    {
     "name": "stderr",
     "output_type": "stream",
     "text": [
      "C:\\Users\\liu\\AppData\\Local\\Continuum\\anaconda3\\lib\\site-packages\\skimage\\io\\_io.py:141: UserWarning: D:/SingleNeuron_results\\AL223_axons.tif is a low contrast image\n",
      "  warn('%s is a low contrast image' % fname)\n"
     ]
    }
   ],
   "source": [
    "make_tif(all_points,annot_h.shape,out_name+'_axons.tif') #Projects the points in the atlas space for visualization /verification purposes"
   ]
  },
  {
   "cell_type": "code",
   "execution_count": 11,
   "metadata": {},
   "outputs": [],
   "source": [
    "# Identify left and right hemisphere by splitting x in half\n",
    "left_points= []\n",
    "right_points= []\n",
    "for item in all_points:\n",
    "    if item[0]<227:\n",
    "        left_points.append(item)\n",
    "    else:\n",
    "        right_points.append(item)"
   ]
  },
  {
   "cell_type": "code",
   "execution_count": 19,
   "metadata": {},
   "outputs": [],
   "source": [
    "#len(right_points)"
   ]
  },
  {
   "cell_type": "code",
   "execution_count": 17,
   "metadata": {},
   "outputs": [
    {
     "name": "stderr",
     "output_type": "stream",
     "text": [
      "C:\\Users\\liu\\AppData\\Local\\Continuum\\anaconda3\\lib\\site-packages\\ipykernel_launcher.py:22: FutureWarning: As the xlwt package is no longer maintained, the xlwt engine will be removed in a future version of pandas. This is the only engine in pandas that supports writing in the xls format. Install openpyxl and write to an xlsx file instead. You can set the option io.excel.xls.writer to 'xlwt' to silence this warning. While this option is deprecated and will also raise a warning, it can be globally set and the warning suppressed.\n"
     ]
    }
   ],
   "source": [
    "points_in_atlasR,regionsR= regions_csv(right_points,out_name+'_axon_right_')\n",
    "points_in_atlasL,regionsL= regions_csv(left_points,out_name+'_axon_left_')"
   ]
  },
  {
   "cell_type": "code",
   "execution_count": 22,
   "metadata": {},
   "outputs": [
    {
     "data": {
      "text/html": [
       "<div>\n",
       "<style scoped>\n",
       "    .dataframe tbody tr th:only-of-type {\n",
       "        vertical-align: middle;\n",
       "    }\n",
       "\n",
       "    .dataframe tbody tr th {\n",
       "        vertical-align: top;\n",
       "    }\n",
       "\n",
       "    .dataframe thead th {\n",
       "        text-align: right;\n",
       "    }\n",
       "</style>\n",
       "<table border=\"1\" class=\"dataframe\">\n",
       "  <thead>\n",
       "    <tr style=\"text-align: right;\">\n",
       "      <th></th>\n",
       "      <th>id</th>\n",
       "      <th>atlas_id</th>\n",
       "      <th>name</th>\n",
       "      <th>acronym</th>\n",
       "      <th>st_level</th>\n",
       "      <th>ontology_id</th>\n",
       "      <th>hemisphere_id</th>\n",
       "      <th>weight</th>\n",
       "      <th>parent_structure_id</th>\n",
       "      <th>depth</th>\n",
       "      <th>...</th>\n",
       "      <th>structure_id_path</th>\n",
       "      <th>color_hex_triplet</th>\n",
       "      <th>neuro_name_structure_id</th>\n",
       "      <th>neuro_name_structure_id_path</th>\n",
       "      <th>failed</th>\n",
       "      <th>sphinx_id</th>\n",
       "      <th>structure_name_facet</th>\n",
       "      <th>failed_facet</th>\n",
       "      <th>safe_name</th>\n",
       "      <th>counts</th>\n",
       "    </tr>\n",
       "  </thead>\n",
       "  <tbody>\n",
       "    <tr>\n",
       "      <th>0</th>\n",
       "      <td>1047</td>\n",
       "      <td>979.0</td>\n",
       "      <td>Primary somatosensory area, barrel field, layer 4</td>\n",
       "      <td>SSp-bfd4</td>\n",
       "      <td>11</td>\n",
       "      <td>1</td>\n",
       "      <td>3</td>\n",
       "      <td>8690</td>\n",
       "      <td>329.0</td>\n",
       "      <td>9</td>\n",
       "      <td>...</td>\n",
       "      <td>/997/8/567/688/695/315/453/322/329/1047/</td>\n",
       "      <td>188064</td>\n",
       "      <td>NaN</td>\n",
       "      <td>NaN</td>\n",
       "      <td>f</td>\n",
       "      <td>55</td>\n",
       "      <td>3439709501</td>\n",
       "      <td>734881840</td>\n",
       "      <td>Primary somatosensory area barrel field layer 4</td>\n",
       "      <td>8967</td>\n",
       "    </tr>\n",
       "    <tr>\n",
       "      <th>1</th>\n",
       "      <td>156</td>\n",
       "      <td>1009.0</td>\n",
       "      <td>Dorsal auditory area, layer 6a</td>\n",
       "      <td>AUDd6a</td>\n",
       "      <td>11</td>\n",
       "      <td>1</td>\n",
       "      <td>3</td>\n",
       "      <td>8690</td>\n",
       "      <td>1011.0</td>\n",
       "      <td>8</td>\n",
       "      <td>...</td>\n",
       "      <td>/997/8/567/688/695/315/247/1011/156/</td>\n",
       "      <td>019399</td>\n",
       "      <td>NaN</td>\n",
       "      <td>NaN</td>\n",
       "      <td>f</td>\n",
       "      <td>128</td>\n",
       "      <td>2489109267</td>\n",
       "      <td>734881840</td>\n",
       "      <td>Dorsal auditory area layer 6a</td>\n",
       "      <td>681</td>\n",
       "    </tr>\n",
       "    <tr>\n",
       "      <th>2</th>\n",
       "      <td>461</td>\n",
       "      <td>623.0</td>\n",
       "      <td>Primary somatosensory area, trunk, layer 6b</td>\n",
       "      <td>SSp-tr6b</td>\n",
       "      <td>11</td>\n",
       "      <td>1</td>\n",
       "      <td>3</td>\n",
       "      <td>8690</td>\n",
       "      <td>361.0</td>\n",
       "      <td>9</td>\n",
       "      <td>...</td>\n",
       "      <td>/997/8/567/688/695/315/453/322/361/461/</td>\n",
       "      <td>188064</td>\n",
       "      <td>NaN</td>\n",
       "      <td>NaN</td>\n",
       "      <td>f</td>\n",
       "      <td>93</td>\n",
       "      <td>3360815570</td>\n",
       "      <td>734881840</td>\n",
       "      <td>Primary somatosensory area trunk layer 6b</td>\n",
       "      <td>99</td>\n",
       "    </tr>\n",
       "    <tr>\n",
       "      <th>3</th>\n",
       "      <td>945</td>\n",
       "      <td>1108.0</td>\n",
       "      <td>Primary somatosensory area, upper limb, layer 6a</td>\n",
       "      <td>SSp-ul6a</td>\n",
       "      <td>11</td>\n",
       "      <td>1</td>\n",
       "      <td>3</td>\n",
       "      <td>8690</td>\n",
       "      <td>369.0</td>\n",
       "      <td>9</td>\n",
       "      <td>...</td>\n",
       "      <td>/997/8/567/688/695/315/453/322/369/945/</td>\n",
       "      <td>188064</td>\n",
       "      <td>NaN</td>\n",
       "      <td>NaN</td>\n",
       "      <td>f</td>\n",
       "      <td>85</td>\n",
       "      <td>2726127758</td>\n",
       "      <td>734881840</td>\n",
       "      <td>Primary somatosensory area upper limb layer 6a</td>\n",
       "      <td>105</td>\n",
       "    </tr>\n",
       "    <tr>\n",
       "      <th>4</th>\n",
       "      <td>954</td>\n",
       "      <td>1109.0</td>\n",
       "      <td>Primary auditory area, layer 6a</td>\n",
       "      <td>AUDp6a</td>\n",
       "      <td>11</td>\n",
       "      <td>1</td>\n",
       "      <td>3</td>\n",
       "      <td>8690</td>\n",
       "      <td>1002.0</td>\n",
       "      <td>8</td>\n",
       "      <td>...</td>\n",
       "      <td>/997/8/567/688/695/315/247/1002/954/</td>\n",
       "      <td>019399</td>\n",
       "      <td>NaN</td>\n",
       "      <td>NaN</td>\n",
       "      <td>f</td>\n",
       "      <td>142</td>\n",
       "      <td>945654628</td>\n",
       "      <td>734881840</td>\n",
       "      <td>Primary auditory area layer 6a</td>\n",
       "      <td>717</td>\n",
       "    </tr>\n",
       "  </tbody>\n",
       "</table>\n",
       "<p>5 rows × 22 columns</p>\n",
       "</div>"
      ],
      "text/plain": [
       "     id  atlas_id                                               name  \\\n",
       "0  1047     979.0  Primary somatosensory area, barrel field, layer 4   \n",
       "1   156    1009.0                     Dorsal auditory area, layer 6a   \n",
       "2   461     623.0        Primary somatosensory area, trunk, layer 6b   \n",
       "3   945    1108.0   Primary somatosensory area, upper limb, layer 6a   \n",
       "4   954    1109.0                    Primary auditory area, layer 6a   \n",
       "\n",
       "    acronym  st_level  ontology_id  hemisphere_id  weight  \\\n",
       "0  SSp-bfd4        11            1              3    8690   \n",
       "1    AUDd6a        11            1              3    8690   \n",
       "2  SSp-tr6b        11            1              3    8690   \n",
       "3  SSp-ul6a        11            1              3    8690   \n",
       "4    AUDp6a        11            1              3    8690   \n",
       "\n",
       "   parent_structure_id  depth  ...                         structure_id_path  \\\n",
       "0                329.0      9  ...  /997/8/567/688/695/315/453/322/329/1047/   \n",
       "1               1011.0      8  ...      /997/8/567/688/695/315/247/1011/156/   \n",
       "2                361.0      9  ...   /997/8/567/688/695/315/453/322/361/461/   \n",
       "3                369.0      9  ...   /997/8/567/688/695/315/453/322/369/945/   \n",
       "4               1002.0      8  ...      /997/8/567/688/695/315/247/1002/954/   \n",
       "\n",
       "   color_hex_triplet neuro_name_structure_id neuro_name_structure_id_path  \\\n",
       "0             188064                     NaN                          NaN   \n",
       "1             019399                     NaN                          NaN   \n",
       "2             188064                     NaN                          NaN   \n",
       "3             188064                     NaN                          NaN   \n",
       "4             019399                     NaN                          NaN   \n",
       "\n",
       "   failed  sphinx_id structure_name_facet  failed_facet  \\\n",
       "0       f         55           3439709501     734881840   \n",
       "1       f        128           2489109267     734881840   \n",
       "2       f         93           3360815570     734881840   \n",
       "3       f         85           2726127758     734881840   \n",
       "4       f        142            945654628     734881840   \n",
       "\n",
       "                                         safe_name  counts  \n",
       "0  Primary somatosensory area barrel field layer 4    8967  \n",
       "1                    Dorsal auditory area layer 6a     681  \n",
       "2        Primary somatosensory area trunk layer 6b      99  \n",
       "3   Primary somatosensory area upper limb layer 6a     105  \n",
       "4                   Primary auditory area layer 6a     717  \n",
       "\n",
       "[5 rows x 22 columns]"
      ]
     },
     "execution_count": 22,
     "metadata": {},
     "output_type": "execute_result"
    }
   ],
   "source": [
    "regionsL.head()"
   ]
  },
  {
   "cell_type": "code",
   "execution_count": 23,
   "metadata": {},
   "outputs": [
    {
     "data": {
      "text/html": [
       "<div>\n",
       "<style scoped>\n",
       "    .dataframe tbody tr th:only-of-type {\n",
       "        vertical-align: middle;\n",
       "    }\n",
       "\n",
       "    .dataframe tbody tr th {\n",
       "        vertical-align: top;\n",
       "    }\n",
       "\n",
       "    .dataframe thead th {\n",
       "        text-align: right;\n",
       "    }\n",
       "</style>\n",
       "<table border=\"1\" class=\"dataframe\">\n",
       "  <thead>\n",
       "    <tr style=\"text-align: right;\">\n",
       "      <th></th>\n",
       "      <th>id</th>\n",
       "      <th>atlas_id</th>\n",
       "      <th>name</th>\n",
       "      <th>acronym</th>\n",
       "      <th>st_level</th>\n",
       "      <th>ontology_id</th>\n",
       "      <th>hemisphere_id</th>\n",
       "      <th>weight</th>\n",
       "      <th>parent_structure_id</th>\n",
       "      <th>depth</th>\n",
       "      <th>...</th>\n",
       "      <th>structure_id_path</th>\n",
       "      <th>color_hex_triplet</th>\n",
       "      <th>neuro_name_structure_id</th>\n",
       "      <th>neuro_name_structure_id_path</th>\n",
       "      <th>failed</th>\n",
       "      <th>sphinx_id</th>\n",
       "      <th>structure_name_facet</th>\n",
       "      <th>failed_facet</th>\n",
       "      <th>safe_name</th>\n",
       "      <th>counts</th>\n",
       "    </tr>\n",
       "  </thead>\n",
       "  <tbody>\n",
       "    <tr>\n",
       "      <th>0</th>\n",
       "      <td>484682516</td>\n",
       "      <td>NaN</td>\n",
       "      <td>corpus callosum, body</td>\n",
       "      <td>ccb</td>\n",
       "      <td>9</td>\n",
       "      <td>1</td>\n",
       "      <td>3</td>\n",
       "      <td>8690</td>\n",
       "      <td>776.0</td>\n",
       "      <td>4</td>\n",
       "      <td>...</td>\n",
       "      <td>/997/1009/983/776/484682516/</td>\n",
       "      <td>CCCCCC</td>\n",
       "      <td>NaN</td>\n",
       "      <td>NaN</td>\n",
       "      <td>f</td>\n",
       "      <td>1199</td>\n",
       "      <td>1909459776</td>\n",
       "      <td>734881840</td>\n",
       "      <td>corpus callosum body</td>\n",
       "      <td>1799</td>\n",
       "    </tr>\n",
       "  </tbody>\n",
       "</table>\n",
       "<p>1 rows × 22 columns</p>\n",
       "</div>"
      ],
      "text/plain": [
       "          id  atlas_id                   name acronym  st_level  ontology_id  \\\n",
       "0  484682516       NaN  corpus callosum, body     ccb         9            1   \n",
       "\n",
       "   hemisphere_id  weight  parent_structure_id  depth  ...  \\\n",
       "0              3    8690                776.0      4  ...   \n",
       "\n",
       "              structure_id_path  color_hex_triplet neuro_name_structure_id  \\\n",
       "0  /997/1009/983/776/484682516/             CCCCCC                     NaN   \n",
       "\n",
       "  neuro_name_structure_id_path  failed  sphinx_id structure_name_facet  \\\n",
       "0                          NaN       f       1199           1909459776   \n",
       "\n",
       "   failed_facet             safe_name  counts  \n",
       "0     734881840  corpus callosum body    1799  \n",
       "\n",
       "[1 rows x 22 columns]"
      ]
     },
     "execution_count": 23,
     "metadata": {},
     "output_type": "execute_result"
    }
   ],
   "source": [
    "regionsR"
   ]
  },
  {
   "cell_type": "code",
   "execution_count": 15,
   "metadata": {},
   "outputs": [],
   "source": [
    "dendrites= readandrefill(Dpoints_name,to_add)"
   ]
  },
  {
   "cell_type": "code",
   "execution_count": 16,
   "metadata": {},
   "outputs": [
    {
     "name": "stdout",
     "output_type": "stream",
     "text": [
      "Starting to saving tif files..\n"
     ]
    },
    {
     "name": "stderr",
     "output_type": "stream",
     "text": [
      "C:\\Users\\liu\\AppData\\Local\\Continuum\\anaconda3\\lib\\site-packages\\skimage\\io\\_io.py:141: UserWarning: D:/SingleNeuron_results\\AL223dendrites.tif is a low contrast image\n",
      "  warn('%s is a low contrast image' % fname)\n"
     ]
    }
   ],
   "source": [
    "make_tif(dendrites,annot_h.shape,out_name+'_dendrites.tif')"
   ]
  },
  {
   "cell_type": "code",
   "execution_count": 18,
   "metadata": {},
   "outputs": [
    {
     "name": "stderr",
     "output_type": "stream",
     "text": [
      "C:\\Users\\liu\\AppData\\Local\\Continuum\\anaconda3\\lib\\site-packages\\ipykernel_launcher.py:22: FutureWarning: As the xlwt package is no longer maintained, the xlwt engine will be removed in a future version of pandas. This is the only engine in pandas that supports writing in the xls format. Install openpyxl and write to an xlsx file instead. You can set the option io.excel.xls.writer to 'xlwt' to silence this warning. While this option is deprecated and will also raise a warning, it can be globally set and the warning suppressed.\n"
     ]
    }
   ],
   "source": [
    "points_in_atlasD,regionsD= regions_csv(dendrites,out_name+'_dendrites_')"
   ]
  },
  {
   "cell_type": "code",
   "execution_count": 128,
   "metadata": {},
   "outputs": [
    {
     "data": {
      "text/html": [
       "<div>\n",
       "<style scoped>\n",
       "    .dataframe tbody tr th:only-of-type {\n",
       "        vertical-align: middle;\n",
       "    }\n",
       "\n",
       "    .dataframe tbody tr th {\n",
       "        vertical-align: top;\n",
       "    }\n",
       "\n",
       "    .dataframe thead th {\n",
       "        text-align: right;\n",
       "    }\n",
       "</style>\n",
       "<table border=\"1\" class=\"dataframe\">\n",
       "  <thead>\n",
       "    <tr style=\"text-align: right;\">\n",
       "      <th></th>\n",
       "      <th>id</th>\n",
       "      <th>atlas_id</th>\n",
       "      <th>name</th>\n",
       "      <th>acronym</th>\n",
       "      <th>st_level</th>\n",
       "      <th>ontology_id</th>\n",
       "      <th>hemisphere_id</th>\n",
       "      <th>weight</th>\n",
       "      <th>parent_structure_id</th>\n",
       "      <th>depth</th>\n",
       "      <th>...</th>\n",
       "      <th>structure_id_path</th>\n",
       "      <th>color_hex_triplet</th>\n",
       "      <th>neuro_name_structure_id</th>\n",
       "      <th>neuro_name_structure_id_path</th>\n",
       "      <th>failed</th>\n",
       "      <th>sphinx_id</th>\n",
       "      <th>structure_name_facet</th>\n",
       "      <th>failed_facet</th>\n",
       "      <th>safe_name</th>\n",
       "      <th>counts</th>\n",
       "    </tr>\n",
       "  </thead>\n",
       "  <tbody>\n",
       "    <tr>\n",
       "      <th>0</th>\n",
       "      <td>201</td>\n",
       "      <td>1015.0</td>\n",
       "      <td>Primary somatosensory area, barrel field, laye...</td>\n",
       "      <td>SSp-bfd2/3</td>\n",
       "      <td>11</td>\n",
       "      <td>1</td>\n",
       "      <td>3</td>\n",
       "      <td>8690</td>\n",
       "      <td>329.0</td>\n",
       "      <td>9</td>\n",
       "      <td>...</td>\n",
       "      <td>/997/8/567/688/695/315/453/322/329/201/</td>\n",
       "      <td>188064</td>\n",
       "      <td>NaN</td>\n",
       "      <td>NaN</td>\n",
       "      <td>f</td>\n",
       "      <td>54</td>\n",
       "      <td>1738869888</td>\n",
       "      <td>734881840</td>\n",
       "      <td>Primary somatosensory area barrel field layer 2/3</td>\n",
       "      <td>4816</td>\n",
       "    </tr>\n",
       "    <tr>\n",
       "      <th>1</th>\n",
       "      <td>981</td>\n",
       "      <td>971.0</td>\n",
       "      <td>Primary somatosensory area, barrel field, layer 1</td>\n",
       "      <td>SSp-bfd1</td>\n",
       "      <td>11</td>\n",
       "      <td>1</td>\n",
       "      <td>3</td>\n",
       "      <td>8690</td>\n",
       "      <td>329.0</td>\n",
       "      <td>9</td>\n",
       "      <td>...</td>\n",
       "      <td>/997/8/567/688/695/315/453/322/329/981/</td>\n",
       "      <td>188064</td>\n",
       "      <td>NaN</td>\n",
       "      <td>NaN</td>\n",
       "      <td>f</td>\n",
       "      <td>53</td>\n",
       "      <td>3178183090</td>\n",
       "      <td>734881840</td>\n",
       "      <td>Primary somatosensory area barrel field layer 1</td>\n",
       "      <td>3936</td>\n",
       "    </tr>\n",
       "  </tbody>\n",
       "</table>\n",
       "<p>2 rows × 22 columns</p>\n",
       "</div>"
      ],
      "text/plain": [
       "    id  atlas_id                                               name  \\\n",
       "0  201    1015.0  Primary somatosensory area, barrel field, laye...   \n",
       "1  981     971.0  Primary somatosensory area, barrel field, layer 1   \n",
       "\n",
       "      acronym  st_level  ontology_id  hemisphere_id  weight  \\\n",
       "0  SSp-bfd2/3        11            1              3    8690   \n",
       "1    SSp-bfd1        11            1              3    8690   \n",
       "\n",
       "   parent_structure_id  depth  ...                        structure_id_path  \\\n",
       "0                329.0      9  ...  /997/8/567/688/695/315/453/322/329/201/   \n",
       "1                329.0      9  ...  /997/8/567/688/695/315/453/322/329/981/   \n",
       "\n",
       "   color_hex_triplet neuro_name_structure_id neuro_name_structure_id_path  \\\n",
       "0             188064                     NaN                          NaN   \n",
       "1             188064                     NaN                          NaN   \n",
       "\n",
       "   failed  sphinx_id structure_name_facet  failed_facet  \\\n",
       "0       f         54           1738869888     734881840   \n",
       "1       f         53           3178183090     734881840   \n",
       "\n",
       "                                           safe_name  counts  \n",
       "0  Primary somatosensory area barrel field layer 2/3    4816  \n",
       "1    Primary somatosensory area barrel field layer 1    3936  \n",
       "\n",
       "[2 rows x 22 columns]"
      ]
     },
     "execution_count": 128,
     "metadata": {},
     "output_type": "execute_result"
    }
   ],
   "source": [
    "regionsD"
   ]
  },
  {
   "cell_type": "code",
   "execution_count": null,
   "metadata": {},
   "outputs": [],
   "source": []
  },
  {
   "cell_type": "code",
   "execution_count": 129,
   "metadata": {},
   "outputs": [],
   "source": [
    "# Generate excel file of regions in parent name (1 graph order up) for each hemisphere\n",
    "axon_subL=regionsL.sort_values(by=['counts'])\n",
    "axon_subL.sort_values(by= 'graph_order',axis=0, inplace=True)\n",
    "parentL= parent_df(axon_subL)\n",
    "parentL.sort_values('counts',ascending=False, inplace=True)\n",
    "\n",
    "parentL.to_excel(f'{out_name}_Lparent.xls') "
   ]
  },
  {
   "cell_type": "code",
   "execution_count": 132,
   "metadata": {},
   "outputs": [],
   "source": [
    "# Generate excel file of regions in parent name (1 graph order up) for each hemisphere\n",
    "\n",
    "axon_subR=regionsR.sort_values(by=['counts'])\n",
    "axon_subR.sort_values(by= 'graph_order',axis=0, inplace=True)\n",
    "parentR= parent_df(axon_subR)\n",
    "\n",
    "parentR.sort_values('counts',ascending=False, inplace=True)\n",
    "\n",
    "parentR.to_excel(f'{out_name}_Rparent.xls') "
   ]
  },
  {
   "cell_type": "markdown",
   "metadata": {},
   "source": [
    "## Plotting section- bar graphs"
   ]
  },
  {
   "cell_type": "code",
   "execution_count": null,
   "metadata": {},
   "outputs": [],
   "source": []
  },
  {
   "cell_type": "code",
   "execution_count": null,
   "metadata": {},
   "outputs": [],
   "source": [
    "from plotly.subplots import make_subplots\n",
    "import plotly.graph_objects as go"
   ]
  },
  {
   "cell_type": "code",
   "execution_count": 122,
   "metadata": {
    "jupyter": {
     "source_hidden": true
    }
   },
   "outputs": [],
   "source": [
    "def arrange_parent_subregion(parentdf,subregiondf):\n",
    "    new_order=parentdf.id.to_numpy()\n",
    "    \n",
    "    old_order= subregiondf.parent_structure_id.to_numpy()   \n",
    "    \n",
    "    print('Old parent region id order is: ', old_order)\n",
    "    print('New parent region id order is: ', new_order)\n",
    "    \n",
    "    \n",
    "    new_array= np.zeros_like(old_order)\n",
    "    for i, j in enumerate(new_order):\n",
    "        new_array[old_order==j]=i\n",
    "        \n",
    "    print('Re-arranged subregion order based on parent region that has the greatest number of axon: ', new_array)\n",
    "    \n",
    "    subregiondf['new_order']= new_array\n",
    "    subregiondf.sort_values('new_order', inplace=True)\n",
    "    \n",
    "    subregiondf.sort_values(by=['new_order', 'graph_order'], ascending=[True, True] ,inplace=True)\n",
    "\n",
    "    return subregiondf\n",
    "\n",
    "def plot_hist(pd_axonL,pd_axonR, pd_dendrite,out_name):\n",
    "    ''' \n",
    "    Plot horizontal histogram of all points and ending points of axons and dendrites\n",
    "    Input: pandas dataframe of axon, pandas dataframe of dendrite, mousename\n",
    "    '''\n",
    "\n",
    "    fig = make_subplots(\n",
    "        shared_yaxes=True,\n",
    "        rows=3, cols=1,\n",
    "        row_heights=[0.85, 0.05,0.1],\n",
    "        row_titles=['Left axons', 'Right axons', 'Dendrites']\n",
    "    )\n",
    "    \n",
    "    fig.add_trace(\n",
    "        go.Bar(\n",
    "        y=pd_axonL['acronym'], x=pd_axonL['counts']/1000, # units now in milimeters\n",
    "        marker_color='red', #for future, pd_axon['region_id'],\n",
    "        name='',\n",
    "        text=pd_axonL['name'],\n",
    "        hovertemplate=\n",
    "            '<i>%{x}</i>, '+\n",
    "            '<b>%{text}</b>',\n",
    "        orientation='h'),\n",
    "        row=1,col=1\n",
    "    )\n",
    "    \n",
    "    fig.add_trace(\n",
    "        go.Bar(\n",
    "        y=pd_axonR['acronym'], x=pd_axonR['counts']/1000, # units now in milimeters\n",
    "        marker_color='magenta', #for future, pd_axon['region_id'],\n",
    "        name='',\n",
    "        text=pd_axonR['name'],\n",
    "        hovertemplate=\n",
    "            '<i>%{x}</i>, '+\n",
    "            '<b>%{text}</b>',\n",
    "        orientation='h'),\n",
    "        row=2,col=1\n",
    "    )\n",
    "    \n",
    "\n",
    "    fig.add_trace(\n",
    "        go.Bar(\n",
    "        y=pd_dendrite['acronym'], x=pd_dendrite['counts']/1000, # units now in milimeters\n",
    "        marker_color='black',\n",
    "        name='',\n",
    "        text=pd_dendrite['name'],\n",
    "        hovertemplate=\n",
    "        '<i>%{x}</i>, '+\n",
    "        '<b>%{text}</b>',\n",
    "        orientation='h'),\n",
    "        row=3,col=1\n",
    "    )\n",
    "\n",
    "    \n",
    "    fig.update_layout(yaxis={'categoryorder':'trace'}, \n",
    "                      width=2000,\n",
    "                      height=1000, # 1500 for AL066 since too many items\n",
    "                      showlegend= False,\n",
    "                      paper_bgcolor='rgba(0,0,0,0)', # transparent background\n",
    "                      plot_bgcolor='rgba(0,0,0,0)' # transparent background\n",
    "                     )\n",
    "    \n",
    "    fig.update_xaxes(gridcolor='gold')\n",
    "    \n",
    "    fig.show()\n",
    "\n",
    "    fig.write_image(f\"{out_name}.svg\")\n",
    "    fig.write_html(f\"{out_name}.html\")"
   ]
  },
  {
   "cell_type": "code",
   "execution_count": 135,
   "metadata": {},
   "outputs": [
    {
     "name": "stdout",
     "output_type": "stream",
     "text": [
      "For left hemisphere\n",
      "Old parent region id order is:  [3.29000000e+02 3.29000000e+02 3.29000000e+02 3.29000000e+02\n",
      " 3.29000000e+02 7.76000000e+02 1.01800000e+03 1.01800000e+03\n",
      " 1.00200000e+03 1.01100000e+03 3.78000000e+02 7.68000000e+02\n",
      " 1.82305689e+08 1.82305689e+08 1.82305689e+08 1.82305689e+08\n",
      " 3.61000000e+02 3.61000000e+02 3.61000000e+02 3.69000000e+02\n",
      " 3.69000000e+02 5.41000000e+02 1.00900000e+03 3.37000000e+02]\n",
      "New parent region id order is:  [      329       776      1018      1002      1011       378       768\n",
      " 182305689       361       369       541      1009       337]\n",
      "Re-arranged subregion order based on parent region that has the greatest number of axon:  [ 0.  0.  0.  0.  0.  1.  2.  2.  3.  4.  5.  6.  7.  7.  7.  7.  8.  8.\n",
      "  8.  9.  9. 10. 11. 12.]\n",
      "For right hemisphere\n",
      "Old parent region id order is:  [776.]\n",
      "New parent region id order is:  [776]\n",
      "Re-arranged subregion order based on parent region that has the greatest number of axon:  [0.]\n"
     ]
    }
   ],
   "source": [
    "\n",
    "print('For left hemisphere')\n",
    "new_axonL= arrange_parent_subregion(parentL,axon_subL)\n",
    "\n",
    "print('For right hemisphere')\n",
    "new_axonR= arrange_parent_subregion(parentR,axon_subR)\n"
   ]
  },
  {
   "cell_type": "code",
   "execution_count": 140,
   "metadata": {},
   "outputs": [
    {
     "data": {
      "application/vnd.plotly.v1+json": {
       "config": {
        "plotlyServerURL": "https://plot.ly"
       },
       "data": [
        {
         "hovertemplate": "<i>%{x}</i>, <b>%{text}</b>",
         "marker": {
          "color": "red"
         },
         "name": "",
         "orientation": "h",
         "text": [
          "Primary somatosensory area, barrel field, layer 1",
          "Primary somatosensory area, barrel field, layer 2/3",
          "Primary somatosensory area, barrel field, layer 4",
          "Primary somatosensory area, barrel field, layer 5",
          "Primary somatosensory area, barrel field, layer 6a",
          "corpus callosum, body",
          "Ventral auditory area, layer 5",
          "Ventral auditory area, layer 6a",
          "Primary auditory area, layer 6a",
          "Dorsal auditory area, layer 6a",
          "Supplemental somatosensory area, layer 6a",
          "cingulum bundle",
          "Primary somatosensory area, unassigned, layer 4",
          "Primary somatosensory area, unassigned, layer 5",
          "Primary somatosensory area, unassigned, layer 6a",
          "Primary somatosensory area, unassigned, layer 6b",
          "Primary somatosensory area, trunk, layer 4",
          "Primary somatosensory area, trunk, layer 5",
          "Primary somatosensory area, trunk, layer 6b",
          "Primary somatosensory area, upper limb, layer 6a",
          "Primary somatosensory area, upper limb, layer 6b",
          "Temporal association areas, layer 5",
          "supra-callosal cerebral white matter",
          "Primary somatosensory area, lower limb, layer 6b"
         ],
         "type": "bar",
         "x": [
          22.506,
          20.252,
          8.967,
          10.538,
          1.881,
          1.919,
          0.421,
          0.411,
          0.717,
          0.681,
          0.65,
          0.62,
          0.117,
          0.157,
          0.24,
          0.096,
          0.207,
          0.077,
          0.099,
          0.105,
          0.256,
          0.267,
          0.136,
          0.078
         ],
         "xaxis": "x",
         "y": [
          "SSp-bfd1",
          "SSp-bfd2/3",
          "SSp-bfd4",
          "SSp-bfd5",
          "SSp-bfd6a",
          "ccb",
          "AUDv5",
          "AUDv6a",
          "AUDp6a",
          "AUDd6a",
          "SSs6a",
          "cing",
          "SSp-un4",
          "SSp-un5",
          "SSp-un6a",
          "SSp-un6b",
          "SSp-tr4",
          "SSp-tr5",
          "SSp-tr6b",
          "SSp-ul6a",
          "SSp-ul6b",
          "TEa5",
          "scwm",
          "SSp-ll6b"
         ],
         "yaxis": "y"
        },
        {
         "hovertemplate": "<i>%{x}</i>, <b>%{text}</b>",
         "marker": {
          "color": "magenta"
         },
         "name": "",
         "orientation": "h",
         "text": [
          "corpus callosum, body"
         ],
         "type": "bar",
         "x": [
          1.799
         ],
         "xaxis": "x2",
         "y": [
          "ccb"
         ],
         "yaxis": "y2"
        },
        {
         "hovertemplate": "<i>%{x}</i>, <b>%{text}</b>",
         "marker": {
          "color": "black"
         },
         "name": "",
         "orientation": "h",
         "text": [
          "Primary somatosensory area, barrel field, layer 2/3",
          "Primary somatosensory area, barrel field, layer 1"
         ],
         "type": "bar",
         "x": [
          4.816,
          3.936
         ],
         "xaxis": "x3",
         "y": [
          "SSp-bfd2/3",
          "SSp-bfd1"
         ],
         "yaxis": "y3"
        }
       ],
       "layout": {
        "annotations": [
         {
          "font": {
           "size": 16
          },
          "showarrow": false,
          "text": "Left axons",
          "textangle": 90,
          "x": 0.98,
          "xanchor": "left",
          "xref": "paper",
          "y": 0.66,
          "yanchor": "middle",
          "yref": "paper"
         },
         {
          "font": {
           "size": 16
          },
          "showarrow": false,
          "text": "Right axons",
          "textangle": 90,
          "x": 0.98,
          "xanchor": "left",
          "xref": "paper",
          "y": 0.2,
          "yanchor": "middle",
          "yref": "paper"
         },
         {
          "font": {
           "size": 16
          },
          "showarrow": false,
          "text": "Dendrites",
          "textangle": 90,
          "x": 0.98,
          "xanchor": "left",
          "xref": "paper",
          "y": 0.04000000000000001,
          "yanchor": "middle",
          "yref": "paper"
         }
        ],
        "height": 1000,
        "paper_bgcolor": "rgba(0, 0, 0, 0)",
        "plot_bgcolor": "rgba(0, 0, 0, 0)",
        "showlegend": false,
        "template": {
         "data": {
          "bar": [
           {
            "error_x": {
             "color": "#2a3f5f"
            },
            "error_y": {
             "color": "#2a3f5f"
            },
            "marker": {
             "line": {
              "color": "#E5ECF6",
              "width": 0.5
             }
            },
            "type": "bar"
           }
          ],
          "barpolar": [
           {
            "marker": {
             "line": {
              "color": "#E5ECF6",
              "width": 0.5
             }
            },
            "type": "barpolar"
           }
          ],
          "carpet": [
           {
            "aaxis": {
             "endlinecolor": "#2a3f5f",
             "gridcolor": "white",
             "linecolor": "white",
             "minorgridcolor": "white",
             "startlinecolor": "#2a3f5f"
            },
            "baxis": {
             "endlinecolor": "#2a3f5f",
             "gridcolor": "white",
             "linecolor": "white",
             "minorgridcolor": "white",
             "startlinecolor": "#2a3f5f"
            },
            "type": "carpet"
           }
          ],
          "choropleth": [
           {
            "colorbar": {
             "outlinewidth": 0,
             "ticks": ""
            },
            "type": "choropleth"
           }
          ],
          "contour": [
           {
            "colorbar": {
             "outlinewidth": 0,
             "ticks": ""
            },
            "colorscale": [
             [
              0,
              "#0d0887"
             ],
             [
              0.1111111111111111,
              "#46039f"
             ],
             [
              0.2222222222222222,
              "#7201a8"
             ],
             [
              0.3333333333333333,
              "#9c179e"
             ],
             [
              0.4444444444444444,
              "#bd3786"
             ],
             [
              0.5555555555555556,
              "#d8576b"
             ],
             [
              0.6666666666666666,
              "#ed7953"
             ],
             [
              0.7777777777777778,
              "#fb9f3a"
             ],
             [
              0.8888888888888888,
              "#fdca26"
             ],
             [
              1,
              "#f0f921"
             ]
            ],
            "type": "contour"
           }
          ],
          "contourcarpet": [
           {
            "colorbar": {
             "outlinewidth": 0,
             "ticks": ""
            },
            "type": "contourcarpet"
           }
          ],
          "heatmap": [
           {
            "colorbar": {
             "outlinewidth": 0,
             "ticks": ""
            },
            "colorscale": [
             [
              0,
              "#0d0887"
             ],
             [
              0.1111111111111111,
              "#46039f"
             ],
             [
              0.2222222222222222,
              "#7201a8"
             ],
             [
              0.3333333333333333,
              "#9c179e"
             ],
             [
              0.4444444444444444,
              "#bd3786"
             ],
             [
              0.5555555555555556,
              "#d8576b"
             ],
             [
              0.6666666666666666,
              "#ed7953"
             ],
             [
              0.7777777777777778,
              "#fb9f3a"
             ],
             [
              0.8888888888888888,
              "#fdca26"
             ],
             [
              1,
              "#f0f921"
             ]
            ],
            "type": "heatmap"
           }
          ],
          "heatmapgl": [
           {
            "colorbar": {
             "outlinewidth": 0,
             "ticks": ""
            },
            "colorscale": [
             [
              0,
              "#0d0887"
             ],
             [
              0.1111111111111111,
              "#46039f"
             ],
             [
              0.2222222222222222,
              "#7201a8"
             ],
             [
              0.3333333333333333,
              "#9c179e"
             ],
             [
              0.4444444444444444,
              "#bd3786"
             ],
             [
              0.5555555555555556,
              "#d8576b"
             ],
             [
              0.6666666666666666,
              "#ed7953"
             ],
             [
              0.7777777777777778,
              "#fb9f3a"
             ],
             [
              0.8888888888888888,
              "#fdca26"
             ],
             [
              1,
              "#f0f921"
             ]
            ],
            "type": "heatmapgl"
           }
          ],
          "histogram": [
           {
            "marker": {
             "colorbar": {
              "outlinewidth": 0,
              "ticks": ""
             }
            },
            "type": "histogram"
           }
          ],
          "histogram2d": [
           {
            "colorbar": {
             "outlinewidth": 0,
             "ticks": ""
            },
            "colorscale": [
             [
              0,
              "#0d0887"
             ],
             [
              0.1111111111111111,
              "#46039f"
             ],
             [
              0.2222222222222222,
              "#7201a8"
             ],
             [
              0.3333333333333333,
              "#9c179e"
             ],
             [
              0.4444444444444444,
              "#bd3786"
             ],
             [
              0.5555555555555556,
              "#d8576b"
             ],
             [
              0.6666666666666666,
              "#ed7953"
             ],
             [
              0.7777777777777778,
              "#fb9f3a"
             ],
             [
              0.8888888888888888,
              "#fdca26"
             ],
             [
              1,
              "#f0f921"
             ]
            ],
            "type": "histogram2d"
           }
          ],
          "histogram2dcontour": [
           {
            "colorbar": {
             "outlinewidth": 0,
             "ticks": ""
            },
            "colorscale": [
             [
              0,
              "#0d0887"
             ],
             [
              0.1111111111111111,
              "#46039f"
             ],
             [
              0.2222222222222222,
              "#7201a8"
             ],
             [
              0.3333333333333333,
              "#9c179e"
             ],
             [
              0.4444444444444444,
              "#bd3786"
             ],
             [
              0.5555555555555556,
              "#d8576b"
             ],
             [
              0.6666666666666666,
              "#ed7953"
             ],
             [
              0.7777777777777778,
              "#fb9f3a"
             ],
             [
              0.8888888888888888,
              "#fdca26"
             ],
             [
              1,
              "#f0f921"
             ]
            ],
            "type": "histogram2dcontour"
           }
          ],
          "mesh3d": [
           {
            "colorbar": {
             "outlinewidth": 0,
             "ticks": ""
            },
            "type": "mesh3d"
           }
          ],
          "parcoords": [
           {
            "line": {
             "colorbar": {
              "outlinewidth": 0,
              "ticks": ""
             }
            },
            "type": "parcoords"
           }
          ],
          "pie": [
           {
            "automargin": true,
            "type": "pie"
           }
          ],
          "scatter": [
           {
            "marker": {
             "colorbar": {
              "outlinewidth": 0,
              "ticks": ""
             }
            },
            "type": "scatter"
           }
          ],
          "scatter3d": [
           {
            "line": {
             "colorbar": {
              "outlinewidth": 0,
              "ticks": ""
             }
            },
            "marker": {
             "colorbar": {
              "outlinewidth": 0,
              "ticks": ""
             }
            },
            "type": "scatter3d"
           }
          ],
          "scattercarpet": [
           {
            "marker": {
             "colorbar": {
              "outlinewidth": 0,
              "ticks": ""
             }
            },
            "type": "scattercarpet"
           }
          ],
          "scattergeo": [
           {
            "marker": {
             "colorbar": {
              "outlinewidth": 0,
              "ticks": ""
             }
            },
            "type": "scattergeo"
           }
          ],
          "scattergl": [
           {
            "marker": {
             "colorbar": {
              "outlinewidth": 0,
              "ticks": ""
             }
            },
            "type": "scattergl"
           }
          ],
          "scattermapbox": [
           {
            "marker": {
             "colorbar": {
              "outlinewidth": 0,
              "ticks": ""
             }
            },
            "type": "scattermapbox"
           }
          ],
          "scatterpolar": [
           {
            "marker": {
             "colorbar": {
              "outlinewidth": 0,
              "ticks": ""
             }
            },
            "type": "scatterpolar"
           }
          ],
          "scatterpolargl": [
           {
            "marker": {
             "colorbar": {
              "outlinewidth": 0,
              "ticks": ""
             }
            },
            "type": "scatterpolargl"
           }
          ],
          "scatterternary": [
           {
            "marker": {
             "colorbar": {
              "outlinewidth": 0,
              "ticks": ""
             }
            },
            "type": "scatterternary"
           }
          ],
          "surface": [
           {
            "colorbar": {
             "outlinewidth": 0,
             "ticks": ""
            },
            "colorscale": [
             [
              0,
              "#0d0887"
             ],
             [
              0.1111111111111111,
              "#46039f"
             ],
             [
              0.2222222222222222,
              "#7201a8"
             ],
             [
              0.3333333333333333,
              "#9c179e"
             ],
             [
              0.4444444444444444,
              "#bd3786"
             ],
             [
              0.5555555555555556,
              "#d8576b"
             ],
             [
              0.6666666666666666,
              "#ed7953"
             ],
             [
              0.7777777777777778,
              "#fb9f3a"
             ],
             [
              0.8888888888888888,
              "#fdca26"
             ],
             [
              1,
              "#f0f921"
             ]
            ],
            "type": "surface"
           }
          ],
          "table": [
           {
            "cells": {
             "fill": {
              "color": "#EBF0F8"
             },
             "line": {
              "color": "white"
             }
            },
            "header": {
             "fill": {
              "color": "#C8D4E3"
             },
             "line": {
              "color": "white"
             }
            },
            "type": "table"
           }
          ]
         },
         "layout": {
          "annotationdefaults": {
           "arrowcolor": "#2a3f5f",
           "arrowhead": 0,
           "arrowwidth": 1
          },
          "autotypenumbers": "strict",
          "coloraxis": {
           "colorbar": {
            "outlinewidth": 0,
            "ticks": ""
           }
          },
          "colorscale": {
           "diverging": [
            [
             0,
             "#8e0152"
            ],
            [
             0.1,
             "#c51b7d"
            ],
            [
             0.2,
             "#de77ae"
            ],
            [
             0.3,
             "#f1b6da"
            ],
            [
             0.4,
             "#fde0ef"
            ],
            [
             0.5,
             "#f7f7f7"
            ],
            [
             0.6,
             "#e6f5d0"
            ],
            [
             0.7,
             "#b8e186"
            ],
            [
             0.8,
             "#7fbc41"
            ],
            [
             0.9,
             "#4d9221"
            ],
            [
             1,
             "#276419"
            ]
           ],
           "sequential": [
            [
             0,
             "#0d0887"
            ],
            [
             0.1111111111111111,
             "#46039f"
            ],
            [
             0.2222222222222222,
             "#7201a8"
            ],
            [
             0.3333333333333333,
             "#9c179e"
            ],
            [
             0.4444444444444444,
             "#bd3786"
            ],
            [
             0.5555555555555556,
             "#d8576b"
            ],
            [
             0.6666666666666666,
             "#ed7953"
            ],
            [
             0.7777777777777778,
             "#fb9f3a"
            ],
            [
             0.8888888888888888,
             "#fdca26"
            ],
            [
             1,
             "#f0f921"
            ]
           ],
           "sequentialminus": [
            [
             0,
             "#0d0887"
            ],
            [
             0.1111111111111111,
             "#46039f"
            ],
            [
             0.2222222222222222,
             "#7201a8"
            ],
            [
             0.3333333333333333,
             "#9c179e"
            ],
            [
             0.4444444444444444,
             "#bd3786"
            ],
            [
             0.5555555555555556,
             "#d8576b"
            ],
            [
             0.6666666666666666,
             "#ed7953"
            ],
            [
             0.7777777777777778,
             "#fb9f3a"
            ],
            [
             0.8888888888888888,
             "#fdca26"
            ],
            [
             1,
             "#f0f921"
            ]
           ]
          },
          "colorway": [
           "#636efa",
           "#EF553B",
           "#00cc96",
           "#ab63fa",
           "#FFA15A",
           "#19d3f3",
           "#FF6692",
           "#B6E880",
           "#FF97FF",
           "#FECB52"
          ],
          "font": {
           "color": "#2a3f5f"
          },
          "geo": {
           "bgcolor": "white",
           "lakecolor": "white",
           "landcolor": "#E5ECF6",
           "showlakes": true,
           "showland": true,
           "subunitcolor": "white"
          },
          "hoverlabel": {
           "align": "left"
          },
          "hovermode": "closest",
          "mapbox": {
           "style": "light"
          },
          "paper_bgcolor": "white",
          "plot_bgcolor": "#E5ECF6",
          "polar": {
           "angularaxis": {
            "gridcolor": "white",
            "linecolor": "white",
            "ticks": ""
           },
           "bgcolor": "#E5ECF6",
           "radialaxis": {
            "gridcolor": "white",
            "linecolor": "white",
            "ticks": ""
           }
          },
          "scene": {
           "xaxis": {
            "backgroundcolor": "#E5ECF6",
            "gridcolor": "white",
            "gridwidth": 2,
            "linecolor": "white",
            "showbackground": true,
            "ticks": "",
            "zerolinecolor": "white"
           },
           "yaxis": {
            "backgroundcolor": "#E5ECF6",
            "gridcolor": "white",
            "gridwidth": 2,
            "linecolor": "white",
            "showbackground": true,
            "ticks": "",
            "zerolinecolor": "white"
           },
           "zaxis": {
            "backgroundcolor": "#E5ECF6",
            "gridcolor": "white",
            "gridwidth": 2,
            "linecolor": "white",
            "showbackground": true,
            "ticks": "",
            "zerolinecolor": "white"
           }
          },
          "shapedefaults": {
           "line": {
            "color": "#2a3f5f"
           }
          },
          "ternary": {
           "aaxis": {
            "gridcolor": "white",
            "linecolor": "white",
            "ticks": ""
           },
           "baxis": {
            "gridcolor": "white",
            "linecolor": "white",
            "ticks": ""
           },
           "bgcolor": "#E5ECF6",
           "caxis": {
            "gridcolor": "white",
            "linecolor": "white",
            "ticks": ""
           }
          },
          "title": {
           "x": 0.05
          },
          "xaxis": {
           "automargin": true,
           "gridcolor": "white",
           "linecolor": "white",
           "ticks": "",
           "title": {
            "standoff": 15
           },
           "zerolinecolor": "white",
           "zerolinewidth": 2
          },
          "yaxis": {
           "automargin": true,
           "gridcolor": "white",
           "linecolor": "white",
           "ticks": "",
           "title": {
            "standoff": 15
           },
           "zerolinecolor": "white",
           "zerolinewidth": 2
          }
         }
        },
        "width": 2000,
        "xaxis": {
         "anchor": "y",
         "autorange": true,
         "domain": [
          0,
          0.98
         ],
         "gridcolor": "gold",
         "range": [
          0,
          23.690526315789473
         ],
         "type": "linear"
        },
        "xaxis2": {
         "anchor": "y2",
         "autorange": true,
         "domain": [
          0,
          0.98
         ],
         "gridcolor": "gold",
         "range": [
          0,
          1.8936842105263156
         ],
         "type": "linear"
        },
        "xaxis3": {
         "anchor": "y3",
         "autorange": true,
         "domain": [
          0,
          0.98
         ],
         "gridcolor": "gold",
         "range": [
          0,
          5.069473684210526
         ],
         "type": "linear"
        },
        "yaxis": {
         "anchor": "x",
         "autorange": true,
         "categoryorder": "trace",
         "domain": [
          0.32,
          1
         ],
         "range": [
          -0.5,
          23.5
         ],
         "type": "category"
        },
        "yaxis2": {
         "anchor": "x2",
         "autorange": true,
         "domain": [
          0.18,
          0.22
         ],
         "range": [
          -0.5,
          0.5
         ],
         "type": "category"
        },
        "yaxis3": {
         "anchor": "x3",
         "autorange": true,
         "domain": [
          0,
          0.08000000000000002
         ],
         "range": [
          -0.5,
          1.5
         ],
         "type": "category"
        }
       }
      },
      "image/png": "[encoded data removed]",
      "text/html": [
       "<div>                            <div id=\"0c0dae4e-69d8-4267-8199-d03f6487baac\" class=\"plotly-graph-div\" style=\"height:1000px; width:2000px;\"></div>            <script type=\"text/javascript\">                require([\"plotly\"], function(Plotly) {                    window.PLOTLYENV=window.PLOTLYENV || {};                                    if (document.getElementById(\"0c0dae4e-69d8-4267-8199-d03f6487baac\")) {                    Plotly.newPlot(                        \"0c0dae4e-69d8-4267-8199-d03f6487baac\",                        [{\"hovertemplate\": \"<i>%{x}</i>, <b>%{text}</b>\", \"marker\": {\"color\": \"red\"}, \"name\": \"\", \"orientation\": \"h\", \"text\": [\"Primary somatosensory area, barrel field, layer 1\", \"Primary somatosensory area, barrel field, layer 2/3\", \"Primary somatosensory area, barrel field, layer 4\", \"Primary somatosensory area, barrel field, layer 5\", \"Primary somatosensory area, barrel field, layer 6a\", \"corpus callosum, body\", \"Ventral auditory area, layer 5\", \"Ventral auditory area, layer 6a\", \"Primary auditory area, layer 6a\", \"Dorsal auditory area, layer 6a\", \"Supplemental somatosensory area, layer 6a\", \"cingulum bundle\", \"Primary somatosensory area, unassigned, layer 4\", \"Primary somatosensory area, unassigned, layer 5\", \"Primary somatosensory area, unassigned, layer 6a\", \"Primary somatosensory area, unassigned, layer 6b\", \"Primary somatosensory area, trunk, layer 4\", \"Primary somatosensory area, trunk, layer 5\", \"Primary somatosensory area, trunk, layer 6b\", \"Primary somatosensory area, upper limb, layer 6a\", \"Primary somatosensory area, upper limb, layer 6b\", \"Temporal association areas, layer 5\", \"supra-callosal cerebral white matter\", \"Primary somatosensory area, lower limb, layer 6b\"], \"type\": \"bar\", \"x\": [22.506, 20.252, 8.967, 10.538, 1.881, 1.919, 0.421, 0.411, 0.717, 0.681, 0.65, 0.62, 0.117, 0.157, 0.24, 0.096, 0.207, 0.077, 0.099, 0.105, 0.256, 0.267, 0.136, 0.078], \"xaxis\": \"x\", \"y\": [\"SSp-bfd1\", \"SSp-bfd2/3\", \"SSp-bfd4\", \"SSp-bfd5\", \"SSp-bfd6a\", \"ccb\", \"AUDv5\", \"AUDv6a\", \"AUDp6a\", \"AUDd6a\", \"SSs6a\", \"cing\", \"SSp-un4\", \"SSp-un5\", \"SSp-un6a\", \"SSp-un6b\", \"SSp-tr4\", \"SSp-tr5\", \"SSp-tr6b\", \"SSp-ul6a\", \"SSp-ul6b\", \"TEa5\", \"scwm\", \"SSp-ll6b\"], \"yaxis\": \"y\"}, {\"hovertemplate\": \"<i>%{x}</i>, <b>%{text}</b>\", \"marker\": {\"color\": \"magenta\"}, \"name\": \"\", \"orientation\": \"h\", \"text\": [\"corpus callosum, body\"], \"type\": \"bar\", \"x\": [1.799], \"xaxis\": \"x2\", \"y\": [\"ccb\"], \"yaxis\": \"y2\"}, {\"hovertemplate\": \"<i>%{x}</i>, <b>%{text}</b>\", \"marker\": {\"color\": \"black\"}, \"name\": \"\", \"orientation\": \"h\", \"text\": [\"Primary somatosensory area, barrel field, layer 2/3\", \"Primary somatosensory area, barrel field, layer 1\"], \"type\": \"bar\", \"x\": [4.816, 3.936], \"xaxis\": \"x3\", \"y\": [\"SSp-bfd2/3\", \"SSp-bfd1\"], \"yaxis\": \"y3\"}],                        {\"annotations\": [{\"font\": {\"size\": 16}, \"showarrow\": false, \"text\": \"Left axons\", \"textangle\": 90, \"x\": 0.98, \"xanchor\": \"left\", \"xref\": \"paper\", \"y\": 0.66, \"yanchor\": \"middle\", \"yref\": \"paper\"}, {\"font\": {\"size\": 16}, \"showarrow\": false, \"text\": \"Right axons\", \"textangle\": 90, \"x\": 0.98, \"xanchor\": \"left\", \"xref\": \"paper\", \"y\": 0.2, \"yanchor\": \"middle\", \"yref\": \"paper\"}, {\"font\": {\"size\": 16}, \"showarrow\": false, \"text\": \"Dendrites\", \"textangle\": 90, \"x\": 0.98, \"xanchor\": \"left\", \"xref\": \"paper\", \"y\": 0.04000000000000001, \"yanchor\": \"middle\", \"yref\": \"paper\"}], \"height\": 1000, \"paper_bgcolor\": \"rgba(0,0,0,0)\", \"plot_bgcolor\": \"rgba(0,0,0,0)\", \"showlegend\": false, \"template\": {\"data\": {\"bar\": [{\"error_x\": {\"color\": \"#2a3f5f\"}, \"error_y\": {\"color\": \"#2a3f5f\"}, \"marker\": {\"line\": {\"color\": \"#E5ECF6\", \"width\": 0.5}}, \"type\": \"bar\"}], \"barpolar\": [{\"marker\": {\"line\": {\"color\": \"#E5ECF6\", \"width\": 0.5}}, \"type\": \"barpolar\"}], \"carpet\": [{\"aaxis\": {\"endlinecolor\": \"#2a3f5f\", \"gridcolor\": \"white\", \"linecolor\": \"white\", \"minorgridcolor\": \"white\", \"startlinecolor\": \"#2a3f5f\"}, \"baxis\": {\"endlinecolor\": \"#2a3f5f\", \"gridcolor\": \"white\", \"linecolor\": \"white\", \"minorgridcolor\": \"white\", \"startlinecolor\": \"#2a3f5f\"}, \"type\": \"carpet\"}], \"choropleth\": [{\"colorbar\": {\"outlinewidth\": 0, \"ticks\": \"\"}, \"type\": \"choropleth\"}], \"contour\": [{\"colorbar\": {\"outlinewidth\": 0, \"ticks\": \"\"}, \"colorscale\": [[0.0, \"#0d0887\"], [0.1111111111111111, \"#46039f\"], [0.2222222222222222, \"#7201a8\"], [0.3333333333333333, \"#9c179e\"], [0.4444444444444444, \"#bd3786\"], [0.5555555555555556, \"#d8576b\"], [0.6666666666666666, \"#ed7953\"], [0.7777777777777778, \"#fb9f3a\"], [0.8888888888888888, \"#fdca26\"], [1.0, \"#f0f921\"]], \"type\": \"contour\"}], \"contourcarpet\": [{\"colorbar\": {\"outlinewidth\": 0, \"ticks\": \"\"}, \"type\": \"contourcarpet\"}], \"heatmap\": [{\"colorbar\": {\"outlinewidth\": 0, \"ticks\": \"\"}, \"colorscale\": [[0.0, \"#0d0887\"], [0.1111111111111111, \"#46039f\"], [0.2222222222222222, \"#7201a8\"], [0.3333333333333333, \"#9c179e\"], [0.4444444444444444, \"#bd3786\"], [0.5555555555555556, \"#d8576b\"], [0.6666666666666666, \"#ed7953\"], [0.7777777777777778, \"#fb9f3a\"], [0.8888888888888888, \"#fdca26\"], [1.0, \"#f0f921\"]], \"type\": \"heatmap\"}], \"heatmapgl\": [{\"colorbar\": {\"outlinewidth\": 0, \"ticks\": \"\"}, \"colorscale\": [[0.0, \"#0d0887\"], [0.1111111111111111, \"#46039f\"], [0.2222222222222222, \"#7201a8\"], [0.3333333333333333, \"#9c179e\"], [0.4444444444444444, \"#bd3786\"], [0.5555555555555556, \"#d8576b\"], [0.6666666666666666, \"#ed7953\"], [0.7777777777777778, \"#fb9f3a\"], [0.8888888888888888, \"#fdca26\"], [1.0, \"#f0f921\"]], \"type\": \"heatmapgl\"}], \"histogram\": [{\"marker\": {\"colorbar\": {\"outlinewidth\": 0, \"ticks\": \"\"}}, \"type\": \"histogram\"}], \"histogram2d\": [{\"colorbar\": {\"outlinewidth\": 0, \"ticks\": \"\"}, \"colorscale\": [[0.0, \"#0d0887\"], [0.1111111111111111, \"#46039f\"], [0.2222222222222222, \"#7201a8\"], [0.3333333333333333, \"#9c179e\"], [0.4444444444444444, \"#bd3786\"], [0.5555555555555556, \"#d8576b\"], [0.6666666666666666, \"#ed7953\"], [0.7777777777777778, \"#fb9f3a\"], [0.8888888888888888, \"#fdca26\"], [1.0, \"#f0f921\"]], \"type\": \"histogram2d\"}], \"histogram2dcontour\": [{\"colorbar\": {\"outlinewidth\": 0, \"ticks\": \"\"}, \"colorscale\": [[0.0, \"#0d0887\"], [0.1111111111111111, \"#46039f\"], [0.2222222222222222, \"#7201a8\"], [0.3333333333333333, \"#9c179e\"], [0.4444444444444444, \"#bd3786\"], [0.5555555555555556, \"#d8576b\"], [0.6666666666666666, \"#ed7953\"], [0.7777777777777778, \"#fb9f3a\"], [0.8888888888888888, \"#fdca26\"], [1.0, \"#f0f921\"]], \"type\": \"histogram2dcontour\"}], \"mesh3d\": [{\"colorbar\": {\"outlinewidth\": 0, \"ticks\": \"\"}, \"type\": \"mesh3d\"}], \"parcoords\": [{\"line\": {\"colorbar\": {\"outlinewidth\": 0, \"ticks\": \"\"}}, \"type\": \"parcoords\"}], \"pie\": [{\"automargin\": true, \"type\": \"pie\"}], \"scatter\": [{\"marker\": {\"colorbar\": {\"outlinewidth\": 0, \"ticks\": \"\"}}, \"type\": \"scatter\"}], \"scatter3d\": [{\"line\": {\"colorbar\": {\"outlinewidth\": 0, \"ticks\": \"\"}}, \"marker\": {\"colorbar\": {\"outlinewidth\": 0, \"ticks\": \"\"}}, \"type\": \"scatter3d\"}], \"scattercarpet\": [{\"marker\": {\"colorbar\": {\"outlinewidth\": 0, \"ticks\": \"\"}}, \"type\": \"scattercarpet\"}], \"scattergeo\": [{\"marker\": {\"colorbar\": {\"outlinewidth\": 0, \"ticks\": \"\"}}, \"type\": \"scattergeo\"}], \"scattergl\": [{\"marker\": {\"colorbar\": {\"outlinewidth\": 0, \"ticks\": \"\"}}, \"type\": \"scattergl\"}], \"scattermapbox\": [{\"marker\": {\"colorbar\": {\"outlinewidth\": 0, \"ticks\": \"\"}}, \"type\": \"scattermapbox\"}], \"scatterpolar\": [{\"marker\": {\"colorbar\": {\"outlinewidth\": 0, \"ticks\": \"\"}}, \"type\": \"scatterpolar\"}], \"scatterpolargl\": [{\"marker\": {\"colorbar\": {\"outlinewidth\": 0, \"ticks\": \"\"}}, \"type\": \"scatterpolargl\"}], \"scatterternary\": [{\"marker\": {\"colorbar\": {\"outlinewidth\": 0, \"ticks\": \"\"}}, \"type\": \"scatterternary\"}], \"surface\": [{\"colorbar\": {\"outlinewidth\": 0, \"ticks\": \"\"}, \"colorscale\": [[0.0, \"#0d0887\"], [0.1111111111111111, \"#46039f\"], [0.2222222222222222, \"#7201a8\"], [0.3333333333333333, \"#9c179e\"], [0.4444444444444444, \"#bd3786\"], [0.5555555555555556, \"#d8576b\"], [0.6666666666666666, \"#ed7953\"], [0.7777777777777778, \"#fb9f3a\"], [0.8888888888888888, \"#fdca26\"], [1.0, \"#f0f921\"]], \"type\": \"surface\"}], \"table\": [{\"cells\": {\"fill\": {\"color\": \"#EBF0F8\"}, \"line\": {\"color\": \"white\"}}, \"header\": {\"fill\": {\"color\": \"#C8D4E3\"}, \"line\": {\"color\": \"white\"}}, \"type\": \"table\"}]}, \"layout\": {\"annotationdefaults\": {\"arrowcolor\": \"#2a3f5f\", \"arrowhead\": 0, \"arrowwidth\": 1}, \"autotypenumbers\": \"strict\", \"coloraxis\": {\"colorbar\": {\"outlinewidth\": 0, \"ticks\": \"\"}}, \"colorscale\": {\"diverging\": [[0, \"#8e0152\"], [0.1, \"#c51b7d\"], [0.2, \"#de77ae\"], [0.3, \"#f1b6da\"], [0.4, \"#fde0ef\"], [0.5, \"#f7f7f7\"], [0.6, \"#e6f5d0\"], [0.7, \"#b8e186\"], [0.8, \"#7fbc41\"], [0.9, \"#4d9221\"], [1, \"#276419\"]], \"sequential\": [[0.0, \"#0d0887\"], [0.1111111111111111, \"#46039f\"], [0.2222222222222222, \"#7201a8\"], [0.3333333333333333, \"#9c179e\"], [0.4444444444444444, \"#bd3786\"], [0.5555555555555556, \"#d8576b\"], [0.6666666666666666, \"#ed7953\"], [0.7777777777777778, \"#fb9f3a\"], [0.8888888888888888, \"#fdca26\"], [1.0, \"#f0f921\"]], \"sequentialminus\": [[0.0, \"#0d0887\"], [0.1111111111111111, \"#46039f\"], [0.2222222222222222, \"#7201a8\"], [0.3333333333333333, \"#9c179e\"], [0.4444444444444444, \"#bd3786\"], [0.5555555555555556, \"#d8576b\"], [0.6666666666666666, \"#ed7953\"], [0.7777777777777778, \"#fb9f3a\"], [0.8888888888888888, \"#fdca26\"], [1.0, \"#f0f921\"]]}, \"colorway\": [\"#636efa\", \"#EF553B\", \"#00cc96\", \"#ab63fa\", \"#FFA15A\", \"#19d3f3\", \"#FF6692\", \"#B6E880\", \"#FF97FF\", \"#FECB52\"], \"font\": {\"color\": \"#2a3f5f\"}, \"geo\": {\"bgcolor\": \"white\", \"lakecolor\": \"white\", \"landcolor\": \"#E5ECF6\", \"showlakes\": true, \"showland\": true, \"subunitcolor\": \"white\"}, \"hoverlabel\": {\"align\": \"left\"}, \"hovermode\": \"closest\", \"mapbox\": {\"style\": \"light\"}, \"paper_bgcolor\": \"white\", \"plot_bgcolor\": \"#E5ECF6\", \"polar\": {\"angularaxis\": {\"gridcolor\": \"white\", \"linecolor\": \"white\", \"ticks\": \"\"}, \"bgcolor\": \"#E5ECF6\", \"radialaxis\": {\"gridcolor\": \"white\", \"linecolor\": \"white\", \"ticks\": \"\"}}, \"scene\": {\"xaxis\": {\"backgroundcolor\": \"#E5ECF6\", \"gridcolor\": \"white\", \"gridwidth\": 2, \"linecolor\": \"white\", \"showbackground\": true, \"ticks\": \"\", \"zerolinecolor\": \"white\"}, \"yaxis\": {\"backgroundcolor\": \"#E5ECF6\", \"gridcolor\": \"white\", \"gridwidth\": 2, \"linecolor\": \"white\", \"showbackground\": true, \"ticks\": \"\", \"zerolinecolor\": \"white\"}, \"zaxis\": {\"backgroundcolor\": \"#E5ECF6\", \"gridcolor\": \"white\", \"gridwidth\": 2, \"linecolor\": \"white\", \"showbackground\": true, \"ticks\": \"\", \"zerolinecolor\": \"white\"}}, \"shapedefaults\": {\"line\": {\"color\": \"#2a3f5f\"}}, \"ternary\": {\"aaxis\": {\"gridcolor\": \"white\", \"linecolor\": \"white\", \"ticks\": \"\"}, \"baxis\": {\"gridcolor\": \"white\", \"linecolor\": \"white\", \"ticks\": \"\"}, \"bgcolor\": \"#E5ECF6\", \"caxis\": {\"gridcolor\": \"white\", \"linecolor\": \"white\", \"ticks\": \"\"}}, \"title\": {\"x\": 0.05}, \"xaxis\": {\"automargin\": true, \"gridcolor\": \"white\", \"linecolor\": \"white\", \"ticks\": \"\", \"title\": {\"standoff\": 15}, \"zerolinecolor\": \"white\", \"zerolinewidth\": 2}, \"yaxis\": {\"automargin\": true, \"gridcolor\": \"white\", \"linecolor\": \"white\", \"ticks\": \"\", \"title\": {\"standoff\": 15}, \"zerolinecolor\": \"white\", \"zerolinewidth\": 2}}}, \"width\": 2000, \"xaxis\": {\"anchor\": \"y\", \"domain\": [0.0, 0.98], \"gridcolor\": \"gold\"}, \"xaxis2\": {\"anchor\": \"y2\", \"domain\": [0.0, 0.98], \"gridcolor\": \"gold\"}, \"xaxis3\": {\"anchor\": \"y3\", \"domain\": [0.0, 0.98], \"gridcolor\": \"gold\"}, \"yaxis\": {\"anchor\": \"x\", \"categoryorder\": \"trace\", \"domain\": [0.32, 1.0]}, \"yaxis2\": {\"anchor\": \"x2\", \"domain\": [0.18, 0.22]}, \"yaxis3\": {\"anchor\": \"x3\", \"domain\": [0.0, 0.08000000000000002]}},                        {\"responsive\": true}                    ).then(function(){\n",
       "                            \n",
       "var gd = document.getElementById('0c0dae4e-69d8-4267-8199-d03f6487baac');\n",
       "var x = new MutationObserver(function (mutations, observer) {{\n",
       "        var display = window.getComputedStyle(gd).display;\n",
       "        if (!display || display === 'none') {{\n",
       "            console.log([gd, 'removed!']);\n",
       "            Plotly.purge(gd);\n",
       "            observer.disconnect();\n",
       "        }}\n",
       "}});\n",
       "\n",
       "// Listen for the removal of the full notebook cells\n",
       "var notebookContainer = gd.closest('#notebook-container');\n",
       "if (notebookContainer) {{\n",
       "    x.observe(notebookContainer, {childList: true});\n",
       "}}\n",
       "\n",
       "// Listen for the clearing of the current output cell\n",
       "var outputEl = gd.closest('.output');\n",
       "if (outputEl) {{\n",
       "    x.observe(outputEl, {childList: true});\n",
       "}}\n",
       "\n",
       "                        })                };                });            </script>        </div>"
      ]
     },
     "metadata": {},
     "output_type": "display_data"
    }
   ],
   "source": [
    "plot_hist(new_axonL,new_axonR,regionsD,out_name)"
   ]
  },
  {
   "cell_type": "markdown",
   "metadata": {},
   "source": [
    "## Plots the non'downsampled points in 3d space \n",
    "WORK IN PROGRESS!!!"
   ]
  },
  {
   "cell_type": "code",
   "execution_count": 18,
   "metadata": {},
   "outputs": [
    {
     "name": "stdout",
     "output_type": "stream",
     "text": [
      "4.5.0\n"
     ]
    },
    {
     "data": {
      "text/html": [
       "        <script type=\"text/javascript\">\n",
       "        window.PlotlyConfig = {MathJaxConfig: 'local'};\n",
       "        if (window.MathJax) {MathJax.Hub.Config({SVG: {font: \"STIX-Web\"}});}\n",
       "        if (typeof require !== 'undefined') {\n",
       "        require.undef(\"plotly\");\n",
       "        requirejs.config({\n",
       "            paths: {\n",
       "                'plotly': ['https://cdn.plot.ly/plotly-latest.min']\n",
       "            }\n",
       "        });\n",
       "        require(['plotly'], function(Plotly) {\n",
       "            window._Plotly = Plotly;\n",
       "        });\n",
       "        }\n",
       "        </script>\n",
       "        "
      ]
     },
     "metadata": {},
     "output_type": "display_data"
    }
   ],
   "source": [
    "import plotly\n",
    "import plotly.graph_objects as go\n",
    "from plotly import __version__\n",
    "print(__version__)\n",
    "\n",
    "\n",
    "from plotly.offline import download_plotlyjs, init_notebook_mode, plot, iplot\n",
    "init_notebook_mode(connected=True)"
   ]
  },
  {
   "cell_type": "code",
   "execution_count": 19,
   "metadata": {},
   "outputs": [
    {
     "data": {
      "text/html": [
       "<div>\n",
       "<style scoped>\n",
       "    .dataframe tbody tr th:only-of-type {\n",
       "        vertical-align: middle;\n",
       "    }\n",
       "\n",
       "    .dataframe tbody tr th {\n",
       "        vertical-align: top;\n",
       "    }\n",
       "\n",
       "    .dataframe thead th {\n",
       "        text-align: right;\n",
       "    }\n",
       "</style>\n",
       "<table border=\"1\" class=\"dataframe\">\n",
       "  <thead>\n",
       "    <tr style=\"text-align: right;\">\n",
       "      <th></th>\n",
       "      <th>#id</th>\n",
       "      <th>type</th>\n",
       "      <th>x</th>\n",
       "      <th>y</th>\n",
       "      <th>z</th>\n",
       "      <th>r</th>\n",
       "      <th>pid</th>\n",
       "    </tr>\n",
       "  </thead>\n",
       "  <tbody>\n",
       "    <tr>\n",
       "      <th>0</th>\n",
       "      <td>1</td>\n",
       "      <td>3</td>\n",
       "      <td>4811.63</td>\n",
       "      <td>2360.22</td>\n",
       "      <td>3550.49</td>\n",
       "      <td>1</td>\n",
       "      <td>2</td>\n",
       "    </tr>\n",
       "    <tr>\n",
       "      <th>1</th>\n",
       "      <td>2</td>\n",
       "      <td>3</td>\n",
       "      <td>4812.59</td>\n",
       "      <td>2360.24</td>\n",
       "      <td>3550.77</td>\n",
       "      <td>1</td>\n",
       "      <td>3</td>\n",
       "    </tr>\n",
       "    <tr>\n",
       "      <th>2</th>\n",
       "      <td>3</td>\n",
       "      <td>3</td>\n",
       "      <td>4813.55</td>\n",
       "      <td>2360.27</td>\n",
       "      <td>3551.06</td>\n",
       "      <td>1</td>\n",
       "      <td>4</td>\n",
       "    </tr>\n",
       "    <tr>\n",
       "      <th>3</th>\n",
       "      <td>4</td>\n",
       "      <td>3</td>\n",
       "      <td>4814.49</td>\n",
       "      <td>2360.24</td>\n",
       "      <td>3551.37</td>\n",
       "      <td>1</td>\n",
       "      <td>5</td>\n",
       "    </tr>\n",
       "    <tr>\n",
       "      <th>4</th>\n",
       "      <td>5</td>\n",
       "      <td>3</td>\n",
       "      <td>4815.36</td>\n",
       "      <td>2360.01</td>\n",
       "      <td>3551.81</td>\n",
       "      <td>1</td>\n",
       "      <td>6</td>\n",
       "    </tr>\n",
       "  </tbody>\n",
       "</table>\n",
       "</div>"
      ],
      "text/plain": [
       "  #id type        x        y        z  r pid\n",
       "0   1    3  4811.63  2360.22  3550.49  1   2\n",
       "1   2    3  4812.59  2360.24  3550.77  1   3\n",
       "2   3    3  4813.55  2360.27  3551.06  1   4\n",
       "3   4    3  4814.49  2360.24  3551.37  1   5\n",
       "4   5    3  4815.36  2360.01  3551.81  1   6"
      ]
     },
     "execution_count": 19,
     "metadata": {},
     "output_type": "execute_result"
    }
   ],
   "source": [
    "ori_points_name=fdialog.askopenfile( title='Select the converted&resampled origional points').name\n",
    "\n",
    "#Load the origional points\n",
    "anno=open(ori_points_name,'r')\n",
    "anno_data=anno.readlines()\n",
    "# heading is stored in anno_data[2], 1st line basically useless\n",
    "\n",
    "headings=anno_data[2].rstrip('\\n').replace(' ', '').split(',')\n",
    "annotations=[lines.rstrip(' 0\\n').split(' ') for lines in anno_data[3:]]\n",
    "#slight modification on replacing and stripping due to the format of the resampled swc\n",
    "annotation_df=pd.DataFrame(annotations, columns=headings)\n",
    "\n",
    "annotation_df.head()"
   ]
  },
  {
   "cell_type": "code",
   "execution_count": 20,
   "metadata": {},
   "outputs": [
    {
     "data": {
      "text/html": [
       "<div>\n",
       "<style scoped>\n",
       "    .dataframe tbody tr th:only-of-type {\n",
       "        vertical-align: middle;\n",
       "    }\n",
       "\n",
       "    .dataframe tbody tr th {\n",
       "        vertical-align: top;\n",
       "    }\n",
       "\n",
       "    .dataframe thead th {\n",
       "        text-align: right;\n",
       "    }\n",
       "</style>\n",
       "<table border=\"1\" class=\"dataframe\">\n",
       "  <thead>\n",
       "    <tr style=\"text-align: right;\">\n",
       "      <th></th>\n",
       "      <th>x</th>\n",
       "      <th>y</th>\n",
       "      <th>z</th>\n",
       "      <th>atlasID</th>\n",
       "    </tr>\n",
       "  </thead>\n",
       "  <tbody>\n",
       "    <tr>\n",
       "      <th>0</th>\n",
       "      <td>4811.63</td>\n",
       "      <td>2360.22</td>\n",
       "      <td>3550.49</td>\n",
       "      <td>971</td>\n",
       "    </tr>\n",
       "    <tr>\n",
       "      <th>1</th>\n",
       "      <td>4812.59</td>\n",
       "      <td>2360.24</td>\n",
       "      <td>3550.77</td>\n",
       "      <td>971</td>\n",
       "    </tr>\n",
       "    <tr>\n",
       "      <th>2</th>\n",
       "      <td>4813.55</td>\n",
       "      <td>2360.27</td>\n",
       "      <td>3551.06</td>\n",
       "      <td>971</td>\n",
       "    </tr>\n",
       "    <tr>\n",
       "      <th>3</th>\n",
       "      <td>4814.49</td>\n",
       "      <td>2360.24</td>\n",
       "      <td>3551.37</td>\n",
       "      <td>971</td>\n",
       "    </tr>\n",
       "    <tr>\n",
       "      <th>4</th>\n",
       "      <td>4815.36</td>\n",
       "      <td>2360.01</td>\n",
       "      <td>3551.81</td>\n",
       "      <td>971</td>\n",
       "    </tr>\n",
       "    <tr>\n",
       "      <th>5</th>\n",
       "      <td>4816.23</td>\n",
       "      <td>2359.79</td>\n",
       "      <td>3552.25</td>\n",
       "      <td>971</td>\n",
       "    </tr>\n",
       "    <tr>\n",
       "      <th>6</th>\n",
       "      <td>4817.13</td>\n",
       "      <td>2359.73</td>\n",
       "      <td>3552.67</td>\n",
       "      <td>971</td>\n",
       "    </tr>\n",
       "    <tr>\n",
       "      <th>7</th>\n",
       "      <td>4818.03</td>\n",
       "      <td>2359.75</td>\n",
       "      <td>3553.1</td>\n",
       "      <td>971</td>\n",
       "    </tr>\n",
       "    <tr>\n",
       "      <th>8</th>\n",
       "      <td>4818.89</td>\n",
       "      <td>2360</td>\n",
       "      <td>3553.54</td>\n",
       "      <td>971</td>\n",
       "    </tr>\n",
       "    <tr>\n",
       "      <th>9</th>\n",
       "      <td>4819.75</td>\n",
       "      <td>2360.24</td>\n",
       "      <td>3553.99</td>\n",
       "      <td>971</td>\n",
       "    </tr>\n",
       "  </tbody>\n",
       "</table>\n",
       "</div>"
      ],
      "text/plain": [
       "         x        y        z  atlasID\n",
       "0  4811.63  2360.22  3550.49      971\n",
       "1  4812.59  2360.24  3550.77      971\n",
       "2  4813.55  2360.27  3551.06      971\n",
       "3  4814.49  2360.24  3551.37      971\n",
       "4  4815.36  2360.01  3551.81      971\n",
       "5  4816.23  2359.79  3552.25      971\n",
       "6  4817.13  2359.73  3552.67      971\n",
       "7  4818.03  2359.75   3553.1      971\n",
       "8  4818.89     2360  3553.54      971\n",
       "9  4819.75  2360.24  3553.99      971"
      ]
     },
     "execution_count": 20,
     "metadata": {},
     "output_type": "execute_result"
    }
   ],
   "source": [
    "points_with_id= pd.DataFrame (zip(annotation_df['x'],annotation_df['y'], annotation_df['z'],points_in_atlas ), columns=['x', 'y','z', 'atlasID'])\n",
    "points_with_id.to_csv (outdir+'/resamp_oripoints_withID.csv', index = None, header=True) #Don't forget to add '.csv' at the end of the path\n",
    "points_with_id.head(10)"
   ]
  },
  {
   "cell_type": "code",
   "execution_count": 21,
   "metadata": {},
   "outputs": [
    {
     "data": {
      "text/plain": [
       "102165"
      ]
     },
     "execution_count": 21,
     "metadata": {},
     "output_type": "execute_result"
    }
   ],
   "source": [
    "len(points_with_id)\n",
    "# this is the total length (in um) of the trace if the trace is resampled in 1um steps"
   ]
  },
  {
   "cell_type": "code",
   "execution_count": 22,
   "metadata": {},
   "outputs": [],
   "source": [
    "#Assign a colour to each unique atlas ID for plotting\n",
    "#this is need because atlas IDs has very high values which is outside of the colour range\n",
    "uniqueID=np.unique(points_with_id['atlasID'])\n",
    "colour= np.linspace(1,np.size(uniqueID)+1, num=np.size(uniqueID),dtype='int')\n",
    "\n",
    "colourdict=dict(zip(uniqueID,colour))"
   ]
  },
  {
   "cell_type": "code",
   "execution_count": 74,
   "metadata": {},
   "outputs": [],
   "source": [
    "#colourdict=dict(zip(atlas_labels['id'], atlas_labels['color_hex_triplet']))\n",
    "# cannot use the allen atlases colour because some are not recognized by plotly"
   ]
  },
  {
   "cell_type": "code",
   "execution_count": 23,
   "metadata": {},
   "outputs": [
    {
     "data": {
      "text/html": [
       "<div>\n",
       "<style scoped>\n",
       "    .dataframe tbody tr th:only-of-type {\n",
       "        vertical-align: middle;\n",
       "    }\n",
       "\n",
       "    .dataframe tbody tr th {\n",
       "        vertical-align: top;\n",
       "    }\n",
       "\n",
       "    .dataframe thead th {\n",
       "        text-align: right;\n",
       "    }\n",
       "</style>\n",
       "<table border=\"1\" class=\"dataframe\">\n",
       "  <thead>\n",
       "    <tr style=\"text-align: right;\">\n",
       "      <th></th>\n",
       "      <th>x</th>\n",
       "      <th>y</th>\n",
       "      <th>z</th>\n",
       "      <th>atlasID</th>\n",
       "      <th>name</th>\n",
       "      <th>colour</th>\n",
       "    </tr>\n",
       "  </thead>\n",
       "  <tbody>\n",
       "    <tr>\n",
       "      <th>0</th>\n",
       "      <td>4811.63</td>\n",
       "      <td>2360.22</td>\n",
       "      <td>3550.49</td>\n",
       "      <td>971</td>\n",
       "      <td>corpus callosum, posterior forceps</td>\n",
       "      <td>26</td>\n",
       "    </tr>\n",
       "    <tr>\n",
       "      <th>1</th>\n",
       "      <td>4812.59</td>\n",
       "      <td>2360.24</td>\n",
       "      <td>3550.77</td>\n",
       "      <td>971</td>\n",
       "      <td>corpus callosum, posterior forceps</td>\n",
       "      <td>26</td>\n",
       "    </tr>\n",
       "    <tr>\n",
       "      <th>2</th>\n",
       "      <td>4813.55</td>\n",
       "      <td>2360.27</td>\n",
       "      <td>3551.06</td>\n",
       "      <td>971</td>\n",
       "      <td>corpus callosum, posterior forceps</td>\n",
       "      <td>26</td>\n",
       "    </tr>\n",
       "    <tr>\n",
       "      <th>3</th>\n",
       "      <td>4814.49</td>\n",
       "      <td>2360.24</td>\n",
       "      <td>3551.37</td>\n",
       "      <td>971</td>\n",
       "      <td>corpus callosum, posterior forceps</td>\n",
       "      <td>26</td>\n",
       "    </tr>\n",
       "    <tr>\n",
       "      <th>4</th>\n",
       "      <td>4815.36</td>\n",
       "      <td>2360.01</td>\n",
       "      <td>3551.81</td>\n",
       "      <td>971</td>\n",
       "      <td>corpus callosum, posterior forceps</td>\n",
       "      <td>26</td>\n",
       "    </tr>\n",
       "  </tbody>\n",
       "</table>\n",
       "</div>"
      ],
      "text/plain": [
       "         x        y        z  atlasID                                name  \\\n",
       "0  4811.63  2360.22  3550.49      971  corpus callosum, posterior forceps   \n",
       "1  4812.59  2360.24  3550.77      971  corpus callosum, posterior forceps   \n",
       "2  4813.55  2360.27  3551.06      971  corpus callosum, posterior forceps   \n",
       "3  4814.49  2360.24  3551.37      971  corpus callosum, posterior forceps   \n",
       "4  4815.36  2360.01  3551.81      971  corpus callosum, posterior forceps   \n",
       "\n",
       "   colour  \n",
       "0      26  \n",
       "1      26  \n",
       "2      26  \n",
       "3      26  \n",
       "4      26  "
      ]
     },
     "execution_count": 23,
     "metadata": {},
     "output_type": "execute_result"
    }
   ],
   "source": [
    "namedict=dict(zip(atlas_labels['id'],atlas_labels['name']))\n",
    "points_with_id['name'] = points_with_id['atlasID'].map(namedict)\n",
    "\n",
    "points_with_id['colour'] = points_with_id['atlasID'].map(colourdict)\n",
    "points_with_id.head()"
   ]
  },
  {
   "cell_type": "code",
   "execution_count": 24,
   "metadata": {},
   "outputs": [
    {
     "data": {
      "text/plain": [
       "'D:/AL066/AL066resampled3Dplot.html'"
      ]
     },
     "execution_count": 24,
     "metadata": {},
     "output_type": "execute_result"
    }
   ],
   "source": [
    "trace= go.Scatter3d( \n",
    "    x=points_with_id[::3]['x'],\n",
    "    y=points_with_id[::3]['y'],\n",
    "    z=points_with_id[::3]['z'],\n",
    "    mode='markers',\n",
    "    marker=dict(\n",
    "        size=1,\n",
    "        color=points_with_id[::3]['colour'],\n",
    "        opacity=0.5),\n",
    "    hovertext= points_with_id[::3]['name'],\n",
    "    hoverinfo='text'\n",
    ")\n",
    "\n",
    "layout=go.Layout(\n",
    "    margin=dict(\n",
    "        l=0,\n",
    "        r=0,\n",
    "        b=0,\n",
    "        t=0)\n",
    ")\n",
    "\n",
    "#Here we want horizontal view with dorsal surface toward us\n",
    "#first we set a xz view for coronal section this is done by setting x and z as 0 in eye\n",
    "# then, for y we want the smaller values to point toward us (because in our original coronal images dorsal surface is pointed up)\n",
    "camera = dict(\n",
    "    eye=dict(x=0, y=-1, z=0)\n",
    ")\n",
    "\n",
    "\n",
    "#Need to change the axis title depending on the direction and orientation of the origional image (ie, imaging started from cerebellum vs. imaging started from olfactorybulb)\n",
    "fig=go.Figure(data=trace,layout=layout)\n",
    "fig.update_layout(scene_camera=camera, \n",
    "                  scene=dict(\n",
    "                    xaxis_title='Smaller=more medial',\n",
    "                    yaxis_title='Smaller=more dorsal',\n",
    "                    zaxis_title='Smaller=more anterior'))\n",
    "plot(fig,filename=outdir+'/'+ outdir[3:8]+'resampled3Dplot.html')"
   ]
  },
  {
   "cell_type": "code",
   "execution_count": null,
   "metadata": {},
   "outputs": [],
   "source": []
  }
 ],
 "metadata": {
  "kernelspec": {
   "display_name": "Python 3",
   "language": "python",
   "name": "python3"
  },
  "language_info": {
   "codemirror_mode": {
    "name": "ipython",
    "version": 3
   },
   "file_extension": ".py",
   "mimetype": "text/x-python",
   "name": "python",
   "nbconvert_exporter": "python",
   "pygments_lexer": "ipython3",
   "version": "3.7.3"
  }
 },
 "nbformat": 4,
 "nbformat_minor": 4
}
