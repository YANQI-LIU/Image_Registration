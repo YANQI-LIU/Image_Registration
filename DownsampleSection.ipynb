{
 "cells": [
  {
   "cell_type": "markdown",
   "metadata": {},
   "source": [
    "### Downsample image planes for large images (ie. COLM)\n"
   ]
  },
  {
   "cell_type": "code",
   "execution_count": 45,
   "metadata": {},
   "outputs": [],
   "source": [
    "import os\n",
    "\n",
    "import tkinter as tk\n",
    "import tkinter.filedialog as fdialog\n",
    "from tkinter import simpledialog\n",
    "# this is the gui for finding directory and files\n",
    "\n",
    "import skimage\n",
    "from skimage import io\n",
    "from skimage import transform as tf\n",
    "\n",
    "#import matplotlib.pyplot as plt\n",
    "\n",
    "from tqdm import tqdm\n"
   ]
  },
  {
   "cell_type": "code",
   "execution_count": 7,
   "metadata": {},
   "outputs": [],
   "source": [
    "# Select the directory containing already stitched planes from stitchit (Rob code)\n",
    "in_dir=fdialog.askdirectory(initialdir='Z:\\\\', title='select the folder containing single section images to be further downsampled')                               \n",
    "\n",
    "# User input required for raw xyz resolution and goal dimension\n",
    "xy = simpledialog.askfloat(\"Input\", \"What is the x and y resolution in um?\", minvalue=0.0, maxvalue=100)\n",
    "#z = simpledialog.askfloat(\"Input\", \"What is the z resolution in um?\",minvalue=0.0, maxvalue=100)\n",
    "goal_xy = simpledialog.askfloat(\"Input\", \"What do you want to downsample the xy pixel size to '(in um)' ?\",minvalue=10, maxvalue=100)\n",
    "\n",
    "outdir = fdialog.askdirectory(title='Please select the output directory')"
   ]
  },
  {
   "cell_type": "code",
   "execution_count": 8,
   "metadata": {},
   "outputs": [],
   "source": [
    "# Code obtained from Lucas for reference\n",
    "# for own downsampling method, use skimage.transform.resize\n",
    "def get_dir(path):\n",
    "    tiffs = [os.path.join(path, f) for f in os.listdir(path) if f[0] != '.']\n",
    "    return sorted(tiffs)\n",
    "\n",
    "def downscale_imgs(in_folder, out_folder, factor=(10,10,1)):\n",
    "    images = get_dir(in_folder)\n",
    "    \n",
    "    for _,item in enumerate(tqdm(images)):\n",
    "        img = cv2.imread(item, -1) #black/white\n",
    "        out_img = block_reduce(img, block_size=factor, func=np.mean)\n",
    "        out_img = Image.fromarray(out_img)\n",
    "        out_img.save(out_folder + \"//\" + \"ds_\" + os.path.basename(item))"
   ]
  },
  {
   "cell_type": "code",
   "execution_count": 11,
   "metadata": {},
   "outputs": [],
   "source": [
    "images = get_dir(in_dir)"
   ]
  },
  {
   "cell_type": "code",
   "execution_count": 32,
   "metadata": {},
   "outputs": [
    {
     "name": "stdout",
     "output_type": "stream",
     "text": [
      "(13824, 16214)\n"
     ]
    }
   ],
   "source": [
    "im = io.imread(images[0])\n",
    "rows,cols= im.shape\n",
    "print (im.shape) \n"
   ]
  },
  {
   "cell_type": "code",
   "execution_count": 33,
   "metadata": {},
   "outputs": [
    {
     "name": "stdout",
     "output_type": "stream",
     "text": [
      "Original image resolution is (0.6, 0.6) um, new image pixel size is 25.0 um\n",
      "Original image size is (13824, 16214) pixels, new image size is (331, 389) pixels\n",
      "Downsample factor is 41.67\n"
     ]
    }
   ],
   "source": [
    "ratio=goal_xy/xy\n",
    "\n",
    "new_rows=int(rows/ratio)\n",
    "new_cols=int(cols/ratio)\n",
    "\n",
    "print(f'Original image resolution is {xy,xy} um, new image pixel size is {goal_xy} um')\n",
    "print(f'Original image size is {rows,cols} pixels, new image size is {new_rows, new_cols} pixels')\n",
    "print(f'Downsample factor is {ratio:.2f}')"
   ]
  },
  {
   "cell_type": "code",
   "execution_count": 36,
   "metadata": {},
   "outputs": [],
   "source": [
    "new_xyplane=tf.resize(im[:,:],[new_rows, new_cols], order=1, anti_aliasing=1)"
   ]
  },
  {
   "cell_type": "code",
   "execution_count": 46,
   "metadata": {},
   "outputs": [
    {
     "name": "stderr",
     "output_type": "stream",
     "text": [
      "  0%|                                                                                            | 0/5 [00:00<?, ?it/s]C:\\Users\\liu\\AppData\\Local\\Continuum\\anaconda3\\lib\\site-packages\\skimage\\util\\dtype.py:135: UserWarning: Possible precision loss when converting from float64 to uint16\n",
      "  .format(dtypeobj_in, dtypeobj_out))\n",
      "C:\\Users\\liu\\AppData\\Local\\Continuum\\anaconda3\\lib\\site-packages\\skimage\\io\\_io.py:141: UserWarning: D:/AL233_25umxy//ds_000000_000000_000000.tif is a low contrast image\n",
      "  warn('%s is a low contrast image' % fname)\n",
      " 20%|████████████████▊                                                                   | 1/5 [00:55<03:43, 55.78s/it]C:\\Users\\liu\\AppData\\Local\\Continuum\\anaconda3\\lib\\site-packages\\skimage\\io\\_io.py:141: UserWarning: D:/AL233_25umxy//ds_000000_000000_000030.tif is a low contrast image\n",
      "  warn('%s is a low contrast image' % fname)\n",
      " 40%|█████████████████████████████████▌                                                  | 2/5 [01:51<02:47, 55.68s/it]C:\\Users\\liu\\AppData\\Local\\Continuum\\anaconda3\\lib\\site-packages\\skimage\\io\\_io.py:141: UserWarning: D:/AL233_25umxy//ds_000000_000000_000060.tif is a low contrast image\n",
      "  warn('%s is a low contrast image' % fname)\n",
      " 60%|██████████████████████████████████████████████████▍                                 | 3/5 [02:47<01:51, 55.88s/it]C:\\Users\\liu\\AppData\\Local\\Continuum\\anaconda3\\lib\\site-packages\\skimage\\io\\_io.py:141: UserWarning: D:/AL233_25umxy//ds_000000_000000_000090.tif is a low contrast image\n",
      "  warn('%s is a low contrast image' % fname)\n",
      " 80%|███████████████████████████████████████████████████████████████████▏                | 4/5 [03:43<00:55, 55.80s/it]C:\\Users\\liu\\AppData\\Local\\Continuum\\anaconda3\\lib\\site-packages\\skimage\\io\\_io.py:141: UserWarning: D:/AL233_25umxy//ds_000000_000000_000120.tif is a low contrast image\n",
      "  warn('%s is a low contrast image' % fname)\n",
      "100%|████████████████████████████████████████████████████████████████████████████████████| 5/5 [04:41<00:00, 56.30s/it]\n"
     ]
    }
   ],
   "source": [
    "for _,item in enumerate(tqdm(images[0:5])):\n",
    "    im= io.imread(item)\n",
    "    new_xyplane=tf.resize(im[:,:],[new_rows, new_cols], order=1, anti_aliasing=1)\n",
    "    imguint16=skimage.img_as_uint(new_xyplane)\n",
    "    io.imsave(outdir + \"//\" + \"ds_\" + os.path.basename(item), imguint16)\n"
   ]
  },
  {
   "cell_type": "code",
   "execution_count": 41,
   "metadata": {},
   "outputs": [
    {
     "data": {
      "text/plain": [
       "'D:/AL233_25umxy//ds_000000_000000_000000.tif'"
      ]
     },
     "execution_count": 41,
     "metadata": {},
     "output_type": "execute_result"
    }
   ],
   "source": [
    "outname=outdir + \"//\" + \"ds_\" + os.path.basename(images[0])\n",
    "outname"
   ]
  },
  {
   "cell_type": "code",
   "execution_count": 26,
   "metadata": {},
   "outputs": [
    {
     "data": {
      "text/plain": [
       "41.0"
      ]
     },
     "execution_count": 26,
     "metadata": {},
     "output_type": "execute_result"
    }
   ],
   "source": []
  },
  {
   "cell_type": "code",
   "execution_count": 27,
   "metadata": {},
   "outputs": [
    {
     "data": {
      "text/plain": [
       "25.0"
      ]
     },
     "execution_count": 27,
     "metadata": {},
     "output_type": "execute_result"
    }
   ],
   "source": []
  },
  {
   "cell_type": "code",
   "execution_count": 28,
   "metadata": {},
   "outputs": [
    {
     "data": {
      "text/plain": [
       "0.6"
      ]
     },
     "execution_count": 28,
     "metadata": {},
     "output_type": "execute_result"
    }
   ],
   "source": []
  },
  {
   "cell_type": "code",
   "execution_count": null,
   "metadata": {},
   "outputs": [],
   "source": []
  }
 ],
 "metadata": {
  "kernelspec": {
   "display_name": "Python 3",
   "language": "python",
   "name": "python3"
  },
  "language_info": {
   "codemirror_mode": {
    "name": "ipython",
    "version": 3
   },
   "file_extension": ".py",
   "mimetype": "text/x-python",
   "name": "python",
   "nbconvert_exporter": "python",
   "pygments_lexer": "ipython3",
   "version": "3.7.3"
  }
 },
 "nbformat": 4,
 "nbformat_minor": 4
}
