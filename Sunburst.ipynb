{
 "cells": [
  {
   "cell_type": "code",
   "execution_count": 1,
   "metadata": {},
   "outputs": [
    {
     "name": "stdout",
     "output_type": "stream",
     "text": [
      "4.5.0\n"
     ]
    },
    {
     "data": {
      "text/html": [
       "        <script type=\"text/javascript\">\n",
       "        window.PlotlyConfig = {MathJaxConfig: 'local'};\n",
       "        if (window.MathJax) {MathJax.Hub.Config({SVG: {font: \"STIX-Web\"}});}\n",
       "        if (typeof require !== 'undefined') {\n",
       "        require.undef(\"plotly\");\n",
       "        requirejs.config({\n",
       "            paths: {\n",
       "                'plotly': ['https://cdn.plot.ly/plotly-latest.min']\n",
       "            }\n",
       "        });\n",
       "        require(['plotly'], function(Plotly) {\n",
       "            window._Plotly = Plotly;\n",
       "        });\n",
       "        }\n",
       "        </script>\n",
       "        "
      ]
     },
     "metadata": {},
     "output_type": "display_data"
    }
   ],
   "source": [
    "import pandas as pd\n",
    "import numpy as np\n",
    "import tkinter.filedialog as fdialog\n",
    "\n",
    "import plotly\n",
    "import plotly.graph_objects as go\n",
    "from plotly import __version__\n",
    "print(__version__)\n",
    "\n",
    "\n",
    "from plotly.offline import download_plotlyjs, init_notebook_mode, plot, iplot\n",
    "init_notebook_mode(connected=True)"
   ]
  },
  {
   "cell_type": "code",
   "execution_count": 2,
   "metadata": {},
   "outputs": [],
   "source": [
    "excelname=fdialog.askopenfile( title='Select the excel file containing region and their counts').name\n",
    "outdir = fdialog.askdirectory(title='Please select the output directory')\n",
    "atlas_labels=pd.read_csv('D:\\Allenbrainatlas\\ARA_25_micron_mhd_ccf2017\\labels.csv')\n"
   ]
  },
  {
   "cell_type": "code",
   "execution_count": 4,
   "metadata": {},
   "outputs": [
    {
     "data": {
      "text/html": [
       "<div>\n",
       "<style scoped>\n",
       "    .dataframe tbody tr th:only-of-type {\n",
       "        vertical-align: middle;\n",
       "    }\n",
       "\n",
       "    .dataframe tbody tr th {\n",
       "        vertical-align: top;\n",
       "    }\n",
       "\n",
       "    .dataframe thead th {\n",
       "        text-align: right;\n",
       "    }\n",
       "</style>\n",
       "<table border=\"1\" class=\"dataframe\">\n",
       "  <thead>\n",
       "    <tr style=\"text-align: right;\">\n",
       "      <th></th>\n",
       "      <th>id</th>\n",
       "      <th>atlas_id</th>\n",
       "      <th>name</th>\n",
       "      <th>acronym</th>\n",
       "      <th>st_level</th>\n",
       "      <th>ontology_id</th>\n",
       "      <th>hemisphere_id</th>\n",
       "      <th>weight</th>\n",
       "      <th>parent_structure_id</th>\n",
       "      <th>depth</th>\n",
       "      <th>...</th>\n",
       "      <th>structure_id_path</th>\n",
       "      <th>color_hex_triplet</th>\n",
       "      <th>neuro_name_structure_id</th>\n",
       "      <th>neuro_name_structure_id_path</th>\n",
       "      <th>failed</th>\n",
       "      <th>sphinx_id</th>\n",
       "      <th>structure_name_facet</th>\n",
       "      <th>failed_facet</th>\n",
       "      <th>safe_name</th>\n",
       "      <th>counts</th>\n",
       "    </tr>\n",
       "  </thead>\n",
       "  <tbody>\n",
       "    <tr>\n",
       "      <th>0</th>\n",
       "      <td>1009</td>\n",
       "      <td>691.0</td>\n",
       "      <td>fiber tracts</td>\n",
       "      <td>fiber tracts</td>\n",
       "      <td>1</td>\n",
       "      <td>1</td>\n",
       "      <td>3</td>\n",
       "      <td>8690</td>\n",
       "      <td>997</td>\n",
       "      <td>1</td>\n",
       "      <td>...</td>\n",
       "      <td>/997/1009/</td>\n",
       "      <td>CCCCCC</td>\n",
       "      <td>NaN</td>\n",
       "      <td>NaN</td>\n",
       "      <td>f</td>\n",
       "      <td>1102</td>\n",
       "      <td>771268094</td>\n",
       "      <td>734881840</td>\n",
       "      <td>fiber tracts</td>\n",
       "      <td>47</td>\n",
       "    </tr>\n",
       "    <tr>\n",
       "      <th>1</th>\n",
       "      <td>1074</td>\n",
       "      <td>1124.0</td>\n",
       "      <td>Anterolateral visual area, layer 1</td>\n",
       "      <td>VISal1</td>\n",
       "      <td>11</td>\n",
       "      <td>1</td>\n",
       "      <td>3</td>\n",
       "      <td>8690</td>\n",
       "      <td>402</td>\n",
       "      <td>8</td>\n",
       "      <td>...</td>\n",
       "      <td>/997/8/567/688/695/315/669/402/1074/</td>\n",
       "      <td>08858C</td>\n",
       "      <td>NaN</td>\n",
       "      <td>NaN</td>\n",
       "      <td>f</td>\n",
       "      <td>166</td>\n",
       "      <td>2830003304</td>\n",
       "      <td>734881840</td>\n",
       "      <td>Anterolateral visual area layer 1</td>\n",
       "      <td>551</td>\n",
       "    </tr>\n",
       "    <tr>\n",
       "      <th>2</th>\n",
       "      <td>687</td>\n",
       "      <td>651.0</td>\n",
       "      <td>Retrosplenial area, ventral part, layer 5</td>\n",
       "      <td>RSPv5</td>\n",
       "      <td>11</td>\n",
       "      <td>1</td>\n",
       "      <td>3</td>\n",
       "      <td>8690</td>\n",
       "      <td>886</td>\n",
       "      <td>8</td>\n",
       "      <td>...</td>\n",
       "      <td>/997/8/567/688/695/315/254/886/687/</td>\n",
       "      <td>1AA698</td>\n",
       "      <td>NaN</td>\n",
       "      <td>NaN</td>\n",
       "      <td>f</td>\n",
       "      <td>337</td>\n",
       "      <td>1239413140</td>\n",
       "      <td>734881840</td>\n",
       "      <td>Retrosplenial area ventral part layer 5</td>\n",
       "      <td>5</td>\n",
       "    </tr>\n",
       "    <tr>\n",
       "      <th>3</th>\n",
       "      <td>1047</td>\n",
       "      <td>979.0</td>\n",
       "      <td>Primary somatosensory area, barrel field, layer 4</td>\n",
       "      <td>SSp-bfd4</td>\n",
       "      <td>11</td>\n",
       "      <td>1</td>\n",
       "      <td>3</td>\n",
       "      <td>8690</td>\n",
       "      <td>329</td>\n",
       "      <td>9</td>\n",
       "      <td>...</td>\n",
       "      <td>/997/8/567/688/695/315/453/322/329/1047/</td>\n",
       "      <td>188064</td>\n",
       "      <td>NaN</td>\n",
       "      <td>NaN</td>\n",
       "      <td>f</td>\n",
       "      <td>55</td>\n",
       "      <td>3439709501</td>\n",
       "      <td>734881840</td>\n",
       "      <td>Primary somatosensory area barrel field layer 4</td>\n",
       "      <td>1755</td>\n",
       "    </tr>\n",
       "    <tr>\n",
       "      <th>4</th>\n",
       "      <td>600</td>\n",
       "      <td>923.0</td>\n",
       "      <td>Dorsal auditory area, layer 2/3</td>\n",
       "      <td>AUDd2/3</td>\n",
       "      <td>11</td>\n",
       "      <td>1</td>\n",
       "      <td>3</td>\n",
       "      <td>8690</td>\n",
       "      <td>1011</td>\n",
       "      <td>8</td>\n",
       "      <td>...</td>\n",
       "      <td>/997/8/567/688/695/315/247/1011/600/</td>\n",
       "      <td>019399</td>\n",
       "      <td>NaN</td>\n",
       "      <td>NaN</td>\n",
       "      <td>f</td>\n",
       "      <td>125</td>\n",
       "      <td>2148227545</td>\n",
       "      <td>734881840</td>\n",
       "      <td>Dorsal auditory area layer 2/3</td>\n",
       "      <td>832</td>\n",
       "    </tr>\n",
       "  </tbody>\n",
       "</table>\n",
       "<p>5 rows × 22 columns</p>\n",
       "</div>"
      ],
      "text/plain": [
       "     id  atlas_id                                               name  \\\n",
       "0  1009     691.0                                       fiber tracts   \n",
       "1  1074    1124.0                 Anterolateral visual area, layer 1   \n",
       "2   687     651.0          Retrosplenial area, ventral part, layer 5   \n",
       "3  1047     979.0  Primary somatosensory area, barrel field, layer 4   \n",
       "4   600     923.0                    Dorsal auditory area, layer 2/3   \n",
       "\n",
       "        acronym  st_level  ontology_id  hemisphere_id  weight  \\\n",
       "0  fiber tracts         1            1              3    8690   \n",
       "1        VISal1        11            1              3    8690   \n",
       "2         RSPv5        11            1              3    8690   \n",
       "3      SSp-bfd4        11            1              3    8690   \n",
       "4       AUDd2/3        11            1              3    8690   \n",
       "\n",
       "   parent_structure_id  depth  ...                         structure_id_path  \\\n",
       "0                  997      1  ...                                /997/1009/   \n",
       "1                  402      8  ...      /997/8/567/688/695/315/669/402/1074/   \n",
       "2                  886      8  ...       /997/8/567/688/695/315/254/886/687/   \n",
       "3                  329      9  ...  /997/8/567/688/695/315/453/322/329/1047/   \n",
       "4                 1011      8  ...      /997/8/567/688/695/315/247/1011/600/   \n",
       "\n",
       "   color_hex_triplet neuro_name_structure_id neuro_name_structure_id_path  \\\n",
       "0             CCCCCC                     NaN                          NaN   \n",
       "1             08858C                     NaN                          NaN   \n",
       "2             1AA698                     NaN                          NaN   \n",
       "3             188064                     NaN                          NaN   \n",
       "4             019399                     NaN                          NaN   \n",
       "\n",
       "   failed  sphinx_id structure_name_facet  failed_facet  \\\n",
       "0       f       1102            771268094     734881840   \n",
       "1       f        166           2830003304     734881840   \n",
       "2       f        337           1239413140     734881840   \n",
       "3       f         55           3439709501     734881840   \n",
       "4       f        125           2148227545     734881840   \n",
       "\n",
       "                                         safe_name  counts  \n",
       "0                                     fiber tracts      47  \n",
       "1                Anterolateral visual area layer 1     551  \n",
       "2          Retrosplenial area ventral part layer 5       5  \n",
       "3  Primary somatosensory area barrel field layer 4    1755  \n",
       "4                   Dorsal auditory area layer 2/3     832  \n",
       "\n",
       "[5 rows x 22 columns]"
      ]
     },
     "execution_count": 4,
     "metadata": {},
     "output_type": "execute_result"
    }
   ],
   "source": [
    "region_wcounts= pd.read_excel(excelname,index_col=0)\n",
    "region_wcounts.head()"
   ]
  },
  {
   "cell_type": "code",
   "execution_count": 5,
   "metadata": {},
   "outputs": [
    {
     "data": {
      "text/plain": [
       "[['', '997', '1009', ''],\n",
       " ['', '997', '8', '567', '688', '695', '315', '669', '402', '1074', ''],\n",
       " ['', '997', '8', '567', '688', '695', '315', '254', '886', '687', ''],\n",
       " ['', '997', '8', '567', '688', '695', '315', '453', '322', '329', '1047', ''],\n",
       " ['', '997', '8', '567', '688', '695', '315', '247', '1011', '600', ''],\n",
       " ['', '997', '8', '567', '688', '695', '315', '247', '1011', '678', ''],\n",
       " ['', '997', '8', '567', '688', '695', '315', '669', '533', '41', ''],\n",
       " ['', '997', '8', '567', '688', '695', '315', '669', '402', '233', ''],\n",
       " ['', '997', '8', '567', '688', '695', '315', '669', '394', '401', ''],\n",
       " ['', '997', '8', '567', '688', '695', '315', '669', '394', '281', ''],\n",
       " ['', '997', '8', '567', '688', '695', '315', '453', '322', '361', '1086', ''],\n",
       " ['', '997', '8', '567', '688', '695', '315', '669', '533', '257', ''],\n",
       " ['', '997', '8', '567', '688', '695', '315', '453', '322', '329', '1038', ''],\n",
       " ['', '997', '1009', '991', '768', '940', ''],\n",
       " ['', '997', '8', '567', '688', '695', '315', '669', '394', '1046', ''],\n",
       " ['', '997', '8', '567', '688', '695', '315', '453', '322', '361', '1006', ''],\n",
       " ['', '997', '8', '567', '688', '695', '315', '22', '417', '312782624', ''],\n",
       " ['', '997', '8', '567', '688', '695', '315', '669', '533', '565', ''],\n",
       " ['', '997', '8', '567', '688', '695', '315', '669', '402', '1114', ''],\n",
       " ['', '997', '8', '567', '688', '695', '315', '453', '322', '361', '9', ''],\n",
       " ['', '997', '1009', '991', '768', '1099', '618', '443', ''],\n",
       " ['', '997', '8', '567', '688', '695', '315', '453', '322', '361', '670', ''],\n",
       " ['', '997', '8', '567', '688', '695', '315', '247', '1011', '252', ''],\n",
       " ['', '997', '8', '567', '688', '695', '315', '669', '402', '905', ''],\n",
       " ['', '997', '8', '567', '688', '695', '315', '453', '322', '329', '1062', ''],\n",
       " ['', '997', '1009', '983', '776', ''],\n",
       " ['', '997', '8', '567', '688', '695', '315', '453', '322', '361', '1111', ''],\n",
       " ['', '997', '8', '567', '688', '695', '315', '669', '533', '501', ''],\n",
       " ['', '997', '8', '567', '688', '695', '315', '669', '385', '33', ''],\n",
       " ['', '997', '8', '567', '688', '695', '315', '453', '322', '329', '201', ''],\n",
       " ['', '997', '8', '567', '688', '695', '315', '453', '322', '329', '981', ''],\n",
       " ['', '997', '8', '567', '688', '695', '315', '247', '1011', '527', ''],\n",
       " ['', '997', '8', '567', '688', '695', '315', '669', '394', '1066', ''],\n",
       " ['', '997', '8', '567', '688', '695', '315', '669', '394', '433', ''],\n",
       " ['', '997', '8', '567', '688', '695', '315', '453', '322', '329', '1070', '']]"
      ]
     },
     "execution_count": 5,
     "metadata": {},
     "output_type": "execute_result"
    }
   ],
   "source": [
    "sun_cats=region_wcounts['structure_id_path']\n",
    "sun_cats=[items.split('/') for items in sun_cats]\n",
    "sun_cats"
   ]
  },
  {
   "cell_type": "markdown",
   "metadata": {},
   "source": [
    "## help from christos"
   ]
  },
  {
   "cell_type": "code",
   "execution_count": 6,
   "metadata": {},
   "outputs": [],
   "source": [
    "def unique(list1): \n",
    "  \n",
    "    # intilize a null list \n",
    "    unique_list = [] \n",
    "      \n",
    "    # traverse for all elements \n",
    "    for x in list1: \n",
    "        # check if exists in unique_list or not \n",
    "        if x not in unique_list: \n",
    "            unique_list.append(x) \n",
    "    # print list \n",
    "    return unique_list"
   ]
  },
  {
   "cell_type": "code",
   "execution_count": 14,
   "metadata": {},
   "outputs": [
    {
     "data": {
      "text/plain": [
       "['', '997', '1009', '']"
      ]
     },
     "execution_count": 14,
     "metadata": {},
     "output_type": "execute_result"
    }
   ],
   "source": [
    "sun_cats[0]"
   ]
  },
  {
   "cell_type": "code",
   "execution_count": 61,
   "metadata": {},
   "outputs": [],
   "source": [
    "a = [];\n"
   ]
  },
  {
   "cell_type": "code",
   "execution_count": 62,
   "metadata": {},
   "outputs": [],
   "source": [
    " for i in sun_cats:\n",
    "        a.extend(i)"
   ]
  },
  {
   "cell_type": "code",
   "execution_count": 63,
   "metadata": {},
   "outputs": [],
   "source": [
    "uniq_characters = unique(a)"
   ]
  },
  {
   "cell_type": "code",
   "execution_count": 69,
   "metadata": {},
   "outputs": [],
   "source": [
    "sun_cats = [i[0:-1] for i in sun_cats]"
   ]
  },
  {
   "cell_type": "code",
   "execution_count": 71,
   "metadata": {},
   "outputs": [],
   "source": [
    "uniq_characters = np.array(uniq_characters)"
   ]
  },
  {
   "cell_type": "code",
   "execution_count": 80,
   "metadata": {},
   "outputs": [],
   "source": [
    "count = len([1 for i in uniq_characters for j in i])"
   ]
  },
  {
   "cell_type": "code",
   "execution_count": 81,
   "metadata": {},
   "outputs": [
    {
     "data": {
      "text/plain": [
       "196"
      ]
     },
     "execution_count": 81,
     "metadata": {},
     "output_type": "execute_result"
    }
   ],
   "source": [
    "connections = np.zeros((count - len(region_wcounts), 2))"
   ]
  },
  {
   "cell_type": "code",
   "execution_count": 7,
   "metadata": {},
   "outputs": [],
   "source": [
    "sun_cats = [i[0:-1] for i in sun_cats]"
   ]
  },
  {
   "cell_type": "code",
   "execution_count": 8,
   "metadata": {},
   "outputs": [],
   "source": [
    "connections = [[j[i-1], j[i]]  for j in sun_cats for i, node in enumerate(j) if i > 1]  "
   ]
  },
  {
   "cell_type": "code",
   "execution_count": 9,
   "metadata": {},
   "outputs": [],
   "source": [
    "connections = []\n",
    "for j in sun_cats:\n",
    "    for i, node in enumerate(j):\n",
    "        if i > 0:\n",
    "            connections.append([j[i - 1], j[i]])"
   ]
  },
  {
   "cell_type": "code",
   "execution_count": 14,
   "metadata": {
    "collapsed": true,
    "jupyter": {
     "outputs_hidden": true
    }
   },
   "outputs": [
    {
     "data": {
      "application/vnd.plotly.v1+json": {
       "config": {
        "plotlyServerURL": "https://plot.ly"
       },
       "data": [
        {
         "domain": {
          "x": [
           0,
           1
          ],
          "y": [
           0,
           1
          ]
         },
         "hoverlabel": {
          "namelength": 0
         },
         "hovertemplate": "character=%{label}<br>parent=%{parent}",
         "labels": [
          "",
          "997",
          "",
          "997",
          "8",
          "567",
          "688",
          "695",
          "315",
          "669",
          "402",
          "",
          "997",
          "8",
          "567",
          "688",
          "695",
          "315",
          "254",
          "886",
          "",
          "997",
          "8",
          "567",
          "688",
          "695",
          "315",
          "453",
          "322",
          "329",
          "",
          "997",
          "8",
          "567",
          "688",
          "695",
          "315",
          "247",
          "1011",
          "",
          "997",
          "8",
          "567",
          "688",
          "695",
          "315",
          "247",
          "1011",
          "",
          "997",
          "8",
          "567",
          "688",
          "695",
          "315",
          "669",
          "533",
          "",
          "997",
          "8",
          "567",
          "688",
          "695",
          "315",
          "669",
          "402",
          "",
          "997",
          "8",
          "567",
          "688",
          "695",
          "315",
          "669",
          "394",
          "",
          "997",
          "8",
          "567",
          "688",
          "695",
          "315",
          "669",
          "394",
          "",
          "997",
          "8",
          "567",
          "688",
          "695",
          "315",
          "453",
          "322",
          "361",
          "",
          "997",
          "8",
          "567",
          "688",
          "695",
          "315",
          "669",
          "533",
          "",
          "997",
          "8",
          "567",
          "688",
          "695",
          "315",
          "453",
          "322",
          "329",
          "",
          "997",
          "1009",
          "991",
          "768",
          "",
          "997",
          "8",
          "567",
          "688",
          "695",
          "315",
          "669",
          "394",
          "",
          "997",
          "8",
          "567",
          "688",
          "695",
          "315",
          "453",
          "322",
          "361",
          "",
          "997",
          "8",
          "567",
          "688",
          "695",
          "315",
          "22",
          "417",
          "",
          "997",
          "8",
          "567",
          "688",
          "695",
          "315",
          "669",
          "533",
          "",
          "997",
          "8",
          "567",
          "688",
          "695",
          "315",
          "669",
          "402",
          "",
          "997",
          "8",
          "567",
          "688",
          "695",
          "315",
          "453",
          "322",
          "361",
          "",
          "997",
          "1009",
          "991",
          "768",
          "1099",
          "618",
          "",
          "997",
          "8",
          "567",
          "688",
          "695",
          "315",
          "453",
          "322",
          "361",
          "",
          "997",
          "8",
          "567",
          "688",
          "695",
          "315",
          "247",
          "1011",
          "",
          "997",
          "8",
          "567",
          "688",
          "695",
          "315",
          "669",
          "402",
          "",
          "997",
          "8",
          "567",
          "688",
          "695",
          "315",
          "453",
          "322",
          "329",
          "",
          "997",
          "1009",
          "983",
          "",
          "997",
          "8",
          "567",
          "688",
          "695",
          "315",
          "453",
          "322",
          "361",
          "",
          "997",
          "8",
          "567",
          "688",
          "695",
          "315",
          "669",
          "533",
          "",
          "997",
          "8",
          "567",
          "688",
          "695",
          "315",
          "669",
          "385",
          "",
          "997",
          "8",
          "567",
          "688",
          "695",
          "315",
          "453",
          "322",
          "329",
          "",
          "997",
          "8",
          "567",
          "688",
          "695",
          "315",
          "453",
          "322",
          "329",
          "",
          "997",
          "8",
          "567",
          "688",
          "695",
          "315",
          "247",
          "1011",
          "",
          "997",
          "8",
          "567",
          "688",
          "695",
          "315",
          "669",
          "394",
          "",
          "997",
          "8",
          "567",
          "688",
          "695",
          "315",
          "669",
          "394",
          "",
          "997",
          "8",
          "567",
          "688",
          "695",
          "315",
          "453",
          "322",
          "329"
         ],
         "name": "",
         "parents": [
          "997",
          "1009",
          "997",
          "8",
          "567",
          "688",
          "695",
          "315",
          "669",
          "402",
          "1074",
          "997",
          "8",
          "567",
          "688",
          "695",
          "315",
          "254",
          "886",
          "687",
          "997",
          "8",
          "567",
          "688",
          "695",
          "315",
          "453",
          "322",
          "329",
          "1047",
          "997",
          "8",
          "567",
          "688",
          "695",
          "315",
          "247",
          "1011",
          "600",
          "997",
          "8",
          "567",
          "688",
          "695",
          "315",
          "247",
          "1011",
          "678",
          "997",
          "8",
          "567",
          "688",
          "695",
          "315",
          "669",
          "533",
          "41",
          "997",
          "8",
          "567",
          "688",
          "695",
          "315",
          "669",
          "402",
          "233",
          "997",
          "8",
          "567",
          "688",
          "695",
          "315",
          "669",
          "394",
          "401",
          "997",
          "8",
          "567",
          "688",
          "695",
          "315",
          "669",
          "394",
          "281",
          "997",
          "8",
          "567",
          "688",
          "695",
          "315",
          "453",
          "322",
          "361",
          "1086",
          "997",
          "8",
          "567",
          "688",
          "695",
          "315",
          "669",
          "533",
          "257",
          "997",
          "8",
          "567",
          "688",
          "695",
          "315",
          "453",
          "322",
          "329",
          "1038",
          "997",
          "1009",
          "991",
          "768",
          "940",
          "997",
          "8",
          "567",
          "688",
          "695",
          "315",
          "669",
          "394",
          "1046",
          "997",
          "8",
          "567",
          "688",
          "695",
          "315",
          "453",
          "322",
          "361",
          "1006",
          "997",
          "8",
          "567",
          "688",
          "695",
          "315",
          "22",
          "417",
          "312782624",
          "997",
          "8",
          "567",
          "688",
          "695",
          "315",
          "669",
          "533",
          "565",
          "997",
          "8",
          "567",
          "688",
          "695",
          "315",
          "669",
          "402",
          "1114",
          "997",
          "8",
          "567",
          "688",
          "695",
          "315",
          "453",
          "322",
          "361",
          "9",
          "997",
          "1009",
          "991",
          "768",
          "1099",
          "618",
          "443",
          "997",
          "8",
          "567",
          "688",
          "695",
          "315",
          "453",
          "322",
          "361",
          "670",
          "997",
          "8",
          "567",
          "688",
          "695",
          "315",
          "247",
          "1011",
          "252",
          "997",
          "8",
          "567",
          "688",
          "695",
          "315",
          "669",
          "402",
          "905",
          "997",
          "8",
          "567",
          "688",
          "695",
          "315",
          "453",
          "322",
          "329",
          "1062",
          "997",
          "1009",
          "983",
          "776",
          "997",
          "8",
          "567",
          "688",
          "695",
          "315",
          "453",
          "322",
          "361",
          "1111",
          "997",
          "8",
          "567",
          "688",
          "695",
          "315",
          "669",
          "533",
          "501",
          "997",
          "8",
          "567",
          "688",
          "695",
          "315",
          "669",
          "385",
          "33",
          "997",
          "8",
          "567",
          "688",
          "695",
          "315",
          "453",
          "322",
          "329",
          "201",
          "997",
          "8",
          "567",
          "688",
          "695",
          "315",
          "453",
          "322",
          "329",
          "981",
          "997",
          "8",
          "567",
          "688",
          "695",
          "315",
          "247",
          "1011",
          "527",
          "997",
          "8",
          "567",
          "688",
          "695",
          "315",
          "669",
          "394",
          "1066",
          "997",
          "8",
          "567",
          "688",
          "695",
          "315",
          "669",
          "394",
          "433",
          "997",
          "8",
          "567",
          "688",
          "695",
          "315",
          "453",
          "322",
          "329",
          "1070"
         ],
         "type": "sunburst"
        }
       ],
       "layout": {
        "legend": {
         "tracegroupgap": 0
        },
        "margin": {
         "t": 60
        },
        "template": {
         "data": {
          "bar": [
           {
            "error_x": {
             "color": "#2a3f5f"
            },
            "error_y": {
             "color": "#2a3f5f"
            },
            "marker": {
             "line": {
              "color": "#E5ECF6",
              "width": 0.5
             }
            },
            "type": "bar"
           }
          ],
          "barpolar": [
           {
            "marker": {
             "line": {
              "color": "#E5ECF6",
              "width": 0.5
             }
            },
            "type": "barpolar"
           }
          ],
          "carpet": [
           {
            "aaxis": {
             "endlinecolor": "#2a3f5f",
             "gridcolor": "white",
             "linecolor": "white",
             "minorgridcolor": "white",
             "startlinecolor": "#2a3f5f"
            },
            "baxis": {
             "endlinecolor": "#2a3f5f",
             "gridcolor": "white",
             "linecolor": "white",
             "minorgridcolor": "white",
             "startlinecolor": "#2a3f5f"
            },
            "type": "carpet"
           }
          ],
          "choropleth": [
           {
            "colorbar": {
             "outlinewidth": 0,
             "ticks": ""
            },
            "type": "choropleth"
           }
          ],
          "contour": [
           {
            "colorbar": {
             "outlinewidth": 0,
             "ticks": ""
            },
            "colorscale": [
             [
              0,
              "#0d0887"
             ],
             [
              0.1111111111111111,
              "#46039f"
             ],
             [
              0.2222222222222222,
              "#7201a8"
             ],
             [
              0.3333333333333333,
              "#9c179e"
             ],
             [
              0.4444444444444444,
              "#bd3786"
             ],
             [
              0.5555555555555556,
              "#d8576b"
             ],
             [
              0.6666666666666666,
              "#ed7953"
             ],
             [
              0.7777777777777778,
              "#fb9f3a"
             ],
             [
              0.8888888888888888,
              "#fdca26"
             ],
             [
              1,
              "#f0f921"
             ]
            ],
            "type": "contour"
           }
          ],
          "contourcarpet": [
           {
            "colorbar": {
             "outlinewidth": 0,
             "ticks": ""
            },
            "type": "contourcarpet"
           }
          ],
          "heatmap": [
           {
            "colorbar": {
             "outlinewidth": 0,
             "ticks": ""
            },
            "colorscale": [
             [
              0,
              "#0d0887"
             ],
             [
              0.1111111111111111,
              "#46039f"
             ],
             [
              0.2222222222222222,
              "#7201a8"
             ],
             [
              0.3333333333333333,
              "#9c179e"
             ],
             [
              0.4444444444444444,
              "#bd3786"
             ],
             [
              0.5555555555555556,
              "#d8576b"
             ],
             [
              0.6666666666666666,
              "#ed7953"
             ],
             [
              0.7777777777777778,
              "#fb9f3a"
             ],
             [
              0.8888888888888888,
              "#fdca26"
             ],
             [
              1,
              "#f0f921"
             ]
            ],
            "type": "heatmap"
           }
          ],
          "heatmapgl": [
           {
            "colorbar": {
             "outlinewidth": 0,
             "ticks": ""
            },
            "colorscale": [
             [
              0,
              "#0d0887"
             ],
             [
              0.1111111111111111,
              "#46039f"
             ],
             [
              0.2222222222222222,
              "#7201a8"
             ],
             [
              0.3333333333333333,
              "#9c179e"
             ],
             [
              0.4444444444444444,
              "#bd3786"
             ],
             [
              0.5555555555555556,
              "#d8576b"
             ],
             [
              0.6666666666666666,
              "#ed7953"
             ],
             [
              0.7777777777777778,
              "#fb9f3a"
             ],
             [
              0.8888888888888888,
              "#fdca26"
             ],
             [
              1,
              "#f0f921"
             ]
            ],
            "type": "heatmapgl"
           }
          ],
          "histogram": [
           {
            "marker": {
             "colorbar": {
              "outlinewidth": 0,
              "ticks": ""
             }
            },
            "type": "histogram"
           }
          ],
          "histogram2d": [
           {
            "colorbar": {
             "outlinewidth": 0,
             "ticks": ""
            },
            "colorscale": [
             [
              0,
              "#0d0887"
             ],
             [
              0.1111111111111111,
              "#46039f"
             ],
             [
              0.2222222222222222,
              "#7201a8"
             ],
             [
              0.3333333333333333,
              "#9c179e"
             ],
             [
              0.4444444444444444,
              "#bd3786"
             ],
             [
              0.5555555555555556,
              "#d8576b"
             ],
             [
              0.6666666666666666,
              "#ed7953"
             ],
             [
              0.7777777777777778,
              "#fb9f3a"
             ],
             [
              0.8888888888888888,
              "#fdca26"
             ],
             [
              1,
              "#f0f921"
             ]
            ],
            "type": "histogram2d"
           }
          ],
          "histogram2dcontour": [
           {
            "colorbar": {
             "outlinewidth": 0,
             "ticks": ""
            },
            "colorscale": [
             [
              0,
              "#0d0887"
             ],
             [
              0.1111111111111111,
              "#46039f"
             ],
             [
              0.2222222222222222,
              "#7201a8"
             ],
             [
              0.3333333333333333,
              "#9c179e"
             ],
             [
              0.4444444444444444,
              "#bd3786"
             ],
             [
              0.5555555555555556,
              "#d8576b"
             ],
             [
              0.6666666666666666,
              "#ed7953"
             ],
             [
              0.7777777777777778,
              "#fb9f3a"
             ],
             [
              0.8888888888888888,
              "#fdca26"
             ],
             [
              1,
              "#f0f921"
             ]
            ],
            "type": "histogram2dcontour"
           }
          ],
          "mesh3d": [
           {
            "colorbar": {
             "outlinewidth": 0,
             "ticks": ""
            },
            "type": "mesh3d"
           }
          ],
          "parcoords": [
           {
            "line": {
             "colorbar": {
              "outlinewidth": 0,
              "ticks": ""
             }
            },
            "type": "parcoords"
           }
          ],
          "pie": [
           {
            "automargin": true,
            "type": "pie"
           }
          ],
          "scatter": [
           {
            "marker": {
             "colorbar": {
              "outlinewidth": 0,
              "ticks": ""
             }
            },
            "type": "scatter"
           }
          ],
          "scatter3d": [
           {
            "line": {
             "colorbar": {
              "outlinewidth": 0,
              "ticks": ""
             }
            },
            "marker": {
             "colorbar": {
              "outlinewidth": 0,
              "ticks": ""
             }
            },
            "type": "scatter3d"
           }
          ],
          "scattercarpet": [
           {
            "marker": {
             "colorbar": {
              "outlinewidth": 0,
              "ticks": ""
             }
            },
            "type": "scattercarpet"
           }
          ],
          "scattergeo": [
           {
            "marker": {
             "colorbar": {
              "outlinewidth": 0,
              "ticks": ""
             }
            },
            "type": "scattergeo"
           }
          ],
          "scattergl": [
           {
            "marker": {
             "colorbar": {
              "outlinewidth": 0,
              "ticks": ""
             }
            },
            "type": "scattergl"
           }
          ],
          "scattermapbox": [
           {
            "marker": {
             "colorbar": {
              "outlinewidth": 0,
              "ticks": ""
             }
            },
            "type": "scattermapbox"
           }
          ],
          "scatterpolar": [
           {
            "marker": {
             "colorbar": {
              "outlinewidth": 0,
              "ticks": ""
             }
            },
            "type": "scatterpolar"
           }
          ],
          "scatterpolargl": [
           {
            "marker": {
             "colorbar": {
              "outlinewidth": 0,
              "ticks": ""
             }
            },
            "type": "scatterpolargl"
           }
          ],
          "scatterternary": [
           {
            "marker": {
             "colorbar": {
              "outlinewidth": 0,
              "ticks": ""
             }
            },
            "type": "scatterternary"
           }
          ],
          "surface": [
           {
            "colorbar": {
             "outlinewidth": 0,
             "ticks": ""
            },
            "colorscale": [
             [
              0,
              "#0d0887"
             ],
             [
              0.1111111111111111,
              "#46039f"
             ],
             [
              0.2222222222222222,
              "#7201a8"
             ],
             [
              0.3333333333333333,
              "#9c179e"
             ],
             [
              0.4444444444444444,
              "#bd3786"
             ],
             [
              0.5555555555555556,
              "#d8576b"
             ],
             [
              0.6666666666666666,
              "#ed7953"
             ],
             [
              0.7777777777777778,
              "#fb9f3a"
             ],
             [
              0.8888888888888888,
              "#fdca26"
             ],
             [
              1,
              "#f0f921"
             ]
            ],
            "type": "surface"
           }
          ],
          "table": [
           {
            "cells": {
             "fill": {
              "color": "#EBF0F8"
             },
             "line": {
              "color": "white"
             }
            },
            "header": {
             "fill": {
              "color": "#C8D4E3"
             },
             "line": {
              "color": "white"
             }
            },
            "type": "table"
           }
          ]
         },
         "layout": {
          "annotationdefaults": {
           "arrowcolor": "#2a3f5f",
           "arrowhead": 0,
           "arrowwidth": 1
          },
          "coloraxis": {
           "colorbar": {
            "outlinewidth": 0,
            "ticks": ""
           }
          },
          "colorscale": {
           "diverging": [
            [
             0,
             "#8e0152"
            ],
            [
             0.1,
             "#c51b7d"
            ],
            [
             0.2,
             "#de77ae"
            ],
            [
             0.3,
             "#f1b6da"
            ],
            [
             0.4,
             "#fde0ef"
            ],
            [
             0.5,
             "#f7f7f7"
            ],
            [
             0.6,
             "#e6f5d0"
            ],
            [
             0.7,
             "#b8e186"
            ],
            [
             0.8,
             "#7fbc41"
            ],
            [
             0.9,
             "#4d9221"
            ],
            [
             1,
             "#276419"
            ]
           ],
           "sequential": [
            [
             0,
             "#0d0887"
            ],
            [
             0.1111111111111111,
             "#46039f"
            ],
            [
             0.2222222222222222,
             "#7201a8"
            ],
            [
             0.3333333333333333,
             "#9c179e"
            ],
            [
             0.4444444444444444,
             "#bd3786"
            ],
            [
             0.5555555555555556,
             "#d8576b"
            ],
            [
             0.6666666666666666,
             "#ed7953"
            ],
            [
             0.7777777777777778,
             "#fb9f3a"
            ],
            [
             0.8888888888888888,
             "#fdca26"
            ],
            [
             1,
             "#f0f921"
            ]
           ],
           "sequentialminus": [
            [
             0,
             "#0d0887"
            ],
            [
             0.1111111111111111,
             "#46039f"
            ],
            [
             0.2222222222222222,
             "#7201a8"
            ],
            [
             0.3333333333333333,
             "#9c179e"
            ],
            [
             0.4444444444444444,
             "#bd3786"
            ],
            [
             0.5555555555555556,
             "#d8576b"
            ],
            [
             0.6666666666666666,
             "#ed7953"
            ],
            [
             0.7777777777777778,
             "#fb9f3a"
            ],
            [
             0.8888888888888888,
             "#fdca26"
            ],
            [
             1,
             "#f0f921"
            ]
           ]
          },
          "colorway": [
           "#636efa",
           "#EF553B",
           "#00cc96",
           "#ab63fa",
           "#FFA15A",
           "#19d3f3",
           "#FF6692",
           "#B6E880",
           "#FF97FF",
           "#FECB52"
          ],
          "font": {
           "color": "#2a3f5f"
          },
          "geo": {
           "bgcolor": "white",
           "lakecolor": "white",
           "landcolor": "#E5ECF6",
           "showlakes": true,
           "showland": true,
           "subunitcolor": "white"
          },
          "hoverlabel": {
           "align": "left"
          },
          "hovermode": "closest",
          "mapbox": {
           "style": "light"
          },
          "paper_bgcolor": "white",
          "plot_bgcolor": "#E5ECF6",
          "polar": {
           "angularaxis": {
            "gridcolor": "white",
            "linecolor": "white",
            "ticks": ""
           },
           "bgcolor": "#E5ECF6",
           "radialaxis": {
            "gridcolor": "white",
            "linecolor": "white",
            "ticks": ""
           }
          },
          "scene": {
           "xaxis": {
            "backgroundcolor": "#E5ECF6",
            "gridcolor": "white",
            "gridwidth": 2,
            "linecolor": "white",
            "showbackground": true,
            "ticks": "",
            "zerolinecolor": "white"
           },
           "yaxis": {
            "backgroundcolor": "#E5ECF6",
            "gridcolor": "white",
            "gridwidth": 2,
            "linecolor": "white",
            "showbackground": true,
            "ticks": "",
            "zerolinecolor": "white"
           },
           "zaxis": {
            "backgroundcolor": "#E5ECF6",
            "gridcolor": "white",
            "gridwidth": 2,
            "linecolor": "white",
            "showbackground": true,
            "ticks": "",
            "zerolinecolor": "white"
           }
          },
          "shapedefaults": {
           "line": {
            "color": "#2a3f5f"
           }
          },
          "ternary": {
           "aaxis": {
            "gridcolor": "white",
            "linecolor": "white",
            "ticks": ""
           },
           "baxis": {
            "gridcolor": "white",
            "linecolor": "white",
            "ticks": ""
           },
           "bgcolor": "#E5ECF6",
           "caxis": {
            "gridcolor": "white",
            "linecolor": "white",
            "ticks": ""
           }
          },
          "title": {
           "x": 0.05
          },
          "xaxis": {
           "automargin": true,
           "gridcolor": "white",
           "linecolor": "white",
           "ticks": "",
           "title": {
            "standoff": 15
           },
           "zerolinecolor": "white",
           "zerolinewidth": 2
          },
          "yaxis": {
           "automargin": true,
           "gridcolor": "white",
           "linecolor": "white",
           "ticks": "",
           "title": {
            "standoff": 15
           },
           "zerolinecolor": "white",
           "zerolinewidth": 2
          }
         }
        }
       }
      },
      "text/html": [
       "<div>\n",
       "        \n",
       "        \n",
       "            <div id=\"de22d7a8-cab2-4ea0-8282-ae0cbb5da52c\" class=\"plotly-graph-div\" style=\"height:525px; width:100%;\"></div>\n",
       "            <script type=\"text/javascript\">\n",
       "                require([\"plotly\"], function(Plotly) {\n",
       "                    window.PLOTLYENV=window.PLOTLYENV || {};\n",
       "                    \n",
       "                if (document.getElementById(\"de22d7a8-cab2-4ea0-8282-ae0cbb5da52c\")) {\n",
       "                    Plotly.newPlot(\n",
       "                        'de22d7a8-cab2-4ea0-8282-ae0cbb5da52c',\n",
       "                        [{\"domain\": {\"x\": [0.0, 1.0], \"y\": [0.0, 1.0]}, \"hoverlabel\": {\"namelength\": 0}, \"hovertemplate\": \"character=%{label}<br>parent=%{parent}\", \"labels\": [\"\", \"997\", \"\", \"997\", \"8\", \"567\", \"688\", \"695\", \"315\", \"669\", \"402\", \"\", \"997\", \"8\", \"567\", \"688\", \"695\", \"315\", \"254\", \"886\", \"\", \"997\", \"8\", \"567\", \"688\", \"695\", \"315\", \"453\", \"322\", \"329\", \"\", \"997\", \"8\", \"567\", \"688\", \"695\", \"315\", \"247\", \"1011\", \"\", \"997\", \"8\", \"567\", \"688\", \"695\", \"315\", \"247\", \"1011\", \"\", \"997\", \"8\", \"567\", \"688\", \"695\", \"315\", \"669\", \"533\", \"\", \"997\", \"8\", \"567\", \"688\", \"695\", \"315\", \"669\", \"402\", \"\", \"997\", \"8\", \"567\", \"688\", \"695\", \"315\", \"669\", \"394\", \"\", \"997\", \"8\", \"567\", \"688\", \"695\", \"315\", \"669\", \"394\", \"\", \"997\", \"8\", \"567\", \"688\", \"695\", \"315\", \"453\", \"322\", \"361\", \"\", \"997\", \"8\", \"567\", \"688\", \"695\", \"315\", \"669\", \"533\", \"\", \"997\", \"8\", \"567\", \"688\", \"695\", \"315\", \"453\", \"322\", \"329\", \"\", \"997\", \"1009\", \"991\", \"768\", \"\", \"997\", \"8\", \"567\", \"688\", \"695\", \"315\", \"669\", \"394\", \"\", \"997\", \"8\", \"567\", \"688\", \"695\", \"315\", \"453\", \"322\", \"361\", \"\", \"997\", \"8\", \"567\", \"688\", \"695\", \"315\", \"22\", \"417\", \"\", \"997\", \"8\", \"567\", \"688\", \"695\", \"315\", \"669\", \"533\", \"\", \"997\", \"8\", \"567\", \"688\", \"695\", \"315\", \"669\", \"402\", \"\", \"997\", \"8\", \"567\", \"688\", \"695\", \"315\", \"453\", \"322\", \"361\", \"\", \"997\", \"1009\", \"991\", \"768\", \"1099\", \"618\", \"\", \"997\", \"8\", \"567\", \"688\", \"695\", \"315\", \"453\", \"322\", \"361\", \"\", \"997\", \"8\", \"567\", \"688\", \"695\", \"315\", \"247\", \"1011\", \"\", \"997\", \"8\", \"567\", \"688\", \"695\", \"315\", \"669\", \"402\", \"\", \"997\", \"8\", \"567\", \"688\", \"695\", \"315\", \"453\", \"322\", \"329\", \"\", \"997\", \"1009\", \"983\", \"\", \"997\", \"8\", \"567\", \"688\", \"695\", \"315\", \"453\", \"322\", \"361\", \"\", \"997\", \"8\", \"567\", \"688\", \"695\", \"315\", \"669\", \"533\", \"\", \"997\", \"8\", \"567\", \"688\", \"695\", \"315\", \"669\", \"385\", \"\", \"997\", \"8\", \"567\", \"688\", \"695\", \"315\", \"453\", \"322\", \"329\", \"\", \"997\", \"8\", \"567\", \"688\", \"695\", \"315\", \"453\", \"322\", \"329\", \"\", \"997\", \"8\", \"567\", \"688\", \"695\", \"315\", \"247\", \"1011\", \"\", \"997\", \"8\", \"567\", \"688\", \"695\", \"315\", \"669\", \"394\", \"\", \"997\", \"8\", \"567\", \"688\", \"695\", \"315\", \"669\", \"394\", \"\", \"997\", \"8\", \"567\", \"688\", \"695\", \"315\", \"453\", \"322\", \"329\"], \"name\": \"\", \"parents\": [\"997\", \"1009\", \"997\", \"8\", \"567\", \"688\", \"695\", \"315\", \"669\", \"402\", \"1074\", \"997\", \"8\", \"567\", \"688\", \"695\", \"315\", \"254\", \"886\", \"687\", \"997\", \"8\", \"567\", \"688\", \"695\", \"315\", \"453\", \"322\", \"329\", \"1047\", \"997\", \"8\", \"567\", \"688\", \"695\", \"315\", \"247\", \"1011\", \"600\", \"997\", \"8\", \"567\", \"688\", \"695\", \"315\", \"247\", \"1011\", \"678\", \"997\", \"8\", \"567\", \"688\", \"695\", \"315\", \"669\", \"533\", \"41\", \"997\", \"8\", \"567\", \"688\", \"695\", \"315\", \"669\", \"402\", \"233\", \"997\", \"8\", \"567\", \"688\", \"695\", \"315\", \"669\", \"394\", \"401\", \"997\", \"8\", \"567\", \"688\", \"695\", \"315\", \"669\", \"394\", \"281\", \"997\", \"8\", \"567\", \"688\", \"695\", \"315\", \"453\", \"322\", \"361\", \"1086\", \"997\", \"8\", \"567\", \"688\", \"695\", \"315\", \"669\", \"533\", \"257\", \"997\", \"8\", \"567\", \"688\", \"695\", \"315\", \"453\", \"322\", \"329\", \"1038\", \"997\", \"1009\", \"991\", \"768\", \"940\", \"997\", \"8\", \"567\", \"688\", \"695\", \"315\", \"669\", \"394\", \"1046\", \"997\", \"8\", \"567\", \"688\", \"695\", \"315\", \"453\", \"322\", \"361\", \"1006\", \"997\", \"8\", \"567\", \"688\", \"695\", \"315\", \"22\", \"417\", \"312782624\", \"997\", \"8\", \"567\", \"688\", \"695\", \"315\", \"669\", \"533\", \"565\", \"997\", \"8\", \"567\", \"688\", \"695\", \"315\", \"669\", \"402\", \"1114\", \"997\", \"8\", \"567\", \"688\", \"695\", \"315\", \"453\", \"322\", \"361\", \"9\", \"997\", \"1009\", \"991\", \"768\", \"1099\", \"618\", \"443\", \"997\", \"8\", \"567\", \"688\", \"695\", \"315\", \"453\", \"322\", \"361\", \"670\", \"997\", \"8\", \"567\", \"688\", \"695\", \"315\", \"247\", \"1011\", \"252\", \"997\", \"8\", \"567\", \"688\", \"695\", \"315\", \"669\", \"402\", \"905\", \"997\", \"8\", \"567\", \"688\", \"695\", \"315\", \"453\", \"322\", \"329\", \"1062\", \"997\", \"1009\", \"983\", \"776\", \"997\", \"8\", \"567\", \"688\", \"695\", \"315\", \"453\", \"322\", \"361\", \"1111\", \"997\", \"8\", \"567\", \"688\", \"695\", \"315\", \"669\", \"533\", \"501\", \"997\", \"8\", \"567\", \"688\", \"695\", \"315\", \"669\", \"385\", \"33\", \"997\", \"8\", \"567\", \"688\", \"695\", \"315\", \"453\", \"322\", \"329\", \"201\", \"997\", \"8\", \"567\", \"688\", \"695\", \"315\", \"453\", \"322\", \"329\", \"981\", \"997\", \"8\", \"567\", \"688\", \"695\", \"315\", \"247\", \"1011\", \"527\", \"997\", \"8\", \"567\", \"688\", \"695\", \"315\", \"669\", \"394\", \"1066\", \"997\", \"8\", \"567\", \"688\", \"695\", \"315\", \"669\", \"394\", \"433\", \"997\", \"8\", \"567\", \"688\", \"695\", \"315\", \"453\", \"322\", \"329\", \"1070\"], \"type\": \"sunburst\"}],\n",
       "                        {\"legend\": {\"tracegroupgap\": 0}, \"margin\": {\"t\": 60}, \"template\": {\"data\": {\"bar\": [{\"error_x\": {\"color\": \"#2a3f5f\"}, \"error_y\": {\"color\": \"#2a3f5f\"}, \"marker\": {\"line\": {\"color\": \"#E5ECF6\", \"width\": 0.5}}, \"type\": \"bar\"}], \"barpolar\": [{\"marker\": {\"line\": {\"color\": \"#E5ECF6\", \"width\": 0.5}}, \"type\": \"barpolar\"}], \"carpet\": [{\"aaxis\": {\"endlinecolor\": \"#2a3f5f\", \"gridcolor\": \"white\", \"linecolor\": \"white\", \"minorgridcolor\": \"white\", \"startlinecolor\": \"#2a3f5f\"}, \"baxis\": {\"endlinecolor\": \"#2a3f5f\", \"gridcolor\": \"white\", \"linecolor\": \"white\", \"minorgridcolor\": \"white\", \"startlinecolor\": \"#2a3f5f\"}, \"type\": \"carpet\"}], \"choropleth\": [{\"colorbar\": {\"outlinewidth\": 0, \"ticks\": \"\"}, \"type\": \"choropleth\"}], \"contour\": [{\"colorbar\": {\"outlinewidth\": 0, \"ticks\": \"\"}, \"colorscale\": [[0.0, \"#0d0887\"], [0.1111111111111111, \"#46039f\"], [0.2222222222222222, \"#7201a8\"], [0.3333333333333333, \"#9c179e\"], [0.4444444444444444, \"#bd3786\"], [0.5555555555555556, \"#d8576b\"], [0.6666666666666666, \"#ed7953\"], [0.7777777777777778, \"#fb9f3a\"], [0.8888888888888888, \"#fdca26\"], [1.0, \"#f0f921\"]], \"type\": \"contour\"}], \"contourcarpet\": [{\"colorbar\": {\"outlinewidth\": 0, \"ticks\": \"\"}, \"type\": \"contourcarpet\"}], \"heatmap\": [{\"colorbar\": {\"outlinewidth\": 0, \"ticks\": \"\"}, \"colorscale\": [[0.0, \"#0d0887\"], [0.1111111111111111, \"#46039f\"], [0.2222222222222222, \"#7201a8\"], [0.3333333333333333, \"#9c179e\"], [0.4444444444444444, \"#bd3786\"], [0.5555555555555556, \"#d8576b\"], [0.6666666666666666, \"#ed7953\"], [0.7777777777777778, \"#fb9f3a\"], [0.8888888888888888, \"#fdca26\"], [1.0, \"#f0f921\"]], \"type\": \"heatmap\"}], \"heatmapgl\": [{\"colorbar\": {\"outlinewidth\": 0, \"ticks\": \"\"}, \"colorscale\": [[0.0, \"#0d0887\"], [0.1111111111111111, \"#46039f\"], [0.2222222222222222, \"#7201a8\"], [0.3333333333333333, \"#9c179e\"], [0.4444444444444444, \"#bd3786\"], [0.5555555555555556, \"#d8576b\"], [0.6666666666666666, \"#ed7953\"], [0.7777777777777778, \"#fb9f3a\"], [0.8888888888888888, \"#fdca26\"], [1.0, \"#f0f921\"]], \"type\": \"heatmapgl\"}], \"histogram\": [{\"marker\": {\"colorbar\": {\"outlinewidth\": 0, \"ticks\": \"\"}}, \"type\": \"histogram\"}], \"histogram2d\": [{\"colorbar\": {\"outlinewidth\": 0, \"ticks\": \"\"}, \"colorscale\": [[0.0, \"#0d0887\"], [0.1111111111111111, \"#46039f\"], [0.2222222222222222, \"#7201a8\"], [0.3333333333333333, \"#9c179e\"], [0.4444444444444444, \"#bd3786\"], [0.5555555555555556, \"#d8576b\"], [0.6666666666666666, \"#ed7953\"], [0.7777777777777778, \"#fb9f3a\"], [0.8888888888888888, \"#fdca26\"], [1.0, \"#f0f921\"]], \"type\": \"histogram2d\"}], \"histogram2dcontour\": [{\"colorbar\": {\"outlinewidth\": 0, \"ticks\": \"\"}, \"colorscale\": [[0.0, \"#0d0887\"], [0.1111111111111111, \"#46039f\"], [0.2222222222222222, \"#7201a8\"], [0.3333333333333333, \"#9c179e\"], [0.4444444444444444, \"#bd3786\"], [0.5555555555555556, \"#d8576b\"], [0.6666666666666666, \"#ed7953\"], [0.7777777777777778, \"#fb9f3a\"], [0.8888888888888888, \"#fdca26\"], [1.0, \"#f0f921\"]], \"type\": \"histogram2dcontour\"}], \"mesh3d\": [{\"colorbar\": {\"outlinewidth\": 0, \"ticks\": \"\"}, \"type\": \"mesh3d\"}], \"parcoords\": [{\"line\": {\"colorbar\": {\"outlinewidth\": 0, \"ticks\": \"\"}}, \"type\": \"parcoords\"}], \"pie\": [{\"automargin\": true, \"type\": \"pie\"}], \"scatter\": [{\"marker\": {\"colorbar\": {\"outlinewidth\": 0, \"ticks\": \"\"}}, \"type\": \"scatter\"}], \"scatter3d\": [{\"line\": {\"colorbar\": {\"outlinewidth\": 0, \"ticks\": \"\"}}, \"marker\": {\"colorbar\": {\"outlinewidth\": 0, \"ticks\": \"\"}}, \"type\": \"scatter3d\"}], \"scattercarpet\": [{\"marker\": {\"colorbar\": {\"outlinewidth\": 0, \"ticks\": \"\"}}, \"type\": \"scattercarpet\"}], \"scattergeo\": [{\"marker\": {\"colorbar\": {\"outlinewidth\": 0, \"ticks\": \"\"}}, \"type\": \"scattergeo\"}], \"scattergl\": [{\"marker\": {\"colorbar\": {\"outlinewidth\": 0, \"ticks\": \"\"}}, \"type\": \"scattergl\"}], \"scattermapbox\": [{\"marker\": {\"colorbar\": {\"outlinewidth\": 0, \"ticks\": \"\"}}, \"type\": \"scattermapbox\"}], \"scatterpolar\": [{\"marker\": {\"colorbar\": {\"outlinewidth\": 0, \"ticks\": \"\"}}, \"type\": \"scatterpolar\"}], \"scatterpolargl\": [{\"marker\": {\"colorbar\": {\"outlinewidth\": 0, \"ticks\": \"\"}}, \"type\": \"scatterpolargl\"}], \"scatterternary\": [{\"marker\": {\"colorbar\": {\"outlinewidth\": 0, \"ticks\": \"\"}}, \"type\": \"scatterternary\"}], \"surface\": [{\"colorbar\": {\"outlinewidth\": 0, \"ticks\": \"\"}, \"colorscale\": [[0.0, \"#0d0887\"], [0.1111111111111111, \"#46039f\"], [0.2222222222222222, \"#7201a8\"], [0.3333333333333333, \"#9c179e\"], [0.4444444444444444, \"#bd3786\"], [0.5555555555555556, \"#d8576b\"], [0.6666666666666666, \"#ed7953\"], [0.7777777777777778, \"#fb9f3a\"], [0.8888888888888888, \"#fdca26\"], [1.0, \"#f0f921\"]], \"type\": \"surface\"}], \"table\": [{\"cells\": {\"fill\": {\"color\": \"#EBF0F8\"}, \"line\": {\"color\": \"white\"}}, \"header\": {\"fill\": {\"color\": \"#C8D4E3\"}, \"line\": {\"color\": \"white\"}}, \"type\": \"table\"}]}, \"layout\": {\"annotationdefaults\": {\"arrowcolor\": \"#2a3f5f\", \"arrowhead\": 0, \"arrowwidth\": 1}, \"coloraxis\": {\"colorbar\": {\"outlinewidth\": 0, \"ticks\": \"\"}}, \"colorscale\": {\"diverging\": [[0, \"#8e0152\"], [0.1, \"#c51b7d\"], [0.2, \"#de77ae\"], [0.3, \"#f1b6da\"], [0.4, \"#fde0ef\"], [0.5, \"#f7f7f7\"], [0.6, \"#e6f5d0\"], [0.7, \"#b8e186\"], [0.8, \"#7fbc41\"], [0.9, \"#4d9221\"], [1, \"#276419\"]], \"sequential\": [[0.0, \"#0d0887\"], [0.1111111111111111, \"#46039f\"], [0.2222222222222222, \"#7201a8\"], [0.3333333333333333, \"#9c179e\"], [0.4444444444444444, \"#bd3786\"], [0.5555555555555556, \"#d8576b\"], [0.6666666666666666, \"#ed7953\"], [0.7777777777777778, \"#fb9f3a\"], [0.8888888888888888, \"#fdca26\"], [1.0, \"#f0f921\"]], \"sequentialminus\": [[0.0, \"#0d0887\"], [0.1111111111111111, \"#46039f\"], [0.2222222222222222, \"#7201a8\"], [0.3333333333333333, \"#9c179e\"], [0.4444444444444444, \"#bd3786\"], [0.5555555555555556, \"#d8576b\"], [0.6666666666666666, \"#ed7953\"], [0.7777777777777778, \"#fb9f3a\"], [0.8888888888888888, \"#fdca26\"], [1.0, \"#f0f921\"]]}, \"colorway\": [\"#636efa\", \"#EF553B\", \"#00cc96\", \"#ab63fa\", \"#FFA15A\", \"#19d3f3\", \"#FF6692\", \"#B6E880\", \"#FF97FF\", \"#FECB52\"], \"font\": {\"color\": \"#2a3f5f\"}, \"geo\": {\"bgcolor\": \"white\", \"lakecolor\": \"white\", \"landcolor\": \"#E5ECF6\", \"showlakes\": true, \"showland\": true, \"subunitcolor\": \"white\"}, \"hoverlabel\": {\"align\": \"left\"}, \"hovermode\": \"closest\", \"mapbox\": {\"style\": \"light\"}, \"paper_bgcolor\": \"white\", \"plot_bgcolor\": \"#E5ECF6\", \"polar\": {\"angularaxis\": {\"gridcolor\": \"white\", \"linecolor\": \"white\", \"ticks\": \"\"}, \"bgcolor\": \"#E5ECF6\", \"radialaxis\": {\"gridcolor\": \"white\", \"linecolor\": \"white\", \"ticks\": \"\"}}, \"scene\": {\"xaxis\": {\"backgroundcolor\": \"#E5ECF6\", \"gridcolor\": \"white\", \"gridwidth\": 2, \"linecolor\": \"white\", \"showbackground\": true, \"ticks\": \"\", \"zerolinecolor\": \"white\"}, \"yaxis\": {\"backgroundcolor\": \"#E5ECF6\", \"gridcolor\": \"white\", \"gridwidth\": 2, \"linecolor\": \"white\", \"showbackground\": true, \"ticks\": \"\", \"zerolinecolor\": \"white\"}, \"zaxis\": {\"backgroundcolor\": \"#E5ECF6\", \"gridcolor\": \"white\", \"gridwidth\": 2, \"linecolor\": \"white\", \"showbackground\": true, \"ticks\": \"\", \"zerolinecolor\": \"white\"}}, \"shapedefaults\": {\"line\": {\"color\": \"#2a3f5f\"}}, \"ternary\": {\"aaxis\": {\"gridcolor\": \"white\", \"linecolor\": \"white\", \"ticks\": \"\"}, \"baxis\": {\"gridcolor\": \"white\", \"linecolor\": \"white\", \"ticks\": \"\"}, \"bgcolor\": \"#E5ECF6\", \"caxis\": {\"gridcolor\": \"white\", \"linecolor\": \"white\", \"ticks\": \"\"}}, \"title\": {\"x\": 0.05}, \"xaxis\": {\"automargin\": true, \"gridcolor\": \"white\", \"linecolor\": \"white\", \"ticks\": \"\", \"title\": {\"standoff\": 15}, \"zerolinecolor\": \"white\", \"zerolinewidth\": 2}, \"yaxis\": {\"automargin\": true, \"gridcolor\": \"white\", \"linecolor\": \"white\", \"ticks\": \"\", \"title\": {\"standoff\": 15}, \"zerolinecolor\": \"white\", \"zerolinewidth\": 2}}}},\n",
       "                        {\"responsive\": true}\n",
       "                    ).then(function(){\n",
       "                            \n",
       "var gd = document.getElementById('de22d7a8-cab2-4ea0-8282-ae0cbb5da52c');\n",
       "var x = new MutationObserver(function (mutations, observer) {{\n",
       "        var display = window.getComputedStyle(gd).display;\n",
       "        if (!display || display === 'none') {{\n",
       "            console.log([gd, 'removed!']);\n",
       "            Plotly.purge(gd);\n",
       "            observer.disconnect();\n",
       "        }}\n",
       "}});\n",
       "\n",
       "// Listen for the removal of the full notebook cells\n",
       "var notebookContainer = gd.closest('#notebook-container');\n",
       "if (notebookContainer) {{\n",
       "    x.observe(notebookContainer, {childList: true});\n",
       "}}\n",
       "\n",
       "// Listen for the clearing of the current output cell\n",
       "var outputEl = gd.closest('.output');\n",
       "if (outputEl) {{\n",
       "    x.observe(outputEl, {childList: true});\n",
       "}}\n",
       "\n",
       "                        })\n",
       "                };\n",
       "                });\n",
       "            </script>\n",
       "        </div>"
      ]
     },
     "metadata": {},
     "output_type": "display_data"
    }
   ],
   "source": [
    "connections_array = np.array(connections)\n",
    "connections_dict = {'character': connections_array[:, 0], 'parent':connections_array[:, 1]}\n",
    "import plotly.express as px\n",
    "fig =px.sunburst(\n",
    "    connections_dict,\n",
    "    names='character',\n",
    "    parents='parent',\n",
    " )   \n",
    "fig.show()"
   ]
  },
  {
   "cell_type": "code",
   "execution_count": null,
   "metadata": {},
   "outputs": [],
   "source": []
  }
 ],
 "metadata": {
  "kernelspec": {
   "display_name": "Python 3",
   "language": "python",
   "name": "python3"
  },
  "language_info": {
   "codemirror_mode": {
    "name": "ipython",
    "version": 3
   },
   "file_extension": ".py",
   "mimetype": "text/x-python",
   "name": "python",
   "nbconvert_exporter": "python",
   "pygments_lexer": "ipython3",
   "version": "3.7.3"
  }
 },
 "nbformat": 4,
 "nbformat_minor": 4
}
