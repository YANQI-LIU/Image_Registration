{
 "cells": [
  {
   "cell_type": "markdown",
   "metadata": {},
   "source": [
    "## Work flow for single cell tracing analysis for anatomy MS 2021\n",
    "\n",
    "_Folder Preparation_<br>\n",
    "\n",
    "all the required image files are provided under folder with the mouse name<br>\n",
    "xxx/AL066/<br>\n",
    "Should have:  <br>\n",
    "ara2sample/<br>\n",
    "ara2sample_atlas/<br>\n",
    "ara2sample_bf/<br>\n",
    "\n",
    "\n",
    "__Steps\n",
    "1. Convert annotations to um units \n",
    "2. (V3d) Resample in 1um steps\n",
    "\n",
    "__The result after step 2 is provided (converted and resampled annotation points)__\n",
    "\n",
    "3. Downsample to 25ums (need to run twice for axons and dendrites). Need to save in the same folder as ara2sample_atlas/\n",
    "\n",
    "\n",
    "4. Identify working with axons(is_axon=1) or not (is_axon=0)\n",
    "5. read atlas_labels from provided ccf_2017_itksnap.csv provided\n",
    "6. read in points and get the name of corresponding atlas, outputs points with indices in the corresponding atlas\n",
    "7. generates tiff stack for points \n",
    "8. a) check if points are within the atlas brain (ie. if there are indices of 0 then some points are outside of the brain)\n",
    "8. b) correct some of the issue with labeling (see details within the cell)\n",
    "9. generates .xls files for number of axons in corresponding brain region. (also generate another xls that groups them by parent structure)\n",
    "\n",
    "__Repeat for dendrites by setting is_axon= 0 in cell 6 then run the rest of the cells again__\n",
    "\n",
    "_Note that its better to output all .xls files in the same folder (in cell 3, out_dir) for analysis_ \n",
    "\n",
    "10. Plot coronal, horizontal and tangential (barrel field) view of non-downsampled points with colours differentiating their location (grey, white and stratum).\n",
    "11. Bar plots of # of axon in specific brain regions for each neuron (sort by most to least amount of parent structure)\n",
    "12. Summary annotated heatmap (points grouped by parent structure)\n"
   ]
  },
  {
   "cell_type": "code",
   "execution_count": 1,
   "metadata": {
    "collapsed": true,
    "jupyter": {
     "outputs_hidden": true
    }
   },
   "outputs": [
    {
     "ename": "KeyboardInterrupt",
     "evalue": "",
     "output_type": "error",
     "traceback": [
      "\u001b[1;31m---------------------------------------------------------------------------\u001b[0m",
      "\u001b[1;31mKeyboardInterrupt\u001b[0m                         Traceback (most recent call last)",
      "\u001b[1;32m<ipython-input-1-57614fcaf64b>\u001b[0m in \u001b[0;36m<module>\u001b[1;34m\u001b[0m\n\u001b[0;32m      2\u001b[0m \u001b[1;32mimport\u001b[0m \u001b[0mtkinter\u001b[0m\u001b[1;33m.\u001b[0m\u001b[0mfiledialog\u001b[0m \u001b[1;32mas\u001b[0m \u001b[0mfdialog\u001b[0m\u001b[1;33m\u001b[0m\u001b[1;33m\u001b[0m\u001b[0m\n\u001b[0;32m      3\u001b[0m \u001b[1;32mimport\u001b[0m \u001b[0mNeuron_analysis\u001b[0m \u001b[1;32mas\u001b[0m \u001b[0mna\u001b[0m\u001b[1;33m\u001b[0m\u001b[1;33m\u001b[0m\u001b[0m\n\u001b[1;32m----> 4\u001b[1;33m \u001b[1;32mfrom\u001b[0m \u001b[0mNeuron_analysis\u001b[0m \u001b[1;32mimport\u001b[0m \u001b[1;33m*\u001b[0m\u001b[1;33m\u001b[0m\u001b[1;33m\u001b[0m\u001b[0m\n\u001b[0m\u001b[0;32m      5\u001b[0m \u001b[1;32mimport\u001b[0m \u001b[0mnumpy\u001b[0m \u001b[1;32mas\u001b[0m \u001b[0mnp\u001b[0m\u001b[1;33m\u001b[0m\u001b[1;33m\u001b[0m\u001b[0m\n\u001b[0;32m      6\u001b[0m \u001b[1;33m\u001b[0m\u001b[0m\n",
      "\u001b[1;32m~\\Image_registration\\Neuron_analysis\\atlas.py\u001b[0m in \u001b[0;36m<module>\u001b[1;34m\u001b[0m\n\u001b[0;32m      5\u001b[0m \u001b[1;32mimport\u001b[0m \u001b[0mSimpleITK\u001b[0m \u001b[1;32mas\u001b[0m \u001b[0msitk\u001b[0m\u001b[1;33m\u001b[0m\u001b[1;33m\u001b[0m\u001b[0m\n\u001b[0;32m      6\u001b[0m \u001b[1;33m\u001b[0m\u001b[0m\n\u001b[1;32m----> 7\u001b[1;33m \u001b[1;32mimport\u001b[0m \u001b[0mskimage\u001b[0m\u001b[1;33m\u001b[0m\u001b[1;33m\u001b[0m\u001b[0m\n\u001b[0m\u001b[0;32m      8\u001b[0m \u001b[1;32mfrom\u001b[0m \u001b[0mskimage\u001b[0m \u001b[1;32mimport\u001b[0m \u001b[0mio\u001b[0m\u001b[1;33m\u001b[0m\u001b[1;33m\u001b[0m\u001b[0m\n\u001b[0;32m      9\u001b[0m \u001b[1;33m\u001b[0m\u001b[0m\n",
      "\u001b[1;32m~\\AppData\\Local\\Continuum\\anaconda3\\lib\\site-packages\\skimage\\__init__.py\u001b[0m in \u001b[0;36m<module>\u001b[1;34m\u001b[0m\n\u001b[0;32m    133\u001b[0m                              \u001b[0mimg_as_bool\u001b[0m\u001b[1;33m,\u001b[0m\u001b[1;33m\u001b[0m\u001b[1;33m\u001b[0m\u001b[0m\n\u001b[0;32m    134\u001b[0m                              dtype_limits)\n\u001b[1;32m--> 135\u001b[1;33m     \u001b[1;32mfrom\u001b[0m \u001b[1;33m.\u001b[0m\u001b[0mdata\u001b[0m \u001b[1;32mimport\u001b[0m \u001b[0mdata_dir\u001b[0m\u001b[1;33m\u001b[0m\u001b[1;33m\u001b[0m\u001b[0m\n\u001b[0m\u001b[0;32m    136\u001b[0m     \u001b[1;32mfrom\u001b[0m \u001b[1;33m.\u001b[0m\u001b[0mutil\u001b[0m\u001b[1;33m.\u001b[0m\u001b[0mlookfor\u001b[0m \u001b[1;32mimport\u001b[0m \u001b[0mlookfor\u001b[0m\u001b[1;33m\u001b[0m\u001b[1;33m\u001b[0m\u001b[0m\n\u001b[0;32m    137\u001b[0m \u001b[1;33m\u001b[0m\u001b[0m\n",
      "\u001b[1;32m~\\AppData\\Local\\Continuum\\anaconda3\\lib\\site-packages\\skimage\\data\\__init__.py\u001b[0m in \u001b[0;36m<module>\u001b[1;34m\u001b[0m\n\u001b[0;32m     14\u001b[0m \u001b[1;32mfrom\u001b[0m \u001b[1;33m.\u001b[0m\u001b[1;33m.\u001b[0m\u001b[0m_shared\u001b[0m\u001b[1;33m.\u001b[0m\u001b[0m_warnings\u001b[0m \u001b[1;32mimport\u001b[0m \u001b[0mexpected_warnings\u001b[0m\u001b[1;33m,\u001b[0m \u001b[0mwarn\u001b[0m\u001b[1;33m\u001b[0m\u001b[1;33m\u001b[0m\u001b[0m\n\u001b[0;32m     15\u001b[0m \u001b[1;32mfrom\u001b[0m \u001b[1;33m.\u001b[0m\u001b[1;33m.\u001b[0m\u001b[0mutil\u001b[0m\u001b[1;33m.\u001b[0m\u001b[0mdtype\u001b[0m \u001b[1;32mimport\u001b[0m \u001b[0mimg_as_bool\u001b[0m\u001b[1;33m\u001b[0m\u001b[1;33m\u001b[0m\u001b[0m\n\u001b[1;32m---> 16\u001b[1;33m \u001b[1;32mfrom\u001b[0m \u001b[1;33m.\u001b[0m\u001b[0m_binary_blobs\u001b[0m \u001b[1;32mimport\u001b[0m \u001b[0mbinary_blobs\u001b[0m\u001b[1;33m\u001b[0m\u001b[1;33m\u001b[0m\u001b[0m\n\u001b[0m\u001b[0;32m     17\u001b[0m \u001b[1;32mfrom\u001b[0m \u001b[1;33m.\u001b[0m\u001b[0m_detect\u001b[0m \u001b[1;32mimport\u001b[0m \u001b[0mlbp_frontal_face_cascade_filename\u001b[0m\u001b[1;33m\u001b[0m\u001b[1;33m\u001b[0m\u001b[0m\n\u001b[0;32m     18\u001b[0m \u001b[1;33m\u001b[0m\u001b[0m\n",
      "\u001b[1;32m~\\AppData\\Local\\Continuum\\anaconda3\\lib\\site-packages\\skimage\\data\\_binary_blobs.py\u001b[0m in \u001b[0;36m<module>\u001b[1;34m\u001b[0m\n\u001b[0;32m      1\u001b[0m \u001b[1;32mimport\u001b[0m \u001b[0mnumpy\u001b[0m \u001b[1;32mas\u001b[0m \u001b[0mnp\u001b[0m\u001b[1;33m\u001b[0m\u001b[1;33m\u001b[0m\u001b[0m\n\u001b[1;32m----> 2\u001b[1;33m \u001b[1;32mfrom\u001b[0m \u001b[1;33m.\u001b[0m\u001b[1;33m.\u001b[0m\u001b[0mfilters\u001b[0m \u001b[1;32mimport\u001b[0m \u001b[0mgaussian\u001b[0m\u001b[1;33m\u001b[0m\u001b[1;33m\u001b[0m\u001b[0m\n\u001b[0m\u001b[0;32m      3\u001b[0m \u001b[1;33m\u001b[0m\u001b[0m\n\u001b[0;32m      4\u001b[0m \u001b[1;33m\u001b[0m\u001b[0m\n\u001b[0;32m      5\u001b[0m def binary_blobs(length=512, blob_size_fraction=0.1, n_dim=2,\n",
      "\u001b[1;32m~\\AppData\\Local\\Continuum\\anaconda3\\lib\\site-packages\\skimage\\filters\\__init__.py\u001b[0m in \u001b[0;36m<module>\u001b[1;34m\u001b[0m\n\u001b[0;32m      1\u001b[0m \u001b[1;32mfrom\u001b[0m \u001b[1;33m.\u001b[0m\u001b[0mlpi_filter\u001b[0m \u001b[1;32mimport\u001b[0m \u001b[0minverse\u001b[0m\u001b[1;33m,\u001b[0m \u001b[0mwiener\u001b[0m\u001b[1;33m,\u001b[0m \u001b[0mLPIFilter2D\u001b[0m\u001b[1;33m\u001b[0m\u001b[1;33m\u001b[0m\u001b[0m\n\u001b[0;32m      2\u001b[0m \u001b[1;32mfrom\u001b[0m \u001b[1;33m.\u001b[0m\u001b[0m_gaussian\u001b[0m \u001b[1;32mimport\u001b[0m \u001b[0mgaussian\u001b[0m\u001b[1;33m\u001b[0m\u001b[1;33m\u001b[0m\u001b[0m\n\u001b[1;32m----> 3\u001b[1;33m from .edges import (sobel, sobel_h, sobel_v,\n\u001b[0m\u001b[0;32m      4\u001b[0m                     \u001b[0mscharr\u001b[0m\u001b[1;33m,\u001b[0m \u001b[0mscharr_h\u001b[0m\u001b[1;33m,\u001b[0m \u001b[0mscharr_v\u001b[0m\u001b[1;33m,\u001b[0m\u001b[1;33m\u001b[0m\u001b[1;33m\u001b[0m\u001b[0m\n\u001b[0;32m      5\u001b[0m                     \u001b[0mprewitt\u001b[0m\u001b[1;33m,\u001b[0m \u001b[0mprewitt_h\u001b[0m\u001b[1;33m,\u001b[0m \u001b[0mprewitt_v\u001b[0m\u001b[1;33m,\u001b[0m\u001b[1;33m\u001b[0m\u001b[1;33m\u001b[0m\u001b[0m\n",
      "\u001b[1;32m~\\AppData\\Local\\Continuum\\anaconda3\\lib\\site-packages\\skimage\\filters\\edges.py\u001b[0m in \u001b[0;36m<module>\u001b[1;34m\u001b[0m\n\u001b[0;32m     15\u001b[0m \u001b[1;32mfrom\u001b[0m \u001b[0mscipy\u001b[0m\u001b[1;33m.\u001b[0m\u001b[0mndimage\u001b[0m \u001b[1;32mimport\u001b[0m \u001b[0mconvolve\u001b[0m\u001b[1;33m,\u001b[0m \u001b[0mbinary_erosion\u001b[0m\u001b[1;33m,\u001b[0m \u001b[0mgenerate_binary_structure\u001b[0m\u001b[1;33m\u001b[0m\u001b[1;33m\u001b[0m\u001b[0m\n\u001b[0;32m     16\u001b[0m \u001b[1;33m\u001b[0m\u001b[0m\n\u001b[1;32m---> 17\u001b[1;33m \u001b[1;32mfrom\u001b[0m \u001b[1;33m.\u001b[0m\u001b[1;33m.\u001b[0m\u001b[0mrestoration\u001b[0m\u001b[1;33m.\u001b[0m\u001b[0muft\u001b[0m \u001b[1;32mimport\u001b[0m \u001b[0mlaplacian\u001b[0m\u001b[1;33m\u001b[0m\u001b[1;33m\u001b[0m\u001b[0m\n\u001b[0m\u001b[0;32m     18\u001b[0m \u001b[1;33m\u001b[0m\u001b[0m\n\u001b[0;32m     19\u001b[0m \u001b[0mEROSION_SELEM\u001b[0m \u001b[1;33m=\u001b[0m \u001b[0mgenerate_binary_structure\u001b[0m\u001b[1;33m(\u001b[0m\u001b[1;36m2\u001b[0m\u001b[1;33m,\u001b[0m \u001b[1;36m2\u001b[0m\u001b[1;33m)\u001b[0m\u001b[1;33m\u001b[0m\u001b[1;33m\u001b[0m\u001b[0m\n",
      "\u001b[1;32m~\\AppData\\Local\\Continuum\\anaconda3\\lib\\site-packages\\skimage\\restoration\\__init__.py\u001b[0m in \u001b[0;36m<module>\u001b[1;34m\u001b[0m\n\u001b[0;32m      3\u001b[0m \"\"\"\n\u001b[0;32m      4\u001b[0m \u001b[1;33m\u001b[0m\u001b[0m\n\u001b[1;32m----> 5\u001b[1;33m \u001b[1;32mfrom\u001b[0m \u001b[1;33m.\u001b[0m\u001b[0mdeconvolution\u001b[0m \u001b[1;32mimport\u001b[0m \u001b[0mwiener\u001b[0m\u001b[1;33m,\u001b[0m \u001b[0munsupervised_wiener\u001b[0m\u001b[1;33m,\u001b[0m \u001b[0mrichardson_lucy\u001b[0m\u001b[1;33m\u001b[0m\u001b[1;33m\u001b[0m\u001b[0m\n\u001b[0m\u001b[0;32m      6\u001b[0m \u001b[1;32mfrom\u001b[0m \u001b[1;33m.\u001b[0m\u001b[0munwrap\u001b[0m \u001b[1;32mimport\u001b[0m \u001b[0munwrap_phase\u001b[0m\u001b[1;33m\u001b[0m\u001b[1;33m\u001b[0m\u001b[0m\n\u001b[0;32m      7\u001b[0m from ._denoise import (denoise_tv_chambolle, denoise_tv_bregman,\n",
      "\u001b[1;32m~\\AppData\\Local\\Continuum\\anaconda3\\lib\\site-packages\\skimage\\restoration\\deconvolution.py\u001b[0m in \u001b[0;36m<module>\u001b[1;34m\u001b[0m\n\u001b[0;32m      4\u001b[0m \u001b[1;32mimport\u001b[0m \u001b[0mnumpy\u001b[0m \u001b[1;32mas\u001b[0m \u001b[0mnp\u001b[0m\u001b[1;33m\u001b[0m\u001b[1;33m\u001b[0m\u001b[0m\n\u001b[0;32m      5\u001b[0m \u001b[1;32mimport\u001b[0m \u001b[0mnumpy\u001b[0m\u001b[1;33m.\u001b[0m\u001b[0mrandom\u001b[0m \u001b[1;32mas\u001b[0m \u001b[0mnpr\u001b[0m\u001b[1;33m\u001b[0m\u001b[1;33m\u001b[0m\u001b[0m\n\u001b[1;32m----> 6\u001b[1;33m \u001b[1;32mfrom\u001b[0m \u001b[0mscipy\u001b[0m\u001b[1;33m.\u001b[0m\u001b[0msignal\u001b[0m \u001b[1;32mimport\u001b[0m \u001b[0mfftconvolve\u001b[0m\u001b[1;33m,\u001b[0m \u001b[0mconvolve\u001b[0m\u001b[1;33m\u001b[0m\u001b[1;33m\u001b[0m\u001b[0m\n\u001b[0m\u001b[0;32m      7\u001b[0m \u001b[1;33m\u001b[0m\u001b[0m\n\u001b[0;32m      8\u001b[0m \u001b[1;32mfrom\u001b[0m \u001b[1;33m.\u001b[0m \u001b[1;32mimport\u001b[0m \u001b[0muft\u001b[0m\u001b[1;33m\u001b[0m\u001b[1;33m\u001b[0m\u001b[0m\n",
      "\u001b[1;32m~\\AppData\\Local\\Continuum\\anaconda3\\lib\\site-packages\\scipy\\signal\\__init__.py\u001b[0m in \u001b[0;36m<module>\u001b[1;34m\u001b[0m\n\u001b[0;32m    302\u001b[0m \u001b[1;32mfrom\u001b[0m \u001b[1;33m.\u001b[0m\u001b[0mfilter_design\u001b[0m \u001b[1;32mimport\u001b[0m \u001b[1;33m*\u001b[0m\u001b[1;33m\u001b[0m\u001b[1;33m\u001b[0m\u001b[0m\n\u001b[0;32m    303\u001b[0m \u001b[1;32mfrom\u001b[0m \u001b[1;33m.\u001b[0m\u001b[0mfir_filter_design\u001b[0m \u001b[1;32mimport\u001b[0m \u001b[1;33m*\u001b[0m\u001b[1;33m\u001b[0m\u001b[1;33m\u001b[0m\u001b[0m\n\u001b[1;32m--> 304\u001b[1;33m \u001b[1;32mfrom\u001b[0m \u001b[1;33m.\u001b[0m\u001b[0mltisys\u001b[0m \u001b[1;32mimport\u001b[0m \u001b[1;33m*\u001b[0m\u001b[1;33m\u001b[0m\u001b[1;33m\u001b[0m\u001b[0m\n\u001b[0m\u001b[0;32m    305\u001b[0m \u001b[1;32mfrom\u001b[0m \u001b[1;33m.\u001b[0m\u001b[0mlti_conversion\u001b[0m \u001b[1;32mimport\u001b[0m \u001b[1;33m*\u001b[0m\u001b[1;33m\u001b[0m\u001b[1;33m\u001b[0m\u001b[0m\n\u001b[0;32m    306\u001b[0m \u001b[1;32mfrom\u001b[0m \u001b[1;33m.\u001b[0m\u001b[0msignaltools\u001b[0m \u001b[1;32mimport\u001b[0m \u001b[1;33m*\u001b[0m\u001b[1;33m\u001b[0m\u001b[1;33m\u001b[0m\u001b[0m\n",
      "\u001b[1;32m~\\AppData\\Local\\Continuum\\anaconda3\\lib\\site-packages\\scipy\\signal\\ltisys.py\u001b[0m in \u001b[0;36m<module>\u001b[1;34m\u001b[0m\n\u001b[0;32m     26\u001b[0m \u001b[1;33m\u001b[0m\u001b[0m\n\u001b[0;32m     27\u001b[0m \u001b[1;32mfrom\u001b[0m \u001b[0mscipy\u001b[0m\u001b[1;33m.\u001b[0m\u001b[0mlinalg\u001b[0m \u001b[1;32mimport\u001b[0m \u001b[0mqr\u001b[0m \u001b[1;32mas\u001b[0m \u001b[0ms_qr\u001b[0m\u001b[1;33m\u001b[0m\u001b[1;33m\u001b[0m\u001b[0m\n\u001b[1;32m---> 28\u001b[1;33m \u001b[1;32mfrom\u001b[0m \u001b[0mscipy\u001b[0m \u001b[1;32mimport\u001b[0m \u001b[0mintegrate\u001b[0m\u001b[1;33m,\u001b[0m \u001b[0minterpolate\u001b[0m\u001b[1;33m,\u001b[0m \u001b[0mlinalg\u001b[0m\u001b[1;33m\u001b[0m\u001b[1;33m\u001b[0m\u001b[0m\n\u001b[0m\u001b[0;32m     29\u001b[0m \u001b[1;32mfrom\u001b[0m \u001b[0mscipy\u001b[0m\u001b[1;33m.\u001b[0m\u001b[0minterpolate\u001b[0m \u001b[1;32mimport\u001b[0m \u001b[0minterp1d\u001b[0m\u001b[1;33m\u001b[0m\u001b[1;33m\u001b[0m\u001b[0m\n\u001b[0;32m     30\u001b[0m from .filter_design import (tf2zpk, zpk2tf, normalize, freqs, freqz, freqs_zpk,\n",
      "\u001b[1;32m~\\AppData\\Local\\Continuum\\anaconda3\\lib\\site-packages\\scipy\\interpolate\\__init__.py\u001b[0m in \u001b[0;36m<module>\u001b[1;34m\u001b[0m\n\u001b[0;32m    164\u001b[0m \u001b[1;33m(\u001b[0m\u001b[0mshould\u001b[0m \u001b[1;32mnot\u001b[0m \u001b[0mbe\u001b[0m \u001b[0mused\u001b[0m \u001b[1;32min\u001b[0m \u001b[0mnew\u001b[0m \u001b[0mcode\u001b[0m\u001b[1;33m)\u001b[0m\u001b[1;33m.\u001b[0m\u001b[1;33m\u001b[0m\u001b[1;33m\u001b[0m\u001b[0m\n\u001b[0;32m    165\u001b[0m \"\"\"\n\u001b[1;32m--> 166\u001b[1;33m \u001b[1;32mfrom\u001b[0m \u001b[1;33m.\u001b[0m\u001b[0minterpolate\u001b[0m \u001b[1;32mimport\u001b[0m \u001b[1;33m*\u001b[0m\u001b[1;33m\u001b[0m\u001b[1;33m\u001b[0m\u001b[0m\n\u001b[0m\u001b[0;32m    167\u001b[0m \u001b[1;32mfrom\u001b[0m \u001b[1;33m.\u001b[0m\u001b[0mfitpack\u001b[0m \u001b[1;32mimport\u001b[0m \u001b[1;33m*\u001b[0m\u001b[1;33m\u001b[0m\u001b[1;33m\u001b[0m\u001b[0m\n\u001b[0;32m    168\u001b[0m \u001b[1;33m\u001b[0m\u001b[0m\n",
      "\u001b[1;32m~\\AppData\\Local\\Continuum\\anaconda3\\lib\\site-packages\\scipy\\interpolate\\interpolate.py\u001b[0m in \u001b[0;36m<module>\u001b[1;34m\u001b[0m\n\u001b[0;32m     16\u001b[0m \u001b[1;32mfrom\u001b[0m \u001b[1;33m.\u001b[0m \u001b[1;32mimport\u001b[0m \u001b[0mdfitpack\u001b[0m\u001b[1;33m\u001b[0m\u001b[1;33m\u001b[0m\u001b[0m\n\u001b[0;32m     17\u001b[0m \u001b[1;32mfrom\u001b[0m \u001b[1;33m.\u001b[0m \u001b[1;32mimport\u001b[0m \u001b[0m_fitpack\u001b[0m\u001b[1;33m\u001b[0m\u001b[1;33m\u001b[0m\u001b[0m\n\u001b[1;32m---> 18\u001b[1;33m \u001b[1;32mfrom\u001b[0m \u001b[1;33m.\u001b[0m\u001b[0mpolyint\u001b[0m \u001b[1;32mimport\u001b[0m \u001b[0m_Interpolator1D\u001b[0m\u001b[1;33m\u001b[0m\u001b[1;33m\u001b[0m\u001b[0m\n\u001b[0m\u001b[0;32m     19\u001b[0m \u001b[1;32mfrom\u001b[0m \u001b[1;33m.\u001b[0m \u001b[1;32mimport\u001b[0m \u001b[0m_ppoly\u001b[0m\u001b[1;33m\u001b[0m\u001b[1;33m\u001b[0m\u001b[0m\n\u001b[0;32m     20\u001b[0m \u001b[1;32mfrom\u001b[0m \u001b[1;33m.\u001b[0m\u001b[0mfitpack2\u001b[0m \u001b[1;32mimport\u001b[0m \u001b[0mRectBivariateSpline\u001b[0m\u001b[1;33m\u001b[0m\u001b[1;33m\u001b[0m\u001b[0m\n",
      "\u001b[1;32m~\\AppData\\Local\\Continuum\\anaconda3\\lib\\importlib\\_bootstrap.py\u001b[0m in \u001b[0;36m_find_and_load\u001b[1;34m(name, import_)\u001b[0m\n",
      "\u001b[1;32m~\\AppData\\Local\\Continuum\\anaconda3\\lib\\importlib\\_bootstrap.py\u001b[0m in \u001b[0;36m_find_and_load_unlocked\u001b[1;34m(name, import_)\u001b[0m\n",
      "\u001b[1;32m~\\AppData\\Local\\Continuum\\anaconda3\\lib\\importlib\\_bootstrap.py\u001b[0m in \u001b[0;36m_find_spec\u001b[1;34m(name, path, target)\u001b[0m\n",
      "\u001b[1;32m~\\AppData\\Local\\Continuum\\anaconda3\\lib\\importlib\\_bootstrap_external.py\u001b[0m in \u001b[0;36mfind_spec\u001b[1;34m(cls, fullname, path, target)\u001b[0m\n",
      "\u001b[1;32m~\\AppData\\Local\\Continuum\\anaconda3\\lib\\importlib\\_bootstrap_external.py\u001b[0m in \u001b[0;36m_get_spec\u001b[1;34m(cls, fullname, path, target)\u001b[0m\n",
      "\u001b[1;32m~\\AppData\\Local\\Continuum\\anaconda3\\lib\\importlib\\_bootstrap_external.py\u001b[0m in \u001b[0;36mfind_spec\u001b[1;34m(self, fullname, target)\u001b[0m\n",
      "\u001b[1;32m~\\AppData\\Local\\Continuum\\anaconda3\\lib\\importlib\\_bootstrap_external.py\u001b[0m in \u001b[0;36m_path_stat\u001b[1;34m(path)\u001b[0m\n",
      "\u001b[1;31mKeyboardInterrupt\u001b[0m: "
     ]
    }
   ],
   "source": [
    "import os\n",
    "import tkinter.filedialog as fdialog\n",
    "import Neuron_analysis as na\n",
    "from Neuron_analysis import *\n",
    "import numpy as np\n",
    "\n",
    "import pandas as pd\n",
    "import SimpleITK as sitk"
   ]
  },
  {
   "cell_type": "code",
   "execution_count": null,
   "metadata": {},
   "outputs": [],
   "source": [
    "na.points.downsample_anno()\n",
    "# repeat for both axons and dendrites\n",
    "# note that the original and goal resolution is hard coded within the Neuron_analysis module.."
   ]
  },
  {
   "cell_type": "code",
   "execution_count": null,
   "metadata": {},
   "outputs": [],
   "source": [
    "in_dir = fdialog.askdirectory(title='Please select the input directory')\n",
    "# ie: D:\\2PT electroporation time\\AL066\n",
    "axon= fdialog.askopenfilename(title='Selecte the points for axons')\n",
    "dendrite= fdialog.askopenfilename(title='Selecte the points for dendrites')"
   ]
  },
  {
   "cell_type": "code",
   "execution_count": null,
   "metadata": {},
   "outputs": [],
   "source": [
    "out_dir='D:/Complete_points/'\n",
    "mouse_name=na.find_mousename(in_dir)\n",
    "out_name=out_dir+mouse_name"
   ]
  },
  {
   "cell_type": "code",
   "execution_count": null,
   "metadata": {},
   "outputs": [],
   "source": [
    "na.points.downsample_anno()\n",
    "# repeat for both axons and dendrites\n",
    "# need to save under the same folder with ara2sample_atlas for na.get_pt_natlas() to work"
   ]
  },
  {
   "cell_type": "code",
   "execution_count": null,
   "metadata": {},
   "outputs": [],
   "source": [
    "# Cell 6\n",
    "is_axon=1\n",
    "\n",
    "if is_axon==1:\n",
    "    file_type=axon\n",
    "elif is_axon==0:\n",
    "    file_type=dendrite\n",
    "# put 0 if working with dendrites"
   ]
  },
  {
   "cell_type": "code",
   "execution_count": null,
   "metadata": {},
   "outputs": [],
   "source": [
    "# Two useful functions\n",
    "def check_points(points_in_atlas):\n",
    "    '''Checks whether all your points' ID is within the atlas labels\n",
    "    Input: matching ID of the points (this is the second output from na.make_pd)\n",
    "    '''\n",
    "    id_inatlas=[]\n",
    "    for x in atlas_labels['region_id']:\n",
    "        intID = int(x)\n",
    "        id_inatlas.append(intID)\n",
    "\n",
    "    # need to format this first ourselves,otherwise problematic for 0 and very large numbers (idk why)    \n",
    "\n",
    "    num_of_zeros = [i for i, x in enumerate(points_in_atlas) if x == 0]\n",
    "    # find the indices for which carries an id =0\n",
    "    \n",
    "    unique_id=set(points_in_atlas)\n",
    "    \n",
    "    for id_inbrain in unique_id:\n",
    "        if id_inbrain not in id_inatlas:\n",
    "            if id_inbrain==0:\n",
    "                print(f'There are {len(num_of_zeros)} points with ID= {id_inbrain}, this index is outside of the brain, consider possible suboptimal image registration')\n",
    "            else: \n",
    "                print(id_inbrain,'this index does not exist in allen reference atlas, see https://github.com/ChristophKirst/ClearMap/issues/37')\n",
    "            warnings.warn('Some points do not have corresponding labels')\n",
    "    return \n",
    "\n",
    "def make_pd(all_points, out_name, atlas_name, axon=1):\n",
    "    ''' \n",
    "    For ara2sample only\n",
    "    Takes in all points (as a list, usually the output of na.refill_section or na.get_pt_natlas ) and formulates a pd structure.\n",
    "    Input: downsampled points (in transformix compatible format), name of corresponding indicies of endings \n",
    "    ouputs: a pandas dataframe with anatomical regions and their corresponding total points count and ending points count, list of atlas ID for each point\n",
    "    \n",
    "    '''\n",
    "                        \n",
    "    image= sitk.ReadImage(atlas_name)\n",
    "    atlas =sitk.GetArrayFromImage(image)\n",
    "        \n",
    "    points_in_atlas=[int(atlas[i[2], i[1],i[0]]) for i in all_points ]\n",
    "    #find an ID for all points\n",
    "\n",
    "    unique_id=set(points_in_atlas)\n",
    "\n",
    "    our_regions=atlas_labels.loc[atlas_labels['region_id'].isin (unique_id)]\n",
    "\n",
    "    id_withcounts=[]\n",
    "    for i in unique_id:\n",
    "        id_withcounts.append([i, points_in_atlas.count(i)])\n",
    "\n",
    "    new_df= pd.DataFrame(id_withcounts, columns=['region_id', 'Total_counts'])\n",
    "    our_regionWcounts=pd.merge(our_regions, new_df)\n",
    "    \n",
    "    if axon==1:\n",
    "        out_name=out_name + 'axons_region_with_counts.xls'\n",
    "    else:\n",
    "        out_name=out_name + 'dendrites_region_with_counts.xls'\n",
    "    \n",
    "    our_regionWcounts.to_excel(out_name,index=None,header=True)\n",
    "\n",
    "    return our_regionWcounts.sort_values(by=['Total_counts']), points_in_atlas"
   ]
  },
  {
   "cell_type": "code",
   "execution_count": null,
   "metadata": {},
   "outputs": [],
   "source": [
    "atlas_labels=pd.read_csv('D:\\Allenbrainatlas\\ARA_25_micron_mhd_ccf2017\\wraped\\ccf_2017_itksnap_labels.csv', sep=',')"
   ]
  },
  {
   "cell_type": "code",
   "execution_count": null,
   "metadata": {},
   "outputs": [],
   "source": [
    "points,atlas_name=na.get_pt_natlas(file_type,in_dir)\n",
    "# read points and get path name of the corresponding atlas"
   ]
  },
  {
   "cell_type": "code",
   "execution_count": null,
   "metadata": {},
   "outputs": [],
   "source": [
    "if is_axon :\n",
    "    na.atlas.make_tif_1(points, atlas_name,out_dir+mouse_name, is_axon)\n",
    "else:\n",
    "    na.atlas.make_tif(points, atlas_name,out_dir+mouse_name, is_axon)\n",
    "# save points as a tiff file for visualization and overlay\n",
    "# for dendrites, keep the intensities different since...its too cramped up and will look bad!"
   ]
  },
  {
   "cell_type": "code",
   "execution_count": null,
   "metadata": {},
   "outputs": [],
   "source": [
    "check_points(points_in_atlas)\n",
    "#we should only see id=0 as possibility now since now is using the itksnap_wraped atlas"
   ]
  },
  {
   "cell_type": "code",
   "execution_count": null,
   "metadata": {},
   "outputs": [],
   "source": [
    "points_in_atlas= np.where(points_in_atlas==0, 844, points_in_atlas) \n",
    "# replace id= 0 with 844 (ssp-bfd layer1)\n",
    "\n",
    "if is_axon :\n",
    "    points_in_atlas= np.where(points_in_atlas==800 , 215 , points_in_atlas) \n",
    "    points_in_atlas= np.where(points_in_atlas==1092 , 215 , points_in_atlas)\n",
    "    # replace id= 800 (subependymal zone) and 1092 (lateral ventricle) with 215(caudoputamen)\n",
    "    # especially for AL131\n",
    "    \n",
    "    points_in_atlas= np.where(points_in_atlas==1242, 1296 , points_in_atlas) \n",
    "    points_in_atlas= np.where(points_in_atlas==1127, 1296 , points_in_atlas)\n",
    "    # replace id= 1242 (optic radiation)  and id= 1127 (auditory radiation) with 1296, stc(a subregion of fiber bundle)\n",
    "    # these are intrinsic issue of the allen atlas, the labels for these regions are wrong\n",
    "\n",
    "check_points(points_in_atlas)\n",
    "# check again to see if 0 disappears"
   ]
  },
  {
   "cell_type": "code",
   "execution_count": null,
   "metadata": {},
   "outputs": [],
   "source": [
    "region_counts=na.points.make_pd_ara2sample(points_in_atlas.tolist(),atlas_labels,out_name,is_axon)\n",
    "# This gives an excel file identifying number of points in a given region\n"
   ]
  },
  {
   "cell_type": "markdown",
   "metadata": {},
   "source": [
    "## Repeat the above cells to have an excel file for all neuron. \n",
    "#### step below: associated region id on origional(non-downsampled and non-transformed) annotation (converted to um units and resampled to 1um steps)"
   ]
  },
  {
   "cell_type": "code",
   "execution_count": null,
   "metadata": {},
   "outputs": [],
   "source": [
    "points_original= fdialog.askopenfilename(title='Selecte the original resampled points')\n",
    "# asks for the non-downsampled annotation, usually the eswc file that has been converted to um and resampled at 1 um steps\n",
    "# typically in petersen server analysis folder\n",
    "\n",
    "original_withID=na.points.findID_origional(points_original, points_in_atlas,out_name,is_axon)\n",
    "#makes a csv file with original points and their associated id"
   ]
  },
  {
   "cell_type": "markdown",
   "metadata": {},
   "source": [
    "### Plot coronal, horizontal and bf view in higher resolution\n",
    "\n",
    "with different colours for axons in grey matter, white matter, or striatum\n",
    "\n",
    "Same ideas for dendrite but all dendrite are in grey matter, so it would be a simplified code for them"
   ]
  },
  {
   "cell_type": "code",
   "execution_count": 27,
   "metadata": {},
   "outputs": [],
   "source": [
    "import matplotlib.pyplot as plt\n",
    "import tkinter.filedialog as fdialog\n",
    "\n",
    "import math\n"
   ]
  },
  {
   "cell_type": "code",
   "execution_count": 3,
   "metadata": {},
   "outputs": [],
   "source": [
    "out_dir='M:\\\\analysis\\Yanqi_Liu\\\\For_anatomy_manuscript\\\\Figures\\\\For_reviewers\\\\'\n"
   ]
  },
  {
   "cell_type": "code",
   "execution_count": 34,
   "metadata": {},
   "outputs": [],
   "source": [
    "atlas_labels=pd.read_csv('D:\\Allenbrainatlas\\ARA_25_micron_mhd_ccf2017\\wraped\\ccf_2017_itksnap_labels.csv', sep=',')\n"
   ]
  },
  {
   "cell_type": "code",
   "execution_count": 188,
   "metadata": {},
   "outputs": [
    {
     "data": {
      "text/plain": [
       "'AL092'"
      ]
     },
     "execution_count": 188,
     "metadata": {},
     "output_type": "execute_result"
    }
   ],
   "source": [
    "ori_pointsID= fdialog.askopenfilename(title='Selecte the original resampled points with ID excel file')\n",
    "mouse_name= na.find_mousename(ori_pointsID)\n",
    "out_name=out_dir+mouse_name\n",
    "mouse_name"
   ]
  },
  {
   "cell_type": "code",
   "execution_count": 189,
   "metadata": {},
   "outputs": [
    {
     "data": {
      "text/html": [
       "<div>\n",
       "<style scoped>\n",
       "    .dataframe tbody tr th:only-of-type {\n",
       "        vertical-align: middle;\n",
       "    }\n",
       "\n",
       "    .dataframe tbody tr th {\n",
       "        vertical-align: top;\n",
       "    }\n",
       "\n",
       "    .dataframe thead th {\n",
       "        text-align: right;\n",
       "    }\n",
       "</style>\n",
       "<table border=\"1\" class=\"dataframe\">\n",
       "  <thead>\n",
       "    <tr style=\"text-align: right;\">\n",
       "      <th></th>\n",
       "      <th>x</th>\n",
       "      <th>y</th>\n",
       "      <th>z</th>\n",
       "      <th>atlasID</th>\n",
       "    </tr>\n",
       "  </thead>\n",
       "  <tbody>\n",
       "    <tr>\n",
       "      <th>0</th>\n",
       "      <td>3427.11</td>\n",
       "      <td>2251.20</td>\n",
       "      <td>4225.56</td>\n",
       "      <td>845</td>\n",
       "    </tr>\n",
       "    <tr>\n",
       "      <th>1</th>\n",
       "      <td>3427.13</td>\n",
       "      <td>2250.80</td>\n",
       "      <td>4226.47</td>\n",
       "      <td>845</td>\n",
       "    </tr>\n",
       "    <tr>\n",
       "      <th>2</th>\n",
       "      <td>3427.15</td>\n",
       "      <td>2250.40</td>\n",
       "      <td>4227.39</td>\n",
       "      <td>845</td>\n",
       "    </tr>\n",
       "    <tr>\n",
       "      <th>3</th>\n",
       "      <td>3427.17</td>\n",
       "      <td>2250.01</td>\n",
       "      <td>4228.31</td>\n",
       "      <td>845</td>\n",
       "    </tr>\n",
       "    <tr>\n",
       "      <th>4</th>\n",
       "      <td>3427.20</td>\n",
       "      <td>2249.61</td>\n",
       "      <td>4229.22</td>\n",
       "      <td>844</td>\n",
       "    </tr>\n",
       "  </tbody>\n",
       "</table>\n",
       "</div>"
      ],
      "text/plain": [
       "         x        y        z  atlasID\n",
       "0  3427.11  2251.20  4225.56      845\n",
       "1  3427.13  2250.80  4226.47      845\n",
       "2  3427.15  2250.40  4227.39      845\n",
       "3  3427.17  2250.01  4228.31      845\n",
       "4  3427.20  2249.61  4229.22      844"
      ]
     },
     "execution_count": 189,
     "metadata": {},
     "output_type": "execute_result"
    }
   ],
   "source": [
    "original_withID= pd.read_csv (ori_pointsID)\n",
    "original_withID.head()"
   ]
  },
  {
   "cell_type": "code",
   "execution_count": 190,
   "metadata": {},
   "outputs": [],
   "source": [
    "full_label=pd.merge(na.atlas_labels, atlas_labels, on = 'acronym')"
   ]
  },
  {
   "cell_type": "code",
   "execution_count": 191,
   "metadata": {},
   "outputs": [],
   "source": [
    "fiber_tracts=full_label[full_label['structure_id_path'].str.contains(\"1009\")].region_id\n",
    "fiber_tracts=fiber_tracts.tolist()"
   ]
  },
  {
   "cell_type": "code",
   "execution_count": 192,
   "metadata": {},
   "outputs": [],
   "source": [
    "striatum=full_label[full_label['structure_id_path'].str.contains(\"477\")].region_id\n",
    "striatum=striatum.tolist()"
   ]
  },
  {
   "cell_type": "code",
   "execution_count": null,
   "metadata": {},
   "outputs": [],
   "source": []
  },
  {
   "cell_type": "code",
   "execution_count": 193,
   "metadata": {},
   "outputs": [],
   "source": [
    "white=original_withID.loc[original_withID['atlasID'].isin(fiber_tracts)]\n",
    "grey=original_withID.loc[~original_withID['atlasID'].isin(fiber_tracts) & ~original_withID['atlasID'].isin(striatum)]\n",
    "stri=original_withID.loc[original_withID['atlasID'].isin(striatum)]"
   ]
  },
  {
   "cell_type": "code",
   "execution_count": 208,
   "metadata": {},
   "outputs": [
    {
     "data": {
      "text/plain": [
       "True"
      ]
     },
     "execution_count": 208,
     "metadata": {},
     "output_type": "execute_result"
    }
   ],
   "source": [
    "white.empty"
   ]
  },
  {
   "cell_type": "code",
   "execution_count": 209,
   "metadata": {},
   "outputs": [
    {
     "data": {
      "text/plain": [
       "False"
      ]
     },
     "execution_count": 209,
     "metadata": {},
     "output_type": "execute_result"
    }
   ],
   "source": [
    "grey.empty"
   ]
  },
  {
   "cell_type": "code",
   "execution_count": 210,
   "metadata": {},
   "outputs": [
    {
     "data": {
      "text/plain": [
       "True"
      ]
     },
     "execution_count": 210,
     "metadata": {},
     "output_type": "execute_result"
    }
   ],
   "source": [
    "stri.empty"
   ]
  },
  {
   "cell_type": "code",
   "execution_count": 197,
   "metadata": {},
   "outputs": [],
   "source": [
    "xg= pd.to_numeric(grey['x']).round()\n",
    "yg= pd.to_numeric(grey['y']).round()\n",
    "zg= pd.to_numeric(grey['z']).round()\n",
    "\n",
    "xw= pd.to_numeric(white['x']).round()\n",
    "yw= pd.to_numeric(white['y']).round()\n",
    "zw= pd.to_numeric(white['z']).round()\n",
    "\n",
    "xs= pd.to_numeric(stri['x']).round()\n",
    "ys= pd.to_numeric(stri['y']).round()\n",
    "zs= pd.to_numeric(stri['z']).round()"
   ]
  },
  {
   "cell_type": "code",
   "execution_count": 198,
   "metadata": {},
   "outputs": [
    {
     "data": {
      "image/png": "[encoded data removed]",
      "text/plain": [
       "<Figure size 432x288 with 1 Axes>"
      ]
     },
     "metadata": {
      "needs_background": "light"
     },
     "output_type": "display_data"
    }
   ],
   "source": [
    "plt.scatter(xg[::5], yg[::5],s=0.01, c='red')\n",
    "plt.scatter(xw[::5], yw[::5], s= 0.01, c= 'deepskyblue')\n",
    "plt.scatter(xs[::5], ys[::5], s= 0.01, c= 'lime')\n",
    "frame1 = plt.gca()\n",
    "frame1.axes.get_xaxis().set_visible(False)\n",
    "frame1.axes.get_yaxis().set_visible(False)\n",
    "plt.savefig(out_name+\"_c_axons.svg\", format='svg')\n",
    "\n",
    "plt.show()"
   ]
  },
  {
   "cell_type": "code",
   "execution_count": 199,
   "metadata": {},
   "outputs": [
    {
     "data": {
      "image/png": "[encoded data removed]",
      "text/plain": [
       "<Figure size 432x288 with 1 Axes>"
      ]
     },
     "metadata": {
      "needs_background": "light"
     },
     "output_type": "display_data"
    }
   ],
   "source": [
    "plt.scatter(xg[::5], zg[::5],s=0.01, c='red')\n",
    "plt.scatter(xw[::5], zw[::5], s= 0.01, c= 'deepskyblue')\n",
    "plt.scatter(xs[::5], zs[::5], s= 0.01, c= 'lime')\n",
    "frame1 = plt.gca()\n",
    "frame1.axes.get_xaxis().set_visible(False)\n",
    "frame1.axes.get_yaxis().set_visible(False)\n",
    "plt.savefig(out_name+\"_h_axons.svg\", format='svg')\n",
    "plt.show()\n",
    "#horizontal view"
   ]
  },
  {
   "cell_type": "code",
   "execution_count": 200,
   "metadata": {},
   "outputs": [],
   "source": [
    "def rotate(x,y,xo,yo,degrees): #rotate x,y around xo,yo by x degrees\n",
    "    theta = np.deg2rad(degrees) # convert degrees to rad\n",
    "    xr=math.cos(theta)*(x-xo)-math.sin(theta)*(y-yo)  + xo\n",
    "    yr=math.sin(theta)*(x-xo)+math.cos(theta)*(y-yo)  + yo\n",
    "    return [xr,yr]"
   ]
  },
  {
   "cell_type": "code",
   "execution_count": 201,
   "metadata": {},
   "outputs": [],
   "source": [
    "list_xy= list(zip(xg,yg))\n",
    "list_xy[1]\n",
    "rot_xg=[]\n",
    "rot_yg=[]\n",
    "for i in list_xy:\n",
    "    x= i[0]\n",
    "    y= i[1]\n",
    "    newx,newy= rotate(x,y,0,0,30)\n",
    "    rot_xg.append(newx)\n",
    "    rot_yg.append(newy)\n",
    "\n",
    "list_xy= []"
   ]
  },
  {
   "cell_type": "code",
   "execution_count": 202,
   "metadata": {},
   "outputs": [],
   "source": [
    "if xw.empty:\n",
    "    rot_xw=[]\n",
    "    rot_yw=[]\n",
    "else: \n",
    "    list_xy= list(zip(xw,yw))\n",
    "    list_xy[1]\n",
    "    rot_xw=[]\n",
    "    rot_yw=[]\n",
    "    for i in list_xy:\n",
    "        x= i[0]\n",
    "        y= i[1]\n",
    "        newx,newy= rotate(x,y,0,0,30)\n",
    "        rot_xw.append(newx)\n",
    "        rot_yw.append(newy)\n",
    "\n",
    "    list_xy= []"
   ]
  },
  {
   "cell_type": "code",
   "execution_count": 203,
   "metadata": {},
   "outputs": [],
   "source": [
    "if xs.empty:\n",
    "    rot_xs=[]\n",
    "    rot_ys=[]\n",
    "else:\n",
    "    list_xy= list(zip(xs,ys))\n",
    "    list_xy[1]\n",
    "    rot_xs=[]\n",
    "    rot_ys=[]\n",
    "    for i in list_xy:\n",
    "        x= i[0]\n",
    "        y= i[1]\n",
    "        newx,newy= rotate(x,y,0,0,30)\n",
    "        rot_xs.append(newx)\n",
    "        rot_ys.append(newy)"
   ]
  },
  {
   "cell_type": "code",
   "execution_count": 204,
   "metadata": {},
   "outputs": [
    {
     "data": {
      "image/png": "[encoded data removed]",
      "text/plain": [
       "<Figure size 432x288 with 1 Axes>"
      ]
     },
     "metadata": {
      "needs_background": "light"
     },
     "output_type": "display_data"
    }
   ],
   "source": [
    "plt.scatter(rot_xg[::5], zg[::5],s=0.01, c='red')\n",
    "plt.scatter(rot_xw[::5], zw[::5], s= 0.01, c= 'deepskyblue')\n",
    "plt.scatter(rot_xs[::5], zs[::5], s= 0.01, c= 'lime')\n",
    "frame1 = plt.gca()\n",
    "frame1.axes.get_xaxis().set_visible(False)\n",
    "frame1.axes.get_yaxis().set_visible(False)\n",
    "plt.savefig(out_name+\"_bf_axons.svg\", format='svg')\n",
    "plt.show()"
   ]
  },
  {
   "cell_type": "code",
   "execution_count": null,
   "metadata": {},
   "outputs": [],
   "source": []
  },
  {
   "cell_type": "markdown",
   "metadata": {},
   "source": [
    "## Next section\n",
    "The below section then talkes a folder containing these excel file\n",
    "\n",
    "For each axonal excel file, merge subregions with the common parent region (ie, SSp-bfd Layers 1, 2/3, 4, etc becomes SSp-bfd), then save as another excel file named ALxxx_parent.xls"
   ]
  },
  {
   "cell_type": "code",
   "execution_count": null,
   "metadata": {},
   "outputs": [],
   "source": [
    "axon_files=[os.path.join('D:\\\\Complete_points\\\\' ,i) for i in files if 'axons_region_with_counts' in i]\n",
    "all_mice= set([na.find_mousename(i) for i in files])\n",
    "all_mice=list(all_mice)\n",
    "\n",
    "out_dir= 'D:\\\\Complete_points\\\\'"
   ]
  },
  {
   "cell_type": "code",
   "execution_count": null,
   "metadata": {},
   "outputs": [],
   "source": [
    "# Creates pd with parent structure (1 level up) for all\n",
    "for i in axon_files:\n",
    "    axon_bar=pd.read_excel(i).sort_values(by=['Total_counts'])\n",
    "    new_axonpd= na.atlas_labels.merge(axon_bar, on= 'acronym')\n",
    "    new_axonpd.sort_values(by= 'graph_order',axis=0, inplace=True)\n",
    "    mouse_name= na.find_mousename(i)\n",
    "    result= parent_df(new_axonpd)\n",
    "    result.to_excel(f'{out_dir}{mouse_name}_parent.xls')  "
   ]
  },
  {
   "cell_type": "code",
   "execution_count": null,
   "metadata": {},
   "outputs": [],
   "source": []
  },
  {
   "cell_type": "markdown",
   "metadata": {},
   "source": [
    "## Makes individual bar graph ##"
   ]
  },
  {
   "cell_type": "code",
   "execution_count": 4,
   "metadata": {},
   "outputs": [],
   "source": [
    "files=[os.path.join('D:\\\\Complete_points\\\\' ,i) for i in files if 'region_with_counts' in i]"
   ]
  },
  {
   "cell_type": "code",
   "execution_count": 5,
   "metadata": {},
   "outputs": [],
   "source": [
    "test= [i for i in files if re.search('AL140', i) ] # Need to manually enter the mouse identifier, or write a loop looping through them\n",
    "axon= test[0]\n",
    "dendrite=test[1]\n",
    "mousename=na.find_mousename(axon)"
   ]
  },
  {
   "cell_type": "code",
   "execution_count": 6,
   "metadata": {},
   "outputs": [],
   "source": [
    "axon_bar=pd.read_excel(axon).sort_values(by=['Total_counts'])\n",
    "dendrite_bar=pd.read_excel(dendrite).sort_values(by=['Total_counts'])"
   ]
  },
  {
   "cell_type": "code",
   "execution_count": 7,
   "metadata": {},
   "outputs": [],
   "source": [
    "new_axonpd= na.atlas_labels.merge(axon_bar, on= 'acronym')\n",
    "new_axonpd.sort_values(by= 'graph_order',axis=0, inplace=True)"
   ]
  },
  {
   "cell_type": "code",
   "execution_count": 1,
   "metadata": {},
   "outputs": [
    {
     "ename": "NameError",
     "evalue": "name 'new_axonpd' is not defined",
     "output_type": "error",
     "traceback": [
      "\u001b[1;31m---------------------------------------------------------------------------\u001b[0m",
      "\u001b[1;31mNameError\u001b[0m                                 Traceback (most recent call last)",
      "\u001b[1;32m<ipython-input-1-ef42ae4d3ec3>\u001b[0m in \u001b[0;36m<module>\u001b[1;34m\u001b[0m\n\u001b[1;32m----> 1\u001b[1;33m \u001b[0mnew_axonpd\u001b[0m\u001b[1;33m\u001b[0m\u001b[1;33m\u001b[0m\u001b[0m\n\u001b[0m",
      "\u001b[1;31mNameError\u001b[0m: name 'new_axonpd' is not defined"
     ]
    }
   ],
   "source": []
  },
  {
   "cell_type": "code",
   "execution_count": 8,
   "metadata": {},
   "outputs": [],
   "source": [
    "new_dendritepd= na.atlas_labels.merge(dendrite_bar, on= 'acronym')\n",
    "new_dendritepd.sort_values(by= 'Total_counts',axis=0, inplace=True)"
   ]
  },
  {
   "cell_type": "markdown",
   "metadata": {},
   "source": [
    "### order by total amount of a parent region "
   ]
  },
  {
   "cell_type": "code",
   "execution_count": 9,
   "metadata": {},
   "outputs": [],
   "source": [
    "def parent_df(df):\n",
    "    # group dataframe by parent id structure\n",
    "    grouped_pd=df.groupby(['parent_structure_id'],as_index=False).sum()\n",
    "    d= {'id': grouped_pd.parent_structure_id.astype(int), 'Total_counts': grouped_pd.Total_counts}\n",
    "    grouped_pd2= pd.DataFrame(data=d)\n",
    "    result = pd.merge(grouped_pd2, na.atlas_labels, on=[\"id\"])\n",
    "    result.sort_values(['Total_counts'], ascending=True, inplace=True)\n",
    "    # result is the final pd\n",
    "\n",
    "    return result"
   ]
  },
  {
   "cell_type": "code",
   "execution_count": 10,
   "metadata": {},
   "outputs": [
    {
     "data": {
      "text/plain": [
       "array([      402,      1011,       985,       485,       337,      1009,\n",
       "             776, 182305689,       361, 312782546,       417,       378,\n",
       "             369,       301,       329])"
      ]
     },
     "execution_count": 10,
     "metadata": {},
     "output_type": "execute_result"
    }
   ],
   "source": [
    "result= parent_df(new_axonpd)\n",
    "new_order=result.id.to_numpy()\n",
    "#new_order"
   ]
  },
  {
   "cell_type": "code",
   "execution_count": 11,
   "metadata": {},
   "outputs": [
    {
     "data": {
      "text/plain": [
       "array([9.85000000e+02, 9.85000000e+02, 3.29000000e+02, 3.29000000e+02,\n",
       "       3.29000000e+02, 3.29000000e+02, 3.29000000e+02, 3.29000000e+02,\n",
       "       3.37000000e+02, 3.37000000e+02, 3.69000000e+02, 3.69000000e+02,\n",
       "       3.61000000e+02, 3.61000000e+02, 1.82305689e+08, 1.82305689e+08,\n",
       "       3.78000000e+02, 3.78000000e+02, 3.78000000e+02, 1.01100000e+03,\n",
       "       4.02000000e+02, 3.12782546e+08, 3.12782546e+08, 3.12782546e+08,\n",
       "       4.17000000e+02, 4.17000000e+02, 4.17000000e+02, 4.85000000e+02,\n",
       "       1.00900000e+03, 7.76000000e+02, 3.01000000e+02])"
      ]
     },
     "execution_count": 11,
     "metadata": {},
     "output_type": "execute_result"
    }
   ],
   "source": [
    "old_order= new_axonpd.parent_structure_id.to_numpy()   \n",
    "#old_order"
   ]
  },
  {
   "cell_type": "code",
   "execution_count": 12,
   "metadata": {},
   "outputs": [
    {
     "data": {
      "text/plain": [
       "array([ 2.,  2., 14., 14., 14., 14., 14., 14.,  4.,  4., 12., 12.,  8.,\n",
       "        8.,  7.,  7., 11., 11., 11.,  1.,  0.,  9.,  9.,  9., 10., 10.,\n",
       "       10.,  3.,  5.,  6., 13.])"
      ]
     },
     "execution_count": 12,
     "metadata": {},
     "output_type": "execute_result"
    }
   ],
   "source": [
    "new_array= np.zeros_like(old_order)\n",
    "for i, j in enumerate(new_order):\n",
    "    new_array[old_order==j]=i\n",
    "\n",
    "#new_array\n",
    "# generate new order for the detailed pd"
   ]
  },
  {
   "cell_type": "code",
   "execution_count": 13,
   "metadata": {},
   "outputs": [],
   "source": [
    "new_axonpd['new_order']= new_array\n",
    "new_axonpd.sort_values('new_order', inplace=True)"
   ]
  },
  {
   "cell_type": "code",
   "execution_count": 14,
   "metadata": {},
   "outputs": [],
   "source": [
    "new_axonpd.sort_values(by=['new_order', 'region_id'], ascending=[True, False] ,inplace=True)\n",
    "# sort by new order first (total amount within the same parent id), and then within each substructure, sort by layer 1 to layer 6"
   ]
  },
  {
   "cell_type": "code",
   "execution_count": 15,
   "metadata": {
    "jupyter": {
     "source_hidden": true
    }
   },
   "outputs": [],
   "source": [
    "def plot_hist(pd_axon, pd_dendrite, mousename):\n",
    "    ''' \n",
    "    Plot horizontal histogram of all points and ending points of axons and dendrites\n",
    "    Input: pandas dataframe of axon, pandas dataframe of dendrite, mousename\n",
    "    '''\n",
    "    y=pd_axon['acronym']\n",
    "    fig = make_subplots(\n",
    "        shared_yaxes=True,\n",
    "        rows=2, cols=1,\n",
    "        row_heights=[0.9, 0.1],\n",
    "        row_titles=['Axons', 'Dendrites']\n",
    "    )\n",
    "    fig.add_trace(\n",
    "        go.Bar(\n",
    "        y=y, x=pd_axon['Total_counts']/1000, # units now in milimeters\n",
    "        marker_color='red', #for future, pd_axon['region_id'],\n",
    "        name='',\n",
    "        text=pd_axon['name'],\n",
    "        hovertemplate=\n",
    "            '<i>%{x}</i>, '+\n",
    "            '<b>%{text}</b>',\n",
    "        orientation='h'),\n",
    "        row=1,col=1\n",
    "    )\n",
    "    \n",
    "\n",
    "    z=pd_dendrite['acronym']\n",
    "    fig.add_trace(\n",
    "        go.Bar(\n",
    "        y=z, x=pd_dendrite['Total_counts']/1000, # units now in milimeters\n",
    "        marker_color='black',\n",
    "        name='',\n",
    "        text=pd_dendrite['region_id'],\n",
    "        hovertemplate=\n",
    "        '<i>%{x}</i>, '+\n",
    "        '<b>%{text}</b>',\n",
    "        orientation='h'),\n",
    "        row=2,col=1\n",
    "    )\n",
    "\n",
    "    \n",
    "    fig.update_layout(yaxis={'categoryorder':'trace'}, \n",
    "                      width=2000,\n",
    "                      height=1000, # 1500 for AL066 since too many items\n",
    "                      showlegend= False,\n",
    "                      paper_bgcolor='rgba(0,0,0,0)', # transparent background\n",
    "                      plot_bgcolor='rgba(0,0,0,0)' # transparent background\n",
    "                     )\n",
    "    \n",
    "    fig.update_xaxes(gridcolor='gold')\n",
    "    \n",
    "    fig.show()\n",
    "    # plotly.offline.plot(fig,filename='D:/'+ mousename+'/barplot.html')\n",
    "    fig.write_image(f\"{results_dir} {mousename}.svg\")\n",
    "    fig.write_html(f\"{results_dir} {mousename}.html\")"
   ]
  },
  {
   "cell_type": "code",
   "execution_count": 16,
   "metadata": {},
   "outputs": [
    {
     "data": {
      "application/vnd.plotly.v1+json": {
       "config": {
        "plotlyServerURL": "https://plot.ly"
       },
       "data": [
        {
         "hovertemplate": "<i>%{x}</i>, <b>%{text}</b>",
         "marker": {
          "color": "red"
         },
         "name": "",
         "orientation": "h",
         "text": [
          "Anterolateral visual area, layer 5",
          "Dorsal auditory area, layer 6b",
          "Primary motor area, Layer 6a",
          "Primary motor area, Layer 5",
          "Caudoputamen",
          "Primary somatosensory area, lower limb, layer 6a",
          "Primary somatosensory area, lower limb, layer 5",
          "supra-callosal cerebral white matter",
          "corpus callosum, splenium",
          "Primary somatosensory area, unassigned, layer 6a",
          "Primary somatosensory area, unassigned, layer 5",
          "Primary somatosensory area, trunk, layer 2/3",
          "Primary somatosensory area, trunk, layer 1",
          "Anterior area, layer 4",
          "Anterior area, layer 2/3",
          "Anterior area, layer 1",
          "Rostrolateral area, layer 5",
          "Rostrolateral area, layer 4",
          "Rostrolateral area, layer 1",
          "Supplemental somatosensory area, layer 6b",
          "Supplemental somatosensory area, layer 2/3",
          "Supplemental somatosensory area, layer 1",
          "Primary somatosensory area, upper limb, layer 6a",
          "Primary somatosensory area, upper limb, layer 5",
          "commissural branch of stria terminalis",
          "Primary somatosensory area, barrel field, layer 6b",
          "Primary somatosensory area, barrel field, layer 6a",
          "Primary somatosensory area, barrel field, layer 5",
          "Primary somatosensory area, barrel field, layer 4",
          "Primary somatosensory area, barrel field, layer 2/3",
          "Primary somatosensory area, barrel field, layer 1"
         ],
         "type": "bar",
         "x": [
          0.122,
          0.204,
          0.099,
          0.266,
          0.387,
          0.318,
          0.081,
          0.568,
          0.614,
          0.355,
          0.423,
          0.44,
          0.376,
          0.509,
          0.517,
          0.524,
          1.107,
          0.242,
          0.446,
          0.433,
          1.664,
          0.269,
          1.543,
          0.941,
          3.397,
          0.227,
          1.458,
          8.472,
          7.361,
          11.779,
          15.55
         ],
         "xaxis": "x",
         "y": [
          "VISal5",
          "AUDd6b",
          "MOp6a",
          "MOp5",
          "CP",
          "SSp-ll6a",
          "SSp-ll5",
          "scwm",
          "ccs",
          "SSp-un6a",
          "SSp-un5",
          "SSp-tr2/3",
          "SSp-tr1",
          "VISa4",
          "VISa2/3",
          "VISa1",
          "VISrl5",
          "VISrl4",
          "VISrl1",
          "SSs6b",
          "SSs2/3",
          "SSs1",
          "SSp-ul6a",
          "SSp-ul5",
          "stc",
          "SSp-bfd6b",
          "SSp-bfd6a",
          "SSp-bfd5",
          "SSp-bfd4",
          "SSp-bfd2/3",
          "SSp-bfd1"
         ],
         "yaxis": "y"
        },
        {
         "hovertemplate": "<i>%{x}</i>, <b>%{text}</b>",
         "marker": {
          "color": "black"
         },
         "name": "",
         "orientation": "h",
         "text": [
          845,
          844
         ],
         "type": "bar",
         "x": [
          2.496,
          5.749
         ],
         "xaxis": "x2",
         "y": [
          "SSp-bfd2/3",
          "SSp-bfd1"
         ],
         "yaxis": "y2"
        }
       ],
       "layout": {
        "annotations": [
         {
          "font": {
           "size": 16
          },
          "showarrow": false,
          "text": "Axons",
          "textangle": 90,
          "x": 0.98,
          "xanchor": "left",
          "xref": "paper",
          "y": 0.6174999999999999,
          "yanchor": "middle",
          "yref": "paper"
         },
         {
          "font": {
           "size": 16
          },
          "showarrow": false,
          "text": "Dendrites",
          "textangle": 90,
          "x": 0.98,
          "xanchor": "left",
          "xref": "paper",
          "y": 0.0425,
          "yanchor": "middle",
          "yref": "paper"
         }
        ],
        "height": 1000,
        "paper_bgcolor": "rgba(0, 0, 0, 0)",
        "plot_bgcolor": "rgba(0, 0, 0, 0)",
        "showlegend": false,
        "template": {
         "data": {
          "bar": [
           {
            "error_x": {
             "color": "#2a3f5f"
            },
            "error_y": {
             "color": "#2a3f5f"
            },
            "marker": {
             "line": {
              "color": "#E5ECF6",
              "width": 0.5
             }
            },
            "type": "bar"
           }
          ],
          "barpolar": [
           {
            "marker": {
             "line": {
              "color": "#E5ECF6",
              "width": 0.5
             }
            },
            "type": "barpolar"
           }
          ],
          "carpet": [
           {
            "aaxis": {
             "endlinecolor": "#2a3f5f",
             "gridcolor": "white",
             "linecolor": "white",
             "minorgridcolor": "white",
             "startlinecolor": "#2a3f5f"
            },
            "baxis": {
             "endlinecolor": "#2a3f5f",
             "gridcolor": "white",
             "linecolor": "white",
             "minorgridcolor": "white",
             "startlinecolor": "#2a3f5f"
            },
            "type": "carpet"
           }
          ],
          "choropleth": [
           {
            "colorbar": {
             "outlinewidth": 0,
             "ticks": ""
            },
            "type": "choropleth"
           }
          ],
          "contour": [
           {
            "colorbar": {
             "outlinewidth": 0,
             "ticks": ""
            },
            "colorscale": [
             [
              0,
              "#0d0887"
             ],
             [
              0.1111111111111111,
              "#46039f"
             ],
             [
              0.2222222222222222,
              "#7201a8"
             ],
             [
              0.3333333333333333,
              "#9c179e"
             ],
             [
              0.4444444444444444,
              "#bd3786"
             ],
             [
              0.5555555555555556,
              "#d8576b"
             ],
             [
              0.6666666666666666,
              "#ed7953"
             ],
             [
              0.7777777777777778,
              "#fb9f3a"
             ],
             [
              0.8888888888888888,
              "#fdca26"
             ],
             [
              1,
              "#f0f921"
             ]
            ],
            "type": "contour"
           }
          ],
          "contourcarpet": [
           {
            "colorbar": {
             "outlinewidth": 0,
             "ticks": ""
            },
            "type": "contourcarpet"
           }
          ],
          "heatmap": [
           {
            "colorbar": {
             "outlinewidth": 0,
             "ticks": ""
            },
            "colorscale": [
             [
              0,
              "#0d0887"
             ],
             [
              0.1111111111111111,
              "#46039f"
             ],
             [
              0.2222222222222222,
              "#7201a8"
             ],
             [
              0.3333333333333333,
              "#9c179e"
             ],
             [
              0.4444444444444444,
              "#bd3786"
             ],
             [
              0.5555555555555556,
              "#d8576b"
             ],
             [
              0.6666666666666666,
              "#ed7953"
             ],
             [
              0.7777777777777778,
              "#fb9f3a"
             ],
             [
              0.8888888888888888,
              "#fdca26"
             ],
             [
              1,
              "#f0f921"
             ]
            ],
            "type": "heatmap"
           }
          ],
          "heatmapgl": [
           {
            "colorbar": {
             "outlinewidth": 0,
             "ticks": ""
            },
            "colorscale": [
             [
              0,
              "#0d0887"
             ],
             [
              0.1111111111111111,
              "#46039f"
             ],
             [
              0.2222222222222222,
              "#7201a8"
             ],
             [
              0.3333333333333333,
              "#9c179e"
             ],
             [
              0.4444444444444444,
              "#bd3786"
             ],
             [
              0.5555555555555556,
              "#d8576b"
             ],
             [
              0.6666666666666666,
              "#ed7953"
             ],
             [
              0.7777777777777778,
              "#fb9f3a"
             ],
             [
              0.8888888888888888,
              "#fdca26"
             ],
             [
              1,
              "#f0f921"
             ]
            ],
            "type": "heatmapgl"
           }
          ],
          "histogram": [
           {
            "marker": {
             "colorbar": {
              "outlinewidth": 0,
              "ticks": ""
             }
            },
            "type": "histogram"
           }
          ],
          "histogram2d": [
           {
            "colorbar": {
             "outlinewidth": 0,
             "ticks": ""
            },
            "colorscale": [
             [
              0,
              "#0d0887"
             ],
             [
              0.1111111111111111,
              "#46039f"
             ],
             [
              0.2222222222222222,
              "#7201a8"
             ],
             [
              0.3333333333333333,
              "#9c179e"
             ],
             [
              0.4444444444444444,
              "#bd3786"
             ],
             [
              0.5555555555555556,
              "#d8576b"
             ],
             [
              0.6666666666666666,
              "#ed7953"
             ],
             [
              0.7777777777777778,
              "#fb9f3a"
             ],
             [
              0.8888888888888888,
              "#fdca26"
             ],
             [
              1,
              "#f0f921"
             ]
            ],
            "type": "histogram2d"
           }
          ],
          "histogram2dcontour": [
           {
            "colorbar": {
             "outlinewidth": 0,
             "ticks": ""
            },
            "colorscale": [
             [
              0,
              "#0d0887"
             ],
             [
              0.1111111111111111,
              "#46039f"
             ],
             [
              0.2222222222222222,
              "#7201a8"
             ],
             [
              0.3333333333333333,
              "#9c179e"
             ],
             [
              0.4444444444444444,
              "#bd3786"
             ],
             [
              0.5555555555555556,
              "#d8576b"
             ],
             [
              0.6666666666666666,
              "#ed7953"
             ],
             [
              0.7777777777777778,
              "#fb9f3a"
             ],
             [
              0.8888888888888888,
              "#fdca26"
             ],
             [
              1,
              "#f0f921"
             ]
            ],
            "type": "histogram2dcontour"
           }
          ],
          "mesh3d": [
           {
            "colorbar": {
             "outlinewidth": 0,
             "ticks": ""
            },
            "type": "mesh3d"
           }
          ],
          "parcoords": [
           {
            "line": {
             "colorbar": {
              "outlinewidth": 0,
              "ticks": ""
             }
            },
            "type": "parcoords"
           }
          ],
          "pie": [
           {
            "automargin": true,
            "type": "pie"
           }
          ],
          "scatter": [
           {
            "marker": {
             "colorbar": {
              "outlinewidth": 0,
              "ticks": ""
             }
            },
            "type": "scatter"
           }
          ],
          "scatter3d": [
           {
            "line": {
             "colorbar": {
              "outlinewidth": 0,
              "ticks": ""
             }
            },
            "marker": {
             "colorbar": {
              "outlinewidth": 0,
              "ticks": ""
             }
            },
            "type": "scatter3d"
           }
          ],
          "scattercarpet": [
           {
            "marker": {
             "colorbar": {
              "outlinewidth": 0,
              "ticks": ""
             }
            },
            "type": "scattercarpet"
           }
          ],
          "scattergeo": [
           {
            "marker": {
             "colorbar": {
              "outlinewidth": 0,
              "ticks": ""
             }
            },
            "type": "scattergeo"
           }
          ],
          "scattergl": [
           {
            "marker": {
             "colorbar": {
              "outlinewidth": 0,
              "ticks": ""
             }
            },
            "type": "scattergl"
           }
          ],
          "scattermapbox": [
           {
            "marker": {
             "colorbar": {
              "outlinewidth": 0,
              "ticks": ""
             }
            },
            "type": "scattermapbox"
           }
          ],
          "scatterpolar": [
           {
            "marker": {
             "colorbar": {
              "outlinewidth": 0,
              "ticks": ""
             }
            },
            "type": "scatterpolar"
           }
          ],
          "scatterpolargl": [
           {
            "marker": {
             "colorbar": {
              "outlinewidth": 0,
              "ticks": ""
             }
            },
            "type": "scatterpolargl"
           }
          ],
          "scatterternary": [
           {
            "marker": {
             "colorbar": {
              "outlinewidth": 0,
              "ticks": ""
             }
            },
            "type": "scatterternary"
           }
          ],
          "surface": [
           {
            "colorbar": {
             "outlinewidth": 0,
             "ticks": ""
            },
            "colorscale": [
             [
              0,
              "#0d0887"
             ],
             [
              0.1111111111111111,
              "#46039f"
             ],
             [
              0.2222222222222222,
              "#7201a8"
             ],
             [
              0.3333333333333333,
              "#9c179e"
             ],
             [
              0.4444444444444444,
              "#bd3786"
             ],
             [
              0.5555555555555556,
              "#d8576b"
             ],
             [
              0.6666666666666666,
              "#ed7953"
             ],
             [
              0.7777777777777778,
              "#fb9f3a"
             ],
             [
              0.8888888888888888,
              "#fdca26"
             ],
             [
              1,
              "#f0f921"
             ]
            ],
            "type": "surface"
           }
          ],
          "table": [
           {
            "cells": {
             "fill": {
              "color": "#EBF0F8"
             },
             "line": {
              "color": "white"
             }
            },
            "header": {
             "fill": {
              "color": "#C8D4E3"
             },
             "line": {
              "color": "white"
             }
            },
            "type": "table"
           }
          ]
         },
         "layout": {
          "annotationdefaults": {
           "arrowcolor": "#2a3f5f",
           "arrowhead": 0,
           "arrowwidth": 1
          },
          "autotypenumbers": "strict",
          "coloraxis": {
           "colorbar": {
            "outlinewidth": 0,
            "ticks": ""
           }
          },
          "colorscale": {
           "diverging": [
            [
             0,
             "#8e0152"
            ],
            [
             0.1,
             "#c51b7d"
            ],
            [
             0.2,
             "#de77ae"
            ],
            [
             0.3,
             "#f1b6da"
            ],
            [
             0.4,
             "#fde0ef"
            ],
            [
             0.5,
             "#f7f7f7"
            ],
            [
             0.6,
             "#e6f5d0"
            ],
            [
             0.7,
             "#b8e186"
            ],
            [
             0.8,
             "#7fbc41"
            ],
            [
             0.9,
             "#4d9221"
            ],
            [
             1,
             "#276419"
            ]
           ],
           "sequential": [
            [
             0,
             "#0d0887"
            ],
            [
             0.1111111111111111,
             "#46039f"
            ],
            [
             0.2222222222222222,
             "#7201a8"
            ],
            [
             0.3333333333333333,
             "#9c179e"
            ],
            [
             0.4444444444444444,
             "#bd3786"
            ],
            [
             0.5555555555555556,
             "#d8576b"
            ],
            [
             0.6666666666666666,
             "#ed7953"
            ],
            [
             0.7777777777777778,
             "#fb9f3a"
            ],
            [
             0.8888888888888888,
             "#fdca26"
            ],
            [
             1,
             "#f0f921"
            ]
           ],
           "sequentialminus": [
            [
             0,
             "#0d0887"
            ],
            [
             0.1111111111111111,
             "#46039f"
            ],
            [
             0.2222222222222222,
             "#7201a8"
            ],
            [
             0.3333333333333333,
             "#9c179e"
            ],
            [
             0.4444444444444444,
             "#bd3786"
            ],
            [
             0.5555555555555556,
             "#d8576b"
            ],
            [
             0.6666666666666666,
             "#ed7953"
            ],
            [
             0.7777777777777778,
             "#fb9f3a"
            ],
            [
             0.8888888888888888,
             "#fdca26"
            ],
            [
             1,
             "#f0f921"
            ]
           ]
          },
          "colorway": [
           "#636efa",
           "#EF553B",
           "#00cc96",
           "#ab63fa",
           "#FFA15A",
           "#19d3f3",
           "#FF6692",
           "#B6E880",
           "#FF97FF",
           "#FECB52"
          ],
          "font": {
           "color": "#2a3f5f"
          },
          "geo": {
           "bgcolor": "white",
           "lakecolor": "white",
           "landcolor": "#E5ECF6",
           "showlakes": true,
           "showland": true,
           "subunitcolor": "white"
          },
          "hoverlabel": {
           "align": "left"
          },
          "hovermode": "closest",
          "mapbox": {
           "style": "light"
          },
          "paper_bgcolor": "white",
          "plot_bgcolor": "#E5ECF6",
          "polar": {
           "angularaxis": {
            "gridcolor": "white",
            "linecolor": "white",
            "ticks": ""
           },
           "bgcolor": "#E5ECF6",
           "radialaxis": {
            "gridcolor": "white",
            "linecolor": "white",
            "ticks": ""
           }
          },
          "scene": {
           "xaxis": {
            "backgroundcolor": "#E5ECF6",
            "gridcolor": "white",
            "gridwidth": 2,
            "linecolor": "white",
            "showbackground": true,
            "ticks": "",
            "zerolinecolor": "white"
           },
           "yaxis": {
            "backgroundcolor": "#E5ECF6",
            "gridcolor": "white",
            "gridwidth": 2,
            "linecolor": "white",
            "showbackground": true,
            "ticks": "",
            "zerolinecolor": "white"
           },
           "zaxis": {
            "backgroundcolor": "#E5ECF6",
            "gridcolor": "white",
            "gridwidth": 2,
            "linecolor": "white",
            "showbackground": true,
            "ticks": "",
            "zerolinecolor": "white"
           }
          },
          "shapedefaults": {
           "line": {
            "color": "#2a3f5f"
           }
          },
          "ternary": {
           "aaxis": {
            "gridcolor": "white",
            "linecolor": "white",
            "ticks": ""
           },
           "baxis": {
            "gridcolor": "white",
            "linecolor": "white",
            "ticks": ""
           },
           "bgcolor": "#E5ECF6",
           "caxis": {
            "gridcolor": "white",
            "linecolor": "white",
            "ticks": ""
           }
          },
          "title": {
           "x": 0.05
          },
          "xaxis": {
           "automargin": true,
           "gridcolor": "white",
           "linecolor": "white",
           "ticks": "",
           "title": {
            "standoff": 15
           },
           "zerolinecolor": "white",
           "zerolinewidth": 2
          },
          "yaxis": {
           "automargin": true,
           "gridcolor": "white",
           "linecolor": "white",
           "ticks": "",
           "title": {
            "standoff": 15
           },
           "zerolinecolor": "white",
           "zerolinewidth": 2
          }
         }
        },
        "width": 2000,
        "xaxis": {
         "anchor": "y",
         "autorange": true,
         "domain": [
          0,
          0.98
         ],
         "gridcolor": "gold",
         "range": [
          0,
          16.36842105263158
         ],
         "type": "linear"
        },
        "xaxis2": {
         "anchor": "y2",
         "autorange": true,
         "domain": [
          0,
          0.98
         ],
         "gridcolor": "gold",
         "range": [
          0,
          6.05157894736842
         ],
         "type": "linear"
        },
        "yaxis": {
         "anchor": "x",
         "autorange": true,
         "categoryorder": "trace",
         "domain": [
          0.235,
          1
         ],
         "range": [
          -0.5,
          30.5
         ],
         "type": "category"
        },
        "yaxis2": {
         "anchor": "x2",
         "autorange": true,
         "domain": [
          0,
          0.085
         ],
         "range": [
          -0.5,
          1.5
         ],
         "type": "category"
        }
       }
      },
      "image/png": "[encoded data removed]",
      "text/html": [
       "<div>                            <div id=\"f6f43dfa-c6c5-4919-a64d-b0e72aeb9b35\" class=\"plotly-graph-div\" style=\"height:1000px; width:2000px;\"></div>            <script type=\"text/javascript\">                require([\"plotly\"], function(Plotly) {                    window.PLOTLYENV=window.PLOTLYENV || {};                                    if (document.getElementById(\"f6f43dfa-c6c5-4919-a64d-b0e72aeb9b35\")) {                    Plotly.newPlot(                        \"f6f43dfa-c6c5-4919-a64d-b0e72aeb9b35\",                        [{\"hovertemplate\": \"<i>%{x}</i>, <b>%{text}</b>\", \"marker\": {\"color\": \"red\"}, \"name\": \"\", \"orientation\": \"h\", \"text\": [\"Anterolateral visual area, layer 5\", \"Dorsal auditory area, layer 6b\", \"Primary motor area, Layer 6a\", \"Primary motor area, Layer 5\", \"Caudoputamen\", \"Primary somatosensory area, lower limb, layer 6a\", \"Primary somatosensory area, lower limb, layer 5\", \"supra-callosal cerebral white matter\", \"corpus callosum, splenium\", \"Primary somatosensory area, unassigned, layer 6a\", \"Primary somatosensory area, unassigned, layer 5\", \"Primary somatosensory area, trunk, layer 2/3\", \"Primary somatosensory area, trunk, layer 1\", \"Anterior area, layer 4\", \"Anterior area, layer 2/3\", \"Anterior area, layer 1\", \"Rostrolateral area, layer 5\", \"Rostrolateral area, layer 4\", \"Rostrolateral area, layer 1\", \"Supplemental somatosensory area, layer 6b\", \"Supplemental somatosensory area, layer 2/3\", \"Supplemental somatosensory area, layer 1\", \"Primary somatosensory area, upper limb, layer 6a\", \"Primary somatosensory area, upper limb, layer 5\", \"commissural branch of stria terminalis\", \"Primary somatosensory area, barrel field, layer 6b\", \"Primary somatosensory area, barrel field, layer 6a\", \"Primary somatosensory area, barrel field, layer 5\", \"Primary somatosensory area, barrel field, layer 4\", \"Primary somatosensory area, barrel field, layer 2/3\", \"Primary somatosensory area, barrel field, layer 1\"], \"type\": \"bar\", \"x\": [0.122, 0.204, 0.099, 0.266, 0.387, 0.318, 0.081, 0.568, 0.614, 0.355, 0.423, 0.44, 0.376, 0.509, 0.517, 0.524, 1.107, 0.242, 0.446, 0.433, 1.664, 0.269, 1.543, 0.941, 3.397, 0.227, 1.458, 8.472, 7.361, 11.779, 15.55], \"xaxis\": \"x\", \"y\": [\"VISal5\", \"AUDd6b\", \"MOp6a\", \"MOp5\", \"CP\", \"SSp-ll6a\", \"SSp-ll5\", \"scwm\", \"ccs\", \"SSp-un6a\", \"SSp-un5\", \"SSp-tr2/3\", \"SSp-tr1\", \"VISa4\", \"VISa2/3\", \"VISa1\", \"VISrl5\", \"VISrl4\", \"VISrl1\", \"SSs6b\", \"SSs2/3\", \"SSs1\", \"SSp-ul6a\", \"SSp-ul5\", \"stc\", \"SSp-bfd6b\", \"SSp-bfd6a\", \"SSp-bfd5\", \"SSp-bfd4\", \"SSp-bfd2/3\", \"SSp-bfd1\"], \"yaxis\": \"y\"}, {\"hovertemplate\": \"<i>%{x}</i>, <b>%{text}</b>\", \"marker\": {\"color\": \"black\"}, \"name\": \"\", \"orientation\": \"h\", \"text\": [845.0, 844.0], \"type\": \"bar\", \"x\": [2.496, 5.749], \"xaxis\": \"x2\", \"y\": [\"SSp-bfd2/3\", \"SSp-bfd1\"], \"yaxis\": \"y2\"}],                        {\"annotations\": [{\"font\": {\"size\": 16}, \"showarrow\": false, \"text\": \"Axons\", \"textangle\": 90, \"x\": 0.98, \"xanchor\": \"left\", \"xref\": \"paper\", \"y\": 0.6174999999999999, \"yanchor\": \"middle\", \"yref\": \"paper\"}, {\"font\": {\"size\": 16}, \"showarrow\": false, \"text\": \"Dendrites\", \"textangle\": 90, \"x\": 0.98, \"xanchor\": \"left\", \"xref\": \"paper\", \"y\": 0.0425, \"yanchor\": \"middle\", \"yref\": \"paper\"}], \"height\": 1000, \"paper_bgcolor\": \"rgba(0,0,0,0)\", \"plot_bgcolor\": \"rgba(0,0,0,0)\", \"showlegend\": false, \"template\": {\"data\": {\"bar\": [{\"error_x\": {\"color\": \"#2a3f5f\"}, \"error_y\": {\"color\": \"#2a3f5f\"}, \"marker\": {\"line\": {\"color\": \"#E5ECF6\", \"width\": 0.5}}, \"type\": \"bar\"}], \"barpolar\": [{\"marker\": {\"line\": {\"color\": \"#E5ECF6\", \"width\": 0.5}}, \"type\": \"barpolar\"}], \"carpet\": [{\"aaxis\": {\"endlinecolor\": \"#2a3f5f\", \"gridcolor\": \"white\", \"linecolor\": \"white\", \"minorgridcolor\": \"white\", \"startlinecolor\": \"#2a3f5f\"}, \"baxis\": {\"endlinecolor\": \"#2a3f5f\", \"gridcolor\": \"white\", \"linecolor\": \"white\", \"minorgridcolor\": \"white\", \"startlinecolor\": \"#2a3f5f\"}, \"type\": \"carpet\"}], \"choropleth\": [{\"colorbar\": {\"outlinewidth\": 0, \"ticks\": \"\"}, \"type\": \"choropleth\"}], \"contour\": [{\"colorbar\": {\"outlinewidth\": 0, \"ticks\": \"\"}, \"colorscale\": [[0.0, \"#0d0887\"], [0.1111111111111111, \"#46039f\"], [0.2222222222222222, \"#7201a8\"], [0.3333333333333333, \"#9c179e\"], [0.4444444444444444, \"#bd3786\"], [0.5555555555555556, \"#d8576b\"], [0.6666666666666666, \"#ed7953\"], [0.7777777777777778, \"#fb9f3a\"], [0.8888888888888888, \"#fdca26\"], [1.0, \"#f0f921\"]], \"type\": \"contour\"}], \"contourcarpet\": [{\"colorbar\": {\"outlinewidth\": 0, \"ticks\": \"\"}, \"type\": \"contourcarpet\"}], \"heatmap\": [{\"colorbar\": {\"outlinewidth\": 0, \"ticks\": \"\"}, \"colorscale\": [[0.0, \"#0d0887\"], [0.1111111111111111, \"#46039f\"], [0.2222222222222222, \"#7201a8\"], [0.3333333333333333, \"#9c179e\"], [0.4444444444444444, \"#bd3786\"], [0.5555555555555556, \"#d8576b\"], [0.6666666666666666, \"#ed7953\"], [0.7777777777777778, \"#fb9f3a\"], [0.8888888888888888, \"#fdca26\"], [1.0, \"#f0f921\"]], \"type\": \"heatmap\"}], \"heatmapgl\": [{\"colorbar\": {\"outlinewidth\": 0, \"ticks\": \"\"}, \"colorscale\": [[0.0, \"#0d0887\"], [0.1111111111111111, \"#46039f\"], [0.2222222222222222, \"#7201a8\"], [0.3333333333333333, \"#9c179e\"], [0.4444444444444444, \"#bd3786\"], [0.5555555555555556, \"#d8576b\"], [0.6666666666666666, \"#ed7953\"], [0.7777777777777778, \"#fb9f3a\"], [0.8888888888888888, \"#fdca26\"], [1.0, \"#f0f921\"]], \"type\": \"heatmapgl\"}], \"histogram\": [{\"marker\": {\"colorbar\": {\"outlinewidth\": 0, \"ticks\": \"\"}}, \"type\": \"histogram\"}], \"histogram2d\": [{\"colorbar\": {\"outlinewidth\": 0, \"ticks\": \"\"}, \"colorscale\": [[0.0, \"#0d0887\"], [0.1111111111111111, \"#46039f\"], [0.2222222222222222, \"#7201a8\"], [0.3333333333333333, \"#9c179e\"], [0.4444444444444444, \"#bd3786\"], [0.5555555555555556, \"#d8576b\"], [0.6666666666666666, \"#ed7953\"], [0.7777777777777778, \"#fb9f3a\"], [0.8888888888888888, \"#fdca26\"], [1.0, \"#f0f921\"]], \"type\": \"histogram2d\"}], \"histogram2dcontour\": [{\"colorbar\": {\"outlinewidth\": 0, \"ticks\": \"\"}, \"colorscale\": [[0.0, \"#0d0887\"], [0.1111111111111111, \"#46039f\"], [0.2222222222222222, \"#7201a8\"], [0.3333333333333333, \"#9c179e\"], [0.4444444444444444, \"#bd3786\"], [0.5555555555555556, \"#d8576b\"], [0.6666666666666666, \"#ed7953\"], [0.7777777777777778, \"#fb9f3a\"], [0.8888888888888888, \"#fdca26\"], [1.0, \"#f0f921\"]], \"type\": \"histogram2dcontour\"}], \"mesh3d\": [{\"colorbar\": {\"outlinewidth\": 0, \"ticks\": \"\"}, \"type\": \"mesh3d\"}], \"parcoords\": [{\"line\": {\"colorbar\": {\"outlinewidth\": 0, \"ticks\": \"\"}}, \"type\": \"parcoords\"}], \"pie\": [{\"automargin\": true, \"type\": \"pie\"}], \"scatter\": [{\"marker\": {\"colorbar\": {\"outlinewidth\": 0, \"ticks\": \"\"}}, \"type\": \"scatter\"}], \"scatter3d\": [{\"line\": {\"colorbar\": {\"outlinewidth\": 0, \"ticks\": \"\"}}, \"marker\": {\"colorbar\": {\"outlinewidth\": 0, \"ticks\": \"\"}}, \"type\": \"scatter3d\"}], \"scattercarpet\": [{\"marker\": {\"colorbar\": {\"outlinewidth\": 0, \"ticks\": \"\"}}, \"type\": \"scattercarpet\"}], \"scattergeo\": [{\"marker\": {\"colorbar\": {\"outlinewidth\": 0, \"ticks\": \"\"}}, \"type\": \"scattergeo\"}], \"scattergl\": [{\"marker\": {\"colorbar\": {\"outlinewidth\": 0, \"ticks\": \"\"}}, \"type\": \"scattergl\"}], \"scattermapbox\": [{\"marker\": {\"colorbar\": {\"outlinewidth\": 0, \"ticks\": \"\"}}, \"type\": \"scattermapbox\"}], \"scatterpolar\": [{\"marker\": {\"colorbar\": {\"outlinewidth\": 0, \"ticks\": \"\"}}, \"type\": \"scatterpolar\"}], \"scatterpolargl\": [{\"marker\": {\"colorbar\": {\"outlinewidth\": 0, \"ticks\": \"\"}}, \"type\": \"scatterpolargl\"}], \"scatterternary\": [{\"marker\": {\"colorbar\": {\"outlinewidth\": 0, \"ticks\": \"\"}}, \"type\": \"scatterternary\"}], \"surface\": [{\"colorbar\": {\"outlinewidth\": 0, \"ticks\": \"\"}, \"colorscale\": [[0.0, \"#0d0887\"], [0.1111111111111111, \"#46039f\"], [0.2222222222222222, \"#7201a8\"], [0.3333333333333333, \"#9c179e\"], [0.4444444444444444, \"#bd3786\"], [0.5555555555555556, \"#d8576b\"], [0.6666666666666666, \"#ed7953\"], [0.7777777777777778, \"#fb9f3a\"], [0.8888888888888888, \"#fdca26\"], [1.0, \"#f0f921\"]], \"type\": \"surface\"}], \"table\": [{\"cells\": {\"fill\": {\"color\": \"#EBF0F8\"}, \"line\": {\"color\": \"white\"}}, \"header\": {\"fill\": {\"color\": \"#C8D4E3\"}, \"line\": {\"color\": \"white\"}}, \"type\": \"table\"}]}, \"layout\": {\"annotationdefaults\": {\"arrowcolor\": \"#2a3f5f\", \"arrowhead\": 0, \"arrowwidth\": 1}, \"autotypenumbers\": \"strict\", \"coloraxis\": {\"colorbar\": {\"outlinewidth\": 0, \"ticks\": \"\"}}, \"colorscale\": {\"diverging\": [[0, \"#8e0152\"], [0.1, \"#c51b7d\"], [0.2, \"#de77ae\"], [0.3, \"#f1b6da\"], [0.4, \"#fde0ef\"], [0.5, \"#f7f7f7\"], [0.6, \"#e6f5d0\"], [0.7, \"#b8e186\"], [0.8, \"#7fbc41\"], [0.9, \"#4d9221\"], [1, \"#276419\"]], \"sequential\": [[0.0, \"#0d0887\"], [0.1111111111111111, \"#46039f\"], [0.2222222222222222, \"#7201a8\"], [0.3333333333333333, \"#9c179e\"], [0.4444444444444444, \"#bd3786\"], [0.5555555555555556, \"#d8576b\"], [0.6666666666666666, \"#ed7953\"], [0.7777777777777778, \"#fb9f3a\"], [0.8888888888888888, \"#fdca26\"], [1.0, \"#f0f921\"]], \"sequentialminus\": [[0.0, \"#0d0887\"], [0.1111111111111111, \"#46039f\"], [0.2222222222222222, \"#7201a8\"], [0.3333333333333333, \"#9c179e\"], [0.4444444444444444, \"#bd3786\"], [0.5555555555555556, \"#d8576b\"], [0.6666666666666666, \"#ed7953\"], [0.7777777777777778, \"#fb9f3a\"], [0.8888888888888888, \"#fdca26\"], [1.0, \"#f0f921\"]]}, \"colorway\": [\"#636efa\", \"#EF553B\", \"#00cc96\", \"#ab63fa\", \"#FFA15A\", \"#19d3f3\", \"#FF6692\", \"#B6E880\", \"#FF97FF\", \"#FECB52\"], \"font\": {\"color\": \"#2a3f5f\"}, \"geo\": {\"bgcolor\": \"white\", \"lakecolor\": \"white\", \"landcolor\": \"#E5ECF6\", \"showlakes\": true, \"showland\": true, \"subunitcolor\": \"white\"}, \"hoverlabel\": {\"align\": \"left\"}, \"hovermode\": \"closest\", \"mapbox\": {\"style\": \"light\"}, \"paper_bgcolor\": \"white\", \"plot_bgcolor\": \"#E5ECF6\", \"polar\": {\"angularaxis\": {\"gridcolor\": \"white\", \"linecolor\": \"white\", \"ticks\": \"\"}, \"bgcolor\": \"#E5ECF6\", \"radialaxis\": {\"gridcolor\": \"white\", \"linecolor\": \"white\", \"ticks\": \"\"}}, \"scene\": {\"xaxis\": {\"backgroundcolor\": \"#E5ECF6\", \"gridcolor\": \"white\", \"gridwidth\": 2, \"linecolor\": \"white\", \"showbackground\": true, \"ticks\": \"\", \"zerolinecolor\": \"white\"}, \"yaxis\": {\"backgroundcolor\": \"#E5ECF6\", \"gridcolor\": \"white\", \"gridwidth\": 2, \"linecolor\": \"white\", \"showbackground\": true, \"ticks\": \"\", \"zerolinecolor\": \"white\"}, \"zaxis\": {\"backgroundcolor\": \"#E5ECF6\", \"gridcolor\": \"white\", \"gridwidth\": 2, \"linecolor\": \"white\", \"showbackground\": true, \"ticks\": \"\", \"zerolinecolor\": \"white\"}}, \"shapedefaults\": {\"line\": {\"color\": \"#2a3f5f\"}}, \"ternary\": {\"aaxis\": {\"gridcolor\": \"white\", \"linecolor\": \"white\", \"ticks\": \"\"}, \"baxis\": {\"gridcolor\": \"white\", \"linecolor\": \"white\", \"ticks\": \"\"}, \"bgcolor\": \"#E5ECF6\", \"caxis\": {\"gridcolor\": \"white\", \"linecolor\": \"white\", \"ticks\": \"\"}}, \"title\": {\"x\": 0.05}, \"xaxis\": {\"automargin\": true, \"gridcolor\": \"white\", \"linecolor\": \"white\", \"ticks\": \"\", \"title\": {\"standoff\": 15}, \"zerolinecolor\": \"white\", \"zerolinewidth\": 2}, \"yaxis\": {\"automargin\": true, \"gridcolor\": \"white\", \"linecolor\": \"white\", \"ticks\": \"\", \"title\": {\"standoff\": 15}, \"zerolinecolor\": \"white\", \"zerolinewidth\": 2}}}, \"width\": 2000, \"xaxis\": {\"anchor\": \"y\", \"domain\": [0.0, 0.98], \"gridcolor\": \"gold\"}, \"xaxis2\": {\"anchor\": \"y2\", \"domain\": [0.0, 0.98], \"gridcolor\": \"gold\"}, \"yaxis\": {\"anchor\": \"x\", \"categoryorder\": \"trace\", \"domain\": [0.235, 1.0]}, \"yaxis2\": {\"anchor\": \"x2\", \"domain\": [0.0, 0.085]}},                        {\"responsive\": true}                    ).then(function(){\n",
       "                            \n",
       "var gd = document.getElementById('f6f43dfa-c6c5-4919-a64d-b0e72aeb9b35');\n",
       "var x = new MutationObserver(function (mutations, observer) {{\n",
       "        var display = window.getComputedStyle(gd).display;\n",
       "        if (!display || display === 'none') {{\n",
       "            console.log([gd, 'removed!']);\n",
       "            Plotly.purge(gd);\n",
       "            observer.disconnect();\n",
       "        }}\n",
       "}});\n",
       "\n",
       "// Listen for the removal of the full notebook cells\n",
       "var notebookContainer = gd.closest('#notebook-container');\n",
       "if (notebookContainer) {{\n",
       "    x.observe(notebookContainer, {childList: true});\n",
       "}}\n",
       "\n",
       "// Listen for the clearing of the current output cell\n",
       "var outputEl = gd.closest('.output');\n",
       "if (outputEl) {{\n",
       "    x.observe(outputEl, {childList: true});\n",
       "}}\n",
       "\n",
       "                        })                };                });            </script>        </div>"
      ]
     },
     "metadata": {},
     "output_type": "display_data"
    }
   ],
   "source": [
    "plot_hist(new_axonpd,new_dendritepd,mousename)"
   ]
  },
  {
   "cell_type": "markdown",
   "metadata": {},
   "source": [
    "## Final summary annotated heatmap"
   ]
  },
  {
   "cell_type": "code",
   "execution_count": null,
   "metadata": {},
   "outputs": [],
   "source": [
    "#define useful functions\n",
    "\n",
    "def find_mousename(text):\n",
    "    #finds name of mouse that follows the typical LSENS pattern: two letters followed by 3 numbers, ie AL000\n",
    "    a= re.search('[a-zA-Z]{2}[0-9]{2,3}', text)\n",
    "    return a[0]\n",
    "\n",
    "def prep_df(df):\n",
    "    # prepares df so that we only keep the id and total count\n",
    "    # input is the full path and name of the .csv file\n",
    "    read_file= pd.read_excel(df)\n",
    "    \n",
    "    #new= read_file.set_index('id').sort_values(by='graph_order').T\n",
    "    #This lines sorts the region ids according to its graph order, such that related regions are ordered together \n",
    "    # ie, barrel field layers are grouped together\n",
    "    # Note that this order would be disrupted when you have to later concatenate dfs with different columns...so need to rearrange later\n",
    "    \n",
    "    \n",
    "    new= read_file.set_index('acronym').T\n",
    "    new_series=new.loc['Total_counts']\n",
    "\n",
    "    full_df= new_series.to_frame()\n",
    "    full_df.rename(columns={'Total_counts': find_mousename(df)}, inplace=1)\n",
    "    return full_df\n",
    "\n",
    "def combine_df(folder,list_of_fname,inner=False):\n",
    "    # combine multiple data frames, keeping only mouse name, region id and amount of um\n",
    "    # by default, returns all of the regions that at least one brain that projects to it\n",
    "    # if inner=True, then only return regions that overlaps in all brains\n",
    "    \n",
    "    #initialize a dataframe which will later be removed\n",
    "    full_name_initial=os.path.join(folder, list_of_fname[0])\n",
    "    full_df=prep_df(full_name_initial)\n",
    "    \n",
    "    if inner==True:\n",
    "        for i in (list_of_fname):\n",
    "            new_df=prep_df(os.path.join(folder, i))\n",
    "            full_df=full_df=pd.concat([full_df, new_df],axis=1, join='inner')\n",
    "\n",
    "    else: \n",
    "        for i in (list_of_fname):\n",
    "            new_df=prep_df(os.path.join(folder, i))\n",
    "            full_df=full_df=pd.concat([full_df, new_df],axis=1)\n",
    "\n",
    "    full_df=full_df.T.iloc[1:]\n",
    "    return full_df\n",
    "\n",
    "def sort_id(df):\n",
    "    #pick out id that are present in the df and sort them by graph order\n",
    "    #this puts relevant regions together(ie, all layers of S1bf will be together, etc)\n",
    "    atlas_ref=na.atlas_labels[na.atlas_labels['id'].isin(df.columns)]\n",
    "    sorted_id=[x for _,x in sorted(zip(atlas_ref['graph_order'],atlas_ref['id']))]\n",
    "    return sorted_id"
   ]
  },
  {
   "cell_type": "code",
   "execution_count": null,
   "metadata": {},
   "outputs": [],
   "source": [
    "#find all relevant files\n",
    "folder= 'M:\\\\analysis\\Yanqi_Liu\\Complete_points'\n",
    "files= [ i for i  in os.listdir(folder) if 'with_counts' in i]\n",
    "parent_axons= [ i for i  in os.listdir(folder) if 'parent' in i]"
   ]
  },
  {
   "cell_type": "code",
   "execution_count": null,
   "metadata": {},
   "outputs": [],
   "source": [
    "axonal_df= combine_df(folder, parent_axons)\n",
    "# keep Nan for heatmap display purposes"
   ]
  },
  {
   "cell_type": "code",
   "execution_count": null,
   "metadata": {},
   "outputs": [],
   "source": [
    "axonal_df.sort_index(axis=1)\n",
    "new_colorder= axonal_df.sum()\n",
    "# new column order would be the region with greatest amount goes first, ie: bfd, trunk, visc, etc\n",
    "\n",
    "new_colorder.sort_values(ascending=False, inplace=True)\n",
    "# finds the new coloumn order\n",
    "axonal_df=axonal_df[new_colorder.index]\n",
    "# sort by new column order"
   ]
  },
  {
   "cell_type": "code",
   "execution_count": null,
   "metadata": {},
   "outputs": [],
   "source": [
    "average= axonal_df.sum()/10\n",
    "# 10 cells in total\n",
    "avg=average.to_numpy()\n",
    "\n",
    "avg=np.reshape(avg,(1,28))\n",
    "# 28 region item in total\n",
    "avg.shape\n",
    "\n",
    "df_average = pd.DataFrame(avg, columns=axonal_df.columns, index=['Average'])\n",
    "df_average"
   ]
  },
  {
   "cell_type": "code",
   "execution_count": null,
   "metadata": {},
   "outputs": [],
   "source": [
    "final= axonal_df.append(df_average)\n",
    "final.to_excel('axonal_df_parent.xls')\n",
    "\n",
    "final=final[::-1] \n",
    "# so that average row shows up last when plotting"
   ]
  },
  {
   "cell_type": "code",
   "execution_count": null,
   "metadata": {},
   "outputs": [],
   "source": [
    "# Dataframe preparation done, now to plot annotated heatmap\n",
    "x=final.columns.to_list()\n",
    "y=final.index.to_list()\n",
    "\n",
    "full_name=[]\n",
    "for i in x:\n",
    "    name=na.atlas_labels.query(f\"acronym== '{i}'\").name.values[0]\n",
    "    full_name.append(name)\n",
    "# get full name"
   ]
  },
  {
   "cell_type": "code",
   "execution_count": null,
   "metadata": {},
   "outputs": [],
   "source": [
    "parent_acronyms= {'Acronyms': x, 'Full name': full_name}\n",
    "acronym_df= pd.DataFrame(data=parent_acronyms)\n",
    "acronym_df.to_excel('acronym_parent.xls')\n",
    "# Generate an excel file of acronyms as well as their full name (for list of acronym in appendix)"
   ]
  },
  {
   "cell_type": "code",
   "execution_count": null,
   "metadata": {},
   "outputs": [],
   "source": []
  },
  {
   "cell_type": "code",
   "execution_count": null,
   "metadata": {},
   "outputs": [],
   "source": [
    "\n",
    "fig = ff.create_annotated_heatmap(z=final.values, \n",
    "                                  colorscale='Portland',\n",
    "                                  font_colors=['white'],\n",
    "                                  zmax= 10000,\n",
    "                                  zmin=100,\n",
    "                                  y=y,\n",
    "                                  x=x,\n",
    "                                  hoverongaps = False,\n",
    "                                  text=full_name\n",
    "                                 )\n",
    "fig.update_xaxes(visible=True, showgrid=False)\n",
    "fig.update_yaxes(visible=True, showgrid=False)\n",
    "\n",
    "fig.update_layout(\n",
    "    width = 2000, height = 600,\n",
    "    autosize = True,\n",
    "    paper_bgcolor='rgba(0,0,0,0)',\n",
    "    plot_bgcolor='rgba(0,0,0,0)'\n",
    ")\n",
    "\n",
    "fig.show()\n",
    "\n",
    "fig.write_image(\"fig1.svg\")"
   ]
  }
 ],
 "metadata": {
  "kernelspec": {
   "display_name": "Python 3",
   "language": "python",
   "name": "python3"
  },
  "language_info": {
   "codemirror_mode": {
    "name": "ipython",
    "version": 3
   },
   "file_extension": ".py",
   "mimetype": "text/x-python",
   "name": "python",
   "nbconvert_exporter": "python",
   "pygments_lexer": "ipython3",
   "version": "3.7.3"
  }
 },
 "nbformat": 4,
 "nbformat_minor": 4
}
