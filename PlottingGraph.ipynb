{
 "cells": [
  {
   "cell_type": "code",
   "execution_count": 1,
   "metadata": {},
   "outputs": [
    {
     "data": {
      "text/html": [
       "        <script type=\"text/javascript\">\n",
       "        window.PlotlyConfig = {MathJaxConfig: 'local'};\n",
       "        if (window.MathJax) {MathJax.Hub.Config({SVG: {font: \"STIX-Web\"}});}\n",
       "        if (typeof require !== 'undefined') {\n",
       "        require.undef(\"plotly\");\n",
       "        requirejs.config({\n",
       "            paths: {\n",
       "                'plotly': ['https://cdn.plot.ly/plotly-latest.min']\n",
       "            }\n",
       "        });\n",
       "        require(['plotly'], function(Plotly) {\n",
       "            window._Plotly = Plotly;\n",
       "        });\n",
       "        }\n",
       "        </script>\n",
       "        "
      ]
     },
     "metadata": {},
     "output_type": "display_data"
    }
   ],
   "source": [
    "import os\n",
    "\n",
    "import pandas as pd\n",
    "import re\n",
    "\n",
    "import random\n",
    "\n",
    "import Neuron_analysis as na\n",
    "\n",
    "import plotly\n",
    "import plotly.offline\n",
    "import plotly.graph_objects as go\n",
    "from plotly.subplots import make_subplots\n",
    "\n",
    "from plotly.offline import download_plotlyjs, init_notebook_mode, plot, iplot\n",
    "init_notebook_mode(connected=True)"
   ]
  },
  {
   "cell_type": "code",
   "execution_count": 2,
   "metadata": {},
   "outputs": [],
   "source": [
    "results_dir= 'D:/Complete_points/'"
   ]
  },
  {
   "cell_type": "code",
   "execution_count": 3,
   "metadata": {},
   "outputs": [],
   "source": [
    "files= os.listdir(results_dir)"
   ]
  },
  {
   "cell_type": "markdown",
   "metadata": {},
   "source": [
    "## Plots all downsampled points into same space ##"
   ]
  },
  {
   "cell_type": "code",
   "execution_count": 4,
   "metadata": {},
   "outputs": [],
   "source": [
    "axons=[os.path.join(results_dir,i) for i in files if '_axons.csv' in i]"
   ]
  },
  {
   "cell_type": "code",
   "execution_count": 5,
   "metadata": {},
   "outputs": [
    {
     "data": {
      "text/html": [
       "<div>\n",
       "<style scoped>\n",
       "    .dataframe tbody tr th:only-of-type {\n",
       "        vertical-align: middle;\n",
       "    }\n",
       "\n",
       "    .dataframe tbody tr th {\n",
       "        vertical-align: top;\n",
       "    }\n",
       "\n",
       "    .dataframe thead th {\n",
       "        text-align: right;\n",
       "    }\n",
       "</style>\n",
       "<table border=\"1\" class=\"dataframe\">\n",
       "  <thead>\n",
       "    <tr style=\"text-align: right;\">\n",
       "      <th></th>\n",
       "      <th>x</th>\n",
       "      <th>y</th>\n",
       "      <th>z</th>\n",
       "      <th>atlas_ID</th>\n",
       "    </tr>\n",
       "  </thead>\n",
       "  <tbody>\n",
       "    <tr>\n",
       "      <th>100</th>\n",
       "      <td>90</td>\n",
       "      <td>51</td>\n",
       "      <td>256</td>\n",
       "      <td>981</td>\n",
       "    </tr>\n",
       "    <tr>\n",
       "      <th>101</th>\n",
       "      <td>91</td>\n",
       "      <td>50</td>\n",
       "      <td>255</td>\n",
       "      <td>981</td>\n",
       "    </tr>\n",
       "    <tr>\n",
       "      <th>102</th>\n",
       "      <td>91</td>\n",
       "      <td>50</td>\n",
       "      <td>257</td>\n",
       "      <td>981</td>\n",
       "    </tr>\n",
       "    <tr>\n",
       "      <th>103</th>\n",
       "      <td>90</td>\n",
       "      <td>50</td>\n",
       "      <td>257</td>\n",
       "      <td>981</td>\n",
       "    </tr>\n",
       "    <tr>\n",
       "      <th>104</th>\n",
       "      <td>89</td>\n",
       "      <td>50</td>\n",
       "      <td>257</td>\n",
       "      <td>981</td>\n",
       "    </tr>\n",
       "    <tr>\n",
       "      <th>105</th>\n",
       "      <td>92</td>\n",
       "      <td>50</td>\n",
       "      <td>257</td>\n",
       "      <td>981</td>\n",
       "    </tr>\n",
       "  </tbody>\n",
       "</table>\n",
       "</div>"
      ],
      "text/plain": [
       "      x   y    z  atlas_ID\n",
       "100  90  51  256       981\n",
       "101  91  50  255       981\n",
       "102  91  50  257       981\n",
       "103  90  50  257       981\n",
       "104  89  50  257       981\n",
       "105  92  50  257       981"
      ]
     },
     "execution_count": 5,
     "metadata": {},
     "output_type": "execute_result"
    }
   ],
   "source": [
    "data_pd=pd.read_csv(axons[0])\n",
    "data_pd.loc[100:105]"
   ]
  },
  {
   "cell_type": "code",
   "execution_count": 6,
   "metadata": {},
   "outputs": [
    {
     "data": {
      "text/plain": [
       "'D:/Complete_points/allprojection3d.html'"
      ]
     },
     "execution_count": 6,
     "metadata": {},
     "output_type": "execute_result"
    }
   ],
   "source": [
    "fig=go.Figure()\n",
    "\n",
    "for count,names in enumerate(axons):\n",
    "    data_pd=pd.read_csv(names)\n",
    "    name= re.search('\\D{2}[0-9]{3}', names)[0]\n",
    "    \n",
    "    data_pd['name']= [na.give_me_name(i) for i in data_pd['atlas_ID']]\n",
    "    data_pd['ML']= [na.stereotaxis(i,ml=1) for i in data_pd['x']]\n",
    "    data_pd['AP']= [na.stereotaxis(i,ml=0) for i in data_pd['z']]\n",
    "    data_pd['DV']= [i*25/1000 for i in data_pd['y']]\n",
    "    \n",
    "    fig.add_trace(go.Scatter3d( \n",
    "        x=data_pd['ML'],\n",
    "        y=data_pd['DV'],\n",
    "        z=data_pd['AP'],\n",
    "        \n",
    "        mode='markers',\n",
    "        name=name,\n",
    "        marker=dict(\n",
    "            size=1,\n",
    "            color=count,\n",
    "            opacity=0.5\n",
    "        ),\n",
    "        \n",
    "        text=data_pd['name'],\n",
    "        hovertemplate= '%{text}<br> ML: %{x} mm <br> AP: %{z} mm'\n",
    "        \n",
    "    ))\n",
    "\n",
    "camera = dict(\n",
    "        eye=dict(x=0, y=-1, z=0)\n",
    "    )\n",
    "\n",
    "    #Need to change the axis title depending on the direction and orientation of the origional image (ie, imaging started from cerebellum vs. imaging started from olfactorybulb)\n",
    "fig.update_layout(scene_camera=camera, \n",
    "                      scene=dict(\n",
    "                        xaxis_title='Medial-lateral',\n",
    "                        yaxis_title='Dorsal-ventral',\n",
    "                        zaxis_title='Anterior-posterior'))\n",
    "plot(fig,filename=results_dir+'allprojection3d.html')"
   ]
  },
  {
   "cell_type": "markdown",
   "metadata": {},
   "source": [
    "## Plots the individual original points with associated ID ##"
   ]
  },
  {
   "cell_type": "code",
   "execution_count": 4,
   "metadata": {},
   "outputs": [
    {
     "data": {
      "text/plain": [
       "['D:/Complete_points/AL110D_oripoints_withID.csv',\n",
       " 'D:/Complete_points/AL110_oripoints_withID.csv',\n",
       " 'D:/Complete_points/AL126D_oripoints_withID.csv',\n",
       " 'D:/Complete_points/AL126_oripoints_withID.csv',\n",
       " 'D:/Complete_points/AL131D_oripoints_withID.csv',\n",
       " 'D:/Complete_points/AL131_oripoints_withID.csv',\n",
       " 'D:/Complete_points/AL140D_oripoints_withID.csv',\n",
       " 'D:/Complete_points/AL140_oripoints_withID.csv',\n",
       " 'D:/Complete_points/AL142D_oripoints_withID.csv',\n",
       " 'D:/Complete_points/AL142_oripoints_withID.csv',\n",
       " 'D:/Complete_points/GF243D_oripoints_withID.csv',\n",
       " 'D:/Complete_points/GF243_oripoints_withID.csv']"
      ]
     },
     "execution_count": 4,
     "metadata": {},
     "output_type": "execute_result"
    }
   ],
   "source": [
    "ori_points=[os.path.join(results_dir,i) for i in files if 'oripoints' in i]\n",
    "ori_points"
   ]
  },
  {
   "cell_type": "code",
   "execution_count": 9,
   "metadata": {},
   "outputs": [],
   "source": [
    "axons=pd.read_csv(ori_points[3])\n",
    "axons['name']= [na.give_me_name(i) for i in axons['atlasID']]\n",
    "dendrites=pd.read_csv(ori_points[2])\n",
    "dendrites['name']= [na.give_me_name(i) for i in dendrites['atlasID']]\n",
    "mousename=na.find_mousename(ori_points[2])"
   ]
  },
  {
   "cell_type": "code",
   "execution_count": 10,
   "metadata": {},
   "outputs": [
    {
     "data": {
      "text/plain": [
       "'AL126'"
      ]
     },
     "execution_count": 10,
     "metadata": {},
     "output_type": "execute_result"
    }
   ],
   "source": [
    "mousename"
   ]
  },
  {
   "cell_type": "code",
   "execution_count": 7,
   "metadata": {
    "jupyter": {
     "source_hidden": true
    }
   },
   "outputs": [],
   "source": [
    "def make_scatter(axons, dendrites, mousename):\n",
    "        \n",
    "    fig=go.Figure()\n",
    "    fig.add_trace(go.Scatter3d( \n",
    "        x=axons[::3]['x'],\n",
    "        y=axons[::3]['y'],\n",
    "        z=axons[::3]['z'],\n",
    "        mode='markers',\n",
    "        name='Axons',\n",
    "        marker=dict(\n",
    "            size=1,\n",
    "            color='blue',\n",
    "            opacity=0.5\n",
    "        ),\n",
    "        hovertext= axons[::3]['name'],\n",
    "        hoverinfo='text'\n",
    "    ))\n",
    "    \n",
    "    fig.add_trace(go.Scatter3d(\n",
    "        x=dendrites['x'],\n",
    "        y=dendrites['y'],\n",
    "        z=dendrites['z'],\n",
    "        mode='markers',\n",
    "        name='Dendrites',\n",
    "        marker=dict(\n",
    "            size=2,\n",
    "            color='red',\n",
    "            opacity=0.5),\n",
    "        hovertext= dendrites['name'],\n",
    "        hoverinfo='text'\n",
    "    ))\n",
    "\n",
    "#Here we want horizontal view with dorsal surface toward us\n",
    "#first we set a xz view for coronal section this is done by setting x and z as 0 in eye\n",
    "# then, for y we want the smaller values to point toward us (because in our original coronal images dorsal surface is pointed up)\n",
    "    camera = dict(\n",
    "            eye=dict(x=0, y=-1, z=0))\n",
    "    #Need to change the axis title depending on the direction and orientation of the origional image (ie, imaging started from cerebellum vs. imaging started from olfactorybulb)\n",
    "    fig.update_layout(scene_camera=camera, \n",
    "                      scene=dict(\n",
    "                        xaxis_title='Medial-lateral',\n",
    "                        yaxis_title='Dorsal-ventral',\n",
    "                        zaxis_title='Anterior-posterior'))\n",
    "        \n",
    "    plot(fig,filename='D:/'+ mousename+'/3Dplot.html')\n",
    "    "
   ]
  },
  {
   "cell_type": "code",
   "execution_count": 11,
   "metadata": {},
   "outputs": [],
   "source": [
    "make_scatter(axons,dendrites,mousename)"
   ]
  },
  {
   "cell_type": "markdown",
   "metadata": {},
   "source": [
    "## Makes individual bar graph ##"
   ]
  },
  {
   "cell_type": "code",
   "execution_count": 152,
   "metadata": {},
   "outputs": [],
   "source": [
    "files=[os.path.join('D:\\\\Complete_points\\\\' ,i) for i in files if 'region_with_counts' in i]"
   ]
  },
  {
   "cell_type": "code",
   "execution_count": 228,
   "metadata": {},
   "outputs": [],
   "source": [
    "test= [i for i in files if re.search('GF243', i) ]\n",
    "axon= test[0]\n",
    "dendrite=test[1]\n",
    "mousename=na.find_mousename(axon)"
   ]
  },
  {
   "cell_type": "code",
   "execution_count": 229,
   "metadata": {},
   "outputs": [],
   "source": [
    "axon_bar=pd.read_excel(axon).sort_values(by=['Total_counts'])\n",
    "dendrite_bar=pd.read_excel(dendrite).sort_values(by=['Total_counts'])"
   ]
  },
  {
   "cell_type": "code",
   "execution_count": null,
   "metadata": {},
   "outputs": [],
   "source": []
  },
  {
   "cell_type": "code",
   "execution_count": 217,
   "metadata": {
    "jupyter": {
     "source_hidden": true
    }
   },
   "outputs": [],
   "source": [
    "def plot_hist(pd_axon, pd_dendrite, mousename):\n",
    "    ''' \n",
    "    Plot horizontal histogram of all points and ending points of axons and dendrites\n",
    "    Input: pandas dataframe of axon, pandas dataframe of dendrite, mousename\n",
    "    '''\n",
    "    y=pd_axon['acronym']\n",
    "    fig = make_subplots(\n",
    "        shared_yaxes=True,\n",
    "        rows=2, cols=2,\n",
    "        row_heights=[0.9, 0.1],\n",
    "        column_titles=['Length (um)','# of endings'], \n",
    "        row_titles=['Axons', 'Dendrites'],\n",
    "    )\n",
    "    fig.add_trace(\n",
    "        go.Bar(\n",
    "        y=y, x=pd_axon['Total_counts'], \n",
    "        marker_color='olive',\n",
    "        name='',\n",
    "        text=pd_axon['name'],\n",
    "        hovertemplate=\n",
    "            '<i>%{x}</i>, '+\n",
    "            '<b>%{text}</b>',\n",
    "        orientation='h'),\n",
    "        row=1,col=1\n",
    "    )\n",
    "    fig.add_trace(\n",
    "        go.Bar(\n",
    "        y=y, x=pd_axon['Endings_counts'],\n",
    "        marker_color='seagreen',\n",
    "        name='',\n",
    "        text=pd_axon['name'],\n",
    "        hovertemplate=\n",
    "        '<i>%{x}</i>, '+\n",
    "        '<b>%{text}</b>',\n",
    "        orientation='h'),\n",
    "        row=1,col=2\n",
    "    )\n",
    "\n",
    "    z=pd_dendrite['acronym']\n",
    "    fig.add_trace(\n",
    "        go.Bar(\n",
    "        y=z, x=pd_dendrite['Total_counts'], \n",
    "        marker_color='blue',\n",
    "        name='',\n",
    "        text=pd_dendrite['name'],\n",
    "        hovertemplate=\n",
    "        '<i>%{x}</i>, '+\n",
    "        '<b>%{text}</b>',\n",
    "        orientation='h'),\n",
    "        row=2,col=1\n",
    "    )\n",
    "    fig.add_trace(\n",
    "        go.Bar(\n",
    "        y=z, x=pd_dendrite['Endings_counts'],\n",
    "        marker_color='lightblue',\n",
    "        name='',\n",
    "        text=pd_dendrite['name'],\n",
    "        hovertemplate=\n",
    "        '<i>%{x}</i>, '+\n",
    "        '<b>%{text}</b>',\n",
    "        orientation='h'),\n",
    "        row=2,col=2\n",
    "    )\n",
    "    \n",
    "    fig.update_layout(yaxis={'categoryorder':'trace'}, \n",
    "                      title='Annotations in respective brain regions',\n",
    "                      height=800\n",
    "                     )\n",
    "    fig.show()\n",
    "    plotly.offline.plot(fig,filename='D:/'+ mousename+'/barplot.html')"
   ]
  },
  {
   "cell_type": "code",
   "execution_count": 230,
   "metadata": {},
   "outputs": [
    {
     "data": {
      "application/vnd.plotly.v1+json": {
       "config": {
        "plotlyServerURL": "https://plot.ly"
       },
       "data": [
        {
         "hovertemplate": "<i>%{x}</i>, <b>%{text}</b>",
         "marker": {
          "color": "olive"
         },
         "name": "",
         "orientation": "h",
         "text": [
          "Primary somatosensory area, lower limb, layer 6a",
          "Primary somatosensory area, trunk, layer 1",
          "Primary somatosensory area, barrel field, layer 6b",
          "Primary somatosensory area, lower limb, layer 6b",
          "cingulum bundle",
          "Primary somatosensory area, trunk, layer 4",
          "Primary somatosensory area, barrel field, layer 6a",
          "Primary somatosensory area, trunk, layer 6b",
          "commissural branch of stria terminalis",
          "Primary somatosensory area, trunk, layer 6a",
          "Primary somatosensory area, upper limb, layer 5",
          "Primary somatosensory area, upper limb, layer 2/3",
          "Primary somatosensory area, trunk, layer 2/3",
          "Prosubiculum, ventral part, molecular layer",
          "Primary somatosensory area, upper limb, layer 4",
          "Primary somatosensory area, trunk, layer 5",
          "Primary somatosensory area, barrel field, layer 4",
          "Primary somatosensory area, barrel field, layer 5",
          "Primary somatosensory area, barrel field, layer 2/3",
          "Primary somatosensory area, barrel field, layer 1"
         ],
         "type": "bar",
         "x": [
          30,
          90,
          137,
          160,
          373,
          381,
          405,
          420,
          473,
          532,
          544,
          597,
          727,
          983,
          1046,
          2001,
          5147,
          7412,
          14394,
          18317
         ],
         "xaxis": "x",
         "y": [
          "SSp-ll6a",
          "SSp-tr1",
          "SSp-bfd6b",
          "SSp-ll6b",
          "cing",
          "SSp-tr4",
          "SSp-bfd6a",
          "SSp-tr6b",
          "stc",
          "SSp-tr6a",
          "SSp-ul5",
          "SSp-ul2/3",
          "SSp-tr2/3",
          "ProSv-m",
          "SSp-ul4",
          "SSp-tr5",
          "SSp-bfd4",
          "SSp-bfd5",
          "SSp-bfd2/3",
          "SSp-bfd1"
         ],
         "yaxis": "y"
        },
        {
         "hovertemplate": "<i>%{x}</i>, <b>%{text}</b>",
         "marker": {
          "color": "seagreen"
         },
         "name": "",
         "orientation": "h",
         "text": [
          "Primary somatosensory area, lower limb, layer 6a",
          "Primary somatosensory area, trunk, layer 1",
          "Primary somatosensory area, barrel field, layer 6b",
          "Primary somatosensory area, lower limb, layer 6b",
          "cingulum bundle",
          "Primary somatosensory area, trunk, layer 4",
          "Primary somatosensory area, barrel field, layer 6a",
          "Primary somatosensory area, trunk, layer 6b",
          "commissural branch of stria terminalis",
          "Primary somatosensory area, trunk, layer 6a",
          "Primary somatosensory area, upper limb, layer 5",
          "Primary somatosensory area, upper limb, layer 2/3",
          "Primary somatosensory area, trunk, layer 2/3",
          "Prosubiculum, ventral part, molecular layer",
          "Primary somatosensory area, upper limb, layer 4",
          "Primary somatosensory area, trunk, layer 5",
          "Primary somatosensory area, barrel field, layer 4",
          "Primary somatosensory area, barrel field, layer 5",
          "Primary somatosensory area, barrel field, layer 2/3",
          "Primary somatosensory area, barrel field, layer 1"
         ],
         "type": "bar",
         "x": [
          0,
          0,
          0,
          0,
          0,
          3,
          1,
          3,
          2,
          0,
          4,
          2,
          3,
          1,
          5,
          10,
          57,
          59,
          204,
          275
         ],
         "xaxis": "x2",
         "y": [
          "SSp-ll6a",
          "SSp-tr1",
          "SSp-bfd6b",
          "SSp-ll6b",
          "cing",
          "SSp-tr4",
          "SSp-bfd6a",
          "SSp-tr6b",
          "stc",
          "SSp-tr6a",
          "SSp-ul5",
          "SSp-ul2/3",
          "SSp-tr2/3",
          "ProSv-m",
          "SSp-ul4",
          "SSp-tr5",
          "SSp-bfd4",
          "SSp-bfd5",
          "SSp-bfd2/3",
          "SSp-bfd1"
         ],
         "yaxis": "y2"
        },
        {
         "hovertemplate": "<i>%{x}</i>, <b>%{text}</b>",
         "marker": {
          "color": "blue"
         },
         "name": "",
         "orientation": "h",
         "text": [
          "Primary somatosensory area, barrel field, layer 1",
          "Primary somatosensory area, barrel field, layer 2/3"
         ],
         "type": "bar",
         "x": [
          2483,
          4130
         ],
         "xaxis": "x3",
         "y": [
          "SSp-bfd1",
          "SSp-bfd2/3"
         ],
         "yaxis": "y3"
        },
        {
         "hovertemplate": "<i>%{x}</i>, <b>%{text}</b>",
         "marker": {
          "color": "lightblue"
         },
         "name": "",
         "orientation": "h",
         "text": [
          "Primary somatosensory area, barrel field, layer 1",
          "Primary somatosensory area, barrel field, layer 2/3"
         ],
         "type": "bar",
         "x": [
          40,
          105
         ],
         "xaxis": "x4",
         "y": [
          "SSp-bfd1",
          "SSp-bfd2/3"
         ],
         "yaxis": "y4"
        }
       ],
       "layout": {
        "annotations": [
         {
          "font": {
           "size": 16
          },
          "showarrow": false,
          "text": "Length (um)",
          "x": 0.22,
          "xanchor": "center",
          "xref": "paper",
          "y": 1,
          "yanchor": "bottom",
          "yref": "paper"
         },
         {
          "font": {
           "size": 16
          },
          "showarrow": false,
          "text": "# of endings",
          "x": 0.76,
          "xanchor": "center",
          "xref": "paper",
          "y": 1,
          "yanchor": "bottom",
          "yref": "paper"
         },
         {
          "font": {
           "size": 16
          },
          "showarrow": false,
          "text": "Axons",
          "textangle": 90,
          "x": 0.98,
          "xanchor": "left",
          "xref": "paper",
          "y": 0.6174999999999999,
          "yanchor": "middle",
          "yref": "paper"
         },
         {
          "font": {
           "size": 16
          },
          "showarrow": false,
          "text": "Dendrites",
          "textangle": 90,
          "x": 0.98,
          "xanchor": "left",
          "xref": "paper",
          "y": 0.0425,
          "yanchor": "middle",
          "yref": "paper"
         }
        ],
        "autosize": true,
        "template": {
         "data": {
          "bar": [
           {
            "error_x": {
             "color": "#2a3f5f"
            },
            "error_y": {
             "color": "#2a3f5f"
            },
            "marker": {
             "line": {
              "color": "#E5ECF6",
              "width": 0.5
             }
            },
            "type": "bar"
           }
          ],
          "barpolar": [
           {
            "marker": {
             "line": {
              "color": "#E5ECF6",
              "width": 0.5
             }
            },
            "type": "barpolar"
           }
          ],
          "carpet": [
           {
            "aaxis": {
             "endlinecolor": "#2a3f5f",
             "gridcolor": "white",
             "linecolor": "white",
             "minorgridcolor": "white",
             "startlinecolor": "#2a3f5f"
            },
            "baxis": {
             "endlinecolor": "#2a3f5f",
             "gridcolor": "white",
             "linecolor": "white",
             "minorgridcolor": "white",
             "startlinecolor": "#2a3f5f"
            },
            "type": "carpet"
           }
          ],
          "choropleth": [
           {
            "colorbar": {
             "outlinewidth": 0,
             "ticks": ""
            },
            "type": "choropleth"
           }
          ],
          "contour": [
           {
            "colorbar": {
             "outlinewidth": 0,
             "ticks": ""
            },
            "colorscale": [
             [
              0,
              "#0d0887"
             ],
             [
              0.1111111111111111,
              "#46039f"
             ],
             [
              0.2222222222222222,
              "#7201a8"
             ],
             [
              0.3333333333333333,
              "#9c179e"
             ],
             [
              0.4444444444444444,
              "#bd3786"
             ],
             [
              0.5555555555555556,
              "#d8576b"
             ],
             [
              0.6666666666666666,
              "#ed7953"
             ],
             [
              0.7777777777777778,
              "#fb9f3a"
             ],
             [
              0.8888888888888888,
              "#fdca26"
             ],
             [
              1,
              "#f0f921"
             ]
            ],
            "type": "contour"
           }
          ],
          "contourcarpet": [
           {
            "colorbar": {
             "outlinewidth": 0,
             "ticks": ""
            },
            "type": "contourcarpet"
           }
          ],
          "heatmap": [
           {
            "colorbar": {
             "outlinewidth": 0,
             "ticks": ""
            },
            "colorscale": [
             [
              0,
              "#0d0887"
             ],
             [
              0.1111111111111111,
              "#46039f"
             ],
             [
              0.2222222222222222,
              "#7201a8"
             ],
             [
              0.3333333333333333,
              "#9c179e"
             ],
             [
              0.4444444444444444,
              "#bd3786"
             ],
             [
              0.5555555555555556,
              "#d8576b"
             ],
             [
              0.6666666666666666,
              "#ed7953"
             ],
             [
              0.7777777777777778,
              "#fb9f3a"
             ],
             [
              0.8888888888888888,
              "#fdca26"
             ],
             [
              1,
              "#f0f921"
             ]
            ],
            "type": "heatmap"
           }
          ],
          "heatmapgl": [
           {
            "colorbar": {
             "outlinewidth": 0,
             "ticks": ""
            },
            "colorscale": [
             [
              0,
              "#0d0887"
             ],
             [
              0.1111111111111111,
              "#46039f"
             ],
             [
              0.2222222222222222,
              "#7201a8"
             ],
             [
              0.3333333333333333,
              "#9c179e"
             ],
             [
              0.4444444444444444,
              "#bd3786"
             ],
             [
              0.5555555555555556,
              "#d8576b"
             ],
             [
              0.6666666666666666,
              "#ed7953"
             ],
             [
              0.7777777777777778,
              "#fb9f3a"
             ],
             [
              0.8888888888888888,
              "#fdca26"
             ],
             [
              1,
              "#f0f921"
             ]
            ],
            "type": "heatmapgl"
           }
          ],
          "histogram": [
           {
            "marker": {
             "colorbar": {
              "outlinewidth": 0,
              "ticks": ""
             }
            },
            "type": "histogram"
           }
          ],
          "histogram2d": [
           {
            "colorbar": {
             "outlinewidth": 0,
             "ticks": ""
            },
            "colorscale": [
             [
              0,
              "#0d0887"
             ],
             [
              0.1111111111111111,
              "#46039f"
             ],
             [
              0.2222222222222222,
              "#7201a8"
             ],
             [
              0.3333333333333333,
              "#9c179e"
             ],
             [
              0.4444444444444444,
              "#bd3786"
             ],
             [
              0.5555555555555556,
              "#d8576b"
             ],
             [
              0.6666666666666666,
              "#ed7953"
             ],
             [
              0.7777777777777778,
              "#fb9f3a"
             ],
             [
              0.8888888888888888,
              "#fdca26"
             ],
             [
              1,
              "#f0f921"
             ]
            ],
            "type": "histogram2d"
           }
          ],
          "histogram2dcontour": [
           {
            "colorbar": {
             "outlinewidth": 0,
             "ticks": ""
            },
            "colorscale": [
             [
              0,
              "#0d0887"
             ],
             [
              0.1111111111111111,
              "#46039f"
             ],
             [
              0.2222222222222222,
              "#7201a8"
             ],
             [
              0.3333333333333333,
              "#9c179e"
             ],
             [
              0.4444444444444444,
              "#bd3786"
             ],
             [
              0.5555555555555556,
              "#d8576b"
             ],
             [
              0.6666666666666666,
              "#ed7953"
             ],
             [
              0.7777777777777778,
              "#fb9f3a"
             ],
             [
              0.8888888888888888,
              "#fdca26"
             ],
             [
              1,
              "#f0f921"
             ]
            ],
            "type": "histogram2dcontour"
           }
          ],
          "mesh3d": [
           {
            "colorbar": {
             "outlinewidth": 0,
             "ticks": ""
            },
            "type": "mesh3d"
           }
          ],
          "parcoords": [
           {
            "line": {
             "colorbar": {
              "outlinewidth": 0,
              "ticks": ""
             }
            },
            "type": "parcoords"
           }
          ],
          "pie": [
           {
            "automargin": true,
            "type": "pie"
           }
          ],
          "scatter": [
           {
            "marker": {
             "colorbar": {
              "outlinewidth": 0,
              "ticks": ""
             }
            },
            "type": "scatter"
           }
          ],
          "scatter3d": [
           {
            "line": {
             "colorbar": {
              "outlinewidth": 0,
              "ticks": ""
             }
            },
            "marker": {
             "colorbar": {
              "outlinewidth": 0,
              "ticks": ""
             }
            },
            "type": "scatter3d"
           }
          ],
          "scattercarpet": [
           {
            "marker": {
             "colorbar": {
              "outlinewidth": 0,
              "ticks": ""
             }
            },
            "type": "scattercarpet"
           }
          ],
          "scattergeo": [
           {
            "marker": {
             "colorbar": {
              "outlinewidth": 0,
              "ticks": ""
             }
            },
            "type": "scattergeo"
           }
          ],
          "scattergl": [
           {
            "marker": {
             "colorbar": {
              "outlinewidth": 0,
              "ticks": ""
             }
            },
            "type": "scattergl"
           }
          ],
          "scattermapbox": [
           {
            "marker": {
             "colorbar": {
              "outlinewidth": 0,
              "ticks": ""
             }
            },
            "type": "scattermapbox"
           }
          ],
          "scatterpolar": [
           {
            "marker": {
             "colorbar": {
              "outlinewidth": 0,
              "ticks": ""
             }
            },
            "type": "scatterpolar"
           }
          ],
          "scatterpolargl": [
           {
            "marker": {
             "colorbar": {
              "outlinewidth": 0,
              "ticks": ""
             }
            },
            "type": "scatterpolargl"
           }
          ],
          "scatterternary": [
           {
            "marker": {
             "colorbar": {
              "outlinewidth": 0,
              "ticks": ""
             }
            },
            "type": "scatterternary"
           }
          ],
          "surface": [
           {
            "colorbar": {
             "outlinewidth": 0,
             "ticks": ""
            },
            "colorscale": [
             [
              0,
              "#0d0887"
             ],
             [
              0.1111111111111111,
              "#46039f"
             ],
             [
              0.2222222222222222,
              "#7201a8"
             ],
             [
              0.3333333333333333,
              "#9c179e"
             ],
             [
              0.4444444444444444,
              "#bd3786"
             ],
             [
              0.5555555555555556,
              "#d8576b"
             ],
             [
              0.6666666666666666,
              "#ed7953"
             ],
             [
              0.7777777777777778,
              "#fb9f3a"
             ],
             [
              0.8888888888888888,
              "#fdca26"
             ],
             [
              1,
              "#f0f921"
             ]
            ],
            "type": "surface"
           }
          ],
          "table": [
           {
            "cells": {
             "fill": {
              "color": "#EBF0F8"
             },
             "line": {
              "color": "white"
             }
            },
            "header": {
             "fill": {
              "color": "#C8D4E3"
             },
             "line": {
              "color": "white"
             }
            },
            "type": "table"
           }
          ]
         },
         "layout": {
          "annotationdefaults": {
           "arrowcolor": "#2a3f5f",
           "arrowhead": 0,
           "arrowwidth": 1
          },
          "coloraxis": {
           "colorbar": {
            "outlinewidth": 0,
            "ticks": ""
           }
          },
          "colorscale": {
           "diverging": [
            [
             0,
             "#8e0152"
            ],
            [
             0.1,
             "#c51b7d"
            ],
            [
             0.2,
             "#de77ae"
            ],
            [
             0.3,
             "#f1b6da"
            ],
            [
             0.4,
             "#fde0ef"
            ],
            [
             0.5,
             "#f7f7f7"
            ],
            [
             0.6,
             "#e6f5d0"
            ],
            [
             0.7,
             "#b8e186"
            ],
            [
             0.8,
             "#7fbc41"
            ],
            [
             0.9,
             "#4d9221"
            ],
            [
             1,
             "#276419"
            ]
           ],
           "sequential": [
            [
             0,
             "#0d0887"
            ],
            [
             0.1111111111111111,
             "#46039f"
            ],
            [
             0.2222222222222222,
             "#7201a8"
            ],
            [
             0.3333333333333333,
             "#9c179e"
            ],
            [
             0.4444444444444444,
             "#bd3786"
            ],
            [
             0.5555555555555556,
             "#d8576b"
            ],
            [
             0.6666666666666666,
             "#ed7953"
            ],
            [
             0.7777777777777778,
             "#fb9f3a"
            ],
            [
             0.8888888888888888,
             "#fdca26"
            ],
            [
             1,
             "#f0f921"
            ]
           ],
           "sequentialminus": [
            [
             0,
             "#0d0887"
            ],
            [
             0.1111111111111111,
             "#46039f"
            ],
            [
             0.2222222222222222,
             "#7201a8"
            ],
            [
             0.3333333333333333,
             "#9c179e"
            ],
            [
             0.4444444444444444,
             "#bd3786"
            ],
            [
             0.5555555555555556,
             "#d8576b"
            ],
            [
             0.6666666666666666,
             "#ed7953"
            ],
            [
             0.7777777777777778,
             "#fb9f3a"
            ],
            [
             0.8888888888888888,
             "#fdca26"
            ],
            [
             1,
             "#f0f921"
            ]
           ]
          },
          "colorway": [
           "#636efa",
           "#EF553B",
           "#00cc96",
           "#ab63fa",
           "#FFA15A",
           "#19d3f3",
           "#FF6692",
           "#B6E880",
           "#FF97FF",
           "#FECB52"
          ],
          "font": {
           "color": "#2a3f5f"
          },
          "geo": {
           "bgcolor": "white",
           "lakecolor": "white",
           "landcolor": "#E5ECF6",
           "showlakes": true,
           "showland": true,
           "subunitcolor": "white"
          },
          "hoverlabel": {
           "align": "left"
          },
          "hovermode": "closest",
          "mapbox": {
           "style": "light"
          },
          "paper_bgcolor": "white",
          "plot_bgcolor": "#E5ECF6",
          "polar": {
           "angularaxis": {
            "gridcolor": "white",
            "linecolor": "white",
            "ticks": ""
           },
           "bgcolor": "#E5ECF6",
           "radialaxis": {
            "gridcolor": "white",
            "linecolor": "white",
            "ticks": ""
           }
          },
          "scene": {
           "xaxis": {
            "backgroundcolor": "#E5ECF6",
            "gridcolor": "white",
            "gridwidth": 2,
            "linecolor": "white",
            "showbackground": true,
            "ticks": "",
            "zerolinecolor": "white"
           },
           "yaxis": {
            "backgroundcolor": "#E5ECF6",
            "gridcolor": "white",
            "gridwidth": 2,
            "linecolor": "white",
            "showbackground": true,
            "ticks": "",
            "zerolinecolor": "white"
           },
           "zaxis": {
            "backgroundcolor": "#E5ECF6",
            "gridcolor": "white",
            "gridwidth": 2,
            "linecolor": "white",
            "showbackground": true,
            "ticks": "",
            "zerolinecolor": "white"
           }
          },
          "shapedefaults": {
           "line": {
            "color": "#2a3f5f"
           }
          },
          "ternary": {
           "aaxis": {
            "gridcolor": "white",
            "linecolor": "white",
            "ticks": ""
           },
           "baxis": {
            "gridcolor": "white",
            "linecolor": "white",
            "ticks": ""
           },
           "bgcolor": "#E5ECF6",
           "caxis": {
            "gridcolor": "white",
            "linecolor": "white",
            "ticks": ""
           }
          },
          "title": {
           "x": 0.05
          },
          "xaxis": {
           "automargin": true,
           "gridcolor": "white",
           "linecolor": "white",
           "ticks": "",
           "title": {
            "standoff": 15
           },
           "zerolinecolor": "white",
           "zerolinewidth": 2
          },
          "yaxis": {
           "automargin": true,
           "gridcolor": "white",
           "linecolor": "white",
           "ticks": "",
           "title": {
            "standoff": 15
           },
           "zerolinecolor": "white",
           "zerolinewidth": 2
          }
         }
        },
        "title": {
         "text": "Annotations in respective brain regions"
        },
        "xaxis": {
         "anchor": "y",
         "autorange": true,
         "domain": [
          0,
          0.44
         ],
         "range": [
          0,
          19281.052631578947
         ],
         "type": "linear"
        },
        "xaxis2": {
         "anchor": "y2",
         "autorange": true,
         "domain": [
          0.54,
          0.98
         ],
         "range": [
          0,
          289.4736842105263
         ],
         "type": "linear"
        },
        "xaxis3": {
         "anchor": "y3",
         "autorange": true,
         "domain": [
          0,
          0.44
         ],
         "range": [
          0,
          4347.368421052632
         ],
         "type": "linear"
        },
        "xaxis4": {
         "anchor": "y4",
         "autorange": true,
         "domain": [
          0.54,
          0.98
         ],
         "range": [
          0,
          110.52631578947368
         ],
         "type": "linear"
        },
        "yaxis": {
         "anchor": "x",
         "autorange": true,
         "categoryorder": "trace",
         "domain": [
          0.235,
          1
         ],
         "range": [
          -0.5,
          19.5
         ],
         "type": "category"
        },
        "yaxis2": {
         "anchor": "x2",
         "autorange": true,
         "domain": [
          0.235,
          1
         ],
         "matches": "y",
         "range": [
          -0.5,
          19.5
         ],
         "showticklabels": false,
         "type": "category"
        },
        "yaxis3": {
         "anchor": "x3",
         "autorange": true,
         "domain": [
          0,
          0.085
         ],
         "range": [
          -0.5,
          1.5
         ],
         "type": "category"
        },
        "yaxis4": {
         "anchor": "x4",
         "autorange": true,
         "domain": [
          0,
          0.085
         ],
         "matches": "y3",
         "range": [
          -0.5,
          1.5
         ],
         "showticklabels": false,
         "type": "category"
        }
       }
      },
      "image/png": "[encoded data removed]",
      "text/html": [
       "<div>\n",
       "        \n",
       "        \n",
       "            <div id=\"8554612d-8f62-43fd-8937-f2589112bfe2\" class=\"plotly-graph-div\" style=\"height:800px; width:100%;\"></div>\n",
       "            <script type=\"text/javascript\">\n",
       "                require([\"plotly\"], function(Plotly) {\n",
       "                    window.PLOTLYENV=window.PLOTLYENV || {};\n",
       "                    \n",
       "                if (document.getElementById(\"8554612d-8f62-43fd-8937-f2589112bfe2\")) {\n",
       "                    Plotly.newPlot(\n",
       "                        '8554612d-8f62-43fd-8937-f2589112bfe2',\n",
       "                        [{\"hovertemplate\": \"<i>%{x}</i>, <b>%{text}</b>\", \"marker\": {\"color\": \"olive\"}, \"name\": \"\", \"orientation\": \"h\", \"text\": [\"Primary somatosensory area, lower limb, layer 6a\", \"Primary somatosensory area, trunk, layer 1\", \"Primary somatosensory area, barrel field, layer 6b\", \"Primary somatosensory area, lower limb, layer 6b\", \"cingulum bundle\", \"Primary somatosensory area, trunk, layer 4\", \"Primary somatosensory area, barrel field, layer 6a\", \"Primary somatosensory area, trunk, layer 6b\", \"commissural branch of stria terminalis\", \"Primary somatosensory area, trunk, layer 6a\", \"Primary somatosensory area, upper limb, layer 5\", \"Primary somatosensory area, upper limb, layer 2/3\", \"Primary somatosensory area, trunk, layer 2/3\", \"Prosubiculum, ventral part, molecular layer\", \"Primary somatosensory area, upper limb, layer 4\", \"Primary somatosensory area, trunk, layer 5\", \"Primary somatosensory area, barrel field, layer 4\", \"Primary somatosensory area, barrel field, layer 5\", \"Primary somatosensory area, barrel field, layer 2/3\", \"Primary somatosensory area, barrel field, layer 1\"], \"type\": \"bar\", \"x\": [30, 90, 137, 160, 373, 381, 405, 420, 473, 532, 544, 597, 727, 983, 1046, 2001, 5147, 7412, 14394, 18317], \"xaxis\": \"x\", \"y\": [\"SSp-ll6a\", \"SSp-tr1\", \"SSp-bfd6b\", \"SSp-ll6b\", \"cing\", \"SSp-tr4\", \"SSp-bfd6a\", \"SSp-tr6b\", \"stc\", \"SSp-tr6a\", \"SSp-ul5\", \"SSp-ul2/3\", \"SSp-tr2/3\", \"ProSv-m\", \"SSp-ul4\", \"SSp-tr5\", \"SSp-bfd4\", \"SSp-bfd5\", \"SSp-bfd2/3\", \"SSp-bfd1\"], \"yaxis\": \"y\"}, {\"hovertemplate\": \"<i>%{x}</i>, <b>%{text}</b>\", \"marker\": {\"color\": \"seagreen\"}, \"name\": \"\", \"orientation\": \"h\", \"text\": [\"Primary somatosensory area, lower limb, layer 6a\", \"Primary somatosensory area, trunk, layer 1\", \"Primary somatosensory area, barrel field, layer 6b\", \"Primary somatosensory area, lower limb, layer 6b\", \"cingulum bundle\", \"Primary somatosensory area, trunk, layer 4\", \"Primary somatosensory area, barrel field, layer 6a\", \"Primary somatosensory area, trunk, layer 6b\", \"commissural branch of stria terminalis\", \"Primary somatosensory area, trunk, layer 6a\", \"Primary somatosensory area, upper limb, layer 5\", \"Primary somatosensory area, upper limb, layer 2/3\", \"Primary somatosensory area, trunk, layer 2/3\", \"Prosubiculum, ventral part, molecular layer\", \"Primary somatosensory area, upper limb, layer 4\", \"Primary somatosensory area, trunk, layer 5\", \"Primary somatosensory area, barrel field, layer 4\", \"Primary somatosensory area, barrel field, layer 5\", \"Primary somatosensory area, barrel field, layer 2/3\", \"Primary somatosensory area, barrel field, layer 1\"], \"type\": \"bar\", \"x\": [0, 0, 0, 0, 0, 3, 1, 3, 2, 0, 4, 2, 3, 1, 5, 10, 57, 59, 204, 275], \"xaxis\": \"x2\", \"y\": [\"SSp-ll6a\", \"SSp-tr1\", \"SSp-bfd6b\", \"SSp-ll6b\", \"cing\", \"SSp-tr4\", \"SSp-bfd6a\", \"SSp-tr6b\", \"stc\", \"SSp-tr6a\", \"SSp-ul5\", \"SSp-ul2/3\", \"SSp-tr2/3\", \"ProSv-m\", \"SSp-ul4\", \"SSp-tr5\", \"SSp-bfd4\", \"SSp-bfd5\", \"SSp-bfd2/3\", \"SSp-bfd1\"], \"yaxis\": \"y2\"}, {\"hovertemplate\": \"<i>%{x}</i>, <b>%{text}</b>\", \"marker\": {\"color\": \"blue\"}, \"name\": \"\", \"orientation\": \"h\", \"text\": [\"Primary somatosensory area, barrel field, layer 1\", \"Primary somatosensory area, barrel field, layer 2/3\"], \"type\": \"bar\", \"x\": [2483, 4130], \"xaxis\": \"x3\", \"y\": [\"SSp-bfd1\", \"SSp-bfd2/3\"], \"yaxis\": \"y3\"}, {\"hovertemplate\": \"<i>%{x}</i>, <b>%{text}</b>\", \"marker\": {\"color\": \"lightblue\"}, \"name\": \"\", \"orientation\": \"h\", \"text\": [\"Primary somatosensory area, barrel field, layer 1\", \"Primary somatosensory area, barrel field, layer 2/3\"], \"type\": \"bar\", \"x\": [40, 105], \"xaxis\": \"x4\", \"y\": [\"SSp-bfd1\", \"SSp-bfd2/3\"], \"yaxis\": \"y4\"}],\n",
       "                        {\"annotations\": [{\"font\": {\"size\": 16}, \"showarrow\": false, \"text\": \"Length (um)\", \"x\": 0.22, \"xanchor\": \"center\", \"xref\": \"paper\", \"y\": 1.0, \"yanchor\": \"bottom\", \"yref\": \"paper\"}, {\"font\": {\"size\": 16}, \"showarrow\": false, \"text\": \"# of endings\", \"x\": 0.76, \"xanchor\": \"center\", \"xref\": \"paper\", \"y\": 1.0, \"yanchor\": \"bottom\", \"yref\": \"paper\"}, {\"font\": {\"size\": 16}, \"showarrow\": false, \"text\": \"Axons\", \"textangle\": 90, \"x\": 0.98, \"xanchor\": \"left\", \"xref\": \"paper\", \"y\": 0.6174999999999999, \"yanchor\": \"middle\", \"yref\": \"paper\"}, {\"font\": {\"size\": 16}, \"showarrow\": false, \"text\": \"Dendrites\", \"textangle\": 90, \"x\": 0.98, \"xanchor\": \"left\", \"xref\": \"paper\", \"y\": 0.0425, \"yanchor\": \"middle\", \"yref\": \"paper\"}], \"height\": 800, \"template\": {\"data\": {\"bar\": [{\"error_x\": {\"color\": \"#2a3f5f\"}, \"error_y\": {\"color\": \"#2a3f5f\"}, \"marker\": {\"line\": {\"color\": \"#E5ECF6\", \"width\": 0.5}}, \"type\": \"bar\"}], \"barpolar\": [{\"marker\": {\"line\": {\"color\": \"#E5ECF6\", \"width\": 0.5}}, \"type\": \"barpolar\"}], \"carpet\": [{\"aaxis\": {\"endlinecolor\": \"#2a3f5f\", \"gridcolor\": \"white\", \"linecolor\": \"white\", \"minorgridcolor\": \"white\", \"startlinecolor\": \"#2a3f5f\"}, \"baxis\": {\"endlinecolor\": \"#2a3f5f\", \"gridcolor\": \"white\", \"linecolor\": \"white\", \"minorgridcolor\": \"white\", \"startlinecolor\": \"#2a3f5f\"}, \"type\": \"carpet\"}], \"choropleth\": [{\"colorbar\": {\"outlinewidth\": 0, \"ticks\": \"\"}, \"type\": \"choropleth\"}], \"contour\": [{\"colorbar\": {\"outlinewidth\": 0, \"ticks\": \"\"}, \"colorscale\": [[0.0, \"#0d0887\"], [0.1111111111111111, \"#46039f\"], [0.2222222222222222, \"#7201a8\"], [0.3333333333333333, \"#9c179e\"], [0.4444444444444444, \"#bd3786\"], [0.5555555555555556, \"#d8576b\"], [0.6666666666666666, \"#ed7953\"], [0.7777777777777778, \"#fb9f3a\"], [0.8888888888888888, \"#fdca26\"], [1.0, \"#f0f921\"]], \"type\": \"contour\"}], \"contourcarpet\": [{\"colorbar\": {\"outlinewidth\": 0, \"ticks\": \"\"}, \"type\": \"contourcarpet\"}], \"heatmap\": [{\"colorbar\": {\"outlinewidth\": 0, \"ticks\": \"\"}, \"colorscale\": [[0.0, \"#0d0887\"], [0.1111111111111111, \"#46039f\"], [0.2222222222222222, \"#7201a8\"], [0.3333333333333333, \"#9c179e\"], [0.4444444444444444, \"#bd3786\"], [0.5555555555555556, \"#d8576b\"], [0.6666666666666666, \"#ed7953\"], [0.7777777777777778, \"#fb9f3a\"], [0.8888888888888888, \"#fdca26\"], [1.0, \"#f0f921\"]], \"type\": \"heatmap\"}], \"heatmapgl\": [{\"colorbar\": {\"outlinewidth\": 0, \"ticks\": \"\"}, \"colorscale\": [[0.0, \"#0d0887\"], [0.1111111111111111, \"#46039f\"], [0.2222222222222222, \"#7201a8\"], [0.3333333333333333, \"#9c179e\"], [0.4444444444444444, \"#bd3786\"], [0.5555555555555556, \"#d8576b\"], [0.6666666666666666, \"#ed7953\"], [0.7777777777777778, \"#fb9f3a\"], [0.8888888888888888, \"#fdca26\"], [1.0, \"#f0f921\"]], \"type\": \"heatmapgl\"}], \"histogram\": [{\"marker\": {\"colorbar\": {\"outlinewidth\": 0, \"ticks\": \"\"}}, \"type\": \"histogram\"}], \"histogram2d\": [{\"colorbar\": {\"outlinewidth\": 0, \"ticks\": \"\"}, \"colorscale\": [[0.0, \"#0d0887\"], [0.1111111111111111, \"#46039f\"], [0.2222222222222222, \"#7201a8\"], [0.3333333333333333, \"#9c179e\"], [0.4444444444444444, \"#bd3786\"], [0.5555555555555556, \"#d8576b\"], [0.6666666666666666, \"#ed7953\"], [0.7777777777777778, \"#fb9f3a\"], [0.8888888888888888, \"#fdca26\"], [1.0, \"#f0f921\"]], \"type\": \"histogram2d\"}], \"histogram2dcontour\": [{\"colorbar\": {\"outlinewidth\": 0, \"ticks\": \"\"}, \"colorscale\": [[0.0, \"#0d0887\"], [0.1111111111111111, \"#46039f\"], [0.2222222222222222, \"#7201a8\"], [0.3333333333333333, \"#9c179e\"], [0.4444444444444444, \"#bd3786\"], [0.5555555555555556, \"#d8576b\"], [0.6666666666666666, \"#ed7953\"], [0.7777777777777778, \"#fb9f3a\"], [0.8888888888888888, \"#fdca26\"], [1.0, \"#f0f921\"]], \"type\": \"histogram2dcontour\"}], \"mesh3d\": [{\"colorbar\": {\"outlinewidth\": 0, \"ticks\": \"\"}, \"type\": \"mesh3d\"}], \"parcoords\": [{\"line\": {\"colorbar\": {\"outlinewidth\": 0, \"ticks\": \"\"}}, \"type\": \"parcoords\"}], \"pie\": [{\"automargin\": true, \"type\": \"pie\"}], \"scatter\": [{\"marker\": {\"colorbar\": {\"outlinewidth\": 0, \"ticks\": \"\"}}, \"type\": \"scatter\"}], \"scatter3d\": [{\"line\": {\"colorbar\": {\"outlinewidth\": 0, \"ticks\": \"\"}}, \"marker\": {\"colorbar\": {\"outlinewidth\": 0, \"ticks\": \"\"}}, \"type\": \"scatter3d\"}], \"scattercarpet\": [{\"marker\": {\"colorbar\": {\"outlinewidth\": 0, \"ticks\": \"\"}}, \"type\": \"scattercarpet\"}], \"scattergeo\": [{\"marker\": {\"colorbar\": {\"outlinewidth\": 0, \"ticks\": \"\"}}, \"type\": \"scattergeo\"}], \"scattergl\": [{\"marker\": {\"colorbar\": {\"outlinewidth\": 0, \"ticks\": \"\"}}, \"type\": \"scattergl\"}], \"scattermapbox\": [{\"marker\": {\"colorbar\": {\"outlinewidth\": 0, \"ticks\": \"\"}}, \"type\": \"scattermapbox\"}], \"scatterpolar\": [{\"marker\": {\"colorbar\": {\"outlinewidth\": 0, \"ticks\": \"\"}}, \"type\": \"scatterpolar\"}], \"scatterpolargl\": [{\"marker\": {\"colorbar\": {\"outlinewidth\": 0, \"ticks\": \"\"}}, \"type\": \"scatterpolargl\"}], \"scatterternary\": [{\"marker\": {\"colorbar\": {\"outlinewidth\": 0, \"ticks\": \"\"}}, \"type\": \"scatterternary\"}], \"surface\": [{\"colorbar\": {\"outlinewidth\": 0, \"ticks\": \"\"}, \"colorscale\": [[0.0, \"#0d0887\"], [0.1111111111111111, \"#46039f\"], [0.2222222222222222, \"#7201a8\"], [0.3333333333333333, \"#9c179e\"], [0.4444444444444444, \"#bd3786\"], [0.5555555555555556, \"#d8576b\"], [0.6666666666666666, \"#ed7953\"], [0.7777777777777778, \"#fb9f3a\"], [0.8888888888888888, \"#fdca26\"], [1.0, \"#f0f921\"]], \"type\": \"surface\"}], \"table\": [{\"cells\": {\"fill\": {\"color\": \"#EBF0F8\"}, \"line\": {\"color\": \"white\"}}, \"header\": {\"fill\": {\"color\": \"#C8D4E3\"}, \"line\": {\"color\": \"white\"}}, \"type\": \"table\"}]}, \"layout\": {\"annotationdefaults\": {\"arrowcolor\": \"#2a3f5f\", \"arrowhead\": 0, \"arrowwidth\": 1}, \"coloraxis\": {\"colorbar\": {\"outlinewidth\": 0, \"ticks\": \"\"}}, \"colorscale\": {\"diverging\": [[0, \"#8e0152\"], [0.1, \"#c51b7d\"], [0.2, \"#de77ae\"], [0.3, \"#f1b6da\"], [0.4, \"#fde0ef\"], [0.5, \"#f7f7f7\"], [0.6, \"#e6f5d0\"], [0.7, \"#b8e186\"], [0.8, \"#7fbc41\"], [0.9, \"#4d9221\"], [1, \"#276419\"]], \"sequential\": [[0.0, \"#0d0887\"], [0.1111111111111111, \"#46039f\"], [0.2222222222222222, \"#7201a8\"], [0.3333333333333333, \"#9c179e\"], [0.4444444444444444, \"#bd3786\"], [0.5555555555555556, \"#d8576b\"], [0.6666666666666666, \"#ed7953\"], [0.7777777777777778, \"#fb9f3a\"], [0.8888888888888888, \"#fdca26\"], [1.0, \"#f0f921\"]], \"sequentialminus\": [[0.0, \"#0d0887\"], [0.1111111111111111, \"#46039f\"], [0.2222222222222222, \"#7201a8\"], [0.3333333333333333, \"#9c179e\"], [0.4444444444444444, \"#bd3786\"], [0.5555555555555556, \"#d8576b\"], [0.6666666666666666, \"#ed7953\"], [0.7777777777777778, \"#fb9f3a\"], [0.8888888888888888, \"#fdca26\"], [1.0, \"#f0f921\"]]}, \"colorway\": [\"#636efa\", \"#EF553B\", \"#00cc96\", \"#ab63fa\", \"#FFA15A\", \"#19d3f3\", \"#FF6692\", \"#B6E880\", \"#FF97FF\", \"#FECB52\"], \"font\": {\"color\": \"#2a3f5f\"}, \"geo\": {\"bgcolor\": \"white\", \"lakecolor\": \"white\", \"landcolor\": \"#E5ECF6\", \"showlakes\": true, \"showland\": true, \"subunitcolor\": \"white\"}, \"hoverlabel\": {\"align\": \"left\"}, \"hovermode\": \"closest\", \"mapbox\": {\"style\": \"light\"}, \"paper_bgcolor\": \"white\", \"plot_bgcolor\": \"#E5ECF6\", \"polar\": {\"angularaxis\": {\"gridcolor\": \"white\", \"linecolor\": \"white\", \"ticks\": \"\"}, \"bgcolor\": \"#E5ECF6\", \"radialaxis\": {\"gridcolor\": \"white\", \"linecolor\": \"white\", \"ticks\": \"\"}}, \"scene\": {\"xaxis\": {\"backgroundcolor\": \"#E5ECF6\", \"gridcolor\": \"white\", \"gridwidth\": 2, \"linecolor\": \"white\", \"showbackground\": true, \"ticks\": \"\", \"zerolinecolor\": \"white\"}, \"yaxis\": {\"backgroundcolor\": \"#E5ECF6\", \"gridcolor\": \"white\", \"gridwidth\": 2, \"linecolor\": \"white\", \"showbackground\": true, \"ticks\": \"\", \"zerolinecolor\": \"white\"}, \"zaxis\": {\"backgroundcolor\": \"#E5ECF6\", \"gridcolor\": \"white\", \"gridwidth\": 2, \"linecolor\": \"white\", \"showbackground\": true, \"ticks\": \"\", \"zerolinecolor\": \"white\"}}, \"shapedefaults\": {\"line\": {\"color\": \"#2a3f5f\"}}, \"ternary\": {\"aaxis\": {\"gridcolor\": \"white\", \"linecolor\": \"white\", \"ticks\": \"\"}, \"baxis\": {\"gridcolor\": \"white\", \"linecolor\": \"white\", \"ticks\": \"\"}, \"bgcolor\": \"#E5ECF6\", \"caxis\": {\"gridcolor\": \"white\", \"linecolor\": \"white\", \"ticks\": \"\"}}, \"title\": {\"x\": 0.05}, \"xaxis\": {\"automargin\": true, \"gridcolor\": \"white\", \"linecolor\": \"white\", \"ticks\": \"\", \"title\": {\"standoff\": 15}, \"zerolinecolor\": \"white\", \"zerolinewidth\": 2}, \"yaxis\": {\"automargin\": true, \"gridcolor\": \"white\", \"linecolor\": \"white\", \"ticks\": \"\", \"title\": {\"standoff\": 15}, \"zerolinecolor\": \"white\", \"zerolinewidth\": 2}}}, \"title\": {\"text\": \"Annotations in respective brain regions\"}, \"xaxis\": {\"anchor\": \"y\", \"domain\": [0.0, 0.44]}, \"xaxis2\": {\"anchor\": \"y2\", \"domain\": [0.54, 0.98]}, \"xaxis3\": {\"anchor\": \"y3\", \"domain\": [0.0, 0.44]}, \"xaxis4\": {\"anchor\": \"y4\", \"domain\": [0.54, 0.98]}, \"yaxis\": {\"anchor\": \"x\", \"categoryorder\": \"trace\", \"domain\": [0.235, 1.0]}, \"yaxis2\": {\"anchor\": \"x2\", \"domain\": [0.235, 1.0], \"matches\": \"y\", \"showticklabels\": false}, \"yaxis3\": {\"anchor\": \"x3\", \"domain\": [0.0, 0.085]}, \"yaxis4\": {\"anchor\": \"x4\", \"domain\": [0.0, 0.085], \"matches\": \"y3\", \"showticklabels\": false}},\n",
       "                        {\"responsive\": true}\n",
       "                    ).then(function(){\n",
       "                            \n",
       "var gd = document.getElementById('8554612d-8f62-43fd-8937-f2589112bfe2');\n",
       "var x = new MutationObserver(function (mutations, observer) {{\n",
       "        var display = window.getComputedStyle(gd).display;\n",
       "        if (!display || display === 'none') {{\n",
       "            console.log([gd, 'removed!']);\n",
       "            Plotly.purge(gd);\n",
       "            observer.disconnect();\n",
       "        }}\n",
       "}});\n",
       "\n",
       "// Listen for the removal of the full notebook cells\n",
       "var notebookContainer = gd.closest('#notebook-container');\n",
       "if (notebookContainer) {{\n",
       "    x.observe(notebookContainer, {childList: true});\n",
       "}}\n",
       "\n",
       "// Listen for the clearing of the current output cell\n",
       "var outputEl = gd.closest('.output');\n",
       "if (outputEl) {{\n",
       "    x.observe(outputEl, {childList: true});\n",
       "}}\n",
       "\n",
       "                        })\n",
       "                };\n",
       "                });\n",
       "            </script>\n",
       "        </div>"
      ]
     },
     "metadata": {},
     "output_type": "display_data"
    }
   ],
   "source": [
    "plot_hist(axon_bar,dendrite_bar,mousename)"
   ]
  },
  {
   "cell_type": "code",
   "execution_count": null,
   "metadata": {},
   "outputs": [],
   "source": []
  }
 ],
 "metadata": {
  "kernelspec": {
   "display_name": "Python 3",
   "language": "python",
   "name": "python3"
  },
  "language_info": {
   "codemirror_mode": {
    "name": "ipython",
    "version": 3
   },
   "file_extension": ".py",
   "mimetype": "text/x-python",
   "name": "python",
   "nbconvert_exporter": "python",
   "pygments_lexer": "ipython3",
   "version": "3.7.3"
  }
 },
 "nbformat": 4,
 "nbformat_minor": 4
}
