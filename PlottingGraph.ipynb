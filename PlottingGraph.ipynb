{
 "cells": [
  {
   "cell_type": "code",
   "execution_count": 1,
   "metadata": {},
   "outputs": [
    {
     "data": {
      "text/html": [
       "        <script type=\"text/javascript\">\n",
       "        window.PlotlyConfig = {MathJaxConfig: 'local'};\n",
       "        if (window.MathJax) {MathJax.Hub.Config({SVG: {font: \"STIX-Web\"}});}\n",
       "        if (typeof require !== 'undefined') {\n",
       "        require.undef(\"plotly\");\n",
       "        requirejs.config({\n",
       "            paths: {\n",
       "                'plotly': ['https://cdn.plot.ly/plotly-latest.min']\n",
       "            }\n",
       "        });\n",
       "        require(['plotly'], function(Plotly) {\n",
       "            window._Plotly = Plotly;\n",
       "        });\n",
       "        }\n",
       "        </script>\n",
       "        "
      ]
     },
     "metadata": {},
     "output_type": "display_data"
    }
   ],
   "source": [
    "import os\n",
    "\n",
    "import pandas as pd\n",
    "import re\n",
    "\n",
    "import numpy as np\n",
    "\n",
    "import random\n",
    "\n",
    "import Neuron_analysis as na\n",
    "\n",
    "import plotly\n",
    "import plotly.offline\n",
    "import plotly.graph_objects as go\n",
    "from plotly.subplots import make_subplots\n",
    "\n",
    "from plotly.offline import download_plotlyjs, init_notebook_mode, plot, iplot\n",
    "init_notebook_mode(connected=True)"
   ]
  },
  {
   "cell_type": "code",
   "execution_count": 2,
   "metadata": {},
   "outputs": [],
   "source": [
    "results_dir= 'D:/Complete_points/'"
   ]
  },
  {
   "cell_type": "code",
   "execution_count": 3,
   "metadata": {},
   "outputs": [],
   "source": [
    "files= os.listdir(results_dir)"
   ]
  },
  {
   "cell_type": "markdown",
   "metadata": {},
   "source": [
    "## Plots all downsampled points into same space ##"
   ]
  },
  {
   "cell_type": "code",
   "execution_count": 4,
   "metadata": {},
   "outputs": [],
   "source": [
    "axons=[os.path.join(results_dir,i) for i in files if '_axons.csv' in i]"
   ]
  },
  {
   "cell_type": "code",
   "execution_count": 5,
   "metadata": {},
   "outputs": [
    {
     "ename": "IndexError",
     "evalue": "list index out of range",
     "output_type": "error",
     "traceback": [
      "\u001b[1;31m---------------------------------------------------------------------------\u001b[0m",
      "\u001b[1;31mIndexError\u001b[0m                                Traceback (most recent call last)",
      "\u001b[1;32m<ipython-input-5-1192dde0436f>\u001b[0m in \u001b[0;36m<module>\u001b[1;34m\u001b[0m\n\u001b[1;32m----> 1\u001b[1;33m \u001b[0mdata_pd\u001b[0m\u001b[1;33m=\u001b[0m\u001b[0mpd\u001b[0m\u001b[1;33m.\u001b[0m\u001b[0mread_csv\u001b[0m\u001b[1;33m(\u001b[0m\u001b[0maxons\u001b[0m\u001b[1;33m[\u001b[0m\u001b[1;36m0\u001b[0m\u001b[1;33m]\u001b[0m\u001b[1;33m)\u001b[0m\u001b[1;33m\u001b[0m\u001b[1;33m\u001b[0m\u001b[0m\n\u001b[0m\u001b[0;32m      2\u001b[0m \u001b[0mdata_pd\u001b[0m\u001b[1;33m.\u001b[0m\u001b[0mloc\u001b[0m\u001b[1;33m[\u001b[0m\u001b[1;36m100\u001b[0m\u001b[1;33m:\u001b[0m\u001b[1;36m105\u001b[0m\u001b[1;33m]\u001b[0m\u001b[1;33m\u001b[0m\u001b[1;33m\u001b[0m\u001b[0m\n",
      "\u001b[1;31mIndexError\u001b[0m: list index out of range"
     ]
    }
   ],
   "source": [
    "data_pd=pd.read_csv(axons[0])\n",
    "data_pd.loc[100:105]"
   ]
  },
  {
   "cell_type": "code",
   "execution_count": 8,
   "metadata": {},
   "outputs": [
    {
     "data": {
      "text/plain": [
       "'D:/Complete_points/allprojection3d.html'"
      ]
     },
     "execution_count": 8,
     "metadata": {},
     "output_type": "execute_result"
    }
   ],
   "source": [
    "fig=go.Figure()\n",
    "\n",
    "for count,names in enumerate(axons):\n",
    "    data_pd=pd.read_csv(names)\n",
    "    name= re.search('\\D{2}[0-9]{3}', names)[0]\n",
    "    \n",
    "    data_pd['name']= [na.give_me_name(i) for i in data_pd['atlas_ID']]\n",
    "    data_pd['ML']= [na.stereotaxis(i,ml=1) for i in data_pd['x']]\n",
    "    data_pd['AP']= [na.stereotaxis(i,ml=0) for i in data_pd['z']]\n",
    "    data_pd['DV']= [i*25/1000 for i in data_pd['y']]\n",
    "    \n",
    "    fig.add_trace(go.Scatter3d( \n",
    "        x=data_pd['ML'],\n",
    "        y=data_pd['DV'],\n",
    "        z=data_pd['AP'],\n",
    "        \n",
    "        mode='markers',\n",
    "        name=name,\n",
    "        marker=dict(\n",
    "            size=1,\n",
    "            color=count,\n",
    "            opacity=0.5\n",
    "        ),\n",
    "        \n",
    "        text=data_pd['name'],\n",
    "        hovertemplate= '%{text}<br> ML: %{x} mm <br> AP: %{z} mm'\n",
    "        \n",
    "    ))\n",
    "\n",
    "camera = dict(\n",
    "        eye=dict(x=0, y=-1, z=0)\n",
    "    )\n",
    "\n",
    "    #Need to change the axis title depending on the direction and orientation of the origional image (ie, imaging started from cerebellum vs. imaging started from olfactorybulb)\n",
    "fig.update_layout(scene_camera=camera, \n",
    "                      scene=dict(\n",
    "                        xaxis_title='Medial-lateral',\n",
    "                        yaxis_title='Dorsal-ventral',\n",
    "                        zaxis_title='Anterior-posterior'))\n",
    "plot(fig,filename=results_dir+'allprojection3d.html')"
   ]
  },
  {
   "cell_type": "markdown",
   "metadata": {},
   "source": [
    "## Plots the individual original points with associated ID ##"
   ]
  },
  {
   "cell_type": "code",
   "execution_count": 77,
   "metadata": {},
   "outputs": [
    {
     "data": {
      "text/plain": [
       "['D:/Complete_points/GF243D_oripoints_withID.csv',\n",
       " 'D:/Complete_points/GF243_oripoints_withID.csv']"
      ]
     },
     "execution_count": 77,
     "metadata": {},
     "output_type": "execute_result"
    }
   ],
   "source": [
    "ori_points=[os.path.join(results_dir,i) for i in files if 'oripoints' in i]\n",
    "ori_points"
   ]
  },
  {
   "cell_type": "code",
   "execution_count": 79,
   "metadata": {},
   "outputs": [],
   "source": [
    "axons=pd.read_csv(ori_points[1])\n",
    "#axons['name']= [na.give_me_name(i) for i in axons['atlasID']]\n",
    "dendrites=pd.read_csv(ori_points[0])\n",
    "#dendrites['name']= [na.give_me_name(i) for i in dendrites['atlasID']]\n",
    "mousename=na.find_mousename(ori_points[1])"
   ]
  },
  {
   "cell_type": "code",
   "execution_count": 81,
   "metadata": {},
   "outputs": [
    {
     "data": {
      "text/html": [
       "<div>\n",
       "<style scoped>\n",
       "    .dataframe tbody tr th:only-of-type {\n",
       "        vertical-align: middle;\n",
       "    }\n",
       "\n",
       "    .dataframe tbody tr th {\n",
       "        vertical-align: top;\n",
       "    }\n",
       "\n",
       "    .dataframe thead th {\n",
       "        text-align: right;\n",
       "    }\n",
       "</style>\n",
       "<table border=\"1\" class=\"dataframe\">\n",
       "  <thead>\n",
       "    <tr style=\"text-align: right;\">\n",
       "      <th></th>\n",
       "      <th>x</th>\n",
       "      <th>y</th>\n",
       "      <th>z</th>\n",
       "      <th>atlasID</th>\n",
       "    </tr>\n",
       "  </thead>\n",
       "  <tbody>\n",
       "    <tr>\n",
       "      <th>0</th>\n",
       "      <td>5275.74</td>\n",
       "      <td>2194.85</td>\n",
       "      <td>3899.45</td>\n",
       "      <td>886</td>\n",
       "    </tr>\n",
       "    <tr>\n",
       "      <th>1</th>\n",
       "      <td>5275.51</td>\n",
       "      <td>2195.14</td>\n",
       "      <td>3898.52</td>\n",
       "      <td>886</td>\n",
       "    </tr>\n",
       "    <tr>\n",
       "      <th>2</th>\n",
       "      <td>5275.29</td>\n",
       "      <td>2195.44</td>\n",
       "      <td>3897.59</td>\n",
       "      <td>886</td>\n",
       "    </tr>\n",
       "    <tr>\n",
       "      <th>3</th>\n",
       "      <td>5275.06</td>\n",
       "      <td>2195.74</td>\n",
       "      <td>3896.66</td>\n",
       "      <td>886</td>\n",
       "    </tr>\n",
       "    <tr>\n",
       "      <th>4</th>\n",
       "      <td>5274.84</td>\n",
       "      <td>2196.03</td>\n",
       "      <td>3895.73</td>\n",
       "      <td>886</td>\n",
       "    </tr>\n",
       "    <tr>\n",
       "      <th>...</th>\n",
       "      <td>...</td>\n",
       "      <td>...</td>\n",
       "      <td>...</td>\n",
       "      <td>...</td>\n",
       "    </tr>\n",
       "    <tr>\n",
       "      <th>60055</th>\n",
       "      <td>5177.00</td>\n",
       "      <td>2768.27</td>\n",
       "      <td>4775.83</td>\n",
       "      <td>847</td>\n",
       "    </tr>\n",
       "    <tr>\n",
       "      <th>60056</th>\n",
       "      <td>5613.60</td>\n",
       "      <td>2982.40</td>\n",
       "      <td>4725.00</td>\n",
       "      <td>847</td>\n",
       "    </tr>\n",
       "    <tr>\n",
       "      <th>60057</th>\n",
       "      <td>5613.50</td>\n",
       "      <td>2982.40</td>\n",
       "      <td>4724.01</td>\n",
       "      <td>847</td>\n",
       "    </tr>\n",
       "    <tr>\n",
       "      <th>60058</th>\n",
       "      <td>5613.39</td>\n",
       "      <td>2982.40</td>\n",
       "      <td>4723.01</td>\n",
       "      <td>847</td>\n",
       "    </tr>\n",
       "    <tr>\n",
       "      <th>60059</th>\n",
       "      <td>5613.29</td>\n",
       "      <td>2982.40</td>\n",
       "      <td>4722.02</td>\n",
       "      <td>847</td>\n",
       "    </tr>\n",
       "  </tbody>\n",
       "</table>\n",
       "<p>60060 rows × 4 columns</p>\n",
       "</div>"
      ],
      "text/plain": [
       "             x        y        z  atlasID\n",
       "0      5275.74  2194.85  3899.45      886\n",
       "1      5275.51  2195.14  3898.52      886\n",
       "2      5275.29  2195.44  3897.59      886\n",
       "3      5275.06  2195.74  3896.66      886\n",
       "4      5274.84  2196.03  3895.73      886\n",
       "...        ...      ...      ...      ...\n",
       "60055  5177.00  2768.27  4775.83      847\n",
       "60056  5613.60  2982.40  4725.00      847\n",
       "60057  5613.50  2982.40  4724.01      847\n",
       "60058  5613.39  2982.40  4723.01      847\n",
       "60059  5613.29  2982.40  4722.02      847\n",
       "\n",
       "[60060 rows x 4 columns]"
      ]
     },
     "execution_count": 81,
     "metadata": {},
     "output_type": "execute_result"
    }
   ],
   "source": [
    "axons"
   ]
  },
  {
   "cell_type": "code",
   "execution_count": 138,
   "metadata": {},
   "outputs": [],
   "source": [
    "def make_scatter(axons, dendrites, mousename):\n",
    "        \n",
    "    fig=go.Figure()\n",
    "    fig.add_trace(go.Scatter3d( \n",
    "        x=axons[::3]['x'],\n",
    "        y=axons[::3]['y'],\n",
    "        z=axons[::3]['z'],\n",
    "        mode='markers',\n",
    "        name='Axons',\n",
    "        marker=dict(\n",
    "            size=1,\n",
    "            color='blue',\n",
    "            opacity=0.5\n",
    "        ),\n",
    "        #hovertext= axons[::3]['name'],\n",
    "        hovertext= axons['atlasID'],\n",
    "        hoverinfo='text'\n",
    "    ))\n",
    "    \n",
    "    fig.add_trace(go.Scatter3d(\n",
    "        x=dendrites['x'],\n",
    "        y=dendrites['y'],\n",
    "        z=dendrites['z'],\n",
    "        mode='markers',\n",
    "        name='Dendrites',\n",
    "        marker=dict(\n",
    "            size=2,\n",
    "            color='red',\n",
    "            opacity=0.5),\n",
    "        #hovertext= dendrites['name'],\n",
    "        hovertext=dendrites['atlasID'],\n",
    "        hoverinfo='text'\n",
    "    ))\n",
    "\n",
    "#Here we want horizontal view with dorsal surface toward us\n",
    "#first we set a xz view for coronal section this is done by setting x and z as 0 in eye\n",
    "# then, for y we want the smaller values to point toward us (because in our original coronal images dorsal surface is pointed up)\n",
    "    camera = dict(\n",
    "            eye=dict(x=0, y=0, z=2.5))\n",
    "    #Need to change the axis title depending on the direction and orientation of the origional image (ie, imaging started from cerebellum vs. imaging started from olfactorybulb)\n",
    "    fig.update_layout(scene_camera=camera, \n",
    "                      scene=dict(\n",
    "                        xaxis_title='Medial-lateral',\n",
    "                        yaxis_title='Dorsal-ventral',\n",
    "                        zaxis_title='Anterior-posterior'))\n",
    "    #fig.write_image(f\"D:/2PT electroporation time/{mousename}.svg\")\n",
    "    plot(fig,filename='D:/2PT electroporation time/'+ mousename+'/3Dplot.html')\n",
    "    "
   ]
  },
  {
   "cell_type": "code",
   "execution_count": 139,
   "metadata": {},
   "outputs": [],
   "source": [
    "make_scatter(axons,dendrites,mousename)"
   ]
  },
  {
   "cell_type": "markdown",
   "metadata": {},
   "source": [
    "## analysis of viral project injection site! ##"
   ]
  },
  {
   "cell_type": "code",
   "execution_count": 2,
   "metadata": {},
   "outputs": [],
   "source": [
    "data=pd.read_excel(r'D:\\viral_injectionsite\\results.xlsx',index_col=0)"
   ]
  },
  {
   "cell_type": "code",
   "execution_count": 3,
   "metadata": {},
   "outputs": [
    {
     "data": {
      "text/html": [
       "<div>\n",
       "<style scoped>\n",
       "    .dataframe tbody tr th:only-of-type {\n",
       "        vertical-align: middle;\n",
       "    }\n",
       "\n",
       "    .dataframe tbody tr th {\n",
       "        vertical-align: top;\n",
       "    }\n",
       "\n",
       "    .dataframe thead th {\n",
       "        text-align: right;\n",
       "    }\n",
       "</style>\n",
       "<table border=\"1\" class=\"dataframe\">\n",
       "  <thead>\n",
       "    <tr style=\"text-align: right;\">\n",
       "      <th></th>\n",
       "      <th>Data_name</th>\n",
       "      <th>Total_voxels</th>\n",
       "      <th>Centroid_location_1</th>\n",
       "      <th>Centroid_location_2</th>\n",
       "      <th>Centroid_location_3</th>\n",
       "      <th>Centroid_id</th>\n",
       "      <th>Voxel_id</th>\n",
       "    </tr>\n",
       "  </thead>\n",
       "  <tbody>\n",
       "    <tr>\n",
       "      <th>0</th>\n",
       "      <td>AL207_647</td>\n",
       "      <td>6480</td>\n",
       "      <td>121</td>\n",
       "      <td>276</td>\n",
       "      <td>60</td>\n",
       "      <td>1070</td>\n",
       "      <td>[{9: 23, 1038: 1543, 1047: 14, 1070: 3873, 111...</td>\n",
       "    </tr>\n",
       "    <tr>\n",
       "      <th>1</th>\n",
       "      <td>AL208_647</td>\n",
       "      <td>1691</td>\n",
       "      <td>137</td>\n",
       "      <td>274</td>\n",
       "      <td>51</td>\n",
       "      <td>1111</td>\n",
       "      <td>[{9: 182, 625: 138, 945: 4, 1111: 1137, 182305...</td>\n",
       "    </tr>\n",
       "    <tr>\n",
       "      <th>2</th>\n",
       "      <td>AL209_647</td>\n",
       "      <td>4218</td>\n",
       "      <td>109</td>\n",
       "      <td>270</td>\n",
       "      <td>69</td>\n",
       "      <td>1070</td>\n",
       "      <td>[{1038: 75, 1047: 11, 1070: 4132}]</td>\n",
       "    </tr>\n",
       "    <tr>\n",
       "      <th>3</th>\n",
       "      <td>AL210_647</td>\n",
       "      <td>1855</td>\n",
       "      <td>122</td>\n",
       "      <td>287</td>\n",
       "      <td>52</td>\n",
       "      <td>1070</td>\n",
       "      <td>[{1047: 10, 1070: 1134, 1111: 159, 312782558: ...</td>\n",
       "    </tr>\n",
       "    <tr>\n",
       "      <th>4</th>\n",
       "      <td>AL211_647</td>\n",
       "      <td>1584</td>\n",
       "      <td>106</td>\n",
       "      <td>276</td>\n",
       "      <td>66</td>\n",
       "      <td>1070</td>\n",
       "      <td>[{1047: 94, 1070: 1490}]</td>\n",
       "    </tr>\n",
       "    <tr>\n",
       "      <th>5</th>\n",
       "      <td>AL213_647</td>\n",
       "      <td>2944</td>\n",
       "      <td>98</td>\n",
       "      <td>272</td>\n",
       "      <td>73</td>\n",
       "      <td>1070</td>\n",
       "      <td>[{1047: 44, 1070: 2900}]</td>\n",
       "    </tr>\n",
       "    <tr>\n",
       "      <th>6</th>\n",
       "      <td>AL214_647</td>\n",
       "      <td>3679</td>\n",
       "      <td>133</td>\n",
       "      <td>272</td>\n",
       "      <td>54</td>\n",
       "      <td>1111</td>\n",
       "      <td>[{9: 183, 577: 6, 625: 387, 670: 5, 854: 1, 94...</td>\n",
       "    </tr>\n",
       "    <tr>\n",
       "      <th>7</th>\n",
       "      <td>AL215_647</td>\n",
       "      <td>2543</td>\n",
       "      <td>102</td>\n",
       "      <td>279</td>\n",
       "      <td>67</td>\n",
       "      <td>1070</td>\n",
       "      <td>[{1038: 532, 1047: 1022, 1070: 989}]</td>\n",
       "    </tr>\n",
       "    <tr>\n",
       "      <th>8</th>\n",
       "      <td>AL254_561</td>\n",
       "      <td>4580</td>\n",
       "      <td>97</td>\n",
       "      <td>281</td>\n",
       "      <td>46</td>\n",
       "      <td>201</td>\n",
       "      <td>[{201: 2937, 981: 1217, 1047: 426}]</td>\n",
       "    </tr>\n",
       "    <tr>\n",
       "      <th>9</th>\n",
       "      <td>AL255_561</td>\n",
       "      <td>9959</td>\n",
       "      <td>76</td>\n",
       "      <td>284</td>\n",
       "      <td>61</td>\n",
       "      <td>201</td>\n",
       "      <td>[{201: 6655, 806: 771, 873: 187, 981: 2043, 10...</td>\n",
       "    </tr>\n",
       "    <tr>\n",
       "      <th>10</th>\n",
       "      <td>AL256_561</td>\n",
       "      <td>7322</td>\n",
       "      <td>76</td>\n",
       "      <td>286</td>\n",
       "      <td>63</td>\n",
       "      <td>201</td>\n",
       "      <td>[{201: 5013, 806: 926, 873: 92, 981: 513, 1035...</td>\n",
       "    </tr>\n",
       "    <tr>\n",
       "      <th>11</th>\n",
       "      <td>AL257_561</td>\n",
       "      <td>4327</td>\n",
       "      <td>79</td>\n",
       "      <td>263</td>\n",
       "      <td>60</td>\n",
       "      <td>981</td>\n",
       "      <td>[{201: 2459, 981: 1868}]</td>\n",
       "    </tr>\n",
       "    <tr>\n",
       "      <th>12</th>\n",
       "      <td>AL266_647</td>\n",
       "      <td>11292</td>\n",
       "      <td>112</td>\n",
       "      <td>295</td>\n",
       "      <td>58</td>\n",
       "      <td>1070</td>\n",
       "      <td>[{778: 54, 1038: 193, 1047: 38, 1070: 6234, 11...</td>\n",
       "    </tr>\n",
       "    <tr>\n",
       "      <th>13</th>\n",
       "      <td>AL271_561</td>\n",
       "      <td>6001</td>\n",
       "      <td>76</td>\n",
       "      <td>290</td>\n",
       "      <td>88</td>\n",
       "      <td>1090</td>\n",
       "      <td>[{252: 1645, 678: 47, 847: 40, 1035: 35, 1047:...</td>\n",
       "    </tr>\n",
       "    <tr>\n",
       "      <th>14</th>\n",
       "      <td>AL273_647</td>\n",
       "      <td>3158</td>\n",
       "      <td>118</td>\n",
       "      <td>273</td>\n",
       "      <td>63</td>\n",
       "      <td>1070</td>\n",
       "      <td>[{1038: 636, 1070: 2514, 182305705: 8}]</td>\n",
       "    </tr>\n",
       "    <tr>\n",
       "      <th>15</th>\n",
       "      <td>AL274_561</td>\n",
       "      <td>2205</td>\n",
       "      <td>77</td>\n",
       "      <td>284</td>\n",
       "      <td>106</td>\n",
       "      <td>862</td>\n",
       "      <td>[{862: 1958, 1090: 247}]</td>\n",
       "    </tr>\n",
       "    <tr>\n",
       "      <th>16</th>\n",
       "      <td>AL274_647</td>\n",
       "      <td>5471</td>\n",
       "      <td>102</td>\n",
       "      <td>283</td>\n",
       "      <td>80</td>\n",
       "      <td>1038</td>\n",
       "      <td>[{1038: 4515, 1062: 286, 1070: 587, 484682520:...</td>\n",
       "    </tr>\n",
       "    <tr>\n",
       "      <th>17</th>\n",
       "      <td>AL276_647</td>\n",
       "      <td>3114</td>\n",
       "      <td>106</td>\n",
       "      <td>314</td>\n",
       "      <td>73</td>\n",
       "      <td>484682520</td>\n",
       "      <td>[{305: 2, 971: 889, 986: 13, 1038: 33, 1062: 1...</td>\n",
       "    </tr>\n",
       "    <tr>\n",
       "      <th>18</th>\n",
       "      <td>AL278_647</td>\n",
       "      <td>1221</td>\n",
       "      <td>70</td>\n",
       "      <td>282</td>\n",
       "      <td>94</td>\n",
       "      <td>1090</td>\n",
       "      <td>[{1035: 68, 1047: 2, 1070: 52, 1090: 1099}]</td>\n",
       "    </tr>\n",
       "    <tr>\n",
       "      <th>19</th>\n",
       "      <td>AL279_647</td>\n",
       "      <td>6163</td>\n",
       "      <td>62</td>\n",
       "      <td>287</td>\n",
       "      <td>115</td>\n",
       "      <td>252</td>\n",
       "      <td>[{156: 384, 252: 3086, 520: 2, 847: 20, 862: 2...</td>\n",
       "    </tr>\n",
       "    <tr>\n",
       "      <th>20</th>\n",
       "      <td>AL280_647</td>\n",
       "      <td>1642</td>\n",
       "      <td>71</td>\n",
       "      <td>277</td>\n",
       "      <td>97</td>\n",
       "      <td>1090</td>\n",
       "      <td>[{1035: 8, 1070: 100, 1090: 1534}]</td>\n",
       "    </tr>\n",
       "    <tr>\n",
       "      <th>21</th>\n",
       "      <td>AL281_647</td>\n",
       "      <td>1767</td>\n",
       "      <td>72</td>\n",
       "      <td>283</td>\n",
       "      <td>102</td>\n",
       "      <td>1090</td>\n",
       "      <td>[{862: 185, 1090: 1582}]</td>\n",
       "    </tr>\n",
       "    <tr>\n",
       "      <th>22</th>\n",
       "      <td>AL285_647</td>\n",
       "      <td>2885</td>\n",
       "      <td>102</td>\n",
       "      <td>269</td>\n",
       "      <td>84</td>\n",
       "      <td>1038</td>\n",
       "      <td>[{1038: 2492, 1070: 393}]</td>\n",
       "    </tr>\n",
       "  </tbody>\n",
       "</table>\n",
       "</div>"
      ],
      "text/plain": [
       "    Data_name  Total_voxels  Centroid_location_1  Centroid_location_2  \\\n",
       "0   AL207_647          6480                  121                  276   \n",
       "1   AL208_647          1691                  137                  274   \n",
       "2   AL209_647          4218                  109                  270   \n",
       "3   AL210_647          1855                  122                  287   \n",
       "4   AL211_647          1584                  106                  276   \n",
       "5   AL213_647          2944                   98                  272   \n",
       "6   AL214_647          3679                  133                  272   \n",
       "7   AL215_647          2543                  102                  279   \n",
       "8   AL254_561          4580                   97                  281   \n",
       "9   AL255_561          9959                   76                  284   \n",
       "10  AL256_561          7322                   76                  286   \n",
       "11  AL257_561          4327                   79                  263   \n",
       "12  AL266_647         11292                  112                  295   \n",
       "13  AL271_561          6001                   76                  290   \n",
       "14  AL273_647          3158                  118                  273   \n",
       "15  AL274_561          2205                   77                  284   \n",
       "16  AL274_647          5471                  102                  283   \n",
       "17  AL276_647          3114                  106                  314   \n",
       "18  AL278_647          1221                   70                  282   \n",
       "19  AL279_647          6163                   62                  287   \n",
       "20  AL280_647          1642                   71                  277   \n",
       "21  AL281_647          1767                   72                  283   \n",
       "22  AL285_647          2885                  102                  269   \n",
       "\n",
       "    Centroid_location_3  Centroid_id  \\\n",
       "0                    60         1070   \n",
       "1                    51         1111   \n",
       "2                    69         1070   \n",
       "3                    52         1070   \n",
       "4                    66         1070   \n",
       "5                    73         1070   \n",
       "6                    54         1111   \n",
       "7                    67         1070   \n",
       "8                    46          201   \n",
       "9                    61          201   \n",
       "10                   63          201   \n",
       "11                   60          981   \n",
       "12                   58         1070   \n",
       "13                   88         1090   \n",
       "14                   63         1070   \n",
       "15                  106          862   \n",
       "16                   80         1038   \n",
       "17                   73    484682520   \n",
       "18                   94         1090   \n",
       "19                  115          252   \n",
       "20                   97         1090   \n",
       "21                  102         1090   \n",
       "22                   84         1038   \n",
       "\n",
       "                                             Voxel_id  \n",
       "0   [{9: 23, 1038: 1543, 1047: 14, 1070: 3873, 111...  \n",
       "1   [{9: 182, 625: 138, 945: 4, 1111: 1137, 182305...  \n",
       "2                  [{1038: 75, 1047: 11, 1070: 4132}]  \n",
       "3   [{1047: 10, 1070: 1134, 1111: 159, 312782558: ...  \n",
       "4                            [{1047: 94, 1070: 1490}]  \n",
       "5                            [{1047: 44, 1070: 2900}]  \n",
       "6   [{9: 183, 577: 6, 625: 387, 670: 5, 854: 1, 94...  \n",
       "7                [{1038: 532, 1047: 1022, 1070: 989}]  \n",
       "8                 [{201: 2937, 981: 1217, 1047: 426}]  \n",
       "9   [{201: 6655, 806: 771, 873: 187, 981: 2043, 10...  \n",
       "10  [{201: 5013, 806: 926, 873: 92, 981: 513, 1035...  \n",
       "11                           [{201: 2459, 981: 1868}]  \n",
       "12  [{778: 54, 1038: 193, 1047: 38, 1070: 6234, 11...  \n",
       "13  [{252: 1645, 678: 47, 847: 40, 1035: 35, 1047:...  \n",
       "14            [{1038: 636, 1070: 2514, 182305705: 8}]  \n",
       "15                           [{862: 1958, 1090: 247}]  \n",
       "16  [{1038: 4515, 1062: 286, 1070: 587, 484682520:...  \n",
       "17  [{305: 2, 971: 889, 986: 13, 1038: 33, 1062: 1...  \n",
       "18        [{1035: 68, 1047: 2, 1070: 52, 1090: 1099}]  \n",
       "19  [{156: 384, 252: 3086, 520: 2, 847: 20, 862: 2...  \n",
       "20                 [{1035: 8, 1070: 100, 1090: 1534}]  \n",
       "21                           [{862: 185, 1090: 1582}]  \n",
       "22                          [{1038: 2492, 1070: 393}]  "
      ]
     },
     "execution_count": 3,
     "metadata": {},
     "output_type": "execute_result"
    }
   ],
   "source": [
    "data"
   ]
  },
  {
   "cell_type": "code",
   "execution_count": 4,
   "metadata": {},
   "outputs": [],
   "source": [
    "data['Genotype']= ['Sim1Cre', 'Sim1Cre', 'Sim1Cre', 'Tlx3Cre', 'Rbp4Cre', 'Tlx3Cre', 'Rbp4Cre', 'Rbp4Cre', 'Rasgrf2dCre', 'Rasgrf2dCre',\n",
    "                   'Rasgrf2dCre', 'Rasgrf2dCre', 'Rbp4Cre', 'Rbp4Cre', 'Sim1Cre', 'Ntsr1Cre', 'Ntsr1Cre', 'Ntsr1Cre', 'Tlx3Cre', 'Rbp4Cre', \n",
    "                   'Tlx3Cre', 'Sim1Cre', 'Ntsr1Cre']"
   ]
  },
  {
   "cell_type": "code",
   "execution_count": 5,
   "metadata": {},
   "outputs": [
    {
     "data": {
      "text/html": [
       "<div>\n",
       "<style scoped>\n",
       "    .dataframe tbody tr th:only-of-type {\n",
       "        vertical-align: middle;\n",
       "    }\n",
       "\n",
       "    .dataframe tbody tr th {\n",
       "        vertical-align: top;\n",
       "    }\n",
       "\n",
       "    .dataframe thead th {\n",
       "        text-align: right;\n",
       "    }\n",
       "</style>\n",
       "<table border=\"1\" class=\"dataframe\">\n",
       "  <thead>\n",
       "    <tr style=\"text-align: right;\">\n",
       "      <th></th>\n",
       "      <th>Data_name</th>\n",
       "      <th>Total_voxels</th>\n",
       "      <th>Centroid_location_1</th>\n",
       "      <th>Centroid_location_2</th>\n",
       "      <th>Centroid_location_3</th>\n",
       "      <th>Centroid_id</th>\n",
       "      <th>Voxel_id</th>\n",
       "      <th>Genotype</th>\n",
       "    </tr>\n",
       "  </thead>\n",
       "  <tbody>\n",
       "    <tr>\n",
       "      <th>0</th>\n",
       "      <td>AL207_647</td>\n",
       "      <td>6480</td>\n",
       "      <td>121</td>\n",
       "      <td>276</td>\n",
       "      <td>60</td>\n",
       "      <td>1070</td>\n",
       "      <td>[{9: 23, 1038: 1543, 1047: 14, 1070: 3873, 111...</td>\n",
       "      <td>Sim1Cre</td>\n",
       "    </tr>\n",
       "    <tr>\n",
       "      <th>1</th>\n",
       "      <td>AL208_647</td>\n",
       "      <td>1691</td>\n",
       "      <td>137</td>\n",
       "      <td>274</td>\n",
       "      <td>51</td>\n",
       "      <td>1111</td>\n",
       "      <td>[{9: 182, 625: 138, 945: 4, 1111: 1137, 182305...</td>\n",
       "      <td>Sim1Cre</td>\n",
       "    </tr>\n",
       "    <tr>\n",
       "      <th>2</th>\n",
       "      <td>AL209_647</td>\n",
       "      <td>4218</td>\n",
       "      <td>109</td>\n",
       "      <td>270</td>\n",
       "      <td>69</td>\n",
       "      <td>1070</td>\n",
       "      <td>[{1038: 75, 1047: 11, 1070: 4132}]</td>\n",
       "      <td>Sim1Cre</td>\n",
       "    </tr>\n",
       "    <tr>\n",
       "      <th>3</th>\n",
       "      <td>AL210_647</td>\n",
       "      <td>1855</td>\n",
       "      <td>122</td>\n",
       "      <td>287</td>\n",
       "      <td>52</td>\n",
       "      <td>1070</td>\n",
       "      <td>[{1047: 10, 1070: 1134, 1111: 159, 312782558: ...</td>\n",
       "      <td>Tlx3Cre</td>\n",
       "    </tr>\n",
       "    <tr>\n",
       "      <th>4</th>\n",
       "      <td>AL211_647</td>\n",
       "      <td>1584</td>\n",
       "      <td>106</td>\n",
       "      <td>276</td>\n",
       "      <td>66</td>\n",
       "      <td>1070</td>\n",
       "      <td>[{1047: 94, 1070: 1490}]</td>\n",
       "      <td>Rbp4Cre</td>\n",
       "    </tr>\n",
       "    <tr>\n",
       "      <th>5</th>\n",
       "      <td>AL213_647</td>\n",
       "      <td>2944</td>\n",
       "      <td>98</td>\n",
       "      <td>272</td>\n",
       "      <td>73</td>\n",
       "      <td>1070</td>\n",
       "      <td>[{1047: 44, 1070: 2900}]</td>\n",
       "      <td>Tlx3Cre</td>\n",
       "    </tr>\n",
       "    <tr>\n",
       "      <th>6</th>\n",
       "      <td>AL214_647</td>\n",
       "      <td>3679</td>\n",
       "      <td>133</td>\n",
       "      <td>272</td>\n",
       "      <td>54</td>\n",
       "      <td>1111</td>\n",
       "      <td>[{9: 183, 577: 6, 625: 387, 670: 5, 854: 1, 94...</td>\n",
       "      <td>Rbp4Cre</td>\n",
       "    </tr>\n",
       "    <tr>\n",
       "      <th>7</th>\n",
       "      <td>AL215_647</td>\n",
       "      <td>2543</td>\n",
       "      <td>102</td>\n",
       "      <td>279</td>\n",
       "      <td>67</td>\n",
       "      <td>1070</td>\n",
       "      <td>[{1038: 532, 1047: 1022, 1070: 989}]</td>\n",
       "      <td>Rbp4Cre</td>\n",
       "    </tr>\n",
       "    <tr>\n",
       "      <th>8</th>\n",
       "      <td>AL254_561</td>\n",
       "      <td>4580</td>\n",
       "      <td>97</td>\n",
       "      <td>281</td>\n",
       "      <td>46</td>\n",
       "      <td>201</td>\n",
       "      <td>[{201: 2937, 981: 1217, 1047: 426}]</td>\n",
       "      <td>Rasgrf2dCre</td>\n",
       "    </tr>\n",
       "    <tr>\n",
       "      <th>9</th>\n",
       "      <td>AL255_561</td>\n",
       "      <td>9959</td>\n",
       "      <td>76</td>\n",
       "      <td>284</td>\n",
       "      <td>61</td>\n",
       "      <td>201</td>\n",
       "      <td>[{201: 6655, 806: 771, 873: 187, 981: 2043, 10...</td>\n",
       "      <td>Rasgrf2dCre</td>\n",
       "    </tr>\n",
       "    <tr>\n",
       "      <th>10</th>\n",
       "      <td>AL256_561</td>\n",
       "      <td>7322</td>\n",
       "      <td>76</td>\n",
       "      <td>286</td>\n",
       "      <td>63</td>\n",
       "      <td>201</td>\n",
       "      <td>[{201: 5013, 806: 926, 873: 92, 981: 513, 1035...</td>\n",
       "      <td>Rasgrf2dCre</td>\n",
       "    </tr>\n",
       "    <tr>\n",
       "      <th>11</th>\n",
       "      <td>AL257_561</td>\n",
       "      <td>4327</td>\n",
       "      <td>79</td>\n",
       "      <td>263</td>\n",
       "      <td>60</td>\n",
       "      <td>981</td>\n",
       "      <td>[{201: 2459, 981: 1868}]</td>\n",
       "      <td>Rasgrf2dCre</td>\n",
       "    </tr>\n",
       "    <tr>\n",
       "      <th>12</th>\n",
       "      <td>AL266_647</td>\n",
       "      <td>11292</td>\n",
       "      <td>112</td>\n",
       "      <td>295</td>\n",
       "      <td>58</td>\n",
       "      <td>1070</td>\n",
       "      <td>[{778: 54, 1038: 193, 1047: 38, 1070: 6234, 11...</td>\n",
       "      <td>Rbp4Cre</td>\n",
       "    </tr>\n",
       "    <tr>\n",
       "      <th>13</th>\n",
       "      <td>AL271_561</td>\n",
       "      <td>6001</td>\n",
       "      <td>76</td>\n",
       "      <td>290</td>\n",
       "      <td>88</td>\n",
       "      <td>1090</td>\n",
       "      <td>[{252: 1645, 678: 47, 847: 40, 1035: 35, 1047:...</td>\n",
       "      <td>Rbp4Cre</td>\n",
       "    </tr>\n",
       "    <tr>\n",
       "      <th>14</th>\n",
       "      <td>AL273_647</td>\n",
       "      <td>3158</td>\n",
       "      <td>118</td>\n",
       "      <td>273</td>\n",
       "      <td>63</td>\n",
       "      <td>1070</td>\n",
       "      <td>[{1038: 636, 1070: 2514, 182305705: 8}]</td>\n",
       "      <td>Sim1Cre</td>\n",
       "    </tr>\n",
       "    <tr>\n",
       "      <th>15</th>\n",
       "      <td>AL274_561</td>\n",
       "      <td>2205</td>\n",
       "      <td>77</td>\n",
       "      <td>284</td>\n",
       "      <td>106</td>\n",
       "      <td>862</td>\n",
       "      <td>[{862: 1958, 1090: 247}]</td>\n",
       "      <td>Ntsr1Cre</td>\n",
       "    </tr>\n",
       "    <tr>\n",
       "      <th>16</th>\n",
       "      <td>AL274_647</td>\n",
       "      <td>5471</td>\n",
       "      <td>102</td>\n",
       "      <td>283</td>\n",
       "      <td>80</td>\n",
       "      <td>1038</td>\n",
       "      <td>[{1038: 4515, 1062: 286, 1070: 587, 484682520:...</td>\n",
       "      <td>Ntsr1Cre</td>\n",
       "    </tr>\n",
       "    <tr>\n",
       "      <th>17</th>\n",
       "      <td>AL276_647</td>\n",
       "      <td>3114</td>\n",
       "      <td>106</td>\n",
       "      <td>314</td>\n",
       "      <td>73</td>\n",
       "      <td>484682520</td>\n",
       "      <td>[{305: 2, 971: 889, 986: 13, 1038: 33, 1062: 1...</td>\n",
       "      <td>Ntsr1Cre</td>\n",
       "    </tr>\n",
       "    <tr>\n",
       "      <th>18</th>\n",
       "      <td>AL278_647</td>\n",
       "      <td>1221</td>\n",
       "      <td>70</td>\n",
       "      <td>282</td>\n",
       "      <td>94</td>\n",
       "      <td>1090</td>\n",
       "      <td>[{1035: 68, 1047: 2, 1070: 52, 1090: 1099}]</td>\n",
       "      <td>Tlx3Cre</td>\n",
       "    </tr>\n",
       "    <tr>\n",
       "      <th>19</th>\n",
       "      <td>AL279_647</td>\n",
       "      <td>6163</td>\n",
       "      <td>62</td>\n",
       "      <td>287</td>\n",
       "      <td>115</td>\n",
       "      <td>252</td>\n",
       "      <td>[{156: 384, 252: 3086, 520: 2, 847: 20, 862: 2...</td>\n",
       "      <td>Rbp4Cre</td>\n",
       "    </tr>\n",
       "    <tr>\n",
       "      <th>20</th>\n",
       "      <td>AL280_647</td>\n",
       "      <td>1642</td>\n",
       "      <td>71</td>\n",
       "      <td>277</td>\n",
       "      <td>97</td>\n",
       "      <td>1090</td>\n",
       "      <td>[{1035: 8, 1070: 100, 1090: 1534}]</td>\n",
       "      <td>Tlx3Cre</td>\n",
       "    </tr>\n",
       "    <tr>\n",
       "      <th>21</th>\n",
       "      <td>AL281_647</td>\n",
       "      <td>1767</td>\n",
       "      <td>72</td>\n",
       "      <td>283</td>\n",
       "      <td>102</td>\n",
       "      <td>1090</td>\n",
       "      <td>[{862: 185, 1090: 1582}]</td>\n",
       "      <td>Sim1Cre</td>\n",
       "    </tr>\n",
       "    <tr>\n",
       "      <th>22</th>\n",
       "      <td>AL285_647</td>\n",
       "      <td>2885</td>\n",
       "      <td>102</td>\n",
       "      <td>269</td>\n",
       "      <td>84</td>\n",
       "      <td>1038</td>\n",
       "      <td>[{1038: 2492, 1070: 393}]</td>\n",
       "      <td>Ntsr1Cre</td>\n",
       "    </tr>\n",
       "  </tbody>\n",
       "</table>\n",
       "</div>"
      ],
      "text/plain": [
       "    Data_name  Total_voxels  Centroid_location_1  Centroid_location_2  \\\n",
       "0   AL207_647          6480                  121                  276   \n",
       "1   AL208_647          1691                  137                  274   \n",
       "2   AL209_647          4218                  109                  270   \n",
       "3   AL210_647          1855                  122                  287   \n",
       "4   AL211_647          1584                  106                  276   \n",
       "5   AL213_647          2944                   98                  272   \n",
       "6   AL214_647          3679                  133                  272   \n",
       "7   AL215_647          2543                  102                  279   \n",
       "8   AL254_561          4580                   97                  281   \n",
       "9   AL255_561          9959                   76                  284   \n",
       "10  AL256_561          7322                   76                  286   \n",
       "11  AL257_561          4327                   79                  263   \n",
       "12  AL266_647         11292                  112                  295   \n",
       "13  AL271_561          6001                   76                  290   \n",
       "14  AL273_647          3158                  118                  273   \n",
       "15  AL274_561          2205                   77                  284   \n",
       "16  AL274_647          5471                  102                  283   \n",
       "17  AL276_647          3114                  106                  314   \n",
       "18  AL278_647          1221                   70                  282   \n",
       "19  AL279_647          6163                   62                  287   \n",
       "20  AL280_647          1642                   71                  277   \n",
       "21  AL281_647          1767                   72                  283   \n",
       "22  AL285_647          2885                  102                  269   \n",
       "\n",
       "    Centroid_location_3  Centroid_id  \\\n",
       "0                    60         1070   \n",
       "1                    51         1111   \n",
       "2                    69         1070   \n",
       "3                    52         1070   \n",
       "4                    66         1070   \n",
       "5                    73         1070   \n",
       "6                    54         1111   \n",
       "7                    67         1070   \n",
       "8                    46          201   \n",
       "9                    61          201   \n",
       "10                   63          201   \n",
       "11                   60          981   \n",
       "12                   58         1070   \n",
       "13                   88         1090   \n",
       "14                   63         1070   \n",
       "15                  106          862   \n",
       "16                   80         1038   \n",
       "17                   73    484682520   \n",
       "18                   94         1090   \n",
       "19                  115          252   \n",
       "20                   97         1090   \n",
       "21                  102         1090   \n",
       "22                   84         1038   \n",
       "\n",
       "                                             Voxel_id     Genotype  \n",
       "0   [{9: 23, 1038: 1543, 1047: 14, 1070: 3873, 111...      Sim1Cre  \n",
       "1   [{9: 182, 625: 138, 945: 4, 1111: 1137, 182305...      Sim1Cre  \n",
       "2                  [{1038: 75, 1047: 11, 1070: 4132}]      Sim1Cre  \n",
       "3   [{1047: 10, 1070: 1134, 1111: 159, 312782558: ...      Tlx3Cre  \n",
       "4                            [{1047: 94, 1070: 1490}]      Rbp4Cre  \n",
       "5                            [{1047: 44, 1070: 2900}]      Tlx3Cre  \n",
       "6   [{9: 183, 577: 6, 625: 387, 670: 5, 854: 1, 94...      Rbp4Cre  \n",
       "7                [{1038: 532, 1047: 1022, 1070: 989}]      Rbp4Cre  \n",
       "8                 [{201: 2937, 981: 1217, 1047: 426}]  Rasgrf2dCre  \n",
       "9   [{201: 6655, 806: 771, 873: 187, 981: 2043, 10...  Rasgrf2dCre  \n",
       "10  [{201: 5013, 806: 926, 873: 92, 981: 513, 1035...  Rasgrf2dCre  \n",
       "11                           [{201: 2459, 981: 1868}]  Rasgrf2dCre  \n",
       "12  [{778: 54, 1038: 193, 1047: 38, 1070: 6234, 11...      Rbp4Cre  \n",
       "13  [{252: 1645, 678: 47, 847: 40, 1035: 35, 1047:...      Rbp4Cre  \n",
       "14            [{1038: 636, 1070: 2514, 182305705: 8}]      Sim1Cre  \n",
       "15                           [{862: 1958, 1090: 247}]     Ntsr1Cre  \n",
       "16  [{1038: 4515, 1062: 286, 1070: 587, 484682520:...     Ntsr1Cre  \n",
       "17  [{305: 2, 971: 889, 986: 13, 1038: 33, 1062: 1...     Ntsr1Cre  \n",
       "18        [{1035: 68, 1047: 2, 1070: 52, 1090: 1099}]      Tlx3Cre  \n",
       "19  [{156: 384, 252: 3086, 520: 2, 847: 20, 862: 2...      Rbp4Cre  \n",
       "20                 [{1035: 8, 1070: 100, 1090: 1534}]      Tlx3Cre  \n",
       "21                           [{862: 185, 1090: 1582}]      Sim1Cre  \n",
       "22                          [{1038: 2492, 1070: 393}]     Ntsr1Cre  "
      ]
     },
     "execution_count": 5,
     "metadata": {},
     "output_type": "execute_result"
    }
   ],
   "source": [
    "data"
   ]
  },
  {
   "cell_type": "code",
   "execution_count": 20,
   "metadata": {},
   "outputs": [],
   "source": [
    "Centroid_id_name= [na.give_me_name(i) for i in data.Centroid_id]\n",
    "data['Centroid_id_name']=Centroid_id_name"
   ]
  },
  {
   "cell_type": "code",
   "execution_count": 8,
   "metadata": {},
   "outputs": [],
   "source": [
    "diameter= np.cbrt((data['Total_voxels']*3/4)/np.pi)\n",
    "# approximate the diameter of spread by assuming a spherical shape \n",
    "data['inj_diameter']= diameter*25\n",
    "# multipley number of voxel by 25 um each"
   ]
  },
  {
   "cell_type": "code",
   "execution_count": null,
   "metadata": {},
   "outputs": [],
   "source": []
  },
  {
   "cell_type": "code",
   "execution_count": 84,
   "metadata": {},
   "outputs": [
    {
     "data": {
      "application/vnd.plotly.v1+json": {
       "config": {
        "plotlyServerURL": "https://plot.ly"
       },
       "data": [
        {
         "alignmentgroup": "True",
         "boxpoints": "all",
         "hovertemplate": "Genotype=%{x}<br>Total_voxels=%{y}<extra></extra>",
         "legendgroup": "",
         "marker": {
          "color": "#636efa"
         },
         "name": "",
         "notched": false,
         "offsetgroup": "",
         "orientation": "v",
         "showlegend": false,
         "type": "box",
         "x": [
          "Rasgrf2dCre",
          "Rasgrf2dCre",
          "Rasgrf2dCre",
          "Rbp4Cre",
          "Ntsr1Cre",
          "Rasgrf2dCre",
          "Ntsr1Cre",
          "Ntsr1Cre",
          "Rbp4Cre",
          "Rbp4Cre",
          "Rbp4Cre",
          "Sim1Cre",
          "Sim1Cre",
          "Sim1Cre",
          "Tlx3Cre",
          "Tlx3Cre",
          "Rbp4Cre",
          "Sim1Cre",
          "Tlx3Cre",
          "Tlx3Cre",
          "Rbp4Cre",
          "Sim1Cre",
          "Ntsr1Cre"
         ],
         "x0": " ",
         "xaxis": "x",
         "y": [
          4580,
          9959,
          7322,
          6163,
          2205,
          4327,
          5471,
          2885,
          1584,
          2543,
          11292,
          6480,
          4218,
          3158,
          1855,
          2944,
          6001,
          1767,
          1221,
          1642,
          3679,
          1691,
          3114
         ],
         "y0": " ",
         "yaxis": "y"
        }
       ],
       "layout": {
        "autosize": true,
        "boxmode": "group",
        "legend": {
         "tracegroupgap": 0
        },
        "margin": {
         "t": 60
        },
        "template": {
         "data": {
          "bar": [
           {
            "error_x": {
             "color": "#2a3f5f"
            },
            "error_y": {
             "color": "#2a3f5f"
            },
            "marker": {
             "line": {
              "color": "#E5ECF6",
              "width": 0.5
             }
            },
            "type": "bar"
           }
          ],
          "barpolar": [
           {
            "marker": {
             "line": {
              "color": "#E5ECF6",
              "width": 0.5
             }
            },
            "type": "barpolar"
           }
          ],
          "carpet": [
           {
            "aaxis": {
             "endlinecolor": "#2a3f5f",
             "gridcolor": "white",
             "linecolor": "white",
             "minorgridcolor": "white",
             "startlinecolor": "#2a3f5f"
            },
            "baxis": {
             "endlinecolor": "#2a3f5f",
             "gridcolor": "white",
             "linecolor": "white",
             "minorgridcolor": "white",
             "startlinecolor": "#2a3f5f"
            },
            "type": "carpet"
           }
          ],
          "choropleth": [
           {
            "colorbar": {
             "outlinewidth": 0,
             "ticks": ""
            },
            "type": "choropleth"
           }
          ],
          "contour": [
           {
            "colorbar": {
             "outlinewidth": 0,
             "ticks": ""
            },
            "colorscale": [
             [
              0,
              "#0d0887"
             ],
             [
              0.1111111111111111,
              "#46039f"
             ],
             [
              0.2222222222222222,
              "#7201a8"
             ],
             [
              0.3333333333333333,
              "#9c179e"
             ],
             [
              0.4444444444444444,
              "#bd3786"
             ],
             [
              0.5555555555555556,
              "#d8576b"
             ],
             [
              0.6666666666666666,
              "#ed7953"
             ],
             [
              0.7777777777777778,
              "#fb9f3a"
             ],
             [
              0.8888888888888888,
              "#fdca26"
             ],
             [
              1,
              "#f0f921"
             ]
            ],
            "type": "contour"
           }
          ],
          "contourcarpet": [
           {
            "colorbar": {
             "outlinewidth": 0,
             "ticks": ""
            },
            "type": "contourcarpet"
           }
          ],
          "heatmap": [
           {
            "colorbar": {
             "outlinewidth": 0,
             "ticks": ""
            },
            "colorscale": [
             [
              0,
              "#0d0887"
             ],
             [
              0.1111111111111111,
              "#46039f"
             ],
             [
              0.2222222222222222,
              "#7201a8"
             ],
             [
              0.3333333333333333,
              "#9c179e"
             ],
             [
              0.4444444444444444,
              "#bd3786"
             ],
             [
              0.5555555555555556,
              "#d8576b"
             ],
             [
              0.6666666666666666,
              "#ed7953"
             ],
             [
              0.7777777777777778,
              "#fb9f3a"
             ],
             [
              0.8888888888888888,
              "#fdca26"
             ],
             [
              1,
              "#f0f921"
             ]
            ],
            "type": "heatmap"
           }
          ],
          "heatmapgl": [
           {
            "colorbar": {
             "outlinewidth": 0,
             "ticks": ""
            },
            "colorscale": [
             [
              0,
              "#0d0887"
             ],
             [
              0.1111111111111111,
              "#46039f"
             ],
             [
              0.2222222222222222,
              "#7201a8"
             ],
             [
              0.3333333333333333,
              "#9c179e"
             ],
             [
              0.4444444444444444,
              "#bd3786"
             ],
             [
              0.5555555555555556,
              "#d8576b"
             ],
             [
              0.6666666666666666,
              "#ed7953"
             ],
             [
              0.7777777777777778,
              "#fb9f3a"
             ],
             [
              0.8888888888888888,
              "#fdca26"
             ],
             [
              1,
              "#f0f921"
             ]
            ],
            "type": "heatmapgl"
           }
          ],
          "histogram": [
           {
            "marker": {
             "colorbar": {
              "outlinewidth": 0,
              "ticks": ""
             }
            },
            "type": "histogram"
           }
          ],
          "histogram2d": [
           {
            "colorbar": {
             "outlinewidth": 0,
             "ticks": ""
            },
            "colorscale": [
             [
              0,
              "#0d0887"
             ],
             [
              0.1111111111111111,
              "#46039f"
             ],
             [
              0.2222222222222222,
              "#7201a8"
             ],
             [
              0.3333333333333333,
              "#9c179e"
             ],
             [
              0.4444444444444444,
              "#bd3786"
             ],
             [
              0.5555555555555556,
              "#d8576b"
             ],
             [
              0.6666666666666666,
              "#ed7953"
             ],
             [
              0.7777777777777778,
              "#fb9f3a"
             ],
             [
              0.8888888888888888,
              "#fdca26"
             ],
             [
              1,
              "#f0f921"
             ]
            ],
            "type": "histogram2d"
           }
          ],
          "histogram2dcontour": [
           {
            "colorbar": {
             "outlinewidth": 0,
             "ticks": ""
            },
            "colorscale": [
             [
              0,
              "#0d0887"
             ],
             [
              0.1111111111111111,
              "#46039f"
             ],
             [
              0.2222222222222222,
              "#7201a8"
             ],
             [
              0.3333333333333333,
              "#9c179e"
             ],
             [
              0.4444444444444444,
              "#bd3786"
             ],
             [
              0.5555555555555556,
              "#d8576b"
             ],
             [
              0.6666666666666666,
              "#ed7953"
             ],
             [
              0.7777777777777778,
              "#fb9f3a"
             ],
             [
              0.8888888888888888,
              "#fdca26"
             ],
             [
              1,
              "#f0f921"
             ]
            ],
            "type": "histogram2dcontour"
           }
          ],
          "mesh3d": [
           {
            "colorbar": {
             "outlinewidth": 0,
             "ticks": ""
            },
            "type": "mesh3d"
           }
          ],
          "parcoords": [
           {
            "line": {
             "colorbar": {
              "outlinewidth": 0,
              "ticks": ""
             }
            },
            "type": "parcoords"
           }
          ],
          "pie": [
           {
            "automargin": true,
            "type": "pie"
           }
          ],
          "scatter": [
           {
            "marker": {
             "colorbar": {
              "outlinewidth": 0,
              "ticks": ""
             }
            },
            "type": "scatter"
           }
          ],
          "scatter3d": [
           {
            "line": {
             "colorbar": {
              "outlinewidth": 0,
              "ticks": ""
             }
            },
            "marker": {
             "colorbar": {
              "outlinewidth": 0,
              "ticks": ""
             }
            },
            "type": "scatter3d"
           }
          ],
          "scattercarpet": [
           {
            "marker": {
             "colorbar": {
              "outlinewidth": 0,
              "ticks": ""
             }
            },
            "type": "scattercarpet"
           }
          ],
          "scattergeo": [
           {
            "marker": {
             "colorbar": {
              "outlinewidth": 0,
              "ticks": ""
             }
            },
            "type": "scattergeo"
           }
          ],
          "scattergl": [
           {
            "marker": {
             "colorbar": {
              "outlinewidth": 0,
              "ticks": ""
             }
            },
            "type": "scattergl"
           }
          ],
          "scattermapbox": [
           {
            "marker": {
             "colorbar": {
              "outlinewidth": 0,
              "ticks": ""
             }
            },
            "type": "scattermapbox"
           }
          ],
          "scatterpolar": [
           {
            "marker": {
             "colorbar": {
              "outlinewidth": 0,
              "ticks": ""
             }
            },
            "type": "scatterpolar"
           }
          ],
          "scatterpolargl": [
           {
            "marker": {
             "colorbar": {
              "outlinewidth": 0,
              "ticks": ""
             }
            },
            "type": "scatterpolargl"
           }
          ],
          "scatterternary": [
           {
            "marker": {
             "colorbar": {
              "outlinewidth": 0,
              "ticks": ""
             }
            },
            "type": "scatterternary"
           }
          ],
          "surface": [
           {
            "colorbar": {
             "outlinewidth": 0,
             "ticks": ""
            },
            "colorscale": [
             [
              0,
              "#0d0887"
             ],
             [
              0.1111111111111111,
              "#46039f"
             ],
             [
              0.2222222222222222,
              "#7201a8"
             ],
             [
              0.3333333333333333,
              "#9c179e"
             ],
             [
              0.4444444444444444,
              "#bd3786"
             ],
             [
              0.5555555555555556,
              "#d8576b"
             ],
             [
              0.6666666666666666,
              "#ed7953"
             ],
             [
              0.7777777777777778,
              "#fb9f3a"
             ],
             [
              0.8888888888888888,
              "#fdca26"
             ],
             [
              1,
              "#f0f921"
             ]
            ],
            "type": "surface"
           }
          ],
          "table": [
           {
            "cells": {
             "fill": {
              "color": "#EBF0F8"
             },
             "line": {
              "color": "white"
             }
            },
            "header": {
             "fill": {
              "color": "#C8D4E3"
             },
             "line": {
              "color": "white"
             }
            },
            "type": "table"
           }
          ]
         },
         "layout": {
          "annotationdefaults": {
           "arrowcolor": "#2a3f5f",
           "arrowhead": 0,
           "arrowwidth": 1
          },
          "autotypenumbers": "strict",
          "coloraxis": {
           "colorbar": {
            "outlinewidth": 0,
            "ticks": ""
           }
          },
          "colorscale": {
           "diverging": [
            [
             0,
             "#8e0152"
            ],
            [
             0.1,
             "#c51b7d"
            ],
            [
             0.2,
             "#de77ae"
            ],
            [
             0.3,
             "#f1b6da"
            ],
            [
             0.4,
             "#fde0ef"
            ],
            [
             0.5,
             "#f7f7f7"
            ],
            [
             0.6,
             "#e6f5d0"
            ],
            [
             0.7,
             "#b8e186"
            ],
            [
             0.8,
             "#7fbc41"
            ],
            [
             0.9,
             "#4d9221"
            ],
            [
             1,
             "#276419"
            ]
           ],
           "sequential": [
            [
             0,
             "#0d0887"
            ],
            [
             0.1111111111111111,
             "#46039f"
            ],
            [
             0.2222222222222222,
             "#7201a8"
            ],
            [
             0.3333333333333333,
             "#9c179e"
            ],
            [
             0.4444444444444444,
             "#bd3786"
            ],
            [
             0.5555555555555556,
             "#d8576b"
            ],
            [
             0.6666666666666666,
             "#ed7953"
            ],
            [
             0.7777777777777778,
             "#fb9f3a"
            ],
            [
             0.8888888888888888,
             "#fdca26"
            ],
            [
             1,
             "#f0f921"
            ]
           ],
           "sequentialminus": [
            [
             0,
             "#0d0887"
            ],
            [
             0.1111111111111111,
             "#46039f"
            ],
            [
             0.2222222222222222,
             "#7201a8"
            ],
            [
             0.3333333333333333,
             "#9c179e"
            ],
            [
             0.4444444444444444,
             "#bd3786"
            ],
            [
             0.5555555555555556,
             "#d8576b"
            ],
            [
             0.6666666666666666,
             "#ed7953"
            ],
            [
             0.7777777777777778,
             "#fb9f3a"
            ],
            [
             0.8888888888888888,
             "#fdca26"
            ],
            [
             1,
             "#f0f921"
            ]
           ]
          },
          "colorway": [
           "#636efa",
           "#EF553B",
           "#00cc96",
           "#ab63fa",
           "#FFA15A",
           "#19d3f3",
           "#FF6692",
           "#B6E880",
           "#FF97FF",
           "#FECB52"
          ],
          "font": {
           "color": "#2a3f5f"
          },
          "geo": {
           "bgcolor": "white",
           "lakecolor": "white",
           "landcolor": "#E5ECF6",
           "showlakes": true,
           "showland": true,
           "subunitcolor": "white"
          },
          "hoverlabel": {
           "align": "left"
          },
          "hovermode": "closest",
          "mapbox": {
           "style": "light"
          },
          "paper_bgcolor": "white",
          "plot_bgcolor": "#E5ECF6",
          "polar": {
           "angularaxis": {
            "gridcolor": "white",
            "linecolor": "white",
            "ticks": ""
           },
           "bgcolor": "#E5ECF6",
           "radialaxis": {
            "gridcolor": "white",
            "linecolor": "white",
            "ticks": ""
           }
          },
          "scene": {
           "xaxis": {
            "backgroundcolor": "#E5ECF6",
            "gridcolor": "white",
            "gridwidth": 2,
            "linecolor": "white",
            "showbackground": true,
            "ticks": "",
            "zerolinecolor": "white"
           },
           "yaxis": {
            "backgroundcolor": "#E5ECF6",
            "gridcolor": "white",
            "gridwidth": 2,
            "linecolor": "white",
            "showbackground": true,
            "ticks": "",
            "zerolinecolor": "white"
           },
           "zaxis": {
            "backgroundcolor": "#E5ECF6",
            "gridcolor": "white",
            "gridwidth": 2,
            "linecolor": "white",
            "showbackground": true,
            "ticks": "",
            "zerolinecolor": "white"
           }
          },
          "shapedefaults": {
           "line": {
            "color": "#2a3f5f"
           }
          },
          "ternary": {
           "aaxis": {
            "gridcolor": "white",
            "linecolor": "white",
            "ticks": ""
           },
           "baxis": {
            "gridcolor": "white",
            "linecolor": "white",
            "ticks": ""
           },
           "bgcolor": "#E5ECF6",
           "caxis": {
            "gridcolor": "white",
            "linecolor": "white",
            "ticks": ""
           }
          },
          "title": {
           "x": 0.05
          },
          "xaxis": {
           "automargin": true,
           "gridcolor": "white",
           "linecolor": "white",
           "ticks": "",
           "title": {
            "standoff": 15
           },
           "zerolinecolor": "white",
           "zerolinewidth": 2
          },
          "yaxis": {
           "automargin": true,
           "gridcolor": "white",
           "linecolor": "white",
           "ticks": "",
           "title": {
            "standoff": 15
           },
           "zerolinecolor": "white",
           "zerolinewidth": 2
          }
         }
        },
        "xaxis": {
         "anchor": "y",
         "autorange": true,
         "domain": [
          0,
          1
         ],
         "range": [
          -0.5115919629057187,
          4.5
         ],
         "title": {
          "text": "Genotype"
         },
         "type": "category"
        },
        "yaxis": {
         "anchor": "x",
         "autorange": true,
         "domain": [
          0,
          1
         ],
         "range": [
          661.5,
          11851.5
         ],
         "title": {
          "text": "Total_voxels"
         },
         "type": "linear"
        }
       }
      },
      "image/png": "[encoded data removed]",
      "text/html": [
       "<div>                            <div id=\"8c1ec533-ff94-49dc-914e-cccd4bf72133\" class=\"plotly-graph-div\" style=\"height:525px; width:100%;\"></div>            <script type=\"text/javascript\">                require([\"plotly\"], function(Plotly) {                    window.PLOTLYENV=window.PLOTLYENV || {};                                    if (document.getElementById(\"8c1ec533-ff94-49dc-914e-cccd4bf72133\")) {                    Plotly.newPlot(                        \"8c1ec533-ff94-49dc-914e-cccd4bf72133\",                        [{\"alignmentgroup\": \"True\", \"boxpoints\": \"all\", \"hovertemplate\": \"Genotype=%{x}<br>Total_voxels=%{y}<extra></extra>\", \"legendgroup\": \"\", \"marker\": {\"color\": \"#636efa\"}, \"name\": \"\", \"notched\": false, \"offsetgroup\": \"\", \"orientation\": \"v\", \"showlegend\": false, \"type\": \"box\", \"x\": [\"Rasgrf2dCre\", \"Rasgrf2dCre\", \"Rasgrf2dCre\", \"Rbp4Cre\", \"Ntsr1Cre\", \"Rasgrf2dCre\", \"Ntsr1Cre\", \"Ntsr1Cre\", \"Rbp4Cre\", \"Rbp4Cre\", \"Rbp4Cre\", \"Sim1Cre\", \"Sim1Cre\", \"Sim1Cre\", \"Tlx3Cre\", \"Tlx3Cre\", \"Rbp4Cre\", \"Sim1Cre\", \"Tlx3Cre\", \"Tlx3Cre\", \"Rbp4Cre\", \"Sim1Cre\", \"Ntsr1Cre\"], \"x0\": \" \", \"xaxis\": \"x\", \"y\": [4580, 9959, 7322, 6163, 2205, 4327, 5471, 2885, 1584, 2543, 11292, 6480, 4218, 3158, 1855, 2944, 6001, 1767, 1221, 1642, 3679, 1691, 3114], \"y0\": \" \", \"yaxis\": \"y\"}],                        {\"boxmode\": \"group\", \"legend\": {\"tracegroupgap\": 0}, \"margin\": {\"t\": 60}, \"template\": {\"data\": {\"bar\": [{\"error_x\": {\"color\": \"#2a3f5f\"}, \"error_y\": {\"color\": \"#2a3f5f\"}, \"marker\": {\"line\": {\"color\": \"#E5ECF6\", \"width\": 0.5}}, \"type\": \"bar\"}], \"barpolar\": [{\"marker\": {\"line\": {\"color\": \"#E5ECF6\", \"width\": 0.5}}, \"type\": \"barpolar\"}], \"carpet\": [{\"aaxis\": {\"endlinecolor\": \"#2a3f5f\", \"gridcolor\": \"white\", \"linecolor\": \"white\", \"minorgridcolor\": \"white\", \"startlinecolor\": \"#2a3f5f\"}, \"baxis\": {\"endlinecolor\": \"#2a3f5f\", \"gridcolor\": \"white\", \"linecolor\": \"white\", \"minorgridcolor\": \"white\", \"startlinecolor\": \"#2a3f5f\"}, \"type\": \"carpet\"}], \"choropleth\": [{\"colorbar\": {\"outlinewidth\": 0, \"ticks\": \"\"}, \"type\": \"choropleth\"}], \"contour\": [{\"colorbar\": {\"outlinewidth\": 0, \"ticks\": \"\"}, \"colorscale\": [[0.0, \"#0d0887\"], [0.1111111111111111, \"#46039f\"], [0.2222222222222222, \"#7201a8\"], [0.3333333333333333, \"#9c179e\"], [0.4444444444444444, \"#bd3786\"], [0.5555555555555556, \"#d8576b\"], [0.6666666666666666, \"#ed7953\"], [0.7777777777777778, \"#fb9f3a\"], [0.8888888888888888, \"#fdca26\"], [1.0, \"#f0f921\"]], \"type\": \"contour\"}], \"contourcarpet\": [{\"colorbar\": {\"outlinewidth\": 0, \"ticks\": \"\"}, \"type\": \"contourcarpet\"}], \"heatmap\": [{\"colorbar\": {\"outlinewidth\": 0, \"ticks\": \"\"}, \"colorscale\": [[0.0, \"#0d0887\"], [0.1111111111111111, \"#46039f\"], [0.2222222222222222, \"#7201a8\"], [0.3333333333333333, \"#9c179e\"], [0.4444444444444444, \"#bd3786\"], [0.5555555555555556, \"#d8576b\"], [0.6666666666666666, \"#ed7953\"], [0.7777777777777778, \"#fb9f3a\"], [0.8888888888888888, \"#fdca26\"], [1.0, \"#f0f921\"]], \"type\": \"heatmap\"}], \"heatmapgl\": [{\"colorbar\": {\"outlinewidth\": 0, \"ticks\": \"\"}, \"colorscale\": [[0.0, \"#0d0887\"], [0.1111111111111111, \"#46039f\"], [0.2222222222222222, \"#7201a8\"], [0.3333333333333333, \"#9c179e\"], [0.4444444444444444, \"#bd3786\"], [0.5555555555555556, \"#d8576b\"], [0.6666666666666666, \"#ed7953\"], [0.7777777777777778, \"#fb9f3a\"], [0.8888888888888888, \"#fdca26\"], [1.0, \"#f0f921\"]], \"type\": \"heatmapgl\"}], \"histogram\": [{\"marker\": {\"colorbar\": {\"outlinewidth\": 0, \"ticks\": \"\"}}, \"type\": \"histogram\"}], \"histogram2d\": [{\"colorbar\": {\"outlinewidth\": 0, \"ticks\": \"\"}, \"colorscale\": [[0.0, \"#0d0887\"], [0.1111111111111111, \"#46039f\"], [0.2222222222222222, \"#7201a8\"], [0.3333333333333333, \"#9c179e\"], [0.4444444444444444, \"#bd3786\"], [0.5555555555555556, \"#d8576b\"], [0.6666666666666666, \"#ed7953\"], [0.7777777777777778, \"#fb9f3a\"], [0.8888888888888888, \"#fdca26\"], [1.0, \"#f0f921\"]], \"type\": \"histogram2d\"}], \"histogram2dcontour\": [{\"colorbar\": {\"outlinewidth\": 0, \"ticks\": \"\"}, \"colorscale\": [[0.0, \"#0d0887\"], [0.1111111111111111, \"#46039f\"], [0.2222222222222222, \"#7201a8\"], [0.3333333333333333, \"#9c179e\"], [0.4444444444444444, \"#bd3786\"], [0.5555555555555556, \"#d8576b\"], [0.6666666666666666, \"#ed7953\"], [0.7777777777777778, \"#fb9f3a\"], [0.8888888888888888, \"#fdca26\"], [1.0, \"#f0f921\"]], \"type\": \"histogram2dcontour\"}], \"mesh3d\": [{\"colorbar\": {\"outlinewidth\": 0, \"ticks\": \"\"}, \"type\": \"mesh3d\"}], \"parcoords\": [{\"line\": {\"colorbar\": {\"outlinewidth\": 0, \"ticks\": \"\"}}, \"type\": \"parcoords\"}], \"pie\": [{\"automargin\": true, \"type\": \"pie\"}], \"scatter\": [{\"marker\": {\"colorbar\": {\"outlinewidth\": 0, \"ticks\": \"\"}}, \"type\": \"scatter\"}], \"scatter3d\": [{\"line\": {\"colorbar\": {\"outlinewidth\": 0, \"ticks\": \"\"}}, \"marker\": {\"colorbar\": {\"outlinewidth\": 0, \"ticks\": \"\"}}, \"type\": \"scatter3d\"}], \"scattercarpet\": [{\"marker\": {\"colorbar\": {\"outlinewidth\": 0, \"ticks\": \"\"}}, \"type\": \"scattercarpet\"}], \"scattergeo\": [{\"marker\": {\"colorbar\": {\"outlinewidth\": 0, \"ticks\": \"\"}}, \"type\": \"scattergeo\"}], \"scattergl\": [{\"marker\": {\"colorbar\": {\"outlinewidth\": 0, \"ticks\": \"\"}}, \"type\": \"scattergl\"}], \"scattermapbox\": [{\"marker\": {\"colorbar\": {\"outlinewidth\": 0, \"ticks\": \"\"}}, \"type\": \"scattermapbox\"}], \"scatterpolar\": [{\"marker\": {\"colorbar\": {\"outlinewidth\": 0, \"ticks\": \"\"}}, \"type\": \"scatterpolar\"}], \"scatterpolargl\": [{\"marker\": {\"colorbar\": {\"outlinewidth\": 0, \"ticks\": \"\"}}, \"type\": \"scatterpolargl\"}], \"scatterternary\": [{\"marker\": {\"colorbar\": {\"outlinewidth\": 0, \"ticks\": \"\"}}, \"type\": \"scatterternary\"}], \"surface\": [{\"colorbar\": {\"outlinewidth\": 0, \"ticks\": \"\"}, \"colorscale\": [[0.0, \"#0d0887\"], [0.1111111111111111, \"#46039f\"], [0.2222222222222222, \"#7201a8\"], [0.3333333333333333, \"#9c179e\"], [0.4444444444444444, \"#bd3786\"], [0.5555555555555556, \"#d8576b\"], [0.6666666666666666, \"#ed7953\"], [0.7777777777777778, \"#fb9f3a\"], [0.8888888888888888, \"#fdca26\"], [1.0, \"#f0f921\"]], \"type\": \"surface\"}], \"table\": [{\"cells\": {\"fill\": {\"color\": \"#EBF0F8\"}, \"line\": {\"color\": \"white\"}}, \"header\": {\"fill\": {\"color\": \"#C8D4E3\"}, \"line\": {\"color\": \"white\"}}, \"type\": \"table\"}]}, \"layout\": {\"annotationdefaults\": {\"arrowcolor\": \"#2a3f5f\", \"arrowhead\": 0, \"arrowwidth\": 1}, \"autotypenumbers\": \"strict\", \"coloraxis\": {\"colorbar\": {\"outlinewidth\": 0, \"ticks\": \"\"}}, \"colorscale\": {\"diverging\": [[0, \"#8e0152\"], [0.1, \"#c51b7d\"], [0.2, \"#de77ae\"], [0.3, \"#f1b6da\"], [0.4, \"#fde0ef\"], [0.5, \"#f7f7f7\"], [0.6, \"#e6f5d0\"], [0.7, \"#b8e186\"], [0.8, \"#7fbc41\"], [0.9, \"#4d9221\"], [1, \"#276419\"]], \"sequential\": [[0.0, \"#0d0887\"], [0.1111111111111111, \"#46039f\"], [0.2222222222222222, \"#7201a8\"], [0.3333333333333333, \"#9c179e\"], [0.4444444444444444, \"#bd3786\"], [0.5555555555555556, \"#d8576b\"], [0.6666666666666666, \"#ed7953\"], [0.7777777777777778, \"#fb9f3a\"], [0.8888888888888888, \"#fdca26\"], [1.0, \"#f0f921\"]], \"sequentialminus\": [[0.0, \"#0d0887\"], [0.1111111111111111, \"#46039f\"], [0.2222222222222222, \"#7201a8\"], [0.3333333333333333, \"#9c179e\"], [0.4444444444444444, \"#bd3786\"], [0.5555555555555556, \"#d8576b\"], [0.6666666666666666, \"#ed7953\"], [0.7777777777777778, \"#fb9f3a\"], [0.8888888888888888, \"#fdca26\"], [1.0, \"#f0f921\"]]}, \"colorway\": [\"#636efa\", \"#EF553B\", \"#00cc96\", \"#ab63fa\", \"#FFA15A\", \"#19d3f3\", \"#FF6692\", \"#B6E880\", \"#FF97FF\", \"#FECB52\"], \"font\": {\"color\": \"#2a3f5f\"}, \"geo\": {\"bgcolor\": \"white\", \"lakecolor\": \"white\", \"landcolor\": \"#E5ECF6\", \"showlakes\": true, \"showland\": true, \"subunitcolor\": \"white\"}, \"hoverlabel\": {\"align\": \"left\"}, \"hovermode\": \"closest\", \"mapbox\": {\"style\": \"light\"}, \"paper_bgcolor\": \"white\", \"plot_bgcolor\": \"#E5ECF6\", \"polar\": {\"angularaxis\": {\"gridcolor\": \"white\", \"linecolor\": \"white\", \"ticks\": \"\"}, \"bgcolor\": \"#E5ECF6\", \"radialaxis\": {\"gridcolor\": \"white\", \"linecolor\": \"white\", \"ticks\": \"\"}}, \"scene\": {\"xaxis\": {\"backgroundcolor\": \"#E5ECF6\", \"gridcolor\": \"white\", \"gridwidth\": 2, \"linecolor\": \"white\", \"showbackground\": true, \"ticks\": \"\", \"zerolinecolor\": \"white\"}, \"yaxis\": {\"backgroundcolor\": \"#E5ECF6\", \"gridcolor\": \"white\", \"gridwidth\": 2, \"linecolor\": \"white\", \"showbackground\": true, \"ticks\": \"\", \"zerolinecolor\": \"white\"}, \"zaxis\": {\"backgroundcolor\": \"#E5ECF6\", \"gridcolor\": \"white\", \"gridwidth\": 2, \"linecolor\": \"white\", \"showbackground\": true, \"ticks\": \"\", \"zerolinecolor\": \"white\"}}, \"shapedefaults\": {\"line\": {\"color\": \"#2a3f5f\"}}, \"ternary\": {\"aaxis\": {\"gridcolor\": \"white\", \"linecolor\": \"white\", \"ticks\": \"\"}, \"baxis\": {\"gridcolor\": \"white\", \"linecolor\": \"white\", \"ticks\": \"\"}, \"bgcolor\": \"#E5ECF6\", \"caxis\": {\"gridcolor\": \"white\", \"linecolor\": \"white\", \"ticks\": \"\"}}, \"title\": {\"x\": 0.05}, \"xaxis\": {\"automargin\": true, \"gridcolor\": \"white\", \"linecolor\": \"white\", \"ticks\": \"\", \"title\": {\"standoff\": 15}, \"zerolinecolor\": \"white\", \"zerolinewidth\": 2}, \"yaxis\": {\"automargin\": true, \"gridcolor\": \"white\", \"linecolor\": \"white\", \"ticks\": \"\", \"title\": {\"standoff\": 15}, \"zerolinecolor\": \"white\", \"zerolinewidth\": 2}}}, \"xaxis\": {\"anchor\": \"y\", \"domain\": [0.0, 1.0], \"title\": {\"text\": \"Genotype\"}}, \"yaxis\": {\"anchor\": \"x\", \"domain\": [0.0, 1.0], \"title\": {\"text\": \"Total_voxels\"}}},                        {\"responsive\": true}                    ).then(function(){\n",
       "                            \n",
       "var gd = document.getElementById('8c1ec533-ff94-49dc-914e-cccd4bf72133');\n",
       "var x = new MutationObserver(function (mutations, observer) {{\n",
       "        var display = window.getComputedStyle(gd).display;\n",
       "        if (!display || display === 'none') {{\n",
       "            console.log([gd, 'removed!']);\n",
       "            Plotly.purge(gd);\n",
       "            observer.disconnect();\n",
       "        }}\n",
       "}});\n",
       "\n",
       "// Listen for the removal of the full notebook cells\n",
       "var notebookContainer = gd.closest('#notebook-container');\n",
       "if (notebookContainer) {{\n",
       "    x.observe(notebookContainer, {childList: true});\n",
       "}}\n",
       "\n",
       "// Listen for the clearing of the current output cell\n",
       "var outputEl = gd.closest('.output');\n",
       "if (outputEl) {{\n",
       "    x.observe(outputEl, {childList: true});\n",
       "}}\n",
       "\n",
       "                        })                };                });            </script>        </div>"
      ]
     },
     "metadata": {},
     "output_type": "display_data"
    }
   ],
   "source": [
    "import plotly.express as px\n",
    "fig = px.box(data, x=\"Genotype\", y=\"Total_voxels\", points=\"all\")\n",
    "fig.show()\n",
    "fig.write_html(\"injection_voxels.html\")"
   ]
  },
  {
   "cell_type": "code",
   "execution_count": 83,
   "metadata": {},
   "outputs": [
    {
     "data": {
      "application/vnd.plotly.v1+json": {
       "config": {
        "plotlyServerURL": "https://plot.ly"
       },
       "data": [
        {
         "alignmentgroup": "True",
         "boxpoints": "all",
         "hovertemplate": "Genotype=%{x}<br>inj_diameter=%{y}<extra></extra>",
         "legendgroup": "",
         "marker": {
          "color": "#636efa"
         },
         "name": "",
         "notched": false,
         "offsetgroup": "",
         "orientation": "v",
         "showlegend": false,
         "type": "box",
         "x": [
          "Rasgrf2dCre",
          "Rasgrf2dCre",
          "Rasgrf2dCre",
          "Rbp4Cre",
          "Ntsr1Cre",
          "Rasgrf2dCre",
          "Ntsr1Cre",
          "Ntsr1Cre",
          "Rbp4Cre",
          "Rbp4Cre",
          "Rbp4Cre",
          "Sim1Cre",
          "Sim1Cre",
          "Sim1Cre",
          "Tlx3Cre",
          "Tlx3Cre",
          "Rbp4Cre",
          "Sim1Cre",
          "Tlx3Cre",
          "Tlx3Cre",
          "Rbp4Cre",
          "Sim1Cre",
          "Ntsr1Cre"
         ],
         "x0": " ",
         "xaxis": "x",
         "y": [
          257.5524180089549,
          333.6688898165197,
          301.15289823280114,
          284.34211849661637,
          201.8583273110118,
          252.71989782084452,
          273.27466913955817,
          220.77966908598512,
          180.7849185825374,
          211.6862221163872,
          347.93711817888817,
          289.1359815610574,
          250.5797648633491,
          227.53480985543368,
          190.55708918799525,
          222.27455057007924,
          281.8285683499357,
          187.49484084546222,
          165.7610008177413,
          182.96507154903193,
          239.41631104015366,
          184.76725557619122,
          226.4731261559658
         ],
         "y0": " ",
         "yaxis": "y"
        }
       ],
       "layout": {
        "autosize": true,
        "boxmode": "group",
        "legend": {
         "tracegroupgap": 0
        },
        "margin": {
         "t": 60
        },
        "template": {
         "data": {
          "bar": [
           {
            "error_x": {
             "color": "#2a3f5f"
            },
            "error_y": {
             "color": "#2a3f5f"
            },
            "marker": {
             "line": {
              "color": "#E5ECF6",
              "width": 0.5
             }
            },
            "type": "bar"
           }
          ],
          "barpolar": [
           {
            "marker": {
             "line": {
              "color": "#E5ECF6",
              "width": 0.5
             }
            },
            "type": "barpolar"
           }
          ],
          "carpet": [
           {
            "aaxis": {
             "endlinecolor": "#2a3f5f",
             "gridcolor": "white",
             "linecolor": "white",
             "minorgridcolor": "white",
             "startlinecolor": "#2a3f5f"
            },
            "baxis": {
             "endlinecolor": "#2a3f5f",
             "gridcolor": "white",
             "linecolor": "white",
             "minorgridcolor": "white",
             "startlinecolor": "#2a3f5f"
            },
            "type": "carpet"
           }
          ],
          "choropleth": [
           {
            "colorbar": {
             "outlinewidth": 0,
             "ticks": ""
            },
            "type": "choropleth"
           }
          ],
          "contour": [
           {
            "colorbar": {
             "outlinewidth": 0,
             "ticks": ""
            },
            "colorscale": [
             [
              0,
              "#0d0887"
             ],
             [
              0.1111111111111111,
              "#46039f"
             ],
             [
              0.2222222222222222,
              "#7201a8"
             ],
             [
              0.3333333333333333,
              "#9c179e"
             ],
             [
              0.4444444444444444,
              "#bd3786"
             ],
             [
              0.5555555555555556,
              "#d8576b"
             ],
             [
              0.6666666666666666,
              "#ed7953"
             ],
             [
              0.7777777777777778,
              "#fb9f3a"
             ],
             [
              0.8888888888888888,
              "#fdca26"
             ],
             [
              1,
              "#f0f921"
             ]
            ],
            "type": "contour"
           }
          ],
          "contourcarpet": [
           {
            "colorbar": {
             "outlinewidth": 0,
             "ticks": ""
            },
            "type": "contourcarpet"
           }
          ],
          "heatmap": [
           {
            "colorbar": {
             "outlinewidth": 0,
             "ticks": ""
            },
            "colorscale": [
             [
              0,
              "#0d0887"
             ],
             [
              0.1111111111111111,
              "#46039f"
             ],
             [
              0.2222222222222222,
              "#7201a8"
             ],
             [
              0.3333333333333333,
              "#9c179e"
             ],
             [
              0.4444444444444444,
              "#bd3786"
             ],
             [
              0.5555555555555556,
              "#d8576b"
             ],
             [
              0.6666666666666666,
              "#ed7953"
             ],
             [
              0.7777777777777778,
              "#fb9f3a"
             ],
             [
              0.8888888888888888,
              "#fdca26"
             ],
             [
              1,
              "#f0f921"
             ]
            ],
            "type": "heatmap"
           }
          ],
          "heatmapgl": [
           {
            "colorbar": {
             "outlinewidth": 0,
             "ticks": ""
            },
            "colorscale": [
             [
              0,
              "#0d0887"
             ],
             [
              0.1111111111111111,
              "#46039f"
             ],
             [
              0.2222222222222222,
              "#7201a8"
             ],
             [
              0.3333333333333333,
              "#9c179e"
             ],
             [
              0.4444444444444444,
              "#bd3786"
             ],
             [
              0.5555555555555556,
              "#d8576b"
             ],
             [
              0.6666666666666666,
              "#ed7953"
             ],
             [
              0.7777777777777778,
              "#fb9f3a"
             ],
             [
              0.8888888888888888,
              "#fdca26"
             ],
             [
              1,
              "#f0f921"
             ]
            ],
            "type": "heatmapgl"
           }
          ],
          "histogram": [
           {
            "marker": {
             "colorbar": {
              "outlinewidth": 0,
              "ticks": ""
             }
            },
            "type": "histogram"
           }
          ],
          "histogram2d": [
           {
            "colorbar": {
             "outlinewidth": 0,
             "ticks": ""
            },
            "colorscale": [
             [
              0,
              "#0d0887"
             ],
             [
              0.1111111111111111,
              "#46039f"
             ],
             [
              0.2222222222222222,
              "#7201a8"
             ],
             [
              0.3333333333333333,
              "#9c179e"
             ],
             [
              0.4444444444444444,
              "#bd3786"
             ],
             [
              0.5555555555555556,
              "#d8576b"
             ],
             [
              0.6666666666666666,
              "#ed7953"
             ],
             [
              0.7777777777777778,
              "#fb9f3a"
             ],
             [
              0.8888888888888888,
              "#fdca26"
             ],
             [
              1,
              "#f0f921"
             ]
            ],
            "type": "histogram2d"
           }
          ],
          "histogram2dcontour": [
           {
            "colorbar": {
             "outlinewidth": 0,
             "ticks": ""
            },
            "colorscale": [
             [
              0,
              "#0d0887"
             ],
             [
              0.1111111111111111,
              "#46039f"
             ],
             [
              0.2222222222222222,
              "#7201a8"
             ],
             [
              0.3333333333333333,
              "#9c179e"
             ],
             [
              0.4444444444444444,
              "#bd3786"
             ],
             [
              0.5555555555555556,
              "#d8576b"
             ],
             [
              0.6666666666666666,
              "#ed7953"
             ],
             [
              0.7777777777777778,
              "#fb9f3a"
             ],
             [
              0.8888888888888888,
              "#fdca26"
             ],
             [
              1,
              "#f0f921"
             ]
            ],
            "type": "histogram2dcontour"
           }
          ],
          "mesh3d": [
           {
            "colorbar": {
             "outlinewidth": 0,
             "ticks": ""
            },
            "type": "mesh3d"
           }
          ],
          "parcoords": [
           {
            "line": {
             "colorbar": {
              "outlinewidth": 0,
              "ticks": ""
             }
            },
            "type": "parcoords"
           }
          ],
          "pie": [
           {
            "automargin": true,
            "type": "pie"
           }
          ],
          "scatter": [
           {
            "marker": {
             "colorbar": {
              "outlinewidth": 0,
              "ticks": ""
             }
            },
            "type": "scatter"
           }
          ],
          "scatter3d": [
           {
            "line": {
             "colorbar": {
              "outlinewidth": 0,
              "ticks": ""
             }
            },
            "marker": {
             "colorbar": {
              "outlinewidth": 0,
              "ticks": ""
             }
            },
            "type": "scatter3d"
           }
          ],
          "scattercarpet": [
           {
            "marker": {
             "colorbar": {
              "outlinewidth": 0,
              "ticks": ""
             }
            },
            "type": "scattercarpet"
           }
          ],
          "scattergeo": [
           {
            "marker": {
             "colorbar": {
              "outlinewidth": 0,
              "ticks": ""
             }
            },
            "type": "scattergeo"
           }
          ],
          "scattergl": [
           {
            "marker": {
             "colorbar": {
              "outlinewidth": 0,
              "ticks": ""
             }
            },
            "type": "scattergl"
           }
          ],
          "scattermapbox": [
           {
            "marker": {
             "colorbar": {
              "outlinewidth": 0,
              "ticks": ""
             }
            },
            "type": "scattermapbox"
           }
          ],
          "scatterpolar": [
           {
            "marker": {
             "colorbar": {
              "outlinewidth": 0,
              "ticks": ""
             }
            },
            "type": "scatterpolar"
           }
          ],
          "scatterpolargl": [
           {
            "marker": {
             "colorbar": {
              "outlinewidth": 0,
              "ticks": ""
             }
            },
            "type": "scatterpolargl"
           }
          ],
          "scatterternary": [
           {
            "marker": {
             "colorbar": {
              "outlinewidth": 0,
              "ticks": ""
             }
            },
            "type": "scatterternary"
           }
          ],
          "surface": [
           {
            "colorbar": {
             "outlinewidth": 0,
             "ticks": ""
            },
            "colorscale": [
             [
              0,
              "#0d0887"
             ],
             [
              0.1111111111111111,
              "#46039f"
             ],
             [
              0.2222222222222222,
              "#7201a8"
             ],
             [
              0.3333333333333333,
              "#9c179e"
             ],
             [
              0.4444444444444444,
              "#bd3786"
             ],
             [
              0.5555555555555556,
              "#d8576b"
             ],
             [
              0.6666666666666666,
              "#ed7953"
             ],
             [
              0.7777777777777778,
              "#fb9f3a"
             ],
             [
              0.8888888888888888,
              "#fdca26"
             ],
             [
              1,
              "#f0f921"
             ]
            ],
            "type": "surface"
           }
          ],
          "table": [
           {
            "cells": {
             "fill": {
              "color": "#EBF0F8"
             },
             "line": {
              "color": "white"
             }
            },
            "header": {
             "fill": {
              "color": "#C8D4E3"
             },
             "line": {
              "color": "white"
             }
            },
            "type": "table"
           }
          ]
         },
         "layout": {
          "annotationdefaults": {
           "arrowcolor": "#2a3f5f",
           "arrowhead": 0,
           "arrowwidth": 1
          },
          "autotypenumbers": "strict",
          "coloraxis": {
           "colorbar": {
            "outlinewidth": 0,
            "ticks": ""
           }
          },
          "colorscale": {
           "diverging": [
            [
             0,
             "#8e0152"
            ],
            [
             0.1,
             "#c51b7d"
            ],
            [
             0.2,
             "#de77ae"
            ],
            [
             0.3,
             "#f1b6da"
            ],
            [
             0.4,
             "#fde0ef"
            ],
            [
             0.5,
             "#f7f7f7"
            ],
            [
             0.6,
             "#e6f5d0"
            ],
            [
             0.7,
             "#b8e186"
            ],
            [
             0.8,
             "#7fbc41"
            ],
            [
             0.9,
             "#4d9221"
            ],
            [
             1,
             "#276419"
            ]
           ],
           "sequential": [
            [
             0,
             "#0d0887"
            ],
            [
             0.1111111111111111,
             "#46039f"
            ],
            [
             0.2222222222222222,
             "#7201a8"
            ],
            [
             0.3333333333333333,
             "#9c179e"
            ],
            [
             0.4444444444444444,
             "#bd3786"
            ],
            [
             0.5555555555555556,
             "#d8576b"
            ],
            [
             0.6666666666666666,
             "#ed7953"
            ],
            [
             0.7777777777777778,
             "#fb9f3a"
            ],
            [
             0.8888888888888888,
             "#fdca26"
            ],
            [
             1,
             "#f0f921"
            ]
           ],
           "sequentialminus": [
            [
             0,
             "#0d0887"
            ],
            [
             0.1111111111111111,
             "#46039f"
            ],
            [
             0.2222222222222222,
             "#7201a8"
            ],
            [
             0.3333333333333333,
             "#9c179e"
            ],
            [
             0.4444444444444444,
             "#bd3786"
            ],
            [
             0.5555555555555556,
             "#d8576b"
            ],
            [
             0.6666666666666666,
             "#ed7953"
            ],
            [
             0.7777777777777778,
             "#fb9f3a"
            ],
            [
             0.8888888888888888,
             "#fdca26"
            ],
            [
             1,
             "#f0f921"
            ]
           ]
          },
          "colorway": [
           "#636efa",
           "#EF553B",
           "#00cc96",
           "#ab63fa",
           "#FFA15A",
           "#19d3f3",
           "#FF6692",
           "#B6E880",
           "#FF97FF",
           "#FECB52"
          ],
          "font": {
           "color": "#2a3f5f"
          },
          "geo": {
           "bgcolor": "white",
           "lakecolor": "white",
           "landcolor": "#E5ECF6",
           "showlakes": true,
           "showland": true,
           "subunitcolor": "white"
          },
          "hoverlabel": {
           "align": "left"
          },
          "hovermode": "closest",
          "mapbox": {
           "style": "light"
          },
          "paper_bgcolor": "white",
          "plot_bgcolor": "#E5ECF6",
          "polar": {
           "angularaxis": {
            "gridcolor": "white",
            "linecolor": "white",
            "ticks": ""
           },
           "bgcolor": "#E5ECF6",
           "radialaxis": {
            "gridcolor": "white",
            "linecolor": "white",
            "ticks": ""
           }
          },
          "scene": {
           "xaxis": {
            "backgroundcolor": "#E5ECF6",
            "gridcolor": "white",
            "gridwidth": 2,
            "linecolor": "white",
            "showbackground": true,
            "ticks": "",
            "zerolinecolor": "white"
           },
           "yaxis": {
            "backgroundcolor": "#E5ECF6",
            "gridcolor": "white",
            "gridwidth": 2,
            "linecolor": "white",
            "showbackground": true,
            "ticks": "",
            "zerolinecolor": "white"
           },
           "zaxis": {
            "backgroundcolor": "#E5ECF6",
            "gridcolor": "white",
            "gridwidth": 2,
            "linecolor": "white",
            "showbackground": true,
            "ticks": "",
            "zerolinecolor": "white"
           }
          },
          "shapedefaults": {
           "line": {
            "color": "#2a3f5f"
           }
          },
          "ternary": {
           "aaxis": {
            "gridcolor": "white",
            "linecolor": "white",
            "ticks": ""
           },
           "baxis": {
            "gridcolor": "white",
            "linecolor": "white",
            "ticks": ""
           },
           "bgcolor": "#E5ECF6",
           "caxis": {
            "gridcolor": "white",
            "linecolor": "white",
            "ticks": ""
           }
          },
          "title": {
           "x": 0.05
          },
          "xaxis": {
           "automargin": true,
           "gridcolor": "white",
           "linecolor": "white",
           "ticks": "",
           "title": {
            "standoff": 15
           },
           "zerolinecolor": "white",
           "zerolinewidth": 2
          },
          "yaxis": {
           "automargin": true,
           "gridcolor": "white",
           "linecolor": "white",
           "ticks": "",
           "title": {
            "standoff": 15
           },
           "zerolinecolor": "white",
           "zerolinewidth": 2
          }
         }
        },
        "xaxis": {
         "anchor": "y",
         "autorange": true,
         "domain": [
          0,
          1
         ],
         "range": [
          -0.5115919629057187,
          4.5
         ],
         "title": {
          "text": "Genotype"
         },
         "type": "category"
        },
        "yaxis": {
         "anchor": "x",
         "autorange": true,
         "domain": [
          0,
          1
         ],
         "range": [
          155.64010540878868,
          358.0580135878408
         ],
         "title": {
          "text": "inj_diameter"
         },
         "type": "linear"
        }
       }
      },
      "image/png": "[encoded data removed]",
      "text/html": [
       "<div>                            <div id=\"c3aaa2a4-5fea-404a-8cc7-9e555746d832\" class=\"plotly-graph-div\" style=\"height:525px; width:100%;\"></div>            <script type=\"text/javascript\">                require([\"plotly\"], function(Plotly) {                    window.PLOTLYENV=window.PLOTLYENV || {};                                    if (document.getElementById(\"c3aaa2a4-5fea-404a-8cc7-9e555746d832\")) {                    Plotly.newPlot(                        \"c3aaa2a4-5fea-404a-8cc7-9e555746d832\",                        [{\"alignmentgroup\": \"True\", \"boxpoints\": \"all\", \"hovertemplate\": \"Genotype=%{x}<br>inj_diameter=%{y}<extra></extra>\", \"legendgroup\": \"\", \"marker\": {\"color\": \"#636efa\"}, \"name\": \"\", \"notched\": false, \"offsetgroup\": \"\", \"orientation\": \"v\", \"showlegend\": false, \"type\": \"box\", \"x\": [\"Rasgrf2dCre\", \"Rasgrf2dCre\", \"Rasgrf2dCre\", \"Rbp4Cre\", \"Ntsr1Cre\", \"Rasgrf2dCre\", \"Ntsr1Cre\", \"Ntsr1Cre\", \"Rbp4Cre\", \"Rbp4Cre\", \"Rbp4Cre\", \"Sim1Cre\", \"Sim1Cre\", \"Sim1Cre\", \"Tlx3Cre\", \"Tlx3Cre\", \"Rbp4Cre\", \"Sim1Cre\", \"Tlx3Cre\", \"Tlx3Cre\", \"Rbp4Cre\", \"Sim1Cre\", \"Ntsr1Cre\"], \"x0\": \" \", \"xaxis\": \"x\", \"y\": [257.5524180089549, 333.6688898165197, 301.15289823280114, 284.34211849661637, 201.8583273110118, 252.71989782084452, 273.27466913955817, 220.77966908598512, 180.7849185825374, 211.6862221163872, 347.93711817888817, 289.1359815610574, 250.5797648633491, 227.53480985543368, 190.55708918799525, 222.27455057007924, 281.8285683499357, 187.49484084546222, 165.7610008177413, 182.96507154903193, 239.41631104015366, 184.76725557619122, 226.4731261559658], \"y0\": \" \", \"yaxis\": \"y\"}],                        {\"boxmode\": \"group\", \"legend\": {\"tracegroupgap\": 0}, \"margin\": {\"t\": 60}, \"template\": {\"data\": {\"bar\": [{\"error_x\": {\"color\": \"#2a3f5f\"}, \"error_y\": {\"color\": \"#2a3f5f\"}, \"marker\": {\"line\": {\"color\": \"#E5ECF6\", \"width\": 0.5}}, \"type\": \"bar\"}], \"barpolar\": [{\"marker\": {\"line\": {\"color\": \"#E5ECF6\", \"width\": 0.5}}, \"type\": \"barpolar\"}], \"carpet\": [{\"aaxis\": {\"endlinecolor\": \"#2a3f5f\", \"gridcolor\": \"white\", \"linecolor\": \"white\", \"minorgridcolor\": \"white\", \"startlinecolor\": \"#2a3f5f\"}, \"baxis\": {\"endlinecolor\": \"#2a3f5f\", \"gridcolor\": \"white\", \"linecolor\": \"white\", \"minorgridcolor\": \"white\", \"startlinecolor\": \"#2a3f5f\"}, \"type\": \"carpet\"}], \"choropleth\": [{\"colorbar\": {\"outlinewidth\": 0, \"ticks\": \"\"}, \"type\": \"choropleth\"}], \"contour\": [{\"colorbar\": {\"outlinewidth\": 0, \"ticks\": \"\"}, \"colorscale\": [[0.0, \"#0d0887\"], [0.1111111111111111, \"#46039f\"], [0.2222222222222222, \"#7201a8\"], [0.3333333333333333, \"#9c179e\"], [0.4444444444444444, \"#bd3786\"], [0.5555555555555556, \"#d8576b\"], [0.6666666666666666, \"#ed7953\"], [0.7777777777777778, \"#fb9f3a\"], [0.8888888888888888, \"#fdca26\"], [1.0, \"#f0f921\"]], \"type\": \"contour\"}], \"contourcarpet\": [{\"colorbar\": {\"outlinewidth\": 0, \"ticks\": \"\"}, \"type\": \"contourcarpet\"}], \"heatmap\": [{\"colorbar\": {\"outlinewidth\": 0, \"ticks\": \"\"}, \"colorscale\": [[0.0, \"#0d0887\"], [0.1111111111111111, \"#46039f\"], [0.2222222222222222, \"#7201a8\"], [0.3333333333333333, \"#9c179e\"], [0.4444444444444444, \"#bd3786\"], [0.5555555555555556, \"#d8576b\"], [0.6666666666666666, \"#ed7953\"], [0.7777777777777778, \"#fb9f3a\"], [0.8888888888888888, \"#fdca26\"], [1.0, \"#f0f921\"]], \"type\": \"heatmap\"}], \"heatmapgl\": [{\"colorbar\": {\"outlinewidth\": 0, \"ticks\": \"\"}, \"colorscale\": [[0.0, \"#0d0887\"], [0.1111111111111111, \"#46039f\"], [0.2222222222222222, \"#7201a8\"], [0.3333333333333333, \"#9c179e\"], [0.4444444444444444, \"#bd3786\"], [0.5555555555555556, \"#d8576b\"], [0.6666666666666666, \"#ed7953\"], [0.7777777777777778, \"#fb9f3a\"], [0.8888888888888888, \"#fdca26\"], [1.0, \"#f0f921\"]], \"type\": \"heatmapgl\"}], \"histogram\": [{\"marker\": {\"colorbar\": {\"outlinewidth\": 0, \"ticks\": \"\"}}, \"type\": \"histogram\"}], \"histogram2d\": [{\"colorbar\": {\"outlinewidth\": 0, \"ticks\": \"\"}, \"colorscale\": [[0.0, \"#0d0887\"], [0.1111111111111111, \"#46039f\"], [0.2222222222222222, \"#7201a8\"], [0.3333333333333333, \"#9c179e\"], [0.4444444444444444, \"#bd3786\"], [0.5555555555555556, \"#d8576b\"], [0.6666666666666666, \"#ed7953\"], [0.7777777777777778, \"#fb9f3a\"], [0.8888888888888888, \"#fdca26\"], [1.0, \"#f0f921\"]], \"type\": \"histogram2d\"}], \"histogram2dcontour\": [{\"colorbar\": {\"outlinewidth\": 0, \"ticks\": \"\"}, \"colorscale\": [[0.0, \"#0d0887\"], [0.1111111111111111, \"#46039f\"], [0.2222222222222222, \"#7201a8\"], [0.3333333333333333, \"#9c179e\"], [0.4444444444444444, \"#bd3786\"], [0.5555555555555556, \"#d8576b\"], [0.6666666666666666, \"#ed7953\"], [0.7777777777777778, \"#fb9f3a\"], [0.8888888888888888, \"#fdca26\"], [1.0, \"#f0f921\"]], \"type\": \"histogram2dcontour\"}], \"mesh3d\": [{\"colorbar\": {\"outlinewidth\": 0, \"ticks\": \"\"}, \"type\": \"mesh3d\"}], \"parcoords\": [{\"line\": {\"colorbar\": {\"outlinewidth\": 0, \"ticks\": \"\"}}, \"type\": \"parcoords\"}], \"pie\": [{\"automargin\": true, \"type\": \"pie\"}], \"scatter\": [{\"marker\": {\"colorbar\": {\"outlinewidth\": 0, \"ticks\": \"\"}}, \"type\": \"scatter\"}], \"scatter3d\": [{\"line\": {\"colorbar\": {\"outlinewidth\": 0, \"ticks\": \"\"}}, \"marker\": {\"colorbar\": {\"outlinewidth\": 0, \"ticks\": \"\"}}, \"type\": \"scatter3d\"}], \"scattercarpet\": [{\"marker\": {\"colorbar\": {\"outlinewidth\": 0, \"ticks\": \"\"}}, \"type\": \"scattercarpet\"}], \"scattergeo\": [{\"marker\": {\"colorbar\": {\"outlinewidth\": 0, \"ticks\": \"\"}}, \"type\": \"scattergeo\"}], \"scattergl\": [{\"marker\": {\"colorbar\": {\"outlinewidth\": 0, \"ticks\": \"\"}}, \"type\": \"scattergl\"}], \"scattermapbox\": [{\"marker\": {\"colorbar\": {\"outlinewidth\": 0, \"ticks\": \"\"}}, \"type\": \"scattermapbox\"}], \"scatterpolar\": [{\"marker\": {\"colorbar\": {\"outlinewidth\": 0, \"ticks\": \"\"}}, \"type\": \"scatterpolar\"}], \"scatterpolargl\": [{\"marker\": {\"colorbar\": {\"outlinewidth\": 0, \"ticks\": \"\"}}, \"type\": \"scatterpolargl\"}], \"scatterternary\": [{\"marker\": {\"colorbar\": {\"outlinewidth\": 0, \"ticks\": \"\"}}, \"type\": \"scatterternary\"}], \"surface\": [{\"colorbar\": {\"outlinewidth\": 0, \"ticks\": \"\"}, \"colorscale\": [[0.0, \"#0d0887\"], [0.1111111111111111, \"#46039f\"], [0.2222222222222222, \"#7201a8\"], [0.3333333333333333, \"#9c179e\"], [0.4444444444444444, \"#bd3786\"], [0.5555555555555556, \"#d8576b\"], [0.6666666666666666, \"#ed7953\"], [0.7777777777777778, \"#fb9f3a\"], [0.8888888888888888, \"#fdca26\"], [1.0, \"#f0f921\"]], \"type\": \"surface\"}], \"table\": [{\"cells\": {\"fill\": {\"color\": \"#EBF0F8\"}, \"line\": {\"color\": \"white\"}}, \"header\": {\"fill\": {\"color\": \"#C8D4E3\"}, \"line\": {\"color\": \"white\"}}, \"type\": \"table\"}]}, \"layout\": {\"annotationdefaults\": {\"arrowcolor\": \"#2a3f5f\", \"arrowhead\": 0, \"arrowwidth\": 1}, \"autotypenumbers\": \"strict\", \"coloraxis\": {\"colorbar\": {\"outlinewidth\": 0, \"ticks\": \"\"}}, \"colorscale\": {\"diverging\": [[0, \"#8e0152\"], [0.1, \"#c51b7d\"], [0.2, \"#de77ae\"], [0.3, \"#f1b6da\"], [0.4, \"#fde0ef\"], [0.5, \"#f7f7f7\"], [0.6, \"#e6f5d0\"], [0.7, \"#b8e186\"], [0.8, \"#7fbc41\"], [0.9, \"#4d9221\"], [1, \"#276419\"]], \"sequential\": [[0.0, \"#0d0887\"], [0.1111111111111111, \"#46039f\"], [0.2222222222222222, \"#7201a8\"], [0.3333333333333333, \"#9c179e\"], [0.4444444444444444, \"#bd3786\"], [0.5555555555555556, \"#d8576b\"], [0.6666666666666666, \"#ed7953\"], [0.7777777777777778, \"#fb9f3a\"], [0.8888888888888888, \"#fdca26\"], [1.0, \"#f0f921\"]], \"sequentialminus\": [[0.0, \"#0d0887\"], [0.1111111111111111, \"#46039f\"], [0.2222222222222222, \"#7201a8\"], [0.3333333333333333, \"#9c179e\"], [0.4444444444444444, \"#bd3786\"], [0.5555555555555556, \"#d8576b\"], [0.6666666666666666, \"#ed7953\"], [0.7777777777777778, \"#fb9f3a\"], [0.8888888888888888, \"#fdca26\"], [1.0, \"#f0f921\"]]}, \"colorway\": [\"#636efa\", \"#EF553B\", \"#00cc96\", \"#ab63fa\", \"#FFA15A\", \"#19d3f3\", \"#FF6692\", \"#B6E880\", \"#FF97FF\", \"#FECB52\"], \"font\": {\"color\": \"#2a3f5f\"}, \"geo\": {\"bgcolor\": \"white\", \"lakecolor\": \"white\", \"landcolor\": \"#E5ECF6\", \"showlakes\": true, \"showland\": true, \"subunitcolor\": \"white\"}, \"hoverlabel\": {\"align\": \"left\"}, \"hovermode\": \"closest\", \"mapbox\": {\"style\": \"light\"}, \"paper_bgcolor\": \"white\", \"plot_bgcolor\": \"#E5ECF6\", \"polar\": {\"angularaxis\": {\"gridcolor\": \"white\", \"linecolor\": \"white\", \"ticks\": \"\"}, \"bgcolor\": \"#E5ECF6\", \"radialaxis\": {\"gridcolor\": \"white\", \"linecolor\": \"white\", \"ticks\": \"\"}}, \"scene\": {\"xaxis\": {\"backgroundcolor\": \"#E5ECF6\", \"gridcolor\": \"white\", \"gridwidth\": 2, \"linecolor\": \"white\", \"showbackground\": true, \"ticks\": \"\", \"zerolinecolor\": \"white\"}, \"yaxis\": {\"backgroundcolor\": \"#E5ECF6\", \"gridcolor\": \"white\", \"gridwidth\": 2, \"linecolor\": \"white\", \"showbackground\": true, \"ticks\": \"\", \"zerolinecolor\": \"white\"}, \"zaxis\": {\"backgroundcolor\": \"#E5ECF6\", \"gridcolor\": \"white\", \"gridwidth\": 2, \"linecolor\": \"white\", \"showbackground\": true, \"ticks\": \"\", \"zerolinecolor\": \"white\"}}, \"shapedefaults\": {\"line\": {\"color\": \"#2a3f5f\"}}, \"ternary\": {\"aaxis\": {\"gridcolor\": \"white\", \"linecolor\": \"white\", \"ticks\": \"\"}, \"baxis\": {\"gridcolor\": \"white\", \"linecolor\": \"white\", \"ticks\": \"\"}, \"bgcolor\": \"#E5ECF6\", \"caxis\": {\"gridcolor\": \"white\", \"linecolor\": \"white\", \"ticks\": \"\"}}, \"title\": {\"x\": 0.05}, \"xaxis\": {\"automargin\": true, \"gridcolor\": \"white\", \"linecolor\": \"white\", \"ticks\": \"\", \"title\": {\"standoff\": 15}, \"zerolinecolor\": \"white\", \"zerolinewidth\": 2}, \"yaxis\": {\"automargin\": true, \"gridcolor\": \"white\", \"linecolor\": \"white\", \"ticks\": \"\", \"title\": {\"standoff\": 15}, \"zerolinecolor\": \"white\", \"zerolinewidth\": 2}}}, \"xaxis\": {\"anchor\": \"y\", \"domain\": [0.0, 1.0], \"title\": {\"text\": \"Genotype\"}}, \"yaxis\": {\"anchor\": \"x\", \"domain\": [0.0, 1.0], \"title\": {\"text\": \"inj_diameter\"}}},                        {\"responsive\": true}                    ).then(function(){\n",
       "                            \n",
       "var gd = document.getElementById('c3aaa2a4-5fea-404a-8cc7-9e555746d832');\n",
       "var x = new MutationObserver(function (mutations, observer) {{\n",
       "        var display = window.getComputedStyle(gd).display;\n",
       "        if (!display || display === 'none') {{\n",
       "            console.log([gd, 'removed!']);\n",
       "            Plotly.purge(gd);\n",
       "            observer.disconnect();\n",
       "        }}\n",
       "}});\n",
       "\n",
       "// Listen for the removal of the full notebook cells\n",
       "var notebookContainer = gd.closest('#notebook-container');\n",
       "if (notebookContainer) {{\n",
       "    x.observe(notebookContainer, {childList: true});\n",
       "}}\n",
       "\n",
       "// Listen for the clearing of the current output cell\n",
       "var outputEl = gd.closest('.output');\n",
       "if (outputEl) {{\n",
       "    x.observe(outputEl, {childList: true});\n",
       "}}\n",
       "\n",
       "                        })                };                });            </script>        </div>"
      ]
     },
     "metadata": {},
     "output_type": "display_data"
    }
   ],
   "source": [
    "import plotly.express as px\n",
    "fig = px.box(data, x=\"Genotype\", y=\"inj_diameter\", points=\"all\")\n",
    "fig.show()\n",
    "fig.write_html(\"injection_diameter_um.html\")"
   ]
  },
  {
   "cell_type": "code",
   "execution_count": 45,
   "metadata": {},
   "outputs": [],
   "source": [
    "data=data.sort_values(by=['Centroid_id', 'Genotype'])\n",
    "data = data.reset_index(drop=True)"
   ]
  },
  {
   "cell_type": "code",
   "execution_count": 86,
   "metadata": {},
   "outputs": [
    {
     "data": {
      "text/html": [
       "<div>\n",
       "<style scoped>\n",
       "    .dataframe tbody tr th:only-of-type {\n",
       "        vertical-align: middle;\n",
       "    }\n",
       "\n",
       "    .dataframe tbody tr th {\n",
       "        vertical-align: top;\n",
       "    }\n",
       "\n",
       "    .dataframe thead th {\n",
       "        text-align: right;\n",
       "    }\n",
       "</style>\n",
       "<table border=\"1\" class=\"dataframe\">\n",
       "  <thead>\n",
       "    <tr style=\"text-align: right;\">\n",
       "      <th></th>\n",
       "      <th>Data_name</th>\n",
       "      <th>Total_voxels</th>\n",
       "      <th>Centroid_location_1</th>\n",
       "      <th>Centroid_location_2</th>\n",
       "      <th>Centroid_location_3</th>\n",
       "      <th>Centroid_id</th>\n",
       "      <th>Voxel_id</th>\n",
       "      <th>Genotype</th>\n",
       "      <th>inj_diameter</th>\n",
       "      <th>Centroid_id_name</th>\n",
       "    </tr>\n",
       "  </thead>\n",
       "  <tbody>\n",
       "    <tr>\n",
       "      <th>0</th>\n",
       "      <td>AL254_561</td>\n",
       "      <td>4580</td>\n",
       "      <td>97</td>\n",
       "      <td>281</td>\n",
       "      <td>46</td>\n",
       "      <td>201</td>\n",
       "      <td>[{201: 2937, 981: 1217, 1047: 426}]</td>\n",
       "      <td>Rasgrf2dCre</td>\n",
       "      <td>257.552418</td>\n",
       "      <td>SSp-bfd2/3</td>\n",
       "    </tr>\n",
       "    <tr>\n",
       "      <th>1</th>\n",
       "      <td>AL255_561</td>\n",
       "      <td>9959</td>\n",
       "      <td>76</td>\n",
       "      <td>284</td>\n",
       "      <td>61</td>\n",
       "      <td>201</td>\n",
       "      <td>[{201: 6655, 806: 771, 873: 187, 981: 2043, 10...</td>\n",
       "      <td>Rasgrf2dCre</td>\n",
       "      <td>333.668890</td>\n",
       "      <td>SSp-bfd2/3</td>\n",
       "    </tr>\n",
       "    <tr>\n",
       "      <th>2</th>\n",
       "      <td>AL256_561</td>\n",
       "      <td>7322</td>\n",
       "      <td>76</td>\n",
       "      <td>286</td>\n",
       "      <td>63</td>\n",
       "      <td>201</td>\n",
       "      <td>[{201: 5013, 806: 926, 873: 92, 981: 513, 1035...</td>\n",
       "      <td>Rasgrf2dCre</td>\n",
       "      <td>301.152898</td>\n",
       "      <td>SSp-bfd2/3</td>\n",
       "    </tr>\n",
       "    <tr>\n",
       "      <th>3</th>\n",
       "      <td>AL279_647</td>\n",
       "      <td>6163</td>\n",
       "      <td>62</td>\n",
       "      <td>287</td>\n",
       "      <td>115</td>\n",
       "      <td>252</td>\n",
       "      <td>[{156: 384, 252: 3086, 520: 2, 847: 20, 862: 2...</td>\n",
       "      <td>Rbp4Cre</td>\n",
       "      <td>284.342118</td>\n",
       "      <td>AUDd5</td>\n",
       "    </tr>\n",
       "    <tr>\n",
       "      <th>4</th>\n",
       "      <td>AL274_561</td>\n",
       "      <td>2205</td>\n",
       "      <td>77</td>\n",
       "      <td>284</td>\n",
       "      <td>106</td>\n",
       "      <td>862</td>\n",
       "      <td>[{862: 1958, 1090: 247}]</td>\n",
       "      <td>Ntsr1Cre</td>\n",
       "      <td>201.858327</td>\n",
       "      <td>SSs6a</td>\n",
       "    </tr>\n",
       "    <tr>\n",
       "      <th>5</th>\n",
       "      <td>AL257_561</td>\n",
       "      <td>4327</td>\n",
       "      <td>79</td>\n",
       "      <td>263</td>\n",
       "      <td>60</td>\n",
       "      <td>981</td>\n",
       "      <td>[{201: 2459, 981: 1868}]</td>\n",
       "      <td>Rasgrf2dCre</td>\n",
       "      <td>252.719898</td>\n",
       "      <td>SSp-bfd1</td>\n",
       "    </tr>\n",
       "    <tr>\n",
       "      <th>6</th>\n",
       "      <td>AL274_647</td>\n",
       "      <td>5471</td>\n",
       "      <td>102</td>\n",
       "      <td>283</td>\n",
       "      <td>80</td>\n",
       "      <td>1038</td>\n",
       "      <td>[{1038: 4515, 1062: 286, 1070: 587, 484682520:...</td>\n",
       "      <td>Ntsr1Cre</td>\n",
       "      <td>273.274669</td>\n",
       "      <td>SSp-bfd6a</td>\n",
       "    </tr>\n",
       "    <tr>\n",
       "      <th>7</th>\n",
       "      <td>AL285_647</td>\n",
       "      <td>2885</td>\n",
       "      <td>102</td>\n",
       "      <td>269</td>\n",
       "      <td>84</td>\n",
       "      <td>1038</td>\n",
       "      <td>[{1038: 2492, 1070: 393}]</td>\n",
       "      <td>Ntsr1Cre</td>\n",
       "      <td>220.779669</td>\n",
       "      <td>SSp-bfd6a</td>\n",
       "    </tr>\n",
       "    <tr>\n",
       "      <th>8</th>\n",
       "      <td>AL211_647</td>\n",
       "      <td>1584</td>\n",
       "      <td>106</td>\n",
       "      <td>276</td>\n",
       "      <td>66</td>\n",
       "      <td>1070</td>\n",
       "      <td>[{1047: 94, 1070: 1490}]</td>\n",
       "      <td>Rbp4Cre</td>\n",
       "      <td>180.784919</td>\n",
       "      <td>SSp-bfd5</td>\n",
       "    </tr>\n",
       "    <tr>\n",
       "      <th>9</th>\n",
       "      <td>AL215_647</td>\n",
       "      <td>2543</td>\n",
       "      <td>102</td>\n",
       "      <td>279</td>\n",
       "      <td>67</td>\n",
       "      <td>1070</td>\n",
       "      <td>[{1038: 532, 1047: 1022, 1070: 989}]</td>\n",
       "      <td>Rbp4Cre</td>\n",
       "      <td>211.686222</td>\n",
       "      <td>SSp-bfd5</td>\n",
       "    </tr>\n",
       "    <tr>\n",
       "      <th>10</th>\n",
       "      <td>AL266_647</td>\n",
       "      <td>11292</td>\n",
       "      <td>112</td>\n",
       "      <td>295</td>\n",
       "      <td>58</td>\n",
       "      <td>1070</td>\n",
       "      <td>[{778: 54, 1038: 193, 1047: 38, 1070: 6234, 11...</td>\n",
       "      <td>Rbp4Cre</td>\n",
       "      <td>347.937118</td>\n",
       "      <td>SSp-bfd5</td>\n",
       "    </tr>\n",
       "    <tr>\n",
       "      <th>11</th>\n",
       "      <td>AL207_647</td>\n",
       "      <td>6480</td>\n",
       "      <td>121</td>\n",
       "      <td>276</td>\n",
       "      <td>60</td>\n",
       "      <td>1070</td>\n",
       "      <td>[{9: 23, 1038: 1543, 1047: 14, 1070: 3873, 111...</td>\n",
       "      <td>Sim1Cre</td>\n",
       "      <td>289.135982</td>\n",
       "      <td>SSp-bfd5</td>\n",
       "    </tr>\n",
       "    <tr>\n",
       "      <th>12</th>\n",
       "      <td>AL209_647</td>\n",
       "      <td>4218</td>\n",
       "      <td>109</td>\n",
       "      <td>270</td>\n",
       "      <td>69</td>\n",
       "      <td>1070</td>\n",
       "      <td>[{1038: 75, 1047: 11, 1070: 4132}]</td>\n",
       "      <td>Sim1Cre</td>\n",
       "      <td>250.579765</td>\n",
       "      <td>SSp-bfd5</td>\n",
       "    </tr>\n",
       "    <tr>\n",
       "      <th>13</th>\n",
       "      <td>AL273_647</td>\n",
       "      <td>3158</td>\n",
       "      <td>118</td>\n",
       "      <td>273</td>\n",
       "      <td>63</td>\n",
       "      <td>1070</td>\n",
       "      <td>[{1038: 636, 1070: 2514, 182305705: 8}]</td>\n",
       "      <td>Sim1Cre</td>\n",
       "      <td>227.534810</td>\n",
       "      <td>SSp-bfd5</td>\n",
       "    </tr>\n",
       "    <tr>\n",
       "      <th>14</th>\n",
       "      <td>AL210_647</td>\n",
       "      <td>1855</td>\n",
       "      <td>122</td>\n",
       "      <td>287</td>\n",
       "      <td>52</td>\n",
       "      <td>1070</td>\n",
       "      <td>[{1047: 10, 1070: 1134, 1111: 159, 312782558: ...</td>\n",
       "      <td>Tlx3Cre</td>\n",
       "      <td>190.557089</td>\n",
       "      <td>SSp-bfd5</td>\n",
       "    </tr>\n",
       "    <tr>\n",
       "      <th>15</th>\n",
       "      <td>AL213_647</td>\n",
       "      <td>2944</td>\n",
       "      <td>98</td>\n",
       "      <td>272</td>\n",
       "      <td>73</td>\n",
       "      <td>1070</td>\n",
       "      <td>[{1047: 44, 1070: 2900}]</td>\n",
       "      <td>Tlx3Cre</td>\n",
       "      <td>222.274551</td>\n",
       "      <td>SSp-bfd5</td>\n",
       "    </tr>\n",
       "    <tr>\n",
       "      <th>16</th>\n",
       "      <td>AL271_561</td>\n",
       "      <td>6001</td>\n",
       "      <td>76</td>\n",
       "      <td>290</td>\n",
       "      <td>88</td>\n",
       "      <td>1090</td>\n",
       "      <td>[{252: 1645, 678: 47, 847: 40, 1035: 35, 1047:...</td>\n",
       "      <td>Rbp4Cre</td>\n",
       "      <td>281.828568</td>\n",
       "      <td>SSs5</td>\n",
       "    </tr>\n",
       "    <tr>\n",
       "      <th>17</th>\n",
       "      <td>AL281_647</td>\n",
       "      <td>1767</td>\n",
       "      <td>72</td>\n",
       "      <td>283</td>\n",
       "      <td>102</td>\n",
       "      <td>1090</td>\n",
       "      <td>[{862: 185, 1090: 1582}]</td>\n",
       "      <td>Sim1Cre</td>\n",
       "      <td>187.494841</td>\n",
       "      <td>SSs5</td>\n",
       "    </tr>\n",
       "    <tr>\n",
       "      <th>18</th>\n",
       "      <td>AL278_647</td>\n",
       "      <td>1221</td>\n",
       "      <td>70</td>\n",
       "      <td>282</td>\n",
       "      <td>94</td>\n",
       "      <td>1090</td>\n",
       "      <td>[{1035: 68, 1047: 2, 1070: 52, 1090: 1099}]</td>\n",
       "      <td>Tlx3Cre</td>\n",
       "      <td>165.761001</td>\n",
       "      <td>SSs5</td>\n",
       "    </tr>\n",
       "    <tr>\n",
       "      <th>19</th>\n",
       "      <td>AL280_647</td>\n",
       "      <td>1642</td>\n",
       "      <td>71</td>\n",
       "      <td>277</td>\n",
       "      <td>97</td>\n",
       "      <td>1090</td>\n",
       "      <td>[{1035: 8, 1070: 100, 1090: 1534}]</td>\n",
       "      <td>Tlx3Cre</td>\n",
       "      <td>182.965072</td>\n",
       "      <td>SSs5</td>\n",
       "    </tr>\n",
       "    <tr>\n",
       "      <th>20</th>\n",
       "      <td>AL214_647</td>\n",
       "      <td>3679</td>\n",
       "      <td>133</td>\n",
       "      <td>272</td>\n",
       "      <td>54</td>\n",
       "      <td>1111</td>\n",
       "      <td>[{9: 183, 577: 6, 625: 387, 670: 5, 854: 1, 94...</td>\n",
       "      <td>Rbp4Cre</td>\n",
       "      <td>239.416311</td>\n",
       "      <td>SSp-tr5</td>\n",
       "    </tr>\n",
       "    <tr>\n",
       "      <th>21</th>\n",
       "      <td>AL208_647</td>\n",
       "      <td>1691</td>\n",
       "      <td>137</td>\n",
       "      <td>274</td>\n",
       "      <td>51</td>\n",
       "      <td>1111</td>\n",
       "      <td>[{9: 182, 625: 138, 945: 4, 1111: 1137, 182305...</td>\n",
       "      <td>Sim1Cre</td>\n",
       "      <td>184.767256</td>\n",
       "      <td>SSp-tr5</td>\n",
       "    </tr>\n",
       "    <tr>\n",
       "      <th>22</th>\n",
       "      <td>AL276_647</td>\n",
       "      <td>3114</td>\n",
       "      <td>106</td>\n",
       "      <td>314</td>\n",
       "      <td>73</td>\n",
       "      <td>484682520</td>\n",
       "      <td>[{305: 2, 971: 889, 986: 13, 1038: 33, 1062: 1...</td>\n",
       "      <td>Ntsr1Cre</td>\n",
       "      <td>226.473126</td>\n",
       "      <td>or</td>\n",
       "    </tr>\n",
       "  </tbody>\n",
       "</table>\n",
       "</div>"
      ],
      "text/plain": [
       "    Data_name  Total_voxels  Centroid_location_1  Centroid_location_2  \\\n",
       "0   AL254_561          4580                   97                  281   \n",
       "1   AL255_561          9959                   76                  284   \n",
       "2   AL256_561          7322                   76                  286   \n",
       "3   AL279_647          6163                   62                  287   \n",
       "4   AL274_561          2205                   77                  284   \n",
       "5   AL257_561          4327                   79                  263   \n",
       "6   AL274_647          5471                  102                  283   \n",
       "7   AL285_647          2885                  102                  269   \n",
       "8   AL211_647          1584                  106                  276   \n",
       "9   AL215_647          2543                  102                  279   \n",
       "10  AL266_647         11292                  112                  295   \n",
       "11  AL207_647          6480                  121                  276   \n",
       "12  AL209_647          4218                  109                  270   \n",
       "13  AL273_647          3158                  118                  273   \n",
       "14  AL210_647          1855                  122                  287   \n",
       "15  AL213_647          2944                   98                  272   \n",
       "16  AL271_561          6001                   76                  290   \n",
       "17  AL281_647          1767                   72                  283   \n",
       "18  AL278_647          1221                   70                  282   \n",
       "19  AL280_647          1642                   71                  277   \n",
       "20  AL214_647          3679                  133                  272   \n",
       "21  AL208_647          1691                  137                  274   \n",
       "22  AL276_647          3114                  106                  314   \n",
       "\n",
       "    Centroid_location_3  Centroid_id  \\\n",
       "0                    46          201   \n",
       "1                    61          201   \n",
       "2                    63          201   \n",
       "3                   115          252   \n",
       "4                   106          862   \n",
       "5                    60          981   \n",
       "6                    80         1038   \n",
       "7                    84         1038   \n",
       "8                    66         1070   \n",
       "9                    67         1070   \n",
       "10                   58         1070   \n",
       "11                   60         1070   \n",
       "12                   69         1070   \n",
       "13                   63         1070   \n",
       "14                   52         1070   \n",
       "15                   73         1070   \n",
       "16                   88         1090   \n",
       "17                  102         1090   \n",
       "18                   94         1090   \n",
       "19                   97         1090   \n",
       "20                   54         1111   \n",
       "21                   51         1111   \n",
       "22                   73    484682520   \n",
       "\n",
       "                                             Voxel_id     Genotype  \\\n",
       "0                 [{201: 2937, 981: 1217, 1047: 426}]  Rasgrf2dCre   \n",
       "1   [{201: 6655, 806: 771, 873: 187, 981: 2043, 10...  Rasgrf2dCre   \n",
       "2   [{201: 5013, 806: 926, 873: 92, 981: 513, 1035...  Rasgrf2dCre   \n",
       "3   [{156: 384, 252: 3086, 520: 2, 847: 20, 862: 2...      Rbp4Cre   \n",
       "4                            [{862: 1958, 1090: 247}]     Ntsr1Cre   \n",
       "5                            [{201: 2459, 981: 1868}]  Rasgrf2dCre   \n",
       "6   [{1038: 4515, 1062: 286, 1070: 587, 484682520:...     Ntsr1Cre   \n",
       "7                           [{1038: 2492, 1070: 393}]     Ntsr1Cre   \n",
       "8                            [{1047: 94, 1070: 1490}]      Rbp4Cre   \n",
       "9                [{1038: 532, 1047: 1022, 1070: 989}]      Rbp4Cre   \n",
       "10  [{778: 54, 1038: 193, 1047: 38, 1070: 6234, 11...      Rbp4Cre   \n",
       "11  [{9: 23, 1038: 1543, 1047: 14, 1070: 3873, 111...      Sim1Cre   \n",
       "12                 [{1038: 75, 1047: 11, 1070: 4132}]      Sim1Cre   \n",
       "13            [{1038: 636, 1070: 2514, 182305705: 8}]      Sim1Cre   \n",
       "14  [{1047: 10, 1070: 1134, 1111: 159, 312782558: ...      Tlx3Cre   \n",
       "15                           [{1047: 44, 1070: 2900}]      Tlx3Cre   \n",
       "16  [{252: 1645, 678: 47, 847: 40, 1035: 35, 1047:...      Rbp4Cre   \n",
       "17                           [{862: 185, 1090: 1582}]      Sim1Cre   \n",
       "18        [{1035: 68, 1047: 2, 1070: 52, 1090: 1099}]      Tlx3Cre   \n",
       "19                 [{1035: 8, 1070: 100, 1090: 1534}]      Tlx3Cre   \n",
       "20  [{9: 183, 577: 6, 625: 387, 670: 5, 854: 1, 94...      Rbp4Cre   \n",
       "21  [{9: 182, 625: 138, 945: 4, 1111: 1137, 182305...      Sim1Cre   \n",
       "22  [{305: 2, 971: 889, 986: 13, 1038: 33, 1062: 1...     Ntsr1Cre   \n",
       "\n",
       "    inj_diameter Centroid_id_name  \n",
       "0     257.552418       SSp-bfd2/3  \n",
       "1     333.668890       SSp-bfd2/3  \n",
       "2     301.152898       SSp-bfd2/3  \n",
       "3     284.342118            AUDd5  \n",
       "4     201.858327            SSs6a  \n",
       "5     252.719898         SSp-bfd1  \n",
       "6     273.274669        SSp-bfd6a  \n",
       "7     220.779669        SSp-bfd6a  \n",
       "8     180.784919         SSp-bfd5  \n",
       "9     211.686222         SSp-bfd5  \n",
       "10    347.937118         SSp-bfd5  \n",
       "11    289.135982         SSp-bfd5  \n",
       "12    250.579765         SSp-bfd5  \n",
       "13    227.534810         SSp-bfd5  \n",
       "14    190.557089         SSp-bfd5  \n",
       "15    222.274551         SSp-bfd5  \n",
       "16    281.828568             SSs5  \n",
       "17    187.494841             SSs5  \n",
       "18    165.761001             SSs5  \n",
       "19    182.965072             SSs5  \n",
       "20    239.416311          SSp-tr5  \n",
       "21    184.767256          SSp-tr5  \n",
       "22    226.473126               or  "
      ]
     },
     "execution_count": 86,
     "metadata": {},
     "output_type": "execute_result"
    }
   ],
   "source": [
    "data"
   ]
  },
  {
   "cell_type": "code",
   "execution_count": 82,
   "metadata": {},
   "outputs": [
    {
     "data": {
      "application/vnd.plotly.v1+json": {
       "config": {
        "plotlyServerURL": "https://plot.ly"
       },
       "data": [
        {
         "hovertemplate": "Genotype=Rasgrf2dCre<br>Centroid_id_name=SSp-bfd2/3<br>Centroid_location_1=%{x}<br>Centroid_location_2=%{y}<extra></extra>",
         "legendgroup": "Rasgrf2dCre, SSp-bfd2/3",
         "marker": {
          "color": "#636efa",
          "size": 5,
          "symbol": "circle"
         },
         "mode": "markers",
         "name": "Rasgrf2dCre, SSp-bfd2/3",
         "orientation": "v",
         "showlegend": true,
         "type": "scatter",
         "x": [
          97,
          76,
          76
         ],
         "xaxis": "x",
         "y": [
          281,
          284,
          286
         ],
         "yaxis": "y"
        },
        {
         "hovertemplate": "Genotype=Rasgrf2dCre<br>Centroid_id_name=SSp-bfd1<br>Centroid_location_1=%{x}<br>Centroid_location_2=%{y}<extra></extra>",
         "legendgroup": "Rasgrf2dCre, SSp-bfd1",
         "marker": {
          "color": "#636efa",
          "size": 5,
          "symbol": "x"
         },
         "mode": "markers",
         "name": "Rasgrf2dCre, SSp-bfd1",
         "orientation": "v",
         "showlegend": true,
         "type": "scatter",
         "x": [
          79
         ],
         "xaxis": "x",
         "y": [
          263
         ],
         "yaxis": "y"
        },
        {
         "hovertemplate": "Genotype=Rbp4Cre<br>Centroid_id_name=AUDd5<br>Centroid_location_1=%{x}<br>Centroid_location_2=%{y}<extra></extra>",
         "legendgroup": "Rbp4Cre, AUDd5",
         "marker": {
          "color": "#EF553B",
          "size": 5,
          "symbol": "diamond"
         },
         "mode": "markers",
         "name": "Rbp4Cre, AUDd5",
         "orientation": "v",
         "showlegend": true,
         "type": "scatter",
         "x": [
          62
         ],
         "xaxis": "x",
         "y": [
          287
         ],
         "yaxis": "y"
        },
        {
         "hovertemplate": "Genotype=Rbp4Cre<br>Centroid_id_name=SSp-bfd5<br>Centroid_location_1=%{x}<br>Centroid_location_2=%{y}<extra></extra>",
         "legendgroup": "Rbp4Cre, SSp-bfd5",
         "marker": {
          "color": "#EF553B",
          "size": 5,
          "symbol": "circle"
         },
         "mode": "markers",
         "name": "Rbp4Cre, SSp-bfd5",
         "orientation": "v",
         "showlegend": true,
         "type": "scatter",
         "x": [
          106,
          102,
          112
         ],
         "xaxis": "x",
         "y": [
          276,
          279,
          295
         ],
         "yaxis": "y"
        },
        {
         "hovertemplate": "Genotype=Rbp4Cre<br>Centroid_id_name=SSs5<br>Centroid_location_1=%{x}<br>Centroid_location_2=%{y}<extra></extra>",
         "legendgroup": "Rbp4Cre, SSs5",
         "marker": {
          "color": "#EF553B",
          "size": 5,
          "symbol": "diamond"
         },
         "mode": "markers",
         "name": "Rbp4Cre, SSs5",
         "orientation": "v",
         "showlegend": true,
         "type": "scatter",
         "x": [
          76
         ],
         "xaxis": "x",
         "y": [
          290
         ],
         "yaxis": "y"
        },
        {
         "hovertemplate": "Genotype=Rbp4Cre<br>Centroid_id_name=SSp-tr5<br>Centroid_location_1=%{x}<br>Centroid_location_2=%{y}<extra></extra>",
         "legendgroup": "Rbp4Cre, SSp-tr5",
         "marker": {
          "color": "#EF553B",
          "size": 5,
          "symbol": "square"
         },
         "mode": "markers",
         "name": "Rbp4Cre, SSp-tr5",
         "orientation": "v",
         "showlegend": true,
         "type": "scatter",
         "x": [
          133
         ],
         "xaxis": "x",
         "y": [
          272
         ],
         "yaxis": "y"
        },
        {
         "hovertemplate": "Genotype=Ntsr1Cre<br>Centroid_id_name=SSs6a<br>Centroid_location_1=%{x}<br>Centroid_location_2=%{y}<extra></extra>",
         "legendgroup": "Ntsr1Cre, SSs6a",
         "marker": {
          "color": "#00cc96",
          "size": 5,
          "symbol": "square"
         },
         "mode": "markers",
         "name": "Ntsr1Cre, SSs6a",
         "orientation": "v",
         "showlegend": true,
         "type": "scatter",
         "x": [
          77
         ],
         "xaxis": "x",
         "y": [
          284
         ],
         "yaxis": "y"
        },
        {
         "hovertemplate": "Genotype=Ntsr1Cre<br>Centroid_id_name=SSp-bfd6a<br>Centroid_location_1=%{x}<br>Centroid_location_2=%{y}<extra></extra>",
         "legendgroup": "Ntsr1Cre, SSp-bfd6a",
         "marker": {
          "color": "#00cc96",
          "size": 5,
          "symbol": "cross"
         },
         "mode": "markers",
         "name": "Ntsr1Cre, SSp-bfd6a",
         "orientation": "v",
         "showlegend": true,
         "type": "scatter",
         "x": [
          102,
          102
         ],
         "xaxis": "x",
         "y": [
          283,
          269
         ],
         "yaxis": "y"
        },
        {
         "hovertemplate": "Genotype=Ntsr1Cre<br>Centroid_id_name=or<br>Centroid_location_1=%{x}<br>Centroid_location_2=%{y}<extra></extra>",
         "legendgroup": "Ntsr1Cre, or",
         "marker": {
          "color": "#00cc96",
          "size": 5,
          "symbol": "x"
         },
         "mode": "markers",
         "name": "Ntsr1Cre, or",
         "orientation": "v",
         "showlegend": true,
         "type": "scatter",
         "x": [
          106
         ],
         "xaxis": "x",
         "y": [
          314
         ],
         "yaxis": "y"
        },
        {
         "hovertemplate": "Genotype=Sim1Cre<br>Centroid_id_name=SSp-bfd5<br>Centroid_location_1=%{x}<br>Centroid_location_2=%{y}<extra></extra>",
         "legendgroup": "Sim1Cre, SSp-bfd5",
         "marker": {
          "color": "#ab63fa",
          "size": 5,
          "symbol": "circle"
         },
         "mode": "markers",
         "name": "Sim1Cre, SSp-bfd5",
         "orientation": "v",
         "showlegend": true,
         "type": "scatter",
         "x": [
          121,
          109,
          118
         ],
         "xaxis": "x",
         "y": [
          276,
          270,
          273
         ],
         "yaxis": "y"
        },
        {
         "hovertemplate": "Genotype=Sim1Cre<br>Centroid_id_name=SSs5<br>Centroid_location_1=%{x}<br>Centroid_location_2=%{y}<extra></extra>",
         "legendgroup": "Sim1Cre, SSs5",
         "marker": {
          "color": "#ab63fa",
          "size": 5,
          "symbol": "diamond"
         },
         "mode": "markers",
         "name": "Sim1Cre, SSs5",
         "orientation": "v",
         "showlegend": true,
         "type": "scatter",
         "x": [
          72
         ],
         "xaxis": "x",
         "y": [
          283
         ],
         "yaxis": "y"
        },
        {
         "hovertemplate": "Genotype=Sim1Cre<br>Centroid_id_name=SSp-tr5<br>Centroid_location_1=%{x}<br>Centroid_location_2=%{y}<extra></extra>",
         "legendgroup": "Sim1Cre, SSp-tr5",
         "marker": {
          "color": "#ab63fa",
          "size": 5,
          "symbol": "square"
         },
         "mode": "markers",
         "name": "Sim1Cre, SSp-tr5",
         "orientation": "v",
         "showlegend": true,
         "type": "scatter",
         "x": [
          137
         ],
         "xaxis": "x",
         "y": [
          274
         ],
         "yaxis": "y"
        },
        {
         "hovertemplate": "Genotype=Tlx3Cre<br>Centroid_id_name=SSp-bfd5<br>Centroid_location_1=%{x}<br>Centroid_location_2=%{y}<extra></extra>",
         "legendgroup": "Tlx3Cre, SSp-bfd5",
         "marker": {
          "color": "#FFA15A",
          "size": 5,
          "symbol": "circle"
         },
         "mode": "markers",
         "name": "Tlx3Cre, SSp-bfd5",
         "orientation": "v",
         "showlegend": true,
         "type": "scatter",
         "x": [
          122,
          98
         ],
         "xaxis": "x",
         "y": [
          287,
          272
         ],
         "yaxis": "y"
        },
        {
         "hovertemplate": "Genotype=Tlx3Cre<br>Centroid_id_name=SSs5<br>Centroid_location_1=%{x}<br>Centroid_location_2=%{y}<extra></extra>",
         "legendgroup": "Tlx3Cre, SSs5",
         "marker": {
          "color": "#FFA15A",
          "size": 5,
          "symbol": "diamond"
         },
         "mode": "markers",
         "name": "Tlx3Cre, SSs5",
         "orientation": "v",
         "showlegend": true,
         "type": "scatter",
         "x": [
          70,
          71
         ],
         "xaxis": "x",
         "y": [
          282,
          277
         ],
         "yaxis": "y"
        }
       ],
       "layout": {
        "dragmode": "pan",
        "height": 800,
        "legend": {
         "title": {
          "text": "Genotype, Centroid_id_name"
         },
         "tracegroupgap": 0
        },
        "margin": {
         "t": 60
        },
        "template": {
         "data": {
          "bar": [
           {
            "error_x": {
             "color": "#2a3f5f"
            },
            "error_y": {
             "color": "#2a3f5f"
            },
            "marker": {
             "line": {
              "color": "#E5ECF6",
              "width": 0.5
             }
            },
            "type": "bar"
           }
          ],
          "barpolar": [
           {
            "marker": {
             "line": {
              "color": "#E5ECF6",
              "width": 0.5
             }
            },
            "type": "barpolar"
           }
          ],
          "carpet": [
           {
            "aaxis": {
             "endlinecolor": "#2a3f5f",
             "gridcolor": "white",
             "linecolor": "white",
             "minorgridcolor": "white",
             "startlinecolor": "#2a3f5f"
            },
            "baxis": {
             "endlinecolor": "#2a3f5f",
             "gridcolor": "white",
             "linecolor": "white",
             "minorgridcolor": "white",
             "startlinecolor": "#2a3f5f"
            },
            "type": "carpet"
           }
          ],
          "choropleth": [
           {
            "colorbar": {
             "outlinewidth": 0,
             "ticks": ""
            },
            "type": "choropleth"
           }
          ],
          "contour": [
           {
            "colorbar": {
             "outlinewidth": 0,
             "ticks": ""
            },
            "colorscale": [
             [
              0,
              "#0d0887"
             ],
             [
              0.1111111111111111,
              "#46039f"
             ],
             [
              0.2222222222222222,
              "#7201a8"
             ],
             [
              0.3333333333333333,
              "#9c179e"
             ],
             [
              0.4444444444444444,
              "#bd3786"
             ],
             [
              0.5555555555555556,
              "#d8576b"
             ],
             [
              0.6666666666666666,
              "#ed7953"
             ],
             [
              0.7777777777777778,
              "#fb9f3a"
             ],
             [
              0.8888888888888888,
              "#fdca26"
             ],
             [
              1,
              "#f0f921"
             ]
            ],
            "type": "contour"
           }
          ],
          "contourcarpet": [
           {
            "colorbar": {
             "outlinewidth": 0,
             "ticks": ""
            },
            "type": "contourcarpet"
           }
          ],
          "heatmap": [
           {
            "colorbar": {
             "outlinewidth": 0,
             "ticks": ""
            },
            "colorscale": [
             [
              0,
              "#0d0887"
             ],
             [
              0.1111111111111111,
              "#46039f"
             ],
             [
              0.2222222222222222,
              "#7201a8"
             ],
             [
              0.3333333333333333,
              "#9c179e"
             ],
             [
              0.4444444444444444,
              "#bd3786"
             ],
             [
              0.5555555555555556,
              "#d8576b"
             ],
             [
              0.6666666666666666,
              "#ed7953"
             ],
             [
              0.7777777777777778,
              "#fb9f3a"
             ],
             [
              0.8888888888888888,
              "#fdca26"
             ],
             [
              1,
              "#f0f921"
             ]
            ],
            "type": "heatmap"
           }
          ],
          "heatmapgl": [
           {
            "colorbar": {
             "outlinewidth": 0,
             "ticks": ""
            },
            "colorscale": [
             [
              0,
              "#0d0887"
             ],
             [
              0.1111111111111111,
              "#46039f"
             ],
             [
              0.2222222222222222,
              "#7201a8"
             ],
             [
              0.3333333333333333,
              "#9c179e"
             ],
             [
              0.4444444444444444,
              "#bd3786"
             ],
             [
              0.5555555555555556,
              "#d8576b"
             ],
             [
              0.6666666666666666,
              "#ed7953"
             ],
             [
              0.7777777777777778,
              "#fb9f3a"
             ],
             [
              0.8888888888888888,
              "#fdca26"
             ],
             [
              1,
              "#f0f921"
             ]
            ],
            "type": "heatmapgl"
           }
          ],
          "histogram": [
           {
            "marker": {
             "colorbar": {
              "outlinewidth": 0,
              "ticks": ""
             }
            },
            "type": "histogram"
           }
          ],
          "histogram2d": [
           {
            "colorbar": {
             "outlinewidth": 0,
             "ticks": ""
            },
            "colorscale": [
             [
              0,
              "#0d0887"
             ],
             [
              0.1111111111111111,
              "#46039f"
             ],
             [
              0.2222222222222222,
              "#7201a8"
             ],
             [
              0.3333333333333333,
              "#9c179e"
             ],
             [
              0.4444444444444444,
              "#bd3786"
             ],
             [
              0.5555555555555556,
              "#d8576b"
             ],
             [
              0.6666666666666666,
              "#ed7953"
             ],
             [
              0.7777777777777778,
              "#fb9f3a"
             ],
             [
              0.8888888888888888,
              "#fdca26"
             ],
             [
              1,
              "#f0f921"
             ]
            ],
            "type": "histogram2d"
           }
          ],
          "histogram2dcontour": [
           {
            "colorbar": {
             "outlinewidth": 0,
             "ticks": ""
            },
            "colorscale": [
             [
              0,
              "#0d0887"
             ],
             [
              0.1111111111111111,
              "#46039f"
             ],
             [
              0.2222222222222222,
              "#7201a8"
             ],
             [
              0.3333333333333333,
              "#9c179e"
             ],
             [
              0.4444444444444444,
              "#bd3786"
             ],
             [
              0.5555555555555556,
              "#d8576b"
             ],
             [
              0.6666666666666666,
              "#ed7953"
             ],
             [
              0.7777777777777778,
              "#fb9f3a"
             ],
             [
              0.8888888888888888,
              "#fdca26"
             ],
             [
              1,
              "#f0f921"
             ]
            ],
            "type": "histogram2dcontour"
           }
          ],
          "mesh3d": [
           {
            "colorbar": {
             "outlinewidth": 0,
             "ticks": ""
            },
            "type": "mesh3d"
           }
          ],
          "parcoords": [
           {
            "line": {
             "colorbar": {
              "outlinewidth": 0,
              "ticks": ""
             }
            },
            "type": "parcoords"
           }
          ],
          "pie": [
           {
            "automargin": true,
            "type": "pie"
           }
          ],
          "scatter": [
           {
            "marker": {
             "colorbar": {
              "outlinewidth": 0,
              "ticks": ""
             }
            },
            "type": "scatter"
           }
          ],
          "scatter3d": [
           {
            "line": {
             "colorbar": {
              "outlinewidth": 0,
              "ticks": ""
             }
            },
            "marker": {
             "colorbar": {
              "outlinewidth": 0,
              "ticks": ""
             }
            },
            "type": "scatter3d"
           }
          ],
          "scattercarpet": [
           {
            "marker": {
             "colorbar": {
              "outlinewidth": 0,
              "ticks": ""
             }
            },
            "type": "scattercarpet"
           }
          ],
          "scattergeo": [
           {
            "marker": {
             "colorbar": {
              "outlinewidth": 0,
              "ticks": ""
             }
            },
            "type": "scattergeo"
           }
          ],
          "scattergl": [
           {
            "marker": {
             "colorbar": {
              "outlinewidth": 0,
              "ticks": ""
             }
            },
            "type": "scattergl"
           }
          ],
          "scattermapbox": [
           {
            "marker": {
             "colorbar": {
              "outlinewidth": 0,
              "ticks": ""
             }
            },
            "type": "scattermapbox"
           }
          ],
          "scatterpolar": [
           {
            "marker": {
             "colorbar": {
              "outlinewidth": 0,
              "ticks": ""
             }
            },
            "type": "scatterpolar"
           }
          ],
          "scatterpolargl": [
           {
            "marker": {
             "colorbar": {
              "outlinewidth": 0,
              "ticks": ""
             }
            },
            "type": "scatterpolargl"
           }
          ],
          "scatterternary": [
           {
            "marker": {
             "colorbar": {
              "outlinewidth": 0,
              "ticks": ""
             }
            },
            "type": "scatterternary"
           }
          ],
          "surface": [
           {
            "colorbar": {
             "outlinewidth": 0,
             "ticks": ""
            },
            "colorscale": [
             [
              0,
              "#0d0887"
             ],
             [
              0.1111111111111111,
              "#46039f"
             ],
             [
              0.2222222222222222,
              "#7201a8"
             ],
             [
              0.3333333333333333,
              "#9c179e"
             ],
             [
              0.4444444444444444,
              "#bd3786"
             ],
             [
              0.5555555555555556,
              "#d8576b"
             ],
             [
              0.6666666666666666,
              "#ed7953"
             ],
             [
              0.7777777777777778,
              "#fb9f3a"
             ],
             [
              0.8888888888888888,
              "#fdca26"
             ],
             [
              1,
              "#f0f921"
             ]
            ],
            "type": "surface"
           }
          ],
          "table": [
           {
            "cells": {
             "fill": {
              "color": "#EBF0F8"
             },
             "line": {
              "color": "white"
             }
            },
            "header": {
             "fill": {
              "color": "#C8D4E3"
             },
             "line": {
              "color": "white"
             }
            },
            "type": "table"
           }
          ]
         },
         "layout": {
          "annotationdefaults": {
           "arrowcolor": "#2a3f5f",
           "arrowhead": 0,
           "arrowwidth": 1
          },
          "autotypenumbers": "strict",
          "coloraxis": {
           "colorbar": {
            "outlinewidth": 0,
            "ticks": ""
           }
          },
          "colorscale": {
           "diverging": [
            [
             0,
             "#8e0152"
            ],
            [
             0.1,
             "#c51b7d"
            ],
            [
             0.2,
             "#de77ae"
            ],
            [
             0.3,
             "#f1b6da"
            ],
            [
             0.4,
             "#fde0ef"
            ],
            [
             0.5,
             "#f7f7f7"
            ],
            [
             0.6,
             "#e6f5d0"
            ],
            [
             0.7,
             "#b8e186"
            ],
            [
             0.8,
             "#7fbc41"
            ],
            [
             0.9,
             "#4d9221"
            ],
            [
             1,
             "#276419"
            ]
           ],
           "sequential": [
            [
             0,
             "#0d0887"
            ],
            [
             0.1111111111111111,
             "#46039f"
            ],
            [
             0.2222222222222222,
             "#7201a8"
            ],
            [
             0.3333333333333333,
             "#9c179e"
            ],
            [
             0.4444444444444444,
             "#bd3786"
            ],
            [
             0.5555555555555556,
             "#d8576b"
            ],
            [
             0.6666666666666666,
             "#ed7953"
            ],
            [
             0.7777777777777778,
             "#fb9f3a"
            ],
            [
             0.8888888888888888,
             "#fdca26"
            ],
            [
             1,
             "#f0f921"
            ]
           ],
           "sequentialminus": [
            [
             0,
             "#0d0887"
            ],
            [
             0.1111111111111111,
             "#46039f"
            ],
            [
             0.2222222222222222,
             "#7201a8"
            ],
            [
             0.3333333333333333,
             "#9c179e"
            ],
            [
             0.4444444444444444,
             "#bd3786"
            ],
            [
             0.5555555555555556,
             "#d8576b"
            ],
            [
             0.6666666666666666,
             "#ed7953"
            ],
            [
             0.7777777777777778,
             "#fb9f3a"
            ],
            [
             0.8888888888888888,
             "#fdca26"
            ],
            [
             1,
             "#f0f921"
            ]
           ]
          },
          "colorway": [
           "#636efa",
           "#EF553B",
           "#00cc96",
           "#ab63fa",
           "#FFA15A",
           "#19d3f3",
           "#FF6692",
           "#B6E880",
           "#FF97FF",
           "#FECB52"
          ],
          "font": {
           "color": "#2a3f5f"
          },
          "geo": {
           "bgcolor": "white",
           "lakecolor": "white",
           "landcolor": "#E5ECF6",
           "showlakes": true,
           "showland": true,
           "subunitcolor": "white"
          },
          "hoverlabel": {
           "align": "left"
          },
          "hovermode": "closest",
          "mapbox": {
           "style": "light"
          },
          "paper_bgcolor": "white",
          "plot_bgcolor": "#E5ECF6",
          "polar": {
           "angularaxis": {
            "gridcolor": "white",
            "linecolor": "white",
            "ticks": ""
           },
           "bgcolor": "#E5ECF6",
           "radialaxis": {
            "gridcolor": "white",
            "linecolor": "white",
            "ticks": ""
           }
          },
          "scene": {
           "xaxis": {
            "backgroundcolor": "#E5ECF6",
            "gridcolor": "white",
            "gridwidth": 2,
            "linecolor": "white",
            "showbackground": true,
            "ticks": "",
            "zerolinecolor": "white"
           },
           "yaxis": {
            "backgroundcolor": "#E5ECF6",
            "gridcolor": "white",
            "gridwidth": 2,
            "linecolor": "white",
            "showbackground": true,
            "ticks": "",
            "zerolinecolor": "white"
           },
           "zaxis": {
            "backgroundcolor": "#E5ECF6",
            "gridcolor": "white",
            "gridwidth": 2,
            "linecolor": "white",
            "showbackground": true,
            "ticks": "",
            "zerolinecolor": "white"
           }
          },
          "shapedefaults": {
           "line": {
            "color": "#2a3f5f"
           }
          },
          "ternary": {
           "aaxis": {
            "gridcolor": "white",
            "linecolor": "white",
            "ticks": ""
           },
           "baxis": {
            "gridcolor": "white",
            "linecolor": "white",
            "ticks": ""
           },
           "bgcolor": "#E5ECF6",
           "caxis": {
            "gridcolor": "white",
            "linecolor": "white",
            "ticks": ""
           }
          },
          "title": {
           "x": 0.05
          },
          "xaxis": {
           "automargin": true,
           "gridcolor": "white",
           "linecolor": "white",
           "ticks": "",
           "title": {
            "standoff": 15
           },
           "zerolinecolor": "white",
           "zerolinewidth": 2
          },
          "yaxis": {
           "automargin": true,
           "gridcolor": "white",
           "linecolor": "white",
           "ticks": "",
           "title": {
            "standoff": 15
           },
           "zerolinecolor": "white",
           "zerolinewidth": 2
          }
         }
        },
        "width": 800,
        "xaxis": {
         "anchor": "y",
         "autorange": false,
         "domain": [
          0,
          1
         ],
         "range": [
          40.17964071856287,
          172.17964071856287
         ],
         "title": {
          "text": "Centroid_location_1"
         },
         "type": "linear"
        },
        "yaxis": {
         "anchor": "x",
         "autorange": false,
         "domain": [
          0,
          1
         ],
         "range": [
          211.93636363636364,
          325.93636363636364
         ],
         "title": {
          "text": "Centroid_location_2"
         },
         "type": "linear"
        }
       }
      },
      "image/png": "[encoded data removed]",
      "text/html": [
       "<div>                            <div id=\"ba788164-d634-4d83-81d3-f5a94e733420\" class=\"plotly-graph-div\" style=\"height:800px; width:800px;\"></div>            <script type=\"text/javascript\">                require([\"plotly\"], function(Plotly) {                    window.PLOTLYENV=window.PLOTLYENV || {};                                    if (document.getElementById(\"ba788164-d634-4d83-81d3-f5a94e733420\")) {                    Plotly.newPlot(                        \"ba788164-d634-4d83-81d3-f5a94e733420\",                        [{\"hovertemplate\": \"Genotype=Rasgrf2dCre<br>Centroid_id_name=SSp-bfd2/3<br>Centroid_location_1=%{x}<br>Centroid_location_2=%{y}<extra></extra>\", \"legendgroup\": \"Rasgrf2dCre, SSp-bfd2/3\", \"marker\": {\"color\": \"#636efa\", \"size\": 5, \"symbol\": \"circle\"}, \"mode\": \"markers\", \"name\": \"Rasgrf2dCre, SSp-bfd2/3\", \"orientation\": \"v\", \"showlegend\": true, \"type\": \"scatter\", \"x\": [97, 76, 76], \"xaxis\": \"x\", \"y\": [281, 284, 286], \"yaxis\": \"y\"}, {\"hovertemplate\": \"Genotype=Rasgrf2dCre<br>Centroid_id_name=SSp-bfd1<br>Centroid_location_1=%{x}<br>Centroid_location_2=%{y}<extra></extra>\", \"legendgroup\": \"Rasgrf2dCre, SSp-bfd1\", \"marker\": {\"color\": \"#636efa\", \"size\": 5, \"symbol\": \"x\"}, \"mode\": \"markers\", \"name\": \"Rasgrf2dCre, SSp-bfd1\", \"orientation\": \"v\", \"showlegend\": true, \"type\": \"scatter\", \"x\": [79], \"xaxis\": \"x\", \"y\": [263], \"yaxis\": \"y\"}, {\"hovertemplate\": \"Genotype=Rbp4Cre<br>Centroid_id_name=AUDd5<br>Centroid_location_1=%{x}<br>Centroid_location_2=%{y}<extra></extra>\", \"legendgroup\": \"Rbp4Cre, AUDd5\", \"marker\": {\"color\": \"#EF553B\", \"size\": 5, \"symbol\": \"diamond\"}, \"mode\": \"markers\", \"name\": \"Rbp4Cre, AUDd5\", \"orientation\": \"v\", \"showlegend\": true, \"type\": \"scatter\", \"x\": [62], \"xaxis\": \"x\", \"y\": [287], \"yaxis\": \"y\"}, {\"hovertemplate\": \"Genotype=Rbp4Cre<br>Centroid_id_name=SSp-bfd5<br>Centroid_location_1=%{x}<br>Centroid_location_2=%{y}<extra></extra>\", \"legendgroup\": \"Rbp4Cre, SSp-bfd5\", \"marker\": {\"color\": \"#EF553B\", \"size\": 5, \"symbol\": \"circle\"}, \"mode\": \"markers\", \"name\": \"Rbp4Cre, SSp-bfd5\", \"orientation\": \"v\", \"showlegend\": true, \"type\": \"scatter\", \"x\": [106, 102, 112], \"xaxis\": \"x\", \"y\": [276, 279, 295], \"yaxis\": \"y\"}, {\"hovertemplate\": \"Genotype=Rbp4Cre<br>Centroid_id_name=SSs5<br>Centroid_location_1=%{x}<br>Centroid_location_2=%{y}<extra></extra>\", \"legendgroup\": \"Rbp4Cre, SSs5\", \"marker\": {\"color\": \"#EF553B\", \"size\": 5, \"symbol\": \"diamond\"}, \"mode\": \"markers\", \"name\": \"Rbp4Cre, SSs5\", \"orientation\": \"v\", \"showlegend\": true, \"type\": \"scatter\", \"x\": [76], \"xaxis\": \"x\", \"y\": [290], \"yaxis\": \"y\"}, {\"hovertemplate\": \"Genotype=Rbp4Cre<br>Centroid_id_name=SSp-tr5<br>Centroid_location_1=%{x}<br>Centroid_location_2=%{y}<extra></extra>\", \"legendgroup\": \"Rbp4Cre, SSp-tr5\", \"marker\": {\"color\": \"#EF553B\", \"size\": 5, \"symbol\": \"square\"}, \"mode\": \"markers\", \"name\": \"Rbp4Cre, SSp-tr5\", \"orientation\": \"v\", \"showlegend\": true, \"type\": \"scatter\", \"x\": [133], \"xaxis\": \"x\", \"y\": [272], \"yaxis\": \"y\"}, {\"hovertemplate\": \"Genotype=Ntsr1Cre<br>Centroid_id_name=SSs6a<br>Centroid_location_1=%{x}<br>Centroid_location_2=%{y}<extra></extra>\", \"legendgroup\": \"Ntsr1Cre, SSs6a\", \"marker\": {\"color\": \"#00cc96\", \"size\": 5, \"symbol\": \"square\"}, \"mode\": \"markers\", \"name\": \"Ntsr1Cre, SSs6a\", \"orientation\": \"v\", \"showlegend\": true, \"type\": \"scatter\", \"x\": [77], \"xaxis\": \"x\", \"y\": [284], \"yaxis\": \"y\"}, {\"hovertemplate\": \"Genotype=Ntsr1Cre<br>Centroid_id_name=SSp-bfd6a<br>Centroid_location_1=%{x}<br>Centroid_location_2=%{y}<extra></extra>\", \"legendgroup\": \"Ntsr1Cre, SSp-bfd6a\", \"marker\": {\"color\": \"#00cc96\", \"size\": 5, \"symbol\": \"cross\"}, \"mode\": \"markers\", \"name\": \"Ntsr1Cre, SSp-bfd6a\", \"orientation\": \"v\", \"showlegend\": true, \"type\": \"scatter\", \"x\": [102, 102], \"xaxis\": \"x\", \"y\": [283, 269], \"yaxis\": \"y\"}, {\"hovertemplate\": \"Genotype=Ntsr1Cre<br>Centroid_id_name=or<br>Centroid_location_1=%{x}<br>Centroid_location_2=%{y}<extra></extra>\", \"legendgroup\": \"Ntsr1Cre, or\", \"marker\": {\"color\": \"#00cc96\", \"size\": 5, \"symbol\": \"x\"}, \"mode\": \"markers\", \"name\": \"Ntsr1Cre, or\", \"orientation\": \"v\", \"showlegend\": true, \"type\": \"scatter\", \"x\": [106], \"xaxis\": \"x\", \"y\": [314], \"yaxis\": \"y\"}, {\"hovertemplate\": \"Genotype=Sim1Cre<br>Centroid_id_name=SSp-bfd5<br>Centroid_location_1=%{x}<br>Centroid_location_2=%{y}<extra></extra>\", \"legendgroup\": \"Sim1Cre, SSp-bfd5\", \"marker\": {\"color\": \"#ab63fa\", \"size\": 5, \"symbol\": \"circle\"}, \"mode\": \"markers\", \"name\": \"Sim1Cre, SSp-bfd5\", \"orientation\": \"v\", \"showlegend\": true, \"type\": \"scatter\", \"x\": [121, 109, 118], \"xaxis\": \"x\", \"y\": [276, 270, 273], \"yaxis\": \"y\"}, {\"hovertemplate\": \"Genotype=Sim1Cre<br>Centroid_id_name=SSs5<br>Centroid_location_1=%{x}<br>Centroid_location_2=%{y}<extra></extra>\", \"legendgroup\": \"Sim1Cre, SSs5\", \"marker\": {\"color\": \"#ab63fa\", \"size\": 5, \"symbol\": \"diamond\"}, \"mode\": \"markers\", \"name\": \"Sim1Cre, SSs5\", \"orientation\": \"v\", \"showlegend\": true, \"type\": \"scatter\", \"x\": [72], \"xaxis\": \"x\", \"y\": [283], \"yaxis\": \"y\"}, {\"hovertemplate\": \"Genotype=Sim1Cre<br>Centroid_id_name=SSp-tr5<br>Centroid_location_1=%{x}<br>Centroid_location_2=%{y}<extra></extra>\", \"legendgroup\": \"Sim1Cre, SSp-tr5\", \"marker\": {\"color\": \"#ab63fa\", \"size\": 5, \"symbol\": \"square\"}, \"mode\": \"markers\", \"name\": \"Sim1Cre, SSp-tr5\", \"orientation\": \"v\", \"showlegend\": true, \"type\": \"scatter\", \"x\": [137], \"xaxis\": \"x\", \"y\": [274], \"yaxis\": \"y\"}, {\"hovertemplate\": \"Genotype=Tlx3Cre<br>Centroid_id_name=SSp-bfd5<br>Centroid_location_1=%{x}<br>Centroid_location_2=%{y}<extra></extra>\", \"legendgroup\": \"Tlx3Cre, SSp-bfd5\", \"marker\": {\"color\": \"#FFA15A\", \"size\": 5, \"symbol\": \"circle\"}, \"mode\": \"markers\", \"name\": \"Tlx3Cre, SSp-bfd5\", \"orientation\": \"v\", \"showlegend\": true, \"type\": \"scatter\", \"x\": [122, 98], \"xaxis\": \"x\", \"y\": [287, 272], \"yaxis\": \"y\"}, {\"hovertemplate\": \"Genotype=Tlx3Cre<br>Centroid_id_name=SSs5<br>Centroid_location_1=%{x}<br>Centroid_location_2=%{y}<extra></extra>\", \"legendgroup\": \"Tlx3Cre, SSs5\", \"marker\": {\"color\": \"#FFA15A\", \"size\": 5, \"symbol\": \"diamond\"}, \"mode\": \"markers\", \"name\": \"Tlx3Cre, SSs5\", \"orientation\": \"v\", \"showlegend\": true, \"type\": \"scatter\", \"x\": [70, 71], \"xaxis\": \"x\", \"y\": [282, 277], \"yaxis\": \"y\"}],                        {\"height\": 800, \"legend\": {\"title\": {\"text\": \"Genotype, Centroid_id_name\"}, \"tracegroupgap\": 0}, \"margin\": {\"t\": 60}, \"template\": {\"data\": {\"bar\": [{\"error_x\": {\"color\": \"#2a3f5f\"}, \"error_y\": {\"color\": \"#2a3f5f\"}, \"marker\": {\"line\": {\"color\": \"#E5ECF6\", \"width\": 0.5}}, \"type\": \"bar\"}], \"barpolar\": [{\"marker\": {\"line\": {\"color\": \"#E5ECF6\", \"width\": 0.5}}, \"type\": \"barpolar\"}], \"carpet\": [{\"aaxis\": {\"endlinecolor\": \"#2a3f5f\", \"gridcolor\": \"white\", \"linecolor\": \"white\", \"minorgridcolor\": \"white\", \"startlinecolor\": \"#2a3f5f\"}, \"baxis\": {\"endlinecolor\": \"#2a3f5f\", \"gridcolor\": \"white\", \"linecolor\": \"white\", \"minorgridcolor\": \"white\", \"startlinecolor\": \"#2a3f5f\"}, \"type\": \"carpet\"}], \"choropleth\": [{\"colorbar\": {\"outlinewidth\": 0, \"ticks\": \"\"}, \"type\": \"choropleth\"}], \"contour\": [{\"colorbar\": {\"outlinewidth\": 0, \"ticks\": \"\"}, \"colorscale\": [[0.0, \"#0d0887\"], [0.1111111111111111, \"#46039f\"], [0.2222222222222222, \"#7201a8\"], [0.3333333333333333, \"#9c179e\"], [0.4444444444444444, \"#bd3786\"], [0.5555555555555556, \"#d8576b\"], [0.6666666666666666, \"#ed7953\"], [0.7777777777777778, \"#fb9f3a\"], [0.8888888888888888, \"#fdca26\"], [1.0, \"#f0f921\"]], \"type\": \"contour\"}], \"contourcarpet\": [{\"colorbar\": {\"outlinewidth\": 0, \"ticks\": \"\"}, \"type\": \"contourcarpet\"}], \"heatmap\": [{\"colorbar\": {\"outlinewidth\": 0, \"ticks\": \"\"}, \"colorscale\": [[0.0, \"#0d0887\"], [0.1111111111111111, \"#46039f\"], [0.2222222222222222, \"#7201a8\"], [0.3333333333333333, \"#9c179e\"], [0.4444444444444444, \"#bd3786\"], [0.5555555555555556, \"#d8576b\"], [0.6666666666666666, \"#ed7953\"], [0.7777777777777778, \"#fb9f3a\"], [0.8888888888888888, \"#fdca26\"], [1.0, \"#f0f921\"]], \"type\": \"heatmap\"}], \"heatmapgl\": [{\"colorbar\": {\"outlinewidth\": 0, \"ticks\": \"\"}, \"colorscale\": [[0.0, \"#0d0887\"], [0.1111111111111111, \"#46039f\"], [0.2222222222222222, \"#7201a8\"], [0.3333333333333333, \"#9c179e\"], [0.4444444444444444, \"#bd3786\"], [0.5555555555555556, \"#d8576b\"], [0.6666666666666666, \"#ed7953\"], [0.7777777777777778, \"#fb9f3a\"], [0.8888888888888888, \"#fdca26\"], [1.0, \"#f0f921\"]], \"type\": \"heatmapgl\"}], \"histogram\": [{\"marker\": {\"colorbar\": {\"outlinewidth\": 0, \"ticks\": \"\"}}, \"type\": \"histogram\"}], \"histogram2d\": [{\"colorbar\": {\"outlinewidth\": 0, \"ticks\": \"\"}, \"colorscale\": [[0.0, \"#0d0887\"], [0.1111111111111111, \"#46039f\"], [0.2222222222222222, \"#7201a8\"], [0.3333333333333333, \"#9c179e\"], [0.4444444444444444, \"#bd3786\"], [0.5555555555555556, \"#d8576b\"], [0.6666666666666666, \"#ed7953\"], [0.7777777777777778, \"#fb9f3a\"], [0.8888888888888888, \"#fdca26\"], [1.0, \"#f0f921\"]], \"type\": \"histogram2d\"}], \"histogram2dcontour\": [{\"colorbar\": {\"outlinewidth\": 0, \"ticks\": \"\"}, \"colorscale\": [[0.0, \"#0d0887\"], [0.1111111111111111, \"#46039f\"], [0.2222222222222222, \"#7201a8\"], [0.3333333333333333, \"#9c179e\"], [0.4444444444444444, \"#bd3786\"], [0.5555555555555556, \"#d8576b\"], [0.6666666666666666, \"#ed7953\"], [0.7777777777777778, \"#fb9f3a\"], [0.8888888888888888, \"#fdca26\"], [1.0, \"#f0f921\"]], \"type\": \"histogram2dcontour\"}], \"mesh3d\": [{\"colorbar\": {\"outlinewidth\": 0, \"ticks\": \"\"}, \"type\": \"mesh3d\"}], \"parcoords\": [{\"line\": {\"colorbar\": {\"outlinewidth\": 0, \"ticks\": \"\"}}, \"type\": \"parcoords\"}], \"pie\": [{\"automargin\": true, \"type\": \"pie\"}], \"scatter\": [{\"marker\": {\"colorbar\": {\"outlinewidth\": 0, \"ticks\": \"\"}}, \"type\": \"scatter\"}], \"scatter3d\": [{\"line\": {\"colorbar\": {\"outlinewidth\": 0, \"ticks\": \"\"}}, \"marker\": {\"colorbar\": {\"outlinewidth\": 0, \"ticks\": \"\"}}, \"type\": \"scatter3d\"}], \"scattercarpet\": [{\"marker\": {\"colorbar\": {\"outlinewidth\": 0, \"ticks\": \"\"}}, \"type\": \"scattercarpet\"}], \"scattergeo\": [{\"marker\": {\"colorbar\": {\"outlinewidth\": 0, \"ticks\": \"\"}}, \"type\": \"scattergeo\"}], \"scattergl\": [{\"marker\": {\"colorbar\": {\"outlinewidth\": 0, \"ticks\": \"\"}}, \"type\": \"scattergl\"}], \"scattermapbox\": [{\"marker\": {\"colorbar\": {\"outlinewidth\": 0, \"ticks\": \"\"}}, \"type\": \"scattermapbox\"}], \"scatterpolar\": [{\"marker\": {\"colorbar\": {\"outlinewidth\": 0, \"ticks\": \"\"}}, \"type\": \"scatterpolar\"}], \"scatterpolargl\": [{\"marker\": {\"colorbar\": {\"outlinewidth\": 0, \"ticks\": \"\"}}, \"type\": \"scatterpolargl\"}], \"scatterternary\": [{\"marker\": {\"colorbar\": {\"outlinewidth\": 0, \"ticks\": \"\"}}, \"type\": \"scatterternary\"}], \"surface\": [{\"colorbar\": {\"outlinewidth\": 0, \"ticks\": \"\"}, \"colorscale\": [[0.0, \"#0d0887\"], [0.1111111111111111, \"#46039f\"], [0.2222222222222222, \"#7201a8\"], [0.3333333333333333, \"#9c179e\"], [0.4444444444444444, \"#bd3786\"], [0.5555555555555556, \"#d8576b\"], [0.6666666666666666, \"#ed7953\"], [0.7777777777777778, \"#fb9f3a\"], [0.8888888888888888, \"#fdca26\"], [1.0, \"#f0f921\"]], \"type\": \"surface\"}], \"table\": [{\"cells\": {\"fill\": {\"color\": \"#EBF0F8\"}, \"line\": {\"color\": \"white\"}}, \"header\": {\"fill\": {\"color\": \"#C8D4E3\"}, \"line\": {\"color\": \"white\"}}, \"type\": \"table\"}]}, \"layout\": {\"annotationdefaults\": {\"arrowcolor\": \"#2a3f5f\", \"arrowhead\": 0, \"arrowwidth\": 1}, \"autotypenumbers\": \"strict\", \"coloraxis\": {\"colorbar\": {\"outlinewidth\": 0, \"ticks\": \"\"}}, \"colorscale\": {\"diverging\": [[0, \"#8e0152\"], [0.1, \"#c51b7d\"], [0.2, \"#de77ae\"], [0.3, \"#f1b6da\"], [0.4, \"#fde0ef\"], [0.5, \"#f7f7f7\"], [0.6, \"#e6f5d0\"], [0.7, \"#b8e186\"], [0.8, \"#7fbc41\"], [0.9, \"#4d9221\"], [1, \"#276419\"]], \"sequential\": [[0.0, \"#0d0887\"], [0.1111111111111111, \"#46039f\"], [0.2222222222222222, \"#7201a8\"], [0.3333333333333333, \"#9c179e\"], [0.4444444444444444, \"#bd3786\"], [0.5555555555555556, \"#d8576b\"], [0.6666666666666666, \"#ed7953\"], [0.7777777777777778, \"#fb9f3a\"], [0.8888888888888888, \"#fdca26\"], [1.0, \"#f0f921\"]], \"sequentialminus\": [[0.0, \"#0d0887\"], [0.1111111111111111, \"#46039f\"], [0.2222222222222222, \"#7201a8\"], [0.3333333333333333, \"#9c179e\"], [0.4444444444444444, \"#bd3786\"], [0.5555555555555556, \"#d8576b\"], [0.6666666666666666, \"#ed7953\"], [0.7777777777777778, \"#fb9f3a\"], [0.8888888888888888, \"#fdca26\"], [1.0, \"#f0f921\"]]}, \"colorway\": [\"#636efa\", \"#EF553B\", \"#00cc96\", \"#ab63fa\", \"#FFA15A\", \"#19d3f3\", \"#FF6692\", \"#B6E880\", \"#FF97FF\", \"#FECB52\"], \"font\": {\"color\": \"#2a3f5f\"}, \"geo\": {\"bgcolor\": \"white\", \"lakecolor\": \"white\", \"landcolor\": \"#E5ECF6\", \"showlakes\": true, \"showland\": true, \"subunitcolor\": \"white\"}, \"hoverlabel\": {\"align\": \"left\"}, \"hovermode\": \"closest\", \"mapbox\": {\"style\": \"light\"}, \"paper_bgcolor\": \"white\", \"plot_bgcolor\": \"#E5ECF6\", \"polar\": {\"angularaxis\": {\"gridcolor\": \"white\", \"linecolor\": \"white\", \"ticks\": \"\"}, \"bgcolor\": \"#E5ECF6\", \"radialaxis\": {\"gridcolor\": \"white\", \"linecolor\": \"white\", \"ticks\": \"\"}}, \"scene\": {\"xaxis\": {\"backgroundcolor\": \"#E5ECF6\", \"gridcolor\": \"white\", \"gridwidth\": 2, \"linecolor\": \"white\", \"showbackground\": true, \"ticks\": \"\", \"zerolinecolor\": \"white\"}, \"yaxis\": {\"backgroundcolor\": \"#E5ECF6\", \"gridcolor\": \"white\", \"gridwidth\": 2, \"linecolor\": \"white\", \"showbackground\": true, \"ticks\": \"\", \"zerolinecolor\": \"white\"}, \"zaxis\": {\"backgroundcolor\": \"#E5ECF6\", \"gridcolor\": \"white\", \"gridwidth\": 2, \"linecolor\": \"white\", \"showbackground\": true, \"ticks\": \"\", \"zerolinecolor\": \"white\"}}, \"shapedefaults\": {\"line\": {\"color\": \"#2a3f5f\"}}, \"ternary\": {\"aaxis\": {\"gridcolor\": \"white\", \"linecolor\": \"white\", \"ticks\": \"\"}, \"baxis\": {\"gridcolor\": \"white\", \"linecolor\": \"white\", \"ticks\": \"\"}, \"bgcolor\": \"#E5ECF6\", \"caxis\": {\"gridcolor\": \"white\", \"linecolor\": \"white\", \"ticks\": \"\"}}, \"title\": {\"x\": 0.05}, \"xaxis\": {\"automargin\": true, \"gridcolor\": \"white\", \"linecolor\": \"white\", \"ticks\": \"\", \"title\": {\"standoff\": 15}, \"zerolinecolor\": \"white\", \"zerolinewidth\": 2}, \"yaxis\": {\"automargin\": true, \"gridcolor\": \"white\", \"linecolor\": \"white\", \"ticks\": \"\", \"title\": {\"standoff\": 15}, \"zerolinecolor\": \"white\", \"zerolinewidth\": 2}}}, \"width\": 800, \"xaxis\": {\"anchor\": \"y\", \"domain\": [0.0, 1.0], \"range\": [0, 528], \"title\": {\"text\": \"Centroid_location_1\"}}, \"yaxis\": {\"anchor\": \"x\", \"domain\": [0.0, 1.0], \"range\": [0, 456], \"title\": {\"text\": \"Centroid_location_2\"}}},                        {\"responsive\": true}                    ).then(function(){\n",
       "                            \n",
       "var gd = document.getElementById('ba788164-d634-4d83-81d3-f5a94e733420');\n",
       "var x = new MutationObserver(function (mutations, observer) {{\n",
       "        var display = window.getComputedStyle(gd).display;\n",
       "        if (!display || display === 'none') {{\n",
       "            console.log([gd, 'removed!']);\n",
       "            Plotly.purge(gd);\n",
       "            observer.disconnect();\n",
       "        }}\n",
       "}});\n",
       "\n",
       "// Listen for the removal of the full notebook cells\n",
       "var notebookContainer = gd.closest('#notebook-container');\n",
       "if (notebookContainer) {{\n",
       "    x.observe(notebookContainer, {childList: true});\n",
       "}}\n",
       "\n",
       "// Listen for the clearing of the current output cell\n",
       "var outputEl = gd.closest('.output');\n",
       "if (outputEl) {{\n",
       "    x.observe(outputEl, {childList: true});\n",
       "}}\n",
       "\n",
       "                        })                };                });            </script>        </div>"
      ]
     },
     "metadata": {},
     "output_type": "display_data"
    }
   ],
   "source": [
    "fig = px.scatter(data, x='Centroid_location_1', y='Centroid_location_2', color='Genotype', symbol='Centroid_id_name', \n",
    "                 width=800, height=800)\n",
    "fig.update_traces(marker=dict(size=5))\n",
    "\n",
    "fig.update_xaxes(range=[0, 528])\n",
    "fig.update_yaxes(range=[0, 456])\n",
    "#fig.update_yaxes(range=[0, 456], autorange=\"reversed\")\n",
    "# autorange reversed makes top left corner 0,0 but does not work with custom range...\n",
    "fig.show()\n",
    "\n",
    "fig.write_html(\"injection_centroid_horizontal.html\")\n",
    "# horizontal view but fliped (in an image, top is 0 but not bottom like in this graph)"
   ]
  },
  {
   "cell_type": "code",
   "execution_count": 80,
   "metadata": {},
   "outputs": [],
   "source": [
    "def plot_pie(data, x):\n",
    "    '''create a pie chart Where x is a single numeric value representing the sample number'''\n",
    "    \n",
    "    \n",
    "    test=data['Voxel_id'][x]\n",
    "    testdict=ast.literal_eval(test)[0]\n",
    "    data_name=data['Data_name'][x]\n",
    "    \n",
    "    data_specific=pd.DataFrame(data={'id': [], 'count': [], 'id_name': []})\n",
    "    id_name= [na.give_me_name(i) for i in testdict.keys()]\n",
    "    \n",
    "    data_specific['id']= testdict.keys()\n",
    "    data_specific['count']= testdict.values()\n",
    "    data_specific['id_name']= id_name \n",
    "    \n",
    "    fig = px.pie(data_specific, values='count', names='id',\n",
    "             title=f'Injection site voxel distribution for {data_name}',\n",
    "             hover_data=['id_name'])\n",
    "    \n",
    "    #fig = px.pie( values=testdict.values(), names=testdict.keys(), title=data['Data_name'][x], width=400, height=400)\n",
    "\n",
    "    fig.show()\n"
   ]
  },
  {
   "cell_type": "code",
   "execution_count": null,
   "metadata": {},
   "outputs": [],
   "source": [
    "for i in range(0, len(data)):\n",
    "    plot_pie(data,i)\n",
    "\n",
    "# DO not run this on plotly!! will make thing slow because too many graphs and their interactive part"
   ]
  },
  {
   "cell_type": "code",
   "execution_count": 88,
   "metadata": {},
   "outputs": [
    {
     "data": {
      "application/vnd.plotly.v1+json": {
       "config": {
        "plotlyServerURL": "https://plot.ly"
       },
       "data": [
        {
         "customdata": [
          [
           "VISp6b"
          ],
          [
           "fp"
          ],
          [
           "ccs"
          ],
          [
           "SSp-bfd6a"
          ],
          [
           "SSp-bfd6b"
          ],
          [
           "VISrl6a"
          ],
          [
           "VISrl6b"
          ],
          [
           "scwm"
          ],
          [
           "or"
          ]
         ],
         "domain": {
          "x": [
           0,
           1
          ],
          "y": [
           0,
           1
          ]
         },
         "hovertemplate": "id=%{label}<br>count=%{value}<br>id_name=%{customdata[0]}<extra></extra>",
         "labels": [
          305,
          971,
          986,
          1038,
          1062,
          312782620,
          312782624,
          484682512,
          484682520
         ],
         "legendgroup": "",
         "name": "",
         "showlegend": true,
         "type": "pie",
         "values": [
          2,
          889,
          13,
          33,
          151,
          144,
          327,
          2,
          1553
         ]
        }
       ],
       "layout": {
        "autosize": true,
        "hovermode": "closest",
        "legend": {
         "tracegroupgap": 0
        },
        "template": {
         "data": {
          "bar": [
           {
            "error_x": {
             "color": "#2a3f5f"
            },
            "error_y": {
             "color": "#2a3f5f"
            },
            "marker": {
             "line": {
              "color": "#E5ECF6",
              "width": 0.5
             }
            },
            "type": "bar"
           }
          ],
          "barpolar": [
           {
            "marker": {
             "line": {
              "color": "#E5ECF6",
              "width": 0.5
             }
            },
            "type": "barpolar"
           }
          ],
          "carpet": [
           {
            "aaxis": {
             "endlinecolor": "#2a3f5f",
             "gridcolor": "white",
             "linecolor": "white",
             "minorgridcolor": "white",
             "startlinecolor": "#2a3f5f"
            },
            "baxis": {
             "endlinecolor": "#2a3f5f",
             "gridcolor": "white",
             "linecolor": "white",
             "minorgridcolor": "white",
             "startlinecolor": "#2a3f5f"
            },
            "type": "carpet"
           }
          ],
          "choropleth": [
           {
            "colorbar": {
             "outlinewidth": 0,
             "ticks": ""
            },
            "type": "choropleth"
           }
          ],
          "contour": [
           {
            "colorbar": {
             "outlinewidth": 0,
             "ticks": ""
            },
            "colorscale": [
             [
              0,
              "#0d0887"
             ],
             [
              0.1111111111111111,
              "#46039f"
             ],
             [
              0.2222222222222222,
              "#7201a8"
             ],
             [
              0.3333333333333333,
              "#9c179e"
             ],
             [
              0.4444444444444444,
              "#bd3786"
             ],
             [
              0.5555555555555556,
              "#d8576b"
             ],
             [
              0.6666666666666666,
              "#ed7953"
             ],
             [
              0.7777777777777778,
              "#fb9f3a"
             ],
             [
              0.8888888888888888,
              "#fdca26"
             ],
             [
              1,
              "#f0f921"
             ]
            ],
            "type": "contour"
           }
          ],
          "contourcarpet": [
           {
            "colorbar": {
             "outlinewidth": 0,
             "ticks": ""
            },
            "type": "contourcarpet"
           }
          ],
          "heatmap": [
           {
            "colorbar": {
             "outlinewidth": 0,
             "ticks": ""
            },
            "colorscale": [
             [
              0,
              "#0d0887"
             ],
             [
              0.1111111111111111,
              "#46039f"
             ],
             [
              0.2222222222222222,
              "#7201a8"
             ],
             [
              0.3333333333333333,
              "#9c179e"
             ],
             [
              0.4444444444444444,
              "#bd3786"
             ],
             [
              0.5555555555555556,
              "#d8576b"
             ],
             [
              0.6666666666666666,
              "#ed7953"
             ],
             [
              0.7777777777777778,
              "#fb9f3a"
             ],
             [
              0.8888888888888888,
              "#fdca26"
             ],
             [
              1,
              "#f0f921"
             ]
            ],
            "type": "heatmap"
           }
          ],
          "heatmapgl": [
           {
            "colorbar": {
             "outlinewidth": 0,
             "ticks": ""
            },
            "colorscale": [
             [
              0,
              "#0d0887"
             ],
             [
              0.1111111111111111,
              "#46039f"
             ],
             [
              0.2222222222222222,
              "#7201a8"
             ],
             [
              0.3333333333333333,
              "#9c179e"
             ],
             [
              0.4444444444444444,
              "#bd3786"
             ],
             [
              0.5555555555555556,
              "#d8576b"
             ],
             [
              0.6666666666666666,
              "#ed7953"
             ],
             [
              0.7777777777777778,
              "#fb9f3a"
             ],
             [
              0.8888888888888888,
              "#fdca26"
             ],
             [
              1,
              "#f0f921"
             ]
            ],
            "type": "heatmapgl"
           }
          ],
          "histogram": [
           {
            "marker": {
             "colorbar": {
              "outlinewidth": 0,
              "ticks": ""
             }
            },
            "type": "histogram"
           }
          ],
          "histogram2d": [
           {
            "colorbar": {
             "outlinewidth": 0,
             "ticks": ""
            },
            "colorscale": [
             [
              0,
              "#0d0887"
             ],
             [
              0.1111111111111111,
              "#46039f"
             ],
             [
              0.2222222222222222,
              "#7201a8"
             ],
             [
              0.3333333333333333,
              "#9c179e"
             ],
             [
              0.4444444444444444,
              "#bd3786"
             ],
             [
              0.5555555555555556,
              "#d8576b"
             ],
             [
              0.6666666666666666,
              "#ed7953"
             ],
             [
              0.7777777777777778,
              "#fb9f3a"
             ],
             [
              0.8888888888888888,
              "#fdca26"
             ],
             [
              1,
              "#f0f921"
             ]
            ],
            "type": "histogram2d"
           }
          ],
          "histogram2dcontour": [
           {
            "colorbar": {
             "outlinewidth": 0,
             "ticks": ""
            },
            "colorscale": [
             [
              0,
              "#0d0887"
             ],
             [
              0.1111111111111111,
              "#46039f"
             ],
             [
              0.2222222222222222,
              "#7201a8"
             ],
             [
              0.3333333333333333,
              "#9c179e"
             ],
             [
              0.4444444444444444,
              "#bd3786"
             ],
             [
              0.5555555555555556,
              "#d8576b"
             ],
             [
              0.6666666666666666,
              "#ed7953"
             ],
             [
              0.7777777777777778,
              "#fb9f3a"
             ],
             [
              0.8888888888888888,
              "#fdca26"
             ],
             [
              1,
              "#f0f921"
             ]
            ],
            "type": "histogram2dcontour"
           }
          ],
          "mesh3d": [
           {
            "colorbar": {
             "outlinewidth": 0,
             "ticks": ""
            },
            "type": "mesh3d"
           }
          ],
          "parcoords": [
           {
            "line": {
             "colorbar": {
              "outlinewidth": 0,
              "ticks": ""
             }
            },
            "type": "parcoords"
           }
          ],
          "pie": [
           {
            "automargin": true,
            "type": "pie"
           }
          ],
          "scatter": [
           {
            "marker": {
             "colorbar": {
              "outlinewidth": 0,
              "ticks": ""
             }
            },
            "type": "scatter"
           }
          ],
          "scatter3d": [
           {
            "line": {
             "colorbar": {
              "outlinewidth": 0,
              "ticks": ""
             }
            },
            "marker": {
             "colorbar": {
              "outlinewidth": 0,
              "ticks": ""
             }
            },
            "type": "scatter3d"
           }
          ],
          "scattercarpet": [
           {
            "marker": {
             "colorbar": {
              "outlinewidth": 0,
              "ticks": ""
             }
            },
            "type": "scattercarpet"
           }
          ],
          "scattergeo": [
           {
            "marker": {
             "colorbar": {
              "outlinewidth": 0,
              "ticks": ""
             }
            },
            "type": "scattergeo"
           }
          ],
          "scattergl": [
           {
            "marker": {
             "colorbar": {
              "outlinewidth": 0,
              "ticks": ""
             }
            },
            "type": "scattergl"
           }
          ],
          "scattermapbox": [
           {
            "marker": {
             "colorbar": {
              "outlinewidth": 0,
              "ticks": ""
             }
            },
            "type": "scattermapbox"
           }
          ],
          "scatterpolar": [
           {
            "marker": {
             "colorbar": {
              "outlinewidth": 0,
              "ticks": ""
             }
            },
            "type": "scatterpolar"
           }
          ],
          "scatterpolargl": [
           {
            "marker": {
             "colorbar": {
              "outlinewidth": 0,
              "ticks": ""
             }
            },
            "type": "scatterpolargl"
           }
          ],
          "scatterternary": [
           {
            "marker": {
             "colorbar": {
              "outlinewidth": 0,
              "ticks": ""
             }
            },
            "type": "scatterternary"
           }
          ],
          "surface": [
           {
            "colorbar": {
             "outlinewidth": 0,
             "ticks": ""
            },
            "colorscale": [
             [
              0,
              "#0d0887"
             ],
             [
              0.1111111111111111,
              "#46039f"
             ],
             [
              0.2222222222222222,
              "#7201a8"
             ],
             [
              0.3333333333333333,
              "#9c179e"
             ],
             [
              0.4444444444444444,
              "#bd3786"
             ],
             [
              0.5555555555555556,
              "#d8576b"
             ],
             [
              0.6666666666666666,
              "#ed7953"
             ],
             [
              0.7777777777777778,
              "#fb9f3a"
             ],
             [
              0.8888888888888888,
              "#fdca26"
             ],
             [
              1,
              "#f0f921"
             ]
            ],
            "type": "surface"
           }
          ],
          "table": [
           {
            "cells": {
             "fill": {
              "color": "#EBF0F8"
             },
             "line": {
              "color": "white"
             }
            },
            "header": {
             "fill": {
              "color": "#C8D4E3"
             },
             "line": {
              "color": "white"
             }
            },
            "type": "table"
           }
          ]
         },
         "layout": {
          "annotationdefaults": {
           "arrowcolor": "#2a3f5f",
           "arrowhead": 0,
           "arrowwidth": 1
          },
          "autotypenumbers": "strict",
          "coloraxis": {
           "colorbar": {
            "outlinewidth": 0,
            "ticks": ""
           }
          },
          "colorscale": {
           "diverging": [
            [
             0,
             "#8e0152"
            ],
            [
             0.1,
             "#c51b7d"
            ],
            [
             0.2,
             "#de77ae"
            ],
            [
             0.3,
             "#f1b6da"
            ],
            [
             0.4,
             "#fde0ef"
            ],
            [
             0.5,
             "#f7f7f7"
            ],
            [
             0.6,
             "#e6f5d0"
            ],
            [
             0.7,
             "#b8e186"
            ],
            [
             0.8,
             "#7fbc41"
            ],
            [
             0.9,
             "#4d9221"
            ],
            [
             1,
             "#276419"
            ]
           ],
           "sequential": [
            [
             0,
             "#0d0887"
            ],
            [
             0.1111111111111111,
             "#46039f"
            ],
            [
             0.2222222222222222,
             "#7201a8"
            ],
            [
             0.3333333333333333,
             "#9c179e"
            ],
            [
             0.4444444444444444,
             "#bd3786"
            ],
            [
             0.5555555555555556,
             "#d8576b"
            ],
            [
             0.6666666666666666,
             "#ed7953"
            ],
            [
             0.7777777777777778,
             "#fb9f3a"
            ],
            [
             0.8888888888888888,
             "#fdca26"
            ],
            [
             1,
             "#f0f921"
            ]
           ],
           "sequentialminus": [
            [
             0,
             "#0d0887"
            ],
            [
             0.1111111111111111,
             "#46039f"
            ],
            [
             0.2222222222222222,
             "#7201a8"
            ],
            [
             0.3333333333333333,
             "#9c179e"
            ],
            [
             0.4444444444444444,
             "#bd3786"
            ],
            [
             0.5555555555555556,
             "#d8576b"
            ],
            [
             0.6666666666666666,
             "#ed7953"
            ],
            [
             0.7777777777777778,
             "#fb9f3a"
            ],
            [
             0.8888888888888888,
             "#fdca26"
            ],
            [
             1,
             "#f0f921"
            ]
           ]
          },
          "colorway": [
           "#636efa",
           "#EF553B",
           "#00cc96",
           "#ab63fa",
           "#FFA15A",
           "#19d3f3",
           "#FF6692",
           "#B6E880",
           "#FF97FF",
           "#FECB52"
          ],
          "font": {
           "color": "#2a3f5f"
          },
          "geo": {
           "bgcolor": "white",
           "lakecolor": "white",
           "landcolor": "#E5ECF6",
           "showlakes": true,
           "showland": true,
           "subunitcolor": "white"
          },
          "hoverlabel": {
           "align": "left"
          },
          "hovermode": "closest",
          "mapbox": {
           "style": "light"
          },
          "paper_bgcolor": "white",
          "plot_bgcolor": "#E5ECF6",
          "polar": {
           "angularaxis": {
            "gridcolor": "white",
            "linecolor": "white",
            "ticks": ""
           },
           "bgcolor": "#E5ECF6",
           "radialaxis": {
            "gridcolor": "white",
            "linecolor": "white",
            "ticks": ""
           }
          },
          "scene": {
           "xaxis": {
            "backgroundcolor": "#E5ECF6",
            "gridcolor": "white",
            "gridwidth": 2,
            "linecolor": "white",
            "showbackground": true,
            "ticks": "",
            "zerolinecolor": "white"
           },
           "yaxis": {
            "backgroundcolor": "#E5ECF6",
            "gridcolor": "white",
            "gridwidth": 2,
            "linecolor": "white",
            "showbackground": true,
            "ticks": "",
            "zerolinecolor": "white"
           },
           "zaxis": {
            "backgroundcolor": "#E5ECF6",
            "gridcolor": "white",
            "gridwidth": 2,
            "linecolor": "white",
            "showbackground": true,
            "ticks": "",
            "zerolinecolor": "white"
           }
          },
          "shapedefaults": {
           "line": {
            "color": "#2a3f5f"
           }
          },
          "ternary": {
           "aaxis": {
            "gridcolor": "white",
            "linecolor": "white",
            "ticks": ""
           },
           "baxis": {
            "gridcolor": "white",
            "linecolor": "white",
            "ticks": ""
           },
           "bgcolor": "#E5ECF6",
           "caxis": {
            "gridcolor": "white",
            "linecolor": "white",
            "ticks": ""
           }
          },
          "title": {
           "x": 0.05
          },
          "xaxis": {
           "automargin": true,
           "gridcolor": "white",
           "linecolor": "white",
           "ticks": "",
           "title": {
            "standoff": 15
           },
           "zerolinecolor": "white",
           "zerolinewidth": 2
          },
          "yaxis": {
           "automargin": true,
           "gridcolor": "white",
           "linecolor": "white",
           "ticks": "",
           "title": {
            "standoff": 15
           },
           "zerolinecolor": "white",
           "zerolinewidth": 2
          }
         }
        },
        "title": {
         "text": "Injection site voxel distribution for AL276_647"
        }
       }
      },
      "image/png": "[encoded data removed]",
      "text/html": [
       "<div>                            <div id=\"52cf11ad-b3af-443d-b047-73da867b92d5\" class=\"plotly-graph-div\" style=\"height:525px; width:100%;\"></div>            <script type=\"text/javascript\">                require([\"plotly\"], function(Plotly) {                    window.PLOTLYENV=window.PLOTLYENV || {};                                    if (document.getElementById(\"52cf11ad-b3af-443d-b047-73da867b92d5\")) {                    Plotly.newPlot(                        \"52cf11ad-b3af-443d-b047-73da867b92d5\",                        [{\"customdata\": [[\"VISp6b\"], [\"fp\"], [\"ccs\"], [\"SSp-bfd6a\"], [\"SSp-bfd6b\"], [\"VISrl6a\"], [\"VISrl6b\"], [\"scwm\"], [\"or\"]], \"domain\": {\"x\": [0.0, 1.0], \"y\": [0.0, 1.0]}, \"hovertemplate\": \"id=%{label}<br>count=%{value}<br>id_name=%{customdata[0]}<extra></extra>\", \"labels\": [305, 971, 986, 1038, 1062, 312782620, 312782624, 484682512, 484682520], \"legendgroup\": \"\", \"name\": \"\", \"showlegend\": true, \"type\": \"pie\", \"values\": [2, 889, 13, 33, 151, 144, 327, 2, 1553]}],                        {\"legend\": {\"tracegroupgap\": 0}, \"template\": {\"data\": {\"bar\": [{\"error_x\": {\"color\": \"#2a3f5f\"}, \"error_y\": {\"color\": \"#2a3f5f\"}, \"marker\": {\"line\": {\"color\": \"#E5ECF6\", \"width\": 0.5}}, \"type\": \"bar\"}], \"barpolar\": [{\"marker\": {\"line\": {\"color\": \"#E5ECF6\", \"width\": 0.5}}, \"type\": \"barpolar\"}], \"carpet\": [{\"aaxis\": {\"endlinecolor\": \"#2a3f5f\", \"gridcolor\": \"white\", \"linecolor\": \"white\", \"minorgridcolor\": \"white\", \"startlinecolor\": \"#2a3f5f\"}, \"baxis\": {\"endlinecolor\": \"#2a3f5f\", \"gridcolor\": \"white\", \"linecolor\": \"white\", \"minorgridcolor\": \"white\", \"startlinecolor\": \"#2a3f5f\"}, \"type\": \"carpet\"}], \"choropleth\": [{\"colorbar\": {\"outlinewidth\": 0, \"ticks\": \"\"}, \"type\": \"choropleth\"}], \"contour\": [{\"colorbar\": {\"outlinewidth\": 0, \"ticks\": \"\"}, \"colorscale\": [[0.0, \"#0d0887\"], [0.1111111111111111, \"#46039f\"], [0.2222222222222222, \"#7201a8\"], [0.3333333333333333, \"#9c179e\"], [0.4444444444444444, \"#bd3786\"], [0.5555555555555556, \"#d8576b\"], [0.6666666666666666, \"#ed7953\"], [0.7777777777777778, \"#fb9f3a\"], [0.8888888888888888, \"#fdca26\"], [1.0, \"#f0f921\"]], \"type\": \"contour\"}], \"contourcarpet\": [{\"colorbar\": {\"outlinewidth\": 0, \"ticks\": \"\"}, \"type\": \"contourcarpet\"}], \"heatmap\": [{\"colorbar\": {\"outlinewidth\": 0, \"ticks\": \"\"}, \"colorscale\": [[0.0, \"#0d0887\"], [0.1111111111111111, \"#46039f\"], [0.2222222222222222, \"#7201a8\"], [0.3333333333333333, \"#9c179e\"], [0.4444444444444444, \"#bd3786\"], [0.5555555555555556, \"#d8576b\"], [0.6666666666666666, \"#ed7953\"], [0.7777777777777778, \"#fb9f3a\"], [0.8888888888888888, \"#fdca26\"], [1.0, \"#f0f921\"]], \"type\": \"heatmap\"}], \"heatmapgl\": [{\"colorbar\": {\"outlinewidth\": 0, \"ticks\": \"\"}, \"colorscale\": [[0.0, \"#0d0887\"], [0.1111111111111111, \"#46039f\"], [0.2222222222222222, \"#7201a8\"], [0.3333333333333333, \"#9c179e\"], [0.4444444444444444, \"#bd3786\"], [0.5555555555555556, \"#d8576b\"], [0.6666666666666666, \"#ed7953\"], [0.7777777777777778, \"#fb9f3a\"], [0.8888888888888888, \"#fdca26\"], [1.0, \"#f0f921\"]], \"type\": \"heatmapgl\"}], \"histogram\": [{\"marker\": {\"colorbar\": {\"outlinewidth\": 0, \"ticks\": \"\"}}, \"type\": \"histogram\"}], \"histogram2d\": [{\"colorbar\": {\"outlinewidth\": 0, \"ticks\": \"\"}, \"colorscale\": [[0.0, \"#0d0887\"], [0.1111111111111111, \"#46039f\"], [0.2222222222222222, \"#7201a8\"], [0.3333333333333333, \"#9c179e\"], [0.4444444444444444, \"#bd3786\"], [0.5555555555555556, \"#d8576b\"], [0.6666666666666666, \"#ed7953\"], [0.7777777777777778, \"#fb9f3a\"], [0.8888888888888888, \"#fdca26\"], [1.0, \"#f0f921\"]], \"type\": \"histogram2d\"}], \"histogram2dcontour\": [{\"colorbar\": {\"outlinewidth\": 0, \"ticks\": \"\"}, \"colorscale\": [[0.0, \"#0d0887\"], [0.1111111111111111, \"#46039f\"], [0.2222222222222222, \"#7201a8\"], [0.3333333333333333, \"#9c179e\"], [0.4444444444444444, \"#bd3786\"], [0.5555555555555556, \"#d8576b\"], [0.6666666666666666, \"#ed7953\"], [0.7777777777777778, \"#fb9f3a\"], [0.8888888888888888, \"#fdca26\"], [1.0, \"#f0f921\"]], \"type\": \"histogram2dcontour\"}], \"mesh3d\": [{\"colorbar\": {\"outlinewidth\": 0, \"ticks\": \"\"}, \"type\": \"mesh3d\"}], \"parcoords\": [{\"line\": {\"colorbar\": {\"outlinewidth\": 0, \"ticks\": \"\"}}, \"type\": \"parcoords\"}], \"pie\": [{\"automargin\": true, \"type\": \"pie\"}], \"scatter\": [{\"marker\": {\"colorbar\": {\"outlinewidth\": 0, \"ticks\": \"\"}}, \"type\": \"scatter\"}], \"scatter3d\": [{\"line\": {\"colorbar\": {\"outlinewidth\": 0, \"ticks\": \"\"}}, \"marker\": {\"colorbar\": {\"outlinewidth\": 0, \"ticks\": \"\"}}, \"type\": \"scatter3d\"}], \"scattercarpet\": [{\"marker\": {\"colorbar\": {\"outlinewidth\": 0, \"ticks\": \"\"}}, \"type\": \"scattercarpet\"}], \"scattergeo\": [{\"marker\": {\"colorbar\": {\"outlinewidth\": 0, \"ticks\": \"\"}}, \"type\": \"scattergeo\"}], \"scattergl\": [{\"marker\": {\"colorbar\": {\"outlinewidth\": 0, \"ticks\": \"\"}}, \"type\": \"scattergl\"}], \"scattermapbox\": [{\"marker\": {\"colorbar\": {\"outlinewidth\": 0, \"ticks\": \"\"}}, \"type\": \"scattermapbox\"}], \"scatterpolar\": [{\"marker\": {\"colorbar\": {\"outlinewidth\": 0, \"ticks\": \"\"}}, \"type\": \"scatterpolar\"}], \"scatterpolargl\": [{\"marker\": {\"colorbar\": {\"outlinewidth\": 0, \"ticks\": \"\"}}, \"type\": \"scatterpolargl\"}], \"scatterternary\": [{\"marker\": {\"colorbar\": {\"outlinewidth\": 0, \"ticks\": \"\"}}, \"type\": \"scatterternary\"}], \"surface\": [{\"colorbar\": {\"outlinewidth\": 0, \"ticks\": \"\"}, \"colorscale\": [[0.0, \"#0d0887\"], [0.1111111111111111, \"#46039f\"], [0.2222222222222222, \"#7201a8\"], [0.3333333333333333, \"#9c179e\"], [0.4444444444444444, \"#bd3786\"], [0.5555555555555556, \"#d8576b\"], [0.6666666666666666, \"#ed7953\"], [0.7777777777777778, \"#fb9f3a\"], [0.8888888888888888, \"#fdca26\"], [1.0, \"#f0f921\"]], \"type\": \"surface\"}], \"table\": [{\"cells\": {\"fill\": {\"color\": \"#EBF0F8\"}, \"line\": {\"color\": \"white\"}}, \"header\": {\"fill\": {\"color\": \"#C8D4E3\"}, \"line\": {\"color\": \"white\"}}, \"type\": \"table\"}]}, \"layout\": {\"annotationdefaults\": {\"arrowcolor\": \"#2a3f5f\", \"arrowhead\": 0, \"arrowwidth\": 1}, \"autotypenumbers\": \"strict\", \"coloraxis\": {\"colorbar\": {\"outlinewidth\": 0, \"ticks\": \"\"}}, \"colorscale\": {\"diverging\": [[0, \"#8e0152\"], [0.1, \"#c51b7d\"], [0.2, \"#de77ae\"], [0.3, \"#f1b6da\"], [0.4, \"#fde0ef\"], [0.5, \"#f7f7f7\"], [0.6, \"#e6f5d0\"], [0.7, \"#b8e186\"], [0.8, \"#7fbc41\"], [0.9, \"#4d9221\"], [1, \"#276419\"]], \"sequential\": [[0.0, \"#0d0887\"], [0.1111111111111111, \"#46039f\"], [0.2222222222222222, \"#7201a8\"], [0.3333333333333333, \"#9c179e\"], [0.4444444444444444, \"#bd3786\"], [0.5555555555555556, \"#d8576b\"], [0.6666666666666666, \"#ed7953\"], [0.7777777777777778, \"#fb9f3a\"], [0.8888888888888888, \"#fdca26\"], [1.0, \"#f0f921\"]], \"sequentialminus\": [[0.0, \"#0d0887\"], [0.1111111111111111, \"#46039f\"], [0.2222222222222222, \"#7201a8\"], [0.3333333333333333, \"#9c179e\"], [0.4444444444444444, \"#bd3786\"], [0.5555555555555556, \"#d8576b\"], [0.6666666666666666, \"#ed7953\"], [0.7777777777777778, \"#fb9f3a\"], [0.8888888888888888, \"#fdca26\"], [1.0, \"#f0f921\"]]}, \"colorway\": [\"#636efa\", \"#EF553B\", \"#00cc96\", \"#ab63fa\", \"#FFA15A\", \"#19d3f3\", \"#FF6692\", \"#B6E880\", \"#FF97FF\", \"#FECB52\"], \"font\": {\"color\": \"#2a3f5f\"}, \"geo\": {\"bgcolor\": \"white\", \"lakecolor\": \"white\", \"landcolor\": \"#E5ECF6\", \"showlakes\": true, \"showland\": true, \"subunitcolor\": \"white\"}, \"hoverlabel\": {\"align\": \"left\"}, \"hovermode\": \"closest\", \"mapbox\": {\"style\": \"light\"}, \"paper_bgcolor\": \"white\", \"plot_bgcolor\": \"#E5ECF6\", \"polar\": {\"angularaxis\": {\"gridcolor\": \"white\", \"linecolor\": \"white\", \"ticks\": \"\"}, \"bgcolor\": \"#E5ECF6\", \"radialaxis\": {\"gridcolor\": \"white\", \"linecolor\": \"white\", \"ticks\": \"\"}}, \"scene\": {\"xaxis\": {\"backgroundcolor\": \"#E5ECF6\", \"gridcolor\": \"white\", \"gridwidth\": 2, \"linecolor\": \"white\", \"showbackground\": true, \"ticks\": \"\", \"zerolinecolor\": \"white\"}, \"yaxis\": {\"backgroundcolor\": \"#E5ECF6\", \"gridcolor\": \"white\", \"gridwidth\": 2, \"linecolor\": \"white\", \"showbackground\": true, \"ticks\": \"\", \"zerolinecolor\": \"white\"}, \"zaxis\": {\"backgroundcolor\": \"#E5ECF6\", \"gridcolor\": \"white\", \"gridwidth\": 2, \"linecolor\": \"white\", \"showbackground\": true, \"ticks\": \"\", \"zerolinecolor\": \"white\"}}, \"shapedefaults\": {\"line\": {\"color\": \"#2a3f5f\"}}, \"ternary\": {\"aaxis\": {\"gridcolor\": \"white\", \"linecolor\": \"white\", \"ticks\": \"\"}, \"baxis\": {\"gridcolor\": \"white\", \"linecolor\": \"white\", \"ticks\": \"\"}, \"bgcolor\": \"#E5ECF6\", \"caxis\": {\"gridcolor\": \"white\", \"linecolor\": \"white\", \"ticks\": \"\"}}, \"title\": {\"x\": 0.05}, \"xaxis\": {\"automargin\": true, \"gridcolor\": \"white\", \"linecolor\": \"white\", \"ticks\": \"\", \"title\": {\"standoff\": 15}, \"zerolinecolor\": \"white\", \"zerolinewidth\": 2}, \"yaxis\": {\"automargin\": true, \"gridcolor\": \"white\", \"linecolor\": \"white\", \"ticks\": \"\", \"title\": {\"standoff\": 15}, \"zerolinecolor\": \"white\", \"zerolinewidth\": 2}}}, \"title\": {\"text\": \"Injection site voxel distribution for AL276_647\"}},                        {\"responsive\": true}                    ).then(function(){\n",
       "                            \n",
       "var gd = document.getElementById('52cf11ad-b3af-443d-b047-73da867b92d5');\n",
       "var x = new MutationObserver(function (mutations, observer) {{\n",
       "        var display = window.getComputedStyle(gd).display;\n",
       "        if (!display || display === 'none') {{\n",
       "            console.log([gd, 'removed!']);\n",
       "            Plotly.purge(gd);\n",
       "            observer.disconnect();\n",
       "        }}\n",
       "}});\n",
       "\n",
       "// Listen for the removal of the full notebook cells\n",
       "var notebookContainer = gd.closest('#notebook-container');\n",
       "if (notebookContainer) {{\n",
       "    x.observe(notebookContainer, {childList: true});\n",
       "}}\n",
       "\n",
       "// Listen for the clearing of the current output cell\n",
       "var outputEl = gd.closest('.output');\n",
       "if (outputEl) {{\n",
       "    x.observe(outputEl, {childList: true});\n",
       "}}\n",
       "\n",
       "                        })                };                });            </script>        </div>"
      ]
     },
     "metadata": {},
     "output_type": "display_data"
    }
   ],
   "source": [
    "plot_pie(data, 22)"
   ]
  },
  {
   "cell_type": "code",
   "execution_count": null,
   "metadata": {},
   "outputs": [],
   "source": []
  }
 ],
 "metadata": {
  "kernelspec": {
   "display_name": "Python 3",
   "language": "python",
   "name": "python3"
  },
  "language_info": {
   "codemirror_mode": {
    "name": "ipython",
    "version": 3
   },
   "file_extension": ".py",
   "mimetype": "text/x-python",
   "name": "python",
   "nbconvert_exporter": "python",
   "pygments_lexer": "ipython3",
   "version": "3.7.3"
  }
 },
 "nbformat": 4,
 "nbformat_minor": 4
}
