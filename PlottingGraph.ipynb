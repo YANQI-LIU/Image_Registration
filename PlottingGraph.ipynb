{
 "cells": [
  {
   "cell_type": "code",
   "execution_count": 1,
   "metadata": {},
   "outputs": [
    {
     "data": {
      "text/html": [
       "        <script type=\"text/javascript\">\n",
       "        window.PlotlyConfig = {MathJaxConfig: 'local'};\n",
       "        if (window.MathJax) {MathJax.Hub.Config({SVG: {font: \"STIX-Web\"}});}\n",
       "        if (typeof require !== 'undefined') {\n",
       "        require.undef(\"plotly\");\n",
       "        requirejs.config({\n",
       "            paths: {\n",
       "                'plotly': ['https://cdn.plot.ly/plotly-latest.min']\n",
       "            }\n",
       "        });\n",
       "        require(['plotly'], function(Plotly) {\n",
       "            window._Plotly = Plotly;\n",
       "        });\n",
       "        }\n",
       "        </script>\n",
       "        "
      ]
     },
     "metadata": {},
     "output_type": "display_data"
    }
   ],
   "source": [
    "import os\n",
    "\n",
    "import pandas as pd\n",
    "import re\n",
    "\n",
    "import numpy as np\n",
    "\n",
    "import random\n",
    "import ast\n",
    "\n",
    "import Neuron_analysis as na\n",
    "\n",
    "import plotly\n",
    "import plotly.offline\n",
    "import plotly.graph_objects as go\n",
    "from plotly.subplots import make_subplots\n",
    "\n",
    "import plotly.express as px\n",
    "\n",
    "from plotly.offline import download_plotlyjs, init_notebook_mode, plot, iplot\n",
    "init_notebook_mode(connected=True)\n",
    "\n"
   ]
  },
  {
   "cell_type": "code",
   "execution_count": 2,
   "metadata": {},
   "outputs": [],
   "source": [
    "results_dir= 'D:/Complete_points/'"
   ]
  },
  {
   "cell_type": "code",
   "execution_count": 3,
   "metadata": {},
   "outputs": [],
   "source": [
    "files= os.listdir(results_dir)"
   ]
  },
  {
   "cell_type": "markdown",
   "metadata": {
    "jp-MarkdownHeadingCollapsed": true,
    "tags": []
   },
   "source": [
    "## Plots all downsampled points into same space ##"
   ]
  },
  {
   "cell_type": "code",
   "execution_count": 4,
   "metadata": {},
   "outputs": [],
   "source": [
    "axons=[os.path.join(results_dir,i) for i in files if '_axons.csv' in i]"
   ]
  },
  {
   "cell_type": "code",
   "execution_count": 5,
   "metadata": {},
   "outputs": [
    {
     "ename": "IndexError",
     "evalue": "list index out of range",
     "output_type": "error",
     "traceback": [
      "\u001b[1;31m---------------------------------------------------------------------------\u001b[0m",
      "\u001b[1;31mIndexError\u001b[0m                                Traceback (most recent call last)",
      "\u001b[1;32m<ipython-input-5-1192dde0436f>\u001b[0m in \u001b[0;36m<module>\u001b[1;34m\u001b[0m\n\u001b[1;32m----> 1\u001b[1;33m \u001b[0mdata_pd\u001b[0m\u001b[1;33m=\u001b[0m\u001b[0mpd\u001b[0m\u001b[1;33m.\u001b[0m\u001b[0mread_csv\u001b[0m\u001b[1;33m(\u001b[0m\u001b[0maxons\u001b[0m\u001b[1;33m[\u001b[0m\u001b[1;36m0\u001b[0m\u001b[1;33m]\u001b[0m\u001b[1;33m)\u001b[0m\u001b[1;33m\u001b[0m\u001b[1;33m\u001b[0m\u001b[0m\n\u001b[0m\u001b[0;32m      2\u001b[0m \u001b[0mdata_pd\u001b[0m\u001b[1;33m.\u001b[0m\u001b[0mloc\u001b[0m\u001b[1;33m[\u001b[0m\u001b[1;36m100\u001b[0m\u001b[1;33m:\u001b[0m\u001b[1;36m105\u001b[0m\u001b[1;33m]\u001b[0m\u001b[1;33m\u001b[0m\u001b[1;33m\u001b[0m\u001b[0m\n",
      "\u001b[1;31mIndexError\u001b[0m: list index out of range"
     ]
    }
   ],
   "source": [
    "data_pd=pd.read_csv(axons[0])\n",
    "data_pd.loc[100:105]"
   ]
  },
  {
   "cell_type": "code",
   "execution_count": 8,
   "metadata": {},
   "outputs": [
    {
     "data": {
      "text/plain": [
       "'D:/Complete_points/allprojection3d.html'"
      ]
     },
     "execution_count": 8,
     "metadata": {},
     "output_type": "execute_result"
    }
   ],
   "source": [
    "fig=go.Figure()\n",
    "\n",
    "for count,names in enumerate(axons):\n",
    "    data_pd=pd.read_csv(names)\n",
    "    name= re.search('\\D{2}[0-9]{3}', names)[0]\n",
    "    \n",
    "    data_pd['name']= [na.give_me_name(i) for i in data_pd['atlas_ID']]\n",
    "    data_pd['ML']= [na.stereotaxis(i,ml=1) for i in data_pd['x']]\n",
    "    data_pd['AP']= [na.stereotaxis(i,ml=0) for i in data_pd['z']]\n",
    "    data_pd['DV']= [i*25/1000 for i in data_pd['y']]\n",
    "    \n",
    "    fig.add_trace(go.Scatter3d( \n",
    "        x=data_pd['ML'],\n",
    "        y=data_pd['DV'],\n",
    "        z=data_pd['AP'],\n",
    "        \n",
    "        mode='markers',\n",
    "        name=name,\n",
    "        marker=dict(\n",
    "            size=1,\n",
    "            color=count,\n",
    "            opacity=0.5\n",
    "        ),\n",
    "        \n",
    "        text=data_pd['name'],\n",
    "        hovertemplate= '%{text}<br> ML: %{x} mm <br> AP: %{z} mm'\n",
    "        \n",
    "    ))\n",
    "\n",
    "camera = dict(\n",
    "        eye=dict(x=0, y=-1, z=0)\n",
    "    )\n",
    "\n",
    "    #Need to change the axis title depending on the direction and orientation of the origional image (ie, imaging started from cerebellum vs. imaging started from olfactorybulb)\n",
    "fig.update_layout(scene_camera=camera, \n",
    "                      scene=dict(\n",
    "                        xaxis_title='Medial-lateral',\n",
    "                        yaxis_title='Dorsal-ventral',\n",
    "                        zaxis_title='Anterior-posterior'))\n",
    "plot(fig,filename=results_dir+'allprojection3d.html')"
   ]
  },
  {
   "cell_type": "markdown",
   "metadata": {
    "jp-MarkdownHeadingCollapsed": true,
    "tags": []
   },
   "source": [
    "## Plots the individual original points with associated ID ##"
   ]
  },
  {
   "cell_type": "code",
   "execution_count": 77,
   "metadata": {},
   "outputs": [
    {
     "data": {
      "text/plain": [
       "['D:/Complete_points/GF243D_oripoints_withID.csv',\n",
       " 'D:/Complete_points/GF243_oripoints_withID.csv']"
      ]
     },
     "execution_count": 77,
     "metadata": {},
     "output_type": "execute_result"
    }
   ],
   "source": [
    "ori_points=[os.path.join(results_dir,i) for i in files if 'oripoints' in i]\n",
    "ori_points"
   ]
  },
  {
   "cell_type": "code",
   "execution_count": 79,
   "metadata": {},
   "outputs": [],
   "source": [
    "axons=pd.read_csv(ori_points[1])\n",
    "#axons['name']= [na.give_me_name(i) for i in axons['atlasID']]\n",
    "dendrites=pd.read_csv(ori_points[0])\n",
    "#dendrites['name']= [na.give_me_name(i) for i in dendrites['atlasID']]\n",
    "mousename=na.find_mousename(ori_points[1])"
   ]
  },
  {
   "cell_type": "code",
   "execution_count": 81,
   "metadata": {},
   "outputs": [
    {
     "data": {
      "text/html": [
       "<div>\n",
       "<style scoped>\n",
       "    .dataframe tbody tr th:only-of-type {\n",
       "        vertical-align: middle;\n",
       "    }\n",
       "\n",
       "    .dataframe tbody tr th {\n",
       "        vertical-align: top;\n",
       "    }\n",
       "\n",
       "    .dataframe thead th {\n",
       "        text-align: right;\n",
       "    }\n",
       "</style>\n",
       "<table border=\"1\" class=\"dataframe\">\n",
       "  <thead>\n",
       "    <tr style=\"text-align: right;\">\n",
       "      <th></th>\n",
       "      <th>x</th>\n",
       "      <th>y</th>\n",
       "      <th>z</th>\n",
       "      <th>atlasID</th>\n",
       "    </tr>\n",
       "  </thead>\n",
       "  <tbody>\n",
       "    <tr>\n",
       "      <th>0</th>\n",
       "      <td>5275.74</td>\n",
       "      <td>2194.85</td>\n",
       "      <td>3899.45</td>\n",
       "      <td>886</td>\n",
       "    </tr>\n",
       "    <tr>\n",
       "      <th>1</th>\n",
       "      <td>5275.51</td>\n",
       "      <td>2195.14</td>\n",
       "      <td>3898.52</td>\n",
       "      <td>886</td>\n",
       "    </tr>\n",
       "    <tr>\n",
       "      <th>2</th>\n",
       "      <td>5275.29</td>\n",
       "      <td>2195.44</td>\n",
       "      <td>3897.59</td>\n",
       "      <td>886</td>\n",
       "    </tr>\n",
       "    <tr>\n",
       "      <th>3</th>\n",
       "      <td>5275.06</td>\n",
       "      <td>2195.74</td>\n",
       "      <td>3896.66</td>\n",
       "      <td>886</td>\n",
       "    </tr>\n",
       "    <tr>\n",
       "      <th>4</th>\n",
       "      <td>5274.84</td>\n",
       "      <td>2196.03</td>\n",
       "      <td>3895.73</td>\n",
       "      <td>886</td>\n",
       "    </tr>\n",
       "    <tr>\n",
       "      <th>...</th>\n",
       "      <td>...</td>\n",
       "      <td>...</td>\n",
       "      <td>...</td>\n",
       "      <td>...</td>\n",
       "    </tr>\n",
       "    <tr>\n",
       "      <th>60055</th>\n",
       "      <td>5177.00</td>\n",
       "      <td>2768.27</td>\n",
       "      <td>4775.83</td>\n",
       "      <td>847</td>\n",
       "    </tr>\n",
       "    <tr>\n",
       "      <th>60056</th>\n",
       "      <td>5613.60</td>\n",
       "      <td>2982.40</td>\n",
       "      <td>4725.00</td>\n",
       "      <td>847</td>\n",
       "    </tr>\n",
       "    <tr>\n",
       "      <th>60057</th>\n",
       "      <td>5613.50</td>\n",
       "      <td>2982.40</td>\n",
       "      <td>4724.01</td>\n",
       "      <td>847</td>\n",
       "    </tr>\n",
       "    <tr>\n",
       "      <th>60058</th>\n",
       "      <td>5613.39</td>\n",
       "      <td>2982.40</td>\n",
       "      <td>4723.01</td>\n",
       "      <td>847</td>\n",
       "    </tr>\n",
       "    <tr>\n",
       "      <th>60059</th>\n",
       "      <td>5613.29</td>\n",
       "      <td>2982.40</td>\n",
       "      <td>4722.02</td>\n",
       "      <td>847</td>\n",
       "    </tr>\n",
       "  </tbody>\n",
       "</table>\n",
       "<p>60060 rows × 4 columns</p>\n",
       "</div>"
      ],
      "text/plain": [
       "             x        y        z  atlasID\n",
       "0      5275.74  2194.85  3899.45      886\n",
       "1      5275.51  2195.14  3898.52      886\n",
       "2      5275.29  2195.44  3897.59      886\n",
       "3      5275.06  2195.74  3896.66      886\n",
       "4      5274.84  2196.03  3895.73      886\n",
       "...        ...      ...      ...      ...\n",
       "60055  5177.00  2768.27  4775.83      847\n",
       "60056  5613.60  2982.40  4725.00      847\n",
       "60057  5613.50  2982.40  4724.01      847\n",
       "60058  5613.39  2982.40  4723.01      847\n",
       "60059  5613.29  2982.40  4722.02      847\n",
       "\n",
       "[60060 rows x 4 columns]"
      ]
     },
     "execution_count": 81,
     "metadata": {},
     "output_type": "execute_result"
    }
   ],
   "source": [
    "axons"
   ]
  },
  {
   "cell_type": "code",
   "execution_count": 138,
   "metadata": {},
   "outputs": [],
   "source": [
    "def make_scatter(axons, dendrites, mousename):\n",
    "        \n",
    "    fig=go.Figure()\n",
    "    fig.add_trace(go.Scatter3d( \n",
    "        x=axons[::3]['x'],\n",
    "        y=axons[::3]['y'],\n",
    "        z=axons[::3]['z'],\n",
    "        mode='markers',\n",
    "        name='Axons',\n",
    "        marker=dict(\n",
    "            size=1,\n",
    "            color='blue',\n",
    "            opacity=0.5\n",
    "        ),\n",
    "        #hovertext= axons[::3]['name'],\n",
    "        hovertext= axons['atlasID'],\n",
    "        hoverinfo='text'\n",
    "    ))\n",
    "    \n",
    "    fig.add_trace(go.Scatter3d(\n",
    "        x=dendrites['x'],\n",
    "        y=dendrites['y'],\n",
    "        z=dendrites['z'],\n",
    "        mode='markers',\n",
    "        name='Dendrites',\n",
    "        marker=dict(\n",
    "            size=2,\n",
    "            color='red',\n",
    "            opacity=0.5),\n",
    "        #hovertext= dendrites['name'],\n",
    "        hovertext=dendrites['atlasID'],\n",
    "        hoverinfo='text'\n",
    "    ))\n",
    "\n",
    "#Here we want horizontal view with dorsal surface toward us\n",
    "#first we set a xz view for coronal section this is done by setting x and z as 0 in eye\n",
    "# then, for y we want the smaller values to point toward us (because in our original coronal images dorsal surface is pointed up)\n",
    "    camera = dict(\n",
    "            eye=dict(x=0, y=0, z=2.5))\n",
    "    #Need to change the axis title depending on the direction and orientation of the origional image (ie, imaging started from cerebellum vs. imaging started from olfactorybulb)\n",
    "    fig.update_layout(scene_camera=camera, \n",
    "                      scene=dict(\n",
    "                        xaxis_title='Medial-lateral',\n",
    "                        yaxis_title='Dorsal-ventral',\n",
    "                        zaxis_title='Anterior-posterior'))\n",
    "    #fig.write_image(f\"D:/2PT electroporation time/{mousename}.svg\")\n",
    "    plot(fig,filename='D:/2PT electroporation time/'+ mousename+'/3Dplot.html')\n",
    "    "
   ]
  },
  {
   "cell_type": "code",
   "execution_count": 139,
   "metadata": {},
   "outputs": [],
   "source": [
    "make_scatter(axons,dendrites,mousename)"
   ]
  },
  {
   "cell_type": "markdown",
   "metadata": {
    "jp-MarkdownHeadingCollapsed": true,
    "tags": []
   },
   "source": [
    "## analysis of viral project injection site! ##"
   ]
  },
  {
   "cell_type": "code",
   "execution_count": 2,
   "metadata": {},
   "outputs": [],
   "source": [
    "data=pd.read_excel(r'D:\\viral_injectionsite\\results.xlsx',index_col=0)"
   ]
  },
  {
   "cell_type": "code",
   "execution_count": 3,
   "metadata": {},
   "outputs": [
    {
     "data": {
      "text/html": [
       "<div>\n",
       "<style scoped>\n",
       "    .dataframe tbody tr th:only-of-type {\n",
       "        vertical-align: middle;\n",
       "    }\n",
       "\n",
       "    .dataframe tbody tr th {\n",
       "        vertical-align: top;\n",
       "    }\n",
       "\n",
       "    .dataframe thead th {\n",
       "        text-align: right;\n",
       "    }\n",
       "</style>\n",
       "<table border=\"1\" class=\"dataframe\">\n",
       "  <thead>\n",
       "    <tr style=\"text-align: right;\">\n",
       "      <th></th>\n",
       "      <th>Data_name</th>\n",
       "      <th>Total_voxels</th>\n",
       "      <th>Centroid_location_1</th>\n",
       "      <th>Centroid_location_2</th>\n",
       "      <th>Centroid_location_3</th>\n",
       "      <th>Centroid_id</th>\n",
       "      <th>Voxel_id</th>\n",
       "    </tr>\n",
       "  </thead>\n",
       "  <tbody>\n",
       "    <tr>\n",
       "      <th>0</th>\n",
       "      <td>AL207_647</td>\n",
       "      <td>6480</td>\n",
       "      <td>121</td>\n",
       "      <td>276</td>\n",
       "      <td>60</td>\n",
       "      <td>1070</td>\n",
       "      <td>[{9: 23, 1038: 1543, 1047: 14, 1070: 3873, 111...</td>\n",
       "    </tr>\n",
       "    <tr>\n",
       "      <th>1</th>\n",
       "      <td>AL208_647</td>\n",
       "      <td>1691</td>\n",
       "      <td>137</td>\n",
       "      <td>274</td>\n",
       "      <td>51</td>\n",
       "      <td>1111</td>\n",
       "      <td>[{9: 182, 625: 138, 945: 4, 1111: 1137, 182305...</td>\n",
       "    </tr>\n",
       "    <tr>\n",
       "      <th>2</th>\n",
       "      <td>AL209_647</td>\n",
       "      <td>4218</td>\n",
       "      <td>109</td>\n",
       "      <td>270</td>\n",
       "      <td>69</td>\n",
       "      <td>1070</td>\n",
       "      <td>[{1038: 75, 1047: 11, 1070: 4132}]</td>\n",
       "    </tr>\n",
       "    <tr>\n",
       "      <th>3</th>\n",
       "      <td>AL210_647</td>\n",
       "      <td>1855</td>\n",
       "      <td>122</td>\n",
       "      <td>287</td>\n",
       "      <td>52</td>\n",
       "      <td>1070</td>\n",
       "      <td>[{1047: 10, 1070: 1134, 1111: 159, 312782558: ...</td>\n",
       "    </tr>\n",
       "    <tr>\n",
       "      <th>4</th>\n",
       "      <td>AL211_647</td>\n",
       "      <td>1584</td>\n",
       "      <td>106</td>\n",
       "      <td>276</td>\n",
       "      <td>66</td>\n",
       "      <td>1070</td>\n",
       "      <td>[{1047: 94, 1070: 1490}]</td>\n",
       "    </tr>\n",
       "    <tr>\n",
       "      <th>...</th>\n",
       "      <td>...</td>\n",
       "      <td>...</td>\n",
       "      <td>...</td>\n",
       "      <td>...</td>\n",
       "      <td>...</td>\n",
       "      <td>...</td>\n",
       "      <td>...</td>\n",
       "    </tr>\n",
       "    <tr>\n",
       "      <th>56</th>\n",
       "      <td>AL330_647</td>\n",
       "      <td>4020</td>\n",
       "      <td>79</td>\n",
       "      <td>272</td>\n",
       "      <td>109</td>\n",
       "      <td>862</td>\n",
       "      <td>[{862: 2818, 1038: 681, 1070: 72, 1090: 449}]</td>\n",
       "    </tr>\n",
       "    <tr>\n",
       "      <th>57</th>\n",
       "      <td>AL331_561</td>\n",
       "      <td>2194</td>\n",
       "      <td>56</td>\n",
       "      <td>274</td>\n",
       "      <td>79</td>\n",
       "      <td>873</td>\n",
       "      <td>[{0: 37, 201: 191, 806: 629, 873: 881, 981: 456}]</td>\n",
       "    </tr>\n",
       "    <tr>\n",
       "      <th>58</th>\n",
       "      <td>AL332_561</td>\n",
       "      <td>1143</td>\n",
       "      <td>54</td>\n",
       "      <td>287</td>\n",
       "      <td>77</td>\n",
       "      <td>873</td>\n",
       "      <td>[{0: 52, 527: 17, 806: 293, 873: 781}]</td>\n",
       "    </tr>\n",
       "    <tr>\n",
       "      <th>59</th>\n",
       "      <td>AL333_561</td>\n",
       "      <td>2061</td>\n",
       "      <td>50</td>\n",
       "      <td>277</td>\n",
       "      <td>92</td>\n",
       "      <td>806</td>\n",
       "      <td>[{0: 22, 806: 1128, 873: 903, 1035: 8}]</td>\n",
       "    </tr>\n",
       "    <tr>\n",
       "      <th>60</th>\n",
       "      <td>AL334_561</td>\n",
       "      <td>2656</td>\n",
       "      <td>50</td>\n",
       "      <td>303</td>\n",
       "      <td>87</td>\n",
       "      <td>600</td>\n",
       "      <td>[{251: 103, 527: 639, 600: 1606, 678: 189, 735...</td>\n",
       "    </tr>\n",
       "  </tbody>\n",
       "</table>\n",
       "<p>61 rows × 7 columns</p>\n",
       "</div>"
      ],
      "text/plain": [
       "    Data_name  Total_voxels  Centroid_location_1  Centroid_location_2  \\\n",
       "0   AL207_647          6480                  121                  276   \n",
       "1   AL208_647          1691                  137                  274   \n",
       "2   AL209_647          4218                  109                  270   \n",
       "3   AL210_647          1855                  122                  287   \n",
       "4   AL211_647          1584                  106                  276   \n",
       "..        ...           ...                  ...                  ...   \n",
       "56  AL330_647          4020                   79                  272   \n",
       "57  AL331_561          2194                   56                  274   \n",
       "58  AL332_561          1143                   54                  287   \n",
       "59  AL333_561          2061                   50                  277   \n",
       "60  AL334_561          2656                   50                  303   \n",
       "\n",
       "    Centroid_location_3  Centroid_id  \\\n",
       "0                    60         1070   \n",
       "1                    51         1111   \n",
       "2                    69         1070   \n",
       "3                    52         1070   \n",
       "4                    66         1070   \n",
       "..                  ...          ...   \n",
       "56                  109          862   \n",
       "57                   79          873   \n",
       "58                   77          873   \n",
       "59                   92          806   \n",
       "60                   87          600   \n",
       "\n",
       "                                             Voxel_id  \n",
       "0   [{9: 23, 1038: 1543, 1047: 14, 1070: 3873, 111...  \n",
       "1   [{9: 182, 625: 138, 945: 4, 1111: 1137, 182305...  \n",
       "2                  [{1038: 75, 1047: 11, 1070: 4132}]  \n",
       "3   [{1047: 10, 1070: 1134, 1111: 159, 312782558: ...  \n",
       "4                            [{1047: 94, 1070: 1490}]  \n",
       "..                                                ...  \n",
       "56      [{862: 2818, 1038: 681, 1070: 72, 1090: 449}]  \n",
       "57  [{0: 37, 201: 191, 806: 629, 873: 881, 981: 456}]  \n",
       "58             [{0: 52, 527: 17, 806: 293, 873: 781}]  \n",
       "59            [{0: 22, 806: 1128, 873: 903, 1035: 8}]  \n",
       "60  [{251: 103, 527: 639, 600: 1606, 678: 189, 735...  \n",
       "\n",
       "[61 rows x 7 columns]"
      ]
     },
     "execution_count": 3,
     "metadata": {},
     "output_type": "execute_result"
    }
   ],
   "source": [
    "data"
   ]
  },
  {
   "cell_type": "code",
   "execution_count": 5,
   "metadata": {},
   "outputs": [],
   "source": [
    "data['Genotype']= ['Sim1Cre', 'Sim1Cre', 'Sim1Cre', 'Tlx3Cre', 'Rbp4Cre', 'Tlx3Cre', 'Rbp4Cre', 'Rbp4Cre', 'Rasgrf2dCre', 'Rasgrf2dCre',\n",
    "                   'Rasgrf2dCre', 'Rasgrf2dCre', 'Rbp4Cre', 'Rbp4Cre', 'Sim1Cre', 'Ntsr1Cre', 'Ntsr1Cre', 'Ntsr1Cre', 'Tlx3Cre', 'Rbp4Cre', \n",
    "                   'Tlx3Cre', 'Sim1Cre', 'Ntsr1Cre', 'Ntsr1Cre', 'Ntsr1Cre', 'Sim1Cre', 'Sim1Cre', 'Rbp4Cre', 'Rbp4Cre', 'Scnn1aCre',\n",
    "                  'Scnn1aCre','Scnn1aCre','Scnn1aCre','Scnn1aCre','Scnn1aCre','Scnn1aCre','Scnn1aCre','Rasgrf2dCre','Rasgrf2dCre','Rbp4Cre',\n",
    "                   'Ntsr1Cre', 'Ntsr1Cre', 'Tlx3Cre', 'Tlx3Cre', 'Rbp4Cre', 'Tlx3Cre', 'Tlx3Cre', 'Sim1Cre', 'Sim1Cre','Scnn1aCre',\n",
    "                   'Scnn1aCre', 'Rbp4Cre', 'Rbp4Cre', 'Rbp4Cre', 'Rbp4Cre', 'Ntsr1Cre', 'Ntsr1Cre', 'Rasgrf2dCre', 'Rasgrf2dCre', 'Rasgrf2dCre', 'Rasgrf2dCre']"
   ]
  },
  {
   "cell_type": "code",
   "execution_count": 6,
   "metadata": {},
   "outputs": [
    {
     "data": {
      "text/html": [
       "<div>\n",
       "<style scoped>\n",
       "    .dataframe tbody tr th:only-of-type {\n",
       "        vertical-align: middle;\n",
       "    }\n",
       "\n",
       "    .dataframe tbody tr th {\n",
       "        vertical-align: top;\n",
       "    }\n",
       "\n",
       "    .dataframe thead th {\n",
       "        text-align: right;\n",
       "    }\n",
       "</style>\n",
       "<table border=\"1\" class=\"dataframe\">\n",
       "  <thead>\n",
       "    <tr style=\"text-align: right;\">\n",
       "      <th></th>\n",
       "      <th>Data_name</th>\n",
       "      <th>Total_voxels</th>\n",
       "      <th>Centroid_location_1</th>\n",
       "      <th>Centroid_location_2</th>\n",
       "      <th>Centroid_location_3</th>\n",
       "      <th>Centroid_id</th>\n",
       "      <th>Voxel_id</th>\n",
       "      <th>Genotype</th>\n",
       "    </tr>\n",
       "  </thead>\n",
       "  <tbody>\n",
       "    <tr>\n",
       "      <th>0</th>\n",
       "      <td>AL207_647</td>\n",
       "      <td>6480</td>\n",
       "      <td>121</td>\n",
       "      <td>276</td>\n",
       "      <td>60</td>\n",
       "      <td>1070</td>\n",
       "      <td>[{9: 23, 1038: 1543, 1047: 14, 1070: 3873, 111...</td>\n",
       "      <td>Sim1Cre</td>\n",
       "    </tr>\n",
       "    <tr>\n",
       "      <th>1</th>\n",
       "      <td>AL208_647</td>\n",
       "      <td>1691</td>\n",
       "      <td>137</td>\n",
       "      <td>274</td>\n",
       "      <td>51</td>\n",
       "      <td>1111</td>\n",
       "      <td>[{9: 182, 625: 138, 945: 4, 1111: 1137, 182305...</td>\n",
       "      <td>Sim1Cre</td>\n",
       "    </tr>\n",
       "    <tr>\n",
       "      <th>2</th>\n",
       "      <td>AL209_647</td>\n",
       "      <td>4218</td>\n",
       "      <td>109</td>\n",
       "      <td>270</td>\n",
       "      <td>69</td>\n",
       "      <td>1070</td>\n",
       "      <td>[{1038: 75, 1047: 11, 1070: 4132}]</td>\n",
       "      <td>Sim1Cre</td>\n",
       "    </tr>\n",
       "    <tr>\n",
       "      <th>3</th>\n",
       "      <td>AL210_647</td>\n",
       "      <td>1855</td>\n",
       "      <td>122</td>\n",
       "      <td>287</td>\n",
       "      <td>52</td>\n",
       "      <td>1070</td>\n",
       "      <td>[{1047: 10, 1070: 1134, 1111: 159, 312782558: ...</td>\n",
       "      <td>Tlx3Cre</td>\n",
       "    </tr>\n",
       "    <tr>\n",
       "      <th>4</th>\n",
       "      <td>AL211_647</td>\n",
       "      <td>1584</td>\n",
       "      <td>106</td>\n",
       "      <td>276</td>\n",
       "      <td>66</td>\n",
       "      <td>1070</td>\n",
       "      <td>[{1047: 94, 1070: 1490}]</td>\n",
       "      <td>Rbp4Cre</td>\n",
       "    </tr>\n",
       "    <tr>\n",
       "      <th>...</th>\n",
       "      <td>...</td>\n",
       "      <td>...</td>\n",
       "      <td>...</td>\n",
       "      <td>...</td>\n",
       "      <td>...</td>\n",
       "      <td>...</td>\n",
       "      <td>...</td>\n",
       "      <td>...</td>\n",
       "    </tr>\n",
       "    <tr>\n",
       "      <th>56</th>\n",
       "      <td>AL330_647</td>\n",
       "      <td>4020</td>\n",
       "      <td>79</td>\n",
       "      <td>272</td>\n",
       "      <td>109</td>\n",
       "      <td>862</td>\n",
       "      <td>[{862: 2818, 1038: 681, 1070: 72, 1090: 449}]</td>\n",
       "      <td>Ntsr1Cre</td>\n",
       "    </tr>\n",
       "    <tr>\n",
       "      <th>57</th>\n",
       "      <td>AL331_561</td>\n",
       "      <td>2194</td>\n",
       "      <td>56</td>\n",
       "      <td>274</td>\n",
       "      <td>79</td>\n",
       "      <td>873</td>\n",
       "      <td>[{0: 37, 201: 191, 806: 629, 873: 881, 981: 456}]</td>\n",
       "      <td>Rasgrf2dCre</td>\n",
       "    </tr>\n",
       "    <tr>\n",
       "      <th>58</th>\n",
       "      <td>AL332_561</td>\n",
       "      <td>1143</td>\n",
       "      <td>54</td>\n",
       "      <td>287</td>\n",
       "      <td>77</td>\n",
       "      <td>873</td>\n",
       "      <td>[{0: 52, 527: 17, 806: 293, 873: 781}]</td>\n",
       "      <td>Rasgrf2dCre</td>\n",
       "    </tr>\n",
       "    <tr>\n",
       "      <th>59</th>\n",
       "      <td>AL333_561</td>\n",
       "      <td>2061</td>\n",
       "      <td>50</td>\n",
       "      <td>277</td>\n",
       "      <td>92</td>\n",
       "      <td>806</td>\n",
       "      <td>[{0: 22, 806: 1128, 873: 903, 1035: 8}]</td>\n",
       "      <td>Rasgrf2dCre</td>\n",
       "    </tr>\n",
       "    <tr>\n",
       "      <th>60</th>\n",
       "      <td>AL334_561</td>\n",
       "      <td>2656</td>\n",
       "      <td>50</td>\n",
       "      <td>303</td>\n",
       "      <td>87</td>\n",
       "      <td>600</td>\n",
       "      <td>[{251: 103, 527: 639, 600: 1606, 678: 189, 735...</td>\n",
       "      <td>Rasgrf2dCre</td>\n",
       "    </tr>\n",
       "  </tbody>\n",
       "</table>\n",
       "<p>61 rows × 8 columns</p>\n",
       "</div>"
      ],
      "text/plain": [
       "    Data_name  Total_voxels  Centroid_location_1  Centroid_location_2  \\\n",
       "0   AL207_647          6480                  121                  276   \n",
       "1   AL208_647          1691                  137                  274   \n",
       "2   AL209_647          4218                  109                  270   \n",
       "3   AL210_647          1855                  122                  287   \n",
       "4   AL211_647          1584                  106                  276   \n",
       "..        ...           ...                  ...                  ...   \n",
       "56  AL330_647          4020                   79                  272   \n",
       "57  AL331_561          2194                   56                  274   \n",
       "58  AL332_561          1143                   54                  287   \n",
       "59  AL333_561          2061                   50                  277   \n",
       "60  AL334_561          2656                   50                  303   \n",
       "\n",
       "    Centroid_location_3  Centroid_id  \\\n",
       "0                    60         1070   \n",
       "1                    51         1111   \n",
       "2                    69         1070   \n",
       "3                    52         1070   \n",
       "4                    66         1070   \n",
       "..                  ...          ...   \n",
       "56                  109          862   \n",
       "57                   79          873   \n",
       "58                   77          873   \n",
       "59                   92          806   \n",
       "60                   87          600   \n",
       "\n",
       "                                             Voxel_id     Genotype  \n",
       "0   [{9: 23, 1038: 1543, 1047: 14, 1070: 3873, 111...      Sim1Cre  \n",
       "1   [{9: 182, 625: 138, 945: 4, 1111: 1137, 182305...      Sim1Cre  \n",
       "2                  [{1038: 75, 1047: 11, 1070: 4132}]      Sim1Cre  \n",
       "3   [{1047: 10, 1070: 1134, 1111: 159, 312782558: ...      Tlx3Cre  \n",
       "4                            [{1047: 94, 1070: 1490}]      Rbp4Cre  \n",
       "..                                                ...          ...  \n",
       "56      [{862: 2818, 1038: 681, 1070: 72, 1090: 449}]     Ntsr1Cre  \n",
       "57  [{0: 37, 201: 191, 806: 629, 873: 881, 981: 456}]  Rasgrf2dCre  \n",
       "58             [{0: 52, 527: 17, 806: 293, 873: 781}]  Rasgrf2dCre  \n",
       "59            [{0: 22, 806: 1128, 873: 903, 1035: 8}]  Rasgrf2dCre  \n",
       "60  [{251: 103, 527: 639, 600: 1606, 678: 189, 735...  Rasgrf2dCre  \n",
       "\n",
       "[61 rows x 8 columns]"
      ]
     },
     "execution_count": 6,
     "metadata": {},
     "output_type": "execute_result"
    }
   ],
   "source": [
    "data"
   ]
  },
  {
   "cell_type": "code",
   "execution_count": 7,
   "metadata": {},
   "outputs": [],
   "source": [
    "Centroid_id_name= [na.give_me_name(i) for i in data.Centroid_id]\n",
    "data['Centroid_id_name']=Centroid_id_name"
   ]
  },
  {
   "cell_type": "code",
   "execution_count": 8,
   "metadata": {},
   "outputs": [],
   "source": [
    "radius= np.cbrt((data['Total_voxels']*3/4)/np.pi)\n",
    "# approximate the diameter of spread by assuming a spherical shape \n",
    "data['inj_radius']= radius*25\n",
    "# multipley number of voxel by 25 um each"
   ]
  },
  {
   "cell_type": "code",
   "execution_count": null,
   "metadata": {},
   "outputs": [],
   "source": []
  },
  {
   "cell_type": "code",
   "execution_count": 9,
   "metadata": {},
   "outputs": [
    {
     "data": {
      "application/vnd.plotly.v1+json": {
       "config": {
        "plotlyServerURL": "https://plot.ly"
       },
       "data": [
        {
         "alignmentgroup": "True",
         "boxpoints": "all",
         "customdata": [
          [
           "AL207_647"
          ],
          [
           "AL208_647"
          ],
          [
           "AL209_647"
          ],
          [
           "AL210_647"
          ],
          [
           "AL211_647"
          ],
          [
           "AL213_647"
          ],
          [
           "AL214_647"
          ],
          [
           "AL215_647"
          ],
          [
           "AL254_561"
          ],
          [
           "AL255_561"
          ],
          [
           "AL256_561"
          ],
          [
           "AL257_561"
          ],
          [
           "AL266_647"
          ],
          [
           "AL271_561"
          ],
          [
           "AL273_647"
          ],
          [
           "AL274_561"
          ],
          [
           "AL274_647"
          ],
          [
           "AL276_647"
          ],
          [
           "AL278_647"
          ],
          [
           "AL279_647"
          ],
          [
           "AL280_647"
          ],
          [
           "AL281_647"
          ],
          [
           "AL284_561"
          ],
          [
           "AL284_647"
          ],
          [
           "AL285_647"
          ],
          [
           "AL286_647"
          ],
          [
           "AL287_647"
          ],
          [
           "AL288_647"
          ],
          [
           "AL289_647"
          ],
          [
           "AL290_561"
          ],
          [
           "AL290_647"
          ],
          [
           "AL291_561"
          ],
          [
           "AL291_647"
          ],
          [
           "AL292_561"
          ],
          [
           "AL292_647"
          ],
          [
           "AL293_561"
          ],
          [
           "AL293_647"
          ],
          [
           "AL302_561"
          ],
          [
           "AL303_561"
          ],
          [
           "AL309_647"
          ],
          [
           "AL310_647"
          ],
          [
           "AL311_647"
          ],
          [
           "AL313_647"
          ],
          [
           "AL314_647"
          ],
          [
           "AL318_647"
          ],
          [
           "AL319_647"
          ],
          [
           "AL320_647"
          ],
          [
           "AL321_647"
          ],
          [
           "AL322_647"
          ],
          [
           "AL323_647"
          ],
          [
           "AL324_647"
          ],
          [
           "AL325_647"
          ],
          [
           "AL326_647"
          ],
          [
           "AL327_647"
          ],
          [
           "AL328_647"
          ],
          [
           "AL329_647"
          ],
          [
           "AL330_647"
          ],
          [
           "AL331_561"
          ],
          [
           "AL332_561"
          ],
          [
           "AL333_561"
          ],
          [
           "AL334_561"
          ]
         ],
         "hovertemplate": "Genotype=%{x}<br>Total_voxels=%{y}<br>Data_name=%{customdata[0]}<extra></extra>",
         "legendgroup": "",
         "marker": {
          "color": "#636efa"
         },
         "name": "",
         "notched": false,
         "offsetgroup": "",
         "orientation": "v",
         "showlegend": false,
         "type": "box",
         "x": [
          "Sim1Cre",
          "Sim1Cre",
          "Sim1Cre",
          "Tlx3Cre",
          "Rbp4Cre",
          "Tlx3Cre",
          "Rbp4Cre",
          "Rbp4Cre",
          "Rasgrf2dCre",
          "Rasgrf2dCre",
          "Rasgrf2dCre",
          "Rasgrf2dCre",
          "Rbp4Cre",
          "Rbp4Cre",
          "Sim1Cre",
          "Ntsr1Cre",
          "Ntsr1Cre",
          "Ntsr1Cre",
          "Tlx3Cre",
          "Rbp4Cre",
          "Tlx3Cre",
          "Sim1Cre",
          "Ntsr1Cre",
          "Ntsr1Cre",
          "Ntsr1Cre",
          "Sim1Cre",
          "Sim1Cre",
          "Rbp4Cre",
          "Rbp4Cre",
          "Scnn1aCre",
          "Scnn1aCre",
          "Scnn1aCre",
          "Scnn1aCre",
          "Scnn1aCre",
          "Scnn1aCre",
          "Scnn1aCre",
          "Scnn1aCre",
          "Rasgrf2dCre",
          "Rasgrf2dCre",
          "Rbp4Cre",
          "Ntsr1Cre",
          "Ntsr1Cre",
          "Tlx3Cre",
          "Tlx3Cre",
          "Rbp4Cre",
          "Tlx3Cre",
          "Tlx3Cre",
          "Sim1Cre",
          "Sim1Cre",
          "Scnn1aCre",
          "Scnn1aCre",
          "Rbp4Cre",
          "Rbp4Cre",
          "Rbp4Cre",
          "Rbp4Cre",
          "Ntsr1Cre",
          "Ntsr1Cre",
          "Rasgrf2dCre",
          "Rasgrf2dCre",
          "Rasgrf2dCre",
          "Rasgrf2dCre"
         ],
         "x0": " ",
         "xaxis": "x",
         "y": [
          6480,
          1691,
          4218,
          1855,
          1584,
          2944,
          3679,
          2543,
          4580,
          9959,
          7322,
          4327,
          11292,
          6001,
          3158,
          2205,
          5471,
          3114,
          1221,
          6163,
          1642,
          1767,
          3014,
          3382,
          2885,
          919,
          8521,
          4016,
          8642,
          981,
          2523,
          2293,
          4092,
          1927,
          2281,
          966,
          2848,
          14921,
          3288,
          2718,
          1812,
          910,
          2523,
          3052,
          3614,
          2293,
          1566,
          1431,
          995,
          1914,
          2194,
          4250,
          4784,
          3939,
          3894,
          2136,
          4020,
          2194,
          1143,
          2061,
          2656
         ],
         "y0": " ",
         "yaxis": "y"
        }
       ],
       "layout": {
        "boxmode": "group",
        "legend": {
         "tracegroupgap": 0
        },
        "margin": {
         "t": 60
        },
        "template": {
         "data": {
          "bar": [
           {
            "error_x": {
             "color": "#2a3f5f"
            },
            "error_y": {
             "color": "#2a3f5f"
            },
            "marker": {
             "line": {
              "color": "#E5ECF6",
              "width": 0.5
             }
            },
            "type": "bar"
           }
          ],
          "barpolar": [
           {
            "marker": {
             "line": {
              "color": "#E5ECF6",
              "width": 0.5
             }
            },
            "type": "barpolar"
           }
          ],
          "carpet": [
           {
            "aaxis": {
             "endlinecolor": "#2a3f5f",
             "gridcolor": "white",
             "linecolor": "white",
             "minorgridcolor": "white",
             "startlinecolor": "#2a3f5f"
            },
            "baxis": {
             "endlinecolor": "#2a3f5f",
             "gridcolor": "white",
             "linecolor": "white",
             "minorgridcolor": "white",
             "startlinecolor": "#2a3f5f"
            },
            "type": "carpet"
           }
          ],
          "choropleth": [
           {
            "colorbar": {
             "outlinewidth": 0,
             "ticks": ""
            },
            "type": "choropleth"
           }
          ],
          "contour": [
           {
            "colorbar": {
             "outlinewidth": 0,
             "ticks": ""
            },
            "colorscale": [
             [
              0,
              "#0d0887"
             ],
             [
              0.1111111111111111,
              "#46039f"
             ],
             [
              0.2222222222222222,
              "#7201a8"
             ],
             [
              0.3333333333333333,
              "#9c179e"
             ],
             [
              0.4444444444444444,
              "#bd3786"
             ],
             [
              0.5555555555555556,
              "#d8576b"
             ],
             [
              0.6666666666666666,
              "#ed7953"
             ],
             [
              0.7777777777777778,
              "#fb9f3a"
             ],
             [
              0.8888888888888888,
              "#fdca26"
             ],
             [
              1,
              "#f0f921"
             ]
            ],
            "type": "contour"
           }
          ],
          "contourcarpet": [
           {
            "colorbar": {
             "outlinewidth": 0,
             "ticks": ""
            },
            "type": "contourcarpet"
           }
          ],
          "heatmap": [
           {
            "colorbar": {
             "outlinewidth": 0,
             "ticks": ""
            },
            "colorscale": [
             [
              0,
              "#0d0887"
             ],
             [
              0.1111111111111111,
              "#46039f"
             ],
             [
              0.2222222222222222,
              "#7201a8"
             ],
             [
              0.3333333333333333,
              "#9c179e"
             ],
             [
              0.4444444444444444,
              "#bd3786"
             ],
             [
              0.5555555555555556,
              "#d8576b"
             ],
             [
              0.6666666666666666,
              "#ed7953"
             ],
             [
              0.7777777777777778,
              "#fb9f3a"
             ],
             [
              0.8888888888888888,
              "#fdca26"
             ],
             [
              1,
              "#f0f921"
             ]
            ],
            "type": "heatmap"
           }
          ],
          "heatmapgl": [
           {
            "colorbar": {
             "outlinewidth": 0,
             "ticks": ""
            },
            "colorscale": [
             [
              0,
              "#0d0887"
             ],
             [
              0.1111111111111111,
              "#46039f"
             ],
             [
              0.2222222222222222,
              "#7201a8"
             ],
             [
              0.3333333333333333,
              "#9c179e"
             ],
             [
              0.4444444444444444,
              "#bd3786"
             ],
             [
              0.5555555555555556,
              "#d8576b"
             ],
             [
              0.6666666666666666,
              "#ed7953"
             ],
             [
              0.7777777777777778,
              "#fb9f3a"
             ],
             [
              0.8888888888888888,
              "#fdca26"
             ],
             [
              1,
              "#f0f921"
             ]
            ],
            "type": "heatmapgl"
           }
          ],
          "histogram": [
           {
            "marker": {
             "colorbar": {
              "outlinewidth": 0,
              "ticks": ""
             }
            },
            "type": "histogram"
           }
          ],
          "histogram2d": [
           {
            "colorbar": {
             "outlinewidth": 0,
             "ticks": ""
            },
            "colorscale": [
             [
              0,
              "#0d0887"
             ],
             [
              0.1111111111111111,
              "#46039f"
             ],
             [
              0.2222222222222222,
              "#7201a8"
             ],
             [
              0.3333333333333333,
              "#9c179e"
             ],
             [
              0.4444444444444444,
              "#bd3786"
             ],
             [
              0.5555555555555556,
              "#d8576b"
             ],
             [
              0.6666666666666666,
              "#ed7953"
             ],
             [
              0.7777777777777778,
              "#fb9f3a"
             ],
             [
              0.8888888888888888,
              "#fdca26"
             ],
             [
              1,
              "#f0f921"
             ]
            ],
            "type": "histogram2d"
           }
          ],
          "histogram2dcontour": [
           {
            "colorbar": {
             "outlinewidth": 0,
             "ticks": ""
            },
            "colorscale": [
             [
              0,
              "#0d0887"
             ],
             [
              0.1111111111111111,
              "#46039f"
             ],
             [
              0.2222222222222222,
              "#7201a8"
             ],
             [
              0.3333333333333333,
              "#9c179e"
             ],
             [
              0.4444444444444444,
              "#bd3786"
             ],
             [
              0.5555555555555556,
              "#d8576b"
             ],
             [
              0.6666666666666666,
              "#ed7953"
             ],
             [
              0.7777777777777778,
              "#fb9f3a"
             ],
             [
              0.8888888888888888,
              "#fdca26"
             ],
             [
              1,
              "#f0f921"
             ]
            ],
            "type": "histogram2dcontour"
           }
          ],
          "mesh3d": [
           {
            "colorbar": {
             "outlinewidth": 0,
             "ticks": ""
            },
            "type": "mesh3d"
           }
          ],
          "parcoords": [
           {
            "line": {
             "colorbar": {
              "outlinewidth": 0,
              "ticks": ""
             }
            },
            "type": "parcoords"
           }
          ],
          "pie": [
           {
            "automargin": true,
            "type": "pie"
           }
          ],
          "scatter": [
           {
            "marker": {
             "colorbar": {
              "outlinewidth": 0,
              "ticks": ""
             }
            },
            "type": "scatter"
           }
          ],
          "scatter3d": [
           {
            "line": {
             "colorbar": {
              "outlinewidth": 0,
              "ticks": ""
             }
            },
            "marker": {
             "colorbar": {
              "outlinewidth": 0,
              "ticks": ""
             }
            },
            "type": "scatter3d"
           }
          ],
          "scattercarpet": [
           {
            "marker": {
             "colorbar": {
              "outlinewidth": 0,
              "ticks": ""
             }
            },
            "type": "scattercarpet"
           }
          ],
          "scattergeo": [
           {
            "marker": {
             "colorbar": {
              "outlinewidth": 0,
              "ticks": ""
             }
            },
            "type": "scattergeo"
           }
          ],
          "scattergl": [
           {
            "marker": {
             "colorbar": {
              "outlinewidth": 0,
              "ticks": ""
             }
            },
            "type": "scattergl"
           }
          ],
          "scattermapbox": [
           {
            "marker": {
             "colorbar": {
              "outlinewidth": 0,
              "ticks": ""
             }
            },
            "type": "scattermapbox"
           }
          ],
          "scatterpolar": [
           {
            "marker": {
             "colorbar": {
              "outlinewidth": 0,
              "ticks": ""
             }
            },
            "type": "scatterpolar"
           }
          ],
          "scatterpolargl": [
           {
            "marker": {
             "colorbar": {
              "outlinewidth": 0,
              "ticks": ""
             }
            },
            "type": "scatterpolargl"
           }
          ],
          "scatterternary": [
           {
            "marker": {
             "colorbar": {
              "outlinewidth": 0,
              "ticks": ""
             }
            },
            "type": "scatterternary"
           }
          ],
          "surface": [
           {
            "colorbar": {
             "outlinewidth": 0,
             "ticks": ""
            },
            "colorscale": [
             [
              0,
              "#0d0887"
             ],
             [
              0.1111111111111111,
              "#46039f"
             ],
             [
              0.2222222222222222,
              "#7201a8"
             ],
             [
              0.3333333333333333,
              "#9c179e"
             ],
             [
              0.4444444444444444,
              "#bd3786"
             ],
             [
              0.5555555555555556,
              "#d8576b"
             ],
             [
              0.6666666666666666,
              "#ed7953"
             ],
             [
              0.7777777777777778,
              "#fb9f3a"
             ],
             [
              0.8888888888888888,
              "#fdca26"
             ],
             [
              1,
              "#f0f921"
             ]
            ],
            "type": "surface"
           }
          ],
          "table": [
           {
            "cells": {
             "fill": {
              "color": "#EBF0F8"
             },
             "line": {
              "color": "white"
             }
            },
            "header": {
             "fill": {
              "color": "#C8D4E3"
             },
             "line": {
              "color": "white"
             }
            },
            "type": "table"
           }
          ]
         },
         "layout": {
          "annotationdefaults": {
           "arrowcolor": "#2a3f5f",
           "arrowhead": 0,
           "arrowwidth": 1
          },
          "autotypenumbers": "strict",
          "coloraxis": {
           "colorbar": {
            "outlinewidth": 0,
            "ticks": ""
           }
          },
          "colorscale": {
           "diverging": [
            [
             0,
             "#8e0152"
            ],
            [
             0.1,
             "#c51b7d"
            ],
            [
             0.2,
             "#de77ae"
            ],
            [
             0.3,
             "#f1b6da"
            ],
            [
             0.4,
             "#fde0ef"
            ],
            [
             0.5,
             "#f7f7f7"
            ],
            [
             0.6,
             "#e6f5d0"
            ],
            [
             0.7,
             "#b8e186"
            ],
            [
             0.8,
             "#7fbc41"
            ],
            [
             0.9,
             "#4d9221"
            ],
            [
             1,
             "#276419"
            ]
           ],
           "sequential": [
            [
             0,
             "#0d0887"
            ],
            [
             0.1111111111111111,
             "#46039f"
            ],
            [
             0.2222222222222222,
             "#7201a8"
            ],
            [
             0.3333333333333333,
             "#9c179e"
            ],
            [
             0.4444444444444444,
             "#bd3786"
            ],
            [
             0.5555555555555556,
             "#d8576b"
            ],
            [
             0.6666666666666666,
             "#ed7953"
            ],
            [
             0.7777777777777778,
             "#fb9f3a"
            ],
            [
             0.8888888888888888,
             "#fdca26"
            ],
            [
             1,
             "#f0f921"
            ]
           ],
           "sequentialminus": [
            [
             0,
             "#0d0887"
            ],
            [
             0.1111111111111111,
             "#46039f"
            ],
            [
             0.2222222222222222,
             "#7201a8"
            ],
            [
             0.3333333333333333,
             "#9c179e"
            ],
            [
             0.4444444444444444,
             "#bd3786"
            ],
            [
             0.5555555555555556,
             "#d8576b"
            ],
            [
             0.6666666666666666,
             "#ed7953"
            ],
            [
             0.7777777777777778,
             "#fb9f3a"
            ],
            [
             0.8888888888888888,
             "#fdca26"
            ],
            [
             1,
             "#f0f921"
            ]
           ]
          },
          "colorway": [
           "#636efa",
           "#EF553B",
           "#00cc96",
           "#ab63fa",
           "#FFA15A",
           "#19d3f3",
           "#FF6692",
           "#B6E880",
           "#FF97FF",
           "#FECB52"
          ],
          "font": {
           "color": "#2a3f5f"
          },
          "geo": {
           "bgcolor": "white",
           "lakecolor": "white",
           "landcolor": "#E5ECF6",
           "showlakes": true,
           "showland": true,
           "subunitcolor": "white"
          },
          "hoverlabel": {
           "align": "left"
          },
          "hovermode": "closest",
          "mapbox": {
           "style": "light"
          },
          "paper_bgcolor": "white",
          "plot_bgcolor": "#E5ECF6",
          "polar": {
           "angularaxis": {
            "gridcolor": "white",
            "linecolor": "white",
            "ticks": ""
           },
           "bgcolor": "#E5ECF6",
           "radialaxis": {
            "gridcolor": "white",
            "linecolor": "white",
            "ticks": ""
           }
          },
          "scene": {
           "xaxis": {
            "backgroundcolor": "#E5ECF6",
            "gridcolor": "white",
            "gridwidth": 2,
            "linecolor": "white",
            "showbackground": true,
            "ticks": "",
            "zerolinecolor": "white"
           },
           "yaxis": {
            "backgroundcolor": "#E5ECF6",
            "gridcolor": "white",
            "gridwidth": 2,
            "linecolor": "white",
            "showbackground": true,
            "ticks": "",
            "zerolinecolor": "white"
           },
           "zaxis": {
            "backgroundcolor": "#E5ECF6",
            "gridcolor": "white",
            "gridwidth": 2,
            "linecolor": "white",
            "showbackground": true,
            "ticks": "",
            "zerolinecolor": "white"
           }
          },
          "shapedefaults": {
           "line": {
            "color": "#2a3f5f"
           }
          },
          "ternary": {
           "aaxis": {
            "gridcolor": "white",
            "linecolor": "white",
            "ticks": ""
           },
           "baxis": {
            "gridcolor": "white",
            "linecolor": "white",
            "ticks": ""
           },
           "bgcolor": "#E5ECF6",
           "caxis": {
            "gridcolor": "white",
            "linecolor": "white",
            "ticks": ""
           }
          },
          "title": {
           "x": 0.05
          },
          "xaxis": {
           "automargin": true,
           "gridcolor": "white",
           "linecolor": "white",
           "ticks": "",
           "title": {
            "standoff": 15
           },
           "zerolinecolor": "white",
           "zerolinewidth": 2
          },
          "yaxis": {
           "automargin": true,
           "gridcolor": "white",
           "linecolor": "white",
           "ticks": "",
           "title": {
            "standoff": 15
           },
           "zerolinecolor": "white",
           "zerolinewidth": 2
          }
         }
        },
        "xaxis": {
         "anchor": "y",
         "domain": [
          0,
          1
         ],
         "title": {
          "text": "Genotype"
         }
        },
        "yaxis": {
         "anchor": "x",
         "domain": [
          0,
          1
         ],
         "title": {
          "text": "Total_voxels"
         }
        }
       }
      },
      "text/html": [
       "<div>                            <div id=\"ed345c97-2edd-4f0c-96ae-6c40ca599f80\" class=\"plotly-graph-div\" style=\"height:525px; width:100%;\"></div>            <script type=\"text/javascript\">                require([\"plotly\"], function(Plotly) {                    window.PLOTLYENV=window.PLOTLYENV || {};                                    if (document.getElementById(\"ed345c97-2edd-4f0c-96ae-6c40ca599f80\")) {                    Plotly.newPlot(                        \"ed345c97-2edd-4f0c-96ae-6c40ca599f80\",                        [{\"alignmentgroup\": \"True\", \"boxpoints\": \"all\", \"customdata\": [[\"AL207_647\"], [\"AL208_647\"], [\"AL209_647\"], [\"AL210_647\"], [\"AL211_647\"], [\"AL213_647\"], [\"AL214_647\"], [\"AL215_647\"], [\"AL254_561\"], [\"AL255_561\"], [\"AL256_561\"], [\"AL257_561\"], [\"AL266_647\"], [\"AL271_561\"], [\"AL273_647\"], [\"AL274_561\"], [\"AL274_647\"], [\"AL276_647\"], [\"AL278_647\"], [\"AL279_647\"], [\"AL280_647\"], [\"AL281_647\"], [\"AL284_561\"], [\"AL284_647\"], [\"AL285_647\"], [\"AL286_647\"], [\"AL287_647\"], [\"AL288_647\"], [\"AL289_647\"], [\"AL290_561\"], [\"AL290_647\"], [\"AL291_561\"], [\"AL291_647\"], [\"AL292_561\"], [\"AL292_647\"], [\"AL293_561\"], [\"AL293_647\"], [\"AL302_561\"], [\"AL303_561\"], [\"AL309_647\"], [\"AL310_647\"], [\"AL311_647\"], [\"AL313_647\"], [\"AL314_647\"], [\"AL318_647\"], [\"AL319_647\"], [\"AL320_647\"], [\"AL321_647\"], [\"AL322_647\"], [\"AL323_647\"], [\"AL324_647\"], [\"AL325_647\"], [\"AL326_647\"], [\"AL327_647\"], [\"AL328_647\"], [\"AL329_647\"], [\"AL330_647\"], [\"AL331_561\"], [\"AL332_561\"], [\"AL333_561\"], [\"AL334_561\"]], \"hovertemplate\": \"Genotype=%{x}<br>Total_voxels=%{y}<br>Data_name=%{customdata[0]}<extra></extra>\", \"legendgroup\": \"\", \"marker\": {\"color\": \"#636efa\"}, \"name\": \"\", \"notched\": false, \"offsetgroup\": \"\", \"orientation\": \"v\", \"showlegend\": false, \"type\": \"box\", \"x\": [\"Sim1Cre\", \"Sim1Cre\", \"Sim1Cre\", \"Tlx3Cre\", \"Rbp4Cre\", \"Tlx3Cre\", \"Rbp4Cre\", \"Rbp4Cre\", \"Rasgrf2dCre\", \"Rasgrf2dCre\", \"Rasgrf2dCre\", \"Rasgrf2dCre\", \"Rbp4Cre\", \"Rbp4Cre\", \"Sim1Cre\", \"Ntsr1Cre\", \"Ntsr1Cre\", \"Ntsr1Cre\", \"Tlx3Cre\", \"Rbp4Cre\", \"Tlx3Cre\", \"Sim1Cre\", \"Ntsr1Cre\", \"Ntsr1Cre\", \"Ntsr1Cre\", \"Sim1Cre\", \"Sim1Cre\", \"Rbp4Cre\", \"Rbp4Cre\", \"Scnn1aCre\", \"Scnn1aCre\", \"Scnn1aCre\", \"Scnn1aCre\", \"Scnn1aCre\", \"Scnn1aCre\", \"Scnn1aCre\", \"Scnn1aCre\", \"Rasgrf2dCre\", \"Rasgrf2dCre\", \"Rbp4Cre\", \"Ntsr1Cre\", \"Ntsr1Cre\", \"Tlx3Cre\", \"Tlx3Cre\", \"Rbp4Cre\", \"Tlx3Cre\", \"Tlx3Cre\", \"Sim1Cre\", \"Sim1Cre\", \"Scnn1aCre\", \"Scnn1aCre\", \"Rbp4Cre\", \"Rbp4Cre\", \"Rbp4Cre\", \"Rbp4Cre\", \"Ntsr1Cre\", \"Ntsr1Cre\", \"Rasgrf2dCre\", \"Rasgrf2dCre\", \"Rasgrf2dCre\", \"Rasgrf2dCre\"], \"x0\": \" \", \"xaxis\": \"x\", \"y\": [6480, 1691, 4218, 1855, 1584, 2944, 3679, 2543, 4580, 9959, 7322, 4327, 11292, 6001, 3158, 2205, 5471, 3114, 1221, 6163, 1642, 1767, 3014, 3382, 2885, 919, 8521, 4016, 8642, 981, 2523, 2293, 4092, 1927, 2281, 966, 2848, 14921, 3288, 2718, 1812, 910, 2523, 3052, 3614, 2293, 1566, 1431, 995, 1914, 2194, 4250, 4784, 3939, 3894, 2136, 4020, 2194, 1143, 2061, 2656], \"y0\": \" \", \"yaxis\": \"y\"}],                        {\"boxmode\": \"group\", \"legend\": {\"tracegroupgap\": 0}, \"margin\": {\"t\": 60}, \"template\": {\"data\": {\"bar\": [{\"error_x\": {\"color\": \"#2a3f5f\"}, \"error_y\": {\"color\": \"#2a3f5f\"}, \"marker\": {\"line\": {\"color\": \"#E5ECF6\", \"width\": 0.5}}, \"type\": \"bar\"}], \"barpolar\": [{\"marker\": {\"line\": {\"color\": \"#E5ECF6\", \"width\": 0.5}}, \"type\": \"barpolar\"}], \"carpet\": [{\"aaxis\": {\"endlinecolor\": \"#2a3f5f\", \"gridcolor\": \"white\", \"linecolor\": \"white\", \"minorgridcolor\": \"white\", \"startlinecolor\": \"#2a3f5f\"}, \"baxis\": {\"endlinecolor\": \"#2a3f5f\", \"gridcolor\": \"white\", \"linecolor\": \"white\", \"minorgridcolor\": \"white\", \"startlinecolor\": \"#2a3f5f\"}, \"type\": \"carpet\"}], \"choropleth\": [{\"colorbar\": {\"outlinewidth\": 0, \"ticks\": \"\"}, \"type\": \"choropleth\"}], \"contour\": [{\"colorbar\": {\"outlinewidth\": 0, \"ticks\": \"\"}, \"colorscale\": [[0.0, \"#0d0887\"], [0.1111111111111111, \"#46039f\"], [0.2222222222222222, \"#7201a8\"], [0.3333333333333333, \"#9c179e\"], [0.4444444444444444, \"#bd3786\"], [0.5555555555555556, \"#d8576b\"], [0.6666666666666666, \"#ed7953\"], [0.7777777777777778, \"#fb9f3a\"], [0.8888888888888888, \"#fdca26\"], [1.0, \"#f0f921\"]], \"type\": \"contour\"}], \"contourcarpet\": [{\"colorbar\": {\"outlinewidth\": 0, \"ticks\": \"\"}, \"type\": \"contourcarpet\"}], \"heatmap\": [{\"colorbar\": {\"outlinewidth\": 0, \"ticks\": \"\"}, \"colorscale\": [[0.0, \"#0d0887\"], [0.1111111111111111, \"#46039f\"], [0.2222222222222222, \"#7201a8\"], [0.3333333333333333, \"#9c179e\"], [0.4444444444444444, \"#bd3786\"], [0.5555555555555556, \"#d8576b\"], [0.6666666666666666, \"#ed7953\"], [0.7777777777777778, \"#fb9f3a\"], [0.8888888888888888, \"#fdca26\"], [1.0, \"#f0f921\"]], \"type\": \"heatmap\"}], \"heatmapgl\": [{\"colorbar\": {\"outlinewidth\": 0, \"ticks\": \"\"}, \"colorscale\": [[0.0, \"#0d0887\"], [0.1111111111111111, \"#46039f\"], [0.2222222222222222, \"#7201a8\"], [0.3333333333333333, \"#9c179e\"], [0.4444444444444444, \"#bd3786\"], [0.5555555555555556, \"#d8576b\"], [0.6666666666666666, \"#ed7953\"], [0.7777777777777778, \"#fb9f3a\"], [0.8888888888888888, \"#fdca26\"], [1.0, \"#f0f921\"]], \"type\": \"heatmapgl\"}], \"histogram\": [{\"marker\": {\"colorbar\": {\"outlinewidth\": 0, \"ticks\": \"\"}}, \"type\": \"histogram\"}], \"histogram2d\": [{\"colorbar\": {\"outlinewidth\": 0, \"ticks\": \"\"}, \"colorscale\": [[0.0, \"#0d0887\"], [0.1111111111111111, \"#46039f\"], [0.2222222222222222, \"#7201a8\"], [0.3333333333333333, \"#9c179e\"], [0.4444444444444444, \"#bd3786\"], [0.5555555555555556, \"#d8576b\"], [0.6666666666666666, \"#ed7953\"], [0.7777777777777778, \"#fb9f3a\"], [0.8888888888888888, \"#fdca26\"], [1.0, \"#f0f921\"]], \"type\": \"histogram2d\"}], \"histogram2dcontour\": [{\"colorbar\": {\"outlinewidth\": 0, \"ticks\": \"\"}, \"colorscale\": [[0.0, \"#0d0887\"], [0.1111111111111111, \"#46039f\"], [0.2222222222222222, \"#7201a8\"], [0.3333333333333333, \"#9c179e\"], [0.4444444444444444, \"#bd3786\"], [0.5555555555555556, \"#d8576b\"], [0.6666666666666666, \"#ed7953\"], [0.7777777777777778, \"#fb9f3a\"], [0.8888888888888888, \"#fdca26\"], [1.0, \"#f0f921\"]], \"type\": \"histogram2dcontour\"}], \"mesh3d\": [{\"colorbar\": {\"outlinewidth\": 0, \"ticks\": \"\"}, \"type\": \"mesh3d\"}], \"parcoords\": [{\"line\": {\"colorbar\": {\"outlinewidth\": 0, \"ticks\": \"\"}}, \"type\": \"parcoords\"}], \"pie\": [{\"automargin\": true, \"type\": \"pie\"}], \"scatter\": [{\"marker\": {\"colorbar\": {\"outlinewidth\": 0, \"ticks\": \"\"}}, \"type\": \"scatter\"}], \"scatter3d\": [{\"line\": {\"colorbar\": {\"outlinewidth\": 0, \"ticks\": \"\"}}, \"marker\": {\"colorbar\": {\"outlinewidth\": 0, \"ticks\": \"\"}}, \"type\": \"scatter3d\"}], \"scattercarpet\": [{\"marker\": {\"colorbar\": {\"outlinewidth\": 0, \"ticks\": \"\"}}, \"type\": \"scattercarpet\"}], \"scattergeo\": [{\"marker\": {\"colorbar\": {\"outlinewidth\": 0, \"ticks\": \"\"}}, \"type\": \"scattergeo\"}], \"scattergl\": [{\"marker\": {\"colorbar\": {\"outlinewidth\": 0, \"ticks\": \"\"}}, \"type\": \"scattergl\"}], \"scattermapbox\": [{\"marker\": {\"colorbar\": {\"outlinewidth\": 0, \"ticks\": \"\"}}, \"type\": \"scattermapbox\"}], \"scatterpolar\": [{\"marker\": {\"colorbar\": {\"outlinewidth\": 0, \"ticks\": \"\"}}, \"type\": \"scatterpolar\"}], \"scatterpolargl\": [{\"marker\": {\"colorbar\": {\"outlinewidth\": 0, \"ticks\": \"\"}}, \"type\": \"scatterpolargl\"}], \"scatterternary\": [{\"marker\": {\"colorbar\": {\"outlinewidth\": 0, \"ticks\": \"\"}}, \"type\": \"scatterternary\"}], \"surface\": [{\"colorbar\": {\"outlinewidth\": 0, \"ticks\": \"\"}, \"colorscale\": [[0.0, \"#0d0887\"], [0.1111111111111111, \"#46039f\"], [0.2222222222222222, \"#7201a8\"], [0.3333333333333333, \"#9c179e\"], [0.4444444444444444, \"#bd3786\"], [0.5555555555555556, \"#d8576b\"], [0.6666666666666666, \"#ed7953\"], [0.7777777777777778, \"#fb9f3a\"], [0.8888888888888888, \"#fdca26\"], [1.0, \"#f0f921\"]], \"type\": \"surface\"}], \"table\": [{\"cells\": {\"fill\": {\"color\": \"#EBF0F8\"}, \"line\": {\"color\": \"white\"}}, \"header\": {\"fill\": {\"color\": \"#C8D4E3\"}, \"line\": {\"color\": \"white\"}}, \"type\": \"table\"}]}, \"layout\": {\"annotationdefaults\": {\"arrowcolor\": \"#2a3f5f\", \"arrowhead\": 0, \"arrowwidth\": 1}, \"autotypenumbers\": \"strict\", \"coloraxis\": {\"colorbar\": {\"outlinewidth\": 0, \"ticks\": \"\"}}, \"colorscale\": {\"diverging\": [[0, \"#8e0152\"], [0.1, \"#c51b7d\"], [0.2, \"#de77ae\"], [0.3, \"#f1b6da\"], [0.4, \"#fde0ef\"], [0.5, \"#f7f7f7\"], [0.6, \"#e6f5d0\"], [0.7, \"#b8e186\"], [0.8, \"#7fbc41\"], [0.9, \"#4d9221\"], [1, \"#276419\"]], \"sequential\": [[0.0, \"#0d0887\"], [0.1111111111111111, \"#46039f\"], [0.2222222222222222, \"#7201a8\"], [0.3333333333333333, \"#9c179e\"], [0.4444444444444444, \"#bd3786\"], [0.5555555555555556, \"#d8576b\"], [0.6666666666666666, \"#ed7953\"], [0.7777777777777778, \"#fb9f3a\"], [0.8888888888888888, \"#fdca26\"], [1.0, \"#f0f921\"]], \"sequentialminus\": [[0.0, \"#0d0887\"], [0.1111111111111111, \"#46039f\"], [0.2222222222222222, \"#7201a8\"], [0.3333333333333333, \"#9c179e\"], [0.4444444444444444, \"#bd3786\"], [0.5555555555555556, \"#d8576b\"], [0.6666666666666666, \"#ed7953\"], [0.7777777777777778, \"#fb9f3a\"], [0.8888888888888888, \"#fdca26\"], [1.0, \"#f0f921\"]]}, \"colorway\": [\"#636efa\", \"#EF553B\", \"#00cc96\", \"#ab63fa\", \"#FFA15A\", \"#19d3f3\", \"#FF6692\", \"#B6E880\", \"#FF97FF\", \"#FECB52\"], \"font\": {\"color\": \"#2a3f5f\"}, \"geo\": {\"bgcolor\": \"white\", \"lakecolor\": \"white\", \"landcolor\": \"#E5ECF6\", \"showlakes\": true, \"showland\": true, \"subunitcolor\": \"white\"}, \"hoverlabel\": {\"align\": \"left\"}, \"hovermode\": \"closest\", \"mapbox\": {\"style\": \"light\"}, \"paper_bgcolor\": \"white\", \"plot_bgcolor\": \"#E5ECF6\", \"polar\": {\"angularaxis\": {\"gridcolor\": \"white\", \"linecolor\": \"white\", \"ticks\": \"\"}, \"bgcolor\": \"#E5ECF6\", \"radialaxis\": {\"gridcolor\": \"white\", \"linecolor\": \"white\", \"ticks\": \"\"}}, \"scene\": {\"xaxis\": {\"backgroundcolor\": \"#E5ECF6\", \"gridcolor\": \"white\", \"gridwidth\": 2, \"linecolor\": \"white\", \"showbackground\": true, \"ticks\": \"\", \"zerolinecolor\": \"white\"}, \"yaxis\": {\"backgroundcolor\": \"#E5ECF6\", \"gridcolor\": \"white\", \"gridwidth\": 2, \"linecolor\": \"white\", \"showbackground\": true, \"ticks\": \"\", \"zerolinecolor\": \"white\"}, \"zaxis\": {\"backgroundcolor\": \"#E5ECF6\", \"gridcolor\": \"white\", \"gridwidth\": 2, \"linecolor\": \"white\", \"showbackground\": true, \"ticks\": \"\", \"zerolinecolor\": \"white\"}}, \"shapedefaults\": {\"line\": {\"color\": \"#2a3f5f\"}}, \"ternary\": {\"aaxis\": {\"gridcolor\": \"white\", \"linecolor\": \"white\", \"ticks\": \"\"}, \"baxis\": {\"gridcolor\": \"white\", \"linecolor\": \"white\", \"ticks\": \"\"}, \"bgcolor\": \"#E5ECF6\", \"caxis\": {\"gridcolor\": \"white\", \"linecolor\": \"white\", \"ticks\": \"\"}}, \"title\": {\"x\": 0.05}, \"xaxis\": {\"automargin\": true, \"gridcolor\": \"white\", \"linecolor\": \"white\", \"ticks\": \"\", \"title\": {\"standoff\": 15}, \"zerolinecolor\": \"white\", \"zerolinewidth\": 2}, \"yaxis\": {\"automargin\": true, \"gridcolor\": \"white\", \"linecolor\": \"white\", \"ticks\": \"\", \"title\": {\"standoff\": 15}, \"zerolinecolor\": \"white\", \"zerolinewidth\": 2}}}, \"xaxis\": {\"anchor\": \"y\", \"domain\": [0.0, 1.0], \"title\": {\"text\": \"Genotype\"}}, \"yaxis\": {\"anchor\": \"x\", \"domain\": [0.0, 1.0], \"title\": {\"text\": \"Total_voxels\"}}},                        {\"responsive\": true}                    ).then(function(){\n",
       "                            \n",
       "var gd = document.getElementById('ed345c97-2edd-4f0c-96ae-6c40ca599f80');\n",
       "var x = new MutationObserver(function (mutations, observer) {{\n",
       "        var display = window.getComputedStyle(gd).display;\n",
       "        if (!display || display === 'none') {{\n",
       "            console.log([gd, 'removed!']);\n",
       "            Plotly.purge(gd);\n",
       "            observer.disconnect();\n",
       "        }}\n",
       "}});\n",
       "\n",
       "// Listen for the removal of the full notebook cells\n",
       "var notebookContainer = gd.closest('#notebook-container');\n",
       "if (notebookContainer) {{\n",
       "    x.observe(notebookContainer, {childList: true});\n",
       "}}\n",
       "\n",
       "// Listen for the clearing of the current output cell\n",
       "var outputEl = gd.closest('.output');\n",
       "if (outputEl) {{\n",
       "    x.observe(outputEl, {childList: true});\n",
       "}}\n",
       "\n",
       "                        })                };                });            </script>        </div>"
      ]
     },
     "metadata": {},
     "output_type": "display_data"
    }
   ],
   "source": [
    "import plotly.express as px\n",
    "fig = px.box(data, x=\"Genotype\", y=\"Total_voxels\", points=\"all\", hover_data=[\"Data_name\"])\n",
    "fig.show()\n",
    "fig.write_html(\"injection_voxels.html\")"
   ]
  },
  {
   "cell_type": "code",
   "execution_count": 10,
   "metadata": {},
   "outputs": [
    {
     "data": {
      "application/vnd.plotly.v1+json": {
       "config": {
        "plotlyServerURL": "https://plot.ly"
       },
       "data": [
        {
         "alignmentgroup": "True",
         "boxpoints": "all",
         "customdata": [
          [
           "AL207_647"
          ],
          [
           "AL208_647"
          ],
          [
           "AL209_647"
          ],
          [
           "AL210_647"
          ],
          [
           "AL211_647"
          ],
          [
           "AL213_647"
          ],
          [
           "AL214_647"
          ],
          [
           "AL215_647"
          ],
          [
           "AL254_561"
          ],
          [
           "AL255_561"
          ],
          [
           "AL256_561"
          ],
          [
           "AL257_561"
          ],
          [
           "AL266_647"
          ],
          [
           "AL271_561"
          ],
          [
           "AL273_647"
          ],
          [
           "AL274_561"
          ],
          [
           "AL274_647"
          ],
          [
           "AL276_647"
          ],
          [
           "AL278_647"
          ],
          [
           "AL279_647"
          ],
          [
           "AL280_647"
          ],
          [
           "AL281_647"
          ],
          [
           "AL284_561"
          ],
          [
           "AL284_647"
          ],
          [
           "AL285_647"
          ],
          [
           "AL286_647"
          ],
          [
           "AL287_647"
          ],
          [
           "AL288_647"
          ],
          [
           "AL289_647"
          ],
          [
           "AL290_561"
          ],
          [
           "AL290_647"
          ],
          [
           "AL291_561"
          ],
          [
           "AL291_647"
          ],
          [
           "AL292_561"
          ],
          [
           "AL292_647"
          ],
          [
           "AL293_561"
          ],
          [
           "AL293_647"
          ],
          [
           "AL302_561"
          ],
          [
           "AL303_561"
          ],
          [
           "AL309_647"
          ],
          [
           "AL310_647"
          ],
          [
           "AL311_647"
          ],
          [
           "AL313_647"
          ],
          [
           "AL314_647"
          ],
          [
           "AL318_647"
          ],
          [
           "AL319_647"
          ],
          [
           "AL320_647"
          ],
          [
           "AL321_647"
          ],
          [
           "AL322_647"
          ],
          [
           "AL323_647"
          ],
          [
           "AL324_647"
          ],
          [
           "AL325_647"
          ],
          [
           "AL326_647"
          ],
          [
           "AL327_647"
          ],
          [
           "AL328_647"
          ],
          [
           "AL329_647"
          ],
          [
           "AL330_647"
          ],
          [
           "AL331_561"
          ],
          [
           "AL332_561"
          ],
          [
           "AL333_561"
          ],
          [
           "AL334_561"
          ]
         ],
         "hovertemplate": "Genotype=%{x}<br>inj_radius=%{y}<br>Data_name=%{customdata[0]}<extra></extra>",
         "legendgroup": "",
         "marker": {
          "color": "#636efa"
         },
         "name": "",
         "notched": false,
         "offsetgroup": "",
         "orientation": "v",
         "showlegend": false,
         "type": "box",
         "x": [
          "Sim1Cre",
          "Sim1Cre",
          "Sim1Cre",
          "Tlx3Cre",
          "Rbp4Cre",
          "Tlx3Cre",
          "Rbp4Cre",
          "Rbp4Cre",
          "Rasgrf2dCre",
          "Rasgrf2dCre",
          "Rasgrf2dCre",
          "Rasgrf2dCre",
          "Rbp4Cre",
          "Rbp4Cre",
          "Sim1Cre",
          "Ntsr1Cre",
          "Ntsr1Cre",
          "Ntsr1Cre",
          "Tlx3Cre",
          "Rbp4Cre",
          "Tlx3Cre",
          "Sim1Cre",
          "Ntsr1Cre",
          "Ntsr1Cre",
          "Ntsr1Cre",
          "Sim1Cre",
          "Sim1Cre",
          "Rbp4Cre",
          "Rbp4Cre",
          "Scnn1aCre",
          "Scnn1aCre",
          "Scnn1aCre",
          "Scnn1aCre",
          "Scnn1aCre",
          "Scnn1aCre",
          "Scnn1aCre",
          "Scnn1aCre",
          "Rasgrf2dCre",
          "Rasgrf2dCre",
          "Rbp4Cre",
          "Ntsr1Cre",
          "Ntsr1Cre",
          "Tlx3Cre",
          "Tlx3Cre",
          "Rbp4Cre",
          "Tlx3Cre",
          "Tlx3Cre",
          "Sim1Cre",
          "Sim1Cre",
          "Scnn1aCre",
          "Scnn1aCre",
          "Rbp4Cre",
          "Rbp4Cre",
          "Rbp4Cre",
          "Rbp4Cre",
          "Ntsr1Cre",
          "Ntsr1Cre",
          "Rasgrf2dCre",
          "Rasgrf2dCre",
          "Rasgrf2dCre",
          "Rasgrf2dCre"
         ],
         "x0": " ",
         "xaxis": "x",
         "y": [
          289.1359815610574,
          184.76725557619122,
          250.5797648633491,
          190.55708918799525,
          180.7849185825374,
          222.27455057007924,
          239.41631104015366,
          211.6862221163872,
          257.5524180089549,
          333.6688898165197,
          301.15289823280114,
          252.71989782084452,
          347.93711817888817,
          281.8285683499357,
          227.53480985543368,
          201.8583273110118,
          273.27466913955817,
          226.4731261559658,
          165.7610008177413,
          284.34211849661637,
          182.96507154903193,
          187.49484084546222,
          224.02245637328332,
          232.79215463174916,
          220.77966908598512,
          150.78181823222505,
          316.767531808709,
          246.5140671068359,
          318.25987868452916,
          154.09911387056025,
          211.12980945135536,
          204.5087168423593,
          248.05939524810148,
          192.9912906213851,
          204.1513395884513,
          153.3096578405099,
          219.83177533367336,
          381.8063224145829,
          230.61510087226856,
          216.4347328300972,
          189.073154490793,
          150.28798777947395,
          211.12980945135536,
          224.9600062119607,
          237.99793467996082,
          204.5087168423593,
          180.09751681683554,
          174.7660283692099,
          154.82871135402257,
          192.55632264566688,
          201.5220999168859,
          251.21184640574702,
          261.32093047648453,
          244.92839269048838,
          243.99211293775832,
          199.73042295883317,
          246.59588392900878,
          201.5220999168859,
          162.15333393763123,
          197.36484725602935,
          214.77636893205897
         ],
         "y0": " ",
         "yaxis": "y"
        }
       ],
       "layout": {
        "boxmode": "group",
        "legend": {
         "tracegroupgap": 0
        },
        "margin": {
         "t": 60
        },
        "template": {
         "data": {
          "bar": [
           {
            "error_x": {
             "color": "#2a3f5f"
            },
            "error_y": {
             "color": "#2a3f5f"
            },
            "marker": {
             "line": {
              "color": "#E5ECF6",
              "width": 0.5
             }
            },
            "type": "bar"
           }
          ],
          "barpolar": [
           {
            "marker": {
             "line": {
              "color": "#E5ECF6",
              "width": 0.5
             }
            },
            "type": "barpolar"
           }
          ],
          "carpet": [
           {
            "aaxis": {
             "endlinecolor": "#2a3f5f",
             "gridcolor": "white",
             "linecolor": "white",
             "minorgridcolor": "white",
             "startlinecolor": "#2a3f5f"
            },
            "baxis": {
             "endlinecolor": "#2a3f5f",
             "gridcolor": "white",
             "linecolor": "white",
             "minorgridcolor": "white",
             "startlinecolor": "#2a3f5f"
            },
            "type": "carpet"
           }
          ],
          "choropleth": [
           {
            "colorbar": {
             "outlinewidth": 0,
             "ticks": ""
            },
            "type": "choropleth"
           }
          ],
          "contour": [
           {
            "colorbar": {
             "outlinewidth": 0,
             "ticks": ""
            },
            "colorscale": [
             [
              0,
              "#0d0887"
             ],
             [
              0.1111111111111111,
              "#46039f"
             ],
             [
              0.2222222222222222,
              "#7201a8"
             ],
             [
              0.3333333333333333,
              "#9c179e"
             ],
             [
              0.4444444444444444,
              "#bd3786"
             ],
             [
              0.5555555555555556,
              "#d8576b"
             ],
             [
              0.6666666666666666,
              "#ed7953"
             ],
             [
              0.7777777777777778,
              "#fb9f3a"
             ],
             [
              0.8888888888888888,
              "#fdca26"
             ],
             [
              1,
              "#f0f921"
             ]
            ],
            "type": "contour"
           }
          ],
          "contourcarpet": [
           {
            "colorbar": {
             "outlinewidth": 0,
             "ticks": ""
            },
            "type": "contourcarpet"
           }
          ],
          "heatmap": [
           {
            "colorbar": {
             "outlinewidth": 0,
             "ticks": ""
            },
            "colorscale": [
             [
              0,
              "#0d0887"
             ],
             [
              0.1111111111111111,
              "#46039f"
             ],
             [
              0.2222222222222222,
              "#7201a8"
             ],
             [
              0.3333333333333333,
              "#9c179e"
             ],
             [
              0.4444444444444444,
              "#bd3786"
             ],
             [
              0.5555555555555556,
              "#d8576b"
             ],
             [
              0.6666666666666666,
              "#ed7953"
             ],
             [
              0.7777777777777778,
              "#fb9f3a"
             ],
             [
              0.8888888888888888,
              "#fdca26"
             ],
             [
              1,
              "#f0f921"
             ]
            ],
            "type": "heatmap"
           }
          ],
          "heatmapgl": [
           {
            "colorbar": {
             "outlinewidth": 0,
             "ticks": ""
            },
            "colorscale": [
             [
              0,
              "#0d0887"
             ],
             [
              0.1111111111111111,
              "#46039f"
             ],
             [
              0.2222222222222222,
              "#7201a8"
             ],
             [
              0.3333333333333333,
              "#9c179e"
             ],
             [
              0.4444444444444444,
              "#bd3786"
             ],
             [
              0.5555555555555556,
              "#d8576b"
             ],
             [
              0.6666666666666666,
              "#ed7953"
             ],
             [
              0.7777777777777778,
              "#fb9f3a"
             ],
             [
              0.8888888888888888,
              "#fdca26"
             ],
             [
              1,
              "#f0f921"
             ]
            ],
            "type": "heatmapgl"
           }
          ],
          "histogram": [
           {
            "marker": {
             "colorbar": {
              "outlinewidth": 0,
              "ticks": ""
             }
            },
            "type": "histogram"
           }
          ],
          "histogram2d": [
           {
            "colorbar": {
             "outlinewidth": 0,
             "ticks": ""
            },
            "colorscale": [
             [
              0,
              "#0d0887"
             ],
             [
              0.1111111111111111,
              "#46039f"
             ],
             [
              0.2222222222222222,
              "#7201a8"
             ],
             [
              0.3333333333333333,
              "#9c179e"
             ],
             [
              0.4444444444444444,
              "#bd3786"
             ],
             [
              0.5555555555555556,
              "#d8576b"
             ],
             [
              0.6666666666666666,
              "#ed7953"
             ],
             [
              0.7777777777777778,
              "#fb9f3a"
             ],
             [
              0.8888888888888888,
              "#fdca26"
             ],
             [
              1,
              "#f0f921"
             ]
            ],
            "type": "histogram2d"
           }
          ],
          "histogram2dcontour": [
           {
            "colorbar": {
             "outlinewidth": 0,
             "ticks": ""
            },
            "colorscale": [
             [
              0,
              "#0d0887"
             ],
             [
              0.1111111111111111,
              "#46039f"
             ],
             [
              0.2222222222222222,
              "#7201a8"
             ],
             [
              0.3333333333333333,
              "#9c179e"
             ],
             [
              0.4444444444444444,
              "#bd3786"
             ],
             [
              0.5555555555555556,
              "#d8576b"
             ],
             [
              0.6666666666666666,
              "#ed7953"
             ],
             [
              0.7777777777777778,
              "#fb9f3a"
             ],
             [
              0.8888888888888888,
              "#fdca26"
             ],
             [
              1,
              "#f0f921"
             ]
            ],
            "type": "histogram2dcontour"
           }
          ],
          "mesh3d": [
           {
            "colorbar": {
             "outlinewidth": 0,
             "ticks": ""
            },
            "type": "mesh3d"
           }
          ],
          "parcoords": [
           {
            "line": {
             "colorbar": {
              "outlinewidth": 0,
              "ticks": ""
             }
            },
            "type": "parcoords"
           }
          ],
          "pie": [
           {
            "automargin": true,
            "type": "pie"
           }
          ],
          "scatter": [
           {
            "marker": {
             "colorbar": {
              "outlinewidth": 0,
              "ticks": ""
             }
            },
            "type": "scatter"
           }
          ],
          "scatter3d": [
           {
            "line": {
             "colorbar": {
              "outlinewidth": 0,
              "ticks": ""
             }
            },
            "marker": {
             "colorbar": {
              "outlinewidth": 0,
              "ticks": ""
             }
            },
            "type": "scatter3d"
           }
          ],
          "scattercarpet": [
           {
            "marker": {
             "colorbar": {
              "outlinewidth": 0,
              "ticks": ""
             }
            },
            "type": "scattercarpet"
           }
          ],
          "scattergeo": [
           {
            "marker": {
             "colorbar": {
              "outlinewidth": 0,
              "ticks": ""
             }
            },
            "type": "scattergeo"
           }
          ],
          "scattergl": [
           {
            "marker": {
             "colorbar": {
              "outlinewidth": 0,
              "ticks": ""
             }
            },
            "type": "scattergl"
           }
          ],
          "scattermapbox": [
           {
            "marker": {
             "colorbar": {
              "outlinewidth": 0,
              "ticks": ""
             }
            },
            "type": "scattermapbox"
           }
          ],
          "scatterpolar": [
           {
            "marker": {
             "colorbar": {
              "outlinewidth": 0,
              "ticks": ""
             }
            },
            "type": "scatterpolar"
           }
          ],
          "scatterpolargl": [
           {
            "marker": {
             "colorbar": {
              "outlinewidth": 0,
              "ticks": ""
             }
            },
            "type": "scatterpolargl"
           }
          ],
          "scatterternary": [
           {
            "marker": {
             "colorbar": {
              "outlinewidth": 0,
              "ticks": ""
             }
            },
            "type": "scatterternary"
           }
          ],
          "surface": [
           {
            "colorbar": {
             "outlinewidth": 0,
             "ticks": ""
            },
            "colorscale": [
             [
              0,
              "#0d0887"
             ],
             [
              0.1111111111111111,
              "#46039f"
             ],
             [
              0.2222222222222222,
              "#7201a8"
             ],
             [
              0.3333333333333333,
              "#9c179e"
             ],
             [
              0.4444444444444444,
              "#bd3786"
             ],
             [
              0.5555555555555556,
              "#d8576b"
             ],
             [
              0.6666666666666666,
              "#ed7953"
             ],
             [
              0.7777777777777778,
              "#fb9f3a"
             ],
             [
              0.8888888888888888,
              "#fdca26"
             ],
             [
              1,
              "#f0f921"
             ]
            ],
            "type": "surface"
           }
          ],
          "table": [
           {
            "cells": {
             "fill": {
              "color": "#EBF0F8"
             },
             "line": {
              "color": "white"
             }
            },
            "header": {
             "fill": {
              "color": "#C8D4E3"
             },
             "line": {
              "color": "white"
             }
            },
            "type": "table"
           }
          ]
         },
         "layout": {
          "annotationdefaults": {
           "arrowcolor": "#2a3f5f",
           "arrowhead": 0,
           "arrowwidth": 1
          },
          "autotypenumbers": "strict",
          "coloraxis": {
           "colorbar": {
            "outlinewidth": 0,
            "ticks": ""
           }
          },
          "colorscale": {
           "diverging": [
            [
             0,
             "#8e0152"
            ],
            [
             0.1,
             "#c51b7d"
            ],
            [
             0.2,
             "#de77ae"
            ],
            [
             0.3,
             "#f1b6da"
            ],
            [
             0.4,
             "#fde0ef"
            ],
            [
             0.5,
             "#f7f7f7"
            ],
            [
             0.6,
             "#e6f5d0"
            ],
            [
             0.7,
             "#b8e186"
            ],
            [
             0.8,
             "#7fbc41"
            ],
            [
             0.9,
             "#4d9221"
            ],
            [
             1,
             "#276419"
            ]
           ],
           "sequential": [
            [
             0,
             "#0d0887"
            ],
            [
             0.1111111111111111,
             "#46039f"
            ],
            [
             0.2222222222222222,
             "#7201a8"
            ],
            [
             0.3333333333333333,
             "#9c179e"
            ],
            [
             0.4444444444444444,
             "#bd3786"
            ],
            [
             0.5555555555555556,
             "#d8576b"
            ],
            [
             0.6666666666666666,
             "#ed7953"
            ],
            [
             0.7777777777777778,
             "#fb9f3a"
            ],
            [
             0.8888888888888888,
             "#fdca26"
            ],
            [
             1,
             "#f0f921"
            ]
           ],
           "sequentialminus": [
            [
             0,
             "#0d0887"
            ],
            [
             0.1111111111111111,
             "#46039f"
            ],
            [
             0.2222222222222222,
             "#7201a8"
            ],
            [
             0.3333333333333333,
             "#9c179e"
            ],
            [
             0.4444444444444444,
             "#bd3786"
            ],
            [
             0.5555555555555556,
             "#d8576b"
            ],
            [
             0.6666666666666666,
             "#ed7953"
            ],
            [
             0.7777777777777778,
             "#fb9f3a"
            ],
            [
             0.8888888888888888,
             "#fdca26"
            ],
            [
             1,
             "#f0f921"
            ]
           ]
          },
          "colorway": [
           "#636efa",
           "#EF553B",
           "#00cc96",
           "#ab63fa",
           "#FFA15A",
           "#19d3f3",
           "#FF6692",
           "#B6E880",
           "#FF97FF",
           "#FECB52"
          ],
          "font": {
           "color": "#2a3f5f"
          },
          "geo": {
           "bgcolor": "white",
           "lakecolor": "white",
           "landcolor": "#E5ECF6",
           "showlakes": true,
           "showland": true,
           "subunitcolor": "white"
          },
          "hoverlabel": {
           "align": "left"
          },
          "hovermode": "closest",
          "mapbox": {
           "style": "light"
          },
          "paper_bgcolor": "white",
          "plot_bgcolor": "#E5ECF6",
          "polar": {
           "angularaxis": {
            "gridcolor": "white",
            "linecolor": "white",
            "ticks": ""
           },
           "bgcolor": "#E5ECF6",
           "radialaxis": {
            "gridcolor": "white",
            "linecolor": "white",
            "ticks": ""
           }
          },
          "scene": {
           "xaxis": {
            "backgroundcolor": "#E5ECF6",
            "gridcolor": "white",
            "gridwidth": 2,
            "linecolor": "white",
            "showbackground": true,
            "ticks": "",
            "zerolinecolor": "white"
           },
           "yaxis": {
            "backgroundcolor": "#E5ECF6",
            "gridcolor": "white",
            "gridwidth": 2,
            "linecolor": "white",
            "showbackground": true,
            "ticks": "",
            "zerolinecolor": "white"
           },
           "zaxis": {
            "backgroundcolor": "#E5ECF6",
            "gridcolor": "white",
            "gridwidth": 2,
            "linecolor": "white",
            "showbackground": true,
            "ticks": "",
            "zerolinecolor": "white"
           }
          },
          "shapedefaults": {
           "line": {
            "color": "#2a3f5f"
           }
          },
          "ternary": {
           "aaxis": {
            "gridcolor": "white",
            "linecolor": "white",
            "ticks": ""
           },
           "baxis": {
            "gridcolor": "white",
            "linecolor": "white",
            "ticks": ""
           },
           "bgcolor": "#E5ECF6",
           "caxis": {
            "gridcolor": "white",
            "linecolor": "white",
            "ticks": ""
           }
          },
          "title": {
           "x": 0.05
          },
          "xaxis": {
           "automargin": true,
           "gridcolor": "white",
           "linecolor": "white",
           "ticks": "",
           "title": {
            "standoff": 15
           },
           "zerolinecolor": "white",
           "zerolinewidth": 2
          },
          "yaxis": {
           "automargin": true,
           "gridcolor": "white",
           "linecolor": "white",
           "ticks": "",
           "title": {
            "standoff": 15
           },
           "zerolinecolor": "white",
           "zerolinewidth": 2
          }
         }
        },
        "xaxis": {
         "anchor": "y",
         "domain": [
          0,
          1
         ],
         "title": {
          "text": "Genotype"
         }
        },
        "yaxis": {
         "anchor": "x",
         "domain": [
          0,
          1
         ],
         "title": {
          "text": "inj_radius"
         }
        }
       }
      },
      "text/html": [
       "<div>                            <div id=\"8500e358-05b2-4bcf-9a85-3f356241a012\" class=\"plotly-graph-div\" style=\"height:525px; width:100%;\"></div>            <script type=\"text/javascript\">                require([\"plotly\"], function(Plotly) {                    window.PLOTLYENV=window.PLOTLYENV || {};                                    if (document.getElementById(\"8500e358-05b2-4bcf-9a85-3f356241a012\")) {                    Plotly.newPlot(                        \"8500e358-05b2-4bcf-9a85-3f356241a012\",                        [{\"alignmentgroup\": \"True\", \"boxpoints\": \"all\", \"customdata\": [[\"AL207_647\"], [\"AL208_647\"], [\"AL209_647\"], [\"AL210_647\"], [\"AL211_647\"], [\"AL213_647\"], [\"AL214_647\"], [\"AL215_647\"], [\"AL254_561\"], [\"AL255_561\"], [\"AL256_561\"], [\"AL257_561\"], [\"AL266_647\"], [\"AL271_561\"], [\"AL273_647\"], [\"AL274_561\"], [\"AL274_647\"], [\"AL276_647\"], [\"AL278_647\"], [\"AL279_647\"], [\"AL280_647\"], [\"AL281_647\"], [\"AL284_561\"], [\"AL284_647\"], [\"AL285_647\"], [\"AL286_647\"], [\"AL287_647\"], [\"AL288_647\"], [\"AL289_647\"], [\"AL290_561\"], [\"AL290_647\"], [\"AL291_561\"], [\"AL291_647\"], [\"AL292_561\"], [\"AL292_647\"], [\"AL293_561\"], [\"AL293_647\"], [\"AL302_561\"], [\"AL303_561\"], [\"AL309_647\"], [\"AL310_647\"], [\"AL311_647\"], [\"AL313_647\"], [\"AL314_647\"], [\"AL318_647\"], [\"AL319_647\"], [\"AL320_647\"], [\"AL321_647\"], [\"AL322_647\"], [\"AL323_647\"], [\"AL324_647\"], [\"AL325_647\"], [\"AL326_647\"], [\"AL327_647\"], [\"AL328_647\"], [\"AL329_647\"], [\"AL330_647\"], [\"AL331_561\"], [\"AL332_561\"], [\"AL333_561\"], [\"AL334_561\"]], \"hovertemplate\": \"Genotype=%{x}<br>inj_radius=%{y}<br>Data_name=%{customdata[0]}<extra></extra>\", \"legendgroup\": \"\", \"marker\": {\"color\": \"#636efa\"}, \"name\": \"\", \"notched\": false, \"offsetgroup\": \"\", \"orientation\": \"v\", \"showlegend\": false, \"type\": \"box\", \"x\": [\"Sim1Cre\", \"Sim1Cre\", \"Sim1Cre\", \"Tlx3Cre\", \"Rbp4Cre\", \"Tlx3Cre\", \"Rbp4Cre\", \"Rbp4Cre\", \"Rasgrf2dCre\", \"Rasgrf2dCre\", \"Rasgrf2dCre\", \"Rasgrf2dCre\", \"Rbp4Cre\", \"Rbp4Cre\", \"Sim1Cre\", \"Ntsr1Cre\", \"Ntsr1Cre\", \"Ntsr1Cre\", \"Tlx3Cre\", \"Rbp4Cre\", \"Tlx3Cre\", \"Sim1Cre\", \"Ntsr1Cre\", \"Ntsr1Cre\", \"Ntsr1Cre\", \"Sim1Cre\", \"Sim1Cre\", \"Rbp4Cre\", \"Rbp4Cre\", \"Scnn1aCre\", \"Scnn1aCre\", \"Scnn1aCre\", \"Scnn1aCre\", \"Scnn1aCre\", \"Scnn1aCre\", \"Scnn1aCre\", \"Scnn1aCre\", \"Rasgrf2dCre\", \"Rasgrf2dCre\", \"Rbp4Cre\", \"Ntsr1Cre\", \"Ntsr1Cre\", \"Tlx3Cre\", \"Tlx3Cre\", \"Rbp4Cre\", \"Tlx3Cre\", \"Tlx3Cre\", \"Sim1Cre\", \"Sim1Cre\", \"Scnn1aCre\", \"Scnn1aCre\", \"Rbp4Cre\", \"Rbp4Cre\", \"Rbp4Cre\", \"Rbp4Cre\", \"Ntsr1Cre\", \"Ntsr1Cre\", \"Rasgrf2dCre\", \"Rasgrf2dCre\", \"Rasgrf2dCre\", \"Rasgrf2dCre\"], \"x0\": \" \", \"xaxis\": \"x\", \"y\": [289.1359815610574, 184.76725557619122, 250.5797648633491, 190.55708918799525, 180.7849185825374, 222.27455057007924, 239.41631104015366, 211.6862221163872, 257.5524180089549, 333.6688898165197, 301.15289823280114, 252.71989782084452, 347.93711817888817, 281.8285683499357, 227.53480985543368, 201.8583273110118, 273.27466913955817, 226.4731261559658, 165.7610008177413, 284.34211849661637, 182.96507154903193, 187.49484084546222, 224.02245637328332, 232.79215463174916, 220.77966908598512, 150.78181823222505, 316.767531808709, 246.5140671068359, 318.25987868452916, 154.09911387056025, 211.12980945135536, 204.5087168423593, 248.05939524810148, 192.9912906213851, 204.1513395884513, 153.3096578405099, 219.83177533367336, 381.8063224145829, 230.61510087226856, 216.4347328300972, 189.073154490793, 150.28798777947395, 211.12980945135536, 224.9600062119607, 237.99793467996082, 204.5087168423593, 180.09751681683554, 174.7660283692099, 154.82871135402257, 192.55632264566688, 201.5220999168859, 251.21184640574702, 261.32093047648453, 244.92839269048838, 243.99211293775832, 199.73042295883317, 246.59588392900878, 201.5220999168859, 162.15333393763123, 197.36484725602935, 214.77636893205897], \"y0\": \" \", \"yaxis\": \"y\"}],                        {\"boxmode\": \"group\", \"legend\": {\"tracegroupgap\": 0}, \"margin\": {\"t\": 60}, \"template\": {\"data\": {\"bar\": [{\"error_x\": {\"color\": \"#2a3f5f\"}, \"error_y\": {\"color\": \"#2a3f5f\"}, \"marker\": {\"line\": {\"color\": \"#E5ECF6\", \"width\": 0.5}}, \"type\": \"bar\"}], \"barpolar\": [{\"marker\": {\"line\": {\"color\": \"#E5ECF6\", \"width\": 0.5}}, \"type\": \"barpolar\"}], \"carpet\": [{\"aaxis\": {\"endlinecolor\": \"#2a3f5f\", \"gridcolor\": \"white\", \"linecolor\": \"white\", \"minorgridcolor\": \"white\", \"startlinecolor\": \"#2a3f5f\"}, \"baxis\": {\"endlinecolor\": \"#2a3f5f\", \"gridcolor\": \"white\", \"linecolor\": \"white\", \"minorgridcolor\": \"white\", \"startlinecolor\": \"#2a3f5f\"}, \"type\": \"carpet\"}], \"choropleth\": [{\"colorbar\": {\"outlinewidth\": 0, \"ticks\": \"\"}, \"type\": \"choropleth\"}], \"contour\": [{\"colorbar\": {\"outlinewidth\": 0, \"ticks\": \"\"}, \"colorscale\": [[0.0, \"#0d0887\"], [0.1111111111111111, \"#46039f\"], [0.2222222222222222, \"#7201a8\"], [0.3333333333333333, \"#9c179e\"], [0.4444444444444444, \"#bd3786\"], [0.5555555555555556, \"#d8576b\"], [0.6666666666666666, \"#ed7953\"], [0.7777777777777778, \"#fb9f3a\"], [0.8888888888888888, \"#fdca26\"], [1.0, \"#f0f921\"]], \"type\": \"contour\"}], \"contourcarpet\": [{\"colorbar\": {\"outlinewidth\": 0, \"ticks\": \"\"}, \"type\": \"contourcarpet\"}], \"heatmap\": [{\"colorbar\": {\"outlinewidth\": 0, \"ticks\": \"\"}, \"colorscale\": [[0.0, \"#0d0887\"], [0.1111111111111111, \"#46039f\"], [0.2222222222222222, \"#7201a8\"], [0.3333333333333333, \"#9c179e\"], [0.4444444444444444, \"#bd3786\"], [0.5555555555555556, \"#d8576b\"], [0.6666666666666666, \"#ed7953\"], [0.7777777777777778, \"#fb9f3a\"], [0.8888888888888888, \"#fdca26\"], [1.0, \"#f0f921\"]], \"type\": \"heatmap\"}], \"heatmapgl\": [{\"colorbar\": {\"outlinewidth\": 0, \"ticks\": \"\"}, \"colorscale\": [[0.0, \"#0d0887\"], [0.1111111111111111, \"#46039f\"], [0.2222222222222222, \"#7201a8\"], [0.3333333333333333, \"#9c179e\"], [0.4444444444444444, \"#bd3786\"], [0.5555555555555556, \"#d8576b\"], [0.6666666666666666, \"#ed7953\"], [0.7777777777777778, \"#fb9f3a\"], [0.8888888888888888, \"#fdca26\"], [1.0, \"#f0f921\"]], \"type\": \"heatmapgl\"}], \"histogram\": [{\"marker\": {\"colorbar\": {\"outlinewidth\": 0, \"ticks\": \"\"}}, \"type\": \"histogram\"}], \"histogram2d\": [{\"colorbar\": {\"outlinewidth\": 0, \"ticks\": \"\"}, \"colorscale\": [[0.0, \"#0d0887\"], [0.1111111111111111, \"#46039f\"], [0.2222222222222222, \"#7201a8\"], [0.3333333333333333, \"#9c179e\"], [0.4444444444444444, \"#bd3786\"], [0.5555555555555556, \"#d8576b\"], [0.6666666666666666, \"#ed7953\"], [0.7777777777777778, \"#fb9f3a\"], [0.8888888888888888, \"#fdca26\"], [1.0, \"#f0f921\"]], \"type\": \"histogram2d\"}], \"histogram2dcontour\": [{\"colorbar\": {\"outlinewidth\": 0, \"ticks\": \"\"}, \"colorscale\": [[0.0, \"#0d0887\"], [0.1111111111111111, \"#46039f\"], [0.2222222222222222, \"#7201a8\"], [0.3333333333333333, \"#9c179e\"], [0.4444444444444444, \"#bd3786\"], [0.5555555555555556, \"#d8576b\"], [0.6666666666666666, \"#ed7953\"], [0.7777777777777778, \"#fb9f3a\"], [0.8888888888888888, \"#fdca26\"], [1.0, \"#f0f921\"]], \"type\": \"histogram2dcontour\"}], \"mesh3d\": [{\"colorbar\": {\"outlinewidth\": 0, \"ticks\": \"\"}, \"type\": \"mesh3d\"}], \"parcoords\": [{\"line\": {\"colorbar\": {\"outlinewidth\": 0, \"ticks\": \"\"}}, \"type\": \"parcoords\"}], \"pie\": [{\"automargin\": true, \"type\": \"pie\"}], \"scatter\": [{\"marker\": {\"colorbar\": {\"outlinewidth\": 0, \"ticks\": \"\"}}, \"type\": \"scatter\"}], \"scatter3d\": [{\"line\": {\"colorbar\": {\"outlinewidth\": 0, \"ticks\": \"\"}}, \"marker\": {\"colorbar\": {\"outlinewidth\": 0, \"ticks\": \"\"}}, \"type\": \"scatter3d\"}], \"scattercarpet\": [{\"marker\": {\"colorbar\": {\"outlinewidth\": 0, \"ticks\": \"\"}}, \"type\": \"scattercarpet\"}], \"scattergeo\": [{\"marker\": {\"colorbar\": {\"outlinewidth\": 0, \"ticks\": \"\"}}, \"type\": \"scattergeo\"}], \"scattergl\": [{\"marker\": {\"colorbar\": {\"outlinewidth\": 0, \"ticks\": \"\"}}, \"type\": \"scattergl\"}], \"scattermapbox\": [{\"marker\": {\"colorbar\": {\"outlinewidth\": 0, \"ticks\": \"\"}}, \"type\": \"scattermapbox\"}], \"scatterpolar\": [{\"marker\": {\"colorbar\": {\"outlinewidth\": 0, \"ticks\": \"\"}}, \"type\": \"scatterpolar\"}], \"scatterpolargl\": [{\"marker\": {\"colorbar\": {\"outlinewidth\": 0, \"ticks\": \"\"}}, \"type\": \"scatterpolargl\"}], \"scatterternary\": [{\"marker\": {\"colorbar\": {\"outlinewidth\": 0, \"ticks\": \"\"}}, \"type\": \"scatterternary\"}], \"surface\": [{\"colorbar\": {\"outlinewidth\": 0, \"ticks\": \"\"}, \"colorscale\": [[0.0, \"#0d0887\"], [0.1111111111111111, \"#46039f\"], [0.2222222222222222, \"#7201a8\"], [0.3333333333333333, \"#9c179e\"], [0.4444444444444444, \"#bd3786\"], [0.5555555555555556, \"#d8576b\"], [0.6666666666666666, \"#ed7953\"], [0.7777777777777778, \"#fb9f3a\"], [0.8888888888888888, \"#fdca26\"], [1.0, \"#f0f921\"]], \"type\": \"surface\"}], \"table\": [{\"cells\": {\"fill\": {\"color\": \"#EBF0F8\"}, \"line\": {\"color\": \"white\"}}, \"header\": {\"fill\": {\"color\": \"#C8D4E3\"}, \"line\": {\"color\": \"white\"}}, \"type\": \"table\"}]}, \"layout\": {\"annotationdefaults\": {\"arrowcolor\": \"#2a3f5f\", \"arrowhead\": 0, \"arrowwidth\": 1}, \"autotypenumbers\": \"strict\", \"coloraxis\": {\"colorbar\": {\"outlinewidth\": 0, \"ticks\": \"\"}}, \"colorscale\": {\"diverging\": [[0, \"#8e0152\"], [0.1, \"#c51b7d\"], [0.2, \"#de77ae\"], [0.3, \"#f1b6da\"], [0.4, \"#fde0ef\"], [0.5, \"#f7f7f7\"], [0.6, \"#e6f5d0\"], [0.7, \"#b8e186\"], [0.8, \"#7fbc41\"], [0.9, \"#4d9221\"], [1, \"#276419\"]], \"sequential\": [[0.0, \"#0d0887\"], [0.1111111111111111, \"#46039f\"], [0.2222222222222222, \"#7201a8\"], [0.3333333333333333, \"#9c179e\"], [0.4444444444444444, \"#bd3786\"], [0.5555555555555556, \"#d8576b\"], [0.6666666666666666, \"#ed7953\"], [0.7777777777777778, \"#fb9f3a\"], [0.8888888888888888, \"#fdca26\"], [1.0, \"#f0f921\"]], \"sequentialminus\": [[0.0, \"#0d0887\"], [0.1111111111111111, \"#46039f\"], [0.2222222222222222, \"#7201a8\"], [0.3333333333333333, \"#9c179e\"], [0.4444444444444444, \"#bd3786\"], [0.5555555555555556, \"#d8576b\"], [0.6666666666666666, \"#ed7953\"], [0.7777777777777778, \"#fb9f3a\"], [0.8888888888888888, \"#fdca26\"], [1.0, \"#f0f921\"]]}, \"colorway\": [\"#636efa\", \"#EF553B\", \"#00cc96\", \"#ab63fa\", \"#FFA15A\", \"#19d3f3\", \"#FF6692\", \"#B6E880\", \"#FF97FF\", \"#FECB52\"], \"font\": {\"color\": \"#2a3f5f\"}, \"geo\": {\"bgcolor\": \"white\", \"lakecolor\": \"white\", \"landcolor\": \"#E5ECF6\", \"showlakes\": true, \"showland\": true, \"subunitcolor\": \"white\"}, \"hoverlabel\": {\"align\": \"left\"}, \"hovermode\": \"closest\", \"mapbox\": {\"style\": \"light\"}, \"paper_bgcolor\": \"white\", \"plot_bgcolor\": \"#E5ECF6\", \"polar\": {\"angularaxis\": {\"gridcolor\": \"white\", \"linecolor\": \"white\", \"ticks\": \"\"}, \"bgcolor\": \"#E5ECF6\", \"radialaxis\": {\"gridcolor\": \"white\", \"linecolor\": \"white\", \"ticks\": \"\"}}, \"scene\": {\"xaxis\": {\"backgroundcolor\": \"#E5ECF6\", \"gridcolor\": \"white\", \"gridwidth\": 2, \"linecolor\": \"white\", \"showbackground\": true, \"ticks\": \"\", \"zerolinecolor\": \"white\"}, \"yaxis\": {\"backgroundcolor\": \"#E5ECF6\", \"gridcolor\": \"white\", \"gridwidth\": 2, \"linecolor\": \"white\", \"showbackground\": true, \"ticks\": \"\", \"zerolinecolor\": \"white\"}, \"zaxis\": {\"backgroundcolor\": \"#E5ECF6\", \"gridcolor\": \"white\", \"gridwidth\": 2, \"linecolor\": \"white\", \"showbackground\": true, \"ticks\": \"\", \"zerolinecolor\": \"white\"}}, \"shapedefaults\": {\"line\": {\"color\": \"#2a3f5f\"}}, \"ternary\": {\"aaxis\": {\"gridcolor\": \"white\", \"linecolor\": \"white\", \"ticks\": \"\"}, \"baxis\": {\"gridcolor\": \"white\", \"linecolor\": \"white\", \"ticks\": \"\"}, \"bgcolor\": \"#E5ECF6\", \"caxis\": {\"gridcolor\": \"white\", \"linecolor\": \"white\", \"ticks\": \"\"}}, \"title\": {\"x\": 0.05}, \"xaxis\": {\"automargin\": true, \"gridcolor\": \"white\", \"linecolor\": \"white\", \"ticks\": \"\", \"title\": {\"standoff\": 15}, \"zerolinecolor\": \"white\", \"zerolinewidth\": 2}, \"yaxis\": {\"automargin\": true, \"gridcolor\": \"white\", \"linecolor\": \"white\", \"ticks\": \"\", \"title\": {\"standoff\": 15}, \"zerolinecolor\": \"white\", \"zerolinewidth\": 2}}}, \"xaxis\": {\"anchor\": \"y\", \"domain\": [0.0, 1.0], \"title\": {\"text\": \"Genotype\"}}, \"yaxis\": {\"anchor\": \"x\", \"domain\": [0.0, 1.0], \"title\": {\"text\": \"inj_radius\"}}},                        {\"responsive\": true}                    ).then(function(){\n",
       "                            \n",
       "var gd = document.getElementById('8500e358-05b2-4bcf-9a85-3f356241a012');\n",
       "var x = new MutationObserver(function (mutations, observer) {{\n",
       "        var display = window.getComputedStyle(gd).display;\n",
       "        if (!display || display === 'none') {{\n",
       "            console.log([gd, 'removed!']);\n",
       "            Plotly.purge(gd);\n",
       "            observer.disconnect();\n",
       "        }}\n",
       "}});\n",
       "\n",
       "// Listen for the removal of the full notebook cells\n",
       "var notebookContainer = gd.closest('#notebook-container');\n",
       "if (notebookContainer) {{\n",
       "    x.observe(notebookContainer, {childList: true});\n",
       "}}\n",
       "\n",
       "// Listen for the clearing of the current output cell\n",
       "var outputEl = gd.closest('.output');\n",
       "if (outputEl) {{\n",
       "    x.observe(outputEl, {childList: true});\n",
       "}}\n",
       "\n",
       "                        })                };                });            </script>        </div>"
      ]
     },
     "metadata": {},
     "output_type": "display_data"
    }
   ],
   "source": [
    "import plotly.express as px\n",
    "fig = px.box(data, x=\"Genotype\", y=\"inj_radius\", points=\"all\", hover_data=[\"Data_name\"])\n",
    "fig.show()\n",
    "fig.write_html(\"injection_radius_um.html\")"
   ]
  },
  {
   "cell_type": "code",
   "execution_count": 11,
   "metadata": {},
   "outputs": [],
   "source": [
    "data=data.sort_values(by=['Genotype','Centroid_id'])\n",
    "data = data.reset_index(drop=True)"
   ]
  },
  {
   "cell_type": "code",
   "execution_count": 12,
   "metadata": {},
   "outputs": [
    {
     "data": {
      "text/html": [
       "<div>\n",
       "<style scoped>\n",
       "    .dataframe tbody tr th:only-of-type {\n",
       "        vertical-align: middle;\n",
       "    }\n",
       "\n",
       "    .dataframe tbody tr th {\n",
       "        vertical-align: top;\n",
       "    }\n",
       "\n",
       "    .dataframe thead th {\n",
       "        text-align: right;\n",
       "    }\n",
       "</style>\n",
       "<table border=\"1\" class=\"dataframe\">\n",
       "  <thead>\n",
       "    <tr style=\"text-align: right;\">\n",
       "      <th></th>\n",
       "      <th>Data_name</th>\n",
       "      <th>Total_voxels</th>\n",
       "      <th>Centroid_location_1</th>\n",
       "      <th>Centroid_location_2</th>\n",
       "      <th>Centroid_location_3</th>\n",
       "      <th>Centroid_id</th>\n",
       "      <th>Voxel_id</th>\n",
       "      <th>Genotype</th>\n",
       "      <th>Centroid_id_name</th>\n",
       "      <th>inj_radius</th>\n",
       "    </tr>\n",
       "  </thead>\n",
       "  <tbody>\n",
       "    <tr>\n",
       "      <th>0</th>\n",
       "      <td>AL329_647</td>\n",
       "      <td>2136</td>\n",
       "      <td>71</td>\n",
       "      <td>289</td>\n",
       "      <td>117</td>\n",
       "      <td>156</td>\n",
       "      <td>[{156: 1160, 243: 4, 252: 76, 520: 10, 862: 85...</td>\n",
       "      <td>Ntsr1Cre</td>\n",
       "      <td>AUDd6a</td>\n",
       "      <td>199.730423</td>\n",
       "    </tr>\n",
       "    <tr>\n",
       "      <th>1</th>\n",
       "      <td>AL274_561</td>\n",
       "      <td>2205</td>\n",
       "      <td>77</td>\n",
       "      <td>284</td>\n",
       "      <td>106</td>\n",
       "      <td>862</td>\n",
       "      <td>[{862: 1958, 1090: 247}]</td>\n",
       "      <td>Ntsr1Cre</td>\n",
       "      <td>SSs6a</td>\n",
       "      <td>201.858327</td>\n",
       "    </tr>\n",
       "    <tr>\n",
       "      <th>2</th>\n",
       "      <td>AL284_647</td>\n",
       "      <td>3382</td>\n",
       "      <td>84</td>\n",
       "      <td>285</td>\n",
       "      <td>102</td>\n",
       "      <td>862</td>\n",
       "      <td>[{862: 1824, 893: 232, 1038: 875, 1062: 48, 10...</td>\n",
       "      <td>Ntsr1Cre</td>\n",
       "      <td>SSs6a</td>\n",
       "      <td>232.792155</td>\n",
       "    </tr>\n",
       "    <tr>\n",
       "      <th>3</th>\n",
       "      <td>AL310_647</td>\n",
       "      <td>1812</td>\n",
       "      <td>74</td>\n",
       "      <td>284</td>\n",
       "      <td>111</td>\n",
       "      <td>862</td>\n",
       "      <td>[{156: 23, 252: 2, 862: 1417, 893: 45, 1090: 3...</td>\n",
       "      <td>Ntsr1Cre</td>\n",
       "      <td>SSs6a</td>\n",
       "      <td>189.073154</td>\n",
       "    </tr>\n",
       "    <tr>\n",
       "      <th>4</th>\n",
       "      <td>AL330_647</td>\n",
       "      <td>4020</td>\n",
       "      <td>79</td>\n",
       "      <td>272</td>\n",
       "      <td>109</td>\n",
       "      <td>862</td>\n",
       "      <td>[{862: 2818, 1038: 681, 1070: 72, 1090: 449}]</td>\n",
       "      <td>Ntsr1Cre</td>\n",
       "      <td>SSs6a</td>\n",
       "      <td>246.595884</td>\n",
       "    </tr>\n",
       "    <tr>\n",
       "      <th>...</th>\n",
       "      <td>...</td>\n",
       "      <td>...</td>\n",
       "      <td>...</td>\n",
       "      <td>...</td>\n",
       "      <td>...</td>\n",
       "      <td>...</td>\n",
       "      <td>...</td>\n",
       "      <td>...</td>\n",
       "      <td>...</td>\n",
       "      <td>...</td>\n",
       "    </tr>\n",
       "    <tr>\n",
       "      <th>56</th>\n",
       "      <td>AL210_647</td>\n",
       "      <td>1855</td>\n",
       "      <td>122</td>\n",
       "      <td>287</td>\n",
       "      <td>52</td>\n",
       "      <td>1070</td>\n",
       "      <td>[{1047: 10, 1070: 1134, 1111: 159, 312782558: ...</td>\n",
       "      <td>Tlx3Cre</td>\n",
       "      <td>SSp-bfd5</td>\n",
       "      <td>190.557089</td>\n",
       "    </tr>\n",
       "    <tr>\n",
       "      <th>57</th>\n",
       "      <td>AL213_647</td>\n",
       "      <td>2944</td>\n",
       "      <td>98</td>\n",
       "      <td>272</td>\n",
       "      <td>73</td>\n",
       "      <td>1070</td>\n",
       "      <td>[{1047: 44, 1070: 2900}]</td>\n",
       "      <td>Tlx3Cre</td>\n",
       "      <td>SSp-bfd5</td>\n",
       "      <td>222.274551</td>\n",
       "    </tr>\n",
       "    <tr>\n",
       "      <th>58</th>\n",
       "      <td>AL278_647</td>\n",
       "      <td>1221</td>\n",
       "      <td>70</td>\n",
       "      <td>282</td>\n",
       "      <td>94</td>\n",
       "      <td>1090</td>\n",
       "      <td>[{1035: 68, 1047: 2, 1070: 52, 1090: 1099}]</td>\n",
       "      <td>Tlx3Cre</td>\n",
       "      <td>SSs5</td>\n",
       "      <td>165.761001</td>\n",
       "    </tr>\n",
       "    <tr>\n",
       "      <th>59</th>\n",
       "      <td>AL280_647</td>\n",
       "      <td>1642</td>\n",
       "      <td>71</td>\n",
       "      <td>277</td>\n",
       "      <td>97</td>\n",
       "      <td>1090</td>\n",
       "      <td>[{1035: 8, 1070: 100, 1090: 1534}]</td>\n",
       "      <td>Tlx3Cre</td>\n",
       "      <td>SSs5</td>\n",
       "      <td>182.965072</td>\n",
       "    </tr>\n",
       "    <tr>\n",
       "      <th>60</th>\n",
       "      <td>AL319_647</td>\n",
       "      <td>2293</td>\n",
       "      <td>71</td>\n",
       "      <td>287</td>\n",
       "      <td>89</td>\n",
       "      <td>1090</td>\n",
       "      <td>[{1035: 681, 1047: 172, 1070: 189, 1090: 1251}]</td>\n",
       "      <td>Tlx3Cre</td>\n",
       "      <td>SSs5</td>\n",
       "      <td>204.508717</td>\n",
       "    </tr>\n",
       "  </tbody>\n",
       "</table>\n",
       "<p>61 rows × 10 columns</p>\n",
       "</div>"
      ],
      "text/plain": [
       "    Data_name  Total_voxels  Centroid_location_1  Centroid_location_2  \\\n",
       "0   AL329_647          2136                   71                  289   \n",
       "1   AL274_561          2205                   77                  284   \n",
       "2   AL284_647          3382                   84                  285   \n",
       "3   AL310_647          1812                   74                  284   \n",
       "4   AL330_647          4020                   79                  272   \n",
       "..        ...           ...                  ...                  ...   \n",
       "56  AL210_647          1855                  122                  287   \n",
       "57  AL213_647          2944                   98                  272   \n",
       "58  AL278_647          1221                   70                  282   \n",
       "59  AL280_647          1642                   71                  277   \n",
       "60  AL319_647          2293                   71                  287   \n",
       "\n",
       "    Centroid_location_3  Centroid_id  \\\n",
       "0                   117          156   \n",
       "1                   106          862   \n",
       "2                   102          862   \n",
       "3                   111          862   \n",
       "4                   109          862   \n",
       "..                  ...          ...   \n",
       "56                   52         1070   \n",
       "57                   73         1070   \n",
       "58                   94         1090   \n",
       "59                   97         1090   \n",
       "60                   89         1090   \n",
       "\n",
       "                                             Voxel_id  Genotype  \\\n",
       "0   [{156: 1160, 243: 4, 252: 76, 520: 10, 862: 85...  Ntsr1Cre   \n",
       "1                            [{862: 1958, 1090: 247}]  Ntsr1Cre   \n",
       "2   [{862: 1824, 893: 232, 1038: 875, 1062: 48, 10...  Ntsr1Cre   \n",
       "3   [{156: 23, 252: 2, 862: 1417, 893: 45, 1090: 3...  Ntsr1Cre   \n",
       "4       [{862: 2818, 1038: 681, 1070: 72, 1090: 449}]  Ntsr1Cre   \n",
       "..                                                ...       ...   \n",
       "56  [{1047: 10, 1070: 1134, 1111: 159, 312782558: ...   Tlx3Cre   \n",
       "57                           [{1047: 44, 1070: 2900}]   Tlx3Cre   \n",
       "58        [{1035: 68, 1047: 2, 1070: 52, 1090: 1099}]   Tlx3Cre   \n",
       "59                 [{1035: 8, 1070: 100, 1090: 1534}]   Tlx3Cre   \n",
       "60    [{1035: 681, 1047: 172, 1070: 189, 1090: 1251}]   Tlx3Cre   \n",
       "\n",
       "   Centroid_id_name  inj_radius  \n",
       "0            AUDd6a  199.730423  \n",
       "1             SSs6a  201.858327  \n",
       "2             SSs6a  232.792155  \n",
       "3             SSs6a  189.073154  \n",
       "4             SSs6a  246.595884  \n",
       "..              ...         ...  \n",
       "56         SSp-bfd5  190.557089  \n",
       "57         SSp-bfd5  222.274551  \n",
       "58             SSs5  165.761001  \n",
       "59             SSs5  182.965072  \n",
       "60             SSs5  204.508717  \n",
       "\n",
       "[61 rows x 10 columns]"
      ]
     },
     "execution_count": 12,
     "metadata": {},
     "output_type": "execute_result"
    }
   ],
   "source": [
    "data"
   ]
  },
  {
   "cell_type": "code",
   "execution_count": 12,
   "metadata": {},
   "outputs": [
    {
     "data": {
      "application/vnd.plotly.v1+json": {
       "config": {
        "plotlyServerURL": "https://plot.ly"
       },
       "data": [
        {
         "hovertemplate": "Centroid_id_name=SSs6a<br>Genotype=Ntsr1Cre<br>Centroid_location_1=%{x}<br>Centroid_location_2=%{y}<extra></extra>",
         "legendgroup": "SSs6a, Ntsr1Cre",
         "marker": {
          "color": "#636efa",
          "size": 5,
          "symbol": "circle"
         },
         "mode": "markers",
         "name": "SSs6a, Ntsr1Cre",
         "orientation": "v",
         "showlegend": true,
         "type": "scatter",
         "x": [
          77,
          84,
          74,
          76,
          79
         ],
         "xaxis": "x",
         "y": [
          284,
          285,
          284,
          260,
          272
         ],
         "yaxis": "y"
        },
        {
         "hovertemplate": "Centroid_id_name=SSp-bfd6a<br>Genotype=Ntsr1Cre<br>Centroid_location_1=%{x}<br>Centroid_location_2=%{y}<extra></extra>",
         "legendgroup": "SSp-bfd6a, Ntsr1Cre",
         "marker": {
          "color": "#EF553B",
          "size": 5,
          "symbol": "circle"
         },
         "mode": "markers",
         "name": "SSp-bfd6a, Ntsr1Cre",
         "orientation": "v",
         "showlegend": true,
         "type": "scatter",
         "x": [
          102,
          114,
          102,
          93
         ],
         "xaxis": "x",
         "y": [
          283,
          284,
          269,
          299
         ],
         "yaxis": "y"
        },
        {
         "hovertemplate": "Centroid_id_name=or<br>Genotype=Ntsr1Cre<br>Centroid_location_1=%{x}<br>Centroid_location_2=%{y}<extra></extra>",
         "legendgroup": "or, Ntsr1Cre",
         "marker": {
          "color": "#00cc96",
          "size": 5,
          "symbol": "circle"
         },
         "mode": "markers",
         "name": "or, Ntsr1Cre",
         "orientation": "v",
         "showlegend": true,
         "type": "scatter",
         "x": [
          106
         ],
         "xaxis": "x",
         "y": [
          314
         ],
         "yaxis": "y"
        },
        {
         "hovertemplate": "Centroid_id_name=SSp-bfd2/3<br>Genotype=Rasgrf2dCre<br>Centroid_location_1=%{x}<br>Centroid_location_2=%{y}<extra></extra>",
         "legendgroup": "SSp-bfd2/3, Rasgrf2dCre",
         "marker": {
          "color": "#ab63fa",
          "size": 5,
          "symbol": "diamond"
         },
         "mode": "markers",
         "name": "SSp-bfd2/3, Rasgrf2dCre",
         "orientation": "v",
         "showlegend": true,
         "type": "scatter",
         "x": [
          97,
          76,
          76
         ],
         "xaxis": "x",
         "y": [
          281,
          284,
          286
         ],
         "yaxis": "y"
        },
        {
         "hovertemplate": "Centroid_id_name=SSs2/3<br>Genotype=Rasgrf2dCre<br>Centroid_location_1=%{x}<br>Centroid_location_2=%{y}<extra></extra>",
         "legendgroup": "SSs2/3, Rasgrf2dCre",
         "marker": {
          "color": "#FFA15A",
          "size": 5,
          "symbol": "diamond"
         },
         "mode": "markers",
         "name": "SSs2/3, Rasgrf2dCre",
         "orientation": "v",
         "showlegend": true,
         "type": "scatter",
         "x": [
          61,
          62
         ],
         "xaxis": "x",
         "y": [
          282,
          294
         ],
         "yaxis": "y"
        },
        {
         "hovertemplate": "Centroid_id_name=SSp-bfd1<br>Genotype=Rasgrf2dCre<br>Centroid_location_1=%{x}<br>Centroid_location_2=%{y}<extra></extra>",
         "legendgroup": "SSp-bfd1, Rasgrf2dCre",
         "marker": {
          "color": "#19d3f3",
          "size": 5,
          "symbol": "diamond"
         },
         "mode": "markers",
         "name": "SSp-bfd1, Rasgrf2dCre",
         "orientation": "v",
         "showlegend": true,
         "type": "scatter",
         "x": [
          79
         ],
         "xaxis": "x",
         "y": [
          263
         ],
         "yaxis": "y"
        },
        {
         "hovertemplate": "Centroid_id_name=AUDd5<br>Genotype=Rbp4Cre<br>Centroid_location_1=%{x}<br>Centroid_location_2=%{y}<extra></extra>",
         "legendgroup": "AUDd5, Rbp4Cre",
         "marker": {
          "color": "#FF6692",
          "size": 5,
          "symbol": "square"
         },
         "mode": "markers",
         "name": "AUDd5, Rbp4Cre",
         "orientation": "v",
         "showlegend": true,
         "type": "scatter",
         "x": [
          62,
          63,
          60
         ],
         "xaxis": "x",
         "y": [
          287,
          294,
          290
         ],
         "yaxis": "y"
        },
        {
         "hovertemplate": "Centroid_id_name=SSp-bfd5<br>Genotype=Rbp4Cre<br>Centroid_location_1=%{x}<br>Centroid_location_2=%{y}<extra></extra>",
         "legendgroup": "SSp-bfd5, Rbp4Cre",
         "marker": {
          "color": "#B6E880",
          "size": 5,
          "symbol": "square"
         },
         "mode": "markers",
         "name": "SSp-bfd5, Rbp4Cre",
         "orientation": "v",
         "showlegend": true,
         "type": "scatter",
         "x": [
          106,
          102,
          112,
          115,
          97
         ],
         "xaxis": "x",
         "y": [
          276,
          279,
          295,
          295,
          284
         ],
         "yaxis": "y"
        },
        {
         "hovertemplate": "Centroid_id_name=SSp-bfd5<br>Genotype=Sim1Cre<br>Centroid_location_1=%{x}<br>Centroid_location_2=%{y}<extra></extra>",
         "legendgroup": "SSp-bfd5, Sim1Cre",
         "marker": {
          "color": "#B6E880",
          "size": 5,
          "symbol": "cross"
         },
         "mode": "markers",
         "name": "SSp-bfd5, Sim1Cre",
         "orientation": "v",
         "showlegend": true,
         "type": "scatter",
         "x": [
          121,
          109,
          118,
          84
         ],
         "xaxis": "x",
         "y": [
          276,
          270,
          273,
          298
         ],
         "yaxis": "y"
        },
        {
         "hovertemplate": "Centroid_id_name=SSp-bfd5<br>Genotype=Tlx3Cre<br>Centroid_location_1=%{x}<br>Centroid_location_2=%{y}<extra></extra>",
         "legendgroup": "SSp-bfd5, Tlx3Cre",
         "marker": {
          "color": "#B6E880",
          "size": 5,
          "symbol": "circle"
         },
         "mode": "markers",
         "name": "SSp-bfd5, Tlx3Cre",
         "orientation": "v",
         "showlegend": true,
         "type": "scatter",
         "x": [
          122,
          98
         ],
         "xaxis": "x",
         "y": [
          287,
          272
         ],
         "yaxis": "y"
        },
        {
         "hovertemplate": "Centroid_id_name=SSs5<br>Genotype=Rbp4Cre<br>Centroid_location_1=%{x}<br>Centroid_location_2=%{y}<extra></extra>",
         "legendgroup": "SSs5, Rbp4Cre",
         "marker": {
          "color": "#FF97FF",
          "size": 5,
          "symbol": "square"
         },
         "mode": "markers",
         "name": "SSs5, Rbp4Cre",
         "orientation": "v",
         "showlegend": true,
         "type": "scatter",
         "x": [
          76,
          70,
          78,
          70,
          60
         ],
         "xaxis": "x",
         "y": [
          290,
          270,
          292,
          274,
          277
         ],
         "yaxis": "y"
        },
        {
         "hovertemplate": "Centroid_id_name=SSs5<br>Genotype=Sim1Cre<br>Centroid_location_1=%{x}<br>Centroid_location_2=%{y}<extra></extra>",
         "legendgroup": "SSs5, Sim1Cre",
         "marker": {
          "color": "#FF97FF",
          "size": 5,
          "symbol": "cross"
         },
         "mode": "markers",
         "name": "SSs5, Sim1Cre",
         "orientation": "v",
         "showlegend": true,
         "type": "scatter",
         "x": [
          72,
          70,
          74,
          73
         ],
         "xaxis": "x",
         "y": [
          283,
          272,
          286,
          285
         ],
         "yaxis": "y"
        },
        {
         "hovertemplate": "Centroid_id_name=SSs5<br>Genotype=Tlx3Cre<br>Centroid_location_1=%{x}<br>Centroid_location_2=%{y}<extra></extra>",
         "legendgroup": "SSs5, Tlx3Cre",
         "marker": {
          "color": "#FF97FF",
          "size": 5,
          "symbol": "circle"
         },
         "mode": "markers",
         "name": "SSs5, Tlx3Cre",
         "orientation": "v",
         "showlegend": true,
         "type": "scatter",
         "x": [
          70,
          71,
          71
         ],
         "xaxis": "x",
         "y": [
          282,
          277,
          287
         ],
         "yaxis": "y"
        },
        {
         "hovertemplate": "Centroid_id_name=SSp-tr5<br>Genotype=Rbp4Cre<br>Centroid_location_1=%{x}<br>Centroid_location_2=%{y}<extra></extra>",
         "legendgroup": "SSp-tr5, Rbp4Cre",
         "marker": {
          "color": "#FECB52",
          "size": 5,
          "symbol": "square"
         },
         "mode": "markers",
         "name": "SSp-tr5, Rbp4Cre",
         "orientation": "v",
         "showlegend": true,
         "type": "scatter",
         "x": [
          133
         ],
         "xaxis": "x",
         "y": [
          272
         ],
         "yaxis": "y"
        },
        {
         "hovertemplate": "Centroid_id_name=SSp-tr5<br>Genotype=Sim1Cre<br>Centroid_location_1=%{x}<br>Centroid_location_2=%{y}<extra></extra>",
         "legendgroup": "SSp-tr5, Sim1Cre",
         "marker": {
          "color": "#FECB52",
          "size": 5,
          "symbol": "cross"
         },
         "mode": "markers",
         "name": "SSp-tr5, Sim1Cre",
         "orientation": "v",
         "showlegend": true,
         "type": "scatter",
         "x": [
          137
         ],
         "xaxis": "x",
         "y": [
          274
         ],
         "yaxis": "y"
        },
        {
         "hovertemplate": "Centroid_id_name=AUDd4<br>Genotype=Scnn1aCre<br>Centroid_location_1=%{x}<br>Centroid_location_2=%{y}<extra></extra>",
         "legendgroup": "AUDd4, Scnn1aCre",
         "marker": {
          "color": "#636efa",
          "size": 5,
          "symbol": "x"
         },
         "mode": "markers",
         "name": "AUDd4, Scnn1aCre",
         "orientation": "v",
         "showlegend": true,
         "type": "scatter",
         "x": [
          63
         ],
         "xaxis": "x",
         "y": [
          303
         ],
         "yaxis": "y"
        },
        {
         "hovertemplate": "Centroid_id_name=SSs4<br>Genotype=Scnn1aCre<br>Centroid_location_1=%{x}<br>Centroid_location_2=%{y}<extra></extra>",
         "legendgroup": "SSs4, Scnn1aCre",
         "marker": {
          "color": "#EF553B",
          "size": 5,
          "symbol": "x"
         },
         "mode": "markers",
         "name": "SSs4, Scnn1aCre",
         "orientation": "v",
         "showlegend": true,
         "type": "scatter",
         "x": [
          65,
          66,
          58,
          60
         ],
         "xaxis": "x",
         "y": [
          272,
          281,
          279,
          293
         ],
         "yaxis": "y"
        },
        {
         "hovertemplate": "Centroid_id_name=SSp-bfd4<br>Genotype=Scnn1aCre<br>Centroid_location_1=%{x}<br>Centroid_location_2=%{y}<extra></extra>",
         "legendgroup": "SSp-bfd4, Scnn1aCre",
         "marker": {
          "color": "#00cc96",
          "size": 5,
          "symbol": "x"
         },
         "mode": "markers",
         "name": "SSp-bfd4, Scnn1aCre",
         "orientation": "v",
         "showlegend": true,
         "type": "scatter",
         "x": [
          91,
          98,
          73,
          100,
          98
         ],
         "xaxis": "x",
         "y": [
          269,
          278,
          275,
          278,
          287
         ],
         "yaxis": "y"
        },
        {
         "hovertemplate": "Centroid_id_name=SSp-bfd4<br>Genotype=Tlx3Cre<br>Centroid_location_1=%{x}<br>Centroid_location_2=%{y}<extra></extra>",
         "legendgroup": "SSp-bfd4, Tlx3Cre",
         "marker": {
          "color": "#00cc96",
          "size": 5,
          "symbol": "circle"
         },
         "mode": "markers",
         "name": "SSp-bfd4, Tlx3Cre",
         "orientation": "v",
         "showlegend": true,
         "type": "scatter",
         "x": [
          103,
          94
         ],
         "xaxis": "x",
         "y": [
          278,
          280
         ],
         "yaxis": "y"
        },
        {
         "hovertemplate": "Centroid_id_name=VISal2/3<br>Genotype=Tlx3Cre<br>Centroid_location_1=%{x}<br>Centroid_location_2=%{y}<extra></extra>",
         "legendgroup": "VISal2/3, Tlx3Cre",
         "marker": {
          "color": "#ab63fa",
          "size": 5,
          "symbol": "circle"
         },
         "mode": "markers",
         "name": "VISal2/3, Tlx3Cre",
         "orientation": "v",
         "showlegend": true,
         "type": "scatter",
         "x": [
          70
         ],
         "xaxis": "x",
         "y": [
          316
         ],
         "yaxis": "y"
        }
       ],
       "layout": {
        "height": 800,
        "legend": {
         "title": {
          "text": "Centroid_id_name, Genotype"
         },
         "tracegroupgap": 0
        },
        "margin": {
         "t": 60
        },
        "template": {
         "data": {
          "bar": [
           {
            "error_x": {
             "color": "#2a3f5f"
            },
            "error_y": {
             "color": "#2a3f5f"
            },
            "marker": {
             "line": {
              "color": "#E5ECF6",
              "width": 0.5
             }
            },
            "type": "bar"
           }
          ],
          "barpolar": [
           {
            "marker": {
             "line": {
              "color": "#E5ECF6",
              "width": 0.5
             }
            },
            "type": "barpolar"
           }
          ],
          "carpet": [
           {
            "aaxis": {
             "endlinecolor": "#2a3f5f",
             "gridcolor": "white",
             "linecolor": "white",
             "minorgridcolor": "white",
             "startlinecolor": "#2a3f5f"
            },
            "baxis": {
             "endlinecolor": "#2a3f5f",
             "gridcolor": "white",
             "linecolor": "white",
             "minorgridcolor": "white",
             "startlinecolor": "#2a3f5f"
            },
            "type": "carpet"
           }
          ],
          "choropleth": [
           {
            "colorbar": {
             "outlinewidth": 0,
             "ticks": ""
            },
            "type": "choropleth"
           }
          ],
          "contour": [
           {
            "colorbar": {
             "outlinewidth": 0,
             "ticks": ""
            },
            "colorscale": [
             [
              0,
              "#0d0887"
             ],
             [
              0.1111111111111111,
              "#46039f"
             ],
             [
              0.2222222222222222,
              "#7201a8"
             ],
             [
              0.3333333333333333,
              "#9c179e"
             ],
             [
              0.4444444444444444,
              "#bd3786"
             ],
             [
              0.5555555555555556,
              "#d8576b"
             ],
             [
              0.6666666666666666,
              "#ed7953"
             ],
             [
              0.7777777777777778,
              "#fb9f3a"
             ],
             [
              0.8888888888888888,
              "#fdca26"
             ],
             [
              1,
              "#f0f921"
             ]
            ],
            "type": "contour"
           }
          ],
          "contourcarpet": [
           {
            "colorbar": {
             "outlinewidth": 0,
             "ticks": ""
            },
            "type": "contourcarpet"
           }
          ],
          "heatmap": [
           {
            "colorbar": {
             "outlinewidth": 0,
             "ticks": ""
            },
            "colorscale": [
             [
              0,
              "#0d0887"
             ],
             [
              0.1111111111111111,
              "#46039f"
             ],
             [
              0.2222222222222222,
              "#7201a8"
             ],
             [
              0.3333333333333333,
              "#9c179e"
             ],
             [
              0.4444444444444444,
              "#bd3786"
             ],
             [
              0.5555555555555556,
              "#d8576b"
             ],
             [
              0.6666666666666666,
              "#ed7953"
             ],
             [
              0.7777777777777778,
              "#fb9f3a"
             ],
             [
              0.8888888888888888,
              "#fdca26"
             ],
             [
              1,
              "#f0f921"
             ]
            ],
            "type": "heatmap"
           }
          ],
          "heatmapgl": [
           {
            "colorbar": {
             "outlinewidth": 0,
             "ticks": ""
            },
            "colorscale": [
             [
              0,
              "#0d0887"
             ],
             [
              0.1111111111111111,
              "#46039f"
             ],
             [
              0.2222222222222222,
              "#7201a8"
             ],
             [
              0.3333333333333333,
              "#9c179e"
             ],
             [
              0.4444444444444444,
              "#bd3786"
             ],
             [
              0.5555555555555556,
              "#d8576b"
             ],
             [
              0.6666666666666666,
              "#ed7953"
             ],
             [
              0.7777777777777778,
              "#fb9f3a"
             ],
             [
              0.8888888888888888,
              "#fdca26"
             ],
             [
              1,
              "#f0f921"
             ]
            ],
            "type": "heatmapgl"
           }
          ],
          "histogram": [
           {
            "marker": {
             "colorbar": {
              "outlinewidth": 0,
              "ticks": ""
             }
            },
            "type": "histogram"
           }
          ],
          "histogram2d": [
           {
            "colorbar": {
             "outlinewidth": 0,
             "ticks": ""
            },
            "colorscale": [
             [
              0,
              "#0d0887"
             ],
             [
              0.1111111111111111,
              "#46039f"
             ],
             [
              0.2222222222222222,
              "#7201a8"
             ],
             [
              0.3333333333333333,
              "#9c179e"
             ],
             [
              0.4444444444444444,
              "#bd3786"
             ],
             [
              0.5555555555555556,
              "#d8576b"
             ],
             [
              0.6666666666666666,
              "#ed7953"
             ],
             [
              0.7777777777777778,
              "#fb9f3a"
             ],
             [
              0.8888888888888888,
              "#fdca26"
             ],
             [
              1,
              "#f0f921"
             ]
            ],
            "type": "histogram2d"
           }
          ],
          "histogram2dcontour": [
           {
            "colorbar": {
             "outlinewidth": 0,
             "ticks": ""
            },
            "colorscale": [
             [
              0,
              "#0d0887"
             ],
             [
              0.1111111111111111,
              "#46039f"
             ],
             [
              0.2222222222222222,
              "#7201a8"
             ],
             [
              0.3333333333333333,
              "#9c179e"
             ],
             [
              0.4444444444444444,
              "#bd3786"
             ],
             [
              0.5555555555555556,
              "#d8576b"
             ],
             [
              0.6666666666666666,
              "#ed7953"
             ],
             [
              0.7777777777777778,
              "#fb9f3a"
             ],
             [
              0.8888888888888888,
              "#fdca26"
             ],
             [
              1,
              "#f0f921"
             ]
            ],
            "type": "histogram2dcontour"
           }
          ],
          "mesh3d": [
           {
            "colorbar": {
             "outlinewidth": 0,
             "ticks": ""
            },
            "type": "mesh3d"
           }
          ],
          "parcoords": [
           {
            "line": {
             "colorbar": {
              "outlinewidth": 0,
              "ticks": ""
             }
            },
            "type": "parcoords"
           }
          ],
          "pie": [
           {
            "automargin": true,
            "type": "pie"
           }
          ],
          "scatter": [
           {
            "marker": {
             "colorbar": {
              "outlinewidth": 0,
              "ticks": ""
             }
            },
            "type": "scatter"
           }
          ],
          "scatter3d": [
           {
            "line": {
             "colorbar": {
              "outlinewidth": 0,
              "ticks": ""
             }
            },
            "marker": {
             "colorbar": {
              "outlinewidth": 0,
              "ticks": ""
             }
            },
            "type": "scatter3d"
           }
          ],
          "scattercarpet": [
           {
            "marker": {
             "colorbar": {
              "outlinewidth": 0,
              "ticks": ""
             }
            },
            "type": "scattercarpet"
           }
          ],
          "scattergeo": [
           {
            "marker": {
             "colorbar": {
              "outlinewidth": 0,
              "ticks": ""
             }
            },
            "type": "scattergeo"
           }
          ],
          "scattergl": [
           {
            "marker": {
             "colorbar": {
              "outlinewidth": 0,
              "ticks": ""
             }
            },
            "type": "scattergl"
           }
          ],
          "scattermapbox": [
           {
            "marker": {
             "colorbar": {
              "outlinewidth": 0,
              "ticks": ""
             }
            },
            "type": "scattermapbox"
           }
          ],
          "scatterpolar": [
           {
            "marker": {
             "colorbar": {
              "outlinewidth": 0,
              "ticks": ""
             }
            },
            "type": "scatterpolar"
           }
          ],
          "scatterpolargl": [
           {
            "marker": {
             "colorbar": {
              "outlinewidth": 0,
              "ticks": ""
             }
            },
            "type": "scatterpolargl"
           }
          ],
          "scatterternary": [
           {
            "marker": {
             "colorbar": {
              "outlinewidth": 0,
              "ticks": ""
             }
            },
            "type": "scatterternary"
           }
          ],
          "surface": [
           {
            "colorbar": {
             "outlinewidth": 0,
             "ticks": ""
            },
            "colorscale": [
             [
              0,
              "#0d0887"
             ],
             [
              0.1111111111111111,
              "#46039f"
             ],
             [
              0.2222222222222222,
              "#7201a8"
             ],
             [
              0.3333333333333333,
              "#9c179e"
             ],
             [
              0.4444444444444444,
              "#bd3786"
             ],
             [
              0.5555555555555556,
              "#d8576b"
             ],
             [
              0.6666666666666666,
              "#ed7953"
             ],
             [
              0.7777777777777778,
              "#fb9f3a"
             ],
             [
              0.8888888888888888,
              "#fdca26"
             ],
             [
              1,
              "#f0f921"
             ]
            ],
            "type": "surface"
           }
          ],
          "table": [
           {
            "cells": {
             "fill": {
              "color": "#EBF0F8"
             },
             "line": {
              "color": "white"
             }
            },
            "header": {
             "fill": {
              "color": "#C8D4E3"
             },
             "line": {
              "color": "white"
             }
            },
            "type": "table"
           }
          ]
         },
         "layout": {
          "annotationdefaults": {
           "arrowcolor": "#2a3f5f",
           "arrowhead": 0,
           "arrowwidth": 1
          },
          "autotypenumbers": "strict",
          "coloraxis": {
           "colorbar": {
            "outlinewidth": 0,
            "ticks": ""
           }
          },
          "colorscale": {
           "diverging": [
            [
             0,
             "#8e0152"
            ],
            [
             0.1,
             "#c51b7d"
            ],
            [
             0.2,
             "#de77ae"
            ],
            [
             0.3,
             "#f1b6da"
            ],
            [
             0.4,
             "#fde0ef"
            ],
            [
             0.5,
             "#f7f7f7"
            ],
            [
             0.6,
             "#e6f5d0"
            ],
            [
             0.7,
             "#b8e186"
            ],
            [
             0.8,
             "#7fbc41"
            ],
            [
             0.9,
             "#4d9221"
            ],
            [
             1,
             "#276419"
            ]
           ],
           "sequential": [
            [
             0,
             "#0d0887"
            ],
            [
             0.1111111111111111,
             "#46039f"
            ],
            [
             0.2222222222222222,
             "#7201a8"
            ],
            [
             0.3333333333333333,
             "#9c179e"
            ],
            [
             0.4444444444444444,
             "#bd3786"
            ],
            [
             0.5555555555555556,
             "#d8576b"
            ],
            [
             0.6666666666666666,
             "#ed7953"
            ],
            [
             0.7777777777777778,
             "#fb9f3a"
            ],
            [
             0.8888888888888888,
             "#fdca26"
            ],
            [
             1,
             "#f0f921"
            ]
           ],
           "sequentialminus": [
            [
             0,
             "#0d0887"
            ],
            [
             0.1111111111111111,
             "#46039f"
            ],
            [
             0.2222222222222222,
             "#7201a8"
            ],
            [
             0.3333333333333333,
             "#9c179e"
            ],
            [
             0.4444444444444444,
             "#bd3786"
            ],
            [
             0.5555555555555556,
             "#d8576b"
            ],
            [
             0.6666666666666666,
             "#ed7953"
            ],
            [
             0.7777777777777778,
             "#fb9f3a"
            ],
            [
             0.8888888888888888,
             "#fdca26"
            ],
            [
             1,
             "#f0f921"
            ]
           ]
          },
          "colorway": [
           "#636efa",
           "#EF553B",
           "#00cc96",
           "#ab63fa",
           "#FFA15A",
           "#19d3f3",
           "#FF6692",
           "#B6E880",
           "#FF97FF",
           "#FECB52"
          ],
          "font": {
           "color": "#2a3f5f"
          },
          "geo": {
           "bgcolor": "white",
           "lakecolor": "white",
           "landcolor": "#E5ECF6",
           "showlakes": true,
           "showland": true,
           "subunitcolor": "white"
          },
          "hoverlabel": {
           "align": "left"
          },
          "hovermode": "closest",
          "mapbox": {
           "style": "light"
          },
          "paper_bgcolor": "white",
          "plot_bgcolor": "#E5ECF6",
          "polar": {
           "angularaxis": {
            "gridcolor": "white",
            "linecolor": "white",
            "ticks": ""
           },
           "bgcolor": "#E5ECF6",
           "radialaxis": {
            "gridcolor": "white",
            "linecolor": "white",
            "ticks": ""
           }
          },
          "scene": {
           "xaxis": {
            "backgroundcolor": "#E5ECF6",
            "gridcolor": "white",
            "gridwidth": 2,
            "linecolor": "white",
            "showbackground": true,
            "ticks": "",
            "zerolinecolor": "white"
           },
           "yaxis": {
            "backgroundcolor": "#E5ECF6",
            "gridcolor": "white",
            "gridwidth": 2,
            "linecolor": "white",
            "showbackground": true,
            "ticks": "",
            "zerolinecolor": "white"
           },
           "zaxis": {
            "backgroundcolor": "#E5ECF6",
            "gridcolor": "white",
            "gridwidth": 2,
            "linecolor": "white",
            "showbackground": true,
            "ticks": "",
            "zerolinecolor": "white"
           }
          },
          "shapedefaults": {
           "line": {
            "color": "#2a3f5f"
           }
          },
          "ternary": {
           "aaxis": {
            "gridcolor": "white",
            "linecolor": "white",
            "ticks": ""
           },
           "baxis": {
            "gridcolor": "white",
            "linecolor": "white",
            "ticks": ""
           },
           "bgcolor": "#E5ECF6",
           "caxis": {
            "gridcolor": "white",
            "linecolor": "white",
            "ticks": ""
           }
          },
          "title": {
           "x": 0.05
          },
          "xaxis": {
           "automargin": true,
           "gridcolor": "white",
           "linecolor": "white",
           "ticks": "",
           "title": {
            "standoff": 15
           },
           "zerolinecolor": "white",
           "zerolinewidth": 2
          },
          "yaxis": {
           "automargin": true,
           "gridcolor": "white",
           "linecolor": "white",
           "ticks": "",
           "title": {
            "standoff": 15
           },
           "zerolinecolor": "white",
           "zerolinewidth": 2
          }
         }
        },
        "width": 800,
        "xaxis": {
         "anchor": "y",
         "domain": [
          0,
          1
         ],
         "range": [
          0,
          528
         ],
         "title": {
          "text": "Centroid_location_1"
         },
         "type": "linear"
        },
        "yaxis": {
         "anchor": "x",
         "domain": [
          0,
          1
         ],
         "range": [
          0,
          456
         ],
         "title": {
          "text": "Centroid_location_2"
         },
         "type": "linear"
        }
       }
      },
      "image/png": "[encoded data removed]",
      "text/html": [
       "<div>                            <div id=\"4d11e45f-faac-4b24-908e-829e379c8131\" class=\"plotly-graph-div\" style=\"height:800px; width:800px;\"></div>            <script type=\"text/javascript\">                require([\"plotly\"], function(Plotly) {                    window.PLOTLYENV=window.PLOTLYENV || {};                                    if (document.getElementById(\"4d11e45f-faac-4b24-908e-829e379c8131\")) {                    Plotly.newPlot(                        \"4d11e45f-faac-4b24-908e-829e379c8131\",                        [{\"hovertemplate\": \"Centroid_id_name=SSs6a<br>Genotype=Ntsr1Cre<br>Centroid_location_1=%{x}<br>Centroid_location_2=%{y}<extra></extra>\", \"legendgroup\": \"SSs6a, Ntsr1Cre\", \"marker\": {\"color\": \"#636efa\", \"size\": 5, \"symbol\": \"circle\"}, \"mode\": \"markers\", \"name\": \"SSs6a, Ntsr1Cre\", \"orientation\": \"v\", \"showlegend\": true, \"type\": \"scatter\", \"x\": [77, 84, 74, 76, 79], \"xaxis\": \"x\", \"y\": [284, 285, 284, 260, 272], \"yaxis\": \"y\"}, {\"hovertemplate\": \"Centroid_id_name=SSp-bfd6a<br>Genotype=Ntsr1Cre<br>Centroid_location_1=%{x}<br>Centroid_location_2=%{y}<extra></extra>\", \"legendgroup\": \"SSp-bfd6a, Ntsr1Cre\", \"marker\": {\"color\": \"#EF553B\", \"size\": 5, \"symbol\": \"circle\"}, \"mode\": \"markers\", \"name\": \"SSp-bfd6a, Ntsr1Cre\", \"orientation\": \"v\", \"showlegend\": true, \"type\": \"scatter\", \"x\": [102, 114, 102, 93], \"xaxis\": \"x\", \"y\": [283, 284, 269, 299], \"yaxis\": \"y\"}, {\"hovertemplate\": \"Centroid_id_name=or<br>Genotype=Ntsr1Cre<br>Centroid_location_1=%{x}<br>Centroid_location_2=%{y}<extra></extra>\", \"legendgroup\": \"or, Ntsr1Cre\", \"marker\": {\"color\": \"#00cc96\", \"size\": 5, \"symbol\": \"circle\"}, \"mode\": \"markers\", \"name\": \"or, Ntsr1Cre\", \"orientation\": \"v\", \"showlegend\": true, \"type\": \"scatter\", \"x\": [106], \"xaxis\": \"x\", \"y\": [314], \"yaxis\": \"y\"}, {\"hovertemplate\": \"Centroid_id_name=SSp-bfd2/3<br>Genotype=Rasgrf2dCre<br>Centroid_location_1=%{x}<br>Centroid_location_2=%{y}<extra></extra>\", \"legendgroup\": \"SSp-bfd2/3, Rasgrf2dCre\", \"marker\": {\"color\": \"#ab63fa\", \"size\": 5, \"symbol\": \"diamond\"}, \"mode\": \"markers\", \"name\": \"SSp-bfd2/3, Rasgrf2dCre\", \"orientation\": \"v\", \"showlegend\": true, \"type\": \"scatter\", \"x\": [97, 76, 76], \"xaxis\": \"x\", \"y\": [281, 284, 286], \"yaxis\": \"y\"}, {\"hovertemplate\": \"Centroid_id_name=SSs2/3<br>Genotype=Rasgrf2dCre<br>Centroid_location_1=%{x}<br>Centroid_location_2=%{y}<extra></extra>\", \"legendgroup\": \"SSs2/3, Rasgrf2dCre\", \"marker\": {\"color\": \"#FFA15A\", \"size\": 5, \"symbol\": \"diamond\"}, \"mode\": \"markers\", \"name\": \"SSs2/3, Rasgrf2dCre\", \"orientation\": \"v\", \"showlegend\": true, \"type\": \"scatter\", \"x\": [61, 62], \"xaxis\": \"x\", \"y\": [282, 294], \"yaxis\": \"y\"}, {\"hovertemplate\": \"Centroid_id_name=SSp-bfd1<br>Genotype=Rasgrf2dCre<br>Centroid_location_1=%{x}<br>Centroid_location_2=%{y}<extra></extra>\", \"legendgroup\": \"SSp-bfd1, Rasgrf2dCre\", \"marker\": {\"color\": \"#19d3f3\", \"size\": 5, \"symbol\": \"diamond\"}, \"mode\": \"markers\", \"name\": \"SSp-bfd1, Rasgrf2dCre\", \"orientation\": \"v\", \"showlegend\": true, \"type\": \"scatter\", \"x\": [79], \"xaxis\": \"x\", \"y\": [263], \"yaxis\": \"y\"}, {\"hovertemplate\": \"Centroid_id_name=AUDd5<br>Genotype=Rbp4Cre<br>Centroid_location_1=%{x}<br>Centroid_location_2=%{y}<extra></extra>\", \"legendgroup\": \"AUDd5, Rbp4Cre\", \"marker\": {\"color\": \"#FF6692\", \"size\": 5, \"symbol\": \"square\"}, \"mode\": \"markers\", \"name\": \"AUDd5, Rbp4Cre\", \"orientation\": \"v\", \"showlegend\": true, \"type\": \"scatter\", \"x\": [62, 63, 60], \"xaxis\": \"x\", \"y\": [287, 294, 290], \"yaxis\": \"y\"}, {\"hovertemplate\": \"Centroid_id_name=SSp-bfd5<br>Genotype=Rbp4Cre<br>Centroid_location_1=%{x}<br>Centroid_location_2=%{y}<extra></extra>\", \"legendgroup\": \"SSp-bfd5, Rbp4Cre\", \"marker\": {\"color\": \"#B6E880\", \"size\": 5, \"symbol\": \"square\"}, \"mode\": \"markers\", \"name\": \"SSp-bfd5, Rbp4Cre\", \"orientation\": \"v\", \"showlegend\": true, \"type\": \"scatter\", \"x\": [106, 102, 112, 115, 97], \"xaxis\": \"x\", \"y\": [276, 279, 295, 295, 284], \"yaxis\": \"y\"}, {\"hovertemplate\": \"Centroid_id_name=SSp-bfd5<br>Genotype=Sim1Cre<br>Centroid_location_1=%{x}<br>Centroid_location_2=%{y}<extra></extra>\", \"legendgroup\": \"SSp-bfd5, Sim1Cre\", \"marker\": {\"color\": \"#B6E880\", \"size\": 5, \"symbol\": \"cross\"}, \"mode\": \"markers\", \"name\": \"SSp-bfd5, Sim1Cre\", \"orientation\": \"v\", \"showlegend\": true, \"type\": \"scatter\", \"x\": [121, 109, 118, 84], \"xaxis\": \"x\", \"y\": [276, 270, 273, 298], \"yaxis\": \"y\"}, {\"hovertemplate\": \"Centroid_id_name=SSp-bfd5<br>Genotype=Tlx3Cre<br>Centroid_location_1=%{x}<br>Centroid_location_2=%{y}<extra></extra>\", \"legendgroup\": \"SSp-bfd5, Tlx3Cre\", \"marker\": {\"color\": \"#B6E880\", \"size\": 5, \"symbol\": \"circle\"}, \"mode\": \"markers\", \"name\": \"SSp-bfd5, Tlx3Cre\", \"orientation\": \"v\", \"showlegend\": true, \"type\": \"scatter\", \"x\": [122, 98], \"xaxis\": \"x\", \"y\": [287, 272], \"yaxis\": \"y\"}, {\"hovertemplate\": \"Centroid_id_name=SSs5<br>Genotype=Rbp4Cre<br>Centroid_location_1=%{x}<br>Centroid_location_2=%{y}<extra></extra>\", \"legendgroup\": \"SSs5, Rbp4Cre\", \"marker\": {\"color\": \"#FF97FF\", \"size\": 5, \"symbol\": \"square\"}, \"mode\": \"markers\", \"name\": \"SSs5, Rbp4Cre\", \"orientation\": \"v\", \"showlegend\": true, \"type\": \"scatter\", \"x\": [76, 70, 78, 70, 60], \"xaxis\": \"x\", \"y\": [290, 270, 292, 274, 277], \"yaxis\": \"y\"}, {\"hovertemplate\": \"Centroid_id_name=SSs5<br>Genotype=Sim1Cre<br>Centroid_location_1=%{x}<br>Centroid_location_2=%{y}<extra></extra>\", \"legendgroup\": \"SSs5, Sim1Cre\", \"marker\": {\"color\": \"#FF97FF\", \"size\": 5, \"symbol\": \"cross\"}, \"mode\": \"markers\", \"name\": \"SSs5, Sim1Cre\", \"orientation\": \"v\", \"showlegend\": true, \"type\": \"scatter\", \"x\": [72, 70, 74, 73], \"xaxis\": \"x\", \"y\": [283, 272, 286, 285], \"yaxis\": \"y\"}, {\"hovertemplate\": \"Centroid_id_name=SSs5<br>Genotype=Tlx3Cre<br>Centroid_location_1=%{x}<br>Centroid_location_2=%{y}<extra></extra>\", \"legendgroup\": \"SSs5, Tlx3Cre\", \"marker\": {\"color\": \"#FF97FF\", \"size\": 5, \"symbol\": \"circle\"}, \"mode\": \"markers\", \"name\": \"SSs5, Tlx3Cre\", \"orientation\": \"v\", \"showlegend\": true, \"type\": \"scatter\", \"x\": [70, 71, 71], \"xaxis\": \"x\", \"y\": [282, 277, 287], \"yaxis\": \"y\"}, {\"hovertemplate\": \"Centroid_id_name=SSp-tr5<br>Genotype=Rbp4Cre<br>Centroid_location_1=%{x}<br>Centroid_location_2=%{y}<extra></extra>\", \"legendgroup\": \"SSp-tr5, Rbp4Cre\", \"marker\": {\"color\": \"#FECB52\", \"size\": 5, \"symbol\": \"square\"}, \"mode\": \"markers\", \"name\": \"SSp-tr5, Rbp4Cre\", \"orientation\": \"v\", \"showlegend\": true, \"type\": \"scatter\", \"x\": [133], \"xaxis\": \"x\", \"y\": [272], \"yaxis\": \"y\"}, {\"hovertemplate\": \"Centroid_id_name=SSp-tr5<br>Genotype=Sim1Cre<br>Centroid_location_1=%{x}<br>Centroid_location_2=%{y}<extra></extra>\", \"legendgroup\": \"SSp-tr5, Sim1Cre\", \"marker\": {\"color\": \"#FECB52\", \"size\": 5, \"symbol\": \"cross\"}, \"mode\": \"markers\", \"name\": \"SSp-tr5, Sim1Cre\", \"orientation\": \"v\", \"showlegend\": true, \"type\": \"scatter\", \"x\": [137], \"xaxis\": \"x\", \"y\": [274], \"yaxis\": \"y\"}, {\"hovertemplate\": \"Centroid_id_name=AUDd4<br>Genotype=Scnn1aCre<br>Centroid_location_1=%{x}<br>Centroid_location_2=%{y}<extra></extra>\", \"legendgroup\": \"AUDd4, Scnn1aCre\", \"marker\": {\"color\": \"#636efa\", \"size\": 5, \"symbol\": \"x\"}, \"mode\": \"markers\", \"name\": \"AUDd4, Scnn1aCre\", \"orientation\": \"v\", \"showlegend\": true, \"type\": \"scatter\", \"x\": [63], \"xaxis\": \"x\", \"y\": [303], \"yaxis\": \"y\"}, {\"hovertemplate\": \"Centroid_id_name=SSs4<br>Genotype=Scnn1aCre<br>Centroid_location_1=%{x}<br>Centroid_location_2=%{y}<extra></extra>\", \"legendgroup\": \"SSs4, Scnn1aCre\", \"marker\": {\"color\": \"#EF553B\", \"size\": 5, \"symbol\": \"x\"}, \"mode\": \"markers\", \"name\": \"SSs4, Scnn1aCre\", \"orientation\": \"v\", \"showlegend\": true, \"type\": \"scatter\", \"x\": [65, 66, 58, 60], \"xaxis\": \"x\", \"y\": [272, 281, 279, 293], \"yaxis\": \"y\"}, {\"hovertemplate\": \"Centroid_id_name=SSp-bfd4<br>Genotype=Scnn1aCre<br>Centroid_location_1=%{x}<br>Centroid_location_2=%{y}<extra></extra>\", \"legendgroup\": \"SSp-bfd4, Scnn1aCre\", \"marker\": {\"color\": \"#00cc96\", \"size\": 5, \"symbol\": \"x\"}, \"mode\": \"markers\", \"name\": \"SSp-bfd4, Scnn1aCre\", \"orientation\": \"v\", \"showlegend\": true, \"type\": \"scatter\", \"x\": [91, 98, 73, 100, 98], \"xaxis\": \"x\", \"y\": [269, 278, 275, 278, 287], \"yaxis\": \"y\"}, {\"hovertemplate\": \"Centroid_id_name=SSp-bfd4<br>Genotype=Tlx3Cre<br>Centroid_location_1=%{x}<br>Centroid_location_2=%{y}<extra></extra>\", \"legendgroup\": \"SSp-bfd4, Tlx3Cre\", \"marker\": {\"color\": \"#00cc96\", \"size\": 5, \"symbol\": \"circle\"}, \"mode\": \"markers\", \"name\": \"SSp-bfd4, Tlx3Cre\", \"orientation\": \"v\", \"showlegend\": true, \"type\": \"scatter\", \"x\": [103, 94], \"xaxis\": \"x\", \"y\": [278, 280], \"yaxis\": \"y\"}, {\"hovertemplate\": \"Centroid_id_name=VISal2/3<br>Genotype=Tlx3Cre<br>Centroid_location_1=%{x}<br>Centroid_location_2=%{y}<extra></extra>\", \"legendgroup\": \"VISal2/3, Tlx3Cre\", \"marker\": {\"color\": \"#ab63fa\", \"size\": 5, \"symbol\": \"circle\"}, \"mode\": \"markers\", \"name\": \"VISal2/3, Tlx3Cre\", \"orientation\": \"v\", \"showlegend\": true, \"type\": \"scatter\", \"x\": [70], \"xaxis\": \"x\", \"y\": [316], \"yaxis\": \"y\"}],                        {\"height\": 800, \"legend\": {\"title\": {\"text\": \"Centroid_id_name, Genotype\"}, \"tracegroupgap\": 0}, \"margin\": {\"t\": 60}, \"template\": {\"data\": {\"bar\": [{\"error_x\": {\"color\": \"#2a3f5f\"}, \"error_y\": {\"color\": \"#2a3f5f\"}, \"marker\": {\"line\": {\"color\": \"#E5ECF6\", \"width\": 0.5}}, \"type\": \"bar\"}], \"barpolar\": [{\"marker\": {\"line\": {\"color\": \"#E5ECF6\", \"width\": 0.5}}, \"type\": \"barpolar\"}], \"carpet\": [{\"aaxis\": {\"endlinecolor\": \"#2a3f5f\", \"gridcolor\": \"white\", \"linecolor\": \"white\", \"minorgridcolor\": \"white\", \"startlinecolor\": \"#2a3f5f\"}, \"baxis\": {\"endlinecolor\": \"#2a3f5f\", \"gridcolor\": \"white\", \"linecolor\": \"white\", \"minorgridcolor\": \"white\", \"startlinecolor\": \"#2a3f5f\"}, \"type\": \"carpet\"}], \"choropleth\": [{\"colorbar\": {\"outlinewidth\": 0, \"ticks\": \"\"}, \"type\": \"choropleth\"}], \"contour\": [{\"colorbar\": {\"outlinewidth\": 0, \"ticks\": \"\"}, \"colorscale\": [[0.0, \"#0d0887\"], [0.1111111111111111, \"#46039f\"], [0.2222222222222222, \"#7201a8\"], [0.3333333333333333, \"#9c179e\"], [0.4444444444444444, \"#bd3786\"], [0.5555555555555556, \"#d8576b\"], [0.6666666666666666, \"#ed7953\"], [0.7777777777777778, \"#fb9f3a\"], [0.8888888888888888, \"#fdca26\"], [1.0, \"#f0f921\"]], \"type\": \"contour\"}], \"contourcarpet\": [{\"colorbar\": {\"outlinewidth\": 0, \"ticks\": \"\"}, \"type\": \"contourcarpet\"}], \"heatmap\": [{\"colorbar\": {\"outlinewidth\": 0, \"ticks\": \"\"}, \"colorscale\": [[0.0, \"#0d0887\"], [0.1111111111111111, \"#46039f\"], [0.2222222222222222, \"#7201a8\"], [0.3333333333333333, \"#9c179e\"], [0.4444444444444444, \"#bd3786\"], [0.5555555555555556, \"#d8576b\"], [0.6666666666666666, \"#ed7953\"], [0.7777777777777778, \"#fb9f3a\"], [0.8888888888888888, \"#fdca26\"], [1.0, \"#f0f921\"]], \"type\": \"heatmap\"}], \"heatmapgl\": [{\"colorbar\": {\"outlinewidth\": 0, \"ticks\": \"\"}, \"colorscale\": [[0.0, \"#0d0887\"], [0.1111111111111111, \"#46039f\"], [0.2222222222222222, \"#7201a8\"], [0.3333333333333333, \"#9c179e\"], [0.4444444444444444, \"#bd3786\"], [0.5555555555555556, \"#d8576b\"], [0.6666666666666666, \"#ed7953\"], [0.7777777777777778, \"#fb9f3a\"], [0.8888888888888888, \"#fdca26\"], [1.0, \"#f0f921\"]], \"type\": \"heatmapgl\"}], \"histogram\": [{\"marker\": {\"colorbar\": {\"outlinewidth\": 0, \"ticks\": \"\"}}, \"type\": \"histogram\"}], \"histogram2d\": [{\"colorbar\": {\"outlinewidth\": 0, \"ticks\": \"\"}, \"colorscale\": [[0.0, \"#0d0887\"], [0.1111111111111111, \"#46039f\"], [0.2222222222222222, \"#7201a8\"], [0.3333333333333333, \"#9c179e\"], [0.4444444444444444, \"#bd3786\"], [0.5555555555555556, \"#d8576b\"], [0.6666666666666666, \"#ed7953\"], [0.7777777777777778, \"#fb9f3a\"], [0.8888888888888888, \"#fdca26\"], [1.0, \"#f0f921\"]], \"type\": \"histogram2d\"}], \"histogram2dcontour\": [{\"colorbar\": {\"outlinewidth\": 0, \"ticks\": \"\"}, \"colorscale\": [[0.0, \"#0d0887\"], [0.1111111111111111, \"#46039f\"], [0.2222222222222222, \"#7201a8\"], [0.3333333333333333, \"#9c179e\"], [0.4444444444444444, \"#bd3786\"], [0.5555555555555556, \"#d8576b\"], [0.6666666666666666, \"#ed7953\"], [0.7777777777777778, \"#fb9f3a\"], [0.8888888888888888, \"#fdca26\"], [1.0, \"#f0f921\"]], \"type\": \"histogram2dcontour\"}], \"mesh3d\": [{\"colorbar\": {\"outlinewidth\": 0, \"ticks\": \"\"}, \"type\": \"mesh3d\"}], \"parcoords\": [{\"line\": {\"colorbar\": {\"outlinewidth\": 0, \"ticks\": \"\"}}, \"type\": \"parcoords\"}], \"pie\": [{\"automargin\": true, \"type\": \"pie\"}], \"scatter\": [{\"marker\": {\"colorbar\": {\"outlinewidth\": 0, \"ticks\": \"\"}}, \"type\": \"scatter\"}], \"scatter3d\": [{\"line\": {\"colorbar\": {\"outlinewidth\": 0, \"ticks\": \"\"}}, \"marker\": {\"colorbar\": {\"outlinewidth\": 0, \"ticks\": \"\"}}, \"type\": \"scatter3d\"}], \"scattercarpet\": [{\"marker\": {\"colorbar\": {\"outlinewidth\": 0, \"ticks\": \"\"}}, \"type\": \"scattercarpet\"}], \"scattergeo\": [{\"marker\": {\"colorbar\": {\"outlinewidth\": 0, \"ticks\": \"\"}}, \"type\": \"scattergeo\"}], \"scattergl\": [{\"marker\": {\"colorbar\": {\"outlinewidth\": 0, \"ticks\": \"\"}}, \"type\": \"scattergl\"}], \"scattermapbox\": [{\"marker\": {\"colorbar\": {\"outlinewidth\": 0, \"ticks\": \"\"}}, \"type\": \"scattermapbox\"}], \"scatterpolar\": [{\"marker\": {\"colorbar\": {\"outlinewidth\": 0, \"ticks\": \"\"}}, \"type\": \"scatterpolar\"}], \"scatterpolargl\": [{\"marker\": {\"colorbar\": {\"outlinewidth\": 0, \"ticks\": \"\"}}, \"type\": \"scatterpolargl\"}], \"scatterternary\": [{\"marker\": {\"colorbar\": {\"outlinewidth\": 0, \"ticks\": \"\"}}, \"type\": \"scatterternary\"}], \"surface\": [{\"colorbar\": {\"outlinewidth\": 0, \"ticks\": \"\"}, \"colorscale\": [[0.0, \"#0d0887\"], [0.1111111111111111, \"#46039f\"], [0.2222222222222222, \"#7201a8\"], [0.3333333333333333, \"#9c179e\"], [0.4444444444444444, \"#bd3786\"], [0.5555555555555556, \"#d8576b\"], [0.6666666666666666, \"#ed7953\"], [0.7777777777777778, \"#fb9f3a\"], [0.8888888888888888, \"#fdca26\"], [1.0, \"#f0f921\"]], \"type\": \"surface\"}], \"table\": [{\"cells\": {\"fill\": {\"color\": \"#EBF0F8\"}, \"line\": {\"color\": \"white\"}}, \"header\": {\"fill\": {\"color\": \"#C8D4E3\"}, \"line\": {\"color\": \"white\"}}, \"type\": \"table\"}]}, \"layout\": {\"annotationdefaults\": {\"arrowcolor\": \"#2a3f5f\", \"arrowhead\": 0, \"arrowwidth\": 1}, \"autotypenumbers\": \"strict\", \"coloraxis\": {\"colorbar\": {\"outlinewidth\": 0, \"ticks\": \"\"}}, \"colorscale\": {\"diverging\": [[0, \"#8e0152\"], [0.1, \"#c51b7d\"], [0.2, \"#de77ae\"], [0.3, \"#f1b6da\"], [0.4, \"#fde0ef\"], [0.5, \"#f7f7f7\"], [0.6, \"#e6f5d0\"], [0.7, \"#b8e186\"], [0.8, \"#7fbc41\"], [0.9, \"#4d9221\"], [1, \"#276419\"]], \"sequential\": [[0.0, \"#0d0887\"], [0.1111111111111111, \"#46039f\"], [0.2222222222222222, \"#7201a8\"], [0.3333333333333333, \"#9c179e\"], [0.4444444444444444, \"#bd3786\"], [0.5555555555555556, \"#d8576b\"], [0.6666666666666666, \"#ed7953\"], [0.7777777777777778, \"#fb9f3a\"], [0.8888888888888888, \"#fdca26\"], [1.0, \"#f0f921\"]], \"sequentialminus\": [[0.0, \"#0d0887\"], [0.1111111111111111, \"#46039f\"], [0.2222222222222222, \"#7201a8\"], [0.3333333333333333, \"#9c179e\"], [0.4444444444444444, \"#bd3786\"], [0.5555555555555556, \"#d8576b\"], [0.6666666666666666, \"#ed7953\"], [0.7777777777777778, \"#fb9f3a\"], [0.8888888888888888, \"#fdca26\"], [1.0, \"#f0f921\"]]}, \"colorway\": [\"#636efa\", \"#EF553B\", \"#00cc96\", \"#ab63fa\", \"#FFA15A\", \"#19d3f3\", \"#FF6692\", \"#B6E880\", \"#FF97FF\", \"#FECB52\"], \"font\": {\"color\": \"#2a3f5f\"}, \"geo\": {\"bgcolor\": \"white\", \"lakecolor\": \"white\", \"landcolor\": \"#E5ECF6\", \"showlakes\": true, \"showland\": true, \"subunitcolor\": \"white\"}, \"hoverlabel\": {\"align\": \"left\"}, \"hovermode\": \"closest\", \"mapbox\": {\"style\": \"light\"}, \"paper_bgcolor\": \"white\", \"plot_bgcolor\": \"#E5ECF6\", \"polar\": {\"angularaxis\": {\"gridcolor\": \"white\", \"linecolor\": \"white\", \"ticks\": \"\"}, \"bgcolor\": \"#E5ECF6\", \"radialaxis\": {\"gridcolor\": \"white\", \"linecolor\": \"white\", \"ticks\": \"\"}}, \"scene\": {\"xaxis\": {\"backgroundcolor\": \"#E5ECF6\", \"gridcolor\": \"white\", \"gridwidth\": 2, \"linecolor\": \"white\", \"showbackground\": true, \"ticks\": \"\", \"zerolinecolor\": \"white\"}, \"yaxis\": {\"backgroundcolor\": \"#E5ECF6\", \"gridcolor\": \"white\", \"gridwidth\": 2, \"linecolor\": \"white\", \"showbackground\": true, \"ticks\": \"\", \"zerolinecolor\": \"white\"}, \"zaxis\": {\"backgroundcolor\": \"#E5ECF6\", \"gridcolor\": \"white\", \"gridwidth\": 2, \"linecolor\": \"white\", \"showbackground\": true, \"ticks\": \"\", \"zerolinecolor\": \"white\"}}, \"shapedefaults\": {\"line\": {\"color\": \"#2a3f5f\"}}, \"ternary\": {\"aaxis\": {\"gridcolor\": \"white\", \"linecolor\": \"white\", \"ticks\": \"\"}, \"baxis\": {\"gridcolor\": \"white\", \"linecolor\": \"white\", \"ticks\": \"\"}, \"bgcolor\": \"#E5ECF6\", \"caxis\": {\"gridcolor\": \"white\", \"linecolor\": \"white\", \"ticks\": \"\"}}, \"title\": {\"x\": 0.05}, \"xaxis\": {\"automargin\": true, \"gridcolor\": \"white\", \"linecolor\": \"white\", \"ticks\": \"\", \"title\": {\"standoff\": 15}, \"zerolinecolor\": \"white\", \"zerolinewidth\": 2}, \"yaxis\": {\"automargin\": true, \"gridcolor\": \"white\", \"linecolor\": \"white\", \"ticks\": \"\", \"title\": {\"standoff\": 15}, \"zerolinecolor\": \"white\", \"zerolinewidth\": 2}}}, \"width\": 800, \"xaxis\": {\"anchor\": \"y\", \"domain\": [0.0, 1.0], \"range\": [0, 528], \"title\": {\"text\": \"Centroid_location_1\"}}, \"yaxis\": {\"anchor\": \"x\", \"domain\": [0.0, 1.0], \"range\": [0, 456], \"title\": {\"text\": \"Centroid_location_2\"}}},                        {\"responsive\": true}                    ).then(function(){\n",
       "                            \n",
       "var gd = document.getElementById('4d11e45f-faac-4b24-908e-829e379c8131');\n",
       "var x = new MutationObserver(function (mutations, observer) {{\n",
       "        var display = window.getComputedStyle(gd).display;\n",
       "        if (!display || display === 'none') {{\n",
       "            console.log([gd, 'removed!']);\n",
       "            Plotly.purge(gd);\n",
       "            observer.disconnect();\n",
       "        }}\n",
       "}});\n",
       "\n",
       "// Listen for the removal of the full notebook cells\n",
       "var notebookContainer = gd.closest('#notebook-container');\n",
       "if (notebookContainer) {{\n",
       "    x.observe(notebookContainer, {childList: true});\n",
       "}}\n",
       "\n",
       "// Listen for the clearing of the current output cell\n",
       "var outputEl = gd.closest('.output');\n",
       "if (outputEl) {{\n",
       "    x.observe(outputEl, {childList: true});\n",
       "}}\n",
       "\n",
       "                        })                };                });            </script>        </div>"
      ]
     },
     "metadata": {},
     "output_type": "display_data"
    }
   ],
   "source": [
    "fig = px.scatter(data, x='Centroid_location_1', y='Centroid_location_2', color='Centroid_id_name', symbol='Genotype', \n",
    "                 width=800, height=800)\n",
    "fig.update_traces(marker=dict(size=5))\n",
    "\n",
    "fig.update_xaxes(range=[0, 528])\n",
    "fig.update_yaxes(range=[0, 456])\n",
    "#fig.update_yaxes(range=[0, 456], autorange=\"reversed\")\n",
    "# autorange reversed makes top left corner 0,0 but does not work with custom range...\n",
    "fig.show()\n",
    "\n",
    "fig.write_html(\"injection_centroid_horizontal.html\")\n",
    "# horizontal view but fliped (in an image, top is 0 but not bottom like in this graph)"
   ]
  },
  {
   "cell_type": "code",
   "execution_count": null,
   "metadata": {},
   "outputs": [],
   "source": []
  },
  {
   "cell_type": "code",
   "execution_count": 4,
   "metadata": {},
   "outputs": [],
   "source": [
    "# now plot the injection voxel's contribution of region ids\n"
   ]
  },
  {
   "cell_type": "code",
   "execution_count": 13,
   "metadata": {},
   "outputs": [],
   "source": [
    "# now plot the injection voxel's contribution of region ids\n",
    "import ast\n",
    "\n",
    "def expand_df(datadf):\n",
    "    data_expanded=pd.DataFrame(data={'sample_id': [],'region_id': [], 'region_name': [], 'count': [], 'percentage': []})\n",
    "    \n",
    "    over_eighty=[]\n",
    "    # set up a list to calculate if contribution from bfd or sss is above 80 percent (combining layers)\n",
    "\n",
    "    for i in range(0,len(datadf)):\n",
    "\n",
    "        data_specific=pd.DataFrame(data={'sample_id': [],'region_id': [], 'region_name': [], 'count': [], 'percentage': []})\n",
    "\n",
    "        test=datadf['Voxel_id'][i]\n",
    "        testdict=ast.literal_eval(test)[0]\n",
    "        data_name=datadf['Data_name'][i]\n",
    "\n",
    "        data_specific['sample_id']= [f'{data_name}']* len(testdict.keys())\n",
    "\n",
    "        data_specific['region_id']= testdict.keys()\n",
    "        id_name= [na.give_me_name(i) for i in testdict.keys()]\n",
    "        data_specific['region_name']= id_name \n",
    "\n",
    "        counts=list(testdict.values())\n",
    "        data_specific['count']= counts\n",
    "        countsInt = np.array(counts)\n",
    "        newArray = countsInt*100/sum(countsInt)\n",
    "        data_specific['percentage']= newArray\n",
    "        #convert to percentage\n",
    "        \n",
    "        data_expanded=data_expanded.append(data_specific)\n",
    "        \n",
    "        bfd_percentage= data_specific[data_specific.region_name.str.contains('bfd')].percentage.sum()\n",
    "        sss_percentage= data_specific[data_specific.region_name.str.contains('SSs')].percentage.sum()\n",
    "        \n",
    "        if bfd_percentage> 80:\n",
    "            include= True\n",
    "        elif sss_percentage >80:\n",
    "            include= True\n",
    "        else:\n",
    "            include= False\n",
    "        \n",
    "        over_eighty.append(include)\n",
    "                \n",
    "    return data_expanded, over_eighty\n"
   ]
  },
  {
   "cell_type": "code",
   "execution_count": null,
   "metadata": {},
   "outputs": [],
   "source": []
  },
  {
   "cell_type": "code",
   "execution_count": 14,
   "metadata": {},
   "outputs": [
    {
     "name": "stdout",
     "output_type": "stream",
     "text": [
      "this genotype is Ntsr1Cre\n"
     ]
    }
   ],
   "source": [
    "# first separate into genotypes\n",
    "genotypes=np.unique(data['Genotype'])\n",
    "\n",
    "this_genotype=genotypes[0]\n",
    "print(f'this genotype is {this_genotype}')\n",
    "\n",
    "this_data= data[data['Genotype']== this_genotype]\n"
   ]
  },
  {
   "cell_type": "code",
   "execution_count": 15,
   "metadata": {},
   "outputs": [],
   "source": [
    "this_data=this_data.reset_index(drop=True)\n",
    "this_df,include_list= expand_df(this_data)"
   ]
  },
  {
   "cell_type": "code",
   "execution_count": null,
   "metadata": {},
   "outputs": [],
   "source": []
  },
  {
   "cell_type": "code",
   "execution_count": 73,
   "metadata": {},
   "outputs": [
    {
     "data": {
      "application/vnd.plotly.v1+json": {
       "config": {
        "plotlyServerURL": "https://plot.ly"
       },
       "data": [
        {
         "alignmentgroup": "True",
         "hovertemplate": "region_name=SSs6a<br>sample_id=%{x}<br>percentage=%{y}<extra></extra>",
         "legendgroup": "SSs6a",
         "marker": {
          "color": "#636efa"
         },
         "name": "SSs6a",
         "offsetgroup": "SSs6a",
         "orientation": "v",
         "showlegend": true,
         "textposition": "auto",
         "type": "bar",
         "x": [
          "AL274_561",
          "AL284_647",
          "AL310_647",
          "AL311_647"
         ],
         "xaxis": "x",
         "y": [
          88.79818594104309,
          53.93258426966292,
          78.2008830022075,
          0.32967032967032966
         ],
         "yaxis": "y"
        },
        {
         "alignmentgroup": "True",
         "hovertemplate": "region_name=SSs5<br>sample_id=%{x}<br>percentage=%{y}<extra></extra>",
         "legendgroup": "SSs5",
         "marker": {
          "color": "#EF553B"
         },
         "name": "SSs5",
         "offsetgroup": "SSs5",
         "orientation": "v",
         "showlegend": true,
         "textposition": "auto",
         "type": "bar",
         "x": [
          "AL274_561",
          "AL284_647",
          "AL310_647"
         ],
         "xaxis": "x",
         "y": [
          11.201814058956916,
          0.5322294500295683,
          17.439293598233995
         ],
         "yaxis": "y"
        },
        {
         "alignmentgroup": "True",
         "hovertemplate": "region_name=SSs6b<br>sample_id=%{x}<br>percentage=%{y}<extra></extra>",
         "legendgroup": "SSs6b",
         "marker": {
          "color": "#00cc96"
         },
         "name": "SSs6b",
         "offsetgroup": "SSs6b",
         "orientation": "v",
         "showlegend": true,
         "textposition": "auto",
         "type": "bar",
         "x": [
          "AL284_647",
          "AL310_647"
         ],
         "xaxis": "x",
         "y": [
          6.859846244825547,
          2.4834437086092715
         ],
         "yaxis": "y"
        },
        {
         "alignmentgroup": "True",
         "hovertemplate": "region_name=SSp-bfd6a<br>sample_id=%{x}<br>percentage=%{y}<extra></extra>",
         "legendgroup": "SSp-bfd6a",
         "marker": {
          "color": "#ab63fa"
         },
         "name": "SSp-bfd6a",
         "offsetgroup": "SSp-bfd6a",
         "orientation": "v",
         "showlegend": true,
         "textposition": "auto",
         "type": "bar",
         "x": [
          "AL284_647",
          "AL274_647",
          "AL284_561",
          "AL285_647",
          "AL311_647",
          "AL276_647"
         ],
         "xaxis": "x",
         "y": [
          25.872264931992902,
          82.52604642661305,
          59.88719309887193,
          86.37781629116118,
          84.28571428571429,
          1.0597302504816957
         ],
         "yaxis": "y"
        },
        {
         "alignmentgroup": "True",
         "hovertemplate": "region_name=SSp-bfd6b<br>sample_id=%{x}<br>percentage=%{y}<extra></extra>",
         "legendgroup": "SSp-bfd6b",
         "marker": {
          "color": "#FFA15A"
         },
         "name": "SSp-bfd6b",
         "offsetgroup": "SSp-bfd6b",
         "orientation": "v",
         "showlegend": true,
         "textposition": "auto",
         "type": "bar",
         "x": [
          "AL284_647",
          "AL274_647",
          "AL284_561",
          "AL311_647",
          "AL276_647"
         ],
         "xaxis": "x",
         "y": [
          1.4192785334121822,
          5.2275635167245476,
          17.451891174518913,
          0.43956043956043955,
          4.849068721901092
         ],
         "yaxis": "y"
        },
        {
         "alignmentgroup": "True",
         "hovertemplate": "region_name=SSp-bfd5<br>sample_id=%{x}<br>percentage=%{y}<extra></extra>",
         "legendgroup": "SSp-bfd5",
         "marker": {
          "color": "#19d3f3"
         },
         "name": "SSp-bfd5",
         "offsetgroup": "SSp-bfd5",
         "orientation": "v",
         "showlegend": true,
         "textposition": "auto",
         "type": "bar",
         "x": [
          "AL284_647",
          "AL274_647",
          "AL285_647",
          "AL311_647"
         ],
         "xaxis": "x",
         "y": [
          0.9757539917208752,
          10.729299945165417,
          13.622183708838822,
          14.945054945054945
         ],
         "yaxis": "y"
        },
        {
         "alignmentgroup": "True",
         "hovertemplate": "region_name=scwm<br>sample_id=%{x}<br>percentage=%{y}<extra></extra>",
         "legendgroup": "scwm",
         "marker": {
          "color": "#FF6692"
         },
         "name": "scwm",
         "offsetgroup": "scwm",
         "orientation": "v",
         "showlegend": true,
         "textposition": "auto",
         "type": "bar",
         "x": [
          "AL284_647",
          "AL310_647",
          "AL276_647"
         ],
         "xaxis": "x",
         "y": [
          0.9166173861620343,
          0.4966887417218543,
          0.06422607578676943
         ],
         "yaxis": "y"
        },
        {
         "alignmentgroup": "True",
         "hovertemplate": "region_name=or<br>sample_id=%{x}<br>percentage=%{y}<extra></extra>",
         "legendgroup": "or",
         "marker": {
          "color": "#B6E880"
         },
         "name": "or",
         "offsetgroup": "or",
         "orientation": "v",
         "showlegend": true,
         "textposition": "auto",
         "type": "bar",
         "x": [
          "AL284_647",
          "AL274_647",
          "AL284_561",
          "AL276_647"
         ],
         "xaxis": "x",
         "y": [
          9.491425192193969,
          1.5170901114969841,
          22.660915726609158,
          49.87154784842646
         ],
         "yaxis": "y"
        },
        {
         "alignmentgroup": "True",
         "hovertemplate": "region_name=AUDd6a<br>sample_id=%{x}<br>percentage=%{y}<extra></extra>",
         "legendgroup": "AUDd6a",
         "marker": {
          "color": "#FF97FF"
         },
         "name": "AUDd6a",
         "offsetgroup": "AUDd6a",
         "orientation": "v",
         "showlegend": true,
         "textposition": "auto",
         "type": "bar",
         "x": [
          "AL310_647"
         ],
         "xaxis": "x",
         "y": [
          1.2693156732891833
         ],
         "yaxis": "y"
        },
        {
         "alignmentgroup": "True",
         "hovertemplate": "region_name=AUDd5<br>sample_id=%{x}<br>percentage=%{y}<extra></extra>",
         "legendgroup": "AUDd5",
         "marker": {
          "color": "#FECB52"
         },
         "name": "AUDd5",
         "offsetgroup": "AUDd5",
         "orientation": "v",
         "showlegend": true,
         "textposition": "auto",
         "type": "bar",
         "x": [
          "AL310_647"
         ],
         "xaxis": "x",
         "y": [
          0.11037527593818984
         ],
         "yaxis": "y"
        },
        {
         "alignmentgroup": "True",
         "hovertemplate": "region_name=VISp6b<br>sample_id=%{x}<br>percentage=%{y}<extra></extra>",
         "legendgroup": "VISp6b",
         "marker": {
          "color": "#636efa"
         },
         "name": "VISp6b",
         "offsetgroup": "VISp6b",
         "orientation": "v",
         "showlegend": true,
         "textposition": "auto",
         "type": "bar",
         "x": [
          "AL276_647"
         ],
         "xaxis": "x",
         "y": [
          0.06422607578676943
         ],
         "yaxis": "y"
        },
        {
         "alignmentgroup": "True",
         "hovertemplate": "region_name=fp<br>sample_id=%{x}<br>percentage=%{y}<extra></extra>",
         "legendgroup": "fp",
         "marker": {
          "color": "#EF553B"
         },
         "name": "fp",
         "offsetgroup": "fp",
         "orientation": "v",
         "showlegend": true,
         "textposition": "auto",
         "type": "bar",
         "x": [
          "AL276_647"
         ],
         "xaxis": "x",
         "y": [
          28.54849068721901
         ],
         "yaxis": "y"
        },
        {
         "alignmentgroup": "True",
         "hovertemplate": "region_name=ccs<br>sample_id=%{x}<br>percentage=%{y}<extra></extra>",
         "legendgroup": "ccs",
         "marker": {
          "color": "#00cc96"
         },
         "name": "ccs",
         "offsetgroup": "ccs",
         "orientation": "v",
         "showlegend": true,
         "textposition": "auto",
         "type": "bar",
         "x": [
          "AL276_647"
         ],
         "xaxis": "x",
         "y": [
          0.4174694926140013
         ],
         "yaxis": "y"
        },
        {
         "alignmentgroup": "True",
         "hovertemplate": "region_name=VISrl6a<br>sample_id=%{x}<br>percentage=%{y}<extra></extra>",
         "legendgroup": "VISrl6a",
         "marker": {
          "color": "#ab63fa"
         },
         "name": "VISrl6a",
         "offsetgroup": "VISrl6a",
         "orientation": "v",
         "showlegend": true,
         "textposition": "auto",
         "type": "bar",
         "x": [
          "AL276_647"
         ],
         "xaxis": "x",
         "y": [
          4.624277456647399
         ],
         "yaxis": "y"
        },
        {
         "alignmentgroup": "True",
         "hovertemplate": "region_name=VISrl6b<br>sample_id=%{x}<br>percentage=%{y}<extra></extra>",
         "legendgroup": "VISrl6b",
         "marker": {
          "color": "#FFA15A"
         },
         "name": "VISrl6b",
         "offsetgroup": "VISrl6b",
         "orientation": "v",
         "showlegend": true,
         "textposition": "auto",
         "type": "bar",
         "x": [
          "AL276_647"
         ],
         "xaxis": "x",
         "y": [
          10.500963391136802
         ],
         "yaxis": "y"
        }
       ],
       "layout": {
        "autosize": true,
        "barmode": "relative",
        "legend": {
         "title": {
          "text": "region_name"
         },
         "tracegroupgap": 0
        },
        "margin": {
         "t": 60
        },
        "template": {
         "data": {
          "bar": [
           {
            "error_x": {
             "color": "#2a3f5f"
            },
            "error_y": {
             "color": "#2a3f5f"
            },
            "marker": {
             "line": {
              "color": "#E5ECF6",
              "width": 0.5
             }
            },
            "type": "bar"
           }
          ],
          "barpolar": [
           {
            "marker": {
             "line": {
              "color": "#E5ECF6",
              "width": 0.5
             }
            },
            "type": "barpolar"
           }
          ],
          "carpet": [
           {
            "aaxis": {
             "endlinecolor": "#2a3f5f",
             "gridcolor": "white",
             "linecolor": "white",
             "minorgridcolor": "white",
             "startlinecolor": "#2a3f5f"
            },
            "baxis": {
             "endlinecolor": "#2a3f5f",
             "gridcolor": "white",
             "linecolor": "white",
             "minorgridcolor": "white",
             "startlinecolor": "#2a3f5f"
            },
            "type": "carpet"
           }
          ],
          "choropleth": [
           {
            "colorbar": {
             "outlinewidth": 0,
             "ticks": ""
            },
            "type": "choropleth"
           }
          ],
          "contour": [
           {
            "colorbar": {
             "outlinewidth": 0,
             "ticks": ""
            },
            "colorscale": [
             [
              0,
              "#0d0887"
             ],
             [
              0.1111111111111111,
              "#46039f"
             ],
             [
              0.2222222222222222,
              "#7201a8"
             ],
             [
              0.3333333333333333,
              "#9c179e"
             ],
             [
              0.4444444444444444,
              "#bd3786"
             ],
             [
              0.5555555555555556,
              "#d8576b"
             ],
             [
              0.6666666666666666,
              "#ed7953"
             ],
             [
              0.7777777777777778,
              "#fb9f3a"
             ],
             [
              0.8888888888888888,
              "#fdca26"
             ],
             [
              1,
              "#f0f921"
             ]
            ],
            "type": "contour"
           }
          ],
          "contourcarpet": [
           {
            "colorbar": {
             "outlinewidth": 0,
             "ticks": ""
            },
            "type": "contourcarpet"
           }
          ],
          "heatmap": [
           {
            "colorbar": {
             "outlinewidth": 0,
             "ticks": ""
            },
            "colorscale": [
             [
              0,
              "#0d0887"
             ],
             [
              0.1111111111111111,
              "#46039f"
             ],
             [
              0.2222222222222222,
              "#7201a8"
             ],
             [
              0.3333333333333333,
              "#9c179e"
             ],
             [
              0.4444444444444444,
              "#bd3786"
             ],
             [
              0.5555555555555556,
              "#d8576b"
             ],
             [
              0.6666666666666666,
              "#ed7953"
             ],
             [
              0.7777777777777778,
              "#fb9f3a"
             ],
             [
              0.8888888888888888,
              "#fdca26"
             ],
             [
              1,
              "#f0f921"
             ]
            ],
            "type": "heatmap"
           }
          ],
          "heatmapgl": [
           {
            "colorbar": {
             "outlinewidth": 0,
             "ticks": ""
            },
            "colorscale": [
             [
              0,
              "#0d0887"
             ],
             [
              0.1111111111111111,
              "#46039f"
             ],
             [
              0.2222222222222222,
              "#7201a8"
             ],
             [
              0.3333333333333333,
              "#9c179e"
             ],
             [
              0.4444444444444444,
              "#bd3786"
             ],
             [
              0.5555555555555556,
              "#d8576b"
             ],
             [
              0.6666666666666666,
              "#ed7953"
             ],
             [
              0.7777777777777778,
              "#fb9f3a"
             ],
             [
              0.8888888888888888,
              "#fdca26"
             ],
             [
              1,
              "#f0f921"
             ]
            ],
            "type": "heatmapgl"
           }
          ],
          "histogram": [
           {
            "marker": {
             "colorbar": {
              "outlinewidth": 0,
              "ticks": ""
             }
            },
            "type": "histogram"
           }
          ],
          "histogram2d": [
           {
            "colorbar": {
             "outlinewidth": 0,
             "ticks": ""
            },
            "colorscale": [
             [
              0,
              "#0d0887"
             ],
             [
              0.1111111111111111,
              "#46039f"
             ],
             [
              0.2222222222222222,
              "#7201a8"
             ],
             [
              0.3333333333333333,
              "#9c179e"
             ],
             [
              0.4444444444444444,
              "#bd3786"
             ],
             [
              0.5555555555555556,
              "#d8576b"
             ],
             [
              0.6666666666666666,
              "#ed7953"
             ],
             [
              0.7777777777777778,
              "#fb9f3a"
             ],
             [
              0.8888888888888888,
              "#fdca26"
             ],
             [
              1,
              "#f0f921"
             ]
            ],
            "type": "histogram2d"
           }
          ],
          "histogram2dcontour": [
           {
            "colorbar": {
             "outlinewidth": 0,
             "ticks": ""
            },
            "colorscale": [
             [
              0,
              "#0d0887"
             ],
             [
              0.1111111111111111,
              "#46039f"
             ],
             [
              0.2222222222222222,
              "#7201a8"
             ],
             [
              0.3333333333333333,
              "#9c179e"
             ],
             [
              0.4444444444444444,
              "#bd3786"
             ],
             [
              0.5555555555555556,
              "#d8576b"
             ],
             [
              0.6666666666666666,
              "#ed7953"
             ],
             [
              0.7777777777777778,
              "#fb9f3a"
             ],
             [
              0.8888888888888888,
              "#fdca26"
             ],
             [
              1,
              "#f0f921"
             ]
            ],
            "type": "histogram2dcontour"
           }
          ],
          "mesh3d": [
           {
            "colorbar": {
             "outlinewidth": 0,
             "ticks": ""
            },
            "type": "mesh3d"
           }
          ],
          "parcoords": [
           {
            "line": {
             "colorbar": {
              "outlinewidth": 0,
              "ticks": ""
             }
            },
            "type": "parcoords"
           }
          ],
          "pie": [
           {
            "automargin": true,
            "type": "pie"
           }
          ],
          "scatter": [
           {
            "marker": {
             "colorbar": {
              "outlinewidth": 0,
              "ticks": ""
             }
            },
            "type": "scatter"
           }
          ],
          "scatter3d": [
           {
            "line": {
             "colorbar": {
              "outlinewidth": 0,
              "ticks": ""
             }
            },
            "marker": {
             "colorbar": {
              "outlinewidth": 0,
              "ticks": ""
             }
            },
            "type": "scatter3d"
           }
          ],
          "scattercarpet": [
           {
            "marker": {
             "colorbar": {
              "outlinewidth": 0,
              "ticks": ""
             }
            },
            "type": "scattercarpet"
           }
          ],
          "scattergeo": [
           {
            "marker": {
             "colorbar": {
              "outlinewidth": 0,
              "ticks": ""
             }
            },
            "type": "scattergeo"
           }
          ],
          "scattergl": [
           {
            "marker": {
             "colorbar": {
              "outlinewidth": 0,
              "ticks": ""
             }
            },
            "type": "scattergl"
           }
          ],
          "scattermapbox": [
           {
            "marker": {
             "colorbar": {
              "outlinewidth": 0,
              "ticks": ""
             }
            },
            "type": "scattermapbox"
           }
          ],
          "scatterpolar": [
           {
            "marker": {
             "colorbar": {
              "outlinewidth": 0,
              "ticks": ""
             }
            },
            "type": "scatterpolar"
           }
          ],
          "scatterpolargl": [
           {
            "marker": {
             "colorbar": {
              "outlinewidth": 0,
              "ticks": ""
             }
            },
            "type": "scatterpolargl"
           }
          ],
          "scatterternary": [
           {
            "marker": {
             "colorbar": {
              "outlinewidth": 0,
              "ticks": ""
             }
            },
            "type": "scatterternary"
           }
          ],
          "surface": [
           {
            "colorbar": {
             "outlinewidth": 0,
             "ticks": ""
            },
            "colorscale": [
             [
              0,
              "#0d0887"
             ],
             [
              0.1111111111111111,
              "#46039f"
             ],
             [
              0.2222222222222222,
              "#7201a8"
             ],
             [
              0.3333333333333333,
              "#9c179e"
             ],
             [
              0.4444444444444444,
              "#bd3786"
             ],
             [
              0.5555555555555556,
              "#d8576b"
             ],
             [
              0.6666666666666666,
              "#ed7953"
             ],
             [
              0.7777777777777778,
              "#fb9f3a"
             ],
             [
              0.8888888888888888,
              "#fdca26"
             ],
             [
              1,
              "#f0f921"
             ]
            ],
            "type": "surface"
           }
          ],
          "table": [
           {
            "cells": {
             "fill": {
              "color": "#EBF0F8"
             },
             "line": {
              "color": "white"
             }
            },
            "header": {
             "fill": {
              "color": "#C8D4E3"
             },
             "line": {
              "color": "white"
             }
            },
            "type": "table"
           }
          ]
         },
         "layout": {
          "annotationdefaults": {
           "arrowcolor": "#2a3f5f",
           "arrowhead": 0,
           "arrowwidth": 1
          },
          "autotypenumbers": "strict",
          "coloraxis": {
           "colorbar": {
            "outlinewidth": 0,
            "ticks": ""
           }
          },
          "colorscale": {
           "diverging": [
            [
             0,
             "#8e0152"
            ],
            [
             0.1,
             "#c51b7d"
            ],
            [
             0.2,
             "#de77ae"
            ],
            [
             0.3,
             "#f1b6da"
            ],
            [
             0.4,
             "#fde0ef"
            ],
            [
             0.5,
             "#f7f7f7"
            ],
            [
             0.6,
             "#e6f5d0"
            ],
            [
             0.7,
             "#b8e186"
            ],
            [
             0.8,
             "#7fbc41"
            ],
            [
             0.9,
             "#4d9221"
            ],
            [
             1,
             "#276419"
            ]
           ],
           "sequential": [
            [
             0,
             "#0d0887"
            ],
            [
             0.1111111111111111,
             "#46039f"
            ],
            [
             0.2222222222222222,
             "#7201a8"
            ],
            [
             0.3333333333333333,
             "#9c179e"
            ],
            [
             0.4444444444444444,
             "#bd3786"
            ],
            [
             0.5555555555555556,
             "#d8576b"
            ],
            [
             0.6666666666666666,
             "#ed7953"
            ],
            [
             0.7777777777777778,
             "#fb9f3a"
            ],
            [
             0.8888888888888888,
             "#fdca26"
            ],
            [
             1,
             "#f0f921"
            ]
           ],
           "sequentialminus": [
            [
             0,
             "#0d0887"
            ],
            [
             0.1111111111111111,
             "#46039f"
            ],
            [
             0.2222222222222222,
             "#7201a8"
            ],
            [
             0.3333333333333333,
             "#9c179e"
            ],
            [
             0.4444444444444444,
             "#bd3786"
            ],
            [
             0.5555555555555556,
             "#d8576b"
            ],
            [
             0.6666666666666666,
             "#ed7953"
            ],
            [
             0.7777777777777778,
             "#fb9f3a"
            ],
            [
             0.8888888888888888,
             "#fdca26"
            ],
            [
             1,
             "#f0f921"
            ]
           ]
          },
          "colorway": [
           "#636efa",
           "#EF553B",
           "#00cc96",
           "#ab63fa",
           "#FFA15A",
           "#19d3f3",
           "#FF6692",
           "#B6E880",
           "#FF97FF",
           "#FECB52"
          ],
          "font": {
           "color": "#2a3f5f"
          },
          "geo": {
           "bgcolor": "white",
           "lakecolor": "white",
           "landcolor": "#E5ECF6",
           "showlakes": true,
           "showland": true,
           "subunitcolor": "white"
          },
          "hoverlabel": {
           "align": "left"
          },
          "hovermode": "closest",
          "mapbox": {
           "style": "light"
          },
          "paper_bgcolor": "white",
          "plot_bgcolor": "#E5ECF6",
          "polar": {
           "angularaxis": {
            "gridcolor": "white",
            "linecolor": "white",
            "ticks": ""
           },
           "bgcolor": "#E5ECF6",
           "radialaxis": {
            "gridcolor": "white",
            "linecolor": "white",
            "ticks": ""
           }
          },
          "scene": {
           "xaxis": {
            "backgroundcolor": "#E5ECF6",
            "gridcolor": "white",
            "gridwidth": 2,
            "linecolor": "white",
            "showbackground": true,
            "ticks": "",
            "zerolinecolor": "white"
           },
           "yaxis": {
            "backgroundcolor": "#E5ECF6",
            "gridcolor": "white",
            "gridwidth": 2,
            "linecolor": "white",
            "showbackground": true,
            "ticks": "",
            "zerolinecolor": "white"
           },
           "zaxis": {
            "backgroundcolor": "#E5ECF6",
            "gridcolor": "white",
            "gridwidth": 2,
            "linecolor": "white",
            "showbackground": true,
            "ticks": "",
            "zerolinecolor": "white"
           }
          },
          "shapedefaults": {
           "line": {
            "color": "#2a3f5f"
           }
          },
          "ternary": {
           "aaxis": {
            "gridcolor": "white",
            "linecolor": "white",
            "ticks": ""
           },
           "baxis": {
            "gridcolor": "white",
            "linecolor": "white",
            "ticks": ""
           },
           "bgcolor": "#E5ECF6",
           "caxis": {
            "gridcolor": "white",
            "linecolor": "white",
            "ticks": ""
           }
          },
          "title": {
           "x": 0.05
          },
          "xaxis": {
           "automargin": true,
           "gridcolor": "white",
           "linecolor": "white",
           "ticks": "",
           "title": {
            "standoff": 15
           },
           "zerolinecolor": "white",
           "zerolinewidth": 2
          },
          "yaxis": {
           "automargin": true,
           "gridcolor": "white",
           "linecolor": "white",
           "ticks": "",
           "title": {
            "standoff": 15
           },
           "zerolinecolor": "white",
           "zerolinewidth": 2
          }
         }
        },
        "xaxis": {
         "anchor": "y",
         "autorange": true,
         "domain": [
          0,
          1
         ],
         "range": [
          -0.5,
          7.5
         ],
         "title": {
          "text": "sample_id"
         },
         "type": "category"
        },
        "yaxis": {
         "anchor": "x",
         "autorange": true,
         "domain": [
          0,
          1
         ],
         "range": [
          0,
          105.26315789473685
         ],
         "title": {
          "text": "percentage"
         },
         "type": "linear"
        }
       }
      },
      "image/png": "[encoded data removed]",
      "text/html": [
       "<div>                            <div id=\"9f2f3369-5742-4f9b-9145-92bd645df9cb\" class=\"plotly-graph-div\" style=\"height:525px; width:100%;\"></div>            <script type=\"text/javascript\">                require([\"plotly\"], function(Plotly) {                    window.PLOTLYENV=window.PLOTLYENV || {};                                    if (document.getElementById(\"9f2f3369-5742-4f9b-9145-92bd645df9cb\")) {                    Plotly.newPlot(                        \"9f2f3369-5742-4f9b-9145-92bd645df9cb\",                        [{\"alignmentgroup\": \"True\", \"hovertemplate\": \"region_name=SSs6a<br>sample_id=%{x}<br>percentage=%{y}<extra></extra>\", \"legendgroup\": \"SSs6a\", \"marker\": {\"color\": \"#636efa\"}, \"name\": \"SSs6a\", \"offsetgroup\": \"SSs6a\", \"orientation\": \"v\", \"showlegend\": true, \"textposition\": \"auto\", \"type\": \"bar\", \"x\": [\"AL274_561\", \"AL284_647\", \"AL310_647\", \"AL311_647\"], \"xaxis\": \"x\", \"y\": [88.79818594104309, 53.93258426966292, 78.2008830022075, 0.32967032967032966], \"yaxis\": \"y\"}, {\"alignmentgroup\": \"True\", \"hovertemplate\": \"region_name=SSs5<br>sample_id=%{x}<br>percentage=%{y}<extra></extra>\", \"legendgroup\": \"SSs5\", \"marker\": {\"color\": \"#EF553B\"}, \"name\": \"SSs5\", \"offsetgroup\": \"SSs5\", \"orientation\": \"v\", \"showlegend\": true, \"textposition\": \"auto\", \"type\": \"bar\", \"x\": [\"AL274_561\", \"AL284_647\", \"AL310_647\"], \"xaxis\": \"x\", \"y\": [11.201814058956916, 0.5322294500295683, 17.439293598233995], \"yaxis\": \"y\"}, {\"alignmentgroup\": \"True\", \"hovertemplate\": \"region_name=SSs6b<br>sample_id=%{x}<br>percentage=%{y}<extra></extra>\", \"legendgroup\": \"SSs6b\", \"marker\": {\"color\": \"#00cc96\"}, \"name\": \"SSs6b\", \"offsetgroup\": \"SSs6b\", \"orientation\": \"v\", \"showlegend\": true, \"textposition\": \"auto\", \"type\": \"bar\", \"x\": [\"AL284_647\", \"AL310_647\"], \"xaxis\": \"x\", \"y\": [6.859846244825547, 2.4834437086092715], \"yaxis\": \"y\"}, {\"alignmentgroup\": \"True\", \"hovertemplate\": \"region_name=SSp-bfd6a<br>sample_id=%{x}<br>percentage=%{y}<extra></extra>\", \"legendgroup\": \"SSp-bfd6a\", \"marker\": {\"color\": \"#ab63fa\"}, \"name\": \"SSp-bfd6a\", \"offsetgroup\": \"SSp-bfd6a\", \"orientation\": \"v\", \"showlegend\": true, \"textposition\": \"auto\", \"type\": \"bar\", \"x\": [\"AL284_647\", \"AL274_647\", \"AL284_561\", \"AL285_647\", \"AL311_647\", \"AL276_647\"], \"xaxis\": \"x\", \"y\": [25.872264931992902, 82.52604642661305, 59.88719309887193, 86.37781629116118, 84.28571428571429, 1.0597302504816957], \"yaxis\": \"y\"}, {\"alignmentgroup\": \"True\", \"hovertemplate\": \"region_name=SSp-bfd6b<br>sample_id=%{x}<br>percentage=%{y}<extra></extra>\", \"legendgroup\": \"SSp-bfd6b\", \"marker\": {\"color\": \"#FFA15A\"}, \"name\": \"SSp-bfd6b\", \"offsetgroup\": \"SSp-bfd6b\", \"orientation\": \"v\", \"showlegend\": true, \"textposition\": \"auto\", \"type\": \"bar\", \"x\": [\"AL284_647\", \"AL274_647\", \"AL284_561\", \"AL311_647\", \"AL276_647\"], \"xaxis\": \"x\", \"y\": [1.4192785334121822, 5.2275635167245476, 17.451891174518913, 0.43956043956043955, 4.849068721901092], \"yaxis\": \"y\"}, {\"alignmentgroup\": \"True\", \"hovertemplate\": \"region_name=SSp-bfd5<br>sample_id=%{x}<br>percentage=%{y}<extra></extra>\", \"legendgroup\": \"SSp-bfd5\", \"marker\": {\"color\": \"#19d3f3\"}, \"name\": \"SSp-bfd5\", \"offsetgroup\": \"SSp-bfd5\", \"orientation\": \"v\", \"showlegend\": true, \"textposition\": \"auto\", \"type\": \"bar\", \"x\": [\"AL284_647\", \"AL274_647\", \"AL285_647\", \"AL311_647\"], \"xaxis\": \"x\", \"y\": [0.9757539917208752, 10.729299945165417, 13.622183708838822, 14.945054945054945], \"yaxis\": \"y\"}, {\"alignmentgroup\": \"True\", \"hovertemplate\": \"region_name=scwm<br>sample_id=%{x}<br>percentage=%{y}<extra></extra>\", \"legendgroup\": \"scwm\", \"marker\": {\"color\": \"#FF6692\"}, \"name\": \"scwm\", \"offsetgroup\": \"scwm\", \"orientation\": \"v\", \"showlegend\": true, \"textposition\": \"auto\", \"type\": \"bar\", \"x\": [\"AL284_647\", \"AL310_647\", \"AL276_647\"], \"xaxis\": \"x\", \"y\": [0.9166173861620343, 0.4966887417218543, 0.06422607578676943], \"yaxis\": \"y\"}, {\"alignmentgroup\": \"True\", \"hovertemplate\": \"region_name=or<br>sample_id=%{x}<br>percentage=%{y}<extra></extra>\", \"legendgroup\": \"or\", \"marker\": {\"color\": \"#B6E880\"}, \"name\": \"or\", \"offsetgroup\": \"or\", \"orientation\": \"v\", \"showlegend\": true, \"textposition\": \"auto\", \"type\": \"bar\", \"x\": [\"AL284_647\", \"AL274_647\", \"AL284_561\", \"AL276_647\"], \"xaxis\": \"x\", \"y\": [9.491425192193969, 1.5170901114969841, 22.660915726609158, 49.87154784842646], \"yaxis\": \"y\"}, {\"alignmentgroup\": \"True\", \"hovertemplate\": \"region_name=AUDd6a<br>sample_id=%{x}<br>percentage=%{y}<extra></extra>\", \"legendgroup\": \"AUDd6a\", \"marker\": {\"color\": \"#FF97FF\"}, \"name\": \"AUDd6a\", \"offsetgroup\": \"AUDd6a\", \"orientation\": \"v\", \"showlegend\": true, \"textposition\": \"auto\", \"type\": \"bar\", \"x\": [\"AL310_647\"], \"xaxis\": \"x\", \"y\": [1.2693156732891833], \"yaxis\": \"y\"}, {\"alignmentgroup\": \"True\", \"hovertemplate\": \"region_name=AUDd5<br>sample_id=%{x}<br>percentage=%{y}<extra></extra>\", \"legendgroup\": \"AUDd5\", \"marker\": {\"color\": \"#FECB52\"}, \"name\": \"AUDd5\", \"offsetgroup\": \"AUDd5\", \"orientation\": \"v\", \"showlegend\": true, \"textposition\": \"auto\", \"type\": \"bar\", \"x\": [\"AL310_647\"], \"xaxis\": \"x\", \"y\": [0.11037527593818984], \"yaxis\": \"y\"}, {\"alignmentgroup\": \"True\", \"hovertemplate\": \"region_name=VISp6b<br>sample_id=%{x}<br>percentage=%{y}<extra></extra>\", \"legendgroup\": \"VISp6b\", \"marker\": {\"color\": \"#636efa\"}, \"name\": \"VISp6b\", \"offsetgroup\": \"VISp6b\", \"orientation\": \"v\", \"showlegend\": true, \"textposition\": \"auto\", \"type\": \"bar\", \"x\": [\"AL276_647\"], \"xaxis\": \"x\", \"y\": [0.06422607578676943], \"yaxis\": \"y\"}, {\"alignmentgroup\": \"True\", \"hovertemplate\": \"region_name=fp<br>sample_id=%{x}<br>percentage=%{y}<extra></extra>\", \"legendgroup\": \"fp\", \"marker\": {\"color\": \"#EF553B\"}, \"name\": \"fp\", \"offsetgroup\": \"fp\", \"orientation\": \"v\", \"showlegend\": true, \"textposition\": \"auto\", \"type\": \"bar\", \"x\": [\"AL276_647\"], \"xaxis\": \"x\", \"y\": [28.54849068721901], \"yaxis\": \"y\"}, {\"alignmentgroup\": \"True\", \"hovertemplate\": \"region_name=ccs<br>sample_id=%{x}<br>percentage=%{y}<extra></extra>\", \"legendgroup\": \"ccs\", \"marker\": {\"color\": \"#00cc96\"}, \"name\": \"ccs\", \"offsetgroup\": \"ccs\", \"orientation\": \"v\", \"showlegend\": true, \"textposition\": \"auto\", \"type\": \"bar\", \"x\": [\"AL276_647\"], \"xaxis\": \"x\", \"y\": [0.4174694926140013], \"yaxis\": \"y\"}, {\"alignmentgroup\": \"True\", \"hovertemplate\": \"region_name=VISrl6a<br>sample_id=%{x}<br>percentage=%{y}<extra></extra>\", \"legendgroup\": \"VISrl6a\", \"marker\": {\"color\": \"#ab63fa\"}, \"name\": \"VISrl6a\", \"offsetgroup\": \"VISrl6a\", \"orientation\": \"v\", \"showlegend\": true, \"textposition\": \"auto\", \"type\": \"bar\", \"x\": [\"AL276_647\"], \"xaxis\": \"x\", \"y\": [4.624277456647399], \"yaxis\": \"y\"}, {\"alignmentgroup\": \"True\", \"hovertemplate\": \"region_name=VISrl6b<br>sample_id=%{x}<br>percentage=%{y}<extra></extra>\", \"legendgroup\": \"VISrl6b\", \"marker\": {\"color\": \"#FFA15A\"}, \"name\": \"VISrl6b\", \"offsetgroup\": \"VISrl6b\", \"orientation\": \"v\", \"showlegend\": true, \"textposition\": \"auto\", \"type\": \"bar\", \"x\": [\"AL276_647\"], \"xaxis\": \"x\", \"y\": [10.500963391136802], \"yaxis\": \"y\"}],                        {\"barmode\": \"relative\", \"legend\": {\"title\": {\"text\": \"region_name\"}, \"tracegroupgap\": 0}, \"margin\": {\"t\": 60}, \"template\": {\"data\": {\"bar\": [{\"error_x\": {\"color\": \"#2a3f5f\"}, \"error_y\": {\"color\": \"#2a3f5f\"}, \"marker\": {\"line\": {\"color\": \"#E5ECF6\", \"width\": 0.5}}, \"type\": \"bar\"}], \"barpolar\": [{\"marker\": {\"line\": {\"color\": \"#E5ECF6\", \"width\": 0.5}}, \"type\": \"barpolar\"}], \"carpet\": [{\"aaxis\": {\"endlinecolor\": \"#2a3f5f\", \"gridcolor\": \"white\", \"linecolor\": \"white\", \"minorgridcolor\": \"white\", \"startlinecolor\": \"#2a3f5f\"}, \"baxis\": {\"endlinecolor\": \"#2a3f5f\", \"gridcolor\": \"white\", \"linecolor\": \"white\", \"minorgridcolor\": \"white\", \"startlinecolor\": \"#2a3f5f\"}, \"type\": \"carpet\"}], \"choropleth\": [{\"colorbar\": {\"outlinewidth\": 0, \"ticks\": \"\"}, \"type\": \"choropleth\"}], \"contour\": [{\"colorbar\": {\"outlinewidth\": 0, \"ticks\": \"\"}, \"colorscale\": [[0.0, \"#0d0887\"], [0.1111111111111111, \"#46039f\"], [0.2222222222222222, \"#7201a8\"], [0.3333333333333333, \"#9c179e\"], [0.4444444444444444, \"#bd3786\"], [0.5555555555555556, \"#d8576b\"], [0.6666666666666666, \"#ed7953\"], [0.7777777777777778, \"#fb9f3a\"], [0.8888888888888888, \"#fdca26\"], [1.0, \"#f0f921\"]], \"type\": \"contour\"}], \"contourcarpet\": [{\"colorbar\": {\"outlinewidth\": 0, \"ticks\": \"\"}, \"type\": \"contourcarpet\"}], \"heatmap\": [{\"colorbar\": {\"outlinewidth\": 0, \"ticks\": \"\"}, \"colorscale\": [[0.0, \"#0d0887\"], [0.1111111111111111, \"#46039f\"], [0.2222222222222222, \"#7201a8\"], [0.3333333333333333, \"#9c179e\"], [0.4444444444444444, \"#bd3786\"], [0.5555555555555556, \"#d8576b\"], [0.6666666666666666, \"#ed7953\"], [0.7777777777777778, \"#fb9f3a\"], [0.8888888888888888, \"#fdca26\"], [1.0, \"#f0f921\"]], \"type\": \"heatmap\"}], \"heatmapgl\": [{\"colorbar\": {\"outlinewidth\": 0, \"ticks\": \"\"}, \"colorscale\": [[0.0, \"#0d0887\"], [0.1111111111111111, \"#46039f\"], [0.2222222222222222, \"#7201a8\"], [0.3333333333333333, \"#9c179e\"], [0.4444444444444444, \"#bd3786\"], [0.5555555555555556, \"#d8576b\"], [0.6666666666666666, \"#ed7953\"], [0.7777777777777778, \"#fb9f3a\"], [0.8888888888888888, \"#fdca26\"], [1.0, \"#f0f921\"]], \"type\": \"heatmapgl\"}], \"histogram\": [{\"marker\": {\"colorbar\": {\"outlinewidth\": 0, \"ticks\": \"\"}}, \"type\": \"histogram\"}], \"histogram2d\": [{\"colorbar\": {\"outlinewidth\": 0, \"ticks\": \"\"}, \"colorscale\": [[0.0, \"#0d0887\"], [0.1111111111111111, \"#46039f\"], [0.2222222222222222, \"#7201a8\"], [0.3333333333333333, \"#9c179e\"], [0.4444444444444444, \"#bd3786\"], [0.5555555555555556, \"#d8576b\"], [0.6666666666666666, \"#ed7953\"], [0.7777777777777778, \"#fb9f3a\"], [0.8888888888888888, \"#fdca26\"], [1.0, \"#f0f921\"]], \"type\": \"histogram2d\"}], \"histogram2dcontour\": [{\"colorbar\": {\"outlinewidth\": 0, \"ticks\": \"\"}, \"colorscale\": [[0.0, \"#0d0887\"], [0.1111111111111111, \"#46039f\"], [0.2222222222222222, \"#7201a8\"], [0.3333333333333333, \"#9c179e\"], [0.4444444444444444, \"#bd3786\"], [0.5555555555555556, \"#d8576b\"], [0.6666666666666666, \"#ed7953\"], [0.7777777777777778, \"#fb9f3a\"], [0.8888888888888888, \"#fdca26\"], [1.0, \"#f0f921\"]], \"type\": \"histogram2dcontour\"}], \"mesh3d\": [{\"colorbar\": {\"outlinewidth\": 0, \"ticks\": \"\"}, \"type\": \"mesh3d\"}], \"parcoords\": [{\"line\": {\"colorbar\": {\"outlinewidth\": 0, \"ticks\": \"\"}}, \"type\": \"parcoords\"}], \"pie\": [{\"automargin\": true, \"type\": \"pie\"}], \"scatter\": [{\"marker\": {\"colorbar\": {\"outlinewidth\": 0, \"ticks\": \"\"}}, \"type\": \"scatter\"}], \"scatter3d\": [{\"line\": {\"colorbar\": {\"outlinewidth\": 0, \"ticks\": \"\"}}, \"marker\": {\"colorbar\": {\"outlinewidth\": 0, \"ticks\": \"\"}}, \"type\": \"scatter3d\"}], \"scattercarpet\": [{\"marker\": {\"colorbar\": {\"outlinewidth\": 0, \"ticks\": \"\"}}, \"type\": \"scattercarpet\"}], \"scattergeo\": [{\"marker\": {\"colorbar\": {\"outlinewidth\": 0, \"ticks\": \"\"}}, \"type\": \"scattergeo\"}], \"scattergl\": [{\"marker\": {\"colorbar\": {\"outlinewidth\": 0, \"ticks\": \"\"}}, \"type\": \"scattergl\"}], \"scattermapbox\": [{\"marker\": {\"colorbar\": {\"outlinewidth\": 0, \"ticks\": \"\"}}, \"type\": \"scattermapbox\"}], \"scatterpolar\": [{\"marker\": {\"colorbar\": {\"outlinewidth\": 0, \"ticks\": \"\"}}, \"type\": \"scatterpolar\"}], \"scatterpolargl\": [{\"marker\": {\"colorbar\": {\"outlinewidth\": 0, \"ticks\": \"\"}}, \"type\": \"scatterpolargl\"}], \"scatterternary\": [{\"marker\": {\"colorbar\": {\"outlinewidth\": 0, \"ticks\": \"\"}}, \"type\": \"scatterternary\"}], \"surface\": [{\"colorbar\": {\"outlinewidth\": 0, \"ticks\": \"\"}, \"colorscale\": [[0.0, \"#0d0887\"], [0.1111111111111111, \"#46039f\"], [0.2222222222222222, \"#7201a8\"], [0.3333333333333333, \"#9c179e\"], [0.4444444444444444, \"#bd3786\"], [0.5555555555555556, \"#d8576b\"], [0.6666666666666666, \"#ed7953\"], [0.7777777777777778, \"#fb9f3a\"], [0.8888888888888888, \"#fdca26\"], [1.0, \"#f0f921\"]], \"type\": \"surface\"}], \"table\": [{\"cells\": {\"fill\": {\"color\": \"#EBF0F8\"}, \"line\": {\"color\": \"white\"}}, \"header\": {\"fill\": {\"color\": \"#C8D4E3\"}, \"line\": {\"color\": \"white\"}}, \"type\": \"table\"}]}, \"layout\": {\"annotationdefaults\": {\"arrowcolor\": \"#2a3f5f\", \"arrowhead\": 0, \"arrowwidth\": 1}, \"autotypenumbers\": \"strict\", \"coloraxis\": {\"colorbar\": {\"outlinewidth\": 0, \"ticks\": \"\"}}, \"colorscale\": {\"diverging\": [[0, \"#8e0152\"], [0.1, \"#c51b7d\"], [0.2, \"#de77ae\"], [0.3, \"#f1b6da\"], [0.4, \"#fde0ef\"], [0.5, \"#f7f7f7\"], [0.6, \"#e6f5d0\"], [0.7, \"#b8e186\"], [0.8, \"#7fbc41\"], [0.9, \"#4d9221\"], [1, \"#276419\"]], \"sequential\": [[0.0, \"#0d0887\"], [0.1111111111111111, \"#46039f\"], [0.2222222222222222, \"#7201a8\"], [0.3333333333333333, \"#9c179e\"], [0.4444444444444444, \"#bd3786\"], [0.5555555555555556, \"#d8576b\"], [0.6666666666666666, \"#ed7953\"], [0.7777777777777778, \"#fb9f3a\"], [0.8888888888888888, \"#fdca26\"], [1.0, \"#f0f921\"]], \"sequentialminus\": [[0.0, \"#0d0887\"], [0.1111111111111111, \"#46039f\"], [0.2222222222222222, \"#7201a8\"], [0.3333333333333333, \"#9c179e\"], [0.4444444444444444, \"#bd3786\"], [0.5555555555555556, \"#d8576b\"], [0.6666666666666666, \"#ed7953\"], [0.7777777777777778, \"#fb9f3a\"], [0.8888888888888888, \"#fdca26\"], [1.0, \"#f0f921\"]]}, \"colorway\": [\"#636efa\", \"#EF553B\", \"#00cc96\", \"#ab63fa\", \"#FFA15A\", \"#19d3f3\", \"#FF6692\", \"#B6E880\", \"#FF97FF\", \"#FECB52\"], \"font\": {\"color\": \"#2a3f5f\"}, \"geo\": {\"bgcolor\": \"white\", \"lakecolor\": \"white\", \"landcolor\": \"#E5ECF6\", \"showlakes\": true, \"showland\": true, \"subunitcolor\": \"white\"}, \"hoverlabel\": {\"align\": \"left\"}, \"hovermode\": \"closest\", \"mapbox\": {\"style\": \"light\"}, \"paper_bgcolor\": \"white\", \"plot_bgcolor\": \"#E5ECF6\", \"polar\": {\"angularaxis\": {\"gridcolor\": \"white\", \"linecolor\": \"white\", \"ticks\": \"\"}, \"bgcolor\": \"#E5ECF6\", \"radialaxis\": {\"gridcolor\": \"white\", \"linecolor\": \"white\", \"ticks\": \"\"}}, \"scene\": {\"xaxis\": {\"backgroundcolor\": \"#E5ECF6\", \"gridcolor\": \"white\", \"gridwidth\": 2, \"linecolor\": \"white\", \"showbackground\": true, \"ticks\": \"\", \"zerolinecolor\": \"white\"}, \"yaxis\": {\"backgroundcolor\": \"#E5ECF6\", \"gridcolor\": \"white\", \"gridwidth\": 2, \"linecolor\": \"white\", \"showbackground\": true, \"ticks\": \"\", \"zerolinecolor\": \"white\"}, \"zaxis\": {\"backgroundcolor\": \"#E5ECF6\", \"gridcolor\": \"white\", \"gridwidth\": 2, \"linecolor\": \"white\", \"showbackground\": true, \"ticks\": \"\", \"zerolinecolor\": \"white\"}}, \"shapedefaults\": {\"line\": {\"color\": \"#2a3f5f\"}}, \"ternary\": {\"aaxis\": {\"gridcolor\": \"white\", \"linecolor\": \"white\", \"ticks\": \"\"}, \"baxis\": {\"gridcolor\": \"white\", \"linecolor\": \"white\", \"ticks\": \"\"}, \"bgcolor\": \"#E5ECF6\", \"caxis\": {\"gridcolor\": \"white\", \"linecolor\": \"white\", \"ticks\": \"\"}}, \"title\": {\"x\": 0.05}, \"xaxis\": {\"automargin\": true, \"gridcolor\": \"white\", \"linecolor\": \"white\", \"ticks\": \"\", \"title\": {\"standoff\": 15}, \"zerolinecolor\": \"white\", \"zerolinewidth\": 2}, \"yaxis\": {\"automargin\": true, \"gridcolor\": \"white\", \"linecolor\": \"white\", \"ticks\": \"\", \"title\": {\"standoff\": 15}, \"zerolinecolor\": \"white\", \"zerolinewidth\": 2}}}, \"xaxis\": {\"anchor\": \"y\", \"domain\": [0.0, 1.0], \"title\": {\"text\": \"sample_id\"}}, \"yaxis\": {\"anchor\": \"x\", \"domain\": [0.0, 1.0], \"title\": {\"text\": \"percentage\"}}},                        {\"responsive\": true}                    ).then(function(){\n",
       "                            \n",
       "var gd = document.getElementById('9f2f3369-5742-4f9b-9145-92bd645df9cb');\n",
       "var x = new MutationObserver(function (mutations, observer) {{\n",
       "        var display = window.getComputedStyle(gd).display;\n",
       "        if (!display || display === 'none') {{\n",
       "            console.log([gd, 'removed!']);\n",
       "            Plotly.purge(gd);\n",
       "            observer.disconnect();\n",
       "        }}\n",
       "}});\n",
       "\n",
       "// Listen for the removal of the full notebook cells\n",
       "var notebookContainer = gd.closest('#notebook-container');\n",
       "if (notebookContainer) {{\n",
       "    x.observe(notebookContainer, {childList: true});\n",
       "}}\n",
       "\n",
       "// Listen for the clearing of the current output cell\n",
       "var outputEl = gd.closest('.output');\n",
       "if (outputEl) {{\n",
       "    x.observe(outputEl, {childList: true});\n",
       "}}\n",
       "\n",
       "                        })                };                });            </script>        </div>"
      ]
     },
     "metadata": {},
     "output_type": "display_data"
    }
   ],
   "source": [
    "import plotly.express as px\n",
    "\n",
    "\n",
    "fig = px.bar(this_df, x=\"sample_id\", y=\"percentage\", color=\"region_name\")\n",
    "fig.show()\n",
    "\n",
    "fig.write_html(f\"{this_genotype}_injectionvoxel_distribution.html\")"
   ]
  },
  {
   "cell_type": "code",
   "execution_count": null,
   "metadata": {},
   "outputs": [],
   "source": []
  },
  {
   "cell_type": "code",
   "execution_count": 15,
   "metadata": {},
   "outputs": [
    {
     "name": "stdout",
     "output_type": "stream",
     "text": [
      "this genotype is Ntsr1Cre\n"
     ]
    },
    {
     "data": {
      "application/vnd.plotly.v1+json": {
       "config": {
        "plotlyServerURL": "https://plot.ly"
       },
       "data": [
        {
         "alignmentgroup": "True",
         "hovertemplate": "region_name=AUDd6a<br>sample_id=%{x}<br>percentage=%{y}<extra></extra>",
         "legendgroup": "AUDd6a",
         "marker": {
          "color": "#636efa"
         },
         "name": "AUDd6a",
         "offsetgroup": "AUDd6a",
         "orientation": "v",
         "showlegend": true,
         "textposition": "auto",
         "type": "bar",
         "x": [
          "AL329_647",
          "AL310_647"
         ],
         "xaxis": "x",
         "y": [
          54.30711610486891,
          1.2693156732891833
         ],
         "yaxis": "y"
        },
        {
         "alignmentgroup": "True",
         "hovertemplate": "region_name=AUDd6b<br>sample_id=%{x}<br>percentage=%{y}<extra></extra>",
         "legendgroup": "AUDd6b",
         "marker": {
          "color": "#EF553B"
         },
         "name": "AUDd6b",
         "offsetgroup": "AUDd6b",
         "orientation": "v",
         "showlegend": true,
         "textposition": "auto",
         "type": "bar",
         "x": [
          "AL329_647"
         ],
         "xaxis": "x",
         "y": [
          0.18726591760299627
         ],
         "yaxis": "y"
        },
        {
         "alignmentgroup": "True",
         "hovertemplate": "region_name=AUDd5<br>sample_id=%{x}<br>percentage=%{y}<extra></extra>",
         "legendgroup": "AUDd5",
         "marker": {
          "color": "#00cc96"
         },
         "name": "AUDd5",
         "offsetgroup": "AUDd5",
         "orientation": "v",
         "showlegend": true,
         "textposition": "auto",
         "type": "bar",
         "x": [
          "AL329_647",
          "AL310_647"
         ],
         "xaxis": "x",
         "y": [
          3.5580524344569286,
          0.11037527593818984
         ],
         "yaxis": "y"
        },
        {
         "alignmentgroup": "True",
         "hovertemplate": "region_name=AUDv6a<br>sample_id=%{x}<br>percentage=%{y}<extra></extra>",
         "legendgroup": "AUDv6a",
         "marker": {
          "color": "#ab63fa"
         },
         "name": "AUDv6a",
         "offsetgroup": "AUDv6a",
         "orientation": "v",
         "showlegend": true,
         "textposition": "auto",
         "type": "bar",
         "x": [
          "AL329_647"
         ],
         "xaxis": "x",
         "y": [
          0.4681647940074906
         ],
         "yaxis": "y"
        },
        {
         "alignmentgroup": "True",
         "hovertemplate": "region_name=SSs6a<br>sample_id=%{x}<br>percentage=%{y}<extra></extra>",
         "legendgroup": "SSs6a",
         "marker": {
          "color": "#FFA15A"
         },
         "name": "SSs6a",
         "offsetgroup": "SSs6a",
         "orientation": "v",
         "showlegend": true,
         "textposition": "auto",
         "type": "bar",
         "x": [
          "AL329_647",
          "AL274_561",
          "AL284_647",
          "AL310_647",
          "AL330_647",
          "AL311_647"
         ],
         "xaxis": "x",
         "y": [
          39.8876404494382,
          88.79818594104309,
          53.93258426966292,
          78.2008830022075,
          70.09950248756219,
          0.32967032967032966
         ],
         "yaxis": "y"
        },
        {
         "alignmentgroup": "True",
         "hovertemplate": "region_name=SSs6b<br>sample_id=%{x}<br>percentage=%{y}<extra></extra>",
         "legendgroup": "SSs6b",
         "marker": {
          "color": "#19d3f3"
         },
         "name": "SSs6b",
         "offsetgroup": "SSs6b",
         "orientation": "v",
         "showlegend": true,
         "textposition": "auto",
         "type": "bar",
         "x": [
          "AL329_647",
          "AL284_647",
          "AL310_647"
         ],
         "xaxis": "x",
         "y": [
          0.09363295880149813,
          6.859846244825547,
          2.4834437086092715
         ],
         "yaxis": "y"
        },
        {
         "alignmentgroup": "True",
         "hovertemplate": "region_name=SSs5<br>sample_id=%{x}<br>percentage=%{y}<extra></extra>",
         "legendgroup": "SSs5",
         "marker": {
          "color": "#FF6692"
         },
         "name": "SSs5",
         "offsetgroup": "SSs5",
         "orientation": "v",
         "showlegend": true,
         "textposition": "auto",
         "type": "bar",
         "x": [
          "AL329_647",
          "AL274_561",
          "AL284_647",
          "AL310_647",
          "AL330_647"
         ],
         "xaxis": "x",
         "y": [
          1.4981273408239701,
          11.201814058956916,
          0.5322294500295683,
          17.439293598233995,
          11.16915422885572
         ],
         "yaxis": "y"
        },
        {
         "alignmentgroup": "True",
         "hovertemplate": "region_name=SSp-bfd6a<br>sample_id=%{x}<br>percentage=%{y}<extra></extra>",
         "legendgroup": "SSp-bfd6a",
         "marker": {
          "color": "#B6E880"
         },
         "name": "SSp-bfd6a",
         "offsetgroup": "SSp-bfd6a",
         "orientation": "v",
         "showlegend": true,
         "textposition": "auto",
         "type": "bar",
         "x": [
          "AL284_647",
          "AL330_647",
          "AL274_647",
          "AL284_561",
          "AL285_647",
          "AL311_647",
          "AL276_647"
         ],
         "xaxis": "x",
         "y": [
          25.872264931992902,
          16.940298507462686,
          82.52604642661305,
          59.88719309887193,
          86.37781629116118,
          84.28571428571429,
          1.0597302504816957
         ],
         "yaxis": "y"
        },
        {
         "alignmentgroup": "True",
         "hovertemplate": "region_name=SSp-bfd6b<br>sample_id=%{x}<br>percentage=%{y}<extra></extra>",
         "legendgroup": "SSp-bfd6b",
         "marker": {
          "color": "#FF97FF"
         },
         "name": "SSp-bfd6b",
         "offsetgroup": "SSp-bfd6b",
         "orientation": "v",
         "showlegend": true,
         "textposition": "auto",
         "type": "bar",
         "x": [
          "AL284_647",
          "AL274_647",
          "AL284_561",
          "AL311_647",
          "AL276_647"
         ],
         "xaxis": "x",
         "y": [
          1.4192785334121822,
          5.2275635167245476,
          17.451891174518913,
          0.43956043956043955,
          4.849068721901092
         ],
         "yaxis": "y"
        },
        {
         "alignmentgroup": "True",
         "hovertemplate": "region_name=SSp-bfd5<br>sample_id=%{x}<br>percentage=%{y}<extra></extra>",
         "legendgroup": "SSp-bfd5",
         "marker": {
          "color": "#FECB52"
         },
         "name": "SSp-bfd5",
         "offsetgroup": "SSp-bfd5",
         "orientation": "v",
         "showlegend": true,
         "textposition": "auto",
         "type": "bar",
         "x": [
          "AL284_647",
          "AL330_647",
          "AL274_647",
          "AL285_647",
          "AL311_647"
         ],
         "xaxis": "x",
         "y": [
          0.9757539917208752,
          1.791044776119403,
          10.729299945165417,
          13.622183708838822,
          14.945054945054945
         ],
         "yaxis": "y"
        },
        {
         "alignmentgroup": "True",
         "hovertemplate": "region_name=scwm<br>sample_id=%{x}<br>percentage=%{y}<extra></extra>",
         "legendgroup": "scwm",
         "marker": {
          "color": "#636efa"
         },
         "name": "scwm",
         "offsetgroup": "scwm",
         "orientation": "v",
         "showlegend": true,
         "textposition": "auto",
         "type": "bar",
         "x": [
          "AL284_647",
          "AL310_647",
          "AL276_647"
         ],
         "xaxis": "x",
         "y": [
          0.9166173861620343,
          0.4966887417218543,
          0.06422607578676943
         ],
         "yaxis": "y"
        },
        {
         "alignmentgroup": "True",
         "hovertemplate": "region_name=or<br>sample_id=%{x}<br>percentage=%{y}<extra></extra>",
         "legendgroup": "or",
         "marker": {
          "color": "#EF553B"
         },
         "name": "or",
         "offsetgroup": "or",
         "orientation": "v",
         "showlegend": true,
         "textposition": "auto",
         "type": "bar",
         "x": [
          "AL284_647",
          "AL274_647",
          "AL284_561",
          "AL276_647"
         ],
         "xaxis": "x",
         "y": [
          9.491425192193969,
          1.5170901114969841,
          22.660915726609158,
          49.87154784842646
         ],
         "yaxis": "y"
        },
        {
         "alignmentgroup": "True",
         "hovertemplate": "region_name=VISp6b<br>sample_id=%{x}<br>percentage=%{y}<extra></extra>",
         "legendgroup": "VISp6b",
         "marker": {
          "color": "#00cc96"
         },
         "name": "VISp6b",
         "offsetgroup": "VISp6b",
         "orientation": "v",
         "showlegend": true,
         "textposition": "auto",
         "type": "bar",
         "x": [
          "AL276_647"
         ],
         "xaxis": "x",
         "y": [
          0.06422607578676943
         ],
         "yaxis": "y"
        },
        {
         "alignmentgroup": "True",
         "hovertemplate": "region_name=fp<br>sample_id=%{x}<br>percentage=%{y}<extra></extra>",
         "legendgroup": "fp",
         "marker": {
          "color": "#ab63fa"
         },
         "name": "fp",
         "offsetgroup": "fp",
         "orientation": "v",
         "showlegend": true,
         "textposition": "auto",
         "type": "bar",
         "x": [
          "AL276_647"
         ],
         "xaxis": "x",
         "y": [
          28.54849068721901
         ],
         "yaxis": "y"
        },
        {
         "alignmentgroup": "True",
         "hovertemplate": "region_name=ccs<br>sample_id=%{x}<br>percentage=%{y}<extra></extra>",
         "legendgroup": "ccs",
         "marker": {
          "color": "#FFA15A"
         },
         "name": "ccs",
         "offsetgroup": "ccs",
         "orientation": "v",
         "showlegend": true,
         "textposition": "auto",
         "type": "bar",
         "x": [
          "AL276_647"
         ],
         "xaxis": "x",
         "y": [
          0.4174694926140013
         ],
         "yaxis": "y"
        },
        {
         "alignmentgroup": "True",
         "hovertemplate": "region_name=VISrl6a<br>sample_id=%{x}<br>percentage=%{y}<extra></extra>",
         "legendgroup": "VISrl6a",
         "marker": {
          "color": "#19d3f3"
         },
         "name": "VISrl6a",
         "offsetgroup": "VISrl6a",
         "orientation": "v",
         "showlegend": true,
         "textposition": "auto",
         "type": "bar",
         "x": [
          "AL276_647"
         ],
         "xaxis": "x",
         "y": [
          4.624277456647399
         ],
         "yaxis": "y"
        },
        {
         "alignmentgroup": "True",
         "hovertemplate": "region_name=VISrl6b<br>sample_id=%{x}<br>percentage=%{y}<extra></extra>",
         "legendgroup": "VISrl6b",
         "marker": {
          "color": "#FF6692"
         },
         "name": "VISrl6b",
         "offsetgroup": "VISrl6b",
         "orientation": "v",
         "showlegend": true,
         "textposition": "auto",
         "type": "bar",
         "x": [
          "AL276_647"
         ],
         "xaxis": "x",
         "y": [
          10.500963391136802
         ],
         "yaxis": "y"
        }
       ],
       "layout": {
        "barmode": "relative",
        "legend": {
         "title": {
          "text": "region_name"
         },
         "tracegroupgap": 0
        },
        "margin": {
         "t": 60
        },
        "template": {
         "data": {
          "bar": [
           {
            "error_x": {
             "color": "#2a3f5f"
            },
            "error_y": {
             "color": "#2a3f5f"
            },
            "marker": {
             "line": {
              "color": "#E5ECF6",
              "width": 0.5
             }
            },
            "type": "bar"
           }
          ],
          "barpolar": [
           {
            "marker": {
             "line": {
              "color": "#E5ECF6",
              "width": 0.5
             }
            },
            "type": "barpolar"
           }
          ],
          "carpet": [
           {
            "aaxis": {
             "endlinecolor": "#2a3f5f",
             "gridcolor": "white",
             "linecolor": "white",
             "minorgridcolor": "white",
             "startlinecolor": "#2a3f5f"
            },
            "baxis": {
             "endlinecolor": "#2a3f5f",
             "gridcolor": "white",
             "linecolor": "white",
             "minorgridcolor": "white",
             "startlinecolor": "#2a3f5f"
            },
            "type": "carpet"
           }
          ],
          "choropleth": [
           {
            "colorbar": {
             "outlinewidth": 0,
             "ticks": ""
            },
            "type": "choropleth"
           }
          ],
          "contour": [
           {
            "colorbar": {
             "outlinewidth": 0,
             "ticks": ""
            },
            "colorscale": [
             [
              0,
              "#0d0887"
             ],
             [
              0.1111111111111111,
              "#46039f"
             ],
             [
              0.2222222222222222,
              "#7201a8"
             ],
             [
              0.3333333333333333,
              "#9c179e"
             ],
             [
              0.4444444444444444,
              "#bd3786"
             ],
             [
              0.5555555555555556,
              "#d8576b"
             ],
             [
              0.6666666666666666,
              "#ed7953"
             ],
             [
              0.7777777777777778,
              "#fb9f3a"
             ],
             [
              0.8888888888888888,
              "#fdca26"
             ],
             [
              1,
              "#f0f921"
             ]
            ],
            "type": "contour"
           }
          ],
          "contourcarpet": [
           {
            "colorbar": {
             "outlinewidth": 0,
             "ticks": ""
            },
            "type": "contourcarpet"
           }
          ],
          "heatmap": [
           {
            "colorbar": {
             "outlinewidth": 0,
             "ticks": ""
            },
            "colorscale": [
             [
              0,
              "#0d0887"
             ],
             [
              0.1111111111111111,
              "#46039f"
             ],
             [
              0.2222222222222222,
              "#7201a8"
             ],
             [
              0.3333333333333333,
              "#9c179e"
             ],
             [
              0.4444444444444444,
              "#bd3786"
             ],
             [
              0.5555555555555556,
              "#d8576b"
             ],
             [
              0.6666666666666666,
              "#ed7953"
             ],
             [
              0.7777777777777778,
              "#fb9f3a"
             ],
             [
              0.8888888888888888,
              "#fdca26"
             ],
             [
              1,
              "#f0f921"
             ]
            ],
            "type": "heatmap"
           }
          ],
          "heatmapgl": [
           {
            "colorbar": {
             "outlinewidth": 0,
             "ticks": ""
            },
            "colorscale": [
             [
              0,
              "#0d0887"
             ],
             [
              0.1111111111111111,
              "#46039f"
             ],
             [
              0.2222222222222222,
              "#7201a8"
             ],
             [
              0.3333333333333333,
              "#9c179e"
             ],
             [
              0.4444444444444444,
              "#bd3786"
             ],
             [
              0.5555555555555556,
              "#d8576b"
             ],
             [
              0.6666666666666666,
              "#ed7953"
             ],
             [
              0.7777777777777778,
              "#fb9f3a"
             ],
             [
              0.8888888888888888,
              "#fdca26"
             ],
             [
              1,
              "#f0f921"
             ]
            ],
            "type": "heatmapgl"
           }
          ],
          "histogram": [
           {
            "marker": {
             "colorbar": {
              "outlinewidth": 0,
              "ticks": ""
             }
            },
            "type": "histogram"
           }
          ],
          "histogram2d": [
           {
            "colorbar": {
             "outlinewidth": 0,
             "ticks": ""
            },
            "colorscale": [
             [
              0,
              "#0d0887"
             ],
             [
              0.1111111111111111,
              "#46039f"
             ],
             [
              0.2222222222222222,
              "#7201a8"
             ],
             [
              0.3333333333333333,
              "#9c179e"
             ],
             [
              0.4444444444444444,
              "#bd3786"
             ],
             [
              0.5555555555555556,
              "#d8576b"
             ],
             [
              0.6666666666666666,
              "#ed7953"
             ],
             [
              0.7777777777777778,
              "#fb9f3a"
             ],
             [
              0.8888888888888888,
              "#fdca26"
             ],
             [
              1,
              "#f0f921"
             ]
            ],
            "type": "histogram2d"
           }
          ],
          "histogram2dcontour": [
           {
            "colorbar": {
             "outlinewidth": 0,
             "ticks": ""
            },
            "colorscale": [
             [
              0,
              "#0d0887"
             ],
             [
              0.1111111111111111,
              "#46039f"
             ],
             [
              0.2222222222222222,
              "#7201a8"
             ],
             [
              0.3333333333333333,
              "#9c179e"
             ],
             [
              0.4444444444444444,
              "#bd3786"
             ],
             [
              0.5555555555555556,
              "#d8576b"
             ],
             [
              0.6666666666666666,
              "#ed7953"
             ],
             [
              0.7777777777777778,
              "#fb9f3a"
             ],
             [
              0.8888888888888888,
              "#fdca26"
             ],
             [
              1,
              "#f0f921"
             ]
            ],
            "type": "histogram2dcontour"
           }
          ],
          "mesh3d": [
           {
            "colorbar": {
             "outlinewidth": 0,
             "ticks": ""
            },
            "type": "mesh3d"
           }
          ],
          "parcoords": [
           {
            "line": {
             "colorbar": {
              "outlinewidth": 0,
              "ticks": ""
             }
            },
            "type": "parcoords"
           }
          ],
          "pie": [
           {
            "automargin": true,
            "type": "pie"
           }
          ],
          "scatter": [
           {
            "marker": {
             "colorbar": {
              "outlinewidth": 0,
              "ticks": ""
             }
            },
            "type": "scatter"
           }
          ],
          "scatter3d": [
           {
            "line": {
             "colorbar": {
              "outlinewidth": 0,
              "ticks": ""
             }
            },
            "marker": {
             "colorbar": {
              "outlinewidth": 0,
              "ticks": ""
             }
            },
            "type": "scatter3d"
           }
          ],
          "scattercarpet": [
           {
            "marker": {
             "colorbar": {
              "outlinewidth": 0,
              "ticks": ""
             }
            },
            "type": "scattercarpet"
           }
          ],
          "scattergeo": [
           {
            "marker": {
             "colorbar": {
              "outlinewidth": 0,
              "ticks": ""
             }
            },
            "type": "scattergeo"
           }
          ],
          "scattergl": [
           {
            "marker": {
             "colorbar": {
              "outlinewidth": 0,
              "ticks": ""
             }
            },
            "type": "scattergl"
           }
          ],
          "scattermapbox": [
           {
            "marker": {
             "colorbar": {
              "outlinewidth": 0,
              "ticks": ""
             }
            },
            "type": "scattermapbox"
           }
          ],
          "scatterpolar": [
           {
            "marker": {
             "colorbar": {
              "outlinewidth": 0,
              "ticks": ""
             }
            },
            "type": "scatterpolar"
           }
          ],
          "scatterpolargl": [
           {
            "marker": {
             "colorbar": {
              "outlinewidth": 0,
              "ticks": ""
             }
            },
            "type": "scatterpolargl"
           }
          ],
          "scatterternary": [
           {
            "marker": {
             "colorbar": {
              "outlinewidth": 0,
              "ticks": ""
             }
            },
            "type": "scatterternary"
           }
          ],
          "surface": [
           {
            "colorbar": {
             "outlinewidth": 0,
             "ticks": ""
            },
            "colorscale": [
             [
              0,
              "#0d0887"
             ],
             [
              0.1111111111111111,
              "#46039f"
             ],
             [
              0.2222222222222222,
              "#7201a8"
             ],
             [
              0.3333333333333333,
              "#9c179e"
             ],
             [
              0.4444444444444444,
              "#bd3786"
             ],
             [
              0.5555555555555556,
              "#d8576b"
             ],
             [
              0.6666666666666666,
              "#ed7953"
             ],
             [
              0.7777777777777778,
              "#fb9f3a"
             ],
             [
              0.8888888888888888,
              "#fdca26"
             ],
             [
              1,
              "#f0f921"
             ]
            ],
            "type": "surface"
           }
          ],
          "table": [
           {
            "cells": {
             "fill": {
              "color": "#EBF0F8"
             },
             "line": {
              "color": "white"
             }
            },
            "header": {
             "fill": {
              "color": "#C8D4E3"
             },
             "line": {
              "color": "white"
             }
            },
            "type": "table"
           }
          ]
         },
         "layout": {
          "annotationdefaults": {
           "arrowcolor": "#2a3f5f",
           "arrowhead": 0,
           "arrowwidth": 1
          },
          "autotypenumbers": "strict",
          "coloraxis": {
           "colorbar": {
            "outlinewidth": 0,
            "ticks": ""
           }
          },
          "colorscale": {
           "diverging": [
            [
             0,
             "#8e0152"
            ],
            [
             0.1,
             "#c51b7d"
            ],
            [
             0.2,
             "#de77ae"
            ],
            [
             0.3,
             "#f1b6da"
            ],
            [
             0.4,
             "#fde0ef"
            ],
            [
             0.5,
             "#f7f7f7"
            ],
            [
             0.6,
             "#e6f5d0"
            ],
            [
             0.7,
             "#b8e186"
            ],
            [
             0.8,
             "#7fbc41"
            ],
            [
             0.9,
             "#4d9221"
            ],
            [
             1,
             "#276419"
            ]
           ],
           "sequential": [
            [
             0,
             "#0d0887"
            ],
            [
             0.1111111111111111,
             "#46039f"
            ],
            [
             0.2222222222222222,
             "#7201a8"
            ],
            [
             0.3333333333333333,
             "#9c179e"
            ],
            [
             0.4444444444444444,
             "#bd3786"
            ],
            [
             0.5555555555555556,
             "#d8576b"
            ],
            [
             0.6666666666666666,
             "#ed7953"
            ],
            [
             0.7777777777777778,
             "#fb9f3a"
            ],
            [
             0.8888888888888888,
             "#fdca26"
            ],
            [
             1,
             "#f0f921"
            ]
           ],
           "sequentialminus": [
            [
             0,
             "#0d0887"
            ],
            [
             0.1111111111111111,
             "#46039f"
            ],
            [
             0.2222222222222222,
             "#7201a8"
            ],
            [
             0.3333333333333333,
             "#9c179e"
            ],
            [
             0.4444444444444444,
             "#bd3786"
            ],
            [
             0.5555555555555556,
             "#d8576b"
            ],
            [
             0.6666666666666666,
             "#ed7953"
            ],
            [
             0.7777777777777778,
             "#fb9f3a"
            ],
            [
             0.8888888888888888,
             "#fdca26"
            ],
            [
             1,
             "#f0f921"
            ]
           ]
          },
          "colorway": [
           "#636efa",
           "#EF553B",
           "#00cc96",
           "#ab63fa",
           "#FFA15A",
           "#19d3f3",
           "#FF6692",
           "#B6E880",
           "#FF97FF",
           "#FECB52"
          ],
          "font": {
           "color": "#2a3f5f"
          },
          "geo": {
           "bgcolor": "white",
           "lakecolor": "white",
           "landcolor": "#E5ECF6",
           "showlakes": true,
           "showland": true,
           "subunitcolor": "white"
          },
          "hoverlabel": {
           "align": "left"
          },
          "hovermode": "closest",
          "mapbox": {
           "style": "light"
          },
          "paper_bgcolor": "white",
          "plot_bgcolor": "#E5ECF6",
          "polar": {
           "angularaxis": {
            "gridcolor": "white",
            "linecolor": "white",
            "ticks": ""
           },
           "bgcolor": "#E5ECF6",
           "radialaxis": {
            "gridcolor": "white",
            "linecolor": "white",
            "ticks": ""
           }
          },
          "scene": {
           "xaxis": {
            "backgroundcolor": "#E5ECF6",
            "gridcolor": "white",
            "gridwidth": 2,
            "linecolor": "white",
            "showbackground": true,
            "ticks": "",
            "zerolinecolor": "white"
           },
           "yaxis": {
            "backgroundcolor": "#E5ECF6",
            "gridcolor": "white",
            "gridwidth": 2,
            "linecolor": "white",
            "showbackground": true,
            "ticks": "",
            "zerolinecolor": "white"
           },
           "zaxis": {
            "backgroundcolor": "#E5ECF6",
            "gridcolor": "white",
            "gridwidth": 2,
            "linecolor": "white",
            "showbackground": true,
            "ticks": "",
            "zerolinecolor": "white"
           }
          },
          "shapedefaults": {
           "line": {
            "color": "#2a3f5f"
           }
          },
          "ternary": {
           "aaxis": {
            "gridcolor": "white",
            "linecolor": "white",
            "ticks": ""
           },
           "baxis": {
            "gridcolor": "white",
            "linecolor": "white",
            "ticks": ""
           },
           "bgcolor": "#E5ECF6",
           "caxis": {
            "gridcolor": "white",
            "linecolor": "white",
            "ticks": ""
           }
          },
          "title": {
           "x": 0.05
          },
          "xaxis": {
           "automargin": true,
           "gridcolor": "white",
           "linecolor": "white",
           "ticks": "",
           "title": {
            "standoff": 15
           },
           "zerolinecolor": "white",
           "zerolinewidth": 2
          },
          "yaxis": {
           "automargin": true,
           "gridcolor": "white",
           "linecolor": "white",
           "ticks": "",
           "title": {
            "standoff": 15
           },
           "zerolinecolor": "white",
           "zerolinewidth": 2
          }
         }
        },
        "xaxis": {
         "anchor": "y",
         "domain": [
          0,
          1
         ],
         "title": {
          "text": "sample_id"
         }
        },
        "yaxis": {
         "anchor": "x",
         "domain": [
          0,
          1
         ],
         "title": {
          "text": "percentage"
         }
        }
       }
      },
      "text/html": [
       "<div>                            <div id=\"f6b2db46-8870-4a27-af9b-b3b659aea476\" class=\"plotly-graph-div\" style=\"height:525px; width:100%;\"></div>            <script type=\"text/javascript\">                require([\"plotly\"], function(Plotly) {                    window.PLOTLYENV=window.PLOTLYENV || {};                                    if (document.getElementById(\"f6b2db46-8870-4a27-af9b-b3b659aea476\")) {                    Plotly.newPlot(                        \"f6b2db46-8870-4a27-af9b-b3b659aea476\",                        [{\"alignmentgroup\": \"True\", \"hovertemplate\": \"region_name=AUDd6a<br>sample_id=%{x}<br>percentage=%{y}<extra></extra>\", \"legendgroup\": \"AUDd6a\", \"marker\": {\"color\": \"#636efa\"}, \"name\": \"AUDd6a\", \"offsetgroup\": \"AUDd6a\", \"orientation\": \"v\", \"showlegend\": true, \"textposition\": \"auto\", \"type\": \"bar\", \"x\": [\"AL329_647\", \"AL310_647\"], \"xaxis\": \"x\", \"y\": [54.30711610486891, 1.2693156732891833], \"yaxis\": \"y\"}, {\"alignmentgroup\": \"True\", \"hovertemplate\": \"region_name=AUDd6b<br>sample_id=%{x}<br>percentage=%{y}<extra></extra>\", \"legendgroup\": \"AUDd6b\", \"marker\": {\"color\": \"#EF553B\"}, \"name\": \"AUDd6b\", \"offsetgroup\": \"AUDd6b\", \"orientation\": \"v\", \"showlegend\": true, \"textposition\": \"auto\", \"type\": \"bar\", \"x\": [\"AL329_647\"], \"xaxis\": \"x\", \"y\": [0.18726591760299627], \"yaxis\": \"y\"}, {\"alignmentgroup\": \"True\", \"hovertemplate\": \"region_name=AUDd5<br>sample_id=%{x}<br>percentage=%{y}<extra></extra>\", \"legendgroup\": \"AUDd5\", \"marker\": {\"color\": \"#00cc96\"}, \"name\": \"AUDd5\", \"offsetgroup\": \"AUDd5\", \"orientation\": \"v\", \"showlegend\": true, \"textposition\": \"auto\", \"type\": \"bar\", \"x\": [\"AL329_647\", \"AL310_647\"], \"xaxis\": \"x\", \"y\": [3.5580524344569286, 0.11037527593818984], \"yaxis\": \"y\"}, {\"alignmentgroup\": \"True\", \"hovertemplate\": \"region_name=AUDv6a<br>sample_id=%{x}<br>percentage=%{y}<extra></extra>\", \"legendgroup\": \"AUDv6a\", \"marker\": {\"color\": \"#ab63fa\"}, \"name\": \"AUDv6a\", \"offsetgroup\": \"AUDv6a\", \"orientation\": \"v\", \"showlegend\": true, \"textposition\": \"auto\", \"type\": \"bar\", \"x\": [\"AL329_647\"], \"xaxis\": \"x\", \"y\": [0.4681647940074906], \"yaxis\": \"y\"}, {\"alignmentgroup\": \"True\", \"hovertemplate\": \"region_name=SSs6a<br>sample_id=%{x}<br>percentage=%{y}<extra></extra>\", \"legendgroup\": \"SSs6a\", \"marker\": {\"color\": \"#FFA15A\"}, \"name\": \"SSs6a\", \"offsetgroup\": \"SSs6a\", \"orientation\": \"v\", \"showlegend\": true, \"textposition\": \"auto\", \"type\": \"bar\", \"x\": [\"AL329_647\", \"AL274_561\", \"AL284_647\", \"AL310_647\", \"AL330_647\", \"AL311_647\"], \"xaxis\": \"x\", \"y\": [39.8876404494382, 88.79818594104309, 53.93258426966292, 78.2008830022075, 70.09950248756219, 0.32967032967032966], \"yaxis\": \"y\"}, {\"alignmentgroup\": \"True\", \"hovertemplate\": \"region_name=SSs6b<br>sample_id=%{x}<br>percentage=%{y}<extra></extra>\", \"legendgroup\": \"SSs6b\", \"marker\": {\"color\": \"#19d3f3\"}, \"name\": \"SSs6b\", \"offsetgroup\": \"SSs6b\", \"orientation\": \"v\", \"showlegend\": true, \"textposition\": \"auto\", \"type\": \"bar\", \"x\": [\"AL329_647\", \"AL284_647\", \"AL310_647\"], \"xaxis\": \"x\", \"y\": [0.09363295880149813, 6.859846244825547, 2.4834437086092715], \"yaxis\": \"y\"}, {\"alignmentgroup\": \"True\", \"hovertemplate\": \"region_name=SSs5<br>sample_id=%{x}<br>percentage=%{y}<extra></extra>\", \"legendgroup\": \"SSs5\", \"marker\": {\"color\": \"#FF6692\"}, \"name\": \"SSs5\", \"offsetgroup\": \"SSs5\", \"orientation\": \"v\", \"showlegend\": true, \"textposition\": \"auto\", \"type\": \"bar\", \"x\": [\"AL329_647\", \"AL274_561\", \"AL284_647\", \"AL310_647\", \"AL330_647\"], \"xaxis\": \"x\", \"y\": [1.4981273408239701, 11.201814058956916, 0.5322294500295683, 17.439293598233995, 11.16915422885572], \"yaxis\": \"y\"}, {\"alignmentgroup\": \"True\", \"hovertemplate\": \"region_name=SSp-bfd6a<br>sample_id=%{x}<br>percentage=%{y}<extra></extra>\", \"legendgroup\": \"SSp-bfd6a\", \"marker\": {\"color\": \"#B6E880\"}, \"name\": \"SSp-bfd6a\", \"offsetgroup\": \"SSp-bfd6a\", \"orientation\": \"v\", \"showlegend\": true, \"textposition\": \"auto\", \"type\": \"bar\", \"x\": [\"AL284_647\", \"AL330_647\", \"AL274_647\", \"AL284_561\", \"AL285_647\", \"AL311_647\", \"AL276_647\"], \"xaxis\": \"x\", \"y\": [25.872264931992902, 16.940298507462686, 82.52604642661305, 59.88719309887193, 86.37781629116118, 84.28571428571429, 1.0597302504816957], \"yaxis\": \"y\"}, {\"alignmentgroup\": \"True\", \"hovertemplate\": \"region_name=SSp-bfd6b<br>sample_id=%{x}<br>percentage=%{y}<extra></extra>\", \"legendgroup\": \"SSp-bfd6b\", \"marker\": {\"color\": \"#FF97FF\"}, \"name\": \"SSp-bfd6b\", \"offsetgroup\": \"SSp-bfd6b\", \"orientation\": \"v\", \"showlegend\": true, \"textposition\": \"auto\", \"type\": \"bar\", \"x\": [\"AL284_647\", \"AL274_647\", \"AL284_561\", \"AL311_647\", \"AL276_647\"], \"xaxis\": \"x\", \"y\": [1.4192785334121822, 5.2275635167245476, 17.451891174518913, 0.43956043956043955, 4.849068721901092], \"yaxis\": \"y\"}, {\"alignmentgroup\": \"True\", \"hovertemplate\": \"region_name=SSp-bfd5<br>sample_id=%{x}<br>percentage=%{y}<extra></extra>\", \"legendgroup\": \"SSp-bfd5\", \"marker\": {\"color\": \"#FECB52\"}, \"name\": \"SSp-bfd5\", \"offsetgroup\": \"SSp-bfd5\", \"orientation\": \"v\", \"showlegend\": true, \"textposition\": \"auto\", \"type\": \"bar\", \"x\": [\"AL284_647\", \"AL330_647\", \"AL274_647\", \"AL285_647\", \"AL311_647\"], \"xaxis\": \"x\", \"y\": [0.9757539917208752, 1.791044776119403, 10.729299945165417, 13.622183708838822, 14.945054945054945], \"yaxis\": \"y\"}, {\"alignmentgroup\": \"True\", \"hovertemplate\": \"region_name=scwm<br>sample_id=%{x}<br>percentage=%{y}<extra></extra>\", \"legendgroup\": \"scwm\", \"marker\": {\"color\": \"#636efa\"}, \"name\": \"scwm\", \"offsetgroup\": \"scwm\", \"orientation\": \"v\", \"showlegend\": true, \"textposition\": \"auto\", \"type\": \"bar\", \"x\": [\"AL284_647\", \"AL310_647\", \"AL276_647\"], \"xaxis\": \"x\", \"y\": [0.9166173861620343, 0.4966887417218543, 0.06422607578676943], \"yaxis\": \"y\"}, {\"alignmentgroup\": \"True\", \"hovertemplate\": \"region_name=or<br>sample_id=%{x}<br>percentage=%{y}<extra></extra>\", \"legendgroup\": \"or\", \"marker\": {\"color\": \"#EF553B\"}, \"name\": \"or\", \"offsetgroup\": \"or\", \"orientation\": \"v\", \"showlegend\": true, \"textposition\": \"auto\", \"type\": \"bar\", \"x\": [\"AL284_647\", \"AL274_647\", \"AL284_561\", \"AL276_647\"], \"xaxis\": \"x\", \"y\": [9.491425192193969, 1.5170901114969841, 22.660915726609158, 49.87154784842646], \"yaxis\": \"y\"}, {\"alignmentgroup\": \"True\", \"hovertemplate\": \"region_name=VISp6b<br>sample_id=%{x}<br>percentage=%{y}<extra></extra>\", \"legendgroup\": \"VISp6b\", \"marker\": {\"color\": \"#00cc96\"}, \"name\": \"VISp6b\", \"offsetgroup\": \"VISp6b\", \"orientation\": \"v\", \"showlegend\": true, \"textposition\": \"auto\", \"type\": \"bar\", \"x\": [\"AL276_647\"], \"xaxis\": \"x\", \"y\": [0.06422607578676943], \"yaxis\": \"y\"}, {\"alignmentgroup\": \"True\", \"hovertemplate\": \"region_name=fp<br>sample_id=%{x}<br>percentage=%{y}<extra></extra>\", \"legendgroup\": \"fp\", \"marker\": {\"color\": \"#ab63fa\"}, \"name\": \"fp\", \"offsetgroup\": \"fp\", \"orientation\": \"v\", \"showlegend\": true, \"textposition\": \"auto\", \"type\": \"bar\", \"x\": [\"AL276_647\"], \"xaxis\": \"x\", \"y\": [28.54849068721901], \"yaxis\": \"y\"}, {\"alignmentgroup\": \"True\", \"hovertemplate\": \"region_name=ccs<br>sample_id=%{x}<br>percentage=%{y}<extra></extra>\", \"legendgroup\": \"ccs\", \"marker\": {\"color\": \"#FFA15A\"}, \"name\": \"ccs\", \"offsetgroup\": \"ccs\", \"orientation\": \"v\", \"showlegend\": true, \"textposition\": \"auto\", \"type\": \"bar\", \"x\": [\"AL276_647\"], \"xaxis\": \"x\", \"y\": [0.4174694926140013], \"yaxis\": \"y\"}, {\"alignmentgroup\": \"True\", \"hovertemplate\": \"region_name=VISrl6a<br>sample_id=%{x}<br>percentage=%{y}<extra></extra>\", \"legendgroup\": \"VISrl6a\", \"marker\": {\"color\": \"#19d3f3\"}, \"name\": \"VISrl6a\", \"offsetgroup\": \"VISrl6a\", \"orientation\": \"v\", \"showlegend\": true, \"textposition\": \"auto\", \"type\": \"bar\", \"x\": [\"AL276_647\"], \"xaxis\": \"x\", \"y\": [4.624277456647399], \"yaxis\": \"y\"}, {\"alignmentgroup\": \"True\", \"hovertemplate\": \"region_name=VISrl6b<br>sample_id=%{x}<br>percentage=%{y}<extra></extra>\", \"legendgroup\": \"VISrl6b\", \"marker\": {\"color\": \"#FF6692\"}, \"name\": \"VISrl6b\", \"offsetgroup\": \"VISrl6b\", \"orientation\": \"v\", \"showlegend\": true, \"textposition\": \"auto\", \"type\": \"bar\", \"x\": [\"AL276_647\"], \"xaxis\": \"x\", \"y\": [10.500963391136802], \"yaxis\": \"y\"}],                        {\"barmode\": \"relative\", \"legend\": {\"title\": {\"text\": \"region_name\"}, \"tracegroupgap\": 0}, \"margin\": {\"t\": 60}, \"template\": {\"data\": {\"bar\": [{\"error_x\": {\"color\": \"#2a3f5f\"}, \"error_y\": {\"color\": \"#2a3f5f\"}, \"marker\": {\"line\": {\"color\": \"#E5ECF6\", \"width\": 0.5}}, \"type\": \"bar\"}], \"barpolar\": [{\"marker\": {\"line\": {\"color\": \"#E5ECF6\", \"width\": 0.5}}, \"type\": \"barpolar\"}], \"carpet\": [{\"aaxis\": {\"endlinecolor\": \"#2a3f5f\", \"gridcolor\": \"white\", \"linecolor\": \"white\", \"minorgridcolor\": \"white\", \"startlinecolor\": \"#2a3f5f\"}, \"baxis\": {\"endlinecolor\": \"#2a3f5f\", \"gridcolor\": \"white\", \"linecolor\": \"white\", \"minorgridcolor\": \"white\", \"startlinecolor\": \"#2a3f5f\"}, \"type\": \"carpet\"}], \"choropleth\": [{\"colorbar\": {\"outlinewidth\": 0, \"ticks\": \"\"}, \"type\": \"choropleth\"}], \"contour\": [{\"colorbar\": {\"outlinewidth\": 0, \"ticks\": \"\"}, \"colorscale\": [[0.0, \"#0d0887\"], [0.1111111111111111, \"#46039f\"], [0.2222222222222222, \"#7201a8\"], [0.3333333333333333, \"#9c179e\"], [0.4444444444444444, \"#bd3786\"], [0.5555555555555556, \"#d8576b\"], [0.6666666666666666, \"#ed7953\"], [0.7777777777777778, \"#fb9f3a\"], [0.8888888888888888, \"#fdca26\"], [1.0, \"#f0f921\"]], \"type\": \"contour\"}], \"contourcarpet\": [{\"colorbar\": {\"outlinewidth\": 0, \"ticks\": \"\"}, \"type\": \"contourcarpet\"}], \"heatmap\": [{\"colorbar\": {\"outlinewidth\": 0, \"ticks\": \"\"}, \"colorscale\": [[0.0, \"#0d0887\"], [0.1111111111111111, \"#46039f\"], [0.2222222222222222, \"#7201a8\"], [0.3333333333333333, \"#9c179e\"], [0.4444444444444444, \"#bd3786\"], [0.5555555555555556, \"#d8576b\"], [0.6666666666666666, \"#ed7953\"], [0.7777777777777778, \"#fb9f3a\"], [0.8888888888888888, \"#fdca26\"], [1.0, \"#f0f921\"]], \"type\": \"heatmap\"}], \"heatmapgl\": [{\"colorbar\": {\"outlinewidth\": 0, \"ticks\": \"\"}, \"colorscale\": [[0.0, \"#0d0887\"], [0.1111111111111111, \"#46039f\"], [0.2222222222222222, \"#7201a8\"], [0.3333333333333333, \"#9c179e\"], [0.4444444444444444, \"#bd3786\"], [0.5555555555555556, \"#d8576b\"], [0.6666666666666666, \"#ed7953\"], [0.7777777777777778, \"#fb9f3a\"], [0.8888888888888888, \"#fdca26\"], [1.0, \"#f0f921\"]], \"type\": \"heatmapgl\"}], \"histogram\": [{\"marker\": {\"colorbar\": {\"outlinewidth\": 0, \"ticks\": \"\"}}, \"type\": \"histogram\"}], \"histogram2d\": [{\"colorbar\": {\"outlinewidth\": 0, \"ticks\": \"\"}, \"colorscale\": [[0.0, \"#0d0887\"], [0.1111111111111111, \"#46039f\"], [0.2222222222222222, \"#7201a8\"], [0.3333333333333333, \"#9c179e\"], [0.4444444444444444, \"#bd3786\"], [0.5555555555555556, \"#d8576b\"], [0.6666666666666666, \"#ed7953\"], [0.7777777777777778, \"#fb9f3a\"], [0.8888888888888888, \"#fdca26\"], [1.0, \"#f0f921\"]], \"type\": \"histogram2d\"}], \"histogram2dcontour\": [{\"colorbar\": {\"outlinewidth\": 0, \"ticks\": \"\"}, \"colorscale\": [[0.0, \"#0d0887\"], [0.1111111111111111, \"#46039f\"], [0.2222222222222222, \"#7201a8\"], [0.3333333333333333, \"#9c179e\"], [0.4444444444444444, \"#bd3786\"], [0.5555555555555556, \"#d8576b\"], [0.6666666666666666, \"#ed7953\"], [0.7777777777777778, \"#fb9f3a\"], [0.8888888888888888, \"#fdca26\"], [1.0, \"#f0f921\"]], \"type\": \"histogram2dcontour\"}], \"mesh3d\": [{\"colorbar\": {\"outlinewidth\": 0, \"ticks\": \"\"}, \"type\": \"mesh3d\"}], \"parcoords\": [{\"line\": {\"colorbar\": {\"outlinewidth\": 0, \"ticks\": \"\"}}, \"type\": \"parcoords\"}], \"pie\": [{\"automargin\": true, \"type\": \"pie\"}], \"scatter\": [{\"marker\": {\"colorbar\": {\"outlinewidth\": 0, \"ticks\": \"\"}}, \"type\": \"scatter\"}], \"scatter3d\": [{\"line\": {\"colorbar\": {\"outlinewidth\": 0, \"ticks\": \"\"}}, \"marker\": {\"colorbar\": {\"outlinewidth\": 0, \"ticks\": \"\"}}, \"type\": \"scatter3d\"}], \"scattercarpet\": [{\"marker\": {\"colorbar\": {\"outlinewidth\": 0, \"ticks\": \"\"}}, \"type\": \"scattercarpet\"}], \"scattergeo\": [{\"marker\": {\"colorbar\": {\"outlinewidth\": 0, \"ticks\": \"\"}}, \"type\": \"scattergeo\"}], \"scattergl\": [{\"marker\": {\"colorbar\": {\"outlinewidth\": 0, \"ticks\": \"\"}}, \"type\": \"scattergl\"}], \"scattermapbox\": [{\"marker\": {\"colorbar\": {\"outlinewidth\": 0, \"ticks\": \"\"}}, \"type\": \"scattermapbox\"}], \"scatterpolar\": [{\"marker\": {\"colorbar\": {\"outlinewidth\": 0, \"ticks\": \"\"}}, \"type\": \"scatterpolar\"}], \"scatterpolargl\": [{\"marker\": {\"colorbar\": {\"outlinewidth\": 0, \"ticks\": \"\"}}, \"type\": \"scatterpolargl\"}], \"scatterternary\": [{\"marker\": {\"colorbar\": {\"outlinewidth\": 0, \"ticks\": \"\"}}, \"type\": \"scatterternary\"}], \"surface\": [{\"colorbar\": {\"outlinewidth\": 0, \"ticks\": \"\"}, \"colorscale\": [[0.0, \"#0d0887\"], [0.1111111111111111, \"#46039f\"], [0.2222222222222222, \"#7201a8\"], [0.3333333333333333, \"#9c179e\"], [0.4444444444444444, \"#bd3786\"], [0.5555555555555556, \"#d8576b\"], [0.6666666666666666, \"#ed7953\"], [0.7777777777777778, \"#fb9f3a\"], [0.8888888888888888, \"#fdca26\"], [1.0, \"#f0f921\"]], \"type\": \"surface\"}], \"table\": [{\"cells\": {\"fill\": {\"color\": \"#EBF0F8\"}, \"line\": {\"color\": \"white\"}}, \"header\": {\"fill\": {\"color\": \"#C8D4E3\"}, \"line\": {\"color\": \"white\"}}, \"type\": \"table\"}]}, \"layout\": {\"annotationdefaults\": {\"arrowcolor\": \"#2a3f5f\", \"arrowhead\": 0, \"arrowwidth\": 1}, \"autotypenumbers\": \"strict\", \"coloraxis\": {\"colorbar\": {\"outlinewidth\": 0, \"ticks\": \"\"}}, \"colorscale\": {\"diverging\": [[0, \"#8e0152\"], [0.1, \"#c51b7d\"], [0.2, \"#de77ae\"], [0.3, \"#f1b6da\"], [0.4, \"#fde0ef\"], [0.5, \"#f7f7f7\"], [0.6, \"#e6f5d0\"], [0.7, \"#b8e186\"], [0.8, \"#7fbc41\"], [0.9, \"#4d9221\"], [1, \"#276419\"]], \"sequential\": [[0.0, \"#0d0887\"], [0.1111111111111111, \"#46039f\"], [0.2222222222222222, \"#7201a8\"], [0.3333333333333333, \"#9c179e\"], [0.4444444444444444, \"#bd3786\"], [0.5555555555555556, \"#d8576b\"], [0.6666666666666666, \"#ed7953\"], [0.7777777777777778, \"#fb9f3a\"], [0.8888888888888888, \"#fdca26\"], [1.0, \"#f0f921\"]], \"sequentialminus\": [[0.0, \"#0d0887\"], [0.1111111111111111, \"#46039f\"], [0.2222222222222222, \"#7201a8\"], [0.3333333333333333, \"#9c179e\"], [0.4444444444444444, \"#bd3786\"], [0.5555555555555556, \"#d8576b\"], [0.6666666666666666, \"#ed7953\"], [0.7777777777777778, \"#fb9f3a\"], [0.8888888888888888, \"#fdca26\"], [1.0, \"#f0f921\"]]}, \"colorway\": [\"#636efa\", \"#EF553B\", \"#00cc96\", \"#ab63fa\", \"#FFA15A\", \"#19d3f3\", \"#FF6692\", \"#B6E880\", \"#FF97FF\", \"#FECB52\"], \"font\": {\"color\": \"#2a3f5f\"}, \"geo\": {\"bgcolor\": \"white\", \"lakecolor\": \"white\", \"landcolor\": \"#E5ECF6\", \"showlakes\": true, \"showland\": true, \"subunitcolor\": \"white\"}, \"hoverlabel\": {\"align\": \"left\"}, \"hovermode\": \"closest\", \"mapbox\": {\"style\": \"light\"}, \"paper_bgcolor\": \"white\", \"plot_bgcolor\": \"#E5ECF6\", \"polar\": {\"angularaxis\": {\"gridcolor\": \"white\", \"linecolor\": \"white\", \"ticks\": \"\"}, \"bgcolor\": \"#E5ECF6\", \"radialaxis\": {\"gridcolor\": \"white\", \"linecolor\": \"white\", \"ticks\": \"\"}}, \"scene\": {\"xaxis\": {\"backgroundcolor\": \"#E5ECF6\", \"gridcolor\": \"white\", \"gridwidth\": 2, \"linecolor\": \"white\", \"showbackground\": true, \"ticks\": \"\", \"zerolinecolor\": \"white\"}, \"yaxis\": {\"backgroundcolor\": \"#E5ECF6\", \"gridcolor\": \"white\", \"gridwidth\": 2, \"linecolor\": \"white\", \"showbackground\": true, \"ticks\": \"\", \"zerolinecolor\": \"white\"}, \"zaxis\": {\"backgroundcolor\": \"#E5ECF6\", \"gridcolor\": \"white\", \"gridwidth\": 2, \"linecolor\": \"white\", \"showbackground\": true, \"ticks\": \"\", \"zerolinecolor\": \"white\"}}, \"shapedefaults\": {\"line\": {\"color\": \"#2a3f5f\"}}, \"ternary\": {\"aaxis\": {\"gridcolor\": \"white\", \"linecolor\": \"white\", \"ticks\": \"\"}, \"baxis\": {\"gridcolor\": \"white\", \"linecolor\": \"white\", \"ticks\": \"\"}, \"bgcolor\": \"#E5ECF6\", \"caxis\": {\"gridcolor\": \"white\", \"linecolor\": \"white\", \"ticks\": \"\"}}, \"title\": {\"x\": 0.05}, \"xaxis\": {\"automargin\": true, \"gridcolor\": \"white\", \"linecolor\": \"white\", \"ticks\": \"\", \"title\": {\"standoff\": 15}, \"zerolinecolor\": \"white\", \"zerolinewidth\": 2}, \"yaxis\": {\"automargin\": true, \"gridcolor\": \"white\", \"linecolor\": \"white\", \"ticks\": \"\", \"title\": {\"standoff\": 15}, \"zerolinecolor\": \"white\", \"zerolinewidth\": 2}}}, \"xaxis\": {\"anchor\": \"y\", \"domain\": [0.0, 1.0], \"title\": {\"text\": \"sample_id\"}}, \"yaxis\": {\"anchor\": \"x\", \"domain\": [0.0, 1.0], \"title\": {\"text\": \"percentage\"}}},                        {\"responsive\": true}                    ).then(function(){\n",
       "                            \n",
       "var gd = document.getElementById('f6b2db46-8870-4a27-af9b-b3b659aea476');\n",
       "var x = new MutationObserver(function (mutations, observer) {{\n",
       "        var display = window.getComputedStyle(gd).display;\n",
       "        if (!display || display === 'none') {{\n",
       "            console.log([gd, 'removed!']);\n",
       "            Plotly.purge(gd);\n",
       "            observer.disconnect();\n",
       "        }}\n",
       "}});\n",
       "\n",
       "// Listen for the removal of the full notebook cells\n",
       "var notebookContainer = gd.closest('#notebook-container');\n",
       "if (notebookContainer) {{\n",
       "    x.observe(notebookContainer, {childList: true});\n",
       "}}\n",
       "\n",
       "// Listen for the clearing of the current output cell\n",
       "var outputEl = gd.closest('.output');\n",
       "if (outputEl) {{\n",
       "    x.observe(outputEl, {childList: true});\n",
       "}}\n",
       "\n",
       "                        })                };                });            </script>        </div>"
      ]
     },
     "metadata": {},
     "output_type": "display_data"
    },
    {
     "name": "stdout",
     "output_type": "stream",
     "text": [
      "this genotype is Rasgrf2dCre\n"
     ]
    },
    {
     "data": {
      "application/vnd.plotly.v1+json": {
       "config": {
        "plotlyServerURL": "https://plot.ly"
       },
       "data": [
        {
         "alignmentgroup": "True",
         "hovertemplate": "region_name=SSp-bfd2/3<br>sample_id=%{x}<br>percentage=%{y}<extra></extra>",
         "legendgroup": "SSp-bfd2/3",
         "marker": {
          "color": "#636efa"
         },
         "name": "SSp-bfd2/3",
         "offsetgroup": "SSp-bfd2/3",
         "orientation": "v",
         "showlegend": true,
         "textposition": "auto",
         "type": "bar",
         "x": [
          "AL254_561",
          "AL255_561",
          "AL256_561",
          "AL302_561",
          "AL303_561",
          "AL331_561",
          "AL257_561"
         ],
         "xaxis": "x",
         "y": [
          64.12663755458516,
          66.82397831107541,
          68.46490030046435,
          15.09952416057905,
          0.06082725060827251,
          8.70556061987238,
          56.82921192512133
         ],
         "yaxis": "y"
        },
        {
         "alignmentgroup": "True",
         "hovertemplate": "region_name=SSp-bfd1<br>sample_id=%{x}<br>percentage=%{y}<extra></extra>",
         "legendgroup": "SSp-bfd1",
         "marker": {
          "color": "#EF553B"
         },
         "name": "SSp-bfd1",
         "offsetgroup": "SSp-bfd1",
         "orientation": "v",
         "showlegend": true,
         "textposition": "auto",
         "type": "bar",
         "x": [
          "AL254_561",
          "AL255_561",
          "AL256_561",
          "AL302_561",
          "AL303_561",
          "AL331_561",
          "AL257_561"
         ],
         "xaxis": "x",
         "y": [
          26.572052401746724,
          20.514107842152825,
          7.006282436492762,
          19.536224113665305,
          0.06082725060827251,
          20.783956244302644,
          43.17078807487867
         ],
         "yaxis": "y"
        },
        {
         "alignmentgroup": "True",
         "hovertemplate": "region_name=SSp-bfd4<br>sample_id=%{x}<br>percentage=%{y}<extra></extra>",
         "legendgroup": "SSp-bfd4",
         "marker": {
          "color": "#00cc96"
         },
         "name": "SSp-bfd4",
         "offsetgroup": "SSp-bfd4",
         "orientation": "v",
         "showlegend": true,
         "textposition": "auto",
         "type": "bar",
         "x": [
          "AL254_561",
          "AL255_561",
          "AL256_561",
          "AL302_561"
         ],
         "xaxis": "x",
         "y": [
          9.301310043668122,
          2.2592629782106637,
          9.956296093963397,
          1.3739025534481604
         ],
         "yaxis": "y"
        },
        {
         "alignmentgroup": "True",
         "hovertemplate": "region_name=SSs2/3<br>sample_id=%{x}<br>percentage=%{y}<extra></extra>",
         "legendgroup": "SSs2/3",
         "marker": {
          "color": "#ab63fa"
         },
         "name": "SSs2/3",
         "offsetgroup": "SSs2/3",
         "orientation": "v",
         "showlegend": true,
         "textposition": "auto",
         "type": "bar",
         "x": [
          "AL255_561",
          "AL256_561",
          "AL334_561",
          "AL302_561",
          "AL303_561",
          "AL333_561",
          "AL331_561",
          "AL332_561"
         ],
         "xaxis": "x",
         "y": [
          7.741741138668541,
          12.64681780934171,
          1.1671686746987953,
          27.002211648012867,
          67.57907542579075,
          54.73071324599709,
          28.669097538742022,
          25.634295713035872
         ],
         "yaxis": "y"
        },
        {
         "alignmentgroup": "True",
         "hovertemplate": "region_name=SSs1<br>sample_id=%{x}<br>percentage=%{y}<extra></extra>",
         "legendgroup": "SSs1",
         "marker": {
          "color": "#FFA15A"
         },
         "name": "SSs1",
         "offsetgroup": "SSs1",
         "orientation": "v",
         "showlegend": true,
         "textposition": "auto",
         "type": "bar",
         "x": [
          "AL255_561",
          "AL256_561",
          "AL334_561",
          "AL302_561",
          "AL303_561",
          "AL333_561",
          "AL331_561",
          "AL332_561"
         ],
         "xaxis": "x",
         "y": [
          1.8776985641128627,
          1.2564872985523081,
          0.22590361445783133,
          25.547885530460427,
          24.452554744525546,
          43.8136826783115,
          40.15496809480401,
          68.32895888013998
         ],
         "yaxis": "y"
        },
        {
         "alignmentgroup": "True",
         "hovertemplate": "region_name=SSs4<br>sample_id=%{x}<br>percentage=%{y}<extra></extra>",
         "legendgroup": "SSs4",
         "marker": {
          "color": "#19d3f3"
         },
         "name": "SSs4",
         "offsetgroup": "SSs4",
         "orientation": "v",
         "showlegend": true,
         "textposition": "auto",
         "type": "bar",
         "x": [
          "AL255_561",
          "AL256_561",
          "AL302_561",
          "AL303_561",
          "AL333_561"
         ],
         "xaxis": "x",
         "y": [
          0.7832111657796967,
          0.6692160611854685,
          4.81200991890624,
          7.785888077858881,
          0.38816108685104317
         ],
         "yaxis": "y"
        },
        {
         "alignmentgroup": "True",
         "hovertemplate": "region_name=AUDp2/3<br>sample_id=%{x}<br>percentage=%{y}<extra></extra>",
         "legendgroup": "AUDp2/3",
         "marker": {
          "color": "#FF6692"
         },
         "name": "AUDp2/3",
         "offsetgroup": "AUDp2/3",
         "orientation": "v",
         "showlegend": true,
         "textposition": "auto",
         "type": "bar",
         "x": [
          "AL334_561"
         ],
         "xaxis": "x",
         "y": [
          3.878012048192771
         ],
         "yaxis": "y"
        },
        {
         "alignmentgroup": "True",
         "hovertemplate": "region_name=AUDd1<br>sample_id=%{x}<br>percentage=%{y}<extra></extra>",
         "legendgroup": "AUDd1",
         "marker": {
          "color": "#B6E880"
         },
         "name": "AUDd1",
         "offsetgroup": "AUDd1",
         "orientation": "v",
         "showlegend": true,
         "textposition": "auto",
         "type": "bar",
         "x": [
          "AL334_561",
          "AL302_561",
          "AL303_561",
          "AL332_561"
         ],
         "xaxis": "x",
         "y": [
          24.058734939759034,
          1.394008444474231,
          0.030413625304136254,
          1.4873140857392826
         ],
         "yaxis": "y"
        },
        {
         "alignmentgroup": "True",
         "hovertemplate": "region_name=AUDd2/3<br>sample_id=%{x}<br>percentage=%{y}<extra></extra>",
         "legendgroup": "AUDd2/3",
         "marker": {
          "color": "#FF97FF"
         },
         "name": "AUDd2/3",
         "offsetgroup": "AUDd2/3",
         "orientation": "v",
         "showlegend": true,
         "textposition": "auto",
         "type": "bar",
         "x": [
          "AL334_561",
          "AL302_561",
          "AL303_561"
         ],
         "xaxis": "x",
         "y": [
          60.46686746987952,
          0.00670196367535688,
          0.030413625304136254
         ],
         "yaxis": "y"
        },
        {
         "alignmentgroup": "True",
         "hovertemplate": "region_name=AUDd4<br>sample_id=%{x}<br>percentage=%{y}<extra></extra>",
         "legendgroup": "AUDd4",
         "marker": {
          "color": "#FECB52"
         },
         "name": "AUDd4",
         "offsetgroup": "AUDd4",
         "orientation": "v",
         "showlegend": true,
         "textposition": "auto",
         "type": "bar",
         "x": [
          "AL334_561"
         ],
         "xaxis": "x",
         "y": [
          7.115963855421687
         ],
         "yaxis": "y"
        },
        {
         "alignmentgroup": "True",
         "hovertemplate": "region_name=AUDp1<br>sample_id=%{x}<br>percentage=%{y}<extra></extra>",
         "legendgroup": "AUDp1",
         "marker": {
          "color": "#636efa"
         },
         "name": "AUDp1",
         "offsetgroup": "AUDp1",
         "orientation": "v",
         "showlegend": true,
         "textposition": "auto",
         "type": "bar",
         "x": [
          "AL334_561"
         ],
         "xaxis": "x",
         "y": [
          0.9412650602409639
         ],
         "yaxis": "y"
        },
        {
         "alignmentgroup": "True",
         "hovertemplate": "region_name=AUDp4<br>sample_id=%{x}<br>percentage=%{y}<extra></extra>",
         "legendgroup": "AUDp4",
         "marker": {
          "color": "#EF553B"
         },
         "name": "AUDp4",
         "offsetgroup": "AUDp4",
         "orientation": "v",
         "showlegend": true,
         "textposition": "auto",
         "type": "bar",
         "x": [
          "AL334_561"
         ],
         "xaxis": "x",
         "y": [
          2.1460843373493974
         ],
         "yaxis": "y"
        },
        {
         "alignmentgroup": "True",
         "hovertemplate": "region_name= <br>sample_id=%{x}<br>percentage=%{y}<extra></extra>",
         "legendgroup": " ",
         "marker": {
          "color": "#00cc96"
         },
         "name": " ",
         "offsetgroup": " ",
         "orientation": "v",
         "showlegend": true,
         "textposition": "auto",
         "type": "bar",
         "x": [
          "AL302_561",
          "AL333_561",
          "AL331_561",
          "AL332_561"
         ],
         "xaxis": "x",
         "y": [
          3.706185912472354,
          1.0674429888403687,
          1.6864175022789425,
          4.549431321084865
         ],
         "yaxis": "y"
        },
        {
         "alignmentgroup": "True",
         "hovertemplate": "region_name=SSp-bfd5<br>sample_id=%{x}<br>percentage=%{y}<extra></extra>",
         "legendgroup": "SSp-bfd5",
         "marker": {
          "color": "#ab63fa"
         },
         "name": "SSp-bfd5",
         "offsetgroup": "SSp-bfd5",
         "orientation": "v",
         "showlegend": true,
         "textposition": "auto",
         "type": "bar",
         "x": [
          "AL302_561"
         ],
         "xaxis": "x",
         "y": [
          0.4088197841967697
         ],
         "yaxis": "y"
        },
        {
         "alignmentgroup": "True",
         "hovertemplate": "region_name=SSs5<br>sample_id=%{x}<br>percentage=%{y}<extra></extra>",
         "legendgroup": "SSs5",
         "marker": {
          "color": "#FFA15A"
         },
         "name": "SSs5",
         "offsetgroup": "SSs5",
         "orientation": "v",
         "showlegend": true,
         "textposition": "auto",
         "type": "bar",
         "x": [
          "AL302_561"
         ],
         "xaxis": "x",
         "y": [
          1.112525970109242
         ],
         "yaxis": "y"
        }
       ],
       "layout": {
        "barmode": "relative",
        "legend": {
         "title": {
          "text": "region_name"
         },
         "tracegroupgap": 0
        },
        "margin": {
         "t": 60
        },
        "template": {
         "data": {
          "bar": [
           {
            "error_x": {
             "color": "#2a3f5f"
            },
            "error_y": {
             "color": "#2a3f5f"
            },
            "marker": {
             "line": {
              "color": "#E5ECF6",
              "width": 0.5
             }
            },
            "type": "bar"
           }
          ],
          "barpolar": [
           {
            "marker": {
             "line": {
              "color": "#E5ECF6",
              "width": 0.5
             }
            },
            "type": "barpolar"
           }
          ],
          "carpet": [
           {
            "aaxis": {
             "endlinecolor": "#2a3f5f",
             "gridcolor": "white",
             "linecolor": "white",
             "minorgridcolor": "white",
             "startlinecolor": "#2a3f5f"
            },
            "baxis": {
             "endlinecolor": "#2a3f5f",
             "gridcolor": "white",
             "linecolor": "white",
             "minorgridcolor": "white",
             "startlinecolor": "#2a3f5f"
            },
            "type": "carpet"
           }
          ],
          "choropleth": [
           {
            "colorbar": {
             "outlinewidth": 0,
             "ticks": ""
            },
            "type": "choropleth"
           }
          ],
          "contour": [
           {
            "colorbar": {
             "outlinewidth": 0,
             "ticks": ""
            },
            "colorscale": [
             [
              0,
              "#0d0887"
             ],
             [
              0.1111111111111111,
              "#46039f"
             ],
             [
              0.2222222222222222,
              "#7201a8"
             ],
             [
              0.3333333333333333,
              "#9c179e"
             ],
             [
              0.4444444444444444,
              "#bd3786"
             ],
             [
              0.5555555555555556,
              "#d8576b"
             ],
             [
              0.6666666666666666,
              "#ed7953"
             ],
             [
              0.7777777777777778,
              "#fb9f3a"
             ],
             [
              0.8888888888888888,
              "#fdca26"
             ],
             [
              1,
              "#f0f921"
             ]
            ],
            "type": "contour"
           }
          ],
          "contourcarpet": [
           {
            "colorbar": {
             "outlinewidth": 0,
             "ticks": ""
            },
            "type": "contourcarpet"
           }
          ],
          "heatmap": [
           {
            "colorbar": {
             "outlinewidth": 0,
             "ticks": ""
            },
            "colorscale": [
             [
              0,
              "#0d0887"
             ],
             [
              0.1111111111111111,
              "#46039f"
             ],
             [
              0.2222222222222222,
              "#7201a8"
             ],
             [
              0.3333333333333333,
              "#9c179e"
             ],
             [
              0.4444444444444444,
              "#bd3786"
             ],
             [
              0.5555555555555556,
              "#d8576b"
             ],
             [
              0.6666666666666666,
              "#ed7953"
             ],
             [
              0.7777777777777778,
              "#fb9f3a"
             ],
             [
              0.8888888888888888,
              "#fdca26"
             ],
             [
              1,
              "#f0f921"
             ]
            ],
            "type": "heatmap"
           }
          ],
          "heatmapgl": [
           {
            "colorbar": {
             "outlinewidth": 0,
             "ticks": ""
            },
            "colorscale": [
             [
              0,
              "#0d0887"
             ],
             [
              0.1111111111111111,
              "#46039f"
             ],
             [
              0.2222222222222222,
              "#7201a8"
             ],
             [
              0.3333333333333333,
              "#9c179e"
             ],
             [
              0.4444444444444444,
              "#bd3786"
             ],
             [
              0.5555555555555556,
              "#d8576b"
             ],
             [
              0.6666666666666666,
              "#ed7953"
             ],
             [
              0.7777777777777778,
              "#fb9f3a"
             ],
             [
              0.8888888888888888,
              "#fdca26"
             ],
             [
              1,
              "#f0f921"
             ]
            ],
            "type": "heatmapgl"
           }
          ],
          "histogram": [
           {
            "marker": {
             "colorbar": {
              "outlinewidth": 0,
              "ticks": ""
             }
            },
            "type": "histogram"
           }
          ],
          "histogram2d": [
           {
            "colorbar": {
             "outlinewidth": 0,
             "ticks": ""
            },
            "colorscale": [
             [
              0,
              "#0d0887"
             ],
             [
              0.1111111111111111,
              "#46039f"
             ],
             [
              0.2222222222222222,
              "#7201a8"
             ],
             [
              0.3333333333333333,
              "#9c179e"
             ],
             [
              0.4444444444444444,
              "#bd3786"
             ],
             [
              0.5555555555555556,
              "#d8576b"
             ],
             [
              0.6666666666666666,
              "#ed7953"
             ],
             [
              0.7777777777777778,
              "#fb9f3a"
             ],
             [
              0.8888888888888888,
              "#fdca26"
             ],
             [
              1,
              "#f0f921"
             ]
            ],
            "type": "histogram2d"
           }
          ],
          "histogram2dcontour": [
           {
            "colorbar": {
             "outlinewidth": 0,
             "ticks": ""
            },
            "colorscale": [
             [
              0,
              "#0d0887"
             ],
             [
              0.1111111111111111,
              "#46039f"
             ],
             [
              0.2222222222222222,
              "#7201a8"
             ],
             [
              0.3333333333333333,
              "#9c179e"
             ],
             [
              0.4444444444444444,
              "#bd3786"
             ],
             [
              0.5555555555555556,
              "#d8576b"
             ],
             [
              0.6666666666666666,
              "#ed7953"
             ],
             [
              0.7777777777777778,
              "#fb9f3a"
             ],
             [
              0.8888888888888888,
              "#fdca26"
             ],
             [
              1,
              "#f0f921"
             ]
            ],
            "type": "histogram2dcontour"
           }
          ],
          "mesh3d": [
           {
            "colorbar": {
             "outlinewidth": 0,
             "ticks": ""
            },
            "type": "mesh3d"
           }
          ],
          "parcoords": [
           {
            "line": {
             "colorbar": {
              "outlinewidth": 0,
              "ticks": ""
             }
            },
            "type": "parcoords"
           }
          ],
          "pie": [
           {
            "automargin": true,
            "type": "pie"
           }
          ],
          "scatter": [
           {
            "marker": {
             "colorbar": {
              "outlinewidth": 0,
              "ticks": ""
             }
            },
            "type": "scatter"
           }
          ],
          "scatter3d": [
           {
            "line": {
             "colorbar": {
              "outlinewidth": 0,
              "ticks": ""
             }
            },
            "marker": {
             "colorbar": {
              "outlinewidth": 0,
              "ticks": ""
             }
            },
            "type": "scatter3d"
           }
          ],
          "scattercarpet": [
           {
            "marker": {
             "colorbar": {
              "outlinewidth": 0,
              "ticks": ""
             }
            },
            "type": "scattercarpet"
           }
          ],
          "scattergeo": [
           {
            "marker": {
             "colorbar": {
              "outlinewidth": 0,
              "ticks": ""
             }
            },
            "type": "scattergeo"
           }
          ],
          "scattergl": [
           {
            "marker": {
             "colorbar": {
              "outlinewidth": 0,
              "ticks": ""
             }
            },
            "type": "scattergl"
           }
          ],
          "scattermapbox": [
           {
            "marker": {
             "colorbar": {
              "outlinewidth": 0,
              "ticks": ""
             }
            },
            "type": "scattermapbox"
           }
          ],
          "scatterpolar": [
           {
            "marker": {
             "colorbar": {
              "outlinewidth": 0,
              "ticks": ""
             }
            },
            "type": "scatterpolar"
           }
          ],
          "scatterpolargl": [
           {
            "marker": {
             "colorbar": {
              "outlinewidth": 0,
              "ticks": ""
             }
            },
            "type": "scatterpolargl"
           }
          ],
          "scatterternary": [
           {
            "marker": {
             "colorbar": {
              "outlinewidth": 0,
              "ticks": ""
             }
            },
            "type": "scatterternary"
           }
          ],
          "surface": [
           {
            "colorbar": {
             "outlinewidth": 0,
             "ticks": ""
            },
            "colorscale": [
             [
              0,
              "#0d0887"
             ],
             [
              0.1111111111111111,
              "#46039f"
             ],
             [
              0.2222222222222222,
              "#7201a8"
             ],
             [
              0.3333333333333333,
              "#9c179e"
             ],
             [
              0.4444444444444444,
              "#bd3786"
             ],
             [
              0.5555555555555556,
              "#d8576b"
             ],
             [
              0.6666666666666666,
              "#ed7953"
             ],
             [
              0.7777777777777778,
              "#fb9f3a"
             ],
             [
              0.8888888888888888,
              "#fdca26"
             ],
             [
              1,
              "#f0f921"
             ]
            ],
            "type": "surface"
           }
          ],
          "table": [
           {
            "cells": {
             "fill": {
              "color": "#EBF0F8"
             },
             "line": {
              "color": "white"
             }
            },
            "header": {
             "fill": {
              "color": "#C8D4E3"
             },
             "line": {
              "color": "white"
             }
            },
            "type": "table"
           }
          ]
         },
         "layout": {
          "annotationdefaults": {
           "arrowcolor": "#2a3f5f",
           "arrowhead": 0,
           "arrowwidth": 1
          },
          "autotypenumbers": "strict",
          "coloraxis": {
           "colorbar": {
            "outlinewidth": 0,
            "ticks": ""
           }
          },
          "colorscale": {
           "diverging": [
            [
             0,
             "#8e0152"
            ],
            [
             0.1,
             "#c51b7d"
            ],
            [
             0.2,
             "#de77ae"
            ],
            [
             0.3,
             "#f1b6da"
            ],
            [
             0.4,
             "#fde0ef"
            ],
            [
             0.5,
             "#f7f7f7"
            ],
            [
             0.6,
             "#e6f5d0"
            ],
            [
             0.7,
             "#b8e186"
            ],
            [
             0.8,
             "#7fbc41"
            ],
            [
             0.9,
             "#4d9221"
            ],
            [
             1,
             "#276419"
            ]
           ],
           "sequential": [
            [
             0,
             "#0d0887"
            ],
            [
             0.1111111111111111,
             "#46039f"
            ],
            [
             0.2222222222222222,
             "#7201a8"
            ],
            [
             0.3333333333333333,
             "#9c179e"
            ],
            [
             0.4444444444444444,
             "#bd3786"
            ],
            [
             0.5555555555555556,
             "#d8576b"
            ],
            [
             0.6666666666666666,
             "#ed7953"
            ],
            [
             0.7777777777777778,
             "#fb9f3a"
            ],
            [
             0.8888888888888888,
             "#fdca26"
            ],
            [
             1,
             "#f0f921"
            ]
           ],
           "sequentialminus": [
            [
             0,
             "#0d0887"
            ],
            [
             0.1111111111111111,
             "#46039f"
            ],
            [
             0.2222222222222222,
             "#7201a8"
            ],
            [
             0.3333333333333333,
             "#9c179e"
            ],
            [
             0.4444444444444444,
             "#bd3786"
            ],
            [
             0.5555555555555556,
             "#d8576b"
            ],
            [
             0.6666666666666666,
             "#ed7953"
            ],
            [
             0.7777777777777778,
             "#fb9f3a"
            ],
            [
             0.8888888888888888,
             "#fdca26"
            ],
            [
             1,
             "#f0f921"
            ]
           ]
          },
          "colorway": [
           "#636efa",
           "#EF553B",
           "#00cc96",
           "#ab63fa",
           "#FFA15A",
           "#19d3f3",
           "#FF6692",
           "#B6E880",
           "#FF97FF",
           "#FECB52"
          ],
          "font": {
           "color": "#2a3f5f"
          },
          "geo": {
           "bgcolor": "white",
           "lakecolor": "white",
           "landcolor": "#E5ECF6",
           "showlakes": true,
           "showland": true,
           "subunitcolor": "white"
          },
          "hoverlabel": {
           "align": "left"
          },
          "hovermode": "closest",
          "mapbox": {
           "style": "light"
          },
          "paper_bgcolor": "white",
          "plot_bgcolor": "#E5ECF6",
          "polar": {
           "angularaxis": {
            "gridcolor": "white",
            "linecolor": "white",
            "ticks": ""
           },
           "bgcolor": "#E5ECF6",
           "radialaxis": {
            "gridcolor": "white",
            "linecolor": "white",
            "ticks": ""
           }
          },
          "scene": {
           "xaxis": {
            "backgroundcolor": "#E5ECF6",
            "gridcolor": "white",
            "gridwidth": 2,
            "linecolor": "white",
            "showbackground": true,
            "ticks": "",
            "zerolinecolor": "white"
           },
           "yaxis": {
            "backgroundcolor": "#E5ECF6",
            "gridcolor": "white",
            "gridwidth": 2,
            "linecolor": "white",
            "showbackground": true,
            "ticks": "",
            "zerolinecolor": "white"
           },
           "zaxis": {
            "backgroundcolor": "#E5ECF6",
            "gridcolor": "white",
            "gridwidth": 2,
            "linecolor": "white",
            "showbackground": true,
            "ticks": "",
            "zerolinecolor": "white"
           }
          },
          "shapedefaults": {
           "line": {
            "color": "#2a3f5f"
           }
          },
          "ternary": {
           "aaxis": {
            "gridcolor": "white",
            "linecolor": "white",
            "ticks": ""
           },
           "baxis": {
            "gridcolor": "white",
            "linecolor": "white",
            "ticks": ""
           },
           "bgcolor": "#E5ECF6",
           "caxis": {
            "gridcolor": "white",
            "linecolor": "white",
            "ticks": ""
           }
          },
          "title": {
           "x": 0.05
          },
          "xaxis": {
           "automargin": true,
           "gridcolor": "white",
           "linecolor": "white",
           "ticks": "",
           "title": {
            "standoff": 15
           },
           "zerolinecolor": "white",
           "zerolinewidth": 2
          },
          "yaxis": {
           "automargin": true,
           "gridcolor": "white",
           "linecolor": "white",
           "ticks": "",
           "title": {
            "standoff": 15
           },
           "zerolinecolor": "white",
           "zerolinewidth": 2
          }
         }
        },
        "xaxis": {
         "anchor": "y",
         "domain": [
          0,
          1
         ],
         "title": {
          "text": "sample_id"
         }
        },
        "yaxis": {
         "anchor": "x",
         "domain": [
          0,
          1
         ],
         "title": {
          "text": "percentage"
         }
        }
       }
      },
      "text/html": [
       "<div>                            <div id=\"63a4e989-f607-4c04-b7b1-4f29f842360d\" class=\"plotly-graph-div\" style=\"height:525px; width:100%;\"></div>            <script type=\"text/javascript\">                require([\"plotly\"], function(Plotly) {                    window.PLOTLYENV=window.PLOTLYENV || {};                                    if (document.getElementById(\"63a4e989-f607-4c04-b7b1-4f29f842360d\")) {                    Plotly.newPlot(                        \"63a4e989-f607-4c04-b7b1-4f29f842360d\",                        [{\"alignmentgroup\": \"True\", \"hovertemplate\": \"region_name=SSp-bfd2/3<br>sample_id=%{x}<br>percentage=%{y}<extra></extra>\", \"legendgroup\": \"SSp-bfd2/3\", \"marker\": {\"color\": \"#636efa\"}, \"name\": \"SSp-bfd2/3\", \"offsetgroup\": \"SSp-bfd2/3\", \"orientation\": \"v\", \"showlegend\": true, \"textposition\": \"auto\", \"type\": \"bar\", \"x\": [\"AL254_561\", \"AL255_561\", \"AL256_561\", \"AL302_561\", \"AL303_561\", \"AL331_561\", \"AL257_561\"], \"xaxis\": \"x\", \"y\": [64.12663755458516, 66.82397831107541, 68.46490030046435, 15.09952416057905, 0.06082725060827251, 8.70556061987238, 56.82921192512133], \"yaxis\": \"y\"}, {\"alignmentgroup\": \"True\", \"hovertemplate\": \"region_name=SSp-bfd1<br>sample_id=%{x}<br>percentage=%{y}<extra></extra>\", \"legendgroup\": \"SSp-bfd1\", \"marker\": {\"color\": \"#EF553B\"}, \"name\": \"SSp-bfd1\", \"offsetgroup\": \"SSp-bfd1\", \"orientation\": \"v\", \"showlegend\": true, \"textposition\": \"auto\", \"type\": \"bar\", \"x\": [\"AL254_561\", \"AL255_561\", \"AL256_561\", \"AL302_561\", \"AL303_561\", \"AL331_561\", \"AL257_561\"], \"xaxis\": \"x\", \"y\": [26.572052401746724, 20.514107842152825, 7.006282436492762, 19.536224113665305, 0.06082725060827251, 20.783956244302644, 43.17078807487867], \"yaxis\": \"y\"}, {\"alignmentgroup\": \"True\", \"hovertemplate\": \"region_name=SSp-bfd4<br>sample_id=%{x}<br>percentage=%{y}<extra></extra>\", \"legendgroup\": \"SSp-bfd4\", \"marker\": {\"color\": \"#00cc96\"}, \"name\": \"SSp-bfd4\", \"offsetgroup\": \"SSp-bfd4\", \"orientation\": \"v\", \"showlegend\": true, \"textposition\": \"auto\", \"type\": \"bar\", \"x\": [\"AL254_561\", \"AL255_561\", \"AL256_561\", \"AL302_561\"], \"xaxis\": \"x\", \"y\": [9.301310043668122, 2.2592629782106637, 9.956296093963397, 1.3739025534481604], \"yaxis\": \"y\"}, {\"alignmentgroup\": \"True\", \"hovertemplate\": \"region_name=SSs2/3<br>sample_id=%{x}<br>percentage=%{y}<extra></extra>\", \"legendgroup\": \"SSs2/3\", \"marker\": {\"color\": \"#ab63fa\"}, \"name\": \"SSs2/3\", \"offsetgroup\": \"SSs2/3\", \"orientation\": \"v\", \"showlegend\": true, \"textposition\": \"auto\", \"type\": \"bar\", \"x\": [\"AL255_561\", \"AL256_561\", \"AL334_561\", \"AL302_561\", \"AL303_561\", \"AL333_561\", \"AL331_561\", \"AL332_561\"], \"xaxis\": \"x\", \"y\": [7.741741138668541, 12.64681780934171, 1.1671686746987953, 27.002211648012867, 67.57907542579075, 54.73071324599709, 28.669097538742022, 25.634295713035872], \"yaxis\": \"y\"}, {\"alignmentgroup\": \"True\", \"hovertemplate\": \"region_name=SSs1<br>sample_id=%{x}<br>percentage=%{y}<extra></extra>\", \"legendgroup\": \"SSs1\", \"marker\": {\"color\": \"#FFA15A\"}, \"name\": \"SSs1\", \"offsetgroup\": \"SSs1\", \"orientation\": \"v\", \"showlegend\": true, \"textposition\": \"auto\", \"type\": \"bar\", \"x\": [\"AL255_561\", \"AL256_561\", \"AL334_561\", \"AL302_561\", \"AL303_561\", \"AL333_561\", \"AL331_561\", \"AL332_561\"], \"xaxis\": \"x\", \"y\": [1.8776985641128627, 1.2564872985523081, 0.22590361445783133, 25.547885530460427, 24.452554744525546, 43.8136826783115, 40.15496809480401, 68.32895888013998], \"yaxis\": \"y\"}, {\"alignmentgroup\": \"True\", \"hovertemplate\": \"region_name=SSs4<br>sample_id=%{x}<br>percentage=%{y}<extra></extra>\", \"legendgroup\": \"SSs4\", \"marker\": {\"color\": \"#19d3f3\"}, \"name\": \"SSs4\", \"offsetgroup\": \"SSs4\", \"orientation\": \"v\", \"showlegend\": true, \"textposition\": \"auto\", \"type\": \"bar\", \"x\": [\"AL255_561\", \"AL256_561\", \"AL302_561\", \"AL303_561\", \"AL333_561\"], \"xaxis\": \"x\", \"y\": [0.7832111657796967, 0.6692160611854685, 4.81200991890624, 7.785888077858881, 0.38816108685104317], \"yaxis\": \"y\"}, {\"alignmentgroup\": \"True\", \"hovertemplate\": \"region_name=AUDp2/3<br>sample_id=%{x}<br>percentage=%{y}<extra></extra>\", \"legendgroup\": \"AUDp2/3\", \"marker\": {\"color\": \"#FF6692\"}, \"name\": \"AUDp2/3\", \"offsetgroup\": \"AUDp2/3\", \"orientation\": \"v\", \"showlegend\": true, \"textposition\": \"auto\", \"type\": \"bar\", \"x\": [\"AL334_561\"], \"xaxis\": \"x\", \"y\": [3.878012048192771], \"yaxis\": \"y\"}, {\"alignmentgroup\": \"True\", \"hovertemplate\": \"region_name=AUDd1<br>sample_id=%{x}<br>percentage=%{y}<extra></extra>\", \"legendgroup\": \"AUDd1\", \"marker\": {\"color\": \"#B6E880\"}, \"name\": \"AUDd1\", \"offsetgroup\": \"AUDd1\", \"orientation\": \"v\", \"showlegend\": true, \"textposition\": \"auto\", \"type\": \"bar\", \"x\": [\"AL334_561\", \"AL302_561\", \"AL303_561\", \"AL332_561\"], \"xaxis\": \"x\", \"y\": [24.058734939759034, 1.394008444474231, 0.030413625304136254, 1.4873140857392826], \"yaxis\": \"y\"}, {\"alignmentgroup\": \"True\", \"hovertemplate\": \"region_name=AUDd2/3<br>sample_id=%{x}<br>percentage=%{y}<extra></extra>\", \"legendgroup\": \"AUDd2/3\", \"marker\": {\"color\": \"#FF97FF\"}, \"name\": \"AUDd2/3\", \"offsetgroup\": \"AUDd2/3\", \"orientation\": \"v\", \"showlegend\": true, \"textposition\": \"auto\", \"type\": \"bar\", \"x\": [\"AL334_561\", \"AL302_561\", \"AL303_561\"], \"xaxis\": \"x\", \"y\": [60.46686746987952, 0.00670196367535688, 0.030413625304136254], \"yaxis\": \"y\"}, {\"alignmentgroup\": \"True\", \"hovertemplate\": \"region_name=AUDd4<br>sample_id=%{x}<br>percentage=%{y}<extra></extra>\", \"legendgroup\": \"AUDd4\", \"marker\": {\"color\": \"#FECB52\"}, \"name\": \"AUDd4\", \"offsetgroup\": \"AUDd4\", \"orientation\": \"v\", \"showlegend\": true, \"textposition\": \"auto\", \"type\": \"bar\", \"x\": [\"AL334_561\"], \"xaxis\": \"x\", \"y\": [7.115963855421687], \"yaxis\": \"y\"}, {\"alignmentgroup\": \"True\", \"hovertemplate\": \"region_name=AUDp1<br>sample_id=%{x}<br>percentage=%{y}<extra></extra>\", \"legendgroup\": \"AUDp1\", \"marker\": {\"color\": \"#636efa\"}, \"name\": \"AUDp1\", \"offsetgroup\": \"AUDp1\", \"orientation\": \"v\", \"showlegend\": true, \"textposition\": \"auto\", \"type\": \"bar\", \"x\": [\"AL334_561\"], \"xaxis\": \"x\", \"y\": [0.9412650602409639], \"yaxis\": \"y\"}, {\"alignmentgroup\": \"True\", \"hovertemplate\": \"region_name=AUDp4<br>sample_id=%{x}<br>percentage=%{y}<extra></extra>\", \"legendgroup\": \"AUDp4\", \"marker\": {\"color\": \"#EF553B\"}, \"name\": \"AUDp4\", \"offsetgroup\": \"AUDp4\", \"orientation\": \"v\", \"showlegend\": true, \"textposition\": \"auto\", \"type\": \"bar\", \"x\": [\"AL334_561\"], \"xaxis\": \"x\", \"y\": [2.1460843373493974], \"yaxis\": \"y\"}, {\"alignmentgroup\": \"True\", \"hovertemplate\": \"region_name= <br>sample_id=%{x}<br>percentage=%{y}<extra></extra>\", \"legendgroup\": \" \", \"marker\": {\"color\": \"#00cc96\"}, \"name\": \" \", \"offsetgroup\": \" \", \"orientation\": \"v\", \"showlegend\": true, \"textposition\": \"auto\", \"type\": \"bar\", \"x\": [\"AL302_561\", \"AL333_561\", \"AL331_561\", \"AL332_561\"], \"xaxis\": \"x\", \"y\": [3.706185912472354, 1.0674429888403687, 1.6864175022789425, 4.549431321084865], \"yaxis\": \"y\"}, {\"alignmentgroup\": \"True\", \"hovertemplate\": \"region_name=SSp-bfd5<br>sample_id=%{x}<br>percentage=%{y}<extra></extra>\", \"legendgroup\": \"SSp-bfd5\", \"marker\": {\"color\": \"#ab63fa\"}, \"name\": \"SSp-bfd5\", \"offsetgroup\": \"SSp-bfd5\", \"orientation\": \"v\", \"showlegend\": true, \"textposition\": \"auto\", \"type\": \"bar\", \"x\": [\"AL302_561\"], \"xaxis\": \"x\", \"y\": [0.4088197841967697], \"yaxis\": \"y\"}, {\"alignmentgroup\": \"True\", \"hovertemplate\": \"region_name=SSs5<br>sample_id=%{x}<br>percentage=%{y}<extra></extra>\", \"legendgroup\": \"SSs5\", \"marker\": {\"color\": \"#FFA15A\"}, \"name\": \"SSs5\", \"offsetgroup\": \"SSs5\", \"orientation\": \"v\", \"showlegend\": true, \"textposition\": \"auto\", \"type\": \"bar\", \"x\": [\"AL302_561\"], \"xaxis\": \"x\", \"y\": [1.112525970109242], \"yaxis\": \"y\"}],                        {\"barmode\": \"relative\", \"legend\": {\"title\": {\"text\": \"region_name\"}, \"tracegroupgap\": 0}, \"margin\": {\"t\": 60}, \"template\": {\"data\": {\"bar\": [{\"error_x\": {\"color\": \"#2a3f5f\"}, \"error_y\": {\"color\": \"#2a3f5f\"}, \"marker\": {\"line\": {\"color\": \"#E5ECF6\", \"width\": 0.5}}, \"type\": \"bar\"}], \"barpolar\": [{\"marker\": {\"line\": {\"color\": \"#E5ECF6\", \"width\": 0.5}}, \"type\": \"barpolar\"}], \"carpet\": [{\"aaxis\": {\"endlinecolor\": \"#2a3f5f\", \"gridcolor\": \"white\", \"linecolor\": \"white\", \"minorgridcolor\": \"white\", \"startlinecolor\": \"#2a3f5f\"}, \"baxis\": {\"endlinecolor\": \"#2a3f5f\", \"gridcolor\": \"white\", \"linecolor\": \"white\", \"minorgridcolor\": \"white\", \"startlinecolor\": \"#2a3f5f\"}, \"type\": \"carpet\"}], \"choropleth\": [{\"colorbar\": {\"outlinewidth\": 0, \"ticks\": \"\"}, \"type\": \"choropleth\"}], \"contour\": [{\"colorbar\": {\"outlinewidth\": 0, \"ticks\": \"\"}, \"colorscale\": [[0.0, \"#0d0887\"], [0.1111111111111111, \"#46039f\"], [0.2222222222222222, \"#7201a8\"], [0.3333333333333333, \"#9c179e\"], [0.4444444444444444, \"#bd3786\"], [0.5555555555555556, \"#d8576b\"], [0.6666666666666666, \"#ed7953\"], [0.7777777777777778, \"#fb9f3a\"], [0.8888888888888888, \"#fdca26\"], [1.0, \"#f0f921\"]], \"type\": \"contour\"}], \"contourcarpet\": [{\"colorbar\": {\"outlinewidth\": 0, \"ticks\": \"\"}, \"type\": \"contourcarpet\"}], \"heatmap\": [{\"colorbar\": {\"outlinewidth\": 0, \"ticks\": \"\"}, \"colorscale\": [[0.0, \"#0d0887\"], [0.1111111111111111, \"#46039f\"], [0.2222222222222222, \"#7201a8\"], [0.3333333333333333, \"#9c179e\"], [0.4444444444444444, \"#bd3786\"], [0.5555555555555556, \"#d8576b\"], [0.6666666666666666, \"#ed7953\"], [0.7777777777777778, \"#fb9f3a\"], [0.8888888888888888, \"#fdca26\"], [1.0, \"#f0f921\"]], \"type\": \"heatmap\"}], \"heatmapgl\": [{\"colorbar\": {\"outlinewidth\": 0, \"ticks\": \"\"}, \"colorscale\": [[0.0, \"#0d0887\"], [0.1111111111111111, \"#46039f\"], [0.2222222222222222, \"#7201a8\"], [0.3333333333333333, \"#9c179e\"], [0.4444444444444444, \"#bd3786\"], [0.5555555555555556, \"#d8576b\"], [0.6666666666666666, \"#ed7953\"], [0.7777777777777778, \"#fb9f3a\"], [0.8888888888888888, \"#fdca26\"], [1.0, \"#f0f921\"]], \"type\": \"heatmapgl\"}], \"histogram\": [{\"marker\": {\"colorbar\": {\"outlinewidth\": 0, \"ticks\": \"\"}}, \"type\": \"histogram\"}], \"histogram2d\": [{\"colorbar\": {\"outlinewidth\": 0, \"ticks\": \"\"}, \"colorscale\": [[0.0, \"#0d0887\"], [0.1111111111111111, \"#46039f\"], [0.2222222222222222, \"#7201a8\"], [0.3333333333333333, \"#9c179e\"], [0.4444444444444444, \"#bd3786\"], [0.5555555555555556, \"#d8576b\"], [0.6666666666666666, \"#ed7953\"], [0.7777777777777778, \"#fb9f3a\"], [0.8888888888888888, \"#fdca26\"], [1.0, \"#f0f921\"]], \"type\": \"histogram2d\"}], \"histogram2dcontour\": [{\"colorbar\": {\"outlinewidth\": 0, \"ticks\": \"\"}, \"colorscale\": [[0.0, \"#0d0887\"], [0.1111111111111111, \"#46039f\"], [0.2222222222222222, \"#7201a8\"], [0.3333333333333333, \"#9c179e\"], [0.4444444444444444, \"#bd3786\"], [0.5555555555555556, \"#d8576b\"], [0.6666666666666666, \"#ed7953\"], [0.7777777777777778, \"#fb9f3a\"], [0.8888888888888888, \"#fdca26\"], [1.0, \"#f0f921\"]], \"type\": \"histogram2dcontour\"}], \"mesh3d\": [{\"colorbar\": {\"outlinewidth\": 0, \"ticks\": \"\"}, \"type\": \"mesh3d\"}], \"parcoords\": [{\"line\": {\"colorbar\": {\"outlinewidth\": 0, \"ticks\": \"\"}}, \"type\": \"parcoords\"}], \"pie\": [{\"automargin\": true, \"type\": \"pie\"}], \"scatter\": [{\"marker\": {\"colorbar\": {\"outlinewidth\": 0, \"ticks\": \"\"}}, \"type\": \"scatter\"}], \"scatter3d\": [{\"line\": {\"colorbar\": {\"outlinewidth\": 0, \"ticks\": \"\"}}, \"marker\": {\"colorbar\": {\"outlinewidth\": 0, \"ticks\": \"\"}}, \"type\": \"scatter3d\"}], \"scattercarpet\": [{\"marker\": {\"colorbar\": {\"outlinewidth\": 0, \"ticks\": \"\"}}, \"type\": \"scattercarpet\"}], \"scattergeo\": [{\"marker\": {\"colorbar\": {\"outlinewidth\": 0, \"ticks\": \"\"}}, \"type\": \"scattergeo\"}], \"scattergl\": [{\"marker\": {\"colorbar\": {\"outlinewidth\": 0, \"ticks\": \"\"}}, \"type\": \"scattergl\"}], \"scattermapbox\": [{\"marker\": {\"colorbar\": {\"outlinewidth\": 0, \"ticks\": \"\"}}, \"type\": \"scattermapbox\"}], \"scatterpolar\": [{\"marker\": {\"colorbar\": {\"outlinewidth\": 0, \"ticks\": \"\"}}, \"type\": \"scatterpolar\"}], \"scatterpolargl\": [{\"marker\": {\"colorbar\": {\"outlinewidth\": 0, \"ticks\": \"\"}}, \"type\": \"scatterpolargl\"}], \"scatterternary\": [{\"marker\": {\"colorbar\": {\"outlinewidth\": 0, \"ticks\": \"\"}}, \"type\": \"scatterternary\"}], \"surface\": [{\"colorbar\": {\"outlinewidth\": 0, \"ticks\": \"\"}, \"colorscale\": [[0.0, \"#0d0887\"], [0.1111111111111111, \"#46039f\"], [0.2222222222222222, \"#7201a8\"], [0.3333333333333333, \"#9c179e\"], [0.4444444444444444, \"#bd3786\"], [0.5555555555555556, \"#d8576b\"], [0.6666666666666666, \"#ed7953\"], [0.7777777777777778, \"#fb9f3a\"], [0.8888888888888888, \"#fdca26\"], [1.0, \"#f0f921\"]], \"type\": \"surface\"}], \"table\": [{\"cells\": {\"fill\": {\"color\": \"#EBF0F8\"}, \"line\": {\"color\": \"white\"}}, \"header\": {\"fill\": {\"color\": \"#C8D4E3\"}, \"line\": {\"color\": \"white\"}}, \"type\": \"table\"}]}, \"layout\": {\"annotationdefaults\": {\"arrowcolor\": \"#2a3f5f\", \"arrowhead\": 0, \"arrowwidth\": 1}, \"autotypenumbers\": \"strict\", \"coloraxis\": {\"colorbar\": {\"outlinewidth\": 0, \"ticks\": \"\"}}, \"colorscale\": {\"diverging\": [[0, \"#8e0152\"], [0.1, \"#c51b7d\"], [0.2, \"#de77ae\"], [0.3, \"#f1b6da\"], [0.4, \"#fde0ef\"], [0.5, \"#f7f7f7\"], [0.6, \"#e6f5d0\"], [0.7, \"#b8e186\"], [0.8, \"#7fbc41\"], [0.9, \"#4d9221\"], [1, \"#276419\"]], \"sequential\": [[0.0, \"#0d0887\"], [0.1111111111111111, \"#46039f\"], [0.2222222222222222, \"#7201a8\"], [0.3333333333333333, \"#9c179e\"], [0.4444444444444444, \"#bd3786\"], [0.5555555555555556, \"#d8576b\"], [0.6666666666666666, \"#ed7953\"], [0.7777777777777778, \"#fb9f3a\"], [0.8888888888888888, \"#fdca26\"], [1.0, \"#f0f921\"]], \"sequentialminus\": [[0.0, \"#0d0887\"], [0.1111111111111111, \"#46039f\"], [0.2222222222222222, \"#7201a8\"], [0.3333333333333333, \"#9c179e\"], [0.4444444444444444, \"#bd3786\"], [0.5555555555555556, \"#d8576b\"], [0.6666666666666666, \"#ed7953\"], [0.7777777777777778, \"#fb9f3a\"], [0.8888888888888888, \"#fdca26\"], [1.0, \"#f0f921\"]]}, \"colorway\": [\"#636efa\", \"#EF553B\", \"#00cc96\", \"#ab63fa\", \"#FFA15A\", \"#19d3f3\", \"#FF6692\", \"#B6E880\", \"#FF97FF\", \"#FECB52\"], \"font\": {\"color\": \"#2a3f5f\"}, \"geo\": {\"bgcolor\": \"white\", \"lakecolor\": \"white\", \"landcolor\": \"#E5ECF6\", \"showlakes\": true, \"showland\": true, \"subunitcolor\": \"white\"}, \"hoverlabel\": {\"align\": \"left\"}, \"hovermode\": \"closest\", \"mapbox\": {\"style\": \"light\"}, \"paper_bgcolor\": \"white\", \"plot_bgcolor\": \"#E5ECF6\", \"polar\": {\"angularaxis\": {\"gridcolor\": \"white\", \"linecolor\": \"white\", \"ticks\": \"\"}, \"bgcolor\": \"#E5ECF6\", \"radialaxis\": {\"gridcolor\": \"white\", \"linecolor\": \"white\", \"ticks\": \"\"}}, \"scene\": {\"xaxis\": {\"backgroundcolor\": \"#E5ECF6\", \"gridcolor\": \"white\", \"gridwidth\": 2, \"linecolor\": \"white\", \"showbackground\": true, \"ticks\": \"\", \"zerolinecolor\": \"white\"}, \"yaxis\": {\"backgroundcolor\": \"#E5ECF6\", \"gridcolor\": \"white\", \"gridwidth\": 2, \"linecolor\": \"white\", \"showbackground\": true, \"ticks\": \"\", \"zerolinecolor\": \"white\"}, \"zaxis\": {\"backgroundcolor\": \"#E5ECF6\", \"gridcolor\": \"white\", \"gridwidth\": 2, \"linecolor\": \"white\", \"showbackground\": true, \"ticks\": \"\", \"zerolinecolor\": \"white\"}}, \"shapedefaults\": {\"line\": {\"color\": \"#2a3f5f\"}}, \"ternary\": {\"aaxis\": {\"gridcolor\": \"white\", \"linecolor\": \"white\", \"ticks\": \"\"}, \"baxis\": {\"gridcolor\": \"white\", \"linecolor\": \"white\", \"ticks\": \"\"}, \"bgcolor\": \"#E5ECF6\", \"caxis\": {\"gridcolor\": \"white\", \"linecolor\": \"white\", \"ticks\": \"\"}}, \"title\": {\"x\": 0.05}, \"xaxis\": {\"automargin\": true, \"gridcolor\": \"white\", \"linecolor\": \"white\", \"ticks\": \"\", \"title\": {\"standoff\": 15}, \"zerolinecolor\": \"white\", \"zerolinewidth\": 2}, \"yaxis\": {\"automargin\": true, \"gridcolor\": \"white\", \"linecolor\": \"white\", \"ticks\": \"\", \"title\": {\"standoff\": 15}, \"zerolinecolor\": \"white\", \"zerolinewidth\": 2}}}, \"xaxis\": {\"anchor\": \"y\", \"domain\": [0.0, 1.0], \"title\": {\"text\": \"sample_id\"}}, \"yaxis\": {\"anchor\": \"x\", \"domain\": [0.0, 1.0], \"title\": {\"text\": \"percentage\"}}},                        {\"responsive\": true}                    ).then(function(){\n",
       "                            \n",
       "var gd = document.getElementById('63a4e989-f607-4c04-b7b1-4f29f842360d');\n",
       "var x = new MutationObserver(function (mutations, observer) {{\n",
       "        var display = window.getComputedStyle(gd).display;\n",
       "        if (!display || display === 'none') {{\n",
       "            console.log([gd, 'removed!']);\n",
       "            Plotly.purge(gd);\n",
       "            observer.disconnect();\n",
       "        }}\n",
       "}});\n",
       "\n",
       "// Listen for the removal of the full notebook cells\n",
       "var notebookContainer = gd.closest('#notebook-container');\n",
       "if (notebookContainer) {{\n",
       "    x.observe(notebookContainer, {childList: true});\n",
       "}}\n",
       "\n",
       "// Listen for the clearing of the current output cell\n",
       "var outputEl = gd.closest('.output');\n",
       "if (outputEl) {{\n",
       "    x.observe(outputEl, {childList: true});\n",
       "}}\n",
       "\n",
       "                        })                };                });            </script>        </div>"
      ]
     },
     "metadata": {},
     "output_type": "display_data"
    },
    {
     "name": "stdout",
     "output_type": "stream",
     "text": [
      "this genotype is Rbp4Cre\n"
     ]
    },
    {
     "data": {
      "application/vnd.plotly.v1+json": {
       "config": {
        "plotlyServerURL": "https://plot.ly"
       },
       "data": [
        {
         "alignmentgroup": "True",
         "hovertemplate": "region_name=AUDd6a<br>sample_id=%{x}<br>percentage=%{y}<extra></extra>",
         "legendgroup": "AUDd6a",
         "marker": {
          "color": "#636efa"
         },
         "name": "AUDd6a",
         "offsetgroup": "AUDd6a",
         "orientation": "v",
         "showlegend": true,
         "textposition": "auto",
         "type": "bar",
         "x": [
          "AL279_647",
          "AL289_647"
         ],
         "xaxis": "x",
         "y": [
          6.230731786467629,
          0.4165702383707475
         ],
         "yaxis": "y"
        },
        {
         "alignmentgroup": "True",
         "hovertemplate": "region_name=AUDd5<br>sample_id=%{x}<br>percentage=%{y}<extra></extra>",
         "legendgroup": "AUDd5",
         "marker": {
          "color": "#EF553B"
         },
         "name": "AUDd5",
         "offsetgroup": "AUDd5",
         "orientation": "v",
         "showlegend": true,
         "textposition": "auto",
         "type": "bar",
         "x": [
          "AL279_647",
          "AL325_647",
          "AL328_647",
          "AL271_561",
          "AL289_647",
          "AL327_647"
         ],
         "xaxis": "x",
         "y": [
          50.07301638812267,
          48.51764705882353,
          48.0225988700565,
          27.412097983669387,
          18.028234205045127,
          5.102817974105103
         ],
         "yaxis": "y"
        },
        {
         "alignmentgroup": "True",
         "hovertemplate": "region_name=AUDv6a<br>sample_id=%{x}<br>percentage=%{y}<extra></extra>",
         "legendgroup": "AUDv6a",
         "marker": {
          "color": "#00cc96"
         },
         "name": "AUDv6a",
         "offsetgroup": "AUDv6a",
         "orientation": "v",
         "showlegend": true,
         "textposition": "auto",
         "type": "bar",
         "x": [
          "AL279_647"
         ],
         "xaxis": "x",
         "y": [
          0.0324517280545189
         ],
         "yaxis": "y"
        },
        {
         "alignmentgroup": "True",
         "hovertemplate": "region_name=AUDp5<br>sample_id=%{x}<br>percentage=%{y}<extra></extra>",
         "legendgroup": "AUDp5",
         "marker": {
          "color": "#ab63fa"
         },
         "name": "AUDp5",
         "offsetgroup": "AUDp5",
         "orientation": "v",
         "showlegend": true,
         "textposition": "auto",
         "type": "bar",
         "x": [
          "AL279_647",
          "AL325_647",
          "AL328_647",
          "AL271_561",
          "AL289_647"
         ],
         "xaxis": "x",
         "y": [
          0.324517280545189,
          2.4235294117647057,
          1.078582434514638,
          0.6665555740709882,
          1.4117102522564222
         ],
         "yaxis": "y"
        },
        {
         "alignmentgroup": "True",
         "hovertemplate": "region_name=SSs6a<br>sample_id=%{x}<br>percentage=%{y}<extra></extra>",
         "legendgroup": "SSs6a",
         "marker": {
          "color": "#FFA15A"
         },
         "name": "SSs6a",
         "offsetgroup": "SSs6a",
         "orientation": "v",
         "showlegend": true,
         "textposition": "auto",
         "type": "bar",
         "x": [
          "AL279_647",
          "AL288_647",
          "AL289_647"
         ],
         "xaxis": "x",
         "y": [
          4.072691870842123,
          12.425298804780876,
          5.936125896783152
         ],
         "yaxis": "y"
        },
        {
         "alignmentgroup": "True",
         "hovertemplate": "region_name=AUDv5<br>sample_id=%{x}<br>percentage=%{y}<extra></extra>",
         "legendgroup": "AUDv5",
         "marker": {
          "color": "#19d3f3"
         },
         "name": "AUDv5",
         "offsetgroup": "AUDv5",
         "orientation": "v",
         "showlegend": true,
         "textposition": "auto",
         "type": "bar",
         "x": [
          "AL279_647"
         ],
         "xaxis": "x",
         "y": [
          4.040240142787604
         ],
         "yaxis": "y"
        },
        {
         "alignmentgroup": "True",
         "hovertemplate": "region_name=SSs5<br>sample_id=%{x}<br>percentage=%{y}<extra></extra>",
         "legendgroup": "SSs5",
         "marker": {
          "color": "#FF6692"
         },
         "name": "SSs5",
         "offsetgroup": "SSs5",
         "orientation": "v",
         "showlegend": true,
         "textposition": "auto",
         "type": "bar",
         "x": [
          "AL279_647",
          "AL325_647",
          "AL328_647",
          "AL271_561",
          "AL288_647",
          "AL289_647",
          "AL326_647",
          "AL327_647"
         ],
         "xaxis": "x",
         "y": [
          35.22635080318027,
          38.07058823529412,
          30.32871083718541,
          26.6788868521913,
          76.96713147410358,
          37.76903494561444,
          78.8252508361204,
          69.94160954556995
         ],
         "yaxis": "y"
        },
        {
         "alignmentgroup": "True",
         "hovertemplate": "region_name=AUDd4<br>sample_id=%{x}<br>percentage=%{y}<extra></extra>",
         "legendgroup": "AUDd4",
         "marker": {
          "color": "#B6E880"
         },
         "name": "AUDd4",
         "offsetgroup": "AUDd4",
         "orientation": "v",
         "showlegend": true,
         "textposition": "auto",
         "type": "bar",
         "x": [
          "AL325_647",
          "AL328_647",
          "AL271_561",
          "AL327_647"
         ],
         "xaxis": "x",
         "y": [
          6.729411764705882,
          16.127375449409346,
          0.7832027995334111,
          1.2947448591012947
         ],
         "yaxis": "y"
        },
        {
         "alignmentgroup": "True",
         "hovertemplate": "region_name=AUDp4<br>sample_id=%{x}<br>percentage=%{y}<extra></extra>",
         "legendgroup": "AUDp4",
         "marker": {
          "color": "#FF97FF"
         },
         "name": "AUDp4",
         "offsetgroup": "AUDp4",
         "orientation": "v",
         "showlegend": true,
         "textposition": "auto",
         "type": "bar",
         "x": [
          "AL325_647",
          "AL328_647"
         ],
         "xaxis": "x",
         "y": [
          0.3058823529411765,
          0.025680534155110426
         ],
         "yaxis": "y"
        },
        {
         "alignmentgroup": "True",
         "hovertemplate": "region_name=SSs4<br>sample_id=%{x}<br>percentage=%{y}<extra></extra>",
         "legendgroup": "SSs4",
         "marker": {
          "color": "#FECB52"
         },
         "name": "SSs4",
         "offsetgroup": "SSs4",
         "orientation": "v",
         "showlegend": true,
         "textposition": "auto",
         "type": "bar",
         "x": [
          "AL325_647",
          "AL328_647",
          "AL271_561",
          "AL288_647",
          "AL326_647",
          "AL327_647"
         ],
         "xaxis": "x",
         "y": [
          3.9529411764705884,
          4.3656908063687725,
          0.5832361273121146,
          4.581673306772909,
          7.023411371237458,
          23.66082762122366
         ],
         "yaxis": "y"
        },
        {
         "alignmentgroup": "True",
         "hovertemplate": "region_name=AUDd2/3<br>sample_id=%{x}<br>percentage=%{y}<extra></extra>",
         "legendgroup": "AUDd2/3",
         "marker": {
          "color": "#636efa"
         },
         "name": "AUDd2/3",
         "offsetgroup": "AUDd2/3",
         "orientation": "v",
         "showlegend": true,
         "textposition": "auto",
         "type": "bar",
         "x": [
          "AL328_647"
         ],
         "xaxis": "x",
         "y": [
          0.05136106831022085
         ],
         "yaxis": "y"
        },
        {
         "alignmentgroup": "True",
         "hovertemplate": "region_name=SSp-bfd4<br>sample_id=%{x}<br>percentage=%{y}<extra></extra>",
         "legendgroup": "SSp-bfd4",
         "marker": {
          "color": "#EF553B"
         },
         "name": "SSp-bfd4",
         "offsetgroup": "SSp-bfd4",
         "orientation": "v",
         "showlegend": true,
         "textposition": "auto",
         "type": "bar",
         "x": [
          "AL211_647",
          "AL215_647",
          "AL266_647",
          "AL309_647",
          "AL318_647",
          "AL271_561",
          "AL288_647",
          "AL326_647"
         ],
         "xaxis": "x",
         "y": [
          5.934343434343434,
          40.18875344081793,
          0.3365214311016649,
          4.120676968359088,
          17.653569452130604,
          1.3164472587902016,
          0.099601593625498,
          0.31354515050167225
         ],
         "yaxis": "y"
        },
        {
         "alignmentgroup": "True",
         "hovertemplate": "region_name=SSp-bfd5<br>sample_id=%{x}<br>percentage=%{y}<extra></extra>",
         "legendgroup": "SSp-bfd5",
         "marker": {
          "color": "#00cc96"
         },
         "name": "SSp-bfd5",
         "offsetgroup": "SSp-bfd5",
         "orientation": "v",
         "showlegend": true,
         "textposition": "auto",
         "type": "bar",
         "x": [
          "AL211_647",
          "AL215_647",
          "AL266_647",
          "AL309_647",
          "AL318_647",
          "AL271_561",
          "AL288_647",
          "AL289_647",
          "AL326_647",
          "AL214_647"
         ],
         "xaxis": "x",
         "y": [
          94.06565656565657,
          38.89107353519465,
          55.207226354941554,
          55.26122148638705,
          80.79690094078583,
          42.5595734044326,
          5.926294820717131,
          24.54292987734321,
          13.83779264214047,
          16.553411253057895
         ],
         "yaxis": "y"
        },
        {
         "alignmentgroup": "True",
         "hovertemplate": "region_name=SSp-bfd6a<br>sample_id=%{x}<br>percentage=%{y}<extra></extra>",
         "legendgroup": "SSp-bfd6a",
         "marker": {
          "color": "#ab63fa"
         },
         "name": "SSp-bfd6a",
         "offsetgroup": "SSp-bfd6a",
         "orientation": "v",
         "showlegend": true,
         "textposition": "auto",
         "type": "bar",
         "x": [
          "AL215_647",
          "AL266_647",
          "AL309_647",
          "AL318_647",
          "AL289_647",
          "AL214_647"
         ],
         "xaxis": "x",
         "y": [
          20.920173023987417,
          1.7091746369110874,
          0.919793966151582,
          1.549529607083564,
          11.305253413561676,
          3.017124218537646
         ],
         "yaxis": "y"
        },
        {
         "alignmentgroup": "True",
         "hovertemplate": "region_name=VISp5<br>sample_id=%{x}<br>percentage=%{y}<extra></extra>",
         "legendgroup": "VISp5",
         "marker": {
          "color": "#FFA15A"
         },
         "name": "VISp5",
         "offsetgroup": "VISp5",
         "orientation": "v",
         "showlegend": true,
         "textposition": "auto",
         "type": "bar",
         "x": [
          "AL266_647"
         ],
         "xaxis": "x",
         "y": [
          0.4782146652497343
         ],
         "yaxis": "y"
        },
        {
         "alignmentgroup": "True",
         "hovertemplate": "region_name=SSp-tr5<br>sample_id=%{x}<br>percentage=%{y}<extra></extra>",
         "legendgroup": "SSp-tr5",
         "marker": {
          "color": "#19d3f3"
         },
         "name": "SSp-tr5",
         "offsetgroup": "SSp-tr5",
         "orientation": "v",
         "showlegend": true,
         "textposition": "auto",
         "type": "bar",
         "x": [
          "AL266_647",
          "AL214_647"
         ],
         "xaxis": "x",
         "y": [
          3.028692879914984,
          38.73335145419951
         ],
         "yaxis": "y"
        },
        {
         "alignmentgroup": "True",
         "hovertemplate": "region_name=VISa4<br>sample_id=%{x}<br>percentage=%{y}<extra></extra>",
         "legendgroup": "VISa4",
         "marker": {
          "color": "#FF6692"
         },
         "name": "VISa4",
         "offsetgroup": "VISa4",
         "orientation": "v",
         "showlegend": true,
         "textposition": "auto",
         "type": "bar",
         "x": [
          "AL266_647",
          "AL214_647"
         ],
         "xaxis": "x",
         "y": [
          0.575628763726532,
          0.02718129926610492
         ],
         "yaxis": "y"
        },
        {
         "alignmentgroup": "True",
         "hovertemplate": "region_name=VISa5<br>sample_id=%{x}<br>percentage=%{y}<extra></extra>",
         "legendgroup": "VISa5",
         "marker": {
          "color": "#B6E880"
         },
         "name": "VISa5",
         "offsetgroup": "VISa5",
         "orientation": "v",
         "showlegend": true,
         "textposition": "auto",
         "type": "bar",
         "x": [
          "AL266_647",
          "AL309_647",
          "AL214_647"
         ],
         "xaxis": "x",
         "y": [
          15.435706695005313,
          0.07358351729212656,
          0.4077194889915738
         ],
         "yaxis": "y"
        },
        {
         "alignmentgroup": "True",
         "hovertemplate": "region_name=VISrl4<br>sample_id=%{x}<br>percentage=%{y}<extra></extra>",
         "legendgroup": "VISrl4",
         "marker": {
          "color": "#FF97FF"
         },
         "name": "VISrl4",
         "offsetgroup": "VISrl4",
         "orientation": "v",
         "showlegend": true,
         "textposition": "auto",
         "type": "bar",
         "x": [
          "AL266_647",
          "AL309_647"
         ],
         "xaxis": "x",
         "y": [
          0.23025150549061282,
          3.0905077262693155
         ],
         "yaxis": "y"
        },
        {
         "alignmentgroup": "True",
         "hovertemplate": "region_name=VISrl5<br>sample_id=%{x}<br>percentage=%{y}<extra></extra>",
         "legendgroup": "VISrl5",
         "marker": {
          "color": "#FECB52"
         },
         "name": "VISrl5",
         "offsetgroup": "VISrl5",
         "orientation": "v",
         "showlegend": true,
         "textposition": "auto",
         "type": "bar",
         "x": [
          "AL266_647",
          "AL309_647"
         ],
         "xaxis": "x",
         "y": [
          22.91888062345023,
          36.42384105960265
         ],
         "yaxis": "y"
        },
        {
         "alignmentgroup": "True",
         "hovertemplate": "region_name=VISrl6a<br>sample_id=%{x}<br>percentage=%{y}<extra></extra>",
         "legendgroup": "VISrl6a",
         "marker": {
          "color": "#636efa"
         },
         "name": "VISrl6a",
         "offsetgroup": "VISrl6a",
         "orientation": "v",
         "showlegend": true,
         "textposition": "auto",
         "type": "bar",
         "x": [
          "AL266_647",
          "AL309_647"
         ],
         "xaxis": "x",
         "y": [
          0.07970244420828905,
          0.11037527593818984
         ],
         "yaxis": "y"
        },
        {
         "alignmentgroup": "True",
         "hovertemplate": "region_name=VISal5<br>sample_id=%{x}<br>percentage=%{y}<extra></extra>",
         "legendgroup": "VISal5",
         "marker": {
          "color": "#EF553B"
         },
         "name": "VISal5",
         "offsetgroup": "VISal5",
         "orientation": "v",
         "showlegend": true,
         "textposition": "auto",
         "type": "bar",
         "x": [
          "AL289_647"
         ],
         "xaxis": "x",
         "y": [
          0.03471418653089563
         ],
         "yaxis": "y"
        },
        {
         "alignmentgroup": "True",
         "hovertemplate": "region_name=AUDpo6a<br>sample_id=%{x}<br>percentage=%{y}<extra></extra>",
         "legendgroup": "AUDpo6a",
         "marker": {
          "color": "#00cc96"
         },
         "name": "AUDpo6a",
         "offsetgroup": "AUDpo6a",
         "orientation": "v",
         "showlegend": true,
         "textposition": "auto",
         "type": "bar",
         "x": [
          "AL289_647"
         ],
         "xaxis": "x",
         "y": [
          0.03471418653089563
         ],
         "yaxis": "y"
        },
        {
         "alignmentgroup": "True",
         "hovertemplate": "region_name=AUDpo5<br>sample_id=%{x}<br>percentage=%{y}<extra></extra>",
         "legendgroup": "AUDpo5",
         "marker": {
          "color": "#ab63fa"
         },
         "name": "AUDpo5",
         "offsetgroup": "AUDpo5",
         "orientation": "v",
         "showlegend": true,
         "textposition": "auto",
         "type": "bar",
         "x": [
          "AL289_647"
         ],
         "xaxis": "x",
         "y": [
          0.5207127979634344
         ],
         "yaxis": "y"
        },
        {
         "alignmentgroup": "True",
         "hovertemplate": "region_name=SSp-tr6a<br>sample_id=%{x}<br>percentage=%{y}<extra></extra>",
         "legendgroup": "SSp-tr6a",
         "marker": {
          "color": "#FFA15A"
         },
         "name": "SSp-tr6a",
         "offsetgroup": "SSp-tr6a",
         "orientation": "v",
         "showlegend": true,
         "textposition": "auto",
         "type": "bar",
         "x": [
          "AL214_647"
         ],
         "xaxis": "x",
         "y": [
          4.9741777656972
         ],
         "yaxis": "y"
        },
        {
         "alignmentgroup": "True",
         "hovertemplate": "region_name=SSp-ul4<br>sample_id=%{x}<br>percentage=%{y}<extra></extra>",
         "legendgroup": "SSp-ul4",
         "marker": {
          "color": "#19d3f3"
         },
         "name": "SSp-ul4",
         "offsetgroup": "SSp-ul4",
         "orientation": "v",
         "showlegend": true,
         "textposition": "auto",
         "type": "bar",
         "x": [
          "AL214_647"
         ],
         "xaxis": "x",
         "y": [
          0.16308779559662953
         ],
         "yaxis": "y"
        },
        {
         "alignmentgroup": "True",
         "hovertemplate": "region_name=SSp-ul5<br>sample_id=%{x}<br>percentage=%{y}<extra></extra>",
         "legendgroup": "SSp-ul5",
         "marker": {
          "color": "#FF6692"
         },
         "name": "SSp-ul5",
         "offsetgroup": "SSp-ul5",
         "orientation": "v",
         "showlegend": true,
         "textposition": "auto",
         "type": "bar",
         "x": [
          "AL214_647"
         ],
         "xaxis": "x",
         "y": [
          10.519162815982604
         ],
         "yaxis": "y"
        },
        {
         "alignmentgroup": "True",
         "hovertemplate": "region_name=SSp-tr2/3<br>sample_id=%{x}<br>percentage=%{y}<extra></extra>",
         "legendgroup": "SSp-tr2/3",
         "marker": {
          "color": "#B6E880"
         },
         "name": "SSp-tr2/3",
         "offsetgroup": "SSp-tr2/3",
         "orientation": "v",
         "showlegend": true,
         "textposition": "auto",
         "type": "bar",
         "x": [
          "AL214_647"
         ],
         "xaxis": "x",
         "y": [
          0.1359064963305246
         ],
         "yaxis": "y"
        },
        {
         "alignmentgroup": "True",
         "hovertemplate": "region_name=SSp-ul2/3<br>sample_id=%{x}<br>percentage=%{y}<extra></extra>",
         "legendgroup": "SSp-ul2/3",
         "marker": {
          "color": "#FF97FF"
         },
         "name": "SSp-ul2/3",
         "offsetgroup": "SSp-ul2/3",
         "orientation": "v",
         "showlegend": true,
         "textposition": "auto",
         "type": "bar",
         "x": [
          "AL214_647"
         ],
         "xaxis": "x",
         "y": [
          0.02718129926610492
         ],
         "yaxis": "y"
        },
        {
         "alignmentgroup": "True",
         "hovertemplate": "region_name=SSp-ul6a<br>sample_id=%{x}<br>percentage=%{y}<extra></extra>",
         "legendgroup": "SSp-ul6a",
         "marker": {
          "color": "#FECB52"
         },
         "name": "SSp-ul6a",
         "offsetgroup": "SSp-ul6a",
         "orientation": "v",
         "showlegend": true,
         "textposition": "auto",
         "type": "bar",
         "x": [
          "AL214_647"
         ],
         "xaxis": "x",
         "y": [
          1.9298722478934494
         ],
         "yaxis": "y"
        },
        {
         "alignmentgroup": "True",
         "hovertemplate": "region_name=SSp-tr4<br>sample_id=%{x}<br>percentage=%{y}<extra></extra>",
         "legendgroup": "SSp-tr4",
         "marker": {
          "color": "#636efa"
         },
         "name": "SSp-tr4",
         "offsetgroup": "SSp-tr4",
         "orientation": "v",
         "showlegend": true,
         "textposition": "auto",
         "type": "bar",
         "x": [
          "AL214_647"
         ],
         "xaxis": "x",
         "y": [
          0.679532481652623
         ],
         "yaxis": "y"
        },
        {
         "alignmentgroup": "True",
         "hovertemplate": "region_name=SSp-un2/3<br>sample_id=%{x}<br>percentage=%{y}<extra></extra>",
         "legendgroup": "SSp-un2/3",
         "marker": {
          "color": "#EF553B"
         },
         "name": "SSp-un2/3",
         "offsetgroup": "SSp-un2/3",
         "orientation": "v",
         "showlegend": true,
         "textposition": "auto",
         "type": "bar",
         "x": [
          "AL214_647"
         ],
         "xaxis": "x",
         "y": [
          0.21745039412883935
         ],
         "yaxis": "y"
        },
        {
         "alignmentgroup": "True",
         "hovertemplate": "region_name=SSp-un4<br>sample_id=%{x}<br>percentage=%{y}<extra></extra>",
         "legendgroup": "SSp-un4",
         "marker": {
          "color": "#00cc96"
         },
         "name": "SSp-un4",
         "offsetgroup": "SSp-un4",
         "orientation": "v",
         "showlegend": true,
         "textposition": "auto",
         "type": "bar",
         "x": [
          "AL214_647"
         ],
         "xaxis": "x",
         "y": [
          0.7882576787170427
         ],
         "yaxis": "y"
        },
        {
         "alignmentgroup": "True",
         "hovertemplate": "region_name=SSp-un5<br>sample_id=%{x}<br>percentage=%{y}<extra></extra>",
         "legendgroup": "SSp-un5",
         "marker": {
          "color": "#ab63fa"
         },
         "name": "SSp-un5",
         "offsetgroup": "SSp-un5",
         "orientation": "v",
         "showlegend": true,
         "textposition": "auto",
         "type": "bar",
         "x": [
          "AL214_647"
         ],
         "xaxis": "x",
         "y": [
          17.1242185376461
         ],
         "yaxis": "y"
        },
        {
         "alignmentgroup": "True",
         "hovertemplate": "region_name=SSp-un6a<br>sample_id=%{x}<br>percentage=%{y}<extra></extra>",
         "legendgroup": "SSp-un6a",
         "marker": {
          "color": "#FFA15A"
         },
         "name": "SSp-un6a",
         "offsetgroup": "SSp-un6a",
         "orientation": "v",
         "showlegend": true,
         "textposition": "auto",
         "type": "bar",
         "x": [
          "AL214_647"
         ],
         "xaxis": "x",
         "y": [
          4.702364773036151
         ],
         "yaxis": "y"
        }
       ],
       "layout": {
        "barmode": "relative",
        "legend": {
         "title": {
          "text": "region_name"
         },
         "tracegroupgap": 0
        },
        "margin": {
         "t": 60
        },
        "template": {
         "data": {
          "bar": [
           {
            "error_x": {
             "color": "#2a3f5f"
            },
            "error_y": {
             "color": "#2a3f5f"
            },
            "marker": {
             "line": {
              "color": "#E5ECF6",
              "width": 0.5
             }
            },
            "type": "bar"
           }
          ],
          "barpolar": [
           {
            "marker": {
             "line": {
              "color": "#E5ECF6",
              "width": 0.5
             }
            },
            "type": "barpolar"
           }
          ],
          "carpet": [
           {
            "aaxis": {
             "endlinecolor": "#2a3f5f",
             "gridcolor": "white",
             "linecolor": "white",
             "minorgridcolor": "white",
             "startlinecolor": "#2a3f5f"
            },
            "baxis": {
             "endlinecolor": "#2a3f5f",
             "gridcolor": "white",
             "linecolor": "white",
             "minorgridcolor": "white",
             "startlinecolor": "#2a3f5f"
            },
            "type": "carpet"
           }
          ],
          "choropleth": [
           {
            "colorbar": {
             "outlinewidth": 0,
             "ticks": ""
            },
            "type": "choropleth"
           }
          ],
          "contour": [
           {
            "colorbar": {
             "outlinewidth": 0,
             "ticks": ""
            },
            "colorscale": [
             [
              0,
              "#0d0887"
             ],
             [
              0.1111111111111111,
              "#46039f"
             ],
             [
              0.2222222222222222,
              "#7201a8"
             ],
             [
              0.3333333333333333,
              "#9c179e"
             ],
             [
              0.4444444444444444,
              "#bd3786"
             ],
             [
              0.5555555555555556,
              "#d8576b"
             ],
             [
              0.6666666666666666,
              "#ed7953"
             ],
             [
              0.7777777777777778,
              "#fb9f3a"
             ],
             [
              0.8888888888888888,
              "#fdca26"
             ],
             [
              1,
              "#f0f921"
             ]
            ],
            "type": "contour"
           }
          ],
          "contourcarpet": [
           {
            "colorbar": {
             "outlinewidth": 0,
             "ticks": ""
            },
            "type": "contourcarpet"
           }
          ],
          "heatmap": [
           {
            "colorbar": {
             "outlinewidth": 0,
             "ticks": ""
            },
            "colorscale": [
             [
              0,
              "#0d0887"
             ],
             [
              0.1111111111111111,
              "#46039f"
             ],
             [
              0.2222222222222222,
              "#7201a8"
             ],
             [
              0.3333333333333333,
              "#9c179e"
             ],
             [
              0.4444444444444444,
              "#bd3786"
             ],
             [
              0.5555555555555556,
              "#d8576b"
             ],
             [
              0.6666666666666666,
              "#ed7953"
             ],
             [
              0.7777777777777778,
              "#fb9f3a"
             ],
             [
              0.8888888888888888,
              "#fdca26"
             ],
             [
              1,
              "#f0f921"
             ]
            ],
            "type": "heatmap"
           }
          ],
          "heatmapgl": [
           {
            "colorbar": {
             "outlinewidth": 0,
             "ticks": ""
            },
            "colorscale": [
             [
              0,
              "#0d0887"
             ],
             [
              0.1111111111111111,
              "#46039f"
             ],
             [
              0.2222222222222222,
              "#7201a8"
             ],
             [
              0.3333333333333333,
              "#9c179e"
             ],
             [
              0.4444444444444444,
              "#bd3786"
             ],
             [
              0.5555555555555556,
              "#d8576b"
             ],
             [
              0.6666666666666666,
              "#ed7953"
             ],
             [
              0.7777777777777778,
              "#fb9f3a"
             ],
             [
              0.8888888888888888,
              "#fdca26"
             ],
             [
              1,
              "#f0f921"
             ]
            ],
            "type": "heatmapgl"
           }
          ],
          "histogram": [
           {
            "marker": {
             "colorbar": {
              "outlinewidth": 0,
              "ticks": ""
             }
            },
            "type": "histogram"
           }
          ],
          "histogram2d": [
           {
            "colorbar": {
             "outlinewidth": 0,
             "ticks": ""
            },
            "colorscale": [
             [
              0,
              "#0d0887"
             ],
             [
              0.1111111111111111,
              "#46039f"
             ],
             [
              0.2222222222222222,
              "#7201a8"
             ],
             [
              0.3333333333333333,
              "#9c179e"
             ],
             [
              0.4444444444444444,
              "#bd3786"
             ],
             [
              0.5555555555555556,
              "#d8576b"
             ],
             [
              0.6666666666666666,
              "#ed7953"
             ],
             [
              0.7777777777777778,
              "#fb9f3a"
             ],
             [
              0.8888888888888888,
              "#fdca26"
             ],
             [
              1,
              "#f0f921"
             ]
            ],
            "type": "histogram2d"
           }
          ],
          "histogram2dcontour": [
           {
            "colorbar": {
             "outlinewidth": 0,
             "ticks": ""
            },
            "colorscale": [
             [
              0,
              "#0d0887"
             ],
             [
              0.1111111111111111,
              "#46039f"
             ],
             [
              0.2222222222222222,
              "#7201a8"
             ],
             [
              0.3333333333333333,
              "#9c179e"
             ],
             [
              0.4444444444444444,
              "#bd3786"
             ],
             [
              0.5555555555555556,
              "#d8576b"
             ],
             [
              0.6666666666666666,
              "#ed7953"
             ],
             [
              0.7777777777777778,
              "#fb9f3a"
             ],
             [
              0.8888888888888888,
              "#fdca26"
             ],
             [
              1,
              "#f0f921"
             ]
            ],
            "type": "histogram2dcontour"
           }
          ],
          "mesh3d": [
           {
            "colorbar": {
             "outlinewidth": 0,
             "ticks": ""
            },
            "type": "mesh3d"
           }
          ],
          "parcoords": [
           {
            "line": {
             "colorbar": {
              "outlinewidth": 0,
              "ticks": ""
             }
            },
            "type": "parcoords"
           }
          ],
          "pie": [
           {
            "automargin": true,
            "type": "pie"
           }
          ],
          "scatter": [
           {
            "marker": {
             "colorbar": {
              "outlinewidth": 0,
              "ticks": ""
             }
            },
            "type": "scatter"
           }
          ],
          "scatter3d": [
           {
            "line": {
             "colorbar": {
              "outlinewidth": 0,
              "ticks": ""
             }
            },
            "marker": {
             "colorbar": {
              "outlinewidth": 0,
              "ticks": ""
             }
            },
            "type": "scatter3d"
           }
          ],
          "scattercarpet": [
           {
            "marker": {
             "colorbar": {
              "outlinewidth": 0,
              "ticks": ""
             }
            },
            "type": "scattercarpet"
           }
          ],
          "scattergeo": [
           {
            "marker": {
             "colorbar": {
              "outlinewidth": 0,
              "ticks": ""
             }
            },
            "type": "scattergeo"
           }
          ],
          "scattergl": [
           {
            "marker": {
             "colorbar": {
              "outlinewidth": 0,
              "ticks": ""
             }
            },
            "type": "scattergl"
           }
          ],
          "scattermapbox": [
           {
            "marker": {
             "colorbar": {
              "outlinewidth": 0,
              "ticks": ""
             }
            },
            "type": "scattermapbox"
           }
          ],
          "scatterpolar": [
           {
            "marker": {
             "colorbar": {
              "outlinewidth": 0,
              "ticks": ""
             }
            },
            "type": "scatterpolar"
           }
          ],
          "scatterpolargl": [
           {
            "marker": {
             "colorbar": {
              "outlinewidth": 0,
              "ticks": ""
             }
            },
            "type": "scatterpolargl"
           }
          ],
          "scatterternary": [
           {
            "marker": {
             "colorbar": {
              "outlinewidth": 0,
              "ticks": ""
             }
            },
            "type": "scatterternary"
           }
          ],
          "surface": [
           {
            "colorbar": {
             "outlinewidth": 0,
             "ticks": ""
            },
            "colorscale": [
             [
              0,
              "#0d0887"
             ],
             [
              0.1111111111111111,
              "#46039f"
             ],
             [
              0.2222222222222222,
              "#7201a8"
             ],
             [
              0.3333333333333333,
              "#9c179e"
             ],
             [
              0.4444444444444444,
              "#bd3786"
             ],
             [
              0.5555555555555556,
              "#d8576b"
             ],
             [
              0.6666666666666666,
              "#ed7953"
             ],
             [
              0.7777777777777778,
              "#fb9f3a"
             ],
             [
              0.8888888888888888,
              "#fdca26"
             ],
             [
              1,
              "#f0f921"
             ]
            ],
            "type": "surface"
           }
          ],
          "table": [
           {
            "cells": {
             "fill": {
              "color": "#EBF0F8"
             },
             "line": {
              "color": "white"
             }
            },
            "header": {
             "fill": {
              "color": "#C8D4E3"
             },
             "line": {
              "color": "white"
             }
            },
            "type": "table"
           }
          ]
         },
         "layout": {
          "annotationdefaults": {
           "arrowcolor": "#2a3f5f",
           "arrowhead": 0,
           "arrowwidth": 1
          },
          "autotypenumbers": "strict",
          "coloraxis": {
           "colorbar": {
            "outlinewidth": 0,
            "ticks": ""
           }
          },
          "colorscale": {
           "diverging": [
            [
             0,
             "#8e0152"
            ],
            [
             0.1,
             "#c51b7d"
            ],
            [
             0.2,
             "#de77ae"
            ],
            [
             0.3,
             "#f1b6da"
            ],
            [
             0.4,
             "#fde0ef"
            ],
            [
             0.5,
             "#f7f7f7"
            ],
            [
             0.6,
             "#e6f5d0"
            ],
            [
             0.7,
             "#b8e186"
            ],
            [
             0.8,
             "#7fbc41"
            ],
            [
             0.9,
             "#4d9221"
            ],
            [
             1,
             "#276419"
            ]
           ],
           "sequential": [
            [
             0,
             "#0d0887"
            ],
            [
             0.1111111111111111,
             "#46039f"
            ],
            [
             0.2222222222222222,
             "#7201a8"
            ],
            [
             0.3333333333333333,
             "#9c179e"
            ],
            [
             0.4444444444444444,
             "#bd3786"
            ],
            [
             0.5555555555555556,
             "#d8576b"
            ],
            [
             0.6666666666666666,
             "#ed7953"
            ],
            [
             0.7777777777777778,
             "#fb9f3a"
            ],
            [
             0.8888888888888888,
             "#fdca26"
            ],
            [
             1,
             "#f0f921"
            ]
           ],
           "sequentialminus": [
            [
             0,
             "#0d0887"
            ],
            [
             0.1111111111111111,
             "#46039f"
            ],
            [
             0.2222222222222222,
             "#7201a8"
            ],
            [
             0.3333333333333333,
             "#9c179e"
            ],
            [
             0.4444444444444444,
             "#bd3786"
            ],
            [
             0.5555555555555556,
             "#d8576b"
            ],
            [
             0.6666666666666666,
             "#ed7953"
            ],
            [
             0.7777777777777778,
             "#fb9f3a"
            ],
            [
             0.8888888888888888,
             "#fdca26"
            ],
            [
             1,
             "#f0f921"
            ]
           ]
          },
          "colorway": [
           "#636efa",
           "#EF553B",
           "#00cc96",
           "#ab63fa",
           "#FFA15A",
           "#19d3f3",
           "#FF6692",
           "#B6E880",
           "#FF97FF",
           "#FECB52"
          ],
          "font": {
           "color": "#2a3f5f"
          },
          "geo": {
           "bgcolor": "white",
           "lakecolor": "white",
           "landcolor": "#E5ECF6",
           "showlakes": true,
           "showland": true,
           "subunitcolor": "white"
          },
          "hoverlabel": {
           "align": "left"
          },
          "hovermode": "closest",
          "mapbox": {
           "style": "light"
          },
          "paper_bgcolor": "white",
          "plot_bgcolor": "#E5ECF6",
          "polar": {
           "angularaxis": {
            "gridcolor": "white",
            "linecolor": "white",
            "ticks": ""
           },
           "bgcolor": "#E5ECF6",
           "radialaxis": {
            "gridcolor": "white",
            "linecolor": "white",
            "ticks": ""
           }
          },
          "scene": {
           "xaxis": {
            "backgroundcolor": "#E5ECF6",
            "gridcolor": "white",
            "gridwidth": 2,
            "linecolor": "white",
            "showbackground": true,
            "ticks": "",
            "zerolinecolor": "white"
           },
           "yaxis": {
            "backgroundcolor": "#E5ECF6",
            "gridcolor": "white",
            "gridwidth": 2,
            "linecolor": "white",
            "showbackground": true,
            "ticks": "",
            "zerolinecolor": "white"
           },
           "zaxis": {
            "backgroundcolor": "#E5ECF6",
            "gridcolor": "white",
            "gridwidth": 2,
            "linecolor": "white",
            "showbackground": true,
            "ticks": "",
            "zerolinecolor": "white"
           }
          },
          "shapedefaults": {
           "line": {
            "color": "#2a3f5f"
           }
          },
          "ternary": {
           "aaxis": {
            "gridcolor": "white",
            "linecolor": "white",
            "ticks": ""
           },
           "baxis": {
            "gridcolor": "white",
            "linecolor": "white",
            "ticks": ""
           },
           "bgcolor": "#E5ECF6",
           "caxis": {
            "gridcolor": "white",
            "linecolor": "white",
            "ticks": ""
           }
          },
          "title": {
           "x": 0.05
          },
          "xaxis": {
           "automargin": true,
           "gridcolor": "white",
           "linecolor": "white",
           "ticks": "",
           "title": {
            "standoff": 15
           },
           "zerolinecolor": "white",
           "zerolinewidth": 2
          },
          "yaxis": {
           "automargin": true,
           "gridcolor": "white",
           "linecolor": "white",
           "ticks": "",
           "title": {
            "standoff": 15
           },
           "zerolinecolor": "white",
           "zerolinewidth": 2
          }
         }
        },
        "xaxis": {
         "anchor": "y",
         "domain": [
          0,
          1
         ],
         "title": {
          "text": "sample_id"
         }
        },
        "yaxis": {
         "anchor": "x",
         "domain": [
          0,
          1
         ],
         "title": {
          "text": "percentage"
         }
        }
       }
      },
      "text/html": [
       "<div>                            <div id=\"8ccf8663-8034-4c20-82a4-7bacfd5b4995\" class=\"plotly-graph-div\" style=\"height:525px; width:100%;\"></div>            <script type=\"text/javascript\">                require([\"plotly\"], function(Plotly) {                    window.PLOTLYENV=window.PLOTLYENV || {};                                    if (document.getElementById(\"8ccf8663-8034-4c20-82a4-7bacfd5b4995\")) {                    Plotly.newPlot(                        \"8ccf8663-8034-4c20-82a4-7bacfd5b4995\",                        [{\"alignmentgroup\": \"True\", \"hovertemplate\": \"region_name=AUDd6a<br>sample_id=%{x}<br>percentage=%{y}<extra></extra>\", \"legendgroup\": \"AUDd6a\", \"marker\": {\"color\": \"#636efa\"}, \"name\": \"AUDd6a\", \"offsetgroup\": \"AUDd6a\", \"orientation\": \"v\", \"showlegend\": true, \"textposition\": \"auto\", \"type\": \"bar\", \"x\": [\"AL279_647\", \"AL289_647\"], \"xaxis\": \"x\", \"y\": [6.230731786467629, 0.4165702383707475], \"yaxis\": \"y\"}, {\"alignmentgroup\": \"True\", \"hovertemplate\": \"region_name=AUDd5<br>sample_id=%{x}<br>percentage=%{y}<extra></extra>\", \"legendgroup\": \"AUDd5\", \"marker\": {\"color\": \"#EF553B\"}, \"name\": \"AUDd5\", \"offsetgroup\": \"AUDd5\", \"orientation\": \"v\", \"showlegend\": true, \"textposition\": \"auto\", \"type\": \"bar\", \"x\": [\"AL279_647\", \"AL325_647\", \"AL328_647\", \"AL271_561\", \"AL289_647\", \"AL327_647\"], \"xaxis\": \"x\", \"y\": [50.07301638812267, 48.51764705882353, 48.0225988700565, 27.412097983669387, 18.028234205045127, 5.102817974105103], \"yaxis\": \"y\"}, {\"alignmentgroup\": \"True\", \"hovertemplate\": \"region_name=AUDv6a<br>sample_id=%{x}<br>percentage=%{y}<extra></extra>\", \"legendgroup\": \"AUDv6a\", \"marker\": {\"color\": \"#00cc96\"}, \"name\": \"AUDv6a\", \"offsetgroup\": \"AUDv6a\", \"orientation\": \"v\", \"showlegend\": true, \"textposition\": \"auto\", \"type\": \"bar\", \"x\": [\"AL279_647\"], \"xaxis\": \"x\", \"y\": [0.0324517280545189], \"yaxis\": \"y\"}, {\"alignmentgroup\": \"True\", \"hovertemplate\": \"region_name=AUDp5<br>sample_id=%{x}<br>percentage=%{y}<extra></extra>\", \"legendgroup\": \"AUDp5\", \"marker\": {\"color\": \"#ab63fa\"}, \"name\": \"AUDp5\", \"offsetgroup\": \"AUDp5\", \"orientation\": \"v\", \"showlegend\": true, \"textposition\": \"auto\", \"type\": \"bar\", \"x\": [\"AL279_647\", \"AL325_647\", \"AL328_647\", \"AL271_561\", \"AL289_647\"], \"xaxis\": \"x\", \"y\": [0.324517280545189, 2.4235294117647057, 1.078582434514638, 0.6665555740709882, 1.4117102522564222], \"yaxis\": \"y\"}, {\"alignmentgroup\": \"True\", \"hovertemplate\": \"region_name=SSs6a<br>sample_id=%{x}<br>percentage=%{y}<extra></extra>\", \"legendgroup\": \"SSs6a\", \"marker\": {\"color\": \"#FFA15A\"}, \"name\": \"SSs6a\", \"offsetgroup\": \"SSs6a\", \"orientation\": \"v\", \"showlegend\": true, \"textposition\": \"auto\", \"type\": \"bar\", \"x\": [\"AL279_647\", \"AL288_647\", \"AL289_647\"], \"xaxis\": \"x\", \"y\": [4.072691870842123, 12.425298804780876, 5.936125896783152], \"yaxis\": \"y\"}, {\"alignmentgroup\": \"True\", \"hovertemplate\": \"region_name=AUDv5<br>sample_id=%{x}<br>percentage=%{y}<extra></extra>\", \"legendgroup\": \"AUDv5\", \"marker\": {\"color\": \"#19d3f3\"}, \"name\": \"AUDv5\", \"offsetgroup\": \"AUDv5\", \"orientation\": \"v\", \"showlegend\": true, \"textposition\": \"auto\", \"type\": \"bar\", \"x\": [\"AL279_647\"], \"xaxis\": \"x\", \"y\": [4.040240142787604], \"yaxis\": \"y\"}, {\"alignmentgroup\": \"True\", \"hovertemplate\": \"region_name=SSs5<br>sample_id=%{x}<br>percentage=%{y}<extra></extra>\", \"legendgroup\": \"SSs5\", \"marker\": {\"color\": \"#FF6692\"}, \"name\": \"SSs5\", \"offsetgroup\": \"SSs5\", \"orientation\": \"v\", \"showlegend\": true, \"textposition\": \"auto\", \"type\": \"bar\", \"x\": [\"AL279_647\", \"AL325_647\", \"AL328_647\", \"AL271_561\", \"AL288_647\", \"AL289_647\", \"AL326_647\", \"AL327_647\"], \"xaxis\": \"x\", \"y\": [35.22635080318027, 38.07058823529412, 30.32871083718541, 26.6788868521913, 76.96713147410358, 37.76903494561444, 78.8252508361204, 69.94160954556995], \"yaxis\": \"y\"}, {\"alignmentgroup\": \"True\", \"hovertemplate\": \"region_name=AUDd4<br>sample_id=%{x}<br>percentage=%{y}<extra></extra>\", \"legendgroup\": \"AUDd4\", \"marker\": {\"color\": \"#B6E880\"}, \"name\": \"AUDd4\", \"offsetgroup\": \"AUDd4\", \"orientation\": \"v\", \"showlegend\": true, \"textposition\": \"auto\", \"type\": \"bar\", \"x\": [\"AL325_647\", \"AL328_647\", \"AL271_561\", \"AL327_647\"], \"xaxis\": \"x\", \"y\": [6.729411764705882, 16.127375449409346, 0.7832027995334111, 1.2947448591012947], \"yaxis\": \"y\"}, {\"alignmentgroup\": \"True\", \"hovertemplate\": \"region_name=AUDp4<br>sample_id=%{x}<br>percentage=%{y}<extra></extra>\", \"legendgroup\": \"AUDp4\", \"marker\": {\"color\": \"#FF97FF\"}, \"name\": \"AUDp4\", \"offsetgroup\": \"AUDp4\", \"orientation\": \"v\", \"showlegend\": true, \"textposition\": \"auto\", \"type\": \"bar\", \"x\": [\"AL325_647\", \"AL328_647\"], \"xaxis\": \"x\", \"y\": [0.3058823529411765, 0.025680534155110426], \"yaxis\": \"y\"}, {\"alignmentgroup\": \"True\", \"hovertemplate\": \"region_name=SSs4<br>sample_id=%{x}<br>percentage=%{y}<extra></extra>\", \"legendgroup\": \"SSs4\", \"marker\": {\"color\": \"#FECB52\"}, \"name\": \"SSs4\", \"offsetgroup\": \"SSs4\", \"orientation\": \"v\", \"showlegend\": true, \"textposition\": \"auto\", \"type\": \"bar\", \"x\": [\"AL325_647\", \"AL328_647\", \"AL271_561\", \"AL288_647\", \"AL326_647\", \"AL327_647\"], \"xaxis\": \"x\", \"y\": [3.9529411764705884, 4.3656908063687725, 0.5832361273121146, 4.581673306772909, 7.023411371237458, 23.66082762122366], \"yaxis\": \"y\"}, {\"alignmentgroup\": \"True\", \"hovertemplate\": \"region_name=AUDd2/3<br>sample_id=%{x}<br>percentage=%{y}<extra></extra>\", \"legendgroup\": \"AUDd2/3\", \"marker\": {\"color\": \"#636efa\"}, \"name\": \"AUDd2/3\", \"offsetgroup\": \"AUDd2/3\", \"orientation\": \"v\", \"showlegend\": true, \"textposition\": \"auto\", \"type\": \"bar\", \"x\": [\"AL328_647\"], \"xaxis\": \"x\", \"y\": [0.05136106831022085], \"yaxis\": \"y\"}, {\"alignmentgroup\": \"True\", \"hovertemplate\": \"region_name=SSp-bfd4<br>sample_id=%{x}<br>percentage=%{y}<extra></extra>\", \"legendgroup\": \"SSp-bfd4\", \"marker\": {\"color\": \"#EF553B\"}, \"name\": \"SSp-bfd4\", \"offsetgroup\": \"SSp-bfd4\", \"orientation\": \"v\", \"showlegend\": true, \"textposition\": \"auto\", \"type\": \"bar\", \"x\": [\"AL211_647\", \"AL215_647\", \"AL266_647\", \"AL309_647\", \"AL318_647\", \"AL271_561\", \"AL288_647\", \"AL326_647\"], \"xaxis\": \"x\", \"y\": [5.934343434343434, 40.18875344081793, 0.3365214311016649, 4.120676968359088, 17.653569452130604, 1.3164472587902016, 0.099601593625498, 0.31354515050167225], \"yaxis\": \"y\"}, {\"alignmentgroup\": \"True\", \"hovertemplate\": \"region_name=SSp-bfd5<br>sample_id=%{x}<br>percentage=%{y}<extra></extra>\", \"legendgroup\": \"SSp-bfd5\", \"marker\": {\"color\": \"#00cc96\"}, \"name\": \"SSp-bfd5\", \"offsetgroup\": \"SSp-bfd5\", \"orientation\": \"v\", \"showlegend\": true, \"textposition\": \"auto\", \"type\": \"bar\", \"x\": [\"AL211_647\", \"AL215_647\", \"AL266_647\", \"AL309_647\", \"AL318_647\", \"AL271_561\", \"AL288_647\", \"AL289_647\", \"AL326_647\", \"AL214_647\"], \"xaxis\": \"x\", \"y\": [94.06565656565657, 38.89107353519465, 55.207226354941554, 55.26122148638705, 80.79690094078583, 42.5595734044326, 5.926294820717131, 24.54292987734321, 13.83779264214047, 16.553411253057895], \"yaxis\": \"y\"}, {\"alignmentgroup\": \"True\", \"hovertemplate\": \"region_name=SSp-bfd6a<br>sample_id=%{x}<br>percentage=%{y}<extra></extra>\", \"legendgroup\": \"SSp-bfd6a\", \"marker\": {\"color\": \"#ab63fa\"}, \"name\": \"SSp-bfd6a\", \"offsetgroup\": \"SSp-bfd6a\", \"orientation\": \"v\", \"showlegend\": true, \"textposition\": \"auto\", \"type\": \"bar\", \"x\": [\"AL215_647\", \"AL266_647\", \"AL309_647\", \"AL318_647\", \"AL289_647\", \"AL214_647\"], \"xaxis\": \"x\", \"y\": [20.920173023987417, 1.7091746369110874, 0.919793966151582, 1.549529607083564, 11.305253413561676, 3.017124218537646], \"yaxis\": \"y\"}, {\"alignmentgroup\": \"True\", \"hovertemplate\": \"region_name=VISp5<br>sample_id=%{x}<br>percentage=%{y}<extra></extra>\", \"legendgroup\": \"VISp5\", \"marker\": {\"color\": \"#FFA15A\"}, \"name\": \"VISp5\", \"offsetgroup\": \"VISp5\", \"orientation\": \"v\", \"showlegend\": true, \"textposition\": \"auto\", \"type\": \"bar\", \"x\": [\"AL266_647\"], \"xaxis\": \"x\", \"y\": [0.4782146652497343], \"yaxis\": \"y\"}, {\"alignmentgroup\": \"True\", \"hovertemplate\": \"region_name=SSp-tr5<br>sample_id=%{x}<br>percentage=%{y}<extra></extra>\", \"legendgroup\": \"SSp-tr5\", \"marker\": {\"color\": \"#19d3f3\"}, \"name\": \"SSp-tr5\", \"offsetgroup\": \"SSp-tr5\", \"orientation\": \"v\", \"showlegend\": true, \"textposition\": \"auto\", \"type\": \"bar\", \"x\": [\"AL266_647\", \"AL214_647\"], \"xaxis\": \"x\", \"y\": [3.028692879914984, 38.73335145419951], \"yaxis\": \"y\"}, {\"alignmentgroup\": \"True\", \"hovertemplate\": \"region_name=VISa4<br>sample_id=%{x}<br>percentage=%{y}<extra></extra>\", \"legendgroup\": \"VISa4\", \"marker\": {\"color\": \"#FF6692\"}, \"name\": \"VISa4\", \"offsetgroup\": \"VISa4\", \"orientation\": \"v\", \"showlegend\": true, \"textposition\": \"auto\", \"type\": \"bar\", \"x\": [\"AL266_647\", \"AL214_647\"], \"xaxis\": \"x\", \"y\": [0.575628763726532, 0.02718129926610492], \"yaxis\": \"y\"}, {\"alignmentgroup\": \"True\", \"hovertemplate\": \"region_name=VISa5<br>sample_id=%{x}<br>percentage=%{y}<extra></extra>\", \"legendgroup\": \"VISa5\", \"marker\": {\"color\": \"#B6E880\"}, \"name\": \"VISa5\", \"offsetgroup\": \"VISa5\", \"orientation\": \"v\", \"showlegend\": true, \"textposition\": \"auto\", \"type\": \"bar\", \"x\": [\"AL266_647\", \"AL309_647\", \"AL214_647\"], \"xaxis\": \"x\", \"y\": [15.435706695005313, 0.07358351729212656, 0.4077194889915738], \"yaxis\": \"y\"}, {\"alignmentgroup\": \"True\", \"hovertemplate\": \"region_name=VISrl4<br>sample_id=%{x}<br>percentage=%{y}<extra></extra>\", \"legendgroup\": \"VISrl4\", \"marker\": {\"color\": \"#FF97FF\"}, \"name\": \"VISrl4\", \"offsetgroup\": \"VISrl4\", \"orientation\": \"v\", \"showlegend\": true, \"textposition\": \"auto\", \"type\": \"bar\", \"x\": [\"AL266_647\", \"AL309_647\"], \"xaxis\": \"x\", \"y\": [0.23025150549061282, 3.0905077262693155], \"yaxis\": \"y\"}, {\"alignmentgroup\": \"True\", \"hovertemplate\": \"region_name=VISrl5<br>sample_id=%{x}<br>percentage=%{y}<extra></extra>\", \"legendgroup\": \"VISrl5\", \"marker\": {\"color\": \"#FECB52\"}, \"name\": \"VISrl5\", \"offsetgroup\": \"VISrl5\", \"orientation\": \"v\", \"showlegend\": true, \"textposition\": \"auto\", \"type\": \"bar\", \"x\": [\"AL266_647\", \"AL309_647\"], \"xaxis\": \"x\", \"y\": [22.91888062345023, 36.42384105960265], \"yaxis\": \"y\"}, {\"alignmentgroup\": \"True\", \"hovertemplate\": \"region_name=VISrl6a<br>sample_id=%{x}<br>percentage=%{y}<extra></extra>\", \"legendgroup\": \"VISrl6a\", \"marker\": {\"color\": \"#636efa\"}, \"name\": \"VISrl6a\", \"offsetgroup\": \"VISrl6a\", \"orientation\": \"v\", \"showlegend\": true, \"textposition\": \"auto\", \"type\": \"bar\", \"x\": [\"AL266_647\", \"AL309_647\"], \"xaxis\": \"x\", \"y\": [0.07970244420828905, 0.11037527593818984], \"yaxis\": \"y\"}, {\"alignmentgroup\": \"True\", \"hovertemplate\": \"region_name=VISal5<br>sample_id=%{x}<br>percentage=%{y}<extra></extra>\", \"legendgroup\": \"VISal5\", \"marker\": {\"color\": \"#EF553B\"}, \"name\": \"VISal5\", \"offsetgroup\": \"VISal5\", \"orientation\": \"v\", \"showlegend\": true, \"textposition\": \"auto\", \"type\": \"bar\", \"x\": [\"AL289_647\"], \"xaxis\": \"x\", \"y\": [0.03471418653089563], \"yaxis\": \"y\"}, {\"alignmentgroup\": \"True\", \"hovertemplate\": \"region_name=AUDpo6a<br>sample_id=%{x}<br>percentage=%{y}<extra></extra>\", \"legendgroup\": \"AUDpo6a\", \"marker\": {\"color\": \"#00cc96\"}, \"name\": \"AUDpo6a\", \"offsetgroup\": \"AUDpo6a\", \"orientation\": \"v\", \"showlegend\": true, \"textposition\": \"auto\", \"type\": \"bar\", \"x\": [\"AL289_647\"], \"xaxis\": \"x\", \"y\": [0.03471418653089563], \"yaxis\": \"y\"}, {\"alignmentgroup\": \"True\", \"hovertemplate\": \"region_name=AUDpo5<br>sample_id=%{x}<br>percentage=%{y}<extra></extra>\", \"legendgroup\": \"AUDpo5\", \"marker\": {\"color\": \"#ab63fa\"}, \"name\": \"AUDpo5\", \"offsetgroup\": \"AUDpo5\", \"orientation\": \"v\", \"showlegend\": true, \"textposition\": \"auto\", \"type\": \"bar\", \"x\": [\"AL289_647\"], \"xaxis\": \"x\", \"y\": [0.5207127979634344], \"yaxis\": \"y\"}, {\"alignmentgroup\": \"True\", \"hovertemplate\": \"region_name=SSp-tr6a<br>sample_id=%{x}<br>percentage=%{y}<extra></extra>\", \"legendgroup\": \"SSp-tr6a\", \"marker\": {\"color\": \"#FFA15A\"}, \"name\": \"SSp-tr6a\", \"offsetgroup\": \"SSp-tr6a\", \"orientation\": \"v\", \"showlegend\": true, \"textposition\": \"auto\", \"type\": \"bar\", \"x\": [\"AL214_647\"], \"xaxis\": \"x\", \"y\": [4.9741777656972], \"yaxis\": \"y\"}, {\"alignmentgroup\": \"True\", \"hovertemplate\": \"region_name=SSp-ul4<br>sample_id=%{x}<br>percentage=%{y}<extra></extra>\", \"legendgroup\": \"SSp-ul4\", \"marker\": {\"color\": \"#19d3f3\"}, \"name\": \"SSp-ul4\", \"offsetgroup\": \"SSp-ul4\", \"orientation\": \"v\", \"showlegend\": true, \"textposition\": \"auto\", \"type\": \"bar\", \"x\": [\"AL214_647\"], \"xaxis\": \"x\", \"y\": [0.16308779559662953], \"yaxis\": \"y\"}, {\"alignmentgroup\": \"True\", \"hovertemplate\": \"region_name=SSp-ul5<br>sample_id=%{x}<br>percentage=%{y}<extra></extra>\", \"legendgroup\": \"SSp-ul5\", \"marker\": {\"color\": \"#FF6692\"}, \"name\": \"SSp-ul5\", \"offsetgroup\": \"SSp-ul5\", \"orientation\": \"v\", \"showlegend\": true, \"textposition\": \"auto\", \"type\": \"bar\", \"x\": [\"AL214_647\"], \"xaxis\": \"x\", \"y\": [10.519162815982604], \"yaxis\": \"y\"}, {\"alignmentgroup\": \"True\", \"hovertemplate\": \"region_name=SSp-tr2/3<br>sample_id=%{x}<br>percentage=%{y}<extra></extra>\", \"legendgroup\": \"SSp-tr2/3\", \"marker\": {\"color\": \"#B6E880\"}, \"name\": \"SSp-tr2/3\", \"offsetgroup\": \"SSp-tr2/3\", \"orientation\": \"v\", \"showlegend\": true, \"textposition\": \"auto\", \"type\": \"bar\", \"x\": [\"AL214_647\"], \"xaxis\": \"x\", \"y\": [0.1359064963305246], \"yaxis\": \"y\"}, {\"alignmentgroup\": \"True\", \"hovertemplate\": \"region_name=SSp-ul2/3<br>sample_id=%{x}<br>percentage=%{y}<extra></extra>\", \"legendgroup\": \"SSp-ul2/3\", \"marker\": {\"color\": \"#FF97FF\"}, \"name\": \"SSp-ul2/3\", \"offsetgroup\": \"SSp-ul2/3\", \"orientation\": \"v\", \"showlegend\": true, \"textposition\": \"auto\", \"type\": \"bar\", \"x\": [\"AL214_647\"], \"xaxis\": \"x\", \"y\": [0.02718129926610492], \"yaxis\": \"y\"}, {\"alignmentgroup\": \"True\", \"hovertemplate\": \"region_name=SSp-ul6a<br>sample_id=%{x}<br>percentage=%{y}<extra></extra>\", \"legendgroup\": \"SSp-ul6a\", \"marker\": {\"color\": \"#FECB52\"}, \"name\": \"SSp-ul6a\", \"offsetgroup\": \"SSp-ul6a\", \"orientation\": \"v\", \"showlegend\": true, \"textposition\": \"auto\", \"type\": \"bar\", \"x\": [\"AL214_647\"], \"xaxis\": \"x\", \"y\": [1.9298722478934494], \"yaxis\": \"y\"}, {\"alignmentgroup\": \"True\", \"hovertemplate\": \"region_name=SSp-tr4<br>sample_id=%{x}<br>percentage=%{y}<extra></extra>\", \"legendgroup\": \"SSp-tr4\", \"marker\": {\"color\": \"#636efa\"}, \"name\": \"SSp-tr4\", \"offsetgroup\": \"SSp-tr4\", \"orientation\": \"v\", \"showlegend\": true, \"textposition\": \"auto\", \"type\": \"bar\", \"x\": [\"AL214_647\"], \"xaxis\": \"x\", \"y\": [0.679532481652623], \"yaxis\": \"y\"}, {\"alignmentgroup\": \"True\", \"hovertemplate\": \"region_name=SSp-un2/3<br>sample_id=%{x}<br>percentage=%{y}<extra></extra>\", \"legendgroup\": \"SSp-un2/3\", \"marker\": {\"color\": \"#EF553B\"}, \"name\": \"SSp-un2/3\", \"offsetgroup\": \"SSp-un2/3\", \"orientation\": \"v\", \"showlegend\": true, \"textposition\": \"auto\", \"type\": \"bar\", \"x\": [\"AL214_647\"], \"xaxis\": \"x\", \"y\": [0.21745039412883935], \"yaxis\": \"y\"}, {\"alignmentgroup\": \"True\", \"hovertemplate\": \"region_name=SSp-un4<br>sample_id=%{x}<br>percentage=%{y}<extra></extra>\", \"legendgroup\": \"SSp-un4\", \"marker\": {\"color\": \"#00cc96\"}, \"name\": \"SSp-un4\", \"offsetgroup\": \"SSp-un4\", \"orientation\": \"v\", \"showlegend\": true, \"textposition\": \"auto\", \"type\": \"bar\", \"x\": [\"AL214_647\"], \"xaxis\": \"x\", \"y\": [0.7882576787170427], \"yaxis\": \"y\"}, {\"alignmentgroup\": \"True\", \"hovertemplate\": \"region_name=SSp-un5<br>sample_id=%{x}<br>percentage=%{y}<extra></extra>\", \"legendgroup\": \"SSp-un5\", \"marker\": {\"color\": \"#ab63fa\"}, \"name\": \"SSp-un5\", \"offsetgroup\": \"SSp-un5\", \"orientation\": \"v\", \"showlegend\": true, \"textposition\": \"auto\", \"type\": \"bar\", \"x\": [\"AL214_647\"], \"xaxis\": \"x\", \"y\": [17.1242185376461], \"yaxis\": \"y\"}, {\"alignmentgroup\": \"True\", \"hovertemplate\": \"region_name=SSp-un6a<br>sample_id=%{x}<br>percentage=%{y}<extra></extra>\", \"legendgroup\": \"SSp-un6a\", \"marker\": {\"color\": \"#FFA15A\"}, \"name\": \"SSp-un6a\", \"offsetgroup\": \"SSp-un6a\", \"orientation\": \"v\", \"showlegend\": true, \"textposition\": \"auto\", \"type\": \"bar\", \"x\": [\"AL214_647\"], \"xaxis\": \"x\", \"y\": [4.702364773036151], \"yaxis\": \"y\"}],                        {\"barmode\": \"relative\", \"legend\": {\"title\": {\"text\": \"region_name\"}, \"tracegroupgap\": 0}, \"margin\": {\"t\": 60}, \"template\": {\"data\": {\"bar\": [{\"error_x\": {\"color\": \"#2a3f5f\"}, \"error_y\": {\"color\": \"#2a3f5f\"}, \"marker\": {\"line\": {\"color\": \"#E5ECF6\", \"width\": 0.5}}, \"type\": \"bar\"}], \"barpolar\": [{\"marker\": {\"line\": {\"color\": \"#E5ECF6\", \"width\": 0.5}}, \"type\": \"barpolar\"}], \"carpet\": [{\"aaxis\": {\"endlinecolor\": \"#2a3f5f\", \"gridcolor\": \"white\", \"linecolor\": \"white\", \"minorgridcolor\": \"white\", \"startlinecolor\": \"#2a3f5f\"}, \"baxis\": {\"endlinecolor\": \"#2a3f5f\", \"gridcolor\": \"white\", \"linecolor\": \"white\", \"minorgridcolor\": \"white\", \"startlinecolor\": \"#2a3f5f\"}, \"type\": \"carpet\"}], \"choropleth\": [{\"colorbar\": {\"outlinewidth\": 0, \"ticks\": \"\"}, \"type\": \"choropleth\"}], \"contour\": [{\"colorbar\": {\"outlinewidth\": 0, \"ticks\": \"\"}, \"colorscale\": [[0.0, \"#0d0887\"], [0.1111111111111111, \"#46039f\"], [0.2222222222222222, \"#7201a8\"], [0.3333333333333333, \"#9c179e\"], [0.4444444444444444, \"#bd3786\"], [0.5555555555555556, \"#d8576b\"], [0.6666666666666666, \"#ed7953\"], [0.7777777777777778, \"#fb9f3a\"], [0.8888888888888888, \"#fdca26\"], [1.0, \"#f0f921\"]], \"type\": \"contour\"}], \"contourcarpet\": [{\"colorbar\": {\"outlinewidth\": 0, \"ticks\": \"\"}, \"type\": \"contourcarpet\"}], \"heatmap\": [{\"colorbar\": {\"outlinewidth\": 0, \"ticks\": \"\"}, \"colorscale\": [[0.0, \"#0d0887\"], [0.1111111111111111, \"#46039f\"], [0.2222222222222222, \"#7201a8\"], [0.3333333333333333, \"#9c179e\"], [0.4444444444444444, \"#bd3786\"], [0.5555555555555556, \"#d8576b\"], [0.6666666666666666, \"#ed7953\"], [0.7777777777777778, \"#fb9f3a\"], [0.8888888888888888, \"#fdca26\"], [1.0, \"#f0f921\"]], \"type\": \"heatmap\"}], \"heatmapgl\": [{\"colorbar\": {\"outlinewidth\": 0, \"ticks\": \"\"}, \"colorscale\": [[0.0, \"#0d0887\"], [0.1111111111111111, \"#46039f\"], [0.2222222222222222, \"#7201a8\"], [0.3333333333333333, \"#9c179e\"], [0.4444444444444444, \"#bd3786\"], [0.5555555555555556, \"#d8576b\"], [0.6666666666666666, \"#ed7953\"], [0.7777777777777778, \"#fb9f3a\"], [0.8888888888888888, \"#fdca26\"], [1.0, \"#f0f921\"]], \"type\": \"heatmapgl\"}], \"histogram\": [{\"marker\": {\"colorbar\": {\"outlinewidth\": 0, \"ticks\": \"\"}}, \"type\": \"histogram\"}], \"histogram2d\": [{\"colorbar\": {\"outlinewidth\": 0, \"ticks\": \"\"}, \"colorscale\": [[0.0, \"#0d0887\"], [0.1111111111111111, \"#46039f\"], [0.2222222222222222, \"#7201a8\"], [0.3333333333333333, \"#9c179e\"], [0.4444444444444444, \"#bd3786\"], [0.5555555555555556, \"#d8576b\"], [0.6666666666666666, \"#ed7953\"], [0.7777777777777778, \"#fb9f3a\"], [0.8888888888888888, \"#fdca26\"], [1.0, \"#f0f921\"]], \"type\": \"histogram2d\"}], \"histogram2dcontour\": [{\"colorbar\": {\"outlinewidth\": 0, \"ticks\": \"\"}, \"colorscale\": [[0.0, \"#0d0887\"], [0.1111111111111111, \"#46039f\"], [0.2222222222222222, \"#7201a8\"], [0.3333333333333333, \"#9c179e\"], [0.4444444444444444, \"#bd3786\"], [0.5555555555555556, \"#d8576b\"], [0.6666666666666666, \"#ed7953\"], [0.7777777777777778, \"#fb9f3a\"], [0.8888888888888888, \"#fdca26\"], [1.0, \"#f0f921\"]], \"type\": \"histogram2dcontour\"}], \"mesh3d\": [{\"colorbar\": {\"outlinewidth\": 0, \"ticks\": \"\"}, \"type\": \"mesh3d\"}], \"parcoords\": [{\"line\": {\"colorbar\": {\"outlinewidth\": 0, \"ticks\": \"\"}}, \"type\": \"parcoords\"}], \"pie\": [{\"automargin\": true, \"type\": \"pie\"}], \"scatter\": [{\"marker\": {\"colorbar\": {\"outlinewidth\": 0, \"ticks\": \"\"}}, \"type\": \"scatter\"}], \"scatter3d\": [{\"line\": {\"colorbar\": {\"outlinewidth\": 0, \"ticks\": \"\"}}, \"marker\": {\"colorbar\": {\"outlinewidth\": 0, \"ticks\": \"\"}}, \"type\": \"scatter3d\"}], \"scattercarpet\": [{\"marker\": {\"colorbar\": {\"outlinewidth\": 0, \"ticks\": \"\"}}, \"type\": \"scattercarpet\"}], \"scattergeo\": [{\"marker\": {\"colorbar\": {\"outlinewidth\": 0, \"ticks\": \"\"}}, \"type\": \"scattergeo\"}], \"scattergl\": [{\"marker\": {\"colorbar\": {\"outlinewidth\": 0, \"ticks\": \"\"}}, \"type\": \"scattergl\"}], \"scattermapbox\": [{\"marker\": {\"colorbar\": {\"outlinewidth\": 0, \"ticks\": \"\"}}, \"type\": \"scattermapbox\"}], \"scatterpolar\": [{\"marker\": {\"colorbar\": {\"outlinewidth\": 0, \"ticks\": \"\"}}, \"type\": \"scatterpolar\"}], \"scatterpolargl\": [{\"marker\": {\"colorbar\": {\"outlinewidth\": 0, \"ticks\": \"\"}}, \"type\": \"scatterpolargl\"}], \"scatterternary\": [{\"marker\": {\"colorbar\": {\"outlinewidth\": 0, \"ticks\": \"\"}}, \"type\": \"scatterternary\"}], \"surface\": [{\"colorbar\": {\"outlinewidth\": 0, \"ticks\": \"\"}, \"colorscale\": [[0.0, \"#0d0887\"], [0.1111111111111111, \"#46039f\"], [0.2222222222222222, \"#7201a8\"], [0.3333333333333333, \"#9c179e\"], [0.4444444444444444, \"#bd3786\"], [0.5555555555555556, \"#d8576b\"], [0.6666666666666666, \"#ed7953\"], [0.7777777777777778, \"#fb9f3a\"], [0.8888888888888888, \"#fdca26\"], [1.0, \"#f0f921\"]], \"type\": \"surface\"}], \"table\": [{\"cells\": {\"fill\": {\"color\": \"#EBF0F8\"}, \"line\": {\"color\": \"white\"}}, \"header\": {\"fill\": {\"color\": \"#C8D4E3\"}, \"line\": {\"color\": \"white\"}}, \"type\": \"table\"}]}, \"layout\": {\"annotationdefaults\": {\"arrowcolor\": \"#2a3f5f\", \"arrowhead\": 0, \"arrowwidth\": 1}, \"autotypenumbers\": \"strict\", \"coloraxis\": {\"colorbar\": {\"outlinewidth\": 0, \"ticks\": \"\"}}, \"colorscale\": {\"diverging\": [[0, \"#8e0152\"], [0.1, \"#c51b7d\"], [0.2, \"#de77ae\"], [0.3, \"#f1b6da\"], [0.4, \"#fde0ef\"], [0.5, \"#f7f7f7\"], [0.6, \"#e6f5d0\"], [0.7, \"#b8e186\"], [0.8, \"#7fbc41\"], [0.9, \"#4d9221\"], [1, \"#276419\"]], \"sequential\": [[0.0, \"#0d0887\"], [0.1111111111111111, \"#46039f\"], [0.2222222222222222, \"#7201a8\"], [0.3333333333333333, \"#9c179e\"], [0.4444444444444444, \"#bd3786\"], [0.5555555555555556, \"#d8576b\"], [0.6666666666666666, \"#ed7953\"], [0.7777777777777778, \"#fb9f3a\"], [0.8888888888888888, \"#fdca26\"], [1.0, \"#f0f921\"]], \"sequentialminus\": [[0.0, \"#0d0887\"], [0.1111111111111111, \"#46039f\"], [0.2222222222222222, \"#7201a8\"], [0.3333333333333333, \"#9c179e\"], [0.4444444444444444, \"#bd3786\"], [0.5555555555555556, \"#d8576b\"], [0.6666666666666666, \"#ed7953\"], [0.7777777777777778, \"#fb9f3a\"], [0.8888888888888888, \"#fdca26\"], [1.0, \"#f0f921\"]]}, \"colorway\": [\"#636efa\", \"#EF553B\", \"#00cc96\", \"#ab63fa\", \"#FFA15A\", \"#19d3f3\", \"#FF6692\", \"#B6E880\", \"#FF97FF\", \"#FECB52\"], \"font\": {\"color\": \"#2a3f5f\"}, \"geo\": {\"bgcolor\": \"white\", \"lakecolor\": \"white\", \"landcolor\": \"#E5ECF6\", \"showlakes\": true, \"showland\": true, \"subunitcolor\": \"white\"}, \"hoverlabel\": {\"align\": \"left\"}, \"hovermode\": \"closest\", \"mapbox\": {\"style\": \"light\"}, \"paper_bgcolor\": \"white\", \"plot_bgcolor\": \"#E5ECF6\", \"polar\": {\"angularaxis\": {\"gridcolor\": \"white\", \"linecolor\": \"white\", \"ticks\": \"\"}, \"bgcolor\": \"#E5ECF6\", \"radialaxis\": {\"gridcolor\": \"white\", \"linecolor\": \"white\", \"ticks\": \"\"}}, \"scene\": {\"xaxis\": {\"backgroundcolor\": \"#E5ECF6\", \"gridcolor\": \"white\", \"gridwidth\": 2, \"linecolor\": \"white\", \"showbackground\": true, \"ticks\": \"\", \"zerolinecolor\": \"white\"}, \"yaxis\": {\"backgroundcolor\": \"#E5ECF6\", \"gridcolor\": \"white\", \"gridwidth\": 2, \"linecolor\": \"white\", \"showbackground\": true, \"ticks\": \"\", \"zerolinecolor\": \"white\"}, \"zaxis\": {\"backgroundcolor\": \"#E5ECF6\", \"gridcolor\": \"white\", \"gridwidth\": 2, \"linecolor\": \"white\", \"showbackground\": true, \"ticks\": \"\", \"zerolinecolor\": \"white\"}}, \"shapedefaults\": {\"line\": {\"color\": \"#2a3f5f\"}}, \"ternary\": {\"aaxis\": {\"gridcolor\": \"white\", \"linecolor\": \"white\", \"ticks\": \"\"}, \"baxis\": {\"gridcolor\": \"white\", \"linecolor\": \"white\", \"ticks\": \"\"}, \"bgcolor\": \"#E5ECF6\", \"caxis\": {\"gridcolor\": \"white\", \"linecolor\": \"white\", \"ticks\": \"\"}}, \"title\": {\"x\": 0.05}, \"xaxis\": {\"automargin\": true, \"gridcolor\": \"white\", \"linecolor\": \"white\", \"ticks\": \"\", \"title\": {\"standoff\": 15}, \"zerolinecolor\": \"white\", \"zerolinewidth\": 2}, \"yaxis\": {\"automargin\": true, \"gridcolor\": \"white\", \"linecolor\": \"white\", \"ticks\": \"\", \"title\": {\"standoff\": 15}, \"zerolinecolor\": \"white\", \"zerolinewidth\": 2}}}, \"xaxis\": {\"anchor\": \"y\", \"domain\": [0.0, 1.0], \"title\": {\"text\": \"sample_id\"}}, \"yaxis\": {\"anchor\": \"x\", \"domain\": [0.0, 1.0], \"title\": {\"text\": \"percentage\"}}},                        {\"responsive\": true}                    ).then(function(){\n",
       "                            \n",
       "var gd = document.getElementById('8ccf8663-8034-4c20-82a4-7bacfd5b4995');\n",
       "var x = new MutationObserver(function (mutations, observer) {{\n",
       "        var display = window.getComputedStyle(gd).display;\n",
       "        if (!display || display === 'none') {{\n",
       "            console.log([gd, 'removed!']);\n",
       "            Plotly.purge(gd);\n",
       "            observer.disconnect();\n",
       "        }}\n",
       "}});\n",
       "\n",
       "// Listen for the removal of the full notebook cells\n",
       "var notebookContainer = gd.closest('#notebook-container');\n",
       "if (notebookContainer) {{\n",
       "    x.observe(notebookContainer, {childList: true});\n",
       "}}\n",
       "\n",
       "// Listen for the clearing of the current output cell\n",
       "var outputEl = gd.closest('.output');\n",
       "if (outputEl) {{\n",
       "    x.observe(outputEl, {childList: true});\n",
       "}}\n",
       "\n",
       "                        })                };                });            </script>        </div>"
      ]
     },
     "metadata": {},
     "output_type": "display_data"
    },
    {
     "name": "stdout",
     "output_type": "stream",
     "text": [
      "this genotype is Scnn1aCre\n"
     ]
    },
    {
     "data": {
      "application/vnd.plotly.v1+json": {
       "config": {
        "plotlyServerURL": "https://plot.ly"
       },
       "data": [
        {
         "alignmentgroup": "True",
         "hovertemplate": "region_name=AUDd5<br>sample_id=%{x}<br>percentage=%{y}<extra></extra>",
         "legendgroup": "AUDd5",
         "marker": {
          "color": "#636efa"
         },
         "name": "AUDd5",
         "offsetgroup": "AUDd5",
         "orientation": "v",
         "showlegend": true,
         "textposition": "auto",
         "type": "bar",
         "x": [
          "AL293_561",
          "AL323_647",
          "AL324_647"
         ],
         "xaxis": "x",
         "y": [
          5.693581780538302,
          0.9926854754440961,
          0.09115770282588878
         ],
         "yaxis": "y"
        },
        {
         "alignmentgroup": "True",
         "hovertemplate": "region_name=AUDd2/3<br>sample_id=%{x}<br>percentage=%{y}<extra></extra>",
         "legendgroup": "AUDd2/3",
         "marker": {
          "color": "#EF553B"
         },
         "name": "AUDd2/3",
         "offsetgroup": "AUDd2/3",
         "orientation": "v",
         "showlegend": true,
         "textposition": "auto",
         "type": "bar",
         "x": [
          "AL293_561",
          "AL323_647",
          "AL324_647"
         ],
         "xaxis": "x",
         "y": [
          4.244306418219462,
          4.493207941483804,
          21.194165907019144
         ],
         "yaxis": "y"
        },
        {
         "alignmentgroup": "True",
         "hovertemplate": "region_name=AUDd4<br>sample_id=%{x}<br>percentage=%{y}<extra></extra>",
         "legendgroup": "AUDd4",
         "marker": {
          "color": "#00cc96"
         },
         "name": "AUDd4",
         "offsetgroup": "AUDd4",
         "orientation": "v",
         "showlegend": true,
         "textposition": "auto",
         "type": "bar",
         "x": [
          "AL293_561",
          "AL292_647",
          "AL323_647",
          "AL324_647"
         ],
         "xaxis": "x",
         "y": [
          63.56107660455486,
          0.04384042086804033,
          12.225705329153605,
          24.612579762989974
         ],
         "yaxis": "y"
        },
        {
         "alignmentgroup": "True",
         "hovertemplate": "region_name=SSs2/3<br>sample_id=%{x}<br>percentage=%{y}<extra></extra>",
         "legendgroup": "SSs2/3",
         "marker": {
          "color": "#ab63fa"
         },
         "name": "SSs2/3",
         "offsetgroup": "SSs2/3",
         "orientation": "v",
         "showlegend": true,
         "textposition": "auto",
         "type": "bar",
         "x": [
          "AL293_561",
          "AL290_561",
          "AL323_647",
          "AL324_647",
          "AL291_647"
         ],
         "xaxis": "x",
         "y": [
          0.7246376811594203,
          10.601427115188583,
          3.8140020898641587,
          5.4238833181403825,
          1.1485826001955035
         ],
         "yaxis": "y"
        },
        {
         "alignmentgroup": "True",
         "hovertemplate": "region_name=SSs4<br>sample_id=%{x}<br>percentage=%{y}<extra></extra>",
         "legendgroup": "SSs4",
         "marker": {
          "color": "#FFA15A"
         },
         "name": "SSs4",
         "offsetgroup": "SSs4",
         "orientation": "v",
         "showlegend": true,
         "textposition": "auto",
         "type": "bar",
         "x": [
          "AL293_561",
          "AL290_561",
          "AL292_647",
          "AL323_647",
          "AL324_647",
          "AL291_647"
         ],
         "xaxis": "x",
         "y": [
          25.05175983436853,
          81.24362895005096,
          64.18237615081105,
          63.113897596656216,
          47.99453053783045,
          16.44672531769306
         ],
         "yaxis": "y"
        },
        {
         "alignmentgroup": "True",
         "hovertemplate": "region_name=SSs5<br>sample_id=%{x}<br>percentage=%{y}<extra></extra>",
         "legendgroup": "SSs5",
         "marker": {
          "color": "#19d3f3"
         },
         "name": "SSs5",
         "offsetgroup": "SSs5",
         "orientation": "v",
         "showlegend": true,
         "textposition": "auto",
         "type": "bar",
         "x": [
          "AL293_561",
          "AL290_561",
          "AL292_647",
          "AL323_647",
          "AL324_647",
          "AL291_647"
         ],
         "xaxis": "x",
         "y": [
          0.7246376811594203,
          5.708460754332314,
          35.02849627356423,
          15.360501567398119,
          0.6836827711941659,
          7.9178885630498534
         ],
         "yaxis": "y"
        },
        {
         "alignmentgroup": "True",
         "hovertemplate": "region_name=SSp-bfd2/3<br>sample_id=%{x}<br>percentage=%{y}<extra></extra>",
         "legendgroup": "SSp-bfd2/3",
         "marker": {
          "color": "#FF6692"
         },
         "name": "SSp-bfd2/3",
         "offsetgroup": "SSp-bfd2/3",
         "orientation": "v",
         "showlegend": true,
         "textposition": "auto",
         "type": "bar",
         "x": [
          "AL290_561",
          "AL290_647",
          "AL291_561",
          "AL291_647",
          "AL292_561",
          "AL293_647"
         ],
         "xaxis": "x",
         "y": [
          0.509683995922528,
          6.975822433610781,
          1.2211077191452246,
          4.349951124144672,
          0.3113648157758173,
          2.668539325842697
         ],
         "yaxis": "y"
        },
        {
         "alignmentgroup": "True",
         "hovertemplate": "region_name=SSp-bfd4<br>sample_id=%{x}<br>percentage=%{y}<extra></extra>",
         "legendgroup": "SSp-bfd4",
         "marker": {
          "color": "#B6E880"
         },
         "name": "SSp-bfd4",
         "offsetgroup": "SSp-bfd4",
         "orientation": "v",
         "showlegend": true,
         "textposition": "auto",
         "type": "bar",
         "x": [
          "AL290_561",
          "AL292_647",
          "AL290_647",
          "AL291_561",
          "AL291_647",
          "AL292_561",
          "AL293_647"
         ],
         "xaxis": "x",
         "y": [
          1.9367991845056065,
          0.7452871547566856,
          77.64565992865636,
          64.80593109463585,
          54.27663734115347,
          65.74987026466009,
          77.45786516853933
         ],
         "yaxis": "y"
        },
        {
         "alignmentgroup": "True",
         "hovertemplate": "region_name=SSp-bfd5<br>sample_id=%{x}<br>percentage=%{y}<extra></extra>",
         "legendgroup": "SSp-bfd5",
         "marker": {
          "color": "#FF97FF"
         },
         "name": "SSp-bfd5",
         "offsetgroup": "SSp-bfd5",
         "orientation": "v",
         "showlegend": true,
         "textposition": "auto",
         "type": "bar",
         "x": [
          "AL290_647",
          "AL291_561",
          "AL291_647",
          "AL292_561",
          "AL293_647"
         ],
         "xaxis": "x",
         "y": [
          15.378517637732857,
          31.79241168774531,
          15.86021505376344,
          31.914893617021278,
          19.873595505617978
         ],
         "yaxis": "y"
        },
        {
         "alignmentgroup": "True",
         "hovertemplate": "region_name=SSp-bfd6a<br>sample_id=%{x}<br>percentage=%{y}<extra></extra>",
         "legendgroup": "SSp-bfd6a",
         "marker": {
          "color": "#FECB52"
         },
         "name": "SSp-bfd6a",
         "offsetgroup": "SSp-bfd6a",
         "orientation": "v",
         "showlegend": true,
         "textposition": "auto",
         "type": "bar",
         "x": [
          "AL291_561",
          "AL292_561"
         ],
         "xaxis": "x",
         "y": [
          2.1805494984736153,
          2.0238713025428128
         ],
         "yaxis": "y"
        }
       ],
       "layout": {
        "barmode": "relative",
        "legend": {
         "title": {
          "text": "region_name"
         },
         "tracegroupgap": 0
        },
        "margin": {
         "t": 60
        },
        "template": {
         "data": {
          "bar": [
           {
            "error_x": {
             "color": "#2a3f5f"
            },
            "error_y": {
             "color": "#2a3f5f"
            },
            "marker": {
             "line": {
              "color": "#E5ECF6",
              "width": 0.5
             }
            },
            "type": "bar"
           }
          ],
          "barpolar": [
           {
            "marker": {
             "line": {
              "color": "#E5ECF6",
              "width": 0.5
             }
            },
            "type": "barpolar"
           }
          ],
          "carpet": [
           {
            "aaxis": {
             "endlinecolor": "#2a3f5f",
             "gridcolor": "white",
             "linecolor": "white",
             "minorgridcolor": "white",
             "startlinecolor": "#2a3f5f"
            },
            "baxis": {
             "endlinecolor": "#2a3f5f",
             "gridcolor": "white",
             "linecolor": "white",
             "minorgridcolor": "white",
             "startlinecolor": "#2a3f5f"
            },
            "type": "carpet"
           }
          ],
          "choropleth": [
           {
            "colorbar": {
             "outlinewidth": 0,
             "ticks": ""
            },
            "type": "choropleth"
           }
          ],
          "contour": [
           {
            "colorbar": {
             "outlinewidth": 0,
             "ticks": ""
            },
            "colorscale": [
             [
              0,
              "#0d0887"
             ],
             [
              0.1111111111111111,
              "#46039f"
             ],
             [
              0.2222222222222222,
              "#7201a8"
             ],
             [
              0.3333333333333333,
              "#9c179e"
             ],
             [
              0.4444444444444444,
              "#bd3786"
             ],
             [
              0.5555555555555556,
              "#d8576b"
             ],
             [
              0.6666666666666666,
              "#ed7953"
             ],
             [
              0.7777777777777778,
              "#fb9f3a"
             ],
             [
              0.8888888888888888,
              "#fdca26"
             ],
             [
              1,
              "#f0f921"
             ]
            ],
            "type": "contour"
           }
          ],
          "contourcarpet": [
           {
            "colorbar": {
             "outlinewidth": 0,
             "ticks": ""
            },
            "type": "contourcarpet"
           }
          ],
          "heatmap": [
           {
            "colorbar": {
             "outlinewidth": 0,
             "ticks": ""
            },
            "colorscale": [
             [
              0,
              "#0d0887"
             ],
             [
              0.1111111111111111,
              "#46039f"
             ],
             [
              0.2222222222222222,
              "#7201a8"
             ],
             [
              0.3333333333333333,
              "#9c179e"
             ],
             [
              0.4444444444444444,
              "#bd3786"
             ],
             [
              0.5555555555555556,
              "#d8576b"
             ],
             [
              0.6666666666666666,
              "#ed7953"
             ],
             [
              0.7777777777777778,
              "#fb9f3a"
             ],
             [
              0.8888888888888888,
              "#fdca26"
             ],
             [
              1,
              "#f0f921"
             ]
            ],
            "type": "heatmap"
           }
          ],
          "heatmapgl": [
           {
            "colorbar": {
             "outlinewidth": 0,
             "ticks": ""
            },
            "colorscale": [
             [
              0,
              "#0d0887"
             ],
             [
              0.1111111111111111,
              "#46039f"
             ],
             [
              0.2222222222222222,
              "#7201a8"
             ],
             [
              0.3333333333333333,
              "#9c179e"
             ],
             [
              0.4444444444444444,
              "#bd3786"
             ],
             [
              0.5555555555555556,
              "#d8576b"
             ],
             [
              0.6666666666666666,
              "#ed7953"
             ],
             [
              0.7777777777777778,
              "#fb9f3a"
             ],
             [
              0.8888888888888888,
              "#fdca26"
             ],
             [
              1,
              "#f0f921"
             ]
            ],
            "type": "heatmapgl"
           }
          ],
          "histogram": [
           {
            "marker": {
             "colorbar": {
              "outlinewidth": 0,
              "ticks": ""
             }
            },
            "type": "histogram"
           }
          ],
          "histogram2d": [
           {
            "colorbar": {
             "outlinewidth": 0,
             "ticks": ""
            },
            "colorscale": [
             [
              0,
              "#0d0887"
             ],
             [
              0.1111111111111111,
              "#46039f"
             ],
             [
              0.2222222222222222,
              "#7201a8"
             ],
             [
              0.3333333333333333,
              "#9c179e"
             ],
             [
              0.4444444444444444,
              "#bd3786"
             ],
             [
              0.5555555555555556,
              "#d8576b"
             ],
             [
              0.6666666666666666,
              "#ed7953"
             ],
             [
              0.7777777777777778,
              "#fb9f3a"
             ],
             [
              0.8888888888888888,
              "#fdca26"
             ],
             [
              1,
              "#f0f921"
             ]
            ],
            "type": "histogram2d"
           }
          ],
          "histogram2dcontour": [
           {
            "colorbar": {
             "outlinewidth": 0,
             "ticks": ""
            },
            "colorscale": [
             [
              0,
              "#0d0887"
             ],
             [
              0.1111111111111111,
              "#46039f"
             ],
             [
              0.2222222222222222,
              "#7201a8"
             ],
             [
              0.3333333333333333,
              "#9c179e"
             ],
             [
              0.4444444444444444,
              "#bd3786"
             ],
             [
              0.5555555555555556,
              "#d8576b"
             ],
             [
              0.6666666666666666,
              "#ed7953"
             ],
             [
              0.7777777777777778,
              "#fb9f3a"
             ],
             [
              0.8888888888888888,
              "#fdca26"
             ],
             [
              1,
              "#f0f921"
             ]
            ],
            "type": "histogram2dcontour"
           }
          ],
          "mesh3d": [
           {
            "colorbar": {
             "outlinewidth": 0,
             "ticks": ""
            },
            "type": "mesh3d"
           }
          ],
          "parcoords": [
           {
            "line": {
             "colorbar": {
              "outlinewidth": 0,
              "ticks": ""
             }
            },
            "type": "parcoords"
           }
          ],
          "pie": [
           {
            "automargin": true,
            "type": "pie"
           }
          ],
          "scatter": [
           {
            "marker": {
             "colorbar": {
              "outlinewidth": 0,
              "ticks": ""
             }
            },
            "type": "scatter"
           }
          ],
          "scatter3d": [
           {
            "line": {
             "colorbar": {
              "outlinewidth": 0,
              "ticks": ""
             }
            },
            "marker": {
             "colorbar": {
              "outlinewidth": 0,
              "ticks": ""
             }
            },
            "type": "scatter3d"
           }
          ],
          "scattercarpet": [
           {
            "marker": {
             "colorbar": {
              "outlinewidth": 0,
              "ticks": ""
             }
            },
            "type": "scattercarpet"
           }
          ],
          "scattergeo": [
           {
            "marker": {
             "colorbar": {
              "outlinewidth": 0,
              "ticks": ""
             }
            },
            "type": "scattergeo"
           }
          ],
          "scattergl": [
           {
            "marker": {
             "colorbar": {
              "outlinewidth": 0,
              "ticks": ""
             }
            },
            "type": "scattergl"
           }
          ],
          "scattermapbox": [
           {
            "marker": {
             "colorbar": {
              "outlinewidth": 0,
              "ticks": ""
             }
            },
            "type": "scattermapbox"
           }
          ],
          "scatterpolar": [
           {
            "marker": {
             "colorbar": {
              "outlinewidth": 0,
              "ticks": ""
             }
            },
            "type": "scatterpolar"
           }
          ],
          "scatterpolargl": [
           {
            "marker": {
             "colorbar": {
              "outlinewidth": 0,
              "ticks": ""
             }
            },
            "type": "scatterpolargl"
           }
          ],
          "scatterternary": [
           {
            "marker": {
             "colorbar": {
              "outlinewidth": 0,
              "ticks": ""
             }
            },
            "type": "scatterternary"
           }
          ],
          "surface": [
           {
            "colorbar": {
             "outlinewidth": 0,
             "ticks": ""
            },
            "colorscale": [
             [
              0,
              "#0d0887"
             ],
             [
              0.1111111111111111,
              "#46039f"
             ],
             [
              0.2222222222222222,
              "#7201a8"
             ],
             [
              0.3333333333333333,
              "#9c179e"
             ],
             [
              0.4444444444444444,
              "#bd3786"
             ],
             [
              0.5555555555555556,
              "#d8576b"
             ],
             [
              0.6666666666666666,
              "#ed7953"
             ],
             [
              0.7777777777777778,
              "#fb9f3a"
             ],
             [
              0.8888888888888888,
              "#fdca26"
             ],
             [
              1,
              "#f0f921"
             ]
            ],
            "type": "surface"
           }
          ],
          "table": [
           {
            "cells": {
             "fill": {
              "color": "#EBF0F8"
             },
             "line": {
              "color": "white"
             }
            },
            "header": {
             "fill": {
              "color": "#C8D4E3"
             },
             "line": {
              "color": "white"
             }
            },
            "type": "table"
           }
          ]
         },
         "layout": {
          "annotationdefaults": {
           "arrowcolor": "#2a3f5f",
           "arrowhead": 0,
           "arrowwidth": 1
          },
          "autotypenumbers": "strict",
          "coloraxis": {
           "colorbar": {
            "outlinewidth": 0,
            "ticks": ""
           }
          },
          "colorscale": {
           "diverging": [
            [
             0,
             "#8e0152"
            ],
            [
             0.1,
             "#c51b7d"
            ],
            [
             0.2,
             "#de77ae"
            ],
            [
             0.3,
             "#f1b6da"
            ],
            [
             0.4,
             "#fde0ef"
            ],
            [
             0.5,
             "#f7f7f7"
            ],
            [
             0.6,
             "#e6f5d0"
            ],
            [
             0.7,
             "#b8e186"
            ],
            [
             0.8,
             "#7fbc41"
            ],
            [
             0.9,
             "#4d9221"
            ],
            [
             1,
             "#276419"
            ]
           ],
           "sequential": [
            [
             0,
             "#0d0887"
            ],
            [
             0.1111111111111111,
             "#46039f"
            ],
            [
             0.2222222222222222,
             "#7201a8"
            ],
            [
             0.3333333333333333,
             "#9c179e"
            ],
            [
             0.4444444444444444,
             "#bd3786"
            ],
            [
             0.5555555555555556,
             "#d8576b"
            ],
            [
             0.6666666666666666,
             "#ed7953"
            ],
            [
             0.7777777777777778,
             "#fb9f3a"
            ],
            [
             0.8888888888888888,
             "#fdca26"
            ],
            [
             1,
             "#f0f921"
            ]
           ],
           "sequentialminus": [
            [
             0,
             "#0d0887"
            ],
            [
             0.1111111111111111,
             "#46039f"
            ],
            [
             0.2222222222222222,
             "#7201a8"
            ],
            [
             0.3333333333333333,
             "#9c179e"
            ],
            [
             0.4444444444444444,
             "#bd3786"
            ],
            [
             0.5555555555555556,
             "#d8576b"
            ],
            [
             0.6666666666666666,
             "#ed7953"
            ],
            [
             0.7777777777777778,
             "#fb9f3a"
            ],
            [
             0.8888888888888888,
             "#fdca26"
            ],
            [
             1,
             "#f0f921"
            ]
           ]
          },
          "colorway": [
           "#636efa",
           "#EF553B",
           "#00cc96",
           "#ab63fa",
           "#FFA15A",
           "#19d3f3",
           "#FF6692",
           "#B6E880",
           "#FF97FF",
           "#FECB52"
          ],
          "font": {
           "color": "#2a3f5f"
          },
          "geo": {
           "bgcolor": "white",
           "lakecolor": "white",
           "landcolor": "#E5ECF6",
           "showlakes": true,
           "showland": true,
           "subunitcolor": "white"
          },
          "hoverlabel": {
           "align": "left"
          },
          "hovermode": "closest",
          "mapbox": {
           "style": "light"
          },
          "paper_bgcolor": "white",
          "plot_bgcolor": "#E5ECF6",
          "polar": {
           "angularaxis": {
            "gridcolor": "white",
            "linecolor": "white",
            "ticks": ""
           },
           "bgcolor": "#E5ECF6",
           "radialaxis": {
            "gridcolor": "white",
            "linecolor": "white",
            "ticks": ""
           }
          },
          "scene": {
           "xaxis": {
            "backgroundcolor": "#E5ECF6",
            "gridcolor": "white",
            "gridwidth": 2,
            "linecolor": "white",
            "showbackground": true,
            "ticks": "",
            "zerolinecolor": "white"
           },
           "yaxis": {
            "backgroundcolor": "#E5ECF6",
            "gridcolor": "white",
            "gridwidth": 2,
            "linecolor": "white",
            "showbackground": true,
            "ticks": "",
            "zerolinecolor": "white"
           },
           "zaxis": {
            "backgroundcolor": "#E5ECF6",
            "gridcolor": "white",
            "gridwidth": 2,
            "linecolor": "white",
            "showbackground": true,
            "ticks": "",
            "zerolinecolor": "white"
           }
          },
          "shapedefaults": {
           "line": {
            "color": "#2a3f5f"
           }
          },
          "ternary": {
           "aaxis": {
            "gridcolor": "white",
            "linecolor": "white",
            "ticks": ""
           },
           "baxis": {
            "gridcolor": "white",
            "linecolor": "white",
            "ticks": ""
           },
           "bgcolor": "#E5ECF6",
           "caxis": {
            "gridcolor": "white",
            "linecolor": "white",
            "ticks": ""
           }
          },
          "title": {
           "x": 0.05
          },
          "xaxis": {
           "automargin": true,
           "gridcolor": "white",
           "linecolor": "white",
           "ticks": "",
           "title": {
            "standoff": 15
           },
           "zerolinecolor": "white",
           "zerolinewidth": 2
          },
          "yaxis": {
           "automargin": true,
           "gridcolor": "white",
           "linecolor": "white",
           "ticks": "",
           "title": {
            "standoff": 15
           },
           "zerolinecolor": "white",
           "zerolinewidth": 2
          }
         }
        },
        "xaxis": {
         "anchor": "y",
         "domain": [
          0,
          1
         ],
         "title": {
          "text": "sample_id"
         }
        },
        "yaxis": {
         "anchor": "x",
         "domain": [
          0,
          1
         ],
         "title": {
          "text": "percentage"
         }
        }
       }
      },
      "text/html": [
       "<div>                            <div id=\"890eb90d-9998-4a4d-b956-e2fb282910ad\" class=\"plotly-graph-div\" style=\"height:525px; width:100%;\"></div>            <script type=\"text/javascript\">                require([\"plotly\"], function(Plotly) {                    window.PLOTLYENV=window.PLOTLYENV || {};                                    if (document.getElementById(\"890eb90d-9998-4a4d-b956-e2fb282910ad\")) {                    Plotly.newPlot(                        \"890eb90d-9998-4a4d-b956-e2fb282910ad\",                        [{\"alignmentgroup\": \"True\", \"hovertemplate\": \"region_name=AUDd5<br>sample_id=%{x}<br>percentage=%{y}<extra></extra>\", \"legendgroup\": \"AUDd5\", \"marker\": {\"color\": \"#636efa\"}, \"name\": \"AUDd5\", \"offsetgroup\": \"AUDd5\", \"orientation\": \"v\", \"showlegend\": true, \"textposition\": \"auto\", \"type\": \"bar\", \"x\": [\"AL293_561\", \"AL323_647\", \"AL324_647\"], \"xaxis\": \"x\", \"y\": [5.693581780538302, 0.9926854754440961, 0.09115770282588878], \"yaxis\": \"y\"}, {\"alignmentgroup\": \"True\", \"hovertemplate\": \"region_name=AUDd2/3<br>sample_id=%{x}<br>percentage=%{y}<extra></extra>\", \"legendgroup\": \"AUDd2/3\", \"marker\": {\"color\": \"#EF553B\"}, \"name\": \"AUDd2/3\", \"offsetgroup\": \"AUDd2/3\", \"orientation\": \"v\", \"showlegend\": true, \"textposition\": \"auto\", \"type\": \"bar\", \"x\": [\"AL293_561\", \"AL323_647\", \"AL324_647\"], \"xaxis\": \"x\", \"y\": [4.244306418219462, 4.493207941483804, 21.194165907019144], \"yaxis\": \"y\"}, {\"alignmentgroup\": \"True\", \"hovertemplate\": \"region_name=AUDd4<br>sample_id=%{x}<br>percentage=%{y}<extra></extra>\", \"legendgroup\": \"AUDd4\", \"marker\": {\"color\": \"#00cc96\"}, \"name\": \"AUDd4\", \"offsetgroup\": \"AUDd4\", \"orientation\": \"v\", \"showlegend\": true, \"textposition\": \"auto\", \"type\": \"bar\", \"x\": [\"AL293_561\", \"AL292_647\", \"AL323_647\", \"AL324_647\"], \"xaxis\": \"x\", \"y\": [63.56107660455486, 0.04384042086804033, 12.225705329153605, 24.612579762989974], \"yaxis\": \"y\"}, {\"alignmentgroup\": \"True\", \"hovertemplate\": \"region_name=SSs2/3<br>sample_id=%{x}<br>percentage=%{y}<extra></extra>\", \"legendgroup\": \"SSs2/3\", \"marker\": {\"color\": \"#ab63fa\"}, \"name\": \"SSs2/3\", \"offsetgroup\": \"SSs2/3\", \"orientation\": \"v\", \"showlegend\": true, \"textposition\": \"auto\", \"type\": \"bar\", \"x\": [\"AL293_561\", \"AL290_561\", \"AL323_647\", \"AL324_647\", \"AL291_647\"], \"xaxis\": \"x\", \"y\": [0.7246376811594203, 10.601427115188583, 3.8140020898641587, 5.4238833181403825, 1.1485826001955035], \"yaxis\": \"y\"}, {\"alignmentgroup\": \"True\", \"hovertemplate\": \"region_name=SSs4<br>sample_id=%{x}<br>percentage=%{y}<extra></extra>\", \"legendgroup\": \"SSs4\", \"marker\": {\"color\": \"#FFA15A\"}, \"name\": \"SSs4\", \"offsetgroup\": \"SSs4\", \"orientation\": \"v\", \"showlegend\": true, \"textposition\": \"auto\", \"type\": \"bar\", \"x\": [\"AL293_561\", \"AL290_561\", \"AL292_647\", \"AL323_647\", \"AL324_647\", \"AL291_647\"], \"xaxis\": \"x\", \"y\": [25.05175983436853, 81.24362895005096, 64.18237615081105, 63.113897596656216, 47.99453053783045, 16.44672531769306], \"yaxis\": \"y\"}, {\"alignmentgroup\": \"True\", \"hovertemplate\": \"region_name=SSs5<br>sample_id=%{x}<br>percentage=%{y}<extra></extra>\", \"legendgroup\": \"SSs5\", \"marker\": {\"color\": \"#19d3f3\"}, \"name\": \"SSs5\", \"offsetgroup\": \"SSs5\", \"orientation\": \"v\", \"showlegend\": true, \"textposition\": \"auto\", \"type\": \"bar\", \"x\": [\"AL293_561\", \"AL290_561\", \"AL292_647\", \"AL323_647\", \"AL324_647\", \"AL291_647\"], \"xaxis\": \"x\", \"y\": [0.7246376811594203, 5.708460754332314, 35.02849627356423, 15.360501567398119, 0.6836827711941659, 7.9178885630498534], \"yaxis\": \"y\"}, {\"alignmentgroup\": \"True\", \"hovertemplate\": \"region_name=SSp-bfd2/3<br>sample_id=%{x}<br>percentage=%{y}<extra></extra>\", \"legendgroup\": \"SSp-bfd2/3\", \"marker\": {\"color\": \"#FF6692\"}, \"name\": \"SSp-bfd2/3\", \"offsetgroup\": \"SSp-bfd2/3\", \"orientation\": \"v\", \"showlegend\": true, \"textposition\": \"auto\", \"type\": \"bar\", \"x\": [\"AL290_561\", \"AL290_647\", \"AL291_561\", \"AL291_647\", \"AL292_561\", \"AL293_647\"], \"xaxis\": \"x\", \"y\": [0.509683995922528, 6.975822433610781, 1.2211077191452246, 4.349951124144672, 0.3113648157758173, 2.668539325842697], \"yaxis\": \"y\"}, {\"alignmentgroup\": \"True\", \"hovertemplate\": \"region_name=SSp-bfd4<br>sample_id=%{x}<br>percentage=%{y}<extra></extra>\", \"legendgroup\": \"SSp-bfd4\", \"marker\": {\"color\": \"#B6E880\"}, \"name\": \"SSp-bfd4\", \"offsetgroup\": \"SSp-bfd4\", \"orientation\": \"v\", \"showlegend\": true, \"textposition\": \"auto\", \"type\": \"bar\", \"x\": [\"AL290_561\", \"AL292_647\", \"AL290_647\", \"AL291_561\", \"AL291_647\", \"AL292_561\", \"AL293_647\"], \"xaxis\": \"x\", \"y\": [1.9367991845056065, 0.7452871547566856, 77.64565992865636, 64.80593109463585, 54.27663734115347, 65.74987026466009, 77.45786516853933], \"yaxis\": \"y\"}, {\"alignmentgroup\": \"True\", \"hovertemplate\": \"region_name=SSp-bfd5<br>sample_id=%{x}<br>percentage=%{y}<extra></extra>\", \"legendgroup\": \"SSp-bfd5\", \"marker\": {\"color\": \"#FF97FF\"}, \"name\": \"SSp-bfd5\", \"offsetgroup\": \"SSp-bfd5\", \"orientation\": \"v\", \"showlegend\": true, \"textposition\": \"auto\", \"type\": \"bar\", \"x\": [\"AL290_647\", \"AL291_561\", \"AL291_647\", \"AL292_561\", \"AL293_647\"], \"xaxis\": \"x\", \"y\": [15.378517637732857, 31.79241168774531, 15.86021505376344, 31.914893617021278, 19.873595505617978], \"yaxis\": \"y\"}, {\"alignmentgroup\": \"True\", \"hovertemplate\": \"region_name=SSp-bfd6a<br>sample_id=%{x}<br>percentage=%{y}<extra></extra>\", \"legendgroup\": \"SSp-bfd6a\", \"marker\": {\"color\": \"#FECB52\"}, \"name\": \"SSp-bfd6a\", \"offsetgroup\": \"SSp-bfd6a\", \"orientation\": \"v\", \"showlegend\": true, \"textposition\": \"auto\", \"type\": \"bar\", \"x\": [\"AL291_561\", \"AL292_561\"], \"xaxis\": \"x\", \"y\": [2.1805494984736153, 2.0238713025428128], \"yaxis\": \"y\"}],                        {\"barmode\": \"relative\", \"legend\": {\"title\": {\"text\": \"region_name\"}, \"tracegroupgap\": 0}, \"margin\": {\"t\": 60}, \"template\": {\"data\": {\"bar\": [{\"error_x\": {\"color\": \"#2a3f5f\"}, \"error_y\": {\"color\": \"#2a3f5f\"}, \"marker\": {\"line\": {\"color\": \"#E5ECF6\", \"width\": 0.5}}, \"type\": \"bar\"}], \"barpolar\": [{\"marker\": {\"line\": {\"color\": \"#E5ECF6\", \"width\": 0.5}}, \"type\": \"barpolar\"}], \"carpet\": [{\"aaxis\": {\"endlinecolor\": \"#2a3f5f\", \"gridcolor\": \"white\", \"linecolor\": \"white\", \"minorgridcolor\": \"white\", \"startlinecolor\": \"#2a3f5f\"}, \"baxis\": {\"endlinecolor\": \"#2a3f5f\", \"gridcolor\": \"white\", \"linecolor\": \"white\", \"minorgridcolor\": \"white\", \"startlinecolor\": \"#2a3f5f\"}, \"type\": \"carpet\"}], \"choropleth\": [{\"colorbar\": {\"outlinewidth\": 0, \"ticks\": \"\"}, \"type\": \"choropleth\"}], \"contour\": [{\"colorbar\": {\"outlinewidth\": 0, \"ticks\": \"\"}, \"colorscale\": [[0.0, \"#0d0887\"], [0.1111111111111111, \"#46039f\"], [0.2222222222222222, \"#7201a8\"], [0.3333333333333333, \"#9c179e\"], [0.4444444444444444, \"#bd3786\"], [0.5555555555555556, \"#d8576b\"], [0.6666666666666666, \"#ed7953\"], [0.7777777777777778, \"#fb9f3a\"], [0.8888888888888888, \"#fdca26\"], [1.0, \"#f0f921\"]], \"type\": \"contour\"}], \"contourcarpet\": [{\"colorbar\": {\"outlinewidth\": 0, \"ticks\": \"\"}, \"type\": \"contourcarpet\"}], \"heatmap\": [{\"colorbar\": {\"outlinewidth\": 0, \"ticks\": \"\"}, \"colorscale\": [[0.0, \"#0d0887\"], [0.1111111111111111, \"#46039f\"], [0.2222222222222222, \"#7201a8\"], [0.3333333333333333, \"#9c179e\"], [0.4444444444444444, \"#bd3786\"], [0.5555555555555556, \"#d8576b\"], [0.6666666666666666, \"#ed7953\"], [0.7777777777777778, \"#fb9f3a\"], [0.8888888888888888, \"#fdca26\"], [1.0, \"#f0f921\"]], \"type\": \"heatmap\"}], \"heatmapgl\": [{\"colorbar\": {\"outlinewidth\": 0, \"ticks\": \"\"}, \"colorscale\": [[0.0, \"#0d0887\"], [0.1111111111111111, \"#46039f\"], [0.2222222222222222, \"#7201a8\"], [0.3333333333333333, \"#9c179e\"], [0.4444444444444444, \"#bd3786\"], [0.5555555555555556, \"#d8576b\"], [0.6666666666666666, \"#ed7953\"], [0.7777777777777778, \"#fb9f3a\"], [0.8888888888888888, \"#fdca26\"], [1.0, \"#f0f921\"]], \"type\": \"heatmapgl\"}], \"histogram\": [{\"marker\": {\"colorbar\": {\"outlinewidth\": 0, \"ticks\": \"\"}}, \"type\": \"histogram\"}], \"histogram2d\": [{\"colorbar\": {\"outlinewidth\": 0, \"ticks\": \"\"}, \"colorscale\": [[0.0, \"#0d0887\"], [0.1111111111111111, \"#46039f\"], [0.2222222222222222, \"#7201a8\"], [0.3333333333333333, \"#9c179e\"], [0.4444444444444444, \"#bd3786\"], [0.5555555555555556, \"#d8576b\"], [0.6666666666666666, \"#ed7953\"], [0.7777777777777778, \"#fb9f3a\"], [0.8888888888888888, \"#fdca26\"], [1.0, \"#f0f921\"]], \"type\": \"histogram2d\"}], \"histogram2dcontour\": [{\"colorbar\": {\"outlinewidth\": 0, \"ticks\": \"\"}, \"colorscale\": [[0.0, \"#0d0887\"], [0.1111111111111111, \"#46039f\"], [0.2222222222222222, \"#7201a8\"], [0.3333333333333333, \"#9c179e\"], [0.4444444444444444, \"#bd3786\"], [0.5555555555555556, \"#d8576b\"], [0.6666666666666666, \"#ed7953\"], [0.7777777777777778, \"#fb9f3a\"], [0.8888888888888888, \"#fdca26\"], [1.0, \"#f0f921\"]], \"type\": \"histogram2dcontour\"}], \"mesh3d\": [{\"colorbar\": {\"outlinewidth\": 0, \"ticks\": \"\"}, \"type\": \"mesh3d\"}], \"parcoords\": [{\"line\": {\"colorbar\": {\"outlinewidth\": 0, \"ticks\": \"\"}}, \"type\": \"parcoords\"}], \"pie\": [{\"automargin\": true, \"type\": \"pie\"}], \"scatter\": [{\"marker\": {\"colorbar\": {\"outlinewidth\": 0, \"ticks\": \"\"}}, \"type\": \"scatter\"}], \"scatter3d\": [{\"line\": {\"colorbar\": {\"outlinewidth\": 0, \"ticks\": \"\"}}, \"marker\": {\"colorbar\": {\"outlinewidth\": 0, \"ticks\": \"\"}}, \"type\": \"scatter3d\"}], \"scattercarpet\": [{\"marker\": {\"colorbar\": {\"outlinewidth\": 0, \"ticks\": \"\"}}, \"type\": \"scattercarpet\"}], \"scattergeo\": [{\"marker\": {\"colorbar\": {\"outlinewidth\": 0, \"ticks\": \"\"}}, \"type\": \"scattergeo\"}], \"scattergl\": [{\"marker\": {\"colorbar\": {\"outlinewidth\": 0, \"ticks\": \"\"}}, \"type\": \"scattergl\"}], \"scattermapbox\": [{\"marker\": {\"colorbar\": {\"outlinewidth\": 0, \"ticks\": \"\"}}, \"type\": \"scattermapbox\"}], \"scatterpolar\": [{\"marker\": {\"colorbar\": {\"outlinewidth\": 0, \"ticks\": \"\"}}, \"type\": \"scatterpolar\"}], \"scatterpolargl\": [{\"marker\": {\"colorbar\": {\"outlinewidth\": 0, \"ticks\": \"\"}}, \"type\": \"scatterpolargl\"}], \"scatterternary\": [{\"marker\": {\"colorbar\": {\"outlinewidth\": 0, \"ticks\": \"\"}}, \"type\": \"scatterternary\"}], \"surface\": [{\"colorbar\": {\"outlinewidth\": 0, \"ticks\": \"\"}, \"colorscale\": [[0.0, \"#0d0887\"], [0.1111111111111111, \"#46039f\"], [0.2222222222222222, \"#7201a8\"], [0.3333333333333333, \"#9c179e\"], [0.4444444444444444, \"#bd3786\"], [0.5555555555555556, \"#d8576b\"], [0.6666666666666666, \"#ed7953\"], [0.7777777777777778, \"#fb9f3a\"], [0.8888888888888888, \"#fdca26\"], [1.0, \"#f0f921\"]], \"type\": \"surface\"}], \"table\": [{\"cells\": {\"fill\": {\"color\": \"#EBF0F8\"}, \"line\": {\"color\": \"white\"}}, \"header\": {\"fill\": {\"color\": \"#C8D4E3\"}, \"line\": {\"color\": \"white\"}}, \"type\": \"table\"}]}, \"layout\": {\"annotationdefaults\": {\"arrowcolor\": \"#2a3f5f\", \"arrowhead\": 0, \"arrowwidth\": 1}, \"autotypenumbers\": \"strict\", \"coloraxis\": {\"colorbar\": {\"outlinewidth\": 0, \"ticks\": \"\"}}, \"colorscale\": {\"diverging\": [[0, \"#8e0152\"], [0.1, \"#c51b7d\"], [0.2, \"#de77ae\"], [0.3, \"#f1b6da\"], [0.4, \"#fde0ef\"], [0.5, \"#f7f7f7\"], [0.6, \"#e6f5d0\"], [0.7, \"#b8e186\"], [0.8, \"#7fbc41\"], [0.9, \"#4d9221\"], [1, \"#276419\"]], \"sequential\": [[0.0, \"#0d0887\"], [0.1111111111111111, \"#46039f\"], [0.2222222222222222, \"#7201a8\"], [0.3333333333333333, \"#9c179e\"], [0.4444444444444444, \"#bd3786\"], [0.5555555555555556, \"#d8576b\"], [0.6666666666666666, \"#ed7953\"], [0.7777777777777778, \"#fb9f3a\"], [0.8888888888888888, \"#fdca26\"], [1.0, \"#f0f921\"]], \"sequentialminus\": [[0.0, \"#0d0887\"], [0.1111111111111111, \"#46039f\"], [0.2222222222222222, \"#7201a8\"], [0.3333333333333333, \"#9c179e\"], [0.4444444444444444, \"#bd3786\"], [0.5555555555555556, \"#d8576b\"], [0.6666666666666666, \"#ed7953\"], [0.7777777777777778, \"#fb9f3a\"], [0.8888888888888888, \"#fdca26\"], [1.0, \"#f0f921\"]]}, \"colorway\": [\"#636efa\", \"#EF553B\", \"#00cc96\", \"#ab63fa\", \"#FFA15A\", \"#19d3f3\", \"#FF6692\", \"#B6E880\", \"#FF97FF\", \"#FECB52\"], \"font\": {\"color\": \"#2a3f5f\"}, \"geo\": {\"bgcolor\": \"white\", \"lakecolor\": \"white\", \"landcolor\": \"#E5ECF6\", \"showlakes\": true, \"showland\": true, \"subunitcolor\": \"white\"}, \"hoverlabel\": {\"align\": \"left\"}, \"hovermode\": \"closest\", \"mapbox\": {\"style\": \"light\"}, \"paper_bgcolor\": \"white\", \"plot_bgcolor\": \"#E5ECF6\", \"polar\": {\"angularaxis\": {\"gridcolor\": \"white\", \"linecolor\": \"white\", \"ticks\": \"\"}, \"bgcolor\": \"#E5ECF6\", \"radialaxis\": {\"gridcolor\": \"white\", \"linecolor\": \"white\", \"ticks\": \"\"}}, \"scene\": {\"xaxis\": {\"backgroundcolor\": \"#E5ECF6\", \"gridcolor\": \"white\", \"gridwidth\": 2, \"linecolor\": \"white\", \"showbackground\": true, \"ticks\": \"\", \"zerolinecolor\": \"white\"}, \"yaxis\": {\"backgroundcolor\": \"#E5ECF6\", \"gridcolor\": \"white\", \"gridwidth\": 2, \"linecolor\": \"white\", \"showbackground\": true, \"ticks\": \"\", \"zerolinecolor\": \"white\"}, \"zaxis\": {\"backgroundcolor\": \"#E5ECF6\", \"gridcolor\": \"white\", \"gridwidth\": 2, \"linecolor\": \"white\", \"showbackground\": true, \"ticks\": \"\", \"zerolinecolor\": \"white\"}}, \"shapedefaults\": {\"line\": {\"color\": \"#2a3f5f\"}}, \"ternary\": {\"aaxis\": {\"gridcolor\": \"white\", \"linecolor\": \"white\", \"ticks\": \"\"}, \"baxis\": {\"gridcolor\": \"white\", \"linecolor\": \"white\", \"ticks\": \"\"}, \"bgcolor\": \"#E5ECF6\", \"caxis\": {\"gridcolor\": \"white\", \"linecolor\": \"white\", \"ticks\": \"\"}}, \"title\": {\"x\": 0.05}, \"xaxis\": {\"automargin\": true, \"gridcolor\": \"white\", \"linecolor\": \"white\", \"ticks\": \"\", \"title\": {\"standoff\": 15}, \"zerolinecolor\": \"white\", \"zerolinewidth\": 2}, \"yaxis\": {\"automargin\": true, \"gridcolor\": \"white\", \"linecolor\": \"white\", \"ticks\": \"\", \"title\": {\"standoff\": 15}, \"zerolinecolor\": \"white\", \"zerolinewidth\": 2}}}, \"xaxis\": {\"anchor\": \"y\", \"domain\": [0.0, 1.0], \"title\": {\"text\": \"sample_id\"}}, \"yaxis\": {\"anchor\": \"x\", \"domain\": [0.0, 1.0], \"title\": {\"text\": \"percentage\"}}},                        {\"responsive\": true}                    ).then(function(){\n",
       "                            \n",
       "var gd = document.getElementById('890eb90d-9998-4a4d-b956-e2fb282910ad');\n",
       "var x = new MutationObserver(function (mutations, observer) {{\n",
       "        var display = window.getComputedStyle(gd).display;\n",
       "        if (!display || display === 'none') {{\n",
       "            console.log([gd, 'removed!']);\n",
       "            Plotly.purge(gd);\n",
       "            observer.disconnect();\n",
       "        }}\n",
       "}});\n",
       "\n",
       "// Listen for the removal of the full notebook cells\n",
       "var notebookContainer = gd.closest('#notebook-container');\n",
       "if (notebookContainer) {{\n",
       "    x.observe(notebookContainer, {childList: true});\n",
       "}}\n",
       "\n",
       "// Listen for the clearing of the current output cell\n",
       "var outputEl = gd.closest('.output');\n",
       "if (outputEl) {{\n",
       "    x.observe(outputEl, {childList: true});\n",
       "}}\n",
       "\n",
       "                        })                };                });            </script>        </div>"
      ]
     },
     "metadata": {},
     "output_type": "display_data"
    },
    {
     "name": "stdout",
     "output_type": "stream",
     "text": [
      "this genotype is Sim1Cre\n"
     ]
    },
    {
     "data": {
      "application/vnd.plotly.v1+json": {
       "config": {
        "plotlyServerURL": "https://plot.ly"
       },
       "data": [
        {
         "alignmentgroup": "True",
         "hovertemplate": "region_name=SSp-tr6a<br>sample_id=%{x}<br>percentage=%{y}<extra></extra>",
         "legendgroup": "SSp-tr6a",
         "marker": {
          "color": "#636efa"
         },
         "name": "SSp-tr6a",
         "offsetgroup": "SSp-tr6a",
         "orientation": "v",
         "showlegend": true,
         "textposition": "auto",
         "type": "bar",
         "x": [
          "AL207_647",
          "AL208_647"
         ],
         "xaxis": "x",
         "y": [
          0.3549382716049383,
          10.762862211709049
         ],
         "yaxis": "y"
        },
        {
         "alignmentgroup": "True",
         "hovertemplate": "region_name=SSp-bfd6a<br>sample_id=%{x}<br>percentage=%{y}<extra></extra>",
         "legendgroup": "SSp-bfd6a",
         "marker": {
          "color": "#EF553B"
         },
         "name": "SSp-bfd6a",
         "offsetgroup": "SSp-bfd6a",
         "orientation": "v",
         "showlegend": true,
         "textposition": "auto",
         "type": "bar",
         "x": [
          "AL207_647",
          "AL209_647",
          "AL273_647",
          "AL287_647"
         ],
         "xaxis": "x",
         "y": [
          23.811728395061728,
          1.7780938833570412,
          20.139328689043698,
          0.6219927238587021
         ],
         "yaxis": "y"
        },
        {
         "alignmentgroup": "True",
         "hovertemplate": "region_name=SSp-bfd4<br>sample_id=%{x}<br>percentage=%{y}<extra></extra>",
         "legendgroup": "SSp-bfd4",
         "marker": {
          "color": "#00cc96"
         },
         "name": "SSp-bfd4",
         "offsetgroup": "SSp-bfd4",
         "orientation": "v",
         "showlegend": true,
         "textposition": "auto",
         "type": "bar",
         "x": [
          "AL207_647",
          "AL209_647",
          "AL321_647"
         ],
         "xaxis": "x",
         "y": [
          0.21604938271604937,
          0.26078710289236606,
          0.5590496156533893
         ],
         "yaxis": "y"
        },
        {
         "alignmentgroup": "True",
         "hovertemplate": "region_name=SSp-bfd5<br>sample_id=%{x}<br>percentage=%{y}<extra></extra>",
         "legendgroup": "SSp-bfd5",
         "marker": {
          "color": "#ab63fa"
         },
         "name": "SSp-bfd5",
         "offsetgroup": "SSp-bfd5",
         "orientation": "v",
         "showlegend": true,
         "textposition": "auto",
         "type": "bar",
         "x": [
          "AL207_647",
          "AL209_647",
          "AL273_647",
          "AL287_647",
          "AL321_647",
          "AL322_647"
         ],
         "xaxis": "x",
         "y": [
          59.76851851851852,
          97.96111901375059,
          79.60734642178593,
          51.437624691937565,
          13.20754716981132,
          7.236180904522613
         ],
         "yaxis": "y"
        },
        {
         "alignmentgroup": "True",
         "hovertemplate": "region_name=SSp-tr5<br>sample_id=%{x}<br>percentage=%{y}<extra></extra>",
         "legendgroup": "SSp-tr5",
         "marker": {
          "color": "#FFA15A"
         },
         "name": "SSp-tr5",
         "offsetgroup": "SSp-tr5",
         "orientation": "v",
         "showlegend": true,
         "textposition": "auto",
         "type": "bar",
         "x": [
          "AL207_647",
          "AL208_647"
         ],
         "xaxis": "x",
         "y": [
          9.598765432098766,
          67.23832052040213
         ],
         "yaxis": "y"
        },
        {
         "alignmentgroup": "True",
         "hovertemplate": "region_name=SSp-un5<br>sample_id=%{x}<br>percentage=%{y}<extra></extra>",
         "legendgroup": "SSp-un5",
         "marker": {
          "color": "#19d3f3"
         },
         "name": "SSp-un5",
         "offsetgroup": "SSp-un5",
         "orientation": "v",
         "showlegend": true,
         "textposition": "auto",
         "type": "bar",
         "x": [
          "AL207_647",
          "AL273_647",
          "AL208_647"
         ],
         "xaxis": "x",
         "y": [
          4.212962962962963,
          0.253324889170361,
          10.82199881726789
         ],
         "yaxis": "y"
        },
        {
         "alignmentgroup": "True",
         "hovertemplate": "region_name=SSp-un6a<br>sample_id=%{x}<br>percentage=%{y}<extra></extra>",
         "legendgroup": "SSp-un6a",
         "marker": {
          "color": "#FF6692"
         },
         "name": "SSp-un6a",
         "offsetgroup": "SSp-un6a",
         "orientation": "v",
         "showlegend": true,
         "textposition": "auto",
         "type": "bar",
         "x": [
          "AL207_647",
          "AL208_647"
         ],
         "xaxis": "x",
         "y": [
          0.49382716049382713,
          1.1235955056179776
         ],
         "yaxis": "y"
        },
        {
         "alignmentgroup": "True",
         "hovertemplate": "region_name=VISa5<br>sample_id=%{x}<br>percentage=%{y}<extra></extra>",
         "legendgroup": "VISa5",
         "marker": {
          "color": "#B6E880"
         },
         "name": "VISa5",
         "offsetgroup": "VISa5",
         "orientation": "v",
         "showlegend": true,
         "textposition": "auto",
         "type": "bar",
         "x": [
          "AL207_647",
          "AL208_647"
         ],
         "xaxis": "x",
         "y": [
          1.4197530864197532,
          1.6558249556475457
         ],
         "yaxis": "y"
        },
        {
         "alignmentgroup": "True",
         "hovertemplate": "region_name=VISrl5<br>sample_id=%{x}<br>percentage=%{y}<extra></extra>",
         "legendgroup": "VISrl5",
         "marker": {
          "color": "#FF97FF"
         },
         "name": "VISrl5",
         "offsetgroup": "VISrl5",
         "orientation": "v",
         "showlegend": true,
         "textposition": "auto",
         "type": "bar",
         "x": [
          "AL207_647",
          "AL287_647"
         ],
         "xaxis": "x",
         "y": [
          0.12345679012345678,
          3.0395493486679968
         ],
         "yaxis": "y"
        },
        {
         "alignmentgroup": "True",
         "hovertemplate": "region_name=VISal5<br>sample_id=%{x}<br>percentage=%{y}<extra></extra>",
         "legendgroup": "VISal5",
         "marker": {
          "color": "#FECB52"
         },
         "name": "VISal5",
         "offsetgroup": "VISal5",
         "orientation": "v",
         "showlegend": true,
         "textposition": "auto",
         "type": "bar",
         "x": [
          "AL287_647"
         ],
         "xaxis": "x",
         "y": [
          3.614599225443023
         ],
         "yaxis": "y"
        },
        {
         "alignmentgroup": "True",
         "hovertemplate": "region_name=AUDd5<br>sample_id=%{x}<br>percentage=%{y}<extra></extra>",
         "legendgroup": "AUDd5",
         "marker": {
          "color": "#636efa"
         },
         "name": "AUDd5",
         "offsetgroup": "AUDd5",
         "orientation": "v",
         "showlegend": true,
         "textposition": "auto",
         "type": "bar",
         "x": [
          "AL287_647"
         ],
         "xaxis": "x",
         "y": [
          13.754254195516959
         ],
         "yaxis": "y"
        },
        {
         "alignmentgroup": "True",
         "hovertemplate": "region_name=SSs5<br>sample_id=%{x}<br>percentage=%{y}<extra></extra>",
         "legendgroup": "SSs5",
         "marker": {
          "color": "#EF553B"
         },
         "name": "SSs5",
         "offsetgroup": "SSs5",
         "orientation": "v",
         "showlegend": true,
         "textposition": "auto",
         "type": "bar",
         "x": [
          "AL287_647",
          "AL281_647",
          "AL286_647",
          "AL321_647",
          "AL322_647"
         ],
         "xaxis": "x",
         "y": [
          27.531979814575752,
          89.53027730616864,
          99.34711643090316,
          78.96575821104123,
          89.44723618090453
         ],
         "yaxis": "y"
        },
        {
         "alignmentgroup": "True",
         "hovertemplate": "region_name=SSs6a<br>sample_id=%{x}<br>percentage=%{y}<extra></extra>",
         "legendgroup": "SSs6a",
         "marker": {
          "color": "#00cc96"
         },
         "name": "SSs6a",
         "offsetgroup": "SSs6a",
         "orientation": "v",
         "showlegend": true,
         "textposition": "auto",
         "type": "bar",
         "x": [
          "AL281_647",
          "AL286_647"
         ],
         "xaxis": "x",
         "y": [
          10.469722693831352,
          0.6528835690968444
         ],
         "yaxis": "y"
        },
        {
         "alignmentgroup": "True",
         "hovertemplate": "region_name=SSs4<br>sample_id=%{x}<br>percentage=%{y}<extra></extra>",
         "legendgroup": "SSs4",
         "marker": {
          "color": "#ab63fa"
         },
         "name": "SSs4",
         "offsetgroup": "SSs4",
         "orientation": "v",
         "showlegend": true,
         "textposition": "auto",
         "type": "bar",
         "x": [
          "AL321_647",
          "AL322_647"
         ],
         "xaxis": "x",
         "y": [
          7.26764500349406,
          3.3165829145728645
         ],
         "yaxis": "y"
        },
        {
         "alignmentgroup": "True",
         "hovertemplate": "region_name=SSp-ul5<br>sample_id=%{x}<br>percentage=%{y}<extra></extra>",
         "legendgroup": "SSp-ul5",
         "marker": {
          "color": "#FFA15A"
         },
         "name": "SSp-ul5",
         "offsetgroup": "SSp-ul5",
         "orientation": "v",
         "showlegend": true,
         "textposition": "auto",
         "type": "bar",
         "x": [
          "AL208_647"
         ],
         "xaxis": "x",
         "y": [
          8.160851567120048
         ],
         "yaxis": "y"
        },
        {
         "alignmentgroup": "True",
         "hovertemplate": "region_name=SSp-ul6a<br>sample_id=%{x}<br>percentage=%{y}<extra></extra>",
         "legendgroup": "SSp-ul6a",
         "marker": {
          "color": "#19d3f3"
         },
         "name": "SSp-ul6a",
         "offsetgroup": "SSp-ul6a",
         "orientation": "v",
         "showlegend": true,
         "textposition": "auto",
         "type": "bar",
         "x": [
          "AL208_647"
         ],
         "xaxis": "x",
         "y": [
          0.23654642223536368
         ],
         "yaxis": "y"
        }
       ],
       "layout": {
        "barmode": "relative",
        "legend": {
         "title": {
          "text": "region_name"
         },
         "tracegroupgap": 0
        },
        "margin": {
         "t": 60
        },
        "template": {
         "data": {
          "bar": [
           {
            "error_x": {
             "color": "#2a3f5f"
            },
            "error_y": {
             "color": "#2a3f5f"
            },
            "marker": {
             "line": {
              "color": "#E5ECF6",
              "width": 0.5
             }
            },
            "type": "bar"
           }
          ],
          "barpolar": [
           {
            "marker": {
             "line": {
              "color": "#E5ECF6",
              "width": 0.5
             }
            },
            "type": "barpolar"
           }
          ],
          "carpet": [
           {
            "aaxis": {
             "endlinecolor": "#2a3f5f",
             "gridcolor": "white",
             "linecolor": "white",
             "minorgridcolor": "white",
             "startlinecolor": "#2a3f5f"
            },
            "baxis": {
             "endlinecolor": "#2a3f5f",
             "gridcolor": "white",
             "linecolor": "white",
             "minorgridcolor": "white",
             "startlinecolor": "#2a3f5f"
            },
            "type": "carpet"
           }
          ],
          "choropleth": [
           {
            "colorbar": {
             "outlinewidth": 0,
             "ticks": ""
            },
            "type": "choropleth"
           }
          ],
          "contour": [
           {
            "colorbar": {
             "outlinewidth": 0,
             "ticks": ""
            },
            "colorscale": [
             [
              0,
              "#0d0887"
             ],
             [
              0.1111111111111111,
              "#46039f"
             ],
             [
              0.2222222222222222,
              "#7201a8"
             ],
             [
              0.3333333333333333,
              "#9c179e"
             ],
             [
              0.4444444444444444,
              "#bd3786"
             ],
             [
              0.5555555555555556,
              "#d8576b"
             ],
             [
              0.6666666666666666,
              "#ed7953"
             ],
             [
              0.7777777777777778,
              "#fb9f3a"
             ],
             [
              0.8888888888888888,
              "#fdca26"
             ],
             [
              1,
              "#f0f921"
             ]
            ],
            "type": "contour"
           }
          ],
          "contourcarpet": [
           {
            "colorbar": {
             "outlinewidth": 0,
             "ticks": ""
            },
            "type": "contourcarpet"
           }
          ],
          "heatmap": [
           {
            "colorbar": {
             "outlinewidth": 0,
             "ticks": ""
            },
            "colorscale": [
             [
              0,
              "#0d0887"
             ],
             [
              0.1111111111111111,
              "#46039f"
             ],
             [
              0.2222222222222222,
              "#7201a8"
             ],
             [
              0.3333333333333333,
              "#9c179e"
             ],
             [
              0.4444444444444444,
              "#bd3786"
             ],
             [
              0.5555555555555556,
              "#d8576b"
             ],
             [
              0.6666666666666666,
              "#ed7953"
             ],
             [
              0.7777777777777778,
              "#fb9f3a"
             ],
             [
              0.8888888888888888,
              "#fdca26"
             ],
             [
              1,
              "#f0f921"
             ]
            ],
            "type": "heatmap"
           }
          ],
          "heatmapgl": [
           {
            "colorbar": {
             "outlinewidth": 0,
             "ticks": ""
            },
            "colorscale": [
             [
              0,
              "#0d0887"
             ],
             [
              0.1111111111111111,
              "#46039f"
             ],
             [
              0.2222222222222222,
              "#7201a8"
             ],
             [
              0.3333333333333333,
              "#9c179e"
             ],
             [
              0.4444444444444444,
              "#bd3786"
             ],
             [
              0.5555555555555556,
              "#d8576b"
             ],
             [
              0.6666666666666666,
              "#ed7953"
             ],
             [
              0.7777777777777778,
              "#fb9f3a"
             ],
             [
              0.8888888888888888,
              "#fdca26"
             ],
             [
              1,
              "#f0f921"
             ]
            ],
            "type": "heatmapgl"
           }
          ],
          "histogram": [
           {
            "marker": {
             "colorbar": {
              "outlinewidth": 0,
              "ticks": ""
             }
            },
            "type": "histogram"
           }
          ],
          "histogram2d": [
           {
            "colorbar": {
             "outlinewidth": 0,
             "ticks": ""
            },
            "colorscale": [
             [
              0,
              "#0d0887"
             ],
             [
              0.1111111111111111,
              "#46039f"
             ],
             [
              0.2222222222222222,
              "#7201a8"
             ],
             [
              0.3333333333333333,
              "#9c179e"
             ],
             [
              0.4444444444444444,
              "#bd3786"
             ],
             [
              0.5555555555555556,
              "#d8576b"
             ],
             [
              0.6666666666666666,
              "#ed7953"
             ],
             [
              0.7777777777777778,
              "#fb9f3a"
             ],
             [
              0.8888888888888888,
              "#fdca26"
             ],
             [
              1,
              "#f0f921"
             ]
            ],
            "type": "histogram2d"
           }
          ],
          "histogram2dcontour": [
           {
            "colorbar": {
             "outlinewidth": 0,
             "ticks": ""
            },
            "colorscale": [
             [
              0,
              "#0d0887"
             ],
             [
              0.1111111111111111,
              "#46039f"
             ],
             [
              0.2222222222222222,
              "#7201a8"
             ],
             [
              0.3333333333333333,
              "#9c179e"
             ],
             [
              0.4444444444444444,
              "#bd3786"
             ],
             [
              0.5555555555555556,
              "#d8576b"
             ],
             [
              0.6666666666666666,
              "#ed7953"
             ],
             [
              0.7777777777777778,
              "#fb9f3a"
             ],
             [
              0.8888888888888888,
              "#fdca26"
             ],
             [
              1,
              "#f0f921"
             ]
            ],
            "type": "histogram2dcontour"
           }
          ],
          "mesh3d": [
           {
            "colorbar": {
             "outlinewidth": 0,
             "ticks": ""
            },
            "type": "mesh3d"
           }
          ],
          "parcoords": [
           {
            "line": {
             "colorbar": {
              "outlinewidth": 0,
              "ticks": ""
             }
            },
            "type": "parcoords"
           }
          ],
          "pie": [
           {
            "automargin": true,
            "type": "pie"
           }
          ],
          "scatter": [
           {
            "marker": {
             "colorbar": {
              "outlinewidth": 0,
              "ticks": ""
             }
            },
            "type": "scatter"
           }
          ],
          "scatter3d": [
           {
            "line": {
             "colorbar": {
              "outlinewidth": 0,
              "ticks": ""
             }
            },
            "marker": {
             "colorbar": {
              "outlinewidth": 0,
              "ticks": ""
             }
            },
            "type": "scatter3d"
           }
          ],
          "scattercarpet": [
           {
            "marker": {
             "colorbar": {
              "outlinewidth": 0,
              "ticks": ""
             }
            },
            "type": "scattercarpet"
           }
          ],
          "scattergeo": [
           {
            "marker": {
             "colorbar": {
              "outlinewidth": 0,
              "ticks": ""
             }
            },
            "type": "scattergeo"
           }
          ],
          "scattergl": [
           {
            "marker": {
             "colorbar": {
              "outlinewidth": 0,
              "ticks": ""
             }
            },
            "type": "scattergl"
           }
          ],
          "scattermapbox": [
           {
            "marker": {
             "colorbar": {
              "outlinewidth": 0,
              "ticks": ""
             }
            },
            "type": "scattermapbox"
           }
          ],
          "scatterpolar": [
           {
            "marker": {
             "colorbar": {
              "outlinewidth": 0,
              "ticks": ""
             }
            },
            "type": "scatterpolar"
           }
          ],
          "scatterpolargl": [
           {
            "marker": {
             "colorbar": {
              "outlinewidth": 0,
              "ticks": ""
             }
            },
            "type": "scatterpolargl"
           }
          ],
          "scatterternary": [
           {
            "marker": {
             "colorbar": {
              "outlinewidth": 0,
              "ticks": ""
             }
            },
            "type": "scatterternary"
           }
          ],
          "surface": [
           {
            "colorbar": {
             "outlinewidth": 0,
             "ticks": ""
            },
            "colorscale": [
             [
              0,
              "#0d0887"
             ],
             [
              0.1111111111111111,
              "#46039f"
             ],
             [
              0.2222222222222222,
              "#7201a8"
             ],
             [
              0.3333333333333333,
              "#9c179e"
             ],
             [
              0.4444444444444444,
              "#bd3786"
             ],
             [
              0.5555555555555556,
              "#d8576b"
             ],
             [
              0.6666666666666666,
              "#ed7953"
             ],
             [
              0.7777777777777778,
              "#fb9f3a"
             ],
             [
              0.8888888888888888,
              "#fdca26"
             ],
             [
              1,
              "#f0f921"
             ]
            ],
            "type": "surface"
           }
          ],
          "table": [
           {
            "cells": {
             "fill": {
              "color": "#EBF0F8"
             },
             "line": {
              "color": "white"
             }
            },
            "header": {
             "fill": {
              "color": "#C8D4E3"
             },
             "line": {
              "color": "white"
             }
            },
            "type": "table"
           }
          ]
         },
         "layout": {
          "annotationdefaults": {
           "arrowcolor": "#2a3f5f",
           "arrowhead": 0,
           "arrowwidth": 1
          },
          "autotypenumbers": "strict",
          "coloraxis": {
           "colorbar": {
            "outlinewidth": 0,
            "ticks": ""
           }
          },
          "colorscale": {
           "diverging": [
            [
             0,
             "#8e0152"
            ],
            [
             0.1,
             "#c51b7d"
            ],
            [
             0.2,
             "#de77ae"
            ],
            [
             0.3,
             "#f1b6da"
            ],
            [
             0.4,
             "#fde0ef"
            ],
            [
             0.5,
             "#f7f7f7"
            ],
            [
             0.6,
             "#e6f5d0"
            ],
            [
             0.7,
             "#b8e186"
            ],
            [
             0.8,
             "#7fbc41"
            ],
            [
             0.9,
             "#4d9221"
            ],
            [
             1,
             "#276419"
            ]
           ],
           "sequential": [
            [
             0,
             "#0d0887"
            ],
            [
             0.1111111111111111,
             "#46039f"
            ],
            [
             0.2222222222222222,
             "#7201a8"
            ],
            [
             0.3333333333333333,
             "#9c179e"
            ],
            [
             0.4444444444444444,
             "#bd3786"
            ],
            [
             0.5555555555555556,
             "#d8576b"
            ],
            [
             0.6666666666666666,
             "#ed7953"
            ],
            [
             0.7777777777777778,
             "#fb9f3a"
            ],
            [
             0.8888888888888888,
             "#fdca26"
            ],
            [
             1,
             "#f0f921"
            ]
           ],
           "sequentialminus": [
            [
             0,
             "#0d0887"
            ],
            [
             0.1111111111111111,
             "#46039f"
            ],
            [
             0.2222222222222222,
             "#7201a8"
            ],
            [
             0.3333333333333333,
             "#9c179e"
            ],
            [
             0.4444444444444444,
             "#bd3786"
            ],
            [
             0.5555555555555556,
             "#d8576b"
            ],
            [
             0.6666666666666666,
             "#ed7953"
            ],
            [
             0.7777777777777778,
             "#fb9f3a"
            ],
            [
             0.8888888888888888,
             "#fdca26"
            ],
            [
             1,
             "#f0f921"
            ]
           ]
          },
          "colorway": [
           "#636efa",
           "#EF553B",
           "#00cc96",
           "#ab63fa",
           "#FFA15A",
           "#19d3f3",
           "#FF6692",
           "#B6E880",
           "#FF97FF",
           "#FECB52"
          ],
          "font": {
           "color": "#2a3f5f"
          },
          "geo": {
           "bgcolor": "white",
           "lakecolor": "white",
           "landcolor": "#E5ECF6",
           "showlakes": true,
           "showland": true,
           "subunitcolor": "white"
          },
          "hoverlabel": {
           "align": "left"
          },
          "hovermode": "closest",
          "mapbox": {
           "style": "light"
          },
          "paper_bgcolor": "white",
          "plot_bgcolor": "#E5ECF6",
          "polar": {
           "angularaxis": {
            "gridcolor": "white",
            "linecolor": "white",
            "ticks": ""
           },
           "bgcolor": "#E5ECF6",
           "radialaxis": {
            "gridcolor": "white",
            "linecolor": "white",
            "ticks": ""
           }
          },
          "scene": {
           "xaxis": {
            "backgroundcolor": "#E5ECF6",
            "gridcolor": "white",
            "gridwidth": 2,
            "linecolor": "white",
            "showbackground": true,
            "ticks": "",
            "zerolinecolor": "white"
           },
           "yaxis": {
            "backgroundcolor": "#E5ECF6",
            "gridcolor": "white",
            "gridwidth": 2,
            "linecolor": "white",
            "showbackground": true,
            "ticks": "",
            "zerolinecolor": "white"
           },
           "zaxis": {
            "backgroundcolor": "#E5ECF6",
            "gridcolor": "white",
            "gridwidth": 2,
            "linecolor": "white",
            "showbackground": true,
            "ticks": "",
            "zerolinecolor": "white"
           }
          },
          "shapedefaults": {
           "line": {
            "color": "#2a3f5f"
           }
          },
          "ternary": {
           "aaxis": {
            "gridcolor": "white",
            "linecolor": "white",
            "ticks": ""
           },
           "baxis": {
            "gridcolor": "white",
            "linecolor": "white",
            "ticks": ""
           },
           "bgcolor": "#E5ECF6",
           "caxis": {
            "gridcolor": "white",
            "linecolor": "white",
            "ticks": ""
           }
          },
          "title": {
           "x": 0.05
          },
          "xaxis": {
           "automargin": true,
           "gridcolor": "white",
           "linecolor": "white",
           "ticks": "",
           "title": {
            "standoff": 15
           },
           "zerolinecolor": "white",
           "zerolinewidth": 2
          },
          "yaxis": {
           "automargin": true,
           "gridcolor": "white",
           "linecolor": "white",
           "ticks": "",
           "title": {
            "standoff": 15
           },
           "zerolinecolor": "white",
           "zerolinewidth": 2
          }
         }
        },
        "xaxis": {
         "anchor": "y",
         "domain": [
          0,
          1
         ],
         "title": {
          "text": "sample_id"
         }
        },
        "yaxis": {
         "anchor": "x",
         "domain": [
          0,
          1
         ],
         "title": {
          "text": "percentage"
         }
        }
       }
      },
      "text/html": [
       "<div>                            <div id=\"7e365719-d05f-4b93-b0e5-07f7ebf0717d\" class=\"plotly-graph-div\" style=\"height:525px; width:100%;\"></div>            <script type=\"text/javascript\">                require([\"plotly\"], function(Plotly) {                    window.PLOTLYENV=window.PLOTLYENV || {};                                    if (document.getElementById(\"7e365719-d05f-4b93-b0e5-07f7ebf0717d\")) {                    Plotly.newPlot(                        \"7e365719-d05f-4b93-b0e5-07f7ebf0717d\",                        [{\"alignmentgroup\": \"True\", \"hovertemplate\": \"region_name=SSp-tr6a<br>sample_id=%{x}<br>percentage=%{y}<extra></extra>\", \"legendgroup\": \"SSp-tr6a\", \"marker\": {\"color\": \"#636efa\"}, \"name\": \"SSp-tr6a\", \"offsetgroup\": \"SSp-tr6a\", \"orientation\": \"v\", \"showlegend\": true, \"textposition\": \"auto\", \"type\": \"bar\", \"x\": [\"AL207_647\", \"AL208_647\"], \"xaxis\": \"x\", \"y\": [0.3549382716049383, 10.762862211709049], \"yaxis\": \"y\"}, {\"alignmentgroup\": \"True\", \"hovertemplate\": \"region_name=SSp-bfd6a<br>sample_id=%{x}<br>percentage=%{y}<extra></extra>\", \"legendgroup\": \"SSp-bfd6a\", \"marker\": {\"color\": \"#EF553B\"}, \"name\": \"SSp-bfd6a\", \"offsetgroup\": \"SSp-bfd6a\", \"orientation\": \"v\", \"showlegend\": true, \"textposition\": \"auto\", \"type\": \"bar\", \"x\": [\"AL207_647\", \"AL209_647\", \"AL273_647\", \"AL287_647\"], \"xaxis\": \"x\", \"y\": [23.811728395061728, 1.7780938833570412, 20.139328689043698, 0.6219927238587021], \"yaxis\": \"y\"}, {\"alignmentgroup\": \"True\", \"hovertemplate\": \"region_name=SSp-bfd4<br>sample_id=%{x}<br>percentage=%{y}<extra></extra>\", \"legendgroup\": \"SSp-bfd4\", \"marker\": {\"color\": \"#00cc96\"}, \"name\": \"SSp-bfd4\", \"offsetgroup\": \"SSp-bfd4\", \"orientation\": \"v\", \"showlegend\": true, \"textposition\": \"auto\", \"type\": \"bar\", \"x\": [\"AL207_647\", \"AL209_647\", \"AL321_647\"], \"xaxis\": \"x\", \"y\": [0.21604938271604937, 0.26078710289236606, 0.5590496156533893], \"yaxis\": \"y\"}, {\"alignmentgroup\": \"True\", \"hovertemplate\": \"region_name=SSp-bfd5<br>sample_id=%{x}<br>percentage=%{y}<extra></extra>\", \"legendgroup\": \"SSp-bfd5\", \"marker\": {\"color\": \"#ab63fa\"}, \"name\": \"SSp-bfd5\", \"offsetgroup\": \"SSp-bfd5\", \"orientation\": \"v\", \"showlegend\": true, \"textposition\": \"auto\", \"type\": \"bar\", \"x\": [\"AL207_647\", \"AL209_647\", \"AL273_647\", \"AL287_647\", \"AL321_647\", \"AL322_647\"], \"xaxis\": \"x\", \"y\": [59.76851851851852, 97.96111901375059, 79.60734642178593, 51.437624691937565, 13.20754716981132, 7.236180904522613], \"yaxis\": \"y\"}, {\"alignmentgroup\": \"True\", \"hovertemplate\": \"region_name=SSp-tr5<br>sample_id=%{x}<br>percentage=%{y}<extra></extra>\", \"legendgroup\": \"SSp-tr5\", \"marker\": {\"color\": \"#FFA15A\"}, \"name\": \"SSp-tr5\", \"offsetgroup\": \"SSp-tr5\", \"orientation\": \"v\", \"showlegend\": true, \"textposition\": \"auto\", \"type\": \"bar\", \"x\": [\"AL207_647\", \"AL208_647\"], \"xaxis\": \"x\", \"y\": [9.598765432098766, 67.23832052040213], \"yaxis\": \"y\"}, {\"alignmentgroup\": \"True\", \"hovertemplate\": \"region_name=SSp-un5<br>sample_id=%{x}<br>percentage=%{y}<extra></extra>\", \"legendgroup\": \"SSp-un5\", \"marker\": {\"color\": \"#19d3f3\"}, \"name\": \"SSp-un5\", \"offsetgroup\": \"SSp-un5\", \"orientation\": \"v\", \"showlegend\": true, \"textposition\": \"auto\", \"type\": \"bar\", \"x\": [\"AL207_647\", \"AL273_647\", \"AL208_647\"], \"xaxis\": \"x\", \"y\": [4.212962962962963, 0.253324889170361, 10.82199881726789], \"yaxis\": \"y\"}, {\"alignmentgroup\": \"True\", \"hovertemplate\": \"region_name=SSp-un6a<br>sample_id=%{x}<br>percentage=%{y}<extra></extra>\", \"legendgroup\": \"SSp-un6a\", \"marker\": {\"color\": \"#FF6692\"}, \"name\": \"SSp-un6a\", \"offsetgroup\": \"SSp-un6a\", \"orientation\": \"v\", \"showlegend\": true, \"textposition\": \"auto\", \"type\": \"bar\", \"x\": [\"AL207_647\", \"AL208_647\"], \"xaxis\": \"x\", \"y\": [0.49382716049382713, 1.1235955056179776], \"yaxis\": \"y\"}, {\"alignmentgroup\": \"True\", \"hovertemplate\": \"region_name=VISa5<br>sample_id=%{x}<br>percentage=%{y}<extra></extra>\", \"legendgroup\": \"VISa5\", \"marker\": {\"color\": \"#B6E880\"}, \"name\": \"VISa5\", \"offsetgroup\": \"VISa5\", \"orientation\": \"v\", \"showlegend\": true, \"textposition\": \"auto\", \"type\": \"bar\", \"x\": [\"AL207_647\", \"AL208_647\"], \"xaxis\": \"x\", \"y\": [1.4197530864197532, 1.6558249556475457], \"yaxis\": \"y\"}, {\"alignmentgroup\": \"True\", \"hovertemplate\": \"region_name=VISrl5<br>sample_id=%{x}<br>percentage=%{y}<extra></extra>\", \"legendgroup\": \"VISrl5\", \"marker\": {\"color\": \"#FF97FF\"}, \"name\": \"VISrl5\", \"offsetgroup\": \"VISrl5\", \"orientation\": \"v\", \"showlegend\": true, \"textposition\": \"auto\", \"type\": \"bar\", \"x\": [\"AL207_647\", \"AL287_647\"], \"xaxis\": \"x\", \"y\": [0.12345679012345678, 3.0395493486679968], \"yaxis\": \"y\"}, {\"alignmentgroup\": \"True\", \"hovertemplate\": \"region_name=VISal5<br>sample_id=%{x}<br>percentage=%{y}<extra></extra>\", \"legendgroup\": \"VISal5\", \"marker\": {\"color\": \"#FECB52\"}, \"name\": \"VISal5\", \"offsetgroup\": \"VISal5\", \"orientation\": \"v\", \"showlegend\": true, \"textposition\": \"auto\", \"type\": \"bar\", \"x\": [\"AL287_647\"], \"xaxis\": \"x\", \"y\": [3.614599225443023], \"yaxis\": \"y\"}, {\"alignmentgroup\": \"True\", \"hovertemplate\": \"region_name=AUDd5<br>sample_id=%{x}<br>percentage=%{y}<extra></extra>\", \"legendgroup\": \"AUDd5\", \"marker\": {\"color\": \"#636efa\"}, \"name\": \"AUDd5\", \"offsetgroup\": \"AUDd5\", \"orientation\": \"v\", \"showlegend\": true, \"textposition\": \"auto\", \"type\": \"bar\", \"x\": [\"AL287_647\"], \"xaxis\": \"x\", \"y\": [13.754254195516959], \"yaxis\": \"y\"}, {\"alignmentgroup\": \"True\", \"hovertemplate\": \"region_name=SSs5<br>sample_id=%{x}<br>percentage=%{y}<extra></extra>\", \"legendgroup\": \"SSs5\", \"marker\": {\"color\": \"#EF553B\"}, \"name\": \"SSs5\", \"offsetgroup\": \"SSs5\", \"orientation\": \"v\", \"showlegend\": true, \"textposition\": \"auto\", \"type\": \"bar\", \"x\": [\"AL287_647\", \"AL281_647\", \"AL286_647\", \"AL321_647\", \"AL322_647\"], \"xaxis\": \"x\", \"y\": [27.531979814575752, 89.53027730616864, 99.34711643090316, 78.96575821104123, 89.44723618090453], \"yaxis\": \"y\"}, {\"alignmentgroup\": \"True\", \"hovertemplate\": \"region_name=SSs6a<br>sample_id=%{x}<br>percentage=%{y}<extra></extra>\", \"legendgroup\": \"SSs6a\", \"marker\": {\"color\": \"#00cc96\"}, \"name\": \"SSs6a\", \"offsetgroup\": \"SSs6a\", \"orientation\": \"v\", \"showlegend\": true, \"textposition\": \"auto\", \"type\": \"bar\", \"x\": [\"AL281_647\", \"AL286_647\"], \"xaxis\": \"x\", \"y\": [10.469722693831352, 0.6528835690968444], \"yaxis\": \"y\"}, {\"alignmentgroup\": \"True\", \"hovertemplate\": \"region_name=SSs4<br>sample_id=%{x}<br>percentage=%{y}<extra></extra>\", \"legendgroup\": \"SSs4\", \"marker\": {\"color\": \"#ab63fa\"}, \"name\": \"SSs4\", \"offsetgroup\": \"SSs4\", \"orientation\": \"v\", \"showlegend\": true, \"textposition\": \"auto\", \"type\": \"bar\", \"x\": [\"AL321_647\", \"AL322_647\"], \"xaxis\": \"x\", \"y\": [7.26764500349406, 3.3165829145728645], \"yaxis\": \"y\"}, {\"alignmentgroup\": \"True\", \"hovertemplate\": \"region_name=SSp-ul5<br>sample_id=%{x}<br>percentage=%{y}<extra></extra>\", \"legendgroup\": \"SSp-ul5\", \"marker\": {\"color\": \"#FFA15A\"}, \"name\": \"SSp-ul5\", \"offsetgroup\": \"SSp-ul5\", \"orientation\": \"v\", \"showlegend\": true, \"textposition\": \"auto\", \"type\": \"bar\", \"x\": [\"AL208_647\"], \"xaxis\": \"x\", \"y\": [8.160851567120048], \"yaxis\": \"y\"}, {\"alignmentgroup\": \"True\", \"hovertemplate\": \"region_name=SSp-ul6a<br>sample_id=%{x}<br>percentage=%{y}<extra></extra>\", \"legendgroup\": \"SSp-ul6a\", \"marker\": {\"color\": \"#19d3f3\"}, \"name\": \"SSp-ul6a\", \"offsetgroup\": \"SSp-ul6a\", \"orientation\": \"v\", \"showlegend\": true, \"textposition\": \"auto\", \"type\": \"bar\", \"x\": [\"AL208_647\"], \"xaxis\": \"x\", \"y\": [0.23654642223536368], \"yaxis\": \"y\"}],                        {\"barmode\": \"relative\", \"legend\": {\"title\": {\"text\": \"region_name\"}, \"tracegroupgap\": 0}, \"margin\": {\"t\": 60}, \"template\": {\"data\": {\"bar\": [{\"error_x\": {\"color\": \"#2a3f5f\"}, \"error_y\": {\"color\": \"#2a3f5f\"}, \"marker\": {\"line\": {\"color\": \"#E5ECF6\", \"width\": 0.5}}, \"type\": \"bar\"}], \"barpolar\": [{\"marker\": {\"line\": {\"color\": \"#E5ECF6\", \"width\": 0.5}}, \"type\": \"barpolar\"}], \"carpet\": [{\"aaxis\": {\"endlinecolor\": \"#2a3f5f\", \"gridcolor\": \"white\", \"linecolor\": \"white\", \"minorgridcolor\": \"white\", \"startlinecolor\": \"#2a3f5f\"}, \"baxis\": {\"endlinecolor\": \"#2a3f5f\", \"gridcolor\": \"white\", \"linecolor\": \"white\", \"minorgridcolor\": \"white\", \"startlinecolor\": \"#2a3f5f\"}, \"type\": \"carpet\"}], \"choropleth\": [{\"colorbar\": {\"outlinewidth\": 0, \"ticks\": \"\"}, \"type\": \"choropleth\"}], \"contour\": [{\"colorbar\": {\"outlinewidth\": 0, \"ticks\": \"\"}, \"colorscale\": [[0.0, \"#0d0887\"], [0.1111111111111111, \"#46039f\"], [0.2222222222222222, \"#7201a8\"], [0.3333333333333333, \"#9c179e\"], [0.4444444444444444, \"#bd3786\"], [0.5555555555555556, \"#d8576b\"], [0.6666666666666666, \"#ed7953\"], [0.7777777777777778, \"#fb9f3a\"], [0.8888888888888888, \"#fdca26\"], [1.0, \"#f0f921\"]], \"type\": \"contour\"}], \"contourcarpet\": [{\"colorbar\": {\"outlinewidth\": 0, \"ticks\": \"\"}, \"type\": \"contourcarpet\"}], \"heatmap\": [{\"colorbar\": {\"outlinewidth\": 0, \"ticks\": \"\"}, \"colorscale\": [[0.0, \"#0d0887\"], [0.1111111111111111, \"#46039f\"], [0.2222222222222222, \"#7201a8\"], [0.3333333333333333, \"#9c179e\"], [0.4444444444444444, \"#bd3786\"], [0.5555555555555556, \"#d8576b\"], [0.6666666666666666, \"#ed7953\"], [0.7777777777777778, \"#fb9f3a\"], [0.8888888888888888, \"#fdca26\"], [1.0, \"#f0f921\"]], \"type\": \"heatmap\"}], \"heatmapgl\": [{\"colorbar\": {\"outlinewidth\": 0, \"ticks\": \"\"}, \"colorscale\": [[0.0, \"#0d0887\"], [0.1111111111111111, \"#46039f\"], [0.2222222222222222, \"#7201a8\"], [0.3333333333333333, \"#9c179e\"], [0.4444444444444444, \"#bd3786\"], [0.5555555555555556, \"#d8576b\"], [0.6666666666666666, \"#ed7953\"], [0.7777777777777778, \"#fb9f3a\"], [0.8888888888888888, \"#fdca26\"], [1.0, \"#f0f921\"]], \"type\": \"heatmapgl\"}], \"histogram\": [{\"marker\": {\"colorbar\": {\"outlinewidth\": 0, \"ticks\": \"\"}}, \"type\": \"histogram\"}], \"histogram2d\": [{\"colorbar\": {\"outlinewidth\": 0, \"ticks\": \"\"}, \"colorscale\": [[0.0, \"#0d0887\"], [0.1111111111111111, \"#46039f\"], [0.2222222222222222, \"#7201a8\"], [0.3333333333333333, \"#9c179e\"], [0.4444444444444444, \"#bd3786\"], [0.5555555555555556, \"#d8576b\"], [0.6666666666666666, \"#ed7953\"], [0.7777777777777778, \"#fb9f3a\"], [0.8888888888888888, \"#fdca26\"], [1.0, \"#f0f921\"]], \"type\": \"histogram2d\"}], \"histogram2dcontour\": [{\"colorbar\": {\"outlinewidth\": 0, \"ticks\": \"\"}, \"colorscale\": [[0.0, \"#0d0887\"], [0.1111111111111111, \"#46039f\"], [0.2222222222222222, \"#7201a8\"], [0.3333333333333333, \"#9c179e\"], [0.4444444444444444, \"#bd3786\"], [0.5555555555555556, \"#d8576b\"], [0.6666666666666666, \"#ed7953\"], [0.7777777777777778, \"#fb9f3a\"], [0.8888888888888888, \"#fdca26\"], [1.0, \"#f0f921\"]], \"type\": \"histogram2dcontour\"}], \"mesh3d\": [{\"colorbar\": {\"outlinewidth\": 0, \"ticks\": \"\"}, \"type\": \"mesh3d\"}], \"parcoords\": [{\"line\": {\"colorbar\": {\"outlinewidth\": 0, \"ticks\": \"\"}}, \"type\": \"parcoords\"}], \"pie\": [{\"automargin\": true, \"type\": \"pie\"}], \"scatter\": [{\"marker\": {\"colorbar\": {\"outlinewidth\": 0, \"ticks\": \"\"}}, \"type\": \"scatter\"}], \"scatter3d\": [{\"line\": {\"colorbar\": {\"outlinewidth\": 0, \"ticks\": \"\"}}, \"marker\": {\"colorbar\": {\"outlinewidth\": 0, \"ticks\": \"\"}}, \"type\": \"scatter3d\"}], \"scattercarpet\": [{\"marker\": {\"colorbar\": {\"outlinewidth\": 0, \"ticks\": \"\"}}, \"type\": \"scattercarpet\"}], \"scattergeo\": [{\"marker\": {\"colorbar\": {\"outlinewidth\": 0, \"ticks\": \"\"}}, \"type\": \"scattergeo\"}], \"scattergl\": [{\"marker\": {\"colorbar\": {\"outlinewidth\": 0, \"ticks\": \"\"}}, \"type\": \"scattergl\"}], \"scattermapbox\": [{\"marker\": {\"colorbar\": {\"outlinewidth\": 0, \"ticks\": \"\"}}, \"type\": \"scattermapbox\"}], \"scatterpolar\": [{\"marker\": {\"colorbar\": {\"outlinewidth\": 0, \"ticks\": \"\"}}, \"type\": \"scatterpolar\"}], \"scatterpolargl\": [{\"marker\": {\"colorbar\": {\"outlinewidth\": 0, \"ticks\": \"\"}}, \"type\": \"scatterpolargl\"}], \"scatterternary\": [{\"marker\": {\"colorbar\": {\"outlinewidth\": 0, \"ticks\": \"\"}}, \"type\": \"scatterternary\"}], \"surface\": [{\"colorbar\": {\"outlinewidth\": 0, \"ticks\": \"\"}, \"colorscale\": [[0.0, \"#0d0887\"], [0.1111111111111111, \"#46039f\"], [0.2222222222222222, \"#7201a8\"], [0.3333333333333333, \"#9c179e\"], [0.4444444444444444, \"#bd3786\"], [0.5555555555555556, \"#d8576b\"], [0.6666666666666666, \"#ed7953\"], [0.7777777777777778, \"#fb9f3a\"], [0.8888888888888888, \"#fdca26\"], [1.0, \"#f0f921\"]], \"type\": \"surface\"}], \"table\": [{\"cells\": {\"fill\": {\"color\": \"#EBF0F8\"}, \"line\": {\"color\": \"white\"}}, \"header\": {\"fill\": {\"color\": \"#C8D4E3\"}, \"line\": {\"color\": \"white\"}}, \"type\": \"table\"}]}, \"layout\": {\"annotationdefaults\": {\"arrowcolor\": \"#2a3f5f\", \"arrowhead\": 0, \"arrowwidth\": 1}, \"autotypenumbers\": \"strict\", \"coloraxis\": {\"colorbar\": {\"outlinewidth\": 0, \"ticks\": \"\"}}, \"colorscale\": {\"diverging\": [[0, \"#8e0152\"], [0.1, \"#c51b7d\"], [0.2, \"#de77ae\"], [0.3, \"#f1b6da\"], [0.4, \"#fde0ef\"], [0.5, \"#f7f7f7\"], [0.6, \"#e6f5d0\"], [0.7, \"#b8e186\"], [0.8, \"#7fbc41\"], [0.9, \"#4d9221\"], [1, \"#276419\"]], \"sequential\": [[0.0, \"#0d0887\"], [0.1111111111111111, \"#46039f\"], [0.2222222222222222, \"#7201a8\"], [0.3333333333333333, \"#9c179e\"], [0.4444444444444444, \"#bd3786\"], [0.5555555555555556, \"#d8576b\"], [0.6666666666666666, \"#ed7953\"], [0.7777777777777778, \"#fb9f3a\"], [0.8888888888888888, \"#fdca26\"], [1.0, \"#f0f921\"]], \"sequentialminus\": [[0.0, \"#0d0887\"], [0.1111111111111111, \"#46039f\"], [0.2222222222222222, \"#7201a8\"], [0.3333333333333333, \"#9c179e\"], [0.4444444444444444, \"#bd3786\"], [0.5555555555555556, \"#d8576b\"], [0.6666666666666666, \"#ed7953\"], [0.7777777777777778, \"#fb9f3a\"], [0.8888888888888888, \"#fdca26\"], [1.0, \"#f0f921\"]]}, \"colorway\": [\"#636efa\", \"#EF553B\", \"#00cc96\", \"#ab63fa\", \"#FFA15A\", \"#19d3f3\", \"#FF6692\", \"#B6E880\", \"#FF97FF\", \"#FECB52\"], \"font\": {\"color\": \"#2a3f5f\"}, \"geo\": {\"bgcolor\": \"white\", \"lakecolor\": \"white\", \"landcolor\": \"#E5ECF6\", \"showlakes\": true, \"showland\": true, \"subunitcolor\": \"white\"}, \"hoverlabel\": {\"align\": \"left\"}, \"hovermode\": \"closest\", \"mapbox\": {\"style\": \"light\"}, \"paper_bgcolor\": \"white\", \"plot_bgcolor\": \"#E5ECF6\", \"polar\": {\"angularaxis\": {\"gridcolor\": \"white\", \"linecolor\": \"white\", \"ticks\": \"\"}, \"bgcolor\": \"#E5ECF6\", \"radialaxis\": {\"gridcolor\": \"white\", \"linecolor\": \"white\", \"ticks\": \"\"}}, \"scene\": {\"xaxis\": {\"backgroundcolor\": \"#E5ECF6\", \"gridcolor\": \"white\", \"gridwidth\": 2, \"linecolor\": \"white\", \"showbackground\": true, \"ticks\": \"\", \"zerolinecolor\": \"white\"}, \"yaxis\": {\"backgroundcolor\": \"#E5ECF6\", \"gridcolor\": \"white\", \"gridwidth\": 2, \"linecolor\": \"white\", \"showbackground\": true, \"ticks\": \"\", \"zerolinecolor\": \"white\"}, \"zaxis\": {\"backgroundcolor\": \"#E5ECF6\", \"gridcolor\": \"white\", \"gridwidth\": 2, \"linecolor\": \"white\", \"showbackground\": true, \"ticks\": \"\", \"zerolinecolor\": \"white\"}}, \"shapedefaults\": {\"line\": {\"color\": \"#2a3f5f\"}}, \"ternary\": {\"aaxis\": {\"gridcolor\": \"white\", \"linecolor\": \"white\", \"ticks\": \"\"}, \"baxis\": {\"gridcolor\": \"white\", \"linecolor\": \"white\", \"ticks\": \"\"}, \"bgcolor\": \"#E5ECF6\", \"caxis\": {\"gridcolor\": \"white\", \"linecolor\": \"white\", \"ticks\": \"\"}}, \"title\": {\"x\": 0.05}, \"xaxis\": {\"automargin\": true, \"gridcolor\": \"white\", \"linecolor\": \"white\", \"ticks\": \"\", \"title\": {\"standoff\": 15}, \"zerolinecolor\": \"white\", \"zerolinewidth\": 2}, \"yaxis\": {\"automargin\": true, \"gridcolor\": \"white\", \"linecolor\": \"white\", \"ticks\": \"\", \"title\": {\"standoff\": 15}, \"zerolinecolor\": \"white\", \"zerolinewidth\": 2}}}, \"xaxis\": {\"anchor\": \"y\", \"domain\": [0.0, 1.0], \"title\": {\"text\": \"sample_id\"}}, \"yaxis\": {\"anchor\": \"x\", \"domain\": [0.0, 1.0], \"title\": {\"text\": \"percentage\"}}},                        {\"responsive\": true}                    ).then(function(){\n",
       "                            \n",
       "var gd = document.getElementById('7e365719-d05f-4b93-b0e5-07f7ebf0717d');\n",
       "var x = new MutationObserver(function (mutations, observer) {{\n",
       "        var display = window.getComputedStyle(gd).display;\n",
       "        if (!display || display === 'none') {{\n",
       "            console.log([gd, 'removed!']);\n",
       "            Plotly.purge(gd);\n",
       "            observer.disconnect();\n",
       "        }}\n",
       "}});\n",
       "\n",
       "// Listen for the removal of the full notebook cells\n",
       "var notebookContainer = gd.closest('#notebook-container');\n",
       "if (notebookContainer) {{\n",
       "    x.observe(notebookContainer, {childList: true});\n",
       "}}\n",
       "\n",
       "// Listen for the clearing of the current output cell\n",
       "var outputEl = gd.closest('.output');\n",
       "if (outputEl) {{\n",
       "    x.observe(outputEl, {childList: true});\n",
       "}}\n",
       "\n",
       "                        })                };                });            </script>        </div>"
      ]
     },
     "metadata": {},
     "output_type": "display_data"
    },
    {
     "name": "stdout",
     "output_type": "stream",
     "text": [
      "this genotype is Tlx3Cre\n"
     ]
    },
    {
     "data": {
      "application/vnd.plotly.v1+json": {
       "config": {
        "plotlyServerURL": "https://plot.ly"
       },
       "data": [
        {
         "alignmentgroup": "True",
         "hovertemplate": "region_name=SSp-bfd2/3<br>sample_id=%{x}<br>percentage=%{y}<extra></extra>",
         "legendgroup": "SSp-bfd2/3",
         "marker": {
          "color": "#636efa"
         },
         "name": "SSp-bfd2/3",
         "offsetgroup": "SSp-bfd2/3",
         "orientation": "v",
         "showlegend": true,
         "textposition": "auto",
         "type": "bar",
         "x": [
          "AL320_647"
         ],
         "xaxis": "x",
         "y": [
          9.386973180076629
         ],
         "yaxis": "y"
        },
        {
         "alignmentgroup": "True",
         "hovertemplate": "region_name=AUDd2/3<br>sample_id=%{x}<br>percentage=%{y}<extra></extra>",
         "legendgroup": "AUDd2/3",
         "marker": {
          "color": "#EF553B"
         },
         "name": "AUDd2/3",
         "offsetgroup": "AUDd2/3",
         "orientation": "v",
         "showlegend": true,
         "textposition": "auto",
         "type": "bar",
         "x": [
          "AL320_647"
         ],
         "xaxis": "x",
         "y": [
          10.855683269476373
         ],
         "yaxis": "y"
        },
        {
         "alignmentgroup": "True",
         "hovertemplate": "region_name=SSs2/3<br>sample_id=%{x}<br>percentage=%{y}<extra></extra>",
         "legendgroup": "SSs2/3",
         "marker": {
          "color": "#00cc96"
         },
         "name": "SSs2/3",
         "offsetgroup": "SSs2/3",
         "orientation": "v",
         "showlegend": true,
         "textposition": "auto",
         "type": "bar",
         "x": [
          "AL320_647"
         ],
         "xaxis": "x",
         "y": [
          28.607918263090678
         ],
         "yaxis": "y"
        },
        {
         "alignmentgroup": "True",
         "hovertemplate": "region_name=VISal2/3<br>sample_id=%{x}<br>percentage=%{y}<extra></extra>",
         "legendgroup": "VISal2/3",
         "marker": {
          "color": "#ab63fa"
         },
         "name": "VISal2/3",
         "offsetgroup": "VISal2/3",
         "orientation": "v",
         "showlegend": true,
         "textposition": "auto",
         "type": "bar",
         "x": [
          "AL320_647"
         ],
         "xaxis": "x",
         "y": [
          50.510855683269476
         ],
         "yaxis": "y"
        },
        {
         "alignmentgroup": "True",
         "hovertemplate": "region_name=SSp-bfd4<br>sample_id=%{x}<br>percentage=%{y}<extra></extra>",
         "legendgroup": "SSp-bfd4",
         "marker": {
          "color": "#FFA15A"
         },
         "name": "SSp-bfd4",
         "offsetgroup": "SSp-bfd4",
         "orientation": "v",
         "showlegend": true,
         "textposition": "auto",
         "type": "bar",
         "x": [
          "AL320_647",
          "AL313_647",
          "AL314_647",
          "AL210_647",
          "AL213_647",
          "AL278_647",
          "AL319_647"
         ],
         "xaxis": "x",
         "y": [
          0.2554278416347382,
          55.21204914783987,
          44.626474442988204,
          0.5390835579514824,
          1.4945652173913044,
          0.1638001638001638,
          7.501090274749237
         ],
         "yaxis": "y"
        },
        {
         "alignmentgroup": "True",
         "hovertemplate": "region_name=VISal4<br>sample_id=%{x}<br>percentage=%{y}<extra></extra>",
         "legendgroup": "VISal4",
         "marker": {
          "color": "#19d3f3"
         },
         "name": "VISal4",
         "offsetgroup": "VISal4",
         "orientation": "v",
         "showlegend": true,
         "textposition": "auto",
         "type": "bar",
         "x": [
          "AL320_647"
         ],
         "xaxis": "x",
         "y": [
          0.3831417624521073
         ],
         "yaxis": "y"
        },
        {
         "alignmentgroup": "True",
         "hovertemplate": "region_name=SSp-bfd5<br>sample_id=%{x}<br>percentage=%{y}<extra></extra>",
         "legendgroup": "SSp-bfd5",
         "marker": {
          "color": "#FF6692"
         },
         "name": "SSp-bfd5",
         "offsetgroup": "SSp-bfd5",
         "orientation": "v",
         "showlegend": true,
         "textposition": "auto",
         "type": "bar",
         "x": [
          "AL313_647",
          "AL314_647",
          "AL210_647",
          "AL213_647",
          "AL278_647",
          "AL280_647",
          "AL319_647"
         ],
         "xaxis": "x",
         "y": [
          44.78795085216013,
          55.373525557011796,
          61.132075471698116,
          98.5054347826087,
          4.2588042588042585,
          6.090133982947624,
          8.242477104230266
         ],
         "yaxis": "y"
        },
        {
         "alignmentgroup": "True",
         "hovertemplate": "region_name=SSp-tr5<br>sample_id=%{x}<br>percentage=%{y}<extra></extra>",
         "legendgroup": "SSp-tr5",
         "marker": {
          "color": "#B6E880"
         },
         "name": "SSp-tr5",
         "offsetgroup": "SSp-tr5",
         "orientation": "v",
         "showlegend": true,
         "textposition": "auto",
         "type": "bar",
         "x": [
          "AL210_647"
         ],
         "xaxis": "x",
         "y": [
          8.571428571428571
         ],
         "yaxis": "y"
        },
        {
         "alignmentgroup": "True",
         "hovertemplate": "region_name=VISa4<br>sample_id=%{x}<br>percentage=%{y}<extra></extra>",
         "legendgroup": "VISa4",
         "marker": {
          "color": "#FF97FF"
         },
         "name": "VISa4",
         "offsetgroup": "VISa4",
         "orientation": "v",
         "showlegend": true,
         "textposition": "auto",
         "type": "bar",
         "x": [
          "AL210_647"
         ],
         "xaxis": "x",
         "y": [
          0.05390835579514825
         ],
         "yaxis": "y"
        },
        {
         "alignmentgroup": "True",
         "hovertemplate": "region_name=VISa5<br>sample_id=%{x}<br>percentage=%{y}<extra></extra>",
         "legendgroup": "VISa5",
         "marker": {
          "color": "#FECB52"
         },
         "name": "VISa5",
         "offsetgroup": "VISa5",
         "orientation": "v",
         "showlegend": true,
         "textposition": "auto",
         "type": "bar",
         "x": [
          "AL210_647"
         ],
         "xaxis": "x",
         "y": [
          14.123989218328841
         ],
         "yaxis": "y"
        },
        {
         "alignmentgroup": "True",
         "hovertemplate": "region_name=VISrl4<br>sample_id=%{x}<br>percentage=%{y}<extra></extra>",
         "legendgroup": "VISrl4",
         "marker": {
          "color": "#636efa"
         },
         "name": "VISrl4",
         "offsetgroup": "VISrl4",
         "orientation": "v",
         "showlegend": true,
         "textposition": "auto",
         "type": "bar",
         "x": [
          "AL210_647"
         ],
         "xaxis": "x",
         "y": [
          0.48517520215633425
         ],
         "yaxis": "y"
        },
        {
         "alignmentgroup": "True",
         "hovertemplate": "region_name=VISrl5<br>sample_id=%{x}<br>percentage=%{y}<extra></extra>",
         "legendgroup": "VISrl5",
         "marker": {
          "color": "#EF553B"
         },
         "name": "VISrl5",
         "offsetgroup": "VISrl5",
         "orientation": "v",
         "showlegend": true,
         "textposition": "auto",
         "type": "bar",
         "x": [
          "AL210_647"
         ],
         "xaxis": "x",
         "y": [
          15.09433962264151
         ],
         "yaxis": "y"
        },
        {
         "alignmentgroup": "True",
         "hovertemplate": "region_name=SSs4<br>sample_id=%{x}<br>percentage=%{y}<extra></extra>",
         "legendgroup": "SSs4",
         "marker": {
          "color": "#00cc96"
         },
         "name": "SSs4",
         "offsetgroup": "SSs4",
         "orientation": "v",
         "showlegend": true,
         "textposition": "auto",
         "type": "bar",
         "x": [
          "AL278_647",
          "AL280_647",
          "AL319_647"
         ],
         "xaxis": "x",
         "y": [
          5.569205569205569,
          0.48721071863581,
          29.69908416921064
         ],
         "yaxis": "y"
        },
        {
         "alignmentgroup": "True",
         "hovertemplate": "region_name=SSs5<br>sample_id=%{x}<br>percentage=%{y}<extra></extra>",
         "legendgroup": "SSs5",
         "marker": {
          "color": "#ab63fa"
         },
         "name": "SSs5",
         "offsetgroup": "SSs5",
         "orientation": "v",
         "showlegend": true,
         "textposition": "auto",
         "type": "bar",
         "x": [
          "AL278_647",
          "AL280_647",
          "AL319_647"
         ],
         "xaxis": "x",
         "y": [
          90.00819000819001,
          93.42265529841657,
          54.55734845180986
         ],
         "yaxis": "y"
        }
       ],
       "layout": {
        "barmode": "relative",
        "legend": {
         "title": {
          "text": "region_name"
         },
         "tracegroupgap": 0
        },
        "margin": {
         "t": 60
        },
        "template": {
         "data": {
          "bar": [
           {
            "error_x": {
             "color": "#2a3f5f"
            },
            "error_y": {
             "color": "#2a3f5f"
            },
            "marker": {
             "line": {
              "color": "#E5ECF6",
              "width": 0.5
             }
            },
            "type": "bar"
           }
          ],
          "barpolar": [
           {
            "marker": {
             "line": {
              "color": "#E5ECF6",
              "width": 0.5
             }
            },
            "type": "barpolar"
           }
          ],
          "carpet": [
           {
            "aaxis": {
             "endlinecolor": "#2a3f5f",
             "gridcolor": "white",
             "linecolor": "white",
             "minorgridcolor": "white",
             "startlinecolor": "#2a3f5f"
            },
            "baxis": {
             "endlinecolor": "#2a3f5f",
             "gridcolor": "white",
             "linecolor": "white",
             "minorgridcolor": "white",
             "startlinecolor": "#2a3f5f"
            },
            "type": "carpet"
           }
          ],
          "choropleth": [
           {
            "colorbar": {
             "outlinewidth": 0,
             "ticks": ""
            },
            "type": "choropleth"
           }
          ],
          "contour": [
           {
            "colorbar": {
             "outlinewidth": 0,
             "ticks": ""
            },
            "colorscale": [
             [
              0,
              "#0d0887"
             ],
             [
              0.1111111111111111,
              "#46039f"
             ],
             [
              0.2222222222222222,
              "#7201a8"
             ],
             [
              0.3333333333333333,
              "#9c179e"
             ],
             [
              0.4444444444444444,
              "#bd3786"
             ],
             [
              0.5555555555555556,
              "#d8576b"
             ],
             [
              0.6666666666666666,
              "#ed7953"
             ],
             [
              0.7777777777777778,
              "#fb9f3a"
             ],
             [
              0.8888888888888888,
              "#fdca26"
             ],
             [
              1,
              "#f0f921"
             ]
            ],
            "type": "contour"
           }
          ],
          "contourcarpet": [
           {
            "colorbar": {
             "outlinewidth": 0,
             "ticks": ""
            },
            "type": "contourcarpet"
           }
          ],
          "heatmap": [
           {
            "colorbar": {
             "outlinewidth": 0,
             "ticks": ""
            },
            "colorscale": [
             [
              0,
              "#0d0887"
             ],
             [
              0.1111111111111111,
              "#46039f"
             ],
             [
              0.2222222222222222,
              "#7201a8"
             ],
             [
              0.3333333333333333,
              "#9c179e"
             ],
             [
              0.4444444444444444,
              "#bd3786"
             ],
             [
              0.5555555555555556,
              "#d8576b"
             ],
             [
              0.6666666666666666,
              "#ed7953"
             ],
             [
              0.7777777777777778,
              "#fb9f3a"
             ],
             [
              0.8888888888888888,
              "#fdca26"
             ],
             [
              1,
              "#f0f921"
             ]
            ],
            "type": "heatmap"
           }
          ],
          "heatmapgl": [
           {
            "colorbar": {
             "outlinewidth": 0,
             "ticks": ""
            },
            "colorscale": [
             [
              0,
              "#0d0887"
             ],
             [
              0.1111111111111111,
              "#46039f"
             ],
             [
              0.2222222222222222,
              "#7201a8"
             ],
             [
              0.3333333333333333,
              "#9c179e"
             ],
             [
              0.4444444444444444,
              "#bd3786"
             ],
             [
              0.5555555555555556,
              "#d8576b"
             ],
             [
              0.6666666666666666,
              "#ed7953"
             ],
             [
              0.7777777777777778,
              "#fb9f3a"
             ],
             [
              0.8888888888888888,
              "#fdca26"
             ],
             [
              1,
              "#f0f921"
             ]
            ],
            "type": "heatmapgl"
           }
          ],
          "histogram": [
           {
            "marker": {
             "colorbar": {
              "outlinewidth": 0,
              "ticks": ""
             }
            },
            "type": "histogram"
           }
          ],
          "histogram2d": [
           {
            "colorbar": {
             "outlinewidth": 0,
             "ticks": ""
            },
            "colorscale": [
             [
              0,
              "#0d0887"
             ],
             [
              0.1111111111111111,
              "#46039f"
             ],
             [
              0.2222222222222222,
              "#7201a8"
             ],
             [
              0.3333333333333333,
              "#9c179e"
             ],
             [
              0.4444444444444444,
              "#bd3786"
             ],
             [
              0.5555555555555556,
              "#d8576b"
             ],
             [
              0.6666666666666666,
              "#ed7953"
             ],
             [
              0.7777777777777778,
              "#fb9f3a"
             ],
             [
              0.8888888888888888,
              "#fdca26"
             ],
             [
              1,
              "#f0f921"
             ]
            ],
            "type": "histogram2d"
           }
          ],
          "histogram2dcontour": [
           {
            "colorbar": {
             "outlinewidth": 0,
             "ticks": ""
            },
            "colorscale": [
             [
              0,
              "#0d0887"
             ],
             [
              0.1111111111111111,
              "#46039f"
             ],
             [
              0.2222222222222222,
              "#7201a8"
             ],
             [
              0.3333333333333333,
              "#9c179e"
             ],
             [
              0.4444444444444444,
              "#bd3786"
             ],
             [
              0.5555555555555556,
              "#d8576b"
             ],
             [
              0.6666666666666666,
              "#ed7953"
             ],
             [
              0.7777777777777778,
              "#fb9f3a"
             ],
             [
              0.8888888888888888,
              "#fdca26"
             ],
             [
              1,
              "#f0f921"
             ]
            ],
            "type": "histogram2dcontour"
           }
          ],
          "mesh3d": [
           {
            "colorbar": {
             "outlinewidth": 0,
             "ticks": ""
            },
            "type": "mesh3d"
           }
          ],
          "parcoords": [
           {
            "line": {
             "colorbar": {
              "outlinewidth": 0,
              "ticks": ""
             }
            },
            "type": "parcoords"
           }
          ],
          "pie": [
           {
            "automargin": true,
            "type": "pie"
           }
          ],
          "scatter": [
           {
            "marker": {
             "colorbar": {
              "outlinewidth": 0,
              "ticks": ""
             }
            },
            "type": "scatter"
           }
          ],
          "scatter3d": [
           {
            "line": {
             "colorbar": {
              "outlinewidth": 0,
              "ticks": ""
             }
            },
            "marker": {
             "colorbar": {
              "outlinewidth": 0,
              "ticks": ""
             }
            },
            "type": "scatter3d"
           }
          ],
          "scattercarpet": [
           {
            "marker": {
             "colorbar": {
              "outlinewidth": 0,
              "ticks": ""
             }
            },
            "type": "scattercarpet"
           }
          ],
          "scattergeo": [
           {
            "marker": {
             "colorbar": {
              "outlinewidth": 0,
              "ticks": ""
             }
            },
            "type": "scattergeo"
           }
          ],
          "scattergl": [
           {
            "marker": {
             "colorbar": {
              "outlinewidth": 0,
              "ticks": ""
             }
            },
            "type": "scattergl"
           }
          ],
          "scattermapbox": [
           {
            "marker": {
             "colorbar": {
              "outlinewidth": 0,
              "ticks": ""
             }
            },
            "type": "scattermapbox"
           }
          ],
          "scatterpolar": [
           {
            "marker": {
             "colorbar": {
              "outlinewidth": 0,
              "ticks": ""
             }
            },
            "type": "scatterpolar"
           }
          ],
          "scatterpolargl": [
           {
            "marker": {
             "colorbar": {
              "outlinewidth": 0,
              "ticks": ""
             }
            },
            "type": "scatterpolargl"
           }
          ],
          "scatterternary": [
           {
            "marker": {
             "colorbar": {
              "outlinewidth": 0,
              "ticks": ""
             }
            },
            "type": "scatterternary"
           }
          ],
          "surface": [
           {
            "colorbar": {
             "outlinewidth": 0,
             "ticks": ""
            },
            "colorscale": [
             [
              0,
              "#0d0887"
             ],
             [
              0.1111111111111111,
              "#46039f"
             ],
             [
              0.2222222222222222,
              "#7201a8"
             ],
             [
              0.3333333333333333,
              "#9c179e"
             ],
             [
              0.4444444444444444,
              "#bd3786"
             ],
             [
              0.5555555555555556,
              "#d8576b"
             ],
             [
              0.6666666666666666,
              "#ed7953"
             ],
             [
              0.7777777777777778,
              "#fb9f3a"
             ],
             [
              0.8888888888888888,
              "#fdca26"
             ],
             [
              1,
              "#f0f921"
             ]
            ],
            "type": "surface"
           }
          ],
          "table": [
           {
            "cells": {
             "fill": {
              "color": "#EBF0F8"
             },
             "line": {
              "color": "white"
             }
            },
            "header": {
             "fill": {
              "color": "#C8D4E3"
             },
             "line": {
              "color": "white"
             }
            },
            "type": "table"
           }
          ]
         },
         "layout": {
          "annotationdefaults": {
           "arrowcolor": "#2a3f5f",
           "arrowhead": 0,
           "arrowwidth": 1
          },
          "autotypenumbers": "strict",
          "coloraxis": {
           "colorbar": {
            "outlinewidth": 0,
            "ticks": ""
           }
          },
          "colorscale": {
           "diverging": [
            [
             0,
             "#8e0152"
            ],
            [
             0.1,
             "#c51b7d"
            ],
            [
             0.2,
             "#de77ae"
            ],
            [
             0.3,
             "#f1b6da"
            ],
            [
             0.4,
             "#fde0ef"
            ],
            [
             0.5,
             "#f7f7f7"
            ],
            [
             0.6,
             "#e6f5d0"
            ],
            [
             0.7,
             "#b8e186"
            ],
            [
             0.8,
             "#7fbc41"
            ],
            [
             0.9,
             "#4d9221"
            ],
            [
             1,
             "#276419"
            ]
           ],
           "sequential": [
            [
             0,
             "#0d0887"
            ],
            [
             0.1111111111111111,
             "#46039f"
            ],
            [
             0.2222222222222222,
             "#7201a8"
            ],
            [
             0.3333333333333333,
             "#9c179e"
            ],
            [
             0.4444444444444444,
             "#bd3786"
            ],
            [
             0.5555555555555556,
             "#d8576b"
            ],
            [
             0.6666666666666666,
             "#ed7953"
            ],
            [
             0.7777777777777778,
             "#fb9f3a"
            ],
            [
             0.8888888888888888,
             "#fdca26"
            ],
            [
             1,
             "#f0f921"
            ]
           ],
           "sequentialminus": [
            [
             0,
             "#0d0887"
            ],
            [
             0.1111111111111111,
             "#46039f"
            ],
            [
             0.2222222222222222,
             "#7201a8"
            ],
            [
             0.3333333333333333,
             "#9c179e"
            ],
            [
             0.4444444444444444,
             "#bd3786"
            ],
            [
             0.5555555555555556,
             "#d8576b"
            ],
            [
             0.6666666666666666,
             "#ed7953"
            ],
            [
             0.7777777777777778,
             "#fb9f3a"
            ],
            [
             0.8888888888888888,
             "#fdca26"
            ],
            [
             1,
             "#f0f921"
            ]
           ]
          },
          "colorway": [
           "#636efa",
           "#EF553B",
           "#00cc96",
           "#ab63fa",
           "#FFA15A",
           "#19d3f3",
           "#FF6692",
           "#B6E880",
           "#FF97FF",
           "#FECB52"
          ],
          "font": {
           "color": "#2a3f5f"
          },
          "geo": {
           "bgcolor": "white",
           "lakecolor": "white",
           "landcolor": "#E5ECF6",
           "showlakes": true,
           "showland": true,
           "subunitcolor": "white"
          },
          "hoverlabel": {
           "align": "left"
          },
          "hovermode": "closest",
          "mapbox": {
           "style": "light"
          },
          "paper_bgcolor": "white",
          "plot_bgcolor": "#E5ECF6",
          "polar": {
           "angularaxis": {
            "gridcolor": "white",
            "linecolor": "white",
            "ticks": ""
           },
           "bgcolor": "#E5ECF6",
           "radialaxis": {
            "gridcolor": "white",
            "linecolor": "white",
            "ticks": ""
           }
          },
          "scene": {
           "xaxis": {
            "backgroundcolor": "#E5ECF6",
            "gridcolor": "white",
            "gridwidth": 2,
            "linecolor": "white",
            "showbackground": true,
            "ticks": "",
            "zerolinecolor": "white"
           },
           "yaxis": {
            "backgroundcolor": "#E5ECF6",
            "gridcolor": "white",
            "gridwidth": 2,
            "linecolor": "white",
            "showbackground": true,
            "ticks": "",
            "zerolinecolor": "white"
           },
           "zaxis": {
            "backgroundcolor": "#E5ECF6",
            "gridcolor": "white",
            "gridwidth": 2,
            "linecolor": "white",
            "showbackground": true,
            "ticks": "",
            "zerolinecolor": "white"
           }
          },
          "shapedefaults": {
           "line": {
            "color": "#2a3f5f"
           }
          },
          "ternary": {
           "aaxis": {
            "gridcolor": "white",
            "linecolor": "white",
            "ticks": ""
           },
           "baxis": {
            "gridcolor": "white",
            "linecolor": "white",
            "ticks": ""
           },
           "bgcolor": "#E5ECF6",
           "caxis": {
            "gridcolor": "white",
            "linecolor": "white",
            "ticks": ""
           }
          },
          "title": {
           "x": 0.05
          },
          "xaxis": {
           "automargin": true,
           "gridcolor": "white",
           "linecolor": "white",
           "ticks": "",
           "title": {
            "standoff": 15
           },
           "zerolinecolor": "white",
           "zerolinewidth": 2
          },
          "yaxis": {
           "automargin": true,
           "gridcolor": "white",
           "linecolor": "white",
           "ticks": "",
           "title": {
            "standoff": 15
           },
           "zerolinecolor": "white",
           "zerolinewidth": 2
          }
         }
        },
        "xaxis": {
         "anchor": "y",
         "domain": [
          0,
          1
         ],
         "title": {
          "text": "sample_id"
         }
        },
        "yaxis": {
         "anchor": "x",
         "domain": [
          0,
          1
         ],
         "title": {
          "text": "percentage"
         }
        }
       }
      },
      "text/html": [
       "<div>                            <div id=\"521d0968-6975-4dba-84af-353c18c76f8e\" class=\"plotly-graph-div\" style=\"height:525px; width:100%;\"></div>            <script type=\"text/javascript\">                require([\"plotly\"], function(Plotly) {                    window.PLOTLYENV=window.PLOTLYENV || {};                                    if (document.getElementById(\"521d0968-6975-4dba-84af-353c18c76f8e\")) {                    Plotly.newPlot(                        \"521d0968-6975-4dba-84af-353c18c76f8e\",                        [{\"alignmentgroup\": \"True\", \"hovertemplate\": \"region_name=SSp-bfd2/3<br>sample_id=%{x}<br>percentage=%{y}<extra></extra>\", \"legendgroup\": \"SSp-bfd2/3\", \"marker\": {\"color\": \"#636efa\"}, \"name\": \"SSp-bfd2/3\", \"offsetgroup\": \"SSp-bfd2/3\", \"orientation\": \"v\", \"showlegend\": true, \"textposition\": \"auto\", \"type\": \"bar\", \"x\": [\"AL320_647\"], \"xaxis\": \"x\", \"y\": [9.386973180076629], \"yaxis\": \"y\"}, {\"alignmentgroup\": \"True\", \"hovertemplate\": \"region_name=AUDd2/3<br>sample_id=%{x}<br>percentage=%{y}<extra></extra>\", \"legendgroup\": \"AUDd2/3\", \"marker\": {\"color\": \"#EF553B\"}, \"name\": \"AUDd2/3\", \"offsetgroup\": \"AUDd2/3\", \"orientation\": \"v\", \"showlegend\": true, \"textposition\": \"auto\", \"type\": \"bar\", \"x\": [\"AL320_647\"], \"xaxis\": \"x\", \"y\": [10.855683269476373], \"yaxis\": \"y\"}, {\"alignmentgroup\": \"True\", \"hovertemplate\": \"region_name=SSs2/3<br>sample_id=%{x}<br>percentage=%{y}<extra></extra>\", \"legendgroup\": \"SSs2/3\", \"marker\": {\"color\": \"#00cc96\"}, \"name\": \"SSs2/3\", \"offsetgroup\": \"SSs2/3\", \"orientation\": \"v\", \"showlegend\": true, \"textposition\": \"auto\", \"type\": \"bar\", \"x\": [\"AL320_647\"], \"xaxis\": \"x\", \"y\": [28.607918263090678], \"yaxis\": \"y\"}, {\"alignmentgroup\": \"True\", \"hovertemplate\": \"region_name=VISal2/3<br>sample_id=%{x}<br>percentage=%{y}<extra></extra>\", \"legendgroup\": \"VISal2/3\", \"marker\": {\"color\": \"#ab63fa\"}, \"name\": \"VISal2/3\", \"offsetgroup\": \"VISal2/3\", \"orientation\": \"v\", \"showlegend\": true, \"textposition\": \"auto\", \"type\": \"bar\", \"x\": [\"AL320_647\"], \"xaxis\": \"x\", \"y\": [50.510855683269476], \"yaxis\": \"y\"}, {\"alignmentgroup\": \"True\", \"hovertemplate\": \"region_name=SSp-bfd4<br>sample_id=%{x}<br>percentage=%{y}<extra></extra>\", \"legendgroup\": \"SSp-bfd4\", \"marker\": {\"color\": \"#FFA15A\"}, \"name\": \"SSp-bfd4\", \"offsetgroup\": \"SSp-bfd4\", \"orientation\": \"v\", \"showlegend\": true, \"textposition\": \"auto\", \"type\": \"bar\", \"x\": [\"AL320_647\", \"AL313_647\", \"AL314_647\", \"AL210_647\", \"AL213_647\", \"AL278_647\", \"AL319_647\"], \"xaxis\": \"x\", \"y\": [0.2554278416347382, 55.21204914783987, 44.626474442988204, 0.5390835579514824, 1.4945652173913044, 0.1638001638001638, 7.501090274749237], \"yaxis\": \"y\"}, {\"alignmentgroup\": \"True\", \"hovertemplate\": \"region_name=VISal4<br>sample_id=%{x}<br>percentage=%{y}<extra></extra>\", \"legendgroup\": \"VISal4\", \"marker\": {\"color\": \"#19d3f3\"}, \"name\": \"VISal4\", \"offsetgroup\": \"VISal4\", \"orientation\": \"v\", \"showlegend\": true, \"textposition\": \"auto\", \"type\": \"bar\", \"x\": [\"AL320_647\"], \"xaxis\": \"x\", \"y\": [0.3831417624521073], \"yaxis\": \"y\"}, {\"alignmentgroup\": \"True\", \"hovertemplate\": \"region_name=SSp-bfd5<br>sample_id=%{x}<br>percentage=%{y}<extra></extra>\", \"legendgroup\": \"SSp-bfd5\", \"marker\": {\"color\": \"#FF6692\"}, \"name\": \"SSp-bfd5\", \"offsetgroup\": \"SSp-bfd5\", \"orientation\": \"v\", \"showlegend\": true, \"textposition\": \"auto\", \"type\": \"bar\", \"x\": [\"AL313_647\", \"AL314_647\", \"AL210_647\", \"AL213_647\", \"AL278_647\", \"AL280_647\", \"AL319_647\"], \"xaxis\": \"x\", \"y\": [44.78795085216013, 55.373525557011796, 61.132075471698116, 98.5054347826087, 4.2588042588042585, 6.090133982947624, 8.242477104230266], \"yaxis\": \"y\"}, {\"alignmentgroup\": \"True\", \"hovertemplate\": \"region_name=SSp-tr5<br>sample_id=%{x}<br>percentage=%{y}<extra></extra>\", \"legendgroup\": \"SSp-tr5\", \"marker\": {\"color\": \"#B6E880\"}, \"name\": \"SSp-tr5\", \"offsetgroup\": \"SSp-tr5\", \"orientation\": \"v\", \"showlegend\": true, \"textposition\": \"auto\", \"type\": \"bar\", \"x\": [\"AL210_647\"], \"xaxis\": \"x\", \"y\": [8.571428571428571], \"yaxis\": \"y\"}, {\"alignmentgroup\": \"True\", \"hovertemplate\": \"region_name=VISa4<br>sample_id=%{x}<br>percentage=%{y}<extra></extra>\", \"legendgroup\": \"VISa4\", \"marker\": {\"color\": \"#FF97FF\"}, \"name\": \"VISa4\", \"offsetgroup\": \"VISa4\", \"orientation\": \"v\", \"showlegend\": true, \"textposition\": \"auto\", \"type\": \"bar\", \"x\": [\"AL210_647\"], \"xaxis\": \"x\", \"y\": [0.05390835579514825], \"yaxis\": \"y\"}, {\"alignmentgroup\": \"True\", \"hovertemplate\": \"region_name=VISa5<br>sample_id=%{x}<br>percentage=%{y}<extra></extra>\", \"legendgroup\": \"VISa5\", \"marker\": {\"color\": \"#FECB52\"}, \"name\": \"VISa5\", \"offsetgroup\": \"VISa5\", \"orientation\": \"v\", \"showlegend\": true, \"textposition\": \"auto\", \"type\": \"bar\", \"x\": [\"AL210_647\"], \"xaxis\": \"x\", \"y\": [14.123989218328841], \"yaxis\": \"y\"}, {\"alignmentgroup\": \"True\", \"hovertemplate\": \"region_name=VISrl4<br>sample_id=%{x}<br>percentage=%{y}<extra></extra>\", \"legendgroup\": \"VISrl4\", \"marker\": {\"color\": \"#636efa\"}, \"name\": \"VISrl4\", \"offsetgroup\": \"VISrl4\", \"orientation\": \"v\", \"showlegend\": true, \"textposition\": \"auto\", \"type\": \"bar\", \"x\": [\"AL210_647\"], \"xaxis\": \"x\", \"y\": [0.48517520215633425], \"yaxis\": \"y\"}, {\"alignmentgroup\": \"True\", \"hovertemplate\": \"region_name=VISrl5<br>sample_id=%{x}<br>percentage=%{y}<extra></extra>\", \"legendgroup\": \"VISrl5\", \"marker\": {\"color\": \"#EF553B\"}, \"name\": \"VISrl5\", \"offsetgroup\": \"VISrl5\", \"orientation\": \"v\", \"showlegend\": true, \"textposition\": \"auto\", \"type\": \"bar\", \"x\": [\"AL210_647\"], \"xaxis\": \"x\", \"y\": [15.09433962264151], \"yaxis\": \"y\"}, {\"alignmentgroup\": \"True\", \"hovertemplate\": \"region_name=SSs4<br>sample_id=%{x}<br>percentage=%{y}<extra></extra>\", \"legendgroup\": \"SSs4\", \"marker\": {\"color\": \"#00cc96\"}, \"name\": \"SSs4\", \"offsetgroup\": \"SSs4\", \"orientation\": \"v\", \"showlegend\": true, \"textposition\": \"auto\", \"type\": \"bar\", \"x\": [\"AL278_647\", \"AL280_647\", \"AL319_647\"], \"xaxis\": \"x\", \"y\": [5.569205569205569, 0.48721071863581, 29.69908416921064], \"yaxis\": \"y\"}, {\"alignmentgroup\": \"True\", \"hovertemplate\": \"region_name=SSs5<br>sample_id=%{x}<br>percentage=%{y}<extra></extra>\", \"legendgroup\": \"SSs5\", \"marker\": {\"color\": \"#ab63fa\"}, \"name\": \"SSs5\", \"offsetgroup\": \"SSs5\", \"orientation\": \"v\", \"showlegend\": true, \"textposition\": \"auto\", \"type\": \"bar\", \"x\": [\"AL278_647\", \"AL280_647\", \"AL319_647\"], \"xaxis\": \"x\", \"y\": [90.00819000819001, 93.42265529841657, 54.55734845180986], \"yaxis\": \"y\"}],                        {\"barmode\": \"relative\", \"legend\": {\"title\": {\"text\": \"region_name\"}, \"tracegroupgap\": 0}, \"margin\": {\"t\": 60}, \"template\": {\"data\": {\"bar\": [{\"error_x\": {\"color\": \"#2a3f5f\"}, \"error_y\": {\"color\": \"#2a3f5f\"}, \"marker\": {\"line\": {\"color\": \"#E5ECF6\", \"width\": 0.5}}, \"type\": \"bar\"}], \"barpolar\": [{\"marker\": {\"line\": {\"color\": \"#E5ECF6\", \"width\": 0.5}}, \"type\": \"barpolar\"}], \"carpet\": [{\"aaxis\": {\"endlinecolor\": \"#2a3f5f\", \"gridcolor\": \"white\", \"linecolor\": \"white\", \"minorgridcolor\": \"white\", \"startlinecolor\": \"#2a3f5f\"}, \"baxis\": {\"endlinecolor\": \"#2a3f5f\", \"gridcolor\": \"white\", \"linecolor\": \"white\", \"minorgridcolor\": \"white\", \"startlinecolor\": \"#2a3f5f\"}, \"type\": \"carpet\"}], \"choropleth\": [{\"colorbar\": {\"outlinewidth\": 0, \"ticks\": \"\"}, \"type\": \"choropleth\"}], \"contour\": [{\"colorbar\": {\"outlinewidth\": 0, \"ticks\": \"\"}, \"colorscale\": [[0.0, \"#0d0887\"], [0.1111111111111111, \"#46039f\"], [0.2222222222222222, \"#7201a8\"], [0.3333333333333333, \"#9c179e\"], [0.4444444444444444, \"#bd3786\"], [0.5555555555555556, \"#d8576b\"], [0.6666666666666666, \"#ed7953\"], [0.7777777777777778, \"#fb9f3a\"], [0.8888888888888888, \"#fdca26\"], [1.0, \"#f0f921\"]], \"type\": \"contour\"}], \"contourcarpet\": [{\"colorbar\": {\"outlinewidth\": 0, \"ticks\": \"\"}, \"type\": \"contourcarpet\"}], \"heatmap\": [{\"colorbar\": {\"outlinewidth\": 0, \"ticks\": \"\"}, \"colorscale\": [[0.0, \"#0d0887\"], [0.1111111111111111, \"#46039f\"], [0.2222222222222222, \"#7201a8\"], [0.3333333333333333, \"#9c179e\"], [0.4444444444444444, \"#bd3786\"], [0.5555555555555556, \"#d8576b\"], [0.6666666666666666, \"#ed7953\"], [0.7777777777777778, \"#fb9f3a\"], [0.8888888888888888, \"#fdca26\"], [1.0, \"#f0f921\"]], \"type\": \"heatmap\"}], \"heatmapgl\": [{\"colorbar\": {\"outlinewidth\": 0, \"ticks\": \"\"}, \"colorscale\": [[0.0, \"#0d0887\"], [0.1111111111111111, \"#46039f\"], [0.2222222222222222, \"#7201a8\"], [0.3333333333333333, \"#9c179e\"], [0.4444444444444444, \"#bd3786\"], [0.5555555555555556, \"#d8576b\"], [0.6666666666666666, \"#ed7953\"], [0.7777777777777778, \"#fb9f3a\"], [0.8888888888888888, \"#fdca26\"], [1.0, \"#f0f921\"]], \"type\": \"heatmapgl\"}], \"histogram\": [{\"marker\": {\"colorbar\": {\"outlinewidth\": 0, \"ticks\": \"\"}}, \"type\": \"histogram\"}], \"histogram2d\": [{\"colorbar\": {\"outlinewidth\": 0, \"ticks\": \"\"}, \"colorscale\": [[0.0, \"#0d0887\"], [0.1111111111111111, \"#46039f\"], [0.2222222222222222, \"#7201a8\"], [0.3333333333333333, \"#9c179e\"], [0.4444444444444444, \"#bd3786\"], [0.5555555555555556, \"#d8576b\"], [0.6666666666666666, \"#ed7953\"], [0.7777777777777778, \"#fb9f3a\"], [0.8888888888888888, \"#fdca26\"], [1.0, \"#f0f921\"]], \"type\": \"histogram2d\"}], \"histogram2dcontour\": [{\"colorbar\": {\"outlinewidth\": 0, \"ticks\": \"\"}, \"colorscale\": [[0.0, \"#0d0887\"], [0.1111111111111111, \"#46039f\"], [0.2222222222222222, \"#7201a8\"], [0.3333333333333333, \"#9c179e\"], [0.4444444444444444, \"#bd3786\"], [0.5555555555555556, \"#d8576b\"], [0.6666666666666666, \"#ed7953\"], [0.7777777777777778, \"#fb9f3a\"], [0.8888888888888888, \"#fdca26\"], [1.0, \"#f0f921\"]], \"type\": \"histogram2dcontour\"}], \"mesh3d\": [{\"colorbar\": {\"outlinewidth\": 0, \"ticks\": \"\"}, \"type\": \"mesh3d\"}], \"parcoords\": [{\"line\": {\"colorbar\": {\"outlinewidth\": 0, \"ticks\": \"\"}}, \"type\": \"parcoords\"}], \"pie\": [{\"automargin\": true, \"type\": \"pie\"}], \"scatter\": [{\"marker\": {\"colorbar\": {\"outlinewidth\": 0, \"ticks\": \"\"}}, \"type\": \"scatter\"}], \"scatter3d\": [{\"line\": {\"colorbar\": {\"outlinewidth\": 0, \"ticks\": \"\"}}, \"marker\": {\"colorbar\": {\"outlinewidth\": 0, \"ticks\": \"\"}}, \"type\": \"scatter3d\"}], \"scattercarpet\": [{\"marker\": {\"colorbar\": {\"outlinewidth\": 0, \"ticks\": \"\"}}, \"type\": \"scattercarpet\"}], \"scattergeo\": [{\"marker\": {\"colorbar\": {\"outlinewidth\": 0, \"ticks\": \"\"}}, \"type\": \"scattergeo\"}], \"scattergl\": [{\"marker\": {\"colorbar\": {\"outlinewidth\": 0, \"ticks\": \"\"}}, \"type\": \"scattergl\"}], \"scattermapbox\": [{\"marker\": {\"colorbar\": {\"outlinewidth\": 0, \"ticks\": \"\"}}, \"type\": \"scattermapbox\"}], \"scatterpolar\": [{\"marker\": {\"colorbar\": {\"outlinewidth\": 0, \"ticks\": \"\"}}, \"type\": \"scatterpolar\"}], \"scatterpolargl\": [{\"marker\": {\"colorbar\": {\"outlinewidth\": 0, \"ticks\": \"\"}}, \"type\": \"scatterpolargl\"}], \"scatterternary\": [{\"marker\": {\"colorbar\": {\"outlinewidth\": 0, \"ticks\": \"\"}}, \"type\": \"scatterternary\"}], \"surface\": [{\"colorbar\": {\"outlinewidth\": 0, \"ticks\": \"\"}, \"colorscale\": [[0.0, \"#0d0887\"], [0.1111111111111111, \"#46039f\"], [0.2222222222222222, \"#7201a8\"], [0.3333333333333333, \"#9c179e\"], [0.4444444444444444, \"#bd3786\"], [0.5555555555555556, \"#d8576b\"], [0.6666666666666666, \"#ed7953\"], [0.7777777777777778, \"#fb9f3a\"], [0.8888888888888888, \"#fdca26\"], [1.0, \"#f0f921\"]], \"type\": \"surface\"}], \"table\": [{\"cells\": {\"fill\": {\"color\": \"#EBF0F8\"}, \"line\": {\"color\": \"white\"}}, \"header\": {\"fill\": {\"color\": \"#C8D4E3\"}, \"line\": {\"color\": \"white\"}}, \"type\": \"table\"}]}, \"layout\": {\"annotationdefaults\": {\"arrowcolor\": \"#2a3f5f\", \"arrowhead\": 0, \"arrowwidth\": 1}, \"autotypenumbers\": \"strict\", \"coloraxis\": {\"colorbar\": {\"outlinewidth\": 0, \"ticks\": \"\"}}, \"colorscale\": {\"diverging\": [[0, \"#8e0152\"], [0.1, \"#c51b7d\"], [0.2, \"#de77ae\"], [0.3, \"#f1b6da\"], [0.4, \"#fde0ef\"], [0.5, \"#f7f7f7\"], [0.6, \"#e6f5d0\"], [0.7, \"#b8e186\"], [0.8, \"#7fbc41\"], [0.9, \"#4d9221\"], [1, \"#276419\"]], \"sequential\": [[0.0, \"#0d0887\"], [0.1111111111111111, \"#46039f\"], [0.2222222222222222, \"#7201a8\"], [0.3333333333333333, \"#9c179e\"], [0.4444444444444444, \"#bd3786\"], [0.5555555555555556, \"#d8576b\"], [0.6666666666666666, \"#ed7953\"], [0.7777777777777778, \"#fb9f3a\"], [0.8888888888888888, \"#fdca26\"], [1.0, \"#f0f921\"]], \"sequentialminus\": [[0.0, \"#0d0887\"], [0.1111111111111111, \"#46039f\"], [0.2222222222222222, \"#7201a8\"], [0.3333333333333333, \"#9c179e\"], [0.4444444444444444, \"#bd3786\"], [0.5555555555555556, \"#d8576b\"], [0.6666666666666666, \"#ed7953\"], [0.7777777777777778, \"#fb9f3a\"], [0.8888888888888888, \"#fdca26\"], [1.0, \"#f0f921\"]]}, \"colorway\": [\"#636efa\", \"#EF553B\", \"#00cc96\", \"#ab63fa\", \"#FFA15A\", \"#19d3f3\", \"#FF6692\", \"#B6E880\", \"#FF97FF\", \"#FECB52\"], \"font\": {\"color\": \"#2a3f5f\"}, \"geo\": {\"bgcolor\": \"white\", \"lakecolor\": \"white\", \"landcolor\": \"#E5ECF6\", \"showlakes\": true, \"showland\": true, \"subunitcolor\": \"white\"}, \"hoverlabel\": {\"align\": \"left\"}, \"hovermode\": \"closest\", \"mapbox\": {\"style\": \"light\"}, \"paper_bgcolor\": \"white\", \"plot_bgcolor\": \"#E5ECF6\", \"polar\": {\"angularaxis\": {\"gridcolor\": \"white\", \"linecolor\": \"white\", \"ticks\": \"\"}, \"bgcolor\": \"#E5ECF6\", \"radialaxis\": {\"gridcolor\": \"white\", \"linecolor\": \"white\", \"ticks\": \"\"}}, \"scene\": {\"xaxis\": {\"backgroundcolor\": \"#E5ECF6\", \"gridcolor\": \"white\", \"gridwidth\": 2, \"linecolor\": \"white\", \"showbackground\": true, \"ticks\": \"\", \"zerolinecolor\": \"white\"}, \"yaxis\": {\"backgroundcolor\": \"#E5ECF6\", \"gridcolor\": \"white\", \"gridwidth\": 2, \"linecolor\": \"white\", \"showbackground\": true, \"ticks\": \"\", \"zerolinecolor\": \"white\"}, \"zaxis\": {\"backgroundcolor\": \"#E5ECF6\", \"gridcolor\": \"white\", \"gridwidth\": 2, \"linecolor\": \"white\", \"showbackground\": true, \"ticks\": \"\", \"zerolinecolor\": \"white\"}}, \"shapedefaults\": {\"line\": {\"color\": \"#2a3f5f\"}}, \"ternary\": {\"aaxis\": {\"gridcolor\": \"white\", \"linecolor\": \"white\", \"ticks\": \"\"}, \"baxis\": {\"gridcolor\": \"white\", \"linecolor\": \"white\", \"ticks\": \"\"}, \"bgcolor\": \"#E5ECF6\", \"caxis\": {\"gridcolor\": \"white\", \"linecolor\": \"white\", \"ticks\": \"\"}}, \"title\": {\"x\": 0.05}, \"xaxis\": {\"automargin\": true, \"gridcolor\": \"white\", \"linecolor\": \"white\", \"ticks\": \"\", \"title\": {\"standoff\": 15}, \"zerolinecolor\": \"white\", \"zerolinewidth\": 2}, \"yaxis\": {\"automargin\": true, \"gridcolor\": \"white\", \"linecolor\": \"white\", \"ticks\": \"\", \"title\": {\"standoff\": 15}, \"zerolinecolor\": \"white\", \"zerolinewidth\": 2}}}, \"xaxis\": {\"anchor\": \"y\", \"domain\": [0.0, 1.0], \"title\": {\"text\": \"sample_id\"}}, \"yaxis\": {\"anchor\": \"x\", \"domain\": [0.0, 1.0], \"title\": {\"text\": \"percentage\"}}},                        {\"responsive\": true}                    ).then(function(){\n",
       "                            \n",
       "var gd = document.getElementById('521d0968-6975-4dba-84af-353c18c76f8e');\n",
       "var x = new MutationObserver(function (mutations, observer) {{\n",
       "        var display = window.getComputedStyle(gd).display;\n",
       "        if (!display || display === 'none') {{\n",
       "            console.log([gd, 'removed!']);\n",
       "            Plotly.purge(gd);\n",
       "            observer.disconnect();\n",
       "        }}\n",
       "}});\n",
       "\n",
       "// Listen for the removal of the full notebook cells\n",
       "var notebookContainer = gd.closest('#notebook-container');\n",
       "if (notebookContainer) {{\n",
       "    x.observe(notebookContainer, {childList: true});\n",
       "}}\n",
       "\n",
       "// Listen for the clearing of the current output cell\n",
       "var outputEl = gd.closest('.output');\n",
       "if (outputEl) {{\n",
       "    x.observe(outputEl, {childList: true});\n",
       "}}\n",
       "\n",
       "                        })                };                });            </script>        </div>"
      ]
     },
     "metadata": {},
     "output_type": "display_data"
    }
   ],
   "source": [
    "for i in genotypes:\n",
    "    print(f'this genotype is {i}')\n",
    "\n",
    "    this_data= data[data['Genotype']== i]\n",
    "    \n",
    "    this_data=this_data.reset_index(drop=True)\n",
    "    this_df,include_list= expand_df(this_data)\n",
    "    \n",
    "    fig = px.bar(this_df, x=\"sample_id\", y=\"percentage\", color=\"region_name\")\n",
    "    fig.show()\n",
    "\n",
    "    fig.write_html(f\"{i}_injectionvoxel_distribution.html\")"
   ]
  },
  {
   "cell_type": "code",
   "execution_count": 16,
   "metadata": {},
   "outputs": [],
   "source": [
    "new_df,over_eighty= expand_df(data)\n",
    "data['over_eighty']= over_eighty\n",
    "data.to_excel(r'D:\\viral_injectionsite\\results_expanded.xlsx')"
   ]
  },
  {
   "cell_type": "code",
   "execution_count": 17,
   "metadata": {},
   "outputs": [],
   "source": [
    "legit_data=data[data['over_eighty']==True]"
   ]
  },
  {
   "cell_type": "code",
   "execution_count": 18,
   "metadata": {},
   "outputs": [
    {
     "data": {
      "text/html": [
       "<div>\n",
       "<style scoped>\n",
       "    .dataframe tbody tr th:only-of-type {\n",
       "        vertical-align: middle;\n",
       "    }\n",
       "\n",
       "    .dataframe tbody tr th {\n",
       "        vertical-align: top;\n",
       "    }\n",
       "\n",
       "    .dataframe thead th {\n",
       "        text-align: right;\n",
       "    }\n",
       "</style>\n",
       "<table border=\"1\" class=\"dataframe\">\n",
       "  <thead>\n",
       "    <tr style=\"text-align: right;\">\n",
       "      <th></th>\n",
       "      <th>Data_name</th>\n",
       "      <th>Total_voxels</th>\n",
       "      <th>Centroid_location_1</th>\n",
       "      <th>Centroid_location_2</th>\n",
       "      <th>Centroid_location_3</th>\n",
       "      <th>Centroid_id</th>\n",
       "      <th>Voxel_id</th>\n",
       "      <th>Genotype</th>\n",
       "      <th>Centroid_id_name</th>\n",
       "      <th>inj_radius</th>\n",
       "      <th>over_eighty</th>\n",
       "    </tr>\n",
       "  </thead>\n",
       "  <tbody>\n",
       "    <tr>\n",
       "      <th>1</th>\n",
       "      <td>AL274_561</td>\n",
       "      <td>2205</td>\n",
       "      <td>77</td>\n",
       "      <td>284</td>\n",
       "      <td>106</td>\n",
       "      <td>862</td>\n",
       "      <td>[{862: 1958, 1090: 247}]</td>\n",
       "      <td>Ntsr1Cre</td>\n",
       "      <td>SSs6a</td>\n",
       "      <td>201.858327</td>\n",
       "      <td>True</td>\n",
       "    </tr>\n",
       "    <tr>\n",
       "      <th>3</th>\n",
       "      <td>AL310_647</td>\n",
       "      <td>1812</td>\n",
       "      <td>74</td>\n",
       "      <td>284</td>\n",
       "      <td>111</td>\n",
       "      <td>862</td>\n",
       "      <td>[{156: 23, 252: 2, 862: 1417, 893: 45, 1090: 3...</td>\n",
       "      <td>Ntsr1Cre</td>\n",
       "      <td>SSs6a</td>\n",
       "      <td>189.073154</td>\n",
       "      <td>True</td>\n",
       "    </tr>\n",
       "    <tr>\n",
       "      <th>4</th>\n",
       "      <td>AL330_647</td>\n",
       "      <td>4020</td>\n",
       "      <td>79</td>\n",
       "      <td>272</td>\n",
       "      <td>109</td>\n",
       "      <td>862</td>\n",
       "      <td>[{862: 2818, 1038: 681, 1070: 72, 1090: 449}]</td>\n",
       "      <td>Ntsr1Cre</td>\n",
       "      <td>SSs6a</td>\n",
       "      <td>246.595884</td>\n",
       "      <td>True</td>\n",
       "    </tr>\n",
       "    <tr>\n",
       "      <th>5</th>\n",
       "      <td>AL274_647</td>\n",
       "      <td>5471</td>\n",
       "      <td>102</td>\n",
       "      <td>283</td>\n",
       "      <td>80</td>\n",
       "      <td>1038</td>\n",
       "      <td>[{1038: 4515, 1062: 286, 1070: 587, 484682520:...</td>\n",
       "      <td>Ntsr1Cre</td>\n",
       "      <td>SSp-bfd6a</td>\n",
       "      <td>273.274669</td>\n",
       "      <td>True</td>\n",
       "    </tr>\n",
       "    <tr>\n",
       "      <th>7</th>\n",
       "      <td>AL285_647</td>\n",
       "      <td>2885</td>\n",
       "      <td>102</td>\n",
       "      <td>269</td>\n",
       "      <td>84</td>\n",
       "      <td>1038</td>\n",
       "      <td>[{1038: 2492, 1070: 393}]</td>\n",
       "      <td>Ntsr1Cre</td>\n",
       "      <td>SSp-bfd6a</td>\n",
       "      <td>220.779669</td>\n",
       "      <td>True</td>\n",
       "    </tr>\n",
       "  </tbody>\n",
       "</table>\n",
       "</div>"
      ],
      "text/plain": [
       "   Data_name  Total_voxels  Centroid_location_1  Centroid_location_2  \\\n",
       "1  AL274_561          2205                   77                  284   \n",
       "3  AL310_647          1812                   74                  284   \n",
       "4  AL330_647          4020                   79                  272   \n",
       "5  AL274_647          5471                  102                  283   \n",
       "7  AL285_647          2885                  102                  269   \n",
       "\n",
       "   Centroid_location_3  Centroid_id  \\\n",
       "1                  106          862   \n",
       "3                  111          862   \n",
       "4                  109          862   \n",
       "5                   80         1038   \n",
       "7                   84         1038   \n",
       "\n",
       "                                            Voxel_id  Genotype  \\\n",
       "1                           [{862: 1958, 1090: 247}]  Ntsr1Cre   \n",
       "3  [{156: 23, 252: 2, 862: 1417, 893: 45, 1090: 3...  Ntsr1Cre   \n",
       "4      [{862: 2818, 1038: 681, 1070: 72, 1090: 449}]  Ntsr1Cre   \n",
       "5  [{1038: 4515, 1062: 286, 1070: 587, 484682520:...  Ntsr1Cre   \n",
       "7                          [{1038: 2492, 1070: 393}]  Ntsr1Cre   \n",
       "\n",
       "  Centroid_id_name  inj_radius  over_eighty  \n",
       "1            SSs6a  201.858327         True  \n",
       "3            SSs6a  189.073154         True  \n",
       "4            SSs6a  246.595884         True  \n",
       "5        SSp-bfd6a  273.274669         True  \n",
       "7        SSp-bfd6a  220.779669         True  "
      ]
     },
     "execution_count": 18,
     "metadata": {},
     "output_type": "execute_result"
    }
   ],
   "source": [
    "legit_data.head()"
   ]
  },
  {
   "cell_type": "code",
   "execution_count": 71,
   "metadata": {},
   "outputs": [
    {
     "data": {
      "application/vnd.plotly.v1+json": {
       "config": {
        "plotlyServerURL": "https://plot.ly"
       },
       "data": [
        {
         "hovertemplate": "Centroid_id_name=SSp-bfd5<br>Centroid_location_1=%{x}<br>Centroid_location_2=%{y}<br>Centroid_location_3=%{z}<extra></extra>",
         "legendgroup": "SSp-bfd5",
         "marker": {
          "color": "#636efa",
          "size": 5,
          "symbol": "circle"
         },
         "mode": "markers",
         "name": "SSp-bfd5",
         "scene": "scene",
         "showlegend": true,
         "type": "scatter3d",
         "x": [
          121,
          109,
          106,
          98,
          102,
          118
         ],
         "y": [
          276,
          270,
          276,
          272,
          279,
          273
         ],
         "z": [
          60,
          69,
          66,
          73,
          67,
          63
         ]
        },
        {
         "hovertemplate": "Centroid_id_name=SSp-bfd2/3<br>Centroid_location_1=%{x}<br>Centroid_location_2=%{y}<br>Centroid_location_3=%{z}<extra></extra>",
         "legendgroup": "SSp-bfd2/3",
         "marker": {
          "color": "#EF553B",
          "size": 5,
          "symbol": "circle"
         },
         "mode": "markers",
         "name": "SSp-bfd2/3",
         "scene": "scene",
         "showlegend": true,
         "type": "scatter3d",
         "x": [
          97,
          76,
          76
         ],
         "y": [
          281,
          284,
          286
         ],
         "z": [
          46,
          61,
          63
         ]
        },
        {
         "hovertemplate": "Centroid_id_name=SSp-bfd1<br>Centroid_location_1=%{x}<br>Centroid_location_2=%{y}<br>Centroid_location_3=%{z}<extra></extra>",
         "legendgroup": "SSp-bfd1",
         "marker": {
          "color": "#00cc96",
          "size": 5,
          "symbol": "circle"
         },
         "mode": "markers",
         "name": "SSp-bfd1",
         "scene": "scene",
         "showlegend": true,
         "type": "scatter3d",
         "x": [
          79
         ],
         "y": [
          263
         ],
         "z": [
          60
         ]
        },
        {
         "hovertemplate": "Centroid_id_name=SSs6a<br>Centroid_location_1=%{x}<br>Centroid_location_2=%{y}<br>Centroid_location_3=%{z}<extra></extra>",
         "legendgroup": "SSs6a",
         "marker": {
          "color": "#ab63fa",
          "size": 5,
          "symbol": "circle"
         },
         "mode": "markers",
         "name": "SSs6a",
         "scene": "scene",
         "showlegend": true,
         "type": "scatter3d",
         "x": [
          77
         ],
         "y": [
          284
         ],
         "z": [
          106
         ]
        },
        {
         "hovertemplate": "Centroid_id_name=SSp-bfd6a<br>Centroid_location_1=%{x}<br>Centroid_location_2=%{y}<br>Centroid_location_3=%{z}<extra></extra>",
         "legendgroup": "SSp-bfd6a",
         "marker": {
          "color": "#FFA15A",
          "size": 5,
          "symbol": "circle"
         },
         "mode": "markers",
         "name": "SSp-bfd6a",
         "scene": "scene",
         "showlegend": true,
         "type": "scatter3d",
         "x": [
          102,
          102
         ],
         "y": [
          283,
          269
         ],
         "z": [
          80,
          84
         ]
        },
        {
         "hovertemplate": "Centroid_id_name=SSs5<br>Centroid_location_1=%{x}<br>Centroid_location_2=%{y}<br>Centroid_location_3=%{z}<extra></extra>",
         "legendgroup": "SSs5",
         "marker": {
          "color": "#19d3f3",
          "size": 5,
          "symbol": "circle"
         },
         "mode": "markers",
         "name": "SSs5",
         "scene": "scene",
         "showlegend": true,
         "type": "scatter3d",
         "x": [
          70,
          71,
          72,
          70,
          70
         ],
         "y": [
          282,
          277,
          283,
          272,
          270
         ],
         "z": [
          94,
          97,
          102,
          111,
          107
         ]
        },
        {
         "hovertemplate": "Centroid_id_name=SSs4<br>Centroid_location_1=%{x}<br>Centroid_location_2=%{y}<br>Centroid_location_3=%{z}<extra></extra>",
         "legendgroup": "SSs4",
         "marker": {
          "color": "#FF6692",
          "size": 5,
          "symbol": "circle"
         },
         "mode": "markers",
         "name": "SSs4",
         "scene": "scene",
         "showlegend": true,
         "type": "scatter3d",
         "x": [
          65,
          66
         ],
         "y": [
          272,
          281
         ],
         "z": [
          93,
          94
         ]
        },
        {
         "hovertemplate": "Centroid_id_name=SSp-bfd4<br>Centroid_location_1=%{x}<br>Centroid_location_2=%{y}<br>Centroid_location_3=%{z}<extra></extra>",
         "legendgroup": "SSp-bfd4",
         "marker": {
          "color": "#B6E880",
          "size": 5,
          "symbol": "circle"
         },
         "mode": "markers",
         "name": "SSp-bfd4",
         "scene": "scene",
         "showlegend": true,
         "type": "scatter3d",
         "x": [
          91,
          98,
          100,
          98
         ],
         "y": [
          269,
          278,
          278,
          287
         ],
         "z": [
          68,
          64,
          62,
          59
         ]
        }
       ],
       "layout": {
        "autosize": true,
        "legend": {
         "title": {
          "text": "Centroid_id_name"
         },
         "tracegroupgap": 0
        },
        "margin": {
         "t": 60
        },
        "scene": {
         "aspectmode": "auto",
         "aspectratio": {
          "x": 1.2620710899867176,
          "y": 0.5408876099943076,
          "z": 1.4649039437345828
         },
         "camera": {
          "center": {
           "x": 0,
           "y": 0,
           "z": 0
          },
          "eye": {
           "x": -0.660099411160348,
           "y": -1.7754290502897119,
           "z": -1.9152645149140655
          },
          "projection": {
           "type": "perspective"
          },
          "up": {
           "x": 0,
           "y": 0,
           "z": 1
          }
         },
         "domain": {
          "x": [
           0,
           1
          ],
          "y": [
           0,
           1
          ]
         },
         "xaxis": {
          "title": {
           "text": "Centroid_location_1"
          },
          "type": "linear"
         },
         "yaxis": {
          "title": {
           "text": "Centroid_location_2"
          },
          "type": "linear"
         },
         "zaxis": {
          "title": {
           "text": "Centroid_location_3"
          },
          "type": "linear"
         }
        },
        "template": {
         "data": {
          "bar": [
           {
            "error_x": {
             "color": "#2a3f5f"
            },
            "error_y": {
             "color": "#2a3f5f"
            },
            "marker": {
             "line": {
              "color": "#E5ECF6",
              "width": 0.5
             }
            },
            "type": "bar"
           }
          ],
          "barpolar": [
           {
            "marker": {
             "line": {
              "color": "#E5ECF6",
              "width": 0.5
             }
            },
            "type": "barpolar"
           }
          ],
          "carpet": [
           {
            "aaxis": {
             "endlinecolor": "#2a3f5f",
             "gridcolor": "white",
             "linecolor": "white",
             "minorgridcolor": "white",
             "startlinecolor": "#2a3f5f"
            },
            "baxis": {
             "endlinecolor": "#2a3f5f",
             "gridcolor": "white",
             "linecolor": "white",
             "minorgridcolor": "white",
             "startlinecolor": "#2a3f5f"
            },
            "type": "carpet"
           }
          ],
          "choropleth": [
           {
            "colorbar": {
             "outlinewidth": 0,
             "ticks": ""
            },
            "type": "choropleth"
           }
          ],
          "contour": [
           {
            "colorbar": {
             "outlinewidth": 0,
             "ticks": ""
            },
            "colorscale": [
             [
              0,
              "#0d0887"
             ],
             [
              0.1111111111111111,
              "#46039f"
             ],
             [
              0.2222222222222222,
              "#7201a8"
             ],
             [
              0.3333333333333333,
              "#9c179e"
             ],
             [
              0.4444444444444444,
              "#bd3786"
             ],
             [
              0.5555555555555556,
              "#d8576b"
             ],
             [
              0.6666666666666666,
              "#ed7953"
             ],
             [
              0.7777777777777778,
              "#fb9f3a"
             ],
             [
              0.8888888888888888,
              "#fdca26"
             ],
             [
              1,
              "#f0f921"
             ]
            ],
            "type": "contour"
           }
          ],
          "contourcarpet": [
           {
            "colorbar": {
             "outlinewidth": 0,
             "ticks": ""
            },
            "type": "contourcarpet"
           }
          ],
          "heatmap": [
           {
            "colorbar": {
             "outlinewidth": 0,
             "ticks": ""
            },
            "colorscale": [
             [
              0,
              "#0d0887"
             ],
             [
              0.1111111111111111,
              "#46039f"
             ],
             [
              0.2222222222222222,
              "#7201a8"
             ],
             [
              0.3333333333333333,
              "#9c179e"
             ],
             [
              0.4444444444444444,
              "#bd3786"
             ],
             [
              0.5555555555555556,
              "#d8576b"
             ],
             [
              0.6666666666666666,
              "#ed7953"
             ],
             [
              0.7777777777777778,
              "#fb9f3a"
             ],
             [
              0.8888888888888888,
              "#fdca26"
             ],
             [
              1,
              "#f0f921"
             ]
            ],
            "type": "heatmap"
           }
          ],
          "heatmapgl": [
           {
            "colorbar": {
             "outlinewidth": 0,
             "ticks": ""
            },
            "colorscale": [
             [
              0,
              "#0d0887"
             ],
             [
              0.1111111111111111,
              "#46039f"
             ],
             [
              0.2222222222222222,
              "#7201a8"
             ],
             [
              0.3333333333333333,
              "#9c179e"
             ],
             [
              0.4444444444444444,
              "#bd3786"
             ],
             [
              0.5555555555555556,
              "#d8576b"
             ],
             [
              0.6666666666666666,
              "#ed7953"
             ],
             [
              0.7777777777777778,
              "#fb9f3a"
             ],
             [
              0.8888888888888888,
              "#fdca26"
             ],
             [
              1,
              "#f0f921"
             ]
            ],
            "type": "heatmapgl"
           }
          ],
          "histogram": [
           {
            "marker": {
             "colorbar": {
              "outlinewidth": 0,
              "ticks": ""
             }
            },
            "type": "histogram"
           }
          ],
          "histogram2d": [
           {
            "colorbar": {
             "outlinewidth": 0,
             "ticks": ""
            },
            "colorscale": [
             [
              0,
              "#0d0887"
             ],
             [
              0.1111111111111111,
              "#46039f"
             ],
             [
              0.2222222222222222,
              "#7201a8"
             ],
             [
              0.3333333333333333,
              "#9c179e"
             ],
             [
              0.4444444444444444,
              "#bd3786"
             ],
             [
              0.5555555555555556,
              "#d8576b"
             ],
             [
              0.6666666666666666,
              "#ed7953"
             ],
             [
              0.7777777777777778,
              "#fb9f3a"
             ],
             [
              0.8888888888888888,
              "#fdca26"
             ],
             [
              1,
              "#f0f921"
             ]
            ],
            "type": "histogram2d"
           }
          ],
          "histogram2dcontour": [
           {
            "colorbar": {
             "outlinewidth": 0,
             "ticks": ""
            },
            "colorscale": [
             [
              0,
              "#0d0887"
             ],
             [
              0.1111111111111111,
              "#46039f"
             ],
             [
              0.2222222222222222,
              "#7201a8"
             ],
             [
              0.3333333333333333,
              "#9c179e"
             ],
             [
              0.4444444444444444,
              "#bd3786"
             ],
             [
              0.5555555555555556,
              "#d8576b"
             ],
             [
              0.6666666666666666,
              "#ed7953"
             ],
             [
              0.7777777777777778,
              "#fb9f3a"
             ],
             [
              0.8888888888888888,
              "#fdca26"
             ],
             [
              1,
              "#f0f921"
             ]
            ],
            "type": "histogram2dcontour"
           }
          ],
          "mesh3d": [
           {
            "colorbar": {
             "outlinewidth": 0,
             "ticks": ""
            },
            "type": "mesh3d"
           }
          ],
          "parcoords": [
           {
            "line": {
             "colorbar": {
              "outlinewidth": 0,
              "ticks": ""
             }
            },
            "type": "parcoords"
           }
          ],
          "pie": [
           {
            "automargin": true,
            "type": "pie"
           }
          ],
          "scatter": [
           {
            "marker": {
             "colorbar": {
              "outlinewidth": 0,
              "ticks": ""
             }
            },
            "type": "scatter"
           }
          ],
          "scatter3d": [
           {
            "line": {
             "colorbar": {
              "outlinewidth": 0,
              "ticks": ""
             }
            },
            "marker": {
             "colorbar": {
              "outlinewidth": 0,
              "ticks": ""
             }
            },
            "type": "scatter3d"
           }
          ],
          "scattercarpet": [
           {
            "marker": {
             "colorbar": {
              "outlinewidth": 0,
              "ticks": ""
             }
            },
            "type": "scattercarpet"
           }
          ],
          "scattergeo": [
           {
            "marker": {
             "colorbar": {
              "outlinewidth": 0,
              "ticks": ""
             }
            },
            "type": "scattergeo"
           }
          ],
          "scattergl": [
           {
            "marker": {
             "colorbar": {
              "outlinewidth": 0,
              "ticks": ""
             }
            },
            "type": "scattergl"
           }
          ],
          "scattermapbox": [
           {
            "marker": {
             "colorbar": {
              "outlinewidth": 0,
              "ticks": ""
             }
            },
            "type": "scattermapbox"
           }
          ],
          "scatterpolar": [
           {
            "marker": {
             "colorbar": {
              "outlinewidth": 0,
              "ticks": ""
             }
            },
            "type": "scatterpolar"
           }
          ],
          "scatterpolargl": [
           {
            "marker": {
             "colorbar": {
              "outlinewidth": 0,
              "ticks": ""
             }
            },
            "type": "scatterpolargl"
           }
          ],
          "scatterternary": [
           {
            "marker": {
             "colorbar": {
              "outlinewidth": 0,
              "ticks": ""
             }
            },
            "type": "scatterternary"
           }
          ],
          "surface": [
           {
            "colorbar": {
             "outlinewidth": 0,
             "ticks": ""
            },
            "colorscale": [
             [
              0,
              "#0d0887"
             ],
             [
              0.1111111111111111,
              "#46039f"
             ],
             [
              0.2222222222222222,
              "#7201a8"
             ],
             [
              0.3333333333333333,
              "#9c179e"
             ],
             [
              0.4444444444444444,
              "#bd3786"
             ],
             [
              0.5555555555555556,
              "#d8576b"
             ],
             [
              0.6666666666666666,
              "#ed7953"
             ],
             [
              0.7777777777777778,
              "#fb9f3a"
             ],
             [
              0.8888888888888888,
              "#fdca26"
             ],
             [
              1,
              "#f0f921"
             ]
            ],
            "type": "surface"
           }
          ],
          "table": [
           {
            "cells": {
             "fill": {
              "color": "#EBF0F8"
             },
             "line": {
              "color": "white"
             }
            },
            "header": {
             "fill": {
              "color": "#C8D4E3"
             },
             "line": {
              "color": "white"
             }
            },
            "type": "table"
           }
          ]
         },
         "layout": {
          "annotationdefaults": {
           "arrowcolor": "#2a3f5f",
           "arrowhead": 0,
           "arrowwidth": 1
          },
          "autotypenumbers": "strict",
          "coloraxis": {
           "colorbar": {
            "outlinewidth": 0,
            "ticks": ""
           }
          },
          "colorscale": {
           "diverging": [
            [
             0,
             "#8e0152"
            ],
            [
             0.1,
             "#c51b7d"
            ],
            [
             0.2,
             "#de77ae"
            ],
            [
             0.3,
             "#f1b6da"
            ],
            [
             0.4,
             "#fde0ef"
            ],
            [
             0.5,
             "#f7f7f7"
            ],
            [
             0.6,
             "#e6f5d0"
            ],
            [
             0.7,
             "#b8e186"
            ],
            [
             0.8,
             "#7fbc41"
            ],
            [
             0.9,
             "#4d9221"
            ],
            [
             1,
             "#276419"
            ]
           ],
           "sequential": [
            [
             0,
             "#0d0887"
            ],
            [
             0.1111111111111111,
             "#46039f"
            ],
            [
             0.2222222222222222,
             "#7201a8"
            ],
            [
             0.3333333333333333,
             "#9c179e"
            ],
            [
             0.4444444444444444,
             "#bd3786"
            ],
            [
             0.5555555555555556,
             "#d8576b"
            ],
            [
             0.6666666666666666,
             "#ed7953"
            ],
            [
             0.7777777777777778,
             "#fb9f3a"
            ],
            [
             0.8888888888888888,
             "#fdca26"
            ],
            [
             1,
             "#f0f921"
            ]
           ],
           "sequentialminus": [
            [
             0,
             "#0d0887"
            ],
            [
             0.1111111111111111,
             "#46039f"
            ],
            [
             0.2222222222222222,
             "#7201a8"
            ],
            [
             0.3333333333333333,
             "#9c179e"
            ],
            [
             0.4444444444444444,
             "#bd3786"
            ],
            [
             0.5555555555555556,
             "#d8576b"
            ],
            [
             0.6666666666666666,
             "#ed7953"
            ],
            [
             0.7777777777777778,
             "#fb9f3a"
            ],
            [
             0.8888888888888888,
             "#fdca26"
            ],
            [
             1,
             "#f0f921"
            ]
           ]
          },
          "colorway": [
           "#636efa",
           "#EF553B",
           "#00cc96",
           "#ab63fa",
           "#FFA15A",
           "#19d3f3",
           "#FF6692",
           "#B6E880",
           "#FF97FF",
           "#FECB52"
          ],
          "font": {
           "color": "#2a3f5f"
          },
          "geo": {
           "bgcolor": "white",
           "lakecolor": "white",
           "landcolor": "#E5ECF6",
           "showlakes": true,
           "showland": true,
           "subunitcolor": "white"
          },
          "hoverlabel": {
           "align": "left"
          },
          "hovermode": "closest",
          "mapbox": {
           "style": "light"
          },
          "paper_bgcolor": "white",
          "plot_bgcolor": "#E5ECF6",
          "polar": {
           "angularaxis": {
            "gridcolor": "white",
            "linecolor": "white",
            "ticks": ""
           },
           "bgcolor": "#E5ECF6",
           "radialaxis": {
            "gridcolor": "white",
            "linecolor": "white",
            "ticks": ""
           }
          },
          "scene": {
           "xaxis": {
            "backgroundcolor": "#E5ECF6",
            "gridcolor": "white",
            "gridwidth": 2,
            "linecolor": "white",
            "showbackground": true,
            "ticks": "",
            "zerolinecolor": "white"
           },
           "yaxis": {
            "backgroundcolor": "#E5ECF6",
            "gridcolor": "white",
            "gridwidth": 2,
            "linecolor": "white",
            "showbackground": true,
            "ticks": "",
            "zerolinecolor": "white"
           },
           "zaxis": {
            "backgroundcolor": "#E5ECF6",
            "gridcolor": "white",
            "gridwidth": 2,
            "linecolor": "white",
            "showbackground": true,
            "ticks": "",
            "zerolinecolor": "white"
           }
          },
          "shapedefaults": {
           "line": {
            "color": "#2a3f5f"
           }
          },
          "ternary": {
           "aaxis": {
            "gridcolor": "white",
            "linecolor": "white",
            "ticks": ""
           },
           "baxis": {
            "gridcolor": "white",
            "linecolor": "white",
            "ticks": ""
           },
           "bgcolor": "#E5ECF6",
           "caxis": {
            "gridcolor": "white",
            "linecolor": "white",
            "ticks": ""
           }
          },
          "title": {
           "x": 0.05
          },
          "xaxis": {
           "automargin": true,
           "gridcolor": "white",
           "linecolor": "white",
           "ticks": "",
           "title": {
            "standoff": 15
           },
           "zerolinecolor": "white",
           "zerolinewidth": 2
          },
          "yaxis": {
           "automargin": true,
           "gridcolor": "white",
           "linecolor": "white",
           "ticks": "",
           "title": {
            "standoff": 15
           },
           "zerolinecolor": "white",
           "zerolinewidth": 2
          }
         }
        },
        "xaxis": {
         "range": [
          0,
          528
         ]
        },
        "yaxis": {
         "range": [
          0,
          456
         ]
        }
       }
      },
      "image/png": "[encoded data removed]",
      "text/html": [
       "<div>                            <div id=\"aa175748-86fa-4e42-b07c-09d76f3ef10f\" class=\"plotly-graph-div\" style=\"height:525px; width:100%;\"></div>            <script type=\"text/javascript\">                require([\"plotly\"], function(Plotly) {                    window.PLOTLYENV=window.PLOTLYENV || {};                                    if (document.getElementById(\"aa175748-86fa-4e42-b07c-09d76f3ef10f\")) {                    Plotly.newPlot(                        \"aa175748-86fa-4e42-b07c-09d76f3ef10f\",                        [{\"hovertemplate\": \"Centroid_id_name=SSp-bfd5<br>Centroid_location_1=%{x}<br>Centroid_location_2=%{y}<br>Centroid_location_3=%{z}<extra></extra>\", \"legendgroup\": \"SSp-bfd5\", \"marker\": {\"color\": \"#636efa\", \"size\": 5, \"symbol\": \"circle\"}, \"mode\": \"markers\", \"name\": \"SSp-bfd5\", \"scene\": \"scene\", \"showlegend\": true, \"type\": \"scatter3d\", \"x\": [121, 109, 106, 98, 102, 118], \"y\": [276, 270, 276, 272, 279, 273], \"z\": [60, 69, 66, 73, 67, 63]}, {\"hovertemplate\": \"Centroid_id_name=SSp-bfd2/3<br>Centroid_location_1=%{x}<br>Centroid_location_2=%{y}<br>Centroid_location_3=%{z}<extra></extra>\", \"legendgroup\": \"SSp-bfd2/3\", \"marker\": {\"color\": \"#EF553B\", \"size\": 5, \"symbol\": \"circle\"}, \"mode\": \"markers\", \"name\": \"SSp-bfd2/3\", \"scene\": \"scene\", \"showlegend\": true, \"type\": \"scatter3d\", \"x\": [97, 76, 76], \"y\": [281, 284, 286], \"z\": [46, 61, 63]}, {\"hovertemplate\": \"Centroid_id_name=SSp-bfd1<br>Centroid_location_1=%{x}<br>Centroid_location_2=%{y}<br>Centroid_location_3=%{z}<extra></extra>\", \"legendgroup\": \"SSp-bfd1\", \"marker\": {\"color\": \"#00cc96\", \"size\": 5, \"symbol\": \"circle\"}, \"mode\": \"markers\", \"name\": \"SSp-bfd1\", \"scene\": \"scene\", \"showlegend\": true, \"type\": \"scatter3d\", \"x\": [79], \"y\": [263], \"z\": [60]}, {\"hovertemplate\": \"Centroid_id_name=SSs6a<br>Centroid_location_1=%{x}<br>Centroid_location_2=%{y}<br>Centroid_location_3=%{z}<extra></extra>\", \"legendgroup\": \"SSs6a\", \"marker\": {\"color\": \"#ab63fa\", \"size\": 5, \"symbol\": \"circle\"}, \"mode\": \"markers\", \"name\": \"SSs6a\", \"scene\": \"scene\", \"showlegend\": true, \"type\": \"scatter3d\", \"x\": [77], \"y\": [284], \"z\": [106]}, {\"hovertemplate\": \"Centroid_id_name=SSp-bfd6a<br>Centroid_location_1=%{x}<br>Centroid_location_2=%{y}<br>Centroid_location_3=%{z}<extra></extra>\", \"legendgroup\": \"SSp-bfd6a\", \"marker\": {\"color\": \"#FFA15A\", \"size\": 5, \"symbol\": \"circle\"}, \"mode\": \"markers\", \"name\": \"SSp-bfd6a\", \"scene\": \"scene\", \"showlegend\": true, \"type\": \"scatter3d\", \"x\": [102, 102], \"y\": [283, 269], \"z\": [80, 84]}, {\"hovertemplate\": \"Centroid_id_name=SSs5<br>Centroid_location_1=%{x}<br>Centroid_location_2=%{y}<br>Centroid_location_3=%{z}<extra></extra>\", \"legendgroup\": \"SSs5\", \"marker\": {\"color\": \"#19d3f3\", \"size\": 5, \"symbol\": \"circle\"}, \"mode\": \"markers\", \"name\": \"SSs5\", \"scene\": \"scene\", \"showlegend\": true, \"type\": \"scatter3d\", \"x\": [70, 71, 72, 70, 70], \"y\": [282, 277, 283, 272, 270], \"z\": [94, 97, 102, 111, 107]}, {\"hovertemplate\": \"Centroid_id_name=SSs4<br>Centroid_location_1=%{x}<br>Centroid_location_2=%{y}<br>Centroid_location_3=%{z}<extra></extra>\", \"legendgroup\": \"SSs4\", \"marker\": {\"color\": \"#FF6692\", \"size\": 5, \"symbol\": \"circle\"}, \"mode\": \"markers\", \"name\": \"SSs4\", \"scene\": \"scene\", \"showlegend\": true, \"type\": \"scatter3d\", \"x\": [65, 66], \"y\": [272, 281], \"z\": [93, 94]}, {\"hovertemplate\": \"Centroid_id_name=SSp-bfd4<br>Centroid_location_1=%{x}<br>Centroid_location_2=%{y}<br>Centroid_location_3=%{z}<extra></extra>\", \"legendgroup\": \"SSp-bfd4\", \"marker\": {\"color\": \"#B6E880\", \"size\": 5, \"symbol\": \"circle\"}, \"mode\": \"markers\", \"name\": \"SSp-bfd4\", \"scene\": \"scene\", \"showlegend\": true, \"type\": \"scatter3d\", \"x\": [91, 98, 100, 98], \"y\": [269, 278, 278, 287], \"z\": [68, 64, 62, 59]}],                        {\"legend\": {\"title\": {\"text\": \"Centroid_id_name\"}, \"tracegroupgap\": 0}, \"margin\": {\"t\": 60}, \"scene\": {\"domain\": {\"x\": [0.0, 1.0], \"y\": [0.0, 1.0]}, \"xaxis\": {\"title\": {\"text\": \"Centroid_location_1\"}}, \"yaxis\": {\"title\": {\"text\": \"Centroid_location_2\"}}, \"zaxis\": {\"title\": {\"text\": \"Centroid_location_3\"}}}, \"template\": {\"data\": {\"bar\": [{\"error_x\": {\"color\": \"#2a3f5f\"}, \"error_y\": {\"color\": \"#2a3f5f\"}, \"marker\": {\"line\": {\"color\": \"#E5ECF6\", \"width\": 0.5}}, \"type\": \"bar\"}], \"barpolar\": [{\"marker\": {\"line\": {\"color\": \"#E5ECF6\", \"width\": 0.5}}, \"type\": \"barpolar\"}], \"carpet\": [{\"aaxis\": {\"endlinecolor\": \"#2a3f5f\", \"gridcolor\": \"white\", \"linecolor\": \"white\", \"minorgridcolor\": \"white\", \"startlinecolor\": \"#2a3f5f\"}, \"baxis\": {\"endlinecolor\": \"#2a3f5f\", \"gridcolor\": \"white\", \"linecolor\": \"white\", \"minorgridcolor\": \"white\", \"startlinecolor\": \"#2a3f5f\"}, \"type\": \"carpet\"}], \"choropleth\": [{\"colorbar\": {\"outlinewidth\": 0, \"ticks\": \"\"}, \"type\": \"choropleth\"}], \"contour\": [{\"colorbar\": {\"outlinewidth\": 0, \"ticks\": \"\"}, \"colorscale\": [[0.0, \"#0d0887\"], [0.1111111111111111, \"#46039f\"], [0.2222222222222222, \"#7201a8\"], [0.3333333333333333, \"#9c179e\"], [0.4444444444444444, \"#bd3786\"], [0.5555555555555556, \"#d8576b\"], [0.6666666666666666, \"#ed7953\"], [0.7777777777777778, \"#fb9f3a\"], [0.8888888888888888, \"#fdca26\"], [1.0, \"#f0f921\"]], \"type\": \"contour\"}], \"contourcarpet\": [{\"colorbar\": {\"outlinewidth\": 0, \"ticks\": \"\"}, \"type\": \"contourcarpet\"}], \"heatmap\": [{\"colorbar\": {\"outlinewidth\": 0, \"ticks\": \"\"}, \"colorscale\": [[0.0, \"#0d0887\"], [0.1111111111111111, \"#46039f\"], [0.2222222222222222, \"#7201a8\"], [0.3333333333333333, \"#9c179e\"], [0.4444444444444444, \"#bd3786\"], [0.5555555555555556, \"#d8576b\"], [0.6666666666666666, \"#ed7953\"], [0.7777777777777778, \"#fb9f3a\"], [0.8888888888888888, \"#fdca26\"], [1.0, \"#f0f921\"]], \"type\": \"heatmap\"}], \"heatmapgl\": [{\"colorbar\": {\"outlinewidth\": 0, \"ticks\": \"\"}, \"colorscale\": [[0.0, \"#0d0887\"], [0.1111111111111111, \"#46039f\"], [0.2222222222222222, \"#7201a8\"], [0.3333333333333333, \"#9c179e\"], [0.4444444444444444, \"#bd3786\"], [0.5555555555555556, \"#d8576b\"], [0.6666666666666666, \"#ed7953\"], [0.7777777777777778, \"#fb9f3a\"], [0.8888888888888888, \"#fdca26\"], [1.0, \"#f0f921\"]], \"type\": \"heatmapgl\"}], \"histogram\": [{\"marker\": {\"colorbar\": {\"outlinewidth\": 0, \"ticks\": \"\"}}, \"type\": \"histogram\"}], \"histogram2d\": [{\"colorbar\": {\"outlinewidth\": 0, \"ticks\": \"\"}, \"colorscale\": [[0.0, \"#0d0887\"], [0.1111111111111111, \"#46039f\"], [0.2222222222222222, \"#7201a8\"], [0.3333333333333333, \"#9c179e\"], [0.4444444444444444, \"#bd3786\"], [0.5555555555555556, \"#d8576b\"], [0.6666666666666666, \"#ed7953\"], [0.7777777777777778, \"#fb9f3a\"], [0.8888888888888888, \"#fdca26\"], [1.0, \"#f0f921\"]], \"type\": \"histogram2d\"}], \"histogram2dcontour\": [{\"colorbar\": {\"outlinewidth\": 0, \"ticks\": \"\"}, \"colorscale\": [[0.0, \"#0d0887\"], [0.1111111111111111, \"#46039f\"], [0.2222222222222222, \"#7201a8\"], [0.3333333333333333, \"#9c179e\"], [0.4444444444444444, \"#bd3786\"], [0.5555555555555556, \"#d8576b\"], [0.6666666666666666, \"#ed7953\"], [0.7777777777777778, \"#fb9f3a\"], [0.8888888888888888, \"#fdca26\"], [1.0, \"#f0f921\"]], \"type\": \"histogram2dcontour\"}], \"mesh3d\": [{\"colorbar\": {\"outlinewidth\": 0, \"ticks\": \"\"}, \"type\": \"mesh3d\"}], \"parcoords\": [{\"line\": {\"colorbar\": {\"outlinewidth\": 0, \"ticks\": \"\"}}, \"type\": \"parcoords\"}], \"pie\": [{\"automargin\": true, \"type\": \"pie\"}], \"scatter\": [{\"marker\": {\"colorbar\": {\"outlinewidth\": 0, \"ticks\": \"\"}}, \"type\": \"scatter\"}], \"scatter3d\": [{\"line\": {\"colorbar\": {\"outlinewidth\": 0, \"ticks\": \"\"}}, \"marker\": {\"colorbar\": {\"outlinewidth\": 0, \"ticks\": \"\"}}, \"type\": \"scatter3d\"}], \"scattercarpet\": [{\"marker\": {\"colorbar\": {\"outlinewidth\": 0, \"ticks\": \"\"}}, \"type\": \"scattercarpet\"}], \"scattergeo\": [{\"marker\": {\"colorbar\": {\"outlinewidth\": 0, \"ticks\": \"\"}}, \"type\": \"scattergeo\"}], \"scattergl\": [{\"marker\": {\"colorbar\": {\"outlinewidth\": 0, \"ticks\": \"\"}}, \"type\": \"scattergl\"}], \"scattermapbox\": [{\"marker\": {\"colorbar\": {\"outlinewidth\": 0, \"ticks\": \"\"}}, \"type\": \"scattermapbox\"}], \"scatterpolar\": [{\"marker\": {\"colorbar\": {\"outlinewidth\": 0, \"ticks\": \"\"}}, \"type\": \"scatterpolar\"}], \"scatterpolargl\": [{\"marker\": {\"colorbar\": {\"outlinewidth\": 0, \"ticks\": \"\"}}, \"type\": \"scatterpolargl\"}], \"scatterternary\": [{\"marker\": {\"colorbar\": {\"outlinewidth\": 0, \"ticks\": \"\"}}, \"type\": \"scatterternary\"}], \"surface\": [{\"colorbar\": {\"outlinewidth\": 0, \"ticks\": \"\"}, \"colorscale\": [[0.0, \"#0d0887\"], [0.1111111111111111, \"#46039f\"], [0.2222222222222222, \"#7201a8\"], [0.3333333333333333, \"#9c179e\"], [0.4444444444444444, \"#bd3786\"], [0.5555555555555556, \"#d8576b\"], [0.6666666666666666, \"#ed7953\"], [0.7777777777777778, \"#fb9f3a\"], [0.8888888888888888, \"#fdca26\"], [1.0, \"#f0f921\"]], \"type\": \"surface\"}], \"table\": [{\"cells\": {\"fill\": {\"color\": \"#EBF0F8\"}, \"line\": {\"color\": \"white\"}}, \"header\": {\"fill\": {\"color\": \"#C8D4E3\"}, \"line\": {\"color\": \"white\"}}, \"type\": \"table\"}]}, \"layout\": {\"annotationdefaults\": {\"arrowcolor\": \"#2a3f5f\", \"arrowhead\": 0, \"arrowwidth\": 1}, \"autotypenumbers\": \"strict\", \"coloraxis\": {\"colorbar\": {\"outlinewidth\": 0, \"ticks\": \"\"}}, \"colorscale\": {\"diverging\": [[0, \"#8e0152\"], [0.1, \"#c51b7d\"], [0.2, \"#de77ae\"], [0.3, \"#f1b6da\"], [0.4, \"#fde0ef\"], [0.5, \"#f7f7f7\"], [0.6, \"#e6f5d0\"], [0.7, \"#b8e186\"], [0.8, \"#7fbc41\"], [0.9, \"#4d9221\"], [1, \"#276419\"]], \"sequential\": [[0.0, \"#0d0887\"], [0.1111111111111111, \"#46039f\"], [0.2222222222222222, \"#7201a8\"], [0.3333333333333333, \"#9c179e\"], [0.4444444444444444, \"#bd3786\"], [0.5555555555555556, \"#d8576b\"], [0.6666666666666666, \"#ed7953\"], [0.7777777777777778, \"#fb9f3a\"], [0.8888888888888888, \"#fdca26\"], [1.0, \"#f0f921\"]], \"sequentialminus\": [[0.0, \"#0d0887\"], [0.1111111111111111, \"#46039f\"], [0.2222222222222222, \"#7201a8\"], [0.3333333333333333, \"#9c179e\"], [0.4444444444444444, \"#bd3786\"], [0.5555555555555556, \"#d8576b\"], [0.6666666666666666, \"#ed7953\"], [0.7777777777777778, \"#fb9f3a\"], [0.8888888888888888, \"#fdca26\"], [1.0, \"#f0f921\"]]}, \"colorway\": [\"#636efa\", \"#EF553B\", \"#00cc96\", \"#ab63fa\", \"#FFA15A\", \"#19d3f3\", \"#FF6692\", \"#B6E880\", \"#FF97FF\", \"#FECB52\"], \"font\": {\"color\": \"#2a3f5f\"}, \"geo\": {\"bgcolor\": \"white\", \"lakecolor\": \"white\", \"landcolor\": \"#E5ECF6\", \"showlakes\": true, \"showland\": true, \"subunitcolor\": \"white\"}, \"hoverlabel\": {\"align\": \"left\"}, \"hovermode\": \"closest\", \"mapbox\": {\"style\": \"light\"}, \"paper_bgcolor\": \"white\", \"plot_bgcolor\": \"#E5ECF6\", \"polar\": {\"angularaxis\": {\"gridcolor\": \"white\", \"linecolor\": \"white\", \"ticks\": \"\"}, \"bgcolor\": \"#E5ECF6\", \"radialaxis\": {\"gridcolor\": \"white\", \"linecolor\": \"white\", \"ticks\": \"\"}}, \"scene\": {\"xaxis\": {\"backgroundcolor\": \"#E5ECF6\", \"gridcolor\": \"white\", \"gridwidth\": 2, \"linecolor\": \"white\", \"showbackground\": true, \"ticks\": \"\", \"zerolinecolor\": \"white\"}, \"yaxis\": {\"backgroundcolor\": \"#E5ECF6\", \"gridcolor\": \"white\", \"gridwidth\": 2, \"linecolor\": \"white\", \"showbackground\": true, \"ticks\": \"\", \"zerolinecolor\": \"white\"}, \"zaxis\": {\"backgroundcolor\": \"#E5ECF6\", \"gridcolor\": \"white\", \"gridwidth\": 2, \"linecolor\": \"white\", \"showbackground\": true, \"ticks\": \"\", \"zerolinecolor\": \"white\"}}, \"shapedefaults\": {\"line\": {\"color\": \"#2a3f5f\"}}, \"ternary\": {\"aaxis\": {\"gridcolor\": \"white\", \"linecolor\": \"white\", \"ticks\": \"\"}, \"baxis\": {\"gridcolor\": \"white\", \"linecolor\": \"white\", \"ticks\": \"\"}, \"bgcolor\": \"#E5ECF6\", \"caxis\": {\"gridcolor\": \"white\", \"linecolor\": \"white\", \"ticks\": \"\"}}, \"title\": {\"x\": 0.05}, \"xaxis\": {\"automargin\": true, \"gridcolor\": \"white\", \"linecolor\": \"white\", \"ticks\": \"\", \"title\": {\"standoff\": 15}, \"zerolinecolor\": \"white\", \"zerolinewidth\": 2}, \"yaxis\": {\"automargin\": true, \"gridcolor\": \"white\", \"linecolor\": \"white\", \"ticks\": \"\", \"title\": {\"standoff\": 15}, \"zerolinecolor\": \"white\", \"zerolinewidth\": 2}}}, \"xaxis\": {\"range\": [0, 528]}, \"yaxis\": {\"range\": [0, 456]}},                        {\"responsive\": true}                    ).then(function(){\n",
       "                            \n",
       "var gd = document.getElementById('aa175748-86fa-4e42-b07c-09d76f3ef10f');\n",
       "var x = new MutationObserver(function (mutations, observer) {{\n",
       "        var display = window.getComputedStyle(gd).display;\n",
       "        if (!display || display === 'none') {{\n",
       "            console.log([gd, 'removed!']);\n",
       "            Plotly.purge(gd);\n",
       "            observer.disconnect();\n",
       "        }}\n",
       "}});\n",
       "\n",
       "// Listen for the removal of the full notebook cells\n",
       "var notebookContainer = gd.closest('#notebook-container');\n",
       "if (notebookContainer) {{\n",
       "    x.observe(notebookContainer, {childList: true});\n",
       "}}\n",
       "\n",
       "// Listen for the clearing of the current output cell\n",
       "var outputEl = gd.closest('.output');\n",
       "if (outputEl) {{\n",
       "    x.observe(outputEl, {childList: true});\n",
       "}}\n",
       "\n",
       "                        })                };                });            </script>        </div>"
      ]
     },
     "metadata": {},
     "output_type": "display_data"
    }
   ],
   "source": [
    "fig = px.scatter_3d(legit_data, x='Centroid_location_1', y='Centroid_location_2', z='Centroid_location_3',\n",
    "              color='Centroid_id_name')\n",
    "fig.update_traces(marker=dict(size=5))\n",
    "\n",
    "fig.update_xaxes(range=[0, 528])\n",
    "fig.update_yaxes(range=[0, 456])\n",
    "#fig.update_yaxes(range=[0, 456], autorange=\"reversed\")\n",
    "# autorange reversed makes top left corner 0,0 but does not work with custom range...\n",
    "fig.show()"
   ]
  },
  {
   "cell_type": "markdown",
   "metadata": {
    "tags": []
   },
   "source": [
    "## replot bar graphs for only those qualify injection area above 80% contribution from one region"
   ]
  },
  {
   "cell_type": "code",
   "execution_count": 64,
   "metadata": {},
   "outputs": [],
   "source": [
    "def expand_df(datadf):\n",
    "    '''reformat dataframe for plotting stacked bars\n",
    "    '''\n",
    "    \n",
    "    data_expanded=pd.DataFrame(data={'sample_id': [],'genotype': [], 'region_id': [], 'region_name': [], 'count': [], 'percentage': []})\n",
    "\n",
    "    for i in range(0,len(this_data)):\n",
    "\n",
    "        data_specific=pd.DataFrame(data={'sample_id': [],'genotype': [], 'region_id': [], 'region_name': [], 'count': [], 'percentage': []})\n",
    "\n",
    "        test=this_data['Voxel_id'][i]\n",
    "        testdict=ast.literal_eval(test)[0]\n",
    "        data_name=this_data['Data_name'][i]\n",
    "        data_genotype=this_data['Genotype'][i]\n",
    "\n",
    "        data_specific['sample_id']= [f'{data_name}']* len(testdict.keys())\n",
    "        data_specific['genotype']= [f'{data_genotype}']* len(testdict.keys())\n",
    "\n",
    "        data_specific['region_id']= testdict.keys()\n",
    "        id_name= [na.give_me_name(i) for i in testdict.keys()]\n",
    "        data_specific['region_name']= id_name \n",
    "\n",
    "        counts=list(testdict.values())\n",
    "        data_specific['count']= counts\n",
    "        countsInt = np.array(counts)\n",
    "        newArray = countsInt*100/sum(countsInt)\n",
    "        data_specific['percentage']= newArray\n",
    "        #convert to percentage\n",
    "\n",
    "        data_expanded=data_expanded.append(data_specific)\n",
    "        \n",
    "    return data_expanded"
   ]
  },
  {
   "cell_type": "code",
   "execution_count": 4,
   "metadata": {},
   "outputs": [],
   "source": [
    "data=pd.read_excel(r'D:\\viral_injectionsite\\results_expanded.xlsx',index_col=0)"
   ]
  },
  {
   "cell_type": "code",
   "execution_count": null,
   "metadata": {},
   "outputs": [],
   "source": [
    "genotype_orders= ['Rasgrf2dCre', 'Scnn1aCre', 'Tlx3Cre', 'Rbp4Cre', 'Sim1Cre', 'Ntsr1Cre']"
   ]
  },
  {
   "cell_type": "code",
   "execution_count": 5,
   "metadata": {
    "tags": []
   },
   "outputs": [
    {
     "name": "stderr",
     "output_type": "stream",
     "text": [
      "C:\\Users\\liu\\AppData\\Local\\Continuum\\anaconda3\\lib\\site-packages\\ipykernel_launcher.py:2: SettingWithCopyWarning:\n",
      "\n",
      "\n",
      "A value is trying to be set on a copy of a slice from a DataFrame\n",
      "\n",
      "See the caveats in the documentation: https://pandas.pydata.org/pandas-docs/stable/user_guide/indexing.html#returning-a-view-versus-a-copy\n",
      "\n"
     ]
    }
   ],
   "source": [
    "legit_data=data[data['over_eighty']==True]\n",
    "legit_data.sort_values('Genotype', inplace=True)\n",
    "\n",
    "#legit_data"
   ]
  },
  {
   "cell_type": "markdown",
   "metadata": {},
   "source": [
    "### plot those s1 samples"
   ]
  },
  {
   "cell_type": "code",
   "execution_count": 6,
   "metadata": {
    "tags": []
   },
   "outputs": [],
   "source": [
    "s1_data= legit_data[legit_data['Centroid_id_name'].str.contains('SSp')]\n",
    "this_data=s1_data.reset_index(drop=True)\n",
    "#this_data"
   ]
  },
  {
   "cell_type": "code",
   "execution_count": 7,
   "metadata": {},
   "outputs": [],
   "source": [
    "this_data=this_data.drop([6])\n",
    "this_data=this_data.reset_index(drop=True)\n",
    "# drop AL256 for its noisyness"
   ]
  },
  {
   "cell_type": "code",
   "execution_count": 33,
   "metadata": {
    "tags": []
   },
   "outputs": [],
   "source": [
    "# basically the expand_df function but without the quantifying 80% part\n",
    "data_expanded=expand_df(this_data)"
   ]
  },
  {
   "cell_type": "code",
   "execution_count": 34,
   "metadata": {},
   "outputs": [],
   "source": [
    "df1 =data_expanded.set_index('genotype')\n",
    "df1= df1.loc[genotype_orders]\n",
    "# reorder this by genotype!"
   ]
  },
  {
   "cell_type": "code",
   "execution_count": 37,
   "metadata": {},
   "outputs": [],
   "source": [
    "fig = px.bar(df1, x=\"sample_id\", y=\"percentage\", color=\"region_name\")\n",
    "#fig.show()\n",
    "fig.write_image(f\"s1_injsites.svg\")\n"
   ]
  },
  {
   "cell_type": "code",
   "execution_count": 49,
   "metadata": {},
   "outputs": [],
   "source": [
    "df2 =this_data.set_index('Genotype')\n",
    "df2= df2.loc[genotype_orders]\n",
    "# reorder this by genotype!"
   ]
  },
  {
   "cell_type": "code",
   "execution_count": 55,
   "metadata": {},
   "outputs": [],
   "source": [
    "fig = px.box(df2.reset_index(), x=\"Genotype\", y=\"inj_radius\", points=\"all\")\n",
    "#reset index to put the genotype column back after sorting\n",
    "fig.write_image(\"s1_radius.svg\")\n"
   ]
  },
  {
   "cell_type": "markdown",
   "metadata": {},
   "source": [
    "### plot those s2 samples"
   ]
  },
  {
   "cell_type": "code",
   "execution_count": 56,
   "metadata": {},
   "outputs": [],
   "source": [
    "s2_data= legit_data[legit_data['Centroid_id_name'].str.contains('SSs')]\n",
    "this_data=s2_data.reset_index(drop=True)"
   ]
  },
  {
   "cell_type": "code",
   "execution_count": 57,
   "metadata": {},
   "outputs": [
    {
     "data": {
      "text/html": [
       "<div>\n",
       "<style scoped>\n",
       "    .dataframe tbody tr th:only-of-type {\n",
       "        vertical-align: middle;\n",
       "    }\n",
       "\n",
       "    .dataframe tbody tr th {\n",
       "        vertical-align: top;\n",
       "    }\n",
       "\n",
       "    .dataframe thead th {\n",
       "        text-align: right;\n",
       "    }\n",
       "</style>\n",
       "<table border=\"1\" class=\"dataframe\">\n",
       "  <thead>\n",
       "    <tr style=\"text-align: right;\">\n",
       "      <th></th>\n",
       "      <th>Data_name</th>\n",
       "      <th>Total_voxels</th>\n",
       "      <th>Centroid_location_1</th>\n",
       "      <th>Centroid_location_2</th>\n",
       "      <th>Centroid_location_3</th>\n",
       "      <th>Centroid_id</th>\n",
       "      <th>Voxel_id</th>\n",
       "      <th>Genotype</th>\n",
       "      <th>Centroid_id_name</th>\n",
       "      <th>inj_radius</th>\n",
       "      <th>over_eighty</th>\n",
       "    </tr>\n",
       "  </thead>\n",
       "  <tbody>\n",
       "    <tr>\n",
       "      <th>0</th>\n",
       "      <td>AL274_561</td>\n",
       "      <td>2205</td>\n",
       "      <td>77</td>\n",
       "      <td>284</td>\n",
       "      <td>106</td>\n",
       "      <td>862</td>\n",
       "      <td>[{862: 1958, 1090: 247}]</td>\n",
       "      <td>Ntsr1Cre</td>\n",
       "      <td>SSs6a</td>\n",
       "      <td>201.858327</td>\n",
       "      <td>True</td>\n",
       "    </tr>\n",
       "    <tr>\n",
       "      <th>1</th>\n",
       "      <td>AL310_647</td>\n",
       "      <td>1812</td>\n",
       "      <td>74</td>\n",
       "      <td>284</td>\n",
       "      <td>111</td>\n",
       "      <td>862</td>\n",
       "      <td>[{156: 23, 252: 2, 862: 1417, 893: 45, 1090: 3...</td>\n",
       "      <td>Ntsr1Cre</td>\n",
       "      <td>SSs6a</td>\n",
       "      <td>189.073154</td>\n",
       "      <td>True</td>\n",
       "    </tr>\n",
       "    <tr>\n",
       "      <th>2</th>\n",
       "      <td>AL330_647</td>\n",
       "      <td>4020</td>\n",
       "      <td>79</td>\n",
       "      <td>272</td>\n",
       "      <td>109</td>\n",
       "      <td>862</td>\n",
       "      <td>[{862: 2818, 1038: 681, 1070: 72, 1090: 449}]</td>\n",
       "      <td>Ntsr1Cre</td>\n",
       "      <td>SSs6a</td>\n",
       "      <td>246.595884</td>\n",
       "      <td>True</td>\n",
       "    </tr>\n",
       "    <tr>\n",
       "      <th>3</th>\n",
       "      <td>AL332_561</td>\n",
       "      <td>1143</td>\n",
       "      <td>54</td>\n",
       "      <td>287</td>\n",
       "      <td>77</td>\n",
       "      <td>873</td>\n",
       "      <td>[{0: 52, 527: 17, 806: 293, 873: 781}]</td>\n",
       "      <td>Rasgrf2dCre</td>\n",
       "      <td>SSs1</td>\n",
       "      <td>162.153334</td>\n",
       "      <td>True</td>\n",
       "    </tr>\n",
       "    <tr>\n",
       "      <th>4</th>\n",
       "      <td>AL303_561</td>\n",
       "      <td>3288</td>\n",
       "      <td>62</td>\n",
       "      <td>294</td>\n",
       "      <td>73</td>\n",
       "      <td>806</td>\n",
       "      <td>[{201: 2, 527: 1, 600: 1, 806: 2222, 873: 804,...</td>\n",
       "      <td>Rasgrf2dCre</td>\n",
       "      <td>SSs2/3</td>\n",
       "      <td>230.615101</td>\n",
       "      <td>True</td>\n",
       "    </tr>\n",
       "    <tr>\n",
       "      <th>5</th>\n",
       "      <td>AL333_561</td>\n",
       "      <td>2061</td>\n",
       "      <td>50</td>\n",
       "      <td>277</td>\n",
       "      <td>92</td>\n",
       "      <td>806</td>\n",
       "      <td>[{0: 22, 806: 1128, 873: 903, 1035: 8}]</td>\n",
       "      <td>Rasgrf2dCre</td>\n",
       "      <td>SSs2/3</td>\n",
       "      <td>197.364847</td>\n",
       "      <td>True</td>\n",
       "    </tr>\n",
       "    <tr>\n",
       "      <th>6</th>\n",
       "      <td>AL288_647</td>\n",
       "      <td>4016</td>\n",
       "      <td>70</td>\n",
       "      <td>270</td>\n",
       "      <td>107</td>\n",
       "      <td>1090</td>\n",
       "      <td>[{862: 499, 1035: 184, 1047: 4, 1070: 238, 109...</td>\n",
       "      <td>Rbp4Cre</td>\n",
       "      <td>SSs5</td>\n",
       "      <td>246.514067</td>\n",
       "      <td>True</td>\n",
       "    </tr>\n",
       "    <tr>\n",
       "      <th>7</th>\n",
       "      <td>AL326_647</td>\n",
       "      <td>4784</td>\n",
       "      <td>70</td>\n",
       "      <td>274</td>\n",
       "      <td>101</td>\n",
       "      <td>1090</td>\n",
       "      <td>[{1035: 336, 1047: 15, 1070: 662, 1090: 3771}]</td>\n",
       "      <td>Rbp4Cre</td>\n",
       "      <td>SSs5</td>\n",
       "      <td>261.320930</td>\n",
       "      <td>True</td>\n",
       "    </tr>\n",
       "    <tr>\n",
       "      <th>8</th>\n",
       "      <td>AL327_647</td>\n",
       "      <td>3939</td>\n",
       "      <td>60</td>\n",
       "      <td>277</td>\n",
       "      <td>111</td>\n",
       "      <td>1090</td>\n",
       "      <td>[{252: 201, 678: 51, 1035: 932, 1090: 2755}]</td>\n",
       "      <td>Rbp4Cre</td>\n",
       "      <td>SSs5</td>\n",
       "      <td>244.928393</td>\n",
       "      <td>True</td>\n",
       "    </tr>\n",
       "    <tr>\n",
       "      <th>9</th>\n",
       "      <td>AL290_561</td>\n",
       "      <td>981</td>\n",
       "      <td>65</td>\n",
       "      <td>272</td>\n",
       "      <td>93</td>\n",
       "      <td>1035</td>\n",
       "      <td>[{201: 5, 806: 104, 1035: 797, 1047: 19, 1090:...</td>\n",
       "      <td>Scnn1aCre</td>\n",
       "      <td>SSs4</td>\n",
       "      <td>154.099114</td>\n",
       "      <td>True</td>\n",
       "    </tr>\n",
       "    <tr>\n",
       "      <th>10</th>\n",
       "      <td>AL323_647</td>\n",
       "      <td>1914</td>\n",
       "      <td>58</td>\n",
       "      <td>279</td>\n",
       "      <td>104</td>\n",
       "      <td>1035</td>\n",
       "      <td>[{252: 19, 600: 86, 678: 234, 806: 73, 1035: 1...</td>\n",
       "      <td>Scnn1aCre</td>\n",
       "      <td>SSs4</td>\n",
       "      <td>192.556323</td>\n",
       "      <td>True</td>\n",
       "    </tr>\n",
       "    <tr>\n",
       "      <th>11</th>\n",
       "      <td>AL292_647</td>\n",
       "      <td>2281</td>\n",
       "      <td>66</td>\n",
       "      <td>281</td>\n",
       "      <td>94</td>\n",
       "      <td>1035</td>\n",
       "      <td>[{678: 1, 1035: 1464, 1047: 17, 1090: 799}]</td>\n",
       "      <td>Scnn1aCre</td>\n",
       "      <td>SSs4</td>\n",
       "      <td>204.151340</td>\n",
       "      <td>True</td>\n",
       "    </tr>\n",
       "    <tr>\n",
       "      <th>12</th>\n",
       "      <td>AL281_647</td>\n",
       "      <td>1767</td>\n",
       "      <td>72</td>\n",
       "      <td>283</td>\n",
       "      <td>102</td>\n",
       "      <td>1090</td>\n",
       "      <td>[{862: 185, 1090: 1582}]</td>\n",
       "      <td>Sim1Cre</td>\n",
       "      <td>SSs5</td>\n",
       "      <td>187.494841</td>\n",
       "      <td>True</td>\n",
       "    </tr>\n",
       "    <tr>\n",
       "      <th>13</th>\n",
       "      <td>AL286_647</td>\n",
       "      <td>919</td>\n",
       "      <td>70</td>\n",
       "      <td>272</td>\n",
       "      <td>111</td>\n",
       "      <td>1090</td>\n",
       "      <td>[{862: 6, 1090: 913}]</td>\n",
       "      <td>Sim1Cre</td>\n",
       "      <td>SSs5</td>\n",
       "      <td>150.781818</td>\n",
       "      <td>True</td>\n",
       "    </tr>\n",
       "    <tr>\n",
       "      <th>14</th>\n",
       "      <td>AL321_647</td>\n",
       "      <td>1431</td>\n",
       "      <td>74</td>\n",
       "      <td>286</td>\n",
       "      <td>89</td>\n",
       "      <td>1090</td>\n",
       "      <td>[{1035: 104, 1047: 8, 1070: 189, 1090: 1130}]</td>\n",
       "      <td>Sim1Cre</td>\n",
       "      <td>SSs5</td>\n",
       "      <td>174.766028</td>\n",
       "      <td>True</td>\n",
       "    </tr>\n",
       "    <tr>\n",
       "      <th>15</th>\n",
       "      <td>AL322_647</td>\n",
       "      <td>995</td>\n",
       "      <td>73</td>\n",
       "      <td>285</td>\n",
       "      <td>91</td>\n",
       "      <td>1090</td>\n",
       "      <td>[{1035: 33, 1070: 72, 1090: 890}]</td>\n",
       "      <td>Sim1Cre</td>\n",
       "      <td>SSs5</td>\n",
       "      <td>154.828711</td>\n",
       "      <td>True</td>\n",
       "    </tr>\n",
       "    <tr>\n",
       "      <th>16</th>\n",
       "      <td>AL280_647</td>\n",
       "      <td>1642</td>\n",
       "      <td>71</td>\n",
       "      <td>277</td>\n",
       "      <td>97</td>\n",
       "      <td>1090</td>\n",
       "      <td>[{1035: 8, 1070: 100, 1090: 1534}]</td>\n",
       "      <td>Tlx3Cre</td>\n",
       "      <td>SSs5</td>\n",
       "      <td>182.965072</td>\n",
       "      <td>True</td>\n",
       "    </tr>\n",
       "    <tr>\n",
       "      <th>17</th>\n",
       "      <td>AL278_647</td>\n",
       "      <td>1221</td>\n",
       "      <td>70</td>\n",
       "      <td>282</td>\n",
       "      <td>94</td>\n",
       "      <td>1090</td>\n",
       "      <td>[{1035: 68, 1047: 2, 1070: 52, 1090: 1099}]</td>\n",
       "      <td>Tlx3Cre</td>\n",
       "      <td>SSs5</td>\n",
       "      <td>165.761001</td>\n",
       "      <td>True</td>\n",
       "    </tr>\n",
       "    <tr>\n",
       "      <th>18</th>\n",
       "      <td>AL319_647</td>\n",
       "      <td>2293</td>\n",
       "      <td>71</td>\n",
       "      <td>287</td>\n",
       "      <td>89</td>\n",
       "      <td>1090</td>\n",
       "      <td>[{1035: 681, 1047: 172, 1070: 189, 1090: 1251}]</td>\n",
       "      <td>Tlx3Cre</td>\n",
       "      <td>SSs5</td>\n",
       "      <td>204.508717</td>\n",
       "      <td>True</td>\n",
       "    </tr>\n",
       "  </tbody>\n",
       "</table>\n",
       "</div>"
      ],
      "text/plain": [
       "    Data_name  Total_voxels  Centroid_location_1  Centroid_location_2  \\\n",
       "0   AL274_561          2205                   77                  284   \n",
       "1   AL310_647          1812                   74                  284   \n",
       "2   AL330_647          4020                   79                  272   \n",
       "3   AL332_561          1143                   54                  287   \n",
       "4   AL303_561          3288                   62                  294   \n",
       "5   AL333_561          2061                   50                  277   \n",
       "6   AL288_647          4016                   70                  270   \n",
       "7   AL326_647          4784                   70                  274   \n",
       "8   AL327_647          3939                   60                  277   \n",
       "9   AL290_561           981                   65                  272   \n",
       "10  AL323_647          1914                   58                  279   \n",
       "11  AL292_647          2281                   66                  281   \n",
       "12  AL281_647          1767                   72                  283   \n",
       "13  AL286_647           919                   70                  272   \n",
       "14  AL321_647          1431                   74                  286   \n",
       "15  AL322_647           995                   73                  285   \n",
       "16  AL280_647          1642                   71                  277   \n",
       "17  AL278_647          1221                   70                  282   \n",
       "18  AL319_647          2293                   71                  287   \n",
       "\n",
       "    Centroid_location_3  Centroid_id  \\\n",
       "0                   106          862   \n",
       "1                   111          862   \n",
       "2                   109          862   \n",
       "3                    77          873   \n",
       "4                    73          806   \n",
       "5                    92          806   \n",
       "6                   107         1090   \n",
       "7                   101         1090   \n",
       "8                   111         1090   \n",
       "9                    93         1035   \n",
       "10                  104         1035   \n",
       "11                   94         1035   \n",
       "12                  102         1090   \n",
       "13                  111         1090   \n",
       "14                   89         1090   \n",
       "15                   91         1090   \n",
       "16                   97         1090   \n",
       "17                   94         1090   \n",
       "18                   89         1090   \n",
       "\n",
       "                                             Voxel_id     Genotype  \\\n",
       "0                            [{862: 1958, 1090: 247}]     Ntsr1Cre   \n",
       "1   [{156: 23, 252: 2, 862: 1417, 893: 45, 1090: 3...     Ntsr1Cre   \n",
       "2       [{862: 2818, 1038: 681, 1070: 72, 1090: 449}]     Ntsr1Cre   \n",
       "3              [{0: 52, 527: 17, 806: 293, 873: 781}]  Rasgrf2dCre   \n",
       "4   [{201: 2, 527: 1, 600: 1, 806: 2222, 873: 804,...  Rasgrf2dCre   \n",
       "5             [{0: 22, 806: 1128, 873: 903, 1035: 8}]  Rasgrf2dCre   \n",
       "6   [{862: 499, 1035: 184, 1047: 4, 1070: 238, 109...      Rbp4Cre   \n",
       "7      [{1035: 336, 1047: 15, 1070: 662, 1090: 3771}]      Rbp4Cre   \n",
       "8        [{252: 201, 678: 51, 1035: 932, 1090: 2755}]      Rbp4Cre   \n",
       "9   [{201: 5, 806: 104, 1035: 797, 1047: 19, 1090:...    Scnn1aCre   \n",
       "10  [{252: 19, 600: 86, 678: 234, 806: 73, 1035: 1...    Scnn1aCre   \n",
       "11        [{678: 1, 1035: 1464, 1047: 17, 1090: 799}]    Scnn1aCre   \n",
       "12                           [{862: 185, 1090: 1582}]      Sim1Cre   \n",
       "13                              [{862: 6, 1090: 913}]      Sim1Cre   \n",
       "14      [{1035: 104, 1047: 8, 1070: 189, 1090: 1130}]      Sim1Cre   \n",
       "15                  [{1035: 33, 1070: 72, 1090: 890}]      Sim1Cre   \n",
       "16                 [{1035: 8, 1070: 100, 1090: 1534}]      Tlx3Cre   \n",
       "17        [{1035: 68, 1047: 2, 1070: 52, 1090: 1099}]      Tlx3Cre   \n",
       "18    [{1035: 681, 1047: 172, 1070: 189, 1090: 1251}]      Tlx3Cre   \n",
       "\n",
       "   Centroid_id_name  inj_radius  over_eighty  \n",
       "0             SSs6a  201.858327         True  \n",
       "1             SSs6a  189.073154         True  \n",
       "2             SSs6a  246.595884         True  \n",
       "3              SSs1  162.153334         True  \n",
       "4            SSs2/3  230.615101         True  \n",
       "5            SSs2/3  197.364847         True  \n",
       "6              SSs5  246.514067         True  \n",
       "7              SSs5  261.320930         True  \n",
       "8              SSs5  244.928393         True  \n",
       "9              SSs4  154.099114         True  \n",
       "10             SSs4  192.556323         True  \n",
       "11             SSs4  204.151340         True  \n",
       "12             SSs5  187.494841         True  \n",
       "13             SSs5  150.781818         True  \n",
       "14             SSs5  174.766028         True  \n",
       "15             SSs5  154.828711         True  \n",
       "16             SSs5  182.965072         True  \n",
       "17             SSs5  165.761001         True  \n",
       "18             SSs5  204.508717         True  "
      ]
     },
     "execution_count": 57,
     "metadata": {},
     "output_type": "execute_result"
    }
   ],
   "source": [
    "this_data"
   ]
  },
  {
   "cell_type": "code",
   "execution_count": 65,
   "metadata": {},
   "outputs": [],
   "source": [
    "data_expanded=expand_df(this_data)"
   ]
  },
  {
   "cell_type": "code",
   "execution_count": 67,
   "metadata": {},
   "outputs": [],
   "source": [
    "df1 =data_expanded.set_index('genotype')\n",
    "df1= df1.loc[genotype_orders]\n",
    "# reorder this by genotype!"
   ]
  },
  {
   "cell_type": "code",
   "execution_count": 69,
   "metadata": {},
   "outputs": [],
   "source": [
    "fig = px.bar(df1, x=\"sample_id\", y=\"percentage\", color=\"region_name\")\n",
    "#fig.show()\n",
    "fig.write_image(\"s2_injsites.svg\")"
   ]
  },
  {
   "cell_type": "code",
   "execution_count": 70,
   "metadata": {},
   "outputs": [],
   "source": [
    "df2 =this_data.set_index('Genotype')\n",
    "df2= df2.loc[genotype_orders]\n",
    "# reorder this by genotype!"
   ]
  },
  {
   "cell_type": "code",
   "execution_count": 71,
   "metadata": {},
   "outputs": [],
   "source": [
    "fig = px.box(df2.reset_index(), x=\"Genotype\", y=\"inj_radius\", points=\"all\")\n",
    "#reset index to put the genotype column back after sorting\n",
    "fig.write_image(\"s2_radius.svg\")"
   ]
  },
  {
   "cell_type": "code",
   "execution_count": 23,
   "metadata": {},
   "outputs": [],
   "source": [
    "####### separator"
   ]
  },
  {
   "cell_type": "code",
   "execution_count": 22,
   "metadata": {},
   "outputs": [
    {
     "name": "stdout",
     "output_type": "stream",
     "text": [
      "this genotype is Ntsr1Cre\n",
      "this genotype is Rasgrf2dCre\n",
      "this genotype is Rbp4Cre\n",
      "this genotype is Scnn1aCre\n",
      "this genotype is Sim1Cre\n",
      "this genotype is Tlx3Cre\n"
     ]
    }
   ],
   "source": [
    "# deprecated\n",
    "for i in genotypes:\n",
    "    print(f'this genotype is {i}')\n",
    "\n",
    "    this_genotype= this_data[this_data['Genotype']== i]\n",
    "    \n",
    "    this_genotype=this_genotype.reset_index(drop=True)\n",
    "    this_df= expand_df(this_genotype)\n",
    "    \n",
    "    fig = px.bar(this_df, x=\"sample_id\", y=\"percentage\", color=\"region_name\",\n",
    "                width=400, height=600)\n",
    "\n",
    "    fig.write_image(f\"{i}_injectionvoxel_distribution.svg\")"
   ]
  },
  {
   "cell_type": "code",
   "execution_count": null,
   "metadata": {},
   "outputs": [],
   "source": []
  }
 ],
 "metadata": {
  "kernelspec": {
   "display_name": "Python 3",
   "language": "python",
   "name": "python3"
  },
  "language_info": {
   "codemirror_mode": {
    "name": "ipython",
    "version": 3
   },
   "file_extension": ".py",
   "mimetype": "text/x-python",
   "name": "python",
   "nbconvert_exporter": "python",
   "pygments_lexer": "ipython3",
   "version": "3.7.3"
  }
 },
 "nbformat": 4,
 "nbformat_minor": 4
}
