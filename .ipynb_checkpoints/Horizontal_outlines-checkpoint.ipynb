{
 "cells": [
  {
   "cell_type": "code",
   "execution_count": 1,
   "metadata": {},
   "outputs": [],
   "source": [
    "import napari\n",
    "import SimpleITK as sitk\n",
    "import numpy as np\n",
    "\n",
    "import Neuron_analysis as na\n",
    "\n",
    "import pandas as pd"
   ]
  },
  {
   "cell_type": "code",
   "execution_count": 2,
   "metadata": {},
   "outputs": [],
   "source": [
    "viewer = napari.Viewer()"
   ]
  },
  {
   "cell_type": "code",
   "execution_count": 3,
   "metadata": {},
   "outputs": [],
   "source": [
    "atlas= sitk.ReadImage('D:\\\\2PT electroporation time\\AL140\\\\ara2sample_atlas\\\\result.mhd')\n",
    "#atlas= sitk.ReadImage('D:\\Allenbrainatlas\\ARA_25_micron_mhd_ccf2017\\\\annotation_25.mhd')\n",
    "atlas=sitk.GetArrayFromImage(atlas) "
   ]
  },
  {
   "cell_type": "code",
   "execution_count": 4,
   "metadata": {},
   "outputs": [
    {
     "name": "stderr",
     "output_type": "stream",
     "text": [
      "C:\\Users\\liu\\AppData\\Local\\Continuum\\anaconda3\\lib\\site-packages\\napari\\_vispy\\vispy_camera.py:109: RuntimeWarning: divide by zero encountered in true_divide\n",
      "  zoom = np.min(canvas_size / scale)\n"
     ]
    },
    {
     "data": {
      "text/plain": [
       "<Labels layer 'atlas' at 0x283045a5630>"
      ]
     },
     "execution_count": 4,
     "metadata": {},
     "output_type": "execute_result"
    }
   ],
   "source": [
    "atlas= atlas. astype(int)\n",
    "viewer.add_labels(atlas, name='atlas')\n"
   ]
  },
  {
   "cell_type": "code",
   "execution_count": 5,
   "metadata": {},
   "outputs": [],
   "source": [
    "def create_mask(x):\n",
    "    #create mask based on selected atlas index (an int)\n",
    "    mask=np.zeros_like(atlas)\n",
    "    mask_idx= atlas==x\n",
    "    mask[mask_idx]=1\n",
    "    return mask"
   ]
  },
  {
   "cell_type": "code",
   "execution_count": 8,
   "metadata": {},
   "outputs": [],
   "source": [
    "atlas_labels=pd.read_csv('D:\\Allenbrainatlas\\ARA_25_micron_mhd_ccf2017\\wraped\\ccf_2017_itksnap_labels.csv', sep=',')"
   ]
  },
  {
   "cell_type": "code",
   "execution_count": 13,
   "metadata": {},
   "outputs": [],
   "source": [
    "layer1= [i for i,j in enumerate(atlas_labels.acronym) if j[-1]=='1']"
   ]
  },
  {
   "cell_type": "code",
   "execution_count": 33,
   "metadata": {},
   "outputs": [
    {
     "data": {
      "text/html": [
       "<div>\n",
       "<style scoped>\n",
       "    .dataframe tbody tr th:only-of-type {\n",
       "        vertical-align: middle;\n",
       "    }\n",
       "\n",
       "    .dataframe tbody tr th {\n",
       "        vertical-align: top;\n",
       "    }\n",
       "\n",
       "    .dataframe thead th {\n",
       "        text-align: right;\n",
       "    }\n",
       "</style>\n",
       "<table border=\"1\" class=\"dataframe\">\n",
       "  <thead>\n",
       "    <tr style=\"text-align: right;\">\n",
       "      <th></th>\n",
       "      <th>region_id</th>\n",
       "      <th>acronym</th>\n",
       "    </tr>\n",
       "  </thead>\n",
       "  <tbody>\n",
       "    <tr>\n",
       "      <th>537</th>\n",
       "      <td>538</td>\n",
       "      <td>NLOT1</td>\n",
       "    </tr>\n",
       "  </tbody>\n",
       "</table>\n",
       "</div>"
      ],
      "text/plain": [
       "     region_id acronym\n",
       "537        538   NLOT1"
      ]
     },
     "execution_count": 33,
     "metadata": {},
     "output_type": "execute_result"
    }
   ],
   "source": [
    "layer1_labels=atlas_labels.iloc[layer1]\n",
    "layer1_labels[layer1_labels.region_id==538]"
   ]
  },
  {
   "cell_type": "code",
   "execution_count": 23,
   "metadata": {},
   "outputs": [],
   "source": [
    "layer1_id= layer1_labels.region_id"
   ]
  },
  {
   "cell_type": "code",
   "execution_count": 20,
   "metadata": {},
   "outputs": [],
   "source": [
    "def create_mask(x):\n",
    "    #create mask based on selected atlas index (an int)\n",
    "    mask=np.zeros_like(atlas)\n",
    "    for i in x:\n",
    "        mask_idx= atlas==i\n",
    "        mask[mask_idx]=1\n",
    "    return mask"
   ]
  },
  {
   "cell_type": "code",
   "execution_count": 30,
   "metadata": {},
   "outputs": [
    {
     "data": {
      "text/plain": [
       "<Labels layer 'mask [1]' at 0x28306f32ba8>"
      ]
     },
     "execution_count": 30,
     "metadata": {},
     "output_type": "execute_result"
    }
   ],
   "source": [
    "mask1=create_mask(layer1_id)\n",
    "viewer.add_labels(mask1, name='mask')"
   ]
  },
  {
   "cell_type": "code",
   "execution_count": 25,
   "metadata": {},
   "outputs": [
    {
     "data": {
      "text/plain": [
       "4       False\n",
       "10      False\n",
       "16      False\n",
       "34      False\n",
       "40      False\n",
       "        ...  \n",
       "1056    False\n",
       "1063    False\n",
       "1070    False\n",
       "1077    False\n",
       "1084    False\n",
       "Name: region_id, Length: 75, dtype: bool"
      ]
     },
     "execution_count": 25,
     "metadata": {},
     "output_type": "execute_result"
    }
   ],
   "source": []
  },
  {
   "cell_type": "code",
   "execution_count": 29,
   "metadata": {},
   "outputs": [
    {
     "name": "stderr",
     "output_type": "stream",
     "text": [
      "C:\\Users\\liu\\AppData\\Local\\Continuum\\anaconda3\\lib\\site-packages\\pandas\\core\\generic.py:3917: SettingWithCopyWarning: \n",
      "A value is trying to be set on a copy of a slice from a DataFrame\n",
      "\n",
      "See the caveats in the documentation: http://pandas.pydata.org/pandas-docs/stable/user_guide/indexing.html#returning-a-view-versus-a-copy\n",
      "  self._update_inplace(obj)\n"
     ]
    }
   ],
   "source": [
    "layer1_id.drop(layer1_id[layer1_id==149].index, inplace=True)\n",
    "layer1_id.drop(layer1_id[layer1_id==583].index, inplace=True)\n",
    "#Drops CA1 (id=149) and NLOT1(id=538)"
   ]
  },
  {
   "cell_type": "code",
   "execution_count": null,
   "metadata": {},
   "outputs": [],
   "source": []
  }
 ],
 "metadata": {
  "kernelspec": {
   "display_name": "Python 3",
   "language": "python",
   "name": "python3"
  },
  "language_info": {
   "codemirror_mode": {
    "name": "ipython",
    "version": 3
   },
   "file_extension": ".py",
   "mimetype": "text/x-python",
   "name": "python",
   "nbconvert_exporter": "python",
   "pygments_lexer": "ipython3",
   "version": "3.7.3"
  }
 },
 "nbformat": 4,
 "nbformat_minor": 4
}
