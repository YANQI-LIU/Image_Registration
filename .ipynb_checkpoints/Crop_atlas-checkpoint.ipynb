{
 "cells": [
  {
   "cell_type": "markdown",
   "metadata": {},
   "source": [
    "## Crops atlas and saves as mhd file for image registration\n",
    "### Do not save any segmentation files in imageJ, imageJ some how mess up several ids with very high values!"
   ]
  },
  {
   "cell_type": "code",
   "execution_count": 7,
   "metadata": {},
   "outputs": [],
   "source": [
    "from allensdk.core.mouse_connectivity_cache import MouseConnectivityCache\n",
    "\n",
    "import os\n",
    "import re\n",
    "\n",
    "import numpy as np\n",
    "\n",
    "import SimpleITK as sitk\n",
    "\n",
    "import tkinter.filedialog as fdialog\n",
    "\n",
    "import Neuron_analysis as na\n",
    "from Neuron_analysis import *"
   ]
  },
  {
   "cell_type": "code",
   "execution_count": 5,
   "metadata": {},
   "outputs": [],
   "source": [
    "outdir = fdialog.askdirectory(title='Please select the output directory')"
   ]
  },
  {
   "cell_type": "code",
   "execution_count": 13,
   "metadata": {},
   "outputs": [
    {
     "name": "stderr",
     "output_type": "stream",
     "text": [
      "2021-08-17 13:05:30,469 allensdk.api.api.retrieve_file_over_http INFO     Downloading URL: http://download.alleninstitute.org/informatics-archive/current-release/mouse_ccf/annotation/ccf_2017/annotation_25.nrrd\n"
     ]
    }
   ],
   "source": [
    "# Get segmentation file from allenSDK\n",
    "\n",
    "mcc = MouseConnectivityCache(resolution=25)\n",
    "\n",
    "annot, annot_info = mcc.get_annotation_volume()\n"
   ]
  },
  {
   "cell_type": "code",
   "execution_count": 4,
   "metadata": {},
   "outputs": [],
   "source": [
    "def get_template_name(outdir):\n",
    "    '''Get corresponding template name for finding the coronal crop'''\n",
    "    files=os.listdir(outdir)\n",
    "    template_name=[i for i in files if re.search(\"template.+\\.mhd\",i)][0]\n",
    "    return template_name"
   ]
  },
  {
   "cell_type": "code",
   "execution_count": 11,
   "metadata": {},
   "outputs": [
    {
     "data": {
      "text/plain": [
       "(92, 443)"
      ]
     },
     "execution_count": 11,
     "metadata": {},
     "output_type": "execute_result"
    }
   ],
   "source": [
    "template_name= get_template_name(outdir)\n",
    "lead,trail= na.find_crop(template_name)\n",
    "# identify cropped section\n",
    "\n",
    "end= 528 -trail\n",
    "\n",
    "lead, end"
   ]
  },
  {
   "cell_type": "code",
   "execution_count": 18,
   "metadata": {},
   "outputs": [],
   "source": [
    "# import napari\n",
    "# viewer = napari.Viewer()\n",
    "# viewer.add_labels(annot, name='atlas')"
   ]
  },
  {
   "cell_type": "code",
   "execution_count": 49,
   "metadata": {},
   "outputs": [],
   "source": [
    "# def create_mask(x):\n",
    "#     #create mask based on selected atlas index (an int)\n",
    "#     mask=np.zeros_like(annot)\n",
    "#     mask_idx= annot==x\n",
    "#     mask[mask_idx]=1\n",
    "#     return mask"
   ]
  },
  {
   "cell_type": "code",
   "execution_count": 20,
   "metadata": {},
   "outputs": [
    {
     "name": "stderr",
     "output_type": "stream",
     "text": [
      "C:\\Users\\liu\\AppData\\Local\\Continuum\\anaconda3\\lib\\site-packages\\napari\\_vispy\\vispy_camera.py:109: RuntimeWarning: divide by zero encountered in true_divide\n",
      "  zoom = np.min(canvas_size / scale)\n"
     ]
    },
    {
     "data": {
      "text/plain": [
       "<Labels layer 'atlas' at 0x132bb5719e8>"
      ]
     },
     "execution_count": 20,
     "metadata": {},
     "output_type": "execute_result"
    }
   ],
   "source": [
    "# img_id=312782566\n",
    "# mask=create_mask(img_id)\n",
    "# viewer.add_labels(mask, name=f'{img_id}')"
   ]
  },
  {
   "cell_type": "code",
   "execution_count": 38,
   "metadata": {},
   "outputs": [
    {
     "data": {
      "text/plain": [
       "[{'acronym': 'VISa6a',\n",
       "  'graph_id': 1,\n",
       "  'graph_order': 351,\n",
       "  'id': 312782566,\n",
       "  'name': 'Anterior area, layer 6a',\n",
       "  'structure_id_path': [997, 8, 567, 688, 695, 315, 22, 312782546, 312782566],\n",
       "  'structure_set_ids': [667481449, 184527634, 396673091, 691663206],\n",
       "  'rgb_triplet': [0, 159, 172]}]"
      ]
     },
     "execution_count": 38,
     "metadata": {},
     "output_type": "execute_result"
    }
   ],
   "source": [
    "#structure_tree.get_structures_by_id([312782566])"
   ]
  },
  {
   "cell_type": "code",
   "execution_count": 20,
   "metadata": {},
   "outputs": [],
   "source": [
    "crop_annot =annot [lead:end,:,:]\n",
    "image = sitk.GetImageFromArray(crop_annot)"
   ]
  },
  {
   "cell_type": "code",
   "execution_count": 21,
   "metadata": {},
   "outputs": [],
   "source": [
    "outputImageFileName= f'/atlas_{lead}-{end}.mhd'\n",
    "\n",
    "writer = sitk.ImageFileWriter()\n",
    "writer.SetFileName(outdir + outputImageFileName)\n",
    "writer.Execute(image)"
   ]
  },
  {
   "cell_type": "code",
   "execution_count": 23,
   "metadata": {},
   "outputs": [
    {
     "data": {
      "text/plain": [
       "'D:/2PT electroporation time/GF243atlas_92-443.mhd'"
      ]
     },
     "execution_count": 23,
     "metadata": {},
     "output_type": "execute_result"
    }
   ],
   "source": [
    "outdir+outputImageFileName"
   ]
  },
  {
   "cell_type": "code",
   "execution_count": 46,
   "metadata": {},
   "outputs": [],
   "source": [
    "reader = sitk.ImageFileReader()\n",
    "reader.SetFileName(\"test_atlas.mhd\")\n",
    "image = reader.Execute();"
   ]
  },
  {
   "cell_type": "code",
   "execution_count": 48,
   "metadata": {},
   "outputs": [],
   "source": [
    "image2=sitk.GetArrayFromImage(image)"
   ]
  },
  {
   "cell_type": "code",
   "execution_count": 50,
   "metadata": {},
   "outputs": [
    {
     "name": "stderr",
     "output_type": "stream",
     "text": [
      "C:\\Users\\liu\\AppData\\Local\\Continuum\\anaconda3\\lib\\site-packages\\napari\\_vispy\\vispy_camera.py:109: RuntimeWarning: divide by zero encountered in true_divide\n",
      "  zoom = np.min(canvas_size / scale)\n"
     ]
    },
    {
     "data": {
      "text/plain": [
       "<Labels layer 'atlas' at 0x132ba147b38>"
      ]
     },
     "execution_count": 50,
     "metadata": {},
     "output_type": "execute_result"
    }
   ],
   "source": [
    "viewer.add_labels(image2, name='atlas')"
   ]
  },
  {
   "cell_type": "code",
   "execution_count": 14,
   "metadata": {},
   "outputs": [
    {
     "data": {
      "text/plain": [
       "(528, 320, 456)"
      ]
     },
     "execution_count": 14,
     "metadata": {},
     "output_type": "execute_result"
    }
   ],
   "source": [
    "annot.shape"
   ]
  },
  {
   "cell_type": "code",
   "execution_count": 19,
   "metadata": {},
   "outputs": [
    {
     "data": {
      "text/plain": [
       "(351, 320, 456)"
      ]
     },
     "execution_count": 19,
     "metadata": {},
     "output_type": "execute_result"
    }
   ],
   "source": [
    "crop_annot.shape"
   ]
  },
  {
   "cell_type": "code",
   "execution_count": null,
   "metadata": {},
   "outputs": [],
   "source": []
  }
 ],
 "metadata": {
  "kernelspec": {
   "display_name": "Python 3",
   "language": "python",
   "name": "python3"
  },
  "language_info": {
   "codemirror_mode": {
    "name": "ipython",
    "version": 3
   },
   "file_extension": ".py",
   "mimetype": "text/x-python",
   "name": "python",
   "nbconvert_exporter": "python",
   "pygments_lexer": "ipython3",
   "version": "3.7.3"
  }
 },
 "nbformat": 4,
 "nbformat_minor": 4
}
