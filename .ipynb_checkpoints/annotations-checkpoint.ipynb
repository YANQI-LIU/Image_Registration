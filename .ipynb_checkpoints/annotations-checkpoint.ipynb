{
 "cells": [
  {
   "cell_type": "markdown",
   "metadata": {},
   "source": [
    "Generating pandas data frame from vaa3d annotation.eswc file \n"
   ]
  },
  {
   "cell_type": "code",
   "execution_count": 5,
   "metadata": {},
   "outputs": [],
   "source": [
    "import os\n",
    "\n",
    "import pandas as pd\n",
    "\n",
    "import numpy as np\n"
   ]
  },
  {
   "cell_type": "code",
   "execution_count": 6,
   "metadata": {},
   "outputs": [],
   "source": [
    "anno_file='D:\\itk_test\\AL066-AL_stamp_2019_07_23_10_34.ano.eswc'\n",
    "anno=open(anno_file,'r')"
   ]
  },
  {
   "cell_type": "code",
   "execution_count": 8,
   "metadata": {},
   "outputs": [],
   "source": [
    "anno_data=anno.readlines()\n",
    "# heading is stored in anno_data[2], 1st line basically useless\n",
    "\n",
    "headings=anno_data[2].split(' ')\n",
    "annotations=[lines.split(' ') for lines in anno_data[3:]]"
   ]
  },
  {
   "cell_type": "code",
   "execution_count": 9,
   "metadata": {},
   "outputs": [],
   "source": [
    "annotation_df=pd.DataFrame(annotations, columns=headings)"
   ]
  },
  {
   "cell_type": "code",
   "execution_count": 10,
   "metadata": {},
   "outputs": [
    {
     "data": {
      "text/html": [
       "<div>\n",
       "<style scoped>\n",
       "    .dataframe tbody tr th:only-of-type {\n",
       "        vertical-align: middle;\n",
       "    }\n",
       "\n",
       "    .dataframe tbody tr th {\n",
       "        vertical-align: top;\n",
       "    }\n",
       "\n",
       "    .dataframe thead th {\n",
       "        text-align: right;\n",
       "    }\n",
       "</style>\n",
       "<table border=\"1\" class=\"dataframe\">\n",
       "  <thead>\n",
       "    <tr style=\"text-align: right;\">\n",
       "      <th></th>\n",
       "      <th>#n</th>\n",
       "      <th>type</th>\n",
       "      <th>x</th>\n",
       "      <th>y</th>\n",
       "      <th>z</th>\n",
       "      <th>radius</th>\n",
       "      <th>parent</th>\n",
       "      <th>seg_id</th>\n",
       "      <th>level</th>\n",
       "      <th>mode</th>\n",
       "      <th>timestamp</th>\n",
       "      <th>TFresindex</th>\n",
       "    </tr>\n",
       "  </thead>\n",
       "  <tbody>\n",
       "    <tr>\n",
       "      <th>0</th>\n",
       "      <td>104067</td>\n",
       "      <td>3</td>\n",
       "      <td>6014.540</td>\n",
       "      <td>2950.270</td>\n",
       "      <td>710.098</td>\n",
       "      <td>1.000</td>\n",
       "      <td>104068</td>\n",
       "      <td>0</td>\n",
       "      <td>0</td>\n",
       "      <td>0</td>\n",
       "      <td>0</td>\n",
       "      <td>0\\n</td>\n",
       "    </tr>\n",
       "    <tr>\n",
       "      <th>1</th>\n",
       "      <td>104068</td>\n",
       "      <td>3</td>\n",
       "      <td>6017.900</td>\n",
       "      <td>2950.360</td>\n",
       "      <td>710.257</td>\n",
       "      <td>1.000</td>\n",
       "      <td>104069</td>\n",
       "      <td>0</td>\n",
       "      <td>0</td>\n",
       "      <td>0</td>\n",
       "      <td>0</td>\n",
       "      <td>0\\n</td>\n",
       "    </tr>\n",
       "    <tr>\n",
       "      <th>2</th>\n",
       "      <td>104069</td>\n",
       "      <td>3</td>\n",
       "      <td>6020.370</td>\n",
       "      <td>2949.710</td>\n",
       "      <td>710.458</td>\n",
       "      <td>1.000</td>\n",
       "      <td>104070</td>\n",
       "      <td>0</td>\n",
       "      <td>0</td>\n",
       "      <td>0</td>\n",
       "      <td>0</td>\n",
       "      <td>0\\n</td>\n",
       "    </tr>\n",
       "    <tr>\n",
       "      <th>3</th>\n",
       "      <td>104070</td>\n",
       "      <td>3</td>\n",
       "      <td>6022.290</td>\n",
       "      <td>2949.620</td>\n",
       "      <td>710.599</td>\n",
       "      <td>1.000</td>\n",
       "      <td>104071</td>\n",
       "      <td>0</td>\n",
       "      <td>0</td>\n",
       "      <td>0</td>\n",
       "      <td>0</td>\n",
       "      <td>0\\n</td>\n",
       "    </tr>\n",
       "    <tr>\n",
       "      <th>4</th>\n",
       "      <td>104071</td>\n",
       "      <td>3</td>\n",
       "      <td>6026.890</td>\n",
       "      <td>2950.930</td>\n",
       "      <td>710.979</td>\n",
       "      <td>1.000</td>\n",
       "      <td>104072</td>\n",
       "      <td>0</td>\n",
       "      <td>0</td>\n",
       "      <td>0</td>\n",
       "      <td>0</td>\n",
       "      <td>0\\n</td>\n",
       "    </tr>\n",
       "  </tbody>\n",
       "</table>\n",
       "</div>"
      ],
      "text/plain": [
       "       #n type         x         y        z radius  parent seg_id level mode  \\\n",
       "0  104067    3  6014.540  2950.270  710.098  1.000  104068      0     0    0   \n",
       "1  104068    3  6017.900  2950.360  710.257  1.000  104069      0     0    0   \n",
       "2  104069    3  6020.370  2949.710  710.458  1.000  104070      0     0    0   \n",
       "3  104070    3  6022.290  2949.620  710.599  1.000  104071      0     0    0   \n",
       "4  104071    3  6026.890  2950.930  710.979  1.000  104072      0     0    0   \n",
       "\n",
       "  timestamp TFresindex\\n  \n",
       "0         0          0\\n  \n",
       "1         0          0\\n  \n",
       "2         0          0\\n  \n",
       "3         0          0\\n  \n",
       "4         0          0\\n  "
      ]
     },
     "execution_count": 10,
     "metadata": {},
     "output_type": "execute_result"
    }
   ],
   "source": [
    "annotation_df.head()"
   ]
  },
  {
   "cell_type": "code",
   "execution_count": 11,
   "metadata": {},
   "outputs": [],
   "source": [
    "factor_xy=25/0.8\n",
    "factor_z= 25/5\n",
    "# calculating the downsampling factor\n",
    "# based on 0.8 x 0.8 x 5um imaging resolution (x y and z)\n",
    "# downsampling to match the 25um voxel allen reference template"
   ]
  },
  {
   "cell_type": "code",
   "execution_count": 88,
   "metadata": {},
   "outputs": [],
   "source": [
    "ds_x= pd.to_numeric(annotation_df['x'])\n",
    "ds_x=ds_x/factor_xy\n",
    "ds_xround=ds_x.astype(int).astype(str)\n",
    "ds_y= pd.to_numeric(annotation_df['y'])\n",
    "ds_y=ds_y/factor_xy\n",
    "ds_yround=ds_y.astype(int).astype(str)\n",
    "\n",
    "ds_z= pd.to_numeric(annotation_df['z'])\n",
    "ds_z=ds_z/factor_z\n",
    "ds_zround=ds_z.astype(int).astype(str)\n",
    "\n",
    "# rounds by astype int, then conver to string"
   ]
  },
  {
   "cell_type": "code",
   "execution_count": 89,
   "metadata": {},
   "outputs": [],
   "source": [
    "ds_coordinates= pd.DataFrame(columns=['x','y','z'])\n",
    "ds_coordinates['x']=ds_xround\n",
    "ds_coordinates['y']=ds_yround\n",
    "ds_coordinates['z']=ds_zround\n",
    "# put in to panda dataframe just in case for future use"
   ]
  },
  {
   "cell_type": "code",
   "execution_count": 90,
   "metadata": {},
   "outputs": [],
   "source": [
    "q = [' '.join(x) for x in zip(ds_xround,ds_yround,ds_zround)]\n",
    "# create a list where row1= x1 y1 z1 row2= x2 y2 z2 and etc \n",
    "# for writing to the text file"
   ]
  },
  {
   "cell_type": "code",
   "execution_count": 56,
   "metadata": {},
   "outputs": [],
   "source": [
    "num_row=len(annotation_df.index)"
   ]
  },
  {
   "cell_type": "code",
   "execution_count": 96,
   "metadata": {},
   "outputs": [],
   "source": [
    "f=open('D:\\itk_test\\AL066dstrace.txt','w+')\n",
    "f.write('point'+'\\n')\n",
    "f.write(str(num_row)+'\\n')\n",
    "\n",
    "for lines in q:\n",
    "    f.write(lines+'\\n')\n",
    "\n",
    "f.close()\n",
    "\n",
    "#works, yay"
   ]
  },
  {
   "cell_type": "code",
   "execution_count": null,
   "metadata": {},
   "outputs": [],
   "source": []
  }
 ],
 "metadata": {
  "kernelspec": {
   "display_name": "Python 3",
   "language": "python",
   "name": "python3"
  },
  "language_info": {
   "codemirror_mode": {
    "name": "ipython",
    "version": 3
   },
   "file_extension": ".py",
   "mimetype": "text/x-python",
   "name": "python",
   "nbconvert_exporter": "python",
   "pygments_lexer": "ipython3",
   "version": "3.7.3"
  }
 },
 "nbformat": 4,
 "nbformat_minor": 4
}
