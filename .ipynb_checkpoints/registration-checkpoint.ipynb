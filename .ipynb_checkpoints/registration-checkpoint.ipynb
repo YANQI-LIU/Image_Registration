{
 "cells": [
  {
   "cell_type": "markdown",
   "metadata": {},
   "source": [
    "### Formulating commandline for ara2sample through elastix\n",
    "\n",
    "Works for sample2ara, just switch the 2 image file accordingly"
   ]
  },
  {
   "cell_type": "code",
   "execution_count": 2,
   "metadata": {},
   "outputs": [],
   "source": [
    "import os\n",
    "\n",
    "import subprocess\n",
    "\n",
    "import tkinter.filedialog as fdialog\n",
    "\n",
    "# this is the gui for finding directory and files"
   ]
  },
  {
   "cell_type": "markdown",
   "metadata": {},
   "source": [
    "First, we register allen template to our data (hence, ARA2Sample)\n",
    "fixed image= our data\n",
    "moving image= allen\n",
    "Then, we use the same transform parameter files to the allen atlas\n",
    "(affine first and then bspline provided by robcampbell UC in Han et al,2014)\n",
    "\n",
    "The following works also for sample2ara by redefining the fixed and moving image\n",
    "fixedimage=allen\n",
    "moving image=data\n",
    "In this case we need to transform an inverse transform and apply the inverse transform to our annotation"
   ]
  },
  {
   "cell_type": "code",
   "execution_count": 37,
   "metadata": {},
   "outputs": [],
   "source": [
    "tempdir = fdialog.askdirectory(title='Please select a directory')"
   ]
  },
  {
   "cell_type": "code",
   "execution_count": 38,
   "metadata": {},
   "outputs": [],
   "source": [
    "fixed_img=fdialog.askopenfile(initialdir=tempdir, title='select the fixed image').name\n",
    "# need the .name part because askopenfile returns an io.textiowrapper not the full str name\n",
    "moving_img=fdialog.askopenfile(initialdir=tempdir, title='select the moving image').name\n"
   ]
  },
  {
   "cell_type": "code",
   "execution_count": 39,
   "metadata": {},
   "outputs": [],
   "source": [
    "param1=fdialog.askopenfile(initialdir=tempdir, title='select the affine parameter').name\n",
    "param2=fdialog.askopenfile(initialdir=tempdir, title='select the bspline parameter').name"
   ]
  },
  {
   "cell_type": "code",
   "execution_count": 40,
   "metadata": {},
   "outputs": [
    {
     "name": "stdout",
     "output_type": "stream",
     "text": [
      "formulated commandline:  ['elastix -f D:/AL080/AL080_25um.mhd -m D:/AL080/template_150to423.mhd -out D:/AL080/ara2sample -p D:/elastix_params/ara2sample/01_ARA_affine.txt -p D:/elastix_params/ara2sample/02_ARA_bspline.txt']\n"
     ]
    }
   ],
   "source": [
    "command_line= ['elastix -f '+ fixed_img+ ' -m ' + moving_img+ \n",
    "               ' -out '+ tempdir+ ' -p '+ param1+\n",
    "              ' -p ' + param2]\n",
    "print('formulated commandline: ' , command_line)"
   ]
  },
  {
   "cell_type": "markdown",
   "metadata": {},
   "source": [
    "open cmd, cd into the folder containing elastix.exe\n",
    "Copy the entire thing inside quotation marks and run in cmd\n",
    "\n",
    "To do: run this commandline in cmd through python\n"
   ]
  },
  {
   "cell_type": "markdown",
   "metadata": {},
   "source": [
    "Now, we transform the atlas using the transform parameter values we got from the previous step\n",
    "\n",
    "first need to chain the two parameter files (IntialTransformParametersFile )\n",
    "Here, transformparam0 which has the affine values change (IntialTransformParametersFileName \"NoInitialTransform\")\n",
    "and, transformparam1 which has the bspline values change (IntialTransformParametersFileName \"insert_fullpathto_transformparam0\")\n",
    "\n",
    "then in transformparam1 change (FinalBSplineInterpolationOrder 0) and (ResultImagePixelType \"int\")\n",
    "This is to stop interpolation (ie, for binary or masks images where the index is important to keep) and make resulting image type int \n",
    "\n",
    "\n",
    "finally use transformix "
   ]
  },
  {
   "cell_type": "code",
   "execution_count": 40,
   "metadata": {},
   "outputs": [],
   "source": [
    "transparam0=fdialog.askopenfile(initialdir=tempdir, title='select the transformparameter0 file').name\n",
    "transparam1=fdialog.askopenfile(initialdir=tempdir, title='select the transformparameter1 file').name\n",
    "atlasname=fdialog.askopenfile(initialdir=tempdir, title='select the corresponding atlas file').name"
   ]
  },
  {
   "cell_type": "code",
   "execution_count": 6,
   "metadata": {},
   "outputs": [],
   "source": [
    "# make the changes in transform parameters affine \n",
    "tparam0=open(transparam0,'r')\n",
    "tparam0_data=tparam0.readlines()\n",
    "\n",
    "tparam0_data\n",
    "# looks like (IntialTransformParametersFileName \"NoInitialTransform\") is already taken care of by elastix\n",
    "# only need to change transparam1"
   ]
  },
  {
   "cell_type": "code",
   "execution_count": 46,
   "metadata": {},
   "outputs": [
    {
     "name": "stdout",
     "output_type": "stream",
     "text": [
      "(FinalBSplineInterpolationOrder 3)\n",
      "\n",
      "Changing FinalBSplineInterpolationOrder 3 to 0\n",
      " \n",
      "(ResultImagePixelType \"short\")\n",
      "\n",
      "Changing ResultImagePixelType to int\n"
     ]
    }
   ],
   "source": [
    "# make the changes in transform parameters bspline\n",
    "\n",
    "tparam1=open(transparam1,'r')\n",
    "tparam1_data=tparam1.readlines()\n",
    "tparam1.close()\n",
    "\n",
    "\n",
    "new_transparam1_name=tempdir+'/tx_transparam1.txt'\n",
    "new_tparam1=open(new_transparam1_name,'w+')\n",
    "\n",
    "for lines in tparam1_data:\n",
    "    if 'FinalBSplineInterpolationOrder' in lines:\n",
    "        print(lines)\n",
    "        print('Changing FinalBSplineInterpolationOrder 3 to 0')\n",
    "        print(' ')\n",
    "        new_line=lines.replace('3','0')\n",
    "        new_tparam1.write(new_line)\n",
    "    elif 'ResultImagePixelType ' in lines:\n",
    "        print(lines)\n",
    "        print('Changing ResultImagePixelType to int')\n",
    "        new_line1=lines.replace('short', 'int')\n",
    "        new_tparam1.write(new_line1)\n",
    "    else:\n",
    "        new_tparam1.write(lines)\n",
    "new_tparam1.close()\n"
   ]
  },
  {
   "cell_type": "code",
   "execution_count": 43,
   "metadata": {},
   "outputs": [
    {
     "name": "stdout",
     "output_type": "stream",
     "text": [
      "formulated commandline for transformix:  ['transformix -out D:/itk_test -tp D:/itk_test/tx_transparam1.txt -in D:/Allenbrainatlas/ARA_25_micron_mhd_ccf2017/atlas_smooth1_corrected.mhd']\n"
     ]
    }
   ],
   "source": [
    "command_line_transformix=['transformix -out '+ tempdir+ ' -tp ' + new_transparam1_name+ \n",
    "               ' -in ' + atlasname]\n",
    "print('formulated commandline for transformix: ' , command_line_transformix)"
   ]
  },
  {
   "cell_type": "code",
   "execution_count": null,
   "metadata": {},
   "outputs": [],
   "source": []
  }
 ],
 "metadata": {
  "kernelspec": {
   "display_name": "Python 3",
   "language": "python",
   "name": "python3"
  },
  "language_info": {
   "codemirror_mode": {
    "name": "ipython",
    "version": 3
   },
   "file_extension": ".py",
   "mimetype": "text/x-python",
   "name": "python",
   "nbconvert_exporter": "python",
   "pygments_lexer": "ipython3",
   "version": "3.7.3"
  }
 },
 "nbformat": 4,
 "nbformat_minor": 4
}
