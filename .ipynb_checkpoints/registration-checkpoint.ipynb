{
 "cells": [
  {
   "cell_type": "markdown",
   "metadata": {},
   "source": [
    "## Formulating commandline for registration through elastix\n",
    "\n",
    "Works for both sample2ara and ara2sample, just switch the 2 image file accordingly\n",
    "\n",
    "Currently still need to manually run in cmd\n",
    "\n",
    "Requirements: *mhd* formats of your image stack and allen brain template in the correct z orientation (can be done in imageJ to flip the Y order. Image->transform->flipz)\n",
    "\n",
    "User inputs: define output directory, moving image, fixed image, elastix parameter file (in order)"
   ]
  },
  {
   "cell_type": "code",
   "execution_count": 7,
   "metadata": {},
   "outputs": [],
   "source": [
    "import os\n",
    "\n",
    "import subprocess\n",
    "\n",
    "import tkinter.filedialog as fdialog\n",
    "\n",
    "# this is the gui for finding directory and files\n",
    "\n",
    "import shutil"
   ]
  },
  {
   "cell_type": "markdown",
   "metadata": {},
   "source": [
    "First, we register allen template to our data (hence, ARA2Sample)\n",
    "- fixed image= our data\n",
    "- moving image= allen\n",
    "\n",
    "Then, we use the same transform parameter files to the allen atlas\n",
    "(affine first and then bspline provided by robcampbell UC in Han et al,2014)\n",
    "\n",
    "The following works also for sample2ara by redefining the fixed and moving image\n",
    "- fixedimage=allen\n",
    "- moving image=data\n",
    "\n",
    "In this case we need to transform an inverse transform and apply the inverse transform to our annotation"
   ]
  },
  {
   "cell_type": "code",
   "execution_count": 2,
   "metadata": {},
   "outputs": [],
   "source": [
    "tempdir = fdialog.askdirectory(title='Please select a output directory')"
   ]
  },
  {
   "cell_type": "code",
   "execution_count": 3,
   "metadata": {},
   "outputs": [],
   "source": [
    "fixed_img=fdialog.askopenfile(initialdir=tempdir, title='select the fixed image').name\n",
    "# need the .name part because askopenfile returns an io.textiowrapper not the full str name\n",
    "moving_img=fdialog.askopenfile(initialdir=tempdir, title='select the moving image').name\n"
   ]
  },
  {
   "cell_type": "code",
   "execution_count": 4,
   "metadata": {},
   "outputs": [],
   "source": [
    "#Start with the transform parameters in the backup folder. If things don't work then switch to the working folder for adjustments.\n",
    "param1=fdialog.askopenfile(initialdir=tempdir, title='select the first parameter file').name\n",
    "param2=fdialog.askopenfile(initialdir=tempdir, title='select the second parameter file').name"
   ]
  },
  {
   "cell_type": "code",
   "execution_count": 9,
   "metadata": {},
   "outputs": [
    {
     "data": {
      "text/plain": [
       "'D:/AL110/sample2ara_points\\\\02_ARA_bspline.txt'"
      ]
     },
     "execution_count": 9,
     "metadata": {},
     "output_type": "execute_result"
    }
   ],
   "source": [
    "shutil.copy(param1, tempdir)\n",
    "shutil.copy(param2, tempdir)\n",
    "\n",
    "#copy the 2 parameter files used to the output directory as backup"
   ]
  },
  {
   "cell_type": "code",
   "execution_count": 5,
   "metadata": {},
   "outputs": [
    {
     "name": "stdout",
     "output_type": "stream",
     "text": [
      "formulated commandline:  ['elastix -f D:/AL110/template_95to407.mhd -m D:/AL110/AL110_25.0um.mhd -out D:/AL110/sample2ara -p D:/elastix_params_backup/sample2ara/01_ARA_affine.txt -p D:/elastix_params_backup/sample2ara/02_ARA_bspline.txt']\n"
     ]
    }
   ],
   "source": [
    "command_line= ['elastix -f '+ fixed_img+ ' -m ' + moving_img+ \n",
    "               ' -out '+ tempdir+ ' -p '+ param1+\n",
    "              ' -p ' + param2]\n",
    "print('formulated commandline: ' , command_line)\n",
    "\n",
    "#this step typically takes 10-20min depending on how stringent the criterias are"
   ]
  },
  {
   "cell_type": "markdown",
   "metadata": {},
   "source": [
    "open cmd, cd into the folder containing elastix.exe\n",
    "Copy the entire thing inside quotation marks and run in cmd\n",
    "\n",
    "To do: run this commandline in cmd through python\n"
   ]
  },
  {
   "cell_type": "markdown",
   "metadata": {},
   "source": [
    "## For ARA2Sample: Transform the atlas\n",
    "Now, we transform the atlas using the transform parameter values we got from the previous step\n",
    "\n",
    "first need to chain the two parameter files (IntialTransformParametersFile )\n",
    "Here, transformparam0 which has the affine values change (IntialTransformParametersFileName \"NoInitialTransform\")\n",
    "and, transformparam1 which has the bspline values change (IntialTransformParametersFileName \"insert_fullpathto_transformparam0\")\n",
    "\n",
    "then in transformparam1 change (FinalBSplineInterpolationOrder 0) and (ResultImagePixelType \"int\")\n",
    "This is to stop interpolation (ie, for binary or masks images where the index is important to keep) and make resulting image type int \n",
    "\n",
    "\n",
    "finally use transformix "
   ]
  },
  {
   "cell_type": "code",
   "execution_count": 3,
   "metadata": {
    "jupyter": {
     "source_hidden": true
    }
   },
   "outputs": [],
   "source": [
    "tempdir = fdialog.askdirectory(title='Please select a output directory')"
   ]
  },
  {
   "cell_type": "code",
   "execution_count": 4,
   "metadata": {
    "jupyter": {
     "source_hidden": true
    }
   },
   "outputs": [],
   "source": [
    "transparam0=fdialog.askopenfile(initialdir=tempdir, title='select the transformparameter0 file').name\n",
    "transparam1=fdialog.askopenfile(initialdir=tempdir, title='select the transformparameter1 file').name\n",
    "atlasname=fdialog.askopenfile(initialdir=tempdir, title='select the corresponding atlas file').name"
   ]
  },
  {
   "cell_type": "code",
   "execution_count": 5,
   "metadata": {
    "collapsed": true,
    "jupyter": {
     "outputs_hidden": true,
     "source_hidden": true
    }
   },
   "outputs": [
    {
     "data": {
      "text/plain": [
       "['(Transform \"AffineTransform\")\\n',\n",
       " '(NumberOfParameters 12)\\n',\n",
       " '(TransformParameters 0.976282 0.035125 -0.028692 -0.021336 1.037797 0.153682 0.031991 -0.140172 0.893237 -86.923284 -23.850495 -15.222762)\\n',\n",
       " '(InitialTransformParametersFileName \"NoInitialTransform\")\\n',\n",
       " '(HowToCombineTransforms \"Compose\")\\n',\n",
       " '\\n',\n",
       " '// Image specific\\n',\n",
       " '(FixedImageDimension 3)\\n',\n",
       " '(MovingImageDimension 3)\\n',\n",
       " '(FixedInternalImagePixelType \"float\")\\n',\n",
       " '(MovingInternalImagePixelType \"float\")\\n',\n",
       " '(Size 601 457 336)\\n',\n",
       " '(Index 0 0 0)\\n',\n",
       " '(Spacing 1.0000000000 1.0000000000 1.0000000000)\\n',\n",
       " '(Origin 0.0000000000 0.0000000000 0.0000000000)\\n',\n",
       " '(Direction 1.0000000000 0.0000000000 0.0000000000 0.0000000000 1.0000000000 0.0000000000 0.0000000000 0.0000000000 1.0000000000)\\n',\n",
       " '(UseDirectionCosines \"true\")\\n',\n",
       " '\\n',\n",
       " '// AdvancedAffineTransform specific\\n',\n",
       " '(CenterOfRotationPoint 300.0000000000 228.0000000000 167.5000000000)\\n',\n",
       " '\\n',\n",
       " '// ResampleInterpolator specific\\n',\n",
       " '(ResampleInterpolator \"FinalBSplineInterpolator\")\\n',\n",
       " '(FinalBSplineInterpolationOrder 3)\\n',\n",
       " '\\n',\n",
       " '// Resampler specific\\n',\n",
       " '(Resampler \"DefaultResampler\")\\n',\n",
       " '(DefaultPixelValue 0.000000)\\n',\n",
       " '(ResultImageFormat \"mhd\")\\n',\n",
       " '(ResultImagePixelType \"short\")\\n',\n",
       " '(CompressResultImage \"false\")\\n']"
      ]
     },
     "execution_count": 5,
     "metadata": {},
     "output_type": "execute_result"
    }
   ],
   "source": [
    "# make the changes in transform parameters affine \n",
    "tparam0=open(transparam0,'r')\n",
    "tparam0_data=tparam0.readlines()\n",
    "\n",
    "tparam0_data\n",
    "# looks like (IntialTransformParametersFileName \"NoInitialTransform\") is already taken care of by elastix\n",
    "# only need to change transparam1"
   ]
  },
  {
   "cell_type": "code",
   "execution_count": 6,
   "metadata": {
    "jupyter": {
     "source_hidden": true
    }
   },
   "outputs": [
    {
     "name": "stdout",
     "output_type": "stream",
     "text": [
      "(FinalBSplineInterpolationOrder 3)\n",
      "\n",
      "Changing FinalBSplineInterpolationOrder 3 to 0\n",
      " \n",
      "(ResultImagePixelType \"short\")\n",
      "\n",
      "Changing ResultImagePixelType to int\n"
     ]
    }
   ],
   "source": [
    "# make the changes in transform parameters bspline\n",
    "\n",
    "tparam1=open(transparam1,'r')\n",
    "tparam1_data=tparam1.readlines()\n",
    "tparam1.close()\n",
    "\n",
    "\n",
    "new_transparam1_name=tempdir+'/tx_transparam1.txt'\n",
    "new_tparam1=open(new_transparam1_name,'w+')\n",
    "\n",
    "for lines in tparam1_data:\n",
    "    if 'FinalBSplineInterpolationOrder' in lines:\n",
    "        print(lines)\n",
    "        print('Changing FinalBSplineInterpolationOrder 3 to 0')\n",
    "        print(' ')\n",
    "        new_line=lines.replace('3','0')\n",
    "        new_tparam1.write(new_line)\n",
    "    elif 'ResultImagePixelType ' in lines:\n",
    "        print(lines)\n",
    "        print('Changing ResultImagePixelType to int')\n",
    "        new_line1=lines.replace('short', 'int')\n",
    "        new_tparam1.write(new_line1)\n",
    "    else:\n",
    "        new_tparam1.write(lines)\n",
    "new_tparam1.close()\n"
   ]
  },
  {
   "cell_type": "code",
   "execution_count": 7,
   "metadata": {
    "jupyter": {
     "source_hidden": true
    }
   },
   "outputs": [
    {
     "name": "stdout",
     "output_type": "stream",
     "text": [
      "formulated commandline for transformix:  ['transformix -out D:/AL110/ara2sample_atlas -tp D:/AL110/ara2sample_atlas/tx_transparam1.txt -in D:/AL110/atlas_95to407.mhd']\n"
     ]
    }
   ],
   "source": [
    "command_line_transformix=['transformix -out '+ tempdir+ ' -tp ' + new_transparam1_name+ \n",
    "               ' -in ' + atlasname]\n",
    "print('formulated commandline for transformix: ' , command_line_transformix)\n",
    "\n",
    "# this step is really quick, normally 1min or so"
   ]
  },
  {
   "cell_type": "markdown",
   "metadata": {},
   "source": [
    "## For sample 2 ara: calculate the inverse transform and transform the points\n"
   ]
  },
  {
   "cell_type": "code",
   "execution_count": 6,
   "metadata": {},
   "outputs": [],
   "source": [
    "tempdir = fdialog.askdirectory(title='Please select a output directory')\n",
    "transparam0=fdialog.askopenfile(initialdir=tempdir, title='select the transformparameter0 file').name\n",
    "transparam1=fdialog.askopenfile(initialdir=tempdir, title='select the transformparameter1 file').name\n",
    "points_name=fdialog.askopenfile(initialdir=tempdir, title='select the corresponding downsampled organized points').name"
   ]
  },
  {
   "cell_type": "code",
   "execution_count": 12,
   "metadata": {},
   "outputs": [],
   "source": [
    "fixed_img=fdialog.askopenfile(initialdir=tempdir, title='select the fixed image').name\n",
    "coefparam=fdialog.askopenfile(initialdir=tempdir, title='select the higherorder coeficcient file').name\n",
    "#ie. here the higher order coefficient file is the transformparameters.1 (this is coupled with transformparameters.0 within the file) in the sample2ara folder"
   ]
  },
  {
   "cell_type": "code",
   "execution_count": 14,
   "metadata": {},
   "outputs": [
    {
     "name": "stdout",
     "output_type": "stream",
     "text": [
      "formulated commandline:  ['elastix -f D:/AL110/template_95to407.mhd -m D:/AL110/template_95to407.mhd -out D:/AL110/sample2ara_points -t0 D:/AL110/sample2ara/TransformParameters.1.txt -p D:/elastix_params_backup/sample2ara/01_ARA_affine.txt -p D:/elastix_params_backup/sample2ara/02_ARA_bspline.txt']\n"
     ]
    }
   ],
   "source": [
    "command_line= ['elastix -f '+ fixed_img+ ' -m ' + fixed_img+ \n",
    "               ' -out '+ tempdir+ ' -t0 '+ coefparam +' -p '+ param1+\n",
    "              ' -p ' + param2]\n",
    "print('formulated commandline: ' , command_line)\n"
   ]
  },
  {
   "cell_type": "markdown",
   "metadata": {},
   "source": [
    "## change transformparam0 that is newly generated\n",
    "Use newly generated transformparam file to transform the points\n",
    "\n",
    "in transformparam0, change initial transform to NoInitialTransform"
   ]
  },
  {
   "cell_type": "code",
   "execution_count": 15,
   "metadata": {},
   "outputs": [],
   "source": [
    "newparam=fdialog.askopenfile(initialdir=tempdir, title='select the newly generated transformparameter1 file').name"
   ]
  },
  {
   "cell_type": "code",
   "execution_count": 16,
   "metadata": {},
   "outputs": [
    {
     "name": "stdout",
     "output_type": "stream",
     "text": [
      "formulated commandline:  ['transformix -def D:/AL110/AL110_25.0voxel_trace_1umStepsize.txt -out D:/AL110/sample2ara_points -tp D:/AL110/sample2ara_points/TransformParameters.1.txt']\n"
     ]
    }
   ],
   "source": [
    "command_line= ['transformix -def '+ points_name+ ' -out '+ tempdir+ ' -tp '+ newparam ]\n",
    "print('formulated commandline: ' , command_line)"
   ]
  },
  {
   "cell_type": "code",
   "execution_count": null,
   "metadata": {},
   "outputs": [],
   "source": []
  }
 ],
 "metadata": {
  "kernelspec": {
   "display_name": "Python 3",
   "language": "python",
   "name": "python3"
  },
  "language_info": {
   "codemirror_mode": {
    "name": "ipython",
    "version": 3
   },
   "file_extension": ".py",
   "mimetype": "text/x-python",
   "name": "python",
   "nbconvert_exporter": "python",
   "pygments_lexer": "ipython3",
   "version": "3.7.3"
  }
 },
 "nbformat": 4,
 "nbformat_minor": 4
}
