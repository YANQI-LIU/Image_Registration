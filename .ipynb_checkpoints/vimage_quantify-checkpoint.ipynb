{
 "cells": [
  {
   "cell_type": "markdown",
   "metadata": {},
   "source": [
    "### quantification of viral image segmentations \n",
    "\n",
    "requires transformed downsampled points from previous notebook Seg2Pts"
   ]
  },
  {
   "cell_type": "code",
   "execution_count": 1,
   "metadata": {},
   "outputs": [],
   "source": [
    "import os\n",
    "import tkinter.filedialog as fdialog\n",
    "import Neuron_analysis as na\n",
    "from Neuron_analysis import *\n",
    "import numpy as np\n",
    "\n",
    "import pandas as pd\n",
    "import SimpleITK as sitk\n",
    "\n",
    "import re\n",
    "\n",
    "import skimage\n",
    "from skimage import io\n",
    "\n",
    "from tqdm import tqdm\n",
    "import warnings\n",
    "\n",
    "import plotly.graph_objects as go\n",
    "\n"
   ]
  },
  {
   "cell_type": "code",
   "execution_count": 2,
   "metadata": {},
   "outputs": [],
   "source": [
    "in_dir = fdialog.askdirectory(title='Please select the input directory')\n",
    "# ie: D:\\2PT electroporation time\\AL066\n",
    "points_name= fdialog.askopenfilename(title='Selecte the transformed points')"
   ]
  },
  {
   "cell_type": "code",
   "execution_count": 3,
   "metadata": {},
   "outputs": [],
   "source": [
    "out_dir='D:/Viral_stacks_L5/AL211_1-1200_Results/'\n",
    "mouse_name=na.find_mousename(in_dir)\n",
    "out_name=out_dir+mouse_name"
   ]
  },
  {
   "cell_type": "code",
   "execution_count": null,
   "metadata": {},
   "outputs": [],
   "source": []
  },
  {
   "cell_type": "code",
   "execution_count": 145,
   "metadata": {},
   "outputs": [],
   "source": [
    "#useful functions\n",
    "\n",
    "def get_pt_natlas(dspoint_name,outdir, full=False):\n",
    "    '''Read the downsampled points and get the corresponding atlas name\n",
    "    Feb 2022\n",
    "    Modified for viral images where points are indices after trailmap segmentation with probability \n",
    "    Since some noise will be picked up as axons and cross probability threshold, it is possible for transformed points to have negative value or outside of the brain\n",
    "    points with negative values any one dimensions are ignored\n",
    "    '''\n",
    "    with open(dspoint_name,'r') as output:\n",
    "        outputpoint= output.readlines()\n",
    "    \n",
    "    all_points=[]\n",
    "    files=os.listdir(outdir)\n",
    "    atlas=[i for i in files if re.search(\"atlas.+\\.mhd\",i)][0]\n",
    "    atlas_name=os.path.join(outdir, atlas)\n",
    "\n",
    "    for lines in outputpoint:\n",
    "        m=re.search(\"(?:OutputIndexFixed = \\[ )([0-9]+ [0-9]+ [0-9]+)\", lines)\n",
    "        if not m:\n",
    "            print('negative number in one of the dimension, skipped')\n",
    "            print(f'{lines}')\n",
    "            pass\n",
    "        else:\n",
    "            m=m.groups(0)\n",
    "            this_line= str(m[0]).split(' ')\n",
    "            mypoints= [int(stuff) for stuff in this_line]\n",
    "            all_points.append(mypoints)\n",
    "\n",
    "    if full== True:\n",
    "        atlas_name=fullatlas_name\n",
    "    else: \n",
    "        pass\n",
    "    return all_points, atlas_name\n",
    "\n",
    "def make_tif_1(all_points, atlas_name, outname):\n",
    "    ''' Project downsampled points on to a tiff stack, useful for overlaping with brain or template (ie, in imageJ)\n",
    "    \n",
    "    Feb 2022\n",
    "    Modified for viral images where points are indices after trailmap segmentation with probability \n",
    "    Since some noise will be picked up as axons and cross probability threshold, it is possible for transformed points to have negative value or outside of the brain\n",
    "    points outside of the brain are ignored\n",
    "    \n",
    "    \n",
    "    August 18 2021\n",
    "    Slightly modified version where each pixel will have a value of 1, instead of actual number of points.\n",
    "    Useful for visualization (ie. max projection) so that all pixel axon or dendrite is equally strong in intensity\n",
    "       \n",
    "    \n",
    "    input: downsampled points in a list containing x y z ordinates as int, directory containing it (this is also the output directory) and whether annotation is axon or not (default True)\n",
    "    example: [[12, 13, 25],\n",
    "             [13, 14, 25],...]\n",
    "    \n",
    "    output: a tiff stack with the same dimensions of the brain/template/atlas mhd files with downsampled points only\n",
    "    each point has a value of the number of occurences (since downsampling combines multiple points as one)\n",
    "    '''\n",
    "        \n",
    "    print('Starting to saving tif files..')\n",
    "    \n",
    "    atlas= sitk.ReadImage(atlas_name)\n",
    "    atlas_size=atlas.GetSize()\n",
    "    svolume=np.zeros(atlas_size)\n",
    "    #columns, rows, planes\n",
    "    \n",
    "    zplanes=[]\n",
    "    for i in all_points:\n",
    "        zplanes.append( i[2])\n",
    "    zplanes=np.unique(zplanes)\n",
    "    temp=np.zeros(atlas.GetSize()[0:2])\n",
    "    thepoints=np.asarray(all_points)\n",
    "\n",
    "    for i in tqdm(zplanes):\n",
    "        index= thepoints[:,2]==i\n",
    "        uindex,counts=np.unique(thepoints[index],return_counts=True, axis=0)\n",
    "        for lines in uindex:\n",
    "            coord1,coord2=lines[0:2]\n",
    "            temp[coord1][coord2]= 1\n",
    "        svolume[:,:,i]=temp #write this in \n",
    "        temp=np.zeros(atlas.GetSize()[0:2]) #reset the empty plane after each z\n",
    "        \n",
    "    \n",
    "    coronal_planetmp= np.swapaxes(np.int16(svolume),0,2)\n",
    "    #for some reason, if just save stuff as tiff, it will save x planes of yz view\n",
    "    #here we shift the 3rd dimension with the first dimension to obtain xy view\n",
    "    \n",
    "    out_name=outname + '.tif'\n",
    "\n",
    "    io.imsave(out_name,coronal_planetmp)\n",
    "    return \n",
    "\n",
    "def points_atlas_id(all_points, atlas_name):\n",
    "    ''' \n",
    "    Takes in all points (as a list, usually the output of na.refill_section or na.get_pt_natlas ) and formulates a pd structure.\n",
    "    Input: downsampled points (in transformix compatible format), name of corresponding indicies of endings \n",
    "    ouputs: a pandas dataframe with anatomical regions and their corresponding total points count and ending points count, list of atlas ID for each point\n",
    "    \n",
    "    '''\n",
    "                        \n",
    "    image= sitk.ReadImage(atlas_name)\n",
    "    atlas =sitk.GetArrayFromImage(image)\n",
    "        \n",
    "    points_in_atlas=[int(atlas[i[2], i[1],i[0]]) for i in tqdm(all_points) ]\n",
    "    #find an ID for all point\n",
    "\n",
    "    return points_in_atlas\n",
    "\n",
    "def region_counts (points_in_atlas):\n",
    "    \n",
    "    ''' Takes in all points' atlas id, find unique values and their frequency\n",
    "    returns a pandas dataframe with id, acronym, and their frequency(total counts)\n",
    "    ''' \n",
    "    \n",
    "    unique, counts = np.unique(points_in_atlas, return_counts=True)\n",
    "    \n",
    "    our_regions=atlas_labels.loc[atlas_labels['region_id'].isin (unique)]\n",
    "    \n",
    "    id_withcounts=list(zip(unique,counts))\n",
    "\n",
    "    new_df= pd.DataFrame(id_withcounts, columns=['region_id', 'Total_counts'])\n",
    "    our_regionWcounts=pd.merge(our_regions, new_df)\n",
    "    \n",
    "\n",
    "    return our_regionWcounts.sort_values(by=['Total_counts'])\n",
    "\n",
    "def sort_by_parent(dataframe,out_name):\n",
    "    ''' group specific regions based on parent regions (ie, layers in ssp-bfd is grouped together). Sort by parent region with most counts, then within the region sort by layers\n",
    "    \n",
    "    ''' \n",
    "    \n",
    "    # merge the data frame with full atlas_labels from the allen based on acronym\n",
    "    new_pd= na.atlas_labels.merge(dataframe, on= 'acronym')\n",
    "    # sort by graph order (this accounts for the orderings within parent region, ie. layer 1 to layer 6)\n",
    "    new_pd.sort_values(by= 'graph_order',axis=0, inplace=True)\n",
    "    \n",
    "    # this calls the function above parent_df to group based on parent structure id\n",
    "    result= parent_df(new_pd)\n",
    "    \n",
    "    # get new order\n",
    "    new_order=result.id.to_numpy()\n",
    "    # get old order\n",
    "    old_order= new_pd.parent_structure_id.to_numpy()   \n",
    "    \n",
    "    # rearrange specific items to new order\n",
    "    new_array= np.zeros_like(old_order)\n",
    "    for i, j in enumerate(new_order):\n",
    "        new_array[old_order==j]=i\n",
    "    \n",
    "    #example: if ids 1,2,4,7,11, 10,8,6 where even numbers belongs to the same parent, then the order becomes 1,4,4,1,1,4,4,4. \n",
    "    # Because there are 3 counts of the first group, hence the second group starts counting at 4\n",
    "    \n",
    "    #apply the new order\n",
    "    new_pd['new_order']= new_array\n",
    "    new_pd.sort_values('new_order', inplace=True)\n",
    "    new_pd.sort_values(by=['new_order', 'region_id'], ascending=[True, False] ,inplace=True)\n",
    "    \n",
    "    out_name=out_name + '_region_with_counts.xls'\n",
    "    new_pd[::-1].to_excel(out_name,index=None,header=True)\n",
    "    \n",
    "    return new_pd[::-1]\n",
    "\n",
    "def parent_df(df):\n",
    "    ''' group data frame items by parent id structure\n",
    "    '''\n",
    "    grouped_pd=df.groupby(['parent_structure_id'],as_index=False).sum()\n",
    "    d= {'id': grouped_pd.parent_structure_id.astype(int), 'Total_counts': grouped_pd.Total_counts}\n",
    "    grouped_pd2= pd.DataFrame(data=d)\n",
    "    result = pd.merge(grouped_pd2, na.atlas_labels, on=[\"id\"])\n",
    "    result.sort_values(['Total_counts'], ascending=True, inplace=True)\n",
    "    # result is the final pd\n",
    "    return result\n",
    "\n",
    "def check_points(points_in_atlas):\n",
    "    '''Checks whether all your points' ID is within the atlas labels\n",
    "    Input: matching ID of the points (this is the second output from na.make_pd)\n",
    "    '''\n",
    "    id_inatlas=[]\n",
    "    for x in atlas_labels['region_id']:\n",
    "        intID = int(x)\n",
    "        id_inatlas.append(intID)\n",
    "\n",
    "    # need to format this first ourselves,otherwise problematic for 0 and very large numbers (idk why)    \n",
    "\n",
    "    num_of_zeros = [i for i, x in enumerate(points_in_atlas) if x == 0]\n",
    "    # find the indices for which carries an id =0\n",
    "    \n",
    "    unique_id=set(points_in_atlas)\n",
    "    \n",
    "    for id_inbrain in unique_id:\n",
    "        if id_inbrain not in id_inatlas:\n",
    "            if id_inbrain==0:\n",
    "                print(f'There are {len(num_of_zeros)} points with ID= {id_inbrain}, this index is outside of the brain, consider possible suboptimal image registration')\n",
    "            else: \n",
    "                print(id_inbrain,'this index does not exist in allen reference atlas, see https://github.com/ChristophKirst/ClearMap/issues/37')\n",
    "            warnings.warn('Some points do not have corresponding labels')\n",
    "    return \n",
    "\n",
    "def plot_hist(pd_axon, mousename):\n",
    "    ''' \n",
    "    Plot horizontal histogram of all points and ending points of axons and dendrites\n",
    "    Input: pandas dataframe of axon, pandas dataframe of dendrite, mousename\n",
    "    '''\n",
    "    y=pd_axon['acronym']\n",
    "    fig = go.Figure()\n",
    "    fig.add_trace(\n",
    "        go.Bar(\n",
    "        y=y, x=pd_axon['Total_counts']/1000, # units now in milimeters\n",
    "        marker_color='red', #for future, pd_axon['region_id'],\n",
    "        name='',\n",
    "        text=pd_axon['name'],\n",
    "        hovertemplate=\n",
    "            '<i>%{x}</i>, '+\n",
    "            '<b>%{text}</b>',\n",
    "        orientation='h')\n",
    "    )\n",
    "        \n",
    "    fig.update_layout(yaxis={'categoryorder':'trace'}, \n",
    "                      width=2000,\n",
    "                      height=1500, # 1500 for AL066 since too many items\n",
    "                      showlegend= False,\n",
    "                      paper_bgcolor='rgba(0,0,0,0)', # transparent background\n",
    "                      plot_bgcolor='rgba(0,0,0,0)' # transparent background\n",
    "                     )\n",
    "    \n",
    "    fig.update_xaxes(gridcolor='gold')\n",
    "    \n",
    "    fig.show()\n",
    "    # plotly.offline.plot(fig,filename='D:/'+ mousename+'/barplot.html')\n",
    "    fig.write_html(f\"{mousename}.html\")"
   ]
  },
  {
   "cell_type": "code",
   "execution_count": 75,
   "metadata": {
    "collapsed": true,
    "jupyter": {
     "outputs_hidden": true
    }
   },
   "outputs": [
    {
     "ename": "TypeError",
     "evalue": "expected str, bytes or os.PathLike object, not list",
     "output_type": "error",
     "traceback": [
      "\u001b[1;31m---------------------------------------------------------------------------\u001b[0m",
      "\u001b[1;31mTypeError\u001b[0m                                 Traceback (most recent call last)",
      "\u001b[1;32m<ipython-input-75-9461bc25e49c>\u001b[0m in \u001b[0;36m<module>\u001b[1;34m\u001b[0m\n\u001b[1;32m----> 1\u001b[1;33m \u001b[0mpoints\u001b[0m\u001b[1;33m,\u001b[0m\u001b[0matlas_name\u001b[0m\u001b[1;33m=\u001b[0m\u001b[0mget_pt_natlas\u001b[0m\u001b[1;33m(\u001b[0m\u001b[0mpoints\u001b[0m\u001b[1;33m,\u001b[0m\u001b[0min_dir\u001b[0m\u001b[1;33m,\u001b[0m\u001b[0mfull\u001b[0m\u001b[1;33m=\u001b[0m\u001b[1;32mFalse\u001b[0m\u001b[1;33m)\u001b[0m\u001b[1;33m\u001b[0m\u001b[1;33m\u001b[0m\u001b[0m\n\u001b[0m\u001b[0;32m      2\u001b[0m \u001b[1;31m# reads in the points and get the corresponding atlas(cropped version cus we need to extract the cropped plane from its name)\u001b[0m\u001b[1;33m\u001b[0m\u001b[1;33m\u001b[0m\u001b[1;33m\u001b[0m\u001b[0m\n\u001b[0;32m      3\u001b[0m \u001b[1;31m# adopted from na.get_pt_natlas for single cell tracing\u001b[0m\u001b[1;33m\u001b[0m\u001b[1;33m\u001b[0m\u001b[1;33m\u001b[0m\u001b[0m\n",
      "\u001b[1;32m<ipython-input-74-ba82225ba6c6>\u001b[0m in \u001b[0;36mget_pt_natlas\u001b[1;34m(dspoint_name, outdir, full)\u001b[0m\n\u001b[0;32m      6\u001b[0m     \u001b[0mpoints\u001b[0m \u001b[1;32mwith\u001b[0m \u001b[0mnegative\u001b[0m \u001b[0mvalues\u001b[0m \u001b[0many\u001b[0m \u001b[0mone\u001b[0m \u001b[0mdimensions\u001b[0m \u001b[0mare\u001b[0m \u001b[0mignored\u001b[0m\u001b[1;33m\u001b[0m\u001b[1;33m\u001b[0m\u001b[0m\n\u001b[0;32m      7\u001b[0m     '''\n\u001b[1;32m----> 8\u001b[1;33m     \u001b[1;32mwith\u001b[0m \u001b[0mopen\u001b[0m\u001b[1;33m(\u001b[0m\u001b[0mdspoint_name\u001b[0m\u001b[1;33m,\u001b[0m\u001b[1;34m'r'\u001b[0m\u001b[1;33m)\u001b[0m \u001b[1;32mas\u001b[0m \u001b[0moutput\u001b[0m\u001b[1;33m:\u001b[0m\u001b[1;33m\u001b[0m\u001b[1;33m\u001b[0m\u001b[0m\n\u001b[0m\u001b[0;32m      9\u001b[0m         \u001b[0moutputpoint\u001b[0m\u001b[1;33m=\u001b[0m \u001b[0moutput\u001b[0m\u001b[1;33m.\u001b[0m\u001b[0mreadlines\u001b[0m\u001b[1;33m(\u001b[0m\u001b[1;33m)\u001b[0m\u001b[1;33m\u001b[0m\u001b[1;33m\u001b[0m\u001b[0m\n\u001b[0;32m     10\u001b[0m \u001b[1;33m\u001b[0m\u001b[0m\n",
      "\u001b[1;31mTypeError\u001b[0m: expected str, bytes or os.PathLike object, not list"
     ]
    }
   ],
   "source": [
    "points,atlas_name=get_pt_natlas(points_name,in_dir,full=False)\n",
    "# reads in the points and get the corresponding atlas(cropped version cus we need to extract the cropped plane from its name)\n",
    "# adopted from na.get_pt_natlas for single cell tracing\n"
   ]
  },
  {
   "cell_type": "code",
   "execution_count": null,
   "metadata": {},
   "outputs": [],
   "source": []
  },
  {
   "cell_type": "code",
   "execution_count": 42,
   "metadata": {},
   "outputs": [],
   "source": [
    "atlas= sitk.ReadImage(atlas_name)\n",
    "atlas_size=atlas.GetSize()\n",
    "#columns, rows, planes"
   ]
  },
  {
   "cell_type": "code",
   "execution_count": 59,
   "metadata": {
    "collapsed": true,
    "jupyter": {
     "outputs_hidden": true
    }
   },
   "outputs": [
    {
     "name": "stderr",
     "output_type": "stream",
     "text": [
      "  7%|████▉                                                             | 1165314/15572300 [00:00<00:10, 1425367.38it/s]"
     ]
    },
    {
     "name": "stdout",
     "output_type": "stream",
     "text": [
      "one or more dimensions of points exceeds image dimension of (228, 411, 288)\n",
      "[212, 417, 61]\n",
      "one or more dimensions of points exceeds image dimension of (228, 411, 288)\n",
      "[212, 417, 61]\n",
      "one or more dimensions of points exceeds image dimension of (228, 411, 288)\n",
      "[212, 417, 61]\n",
      "one or more dimensions of points exceeds image dimension of (228, 411, 288)\n",
      "[212, 417, 61]\n",
      "one or more dimensions of points exceeds image dimension of (228, 411, 288)\n",
      "[212, 417, 61]\n",
      "one or more dimensions of points exceeds image dimension of (228, 411, 288)\n",
      "[212, 417, 61]\n",
      "one or more dimensions of points exceeds image dimension of (228, 411, 288)\n",
      "[212, 417, 61]\n",
      "one or more dimensions of points exceeds image dimension of (228, 411, 288)\n",
      "[212, 417, 61]\n",
      "one or more dimensions of points exceeds image dimension of (228, 411, 288)\n",
      "[212, 417, 61]\n",
      "one or more dimensions of points exceeds image dimension of (228, 411, 288)\n",
      "[212, 417, 61]\n",
      "one or more dimensions of points exceeds image dimension of (228, 411, 288)\n",
      "[213, 417, 61]\n",
      "one or more dimensions of points exceeds image dimension of (228, 411, 288)\n",
      "[212, 417, 61]\n",
      "one or more dimensions of points exceeds image dimension of (228, 411, 288)\n",
      "[213, 417, 61]\n",
      "one or more dimensions of points exceeds image dimension of (228, 411, 288)\n",
      "[212, 417, 61]\n",
      "one or more dimensions of points exceeds image dimension of (228, 411, 288)\n",
      "[212, 417, 61]\n",
      "one or more dimensions of points exceeds image dimension of (228, 411, 288)\n",
      "[213, 417, 61]\n",
      "one or more dimensions of points exceeds image dimension of (228, 411, 288)\n",
      "[212, 417, 61]\n",
      "one or more dimensions of points exceeds image dimension of (228, 411, 288)\n",
      "[213, 417, 61]\n",
      "one or more dimensions of points exceeds image dimension of (228, 411, 288)\n",
      "[213, 417, 61]\n",
      "one or more dimensions of points exceeds image dimension of (228, 411, 288)\n",
      "[211, 417, 62]\n",
      "one or more dimensions of points exceeds image dimension of (228, 411, 288)\n",
      "[211, 417, 62]\n",
      "one or more dimensions of points exceeds image dimension of (228, 411, 288)\n",
      "[213, 417, 62]\n",
      "one or more dimensions of points exceeds image dimension of (228, 411, 288)\n",
      "[211, 417, 62]\n",
      "one or more dimensions of points exceeds image dimension of (228, 411, 288)\n",
      "[213, 417, 62]\n",
      "one or more dimensions of points exceeds image dimension of (228, 411, 288)\n",
      "[211, 417, 62]\n",
      "one or more dimensions of points exceeds image dimension of (228, 411, 288)\n",
      "[211, 417, 62]\n"
     ]
    },
    {
     "name": "stderr",
     "output_type": "stream",
     "text": [
      "100%|█████████████████████████████████████████████████████████████████| 15572300/15572300 [00:10<00:00, 1467505.97it/s]\n"
     ]
    }
   ],
   "source": [
    "# Since segmentation is automatic, not everything picked up is true signal (ie, noise outside of the brain). \n",
    "# Some points after transformation have a negative number or value exceeding the dimensions of the atlas image in one of the dimensions.\n",
    "# get rid of these disquanlified points , since they will not have an brain region index!\n",
    "\n",
    "\n",
    "trimed_points= []\n",
    "for item in tqdm(points):\n",
    "    if item[0] < atlas_size[0] and item[1] < atlas_size[1] and item[2] < atlas_size[2]:\n",
    "        trimed_points.append(item)\n",
    "    else:\n",
    "        print(f'one or more dimensions of points exceeds image dimension of {atlas_size}')\n",
    "        print(f'{item}')\n",
    "        pass"
   ]
  },
  {
   "cell_type": "code",
   "execution_count": 61,
   "metadata": {},
   "outputs": [
    {
     "name": "stdout",
     "output_type": "stream",
     "text": [
      "Starting to saving tif files..\n"
     ]
    },
    {
     "name": "stderr",
     "output_type": "stream",
     "text": [
      "C:\\Users\\liu\\AppData\\Local\\Continuum\\anaconda3\\lib\\site-packages\\skimage\\io\\_io.py:141: UserWarning: D:/Viral_stacks_L5/AL211_1-1200_Results/AL211.tif is a low contrast image\n",
      "  warn('%s is a low contrast image' % fname)\n"
     ]
    }
   ],
   "source": [
    "# makes tiff for downsampled points\n",
    "make_tif_1(trimed_points, atlas_name,out_name)\n"
   ]
  },
  {
   "cell_type": "code",
   "execution_count": null,
   "metadata": {},
   "outputs": [],
   "source": [
    "atlas_labels=pd.read_csv('D:\\Allenbrainatlas\\ARA_25_micron_mhd_ccf2017\\wraped\\ccf_2017_itksnap_labels.csv', sep=',')\n"
   ]
  },
  {
   "cell_type": "code",
   "execution_count": 85,
   "metadata": {},
   "outputs": [
    {
     "name": "stderr",
     "output_type": "stream",
     "text": [
      "100%|██████████████████████████████████████████████████████████████████| 15572274/15572274 [00:21<00:00, 712432.51it/s]\n"
     ]
    }
   ],
   "source": [
    "points_in_atlas=points_atlas_id(trimed_points,atlas_name)"
   ]
  },
  {
   "cell_type": "code",
   "execution_count": 88,
   "metadata": {},
   "outputs": [
    {
     "name": "stdout",
     "output_type": "stream",
     "text": [
      "There are 40361 points with ID= 0, this index is outside of the brain, consider possible suboptimal image registration\n"
     ]
    },
    {
     "name": "stderr",
     "output_type": "stream",
     "text": [
      "C:\\Users\\liu\\AppData\\Local\\Continuum\\anaconda3\\lib\\site-packages\\ipykernel_launcher.py:160: UserWarning: Some points do not have corresponding labels\n"
     ]
    }
   ],
   "source": [
    "#points= np.where(points==0, 844, points_in_atlas) \n",
    "# replace id= 0 with 844 (ssp-bfd layer1)\n",
    "\n",
    "points_in_atlas= np.where(points_in_atlas==800 , 215 , points_in_atlas) \n",
    "points_in_atlas= np.where(points_in_atlas==1092 , 215 , points_in_atlas)\n",
    "# replace id= 800 (subependymal zone) and 1092 (lateral ventricle) with 215(caudoputamen)\n",
    "# especially for AL131\n",
    "\n",
    "points_in_atlas= np.where(points_in_atlas==1242, 1296 , points_in_atlas) \n",
    "points_in_atlas= np.where(points_in_atlas==1127, 1296 , points_in_atlas)\n",
    "# replace id= 1242 (optic radiation)  and id= 1127 (auditory radiation) with 1296, stc(a subregion of fiber bundle)\n",
    "# these are intrinsic issue of the allen atlas, the labels for these regions are wrong\n",
    "\n",
    "check_points(points_in_atlas)\n",
    "# check again to see if 0 disappears"
   ]
  },
  {
   "cell_type": "code",
   "execution_count": 109,
   "metadata": {},
   "outputs": [],
   "source": [
    "region_with_counts= region_counts (points_in_atlas)\n",
    "sorted_pd=sort_by_parent(region_with_counts,out_name)"
   ]
  },
  {
   "cell_type": "code",
   "execution_count": 146,
   "metadata": {
    "collapsed": true,
    "jupyter": {
     "outputs_hidden": true
    }
   },
   "outputs": [
    {
     "data": {
      "application/vnd.plotly.v1+json": {
       "config": {
        "plotlyServerURL": "https://plot.ly"
       },
       "data": [
        {
         "hovertemplate": "<i>%{x}</i>, <b>%{text}</b>",
         "marker": {
          "color": "red"
         },
         "name": "",
         "orientation": "h",
         "text": [
          "Secondary motor area, layer 1",
          "Secondary motor area, layer 2/3",
          "Secondary motor area, layer 5",
          "Secondary motor area, layer 6a",
          "Secondary motor area, layer 6b",
          "Caudoputamen",
          "Primary somatosensory area, barrel field, layer 1",
          "Primary somatosensory area, barrel field, layer 2/3",
          "Primary somatosensory area, barrel field, layer 4",
          "Primary somatosensory area, barrel field, layer 5",
          "Primary somatosensory area, barrel field, layer 6a",
          "Primary somatosensory area, barrel field, layer 6b",
          "Superior colliculus, motor related, deep gray layer",
          "Superior colliculus, motor related, deep white layer",
          "Superior colliculus, motor related, intermediate gray layer",
          "Superior colliculus, motor related, intermediate white layer",
          "Supplemental somatosensory area, layer 1",
          "Supplemental somatosensory area, layer 2/3",
          "Supplemental somatosensory area, layer 4",
          "Supplemental somatosensory area, layer 5",
          "Supplemental somatosensory area, layer 6a",
          "Supplemental somatosensory area, layer 6b",
          "Primary motor area, Layer 1",
          "Primary motor area, Layer 2/3",
          "Primary motor area, Layer 5",
          "Primary motor area, Layer 6a",
          "Primary motor area, Layer 6b",
          "Temporal association areas, layer 1",
          "Temporal association areas, layer 2/3",
          "Temporal association areas, layer 4",
          "Temporal association areas, layer 5",
          "Temporal association areas, layer 6a",
          "Temporal association areas, layer 6b",
          "Anterior cingulate area, dorsal part, layer 1",
          "Anterior cingulate area, dorsal part, layer 2/3",
          "Anterior cingulate area, dorsal part, layer 5",
          "Anterior cingulate area, dorsal part, layer 6a",
          "Anterior cingulate area, dorsal part, layer 6b",
          "Anterior area, layer 1",
          "Anterior area, layer 2/3",
          "Anterior area, layer 4",
          "Anterior area, layer 5",
          "Anterior area, layer 6a",
          "Anterior area, layer 6b",
          "Ectorhinal area/Layer 1",
          "Ectorhinal area/Layer 2/3",
          "Ectorhinal area/Layer 5",
          "Ectorhinal area/Layer 6a",
          "Ectorhinal area/Layer 6b",
          "Pontine reticular nucleus",
          "Sublaterodorsal nucleus",
          "Cuneiform nucleus",
          "Dorsal terminal nucleus of the accessory optic tract",
          "Lateral terminal nucleus of the accessory optic tract",
          "Midbrain reticular nucleus",
          "Periaqueductal gray",
          "Red nucleus",
          "Midbrain reticular nucleus, retrorubral area",
          "Substantia nigra, reticular part",
          "Ventral tegmental area",
          "Midbrain",
          "Primary somatosensory area, upper limb, layer 1",
          "Primary somatosensory area, upper limb, layer 2/3",
          "Primary somatosensory area, upper limb, layer 4",
          "Primary somatosensory area, upper limb, layer 5",
          "Primary somatosensory area, upper limb, layer 6a",
          "Primary somatosensory area, upper limb, layer 6b",
          "commissural branch of stria terminalis",
          "Rostrolateral area, layer 1",
          "Rostrolateral area, layer 2/3",
          "Rostrolateral area, layer 4",
          "Rostrolateral area, layer 5",
          "Rostrolateral area, layer 6a",
          "Rostrolateral area, layer 6b",
          "Anterolateral visual area, layer 1",
          "Anterolateral visual area, layer 2/3",
          "Anterolateral visual area, layer 4",
          "Anterolateral visual area, layer 5",
          "Anterolateral visual area, layer 6a",
          "Anterolateral visual area, layer 6b",
          "Primary somatosensory area, lower limb, layer 1",
          "Primary somatosensory area, lower limb, layer 2/3",
          "Primary somatosensory area, lower limb, layer 4",
          "Primary somatosensory area, lower limb, layer 5",
          "Primary somatosensory area, lower limb, layer 6a",
          "Primary somatosensory area, lower limb, layer 6b",
          "Orbital area, lateral part, layer 1",
          "Orbital area, lateral part, layer 2/3",
          "Orbital area, lateral part, layer 5",
          "Orbital area, lateral part, layer 6a",
          "Orbital area, lateral part, layer 6b",
          "Dorsal auditory area, layer 1",
          "Dorsal auditory area, layer 2/3",
          "Dorsal auditory area, layer 4",
          "Dorsal auditory area, layer 5",
          "Dorsal auditory area, layer 6a",
          "Dorsal auditory area, layer 6b",
          "corpus callosum, body",
          "genu of corpus callosum",
          "corpus callosum, splenium",
          "corpus callosum, extreme capsule",
          "corpus callosum, anterior forceps",
          "corpus callosum, posterior forceps",
          "Primary somatosensory area, trunk, layer 1",
          "Primary somatosensory area, trunk, layer 2/3",
          "Primary somatosensory area, trunk, layer 4",
          "Primary somatosensory area, trunk, layer 5",
          "Primary somatosensory area, trunk, layer 6a",
          "Primary somatosensory area, trunk, layer 6b",
          "Entorhinal area, lateral part, layer 1",
          "Entorhinal area, lateral part, layer 2",
          "Entorhinal area, lateral part, layer 3",
          "Entorhinal area, lateral part, layer 5",
          "Entorhinal area, lateral part, layer 6a",
          "cerebal peduncle",
          "internal capsule",
          "Primary somatosensory area, unassigned, layer 1",
          "Primary somatosensory area, unassigned, layer 2/3",
          "Primary somatosensory area, unassigned, layer 4",
          "Primary somatosensory area, unassigned, layer 5",
          "Primary somatosensory area, unassigned, layer 6a",
          "Primary somatosensory area, unassigned, layer 6b",
          "Perirhinal area, layer 1",
          "Perirhinal area, layer 2/3",
          "Perirhinal area, layer 5",
          "Perirhinal area, layer 6a",
          "Lateral hypothalamic area",
          "Preparasubthalamic nucleus",
          "Parasubthalamic nucleus",
          "Zona incerta",
          "Postrhinal area, layer 1",
          "Postrhinal area, layer 2/3",
          "Postrhinal area, layer 4",
          "Postrhinal area, layer 5",
          "Postrhinal area, layer 6a",
          "Postrhinal area, layer 6b",
          "supra-callosal cerebral white matter",
          "Primary visual area, layer 1",
          "Primary visual area, layer 2/3",
          "Primary visual area, layer 4",
          "Primary visual area, layer 5",
          "Primary visual area, layer 6a",
          "Primary visual area, layer 6b",
          "Ventral auditory area, layer 1",
          "Ventral auditory area, layer 2/3",
          "Ventral auditory area, layer 4",
          "Ventral auditory area, layer 5",
          "Ventral auditory area, layer 6a",
          "Ventral auditory area, layer 6b",
          "Lateral visual area, layer 1",
          "Lateral visual area, layer 2/3",
          "Lateral visual area, layer 4",
          "Lateral visual area, layer 5",
          "Lateral visual area, layer 6a",
          "Lateral visual area, layer 6b",
          "Anteromedial visual area, layer 1",
          "Anteromedial visual area, layer 2/3",
          "Anteromedial visual area, layer 4",
          "Anteromedial visual area, layer 5",
          "Anteromedial visual area, layer 6a",
          "Anteromedial visual area, layer 6b",
          "Primary auditory area, layer 1",
          "Primary auditory area, layer 2/3",
          "Primary auditory area, layer 4",
          "Primary auditory area, layer 5",
          "Primary auditory area, layer 6a",
          "Primary auditory area, layer 6b",
          "Anterior pretectal nucleus",
          "Medial pretectal area",
          "Nucleus of the optic tract",
          "Nucleus of the posterior commissure",
          "Olivary pretectal nucleus",
          "Posterior pretectal nucleus",
          "Retroparafascicular nucleus",
          "amygdalar capsule",
          "cingulum bundle",
          "Reticular nucleus of the thalamus",
          "Orbital area, ventrolateral part, layer 1",
          "Orbital area, ventrolateral part, layer 2/3",
          "Orbital area, ventrolateral part, layer 5",
          "Orbital area, ventrolateral part, layer 6a",
          "Orbital area, ventrolateral part, layer 6b",
          "Laterointermediate area, layer 1",
          "Laterointermediate area, layer 2/3",
          "Laterointermediate area, layer 4",
          "Laterointermediate area, layer 5",
          "Laterointermediate area, layer 6a",
          "Laterointermediate area, layer 6b",
          "Ethmoid nucleus of the thalamus",
          "Lateral posterior nucleus of the thalamus",
          "Posterior complex of the thalamus",
          "Posterior limiting nucleus of the thalamus",
          "Suprageniculate nucleus",
          "Visceral area, layer 1",
          "Visceral area, layer 2/3",
          "Visceral area, layer 4",
          "Visceral area, layer 5",
          "Visceral area, layer 6a",
          "Visceral area, layer 6b",
          "Accessory trigeminal nucleus",
          "Intertrigeminal nucleus",
          "Peritrigeminal zone",
          "Parvicellular motor 5 nucleus",
          "Pontine central gray",
          "Pontine gray",
          "Pontine reticular nucleus, caudal part",
          "Supratrigeminal nucleus",
          "Tegmental reticular nucleus",
          "Motor nucleus of trigeminal",
          "posteromedial visual area, layer 1",
          "posteromedial visual area, layer 2/3",
          "posteromedial visual area, layer 4",
          "posteromedial visual area, layer 5",
          "posteromedial visual area, layer 6a",
          "posteromedial visual area, layer 6b",
          "Prelimbic area, layer 2/3",
          "Prelimbic area, layer 5",
          "Prelimbic area, layer 6a",
          "Prelimbic area, layer 6b",
          "Posterior auditory area, layer 1",
          "Posterior auditory area, layer 2/3",
          "Posterior auditory area, layer 4",
          "Posterior auditory area, layer 5",
          "Posterior auditory area, layer 6a",
          "Posterior auditory area, layer 6b",
          "Ventral posterolateral nucleus of the thalamus",
          "Ventral posterolateral nucleus of the thalamus, parvicellular part",
          "Ventral posteromedial nucleus of the thalamus",
          "Ventral posteromedial nucleus of the thalamus, parvicellular part",
          "Hypothalamus",
          "Thalamus",
          "Medulla",
          "Pons",
          "Medial geniculate complex, dorsal part",
          "Medial geniculate complex, medial part",
          "Medial geniculate complex, ventral part",
          "Intergeniculate leaflet of the lateral geniculate complex",
          "Intermediate geniculate nucleus",
          "Ventral part of the lateral geniculate complex",
          "Subgeniculate nucleus",
          "Field CA1",
          "Field CA2",
          "Field CA3",
          "Posterior triangular thalamic nucleus",
          "Ventral anterior-lateral complex of the thalamus",
          "Ventral medial nucleus of the thalamus",
          "Agranular insular area, posterior part, layer 1",
          "Agranular insular area, posterior part, layer 2/3",
          "Agranular insular area, posterior part, layer 5",
          "Agranular insular area, posterior part, layer 6a",
          "Agranular insular area, posterior part, layer 6b",
          "Anterior olfactory nucleus",
          "Dorsal peduncular area",
          "Piriform area",
          "Postpiriform transition area",
          "Central lateral nucleus of the thalamus",
          "Central medial nucleus of the thalamus",
          "Paracentral nucleus",
          "Parafascicular nucleus",
          "Posterior intralaminar thalamic nucleus",
          "Retrosplenial area, ventral part, layer 1",
          "Retrosplenial area, ventral part, layer 2/3",
          "Retrosplenial area, ventral part, layer 5",
          "Retrosplenial area, ventral part, layer 6a",
          "Retrosplenial area, ventral part, layer 6b",
          "Nucleus of the lateral lemniscus",
          "Parabrachial nucleus",
          "Principal sensory nucleus of the trigeminal",
          "Inferior colliculus, central nucleus",
          "Inferior colliculus, dorsal nucleus",
          "Inferior colliculus, external nucleus",
          "fiber tracts",
          "Retrosplenial area, dorsal part, layer 1",
          "Retrosplenial area, dorsal part, layer 2/3",
          "Retrosplenial area, dorsal part, layer 5",
          "Retrosplenial area, dorsal part, layer 6a",
          "Retrosplenial area, dorsal part, layer 6b",
          "Primary somatosensory area, nose, layer 1",
          "Primary somatosensory area, nose, layer 2/3",
          "Primary somatosensory area, nose, layer 4",
          "Primary somatosensory area, nose, layer 5",
          "Primary somatosensory area, nose, layer 6a",
          "Primary somatosensory area, nose, layer 6b",
          "Retrosplenial area, lateral agranular part, layer 1",
          "Retrosplenial area, lateral agranular part, layer 2/3",
          "Retrosplenial area, lateral agranular part, layer 5",
          "Retrosplenial area, lateral agranular part, layer 6a",
          "Retrosplenial area, lateral agranular part, layer 6b",
          "Peripeduncular nucleus",
          "Orbital area, medial part, layer 1",
          "Orbital area, medial part, layer 2/3",
          "Orbital area, medial part, layer 5",
          "Orbital area, medial part, layer 6a",
          "Dorsal part of the lateral geniculate complex, core",
          "Dorsal part of the lateral geniculate complex, ipsilateral zone",
          "Dorsal part of the lateral geniculate complex, shell",
          "alveus",
          "dorsal fornix",
          "fimbria",
          "medial lemniscus",
          "Frontal pole, layer 2/3",
          "Frontal pole, layer 5",
          "Frontal pole, layer 6a",
          "Gigantocellular reticular nucleus",
          "Infracerebellar nucleus",
          "Intermediate reticular nucleus",
          "Parvicellular reticular nucleus",
          "external capsule",
          "rubrospinal tract",
          "Lateral vestibular nucleus",
          "Medial vestibular nucleus",
          "Spinal vestibular nucleus",
          "Superior vestibular nucleus",
          "Globus pallidus, external segment",
          "Globus pallidus, internal segment",
          "Fields of Forel",
          "Nucleus accumbens",
          "Primary somatosensory area, mouth, layer 1",
          "Primary somatosensory area, mouth, layer 2/3",
          "Primary somatosensory area, mouth, layer 4",
          "Primary somatosensory area, mouth, layer 5",
          "Primary somatosensory area, mouth, layer 6a",
          "Primary somatosensory area, mouth, layer 6b",
          "Pedunculopontine nucleus",
          "Substantia nigra, compact part",
          "Hippocampal formation",
          "Olfactory areas",
          "Nucleus of the brachium of the inferior colliculus",
          "Parabigeminal nucleus",
          "Nucleus sagulum",
          "Posterolateral visual area, layer 1",
          "Posterolateral visual area, layer 2/3",
          "Posterolateral visual area, layer 4",
          "Posterolateral visual area, layer 5",
          "Spinal nucleus of the trigeminal, interpolar part",
          "Spinal nucleus of the trigeminal, oral part",
          "Lateral dorsal nucleus of thalamus",
          "Subparafascicular nucleus, magnocellular part",
          "Subparafascicular nucleus, parvicellular part",
          "Pallidum",
          "Striatum",
          "Endopiriform nucleus, dorsal part",
          "Endopiriform nucleus, ventral part",
          "Dentate gyrus, molecular layer",
          "Dentate gyrus, polymorph layer",
          "inferior cerebellar peduncle",
          "middle cerebellar peduncle",
          "superior cerebelar peduncles",
          "Infralimbic area, layer 2/3",
          "Infralimbic area, layer 5",
          "Infralimbic area, layer 6a",
          "arbor vitae",
          "Agranular insular area, ventral part, layer 1",
          "Agranular insular area, ventral part, layer 2/3",
          "Agranular insular area, ventral part, layer 5",
          "Agranular insular area, ventral part, layer 6a",
          "Area prostriata",
          "Postsubiculum",
          "Presubiculum",
          "Prosubiculum",
          "Subiculum",
          "Koelliker-Fuse subnucleus",
          "spinal tract of the trigeminal nerve",
          "Central amygdalar nucleus, capsular part",
          "Central amygdalar nucleus, lateral part",
          "dorsal hippocampal commissure",
          "Lobules IV-V",
          "Claustrum",
          "Lateral amygdalar nucleus",
          "brachium of the superior colliculus",
          "optic tract",
          "Dorsal cochlear nucleus",
          "Ventral cochlear nucleus",
          "brachium of the inferior colliculus",
          "dorsal acoustic stria",
          "lateral lemniscus",
          "Dentate nucleus",
          "Fastigial nucleus",
          "Interposed nucleus",
          "Vestibulocerebellar nucleus",
          "Taenia tecta, dorsal part",
          "Basolateral amygdalar nucleus, anterior part",
          "Basolateral amygdalar nucleus, posterior part",
          "Superior colliculus, optic layer",
          "Superior colliculus, superficial gray layer",
          "Superior colliculus, zonal layer",
          "Interstitial nucleus of Cajal",
          "Cerebellum",
          "Paragigantocellular reticular nucleus, dorsal part",
          "Septohippocampal nucleus",
          "Agranular insular area, dorsal part, layer 1",
          "Agranular insular area, dorsal part, layer 2/3",
          "Agranular insular area, dorsal part, layer 5",
          "Agranular insular area, dorsal part, layer 6a",
          "Agranular insular area, dorsal part, layer 6b",
          "anterior commissure, olfactory limb",
          "vestibular nerve",
          "Anterior cingulate area, ventral part, layer 2/3",
          "Anterior cingulate area, ventral part, layer 5",
          "Anterior cingulate area, ventral part, 6a",
          "Anterior cingulate area, ventral part, 6b",
          "Lobule II",
          "Lobule III",
          "Gustatory areas, layer 2/3",
          "Gustatory areas, layer 4",
          "Gustatory areas, layer 5",
          "Gustatory areas, layer 6a",
          "external medullary lamina of the thalamus",
          "cerebral aqueduct",
          "Copula pyramidis",
          "Flocculus",
          "Paramedian lobule",
          "Simple lobule",
          "Cortical subplate",
          "Lateral septal nucleus, caudal (caudodorsal) part",
          "Lateral septal nucleus, rostral (rostroventral) part",
          "Entorhinal area, medial part, dorsal zone, layer 1",
          "Entorhinal area, medial part, dorsal zone, layer 2",
          "Entorhinal area, medial part, dorsal zone, layer 5",
          "Entorhinal area, medial part, dorsal zone, layer 6",
          "oculomotor nerve",
          "trochlear nerve",
          "facial nerve",
          "ventral spinocerebellar tract",
          "uncinate fascicle",
          "genu of the facial nerve",
          "sensory root of the trigeminal nerve",
          "Mediodorsal nucleus of thalamus",
          "Submedial nucleus of the thalamus",
          "Bed nuclei of the stria terminalis",
          "lateral recess",
          "Medial amygdalar nucleus",
          "Crus 1",
          "Crus 2",
          "choroid plexus",
          "Anterodorsal preoptic nucleus",
          "crossed tectospinal pathway",
          "Declive (VI)",
          "Nodulus (X)",
          "Substantia innominata",
          "corticospinal tract",
          "nigrostriatal tract",
          "columns of the fornix",
          "root"
         ],
         "type": "bar",
         "x": [
          249.936,
          1267.609,
          663.827,
          472.543,
          8.858,
          1733.775,
          43.716,
          360.562,
          143.455,
          149.758,
          222.562,
          35.744,
          116.245,
          14.513,
          317.823,
          364.114,
          59.887,
          243.187,
          60.882,
          134.861,
          127.863,
          16.104,
          62.657,
          170.11,
          70.373,
          292.074,
          26.706,
          73.228,
          200.111,
          63.208,
          183.737,
          69.534,
          8.259,
          3.595,
          118.972,
          103.694,
          75.879,
          1.134,
          38.444,
          149.804,
          24.202,
          44.675,
          39.906,
          4.495,
          72.456,
          128.195,
          81.608,
          15.942,
          0.926,
          291.662,
          0.022,
          5.263,
          0.049,
          10.838,
          198.912,
          36.007,
          21.608,
          2.721,
          12.08,
          0.731,
          287.591,
          42.162,
          115.054,
          11.048,
          21.43,
          81.29,
          13.95,
          284.697,
          20.381,
          107.975,
          36.932,
          64.251,
          36.185,
          4.099,
          60.126,
          97.048,
          25.283,
          47.94,
          29.271,
          4.061,
          23.272,
          30.63,
          2.589,
          13.112,
          165.525,
          25.675,
          2.391,
          93.798,
          132.91,
          19.573,
          4.134,
          37.914,
          90.522,
          14.371,
          43.019,
          38.708,
          8.106,
          99.583,
          8.845,
          47.265,
          1.249,
          19.593,
          27.233,
          21.609,
          71.367,
          9.521,
          23.824,
          62.216,
          5.244,
          26.362,
          74.692,
          57.27,
          22.727,
          3.411,
          111.972,
          67.528,
          14.554,
          78.235,
          9.6,
          15.918,
          28.831,
          3.387,
          54.779,
          79.955,
          13.98,
          0.885,
          0.17,
          0.649,
          0.099,
          141.411,
          29.661,
          67.308,
          4.083,
          36.222,
          3.328,
          0.247,
          132.554,
          58.839,
          49.262,
          4.447,
          4.349,
          4.53,
          0.775,
          13.429,
          33.499,
          7.963,
          31.487,
          23.552,
          4.006,
          45.444,
          33.873,
          7.196,
          17.125,
          9.489,
          0.251,
          38.244,
          58.175,
          3.715,
          4.284,
          5.466,
          2.103,
          22.825,
          26.18,
          4.015,
          19.667,
          24.716,
          6.474,
          93.67,
          0.229,
          0.012,
          0.306,
          0.016,
          3.924,
          0.029,
          0.277,
          97.745,
          97.048,
          0.567,
          24.241,
          54.589,
          6.19,
          0.18,
          19.723,
          23.77,
          8.255,
          23.701,
          6.64,
          1.371,
          5.603,
          25.591,
          17.36,
          20.968,
          10.78,
          10.562,
          28.96,
          7.29,
          17.445,
          8.972,
          0.642,
          0.036,
          0.005,
          5.651,
          1.071,
          0.356,
          0.565,
          56.583,
          0.072,
          2.414,
          2.021,
          22.11,
          31.674,
          1.298,
          1.144,
          2.258,
          0.544,
          4.185,
          25.542,
          27.714,
          0.606,
          12.004,
          8.243,
          2.699,
          17.348,
          10.13,
          2.589,
          21.102,
          4.443,
          17.515,
          4.255,
          2.067,
          44.059,
          2.984,
          43.033,
          4.427,
          21.727,
          19.077,
          0.638,
          1.621,
          19.595,
          22.582,
          37.986,
          1.062,
          3.289,
          18.462,
          7.043,
          16.181,
          0.491,
          21.159,
          14.704,
          2.684,
          0.022,
          0.178,
          3.528,
          32.971,
          0.532,
          0.066,
          0.007,
          1.494,
          0.276,
          34.153,
          0.888,
          12.571,
          13.575,
          5.836,
          0.206,
          4.789,
          14.403,
          11.718,
          1.49,
          0.834,
          27.599,
          29.756,
          0.211,
          13.488,
          8.611,
          5.609,
          0.453,
          10.686,
          14.051,
          0.428,
          0.172,
          0.902,
          0.169,
          4.683,
          7.399,
          0.536,
          13.205,
          0.47,
          25.72,
          0.597,
          0.718,
          14.469,
          3.332,
          11.471,
          2.739,
          2.75,
          15.033,
          0.011,
          0.005,
          14.339,
          0.09,
          11.097,
          2.888,
          5.788,
          0.377,
          6.359,
          1.311,
          12.056,
          11.367,
          0.013,
          9.785,
          0.197,
          0.664,
          10.007,
          0.025,
          9.475,
          8.345,
          0.308,
          1.441,
          0.815,
          0.451,
          4.335,
          0.801,
          7.959,
          0.01,
          0.08,
          7.623,
          0.476,
          4.495,
          2.558,
          3.827,
          3.357,
          0.261,
          0.054,
          0.642,
          6.81,
          6.812,
          0.351,
          5.789,
          0.029,
          6.054,
          5.298,
          0.709,
          4.976,
          0.003,
          0.829,
          1.981,
          1.813,
          0.159,
          3.245,
          1.215,
          4.019,
          0.062,
          2.171,
          1.381,
          0.332,
          0.166,
          0.043,
          2.781,
          0.138,
          0.509,
          3.269,
          3.072,
          2.825,
          0.186,
          2.746,
          2.67,
          1.127,
          1.229,
          1.97,
          0.072,
          0.304,
          1.629,
          0.684,
          0.05,
          1.177,
          0.001,
          0.029,
          1.818,
          0.021,
          1.837,
          1.254,
          0.53,
          0.674,
          0.118,
          0.699,
          1.372,
          1.326,
          1.284,
          1.059,
          0.017,
          0.67,
          0.181,
          0.162,
          0.011,
          1.006,
          0.933,
          0.149,
          0.009,
          0.742,
          0.007,
          0.183,
          0.604,
          0.377,
          0.053,
          0.207,
          0.03,
          0.655,
          0.643,
          0.013,
          0.493,
          0.007,
          0.087,
          0.586,
          0.385,
          0.078,
          0.401,
          0.028,
          0.007,
          0.001,
          0.016,
          0.04,
          0.365,
          0.063,
          0.229,
          0.24,
          0.218,
          0.063,
          0.083,
          0.127,
          0.106,
          0.055,
          0.048,
          0.001,
          0.026,
          0.012,
          0.01,
          0.003,
          0.006,
          0.008,
          0.007,
          0.001,
          0.001,
          31.152
         ],
         "y": [
          "MOs1",
          "MOs2/3",
          "MOs5",
          "MOs6a",
          "MOs6b",
          "CP",
          "SSp-bfd1",
          "SSp-bfd2/3",
          "SSp-bfd4",
          "SSp-bfd5",
          "SSp-bfd6a",
          "SSp-bfd6b",
          "SCdg",
          "SCdw",
          "SCig",
          "SCiw",
          "SSs1",
          "SSs2/3",
          "SSs4",
          "SSs5",
          "SSs6a",
          "SSs6b",
          "MOp1",
          "MOp2/3",
          "MOp5",
          "MOp6a",
          "MOp6b",
          "TEa1",
          "TEa2/3",
          "TEa4",
          "TEa5",
          "TEa6a",
          "TEa6b",
          "ACAd1",
          "ACAd2/3",
          "ACAd5",
          "ACAd6a",
          "ACAd6b",
          "VISa1",
          "VISa2/3",
          "VISa4",
          "VISa5",
          "VISa6a",
          "VISa6b",
          "ECT1",
          "ECT2/3",
          "ECT5",
          "ECT6a",
          "ECT6b",
          "PRNr",
          "SLD",
          "CUN",
          "DT",
          "LT",
          "MRN",
          "PAG",
          "RN",
          "RR",
          "SNr",
          "VTA",
          "MB",
          "SSp-ul1",
          "SSp-ul2/3",
          "SSp-ul4",
          "SSp-ul5",
          "SSp-ul6a",
          "SSp-ul6b",
          "stc",
          "VISrl1",
          "VISrl2/3",
          "VISrl4",
          "VISrl5",
          "VISrl6a",
          "VISrl6b",
          "VISal1",
          "VISal2/3",
          "VISal4",
          "VISal5",
          "VISal6a",
          "VISal6b",
          "SSp-ll1",
          "SSp-ll2/3",
          "SSp-ll4",
          "SSp-ll5",
          "SSp-ll6a",
          "SSp-ll6b",
          "ORBl1",
          "ORBl2/3",
          "ORBl5",
          "ORBl6a",
          "ORBl6b",
          "AUDd1",
          "AUDd2/3",
          "AUDd4",
          "AUDd5",
          "AUDd6a",
          "AUDd6b",
          "ccb",
          "ccg",
          "ccs",
          "ee",
          "fa",
          "fp",
          "SSp-tr1",
          "SSp-tr2/3",
          "SSp-tr4",
          "SSp-tr5",
          "SSp-tr6a",
          "SSp-tr6b",
          "ENTl1",
          "ENTl2",
          "ENTl3",
          "ENTl5",
          "ENTl6a",
          "cpd",
          "int",
          "SSp-un1",
          "SSp-un2/3",
          "SSp-un4",
          "SSp-un5",
          "SSp-un6a",
          "SSp-un6b",
          "PERI1",
          "PERI2/3",
          "PERI5",
          "PERI6a",
          "LHA",
          "PST",
          "PSTN",
          "ZI",
          "VISpor1",
          "VISpor2/3",
          "VISpor4",
          "VISpor5",
          "VISpor6a",
          "VISpor6b",
          "scwm",
          "VISp1",
          "VISp2/3",
          "VISp4",
          "VISp5",
          "VISp6a",
          "VISp6b",
          "AUDv1",
          "AUDv2/3",
          "AUDv4",
          "AUDv5",
          "AUDv6a",
          "AUDv6b",
          "VISl1",
          "VISl2/3",
          "VISl4",
          "VISl5",
          "VISl6a",
          "VISl6b",
          "VISam1",
          "VISam2/3",
          "VISam4",
          "VISam5",
          "VISam6a",
          "VISam6b",
          "AUDp1",
          "AUDp2/3",
          "AUDp4",
          "AUDp5",
          "AUDp6a",
          "AUDp6b",
          "APN",
          "MPT",
          "NOT",
          "NPC",
          "OP",
          "PPT",
          "RPF",
          "amc",
          "cing",
          "RT",
          "ORBvl1",
          "ORBvl2/3",
          "ORBvl5",
          "ORBvl6a",
          "ORBvl6b",
          "VISli1",
          "VISli2/3",
          "VISli4",
          "VISli5",
          "VISli6a",
          "VISli6b",
          "Eth",
          "LP",
          "PO",
          "POL",
          "SGN",
          "VISC1",
          "VISC2/3",
          "VISC4",
          "VISC5",
          "VISC6a",
          "VISC6b",
          "Acs5",
          "I5",
          "P5",
          "PC5",
          "PCG",
          "PG",
          "PRNc",
          "SUT",
          "TRN",
          "V",
          "VISpm1",
          "VISpm2/3",
          "VISpm4",
          "VISpm5",
          "VISpm6a",
          "VISpm6b",
          "PL2/3",
          "PL5",
          "PL6a",
          "PL6b",
          "AUDpo1",
          "AUDpo2/3",
          "AUDpo4",
          "AUDpo5",
          "AUDpo6a",
          "AUDpo6b",
          "VPL",
          "VPLpc",
          "VPM",
          "VPMpc",
          "HY",
          "TH",
          "MY",
          "P",
          "MGd",
          "MGm",
          "MGv",
          "IGL",
          "IntG",
          "LGv",
          "SubG",
          "CA1",
          "CA2",
          "CA3",
          "PoT",
          "VAL",
          "VM",
          "AIp1",
          "AIp2/3",
          "AIp5",
          "AIp6a",
          "AIp6b",
          "AON",
          "DP",
          "PIR",
          "TR",
          "CL",
          "CM",
          "PCN",
          "PF",
          "PIL",
          "RSPv1",
          "RSPv2/3",
          "RSPv5",
          "RSPv6a",
          "RSPv6b",
          "NLL",
          "PB",
          "PSV",
          "ICc",
          "ICd",
          "ICe",
          "fiber tracts",
          "RSPd1",
          "RSPd2/3",
          "RSPd5",
          "RSPd6a",
          "RSPd6b",
          "SSp-n1",
          "SSp-n2/3",
          "SSp-n4",
          "SSp-n5",
          "SSp-n6a",
          "SSp-n6b",
          "RSPagl1",
          "RSPagl2/3",
          "RSPagl5",
          "RSPagl6a",
          "RSPagl6b",
          "PP",
          "ORBm1",
          "ORBm2/3",
          "ORBm5",
          "ORBm6a",
          "LGd-co",
          "LGd-ip",
          "LGd-sh",
          "alv",
          "df",
          "fi",
          "ml",
          "FRP2/3",
          "FRP5",
          "FRP6a",
          "GRN",
          "ICB",
          "IRN",
          "PARN",
          "ec",
          "rust",
          "LAV",
          "MV",
          "SPIV",
          "SUV",
          "GPe",
          "GPi",
          "FF",
          "ACB",
          "SSp-m1",
          "SSp-m2/3",
          "SSp-m4",
          "SSp-m5",
          "SSp-m6a",
          "SSp-m6b",
          "PPN",
          "SNc",
          "HPF",
          "OLF",
          "NB",
          "PBG",
          "SAG",
          "VISpl1",
          "VISpl2/3",
          "VISpl4",
          "VISpl5",
          "SPVI",
          "SPVO",
          "LD",
          "SPFm",
          "SPFp",
          "PAL",
          "STR",
          "EPd",
          "EPv",
          "DG-mo",
          "DG-po",
          "icp",
          "mcp",
          "scp",
          "ILA2/3",
          "ILA5",
          "ILA6a",
          "arb",
          "AIv1",
          "AIv2/3",
          "AIv5",
          "AIv6a",
          "APr",
          "POST",
          "PRE",
          "ProS",
          "SUB",
          "KF",
          "sptV",
          "CEAc",
          "CEAl",
          "dhc",
          "CUL4, 5",
          "CLA",
          "LA",
          "bsc",
          "opt",
          "DCO",
          "VCO",
          "bic",
          "das",
          "ll",
          "DN",
          "FN",
          "IP",
          "VeCB",
          "TTd",
          "BLAa",
          "BLAp",
          "SCop",
          "SCsg",
          "SCzo",
          "INC",
          "CB",
          "PGRNd",
          "SH",
          "AId1",
          "AId2/3",
          "AId5",
          "AId6a",
          "AId6b",
          "aco",
          "vVIIIn",
          "ACAv2/3",
          "ACAv5",
          "ACAv6a",
          "ACAv6b",
          "CENT2",
          "CENT3",
          "GU2/3",
          "GU4",
          "GU5",
          "GU6a",
          "em",
          "AQ",
          "COPY",
          "FL",
          "PRM",
          "SIM",
          "CTXsp",
          "LSc",
          "LSr",
          "ENTm1",
          "ENTm2",
          "ENTm5",
          "ENTm6",
          "IIIn",
          "IVn",
          "VIIn",
          "sctv",
          "uf",
          "gVIIn",
          "sV",
          "MD",
          "SMT",
          "BST",
          "V4r",
          "MEA",
          "ANcr1",
          "ANcr2",
          "chpl",
          "ADP",
          "tspc",
          "DEC",
          "NOD",
          "SI",
          "cst",
          "nst",
          "fx",
          "root"
         ]
        }
       ],
       "layout": {
        "height": 1500,
        "paper_bgcolor": "rgba(0, 0, 0, 0)",
        "plot_bgcolor": "rgba(0, 0, 0, 0)",
        "showlegend": false,
        "template": {
         "data": {
          "bar": [
           {
            "error_x": {
             "color": "#2a3f5f"
            },
            "error_y": {
             "color": "#2a3f5f"
            },
            "marker": {
             "line": {
              "color": "#E5ECF6",
              "width": 0.5
             }
            },
            "type": "bar"
           }
          ],
          "barpolar": [
           {
            "marker": {
             "line": {
              "color": "#E5ECF6",
              "width": 0.5
             }
            },
            "type": "barpolar"
           }
          ],
          "carpet": [
           {
            "aaxis": {
             "endlinecolor": "#2a3f5f",
             "gridcolor": "white",
             "linecolor": "white",
             "minorgridcolor": "white",
             "startlinecolor": "#2a3f5f"
            },
            "baxis": {
             "endlinecolor": "#2a3f5f",
             "gridcolor": "white",
             "linecolor": "white",
             "minorgridcolor": "white",
             "startlinecolor": "#2a3f5f"
            },
            "type": "carpet"
           }
          ],
          "choropleth": [
           {
            "colorbar": {
             "outlinewidth": 0,
             "ticks": ""
            },
            "type": "choropleth"
           }
          ],
          "contour": [
           {
            "colorbar": {
             "outlinewidth": 0,
             "ticks": ""
            },
            "colorscale": [
             [
              0,
              "#0d0887"
             ],
             [
              0.1111111111111111,
              "#46039f"
             ],
             [
              0.2222222222222222,
              "#7201a8"
             ],
             [
              0.3333333333333333,
              "#9c179e"
             ],
             [
              0.4444444444444444,
              "#bd3786"
             ],
             [
              0.5555555555555556,
              "#d8576b"
             ],
             [
              0.6666666666666666,
              "#ed7953"
             ],
             [
              0.7777777777777778,
              "#fb9f3a"
             ],
             [
              0.8888888888888888,
              "#fdca26"
             ],
             [
              1,
              "#f0f921"
             ]
            ],
            "type": "contour"
           }
          ],
          "contourcarpet": [
           {
            "colorbar": {
             "outlinewidth": 0,
             "ticks": ""
            },
            "type": "contourcarpet"
           }
          ],
          "heatmap": [
           {
            "colorbar": {
             "outlinewidth": 0,
             "ticks": ""
            },
            "colorscale": [
             [
              0,
              "#0d0887"
             ],
             [
              0.1111111111111111,
              "#46039f"
             ],
             [
              0.2222222222222222,
              "#7201a8"
             ],
             [
              0.3333333333333333,
              "#9c179e"
             ],
             [
              0.4444444444444444,
              "#bd3786"
             ],
             [
              0.5555555555555556,
              "#d8576b"
             ],
             [
              0.6666666666666666,
              "#ed7953"
             ],
             [
              0.7777777777777778,
              "#fb9f3a"
             ],
             [
              0.8888888888888888,
              "#fdca26"
             ],
             [
              1,
              "#f0f921"
             ]
            ],
            "type": "heatmap"
           }
          ],
          "heatmapgl": [
           {
            "colorbar": {
             "outlinewidth": 0,
             "ticks": ""
            },
            "colorscale": [
             [
              0,
              "#0d0887"
             ],
             [
              0.1111111111111111,
              "#46039f"
             ],
             [
              0.2222222222222222,
              "#7201a8"
             ],
             [
              0.3333333333333333,
              "#9c179e"
             ],
             [
              0.4444444444444444,
              "#bd3786"
             ],
             [
              0.5555555555555556,
              "#d8576b"
             ],
             [
              0.6666666666666666,
              "#ed7953"
             ],
             [
              0.7777777777777778,
              "#fb9f3a"
             ],
             [
              0.8888888888888888,
              "#fdca26"
             ],
             [
              1,
              "#f0f921"
             ]
            ],
            "type": "heatmapgl"
           }
          ],
          "histogram": [
           {
            "marker": {
             "colorbar": {
              "outlinewidth": 0,
              "ticks": ""
             }
            },
            "type": "histogram"
           }
          ],
          "histogram2d": [
           {
            "colorbar": {
             "outlinewidth": 0,
             "ticks": ""
            },
            "colorscale": [
             [
              0,
              "#0d0887"
             ],
             [
              0.1111111111111111,
              "#46039f"
             ],
             [
              0.2222222222222222,
              "#7201a8"
             ],
             [
              0.3333333333333333,
              "#9c179e"
             ],
             [
              0.4444444444444444,
              "#bd3786"
             ],
             [
              0.5555555555555556,
              "#d8576b"
             ],
             [
              0.6666666666666666,
              "#ed7953"
             ],
             [
              0.7777777777777778,
              "#fb9f3a"
             ],
             [
              0.8888888888888888,
              "#fdca26"
             ],
             [
              1,
              "#f0f921"
             ]
            ],
            "type": "histogram2d"
           }
          ],
          "histogram2dcontour": [
           {
            "colorbar": {
             "outlinewidth": 0,
             "ticks": ""
            },
            "colorscale": [
             [
              0,
              "#0d0887"
             ],
             [
              0.1111111111111111,
              "#46039f"
             ],
             [
              0.2222222222222222,
              "#7201a8"
             ],
             [
              0.3333333333333333,
              "#9c179e"
             ],
             [
              0.4444444444444444,
              "#bd3786"
             ],
             [
              0.5555555555555556,
              "#d8576b"
             ],
             [
              0.6666666666666666,
              "#ed7953"
             ],
             [
              0.7777777777777778,
              "#fb9f3a"
             ],
             [
              0.8888888888888888,
              "#fdca26"
             ],
             [
              1,
              "#f0f921"
             ]
            ],
            "type": "histogram2dcontour"
           }
          ],
          "mesh3d": [
           {
            "colorbar": {
             "outlinewidth": 0,
             "ticks": ""
            },
            "type": "mesh3d"
           }
          ],
          "parcoords": [
           {
            "line": {
             "colorbar": {
              "outlinewidth": 0,
              "ticks": ""
             }
            },
            "type": "parcoords"
           }
          ],
          "pie": [
           {
            "automargin": true,
            "type": "pie"
           }
          ],
          "scatter": [
           {
            "marker": {
             "colorbar": {
              "outlinewidth": 0,
              "ticks": ""
             }
            },
            "type": "scatter"
           }
          ],
          "scatter3d": [
           {
            "line": {
             "colorbar": {
              "outlinewidth": 0,
              "ticks": ""
             }
            },
            "marker": {
             "colorbar": {
              "outlinewidth": 0,
              "ticks": ""
             }
            },
            "type": "scatter3d"
           }
          ],
          "scattercarpet": [
           {
            "marker": {
             "colorbar": {
              "outlinewidth": 0,
              "ticks": ""
             }
            },
            "type": "scattercarpet"
           }
          ],
          "scattergeo": [
           {
            "marker": {
             "colorbar": {
              "outlinewidth": 0,
              "ticks": ""
             }
            },
            "type": "scattergeo"
           }
          ],
          "scattergl": [
           {
            "marker": {
             "colorbar": {
              "outlinewidth": 0,
              "ticks": ""
             }
            },
            "type": "scattergl"
           }
          ],
          "scattermapbox": [
           {
            "marker": {
             "colorbar": {
              "outlinewidth": 0,
              "ticks": ""
             }
            },
            "type": "scattermapbox"
           }
          ],
          "scatterpolar": [
           {
            "marker": {
             "colorbar": {
              "outlinewidth": 0,
              "ticks": ""
             }
            },
            "type": "scatterpolar"
           }
          ],
          "scatterpolargl": [
           {
            "marker": {
             "colorbar": {
              "outlinewidth": 0,
              "ticks": ""
             }
            },
            "type": "scatterpolargl"
           }
          ],
          "scatterternary": [
           {
            "marker": {
             "colorbar": {
              "outlinewidth": 0,
              "ticks": ""
             }
            },
            "type": "scatterternary"
           }
          ],
          "surface": [
           {
            "colorbar": {
             "outlinewidth": 0,
             "ticks": ""
            },
            "colorscale": [
             [
              0,
              "#0d0887"
             ],
             [
              0.1111111111111111,
              "#46039f"
             ],
             [
              0.2222222222222222,
              "#7201a8"
             ],
             [
              0.3333333333333333,
              "#9c179e"
             ],
             [
              0.4444444444444444,
              "#bd3786"
             ],
             [
              0.5555555555555556,
              "#d8576b"
             ],
             [
              0.6666666666666666,
              "#ed7953"
             ],
             [
              0.7777777777777778,
              "#fb9f3a"
             ],
             [
              0.8888888888888888,
              "#fdca26"
             ],
             [
              1,
              "#f0f921"
             ]
            ],
            "type": "surface"
           }
          ],
          "table": [
           {
            "cells": {
             "fill": {
              "color": "#EBF0F8"
             },
             "line": {
              "color": "white"
             }
            },
            "header": {
             "fill": {
              "color": "#C8D4E3"
             },
             "line": {
              "color": "white"
             }
            },
            "type": "table"
           }
          ]
         },
         "layout": {
          "annotationdefaults": {
           "arrowcolor": "#2a3f5f",
           "arrowhead": 0,
           "arrowwidth": 1
          },
          "autotypenumbers": "strict",
          "coloraxis": {
           "colorbar": {
            "outlinewidth": 0,
            "ticks": ""
           }
          },
          "colorscale": {
           "diverging": [
            [
             0,
             "#8e0152"
            ],
            [
             0.1,
             "#c51b7d"
            ],
            [
             0.2,
             "#de77ae"
            ],
            [
             0.3,
             "#f1b6da"
            ],
            [
             0.4,
             "#fde0ef"
            ],
            [
             0.5,
             "#f7f7f7"
            ],
            [
             0.6,
             "#e6f5d0"
            ],
            [
             0.7,
             "#b8e186"
            ],
            [
             0.8,
             "#7fbc41"
            ],
            [
             0.9,
             "#4d9221"
            ],
            [
             1,
             "#276419"
            ]
           ],
           "sequential": [
            [
             0,
             "#0d0887"
            ],
            [
             0.1111111111111111,
             "#46039f"
            ],
            [
             0.2222222222222222,
             "#7201a8"
            ],
            [
             0.3333333333333333,
             "#9c179e"
            ],
            [
             0.4444444444444444,
             "#bd3786"
            ],
            [
             0.5555555555555556,
             "#d8576b"
            ],
            [
             0.6666666666666666,
             "#ed7953"
            ],
            [
             0.7777777777777778,
             "#fb9f3a"
            ],
            [
             0.8888888888888888,
             "#fdca26"
            ],
            [
             1,
             "#f0f921"
            ]
           ],
           "sequentialminus": [
            [
             0,
             "#0d0887"
            ],
            [
             0.1111111111111111,
             "#46039f"
            ],
            [
             0.2222222222222222,
             "#7201a8"
            ],
            [
             0.3333333333333333,
             "#9c179e"
            ],
            [
             0.4444444444444444,
             "#bd3786"
            ],
            [
             0.5555555555555556,
             "#d8576b"
            ],
            [
             0.6666666666666666,
             "#ed7953"
            ],
            [
             0.7777777777777778,
             "#fb9f3a"
            ],
            [
             0.8888888888888888,
             "#fdca26"
            ],
            [
             1,
             "#f0f921"
            ]
           ]
          },
          "colorway": [
           "#636efa",
           "#EF553B",
           "#00cc96",
           "#ab63fa",
           "#FFA15A",
           "#19d3f3",
           "#FF6692",
           "#B6E880",
           "#FF97FF",
           "#FECB52"
          ],
          "font": {
           "color": "#2a3f5f"
          },
          "geo": {
           "bgcolor": "white",
           "lakecolor": "white",
           "landcolor": "#E5ECF6",
           "showlakes": true,
           "showland": true,
           "subunitcolor": "white"
          },
          "hoverlabel": {
           "align": "left"
          },
          "hovermode": "closest",
          "mapbox": {
           "style": "light"
          },
          "paper_bgcolor": "white",
          "plot_bgcolor": "#E5ECF6",
          "polar": {
           "angularaxis": {
            "gridcolor": "white",
            "linecolor": "white",
            "ticks": ""
           },
           "bgcolor": "#E5ECF6",
           "radialaxis": {
            "gridcolor": "white",
            "linecolor": "white",
            "ticks": ""
           }
          },
          "scene": {
           "xaxis": {
            "backgroundcolor": "#E5ECF6",
            "gridcolor": "white",
            "gridwidth": 2,
            "linecolor": "white",
            "showbackground": true,
            "ticks": "",
            "zerolinecolor": "white"
           },
           "yaxis": {
            "backgroundcolor": "#E5ECF6",
            "gridcolor": "white",
            "gridwidth": 2,
            "linecolor": "white",
            "showbackground": true,
            "ticks": "",
            "zerolinecolor": "white"
           },
           "zaxis": {
            "backgroundcolor": "#E5ECF6",
            "gridcolor": "white",
            "gridwidth": 2,
            "linecolor": "white",
            "showbackground": true,
            "ticks": "",
            "zerolinecolor": "white"
           }
          },
          "shapedefaults": {
           "line": {
            "color": "#2a3f5f"
           }
          },
          "ternary": {
           "aaxis": {
            "gridcolor": "white",
            "linecolor": "white",
            "ticks": ""
           },
           "baxis": {
            "gridcolor": "white",
            "linecolor": "white",
            "ticks": ""
           },
           "bgcolor": "#E5ECF6",
           "caxis": {
            "gridcolor": "white",
            "linecolor": "white",
            "ticks": ""
           }
          },
          "title": {
           "x": 0.05
          },
          "xaxis": {
           "automargin": true,
           "gridcolor": "white",
           "linecolor": "white",
           "ticks": "",
           "title": {
            "standoff": 15
           },
           "zerolinecolor": "white",
           "zerolinewidth": 2
          },
          "yaxis": {
           "automargin": true,
           "gridcolor": "white",
           "linecolor": "white",
           "ticks": "",
           "title": {
            "standoff": 15
           },
           "zerolinecolor": "white",
           "zerolinewidth": 2
          }
         }
        },
        "width": 2000,
        "xaxis": {
         "autorange": true,
         "gridcolor": "gold",
         "range": [
          0,
          1825.0263157894738
         ],
         "type": "linear"
        },
        "yaxis": {
         "autorange": true,
         "categoryorder": "trace",
         "range": [
          -0.5,
          443.5
         ],
         "type": "category"
        }
       }
      },
      "image/png": "[encoded data removed]",
      "text/html": [
       "<div>                            <div id=\"bbef8071-ee1d-47d5-9569-98d0f864866d\" class=\"plotly-graph-div\" style=\"height:1500px; width:2000px;\"></div>            <script type=\"text/javascript\">                require([\"plotly\"], function(Plotly) {                    window.PLOTLYENV=window.PLOTLYENV || {};                                    if (document.getElementById(\"bbef8071-ee1d-47d5-9569-98d0f864866d\")) {                    Plotly.newPlot(                        \"bbef8071-ee1d-47d5-9569-98d0f864866d\",                        [{\"hovertemplate\": \"<i>%{x}</i>, <b>%{text}</b>\", \"marker\": {\"color\": \"red\"}, \"name\": \"\", \"orientation\": \"h\", \"text\": [\"Secondary motor area, layer 1\", \"Secondary motor area, layer 2/3\", \"Secondary motor area, layer 5\", \"Secondary motor area, layer 6a\", \"Secondary motor area, layer 6b\", \"Caudoputamen\", \"Primary somatosensory area, barrel field, layer 1\", \"Primary somatosensory area, barrel field, layer 2/3\", \"Primary somatosensory area, barrel field, layer 4\", \"Primary somatosensory area, barrel field, layer 5\", \"Primary somatosensory area, barrel field, layer 6a\", \"Primary somatosensory area, barrel field, layer 6b\", \"Superior colliculus, motor related, deep gray layer\", \"Superior colliculus, motor related, deep white layer\", \"Superior colliculus, motor related, intermediate gray layer\", \"Superior colliculus, motor related, intermediate white layer\", \"Supplemental somatosensory area, layer 1\", \"Supplemental somatosensory area, layer 2/3\", \"Supplemental somatosensory area, layer 4\", \"Supplemental somatosensory area, layer 5\", \"Supplemental somatosensory area, layer 6a\", \"Supplemental somatosensory area, layer 6b\", \"Primary motor area, Layer 1\", \"Primary motor area, Layer 2/3\", \"Primary motor area, Layer 5\", \"Primary motor area, Layer 6a\", \"Primary motor area, Layer 6b\", \"Temporal association areas, layer 1\", \"Temporal association areas, layer 2/3\", \"Temporal association areas, layer 4\", \"Temporal association areas, layer 5\", \"Temporal association areas, layer 6a\", \"Temporal association areas, layer 6b\", \"Anterior cingulate area, dorsal part, layer 1\", \"Anterior cingulate area, dorsal part, layer 2/3\", \"Anterior cingulate area, dorsal part, layer 5\", \"Anterior cingulate area, dorsal part, layer 6a\", \"Anterior cingulate area, dorsal part, layer 6b\", \"Anterior area, layer 1\", \"Anterior area, layer 2/3\", \"Anterior area, layer 4\", \"Anterior area, layer 5\", \"Anterior area, layer 6a\", \"Anterior area, layer 6b\", \"Ectorhinal area/Layer 1\", \"Ectorhinal area/Layer 2/3\", \"Ectorhinal area/Layer 5\", \"Ectorhinal area/Layer 6a\", \"Ectorhinal area/Layer 6b\", \"Pontine reticular nucleus\", \"Sublaterodorsal nucleus\", \"Cuneiform nucleus\", \"Dorsal terminal nucleus of the accessory optic tract\", \"Lateral terminal nucleus of the accessory optic tract\", \"Midbrain reticular nucleus\", \"Periaqueductal gray\", \"Red nucleus\", \"Midbrain reticular nucleus, retrorubral area\", \"Substantia nigra, reticular part\", \"Ventral tegmental area\", \"Midbrain\", \"Primary somatosensory area, upper limb, layer 1\", \"Primary somatosensory area, upper limb, layer 2/3\", \"Primary somatosensory area, upper limb, layer 4\", \"Primary somatosensory area, upper limb, layer 5\", \"Primary somatosensory area, upper limb, layer 6a\", \"Primary somatosensory area, upper limb, layer 6b\", \"commissural branch of stria terminalis\", \"Rostrolateral area, layer 1\", \"Rostrolateral area, layer 2/3\", \"Rostrolateral area, layer 4\", \"Rostrolateral area, layer 5\", \"Rostrolateral area, layer 6a\", \"Rostrolateral area, layer 6b\", \"Anterolateral visual area, layer 1\", \"Anterolateral visual area, layer 2/3\", \"Anterolateral visual area, layer 4\", \"Anterolateral visual area, layer 5\", \"Anterolateral visual area, layer 6a\", \"Anterolateral visual area, layer 6b\", \"Primary somatosensory area, lower limb, layer 1\", \"Primary somatosensory area, lower limb, layer 2/3\", \"Primary somatosensory area, lower limb, layer 4\", \"Primary somatosensory area, lower limb, layer 5\", \"Primary somatosensory area, lower limb, layer 6a\", \"Primary somatosensory area, lower limb, layer 6b\", \"Orbital area, lateral part, layer 1\", \"Orbital area, lateral part, layer 2/3\", \"Orbital area, lateral part, layer 5\", \"Orbital area, lateral part, layer 6a\", \"Orbital area, lateral part, layer 6b\", \"Dorsal auditory area, layer 1\", \"Dorsal auditory area, layer 2/3\", \"Dorsal auditory area, layer 4\", \"Dorsal auditory area, layer 5\", \"Dorsal auditory area, layer 6a\", \"Dorsal auditory area, layer 6b\", \"corpus callosum, body\", \"genu of corpus callosum\", \"corpus callosum, splenium\", \"corpus callosum, extreme capsule\", \"corpus callosum, anterior forceps\", \"corpus callosum, posterior forceps\", \"Primary somatosensory area, trunk, layer 1\", \"Primary somatosensory area, trunk, layer 2/3\", \"Primary somatosensory area, trunk, layer 4\", \"Primary somatosensory area, trunk, layer 5\", \"Primary somatosensory area, trunk, layer 6a\", \"Primary somatosensory area, trunk, layer 6b\", \"Entorhinal area, lateral part, layer 1\", \"Entorhinal area, lateral part, layer 2\", \"Entorhinal area, lateral part, layer 3\", \"Entorhinal area, lateral part, layer 5\", \"Entorhinal area, lateral part, layer 6a\", \"cerebal peduncle\", \"internal capsule\", \"Primary somatosensory area, unassigned, layer 1\", \"Primary somatosensory area, unassigned, layer 2/3\", \"Primary somatosensory area, unassigned, layer 4\", \"Primary somatosensory area, unassigned, layer 5\", \"Primary somatosensory area, unassigned, layer 6a\", \"Primary somatosensory area, unassigned, layer 6b\", \"Perirhinal area, layer 1\", \"Perirhinal area, layer 2/3\", \"Perirhinal area, layer 5\", \"Perirhinal area, layer 6a\", \"Lateral hypothalamic area\", \"Preparasubthalamic nucleus\", \"Parasubthalamic nucleus\", \"Zona incerta\", \"Postrhinal area, layer 1\", \"Postrhinal area, layer 2/3\", \"Postrhinal area, layer 4\", \"Postrhinal area, layer 5\", \"Postrhinal area, layer 6a\", \"Postrhinal area, layer 6b\", \"supra-callosal cerebral white matter\", \"Primary visual area, layer 1\", \"Primary visual area, layer 2/3\", \"Primary visual area, layer 4\", \"Primary visual area, layer 5\", \"Primary visual area, layer 6a\", \"Primary visual area, layer 6b\", \"Ventral auditory area, layer 1\", \"Ventral auditory area, layer 2/3\", \"Ventral auditory area, layer 4\", \"Ventral auditory area, layer 5\", \"Ventral auditory area, layer 6a\", \"Ventral auditory area, layer 6b\", \"Lateral visual area, layer 1\", \"Lateral visual area, layer 2/3\", \"Lateral visual area, layer 4\", \"Lateral visual area, layer 5\", \"Lateral visual area, layer 6a\", \"Lateral visual area, layer 6b\", \"Anteromedial visual area, layer 1\", \"Anteromedial visual area, layer 2/3\", \"Anteromedial visual area, layer 4\", \"Anteromedial visual area, layer 5\", \"Anteromedial visual area, layer 6a\", \"Anteromedial visual area, layer 6b\", \"Primary auditory area, layer 1\", \"Primary auditory area, layer 2/3\", \"Primary auditory area, layer 4\", \"Primary auditory area, layer 5\", \"Primary auditory area, layer 6a\", \"Primary auditory area, layer 6b\", \"Anterior pretectal nucleus\", \"Medial pretectal area\", \"Nucleus of the optic tract\", \"Nucleus of the posterior commissure\", \"Olivary pretectal nucleus\", \"Posterior pretectal nucleus\", \"Retroparafascicular nucleus\", \"amygdalar capsule\", \"cingulum bundle\", \"Reticular nucleus of the thalamus\", \"Orbital area, ventrolateral part, layer 1\", \"Orbital area, ventrolateral part, layer 2/3\", \"Orbital area, ventrolateral part, layer 5\", \"Orbital area, ventrolateral part, layer 6a\", \"Orbital area, ventrolateral part, layer 6b\", \"Laterointermediate area, layer 1\", \"Laterointermediate area, layer 2/3\", \"Laterointermediate area, layer 4\", \"Laterointermediate area, layer 5\", \"Laterointermediate area, layer 6a\", \"Laterointermediate area, layer 6b\", \"Ethmoid nucleus of the thalamus\", \"Lateral posterior nucleus of the thalamus\", \"Posterior complex of the thalamus\", \"Posterior limiting nucleus of the thalamus\", \"Suprageniculate nucleus\", \"Visceral area, layer 1\", \"Visceral area, layer 2/3\", \"Visceral area, layer 4\", \"Visceral area, layer 5\", \"Visceral area, layer 6a\", \"Visceral area, layer 6b\", \"Accessory trigeminal nucleus\", \"Intertrigeminal nucleus\", \"Peritrigeminal zone\", \"Parvicellular motor 5 nucleus\", \"Pontine central gray\", \"Pontine gray\", \"Pontine reticular nucleus, caudal part\", \"Supratrigeminal nucleus\", \"Tegmental reticular nucleus\", \"Motor nucleus of trigeminal\", \"posteromedial visual area, layer 1\", \"posteromedial visual area, layer 2/3\", \"posteromedial visual area, layer 4\", \"posteromedial visual area, layer 5\", \"posteromedial visual area, layer 6a\", \"posteromedial visual area, layer 6b\", \"Prelimbic area, layer 2/3\", \"Prelimbic area, layer 5\", \"Prelimbic area, layer 6a\", \"Prelimbic area, layer 6b\", \"Posterior auditory area, layer 1\", \"Posterior auditory area, layer 2/3\", \"Posterior auditory area, layer 4\", \"Posterior auditory area, layer 5\", \"Posterior auditory area, layer 6a\", \"Posterior auditory area, layer 6b\", \"Ventral posterolateral nucleus of the thalamus\", \"Ventral posterolateral nucleus of the thalamus, parvicellular part\", \"Ventral posteromedial nucleus of the thalamus\", \"Ventral posteromedial nucleus of the thalamus, parvicellular part\", \"Hypothalamus\", \"Thalamus\", \"Medulla\", \"Pons\", \"Medial geniculate complex, dorsal part\", \"Medial geniculate complex, medial part\", \"Medial geniculate complex, ventral part\", \"Intergeniculate leaflet of the lateral geniculate complex\", \"Intermediate geniculate nucleus\", \"Ventral part of the lateral geniculate complex\", \"Subgeniculate nucleus\", \"Field CA1\", \"Field CA2\", \"Field CA3\", \"Posterior triangular thalamic nucleus\", \"Ventral anterior-lateral complex of the thalamus\", \"Ventral medial nucleus of the thalamus\", \"Agranular insular area, posterior part, layer 1\", \"Agranular insular area, posterior part, layer 2/3\", \"Agranular insular area, posterior part, layer 5\", \"Agranular insular area, posterior part, layer 6a\", \"Agranular insular area, posterior part, layer 6b\", \"Anterior olfactory nucleus\", \"Dorsal peduncular area\", \"Piriform area\", \"Postpiriform transition area\", \"Central lateral nucleus of the thalamus\", \"Central medial nucleus of the thalamus\", \"Paracentral nucleus\", \"Parafascicular nucleus\", \"Posterior intralaminar thalamic nucleus\", \"Retrosplenial area, ventral part, layer 1\", \"Retrosplenial area, ventral part, layer 2/3\", \"Retrosplenial area, ventral part, layer 5\", \"Retrosplenial area, ventral part, layer 6a\", \"Retrosplenial area, ventral part, layer 6b\", \"Nucleus of the lateral lemniscus\", \"Parabrachial nucleus\", \"Principal sensory nucleus of the trigeminal\", \"Inferior colliculus, central nucleus\", \"Inferior colliculus, dorsal nucleus\", \"Inferior colliculus, external nucleus\", \"fiber tracts\", \"Retrosplenial area, dorsal part, layer 1\", \"Retrosplenial area, dorsal part, layer 2/3\", \"Retrosplenial area, dorsal part, layer 5\", \"Retrosplenial area, dorsal part, layer 6a\", \"Retrosplenial area, dorsal part, layer 6b\", \"Primary somatosensory area, nose, layer 1\", \"Primary somatosensory area, nose, layer 2/3\", \"Primary somatosensory area, nose, layer 4\", \"Primary somatosensory area, nose, layer 5\", \"Primary somatosensory area, nose, layer 6a\", \"Primary somatosensory area, nose, layer 6b\", \"Retrosplenial area, lateral agranular part, layer 1\", \"Retrosplenial area, lateral agranular part, layer 2/3\", \"Retrosplenial area, lateral agranular part, layer 5\", \"Retrosplenial area, lateral agranular part, layer 6a\", \"Retrosplenial area, lateral agranular part, layer 6b\", \"Peripeduncular nucleus\", \"Orbital area, medial part, layer 1\", \"Orbital area, medial part, layer 2/3\", \"Orbital area, medial part, layer 5\", \"Orbital area, medial part, layer 6a\", \"Dorsal part of the lateral geniculate complex, core\", \"Dorsal part of the lateral geniculate complex, ipsilateral zone\", \"Dorsal part of the lateral geniculate complex, shell\", \"alveus\", \"dorsal fornix\", \"fimbria\", \"medial lemniscus\", \"Frontal pole, layer 2/3\", \"Frontal pole, layer 5\", \"Frontal pole, layer 6a\", \"Gigantocellular reticular nucleus\", \"Infracerebellar nucleus\", \"Intermediate reticular nucleus\", \"Parvicellular reticular nucleus\", \"external capsule\", \"rubrospinal tract\", \"Lateral vestibular nucleus\", \"Medial vestibular nucleus\", \"Spinal vestibular nucleus\", \"Superior vestibular nucleus\", \"Globus pallidus, external segment\", \"Globus pallidus, internal segment\", \"Fields of Forel\", \"Nucleus accumbens\", \"Primary somatosensory area, mouth, layer 1\", \"Primary somatosensory area, mouth, layer 2/3\", \"Primary somatosensory area, mouth, layer 4\", \"Primary somatosensory area, mouth, layer 5\", \"Primary somatosensory area, mouth, layer 6a\", \"Primary somatosensory area, mouth, layer 6b\", \"Pedunculopontine nucleus\", \"Substantia nigra, compact part\", \"Hippocampal formation\", \"Olfactory areas\", \"Nucleus of the brachium of the inferior colliculus\", \"Parabigeminal nucleus\", \"Nucleus sagulum\", \"Posterolateral visual area, layer 1\", \"Posterolateral visual area, layer 2/3\", \"Posterolateral visual area, layer 4\", \"Posterolateral visual area, layer 5\", \"Spinal nucleus of the trigeminal, interpolar part\", \"Spinal nucleus of the trigeminal, oral part\", \"Lateral dorsal nucleus of thalamus\", \"Subparafascicular nucleus, magnocellular part\", \"Subparafascicular nucleus, parvicellular part\", \"Pallidum\", \"Striatum\", \"Endopiriform nucleus, dorsal part\", \"Endopiriform nucleus, ventral part\", \"Dentate gyrus, molecular layer\", \"Dentate gyrus, polymorph layer\", \"inferior cerebellar peduncle\", \"middle cerebellar peduncle\", \"superior cerebelar peduncles\", \"Infralimbic area, layer 2/3\", \"Infralimbic area, layer 5\", \"Infralimbic area, layer 6a\", \"arbor vitae\", \"Agranular insular area, ventral part, layer 1\", \"Agranular insular area, ventral part, layer 2/3\", \"Agranular insular area, ventral part, layer 5\", \"Agranular insular area, ventral part, layer 6a\", \"Area prostriata\", \"Postsubiculum\", \"Presubiculum\", \"Prosubiculum\", \"Subiculum\", \"Koelliker-Fuse subnucleus\", \"spinal tract of the trigeminal nerve\", \"Central amygdalar nucleus, capsular part\", \"Central amygdalar nucleus, lateral part\", \"dorsal hippocampal commissure\", \"Lobules IV-V\", \"Claustrum\", \"Lateral amygdalar nucleus\", \"brachium of the superior colliculus\", \"optic tract\", \"Dorsal cochlear nucleus\", \"Ventral cochlear nucleus\", \"brachium of the inferior colliculus\", \"dorsal acoustic stria\", \"lateral lemniscus\", \"Dentate nucleus\", \"Fastigial nucleus\", \"Interposed nucleus\", \"Vestibulocerebellar nucleus\", \"Taenia tecta, dorsal part\", \"Basolateral amygdalar nucleus, anterior part\", \"Basolateral amygdalar nucleus, posterior part\", \"Superior colliculus, optic layer\", \"Superior colliculus, superficial gray layer\", \"Superior colliculus, zonal layer\", \"Interstitial nucleus of Cajal\", \"Cerebellum\", \"Paragigantocellular reticular nucleus, dorsal part\", \"Septohippocampal nucleus\", \"Agranular insular area, dorsal part, layer 1\", \"Agranular insular area, dorsal part, layer 2/3\", \"Agranular insular area, dorsal part, layer 5\", \"Agranular insular area, dorsal part, layer 6a\", \"Agranular insular area, dorsal part, layer 6b\", \"anterior commissure, olfactory limb\", \"vestibular nerve\", \"Anterior cingulate area, ventral part, layer 2/3\", \"Anterior cingulate area, ventral part, layer 5\", \"Anterior cingulate area, ventral part, 6a\", \"Anterior cingulate area, ventral part, 6b\", \"Lobule II\", \"Lobule III\", \"Gustatory areas, layer 2/3\", \"Gustatory areas, layer 4\", \"Gustatory areas, layer 5\", \"Gustatory areas, layer 6a\", \"external medullary lamina of the thalamus\", \"cerebral aqueduct\", \"Copula pyramidis\", \"Flocculus\", \"Paramedian lobule\", \"Simple lobule\", \"Cortical subplate\", \"Lateral septal nucleus, caudal (caudodorsal) part\", \"Lateral septal nucleus, rostral (rostroventral) part\", \"Entorhinal area, medial part, dorsal zone, layer 1\", \"Entorhinal area, medial part, dorsal zone, layer 2\", \"Entorhinal area, medial part, dorsal zone, layer 5\", \"Entorhinal area, medial part, dorsal zone, layer 6\", \"oculomotor nerve\", \"trochlear nerve\", \"facial nerve\", \"ventral spinocerebellar tract\", \"uncinate fascicle\", \"genu of the facial nerve\", \"sensory root of the trigeminal nerve\", \"Mediodorsal nucleus of thalamus\", \"Submedial nucleus of the thalamus\", \"Bed nuclei of the stria terminalis\", \"lateral recess\", \"Medial amygdalar nucleus\", \"Crus 1\", \"Crus 2\", \"choroid plexus\", \"Anterodorsal preoptic nucleus\", \"crossed tectospinal pathway\", \"Declive (VI)\", \"Nodulus (X)\", \"Substantia innominata\", \"corticospinal tract\", \"nigrostriatal tract\", \"columns of the fornix\", \"root\"], \"type\": \"bar\", \"x\": [249.936, 1267.609, 663.827, 472.543, 8.858, 1733.775, 43.716, 360.562, 143.455, 149.758, 222.562, 35.744, 116.245, 14.513, 317.823, 364.114, 59.887, 243.187, 60.882, 134.861, 127.863, 16.104, 62.657, 170.11, 70.373, 292.074, 26.706, 73.228, 200.111, 63.208, 183.737, 69.534, 8.259, 3.595, 118.972, 103.694, 75.879, 1.134, 38.444, 149.804, 24.202, 44.675, 39.906, 4.495, 72.456, 128.195, 81.608, 15.942, 0.926, 291.662, 0.022, 5.263, 0.049, 10.838, 198.912, 36.007, 21.608, 2.721, 12.08, 0.731, 287.591, 42.162, 115.054, 11.048, 21.43, 81.29, 13.95, 284.697, 20.381, 107.975, 36.932, 64.251, 36.185, 4.099, 60.126, 97.048, 25.283, 47.94, 29.271, 4.061, 23.272, 30.63, 2.589, 13.112, 165.525, 25.675, 2.391, 93.798, 132.91, 19.573, 4.134, 37.914, 90.522, 14.371, 43.019, 38.708, 8.106, 99.583, 8.845, 47.265, 1.249, 19.593, 27.233, 21.609, 71.367, 9.521, 23.824, 62.216, 5.244, 26.362, 74.692, 57.27, 22.727, 3.411, 111.972, 67.528, 14.554, 78.235, 9.6, 15.918, 28.831, 3.387, 54.779, 79.955, 13.98, 0.885, 0.17, 0.649, 0.099, 141.411, 29.661, 67.308, 4.083, 36.222, 3.328, 0.247, 132.554, 58.839, 49.262, 4.447, 4.349, 4.53, 0.775, 13.429, 33.499, 7.963, 31.487, 23.552, 4.006, 45.444, 33.873, 7.196, 17.125, 9.489, 0.251, 38.244, 58.175, 3.715, 4.284, 5.466, 2.103, 22.825, 26.18, 4.015, 19.667, 24.716, 6.474, 93.67, 0.229, 0.012, 0.306, 0.016, 3.924, 0.029, 0.277, 97.745, 97.048, 0.567, 24.241, 54.589, 6.19, 0.18, 19.723, 23.77, 8.255, 23.701, 6.64, 1.371, 5.603, 25.591, 17.36, 20.968, 10.78, 10.562, 28.96, 7.29, 17.445, 8.972, 0.642, 0.036, 0.005, 5.651, 1.071, 0.356, 0.565, 56.583, 0.072, 2.414, 2.021, 22.11, 31.674, 1.298, 1.144, 2.258, 0.544, 4.185, 25.542, 27.714, 0.606, 12.004, 8.243, 2.699, 17.348, 10.13, 2.589, 21.102, 4.443, 17.515, 4.255, 2.067, 44.059, 2.984, 43.033, 4.427, 21.727, 19.077, 0.638, 1.621, 19.595, 22.582, 37.986, 1.062, 3.289, 18.462, 7.043, 16.181, 0.491, 21.159, 14.704, 2.684, 0.022, 0.178, 3.528, 32.971, 0.532, 0.066, 0.007, 1.494, 0.276, 34.153, 0.888, 12.571, 13.575, 5.836, 0.206, 4.789, 14.403, 11.718, 1.49, 0.834, 27.599, 29.756, 0.211, 13.488, 8.611, 5.609, 0.453, 10.686, 14.051, 0.428, 0.172, 0.902, 0.169, 4.683, 7.399, 0.536, 13.205, 0.47, 25.72, 0.597, 0.718, 14.469, 3.332, 11.471, 2.739, 2.75, 15.033, 0.011, 0.005, 14.339, 0.09, 11.097, 2.888, 5.788, 0.377, 6.359, 1.311, 12.056, 11.367, 0.013, 9.785, 0.197, 0.664, 10.007, 0.025, 9.475, 8.345, 0.308, 1.441, 0.815, 0.451, 4.335, 0.801, 7.959, 0.01, 0.08, 7.623, 0.476, 4.495, 2.558, 3.827, 3.357, 0.261, 0.054, 0.642, 6.81, 6.812, 0.351, 5.789, 0.029, 6.054, 5.298, 0.709, 4.976, 0.003, 0.829, 1.981, 1.813, 0.159, 3.245, 1.215, 4.019, 0.062, 2.171, 1.381, 0.332, 0.166, 0.043, 2.781, 0.138, 0.509, 3.269, 3.072, 2.825, 0.186, 2.746, 2.67, 1.127, 1.229, 1.97, 0.072, 0.304, 1.629, 0.684, 0.05, 1.177, 0.001, 0.029, 1.818, 0.021, 1.837, 1.254, 0.53, 0.674, 0.118, 0.699, 1.372, 1.326, 1.284, 1.059, 0.017, 0.67, 0.181, 0.162, 0.011, 1.006, 0.933, 0.149, 0.009, 0.742, 0.007, 0.183, 0.604, 0.377, 0.053, 0.207, 0.03, 0.655, 0.643, 0.013, 0.493, 0.007, 0.087, 0.586, 0.385, 0.078, 0.401, 0.028, 0.007, 0.001, 0.016, 0.04, 0.365, 0.063, 0.229, 0.24, 0.218, 0.063, 0.083, 0.127, 0.106, 0.055, 0.048, 0.001, 0.026, 0.012, 0.01, 0.003, 0.006, 0.008, 0.007, 0.001, 0.001, 31.152], \"y\": [\"MOs1\", \"MOs2/3\", \"MOs5\", \"MOs6a\", \"MOs6b\", \"CP\", \"SSp-bfd1\", \"SSp-bfd2/3\", \"SSp-bfd4\", \"SSp-bfd5\", \"SSp-bfd6a\", \"SSp-bfd6b\", \"SCdg\", \"SCdw\", \"SCig\", \"SCiw\", \"SSs1\", \"SSs2/3\", \"SSs4\", \"SSs5\", \"SSs6a\", \"SSs6b\", \"MOp1\", \"MOp2/3\", \"MOp5\", \"MOp6a\", \"MOp6b\", \"TEa1\", \"TEa2/3\", \"TEa4\", \"TEa5\", \"TEa6a\", \"TEa6b\", \"ACAd1\", \"ACAd2/3\", \"ACAd5\", \"ACAd6a\", \"ACAd6b\", \"VISa1\", \"VISa2/3\", \"VISa4\", \"VISa5\", \"VISa6a\", \"VISa6b\", \"ECT1\", \"ECT2/3\", \"ECT5\", \"ECT6a\", \"ECT6b\", \"PRNr\", \"SLD\", \"CUN\", \"DT\", \"LT\", \"MRN\", \"PAG\", \"RN\", \"RR\", \"SNr\", \"VTA\", \"MB\", \"SSp-ul1\", \"SSp-ul2/3\", \"SSp-ul4\", \"SSp-ul5\", \"SSp-ul6a\", \"SSp-ul6b\", \"stc\", \"VISrl1\", \"VISrl2/3\", \"VISrl4\", \"VISrl5\", \"VISrl6a\", \"VISrl6b\", \"VISal1\", \"VISal2/3\", \"VISal4\", \"VISal5\", \"VISal6a\", \"VISal6b\", \"SSp-ll1\", \"SSp-ll2/3\", \"SSp-ll4\", \"SSp-ll5\", \"SSp-ll6a\", \"SSp-ll6b\", \"ORBl1\", \"ORBl2/3\", \"ORBl5\", \"ORBl6a\", \"ORBl6b\", \"AUDd1\", \"AUDd2/3\", \"AUDd4\", \"AUDd5\", \"AUDd6a\", \"AUDd6b\", \"ccb\", \"ccg\", \"ccs\", \"ee\", \"fa\", \"fp\", \"SSp-tr1\", \"SSp-tr2/3\", \"SSp-tr4\", \"SSp-tr5\", \"SSp-tr6a\", \"SSp-tr6b\", \"ENTl1\", \"ENTl2\", \"ENTl3\", \"ENTl5\", \"ENTl6a\", \"cpd\", \"int\", \"SSp-un1\", \"SSp-un2/3\", \"SSp-un4\", \"SSp-un5\", \"SSp-un6a\", \"SSp-un6b\", \"PERI1\", \"PERI2/3\", \"PERI5\", \"PERI6a\", \"LHA\", \"PST\", \"PSTN\", \"ZI\", \"VISpor1\", \"VISpor2/3\", \"VISpor4\", \"VISpor5\", \"VISpor6a\", \"VISpor6b\", \"scwm\", \"VISp1\", \"VISp2/3\", \"VISp4\", \"VISp5\", \"VISp6a\", \"VISp6b\", \"AUDv1\", \"AUDv2/3\", \"AUDv4\", \"AUDv5\", \"AUDv6a\", \"AUDv6b\", \"VISl1\", \"VISl2/3\", \"VISl4\", \"VISl5\", \"VISl6a\", \"VISl6b\", \"VISam1\", \"VISam2/3\", \"VISam4\", \"VISam5\", \"VISam6a\", \"VISam6b\", \"AUDp1\", \"AUDp2/3\", \"AUDp4\", \"AUDp5\", \"AUDp6a\", \"AUDp6b\", \"APN\", \"MPT\", \"NOT\", \"NPC\", \"OP\", \"PPT\", \"RPF\", \"amc\", \"cing\", \"RT\", \"ORBvl1\", \"ORBvl2/3\", \"ORBvl5\", \"ORBvl6a\", \"ORBvl6b\", \"VISli1\", \"VISli2/3\", \"VISli4\", \"VISli5\", \"VISli6a\", \"VISli6b\", \"Eth\", \"LP\", \"PO\", \"POL\", \"SGN\", \"VISC1\", \"VISC2/3\", \"VISC4\", \"VISC5\", \"VISC6a\", \"VISC6b\", \"Acs5\", \"I5\", \"P5\", \"PC5\", \"PCG\", \"PG\", \"PRNc\", \"SUT\", \"TRN\", \"V\", \"VISpm1\", \"VISpm2/3\", \"VISpm4\", \"VISpm5\", \"VISpm6a\", \"VISpm6b\", \"PL2/3\", \"PL5\", \"PL6a\", \"PL6b\", \"AUDpo1\", \"AUDpo2/3\", \"AUDpo4\", \"AUDpo5\", \"AUDpo6a\", \"AUDpo6b\", \"VPL\", \"VPLpc\", \"VPM\", \"VPMpc\", \"HY\", \"TH\", \"MY\", \"P\", \"MGd\", \"MGm\", \"MGv\", \"IGL\", \"IntG\", \"LGv\", \"SubG\", \"CA1\", \"CA2\", \"CA3\", \"PoT\", \"VAL\", \"VM\", \"AIp1\", \"AIp2/3\", \"AIp5\", \"AIp6a\", \"AIp6b\", \"AON\", \"DP\", \"PIR\", \"TR\", \"CL\", \"CM\", \"PCN\", \"PF\", \"PIL\", \"RSPv1\", \"RSPv2/3\", \"RSPv5\", \"RSPv6a\", \"RSPv6b\", \"NLL\", \"PB\", \"PSV\", \"ICc\", \"ICd\", \"ICe\", \"fiber tracts\", \"RSPd1\", \"RSPd2/3\", \"RSPd5\", \"RSPd6a\", \"RSPd6b\", \"SSp-n1\", \"SSp-n2/3\", \"SSp-n4\", \"SSp-n5\", \"SSp-n6a\", \"SSp-n6b\", \"RSPagl1\", \"RSPagl2/3\", \"RSPagl5\", \"RSPagl6a\", \"RSPagl6b\", \"PP\", \"ORBm1\", \"ORBm2/3\", \"ORBm5\", \"ORBm6a\", \"LGd-co\", \"LGd-ip\", \"LGd-sh\", \"alv\", \"df\", \"fi\", \"ml\", \"FRP2/3\", \"FRP5\", \"FRP6a\", \"GRN\", \"ICB\", \"IRN\", \"PARN\", \"ec\", \"rust\", \"LAV\", \"MV\", \"SPIV\", \"SUV\", \"GPe\", \"GPi\", \"FF\", \"ACB\", \"SSp-m1\", \"SSp-m2/3\", \"SSp-m4\", \"SSp-m5\", \"SSp-m6a\", \"SSp-m6b\", \"PPN\", \"SNc\", \"HPF\", \"OLF\", \"NB\", \"PBG\", \"SAG\", \"VISpl1\", \"VISpl2/3\", \"VISpl4\", \"VISpl5\", \"SPVI\", \"SPVO\", \"LD\", \"SPFm\", \"SPFp\", \"PAL\", \"STR\", \"EPd\", \"EPv\", \"DG-mo\", \"DG-po\", \"icp\", \"mcp\", \"scp\", \"ILA2/3\", \"ILA5\", \"ILA6a\", \"arb\", \"AIv1\", \"AIv2/3\", \"AIv5\", \"AIv6a\", \"APr\", \"POST\", \"PRE\", \"ProS\", \"SUB\", \"KF\", \"sptV\", \"CEAc\", \"CEAl\", \"dhc\", \"CUL4, 5\", \"CLA\", \"LA\", \"bsc\", \"opt\", \"DCO\", \"VCO\", \"bic\", \"das\", \"ll\", \"DN\", \"FN\", \"IP\", \"VeCB\", \"TTd\", \"BLAa\", \"BLAp\", \"SCop\", \"SCsg\", \"SCzo\", \"INC\", \"CB\", \"PGRNd\", \"SH\", \"AId1\", \"AId2/3\", \"AId5\", \"AId6a\", \"AId6b\", \"aco\", \"vVIIIn\", \"ACAv2/3\", \"ACAv5\", \"ACAv6a\", \"ACAv6b\", \"CENT2\", \"CENT3\", \"GU2/3\", \"GU4\", \"GU5\", \"GU6a\", \"em\", \"AQ\", \"COPY\", \"FL\", \"PRM\", \"SIM\", \"CTXsp\", \"LSc\", \"LSr\", \"ENTm1\", \"ENTm2\", \"ENTm5\", \"ENTm6\", \"IIIn\", \"IVn\", \"VIIn\", \"sctv\", \"uf\", \"gVIIn\", \"sV\", \"MD\", \"SMT\", \"BST\", \"V4r\", \"MEA\", \"ANcr1\", \"ANcr2\", \"chpl\", \"ADP\", \"tspc\", \"DEC\", \"NOD\", \"SI\", \"cst\", \"nst\", \"fx\", \"root\"]}],                        {\"height\": 1500, \"paper_bgcolor\": \"rgba(0,0,0,0)\", \"plot_bgcolor\": \"rgba(0,0,0,0)\", \"showlegend\": false, \"template\": {\"data\": {\"bar\": [{\"error_x\": {\"color\": \"#2a3f5f\"}, \"error_y\": {\"color\": \"#2a3f5f\"}, \"marker\": {\"line\": {\"color\": \"#E5ECF6\", \"width\": 0.5}}, \"type\": \"bar\"}], \"barpolar\": [{\"marker\": {\"line\": {\"color\": \"#E5ECF6\", \"width\": 0.5}}, \"type\": \"barpolar\"}], \"carpet\": [{\"aaxis\": {\"endlinecolor\": \"#2a3f5f\", \"gridcolor\": \"white\", \"linecolor\": \"white\", \"minorgridcolor\": \"white\", \"startlinecolor\": \"#2a3f5f\"}, \"baxis\": {\"endlinecolor\": \"#2a3f5f\", \"gridcolor\": \"white\", \"linecolor\": \"white\", \"minorgridcolor\": \"white\", \"startlinecolor\": \"#2a3f5f\"}, \"type\": \"carpet\"}], \"choropleth\": [{\"colorbar\": {\"outlinewidth\": 0, \"ticks\": \"\"}, \"type\": \"choropleth\"}], \"contour\": [{\"colorbar\": {\"outlinewidth\": 0, \"ticks\": \"\"}, \"colorscale\": [[0.0, \"#0d0887\"], [0.1111111111111111, \"#46039f\"], [0.2222222222222222, \"#7201a8\"], [0.3333333333333333, \"#9c179e\"], [0.4444444444444444, \"#bd3786\"], [0.5555555555555556, \"#d8576b\"], [0.6666666666666666, \"#ed7953\"], [0.7777777777777778, \"#fb9f3a\"], [0.8888888888888888, \"#fdca26\"], [1.0, \"#f0f921\"]], \"type\": \"contour\"}], \"contourcarpet\": [{\"colorbar\": {\"outlinewidth\": 0, \"ticks\": \"\"}, \"type\": \"contourcarpet\"}], \"heatmap\": [{\"colorbar\": {\"outlinewidth\": 0, \"ticks\": \"\"}, \"colorscale\": [[0.0, \"#0d0887\"], [0.1111111111111111, \"#46039f\"], [0.2222222222222222, \"#7201a8\"], [0.3333333333333333, \"#9c179e\"], [0.4444444444444444, \"#bd3786\"], [0.5555555555555556, \"#d8576b\"], [0.6666666666666666, \"#ed7953\"], [0.7777777777777778, \"#fb9f3a\"], [0.8888888888888888, \"#fdca26\"], [1.0, \"#f0f921\"]], \"type\": \"heatmap\"}], \"heatmapgl\": [{\"colorbar\": {\"outlinewidth\": 0, \"ticks\": \"\"}, \"colorscale\": [[0.0, \"#0d0887\"], [0.1111111111111111, \"#46039f\"], [0.2222222222222222, \"#7201a8\"], [0.3333333333333333, \"#9c179e\"], [0.4444444444444444, \"#bd3786\"], [0.5555555555555556, \"#d8576b\"], [0.6666666666666666, \"#ed7953\"], [0.7777777777777778, \"#fb9f3a\"], [0.8888888888888888, \"#fdca26\"], [1.0, \"#f0f921\"]], \"type\": \"heatmapgl\"}], \"histogram\": [{\"marker\": {\"colorbar\": {\"outlinewidth\": 0, \"ticks\": \"\"}}, \"type\": \"histogram\"}], \"histogram2d\": [{\"colorbar\": {\"outlinewidth\": 0, \"ticks\": \"\"}, \"colorscale\": [[0.0, \"#0d0887\"], [0.1111111111111111, \"#46039f\"], [0.2222222222222222, \"#7201a8\"], [0.3333333333333333, \"#9c179e\"], [0.4444444444444444, \"#bd3786\"], [0.5555555555555556, \"#d8576b\"], [0.6666666666666666, \"#ed7953\"], [0.7777777777777778, \"#fb9f3a\"], [0.8888888888888888, \"#fdca26\"], [1.0, \"#f0f921\"]], \"type\": \"histogram2d\"}], \"histogram2dcontour\": [{\"colorbar\": {\"outlinewidth\": 0, \"ticks\": \"\"}, \"colorscale\": [[0.0, \"#0d0887\"], [0.1111111111111111, \"#46039f\"], [0.2222222222222222, \"#7201a8\"], [0.3333333333333333, \"#9c179e\"], [0.4444444444444444, \"#bd3786\"], [0.5555555555555556, \"#d8576b\"], [0.6666666666666666, \"#ed7953\"], [0.7777777777777778, \"#fb9f3a\"], [0.8888888888888888, \"#fdca26\"], [1.0, \"#f0f921\"]], \"type\": \"histogram2dcontour\"}], \"mesh3d\": [{\"colorbar\": {\"outlinewidth\": 0, \"ticks\": \"\"}, \"type\": \"mesh3d\"}], \"parcoords\": [{\"line\": {\"colorbar\": {\"outlinewidth\": 0, \"ticks\": \"\"}}, \"type\": \"parcoords\"}], \"pie\": [{\"automargin\": true, \"type\": \"pie\"}], \"scatter\": [{\"marker\": {\"colorbar\": {\"outlinewidth\": 0, \"ticks\": \"\"}}, \"type\": \"scatter\"}], \"scatter3d\": [{\"line\": {\"colorbar\": {\"outlinewidth\": 0, \"ticks\": \"\"}}, \"marker\": {\"colorbar\": {\"outlinewidth\": 0, \"ticks\": \"\"}}, \"type\": \"scatter3d\"}], \"scattercarpet\": [{\"marker\": {\"colorbar\": {\"outlinewidth\": 0, \"ticks\": \"\"}}, \"type\": \"scattercarpet\"}], \"scattergeo\": [{\"marker\": {\"colorbar\": {\"outlinewidth\": 0, \"ticks\": \"\"}}, \"type\": \"scattergeo\"}], \"scattergl\": [{\"marker\": {\"colorbar\": {\"outlinewidth\": 0, \"ticks\": \"\"}}, \"type\": \"scattergl\"}], \"scattermapbox\": [{\"marker\": {\"colorbar\": {\"outlinewidth\": 0, \"ticks\": \"\"}}, \"type\": \"scattermapbox\"}], \"scatterpolar\": [{\"marker\": {\"colorbar\": {\"outlinewidth\": 0, \"ticks\": \"\"}}, \"type\": \"scatterpolar\"}], \"scatterpolargl\": [{\"marker\": {\"colorbar\": {\"outlinewidth\": 0, \"ticks\": \"\"}}, \"type\": \"scatterpolargl\"}], \"scatterternary\": [{\"marker\": {\"colorbar\": {\"outlinewidth\": 0, \"ticks\": \"\"}}, \"type\": \"scatterternary\"}], \"surface\": [{\"colorbar\": {\"outlinewidth\": 0, \"ticks\": \"\"}, \"colorscale\": [[0.0, \"#0d0887\"], [0.1111111111111111, \"#46039f\"], [0.2222222222222222, \"#7201a8\"], [0.3333333333333333, \"#9c179e\"], [0.4444444444444444, \"#bd3786\"], [0.5555555555555556, \"#d8576b\"], [0.6666666666666666, \"#ed7953\"], [0.7777777777777778, \"#fb9f3a\"], [0.8888888888888888, \"#fdca26\"], [1.0, \"#f0f921\"]], \"type\": \"surface\"}], \"table\": [{\"cells\": {\"fill\": {\"color\": \"#EBF0F8\"}, \"line\": {\"color\": \"white\"}}, \"header\": {\"fill\": {\"color\": \"#C8D4E3\"}, \"line\": {\"color\": \"white\"}}, \"type\": \"table\"}]}, \"layout\": {\"annotationdefaults\": {\"arrowcolor\": \"#2a3f5f\", \"arrowhead\": 0, \"arrowwidth\": 1}, \"autotypenumbers\": \"strict\", \"coloraxis\": {\"colorbar\": {\"outlinewidth\": 0, \"ticks\": \"\"}}, \"colorscale\": {\"diverging\": [[0, \"#8e0152\"], [0.1, \"#c51b7d\"], [0.2, \"#de77ae\"], [0.3, \"#f1b6da\"], [0.4, \"#fde0ef\"], [0.5, \"#f7f7f7\"], [0.6, \"#e6f5d0\"], [0.7, \"#b8e186\"], [0.8, \"#7fbc41\"], [0.9, \"#4d9221\"], [1, \"#276419\"]], \"sequential\": [[0.0, \"#0d0887\"], [0.1111111111111111, \"#46039f\"], [0.2222222222222222, \"#7201a8\"], [0.3333333333333333, \"#9c179e\"], [0.4444444444444444, \"#bd3786\"], [0.5555555555555556, \"#d8576b\"], [0.6666666666666666, \"#ed7953\"], [0.7777777777777778, \"#fb9f3a\"], [0.8888888888888888, \"#fdca26\"], [1.0, \"#f0f921\"]], \"sequentialminus\": [[0.0, \"#0d0887\"], [0.1111111111111111, \"#46039f\"], [0.2222222222222222, \"#7201a8\"], [0.3333333333333333, \"#9c179e\"], [0.4444444444444444, \"#bd3786\"], [0.5555555555555556, \"#d8576b\"], [0.6666666666666666, \"#ed7953\"], [0.7777777777777778, \"#fb9f3a\"], [0.8888888888888888, \"#fdca26\"], [1.0, \"#f0f921\"]]}, \"colorway\": [\"#636efa\", \"#EF553B\", \"#00cc96\", \"#ab63fa\", \"#FFA15A\", \"#19d3f3\", \"#FF6692\", \"#B6E880\", \"#FF97FF\", \"#FECB52\"], \"font\": {\"color\": \"#2a3f5f\"}, \"geo\": {\"bgcolor\": \"white\", \"lakecolor\": \"white\", \"landcolor\": \"#E5ECF6\", \"showlakes\": true, \"showland\": true, \"subunitcolor\": \"white\"}, \"hoverlabel\": {\"align\": \"left\"}, \"hovermode\": \"closest\", \"mapbox\": {\"style\": \"light\"}, \"paper_bgcolor\": \"white\", \"plot_bgcolor\": \"#E5ECF6\", \"polar\": {\"angularaxis\": {\"gridcolor\": \"white\", \"linecolor\": \"white\", \"ticks\": \"\"}, \"bgcolor\": \"#E5ECF6\", \"radialaxis\": {\"gridcolor\": \"white\", \"linecolor\": \"white\", \"ticks\": \"\"}}, \"scene\": {\"xaxis\": {\"backgroundcolor\": \"#E5ECF6\", \"gridcolor\": \"white\", \"gridwidth\": 2, \"linecolor\": \"white\", \"showbackground\": true, \"ticks\": \"\", \"zerolinecolor\": \"white\"}, \"yaxis\": {\"backgroundcolor\": \"#E5ECF6\", \"gridcolor\": \"white\", \"gridwidth\": 2, \"linecolor\": \"white\", \"showbackground\": true, \"ticks\": \"\", \"zerolinecolor\": \"white\"}, \"zaxis\": {\"backgroundcolor\": \"#E5ECF6\", \"gridcolor\": \"white\", \"gridwidth\": 2, \"linecolor\": \"white\", \"showbackground\": true, \"ticks\": \"\", \"zerolinecolor\": \"white\"}}, \"shapedefaults\": {\"line\": {\"color\": \"#2a3f5f\"}}, \"ternary\": {\"aaxis\": {\"gridcolor\": \"white\", \"linecolor\": \"white\", \"ticks\": \"\"}, \"baxis\": {\"gridcolor\": \"white\", \"linecolor\": \"white\", \"ticks\": \"\"}, \"bgcolor\": \"#E5ECF6\", \"caxis\": {\"gridcolor\": \"white\", \"linecolor\": \"white\", \"ticks\": \"\"}}, \"title\": {\"x\": 0.05}, \"xaxis\": {\"automargin\": true, \"gridcolor\": \"white\", \"linecolor\": \"white\", \"ticks\": \"\", \"title\": {\"standoff\": 15}, \"zerolinecolor\": \"white\", \"zerolinewidth\": 2}, \"yaxis\": {\"automargin\": true, \"gridcolor\": \"white\", \"linecolor\": \"white\", \"ticks\": \"\", \"title\": {\"standoff\": 15}, \"zerolinecolor\": \"white\", \"zerolinewidth\": 2}}}, \"width\": 2000, \"xaxis\": {\"gridcolor\": \"gold\"}, \"yaxis\": {\"categoryorder\": \"trace\"}},                        {\"responsive\": true}                    ).then(function(){\n",
       "                            \n",
       "var gd = document.getElementById('bbef8071-ee1d-47d5-9569-98d0f864866d');\n",
       "var x = new MutationObserver(function (mutations, observer) {{\n",
       "        var display = window.getComputedStyle(gd).display;\n",
       "        if (!display || display === 'none') {{\n",
       "            console.log([gd, 'removed!']);\n",
       "            Plotly.purge(gd);\n",
       "            observer.disconnect();\n",
       "        }}\n",
       "}});\n",
       "\n",
       "// Listen for the removal of the full notebook cells\n",
       "var notebookContainer = gd.closest('#notebook-container');\n",
       "if (notebookContainer) {{\n",
       "    x.observe(notebookContainer, {childList: true});\n",
       "}}\n",
       "\n",
       "// Listen for the clearing of the current output cell\n",
       "var outputEl = gd.closest('.output');\n",
       "if (outputEl) {{\n",
       "    x.observe(outputEl, {childList: true});\n",
       "}}\n",
       "\n",
       "                        })                };                });            </script>        </div>"
      ]
     },
     "metadata": {},
     "output_type": "display_data"
    }
   ],
   "source": [
    "#plot as histogram and save as .html\n",
    "plot_hist(sorted_pd,'AL211')"
   ]
  },
  {
   "cell_type": "code",
   "execution_count": null,
   "metadata": {},
   "outputs": [],
   "source": [
    "# group item based on parents and save as excel\n",
    "result= parent_df(sorted_pd)\n",
    "result.to_excel(f'{out_name}_parent.xls')  "
   ]
  },
  {
   "cell_type": "markdown",
   "metadata": {},
   "source": [
    "### test area"
   ]
  },
  {
   "cell_type": "code",
   "execution_count": 135,
   "metadata": {},
   "outputs": [],
   "source": [
    "axon_bar=pd.read_excel(this_mouse[0]).sort_values(by=['Total_counts'])\n",
    "new_axonpd= na.atlas_labels.merge(axon_bar, on= 'acronym')\n",
    "new_axonpd.sort_values(by= 'graph_order',axis=0, inplace=True)\n",
    "result= parent_df(new_axonpd)\n",
    "result.to_excel(f'{out_name}_parent.xls')  "
   ]
  },
  {
   "cell_type": "code",
   "execution_count": 154,
   "metadata": {},
   "outputs": [],
   "source": [
    "result= parent_df(sorted_pd)\n"
   ]
  },
  {
   "cell_type": "code",
   "execution_count": 156,
   "metadata": {},
   "outputs": [
    {
     "data": {
      "application/vnd.plotly.v1+json": {
       "config": {
        "plotlyServerURL": "https://plot.ly"
       },
       "data": [
        {
         "hovertemplate": "<i>%{x}</i>, <b>%{text}</b>",
         "marker": {
          "color": "red"
         },
         "name": "",
         "orientation": "h",
         "text": [
          "postcommissural fornix",
          "cerebral nuclei related",
          "lateral forebrain bundle system",
          "Pallidum, ventral region",
          "Vermal regions",
          "tectospinal pathway",
          "Periventricular region",
          "lateral ventricle",
          "Ansiform lobule",
          "Striatum-like amygdalar nuclei",
          "fourth ventricle",
          "Pallidum, caudal region",
          "Medial group of the dorsal thalamus",
          "trigeminal nerve",
          "facial nerve",
          "superior cerebelar peduncles",
          "cranial nerves",
          "Entorhinal area, medial part, dorsal zone",
          "Lateral septal nucleus",
          "Cerebral cortex",
          "Hemispheric regions",
          "ventricular systems",
          "thalamus related",
          "Gustatory areas",
          "Central lobule",
          "Anterior cingulate area, ventral part",
          "vestibulocochlear nerve",
          "olfactory nerve",
          "Agranular insular area, dorsal part",
          "Lateral septal complex",
          "Paragigantocellular reticular nucleus",
          "Basic cell groups and regions",
          "Periaqueductal gray",
          "Superior colliculus, sensory related",
          "Basolateral amygdalar nucleus",
          "Taenia tecta",
          "Cerebellar nuclei",
          "cochlear nerve",
          "Cochlear nuclei",
          "optic nerve",
          "Cortical subplate",
          "Culmen",
          "hippocampal commissures",
          "Central amygdalar nucleus",
          "sensory root of the trigeminal nerve",
          "Parabrachial nucleus",
          "Retrohippocampal region",
          "Agranular insular area, ventral part",
          "cerebellum related fiber tracts",
          "Infralimbic area",
          "cerebellar peduncles",
          "Dentate gyrus",
          "Endopiriform nucleus",
          "Cerebral nuclei",
          "Subparafascicular nucleus",
          "Anterior group of the dorsal thalamus",
          "Medulla, sensory related",
          "Posterolateral visual area",
          "Midbrain, sensory related",
          "Cortical plate",
          "Midbrain, behavioral state related",
          "Primary somatosensory area, mouth",
          "Striatum ventral region",
          "Zona incerta",
          "Pallidum, dorsal region",
          "Vestibular nuclei",
          "extrapyramidal fiber systems",
          "corpus callosum, anterior forceps",
          "Medulla, motor related",
          "Frontal pole, cerebral cortex",
          "cervicothalamic tract",
          "fornix system",
          "Dorsal part of the lateral geniculate complex",
          "Orbital area, medial part",
          "Thalamus, sensory-motor cortex related",
          "Retrosplenial area, lateral agranular part",
          "Primary somatosensory area, nose",
          "Retrosplenial area, dorsal part",
          "root",
          "Inferior colliculus",
          "Pons, sensory related",
          "Retrosplenial area, ventral part",
          "Intralaminar nuclei of the dorsal thalamus",
          "Olfactory areas",
          "Agranular insular area, posterior part",
          "Ventral group of the dorsal thalamus",
          "Ammon's horn",
          "Geniculate group, ventral thalamus",
          "Medial geniculate complex",
          "Hindbrain",
          "Interbrain",
          "Ventral posterior complex of the thalamus",
          "Posterior auditory area",
          "Prelimbic area",
          "posteromedial visual area",
          "Pons, motor related",
          "Visceral area",
          "Lateral group of the dorsal thalamus",
          "Laterointermediate area",
          "Orbital area, ventrolateral part",
          "Thalamus, polymodal association cortex related",
          "cerebrum related",
          "Pretectal region",
          "Primary auditory area",
          "Anteromedial visual area",
          "Lateral visual area",
          "Ventral auditory area",
          "Primary visual area",
          "fiber tracts",
          "Postrhinal area",
          "Hypothalamic lateral zone",
          "Perirhinal area",
          "Primary somatosensory area, unassigned",
          "corticospinal tract",
          "Entorhinal area, lateral part",
          "Primary somatosensory area, trunk",
          "corpus callosum",
          "Dorsal auditory area",
          "Orbital area, lateral part",
          "Primary somatosensory area, lower limb",
          "Anterolateral visual area",
          "Rostrolateral visual area",
          "stria terminalis",
          "Primary somatosensory area, upper limb",
          "Brain stem",
          "Midbrain, motor related",
          "Pons, behavioral state related",
          "Ectorhinal area",
          "Anterior area",
          "Anterior cingulate area, dorsal part",
          "Temporal association areas",
          "Primary motor area",
          "Supplemental somatosensory area",
          "Superior colliculus, motor related",
          "Primary somatosensory area, barrel field",
          "Striatum dorsal region",
          "Secondary motor area"
         ],
         "type": "bar",
         "x": [
          0.001,
          0.001,
          0.007,
          0.008,
          0.009,
          0.01,
          0.012,
          0.026,
          0.049,
          0.055,
          0.106,
          0.127,
          0.146,
          0.218,
          0.24,
          0.292,
          0.421,
          0.437,
          0.463,
          0.586,
          0.6,
          0.643,
          0.655,
          0.667,
          0.787,
          0.907,
          0.933,
          1.006,
          1.041,
          1.059,
          1.284,
          1.326,
          1.372,
          1.491,
          1.784,
          1.837,
          1.869,
          1.911,
          1.933,
          2.042,
          2.356,
          2.67,
          2.746,
          3.011,
          3.072,
          3.269,
          3.637,
          3.946,
          4.019,
          4.619,
          4.623,
          4.979,
          6.007,
          6.083,
          6.14,
          6.812,
          7.452,
          7.499,
          7.529,
          7.703,
          7.969,
          8.151,
          8.345,
          9.475,
          10.032,
          10.659,
          11.367,
          12.056,
          13.835,
          14.075,
          14.339,
          15.049,
          16.96,
          19.116,
          25.72,
          26.293,
          26.408,
          28.372,
          29.756,
          29.923,
          30.91,
          33.076,
          35.996,
          37.209,
          39.06,
          41.686,
          42.337,
          44.436,
          45.231,
          46.017,
          46.126,
          47.315,
          53.013,
          58.047,
          59.028,
          68.774,
          73.871,
          80.302,
          83.46,
          85.767,
          97.048,
          98.022,
          98.186,
          103.877,
          111.987,
          113.378,
          113.936,
          122.202,
          132.554,
          140.849,
          142.329,
          149.599,
          150.525,
          179.5,
          184.462,
          193.781,
          203.768,
          232.64,
          252.806,
          260.803,
          263.729,
          269.823,
          284.697,
          284.934,
          287.591,
          288.209,
          291.684,
          299.127,
          301.526,
          303.274,
          598.077,
          621.92,
          642.784,
          812.695,
          955.797,
          1733.775,
          2662.773
         ],
         "y": [
          "fxpo",
          "epsc",
          "lfbs",
          "PALv",
          "VERM",
          "tsp",
          "PVR",
          "VL",
          "AN",
          "sAMY",
          "V4",
          "PALc",
          "MED",
          "Vn",
          "VIIn",
          "scp",
          "cm",
          "ENTm",
          "LS",
          "CTX",
          "HEM",
          "VS",
          "lfbst",
          "GU",
          "CENT",
          "ACAv",
          "VIIIn",
          "In",
          "AId",
          "LSX",
          "PGRN",
          "grey",
          "PAG",
          "SCs",
          "BLA",
          "TT",
          "CBN",
          "cVIIIn",
          "CN",
          "IIn",
          "CTXsp",
          "CUL",
          "hc",
          "CEA",
          "sV",
          "PB",
          "RHP",
          "AIv",
          "cbf",
          "ILA",
          "cbp",
          "DG",
          "EP",
          "CNU",
          "SPF",
          "ATN",
          "MY-sen",
          "VISpl",
          "MBsen",
          "CTXpl",
          "MBsta",
          "SSp-m",
          "STRv",
          "ZI",
          "PALd",
          "VNC",
          "eps",
          "fa",
          "MY-mot",
          "FRP",
          "cett",
          "fxs",
          "LGd",
          "ORBm",
          "DORsm",
          "RSPagl",
          "SSp-n",
          "RSPd",
          "root",
          "IC",
          "P-sen",
          "RSPv",
          "ILM",
          "OLF",
          "AIp",
          "VENT",
          "CA",
          "GENv",
          "MG",
          "HB",
          "IB",
          "VP",
          "AUDpo",
          "PL",
          "VISpm",
          "P-mot",
          "VISC",
          "LAT",
          "VISli",
          "ORBvl",
          "DORpm",
          "mfbc",
          "PRT",
          "AUDp",
          "VISam",
          "VISl",
          "AUDv",
          "VISp",
          "fiber tracts",
          "VISpor",
          "LZ",
          "PERI",
          "SSp-un",
          "cst",
          "ENTl",
          "SSp-tr",
          "cc",
          "AUDd",
          "ORBl",
          "SSp-ll",
          "VISal",
          "VISrl",
          "st",
          "SSp-ul",
          "BS",
          "MBmot",
          "P-sat",
          "ECT",
          "VISa",
          "ACAd",
          "TEa",
          "MOp",
          "SSs",
          "SCm",
          "SSp-bfd",
          "STRd",
          "MOs"
         ]
        }
       ],
       "layout": {
        "height": 1500,
        "paper_bgcolor": "rgba(0, 0, 0, 0)",
        "plot_bgcolor": "rgba(0, 0, 0, 0)",
        "showlegend": false,
        "template": {
         "data": {
          "bar": [
           {
            "error_x": {
             "color": "#2a3f5f"
            },
            "error_y": {
             "color": "#2a3f5f"
            },
            "marker": {
             "line": {
              "color": "#E5ECF6",
              "width": 0.5
             }
            },
            "type": "bar"
           }
          ],
          "barpolar": [
           {
            "marker": {
             "line": {
              "color": "#E5ECF6",
              "width": 0.5
             }
            },
            "type": "barpolar"
           }
          ],
          "carpet": [
           {
            "aaxis": {
             "endlinecolor": "#2a3f5f",
             "gridcolor": "white",
             "linecolor": "white",
             "minorgridcolor": "white",
             "startlinecolor": "#2a3f5f"
            },
            "baxis": {
             "endlinecolor": "#2a3f5f",
             "gridcolor": "white",
             "linecolor": "white",
             "minorgridcolor": "white",
             "startlinecolor": "#2a3f5f"
            },
            "type": "carpet"
           }
          ],
          "choropleth": [
           {
            "colorbar": {
             "outlinewidth": 0,
             "ticks": ""
            },
            "type": "choropleth"
           }
          ],
          "contour": [
           {
            "colorbar": {
             "outlinewidth": 0,
             "ticks": ""
            },
            "colorscale": [
             [
              0,
              "#0d0887"
             ],
             [
              0.1111111111111111,
              "#46039f"
             ],
             [
              0.2222222222222222,
              "#7201a8"
             ],
             [
              0.3333333333333333,
              "#9c179e"
             ],
             [
              0.4444444444444444,
              "#bd3786"
             ],
             [
              0.5555555555555556,
              "#d8576b"
             ],
             [
              0.6666666666666666,
              "#ed7953"
             ],
             [
              0.7777777777777778,
              "#fb9f3a"
             ],
             [
              0.8888888888888888,
              "#fdca26"
             ],
             [
              1,
              "#f0f921"
             ]
            ],
            "type": "contour"
           }
          ],
          "contourcarpet": [
           {
            "colorbar": {
             "outlinewidth": 0,
             "ticks": ""
            },
            "type": "contourcarpet"
           }
          ],
          "heatmap": [
           {
            "colorbar": {
             "outlinewidth": 0,
             "ticks": ""
            },
            "colorscale": [
             [
              0,
              "#0d0887"
             ],
             [
              0.1111111111111111,
              "#46039f"
             ],
             [
              0.2222222222222222,
              "#7201a8"
             ],
             [
              0.3333333333333333,
              "#9c179e"
             ],
             [
              0.4444444444444444,
              "#bd3786"
             ],
             [
              0.5555555555555556,
              "#d8576b"
             ],
             [
              0.6666666666666666,
              "#ed7953"
             ],
             [
              0.7777777777777778,
              "#fb9f3a"
             ],
             [
              0.8888888888888888,
              "#fdca26"
             ],
             [
              1,
              "#f0f921"
             ]
            ],
            "type": "heatmap"
           }
          ],
          "heatmapgl": [
           {
            "colorbar": {
             "outlinewidth": 0,
             "ticks": ""
            },
            "colorscale": [
             [
              0,
              "#0d0887"
             ],
             [
              0.1111111111111111,
              "#46039f"
             ],
             [
              0.2222222222222222,
              "#7201a8"
             ],
             [
              0.3333333333333333,
              "#9c179e"
             ],
             [
              0.4444444444444444,
              "#bd3786"
             ],
             [
              0.5555555555555556,
              "#d8576b"
             ],
             [
              0.6666666666666666,
              "#ed7953"
             ],
             [
              0.7777777777777778,
              "#fb9f3a"
             ],
             [
              0.8888888888888888,
              "#fdca26"
             ],
             [
              1,
              "#f0f921"
             ]
            ],
            "type": "heatmapgl"
           }
          ],
          "histogram": [
           {
            "marker": {
             "colorbar": {
              "outlinewidth": 0,
              "ticks": ""
             }
            },
            "type": "histogram"
           }
          ],
          "histogram2d": [
           {
            "colorbar": {
             "outlinewidth": 0,
             "ticks": ""
            },
            "colorscale": [
             [
              0,
              "#0d0887"
             ],
             [
              0.1111111111111111,
              "#46039f"
             ],
             [
              0.2222222222222222,
              "#7201a8"
             ],
             [
              0.3333333333333333,
              "#9c179e"
             ],
             [
              0.4444444444444444,
              "#bd3786"
             ],
             [
              0.5555555555555556,
              "#d8576b"
             ],
             [
              0.6666666666666666,
              "#ed7953"
             ],
             [
              0.7777777777777778,
              "#fb9f3a"
             ],
             [
              0.8888888888888888,
              "#fdca26"
             ],
             [
              1,
              "#f0f921"
             ]
            ],
            "type": "histogram2d"
           }
          ],
          "histogram2dcontour": [
           {
            "colorbar": {
             "outlinewidth": 0,
             "ticks": ""
            },
            "colorscale": [
             [
              0,
              "#0d0887"
             ],
             [
              0.1111111111111111,
              "#46039f"
             ],
             [
              0.2222222222222222,
              "#7201a8"
             ],
             [
              0.3333333333333333,
              "#9c179e"
             ],
             [
              0.4444444444444444,
              "#bd3786"
             ],
             [
              0.5555555555555556,
              "#d8576b"
             ],
             [
              0.6666666666666666,
              "#ed7953"
             ],
             [
              0.7777777777777778,
              "#fb9f3a"
             ],
             [
              0.8888888888888888,
              "#fdca26"
             ],
             [
              1,
              "#f0f921"
             ]
            ],
            "type": "histogram2dcontour"
           }
          ],
          "mesh3d": [
           {
            "colorbar": {
             "outlinewidth": 0,
             "ticks": ""
            },
            "type": "mesh3d"
           }
          ],
          "parcoords": [
           {
            "line": {
             "colorbar": {
              "outlinewidth": 0,
              "ticks": ""
             }
            },
            "type": "parcoords"
           }
          ],
          "pie": [
           {
            "automargin": true,
            "type": "pie"
           }
          ],
          "scatter": [
           {
            "marker": {
             "colorbar": {
              "outlinewidth": 0,
              "ticks": ""
             }
            },
            "type": "scatter"
           }
          ],
          "scatter3d": [
           {
            "line": {
             "colorbar": {
              "outlinewidth": 0,
              "ticks": ""
             }
            },
            "marker": {
             "colorbar": {
              "outlinewidth": 0,
              "ticks": ""
             }
            },
            "type": "scatter3d"
           }
          ],
          "scattercarpet": [
           {
            "marker": {
             "colorbar": {
              "outlinewidth": 0,
              "ticks": ""
             }
            },
            "type": "scattercarpet"
           }
          ],
          "scattergeo": [
           {
            "marker": {
             "colorbar": {
              "outlinewidth": 0,
              "ticks": ""
             }
            },
            "type": "scattergeo"
           }
          ],
          "scattergl": [
           {
            "marker": {
             "colorbar": {
              "outlinewidth": 0,
              "ticks": ""
             }
            },
            "type": "scattergl"
           }
          ],
          "scattermapbox": [
           {
            "marker": {
             "colorbar": {
              "outlinewidth": 0,
              "ticks": ""
             }
            },
            "type": "scattermapbox"
           }
          ],
          "scatterpolar": [
           {
            "marker": {
             "colorbar": {
              "outlinewidth": 0,
              "ticks": ""
             }
            },
            "type": "scatterpolar"
           }
          ],
          "scatterpolargl": [
           {
            "marker": {
             "colorbar": {
              "outlinewidth": 0,
              "ticks": ""
             }
            },
            "type": "scatterpolargl"
           }
          ],
          "scatterternary": [
           {
            "marker": {
             "colorbar": {
              "outlinewidth": 0,
              "ticks": ""
             }
            },
            "type": "scatterternary"
           }
          ],
          "surface": [
           {
            "colorbar": {
             "outlinewidth": 0,
             "ticks": ""
            },
            "colorscale": [
             [
              0,
              "#0d0887"
             ],
             [
              0.1111111111111111,
              "#46039f"
             ],
             [
              0.2222222222222222,
              "#7201a8"
             ],
             [
              0.3333333333333333,
              "#9c179e"
             ],
             [
              0.4444444444444444,
              "#bd3786"
             ],
             [
              0.5555555555555556,
              "#d8576b"
             ],
             [
              0.6666666666666666,
              "#ed7953"
             ],
             [
              0.7777777777777778,
              "#fb9f3a"
             ],
             [
              0.8888888888888888,
              "#fdca26"
             ],
             [
              1,
              "#f0f921"
             ]
            ],
            "type": "surface"
           }
          ],
          "table": [
           {
            "cells": {
             "fill": {
              "color": "#EBF0F8"
             },
             "line": {
              "color": "white"
             }
            },
            "header": {
             "fill": {
              "color": "#C8D4E3"
             },
             "line": {
              "color": "white"
             }
            },
            "type": "table"
           }
          ]
         },
         "layout": {
          "annotationdefaults": {
           "arrowcolor": "#2a3f5f",
           "arrowhead": 0,
           "arrowwidth": 1
          },
          "autotypenumbers": "strict",
          "coloraxis": {
           "colorbar": {
            "outlinewidth": 0,
            "ticks": ""
           }
          },
          "colorscale": {
           "diverging": [
            [
             0,
             "#8e0152"
            ],
            [
             0.1,
             "#c51b7d"
            ],
            [
             0.2,
             "#de77ae"
            ],
            [
             0.3,
             "#f1b6da"
            ],
            [
             0.4,
             "#fde0ef"
            ],
            [
             0.5,
             "#f7f7f7"
            ],
            [
             0.6,
             "#e6f5d0"
            ],
            [
             0.7,
             "#b8e186"
            ],
            [
             0.8,
             "#7fbc41"
            ],
            [
             0.9,
             "#4d9221"
            ],
            [
             1,
             "#276419"
            ]
           ],
           "sequential": [
            [
             0,
             "#0d0887"
            ],
            [
             0.1111111111111111,
             "#46039f"
            ],
            [
             0.2222222222222222,
             "#7201a8"
            ],
            [
             0.3333333333333333,
             "#9c179e"
            ],
            [
             0.4444444444444444,
             "#bd3786"
            ],
            [
             0.5555555555555556,
             "#d8576b"
            ],
            [
             0.6666666666666666,
             "#ed7953"
            ],
            [
             0.7777777777777778,
             "#fb9f3a"
            ],
            [
             0.8888888888888888,
             "#fdca26"
            ],
            [
             1,
             "#f0f921"
            ]
           ],
           "sequentialminus": [
            [
             0,
             "#0d0887"
            ],
            [
             0.1111111111111111,
             "#46039f"
            ],
            [
             0.2222222222222222,
             "#7201a8"
            ],
            [
             0.3333333333333333,
             "#9c179e"
            ],
            [
             0.4444444444444444,
             "#bd3786"
            ],
            [
             0.5555555555555556,
             "#d8576b"
            ],
            [
             0.6666666666666666,
             "#ed7953"
            ],
            [
             0.7777777777777778,
             "#fb9f3a"
            ],
            [
             0.8888888888888888,
             "#fdca26"
            ],
            [
             1,
             "#f0f921"
            ]
           ]
          },
          "colorway": [
           "#636efa",
           "#EF553B",
           "#00cc96",
           "#ab63fa",
           "#FFA15A",
           "#19d3f3",
           "#FF6692",
           "#B6E880",
           "#FF97FF",
           "#FECB52"
          ],
          "font": {
           "color": "#2a3f5f"
          },
          "geo": {
           "bgcolor": "white",
           "lakecolor": "white",
           "landcolor": "#E5ECF6",
           "showlakes": true,
           "showland": true,
           "subunitcolor": "white"
          },
          "hoverlabel": {
           "align": "left"
          },
          "hovermode": "closest",
          "mapbox": {
           "style": "light"
          },
          "paper_bgcolor": "white",
          "plot_bgcolor": "#E5ECF6",
          "polar": {
           "angularaxis": {
            "gridcolor": "white",
            "linecolor": "white",
            "ticks": ""
           },
           "bgcolor": "#E5ECF6",
           "radialaxis": {
            "gridcolor": "white",
            "linecolor": "white",
            "ticks": ""
           }
          },
          "scene": {
           "xaxis": {
            "backgroundcolor": "#E5ECF6",
            "gridcolor": "white",
            "gridwidth": 2,
            "linecolor": "white",
            "showbackground": true,
            "ticks": "",
            "zerolinecolor": "white"
           },
           "yaxis": {
            "backgroundcolor": "#E5ECF6",
            "gridcolor": "white",
            "gridwidth": 2,
            "linecolor": "white",
            "showbackground": true,
            "ticks": "",
            "zerolinecolor": "white"
           },
           "zaxis": {
            "backgroundcolor": "#E5ECF6",
            "gridcolor": "white",
            "gridwidth": 2,
            "linecolor": "white",
            "showbackground": true,
            "ticks": "",
            "zerolinecolor": "white"
           }
          },
          "shapedefaults": {
           "line": {
            "color": "#2a3f5f"
           }
          },
          "ternary": {
           "aaxis": {
            "gridcolor": "white",
            "linecolor": "white",
            "ticks": ""
           },
           "baxis": {
            "gridcolor": "white",
            "linecolor": "white",
            "ticks": ""
           },
           "bgcolor": "#E5ECF6",
           "caxis": {
            "gridcolor": "white",
            "linecolor": "white",
            "ticks": ""
           }
          },
          "title": {
           "x": 0.05
          },
          "xaxis": {
           "automargin": true,
           "gridcolor": "white",
           "linecolor": "white",
           "ticks": "",
           "title": {
            "standoff": 15
           },
           "zerolinecolor": "white",
           "zerolinewidth": 2
          },
          "yaxis": {
           "automargin": true,
           "gridcolor": "white",
           "linecolor": "white",
           "ticks": "",
           "title": {
            "standoff": 15
           },
           "zerolinecolor": "white",
           "zerolinewidth": 2
          }
         }
        },
        "width": 2000,
        "xaxis": {
         "autorange": true,
         "gridcolor": "gold",
         "range": [
          0,
          2802.9189473684214
         ],
         "type": "linear"
        },
        "yaxis": {
         "autorange": true,
         "categoryorder": "trace",
         "range": [
          -0.5,
          136.5
         ],
         "type": "category"
        }
       }
      },
      "image/png": "[encoded data removed]",
      "text/html": [
       "<div>                            <div id=\"02f3bf1c-9bea-48e2-a59c-5dc3fdde4ece\" class=\"plotly-graph-div\" style=\"height:1500px; width:2000px;\"></div>            <script type=\"text/javascript\">                require([\"plotly\"], function(Plotly) {                    window.PLOTLYENV=window.PLOTLYENV || {};                                    if (document.getElementById(\"02f3bf1c-9bea-48e2-a59c-5dc3fdde4ece\")) {                    Plotly.newPlot(                        \"02f3bf1c-9bea-48e2-a59c-5dc3fdde4ece\",                        [{\"hovertemplate\": \"<i>%{x}</i>, <b>%{text}</b>\", \"marker\": {\"color\": \"red\"}, \"name\": \"\", \"orientation\": \"h\", \"text\": [\"postcommissural fornix\", \"cerebral nuclei related\", \"lateral forebrain bundle system\", \"Pallidum, ventral region\", \"Vermal regions\", \"tectospinal pathway\", \"Periventricular region\", \"lateral ventricle\", \"Ansiform lobule\", \"Striatum-like amygdalar nuclei\", \"fourth ventricle\", \"Pallidum, caudal region\", \"Medial group of the dorsal thalamus\", \"trigeminal nerve\", \"facial nerve\", \"superior cerebelar peduncles\", \"cranial nerves\", \"Entorhinal area, medial part, dorsal zone\", \"Lateral septal nucleus\", \"Cerebral cortex\", \"Hemispheric regions\", \"ventricular systems\", \"thalamus related\", \"Gustatory areas\", \"Central lobule\", \"Anterior cingulate area, ventral part\", \"vestibulocochlear nerve\", \"olfactory nerve\", \"Agranular insular area, dorsal part\", \"Lateral septal complex\", \"Paragigantocellular reticular nucleus\", \"Basic cell groups and regions\", \"Periaqueductal gray\", \"Superior colliculus, sensory related\", \"Basolateral amygdalar nucleus\", \"Taenia tecta\", \"Cerebellar nuclei\", \"cochlear nerve\", \"Cochlear nuclei\", \"optic nerve\", \"Cortical subplate\", \"Culmen\", \"hippocampal commissures\", \"Central amygdalar nucleus\", \"sensory root of the trigeminal nerve\", \"Parabrachial nucleus\", \"Retrohippocampal region\", \"Agranular insular area, ventral part\", \"cerebellum related fiber tracts\", \"Infralimbic area\", \"cerebellar peduncles\", \"Dentate gyrus\", \"Endopiriform nucleus\", \"Cerebral nuclei\", \"Subparafascicular nucleus\", \"Anterior group of the dorsal thalamus\", \"Medulla, sensory related\", \"Posterolateral visual area\", \"Midbrain, sensory related\", \"Cortical plate\", \"Midbrain, behavioral state related\", \"Primary somatosensory area, mouth\", \"Striatum ventral region\", \"Zona incerta\", \"Pallidum, dorsal region\", \"Vestibular nuclei\", \"extrapyramidal fiber systems\", \"corpus callosum, anterior forceps\", \"Medulla, motor related\", \"Frontal pole, cerebral cortex\", \"cervicothalamic tract\", \"fornix system\", \"Dorsal part of the lateral geniculate complex\", \"Orbital area, medial part\", \"Thalamus, sensory-motor cortex related\", \"Retrosplenial area, lateral agranular part\", \"Primary somatosensory area, nose\", \"Retrosplenial area, dorsal part\", \"root\", \"Inferior colliculus\", \"Pons, sensory related\", \"Retrosplenial area, ventral part\", \"Intralaminar nuclei of the dorsal thalamus\", \"Olfactory areas\", \"Agranular insular area, posterior part\", \"Ventral group of the dorsal thalamus\", \"Ammon's horn\", \"Geniculate group, ventral thalamus\", \"Medial geniculate complex\", \"Hindbrain\", \"Interbrain\", \"Ventral posterior complex of the thalamus\", \"Posterior auditory area\", \"Prelimbic area\", \"posteromedial visual area\", \"Pons, motor related\", \"Visceral area\", \"Lateral group of the dorsal thalamus\", \"Laterointermediate area\", \"Orbital area, ventrolateral part\", \"Thalamus, polymodal association cortex related\", \"cerebrum related\", \"Pretectal region\", \"Primary auditory area\", \"Anteromedial visual area\", \"Lateral visual area\", \"Ventral auditory area\", \"Primary visual area\", \"fiber tracts\", \"Postrhinal area\", \"Hypothalamic lateral zone\", \"Perirhinal area\", \"Primary somatosensory area, unassigned\", \"corticospinal tract\", \"Entorhinal area, lateral part\", \"Primary somatosensory area, trunk\", \"corpus callosum\", \"Dorsal auditory area\", \"Orbital area, lateral part\", \"Primary somatosensory area, lower limb\", \"Anterolateral visual area\", \"Rostrolateral visual area\", \"stria terminalis\", \"Primary somatosensory area, upper limb\", \"Brain stem\", \"Midbrain, motor related\", \"Pons, behavioral state related\", \"Ectorhinal area\", \"Anterior area\", \"Anterior cingulate area, dorsal part\", \"Temporal association areas\", \"Primary motor area\", \"Supplemental somatosensory area\", \"Superior colliculus, motor related\", \"Primary somatosensory area, barrel field\", \"Striatum dorsal region\", \"Secondary motor area\"], \"type\": \"bar\", \"x\": [0.001, 0.001, 0.007, 0.008, 0.009, 0.01, 0.012, 0.026, 0.049, 0.055, 0.106, 0.127, 0.146, 0.218, 0.24, 0.292, 0.421, 0.437, 0.463, 0.586, 0.6, 0.643, 0.655, 0.667, 0.787, 0.907, 0.933, 1.006, 1.041, 1.059, 1.284, 1.326, 1.372, 1.491, 1.784, 1.837, 1.869, 1.911, 1.933, 2.042, 2.356, 2.67, 2.746, 3.011, 3.072, 3.269, 3.637, 3.946, 4.019, 4.619, 4.623, 4.979, 6.007, 6.083, 6.14, 6.812, 7.452, 7.499, 7.529, 7.703, 7.969, 8.151, 8.345, 9.475, 10.032, 10.659, 11.367, 12.056, 13.835, 14.075, 14.339, 15.049, 16.96, 19.116, 25.72, 26.293, 26.408, 28.372, 29.756, 29.923, 30.91, 33.076, 35.996, 37.209, 39.06, 41.686, 42.337, 44.436, 45.231, 46.017, 46.126, 47.315, 53.013, 58.047, 59.028, 68.774, 73.871, 80.302, 83.46, 85.767, 97.048, 98.022, 98.186, 103.877, 111.987, 113.378, 113.936, 122.202, 132.554, 140.849, 142.329, 149.599, 150.525, 179.5, 184.462, 193.781, 203.768, 232.64, 252.806, 260.803, 263.729, 269.823, 284.697, 284.934, 287.591, 288.209, 291.684, 299.127, 301.526, 303.274, 598.077, 621.92, 642.784, 812.695, 955.797, 1733.775, 2662.773], \"y\": [\"fxpo\", \"epsc\", \"lfbs\", \"PALv\", \"VERM\", \"tsp\", \"PVR\", \"VL\", \"AN\", \"sAMY\", \"V4\", \"PALc\", \"MED\", \"Vn\", \"VIIn\", \"scp\", \"cm\", \"ENTm\", \"LS\", \"CTX\", \"HEM\", \"VS\", \"lfbst\", \"GU\", \"CENT\", \"ACAv\", \"VIIIn\", \"In\", \"AId\", \"LSX\", \"PGRN\", \"grey\", \"PAG\", \"SCs\", \"BLA\", \"TT\", \"CBN\", \"cVIIIn\", \"CN\", \"IIn\", \"CTXsp\", \"CUL\", \"hc\", \"CEA\", \"sV\", \"PB\", \"RHP\", \"AIv\", \"cbf\", \"ILA\", \"cbp\", \"DG\", \"EP\", \"CNU\", \"SPF\", \"ATN\", \"MY-sen\", \"VISpl\", \"MBsen\", \"CTXpl\", \"MBsta\", \"SSp-m\", \"STRv\", \"ZI\", \"PALd\", \"VNC\", \"eps\", \"fa\", \"MY-mot\", \"FRP\", \"cett\", \"fxs\", \"LGd\", \"ORBm\", \"DORsm\", \"RSPagl\", \"SSp-n\", \"RSPd\", \"root\", \"IC\", \"P-sen\", \"RSPv\", \"ILM\", \"OLF\", \"AIp\", \"VENT\", \"CA\", \"GENv\", \"MG\", \"HB\", \"IB\", \"VP\", \"AUDpo\", \"PL\", \"VISpm\", \"P-mot\", \"VISC\", \"LAT\", \"VISli\", \"ORBvl\", \"DORpm\", \"mfbc\", \"PRT\", \"AUDp\", \"VISam\", \"VISl\", \"AUDv\", \"VISp\", \"fiber tracts\", \"VISpor\", \"LZ\", \"PERI\", \"SSp-un\", \"cst\", \"ENTl\", \"SSp-tr\", \"cc\", \"AUDd\", \"ORBl\", \"SSp-ll\", \"VISal\", \"VISrl\", \"st\", \"SSp-ul\", \"BS\", \"MBmot\", \"P-sat\", \"ECT\", \"VISa\", \"ACAd\", \"TEa\", \"MOp\", \"SSs\", \"SCm\", \"SSp-bfd\", \"STRd\", \"MOs\"]}],                        {\"height\": 1500, \"paper_bgcolor\": \"rgba(0,0,0,0)\", \"plot_bgcolor\": \"rgba(0,0,0,0)\", \"showlegend\": false, \"template\": {\"data\": {\"bar\": [{\"error_x\": {\"color\": \"#2a3f5f\"}, \"error_y\": {\"color\": \"#2a3f5f\"}, \"marker\": {\"line\": {\"color\": \"#E5ECF6\", \"width\": 0.5}}, \"type\": \"bar\"}], \"barpolar\": [{\"marker\": {\"line\": {\"color\": \"#E5ECF6\", \"width\": 0.5}}, \"type\": \"barpolar\"}], \"carpet\": [{\"aaxis\": {\"endlinecolor\": \"#2a3f5f\", \"gridcolor\": \"white\", \"linecolor\": \"white\", \"minorgridcolor\": \"white\", \"startlinecolor\": \"#2a3f5f\"}, \"baxis\": {\"endlinecolor\": \"#2a3f5f\", \"gridcolor\": \"white\", \"linecolor\": \"white\", \"minorgridcolor\": \"white\", \"startlinecolor\": \"#2a3f5f\"}, \"type\": \"carpet\"}], \"choropleth\": [{\"colorbar\": {\"outlinewidth\": 0, \"ticks\": \"\"}, \"type\": \"choropleth\"}], \"contour\": [{\"colorbar\": {\"outlinewidth\": 0, \"ticks\": \"\"}, \"colorscale\": [[0.0, \"#0d0887\"], [0.1111111111111111, \"#46039f\"], [0.2222222222222222, \"#7201a8\"], [0.3333333333333333, \"#9c179e\"], [0.4444444444444444, \"#bd3786\"], [0.5555555555555556, \"#d8576b\"], [0.6666666666666666, \"#ed7953\"], [0.7777777777777778, \"#fb9f3a\"], [0.8888888888888888, \"#fdca26\"], [1.0, \"#f0f921\"]], \"type\": \"contour\"}], \"contourcarpet\": [{\"colorbar\": {\"outlinewidth\": 0, \"ticks\": \"\"}, \"type\": \"contourcarpet\"}], \"heatmap\": [{\"colorbar\": {\"outlinewidth\": 0, \"ticks\": \"\"}, \"colorscale\": [[0.0, \"#0d0887\"], [0.1111111111111111, \"#46039f\"], [0.2222222222222222, \"#7201a8\"], [0.3333333333333333, \"#9c179e\"], [0.4444444444444444, \"#bd3786\"], [0.5555555555555556, \"#d8576b\"], [0.6666666666666666, \"#ed7953\"], [0.7777777777777778, \"#fb9f3a\"], [0.8888888888888888, \"#fdca26\"], [1.0, \"#f0f921\"]], \"type\": \"heatmap\"}], \"heatmapgl\": [{\"colorbar\": {\"outlinewidth\": 0, \"ticks\": \"\"}, \"colorscale\": [[0.0, \"#0d0887\"], [0.1111111111111111, \"#46039f\"], [0.2222222222222222, \"#7201a8\"], [0.3333333333333333, \"#9c179e\"], [0.4444444444444444, \"#bd3786\"], [0.5555555555555556, \"#d8576b\"], [0.6666666666666666, \"#ed7953\"], [0.7777777777777778, \"#fb9f3a\"], [0.8888888888888888, \"#fdca26\"], [1.0, \"#f0f921\"]], \"type\": \"heatmapgl\"}], \"histogram\": [{\"marker\": {\"colorbar\": {\"outlinewidth\": 0, \"ticks\": \"\"}}, \"type\": \"histogram\"}], \"histogram2d\": [{\"colorbar\": {\"outlinewidth\": 0, \"ticks\": \"\"}, \"colorscale\": [[0.0, \"#0d0887\"], [0.1111111111111111, \"#46039f\"], [0.2222222222222222, \"#7201a8\"], [0.3333333333333333, \"#9c179e\"], [0.4444444444444444, \"#bd3786\"], [0.5555555555555556, \"#d8576b\"], [0.6666666666666666, \"#ed7953\"], [0.7777777777777778, \"#fb9f3a\"], [0.8888888888888888, \"#fdca26\"], [1.0, \"#f0f921\"]], \"type\": \"histogram2d\"}], \"histogram2dcontour\": [{\"colorbar\": {\"outlinewidth\": 0, \"ticks\": \"\"}, \"colorscale\": [[0.0, \"#0d0887\"], [0.1111111111111111, \"#46039f\"], [0.2222222222222222, \"#7201a8\"], [0.3333333333333333, \"#9c179e\"], [0.4444444444444444, \"#bd3786\"], [0.5555555555555556, \"#d8576b\"], [0.6666666666666666, \"#ed7953\"], [0.7777777777777778, \"#fb9f3a\"], [0.8888888888888888, \"#fdca26\"], [1.0, \"#f0f921\"]], \"type\": \"histogram2dcontour\"}], \"mesh3d\": [{\"colorbar\": {\"outlinewidth\": 0, \"ticks\": \"\"}, \"type\": \"mesh3d\"}], \"parcoords\": [{\"line\": {\"colorbar\": {\"outlinewidth\": 0, \"ticks\": \"\"}}, \"type\": \"parcoords\"}], \"pie\": [{\"automargin\": true, \"type\": \"pie\"}], \"scatter\": [{\"marker\": {\"colorbar\": {\"outlinewidth\": 0, \"ticks\": \"\"}}, \"type\": \"scatter\"}], \"scatter3d\": [{\"line\": {\"colorbar\": {\"outlinewidth\": 0, \"ticks\": \"\"}}, \"marker\": {\"colorbar\": {\"outlinewidth\": 0, \"ticks\": \"\"}}, \"type\": \"scatter3d\"}], \"scattercarpet\": [{\"marker\": {\"colorbar\": {\"outlinewidth\": 0, \"ticks\": \"\"}}, \"type\": \"scattercarpet\"}], \"scattergeo\": [{\"marker\": {\"colorbar\": {\"outlinewidth\": 0, \"ticks\": \"\"}}, \"type\": \"scattergeo\"}], \"scattergl\": [{\"marker\": {\"colorbar\": {\"outlinewidth\": 0, \"ticks\": \"\"}}, \"type\": \"scattergl\"}], \"scattermapbox\": [{\"marker\": {\"colorbar\": {\"outlinewidth\": 0, \"ticks\": \"\"}}, \"type\": \"scattermapbox\"}], \"scatterpolar\": [{\"marker\": {\"colorbar\": {\"outlinewidth\": 0, \"ticks\": \"\"}}, \"type\": \"scatterpolar\"}], \"scatterpolargl\": [{\"marker\": {\"colorbar\": {\"outlinewidth\": 0, \"ticks\": \"\"}}, \"type\": \"scatterpolargl\"}], \"scatterternary\": [{\"marker\": {\"colorbar\": {\"outlinewidth\": 0, \"ticks\": \"\"}}, \"type\": \"scatterternary\"}], \"surface\": [{\"colorbar\": {\"outlinewidth\": 0, \"ticks\": \"\"}, \"colorscale\": [[0.0, \"#0d0887\"], [0.1111111111111111, \"#46039f\"], [0.2222222222222222, \"#7201a8\"], [0.3333333333333333, \"#9c179e\"], [0.4444444444444444, \"#bd3786\"], [0.5555555555555556, \"#d8576b\"], [0.6666666666666666, \"#ed7953\"], [0.7777777777777778, \"#fb9f3a\"], [0.8888888888888888, \"#fdca26\"], [1.0, \"#f0f921\"]], \"type\": \"surface\"}], \"table\": [{\"cells\": {\"fill\": {\"color\": \"#EBF0F8\"}, \"line\": {\"color\": \"white\"}}, \"header\": {\"fill\": {\"color\": \"#C8D4E3\"}, \"line\": {\"color\": \"white\"}}, \"type\": \"table\"}]}, \"layout\": {\"annotationdefaults\": {\"arrowcolor\": \"#2a3f5f\", \"arrowhead\": 0, \"arrowwidth\": 1}, \"autotypenumbers\": \"strict\", \"coloraxis\": {\"colorbar\": {\"outlinewidth\": 0, \"ticks\": \"\"}}, \"colorscale\": {\"diverging\": [[0, \"#8e0152\"], [0.1, \"#c51b7d\"], [0.2, \"#de77ae\"], [0.3, \"#f1b6da\"], [0.4, \"#fde0ef\"], [0.5, \"#f7f7f7\"], [0.6, \"#e6f5d0\"], [0.7, \"#b8e186\"], [0.8, \"#7fbc41\"], [0.9, \"#4d9221\"], [1, \"#276419\"]], \"sequential\": [[0.0, \"#0d0887\"], [0.1111111111111111, \"#46039f\"], [0.2222222222222222, \"#7201a8\"], [0.3333333333333333, \"#9c179e\"], [0.4444444444444444, \"#bd3786\"], [0.5555555555555556, \"#d8576b\"], [0.6666666666666666, \"#ed7953\"], [0.7777777777777778, \"#fb9f3a\"], [0.8888888888888888, \"#fdca26\"], [1.0, \"#f0f921\"]], \"sequentialminus\": [[0.0, \"#0d0887\"], [0.1111111111111111, \"#46039f\"], [0.2222222222222222, \"#7201a8\"], [0.3333333333333333, \"#9c179e\"], [0.4444444444444444, \"#bd3786\"], [0.5555555555555556, \"#d8576b\"], [0.6666666666666666, \"#ed7953\"], [0.7777777777777778, \"#fb9f3a\"], [0.8888888888888888, \"#fdca26\"], [1.0, \"#f0f921\"]]}, \"colorway\": [\"#636efa\", \"#EF553B\", \"#00cc96\", \"#ab63fa\", \"#FFA15A\", \"#19d3f3\", \"#FF6692\", \"#B6E880\", \"#FF97FF\", \"#FECB52\"], \"font\": {\"color\": \"#2a3f5f\"}, \"geo\": {\"bgcolor\": \"white\", \"lakecolor\": \"white\", \"landcolor\": \"#E5ECF6\", \"showlakes\": true, \"showland\": true, \"subunitcolor\": \"white\"}, \"hoverlabel\": {\"align\": \"left\"}, \"hovermode\": \"closest\", \"mapbox\": {\"style\": \"light\"}, \"paper_bgcolor\": \"white\", \"plot_bgcolor\": \"#E5ECF6\", \"polar\": {\"angularaxis\": {\"gridcolor\": \"white\", \"linecolor\": \"white\", \"ticks\": \"\"}, \"bgcolor\": \"#E5ECF6\", \"radialaxis\": {\"gridcolor\": \"white\", \"linecolor\": \"white\", \"ticks\": \"\"}}, \"scene\": {\"xaxis\": {\"backgroundcolor\": \"#E5ECF6\", \"gridcolor\": \"white\", \"gridwidth\": 2, \"linecolor\": \"white\", \"showbackground\": true, \"ticks\": \"\", \"zerolinecolor\": \"white\"}, \"yaxis\": {\"backgroundcolor\": \"#E5ECF6\", \"gridcolor\": \"white\", \"gridwidth\": 2, \"linecolor\": \"white\", \"showbackground\": true, \"ticks\": \"\", \"zerolinecolor\": \"white\"}, \"zaxis\": {\"backgroundcolor\": \"#E5ECF6\", \"gridcolor\": \"white\", \"gridwidth\": 2, \"linecolor\": \"white\", \"showbackground\": true, \"ticks\": \"\", \"zerolinecolor\": \"white\"}}, \"shapedefaults\": {\"line\": {\"color\": \"#2a3f5f\"}}, \"ternary\": {\"aaxis\": {\"gridcolor\": \"white\", \"linecolor\": \"white\", \"ticks\": \"\"}, \"baxis\": {\"gridcolor\": \"white\", \"linecolor\": \"white\", \"ticks\": \"\"}, \"bgcolor\": \"#E5ECF6\", \"caxis\": {\"gridcolor\": \"white\", \"linecolor\": \"white\", \"ticks\": \"\"}}, \"title\": {\"x\": 0.05}, \"xaxis\": {\"automargin\": true, \"gridcolor\": \"white\", \"linecolor\": \"white\", \"ticks\": \"\", \"title\": {\"standoff\": 15}, \"zerolinecolor\": \"white\", \"zerolinewidth\": 2}, \"yaxis\": {\"automargin\": true, \"gridcolor\": \"white\", \"linecolor\": \"white\", \"ticks\": \"\", \"title\": {\"standoff\": 15}, \"zerolinecolor\": \"white\", \"zerolinewidth\": 2}}}, \"width\": 2000, \"xaxis\": {\"gridcolor\": \"gold\"}, \"yaxis\": {\"categoryorder\": \"trace\"}},                        {\"responsive\": true}                    ).then(function(){\n",
       "                            \n",
       "var gd = document.getElementById('02f3bf1c-9bea-48e2-a59c-5dc3fdde4ece');\n",
       "var x = new MutationObserver(function (mutations, observer) {{\n",
       "        var display = window.getComputedStyle(gd).display;\n",
       "        if (!display || display === 'none') {{\n",
       "            console.log([gd, 'removed!']);\n",
       "            Plotly.purge(gd);\n",
       "            observer.disconnect();\n",
       "        }}\n",
       "}});\n",
       "\n",
       "// Listen for the removal of the full notebook cells\n",
       "var notebookContainer = gd.closest('#notebook-container');\n",
       "if (notebookContainer) {{\n",
       "    x.observe(notebookContainer, {childList: true});\n",
       "}}\n",
       "\n",
       "// Listen for the clearing of the current output cell\n",
       "var outputEl = gd.closest('.output');\n",
       "if (outputEl) {{\n",
       "    x.observe(outputEl, {childList: true});\n",
       "}}\n",
       "\n",
       "                        })                };                });            </script>        </div>"
      ]
     },
     "metadata": {},
     "output_type": "display_data"
    }
   ],
   "source": [
    "plot_hist(result,'AL211_parent')"
   ]
  },
  {
   "cell_type": "code",
   "execution_count": 117,
   "metadata": {},
   "outputs": [],
   "source": [
    "result= parent_df(new_pd)\n",
    "new_order=result.id.to_numpy()\n",
    "#new_order"
   ]
  },
  {
   "cell_type": "code",
   "execution_count": 120,
   "metadata": {},
   "outputs": [
    {
     "data": {
      "text/plain": [
       "array([      737,       760,       983,       835,       645,       877,\n",
       "             141,        81,      1017,       278,       145,       809,\n",
       "             444,       901,       798,       326,       967,       926,\n",
       "             242,       688,      1073,        73,       896,      1057,\n",
       "             920,        48,       933,       840,       104,       275,\n",
       "             938,         8,       795,       302,       295,       589,\n",
       "             519,       948,       607,       848,       703,       928,\n",
       "             618,       536,       229,       867,       822,       119,\n",
       "             960,        44,       752,       726,       942,       623,\n",
       "             406,       239,       386,       425,       339,       695,\n",
       "             348,       345,       493,       797,       818,       701,\n",
       "            1000,       956,       370,       184,       932,      1099,\n",
       "             170,       731,       864,       894,       353,       879,\n",
       "             997,         4,      1132,       886,        51,       698,\n",
       "             111,       637,       375,      1014,       475,      1065,\n",
       "            1129,       709,      1027,       972,       533,       987,\n",
       "             677,       138, 312782574,       746,       856,       768,\n",
       "            1100,      1002,       394,       409,      1018,       385,\n",
       "            1009, 312782628,       290,       922, 182305689,       784,\n",
       "             918,       361,       776,      1011,       723,       337,\n",
       "             402,       417,       301,       369,       343,       323,\n",
       "            1117,       895, 312782546,        39,       541,       985,\n",
       "             378,       294,       329,       485,       993])"
      ]
     },
     "execution_count": 120,
     "metadata": {},
     "output_type": "execute_result"
    }
   ],
   "source": [
    "new_order"
   ]
  },
  {
   "cell_type": "code",
   "execution_count": 123,
   "metadata": {},
   "outputs": [
    {
     "data": {
      "text/plain": [
       "array([  0.,  69.,  69.,  69., 131., 131., 131., 131., 131., 136., 136.,\n",
       "       136., 136., 136.,  76.,  76.,  76.,  76.,  76.,  76., 134., 134.,\n",
       "       134., 134., 134., 134., 119., 119., 119., 119., 119., 119.,  61.,\n",
       "        61.,  61.,  61.,  61.,  61., 123., 123., 123., 123., 123., 123.,\n",
       "       115., 115., 115., 115., 115., 115., 112., 112., 112., 112., 112.,\n",
       "       112., 132., 132., 132., 132., 132., 132.,  23.,  23.,  23.,  23.,\n",
       "        96.,  96.,  96.,  96.,  96.,  96., 117., 117., 117., 117., 117.,\n",
       "       117., 103., 103., 103., 103., 103., 103.,  92.,  92.,  92.,  92.,\n",
       "        92.,  92., 106., 106., 106., 106., 106., 106., 120., 120., 120.,\n",
       "       120., 120., 120., 104., 104., 104., 104., 104., 104., 105., 105.,\n",
       "       105., 105., 105., 105., 107., 107., 107., 107., 107., 107.,  57.,\n",
       "        57.,  57.,  57.,  94.,  94.,  94.,  94.,  94.,  94.,  98.,  98.,\n",
       "        98.,  98.,  98.,  98., 109., 109., 109., 109., 109., 109., 129.,\n",
       "       129., 129., 129., 129.,  25.,  25.,  25.,  25.,  93.,  93.,  93.,\n",
       "        93.,  49.,  49.,  49., 118., 118., 118., 118., 118.,  73.,  73.,\n",
       "        73.,  73.,  99.,  99.,  99.,  99.,  99.,  28.,  28.,  28.,  28.,\n",
       "        28.,  84.,  84.,  84.,  84.,  84.,  47.,  47.,  47.,  47.,  75.,\n",
       "        75.,  75.,  75.,  75.,  77.,  77.,  77.,  77.,  77.,  81.,  81.,\n",
       "        81.,  81.,  81., 128., 128., 128., 128., 128., 128., 121., 121.,\n",
       "       121., 121., 121., 121., 130., 130., 130., 130., 130., 130., 111.,\n",
       "       111., 111., 111., 127., 127., 127., 127., 127.,  59.,  83.,  35.,\n",
       "        83.,  83.,  83.,  59.,  86.,  86.,  86.,  51.,  51., 114., 114.,\n",
       "       114., 114., 114.,  17.,  17.,  17.,  17.,  46.,  46.,  46.,  46.,\n",
       "        46.,  19.,  40.,  52.,  52.,  40.,  34.,  34.,  53., 135.,  62.,\n",
       "        18.,  18.,  29.,  43.,  43.,   9.,  53.,  64.,  64.,   3.,  11.,\n",
       "        90.,  85.,  85.,  91.,  91.,  91.,  91.,  85.,  54.,  54.,  74.,\n",
       "        88.,  88.,  88.,  72.,  72.,  72.,  97.,  97.,  97.,  97.,  97.,\n",
       "        55.,  12.,  12.,  82.,  82.,  82.,  82.,  82., 100.,  87.,  87.,\n",
       "        87.,  87.,  90.,   6., 110., 110., 110., 110.,  63., 124.,  33.,\n",
       "        33.,  33.,  79.,  79.,  79.,  58.,  58.,  58., 125., 125., 125.,\n",
       "       125., 133., 133., 133., 133., 125.,  32., 102., 102., 102., 102.,\n",
       "       102., 102., 102., 125., 125., 125., 125.,  60.,  60.,  89.,  80.,\n",
       "        80.,  80.,  45.,  95.,  95.,  95.,  95.,  95.,  95.,  95.,  95.,\n",
       "        95.,  95., 126., 126.,  89.,  38.,  38.,  56.,  56.,  68.,  68.,\n",
       "        68.,  68.,  30.,  65.,  65.,  65.,  65.,  31.,  24.,  24.,  41.,\n",
       "         4.,   4.,  20.,   8.,   8.,  20.,  20.,  20.,  36.,  36.,  36.,\n",
       "        36.,  78.,  27.,  39.,  39.,  16.,  16.,  13.,  44.,  16.,  14.,\n",
       "        26.,  37.,  37.,  37.,  70.,  50.,  15.,  15.,  50.,  50.,  48.,\n",
       "       108., 116.,  67., 116., 116., 116., 116., 116.,   2., 113., 113.,\n",
       "        22.,   1.,   5.,  66., 101., 101.,  71.,  71.,  71.,   0.,  42.,\n",
       "       122.,   7.,  21.,  10.])"
      ]
     },
     "execution_count": 123,
     "metadata": {},
     "output_type": "execute_result"
    }
   ],
   "source": [
    "old_order= new_pd.parent_structure_id.to_numpy()   \n",
    "\n",
    "new_array= np.zeros_like(old_order)\n",
    "for i, j in enumerate(new_order):\n",
    "    new_array[old_order==j]=i\n",
    "\n",
    "new_array\n",
    "# generate new order for the detailed pd"
   ]
  },
  {
   "cell_type": "code",
   "execution_count": 125,
   "metadata": {},
   "outputs": [],
   "source": [
    "new_pd['new_order']= new_array\n",
    "new_pd.sort_values('new_order', inplace=True)"
   ]
  },
  {
   "cell_type": "code",
   "execution_count": 126,
   "metadata": {},
   "outputs": [],
   "source": [
    "new_pd.sort_values(by=['new_order', 'region_id'], ascending=[True, False] ,inplace=True)\n",
    "# sort by new order first (total amount within the same parent id), and then within each substructure, sort by layer 1 to layer 6"
   ]
  },
  {
   "cell_type": "code",
   "execution_count": 128,
   "metadata": {},
   "outputs": [
    {
     "data": {
      "text/html": [
       "<div>\n",
       "<style scoped>\n",
       "    .dataframe tbody tr th:only-of-type {\n",
       "        vertical-align: middle;\n",
       "    }\n",
       "\n",
       "    .dataframe tbody tr th {\n",
       "        vertical-align: top;\n",
       "    }\n",
       "\n",
       "    .dataframe thead th {\n",
       "        text-align: right;\n",
       "    }\n",
       "</style>\n",
       "<table border=\"1\" class=\"dataframe\">\n",
       "  <thead>\n",
       "    <tr style=\"text-align: right;\">\n",
       "      <th></th>\n",
       "      <th>id</th>\n",
       "      <th>atlas_id</th>\n",
       "      <th>name</th>\n",
       "      <th>acronym</th>\n",
       "      <th>st_level</th>\n",
       "      <th>ontology_id</th>\n",
       "      <th>hemisphere_id</th>\n",
       "      <th>weight</th>\n",
       "      <th>parent_structure_id</th>\n",
       "      <th>depth</th>\n",
       "      <th>...</th>\n",
       "      <th>neuro_name_structure_id</th>\n",
       "      <th>neuro_name_structure_id_path</th>\n",
       "      <th>failed</th>\n",
       "      <th>sphinx_id</th>\n",
       "      <th>structure_name_facet</th>\n",
       "      <th>failed_facet</th>\n",
       "      <th>safe_name</th>\n",
       "      <th>region_id</th>\n",
       "      <th>Total_counts</th>\n",
       "      <th>new_order</th>\n",
       "    </tr>\n",
       "  </thead>\n",
       "  <tbody>\n",
       "    <tr>\n",
       "      <th>260</th>\n",
       "      <td>656</td>\n",
       "      <td>930.0</td>\n",
       "      <td>Secondary motor area, layer 1</td>\n",
       "      <td>MOs1</td>\n",
       "      <td>11</td>\n",
       "      <td>1</td>\n",
       "      <td>3</td>\n",
       "      <td>8690</td>\n",
       "      <td>993.0</td>\n",
       "      <td>8</td>\n",
       "      <td>...</td>\n",
       "      <td>NaN</td>\n",
       "      <td>NaN</td>\n",
       "      <td>f</td>\n",
       "      <td>26</td>\n",
       "      <td>4032915713</td>\n",
       "      <td>734881840</td>\n",
       "      <td>Secondary motor area layer 1</td>\n",
       "      <td>503</td>\n",
       "      <td>249936</td>\n",
       "      <td>136.0</td>\n",
       "    </tr>\n",
       "    <tr>\n",
       "      <th>123</th>\n",
       "      <td>962</td>\n",
       "      <td>1110.0</td>\n",
       "      <td>Secondary motor area, layer 2/3</td>\n",
       "      <td>MOs2/3</td>\n",
       "      <td>11</td>\n",
       "      <td>1</td>\n",
       "      <td>3</td>\n",
       "      <td>8690</td>\n",
       "      <td>993.0</td>\n",
       "      <td>8</td>\n",
       "      <td>...</td>\n",
       "      <td>NaN</td>\n",
       "      <td>NaN</td>\n",
       "      <td>f</td>\n",
       "      <td>27</td>\n",
       "      <td>3274108161</td>\n",
       "      <td>734881840</td>\n",
       "      <td>Secondary motor area layer 2/3</td>\n",
       "      <td>504</td>\n",
       "      <td>1267609</td>\n",
       "      <td>136.0</td>\n",
       "    </tr>\n",
       "    <tr>\n",
       "      <th>364</th>\n",
       "      <td>767</td>\n",
       "      <td>944.0</td>\n",
       "      <td>Secondary motor area, layer 5</td>\n",
       "      <td>MOs5</td>\n",
       "      <td>11</td>\n",
       "      <td>1</td>\n",
       "      <td>3</td>\n",
       "      <td>8690</td>\n",
       "      <td>993.0</td>\n",
       "      <td>8</td>\n",
       "      <td>...</td>\n",
       "      <td>NaN</td>\n",
       "      <td>NaN</td>\n",
       "      <td>f</td>\n",
       "      <td>28</td>\n",
       "      <td>4144803096</td>\n",
       "      <td>734881840</td>\n",
       "      <td>Secondary motor area layer 5</td>\n",
       "      <td>505</td>\n",
       "      <td>663827</td>\n",
       "      <td>136.0</td>\n",
       "    </tr>\n",
       "    <tr>\n",
       "      <th>433</th>\n",
       "      <td>1021</td>\n",
       "      <td>1117.0</td>\n",
       "      <td>Secondary motor area, layer 6a</td>\n",
       "      <td>MOs6a</td>\n",
       "      <td>11</td>\n",
       "      <td>1</td>\n",
       "      <td>3</td>\n",
       "      <td>8690</td>\n",
       "      <td>993.0</td>\n",
       "      <td>8</td>\n",
       "      <td>...</td>\n",
       "      <td>NaN</td>\n",
       "      <td>NaN</td>\n",
       "      <td>f</td>\n",
       "      <td>29</td>\n",
       "      <td>3489757563</td>\n",
       "      <td>734881840</td>\n",
       "      <td>Secondary motor area layer 6a</td>\n",
       "      <td>506</td>\n",
       "      <td>472543</td>\n",
       "      <td>136.0</td>\n",
       "    </tr>\n",
       "    <tr>\n",
       "      <th>80</th>\n",
       "      <td>1085</td>\n",
       "      <td>1125.0</td>\n",
       "      <td>Secondary motor area, layer 6b</td>\n",
       "      <td>MOs6b</td>\n",
       "      <td>11</td>\n",
       "      <td>1</td>\n",
       "      <td>3</td>\n",
       "      <td>8690</td>\n",
       "      <td>993.0</td>\n",
       "      <td>8</td>\n",
       "      <td>...</td>\n",
       "      <td>NaN</td>\n",
       "      <td>NaN</td>\n",
       "      <td>f</td>\n",
       "      <td>30</td>\n",
       "      <td>1225271489</td>\n",
       "      <td>734881840</td>\n",
       "      <td>Secondary motor area layer 6b</td>\n",
       "      <td>507</td>\n",
       "      <td>8858</td>\n",
       "      <td>136.0</td>\n",
       "    </tr>\n",
       "    <tr>\n",
       "      <th>...</th>\n",
       "      <td>...</td>\n",
       "      <td>...</td>\n",
       "      <td>...</td>\n",
       "      <td>...</td>\n",
       "      <td>...</td>\n",
       "      <td>...</td>\n",
       "      <td>...</td>\n",
       "      <td>...</td>\n",
       "      <td>...</td>\n",
       "      <td>...</td>\n",
       "      <td>...</td>\n",
       "      <td>...</td>\n",
       "      <td>...</td>\n",
       "      <td>...</td>\n",
       "      <td>...</td>\n",
       "      <td>...</td>\n",
       "      <td>...</td>\n",
       "      <td>...</td>\n",
       "      <td>...</td>\n",
       "      <td>...</td>\n",
       "      <td>...</td>\n",
       "    </tr>\n",
       "    <tr>\n",
       "      <th>300</th>\n",
       "      <td>342</td>\n",
       "      <td>325.0</td>\n",
       "      <td>Substantia innominata</td>\n",
       "      <td>SI</td>\n",
       "      <td>8</td>\n",
       "      <td>1</td>\n",
       "      <td>3</td>\n",
       "      <td>8690</td>\n",
       "      <td>835.0</td>\n",
       "      <td>6</td>\n",
       "      <td>...</td>\n",
       "      <td>NaN</td>\n",
       "      <td>NaN</td>\n",
       "      <td>f</td>\n",
       "      <td>614</td>\n",
       "      <td>4279866235</td>\n",
       "      <td>734881840</td>\n",
       "      <td>Substantia innominata</td>\n",
       "      <td>806</td>\n",
       "      <td>8</td>\n",
       "      <td>3.0</td>\n",
       "    </tr>\n",
       "    <tr>\n",
       "      <th>63</th>\n",
       "      <td>784</td>\n",
       "      <td>663.0</td>\n",
       "      <td>corticospinal tract</td>\n",
       "      <td>cst</td>\n",
       "      <td>8</td>\n",
       "      <td>1</td>\n",
       "      <td>3</td>\n",
       "      <td>8690</td>\n",
       "      <td>983.0</td>\n",
       "      <td>3</td>\n",
       "      <td>...</td>\n",
       "      <td>NaN</td>\n",
       "      <td>NaN</td>\n",
       "      <td>f</td>\n",
       "      <td>1201</td>\n",
       "      <td>2338134602</td>\n",
       "      <td>734881840</td>\n",
       "      <td>corticospinal tract</td>\n",
       "      <td>1154</td>\n",
       "      <td>7</td>\n",
       "      <td>2.0</td>\n",
       "    </tr>\n",
       "    <tr>\n",
       "      <th>24</th>\n",
       "      <td>102</td>\n",
       "      <td>578.0</td>\n",
       "      <td>nigrostriatal tract</td>\n",
       "      <td>nst</td>\n",
       "      <td>8</td>\n",
       "      <td>1</td>\n",
       "      <td>3</td>\n",
       "      <td>8690</td>\n",
       "      <td>760.0</td>\n",
       "      <td>4</td>\n",
       "      <td>...</td>\n",
       "      <td>NaN</td>\n",
       "      <td>NaN</td>\n",
       "      <td>f</td>\n",
       "      <td>1222</td>\n",
       "      <td>1908794680</td>\n",
       "      <td>734881840</td>\n",
       "      <td>nigrostriatal tract</td>\n",
       "      <td>1236</td>\n",
       "      <td>1</td>\n",
       "      <td>1.0</td>\n",
       "    </tr>\n",
       "    <tr>\n",
       "      <th>443</th>\n",
       "      <td>436</td>\n",
       "      <td>478.0</td>\n",
       "      <td>columns of the fornix</td>\n",
       "      <td>fx</td>\n",
       "      <td>10</td>\n",
       "      <td>1</td>\n",
       "      <td>3</td>\n",
       "      <td>8690</td>\n",
       "      <td>737.0</td>\n",
       "      <td>6</td>\n",
       "      <td>...</td>\n",
       "      <td>NaN</td>\n",
       "      <td>NaN</td>\n",
       "      <td>f</td>\n",
       "      <td>1253</td>\n",
       "      <td>2234311931</td>\n",
       "      <td>734881840</td>\n",
       "      <td>columns of the fornix</td>\n",
       "      <td>1185</td>\n",
       "      <td>1</td>\n",
       "      <td>0.0</td>\n",
       "    </tr>\n",
       "    <tr>\n",
       "      <th>261</th>\n",
       "      <td>997</td>\n",
       "      <td>-1.0</td>\n",
       "      <td>root</td>\n",
       "      <td>root</td>\n",
       "      <td>0</td>\n",
       "      <td>1</td>\n",
       "      <td>3</td>\n",
       "      <td>8690</td>\n",
       "      <td>NaN</td>\n",
       "      <td>0</td>\n",
       "      <td>...</td>\n",
       "      <td>NaN</td>\n",
       "      <td>NaN</td>\n",
       "      <td>f</td>\n",
       "      <td>1</td>\n",
       "      <td>385153371</td>\n",
       "      <td>734881840</td>\n",
       "      <td>root</td>\n",
       "      <td>1271</td>\n",
       "      <td>31152</td>\n",
       "      <td>0.0</td>\n",
       "    </tr>\n",
       "  </tbody>\n",
       "</table>\n",
       "<p>444 rows × 24 columns</p>\n",
       "</div>"
      ],
      "text/plain": [
       "       id  atlas_id                             name acronym  st_level  \\\n",
       "260   656     930.0    Secondary motor area, layer 1    MOs1        11   \n",
       "123   962    1110.0  Secondary motor area, layer 2/3  MOs2/3        11   \n",
       "364   767     944.0    Secondary motor area, layer 5    MOs5        11   \n",
       "433  1021    1117.0   Secondary motor area, layer 6a   MOs6a        11   \n",
       "80   1085    1125.0   Secondary motor area, layer 6b   MOs6b        11   \n",
       "..    ...       ...                              ...     ...       ...   \n",
       "300   342     325.0            Substantia innominata      SI         8   \n",
       "63    784     663.0              corticospinal tract     cst         8   \n",
       "24    102     578.0              nigrostriatal tract     nst         8   \n",
       "443   436     478.0            columns of the fornix      fx        10   \n",
       "261   997      -1.0                             root    root         0   \n",
       "\n",
       "     ontology_id  hemisphere_id  weight  parent_structure_id  depth  ...  \\\n",
       "260            1              3    8690                993.0      8  ...   \n",
       "123            1              3    8690                993.0      8  ...   \n",
       "364            1              3    8690                993.0      8  ...   \n",
       "433            1              3    8690                993.0      8  ...   \n",
       "80             1              3    8690                993.0      8  ...   \n",
       "..           ...            ...     ...                  ...    ...  ...   \n",
       "300            1              3    8690                835.0      6  ...   \n",
       "63             1              3    8690                983.0      3  ...   \n",
       "24             1              3    8690                760.0      4  ...   \n",
       "443            1              3    8690                737.0      6  ...   \n",
       "261            1              3    8690                  NaN      0  ...   \n",
       "\n",
       "     neuro_name_structure_id  neuro_name_structure_id_path failed sphinx_id  \\\n",
       "260                      NaN                           NaN      f        26   \n",
       "123                      NaN                           NaN      f        27   \n",
       "364                      NaN                           NaN      f        28   \n",
       "433                      NaN                           NaN      f        29   \n",
       "80                       NaN                           NaN      f        30   \n",
       "..                       ...                           ...    ...       ...   \n",
       "300                      NaN                           NaN      f       614   \n",
       "63                       NaN                           NaN      f      1201   \n",
       "24                       NaN                           NaN      f      1222   \n",
       "443                      NaN                           NaN      f      1253   \n",
       "261                      NaN                           NaN      f         1   \n",
       "\n",
       "     structure_name_facet  failed_facet                       safe_name  \\\n",
       "260            4032915713     734881840    Secondary motor area layer 1   \n",
       "123            3274108161     734881840  Secondary motor area layer 2/3   \n",
       "364            4144803096     734881840    Secondary motor area layer 5   \n",
       "433            3489757563     734881840   Secondary motor area layer 6a   \n",
       "80             1225271489     734881840   Secondary motor area layer 6b   \n",
       "..                    ...           ...                             ...   \n",
       "300            4279866235     734881840           Substantia innominata   \n",
       "63             2338134602     734881840             corticospinal tract   \n",
       "24             1908794680     734881840             nigrostriatal tract   \n",
       "443            2234311931     734881840           columns of the fornix   \n",
       "261             385153371     734881840                            root   \n",
       "\n",
       "     region_id  Total_counts  new_order  \n",
       "260        503        249936      136.0  \n",
       "123        504       1267609      136.0  \n",
       "364        505        663827      136.0  \n",
       "433        506        472543      136.0  \n",
       "80         507          8858      136.0  \n",
       "..         ...           ...        ...  \n",
       "300        806             8        3.0  \n",
       "63        1154             7        2.0  \n",
       "24        1236             1        1.0  \n",
       "443       1185             1        0.0  \n",
       "261       1271         31152        0.0  \n",
       "\n",
       "[444 rows x 24 columns]"
      ]
     },
     "execution_count": 128,
     "metadata": {},
     "output_type": "execute_result"
    }
   ],
   "source": [
    "new_pd[::-1]"
   ]
  },
  {
   "cell_type": "code",
   "execution_count": null,
   "metadata": {},
   "outputs": [],
   "source": []
  }
 ],
 "metadata": {
  "kernelspec": {
   "display_name": "Python 3",
   "language": "python",
   "name": "python3"
  },
  "language_info": {
   "codemirror_mode": {
    "name": "ipython",
    "version": 3
   },
   "file_extension": ".py",
   "mimetype": "text/x-python",
   "name": "python",
   "nbconvert_exporter": "python",
   "pygments_lexer": "ipython3",
   "version": "3.7.3"
  }
 },
 "nbformat": 4,
 "nbformat_minor": 4
}
