{
 "cells": [
  {
   "cell_type": "code",
   "execution_count": 23,
   "metadata": {},
   "outputs": [],
   "source": [
    "import os\n",
    "import tkinter.filedialog as fdialog\n",
    "import Neuron_analysis as na\n",
    "from Neuron_analysis import analysis_tools as at\n",
    "from Neuron_analysis import points as pt"
   ]
  },
  {
   "cell_type": "markdown",
   "metadata": {},
   "source": [
    "## the follow section is for ara2sample samples"
   ]
  },
  {
   "cell_type": "code",
   "execution_count": 12,
   "metadata": {},
   "outputs": [],
   "source": [
    "in_dir = fdialog.askdirectory(title='Please select the input directory')\n",
    "\n",
    "#template='D:\\Allenbrainatlas\\ARA_25_micron_mhd_ccf2017\\average_template_25.mhd'\n",
    "sample= fdialog.askopenfilename(title='Selecte the sample stack')\n",
    "## this is to get the final dimension of the image\n",
    "\n",
    "dspoint_name= fdialog.askopenfilename(title='Selecte the transformed points for dendrites')"
   ]
  },
  {
   "cell_type": "code",
   "execution_count": 13,
   "metadata": {},
   "outputs": [],
   "source": [
    "points, atlas= na.get_pt_natlas(dspoint_name, in_dir)"
   ]
  },
  {
   "cell_type": "code",
   "execution_count": 14,
   "metadata": {},
   "outputs": [
    {
     "name": "stdout",
     "output_type": "stream",
     "text": [
      "Starting to saving tif files..\n"
     ]
    },
    {
     "name": "stderr",
     "output_type": "stream",
     "text": [
      "C:\\Users\\liu\\AppData\\Local\\Continuum\\anaconda3\\lib\\site-packages\\skimage\\io\\_io.py:141: UserWarning: D:/2PT electroporation time/AL092/D_Dspoints.tif is a low contrast image\n",
      "  warn('%s is a low contrast image' % fname)\n"
     ]
    }
   ],
   "source": [
    "at.make_tif(points, atlas, in_dir,axon=False)"
   ]
  },
  {
   "cell_type": "markdown",
   "metadata": {},
   "source": [
    "## now for sample2ara samples\n",
    "\n",
    "Refills the missing z section !"
   ]
  },
  {
   "cell_type": "code",
   "execution_count": 90,
   "metadata": {},
   "outputs": [],
   "source": [
    "in_dir = fdialog.askdirectory(title='Please select the input directory containing the corresponding atlas')\n",
    "\n",
    "template='D:\\Allenbrainatlas\\ARA_25_micron_mhd_ccf2017\\\\average_template_25.mhd'\n",
    "## this is to get the final dimension of the image\n",
    "\n",
    "dspoint_name= fdialog.askopenfilename(title='Selecte the transformed points for dendrites')"
   ]
  },
  {
   "cell_type": "code",
   "execution_count": 91,
   "metadata": {},
   "outputs": [],
   "source": [
    "points, atlas= na.get_pt_natlas(dspoint_name, in_dir)\n",
    "atlas_name= re.search(\"atlas_[0-9]{1,3}.[0-9]{1,3}\",atlas)[0]\n",
    "# this line is needed since na.get_pt_natlas gives the full path of atlas \n",
    "# we only want the atlas name"
   ]
  },
  {
   "cell_type": "code",
   "execution_count": 92,
   "metadata": {},
   "outputs": [],
   "source": [
    "fullpts= pt.refill_section(points,atlas_name)"
   ]
  },
  {
   "cell_type": "code",
   "execution_count": 93,
   "metadata": {},
   "outputs": [
    {
     "name": "stdout",
     "output_type": "stream",
     "text": [
      "Starting to saving tif files..\n"
     ]
    },
    {
     "name": "stderr",
     "output_type": "stream",
     "text": [
      "C:\\Users\\liu\\AppData\\Local\\Continuum\\anaconda3\\lib\\site-packages\\skimage\\io\\_io.py:141: UserWarning: D:/2PT electroporation time/GF243/D_Dspoints.tif is a low contrast image\n",
      "  warn('%s is a low contrast image' % fname)\n"
     ]
    }
   ],
   "source": [
    "at.make_tif(fullpts, template, in_dir,axon=False)\n",
    "# since the missing z section is filled, we take the dimension of the full template"
   ]
  },
  {
   "cell_type": "markdown",
   "metadata": {},
   "source": [
    "## plotting profiles for individual neuron"
   ]
  },
  {
   "cell_type": "code",
   "execution_count": 1,
   "metadata": {},
   "outputs": [],
   "source": [
    "import pandas as pd\n",
    "import matplotlib as plt\n",
    "\n",
    "import Neuron_analysis as na\n",
    "\n",
    "import plotly.graph_objects as go\n",
    "import plotly.figure_factory as ff"
   ]
  },
  {
   "cell_type": "code",
   "execution_count": 45,
   "metadata": {},
   "outputs": [
    {
     "data": {
      "text/plain": [
       "'atlas_95-407'"
      ]
     },
     "execution_count": 45,
     "metadata": {},
     "output_type": "execute_result"
    }
   ],
   "source": []
  },
  {
   "cell_type": "code",
   "execution_count": null,
   "metadata": {},
   "outputs": [],
   "source": []
  }
 ],
 "metadata": {
  "kernelspec": {
   "display_name": "Python 3",
   "language": "python",
   "name": "python3"
  },
  "language_info": {
   "codemirror_mode": {
    "name": "ipython",
    "version": 3
   },
   "file_extension": ".py",
   "mimetype": "text/x-python",
   "name": "python",
   "nbconvert_exporter": "python",
   "pygments_lexer": "ipython3",
   "version": "3.7.3"
  }
 },
 "nbformat": 4,
 "nbformat_minor": 4
}
