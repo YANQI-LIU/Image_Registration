{
 "cells": [
  {
   "cell_type": "markdown",
   "metadata": {},
   "source": [
    "Read output txt file from elastix and locate where they are in the brain"
   ]
  },
  {
   "cell_type": "code",
   "execution_count": 7,
   "metadata": {},
   "outputs": [],
   "source": [
    "import os\n",
    "\n",
    "import pandas as pd\n",
    "\n",
    "import numpy as np\n",
    "\n",
    "import SimpleITK as sitk\n",
    "\n",
    "import warnings\n",
    "\n",
    "import tkinter.filedialog as fdialog\n",
    "\n",
    "import matplotlib.pyplot as plt\n",
    "\n",
    "import skimage\n",
    "from skimage import io\n",
    "\n",
    "import seaborn as sns"
   ]
  },
  {
   "cell_type": "code",
   "execution_count": 8,
   "metadata": {},
   "outputs": [
    {
     "data": {
      "text/plain": [
       "(625, 374, 320)"
      ]
     },
     "execution_count": 8,
     "metadata": {},
     "output_type": "execute_result"
    }
   ],
   "source": [
    "points_name=fdialog.askopenfile( title='Select the downsampled points').name\n",
    "\n",
    "atlas_name=fdialog.askopenfile( title='Select the corresponding atlas').name\n",
    "\n",
    "outdir = fdialog.askdirectory(title='Please select the output directory')\n",
    "\n",
    "atlas= sitk.ReadImage(atlas_name)\n",
    "\n",
    "atlas.GetSize()"
   ]
  },
  {
   "cell_type": "code",
   "execution_count": 9,
   "metadata": {},
   "outputs": [],
   "source": [
    "# csv_name=fdialog.askopenfile(initialdir='D:\\', title='Select the csv file with labels').name\n",
    "\n",
    "# atlas_labels= pd.read_csv(csv_name)\n",
    "\n",
    "atlas_labels=pd.read_csv('D:\\Allenbrainatlas\\ARA_25_micron_mhd_ccf2017\\labels.csv')"
   ]
  },
  {
   "cell_type": "code",
   "execution_count": 10,
   "metadata": {},
   "outputs": [],
   "source": [
    "output=open(points_name,'r')\n",
    "outputpoint= output.readlines()"
   ]
  },
  {
   "cell_type": "markdown",
   "metadata": {},
   "source": [
    "### The next 3 cells are only for points that are transformed(after sample2ara)"
   ]
  },
  {
   "cell_type": "code",
   "execution_count": 131,
   "metadata": {},
   "outputs": [],
   "source": [
    "#This section is only for points that are transformed(after sample2ara)\n",
    "key_word='OutputIndexFixed'\n",
    "length=len(key_word)\n",
    "\n",
    "all_points=[]\n",
    "for lines in outputpoint:\n",
    "    start= lines.find('OutputIndexFixed')\n",
    "    this_line=lines[start+length+5:start+length+17] \n",
    "    this_line= this_line.split(' ')\n",
    "    mypoints=[int(stuff) for stuff in this_line if stuff.isnumeric()]\n",
    "    all_points.append(mypoints)\n",
    "\n",
    "#this is a very stupid way of finding the output points\n",
    "# note that we convert string into integer here"
   ]
  },
  {
   "cell_type": "code",
   "execution_count": null,
   "metadata": {},
   "outputs": [],
   "source": [
    "points_in_atlas=[int(atlas[i]) for i in all_points ]\n",
    "\n",
    "unique_id=set(points_in_atlas)\n",
    "\n",
    "our_regions=atlas_labels.loc[atlas_labels['id'].isin (unique_id)]\n",
    "\n",
    "id_withcounts=[]\n",
    "for i in unique_id:\n",
    "    id_withcounts.append([i, points_in_atlas.count(i)])\n",
    "\n",
    "new_df= pd.DataFrame(id_withcounts, columns=['id', 'counts'])\n",
    "our_regionWcounts=pd.merge(atlas_labels, new_df)\n",
    "our_regionWcounts.head()"
   ]
  },
  {
   "cell_type": "code",
   "execution_count": null,
   "metadata": {},
   "outputs": [],
   "source": [
    "# In case of suboptimal registration, some points will fall out of the atlas (and will give a 0 index)\n",
    "# check for this and thrown a warning\n",
    "\n",
    "f3=[]\n",
    "for x in atlas_labels['id']:\n",
    "    intID = int(x)\n",
    "    f3.append(intID)\n",
    "\n",
    "# need to format this first ourselves,otherwise problematic for 0 and very large numbers (idk why)    \n",
    "\n",
    "for test in unique_id:\n",
    "    if test not in f3:\n",
    "        print(test,'this index does not exist in allen reference atlas, consider possible suboptimal image registration')\n",
    "        warnings.warn('Consider possible suboptimal image registration')"
   ]
  },
  {
   "cell_type": "markdown",
   "metadata": {},
   "source": [
    "### The next cells are only for points that are not transformed (after ara2sample)"
   ]
  },
  {
   "cell_type": "code",
   "execution_count": 11,
   "metadata": {},
   "outputs": [],
   "source": [
    "# This section is only for points that are not transformed (after ara2sample)\n",
    "all_points=[]\n",
    "for lines in outputpoint[2:]:\n",
    "    this_line= lines.split (' ')\n",
    "    mypoints= [int(stuff) for stuff in this_line]\n",
    "    all_points.append(mypoints)"
   ]
  },
  {
   "cell_type": "code",
   "execution_count": 12,
   "metadata": {},
   "outputs": [],
   "source": [
    "points_in_atlas=[int(atlas[i]) for i in all_points ]\n",
    "\n",
    "unique_id=set(points_in_atlas)\n",
    "\n",
    "our_regions=atlas_labels.loc[atlas_labels['id'].isin (unique_id)]\n",
    "\n",
    "id_withcounts=[]\n",
    "for i in unique_id:\n",
    "    id_withcounts.append([i, points_in_atlas.count(i)])\n",
    "\n",
    "new_df= pd.DataFrame(id_withcounts, columns=['id', 'counts'])\n",
    "our_regionWcounts=pd.merge(atlas_labels, new_df)\n",
    "our_regionWcounts.head()\n",
    "\n",
    "our_regionWcounts.to_excel(outdir+'/RegionCounts.xlsx')"
   ]
  },
  {
   "cell_type": "code",
   "execution_count": 13,
   "metadata": {},
   "outputs": [
    {
     "data": {
      "text/plain": [
       "0       Primary somatosensory area barrel field layer 4\n",
       "1                           Primary visual area layer 5\n",
       "2                          Dorsal auditory area layer 4\n",
       "3                         Dorsal auditory area layer 6a\n",
       "4                      Anteromedial visual area layer 4\n",
       "5      Primary somatosensory area barrel field layer 6a\n",
       "6                                       cingulum bundle\n",
       "7                     Anteromedial visual area layer 6a\n",
       "8              Supplemental somatosensory area layer 6a\n",
       "9              Primary somatosensory area trunk layer 1\n",
       "10                          Rostrolateral area layer 6b\n",
       "11              Supplemental somatosensory area layer 5\n",
       "12           Primary somatosensory area trunk layer 2/3\n",
       "13                         Dorsal auditory area layer 5\n",
       "14     Primary somatosensory area barrel field layer 6b\n",
       "15                                      corpus callosum\n",
       "16             Primary somatosensory area trunk layer 5\n",
       "17    Primary somatosensory area barrel field layer 2/3\n",
       "18      Primary somatosensory area barrel field layer 1\n",
       "19                     Anteromedial visual area layer 5\n",
       "20      Primary somatosensory area barrel field layer 5\n",
       "Name: safe_name, dtype: object"
      ]
     },
     "execution_count": 13,
     "metadata": {},
     "output_type": "execute_result"
    }
   ],
   "source": [
    "our_regionWcounts['safe_name']"
   ]
  },
  {
   "cell_type": "code",
   "execution_count": 14,
   "metadata": {},
   "outputs": [
    {
     "name": "stdout",
     "output_type": "stream",
     "text": [
      "312782592 this index does not exist in allen reference atlas, consider possible suboptimal image registration\n",
      "0 this index does not exist in allen reference atlas, consider possible suboptimal image registration\n",
      "182305696 this index does not exist in allen reference atlas, consider possible suboptimal image registration\n",
      "312782560 this index does not exist in allen reference atlas, consider possible suboptimal image registration\n"
     ]
    },
    {
     "name": "stderr",
     "output_type": "stream",
     "text": [
      "C:\\Users\\liu\\AppData\\Local\\Continuum\\anaconda3\\lib\\site-packages\\ipykernel_launcher.py:14: UserWarning: Consider possible suboptimal image registration\n",
      "  \n"
     ]
    }
   ],
   "source": [
    "# In case of suboptimal registration, some points will fall out of the atlas (and will give a 0 index)\n",
    "# check for this and thrown a warning\n",
    "\n",
    "f3=[]\n",
    "for x in atlas_labels['id']:\n",
    "    intID = int(x)\n",
    "    f3.append(intID)\n",
    "\n",
    "# need to format this first ourselves,otherwise problematic for 0 and very large numbers (idk why)    \n",
    "\n",
    "for test in unique_id:\n",
    "    if test not in f3:\n",
    "        print(test,'this index does not exist in allen reference atlas, consider possible suboptimal image registration')\n",
    "        warnings.warn('Consider possible suboptimal image registration')\n",
    "        \n",
    "# Turns out these big numbers exist in atlas but have no name in the json file..ask on allen brain map community forum\n",
    "# the 0 index is points out of the brain b/c registration problem"
   ]
  },
  {
   "cell_type": "code",
   "execution_count": 15,
   "metadata": {},
   "outputs": [],
   "source": [
    "#Plot the result\n",
    "\n",
    "our_regionWcounts=our_regionWcounts.sort_values(by=['counts'])\n",
    "\n",
    "percent=100*our_regionWcounts['counts']/np.sum(our_regionWcounts['counts'])"
   ]
  },
  {
   "cell_type": "code",
   "execution_count": 17,
   "metadata": {},
   "outputs": [
    {
     "data": {
      "image/png": "[encoded data removed]",
      "text/plain": [
       "<Figure size 720x720 with 1 Axes>"
      ]
     },
     "metadata": {
      "needs_background": "light"
     },
     "output_type": "display_data"
    }
   ],
   "source": [
    "fig, ax = plt.subplots(figsize=[10,10])\n",
    "my_plot=sns.barplot(y=\"acronym\", x=percent, data=our_regionWcounts)\n",
    "ax.set(xlabel='% of axons', ylabel='Brain region')\n",
    "sns.set_context(\"talk\")\n",
    "sns.set_palette(\"pastel\")\n",
    "fig.savefig(outdir+\"/RegionPlot.svg\")"
   ]
  },
  {
   "cell_type": "code",
   "execution_count": 18,
   "metadata": {},
   "outputs": [
    {
     "data": {
      "text/plain": [
       "array([ 68,  69,  70,  71,  72,  73,  74,  75,  76,  77,  78,  79,  80,\n",
       "        81,  82,  83,  84,  85,  86,  87,  88,  89,  90,  91,  92,  93,\n",
       "        94,  95,  96,  97,  98,  99, 100, 101, 102, 103, 104, 105, 106,\n",
       "       107, 108, 109, 110, 111, 112, 113, 114, 115, 116, 117, 118, 119,\n",
       "       120, 121, 122, 123, 124, 125, 126, 127, 128, 129, 130, 131, 132,\n",
       "       133, 134, 135, 136, 137, 138, 139, 140, 141, 142, 143, 144, 145,\n",
       "       146, 147, 148, 149, 150, 151, 152, 153, 154, 155, 156, 157, 158,\n",
       "       159, 160, 161, 162, 163, 164, 165, 166, 167, 168, 169, 170, 171,\n",
       "       172, 173, 174, 175, 176, 177, 178, 179, 180, 181, 182])"
      ]
     },
     "execution_count": 18,
     "metadata": {},
     "output_type": "execute_result"
    }
   ],
   "source": [
    "# Now project downsampled points into tiff to see if they make sense\n",
    "svolume=np.zeros(atlas.GetSize())\n",
    "#columns, rows, planes\n",
    "\n",
    "zplanes=[]\n",
    "for i in all_points:\n",
    "    zplanes.append( i[2])\n",
    "zplanes=np.unique(zplanes)\n",
    "zplanes"
   ]
  },
  {
   "cell_type": "code",
   "execution_count": 19,
   "metadata": {},
   "outputs": [],
   "source": [
    "temp=np.zeros(atlas.GetSize()[0:2])\n",
    "thepoints=np.asarray(all_points)\n",
    "\n",
    "for i in zplanes:\n",
    "    index= thepoints[:,2]==i\n",
    "    uindex,counts=np.unique(thepoints[index],return_counts=True, axis=0)\n",
    "    for j, lines in enumerate(uindex):\n",
    "        coord1,coord2=lines[0:2]\n",
    "        temp[coord1][coord2]= counts[j]\n",
    "    svolume[:,:,i]=temp #write this in \n",
    "    temp=np.zeros(atlas.GetSize()[0:2]) #reset the empty plane after each z"
   ]
  },
  {
   "cell_type": "code",
   "execution_count": 20,
   "metadata": {},
   "outputs": [],
   "source": [
    "for j, lines in enumerate(uindex):\n",
    "    coord1,coord2=lines[0:2]\n",
    "    temp[coord1][coord2]= counts[j]"
   ]
  },
  {
   "cell_type": "code",
   "execution_count": 21,
   "metadata": {},
   "outputs": [
    {
     "data": {
      "text/plain": [
       "<matplotlib.image.AxesImage at 0x14432b32358>"
      ]
     },
     "execution_count": 21,
     "metadata": {},
     "output_type": "execute_result"
    },
    {
     "data": {
      "image/png": "[encoded data removed]",
      "text/plain": [
       "<Figure size 432x288 with 1 Axes>"
      ]
     },
     "metadata": {
      "needs_background": "light"
     },
     "output_type": "display_data"
    }
   ],
   "source": [
    "plt.imshow(svolume[:,:,69])"
   ]
  },
  {
   "cell_type": "code",
   "execution_count": 22,
   "metadata": {},
   "outputs": [
    {
     "name": "stderr",
     "output_type": "stream",
     "text": [
      "C:\\Users\\liu\\AppData\\Local\\Continuum\\anaconda3\\lib\\site-packages\\skimage\\io\\_io.py:141: UserWarning: D:/AL080/anno/DS_points.tif is a low contrast image\n",
      "  warn('%s is a low contrast image' % fname)\n"
     ]
    }
   ],
   "source": [
    "coronal_planetmp= np.swapaxes(np.int16(svolume),0,2)\n",
    "#for some reason, if just save stuff as tiff, it will save x planes of yz view\n",
    "#here we shift the 3rd dimension with the first dimension to obtain xy view\n",
    "\n",
    "io.imsave(outdir+'/DS_points.tif',coronal_planetmp)"
   ]
  },
  {
   "cell_type": "code",
   "execution_count": null,
   "metadata": {},
   "outputs": [],
   "source": []
  }
 ],
 "metadata": {
  "kernelspec": {
   "display_name": "Python 3",
   "language": "python",
   "name": "python3"
  },
  "language_info": {
   "codemirror_mode": {
    "name": "ipython",
    "version": 3
   },
   "file_extension": ".py",
   "mimetype": "text/x-python",
   "name": "python",
   "nbconvert_exporter": "python",
   "pygments_lexer": "ipython3",
   "version": "3.7.3"
  }
 },
 "nbformat": 4,
 "nbformat_minor": 4
}
