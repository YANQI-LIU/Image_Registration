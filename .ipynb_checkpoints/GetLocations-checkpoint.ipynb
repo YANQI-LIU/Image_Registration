{
 "cells": [
  {
   "cell_type": "code",
   "execution_count": 412,
   "metadata": {},
   "outputs": [],
   "source": [
    "import os\n",
    "\n",
    "import pandas as pd\n",
    "\n",
    "import numpy as np\n",
    "\n",
    "import SimpleITK as sitk\n",
    "\n",
    "import warnings"
   ]
  },
  {
   "cell_type": "code",
   "execution_count": 33,
   "metadata": {},
   "outputs": [
    {
     "data": {
      "text/plain": [
       "(456, 320, 320)"
      ]
     },
     "execution_count": 33,
     "metadata": {},
     "output_type": "execute_result"
    }
   ],
   "source": [
    "os.chdir('D:\\Allenbrainatlas\\ARA_25_micron_mhd_ccf2017')\n",
    "\n",
    "atlas= sitk.ReadImage('atlas_smooth1_corrected.mhd')\n",
    "atlas=atlas[:,:,120:440]\n",
    "\n",
    "atlas.GetSize()"
   ]
  },
  {
   "cell_type": "code",
   "execution_count": 34,
   "metadata": {
    "collapsed": true,
    "jupyter": {
     "outputs_hidden": true
    }
   },
   "outputs": [
    {
     "data": {
      "text/plain": [
       "918.0"
      ]
     },
     "execution_count": 34,
     "metadata": {},
     "output_type": "execute_result"
    }
   ],
   "source": [
    "# x y z coordinates\n",
    "atlas[48,200,98]"
   ]
  },
  {
   "cell_type": "code",
   "execution_count": 31,
   "metadata": {},
   "outputs": [],
   "source": [
    "atlas_labels= pd.read_csv('labels.csv')"
   ]
  },
  {
   "cell_type": "code",
   "execution_count": 81,
   "metadata": {},
   "outputs": [],
   "source": [
    "output=open('outputpointsal066.txt','r')\n",
    "outputpoint= output.readlines()"
   ]
  },
  {
   "cell_type": "code",
   "execution_count": 131,
   "metadata": {},
   "outputs": [],
   "source": [
    "key_word='OutputIndexFixed'\n",
    "length=len(key_word)\n",
    "\n",
    "all_points=[]\n",
    "for lines in outputpoint:\n",
    "    start= lines.find('OutputIndexFixed')\n",
    "    this_line=lines[start+length+5:start+length+17] \n",
    "    this_line= this_line.split(' ')\n",
    "    mypoints=[int(stuff) for stuff in this_line if stuff.isnumeric()]\n",
    "    all_points.append(mypoints)\n",
    "\n",
    "#this is a very stupid way of finding the output points\n",
    "# note that we convert string into integer here"
   ]
  },
  {
   "cell_type": "code",
   "execution_count": 404,
   "metadata": {},
   "outputs": [
    {
     "data": {
      "text/html": [
       "<div>\n",
       "<style scoped>\n",
       "    .dataframe tbody tr th:only-of-type {\n",
       "        vertical-align: middle;\n",
       "    }\n",
       "\n",
       "    .dataframe tbody tr th {\n",
       "        vertical-align: top;\n",
       "    }\n",
       "\n",
       "    .dataframe thead th {\n",
       "        text-align: right;\n",
       "    }\n",
       "</style>\n",
       "<table border=\"1\" class=\"dataframe\">\n",
       "  <thead>\n",
       "    <tr style=\"text-align: right;\">\n",
       "      <th></th>\n",
       "      <th>id</th>\n",
       "      <th>atlas_id</th>\n",
       "      <th>name</th>\n",
       "      <th>acronym</th>\n",
       "      <th>st_level</th>\n",
       "      <th>ontology_id</th>\n",
       "      <th>hemisphere_id</th>\n",
       "      <th>weight</th>\n",
       "      <th>parent_structure_id</th>\n",
       "      <th>depth</th>\n",
       "      <th>...</th>\n",
       "      <th>structure_id_path</th>\n",
       "      <th>color_hex_triplet</th>\n",
       "      <th>neuro_name_structure_id</th>\n",
       "      <th>neuro_name_structure_id_path</th>\n",
       "      <th>failed</th>\n",
       "      <th>sphinx_id</th>\n",
       "      <th>structure_name_facet</th>\n",
       "      <th>failed_facet</th>\n",
       "      <th>safe_name</th>\n",
       "      <th>counts</th>\n",
       "    </tr>\n",
       "  </thead>\n",
       "  <tbody>\n",
       "    <tr>\n",
       "      <th>0</th>\n",
       "      <td>1009</td>\n",
       "      <td>691.0</td>\n",
       "      <td>fiber tracts</td>\n",
       "      <td>fiber tracts</td>\n",
       "      <td>1</td>\n",
       "      <td>1</td>\n",
       "      <td>3</td>\n",
       "      <td>8690</td>\n",
       "      <td>997.0</td>\n",
       "      <td>1</td>\n",
       "      <td>...</td>\n",
       "      <td>/997/1009/</td>\n",
       "      <td>CCCCCC</td>\n",
       "      <td>NaN</td>\n",
       "      <td>NaN</td>\n",
       "      <td>f</td>\n",
       "      <td>1102</td>\n",
       "      <td>771268094</td>\n",
       "      <td>734881840</td>\n",
       "      <td>fiber tracts</td>\n",
       "      <td>52</td>\n",
       "    </tr>\n",
       "    <tr>\n",
       "      <th>1</th>\n",
       "      <td>1074</td>\n",
       "      <td>1124.0</td>\n",
       "      <td>Anterolateral visual area, layer 1</td>\n",
       "      <td>VISal1</td>\n",
       "      <td>11</td>\n",
       "      <td>1</td>\n",
       "      <td>3</td>\n",
       "      <td>8690</td>\n",
       "      <td>402.0</td>\n",
       "      <td>8</td>\n",
       "      <td>...</td>\n",
       "      <td>/997/8/567/688/695/315/669/402/1074/</td>\n",
       "      <td>08858C</td>\n",
       "      <td>NaN</td>\n",
       "      <td>NaN</td>\n",
       "      <td>f</td>\n",
       "      <td>166</td>\n",
       "      <td>2830003304</td>\n",
       "      <td>734881840</td>\n",
       "      <td>Anterolateral visual area layer 1</td>\n",
       "      <td>7</td>\n",
       "    </tr>\n",
       "    <tr>\n",
       "      <th>2</th>\n",
       "      <td>1047</td>\n",
       "      <td>979.0</td>\n",
       "      <td>Primary somatosensory area, barrel field, layer 4</td>\n",
       "      <td>SSp-bfd4</td>\n",
       "      <td>11</td>\n",
       "      <td>1</td>\n",
       "      <td>3</td>\n",
       "      <td>8690</td>\n",
       "      <td>329.0</td>\n",
       "      <td>9</td>\n",
       "      <td>...</td>\n",
       "      <td>/997/8/567/688/695/315/453/322/329/1047/</td>\n",
       "      <td>188064</td>\n",
       "      <td>NaN</td>\n",
       "      <td>NaN</td>\n",
       "      <td>f</td>\n",
       "      <td>55</td>\n",
       "      <td>3439709501</td>\n",
       "      <td>734881840</td>\n",
       "      <td>Primary somatosensory area barrel field layer 4</td>\n",
       "      <td>560</td>\n",
       "    </tr>\n",
       "    <tr>\n",
       "      <th>3</th>\n",
       "      <td>600</td>\n",
       "      <td>923.0</td>\n",
       "      <td>Dorsal auditory area, layer 2/3</td>\n",
       "      <td>AUDd2/3</td>\n",
       "      <td>11</td>\n",
       "      <td>1</td>\n",
       "      <td>3</td>\n",
       "      <td>8690</td>\n",
       "      <td>1011.0</td>\n",
       "      <td>8</td>\n",
       "      <td>...</td>\n",
       "      <td>/997/8/567/688/695/315/247/1011/600/</td>\n",
       "      <td>019399</td>\n",
       "      <td>NaN</td>\n",
       "      <td>NaN</td>\n",
       "      <td>f</td>\n",
       "      <td>125</td>\n",
       "      <td>2148227545</td>\n",
       "      <td>734881840</td>\n",
       "      <td>Dorsal auditory area layer 2/3</td>\n",
       "      <td>130</td>\n",
       "    </tr>\n",
       "    <tr>\n",
       "      <th>4</th>\n",
       "      <td>41</td>\n",
       "      <td>995.0</td>\n",
       "      <td>posteromedial visual area, layer 2/3</td>\n",
       "      <td>VISpm2/3</td>\n",
       "      <td>11</td>\n",
       "      <td>1</td>\n",
       "      <td>3</td>\n",
       "      <td>8690</td>\n",
       "      <td>533.0</td>\n",
       "      <td>8</td>\n",
       "      <td>...</td>\n",
       "      <td>/997/8/567/688/695/315/669/533/41/</td>\n",
       "      <td>08858C</td>\n",
       "      <td>NaN</td>\n",
       "      <td>NaN</td>\n",
       "      <td>f</td>\n",
       "      <td>202</td>\n",
       "      <td>736869347</td>\n",
       "      <td>734881840</td>\n",
       "      <td>posteromedial visual area layer 2/3</td>\n",
       "      <td>264</td>\n",
       "    </tr>\n",
       "  </tbody>\n",
       "</table>\n",
       "<p>5 rows × 22 columns</p>\n",
       "</div>"
      ],
      "text/plain": [
       "     id  atlas_id                                               name  \\\n",
       "0  1009     691.0                                       fiber tracts   \n",
       "1  1074    1124.0                 Anterolateral visual area, layer 1   \n",
       "2  1047     979.0  Primary somatosensory area, barrel field, layer 4   \n",
       "3   600     923.0                    Dorsal auditory area, layer 2/3   \n",
       "4    41     995.0               posteromedial visual area, layer 2/3   \n",
       "\n",
       "        acronym  st_level  ontology_id  hemisphere_id  weight  \\\n",
       "0  fiber tracts         1            1              3    8690   \n",
       "1        VISal1        11            1              3    8690   \n",
       "2      SSp-bfd4        11            1              3    8690   \n",
       "3       AUDd2/3        11            1              3    8690   \n",
       "4      VISpm2/3        11            1              3    8690   \n",
       "\n",
       "   parent_structure_id  depth  ...                         structure_id_path  \\\n",
       "0                997.0      1  ...                                /997/1009/   \n",
       "1                402.0      8  ...      /997/8/567/688/695/315/669/402/1074/   \n",
       "2                329.0      9  ...  /997/8/567/688/695/315/453/322/329/1047/   \n",
       "3               1011.0      8  ...      /997/8/567/688/695/315/247/1011/600/   \n",
       "4                533.0      8  ...        /997/8/567/688/695/315/669/533/41/   \n",
       "\n",
       "   color_hex_triplet neuro_name_structure_id neuro_name_structure_id_path  \\\n",
       "0             CCCCCC                     NaN                          NaN   \n",
       "1             08858C                     NaN                          NaN   \n",
       "2             188064                     NaN                          NaN   \n",
       "3             019399                     NaN                          NaN   \n",
       "4             08858C                     NaN                          NaN   \n",
       "\n",
       "   failed  sphinx_id structure_name_facet  failed_facet  \\\n",
       "0       f       1102            771268094     734881840   \n",
       "1       f        166           2830003304     734881840   \n",
       "2       f         55           3439709501     734881840   \n",
       "3       f        125           2148227545     734881840   \n",
       "4       f        202            736869347     734881840   \n",
       "\n",
       "                                         safe_name  counts  \n",
       "0                                     fiber tracts      52  \n",
       "1                Anterolateral visual area layer 1       7  \n",
       "2  Primary somatosensory area barrel field layer 4     560  \n",
       "3                   Dorsal auditory area layer 2/3     130  \n",
       "4              posteromedial visual area layer 2/3     264  \n",
       "\n",
       "[5 rows x 22 columns]"
      ]
     },
     "execution_count": 404,
     "metadata": {},
     "output_type": "execute_result"
    }
   ],
   "source": [
    "points_in_atlas=[int(atlas[i]) for i in all_points ]\n",
    "\n",
    "unique_id=set(points_in_atlas)\n",
    "\n",
    "our_regions=atlas_labels.loc[atlas_labels['id'].isin (unique_id)]\n",
    "\n",
    "id_withcounts=[]\n",
    "for i in unique_id:\n",
    "    id_withcounts.append([i, points_in_atlas.count(i)])\n",
    "\n",
    "new_df= pd.DataFrame(id_withcounts, columns=['id', 'counts'])\n",
    "our_regionWcounts=pd.merge(atlas_labels, new_df)\n",
    "our_regionWcounts.head()"
   ]
  },
  {
   "cell_type": "code",
   "execution_count": 419,
   "metadata": {},
   "outputs": [
    {
     "name": "stdout",
     "output_type": "stream",
     "text": [
      "0 this index does not exist in allen reference atlas, consider possible suboptimal image registration\n"
     ]
    },
    {
     "name": "stderr",
     "output_type": "stream",
     "text": [
      "C:\\Users\\liu\\AppData\\Local\\Continuum\\anaconda3\\lib\\site-packages\\ipykernel_launcher.py:14: UserWarning: Consider possible suboptimal image registration\n",
      "  \n"
     ]
    }
   ],
   "source": [
    "# In case of suboptimal registration, some points will fall out of the atlas (and will give a 0 index)\n",
    "# check for this and thrown a warning\n",
    "\n",
    "f3=[]\n",
    "for x in atlas_labels['id']:\n",
    "    intID = int(x)\n",
    "    f3.append(intID)\n",
    "\n",
    "# need to format this first ourselves,otherwise problematic for 0 and very large numbers (idk why)    \n",
    "\n",
    "for test in unique_id:\n",
    "    if test not in f3:\n",
    "        print(test,'this index does not exist in allen reference atlas, consider possible suboptimal image registration')\n",
    "        warnings.warn('Consider possible suboptimal image registration')"
   ]
  },
  {
   "cell_type": "code",
   "execution_count": null,
   "metadata": {},
   "outputs": [],
   "source": []
  }
 ],
 "metadata": {
  "kernelspec": {
   "display_name": "Python 3",
   "language": "python",
   "name": "python3"
  },
  "language_info": {
   "codemirror_mode": {
    "name": "ipython",
    "version": 3
   },
   "file_extension": ".py",
   "mimetype": "text/x-python",
   "name": "python",
   "nbconvert_exporter": "python",
   "pygments_lexer": "ipython3",
   "version": "3.7.3"
  }
 },
 "nbformat": 4,
 "nbformat_minor": 4
}
