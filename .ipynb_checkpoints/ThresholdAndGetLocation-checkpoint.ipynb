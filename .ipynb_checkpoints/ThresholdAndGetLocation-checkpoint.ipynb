{
 "cells": [
  {
   "cell_type": "code",
   "execution_count": 1,
   "metadata": {},
   "outputs": [],
   "source": [
    "import os\n",
    "\n",
    "import pandas as pd\n",
    "\n",
    "import numpy as np\n",
    "\n",
    "import SimpleITK as sitk\n",
    "\n",
    "import warnings\n",
    "\n",
    "import tkinter.filedialog as fdialog\n"
   ]
  },
  {
   "cell_type": "code",
   "execution_count": 11,
   "metadata": {},
   "outputs": [],
   "source": [
    "data_name=fdialog.askopenfile(initialdir='D://', title='Select the data').name\n",
    "\n",
    "atlas_name=fdialog.askopenfile(initialdir='D://', title='Select the corresponding atlas').name\n"
   ]
  },
  {
   "cell_type": "code",
   "execution_count": 6,
   "metadata": {},
   "outputs": [
    {
     "data": {
      "text/plain": [
       "(456, 320, 272)"
      ]
     },
     "execution_count": 6,
     "metadata": {},
     "output_type": "execute_result"
    }
   ],
   "source": [
    "atlas= sitk.ReadImage(atlas_name)\n",
    "\n",
    "atlas.GetSize()"
   ]
  },
  {
   "cell_type": "code",
   "execution_count": 12,
   "metadata": {},
   "outputs": [
    {
     "data": {
      "text/plain": [
       "(456, 320, 272)"
      ]
     },
     "execution_count": 12,
     "metadata": {},
     "output_type": "execute_result"
    }
   ],
   "source": [
    "data= sitk.ReadImage(data_name)\n",
    "data.GetSize()"
   ]
  },
  {
   "cell_type": "code",
   "execution_count": 17,
   "metadata": {},
   "outputs": [
    {
     "name": "stdout",
     "output_type": "stream",
     "text": [
      "Correct pair of data and atlas selected, advance to next step\n"
     ]
    }
   ],
   "source": [
    "if data.GetSize() == atlas.GetSize():\n",
    "    print ('Correct pair of data and atlas selected, advance to next step')\n",
    "else: \n",
    "    warnings.warn('Dimension mismatch between data and atlas. Did you select the correct pair? Perhaps you selected the pre-registered version of data')"
   ]
  },
  {
   "cell_type": "code",
   "execution_count": null,
   "metadata": {},
   "outputs": [],
   "source": [
    "        warnings.warn('Dimension mismatch between data and atlas. Did you select the correct pair? Perhaps you selected the pre-registered version of data')"
   ]
  },
  {
   "cell_type": "code",
   "execution_count": 31,
   "metadata": {},
   "outputs": [],
   "source": [
    "# csv_name=fdialog.askopenfile(initialdir='D:\\', title='Select the csv file with labels').name\n",
    "\n",
    "# atlas_labels= pd.read_csv(csv_name)\n",
    "\n",
    "atlas_labels=pd.read_csv('D:\\Allenbrainatlas\\ARA_25_micron_mhd_ccf2017\\labels.csv')"
   ]
  }
 ],
 "metadata": {
  "kernelspec": {
   "display_name": "Python 3",
   "language": "python",
   "name": "python3"
  },
  "language_info": {
   "codemirror_mode": {
    "name": "ipython",
    "version": 3
   },
   "file_extension": ".py",
   "mimetype": "text/x-python",
   "name": "python",
   "nbconvert_exporter": "python",
   "pygments_lexer": "ipython3",
   "version": "3.7.3"
  }
 },
 "nbformat": 4,
 "nbformat_minor": 4
}
