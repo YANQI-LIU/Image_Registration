{
 "cells": [
  {
   "cell_type": "markdown",
   "metadata": {},
   "source": [
    "## Generate downsampled txt file from annotation\n",
    "\n",
    "Generating pandas data frame from vaa3d annotation.eswc file \n",
    "\n",
    "Downsamples them to the corresponding dimensions\n",
    "\n",
    "saves as transformix compatible format (in case for sample2ara)\n",
    "\n",
    "In progress: get endings based on the parent name\n"
   ]
  },
  {
   "cell_type": "code",
   "execution_count": 1,
   "metadata": {},
   "outputs": [],
   "source": [
    "import os\n",
    "\n",
    "import pandas as pd\n",
    "\n",
    "import numpy as np\n",
    "\n",
    "import tkinter as tk\n",
    "import tkinter.filedialog as fdialog\n",
    "from tkinter import simpledialog"
   ]
  },
  {
   "cell_type": "code",
   "execution_count": 2,
   "metadata": {},
   "outputs": [],
   "source": [
    "anno_file=fdialog.askopenfile(initialdir='Z:\\\\', title='Select the eswc file containing the annotations').name \n",
    "\n",
    "xy = simpledialog.askfloat(\"Input\", \"What is the x and y resolution in um?\",\n",
    "                               minvalue=0.0, maxvalue=100)\n",
    "z = simpledialog.askfloat(\"Input\", \"What is the z resolution in um?\",\n",
    "                               minvalue=0.0, maxvalue=100)\n",
    "goal_xyz = simpledialog.askfloat(\"Input\", \"What do you want to downsample the resolution to '(in um)' ?\",\n",
    "                               minvalue=10, maxvalue=100)\n",
    "\n",
    "outdir = fdialog.askdirectory(title='Please select the output directory')"
   ]
  },
  {
   "cell_type": "code",
   "execution_count": 3,
   "metadata": {},
   "outputs": [],
   "source": [
    "anno=open(anno_file,'r')\n",
    "anno_data=anno.readlines()\n",
    "# heading is stored in anno_data[2], 1st line basically useless\n",
    "\n",
    "headings=anno_data[2].split(' ')\n",
    "annotations=[lines.split(' ') for lines in anno_data[3:]]"
   ]
  },
  {
   "cell_type": "code",
   "execution_count": 4,
   "metadata": {},
   "outputs": [],
   "source": [
    "annotation_df=pd.DataFrame(annotations, columns=headings)"
   ]
  },
  {
   "cell_type": "code",
   "execution_count": 5,
   "metadata": {},
   "outputs": [
    {
     "data": {
      "text/html": [
       "<div>\n",
       "<style scoped>\n",
       "    .dataframe tbody tr th:only-of-type {\n",
       "        vertical-align: middle;\n",
       "    }\n",
       "\n",
       "    .dataframe tbody tr th {\n",
       "        vertical-align: top;\n",
       "    }\n",
       "\n",
       "    .dataframe thead th {\n",
       "        text-align: right;\n",
       "    }\n",
       "</style>\n",
       "<table border=\"1\" class=\"dataframe\">\n",
       "  <thead>\n",
       "    <tr style=\"text-align: right;\">\n",
       "      <th></th>\n",
       "      <th>#n</th>\n",
       "      <th>type</th>\n",
       "      <th>x</th>\n",
       "      <th>y</th>\n",
       "      <th>z</th>\n",
       "      <th>radius</th>\n",
       "      <th>parent</th>\n",
       "      <th>seg_id</th>\n",
       "      <th>level</th>\n",
       "      <th>mode</th>\n",
       "      <th>timestamp</th>\n",
       "      <th>TFresindex</th>\n",
       "    </tr>\n",
       "  </thead>\n",
       "  <tbody>\n",
       "    <tr>\n",
       "      <th>0</th>\n",
       "      <td>512132</td>\n",
       "      <td>3</td>\n",
       "      <td>4867.110</td>\n",
       "      <td>2506.220</td>\n",
       "      <td>838.333</td>\n",
       "      <td>1.000</td>\n",
       "      <td>512133</td>\n",
       "      <td>0</td>\n",
       "      <td>0</td>\n",
       "      <td>1</td>\n",
       "      <td>0</td>\n",
       "      <td>1\\n</td>\n",
       "    </tr>\n",
       "    <tr>\n",
       "      <th>1</th>\n",
       "      <td>512133</td>\n",
       "      <td>3</td>\n",
       "      <td>4867.110</td>\n",
       "      <td>2506.220</td>\n",
       "      <td>838.333</td>\n",
       "      <td>1.000</td>\n",
       "      <td>-1</td>\n",
       "      <td>0</td>\n",
       "      <td>0</td>\n",
       "      <td>1</td>\n",
       "      <td>0</td>\n",
       "      <td>1\\n</td>\n",
       "    </tr>\n",
       "    <tr>\n",
       "      <th>2</th>\n",
       "      <td>514707</td>\n",
       "      <td>3</td>\n",
       "      <td>4867.110</td>\n",
       "      <td>2506.220</td>\n",
       "      <td>838.333</td>\n",
       "      <td>1.000</td>\n",
       "      <td>-1</td>\n",
       "      <td>0</td>\n",
       "      <td>0</td>\n",
       "      <td>1</td>\n",
       "      <td>0</td>\n",
       "      <td>1\\n</td>\n",
       "    </tr>\n",
       "    <tr>\n",
       "      <th>3</th>\n",
       "      <td>514706</td>\n",
       "      <td>3</td>\n",
       "      <td>4867.670</td>\n",
       "      <td>2507.220</td>\n",
       "      <td>838.111</td>\n",
       "      <td>1.000</td>\n",
       "      <td>514707</td>\n",
       "      <td>0</td>\n",
       "      <td>0</td>\n",
       "      <td>1</td>\n",
       "      <td>0</td>\n",
       "      <td>1\\n</td>\n",
       "    </tr>\n",
       "    <tr>\n",
       "      <th>4</th>\n",
       "      <td>514705</td>\n",
       "      <td>3</td>\n",
       "      <td>4868.670</td>\n",
       "      <td>2508.440</td>\n",
       "      <td>838.889</td>\n",
       "      <td>1.000</td>\n",
       "      <td>514706</td>\n",
       "      <td>0</td>\n",
       "      <td>0</td>\n",
       "      <td>1</td>\n",
       "      <td>0</td>\n",
       "      <td>1\\n</td>\n",
       "    </tr>\n",
       "  </tbody>\n",
       "</table>\n",
       "</div>"
      ],
      "text/plain": [
       "       #n type         x         y        z radius  parent seg_id level mode  \\\n",
       "0  512132    3  4867.110  2506.220  838.333  1.000  512133      0     0    1   \n",
       "1  512133    3  4867.110  2506.220  838.333  1.000      -1      0     0    1   \n",
       "2  514707    3  4867.110  2506.220  838.333  1.000      -1      0     0    1   \n",
       "3  514706    3  4867.670  2507.220  838.111  1.000  514707      0     0    1   \n",
       "4  514705    3  4868.670  2508.440  838.889  1.000  514706      0     0    1   \n",
       "\n",
       "  timestamp TFresindex\\n  \n",
       "0         0          1\\n  \n",
       "1         0          1\\n  \n",
       "2         0          1\\n  \n",
       "3         0          1\\n  \n",
       "4         0          1\\n  "
      ]
     },
     "execution_count": 5,
     "metadata": {},
     "output_type": "execute_result"
    }
   ],
   "source": [
    "annotation_df.head()"
   ]
  },
  {
   "cell_type": "code",
   "execution_count": 6,
   "metadata": {},
   "outputs": [
    {
     "data": {
      "text/plain": [
       "'Sample resolution is (0.8, 0.8, 5.0) um in x y z. downsampling to 25.0 um. dowmsample ratio is xy = 31.25 and z = 5.0.'"
      ]
     },
     "execution_count": 6,
     "metadata": {},
     "output_type": "execute_result"
    }
   ],
   "source": [
    "ratioxy=goal_xyz/xy\n",
    "ratioz= goal_xyz/z\n",
    "# calculating the downsampling factor\n",
    "# based on 0.8 x 0.8 x 5um imaging resolution (x y and z)\n",
    "# downsampling to match the 25um voxel allen reference template\n",
    "\n",
    "message = (f\"Sample resolution is {xy, xy, z} um in x y z. \"\n",
    "f\"downsampling to {goal_xyz} um. \"\n",
    "f\"dowmsample ratio is xy = {ratioxy} and z = {ratioz}.\")\n",
    "\n",
    "message"
   ]
  },
  {
   "cell_type": "code",
   "execution_count": 7,
   "metadata": {},
   "outputs": [],
   "source": [
    "ds_x= pd.to_numeric(annotation_df['x'])\n",
    "ds_x=ds_x/ratioxy\n",
    "ds_xround=ds_x.astype(int).astype(str)\n",
    "ds_y= pd.to_numeric(annotation_df['y'])\n",
    "ds_y=ds_y/ratioxy\n",
    "ds_yround=ds_y.astype(int).astype(str)\n",
    "\n",
    "ds_z= pd.to_numeric(annotation_df['z'])\n",
    "ds_z=ds_z/ratioz\n",
    "ds_zround=ds_z.astype(int).astype(str)\n",
    "\n",
    "# rounds by astype int, then conver to string"
   ]
  },
  {
   "cell_type": "code",
   "execution_count": 8,
   "metadata": {},
   "outputs": [],
   "source": [
    "ds_coordinates= pd.DataFrame(columns=['x','y','z'])\n",
    "ds_coordinates['x']=ds_xround\n",
    "ds_coordinates['y']=ds_yround\n",
    "ds_coordinates['z']=ds_zround\n",
    "# put in to panda dataframe just in case for future use"
   ]
  },
  {
   "cell_type": "code",
   "execution_count": 9,
   "metadata": {},
   "outputs": [],
   "source": [
    "q = [' '.join(x) for x in zip(ds_xround,ds_yround,ds_zround)]\n",
    "# create a list where row1= x1 y1 z1 row2= x2 y2 z2 and etc \n",
    "# for writing to the text file"
   ]
  },
  {
   "cell_type": "code",
   "execution_count": 10,
   "metadata": {},
   "outputs": [
    {
     "data": {
      "text/plain": [
       "'AL092_25.0voxel_trace.txt'"
      ]
     },
     "execution_count": 10,
     "metadata": {},
     "output_type": "execute_result"
    }
   ],
   "source": [
    "num_row=len(annotation_df.index)\n",
    "\n",
    "out_name= outdir[3:]+ f'_{goal_xyz}voxel_trace.txt'\n",
    "out_name"
   ]
  },
  {
   "cell_type": "code",
   "execution_count": 11,
   "metadata": {},
   "outputs": [],
   "source": [
    "f=open(outdir+'/'+out_name,'w+')\n",
    "f.write('point'+'\\n')\n",
    "f.write(str(num_row)+'\\n')\n",
    "\n",
    "for lines in q:\n",
    "    f.write(lines+'\\n')\n",
    "\n",
    "f.close()\n",
    "\n",
    "#works, yay"
   ]
  },
  {
   "cell_type": "code",
   "execution_count": 12,
   "metadata": {},
   "outputs": [
    {
     "name": "stdout",
     "output_type": "stream",
     "text": [
      "there are 666 endings\n"
     ]
    }
   ],
   "source": [
    "#attempt to find endings for each branch\n",
    "# the #n of the ending should not be a parent for something else\n",
    "\n",
    "#first put these 2 columns in to list\n",
    "list_n= annotation_df['#n'].tolist()\n",
    "list_parent= annotation_df['parent'].tolist()\n",
    "\n",
    "ending_list=[]\n",
    "# compare each value in the #n column to the parent list, if it is not present then it should be an ending\n",
    "for N,values in enumerate (list_n):\n",
    "    if values not in list_parent:\n",
    "        ending_list.append(N)\n",
    "print(f'there are {len(ending_list)} endings')\n",
    "        "
   ]
  },
  {
   "cell_type": "code",
   "execution_count": 13,
   "metadata": {},
   "outputs": [],
   "source": [
    "f=open(outdir+'/endings.txt','w+')\n",
    "\n",
    "for idx in ending_list:\n",
    "    loc=q[idx]\n",
    "    f.write(loc+'\\n')\n",
    "f.close()\n",
    "    "
   ]
  },
  {
   "cell_type": "code",
   "execution_count": 43,
   "metadata": {},
   "outputs": [
    {
     "ename": "AttributeError",
     "evalue": "'str' object has no attribute 'type'",
     "output_type": "error",
     "traceback": [
      "\u001b[1;31m---------------------------------------------------------------------------\u001b[0m",
      "\u001b[1;31mAttributeError\u001b[0m                            Traceback (most recent call last)",
      "\u001b[1;32m<ipython-input-43-2728bac6694a>\u001b[0m in \u001b[0;36m<module>\u001b[1;34m\u001b[0m\n\u001b[1;32m----> 1\u001b[1;33m \u001b[0mq\u001b[0m\u001b[1;33m[\u001b[0m\u001b[1;36m12\u001b[0m\u001b[1;33m]\u001b[0m\u001b[1;33m.\u001b[0m\u001b[0mtype\u001b[0m\u001b[1;33m\u001b[0m\u001b[1;33m\u001b[0m\u001b[0m\n\u001b[0m",
      "\u001b[1;31mAttributeError\u001b[0m: 'str' object has no attribute 'type'"
     ]
    }
   ],
   "source": []
  },
  {
   "cell_type": "code",
   "execution_count": 14,
   "metadata": {},
   "outputs": [
    {
     "data": {
      "text/plain": [
       "'D:/AL092'"
      ]
     },
     "execution_count": 14,
     "metadata": {},
     "output_type": "execute_result"
    }
   ],
   "source": [
    "outdir"
   ]
  },
  {
   "cell_type": "code",
   "execution_count": 15,
   "metadata": {},
   "outputs": [
    {
     "data": {
      "text/plain": [
       "'D:/AL092/AL092_25.0voxel_trace.txt'"
      ]
     },
     "execution_count": 15,
     "metadata": {},
     "output_type": "execute_result"
    }
   ],
   "source": [
    "outdir+'/'+out_name"
   ]
  },
  {
   "cell_type": "code",
   "execution_count": null,
   "metadata": {},
   "outputs": [],
   "source": []
  }
 ],
 "metadata": {
  "kernelspec": {
   "display_name": "Python 3",
   "language": "python",
   "name": "python3"
  },
  "language_info": {
   "codemirror_mode": {
    "name": "ipython",
    "version": 3
   },
   "file_extension": ".py",
   "mimetype": "text/x-python",
   "name": "python",
   "nbconvert_exporter": "python",
   "pygments_lexer": "ipython3",
   "version": "3.7.3"
  }
 },
 "nbformat": 4,
 "nbformat_minor": 4
}
