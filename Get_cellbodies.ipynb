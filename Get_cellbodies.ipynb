{
 "cells": [
  {
   "cell_type": "markdown",
   "metadata": {},
   "source": [
    "#### Part 1: Read cell body position from .apo files, downsample and save them as txt file for applying inverse transformation"
   ]
  },
  {
   "cell_type": "code",
   "execution_count": 70,
   "metadata": {},
   "outputs": [],
   "source": [
    "import Neuron_analysis as na\n",
    "from Neuron_analysis import *\n",
    "\n",
    "import os\n",
    "import pandas as pd\n",
    "import re\n",
    "\n",
    "import tkinter as tk\n",
    "import tkinter.filedialog as fdialog\n",
    "from tkinter import simpledialog\n",
    "\n",
    "import skimage\n",
    "\n",
    "import numpy as np\n",
    "import matplotlib.pyplot as plt\n",
    "\n",
    "from read_roi import read_roi_file"
   ]
  },
  {
   "cell_type": "code",
   "execution_count": 68,
   "metadata": {},
   "outputs": [],
   "source": [
    "indir = fdialog.askdirectory(title='Select the directories with all the cell bodies.apo')\n",
    "outdir = fdialog.askdirectory(title='Select the output directory to store your file')\n",
    "\n",
    "files = os.listdir(indir)"
   ]
  },
  {
   "cell_type": "code",
   "execution_count": 69,
   "metadata": {},
   "outputs": [],
   "source": [
    "def prepare_cellbody(indir,anno_file,outdir):\n",
    "    anno=open(os.path.join(indir,anno_file),'r')\n",
    "    anno_data=anno.readlines()\n",
    " \n",
    "    headings=anno_data[0].rstrip('\\n').split(',')\n",
    "    annotations=[lines.rstrip('\\n').split(',') for lines in anno_data[1:]]\n",
    "    annotation_df=pd.DataFrame(annotations, columns=headings)\n",
    "    \n",
    "    cell_body= annotation_df[annotation_df.color_g=='255']\n",
    "    #pickout only green points!\n",
    "    \n",
    "    # find the coordinates and downsample it! these values are based on xy= 0.6 z= 5, and downsampling to 25 xyz\n",
    "    ds_x= pd.to_numeric(cell_body['x'])//41\n",
    "    ds_y= pd.to_numeric(cell_body['y'])//41\n",
    "    ds_z= pd.to_numeric(cell_body['z'])//5\n",
    "\n",
    "    x=ds_x.astype(int).astype(str)\n",
    "    y=ds_y.astype(int).astype(str)\n",
    "    z=ds_z.astype(int).astype(str)\n",
    "    \n",
    "    m=re.search('\\D{2}[0-9]{3}', anno_file)\n",
    "    mouse_name=m[0]\n",
    "\n",
    "    out_name=os.path.join(outdir,mouse_name+'cellbody.txt')\n",
    "\n",
    "    f=open(out_name,'w+')\n",
    "    f.write('point'+'\\n')\n",
    "    f.write('1'+'\\n') # by default there is only 1 cell body, hence only 1 point here\n",
    "    f.write(x.values[0]+ ' ' + y.values[0]+ ' '+ z.values[0])\n",
    "    f.close()\n",
    "    return\n",
    "    "
   ]
  },
  {
   "cell_type": "code",
   "execution_count": 70,
   "metadata": {},
   "outputs": [],
   "source": [
    "for items in files:\n",
    "    prepare_cellbody(indir, items, outdir)"
   ]
  },
  {
   "cell_type": "markdown",
   "metadata": {},
   "source": [
    "### Part2  : (after transformation by transformix) extract the transformed points, refill y section (because we cropped the template for registration). \n",
    "Then write as a single file containing brain ID and cell body location\n",
    "\n",
    "___Work in progress___"
   ]
  },
  {
   "cell_type": "code",
   "execution_count": 24,
   "metadata": {},
   "outputs": [],
   "source": [
    "brain_id= ['AL175', 'AL223','AL230', 'AL236', 'AL244', 'AL261']\n",
    "#missing 'AL225' and 'AL242' for now\n",
    "cb_file=f'D:\\{brain_id[1]}\\points\\cellbody\\outputpoints.txt'"
   ]
  },
  {
   "cell_type": "code",
   "execution_count": null,
   "metadata": {},
   "outputs": [],
   "source": []
  },
  {
   "cell_type": "code",
   "execution_count": 60,
   "metadata": {},
   "outputs": [],
   "source": [
    "all_points=[]\n",
    "\n",
    "for items in brain_id:\n",
    "    this_file=cb_file=f'D:\\{items}\\points\\cellbody\\outputpoints.txt'\n",
    "    \n",
    "    template_file = [x for x in os.listdir(f'D:\\{items}\\\\') if 'template' in x]\n",
    "    to_add=na.find_crop(template_file[0])\n",
    "  \n",
    "    with open(cb_file,'r') as output:\n",
    "        outputpoint= output.readlines()\n",
    "\n",
    "    for lines in outputpoint:\n",
    "        m=re.search(\"(?:OutputIndexFixed = \\[ )([0-9]+ [0-9]+ [0-9]+)\", lines).groups(0)\n",
    "        this_line= str(m[0]).split(' ')\n",
    "        mypoints= [int(stuff) for stuff in this_line]\n",
    "        mypoints[1]= mypoints[1]+to_add\n",
    "        mypoints.insert(0, items)\n",
    "        all_points.append(mypoints)\n",
    "        \n",
    "# the coordiates are arranged in x,y and z"
   ]
  },
  {
   "cell_type": "code",
   "execution_count": 59,
   "metadata": {},
   "outputs": [
    {
     "data": {
      "text/plain": [
       "[['AL175', 92, 218, 52],\n",
       " ['AL223', 99, 214, 47],\n",
       " ['AL230', 88, 210, 56],\n",
       " ['AL236', 104, 214, 40],\n",
       " ['AL244', 86, 237, 47],\n",
       " ['AL261', 123, 196, 42]]"
      ]
     },
     "execution_count": 59,
     "metadata": {},
     "output_type": "execute_result"
    }
   ],
   "source": [
    "all_points"
   ]
  },
  {
   "cell_type": "code",
   "execution_count": 61,
   "metadata": {},
   "outputs": [
    {
     "data": {
      "text/plain": [
       "[['AL175', 92, 283, 52],\n",
       " ['AL223', 99, 279, 47],\n",
       " ['AL230', 88, 275, 56],\n",
       " ['AL236', 104, 279, 40],\n",
       " ['AL244', 86, 302, 47],\n",
       " ['AL261', 123, 261, 42]]"
      ]
     },
     "execution_count": 61,
     "metadata": {},
     "output_type": "execute_result"
    }
   ],
   "source": [
    "all_points"
   ]
  },
  {
   "cell_type": "code",
   "execution_count": 50,
   "metadata": {},
   "outputs": [
    {
     "data": {
      "text/plain": [
       "65"
      ]
     },
     "execution_count": 50,
     "metadata": {},
     "output_type": "execute_result"
    }
   ],
   "source": [
    "to_add= na.find_crop(template_file[0])"
   ]
  },
  {
   "cell_type": "code",
   "execution_count": 51,
   "metadata": {},
   "outputs": [
    {
     "data": {
      "text/plain": [
       "['AL261', 123, 196, 42]"
      ]
     },
     "execution_count": 51,
     "metadata": {},
     "output_type": "execute_result"
    }
   ],
   "source": [
    "mypoints"
   ]
  },
  {
   "cell_type": "code",
   "execution_count": null,
   "metadata": {},
   "outputs": [],
   "source": []
  },
  {
   "cell_type": "markdown",
   "metadata": {},
   "source": [
    "## Part for viral cellbody ROIs (after segmentation and curation in LabKit)\n",
    "\n",
    "ImageJ plugin https://imagej.net/plugins/labkit/"
   ]
  },
  {
   "cell_type": "code",
   "execution_count": 95,
   "metadata": {},
   "outputs": [],
   "source": [
    "outdir = fdialog.askdirectory(title='Select the output directory to store your file')"
   ]
  },
  {
   "cell_type": "code",
   "execution_count": 73,
   "metadata": {},
   "outputs": [],
   "source": [
    "image_name = fdialog.askopenfile(title='Select the binary image').name\n",
    "mouse_name=na.find_mousename(image_name)\n"
   ]
  },
  {
   "cell_type": "code",
   "execution_count": 107,
   "metadata": {},
   "outputs": [],
   "source": [
    "def prepare_cellbody_virus(tiff_file, threshold=5):\n",
    "    '''From curated segmentation tiff file, find connected components(3d) with their area and centeroid.\n",
    "    \n",
    "    threshold: connected components with numbers of pixels below this number will get removed\n",
    "    \n",
    "    saves .txt file compatible for transformix (and downsampled to 25um space) and a .csv file listing the area and the centroid x,y,z coordinate (not downsampled) for each component\n",
    "    '''\n",
    "    \n",
    "    im= skimage.io.imread(tiff_file) \n",
    "        \n",
    "    labels=skimage.measure.label(im)\n",
    "    info= skimage.measure.regionprops(labels)\n",
    "    \n",
    "    real_cells= [items for items in info if items.area>threshold]\n",
    "    # remove connected components that are less than 5 pixels for example\n",
    "    areas=[item.area for item in real_cells]\n",
    "    \n",
    "    center= [item.centroid for item in real_cells]\n",
    "    center=np.asarray(center)\n",
    "    \n",
    "    headings=['x', 'y', 'z']\n",
    "    #points=[lines.rstrip('\\n').split(',') for lines in anno_data[1:]]\n",
    "    centroid_df=pd.DataFrame(center, columns=headings)\n",
    "    centroid_df['area']= areas\n",
    "    return centroid_df\n",
    "\n",
    "def refill_roi(centroid_df):\n",
    "    \n",
    "    ''' Find x, y, z section to refill from .roi file (account for x and y) and substack file name (account for z)\n",
    "    refill the input dataframe's 'x', 'y', 'z' to match the original image size. Input data frame is usually an output from prepare_cellbody_virus\n",
    "    '''\n",
    "    roi_name = fdialog.askopenfile(title='Select the roi').name\n",
    "    roi = read_roi_file(roi_name)\n",
    "    name=list(roi.keys())[0]\n",
    "    x_add=roi[name]['left']-1\n",
    "    y_add=roi[name]['top']-1\n",
    "    substack_name = fdialog.askopenfile(title='Select the substack used for cellbody segmentation').name\n",
    "    m= re.search(\"(?<=_)[0-9]{1,3}.[0-9]{1,3}\",substack_name)[0]\n",
    "    to_add= m.split('-')\n",
    "    lead= int(to_add[0])-1\n",
    "    centroid_df['x']+= x_add\n",
    "    centroid_df['y']+= y_add\n",
    "    centroid_df['z']+= lead\n",
    "    \n",
    "    return centroid_df\n",
    "\n",
    "def make_transformix_txt(centroid_df,mouse_name): #work in progress\n",
    "\n",
    "    # find the coordinates and downsample it! these values are based on xy= 0.6 z= 5, and downsampling to 25 xyz\n",
    "    ds_x= pd.to_numeric(centroid_df['x'])//5\n",
    "    ds_y= pd.to_numeric(centroid_df['y'])//5\n",
    "    ds_z= pd.to_numeric(centroid_df['z'])//5\n",
    "\n",
    "    x=ds_x.astype(int).astype(str)\n",
    "    y=ds_y.astype(int).astype(str)\n",
    "    z=ds_z.astype(int).astype(str)\n",
    "    \n",
    "    q = [' '.join(x) for x in zip(x,y,z)]\n",
    "    num_row=len(q)\n",
    "\n",
    "    out_name=os.path.join(outdir,mouse_name+'cellbody.txt')\n",
    "\n",
    "    f=open(out_name,'w+')\n",
    "    f.write('point'+'\\n')\n",
    "    f.write(str(num_row)+'\\n')\n",
    "    for lines in q:\n",
    "        f.write(lines+'\\n')\n",
    "    f.close()\n",
    "    \n",
    "    return"
   ]
  },
  {
   "cell_type": "code",
   "execution_count": 91,
   "metadata": {},
   "outputs": [
    {
     "data": {
      "text/html": [
       "<div>\n",
       "<style scoped>\n",
       "    .dataframe tbody tr th:only-of-type {\n",
       "        vertical-align: middle;\n",
       "    }\n",
       "\n",
       "    .dataframe tbody tr th {\n",
       "        vertical-align: top;\n",
       "    }\n",
       "\n",
       "    .dataframe thead th {\n",
       "        text-align: right;\n",
       "    }\n",
       "</style>\n",
       "<table border=\"1\" class=\"dataframe\">\n",
       "  <thead>\n",
       "    <tr style=\"text-align: right;\">\n",
       "      <th></th>\n",
       "      <th>x</th>\n",
       "      <th>y</th>\n",
       "      <th>z</th>\n",
       "      <th>area</th>\n",
       "    </tr>\n",
       "  </thead>\n",
       "  <tbody>\n",
       "    <tr>\n",
       "      <th>0</th>\n",
       "      <td>3.703704</td>\n",
       "      <td>180.407407</td>\n",
       "      <td>153.518519</td>\n",
       "      <td>27</td>\n",
       "    </tr>\n",
       "    <tr>\n",
       "      <th>1</th>\n",
       "      <td>7.030075</td>\n",
       "      <td>119.902256</td>\n",
       "      <td>150.300752</td>\n",
       "      <td>133</td>\n",
       "    </tr>\n",
       "    <tr>\n",
       "      <th>2</th>\n",
       "      <td>17.102345</td>\n",
       "      <td>137.281450</td>\n",
       "      <td>133.098081</td>\n",
       "      <td>469</td>\n",
       "    </tr>\n",
       "    <tr>\n",
       "      <th>3</th>\n",
       "      <td>14.987342</td>\n",
       "      <td>120.278481</td>\n",
       "      <td>143.550633</td>\n",
       "      <td>158</td>\n",
       "    </tr>\n",
       "    <tr>\n",
       "      <th>4</th>\n",
       "      <td>13.380952</td>\n",
       "      <td>121.492063</td>\n",
       "      <td>201.539683</td>\n",
       "      <td>63</td>\n",
       "    </tr>\n",
       "    <tr>\n",
       "      <th>...</th>\n",
       "      <td>...</td>\n",
       "      <td>...</td>\n",
       "      <td>...</td>\n",
       "      <td>...</td>\n",
       "    </tr>\n",
       "    <tr>\n",
       "      <th>176</th>\n",
       "      <td>128.333333</td>\n",
       "      <td>59.666667</td>\n",
       "      <td>43.875000</td>\n",
       "      <td>24</td>\n",
       "    </tr>\n",
       "    <tr>\n",
       "      <th>177</th>\n",
       "      <td>128.869565</td>\n",
       "      <td>80.630435</td>\n",
       "      <td>36.760870</td>\n",
       "      <td>46</td>\n",
       "    </tr>\n",
       "    <tr>\n",
       "      <th>178</th>\n",
       "      <td>132.437500</td>\n",
       "      <td>65.687500</td>\n",
       "      <td>47.875000</td>\n",
       "      <td>16</td>\n",
       "    </tr>\n",
       "    <tr>\n",
       "      <th>179</th>\n",
       "      <td>134.555556</td>\n",
       "      <td>74.888889</td>\n",
       "      <td>21.222222</td>\n",
       "      <td>9</td>\n",
       "    </tr>\n",
       "    <tr>\n",
       "      <th>180</th>\n",
       "      <td>134.888889</td>\n",
       "      <td>84.666667</td>\n",
       "      <td>48.777778</td>\n",
       "      <td>9</td>\n",
       "    </tr>\n",
       "  </tbody>\n",
       "</table>\n",
       "<p>181 rows × 4 columns</p>\n",
       "</div>"
      ],
      "text/plain": [
       "              x           y           z  area\n",
       "0      3.703704  180.407407  153.518519    27\n",
       "1      7.030075  119.902256  150.300752   133\n",
       "2     17.102345  137.281450  133.098081   469\n",
       "3     14.987342  120.278481  143.550633   158\n",
       "4     13.380952  121.492063  201.539683    63\n",
       "..          ...         ...         ...   ...\n",
       "176  128.333333   59.666667   43.875000    24\n",
       "177  128.869565   80.630435   36.760870    46\n",
       "178  132.437500   65.687500   47.875000    16\n",
       "179  134.555556   74.888889   21.222222     9\n",
       "180  134.888889   84.666667   48.777778     9\n",
       "\n",
       "[181 rows x 4 columns]"
      ]
     },
     "execution_count": 91,
     "metadata": {},
     "output_type": "execute_result"
    }
   ],
   "source": [
    "cell_body=prepare_cellbody_virus(image_name, threshold=5)\n",
    "cell_body"
   ]
  },
  {
   "cell_type": "code",
   "execution_count": 92,
   "metadata": {},
   "outputs": [],
   "source": [
    "cell_body_refill= refill_roi(cell_body)\n",
    "cell_body_refill"
   ]
  },
  {
   "cell_type": "code",
   "execution_count": 98,
   "metadata": {},
   "outputs": [],
   "source": [
    "out_name=os.path.join(outdir,mouse_name+'cellbody.csv')\n",
    "cell_body_refill.to_csv(out_name)"
   ]
  },
  {
   "cell_type": "code",
   "execution_count": 108,
   "metadata": {},
   "outputs": [],
   "source": [
    "make_transformix_txt(cell_body_refill,mouse_name)"
   ]
  },
  {
   "cell_type": "code",
   "execution_count": 63,
   "metadata": {},
   "outputs": [],
   "source": []
  },
  {
   "cell_type": "code",
   "execution_count": 70,
   "metadata": {},
   "outputs": [],
   "source": []
  },
  {
   "cell_type": "code",
   "execution_count": null,
   "metadata": {},
   "outputs": [],
   "source": []
  },
  {
   "cell_type": "code",
   "execution_count": null,
   "metadata": {},
   "outputs": [],
   "source": []
  },
  {
   "cell_type": "code",
   "execution_count": 99,
   "metadata": {},
   "outputs": [
    {
     "data": {
      "text/html": [
       "<div>\n",
       "<style scoped>\n",
       "    .dataframe tbody tr th:only-of-type {\n",
       "        vertical-align: middle;\n",
       "    }\n",
       "\n",
       "    .dataframe tbody tr th {\n",
       "        vertical-align: top;\n",
       "    }\n",
       "\n",
       "    .dataframe thead th {\n",
       "        text-align: right;\n",
       "    }\n",
       "</style>\n",
       "<table border=\"1\" class=\"dataframe\">\n",
       "  <thead>\n",
       "    <tr style=\"text-align: right;\">\n",
       "      <th></th>\n",
       "      <th>x</th>\n",
       "      <th>y</th>\n",
       "      <th>z</th>\n",
       "      <th>area</th>\n",
       "    </tr>\n",
       "  </thead>\n",
       "  <tbody>\n",
       "    <tr>\n",
       "      <th>0</th>\n",
       "      <td>448.703704</td>\n",
       "      <td>1059.407407</td>\n",
       "      <td>402.518519</td>\n",
       "      <td>27</td>\n",
       "    </tr>\n",
       "    <tr>\n",
       "      <th>1</th>\n",
       "      <td>452.030075</td>\n",
       "      <td>998.902256</td>\n",
       "      <td>399.300752</td>\n",
       "      <td>133</td>\n",
       "    </tr>\n",
       "    <tr>\n",
       "      <th>2</th>\n",
       "      <td>462.102345</td>\n",
       "      <td>1016.281450</td>\n",
       "      <td>382.098081</td>\n",
       "      <td>469</td>\n",
       "    </tr>\n",
       "    <tr>\n",
       "      <th>3</th>\n",
       "      <td>459.987342</td>\n",
       "      <td>999.278481</td>\n",
       "      <td>392.550633</td>\n",
       "      <td>158</td>\n",
       "    </tr>\n",
       "    <tr>\n",
       "      <th>4</th>\n",
       "      <td>458.380952</td>\n",
       "      <td>1000.492063</td>\n",
       "      <td>450.539683</td>\n",
       "      <td>63</td>\n",
       "    </tr>\n",
       "    <tr>\n",
       "      <th>...</th>\n",
       "      <td>...</td>\n",
       "      <td>...</td>\n",
       "      <td>...</td>\n",
       "      <td>...</td>\n",
       "    </tr>\n",
       "    <tr>\n",
       "      <th>176</th>\n",
       "      <td>573.333333</td>\n",
       "      <td>938.666667</td>\n",
       "      <td>292.875000</td>\n",
       "      <td>24</td>\n",
       "    </tr>\n",
       "    <tr>\n",
       "      <th>177</th>\n",
       "      <td>573.869565</td>\n",
       "      <td>959.630435</td>\n",
       "      <td>285.760870</td>\n",
       "      <td>46</td>\n",
       "    </tr>\n",
       "    <tr>\n",
       "      <th>178</th>\n",
       "      <td>577.437500</td>\n",
       "      <td>944.687500</td>\n",
       "      <td>296.875000</td>\n",
       "      <td>16</td>\n",
       "    </tr>\n",
       "    <tr>\n",
       "      <th>179</th>\n",
       "      <td>579.555556</td>\n",
       "      <td>953.888889</td>\n",
       "      <td>270.222222</td>\n",
       "      <td>9</td>\n",
       "    </tr>\n",
       "    <tr>\n",
       "      <th>180</th>\n",
       "      <td>579.888889</td>\n",
       "      <td>963.666667</td>\n",
       "      <td>297.777778</td>\n",
       "      <td>9</td>\n",
       "    </tr>\n",
       "  </tbody>\n",
       "</table>\n",
       "<p>181 rows × 4 columns</p>\n",
       "</div>"
      ],
      "text/plain": [
       "              x            y           z  area\n",
       "0    448.703704  1059.407407  402.518519    27\n",
       "1    452.030075   998.902256  399.300752   133\n",
       "2    462.102345  1016.281450  382.098081   469\n",
       "3    459.987342   999.278481  392.550633   158\n",
       "4    458.380952  1000.492063  450.539683    63\n",
       "..          ...          ...         ...   ...\n",
       "176  573.333333   938.666667  292.875000    24\n",
       "177  573.869565   959.630435  285.760870    46\n",
       "178  577.437500   944.687500  296.875000    16\n",
       "179  579.555556   953.888889  270.222222     9\n",
       "180  579.888889   963.666667  297.777778     9\n",
       "\n",
       "[181 rows x 4 columns]"
      ]
     },
     "execution_count": 99,
     "metadata": {},
     "output_type": "execute_result"
    }
   ],
   "source": [
    "cell_body_refill"
   ]
  },
  {
   "cell_type": "code",
   "execution_count": 77,
   "metadata": {},
   "outputs": [],
   "source": []
  },
  {
   "cell_type": "code",
   "execution_count": 78,
   "metadata": {},
   "outputs": [],
   "source": []
  },
  {
   "cell_type": "code",
   "execution_count": 47,
   "metadata": {},
   "outputs": [],
   "source": []
  },
  {
   "cell_type": "code",
   "execution_count": 79,
   "metadata": {},
   "outputs": [],
   "source": []
  },
  {
   "cell_type": "code",
   "execution_count": 65,
   "metadata": {},
   "outputs": [],
   "source": []
  },
  {
   "cell_type": "code",
   "execution_count": null,
   "metadata": {},
   "outputs": [],
   "source": []
  },
  {
   "cell_type": "code",
   "execution_count": null,
   "metadata": {},
   "outputs": [],
   "source": []
  },
  {
   "cell_type": "code",
   "execution_count": 88,
   "metadata": {},
   "outputs": [
    {
     "data": {
      "text/plain": [
       "249"
      ]
     },
     "execution_count": 88,
     "metadata": {},
     "output_type": "execute_result"
    }
   ],
   "source": []
  },
  {
   "cell_type": "code",
   "execution_count": null,
   "metadata": {},
   "outputs": [],
   "source": []
  }
 ],
 "metadata": {
  "kernelspec": {
   "display_name": "Python 3",
   "language": "python",
   "name": "python3"
  },
  "language_info": {
   "codemirror_mode": {
    "name": "ipython",
    "version": 3
   },
   "file_extension": ".py",
   "mimetype": "text/x-python",
   "name": "python",
   "nbconvert_exporter": "python",
   "pygments_lexer": "ipython3",
   "version": "3.7.3"
  }
 },
 "nbformat": 4,
 "nbformat_minor": 4
}
