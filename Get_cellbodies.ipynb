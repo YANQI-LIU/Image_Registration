{
 "cells": [
  {
   "cell_type": "markdown",
   "metadata": {},
   "source": [
    "#### Part 1: Read cell body position from .apo files, downsample and save them as txt file for applying inverse transformation"
   ]
  },
  {
   "cell_type": "code",
   "execution_count": 1,
   "metadata": {},
   "outputs": [],
   "source": [
    "import Neuron_analysis as na\n",
    "from Neuron_analysis import *\n",
    "\n",
    "import os\n",
    "import pandas as pd\n",
    "import re\n",
    "\n",
    "import tkinter as tk\n",
    "import tkinter.filedialog as fdialog\n",
    "from tkinter import simpledialog\n",
    "\n",
    "import skimage\n",
    "\n",
    "import cc3d\n",
    "\n",
    "import numpy as np\n",
    "import matplotlib.pyplot as plt\n",
    "\n",
    "from read_roi import read_roi_file"
   ]
  },
  {
   "cell_type": "code",
   "execution_count": 2,
   "metadata": {},
   "outputs": [],
   "source": [
    "indir = fdialog.askdirectory(title='Select the directories with all the cell bodies.apo')\n",
    "outdir = fdialog.askdirectory(title='Select the output directory to store your file')\n",
    "\n",
    "files = os.listdir(indir)"
   ]
  },
  {
   "cell_type": "code",
   "execution_count": 69,
   "metadata": {
    "jupyter": {
     "source_hidden": true
    }
   },
   "outputs": [],
   "source": [
    "def prepare_cellbody(indir,anno_file,outdir):\n",
    "    anno=open(os.path.join(indir,anno_file),'r')\n",
    "    anno_data=anno.readlines()\n",
    " \n",
    "    headings=anno_data[0].rstrip('\\n').split(',')\n",
    "    annotations=[lines.rstrip('\\n').split(',') for lines in anno_data[1:]]\n",
    "    annotation_df=pd.DataFrame(annotations, columns=headings)\n",
    "    \n",
    "    cell_body= annotation_df[annotation_df.color_g=='255']\n",
    "    #pickout only green points!\n",
    "    \n",
    "    # find the coordinates and downsample it! these values are based on xy= 0.6 z= 5, and downsampling to 25 xyz\n",
    "    ds_x= pd.to_numeric(cell_body['x'])//41\n",
    "    ds_y= pd.to_numeric(cell_body['y'])//41\n",
    "    ds_z= pd.to_numeric(cell_body['z'])//5\n",
    "\n",
    "    x=ds_x.astype(int).astype(str)\n",
    "    y=ds_y.astype(int).astype(str)\n",
    "    z=ds_z.astype(int).astype(str)\n",
    "    \n",
    "    m=re.search('\\D{2}[0-9]{3}', anno_file)\n",
    "    mouse_name=m[0]\n",
    "\n",
    "    out_name=os.path.join(outdir,mouse_name+'cellbody.txt')\n",
    "\n",
    "    f=open(out_name,'w+')\n",
    "    f.write('point'+'\\n')\n",
    "    f.write('1'+'\\n') # by default there is only 1 cell body, hence only 1 point here\n",
    "    f.write(x.values[0]+ ' ' + y.values[0]+ ' '+ z.values[0])\n",
    "    f.close()\n",
    "    return\n",
    "    "
   ]
  },
  {
   "cell_type": "code",
   "execution_count": 70,
   "metadata": {
    "jupyter": {
     "source_hidden": true
    }
   },
   "outputs": [],
   "source": [
    "for items in files:\n",
    "    prepare_cellbody(indir, items, outdir)"
   ]
  },
  {
   "cell_type": "markdown",
   "metadata": {},
   "source": [
    "### Part2  : (after transformation by transformix) extract the transformed points, refill y section (because we cropped the template for registration). \n",
    "Then write as a single file containing brain ID and cell body location\n",
    "\n",
    "___Work in progress___"
   ]
  },
  {
   "cell_type": "code",
   "execution_count": 3,
   "metadata": {
    "jupyter": {
     "source_hidden": true
    }
   },
   "outputs": [],
   "source": [
    "brain_id= ['AL175', 'AL223','AL230', 'AL236','AL242', 'AL244', 'AL261']\n",
    "#missing 'AL225' \n",
    "cb_file=f'D:\\{brain_id[1]}\\points\\cellbody\\outputpoints.txt'"
   ]
  },
  {
   "cell_type": "code",
   "execution_count": null,
   "metadata": {
    "jupyter": {
     "source_hidden": true
    }
   },
   "outputs": [],
   "source": []
  },
  {
   "cell_type": "code",
   "execution_count": 4,
   "metadata": {
    "jupyter": {
     "source_hidden": true
    }
   },
   "outputs": [],
   "source": [
    "all_points=[]\n",
    "\n",
    "for items in brain_id:\n",
    "    this_file=cb_file=f'D:\\{items}\\points\\cellbody\\outputpoints.txt'\n",
    "    \n",
    "    template_file = [x for x in os.listdir(f'D:\\{items}\\\\') if 'template' in x]\n",
    "    to_add=na.find_crop(template_file[0])\n",
    "  \n",
    "    with open(cb_file,'r') as output:\n",
    "        outputpoint= output.readlines()\n",
    "\n",
    "    for lines in outputpoint:\n",
    "        m=re.search(\"(?:OutputIndexFixed = \\[ )([0-9]+ [0-9]+ [0-9]+)\", lines).groups(0)\n",
    "        this_line= str(m[0]).split(' ')\n",
    "        mypoints= [int(stuff) for stuff in this_line]\n",
    "        mypoints[1]= mypoints[1]+to_add\n",
    "        mypoints.insert(0, items)\n",
    "        all_points.append(mypoints)\n",
    "        \n",
    "# the coordiates are arranged in x,y and z"
   ]
  },
  {
   "cell_type": "code",
   "execution_count": 5,
   "metadata": {
    "collapsed": true,
    "jupyter": {
     "outputs_hidden": true,
     "source_hidden": true
    }
   },
   "outputs": [
    {
     "data": {
      "text/plain": [
       "[['AL175', 92, 283, 52],\n",
       " ['AL223', 99, 279, 47],\n",
       " ['AL230', 88, 275, 56],\n",
       " ['AL236', 104, 279, 40],\n",
       " ['AL242', 136, 263, 33],\n",
       " ['AL244', 86, 302, 47],\n",
       " ['AL261', 123, 261, 42]]"
      ]
     },
     "execution_count": 5,
     "metadata": {},
     "output_type": "execute_result"
    }
   ],
   "source": [
    "all_points"
   ]
  },
  {
   "cell_type": "code",
   "execution_count": 8,
   "metadata": {
    "jupyter": {
     "source_hidden": true
    }
   },
   "outputs": [],
   "source": [
    "cell_bodies= pd.DataFrame(all_points, columns= ['name', 'x', 'y', 'z'])"
   ]
  },
  {
   "cell_type": "code",
   "execution_count": 10,
   "metadata": {
    "collapsed": true,
    "jupyter": {
     "outputs_hidden": true,
     "source_hidden": true
    }
   },
   "outputs": [
    {
     "data": {
      "text/html": [
       "<div>\n",
       "<style scoped>\n",
       "    .dataframe tbody tr th:only-of-type {\n",
       "        vertical-align: middle;\n",
       "    }\n",
       "\n",
       "    .dataframe tbody tr th {\n",
       "        vertical-align: top;\n",
       "    }\n",
       "\n",
       "    .dataframe thead th {\n",
       "        text-align: right;\n",
       "    }\n",
       "</style>\n",
       "<table border=\"1\" class=\"dataframe\">\n",
       "  <thead>\n",
       "    <tr style=\"text-align: right;\">\n",
       "      <th></th>\n",
       "      <th>name</th>\n",
       "      <th>x</th>\n",
       "      <th>y</th>\n",
       "      <th>z</th>\n",
       "    </tr>\n",
       "  </thead>\n",
       "  <tbody>\n",
       "    <tr>\n",
       "      <th>0</th>\n",
       "      <td>AL175</td>\n",
       "      <td>92</td>\n",
       "      <td>283</td>\n",
       "      <td>52</td>\n",
       "    </tr>\n",
       "    <tr>\n",
       "      <th>1</th>\n",
       "      <td>AL223</td>\n",
       "      <td>99</td>\n",
       "      <td>279</td>\n",
       "      <td>47</td>\n",
       "    </tr>\n",
       "    <tr>\n",
       "      <th>2</th>\n",
       "      <td>AL230</td>\n",
       "      <td>88</td>\n",
       "      <td>275</td>\n",
       "      <td>56</td>\n",
       "    </tr>\n",
       "    <tr>\n",
       "      <th>3</th>\n",
       "      <td>AL236</td>\n",
       "      <td>104</td>\n",
       "      <td>279</td>\n",
       "      <td>40</td>\n",
       "    </tr>\n",
       "    <tr>\n",
       "      <th>4</th>\n",
       "      <td>AL242</td>\n",
       "      <td>136</td>\n",
       "      <td>263</td>\n",
       "      <td>33</td>\n",
       "    </tr>\n",
       "    <tr>\n",
       "      <th>5</th>\n",
       "      <td>AL244</td>\n",
       "      <td>86</td>\n",
       "      <td>302</td>\n",
       "      <td>47</td>\n",
       "    </tr>\n",
       "    <tr>\n",
       "      <th>6</th>\n",
       "      <td>AL261</td>\n",
       "      <td>123</td>\n",
       "      <td>261</td>\n",
       "      <td>42</td>\n",
       "    </tr>\n",
       "  </tbody>\n",
       "</table>\n",
       "</div>"
      ],
      "text/plain": [
       "    name    x    y   z\n",
       "0  AL175   92  283  52\n",
       "1  AL223   99  279  47\n",
       "2  AL230   88  275  56\n",
       "3  AL236  104  279  40\n",
       "4  AL242  136  263  33\n",
       "5  AL244   86  302  47\n",
       "6  AL261  123  261  42"
      ]
     },
     "execution_count": 10,
     "metadata": {},
     "output_type": "execute_result"
    }
   ],
   "source": [
    "cell_bodies"
   ]
  },
  {
   "cell_type": "code",
   "execution_count": null,
   "metadata": {},
   "outputs": [],
   "source": []
  },
  {
   "cell_type": "code",
   "execution_count": null,
   "metadata": {},
   "outputs": [],
   "source": []
  },
  {
   "cell_type": "markdown",
   "metadata": {},
   "source": [
    "## (old)Part for viral cellbody ROIs (after segmentation and curation in LabKit)\n",
    "\n",
    "ImageJ plugin https://imagej.net/plugins/labkit/"
   ]
  },
  {
   "cell_type": "code",
   "execution_count": 95,
   "metadata": {
    "jupyter": {
     "source_hidden": true
    }
   },
   "outputs": [],
   "source": [
    "outdir = fdialog.askdirectory(title='Select the output directory to store your file')"
   ]
  },
  {
   "cell_type": "code",
   "execution_count": 73,
   "metadata": {
    "jupyter": {
     "source_hidden": true
    }
   },
   "outputs": [],
   "source": [
    "image_name = fdialog.askopenfile(title='Select the binary image').name\n",
    "mouse_name=na.find_mousename(image_name)\n"
   ]
  },
  {
   "cell_type": "code",
   "execution_count": 107,
   "metadata": {
    "jupyter": {
     "source_hidden": true
    }
   },
   "outputs": [],
   "source": [
    "def prepare_cellbody_virus(tiff_file, threshold=5):\n",
    "    '''From curated segmentation tiff file, find connected components(3d) with their area and centeroid.\n",
    "    \n",
    "    threshold: connected components with numbers of pixels below this number will get removed\n",
    "    \n",
    "    saves .txt file compatible for transformix (and downsampled to 25um space) and a .csv file listing the area and the centroid x,y,z coordinate (not downsampled) for each component\n",
    "    '''\n",
    "    \n",
    "    im= skimage.io.imread(tiff_file) \n",
    "        \n",
    "    labels=skimage.measure.label(im)\n",
    "    info= skimage.measure.regionprops(labels)\n",
    "    \n",
    "    real_cells= [items for items in info if items.area>threshold]\n",
    "    # remove connected components that are less than 5 pixels for example\n",
    "    areas=[item.area for item in real_cells]\n",
    "    \n",
    "    center= [item.centroid for item in real_cells]\n",
    "    center=np.asarray(center)\n",
    "    \n",
    "    headings=['x', 'y', 'z']\n",
    "    #points=[lines.rstrip('\\n').split(',') for lines in anno_data[1:]]\n",
    "    centroid_df=pd.DataFrame(center, columns=headings)\n",
    "    centroid_df['area']= areas\n",
    "    return centroid_df\n",
    "\n",
    "def refill_roi(centroid_df):\n",
    "    \n",
    "    ''' Find x, y, z section to refill from .roi file (account for x and y) and substack file name (account for z)\n",
    "    refill the input dataframe's 'x', 'y', 'z' to match the original image size. Input data frame is usually an output from prepare_cellbody_virus\n",
    "    '''\n",
    "    roi_name = fdialog.askopenfile(title='Select the roi').name\n",
    "    roi = read_roi_file(roi_name)\n",
    "    name=list(roi.keys())[0]\n",
    "    x_add=roi[name]['left']-1\n",
    "    y_add=roi[name]['top']-1\n",
    "    substack_name = fdialog.askopenfile(title='Select the substack used for cellbody segmentation').name\n",
    "    m= re.search(\"(?<=_)[0-9]{1,3}.[0-9]{1,3}\",substack_name)[0]\n",
    "    to_add= m.split('-')\n",
    "    lead= int(to_add[0])-1\n",
    "    centroid_df['x']+= x_add\n",
    "    centroid_df['y']+= y_add\n",
    "    centroid_df['z']+= lead\n",
    "    \n",
    "    return centroid_df\n",
    "\n",
    "def make_transformix_txt(centroid_df,mouse_name): #work in progress\n",
    "\n",
    "    # find the coordinates and downsample it! these values are based on xy= 0.6 z= 5, and downsampling to 25 xyz\n",
    "    ds_x= pd.to_numeric(centroid_df['x'])//5\n",
    "    ds_y= pd.to_numeric(centroid_df['y'])//5\n",
    "    ds_z= pd.to_numeric(centroid_df['z'])//5\n",
    "\n",
    "    x=ds_x.astype(int).astype(str)\n",
    "    y=ds_y.astype(int).astype(str)\n",
    "    z=ds_z.astype(int).astype(str)\n",
    "    \n",
    "    q = [' '.join(x) for x in zip(x,y,z)]\n",
    "    num_row=len(q)\n",
    "\n",
    "    out_name=os.path.join(outdir,mouse_name+'cellbody.txt')\n",
    "\n",
    "    f=open(out_name,'w+')\n",
    "    f.write('point'+'\\n')\n",
    "    f.write(str(num_row)+'\\n')\n",
    "    for lines in q:\n",
    "        f.write(lines+'\\n')\n",
    "    f.close()\n",
    "    \n",
    "    return"
   ]
  },
  {
   "cell_type": "code",
   "execution_count": 91,
   "metadata": {
    "collapsed": true,
    "jupyter": {
     "outputs_hidden": true,
     "source_hidden": true
    }
   },
   "outputs": [
    {
     "data": {
      "text/html": [
       "<div>\n",
       "<style scoped>\n",
       "    .dataframe tbody tr th:only-of-type {\n",
       "        vertical-align: middle;\n",
       "    }\n",
       "\n",
       "    .dataframe tbody tr th {\n",
       "        vertical-align: top;\n",
       "    }\n",
       "\n",
       "    .dataframe thead th {\n",
       "        text-align: right;\n",
       "    }\n",
       "</style>\n",
       "<table border=\"1\" class=\"dataframe\">\n",
       "  <thead>\n",
       "    <tr style=\"text-align: right;\">\n",
       "      <th></th>\n",
       "      <th>x</th>\n",
       "      <th>y</th>\n",
       "      <th>z</th>\n",
       "      <th>area</th>\n",
       "    </tr>\n",
       "  </thead>\n",
       "  <tbody>\n",
       "    <tr>\n",
       "      <th>0</th>\n",
       "      <td>3.703704</td>\n",
       "      <td>180.407407</td>\n",
       "      <td>153.518519</td>\n",
       "      <td>27</td>\n",
       "    </tr>\n",
       "    <tr>\n",
       "      <th>1</th>\n",
       "      <td>7.030075</td>\n",
       "      <td>119.902256</td>\n",
       "      <td>150.300752</td>\n",
       "      <td>133</td>\n",
       "    </tr>\n",
       "    <tr>\n",
       "      <th>2</th>\n",
       "      <td>17.102345</td>\n",
       "      <td>137.281450</td>\n",
       "      <td>133.098081</td>\n",
       "      <td>469</td>\n",
       "    </tr>\n",
       "    <tr>\n",
       "      <th>3</th>\n",
       "      <td>14.987342</td>\n",
       "      <td>120.278481</td>\n",
       "      <td>143.550633</td>\n",
       "      <td>158</td>\n",
       "    </tr>\n",
       "    <tr>\n",
       "      <th>4</th>\n",
       "      <td>13.380952</td>\n",
       "      <td>121.492063</td>\n",
       "      <td>201.539683</td>\n",
       "      <td>63</td>\n",
       "    </tr>\n",
       "    <tr>\n",
       "      <th>...</th>\n",
       "      <td>...</td>\n",
       "      <td>...</td>\n",
       "      <td>...</td>\n",
       "      <td>...</td>\n",
       "    </tr>\n",
       "    <tr>\n",
       "      <th>176</th>\n",
       "      <td>128.333333</td>\n",
       "      <td>59.666667</td>\n",
       "      <td>43.875000</td>\n",
       "      <td>24</td>\n",
       "    </tr>\n",
       "    <tr>\n",
       "      <th>177</th>\n",
       "      <td>128.869565</td>\n",
       "      <td>80.630435</td>\n",
       "      <td>36.760870</td>\n",
       "      <td>46</td>\n",
       "    </tr>\n",
       "    <tr>\n",
       "      <th>178</th>\n",
       "      <td>132.437500</td>\n",
       "      <td>65.687500</td>\n",
       "      <td>47.875000</td>\n",
       "      <td>16</td>\n",
       "    </tr>\n",
       "    <tr>\n",
       "      <th>179</th>\n",
       "      <td>134.555556</td>\n",
       "      <td>74.888889</td>\n",
       "      <td>21.222222</td>\n",
       "      <td>9</td>\n",
       "    </tr>\n",
       "    <tr>\n",
       "      <th>180</th>\n",
       "      <td>134.888889</td>\n",
       "      <td>84.666667</td>\n",
       "      <td>48.777778</td>\n",
       "      <td>9</td>\n",
       "    </tr>\n",
       "  </tbody>\n",
       "</table>\n",
       "<p>181 rows × 4 columns</p>\n",
       "</div>"
      ],
      "text/plain": [
       "              x           y           z  area\n",
       "0      3.703704  180.407407  153.518519    27\n",
       "1      7.030075  119.902256  150.300752   133\n",
       "2     17.102345  137.281450  133.098081   469\n",
       "3     14.987342  120.278481  143.550633   158\n",
       "4     13.380952  121.492063  201.539683    63\n",
       "..          ...         ...         ...   ...\n",
       "176  128.333333   59.666667   43.875000    24\n",
       "177  128.869565   80.630435   36.760870    46\n",
       "178  132.437500   65.687500   47.875000    16\n",
       "179  134.555556   74.888889   21.222222     9\n",
       "180  134.888889   84.666667   48.777778     9\n",
       "\n",
       "[181 rows x 4 columns]"
      ]
     },
     "execution_count": 91,
     "metadata": {},
     "output_type": "execute_result"
    }
   ],
   "source": [
    "cell_body=prepare_cellbody_virus(image_name, threshold=5)\n",
    "cell_body"
   ]
  },
  {
   "cell_type": "code",
   "execution_count": 92,
   "metadata": {
    "jupyter": {
     "source_hidden": true
    }
   },
   "outputs": [],
   "source": [
    "cell_body_refill= refill_roi(cell_body)\n",
    "cell_body_refill"
   ]
  },
  {
   "cell_type": "code",
   "execution_count": 98,
   "metadata": {
    "jupyter": {
     "source_hidden": true
    }
   },
   "outputs": [],
   "source": [
    "out_name=os.path.join(outdir,mouse_name+'cellbody.csv')\n",
    "cell_body_refill.to_csv(out_name)"
   ]
  },
  {
   "cell_type": "code",
   "execution_count": 108,
   "metadata": {
    "jupyter": {
     "source_hidden": true
    }
   },
   "outputs": [],
   "source": [
    "make_transformix_txt(cell_body_refill,mouse_name)"
   ]
  },
  {
   "cell_type": "markdown",
   "metadata": {},
   "source": [
    "## Part for rough injection site segmented with Labkit from registered downsampled images"
   ]
  },
  {
   "cell_type": "code",
   "execution_count": 1,
   "metadata": {},
   "outputs": [],
   "source": [
    "import Neuron_analysis as na\n",
    "from Neuron_analysis import *\n",
    "\n",
    "import os\n",
    "import pandas as pd\n",
    "import re\n",
    "\n",
    "import tkinter as tk\n",
    "import tkinter.filedialog as fdialog\n",
    "from tkinter import simpledialog\n",
    "\n",
    "import skimage\n",
    "\n",
    "import cc3d\n",
    "\n",
    "import numpy as np\n",
    "import numpy.ma as ma\n",
    "\n",
    "import matplotlib.pyplot as plt\n",
    "\n",
    "from tqdm import tqdm\n",
    "\n",
    "from allensdk.core.mouse_connectivity_cache import MouseConnectivityCache\n"
   ]
  },
  {
   "cell_type": "code",
   "execution_count": 6,
   "metadata": {},
   "outputs": [],
   "source": [
    "indir = fdialog.askdirectory(title='Select the directories with all the injection site tif stacks')\n",
    "outdir = fdialog.askdirectory(title='Select the output directory to store the results')\n",
    "\n",
    "files = os.listdir(indir)"
   ]
  },
  {
   "cell_type": "code",
   "execution_count": 7,
   "metadata": {},
   "outputs": [],
   "source": [
    "def prepare_injsite(tiff_file, lead, outdir): \n",
    "    #WORKINPROGRESS\n",
    "    '''From injection site tiff file, find the cropped regions and add it back(so the dimension matches the full atlas)\n",
    "    save as tiff file\n",
    "    '''\n",
    "    \n",
    "    \n",
    "    im= skimage.io.imread(tiff_file) \n",
    "    \n",
    "    atlas_shape=(320, 528, 456)\n",
    "    coords= np.argwhere(im>0)\n",
    "    \n",
    "    refilled_coords=np.zeros(atlas_shape)\n",
    "    for lines in coords:\n",
    "        refilled_coords[lines[0],lines[1]+lead, lines[2]]=255\n",
    "        \n",
    "    horizontal= np.int16(refilled_coords)\n",
    "\n",
    "    out_name=os.path.basename(tiff_file)[:-4]\n",
    "    skimage.io.imsave(f'{outdir}//{out_name}_full.tiff',horizontal)\n",
    "\n",
    "    return "
   ]
  },
  {
   "cell_type": "code",
   "execution_count": null,
   "metadata": {},
   "outputs": [],
   "source": []
  },
  {
   "cell_type": "code",
   "execution_count": 8,
   "metadata": {
    "collapsed": true,
    "jupyter": {
     "outputs_hidden": true
    }
   },
   "outputs": [
    {
     "name": "stderr",
     "output_type": "stream",
     "text": [
      "  0%|                                                                                           | 0/13 [00:00<?, ?it/s]C:\\Users\\liu\\AppData\\Local\\Continuum\\anaconda3\\lib\\site-packages\\skimage\\io\\_io.py:141: UserWarning: D:/viral_injsite_results//AL207_647_full.tiff is a low contrast image\n",
      "  warn('%s is a low contrast image' % fname)\n",
      "  8%|██████▍                                                                            | 1/13 [00:01<00:21,  1.79s/it]C:\\Users\\liu\\AppData\\Local\\Continuum\\anaconda3\\lib\\site-packages\\skimage\\io\\_io.py:141: UserWarning: D:/viral_injsite_results//AL209_647_full.tiff is a low contrast image\n",
      "  warn('%s is a low contrast image' % fname)\n",
      " 15%|████████████▊                                                                      | 2/13 [00:03<00:19,  1.79s/it]C:\\Users\\liu\\AppData\\Local\\Continuum\\anaconda3\\lib\\site-packages\\skimage\\io\\_io.py:141: UserWarning: D:/viral_injsite_results//AL210_647_full.tiff is a low contrast image\n",
      "  warn('%s is a low contrast image' % fname)\n",
      " 23%|███████████████████▏                                                               | 3/13 [00:05<00:19,  1.94s/it]C:\\Users\\liu\\AppData\\Local\\Continuum\\anaconda3\\lib\\site-packages\\skimage\\io\\_io.py:141: UserWarning: D:/viral_injsite_results//AL211_647_full.tiff is a low contrast image\n",
      "  warn('%s is a low contrast image' % fname)\n",
      " 31%|█████████████████████████▌                                                         | 4/13 [00:07<00:16,  1.87s/it]C:\\Users\\liu\\AppData\\Local\\Continuum\\anaconda3\\lib\\site-packages\\skimage\\io\\_io.py:141: UserWarning: D:/viral_injsite_results//AL213_647_full.tiff is a low contrast image\n",
      "  warn('%s is a low contrast image' % fname)\n",
      " 38%|███████████████████████████████▉                                                   | 5/13 [00:09<00:14,  1.83s/it]C:\\Users\\liu\\AppData\\Local\\Continuum\\anaconda3\\lib\\site-packages\\skimage\\io\\_io.py:141: UserWarning: D:/viral_injsite_results//AL215_647_full.tiff is a low contrast image\n",
      "  warn('%s is a low contrast image' % fname)\n",
      " 46%|██████████████████████████████████████▎                                            | 6/13 [00:11<00:12,  1.85s/it]C:\\Users\\liu\\AppData\\Local\\Continuum\\anaconda3\\lib\\site-packages\\skimage\\io\\_io.py:141: UserWarning: D:/viral_injsite_results//AL273_647_full.tiff is a low contrast image\n",
      "  warn('%s is a low contrast image' % fname)\n",
      " 54%|████████████████████████████████████████████▋                                      | 7/13 [00:13<00:11,  1.89s/it]C:\\Users\\liu\\AppData\\Local\\Continuum\\anaconda3\\lib\\site-packages\\skimage\\io\\_io.py:141: UserWarning: D:/viral_injsite_results//AL274_561_full.tiff is a low contrast image\n",
      "  warn('%s is a low contrast image' % fname)\n",
      " 62%|███████████████████████████████████████████████████                                | 8/13 [00:14<00:09,  1.83s/it]C:\\Users\\liu\\AppData\\Local\\Continuum\\anaconda3\\lib\\site-packages\\skimage\\io\\_io.py:141: UserWarning: D:/viral_injsite_results//AL274_647_full.tiff is a low contrast image\n",
      "  warn('%s is a low contrast image' % fname)\n",
      " 69%|█████████████████████████████████████████████████████████▍                         | 9/13 [00:16<00:07,  1.90s/it]C:\\Users\\liu\\AppData\\Local\\Continuum\\anaconda3\\lib\\site-packages\\skimage\\io\\_io.py:141: UserWarning: D:/viral_injsite_results//AL278_647_full.tiff is a low contrast image\n",
      "  warn('%s is a low contrast image' % fname)\n",
      " 77%|███████████████████████████████████████████████████████████████                   | 10/13 [00:18<00:05,  1.88s/it]C:\\Users\\liu\\AppData\\Local\\Continuum\\anaconda3\\lib\\site-packages\\skimage\\io\\_io.py:141: UserWarning: D:/viral_injsite_results//AL280_647_full.tiff is a low contrast image\n",
      "  warn('%s is a low contrast image' % fname)\n",
      " 85%|█████████████████████████████████████████████████████████████████████▍            | 11/13 [00:21<00:04,  2.03s/it]C:\\Users\\liu\\AppData\\Local\\Continuum\\anaconda3\\lib\\site-packages\\skimage\\io\\_io.py:141: UserWarning: D:/viral_injsite_results//AL281_647_full.tiff is a low contrast image\n",
      "  warn('%s is a low contrast image' % fname)\n",
      " 92%|███████████████████████████████████████████████████████████████████████████▋      | 12/13 [00:23<00:02,  2.13s/it]C:\\Users\\liu\\AppData\\Local\\Continuum\\anaconda3\\lib\\site-packages\\skimage\\io\\_io.py:141: UserWarning: D:/viral_injsite_results//AL285_647_full.tiff is a low contrast image\n",
      "  warn('%s is a low contrast image' % fname)\n",
      "100%|██████████████████████████████████████████████████████████████████████████████████| 13/13 [00:25<00:00,  1.95s/it]\n"
     ]
    }
   ],
   "source": [
    "for i in tqdm(files):\n",
    "\n",
    "    tiff_file=os.path.join(indir,i) \n",
    "    mouse_name=na.find_mousename(i)\n",
    "\n",
    "    template_dir= f'M:\\\\analysis\\\\Yanqi_Liu\\\\Viral_staskc_L56\\\\{mouse_name}'\n",
    "    template_name= [i for i in os.listdir(template_dir) if 'template_' in i]\n",
    "    lead= na.find_crop(template_name[0])\n",
    "    \n",
    "    prepare_injsite(tiff_file, lead, outdir)    \n"
   ]
  },
  {
   "cell_type": "code",
   "execution_count": null,
   "metadata": {},
   "outputs": [],
   "source": [
    "# now use these injection site tiff with full dimension to find information\n",
    "# number of voxels, centroid, centroid id, and voxel id\n",
    "# organize in pandas dataframe and save as excel file"
   ]
  },
  {
   "cell_type": "code",
   "execution_count": 2,
   "metadata": {},
   "outputs": [
    {
     "name": "stdout",
     "output_type": "stream",
     "text": [
      "Coronal atlas has shape (528, 320, 456)\n",
      "Converted to horizontal atlas with shape (456, 528, 320)\n"
     ]
    },
    {
     "data": {
      "image/png": "[encoded data removed]",
      "text/plain": [
       "<Figure size 640x480 with 1 Axes>"
      ]
     },
     "metadata": {},
     "output_type": "display_data"
    }
   ],
   "source": [
    "mcc = MouseConnectivityCache(resolution=25)\n",
    "\n",
    "annot, annot_info = mcc.get_annotation_volume()\n",
    "\n",
    "print('Coronal atlas has shape', annot.shape)\n",
    "\n",
    "annot_h=np.moveaxis(annot, 2, 0) #reslice corontal atlas to horizontal atlas\n",
    "print('Converted to horizontal atlas with shape', annot_h.shape)\n",
    "\n",
    "plt.imshow(annot_h[:,:,36], interpolation='nearest', vmin=0, vmax=3000)\n",
    "plt.show()\n",
    "# although in this plot it looks like the image should rotate 90 degrees to the right but it actually matches the dimension of image"
   ]
  },
  {
   "cell_type": "code",
   "execution_count": 3,
   "metadata": {},
   "outputs": [],
   "source": [
    "indir_injectionsite = fdialog.askdirectory(title='Select the directories with all the injection site tif FULL stacks')\n",
    "# now indicate the folder contaning outputs from prepare_injsite. Now all tiff will have the same dimension as the full atlas\n",
    "files = os.listdir(indir_injectionsite)\n",
    "#full_file=os.path.join(indir_injectionsite, files[2])"
   ]
  },
  {
   "cell_type": "code",
   "execution_count": 4,
   "metadata": {},
   "outputs": [],
   "source": [
    "d = {'Data_name':[], 'Total_voxels':[] , 'Centroid_location': [],'Centroid_id':[],'Voxel_id':[] }\n",
    "results=pd.DataFrame(data=d)"
   ]
  },
  {
   "cell_type": "code",
   "execution_count": 6,
   "metadata": {},
   "outputs": [
    {
     "name": "stderr",
     "output_type": "stream",
     "text": [
      "100%|██████████████████████████████████████████████████████████████████████████████████| 13/13 [01:18<00:00,  6.01s/it]\n"
     ]
    }
   ],
   "source": [
    "for i in tqdm(files):\n",
    "    full_file=os.path.join(indir_injectionsite, i)    \n",
    "    im= skimage.io.imread(full_file)\n",
    "    # read the files\n",
    "    \n",
    "    labels_out = cc3d.connected_components(im,connectivity=6)\n",
    "    stats = cc3d.statistics(labels_out)\n",
    "    # find relevant info using cc3d\n",
    "    \n",
    "    centroid_round = stats['centroids'][1].astype(int)\n",
    "    centroid_id = int(annot_h[(centroid_round[2]), centroid_round[1], centroid_round[0]])\n",
    "    \n",
    "    coords= np.argwhere(im>0) # find an atlas id for each coordinate\n",
    "    points_in_atlas=[]\n",
    "    for j in coords:\n",
    "        points_in_atlas.append(int(annot_h[j[2], j[1],j[0]]))\n",
    "        #note this order of dimensions\n",
    "    unique, counts = np.unique(points_in_atlas, return_counts=True)\n",
    "    id_count=dict(zip(unique, counts))\n",
    "    \n",
    "    results= results.append ({'Data_name':f'{i[:9]}', 'Total_voxels':stats['voxel_counts'][1], \n",
    "                 'Centroid_location': centroid_round, 'Centroid_id':centroid_id, 'Voxel_id':[id_count] }, ignore_index=True)"
   ]
  },
  {
   "cell_type": "code",
   "execution_count": 7,
   "metadata": {},
   "outputs": [
    {
     "data": {
      "text/html": [
       "<div>\n",
       "<style scoped>\n",
       "    .dataframe tbody tr th:only-of-type {\n",
       "        vertical-align: middle;\n",
       "    }\n",
       "\n",
       "    .dataframe tbody tr th {\n",
       "        vertical-align: top;\n",
       "    }\n",
       "\n",
       "    .dataframe thead th {\n",
       "        text-align: right;\n",
       "    }\n",
       "</style>\n",
       "<table border=\"1\" class=\"dataframe\">\n",
       "  <thead>\n",
       "    <tr style=\"text-align: right;\">\n",
       "      <th></th>\n",
       "      <th>Data_name</th>\n",
       "      <th>Total_voxels</th>\n",
       "      <th>Centroid_location</th>\n",
       "      <th>Centroid_id</th>\n",
       "      <th>Voxel_id</th>\n",
       "    </tr>\n",
       "  </thead>\n",
       "  <tbody>\n",
       "    <tr>\n",
       "      <th>0</th>\n",
       "      <td>AL207_647</td>\n",
       "      <td>6480.0</td>\n",
       "      <td>[60, 276, 121]</td>\n",
       "      <td>1070.0</td>\n",
       "      <td>[{9: 23, 1038: 1543, 1047: 14, 1070: 3873, 111...</td>\n",
       "    </tr>\n",
       "    <tr>\n",
       "      <th>1</th>\n",
       "      <td>AL209_647</td>\n",
       "      <td>4218.0</td>\n",
       "      <td>[69, 270, 109]</td>\n",
       "      <td>1070.0</td>\n",
       "      <td>[{1038: 75, 1047: 11, 1070: 4132}]</td>\n",
       "    </tr>\n",
       "    <tr>\n",
       "      <th>2</th>\n",
       "      <td>AL210_647</td>\n",
       "      <td>1855.0</td>\n",
       "      <td>[52, 287, 122]</td>\n",
       "      <td>1070.0</td>\n",
       "      <td>[{1047: 10, 1070: 1134, 1111: 159, 312782558: ...</td>\n",
       "    </tr>\n",
       "    <tr>\n",
       "      <th>3</th>\n",
       "      <td>AL211_647</td>\n",
       "      <td>1584.0</td>\n",
       "      <td>[66, 276, 106]</td>\n",
       "      <td>1070.0</td>\n",
       "      <td>[{1047: 94, 1070: 1490}]</td>\n",
       "    </tr>\n",
       "    <tr>\n",
       "      <th>4</th>\n",
       "      <td>AL213_647</td>\n",
       "      <td>2944.0</td>\n",
       "      <td>[73, 272, 98]</td>\n",
       "      <td>1070.0</td>\n",
       "      <td>[{1047: 44, 1070: 2900}]</td>\n",
       "    </tr>\n",
       "    <tr>\n",
       "      <th>5</th>\n",
       "      <td>AL215_647</td>\n",
       "      <td>2543.0</td>\n",
       "      <td>[67, 279, 102]</td>\n",
       "      <td>1070.0</td>\n",
       "      <td>[{1038: 532, 1047: 1022, 1070: 989}]</td>\n",
       "    </tr>\n",
       "    <tr>\n",
       "      <th>6</th>\n",
       "      <td>AL273_647</td>\n",
       "      <td>3158.0</td>\n",
       "      <td>[63, 273, 118]</td>\n",
       "      <td>1070.0</td>\n",
       "      <td>[{1038: 636, 1070: 2514, 182305705: 8}]</td>\n",
       "    </tr>\n",
       "    <tr>\n",
       "      <th>7</th>\n",
       "      <td>AL274_561</td>\n",
       "      <td>2205.0</td>\n",
       "      <td>[106, 284, 77]</td>\n",
       "      <td>862.0</td>\n",
       "      <td>[{862: 1958, 1090: 247}]</td>\n",
       "    </tr>\n",
       "    <tr>\n",
       "      <th>8</th>\n",
       "      <td>AL274_647</td>\n",
       "      <td>5471.0</td>\n",
       "      <td>[80, 283, 102]</td>\n",
       "      <td>1038.0</td>\n",
       "      <td>[{1038: 4515, 1062: 286, 1070: 587, 484682520:...</td>\n",
       "    </tr>\n",
       "    <tr>\n",
       "      <th>9</th>\n",
       "      <td>AL278_647</td>\n",
       "      <td>1221.0</td>\n",
       "      <td>[94, 282, 70]</td>\n",
       "      <td>1090.0</td>\n",
       "      <td>[{1035: 68, 1047: 2, 1070: 52, 1090: 1099}]</td>\n",
       "    </tr>\n",
       "    <tr>\n",
       "      <th>10</th>\n",
       "      <td>AL280_647</td>\n",
       "      <td>1642.0</td>\n",
       "      <td>[97, 277, 71]</td>\n",
       "      <td>1090.0</td>\n",
       "      <td>[{1035: 8, 1070: 100, 1090: 1534}]</td>\n",
       "    </tr>\n",
       "    <tr>\n",
       "      <th>11</th>\n",
       "      <td>AL281_647</td>\n",
       "      <td>1767.0</td>\n",
       "      <td>[102, 283, 72]</td>\n",
       "      <td>1090.0</td>\n",
       "      <td>[{862: 185, 1090: 1582}]</td>\n",
       "    </tr>\n",
       "    <tr>\n",
       "      <th>12</th>\n",
       "      <td>AL285_647</td>\n",
       "      <td>2885.0</td>\n",
       "      <td>[84, 269, 102]</td>\n",
       "      <td>1038.0</td>\n",
       "      <td>[{1038: 2492, 1070: 393}]</td>\n",
       "    </tr>\n",
       "  </tbody>\n",
       "</table>\n",
       "</div>"
      ],
      "text/plain": [
       "    Data_name  Total_voxels Centroid_location  Centroid_id  \\\n",
       "0   AL207_647        6480.0    [60, 276, 121]       1070.0   \n",
       "1   AL209_647        4218.0    [69, 270, 109]       1070.0   \n",
       "2   AL210_647        1855.0    [52, 287, 122]       1070.0   \n",
       "3   AL211_647        1584.0    [66, 276, 106]       1070.0   \n",
       "4   AL213_647        2944.0     [73, 272, 98]       1070.0   \n",
       "5   AL215_647        2543.0    [67, 279, 102]       1070.0   \n",
       "6   AL273_647        3158.0    [63, 273, 118]       1070.0   \n",
       "7   AL274_561        2205.0    [106, 284, 77]        862.0   \n",
       "8   AL274_647        5471.0    [80, 283, 102]       1038.0   \n",
       "9   AL278_647        1221.0     [94, 282, 70]       1090.0   \n",
       "10  AL280_647        1642.0     [97, 277, 71]       1090.0   \n",
       "11  AL281_647        1767.0    [102, 283, 72]       1090.0   \n",
       "12  AL285_647        2885.0    [84, 269, 102]       1038.0   \n",
       "\n",
       "                                             Voxel_id  \n",
       "0   [{9: 23, 1038: 1543, 1047: 14, 1070: 3873, 111...  \n",
       "1                  [{1038: 75, 1047: 11, 1070: 4132}]  \n",
       "2   [{1047: 10, 1070: 1134, 1111: 159, 312782558: ...  \n",
       "3                            [{1047: 94, 1070: 1490}]  \n",
       "4                            [{1047: 44, 1070: 2900}]  \n",
       "5                [{1038: 532, 1047: 1022, 1070: 989}]  \n",
       "6             [{1038: 636, 1070: 2514, 182305705: 8}]  \n",
       "7                            [{862: 1958, 1090: 247}]  \n",
       "8   [{1038: 4515, 1062: 286, 1070: 587, 484682520:...  \n",
       "9         [{1035: 68, 1047: 2, 1070: 52, 1090: 1099}]  \n",
       "10                 [{1035: 8, 1070: 100, 1090: 1534}]  \n",
       "11                           [{862: 185, 1090: 1582}]  \n",
       "12                          [{1038: 2492, 1070: 393}]  "
      ]
     },
     "execution_count": 7,
     "metadata": {},
     "output_type": "execute_result"
    }
   ],
   "source": [
    "results"
   ]
  },
  {
   "cell_type": "code",
   "execution_count": 8,
   "metadata": {},
   "outputs": [],
   "source": [
    "results.to_excel(r'D:\\viral_injectionsite\\results.xlsx')"
   ]
  },
  {
   "cell_type": "markdown",
   "metadata": {},
   "source": [
    "### For visualization and plotting!"
   ]
  },
  {
   "cell_type": "code",
   "execution_count": 12,
   "metadata": {},
   "outputs": [],
   "source": [
    "import numpy as np\n",
    "import numpy.ma as ma\n",
    "\n",
    "from skimage import measure\n",
    "import SimpleITK as sitk\n",
    "\n",
    "import plotly\n",
    "import plotly.offline\n",
    "import plotly.graph_objects as go"
   ]
  },
  {
   "cell_type": "code",
   "execution_count": 13,
   "metadata": {},
   "outputs": [],
   "source": [
    "atlas= sitk.ReadImage('D:\\\\Allenbrainatlas\\\\ARA_25_micron_mhd_ccf2017\\\\annotation_25_horizontal.mhd')"
   ]
  },
  {
   "cell_type": "code",
   "execution_count": 14,
   "metadata": {},
   "outputs": [],
   "source": [
    "volume= sitk.GetArrayFromImage(atlas) # read the atlas image\n",
    "x=ma.masked_greater(volume,0) #take every structure of the brain(anything greater than 0)\n",
    "brain=x.mask"
   ]
  },
  {
   "cell_type": "code",
   "execution_count": 15,
   "metadata": {},
   "outputs": [],
   "source": [
    "verts, faces, normals, values = measure.marching_cubes_lewiner(brain, level=None, spacing=(1.0, 1.0, 1.0),step_size=10)"
   ]
  },
  {
   "cell_type": "code",
   "execution_count": 16,
   "metadata": {},
   "outputs": [],
   "source": [
    "y=ma.masked_equal(volume,201)\n",
    "l23=y.mask\n",
    "\n",
    "#select ssp-bfd layer 23, id 201"
   ]
  },
  {
   "cell_type": "code",
   "execution_count": 17,
   "metadata": {},
   "outputs": [],
   "source": [
    "verts2, faces2, normals2, values2 = measure.marching_cubes_lewiner(l23, level=None, spacing=(1.0, 1.0, 1.0),step_size=1)"
   ]
  },
  {
   "cell_type": "code",
   "execution_count": null,
   "metadata": {},
   "outputs": [],
   "source": []
  },
  {
   "cell_type": "code",
   "execution_count": 20,
   "metadata": {
    "collapsed": true,
    "jupyter": {
     "outputs_hidden": true
    }
   },
   "outputs": [
    {
     "ename": "ValueError",
     "evalue": "\n    Invalid element(s) received for the 'color' property of scatter3d.marker\n        Invalid elements include: ['AL175', 'AL223', 'AL230', 'AL236', 'AL242', 'AL244', 'AL261']\n\n    The 'color' property is a color and may be specified as:\n      - A hex string (e.g. '#ff0000')\n      - An rgb/rgba string (e.g. 'rgb(255,0,0)')\n      - An hsl/hsla string (e.g. 'hsl(0,100%,50%)')\n      - An hsv/hsva string (e.g. 'hsv(0,100%,100%)')\n      - A named CSS color:\n            aliceblue, antiquewhite, aqua, aquamarine, azure,\n            beige, bisque, black, blanchedalmond, blue,\n            blueviolet, brown, burlywood, cadetblue,\n            chartreuse, chocolate, coral, cornflowerblue,\n            cornsilk, crimson, cyan, darkblue, darkcyan,\n            darkgoldenrod, darkgray, darkgrey, darkgreen,\n            darkkhaki, darkmagenta, darkolivegreen, darkorange,\n            darkorchid, darkred, darksalmon, darkseagreen,\n            darkslateblue, darkslategray, darkslategrey,\n            darkturquoise, darkviolet, deeppink, deepskyblue,\n            dimgray, dimgrey, dodgerblue, firebrick,\n            floralwhite, forestgreen, fuchsia, gainsboro,\n            ghostwhite, gold, goldenrod, gray, grey, green,\n            greenyellow, honeydew, hotpink, indianred, indigo,\n            ivory, khaki, lavender, lavenderblush, lawngreen,\n            lemonchiffon, lightblue, lightcoral, lightcyan,\n            lightgoldenrodyellow, lightgray, lightgrey,\n            lightgreen, lightpink, lightsalmon, lightseagreen,\n            lightskyblue, lightslategray, lightslategrey,\n            lightsteelblue, lightyellow, lime, limegreen,\n            linen, magenta, maroon, mediumaquamarine,\n            mediumblue, mediumorchid, mediumpurple,\n            mediumseagreen, mediumslateblue, mediumspringgreen,\n            mediumturquoise, mediumvioletred, midnightblue,\n            mintcream, mistyrose, moccasin, navajowhite, navy,\n            oldlace, olive, olivedrab, orange, orangered,\n            orchid, palegoldenrod, palegreen, paleturquoise,\n            palevioletred, papayawhip, peachpuff, peru, pink,\n            plum, powderblue, purple, red, rosybrown,\n            royalblue, rebeccapurple, saddlebrown, salmon,\n            sandybrown, seagreen, seashell, sienna, silver,\n            skyblue, slateblue, slategray, slategrey, snow,\n            springgreen, steelblue, tan, teal, thistle, tomato,\n            turquoise, violet, wheat, white, whitesmoke,\n            yellow, yellowgreen\n      - A number that will be interpreted as a color\n        according to scatter3d.marker.colorscale\n      - A list or array of any of the above",
     "output_type": "error",
     "traceback": [
      "\u001b[1;31m---------------------------------------------------------------------------\u001b[0m",
      "\u001b[1;31mValueError\u001b[0m                                Traceback (most recent call last)",
      "\u001b[1;32m<ipython-input-20-727dcc792962>\u001b[0m in \u001b[0;36m<module>\u001b[1;34m\u001b[0m\n\u001b[0;32m     18\u001b[0m                             k=k2,))\n\u001b[0;32m     19\u001b[0m \u001b[1;33m\u001b[0m\u001b[0m\n\u001b[1;32m---> 20\u001b[1;33m \u001b[0mfig\u001b[0m\u001b[1;33m.\u001b[0m\u001b[0madd_trace\u001b[0m\u001b[1;33m(\u001b[0m\u001b[0mgo\u001b[0m\u001b[1;33m.\u001b[0m\u001b[0mScatter3d\u001b[0m\u001b[1;33m(\u001b[0m\u001b[0mz\u001b[0m\u001b[1;33m=\u001b[0m\u001b[0mcell_bodies\u001b[0m\u001b[1;33m[\u001b[0m\u001b[1;34m'x'\u001b[0m\u001b[1;33m]\u001b[0m\u001b[1;33m,\u001b[0m \u001b[0my\u001b[0m\u001b[1;33m=\u001b[0m\u001b[0mcell_bodies\u001b[0m\u001b[1;33m[\u001b[0m\u001b[1;34m'y'\u001b[0m\u001b[1;33m]\u001b[0m\u001b[1;33m,\u001b[0m\u001b[0mx\u001b[0m\u001b[1;33m=\u001b[0m\u001b[0mcell_bodies\u001b[0m\u001b[1;33m[\u001b[0m\u001b[1;34m'z'\u001b[0m\u001b[1;33m]\u001b[0m\u001b[1;33m,\u001b[0m  \u001b[0mmode\u001b[0m\u001b[1;33m=\u001b[0m\u001b[1;34m'markers'\u001b[0m\u001b[1;33m,\u001b[0m \u001b[0mhovertext\u001b[0m\u001b[1;33m=\u001b[0m\u001b[0mcell_bodies\u001b[0m\u001b[1;33m[\u001b[0m\u001b[1;34m'name'\u001b[0m\u001b[1;33m]\u001b[0m \u001b[1;33m,\u001b[0m\u001b[0mmarker\u001b[0m\u001b[1;33m=\u001b[0m\u001b[0mdict\u001b[0m\u001b[1;33m(\u001b[0m\u001b[0msize\u001b[0m\u001b[1;33m=\u001b[0m\u001b[1;36m3\u001b[0m\u001b[1;33m,\u001b[0m \u001b[0mcolor\u001b[0m\u001b[1;33m=\u001b[0m\u001b[0mcell_bodies\u001b[0m\u001b[1;33m[\u001b[0m\u001b[1;34m'name'\u001b[0m\u001b[1;33m]\u001b[0m\u001b[1;33m)\u001b[0m\u001b[1;33m)\u001b[0m\u001b[1;33m)\u001b[0m\u001b[1;33m\u001b[0m\u001b[1;33m\u001b[0m\u001b[0m\n\u001b[0m\u001b[0;32m     21\u001b[0m \u001b[1;31m#shift x and z to match the space of the allen atlas!\u001b[0m\u001b[1;33m\u001b[0m\u001b[1;33m\u001b[0m\u001b[1;33m\u001b[0m\u001b[0m\n\u001b[0;32m     22\u001b[0m \u001b[1;33m\u001b[0m\u001b[0m\n",
      "\u001b[1;32m~\\AppData\\Local\\Continuum\\anaconda3\\lib\\site-packages\\plotly\\graph_objs\\_scatter3d.py\u001b[0m in \u001b[0;36m__init__\u001b[1;34m(self, arg, connectgaps, customdata, customdatasrc, error_x, error_y, error_z, hoverinfo, hoverinfosrc, hoverlabel, hovertemplate, hovertemplatesrc, hovertext, hovertextsrc, ids, idssrc, legendgroup, line, marker, meta, metasrc, mode, name, opacity, projection, scene, showlegend, stream, surfaceaxis, surfacecolor, text, textfont, textposition, textpositionsrc, textsrc, texttemplate, texttemplatesrc, uid, uirevision, visible, x, xcalendar, xsrc, y, ycalendar, ysrc, z, zcalendar, zsrc, **kwargs)\u001b[0m\n\u001b[0;32m   2311\u001b[0m         \u001b[0m_v\u001b[0m \u001b[1;33m=\u001b[0m \u001b[0mmarker\u001b[0m \u001b[1;32mif\u001b[0m \u001b[0mmarker\u001b[0m \u001b[1;32mis\u001b[0m \u001b[1;32mnot\u001b[0m \u001b[1;32mNone\u001b[0m \u001b[1;32melse\u001b[0m \u001b[0m_v\u001b[0m\u001b[1;33m\u001b[0m\u001b[1;33m\u001b[0m\u001b[0m\n\u001b[0;32m   2312\u001b[0m         \u001b[1;32mif\u001b[0m \u001b[0m_v\u001b[0m \u001b[1;32mis\u001b[0m \u001b[1;32mnot\u001b[0m \u001b[1;32mNone\u001b[0m\u001b[1;33m:\u001b[0m\u001b[1;33m\u001b[0m\u001b[1;33m\u001b[0m\u001b[0m\n\u001b[1;32m-> 2313\u001b[1;33m             \u001b[0mself\u001b[0m\u001b[1;33m[\u001b[0m\u001b[1;34m\"marker\"\u001b[0m\u001b[1;33m]\u001b[0m \u001b[1;33m=\u001b[0m \u001b[0m_v\u001b[0m\u001b[1;33m\u001b[0m\u001b[1;33m\u001b[0m\u001b[0m\n\u001b[0m\u001b[0;32m   2314\u001b[0m         \u001b[0m_v\u001b[0m \u001b[1;33m=\u001b[0m \u001b[0marg\u001b[0m\u001b[1;33m.\u001b[0m\u001b[0mpop\u001b[0m\u001b[1;33m(\u001b[0m\u001b[1;34m\"meta\"\u001b[0m\u001b[1;33m,\u001b[0m \u001b[1;32mNone\u001b[0m\u001b[1;33m)\u001b[0m\u001b[1;33m\u001b[0m\u001b[1;33m\u001b[0m\u001b[0m\n\u001b[0;32m   2315\u001b[0m         \u001b[0m_v\u001b[0m \u001b[1;33m=\u001b[0m \u001b[0mmeta\u001b[0m \u001b[1;32mif\u001b[0m \u001b[0mmeta\u001b[0m \u001b[1;32mis\u001b[0m \u001b[1;32mnot\u001b[0m \u001b[1;32mNone\u001b[0m \u001b[1;32melse\u001b[0m \u001b[0m_v\u001b[0m\u001b[1;33m\u001b[0m\u001b[1;33m\u001b[0m\u001b[0m\n",
      "\u001b[1;32m~\\AppData\\Local\\Continuum\\anaconda3\\lib\\site-packages\\plotly\\basedatatypes.py\u001b[0m in \u001b[0;36m__setitem__\u001b[1;34m(self, prop, value)\u001b[0m\n\u001b[0;32m   4794\u001b[0m                 \u001b[1;31m# ### Handle compound property ###\u001b[0m\u001b[1;33m\u001b[0m\u001b[1;33m\u001b[0m\u001b[1;33m\u001b[0m\u001b[0m\n\u001b[0;32m   4795\u001b[0m                 \u001b[1;32mif\u001b[0m \u001b[0misinstance\u001b[0m\u001b[1;33m(\u001b[0m\u001b[0mvalidator\u001b[0m\u001b[1;33m,\u001b[0m \u001b[0mCompoundValidator\u001b[0m\u001b[1;33m)\u001b[0m\u001b[1;33m:\u001b[0m\u001b[1;33m\u001b[0m\u001b[1;33m\u001b[0m\u001b[0m\n\u001b[1;32m-> 4796\u001b[1;33m                     \u001b[0mself\u001b[0m\u001b[1;33m.\u001b[0m\u001b[0m_set_compound_prop\u001b[0m\u001b[1;33m(\u001b[0m\u001b[0mprop\u001b[0m\u001b[1;33m,\u001b[0m \u001b[0mvalue\u001b[0m\u001b[1;33m)\u001b[0m\u001b[1;33m\u001b[0m\u001b[1;33m\u001b[0m\u001b[0m\n\u001b[0m\u001b[0;32m   4797\u001b[0m \u001b[1;33m\u001b[0m\u001b[0m\n\u001b[0;32m   4798\u001b[0m                 \u001b[1;31m# ### Handle compound array property ###\u001b[0m\u001b[1;33m\u001b[0m\u001b[1;33m\u001b[0m\u001b[1;33m\u001b[0m\u001b[0m\n",
      "\u001b[1;32m~\\AppData\\Local\\Continuum\\anaconda3\\lib\\site-packages\\plotly\\basedatatypes.py\u001b[0m in \u001b[0;36m_set_compound_prop\u001b[1;34m(self, prop, val)\u001b[0m\n\u001b[0;32m   5205\u001b[0m         \u001b[1;31m# ------------\u001b[0m\u001b[1;33m\u001b[0m\u001b[1;33m\u001b[0m\u001b[1;33m\u001b[0m\u001b[0m\n\u001b[0;32m   5206\u001b[0m         \u001b[0mvalidator\u001b[0m \u001b[1;33m=\u001b[0m \u001b[0mself\u001b[0m\u001b[1;33m.\u001b[0m\u001b[0m_get_validator\u001b[0m\u001b[1;33m(\u001b[0m\u001b[0mprop\u001b[0m\u001b[1;33m)\u001b[0m\u001b[1;33m\u001b[0m\u001b[1;33m\u001b[0m\u001b[0m\n\u001b[1;32m-> 5207\u001b[1;33m         \u001b[0mval\u001b[0m \u001b[1;33m=\u001b[0m \u001b[0mvalidator\u001b[0m\u001b[1;33m.\u001b[0m\u001b[0mvalidate_coerce\u001b[0m\u001b[1;33m(\u001b[0m\u001b[0mval\u001b[0m\u001b[1;33m,\u001b[0m \u001b[0mskip_invalid\u001b[0m\u001b[1;33m=\u001b[0m\u001b[0mself\u001b[0m\u001b[1;33m.\u001b[0m\u001b[0m_skip_invalid\u001b[0m\u001b[1;33m)\u001b[0m\u001b[1;33m\u001b[0m\u001b[1;33m\u001b[0m\u001b[0m\n\u001b[0m\u001b[0;32m   5208\u001b[0m \u001b[1;33m\u001b[0m\u001b[0m\n\u001b[0;32m   5209\u001b[0m         \u001b[1;31m# Save deep copies of current and new states\u001b[0m\u001b[1;33m\u001b[0m\u001b[1;33m\u001b[0m\u001b[1;33m\u001b[0m\u001b[0m\n",
      "\u001b[1;32m~\\AppData\\Local\\Continuum\\anaconda3\\lib\\site-packages\\_plotly_utils\\basevalidators.py\u001b[0m in \u001b[0;36mvalidate_coerce\u001b[1;34m(self, v, skip_invalid, _validate)\u001b[0m\n\u001b[0;32m   2448\u001b[0m \u001b[1;33m\u001b[0m\u001b[0m\n\u001b[0;32m   2449\u001b[0m         \u001b[1;32melif\u001b[0m \u001b[0misinstance\u001b[0m\u001b[1;33m(\u001b[0m\u001b[0mv\u001b[0m\u001b[1;33m,\u001b[0m \u001b[0mdict\u001b[0m\u001b[1;33m)\u001b[0m\u001b[1;33m:\u001b[0m\u001b[1;33m\u001b[0m\u001b[1;33m\u001b[0m\u001b[0m\n\u001b[1;32m-> 2450\u001b[1;33m             \u001b[0mv\u001b[0m \u001b[1;33m=\u001b[0m \u001b[0mself\u001b[0m\u001b[1;33m.\u001b[0m\u001b[0mdata_class\u001b[0m\u001b[1;33m(\u001b[0m\u001b[0mv\u001b[0m\u001b[1;33m,\u001b[0m \u001b[0mskip_invalid\u001b[0m\u001b[1;33m=\u001b[0m\u001b[0mskip_invalid\u001b[0m\u001b[1;33m,\u001b[0m \u001b[0m_validate\u001b[0m\u001b[1;33m=\u001b[0m\u001b[0m_validate\u001b[0m\u001b[1;33m)\u001b[0m\u001b[1;33m\u001b[0m\u001b[1;33m\u001b[0m\u001b[0m\n\u001b[0m\u001b[0;32m   2451\u001b[0m \u001b[1;33m\u001b[0m\u001b[0m\n\u001b[0;32m   2452\u001b[0m         \u001b[1;32melif\u001b[0m \u001b[0misinstance\u001b[0m\u001b[1;33m(\u001b[0m\u001b[0mv\u001b[0m\u001b[1;33m,\u001b[0m \u001b[0mself\u001b[0m\u001b[1;33m.\u001b[0m\u001b[0mdata_class\u001b[0m\u001b[1;33m)\u001b[0m\u001b[1;33m:\u001b[0m\u001b[1;33m\u001b[0m\u001b[1;33m\u001b[0m\u001b[0m\n",
      "\u001b[1;32m~\\AppData\\Local\\Continuum\\anaconda3\\lib\\site-packages\\plotly\\graph_objs\\scatter3d\\_marker.py\u001b[0m in \u001b[0;36m__init__\u001b[1;34m(self, arg, autocolorscale, cauto, cmax, cmid, cmin, color, coloraxis, colorbar, colorscale, colorsrc, line, opacity, reversescale, showscale, size, sizemin, sizemode, sizeref, sizesrc, symbol, symbolsrc, **kwargs)\u001b[0m\n\u001b[0;32m   1205\u001b[0m         \u001b[0m_v\u001b[0m \u001b[1;33m=\u001b[0m \u001b[0mcolor\u001b[0m \u001b[1;32mif\u001b[0m \u001b[0mcolor\u001b[0m \u001b[1;32mis\u001b[0m \u001b[1;32mnot\u001b[0m \u001b[1;32mNone\u001b[0m \u001b[1;32melse\u001b[0m \u001b[0m_v\u001b[0m\u001b[1;33m\u001b[0m\u001b[1;33m\u001b[0m\u001b[0m\n\u001b[0;32m   1206\u001b[0m         \u001b[1;32mif\u001b[0m \u001b[0m_v\u001b[0m \u001b[1;32mis\u001b[0m \u001b[1;32mnot\u001b[0m \u001b[1;32mNone\u001b[0m\u001b[1;33m:\u001b[0m\u001b[1;33m\u001b[0m\u001b[1;33m\u001b[0m\u001b[0m\n\u001b[1;32m-> 1207\u001b[1;33m             \u001b[0mself\u001b[0m\u001b[1;33m[\u001b[0m\u001b[1;34m\"color\"\u001b[0m\u001b[1;33m]\u001b[0m \u001b[1;33m=\u001b[0m \u001b[0m_v\u001b[0m\u001b[1;33m\u001b[0m\u001b[1;33m\u001b[0m\u001b[0m\n\u001b[0m\u001b[0;32m   1208\u001b[0m         \u001b[0m_v\u001b[0m \u001b[1;33m=\u001b[0m \u001b[0marg\u001b[0m\u001b[1;33m.\u001b[0m\u001b[0mpop\u001b[0m\u001b[1;33m(\u001b[0m\u001b[1;34m\"coloraxis\"\u001b[0m\u001b[1;33m,\u001b[0m \u001b[1;32mNone\u001b[0m\u001b[1;33m)\u001b[0m\u001b[1;33m\u001b[0m\u001b[1;33m\u001b[0m\u001b[0m\n\u001b[0;32m   1209\u001b[0m         \u001b[0m_v\u001b[0m \u001b[1;33m=\u001b[0m \u001b[0mcoloraxis\u001b[0m \u001b[1;32mif\u001b[0m \u001b[0mcoloraxis\u001b[0m \u001b[1;32mis\u001b[0m \u001b[1;32mnot\u001b[0m \u001b[1;32mNone\u001b[0m \u001b[1;32melse\u001b[0m \u001b[0m_v\u001b[0m\u001b[1;33m\u001b[0m\u001b[1;33m\u001b[0m\u001b[0m\n",
      "\u001b[1;32m~\\AppData\\Local\\Continuum\\anaconda3\\lib\\site-packages\\plotly\\basedatatypes.py\u001b[0m in \u001b[0;36m__setitem__\u001b[1;34m(self, prop, value)\u001b[0m\n\u001b[0;32m   4802\u001b[0m                 \u001b[1;31m# ### Handle simple property ###\u001b[0m\u001b[1;33m\u001b[0m\u001b[1;33m\u001b[0m\u001b[1;33m\u001b[0m\u001b[0m\n\u001b[0;32m   4803\u001b[0m                 \u001b[1;32melse\u001b[0m\u001b[1;33m:\u001b[0m\u001b[1;33m\u001b[0m\u001b[1;33m\u001b[0m\u001b[0m\n\u001b[1;32m-> 4804\u001b[1;33m                     \u001b[0mself\u001b[0m\u001b[1;33m.\u001b[0m\u001b[0m_set_prop\u001b[0m\u001b[1;33m(\u001b[0m\u001b[0mprop\u001b[0m\u001b[1;33m,\u001b[0m \u001b[0mvalue\u001b[0m\u001b[1;33m)\u001b[0m\u001b[1;33m\u001b[0m\u001b[1;33m\u001b[0m\u001b[0m\n\u001b[0m\u001b[0;32m   4805\u001b[0m             \u001b[1;32melse\u001b[0m\u001b[1;33m:\u001b[0m\u001b[1;33m\u001b[0m\u001b[1;33m\u001b[0m\u001b[0m\n\u001b[0;32m   4806\u001b[0m                 \u001b[1;31m# Make sure properties dict is initialized\u001b[0m\u001b[1;33m\u001b[0m\u001b[1;33m\u001b[0m\u001b[1;33m\u001b[0m\u001b[0m\n",
      "\u001b[1;32m~\\AppData\\Local\\Continuum\\anaconda3\\lib\\site-packages\\plotly\\basedatatypes.py\u001b[0m in \u001b[0;36m_set_prop\u001b[1;34m(self, prop, val)\u001b[0m\n\u001b[0;32m   5146\u001b[0m                 \u001b[1;32mreturn\u001b[0m\u001b[1;33m\u001b[0m\u001b[1;33m\u001b[0m\u001b[0m\n\u001b[0;32m   5147\u001b[0m             \u001b[1;32melse\u001b[0m\u001b[1;33m:\u001b[0m\u001b[1;33m\u001b[0m\u001b[1;33m\u001b[0m\u001b[0m\n\u001b[1;32m-> 5148\u001b[1;33m                 \u001b[1;32mraise\u001b[0m \u001b[0merr\u001b[0m\u001b[1;33m\u001b[0m\u001b[1;33m\u001b[0m\u001b[0m\n\u001b[0m\u001b[0;32m   5149\u001b[0m \u001b[1;33m\u001b[0m\u001b[0m\n\u001b[0;32m   5150\u001b[0m         \u001b[1;31m# val is None\u001b[0m\u001b[1;33m\u001b[0m\u001b[1;33m\u001b[0m\u001b[1;33m\u001b[0m\u001b[0m\n",
      "\u001b[1;32m~\\AppData\\Local\\Continuum\\anaconda3\\lib\\site-packages\\plotly\\basedatatypes.py\u001b[0m in \u001b[0;36m_set_prop\u001b[1;34m(self, prop, val)\u001b[0m\n\u001b[0;32m   5141\u001b[0m \u001b[1;33m\u001b[0m\u001b[0m\n\u001b[0;32m   5142\u001b[0m         \u001b[1;32mtry\u001b[0m\u001b[1;33m:\u001b[0m\u001b[1;33m\u001b[0m\u001b[1;33m\u001b[0m\u001b[0m\n\u001b[1;32m-> 5143\u001b[1;33m             \u001b[0mval\u001b[0m \u001b[1;33m=\u001b[0m \u001b[0mvalidator\u001b[0m\u001b[1;33m.\u001b[0m\u001b[0mvalidate_coerce\u001b[0m\u001b[1;33m(\u001b[0m\u001b[0mval\u001b[0m\u001b[1;33m)\u001b[0m\u001b[1;33m\u001b[0m\u001b[1;33m\u001b[0m\u001b[0m\n\u001b[0m\u001b[0;32m   5144\u001b[0m         \u001b[1;32mexcept\u001b[0m \u001b[0mValueError\u001b[0m \u001b[1;32mas\u001b[0m \u001b[0merr\u001b[0m\u001b[1;33m:\u001b[0m\u001b[1;33m\u001b[0m\u001b[1;33m\u001b[0m\u001b[0m\n\u001b[0;32m   5145\u001b[0m             \u001b[1;32mif\u001b[0m \u001b[0mself\u001b[0m\u001b[1;33m.\u001b[0m\u001b[0m_skip_invalid\u001b[0m\u001b[1;33m:\u001b[0m\u001b[1;33m\u001b[0m\u001b[1;33m\u001b[0m\u001b[0m\n",
      "\u001b[1;32m~\\AppData\\Local\\Continuum\\anaconda3\\lib\\site-packages\\_plotly_utils\\basevalidators.py\u001b[0m in \u001b[0;36mvalidate_coerce\u001b[1;34m(self, v, should_raise)\u001b[0m\n\u001b[0;32m   1343\u001b[0m \u001b[1;33m\u001b[0m\u001b[0m\n\u001b[0;32m   1344\u001b[0m                 \u001b[1;32mif\u001b[0m \u001b[0minvalid_els\u001b[0m \u001b[1;32mand\u001b[0m \u001b[0mshould_raise\u001b[0m\u001b[1;33m:\u001b[0m\u001b[1;33m\u001b[0m\u001b[1;33m\u001b[0m\u001b[0m\n\u001b[1;32m-> 1345\u001b[1;33m                     \u001b[0mself\u001b[0m\u001b[1;33m.\u001b[0m\u001b[0mraise_invalid_elements\u001b[0m\u001b[1;33m(\u001b[0m\u001b[0minvalid_els\u001b[0m\u001b[1;33m)\u001b[0m\u001b[1;33m\u001b[0m\u001b[1;33m\u001b[0m\u001b[0m\n\u001b[0m\u001b[0;32m   1346\u001b[0m \u001b[1;33m\u001b[0m\u001b[0m\n\u001b[0;32m   1347\u001b[0m                 \u001b[1;31m# ### Check that elements have valid colors types ###\u001b[0m\u001b[1;33m\u001b[0m\u001b[1;33m\u001b[0m\u001b[1;33m\u001b[0m\u001b[0m\n",
      "\u001b[1;32m~\\AppData\\Local\\Continuum\\anaconda3\\lib\\site-packages\\_plotly_utils\\basevalidators.py\u001b[0m in \u001b[0;36mraise_invalid_elements\u001b[1;34m(self, invalid_els)\u001b[0m\n\u001b[0;32m    300\u001b[0m                     \u001b[0mpname\u001b[0m\u001b[1;33m=\u001b[0m\u001b[0mself\u001b[0m\u001b[1;33m.\u001b[0m\u001b[0mparent_name\u001b[0m\u001b[1;33m,\u001b[0m\u001b[1;33m\u001b[0m\u001b[1;33m\u001b[0m\u001b[0m\n\u001b[0;32m    301\u001b[0m                     \u001b[0minvalid\u001b[0m\u001b[1;33m=\u001b[0m\u001b[0minvalid_els\u001b[0m\u001b[1;33m[\u001b[0m\u001b[1;33m:\u001b[0m\u001b[1;36m10\u001b[0m\u001b[1;33m]\u001b[0m\u001b[1;33m,\u001b[0m\u001b[1;33m\u001b[0m\u001b[1;33m\u001b[0m\u001b[0m\n\u001b[1;32m--> 302\u001b[1;33m                     \u001b[0mvalid_clr_desc\u001b[0m\u001b[1;33m=\u001b[0m\u001b[0mself\u001b[0m\u001b[1;33m.\u001b[0m\u001b[0mdescription\u001b[0m\u001b[1;33m(\u001b[0m\u001b[1;33m)\u001b[0m\u001b[1;33m,\u001b[0m\u001b[1;33m\u001b[0m\u001b[1;33m\u001b[0m\u001b[0m\n\u001b[0m\u001b[0;32m    303\u001b[0m                 )\n\u001b[0;32m    304\u001b[0m             )\n",
      "\u001b[1;31mValueError\u001b[0m: \n    Invalid element(s) received for the 'color' property of scatter3d.marker\n        Invalid elements include: ['AL175', 'AL223', 'AL230', 'AL236', 'AL242', 'AL244', 'AL261']\n\n    The 'color' property is a color and may be specified as:\n      - A hex string (e.g. '#ff0000')\n      - An rgb/rgba string (e.g. 'rgb(255,0,0)')\n      - An hsl/hsla string (e.g. 'hsl(0,100%,50%)')\n      - An hsv/hsva string (e.g. 'hsv(0,100%,100%)')\n      - A named CSS color:\n            aliceblue, antiquewhite, aqua, aquamarine, azure,\n            beige, bisque, black, blanchedalmond, blue,\n            blueviolet, brown, burlywood, cadetblue,\n            chartreuse, chocolate, coral, cornflowerblue,\n            cornsilk, crimson, cyan, darkblue, darkcyan,\n            darkgoldenrod, darkgray, darkgrey, darkgreen,\n            darkkhaki, darkmagenta, darkolivegreen, darkorange,\n            darkorchid, darkred, darksalmon, darkseagreen,\n            darkslateblue, darkslategray, darkslategrey,\n            darkturquoise, darkviolet, deeppink, deepskyblue,\n            dimgray, dimgrey, dodgerblue, firebrick,\n            floralwhite, forestgreen, fuchsia, gainsboro,\n            ghostwhite, gold, goldenrod, gray, grey, green,\n            greenyellow, honeydew, hotpink, indianred, indigo,\n            ivory, khaki, lavender, lavenderblush, lawngreen,\n            lemonchiffon, lightblue, lightcoral, lightcyan,\n            lightgoldenrodyellow, lightgray, lightgrey,\n            lightgreen, lightpink, lightsalmon, lightseagreen,\n            lightskyblue, lightslategray, lightslategrey,\n            lightsteelblue, lightyellow, lime, limegreen,\n            linen, magenta, maroon, mediumaquamarine,\n            mediumblue, mediumorchid, mediumpurple,\n            mediumseagreen, mediumslateblue, mediumspringgreen,\n            mediumturquoise, mediumvioletred, midnightblue,\n            mintcream, mistyrose, moccasin, navajowhite, navy,\n            oldlace, olive, olivedrab, orange, orangered,\n            orchid, palegoldenrod, palegreen, paleturquoise,\n            palevioletred, papayawhip, peachpuff, peru, pink,\n            plum, powderblue, purple, red, rosybrown,\n            royalblue, rebeccapurple, saddlebrown, salmon,\n            sandybrown, seagreen, seashell, sienna, silver,\n            skyblue, slateblue, slategray, slategrey, snow,\n            springgreen, steelblue, tan, teal, thistle, tomato,\n            turquoise, violet, wheat, white, whitesmoke,\n            yellow, yellowgreen\n      - A number that will be interpreted as a color\n        according to scatter3d.marker.colorscale\n      - A list or array of any of the above"
     ]
    }
   ],
   "source": [
    "x, y, z = verts.T\n",
    "i,j,k = faces.T\n",
    "\n",
    "color=[1,2,3,4,5,6,7,8]\n",
    "\n",
    "x2, y2, z2 = verts2.T\n",
    "i2,j2,k2 = faces2.T\n",
    "\n",
    "\n",
    "fig = go.Figure(data=[go.Mesh3d(x=x, y=y, z=z, color='lightpink', opacity=0.20,\n",
    "                               i=i,\n",
    "                               j=j,\n",
    "                            k=k,)])\n",
    "\n",
    "fig.add_trace(go.Mesh3d(x=x2, y=y2, z=z2, color='blue', opacity=0.20,\n",
    "                               i=i2,\n",
    "                               j=j2,\n",
    "                            k=k2,))\n",
    "\n",
    "fig.add_trace(go.Scatter3d(z=cell_bodies['x'], y=cell_bodies['y'],x=cell_bodies['z'],  mode='markers', hovertext=cell_bodies['name'] ,marker=dict(size=3, color=color)))\n",
    "#shift x and z to match the space of the allen atlas!\n",
    "\n",
    "fig['data'][0]['showlegend'] = True\n",
    "fig['data'][0]['name'] = 'Brain'\n",
    "\n",
    "fig['data'][1]['showlegend'] = True\n",
    "fig['data'][1]['name'] = 'Ssp-bfd-L23'\n",
    "\n",
    "fig['data'][2]['showlegend'] = True\n",
    "fig['data'][2]['name'] = 'Cell bodies'\n",
    "# Have to go in and specify since the legends are not automatically displayed in this case\n",
    "\n",
    "fig.show()\n",
    "fig.write_html('test_cellbodies.html')"
   ]
  },
  {
   "cell_type": "code",
   "execution_count": null,
   "metadata": {},
   "outputs": [],
   "source": []
  }
 ],
 "metadata": {
  "kernelspec": {
   "display_name": "Python 3",
   "language": "python",
   "name": "python3"
  },
  "language_info": {
   "codemirror_mode": {
    "name": "ipython",
    "version": 3
   },
   "file_extension": ".py",
   "mimetype": "text/x-python",
   "name": "python",
   "nbconvert_exporter": "python",
   "pygments_lexer": "ipython3",
   "version": "3.7.3"
  }
 },
 "nbformat": 4,
 "nbformat_minor": 4
}
