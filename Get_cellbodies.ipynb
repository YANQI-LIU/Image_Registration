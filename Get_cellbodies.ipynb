{
 "cells": [
  {
   "cell_type": "markdown",
   "metadata": {},
   "source": [
    "Part 1: Read cell body position from .apo files, downsample and save them as txt file for applying inverse transformation"
   ]
  },
  {
   "cell_type": "code",
   "execution_count": 32,
   "metadata": {},
   "outputs": [],
   "source": [
    "import Neuron_analysis as na\n",
    "from Neuron_analysis import *\n",
    "\n",
    "import os\n",
    "import pandas as pd\n",
    "import re\n",
    "\n",
    "import tkinter as tk\n",
    "import tkinter.filedialog as fdialog\n",
    "from tkinter import simpledialog"
   ]
  },
  {
   "cell_type": "code",
   "execution_count": 68,
   "metadata": {},
   "outputs": [],
   "source": [
    "indir = fdialog.askdirectory(title='Select the directories with all the cell bodies.apo')\n",
    "outdir = fdialog.askdirectory(title='Select the output directory to store your file')\n",
    "\n",
    "files = os.listdir(indir)"
   ]
  },
  {
   "cell_type": "code",
   "execution_count": 69,
   "metadata": {
    "jupyter": {
     "source_hidden": true
    }
   },
   "outputs": [],
   "source": [
    "def prepare_cellbody(indir,anno_file,outdir):\n",
    "    anno=open(os.path.join(indir,anno_file),'r')\n",
    "    anno_data=anno.readlines()\n",
    " \n",
    "    headings=anno_data[0].rstrip('\\n').split(',')\n",
    "    annotations=[lines.rstrip('\\n').split(',') for lines in anno_data[1:]]\n",
    "    annotation_df=pd.DataFrame(annotations, columns=headings)\n",
    "    \n",
    "    cell_body= annotation_df[annotation_df.color_g=='255']\n",
    "    #pickout only green points!\n",
    "    \n",
    "    # find the coordinates and downsample it! these values are based on xy= 0.6 z= 5, and downsampling to 25 xyz\n",
    "    ds_x= pd.to_numeric(cell_body['x'])//41\n",
    "    ds_y= pd.to_numeric(cell_body['y'])//41\n",
    "    ds_z= pd.to_numeric(cell_body['z'])//5\n",
    "\n",
    "    x=ds_x.astype(int).astype(str)\n",
    "    y=ds_y.astype(int).astype(str)\n",
    "    z=ds_z.astype(int).astype(str)\n",
    "    \n",
    "    m=re.search('\\D{2}[0-9]{3}', anno_file)\n",
    "    mouse_name=m[0]\n",
    "\n",
    "    out_name=os.path.join(outdir,mouse_name+'cellbody.txt')\n",
    "\n",
    "    f=open(out_name,'w+')\n",
    "    f.write('point'+'\\n')\n",
    "    f.write('1'+'\\n') # by default there is only 1 cell body, hence only 1 point here\n",
    "    f.write(x.values[0]+ ' ' + y.values[0]+ ' '+ z.values[0])\n",
    "    f.close()\n",
    "    return\n",
    "    "
   ]
  },
  {
   "cell_type": "code",
   "execution_count": 70,
   "metadata": {},
   "outputs": [],
   "source": [
    "for items in files:\n",
    "    prepare_cellbody(indir, items, outdir)"
   ]
  },
  {
   "cell_type": "markdown",
   "metadata": {},
   "source": [
    "part2: (after transformation by transformix) extract the transformed points, refill y section (because we cropped the template for registration). \n",
    "Then write as a single file containing brain ID and cell body location"
   ]
  },
  {
   "cell_type": "code",
   "execution_count": 24,
   "metadata": {},
   "outputs": [],
   "source": [
    "brain_id= ['AL175', 'AL223','AL230', 'AL236', 'AL244', 'AL261']\n",
    "#missing 'AL225' and 'AL242' for now\n",
    "cb_file=f'D:\\{brain_id[1]}\\points\\cellbody\\outputpoints.txt'"
   ]
  },
  {
   "cell_type": "code",
   "execution_count": null,
   "metadata": {},
   "outputs": [],
   "source": []
  },
  {
   "cell_type": "code",
   "execution_count": 60,
   "metadata": {},
   "outputs": [],
   "source": [
    "all_points=[]\n",
    "\n",
    "for items in brain_id:\n",
    "    this_file=cb_file=f'D:\\{items}\\points\\cellbody\\outputpoints.txt'\n",
    "    \n",
    "    template_file = [x for x in os.listdir(f'D:\\{items}\\\\') if 'template' in x]\n",
    "    to_add=na.find_crop(template_file[0])\n",
    "  \n",
    "    with open(cb_file,'r') as output:\n",
    "        outputpoint= output.readlines()\n",
    "\n",
    "    for lines in outputpoint:\n",
    "        m=re.search(\"(?:OutputIndexFixed = \\[ )([0-9]+ [0-9]+ [0-9]+)\", lines).groups(0)\n",
    "        this_line= str(m[0]).split(' ')\n",
    "        mypoints= [int(stuff) for stuff in this_line]\n",
    "        mypoints[1]= mypoints[1]+to_add\n",
    "        mypoints.insert(0, items)\n",
    "        all_points.append(mypoints)\n",
    "        \n",
    "# the coordiates are arranged in x,y and z"
   ]
  },
  {
   "cell_type": "code",
   "execution_count": 59,
   "metadata": {},
   "outputs": [
    {
     "data": {
      "text/plain": [
       "[['AL175', 92, 218, 52],\n",
       " ['AL223', 99, 214, 47],\n",
       " ['AL230', 88, 210, 56],\n",
       " ['AL236', 104, 214, 40],\n",
       " ['AL244', 86, 237, 47],\n",
       " ['AL261', 123, 196, 42]]"
      ]
     },
     "execution_count": 59,
     "metadata": {},
     "output_type": "execute_result"
    }
   ],
   "source": [
    "all_points"
   ]
  },
  {
   "cell_type": "code",
   "execution_count": 61,
   "metadata": {},
   "outputs": [
    {
     "data": {
      "text/plain": [
       "[['AL175', 92, 283, 52],\n",
       " ['AL223', 99, 279, 47],\n",
       " ['AL230', 88, 275, 56],\n",
       " ['AL236', 104, 279, 40],\n",
       " ['AL244', 86, 302, 47],\n",
       " ['AL261', 123, 261, 42]]"
      ]
     },
     "execution_count": 61,
     "metadata": {},
     "output_type": "execute_result"
    }
   ],
   "source": [
    "all_points"
   ]
  },
  {
   "cell_type": "code",
   "execution_count": 50,
   "metadata": {},
   "outputs": [
    {
     "data": {
      "text/plain": [
       "65"
      ]
     },
     "execution_count": 50,
     "metadata": {},
     "output_type": "execute_result"
    }
   ],
   "source": [
    "to_add= na.find_crop(template_file[0])"
   ]
  },
  {
   "cell_type": "code",
   "execution_count": 51,
   "metadata": {},
   "outputs": [
    {
     "data": {
      "text/plain": [
       "['AL261', 123, 196, 42]"
      ]
     },
     "execution_count": 51,
     "metadata": {},
     "output_type": "execute_result"
    }
   ],
   "source": [
    "mypoints"
   ]
  },
  {
   "cell_type": "code",
   "execution_count": null,
   "metadata": {},
   "outputs": [],
   "source": []
  },
  {
   "cell_type": "code",
   "execution_count": null,
   "metadata": {},
   "outputs": [],
   "source": []
  }
 ],
 "metadata": {
  "kernelspec": {
   "display_name": "Python 3",
   "language": "python",
   "name": "python3"
  },
  "language_info": {
   "codemirror_mode": {
    "name": "ipython",
    "version": 3
   },
   "file_extension": ".py",
   "mimetype": "text/x-python",
   "name": "python",
   "nbconvert_exporter": "python",
   "pygments_lexer": "ipython3",
   "version": "3.7.3"
  }
 },
 "nbformat": 4,
 "nbformat_minor": 4
}
