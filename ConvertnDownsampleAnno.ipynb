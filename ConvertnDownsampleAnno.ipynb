{
 "cells": [
  {
   "cell_type": "markdown",
   "metadata": {},
   "source": [
    "## Convert annotation into um and generate downsampled txt file from resampled file\n",
    "\n",
    "Generating pandas data frame from vaa3d annotation.eswc file\n",
    "\n",
    "1. convert them into real units (ie. um) based acquisition microns/pixels\n",
    "2. Resample this eswc file in V3d (plugin- neuron untilities-resample swc) in a fixes stepsize (ie.1 um)\n",
    "3. Load the resampled file and downsample them to the corresponding dimensions (ie.25um)\n",
    "4. saves as transformix compatible format (in case for sample2ara)\n",
    "\n",
    "__Note that step 2 has to be done in V3d__\n",
    "\n",
    "__Important__: must have D (case sensitive) in the file name and file path __only__ if it is a dendritic annotation!!!\n",
    "\n",
    "In progress: get endings based on the parent name\n"
   ]
  },
  {
   "cell_type": "code",
   "execution_count": 2,
   "metadata": {},
   "outputs": [],
   "source": [
    "import os\n",
    "\n",
    "import pandas as pd\n",
    "\n",
    "import numpy as np\n",
    "\n",
    "import tkinter as tk\n",
    "import tkinter.filedialog as fdialog\n",
    "from tkinter import simpledialog"
   ]
  },
  {
   "cell_type": "code",
   "execution_count": 4,
   "metadata": {},
   "outputs": [],
   "source": [
    "xy = simpledialog.askfloat(\"Input\", \"What is the x and y resolution in um?\",\n",
    "                               minvalue=0.0, maxvalue=100)\n",
    "z = simpledialog.askfloat(\"Input\", \"What is the z resolution in um?\",\n",
    "                               minvalue=0.0, maxvalue=100)\n",
    "outdir = fdialog.askdirectory(title='Please select the output directory')\n",
    "anno_file=fdialog.askopenfile(initialdir='Z:\\\\', title='Select the eswc file containing the annotations').name "
   ]
  },
  {
   "cell_type": "code",
   "execution_count": 6,
   "metadata": {},
   "outputs": [],
   "source": [
    "anno=open(anno_file,'r')\n",
    "anno_data=anno.readlines()\n",
    "# heading is stored in anno_data[2], 1st line basically useless\n",
    "\n",
    "headings=anno_data[2].rstrip('\\n').split(' ')\n",
    "annotations=[lines.rstrip('\\n').split(' ') for lines in anno_data[3:]]"
   ]
  },
  {
   "cell_type": "code",
   "execution_count": 7,
   "metadata": {},
   "outputs": [
    {
     "data": {
      "text/plain": [
       "Index(['#n', 'type', 'x', 'y', 'z', 'radius', 'parent', 'seg_id', 'level',\n",
       "       'mode', 'timestamp', 'TFresindex'],\n",
       "      dtype='object')"
      ]
     },
     "execution_count": 7,
     "metadata": {},
     "output_type": "execute_result"
    }
   ],
   "source": [
    "annotation_df=pd.DataFrame(annotations, columns=headings)\n"
   ]
  },
  {
   "cell_type": "code",
   "execution_count": 8,
   "metadata": {},
   "outputs": [
    {
     "data": {
      "text/html": [
       "<div>\n",
       "<style scoped>\n",
       "    .dataframe tbody tr th:only-of-type {\n",
       "        vertical-align: middle;\n",
       "    }\n",
       "\n",
       "    .dataframe tbody tr th {\n",
       "        vertical-align: top;\n",
       "    }\n",
       "\n",
       "    .dataframe thead th {\n",
       "        text-align: right;\n",
       "    }\n",
       "</style>\n",
       "<table border=\"1\" class=\"dataframe\">\n",
       "  <thead>\n",
       "    <tr style=\"text-align: right;\">\n",
       "      <th></th>\n",
       "      <th>#n</th>\n",
       "      <th>type</th>\n",
       "      <th>x</th>\n",
       "      <th>y</th>\n",
       "      <th>z</th>\n",
       "      <th>radius</th>\n",
       "      <th>parent</th>\n",
       "      <th>seg_id</th>\n",
       "      <th>level</th>\n",
       "      <th>mode</th>\n",
       "      <th>timestamp</th>\n",
       "      <th>TFresindex</th>\n",
       "    </tr>\n",
       "  </thead>\n",
       "  <tbody>\n",
       "    <tr>\n",
       "      <th>0</th>\n",
       "      <td>984456</td>\n",
       "      <td>3</td>\n",
       "      <td>4376.667</td>\n",
       "      <td>3841.667</td>\n",
       "      <td>717.111</td>\n",
       "      <td>1.000</td>\n",
       "      <td>984457</td>\n",
       "      <td>0</td>\n",
       "      <td>1</td>\n",
       "      <td>2088763392</td>\n",
       "      <td>1</td>\n",
       "      <td>1</td>\n",
       "    </tr>\n",
       "    <tr>\n",
       "      <th>1</th>\n",
       "      <td>984455</td>\n",
       "      <td>3</td>\n",
       "      <td>4377.000</td>\n",
       "      <td>3841.000</td>\n",
       "      <td>717.000</td>\n",
       "      <td>1.000</td>\n",
       "      <td>984456</td>\n",
       "      <td>0</td>\n",
       "      <td>1</td>\n",
       "      <td>2088763392</td>\n",
       "      <td>1</td>\n",
       "      <td>1</td>\n",
       "    </tr>\n",
       "    <tr>\n",
       "      <th>2</th>\n",
       "      <td>984457</td>\n",
       "      <td>3</td>\n",
       "      <td>4375.556</td>\n",
       "      <td>3842.667</td>\n",
       "      <td>717.889</td>\n",
       "      <td>1.000</td>\n",
       "      <td>984458</td>\n",
       "      <td>0</td>\n",
       "      <td>1</td>\n",
       "      <td>2088763392</td>\n",
       "      <td>1</td>\n",
       "      <td>1</td>\n",
       "    </tr>\n",
       "    <tr>\n",
       "      <th>3</th>\n",
       "      <td>984458</td>\n",
       "      <td>3</td>\n",
       "      <td>4373.444</td>\n",
       "      <td>3843.111</td>\n",
       "      <td>718.333</td>\n",
       "      <td>1.000</td>\n",
       "      <td>984459</td>\n",
       "      <td>0</td>\n",
       "      <td>1</td>\n",
       "      <td>2088763392</td>\n",
       "      <td>1</td>\n",
       "      <td>1</td>\n",
       "    </tr>\n",
       "    <tr>\n",
       "      <th>4</th>\n",
       "      <td>984459</td>\n",
       "      <td>3</td>\n",
       "      <td>4373.111</td>\n",
       "      <td>3843.444</td>\n",
       "      <td>718.667</td>\n",
       "      <td>1.000</td>\n",
       "      <td>984460</td>\n",
       "      <td>0</td>\n",
       "      <td>1</td>\n",
       "      <td>2088763392</td>\n",
       "      <td>1</td>\n",
       "      <td>1</td>\n",
       "    </tr>\n",
       "  </tbody>\n",
       "</table>\n",
       "</div>"
      ],
      "text/plain": [
       "       #n type         x         y        z radius  parent seg_id level  \\\n",
       "0  984456    3  4376.667  3841.667  717.111  1.000  984457      0     1   \n",
       "1  984455    3  4377.000  3841.000  717.000  1.000  984456      0     1   \n",
       "2  984457    3  4375.556  3842.667  717.889  1.000  984458      0     1   \n",
       "3  984458    3  4373.444  3843.111  718.333  1.000  984459      0     1   \n",
       "4  984459    3  4373.111  3843.444  718.667  1.000  984460      0     1   \n",
       "\n",
       "         mode timestamp TFresindex  \n",
       "0  2088763392         1          1  \n",
       "1  2088763392         1          1  \n",
       "2  2088763392         1          1  \n",
       "3  2088763392         1          1  \n",
       "4  2088763392         1          1  "
      ]
     },
     "execution_count": 8,
     "metadata": {},
     "output_type": "execute_result"
    }
   ],
   "source": [
    "#annotation_df.head()"
   ]
  },
  {
   "cell_type": "code",
   "execution_count": 9,
   "metadata": {},
   "outputs": [
    {
     "data": {
      "text/html": [
       "<div>\n",
       "<style scoped>\n",
       "    .dataframe tbody tr th:only-of-type {\n",
       "        vertical-align: middle;\n",
       "    }\n",
       "\n",
       "    .dataframe tbody tr th {\n",
       "        vertical-align: top;\n",
       "    }\n",
       "\n",
       "    .dataframe thead th {\n",
       "        text-align: right;\n",
       "    }\n",
       "</style>\n",
       "<table border=\"1\" class=\"dataframe\">\n",
       "  <thead>\n",
       "    <tr style=\"text-align: right;\">\n",
       "      <th></th>\n",
       "      <th>#n</th>\n",
       "      <th>type</th>\n",
       "      <th>x</th>\n",
       "      <th>y</th>\n",
       "      <th>z</th>\n",
       "      <th>radius</th>\n",
       "      <th>parent</th>\n",
       "      <th>seg_id</th>\n",
       "      <th>level</th>\n",
       "      <th>mode</th>\n",
       "      <th>timestamp</th>\n",
       "      <th>TFresindex</th>\n",
       "    </tr>\n",
       "  </thead>\n",
       "  <tbody>\n",
       "    <tr>\n",
       "      <th>0</th>\n",
       "      <td>984456</td>\n",
       "      <td>3</td>\n",
       "      <td>3501.3336</td>\n",
       "      <td>3073.3336</td>\n",
       "      <td>3585.555</td>\n",
       "      <td>1.000</td>\n",
       "      <td>984457</td>\n",
       "      <td>0</td>\n",
       "      <td>1</td>\n",
       "      <td>2088763392</td>\n",
       "      <td>1</td>\n",
       "      <td>1</td>\n",
       "    </tr>\n",
       "    <tr>\n",
       "      <th>1</th>\n",
       "      <td>984455</td>\n",
       "      <td>3</td>\n",
       "      <td>3501.6000</td>\n",
       "      <td>3072.8000</td>\n",
       "      <td>3585.000</td>\n",
       "      <td>1.000</td>\n",
       "      <td>984456</td>\n",
       "      <td>0</td>\n",
       "      <td>1</td>\n",
       "      <td>2088763392</td>\n",
       "      <td>1</td>\n",
       "      <td>1</td>\n",
       "    </tr>\n",
       "    <tr>\n",
       "      <th>2</th>\n",
       "      <td>984457</td>\n",
       "      <td>3</td>\n",
       "      <td>3500.4448</td>\n",
       "      <td>3074.1336</td>\n",
       "      <td>3589.445</td>\n",
       "      <td>1.000</td>\n",
       "      <td>984458</td>\n",
       "      <td>0</td>\n",
       "      <td>1</td>\n",
       "      <td>2088763392</td>\n",
       "      <td>1</td>\n",
       "      <td>1</td>\n",
       "    </tr>\n",
       "    <tr>\n",
       "      <th>3</th>\n",
       "      <td>984458</td>\n",
       "      <td>3</td>\n",
       "      <td>3498.7552</td>\n",
       "      <td>3074.4888</td>\n",
       "      <td>3591.665</td>\n",
       "      <td>1.000</td>\n",
       "      <td>984459</td>\n",
       "      <td>0</td>\n",
       "      <td>1</td>\n",
       "      <td>2088763392</td>\n",
       "      <td>1</td>\n",
       "      <td>1</td>\n",
       "    </tr>\n",
       "    <tr>\n",
       "      <th>4</th>\n",
       "      <td>984459</td>\n",
       "      <td>3</td>\n",
       "      <td>3498.4888</td>\n",
       "      <td>3074.7552</td>\n",
       "      <td>3593.335</td>\n",
       "      <td>1.000</td>\n",
       "      <td>984460</td>\n",
       "      <td>0</td>\n",
       "      <td>1</td>\n",
       "      <td>2088763392</td>\n",
       "      <td>1</td>\n",
       "      <td>1</td>\n",
       "    </tr>\n",
       "  </tbody>\n",
       "</table>\n",
       "</div>"
      ],
      "text/plain": [
       "       #n type          x          y         z radius  parent seg_id level  \\\n",
       "0  984456    3  3501.3336  3073.3336  3585.555  1.000  984457      0     1   \n",
       "1  984455    3  3501.6000  3072.8000  3585.000  1.000  984456      0     1   \n",
       "2  984457    3  3500.4448  3074.1336  3589.445  1.000  984458      0     1   \n",
       "3  984458    3  3498.7552  3074.4888  3591.665  1.000  984459      0     1   \n",
       "4  984459    3  3498.4888  3074.7552  3593.335  1.000  984460      0     1   \n",
       "\n",
       "         mode timestamp TFresindex  \n",
       "0  2088763392         1          1  \n",
       "1  2088763392         1          1  \n",
       "2  2088763392         1          1  \n",
       "3  2088763392         1          1  \n",
       "4  2088763392         1          1  "
      ]
     },
     "execution_count": 9,
     "metadata": {},
     "output_type": "execute_result"
    }
   ],
   "source": [
    "annotation_df['x']=pd.to_numeric(annotation_df['x'])*xy\n",
    "annotation_df['y']=pd.to_numeric(annotation_df['y'])*xy\n",
    "annotation_df['z']=pd.to_numeric(annotation_df['z'])*z\n",
    "#annotation_df.head()"
   ]
  },
  {
   "cell_type": "code",
   "execution_count": 10,
   "metadata": {},
   "outputs": [],
   "source": [
    "#Write the converted value back to a eswc file to feed into v3d resample_swc\n",
    "\n",
    "#In this text file, the x y z represents the coordinates in um\n",
    "\n",
    "#write the first 3 lines exactly like the loaded file\n",
    "tfile = open(anno_file+'converted.eswc', 'a')\n",
    "tfile.write(anno_data[0])\n",
    "tfile.write(anno_data[1])\n",
    "tfile.write(anno_data[2])\n",
    "tfile.write(annotation_df.to_string(header=False, index=False))\n",
    "tfile.close()\n",
    "\n",
    "## note this file generates more spaces as separators but thankfully resample_Swc plugin didn't care\n"
   ]
  },
  {
   "cell_type": "markdown",
   "metadata": {},
   "source": [
    "## Now, take the resampled eswc file and downsample into 25um\n",
    "\n",
    "Need to remember the resample stepsize (=1 um in the usual case)\n"
   ]
  },
  {
   "cell_type": "code",
   "execution_count": 14,
   "metadata": {},
   "outputs": [
    {
     "ename": "AttributeError",
     "evalue": "'NoneType' object has no attribute 'name'",
     "output_type": "error",
     "traceback": [
      "\u001b[1;31m---------------------------------------------------------------------------\u001b[0m",
      "\u001b[1;31mAttributeError\u001b[0m                            Traceback (most recent call last)",
      "\u001b[1;32m<ipython-input-14-6e768d0ddd62>\u001b[0m in \u001b[0;36m<module>\u001b[1;34m\u001b[0m\n\u001b[0;32m      1\u001b[0m \u001b[0moutdir\u001b[0m \u001b[1;33m=\u001b[0m \u001b[0mfdialog\u001b[0m\u001b[1;33m.\u001b[0m\u001b[0maskdirectory\u001b[0m\u001b[1;33m(\u001b[0m\u001b[0mtitle\u001b[0m\u001b[1;33m=\u001b[0m\u001b[1;34m'Please select the output directory'\u001b[0m\u001b[1;33m)\u001b[0m\u001b[1;33m\u001b[0m\u001b[1;33m\u001b[0m\u001b[0m\n\u001b[1;32m----> 2\u001b[1;33m \u001b[0mresample_file\u001b[0m\u001b[1;33m=\u001b[0m\u001b[0mfdialog\u001b[0m\u001b[1;33m.\u001b[0m\u001b[0maskopenfile\u001b[0m\u001b[1;33m(\u001b[0m\u001b[0minitialdir\u001b[0m\u001b[1;33m=\u001b[0m\u001b[0moutdir\u001b[0m\u001b[1;33m,\u001b[0m \u001b[0mtitle\u001b[0m\u001b[1;33m=\u001b[0m\u001b[1;34m'Select the eswc file containing the converted and recampled annotations'\u001b[0m\u001b[1;33m)\u001b[0m\u001b[1;33m.\u001b[0m\u001b[0mname\u001b[0m\u001b[1;33m\u001b[0m\u001b[1;33m\u001b[0m\u001b[0m\n\u001b[0m\u001b[0;32m      3\u001b[0m \u001b[1;33m\u001b[0m\u001b[0m\n\u001b[0;32m      4\u001b[0m resampled_xyz = simpledialog.askfloat(\"Input\", \"What is the x, y and z resolution in um after converting and resampling?\",\n\u001b[0;32m      5\u001b[0m                                minvalue=0.0, maxvalue=100)\n",
      "\u001b[1;31mAttributeError\u001b[0m: 'NoneType' object has no attribute 'name'"
     ]
    }
   ],
   "source": [
    "outdir = fdialog.askdirectory(title='Please select the output directory')\n",
    "resample_file=fdialog.askopenfile(initialdir=outdir, title='Select the eswc file containing the converted and recampled annotations').name \n",
    "\n",
    "resampled_xyz = simpledialog.askfloat(\"Input\", \"What is the x, y and z resolution in um after converting and resampling?\",\n",
    "                               minvalue=0.0, maxvalue=100)\n",
    "goal_xyz = simpledialog.askfloat(\"Input\", \"What do you want to downsample the resolution to '(in um)' ?\",\n",
    "                               minvalue=10, maxvalue=100)"
   ]
  },
  {
   "cell_type": "code",
   "execution_count": 4,
   "metadata": {},
   "outputs": [
    {
     "data": {
      "text/plain": [
       "'Resampled annotation step size is 1.0 um in x y z. downsampling to 25.0 um. dowmsample ratio is 25.0.'"
      ]
     },
     "execution_count": 4,
     "metadata": {},
     "output_type": "execute_result"
    }
   ],
   "source": [
    "ratioxyz=goal_xyz/resampled_xyz\n",
    "message = (f\"Resampled annotation step size is {resampled_xyz} um in x y z. \"\n",
    "f\"downsampling to {goal_xyz} um. \"\n",
    "f\"dowmsample ratio is {ratioxyz}.\")\n",
    "\n",
    "message"
   ]
  },
  {
   "cell_type": "code",
   "execution_count": 5,
   "metadata": {},
   "outputs": [
    {
     "data": {
      "text/html": [
       "<div>\n",
       "<style scoped>\n",
       "    .dataframe tbody tr th:only-of-type {\n",
       "        vertical-align: middle;\n",
       "    }\n",
       "\n",
       "    .dataframe tbody tr th {\n",
       "        vertical-align: top;\n",
       "    }\n",
       "\n",
       "    .dataframe thead th {\n",
       "        text-align: right;\n",
       "    }\n",
       "</style>\n",
       "<table border=\"1\" class=\"dataframe\">\n",
       "  <thead>\n",
       "    <tr style=\"text-align: right;\">\n",
       "      <th></th>\n",
       "      <th>#id</th>\n",
       "      <th>type</th>\n",
       "      <th>x</th>\n",
       "      <th>y</th>\n",
       "      <th>z</th>\n",
       "      <th>r</th>\n",
       "      <th>pid</th>\n",
       "    </tr>\n",
       "  </thead>\n",
       "  <tbody>\n",
       "    <tr>\n",
       "      <th>0</th>\n",
       "      <td>1</td>\n",
       "      <td>3</td>\n",
       "      <td>3381.6</td>\n",
       "      <td>2941.6</td>\n",
       "      <td>4420</td>\n",
       "      <td>1</td>\n",
       "      <td>2</td>\n",
       "    </tr>\n",
       "    <tr>\n",
       "      <th>1</th>\n",
       "      <td>2</td>\n",
       "      <td>3</td>\n",
       "      <td>3382.59</td>\n",
       "      <td>2941.48</td>\n",
       "      <td>4420</td>\n",
       "      <td>1</td>\n",
       "      <td>3</td>\n",
       "    </tr>\n",
       "    <tr>\n",
       "      <th>2</th>\n",
       "      <td>3</td>\n",
       "      <td>3</td>\n",
       "      <td>3383.58</td>\n",
       "      <td>2941.35</td>\n",
       "      <td>4420</td>\n",
       "      <td>1</td>\n",
       "      <td>4</td>\n",
       "    </tr>\n",
       "    <tr>\n",
       "      <th>3</th>\n",
       "      <td>4</td>\n",
       "      <td>3</td>\n",
       "      <td>3384.1</td>\n",
       "      <td>2941.21</td>\n",
       "      <td>4420.76</td>\n",
       "      <td>1</td>\n",
       "      <td>5</td>\n",
       "    </tr>\n",
       "    <tr>\n",
       "      <th>4</th>\n",
       "      <td>5</td>\n",
       "      <td>3</td>\n",
       "      <td>3384.53</td>\n",
       "      <td>2941.07</td>\n",
       "      <td>4421.65</td>\n",
       "      <td>1</td>\n",
       "      <td>6</td>\n",
       "    </tr>\n",
       "  </tbody>\n",
       "</table>\n",
       "</div>"
      ],
      "text/plain": [
       "  #id type        x        y        z  r pid\n",
       "0   1    3   3381.6   2941.6     4420  1   2\n",
       "1   2    3  3382.59  2941.48     4420  1   3\n",
       "2   3    3  3383.58  2941.35     4420  1   4\n",
       "3   4    3   3384.1  2941.21  4420.76  1   5\n",
       "4   5    3  3384.53  2941.07  4421.65  1   6"
      ]
     },
     "execution_count": 5,
     "metadata": {},
     "output_type": "execute_result"
    }
   ],
   "source": [
    "resampled_anno=open(resample_file,'r')\n",
    "resampled_anno_data=resampled_anno.readlines()\n",
    "# heading is stored in anno_data[2], 1st line basically useless\n",
    "\n",
    "headings=resampled_anno_data[2].rstrip('\\n').replace(' ', '').split(',')\n",
    "resampled_annotations=[lines.rstrip('0 1\\n').split(' ') for lines in resampled_anno_data[3:]]\n",
    "#slight modification on replacing and stripping due to the format of the resampled swc\n",
    "\n",
    "resampled_annotation_df=pd.DataFrame(resampled_annotations, columns=headings)\n",
    "\n",
    "resampled_annotation_df.head()"
   ]
  },
  {
   "cell_type": "code",
   "execution_count": 6,
   "metadata": {},
   "outputs": [],
   "source": [
    "ds_x= pd.to_numeric(resampled_annotation_df['x'])\n",
    "ds_x=ds_x/ratioxyz\n",
    "ds_xround=ds_x.astype(int).astype(str)\n",
    "ds_y= pd.to_numeric(resampled_annotation_df['y'])\n",
    "ds_y=ds_y/ratioxyz\n",
    "ds_yround=ds_y.astype(int).astype(str)\n",
    "\n",
    "ds_z= pd.to_numeric(resampled_annotation_df['z'])\n",
    "ds_z=ds_z/ratioxyz\n",
    "ds_zround=ds_z.astype(int).astype(str)\n",
    "\n",
    "# rounds by astype int, then conver to string"
   ]
  },
  {
   "cell_type": "code",
   "execution_count": 7,
   "metadata": {},
   "outputs": [],
   "source": [
    "ds_coordinates= pd.DataFrame(columns=['x','y','z'])\n",
    "ds_coordinates['x']=ds_xround\n",
    "ds_coordinates['y']=ds_yround\n",
    "ds_coordinates['z']=ds_zround\n",
    "# put in to panda dataframe just in case for future use"
   ]
  },
  {
   "cell_type": "code",
   "execution_count": 8,
   "metadata": {},
   "outputs": [],
   "source": [
    "q = [' '.join(x) for x in zip(ds_xround,ds_yround,ds_zround)]\n",
    "# create a list where row1= x1 y1 z1 row2= x2 y2 z2 and etc \n",
    "# for writing to the text file"
   ]
  },
  {
   "cell_type": "code",
   "execution_count": 23,
   "metadata": {},
   "outputs": [
    {
     "name": "stdout",
     "output_type": "stream",
     "text": [
      "AL126_25.0voxel_trace_1umStepsize.txt\n"
     ]
    }
   ],
   "source": [
    "if 'D' in resample_file:\n",
    "    out_name= outdir[3:]+ f'D_{goal_xyz}voxel_trace_1umStepsize.txt'\n",
    "else:\n",
    "    out_name= outdir[3:]+ f'_{goal_xyz}voxel_trace_1umStepsize.txt'\n",
    "print(out_name)"
   ]
  },
  {
   "cell_type": "code",
   "execution_count": 10,
   "metadata": {},
   "outputs": [],
   "source": [
    "num_row=len(resampled_annotation_df.index)\n",
    "f=open(outdir+'/'+out_name,'w+')\n",
    "f.write('point'+'\\n')\n",
    "f.write(str(num_row)+'\\n')\n",
    "\n",
    "for lines in q:\n",
    "    f.write(lines+'\\n')\n",
    "\n",
    "f.close()\n",
    "\n",
    "#works, yay"
   ]
  },
  {
   "cell_type": "code",
   "execution_count": 150,
   "metadata": {},
   "outputs": [
    {
     "ename": "KeyboardInterrupt",
     "evalue": "",
     "output_type": "error",
     "traceback": [
      "\u001b[1;31m---------------------------------------------------------------------------\u001b[0m",
      "\u001b[1;31mKeyboardInterrupt\u001b[0m                         Traceback (most recent call last)",
      "\u001b[1;32m<ipython-input-150-e7542828e15d>\u001b[0m in \u001b[0;36m<module>\u001b[1;34m\u001b[0m\n\u001b[0;32m      6\u001b[0m \u001b[0mlist_parent\u001b[0m\u001b[1;33m=\u001b[0m \u001b[0mresampled_annotation_df\u001b[0m\u001b[1;33m[\u001b[0m\u001b[1;34m'pid'\u001b[0m\u001b[1;33m]\u001b[0m\u001b[1;33m.\u001b[0m\u001b[0mtolist\u001b[0m\u001b[1;33m(\u001b[0m\u001b[1;33m)\u001b[0m\u001b[1;33m\u001b[0m\u001b[1;33m\u001b[0m\u001b[0m\n\u001b[0;32m      7\u001b[0m \u001b[1;33m\u001b[0m\u001b[0m\n\u001b[1;32m----> 8\u001b[1;33m \u001b[0mending_list\u001b[0m\u001b[1;33m=\u001b[0m\u001b[1;33m[\u001b[0m\u001b[0mcounter\u001b[0m \u001b[1;32mfor\u001b[0m \u001b[0mcounter\u001b[0m\u001b[1;33m,\u001b[0m\u001b[0midx\u001b[0m \u001b[1;32min\u001b[0m \u001b[0menumerate\u001b[0m\u001b[1;33m(\u001b[0m\u001b[0mlist_n\u001b[0m\u001b[1;33m)\u001b[0m \u001b[1;32mif\u001b[0m \u001b[0midx\u001b[0m \u001b[1;32mnot\u001b[0m \u001b[1;32min\u001b[0m \u001b[0mlist_parent\u001b[0m\u001b[1;33m]\u001b[0m\u001b[1;33m\u001b[0m\u001b[1;33m\u001b[0m\u001b[0m\n\u001b[0m",
      "\u001b[1;32m<ipython-input-150-e7542828e15d>\u001b[0m in \u001b[0;36m<listcomp>\u001b[1;34m(.0)\u001b[0m\n\u001b[0;32m      6\u001b[0m \u001b[0mlist_parent\u001b[0m\u001b[1;33m=\u001b[0m \u001b[0mresampled_annotation_df\u001b[0m\u001b[1;33m[\u001b[0m\u001b[1;34m'pid'\u001b[0m\u001b[1;33m]\u001b[0m\u001b[1;33m.\u001b[0m\u001b[0mtolist\u001b[0m\u001b[1;33m(\u001b[0m\u001b[1;33m)\u001b[0m\u001b[1;33m\u001b[0m\u001b[1;33m\u001b[0m\u001b[0m\n\u001b[0;32m      7\u001b[0m \u001b[1;33m\u001b[0m\u001b[0m\n\u001b[1;32m----> 8\u001b[1;33m \u001b[0mending_list\u001b[0m\u001b[1;33m=\u001b[0m\u001b[1;33m[\u001b[0m\u001b[0mcounter\u001b[0m \u001b[1;32mfor\u001b[0m \u001b[0mcounter\u001b[0m\u001b[1;33m,\u001b[0m\u001b[0midx\u001b[0m \u001b[1;32min\u001b[0m \u001b[0menumerate\u001b[0m\u001b[1;33m(\u001b[0m\u001b[0mlist_n\u001b[0m\u001b[1;33m)\u001b[0m \u001b[1;32mif\u001b[0m \u001b[0midx\u001b[0m \u001b[1;32mnot\u001b[0m \u001b[1;32min\u001b[0m \u001b[0mlist_parent\u001b[0m\u001b[1;33m]\u001b[0m\u001b[1;33m\u001b[0m\u001b[1;33m\u001b[0m\u001b[0m\n\u001b[0m",
      "\u001b[1;31mKeyboardInterrupt\u001b[0m: "
     ]
    }
   ],
   "source": [
    "#attempt to find endings for each branch\n",
    "# the #n of the ending should not be a parent for something else\n",
    "\n",
    "#first put these 2 columns in to list\n",
    "list_n= resampled_annotation_df['#id'].tolist()\n",
    "list_parent= resampled_annotation_df['pid'].tolist()\n",
    "\n",
    "##DONOT RUN, some how this takes VERY long. Consider finding the endings using the non-resampled file where we have less points\n",
    "ending_list=[counter for counter,idx in enumerate(list_n) if idx not in list_parent]\n"
   ]
  },
  {
   "cell_type": "code",
   "execution_count": 148,
   "metadata": {
    "collapsed": true,
    "jupyter": {
     "outputs_hidden": true
    }
   },
   "outputs": [
    {
     "data": {
      "text/html": [
       "<div>\n",
       "<style scoped>\n",
       "    .dataframe tbody tr th:only-of-type {\n",
       "        vertical-align: middle;\n",
       "    }\n",
       "\n",
       "    .dataframe tbody tr th {\n",
       "        vertical-align: top;\n",
       "    }\n",
       "\n",
       "    .dataframe thead th {\n",
       "        text-align: right;\n",
       "    }\n",
       "</style>\n",
       "<table border=\"1\" class=\"dataframe\">\n",
       "  <thead>\n",
       "    <tr style=\"text-align: right;\">\n",
       "      <th></th>\n",
       "      <th>#n</th>\n",
       "      <th>type</th>\n",
       "      <th>x</th>\n",
       "      <th>y</th>\n",
       "      <th>z</th>\n",
       "      <th>radius</th>\n",
       "      <th>parent</th>\n",
       "      <th>seg_id</th>\n",
       "      <th>level</th>\n",
       "      <th>mode</th>\n",
       "      <th>timestamp</th>\n",
       "      <th>TFresindex</th>\n",
       "    </tr>\n",
       "  </thead>\n",
       "  <tbody>\n",
       "    <tr>\n",
       "      <th>0</th>\n",
       "      <td>104067</td>\n",
       "      <td>3</td>\n",
       "      <td>4811.632</td>\n",
       "      <td>2360.216</td>\n",
       "      <td>3550.490</td>\n",
       "      <td>1.000</td>\n",
       "      <td>104068</td>\n",
       "      <td>0</td>\n",
       "      <td>0</td>\n",
       "      <td>0</td>\n",
       "      <td>0</td>\n",
       "      <td>0</td>\n",
       "    </tr>\n",
       "    <tr>\n",
       "      <th>55</th>\n",
       "      <td>104123</td>\n",
       "      <td>3</td>\n",
       "      <td>4953.056</td>\n",
       "      <td>2357.856</td>\n",
       "      <td>3579.955</td>\n",
       "      <td>1.000</td>\n",
       "      <td>104124</td>\n",
       "      <td>0</td>\n",
       "      <td>0</td>\n",
       "      <td>0</td>\n",
       "      <td>0</td>\n",
       "      <td>0</td>\n",
       "    </tr>\n",
       "    <tr>\n",
       "      <th>57</th>\n",
       "      <td>104079</td>\n",
       "      <td>3</td>\n",
       "      <td>4954.408</td>\n",
       "      <td>2358.768</td>\n",
       "      <td>3580.555</td>\n",
       "      <td>1.000</td>\n",
       "      <td>104080</td>\n",
       "      <td>0</td>\n",
       "      <td>0</td>\n",
       "      <td>0</td>\n",
       "      <td>0</td>\n",
       "      <td>0</td>\n",
       "    </tr>\n",
       "    <tr>\n",
       "      <th>74</th>\n",
       "      <td>104125</td>\n",
       "      <td>3</td>\n",
       "      <td>4999.888</td>\n",
       "      <td>2360.488</td>\n",
       "      <td>3590.920</td>\n",
       "      <td>1.000</td>\n",
       "      <td>104126</td>\n",
       "      <td>0</td>\n",
       "      <td>0</td>\n",
       "      <td>0</td>\n",
       "      <td>0</td>\n",
       "      <td>0</td>\n",
       "    </tr>\n",
       "    <tr>\n",
       "      <th>89</th>\n",
       "      <td>104159</td>\n",
       "      <td>3</td>\n",
       "      <td>5095.344</td>\n",
       "      <td>2369.136</td>\n",
       "      <td>3610.450</td>\n",
       "      <td>1.000</td>\n",
       "      <td>104160</td>\n",
       "      <td>0</td>\n",
       "      <td>0</td>\n",
       "      <td>0</td>\n",
       "      <td>0</td>\n",
       "      <td>0</td>\n",
       "    </tr>\n",
       "  </tbody>\n",
       "</table>\n",
       "</div>"
      ],
      "text/plain": [
       "        #n type         x         y         z radius  parent seg_id level  \\\n",
       "0   104067    3  4811.632  2360.216  3550.490  1.000  104068      0     0   \n",
       "55  104123    3  4953.056  2357.856  3579.955  1.000  104124      0     0   \n",
       "57  104079    3  4954.408  2358.768  3580.555  1.000  104080      0     0   \n",
       "74  104125    3  4999.888  2360.488  3590.920  1.000  104126      0     0   \n",
       "89  104159    3  5095.344  2369.136  3610.450  1.000  104160      0     0   \n",
       "\n",
       "   mode timestamp TFresindex  \n",
       "0     0         0          0  \n",
       "55    0         0          0  \n",
       "57    0         0          0  \n",
       "74    0         0          0  \n",
       "89    0         0          0  "
      ]
     },
     "execution_count": 148,
     "metadata": {},
     "output_type": "execute_result"
    }
   ],
   "source": [
    "endings_df=pd.DataFrame(resampled_annotation_df.iloc[ending_list])\n",
    "endings_df.head()"
   ]
  },
  {
   "cell_type": "code",
   "execution_count": 120,
   "metadata": {},
   "outputs": [],
   "source": [
    "f=open(outdir+'/endings.txt','w+')\n",
    "\n",
    "for idx in ending_list:\n",
    "    loc=q[idx]\n",
    "    f.write(loc+'\\n')\n",
    "f.close()\n",
    "    "
   ]
  },
  {
   "cell_type": "code",
   "execution_count": 43,
   "metadata": {},
   "outputs": [
    {
     "ename": "AttributeError",
     "evalue": "'str' object has no attribute 'type'",
     "output_type": "error",
     "traceback": [
      "\u001b[1;31m---------------------------------------------------------------------------\u001b[0m",
      "\u001b[1;31mAttributeError\u001b[0m                            Traceback (most recent call last)",
      "\u001b[1;32m<ipython-input-43-2728bac6694a>\u001b[0m in \u001b[0;36m<module>\u001b[1;34m\u001b[0m\n\u001b[1;32m----> 1\u001b[1;33m \u001b[0mq\u001b[0m\u001b[1;33m[\u001b[0m\u001b[1;36m12\u001b[0m\u001b[1;33m]\u001b[0m\u001b[1;33m.\u001b[0m\u001b[0mtype\u001b[0m\u001b[1;33m\u001b[0m\u001b[1;33m\u001b[0m\u001b[0m\n\u001b[0m",
      "\u001b[1;31mAttributeError\u001b[0m: 'str' object has no attribute 'type'"
     ]
    }
   ],
   "source": [
    "annotation_df=pd.DataFrame(annotations, columns=headings)\n",
    "annotation_df.columns"
   ]
  }
 ],
 "metadata": {
  "kernelspec": {
   "display_name": "Python 3",
   "language": "python",
   "name": "python3"
  },
  "language_info": {
   "codemirror_mode": {
    "name": "ipython",
    "version": 3
   },
   "file_extension": ".py",
   "mimetype": "text/x-python",
   "name": "python",
   "nbconvert_exporter": "python",
   "pygments_lexer": "ipython3",
   "version": "3.7.3"
  }
 },
 "nbformat": 4,
 "nbformat_minor": 4
}
