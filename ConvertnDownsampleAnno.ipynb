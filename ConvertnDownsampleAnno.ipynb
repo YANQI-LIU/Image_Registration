{
 "cells": [
  {
   "cell_type": "markdown",
   "metadata": {},
   "source": [
    "## Convert annotation into um and generate downsampled txt file from resampled file\n",
    "\n",
    "Generating pandas data frame from vaa3d annotation.eswc file\n",
    "\n",
    "1. convert them into real units (ie. um) based acquisition microns/pixels\n",
    "2. Resample this eswc file in V3d (plugin- neuron untilities-resample swc) in a fixes stepsize (ie.1 um)\n",
    "3. Load the resampled file and downsample them to the corresponding dimensions (ie.25um)\n",
    "4. saves as transformix compatible format (in case for sample2ara)\n",
    "\n",
    "__Note that step 2 has to be done in V3d__\n",
    "\n",
    "__Important__: must have D (case sensitive) in the file name and file path __only__ if it is a dendritic annotation!!!\n",
    "\n",
    "In progress: get endings based on the parent name\n"
   ]
  },
  {
   "cell_type": "code",
   "execution_count": 125,
   "metadata": {},
   "outputs": [],
   "source": [
    "import os\n",
    "\n",
    "import pandas as pd\n",
    "\n",
    "import numpy as np\n",
    "\n",
    "import tkinter as tk\n",
    "import tkinter.filedialog as fdialog\n",
    "from tkinter import simpledialog"
   ]
  },
  {
   "cell_type": "code",
   "execution_count": 4,
   "metadata": {},
   "outputs": [],
   "source": [
    "xy = simpledialog.askfloat(\"Input\", \"What is the x and y resolution in um?\",\n",
    "                               minvalue=0.0, maxvalue=100)\n",
    "z = simpledialog.askfloat(\"Input\", \"What is the z resolution in um?\",\n",
    "                               minvalue=0.0, maxvalue=100)\n",
    "outdir = fdialog.askdirectory(title='Please select the output directory')\n",
    "anno_file=fdialog.askopenfile(initialdir='Z:\\\\', title='Select the eswc file containing the annotations').name "
   ]
  },
  {
   "cell_type": "code",
   "execution_count": 6,
   "metadata": {},
   "outputs": [],
   "source": [
    "anno=open(anno_file,'r')\n",
    "anno_data=anno.readlines()\n",
    "# heading is stored in anno_data[2], 1st line basically useless\n",
    "\n",
    "headings=anno_data[2].rstrip('\\n').split(' ')\n",
    "annotations=[lines.rstrip('\\n').split(' ') for lines in anno_data[3:]]"
   ]
  },
  {
   "cell_type": "code",
   "execution_count": 7,
   "metadata": {},
   "outputs": [
    {
     "data": {
      "text/plain": [
       "Index(['#n', 'type', 'x', 'y', 'z', 'radius', 'parent', 'seg_id', 'level',\n",
       "       'mode', 'timestamp', 'TFresindex'],\n",
       "      dtype='object')"
      ]
     },
     "execution_count": 7,
     "metadata": {},
     "output_type": "execute_result"
    }
   ],
   "source": [
    "annotation_df=pd.DataFrame(annotations, columns=headings)\n"
   ]
  },
  {
   "cell_type": "code",
   "execution_count": 8,
   "metadata": {},
   "outputs": [
    {
     "data": {
      "text/html": [
       "<div>\n",
       "<style scoped>\n",
       "    .dataframe tbody tr th:only-of-type {\n",
       "        vertical-align: middle;\n",
       "    }\n",
       "\n",
       "    .dataframe tbody tr th {\n",
       "        vertical-align: top;\n",
       "    }\n",
       "\n",
       "    .dataframe thead th {\n",
       "        text-align: right;\n",
       "    }\n",
       "</style>\n",
       "<table border=\"1\" class=\"dataframe\">\n",
       "  <thead>\n",
       "    <tr style=\"text-align: right;\">\n",
       "      <th></th>\n",
       "      <th>#n</th>\n",
       "      <th>type</th>\n",
       "      <th>x</th>\n",
       "      <th>y</th>\n",
       "      <th>z</th>\n",
       "      <th>radius</th>\n",
       "      <th>parent</th>\n",
       "      <th>seg_id</th>\n",
       "      <th>level</th>\n",
       "      <th>mode</th>\n",
       "      <th>timestamp</th>\n",
       "      <th>TFresindex</th>\n",
       "    </tr>\n",
       "  </thead>\n",
       "  <tbody>\n",
       "    <tr>\n",
       "      <th>0</th>\n",
       "      <td>984456</td>\n",
       "      <td>3</td>\n",
       "      <td>4376.667</td>\n",
       "      <td>3841.667</td>\n",
       "      <td>717.111</td>\n",
       "      <td>1.000</td>\n",
       "      <td>984457</td>\n",
       "      <td>0</td>\n",
       "      <td>1</td>\n",
       "      <td>2088763392</td>\n",
       "      <td>1</td>\n",
       "      <td>1</td>\n",
       "    </tr>\n",
       "    <tr>\n",
       "      <th>1</th>\n",
       "      <td>984455</td>\n",
       "      <td>3</td>\n",
       "      <td>4377.000</td>\n",
       "      <td>3841.000</td>\n",
       "      <td>717.000</td>\n",
       "      <td>1.000</td>\n",
       "      <td>984456</td>\n",
       "      <td>0</td>\n",
       "      <td>1</td>\n",
       "      <td>2088763392</td>\n",
       "      <td>1</td>\n",
       "      <td>1</td>\n",
       "    </tr>\n",
       "    <tr>\n",
       "      <th>2</th>\n",
       "      <td>984457</td>\n",
       "      <td>3</td>\n",
       "      <td>4375.556</td>\n",
       "      <td>3842.667</td>\n",
       "      <td>717.889</td>\n",
       "      <td>1.000</td>\n",
       "      <td>984458</td>\n",
       "      <td>0</td>\n",
       "      <td>1</td>\n",
       "      <td>2088763392</td>\n",
       "      <td>1</td>\n",
       "      <td>1</td>\n",
       "    </tr>\n",
       "    <tr>\n",
       "      <th>3</th>\n",
       "      <td>984458</td>\n",
       "      <td>3</td>\n",
       "      <td>4373.444</td>\n",
       "      <td>3843.111</td>\n",
       "      <td>718.333</td>\n",
       "      <td>1.000</td>\n",
       "      <td>984459</td>\n",
       "      <td>0</td>\n",
       "      <td>1</td>\n",
       "      <td>2088763392</td>\n",
       "      <td>1</td>\n",
       "      <td>1</td>\n",
       "    </tr>\n",
       "    <tr>\n",
       "      <th>4</th>\n",
       "      <td>984459</td>\n",
       "      <td>3</td>\n",
       "      <td>4373.111</td>\n",
       "      <td>3843.444</td>\n",
       "      <td>718.667</td>\n",
       "      <td>1.000</td>\n",
       "      <td>984460</td>\n",
       "      <td>0</td>\n",
       "      <td>1</td>\n",
       "      <td>2088763392</td>\n",
       "      <td>1</td>\n",
       "      <td>1</td>\n",
       "    </tr>\n",
       "  </tbody>\n",
       "</table>\n",
       "</div>"
      ],
      "text/plain": [
       "       #n type         x         y        z radius  parent seg_id level  \\\n",
       "0  984456    3  4376.667  3841.667  717.111  1.000  984457      0     1   \n",
       "1  984455    3  4377.000  3841.000  717.000  1.000  984456      0     1   \n",
       "2  984457    3  4375.556  3842.667  717.889  1.000  984458      0     1   \n",
       "3  984458    3  4373.444  3843.111  718.333  1.000  984459      0     1   \n",
       "4  984459    3  4373.111  3843.444  718.667  1.000  984460      0     1   \n",
       "\n",
       "         mode timestamp TFresindex  \n",
       "0  2088763392         1          1  \n",
       "1  2088763392         1          1  \n",
       "2  2088763392         1          1  \n",
       "3  2088763392         1          1  \n",
       "4  2088763392         1          1  "
      ]
     },
     "execution_count": 8,
     "metadata": {},
     "output_type": "execute_result"
    }
   ],
   "source": [
    "#annotation_df.head()"
   ]
  },
  {
   "cell_type": "code",
   "execution_count": 9,
   "metadata": {},
   "outputs": [
    {
     "data": {
      "text/html": [
       "<div>\n",
       "<style scoped>\n",
       "    .dataframe tbody tr th:only-of-type {\n",
       "        vertical-align: middle;\n",
       "    }\n",
       "\n",
       "    .dataframe tbody tr th {\n",
       "        vertical-align: top;\n",
       "    }\n",
       "\n",
       "    .dataframe thead th {\n",
       "        text-align: right;\n",
       "    }\n",
       "</style>\n",
       "<table border=\"1\" class=\"dataframe\">\n",
       "  <thead>\n",
       "    <tr style=\"text-align: right;\">\n",
       "      <th></th>\n",
       "      <th>#n</th>\n",
       "      <th>type</th>\n",
       "      <th>x</th>\n",
       "      <th>y</th>\n",
       "      <th>z</th>\n",
       "      <th>radius</th>\n",
       "      <th>parent</th>\n",
       "      <th>seg_id</th>\n",
       "      <th>level</th>\n",
       "      <th>mode</th>\n",
       "      <th>timestamp</th>\n",
       "      <th>TFresindex</th>\n",
       "    </tr>\n",
       "  </thead>\n",
       "  <tbody>\n",
       "    <tr>\n",
       "      <th>0</th>\n",
       "      <td>984456</td>\n",
       "      <td>3</td>\n",
       "      <td>3501.3336</td>\n",
       "      <td>3073.3336</td>\n",
       "      <td>3585.555</td>\n",
       "      <td>1.000</td>\n",
       "      <td>984457</td>\n",
       "      <td>0</td>\n",
       "      <td>1</td>\n",
       "      <td>2088763392</td>\n",
       "      <td>1</td>\n",
       "      <td>1</td>\n",
       "    </tr>\n",
       "    <tr>\n",
       "      <th>1</th>\n",
       "      <td>984455</td>\n",
       "      <td>3</td>\n",
       "      <td>3501.6000</td>\n",
       "      <td>3072.8000</td>\n",
       "      <td>3585.000</td>\n",
       "      <td>1.000</td>\n",
       "      <td>984456</td>\n",
       "      <td>0</td>\n",
       "      <td>1</td>\n",
       "      <td>2088763392</td>\n",
       "      <td>1</td>\n",
       "      <td>1</td>\n",
       "    </tr>\n",
       "    <tr>\n",
       "      <th>2</th>\n",
       "      <td>984457</td>\n",
       "      <td>3</td>\n",
       "      <td>3500.4448</td>\n",
       "      <td>3074.1336</td>\n",
       "      <td>3589.445</td>\n",
       "      <td>1.000</td>\n",
       "      <td>984458</td>\n",
       "      <td>0</td>\n",
       "      <td>1</td>\n",
       "      <td>2088763392</td>\n",
       "      <td>1</td>\n",
       "      <td>1</td>\n",
       "    </tr>\n",
       "    <tr>\n",
       "      <th>3</th>\n",
       "      <td>984458</td>\n",
       "      <td>3</td>\n",
       "      <td>3498.7552</td>\n",
       "      <td>3074.4888</td>\n",
       "      <td>3591.665</td>\n",
       "      <td>1.000</td>\n",
       "      <td>984459</td>\n",
       "      <td>0</td>\n",
       "      <td>1</td>\n",
       "      <td>2088763392</td>\n",
       "      <td>1</td>\n",
       "      <td>1</td>\n",
       "    </tr>\n",
       "    <tr>\n",
       "      <th>4</th>\n",
       "      <td>984459</td>\n",
       "      <td>3</td>\n",
       "      <td>3498.4888</td>\n",
       "      <td>3074.7552</td>\n",
       "      <td>3593.335</td>\n",
       "      <td>1.000</td>\n",
       "      <td>984460</td>\n",
       "      <td>0</td>\n",
       "      <td>1</td>\n",
       "      <td>2088763392</td>\n",
       "      <td>1</td>\n",
       "      <td>1</td>\n",
       "    </tr>\n",
       "  </tbody>\n",
       "</table>\n",
       "</div>"
      ],
      "text/plain": [
       "       #n type          x          y         z radius  parent seg_id level  \\\n",
       "0  984456    3  3501.3336  3073.3336  3585.555  1.000  984457      0     1   \n",
       "1  984455    3  3501.6000  3072.8000  3585.000  1.000  984456      0     1   \n",
       "2  984457    3  3500.4448  3074.1336  3589.445  1.000  984458      0     1   \n",
       "3  984458    3  3498.7552  3074.4888  3591.665  1.000  984459      0     1   \n",
       "4  984459    3  3498.4888  3074.7552  3593.335  1.000  984460      0     1   \n",
       "\n",
       "         mode timestamp TFresindex  \n",
       "0  2088763392         1          1  \n",
       "1  2088763392         1          1  \n",
       "2  2088763392         1          1  \n",
       "3  2088763392         1          1  \n",
       "4  2088763392         1          1  "
      ]
     },
     "execution_count": 9,
     "metadata": {},
     "output_type": "execute_result"
    }
   ],
   "source": [
    "annotation_df['x']=pd.to_numeric(annotation_df['x'])*xy\n",
    "annotation_df['y']=pd.to_numeric(annotation_df['y'])*xy\n",
    "annotation_df['z']=pd.to_numeric(annotation_df['z'])*z\n",
    "#annotation_df.head()"
   ]
  },
  {
   "cell_type": "code",
   "execution_count": 10,
   "metadata": {},
   "outputs": [],
   "source": [
    "#Write the converted value back to a eswc file to feed into v3d resample_swc\n",
    "\n",
    "#In this text file, the x y z represents the coordinates in um\n",
    "\n",
    "#write the first 3 lines exactly like the loaded file\n",
    "tfile = open(anno_file+'converted.eswc', 'a')\n",
    "tfile.write(anno_data[0])\n",
    "tfile.write(anno_data[1])\n",
    "tfile.write(anno_data[2])\n",
    "tfile.write(annotation_df.to_string(header=False, index=False))\n",
    "tfile.close()\n",
    "\n",
    "## note this file generates more spaces as separators but thankfully resample_Swc plugin didn't care\n"
   ]
  },
  {
   "cell_type": "markdown",
   "metadata": {},
   "source": [
    "## Now, take the resampled eswc file and downsample into 25um\n",
    "\n",
    "Need to remember the resample stepsize (=1 um in the usual case)\n"
   ]
  },
  {
   "cell_type": "code",
   "execution_count": 185,
   "metadata": {},
   "outputs": [],
   "source": [
    "outdir = fdialog.askdirectory(title='Please select the output directory')\n",
    "resample_file=fdialog.askopenfile(initialdir='M:/analysis/Yanqi_Liu/Annotations', title='Select the eswc file containing the converted and recampled annotations').name \n",
    "\n",
    "resampled_xyz = simpledialog.askfloat(\"Input\", \"What is the x, y and z resolution in um after converting and resampling?\",\n",
    "                               minvalue=0.0, maxvalue=100)\n",
    "goal_xyz = simpledialog.askfloat(\"Input\", \"What do you want to downsample the resolution to '(in um)' ?\",\n",
    "                               minvalue=10, maxvalue=100)"
   ]
  },
  {
   "cell_type": "code",
   "execution_count": 157,
   "metadata": {},
   "outputs": [
    {
     "data": {
      "text/plain": [
       "'Resampled annotation step size is 1.0 um in x y z. downsampling to 25.0 um. dowmsample ratio is 25.0.'"
      ]
     },
     "execution_count": 157,
     "metadata": {},
     "output_type": "execute_result"
    }
   ],
   "source": [
    "ratioxyz=goal_xyz/resampled_xyz\n",
    "message = (f\"Resampled annotation step size is {resampled_xyz} um in x y z. \"\n",
    "f\"downsampling to {goal_xyz} um. \"\n",
    "f\"dowmsample ratio is {ratioxyz}.\")\n",
    "\n",
    "message"
   ]
  },
  {
   "cell_type": "code",
   "execution_count": 186,
   "metadata": {},
   "outputs": [
    {
     "data": {
      "text/html": [
       "<div>\n",
       "<style scoped>\n",
       "    .dataframe tbody tr th:only-of-type {\n",
       "        vertical-align: middle;\n",
       "    }\n",
       "\n",
       "    .dataframe tbody tr th {\n",
       "        vertical-align: top;\n",
       "    }\n",
       "\n",
       "    .dataframe thead th {\n",
       "        text-align: right;\n",
       "    }\n",
       "</style>\n",
       "<table border=\"1\" class=\"dataframe\">\n",
       "  <thead>\n",
       "    <tr style=\"text-align: right;\">\n",
       "      <th></th>\n",
       "      <th>#id</th>\n",
       "      <th>type</th>\n",
       "      <th>x</th>\n",
       "      <th>y</th>\n",
       "      <th>z</th>\n",
       "      <th>r</th>\n",
       "      <th>pid</th>\n",
       "    </tr>\n",
       "  </thead>\n",
       "  <tbody>\n",
       "    <tr>\n",
       "      <th>0</th>\n",
       "      <td>1</td>\n",
       "      <td>3</td>\n",
       "      <td>4819.2</td>\n",
       "      <td>2124</td>\n",
       "      <td>4685</td>\n",
       "      <td>1</td>\n",
       "      <td>2</td>\n",
       "    </tr>\n",
       "    <tr>\n",
       "      <th>1</th>\n",
       "      <td>2</td>\n",
       "      <td>3</td>\n",
       "      <td>4819.28</td>\n",
       "      <td>2124.23</td>\n",
       "      <td>4685.97</td>\n",
       "      <td>1</td>\n",
       "      <td>3</td>\n",
       "    </tr>\n",
       "    <tr>\n",
       "      <th>2</th>\n",
       "      <td>3</td>\n",
       "      <td>3</td>\n",
       "      <td>4819.35</td>\n",
       "      <td>2124.47</td>\n",
       "      <td>4686.94</td>\n",
       "      <td>1</td>\n",
       "      <td>4</td>\n",
       "    </tr>\n",
       "    <tr>\n",
       "      <th>3</th>\n",
       "      <td>4</td>\n",
       "      <td>3</td>\n",
       "      <td>4819.43</td>\n",
       "      <td>2124.7</td>\n",
       "      <td>4687.91</td>\n",
       "      <td>1</td>\n",
       "      <td>5</td>\n",
       "    </tr>\n",
       "    <tr>\n",
       "      <th>4</th>\n",
       "      <td>5</td>\n",
       "      <td>3</td>\n",
       "      <td>4819.56</td>\n",
       "      <td>2124.91</td>\n",
       "      <td>4688.88</td>\n",
       "      <td>1</td>\n",
       "      <td>6</td>\n",
       "    </tr>\n",
       "  </tbody>\n",
       "</table>\n",
       "</div>"
      ],
      "text/plain": [
       "  #id type        x        y        z  r pid\n",
       "0   1    3   4819.2     2124     4685  1   2\n",
       "1   2    3  4819.28  2124.23  4685.97  1   3\n",
       "2   3    3  4819.35  2124.47  4686.94  1   4\n",
       "3   4    3  4819.43   2124.7  4687.91  1   5\n",
       "4   5    3  4819.56  2124.91  4688.88  1   6"
      ]
     },
     "execution_count": 186,
     "metadata": {},
     "output_type": "execute_result"
    }
   ],
   "source": [
    "resampled_anno=open(resample_file,'r')\n",
    "resampled_anno_data=resampled_anno.readlines()\n",
    "# heading is stored in anno_data[2], 1st line basically useless\n",
    "\n",
    "headings=resampled_anno_data[2].rstrip('\\n').replace(' ', '').split(',')\n",
    "resampled_annotations=[lines[0:-5].split(' ') for lines in resampled_anno_data[3:]]\n",
    "#slight modification on replacing and stripping due to the format of the resampled swc\n",
    "\n",
    "resampled_annotation_df=pd.DataFrame(resampled_annotations, columns=headings)\n",
    "\n",
    "resampled_annotation_df.head()"
   ]
  },
  {
   "cell_type": "code",
   "execution_count": 6,
   "metadata": {},
   "outputs": [],
   "source": [
    "ds_x= pd.to_numeric(resampled_annotation_df['x'])\n",
    "ds_x=ds_x/ratioxyz\n",
    "ds_xround=ds_x.astype(int).astype(str)\n",
    "ds_y= pd.to_numeric(resampled_annotation_df['y'])\n",
    "ds_y=ds_y/ratioxyz\n",
    "ds_yround=ds_y.astype(int).astype(str)\n",
    "\n",
    "ds_z= pd.to_numeric(resampled_annotation_df['z'])\n",
    "ds_z=ds_z/ratioxyz\n",
    "ds_zround=ds_z.astype(int).astype(str)\n",
    "\n",
    "# rounds by astype int, then conver to string"
   ]
  },
  {
   "cell_type": "code",
   "execution_count": 7,
   "metadata": {},
   "outputs": [],
   "source": [
    "ds_coordinates= pd.DataFrame(columns=['x','y','z'])\n",
    "ds_coordinates['x']=ds_xround\n",
    "ds_coordinates['y']=ds_yround\n",
    "ds_coordinates['z']=ds_zround\n",
    "# put in to panda dataframe just in case for future use"
   ]
  },
  {
   "cell_type": "code",
   "execution_count": 8,
   "metadata": {},
   "outputs": [],
   "source": [
    "q = [' '.join(x) for x in zip(ds_xround,ds_yround,ds_zround)]\n",
    "# create a list where row1= x1 y1 z1 row2= x2 y2 z2 and etc \n",
    "# for writing to the text file"
   ]
  },
  {
   "cell_type": "code",
   "execution_count": 103,
   "metadata": {},
   "outputs": [
    {
     "name": "stdout",
     "output_type": "stream",
     "text": [
      "AL126D_25.0voxel_trace_1umStepsize.txt\n"
     ]
    }
   ],
   "source": [
    "if 'D' in resample_file:\n",
    "    out_name= outdir[3:]+ f'D_{goal_xyz}voxel_trace_1umStepsize.txt'\n",
    "else:\n",
    "    out_name= outdir[3:]+ f'_{goal_xyz}voxel_trace_1umStepsize.txt'\n",
    "print(out_name)"
   ]
  },
  {
   "cell_type": "code",
   "execution_count": 10,
   "metadata": {},
   "outputs": [],
   "source": [
    "num_row=len(resampled_annotation_df.index)\n",
    "f=open(outdir+'/'+out_name,'w+')\n",
    "f.write('point'+'\\n')\n",
    "f.write(str(num_row)+'\\n')\n",
    "\n",
    "for lines in q:\n",
    "    f.write(lines+'\\n')\n",
    "\n",
    "f.close()\n",
    "\n",
    "#works, yay"
   ]
  },
  {
   "cell_type": "markdown",
   "metadata": {},
   "source": [
    "### finding the endings within annotation\n",
    "\n",
    "from observation, the points are arranged as \n",
    "\n",
    "end of branch \n",
    "\n",
    "end of branch-1\n",
    "\n",
    "end of branch-2..etc\n",
    "\n",
    "parent of this branch (with pid=-1)\n",
    "\n",
    "end of another branch...etc\n",
    "\n",
    "Thus we need to find the point after where pid=-1 and the very first point\n",
    "\n",
    "saves the indices of the ending points as a . csv file\n"
   ]
  },
  {
   "cell_type": "code",
   "execution_count": 187,
   "metadata": {},
   "outputs": [
    {
     "name": "stdout",
     "output_type": "stream",
     "text": [
      "Finding endings of the annotations...\n"
     ]
    }
   ],
   "source": [
    "print('Finding endings of the annotations...')\n",
    "#attempt to find endings for each branch\n",
    "list_parent= resampled_annotation_df['pid'].to_numpy()\n",
    "parent_index=np.argwhere(list_parent=='-1')\n",
    "# finds all instances where pid is -1"
   ]
  },
  {
   "cell_type": "code",
   "execution_count": 188,
   "metadata": {},
   "outputs": [
    {
     "name": "stdout",
     "output_type": "stream",
     "text": [
      "There are 150 endings\n"
     ]
    }
   ],
   "source": [
    "ending_index=parent_index[:-1]+1\n",
    "#remove the last item and add 1 to everything else\n",
    "\n",
    "ending_index=np.insert(ending_index, 0, 0)\n",
    "#now add the first item from the origional list\n",
    "print(f'There are {len(ending_index)} endings')"
   ]
  },
  {
   "cell_type": "code",
   "execution_count": 189,
   "metadata": {},
   "outputs": [
    {
     "data": {
      "text/html": [
       "<div>\n",
       "<style scoped>\n",
       "    .dataframe tbody tr th:only-of-type {\n",
       "        vertical-align: middle;\n",
       "    }\n",
       "\n",
       "    .dataframe tbody tr th {\n",
       "        vertical-align: top;\n",
       "    }\n",
       "\n",
       "    .dataframe thead th {\n",
       "        text-align: right;\n",
       "    }\n",
       "</style>\n",
       "<table border=\"1\" class=\"dataframe\">\n",
       "  <thead>\n",
       "    <tr style=\"text-align: right;\">\n",
       "      <th></th>\n",
       "      <th>#id</th>\n",
       "      <th>type</th>\n",
       "      <th>x</th>\n",
       "      <th>y</th>\n",
       "      <th>z</th>\n",
       "      <th>r</th>\n",
       "      <th>pid</th>\n",
       "    </tr>\n",
       "  </thead>\n",
       "  <tbody>\n",
       "    <tr>\n",
       "      <th>0</th>\n",
       "      <td>1</td>\n",
       "      <td>3</td>\n",
       "      <td>4819.2</td>\n",
       "      <td>2124</td>\n",
       "      <td>4685</td>\n",
       "      <td>1</td>\n",
       "      <td>2</td>\n",
       "    </tr>\n",
       "    <tr>\n",
       "      <th>16</th>\n",
       "      <td>17</td>\n",
       "      <td>3</td>\n",
       "      <td>4821.6</td>\n",
       "      <td>2127.2</td>\n",
       "      <td>4700</td>\n",
       "      <td>1</td>\n",
       "      <td>18</td>\n",
       "    </tr>\n",
       "    <tr>\n",
       "      <th>113</th>\n",
       "      <td>114</td>\n",
       "      <td>3</td>\n",
       "      <td>4829.6</td>\n",
       "      <td>2118.4</td>\n",
       "      <td>4750</td>\n",
       "      <td>1</td>\n",
       "      <td>115</td>\n",
       "    </tr>\n",
       "    <tr>\n",
       "      <th>186</th>\n",
       "      <td>187</td>\n",
       "      <td>3</td>\n",
       "      <td>4817.6</td>\n",
       "      <td>2155.2</td>\n",
       "      <td>4615</td>\n",
       "      <td>1</td>\n",
       "      <td>188</td>\n",
       "    </tr>\n",
       "    <tr>\n",
       "      <th>257</th>\n",
       "      <td>258</td>\n",
       "      <td>3</td>\n",
       "      <td>4820.8</td>\n",
       "      <td>2276</td>\n",
       "      <td>4640</td>\n",
       "      <td>1</td>\n",
       "      <td>259</td>\n",
       "    </tr>\n",
       "  </tbody>\n",
       "</table>\n",
       "</div>"
      ],
      "text/plain": [
       "     #id type       x       y     z  r  pid\n",
       "0      1    3  4819.2    2124  4685  1    2\n",
       "16    17    3  4821.6  2127.2  4700  1   18\n",
       "113  114    3  4829.6  2118.4  4750  1  115\n",
       "186  187    3  4817.6  2155.2  4615  1  188\n",
       "257  258    3  4820.8    2276  4640  1  259"
      ]
     },
     "execution_count": 189,
     "metadata": {},
     "output_type": "execute_result"
    }
   ],
   "source": [
    "endings_df=resampled_annotation_df.iloc[ending_index]\n",
    "endings_df.head()"
   ]
  },
  {
   "cell_type": "code",
   "execution_count": 190,
   "metadata": {},
   "outputs": [
    {
     "data": {
      "text/html": [
       "<div>\n",
       "<style scoped>\n",
       "    .dataframe tbody tr th:only-of-type {\n",
       "        vertical-align: middle;\n",
       "    }\n",
       "\n",
       "    .dataframe tbody tr th {\n",
       "        vertical-align: top;\n",
       "    }\n",
       "\n",
       "    .dataframe thead th {\n",
       "        text-align: right;\n",
       "    }\n",
       "</style>\n",
       "<table border=\"1\" class=\"dataframe\">\n",
       "  <thead>\n",
       "    <tr style=\"text-align: right;\">\n",
       "      <th></th>\n",
       "      <th>#id</th>\n",
       "      <th>type</th>\n",
       "      <th>x</th>\n",
       "      <th>y</th>\n",
       "      <th>z</th>\n",
       "      <th>r</th>\n",
       "      <th>pid</th>\n",
       "    </tr>\n",
       "  </thead>\n",
       "  <tbody>\n",
       "    <tr>\n",
       "      <th>643</th>\n",
       "      <td>644</td>\n",
       "      <td>3</td>\n",
       "      <td>4876.32</td>\n",
       "      <td>2212.99</td>\n",
       "      <td>4750</td>\n",
       "      <td>1</td>\n",
       "      <td>645</td>\n",
       "    </tr>\n",
       "    <tr>\n",
       "      <th>644</th>\n",
       "      <td>645</td>\n",
       "      <td>3</td>\n",
       "      <td>4877.14</td>\n",
       "      <td>2213.55</td>\n",
       "      <td>4750</td>\n",
       "      <td>1</td>\n",
       "      <td>-1</td>\n",
       "    </tr>\n",
       "    <tr>\n",
       "      <th>645</th>\n",
       "      <td>646</td>\n",
       "      <td>3</td>\n",
       "      <td>4795.2</td>\n",
       "      <td>2109.6</td>\n",
       "      <td>4785</td>\n",
       "      <td>1</td>\n",
       "      <td>647</td>\n",
       "    </tr>\n",
       "    <tr>\n",
       "      <th>646</th>\n",
       "      <td>647</td>\n",
       "      <td>3</td>\n",
       "      <td>4795.15</td>\n",
       "      <td>2109.6</td>\n",
       "      <td>4784</td>\n",
       "      <td>1</td>\n",
       "      <td>648</td>\n",
       "    </tr>\n",
       "  </tbody>\n",
       "</table>\n",
       "</div>"
      ],
      "text/plain": [
       "     #id type        x        y     z  r  pid\n",
       "643  644    3  4876.32  2212.99  4750  1  645\n",
       "644  645    3  4877.14  2213.55  4750  1   -1\n",
       "645  646    3   4795.2   2109.6  4785  1  647\n",
       "646  647    3  4795.15   2109.6  4784  1  648"
      ]
     },
     "execution_count": 190,
     "metadata": {},
     "output_type": "execute_result"
    }
   ],
   "source": [
    "resampled_annotation_df.iloc[ending_index[10]-2:ending_index[10]+2]\n",
    "#check if its correct"
   ]
  },
  {
   "cell_type": "code",
   "execution_count": 191,
   "metadata": {},
   "outputs": [
    {
     "name": "stdout",
     "output_type": "stream",
     "text": [
      "D:/GF243/GF243D_endings.csv\n"
     ]
    }
   ],
   "source": [
    "m=re.search('AL...D', resample_file)\n",
    "\n",
    "if m:\n",
    "    out_name_endings= outdir[3:]+ f'D_endings.csv'\n",
    "else:\n",
    "    out_name_endings= outdir[3:]+ f'_endings.csv'\n",
    "print(outdir+'/'+out_name_endings)"
   ]
  },
  {
   "cell_type": "code",
   "execution_count": 192,
   "metadata": {},
   "outputs": [
    {
     "name": "stdout",
     "output_type": "stream",
     "text": [
      "Done! File saved in the output directory.\n"
     ]
    }
   ],
   "source": [
    "np.savetxt(outdir+'/'+out_name_endings, ending_index, delimiter=\",\", fmt='%i')\n",
    "print('Done! File saved in the output directory.')"
   ]
  },
  {
   "cell_type": "code",
   "execution_count": null,
   "metadata": {},
   "outputs": [],
   "source": []
  }
 ],
 "metadata": {
  "kernelspec": {
   "display_name": "Python 3",
   "language": "python",
   "name": "python3"
  },
  "language_info": {
   "codemirror_mode": {
    "name": "ipython",
    "version": 3
   },
   "file_extension": ".py",
   "mimetype": "text/x-python",
   "name": "python",
   "nbconvert_exporter": "python",
   "pygments_lexer": "ipython3",
   "version": "3.7.3"
  }
 },
 "nbformat": 4,
 "nbformat_minor": 4
}
