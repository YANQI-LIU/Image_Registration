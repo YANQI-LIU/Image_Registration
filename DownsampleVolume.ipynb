{
 "cells": [
  {
   "cell_type": "markdown",
   "metadata": {},
   "source": [
    "## Create downsampled image from already downsampled masiv stack\n",
    "\n",
    "Requirements:\n",
    "\n",
    "MaSIV downsampled tif stack \n",
    "\n",
    "(for xy resolution of 0.8 or 1, it is better to have the masiv downsample factor multiples of 5 for calculating down sample ratio to avoid floats with many decimal places)\n",
    "\n",
    "user inputs: original resolution, MaSIV downsample factor, goal resolution (10 or 25 um allen atlas), output directory\n"
   ]
  },
  {
   "cell_type": "code",
   "execution_count": 1,
   "metadata": {},
   "outputs": [],
   "source": [
    "import os\n",
    "\n",
    "import tkinter as tk\n",
    "import tkinter.filedialog as fdialog\n",
    "from tkinter import simpledialog\n",
    "# this is the gui for finding directory and files\n",
    "\n",
    "# from PIL import Image\n",
    "#Image.MAX_IMAGE_PIXELS = 1000000000     \n",
    "# this line is needed to load full res image because PIL sees images larger than 36mb as potential decompressed bomb for DOS attacks\n",
    "# here we increase the upper limit of the image size from 89,478,485 (hard coded default value in pil) \n",
    "\n",
    "import skimage\n",
    "from skimage import io\n",
    "from skimage import transform as tf\n",
    "\n",
    "import numpy as np\n",
    "\n",
    "import matplotlib.pyplot as plt"
   ]
  },
  {
   "cell_type": "code",
   "execution_count": 2,
   "metadata": {},
   "outputs": [],
   "source": [
    "# Select the directory containing already stitched planes from stitchit (Rob code)\n",
    "stack=fdialog.askopenfile(initialdir='Z:\\\\', title='select the MaSIVed stack to be further downsampled').name                               \n",
    "\n",
    "# User input required for raw xyz resolution and goal dimension\n",
    "xy = simpledialog.askfloat(\"Input\", \"What is the x and y resolution in um?\",\n",
    "                               minvalue=0.0, maxvalue=100)\n",
    "z = simpledialog.askfloat(\"Input\", \"What is the z resolution in um?\",\n",
    "                               minvalue=0.0, maxvalue=100)\n",
    "goal_xyz = simpledialog.askfloat(\"Input\", \"What do you want to downsample the resolution to '(in um)' ?\",\n",
    "                               minvalue=10, maxvalue=100)\n",
    "\n",
    "outdir = fdialog.askdirectory(title='Please select the output directory')"
   ]
  },
  {
   "cell_type": "code",
   "execution_count": null,
   "metadata": {
    "scrolled": true
   },
   "outputs": [],
   "source": [
    "masiv_ds=stack[stack.find('_DS')+len('_DS'):stack.rfind('.tif')]\n",
    "masiv_ds=float(masiv_ds)\n",
    "masiv_xy= round (xy*masiv_ds,2)\n",
    "print (f'MASIV stack is downsampled : {masiv_ds}, The masiv stack is : {masiv_xy} um/pixels') \n",
    "# note that this gives a float and have many decimal places which the end digit is non-zero\n",
    "# for avoiding confusion we keep the 2 decimal places"
   ]
  },
  {
   "cell_type": "code",
   "execution_count": 3,
   "metadata": {},
   "outputs": [],
   "source": [
    "masiv_xy=5"
   ]
  },
  {
   "cell_type": "code",
   "execution_count": 4,
   "metadata": {},
   "outputs": [
    {
     "data": {
      "text/plain": [
       "'Sample resolution is (5.0, 5.0, 5.0) um in x y z. downsampling to 25.0 um. dowmsample ratio is xy = 5.0 and z = 5.0.'"
      ]
     },
     "execution_count": 4,
     "metadata": {},
     "output_type": "execute_result"
    }
   ],
   "source": [
    "# displays origional resolution, goal, and calculated ratio for downsampling\n",
    "ratioxy= round (goal_xyz/masiv_xy, 3)\n",
    "ratioz=goal_xyz/z\n",
    "\n",
    "message = (f\"Sample resolution is {xy, xy, z} um in x y z. \"\n",
    "f\"downsampling to {goal_xyz} um. \"\n",
    "f\"dowmsample ratio is xy = {ratioxy} and z = {ratioz}.\")\n",
    "\n",
    "message\n"
   ]
  },
  {
   "cell_type": "markdown",
   "metadata": {},
   "source": [
    "### Downsampling\n",
    "\n",
    "Load entire tiff stack\n",
    "First read and resample the xy planes using skimage, loop through each z\n",
    "Then store all the the downsampled xy in a numpy array\n",
    "finally resample z (ie, do xz or yz, downsample for 1 and 5 times)\n",
    "\n",
    "note that here we use the NearestNeighbor for resizing (defined by the **order** parameter in skimage.transform.resize)\n",
    "\n",
    "<u>0: Nearest-neighbor</u> 1: Bi-linear (default) 2: Bi-quadratic 3: Bi-cubic 4: Bi-quartic 5: Bi-quintic\n",
    "\n",
    "(Helpful info on what these do: https://dsp.stackexchange.com/questions/707/what-are-the-practically-relevant-differences-between-various-image-resampling-m\n",
    "\n",
    "and https://en.wikipedia.org/wiki/Image_scaling)\n",
    "\n",
    "__IMPORTANTA__: from 0 to 5 there is an increase in smoothness which is what we want/not want.\n",
    "\n",
    "When downsampling images that we want our <u> signal to popout</u>  , we want the **nearest neighbor**,and also to turn the **antialiasing off** (a gaussian filter to increase smoothness)\n",
    "\n",
    "When downsampling single cell data , we just want a <u>nice smooth image</u>  for better registration. Use **bilinear** and turn **antialiasing on**\n",
    "\n",
    "skimage.transform.downscale_local_mean only allows downsamples by an integer factor"
   ]
  },
  {
   "cell_type": "code",
   "execution_count": null,
   "metadata": {
    "jupyter": {
     "source_hidden": true
    }
   },
   "outputs": [],
   "source": [
    "#Old code for reading directly into single xy planes from stitched image 100, replaced by reading downsampled stack from masiv to save time\n",
    "\n",
    "# os.chdir(tempdir)\n",
    "# image_path = [os.path.abspath(x) for x in os.listdir(tempdir)]\n",
    "# print(image_path[0])\n",
    "\n",
    "# # pre-define original image size and downsampled image size since all images have the same xy\n",
    "# im = image.open(image_path[0], mode='r')\n",
    "# w, h = im.size\n",
    "# new_imagesize= [round(w/ratioxy), round(h/ratioxy)]"
   ]
  },
  {
   "cell_type": "code",
   "execution_count": 5,
   "metadata": {},
   "outputs": [
    {
     "name": "stdout",
     "output_type": "stream",
     "text": [
      "(1467, 2048, 2048)\n",
      "new shape of the data is  x y z= (409, 409, 293)\n"
     ]
    }
   ],
   "source": [
    "im = io.imread(stack)\n",
    "#reads the entire image stack into memory (huge, takes about 5min to read a 25gb stack)\n",
    "\n",
    "z,y,x= im.shape\n",
    "print (im.shape) \n",
    "#shape is now z, y (rows), x(columns)\n",
    "\n",
    "new_rows=int(y/ratioxy)\n",
    "new_col=int(x/ratioxy)\n",
    "new_z=int(z/ratioz)\n",
    "tifarray = np.zeros([new_rows, new_col, z])\n",
    "\n",
    "print( f'new shape of the data is  x y z= {new_rows, new_col, new_z}')"
   ]
  },
  {
   "cell_type": "code",
   "execution_count": 6,
   "metadata": {},
   "outputs": [],
   "source": [
    "#downsampling in xy, again takes long . Almost hitting the memory\n",
    "for i in range (z):\n",
    "    new_xyplane=tf.resize(im[i,:,:],[new_rows, new_col], order=1, anti_aliasing=1)\n",
    "    tifarray[:,:,i]= new_xyplane"
   ]
  },
  {
   "cell_type": "code",
   "execution_count": 7,
   "metadata": {},
   "outputs": [
    {
     "data": {
      "text/plain": [
       "<matplotlib.image.AxesImage at 0x26cae493470>"
      ]
     },
     "execution_count": 7,
     "metadata": {},
     "output_type": "execute_result"
    },
    {
     "data": {
      "image/png": "[encoded data removed]",
      "text/plain": [
       "<Figure size 432x288 with 1 Axes>"
      ]
     },
     "metadata": {
      "needs_background": "light"
     },
     "output_type": "display_data"
    }
   ],
   "source": [
    "# test to see if things worked\n",
    "plt.imshow(tifarray[:,:,136])"
   ]
  },
  {
   "cell_type": "code",
   "execution_count": 25,
   "metadata": {},
   "outputs": [],
   "source": [
    "# plt.imshow(np.roll(tifarray[:,:,135], -65, axis=0))"
   ]
  },
  {
   "cell_type": "code",
   "execution_count": null,
   "metadata": {
    "jupyter": {
     "source_hidden": true
    }
   },
   "outputs": [],
   "source": [
    "# # Specific to AL077 where imaging field of view is shifted upward by 26pixels (25um resolution), or 65 (10um resolution) between slice 136 and 137  (135 and 136 in python index)\n",
    "\n",
    "\n",
    "# for numbers in range(136):\n",
    "#     temp= tifarray[:,:,numbers]\n",
    "#     aligned= np.roll(temp, -65, axis=0)\n",
    "#     tifarray[:,:,numbers]=aligned\n",
    "# # plt.imshow(np.roll(aligned, -26, axis=0))\n",
    "\n",
    "# #FOR AL077 ONLY"
   ]
  },
  {
   "cell_type": "code",
   "execution_count": 8,
   "metadata": {},
   "outputs": [],
   "source": [
    "del im\n",
    "# to save memory, especially for downsampling to 10um voxels"
   ]
  },
  {
   "cell_type": "code",
   "execution_count": 9,
   "metadata": {},
   "outputs": [],
   "source": [
    "#down sampling in z using yz plane (can use xz plane also). This time is very fast\n",
    "tifarray2 = np.zeros([new_rows, new_col, new_z])\n",
    "\n",
    "if ratioz==1:\n",
    "    print('z axis is not downsampled')\n",
    "    tifarray2=tifarray\n",
    "else:\n",
    "    tifarray2 = np.zeros([new_rows, new_col, new_z])\n",
    "    for i in range (new_rows):\n",
    "        new_xyplane=tf.resize(tifarray[i,:,:], [new_col, new_z], order=0, anti_aliasing=0)\n",
    "        tifarray2[i,:,:,]= new_xyplane"
   ]
  },
  {
   "cell_type": "code",
   "execution_count": 10,
   "metadata": {},
   "outputs": [],
   "source": [
    "del tifarray\n",
    "#save memory"
   ]
  },
  {
   "cell_type": "code",
   "execution_count": 11,
   "metadata": {},
   "outputs": [
    {
     "data": {
      "text/plain": [
       "<matplotlib.image.AxesImage at 0x26cae692908>"
      ]
     },
     "execution_count": 11,
     "metadata": {},
     "output_type": "execute_result"
    },
    {
     "data": {
      "image/png": "[encoded data removed]",
      "text/plain": [
       "<Figure size 432x288 with 1 Axes>"
      ]
     },
     "metadata": {
      "needs_background": "light"
     },
     "output_type": "display_data"
    }
   ],
   "source": [
    "# test to see if things worked. This should show saggital section if masiv stack is coronal\n",
    "plt.jet()\n",
    "plt.imshow(tifarray2[:,300,:])"
   ]
  },
  {
   "cell_type": "code",
   "execution_count": 12,
   "metadata": {},
   "outputs": [
    {
     "data": {
      "text/plain": [
       "<matplotlib.image.AxesImage at 0x26cae384e48>"
      ]
     },
     "execution_count": 12,
     "metadata": {},
     "output_type": "execute_result"
    },
    {
     "data": {
      "image/png": "[encoded data removed]",
      "text/plain": [
       "<Figure size 432x288 with 1 Axes>"
      ]
     },
     "metadata": {
      "needs_background": "light"
     },
     "output_type": "display_data"
    }
   ],
   "source": [
    "# test to see if things worked. This should show horizontal section if masiv stack is coronal\n",
    "plt.imshow(tifarray2[150,:,:])"
   ]
  },
  {
   "cell_type": "code",
   "execution_count": 13,
   "metadata": {},
   "outputs": [
    {
     "data": {
      "text/plain": [
       "<matplotlib.image.AxesImage at 0x26cae3ec160>"
      ]
     },
     "execution_count": 13,
     "metadata": {},
     "output_type": "execute_result"
    },
    {
     "data": {
      "image/png": "[encoded data removed]",
      "text/plain": [
       "<Figure size 432x288 with 1 Axes>"
      ]
     },
     "metadata": {
      "needs_background": "light"
     },
     "output_type": "display_data"
    }
   ],
   "source": [
    "# This cell is to change horizontal images to coronal planes, usually for images acquired with mesospim and COLM !!\n",
    "tifarray_transpose = np.swapaxes(tifarray2, 0,2)\n",
    "plt.imshow(tifarray_transpose[:,:,150])"
   ]
  },
  {
   "cell_type": "code",
   "execution_count": 14,
   "metadata": {},
   "outputs": [
    {
     "name": "stderr",
     "output_type": "stream",
     "text": [
      "C:\\Users\\liu\\AppData\\Local\\Continuum\\anaconda3\\lib\\site-packages\\skimage\\util\\dtype.py:135: UserWarning: Possible precision loss when converting from float64 to uint16\n",
      "  .format(dtypeobj_in, dtypeobj_out))\n"
     ]
    }
   ],
   "source": [
    "# imguint16=skimage.img_as_uint(tifarray2)\n",
    "# need to convert float64 (tifarray2) to uint before saving as mhd\n",
    "imguint16=skimage.img_as_uint(tifarray_transpose)\n"
   ]
  },
  {
   "cell_type": "code",
   "execution_count": null,
   "metadata": {
    "jupyter": {
     "source_hidden": true
    }
   },
   "outputs": [],
   "source": [
    "# # saving the downsampled output\n",
    "# io.imsave('AL08025um.mhd', stuff[:,:,300], plugin= 'simpleitk')\n",
    "# #this only works on saving 2d images..."
   ]
  },
  {
   "cell_type": "code",
   "execution_count": 15,
   "metadata": {},
   "outputs": [],
   "source": [
    "coronal_planetmp= np.swapaxes(imguint16,0,2)\n",
    "#for some reason, if just save stuff as tiff, it will save y planes of xz view although the origonal matrix is arranged as y x z\n",
    "#here we shift the 3rd dimension with the first dimension to obtain xy view\n",
    "\n",
    "coronal_plane= np.swapaxes(coronal_planetmp,1,2)\n",
    "#saving stuff2 gave coronal image but rotated 90degrees anticlockwise\n",
    "#rotate the col(1) with row(2) now to get normal coronal view\n"
   ]
  },
  {
   "cell_type": "code",
   "execution_count": 16,
   "metadata": {},
   "outputs": [
    {
     "data": {
      "text/plain": [
       "'AL219_25.0um.tiff'"
      ]
     },
     "execution_count": 16,
     "metadata": {},
     "output_type": "execute_result"
    }
   ],
   "source": [
    "out_name= outdir[3:8]+f'_{goal_xyz}um.tiff'\n",
    "out_name"
   ]
  },
  {
   "cell_type": "code",
   "execution_count": 17,
   "metadata": {},
   "outputs": [],
   "source": [
    "os.chdir(outdir)\n",
    "io.imsave(out_name, coronal_plane)"
   ]
  },
  {
   "cell_type": "markdown",
   "metadata": {},
   "source": [
    "### currently need to manually save this as .mhd file in imageJ\n",
    "Which is ok for now, since need to open in imageJ anyways to crop the template and atlas\n",
    "\n",
    "To do, find out how to use simpleitk for 3d mhd file"
   ]
  }
 ],
 "metadata": {
  "kernelspec": {
   "display_name": "Python 3",
   "language": "python",
   "name": "python3"
  },
  "language_info": {
   "codemirror_mode": {
    "name": "ipython",
    "version": 3
   },
   "file_extension": ".py",
   "mimetype": "text/x-python",
   "name": "python",
   "nbconvert_exporter": "python",
   "pygments_lexer": "ipython3",
   "version": "3.7.3"
  }
 },
 "nbformat": 4,
 "nbformat_minor": 4
}
