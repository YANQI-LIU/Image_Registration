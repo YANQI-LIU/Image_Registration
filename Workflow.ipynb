{
 "cells": [
  {
   "cell_type": "markdown",
   "metadata": {},
   "source": [
    "## Work flow for single cell tracing analysis\n",
    "\n",
    "1. Convert annotations to um units\n",
    "2. (V3d) Resample in 1um steps\n",
    "3. Downsample to 25ums, will also generate indices for endings\n",
    "4. (Console) Transform points according to how the sample was aligned to template (run Transform_points.py under elastix directory)\n",
    "5. Identify points in the corresponding atlas\n",
    "6. Make tiff stack with points only, in full z sections (functional for sample imaged in coronal plane, \n",
    "\n",
    "WIP for samples in horizontal consider that both AP and DV planes were cut...)\n",
    "\n",
    "\n",
    "### update august 2021 for anatomy MS\n",
    "\n",
    "to generate tiff stacks for axons and dendrite as well as region with counts in excel files"
   ]
  },
  {
   "cell_type": "code",
   "execution_count": 1,
   "metadata": {},
   "outputs": [],
   "source": [
    "import os\n",
    "import tkinter.filedialog as fdialog\n",
    "import Neuron_analysis as na\n",
    "from Neuron_analysis import *\n",
    "import numpy as np\n",
    "\n",
    "import pandas as pd\n",
    "import SimpleITK as sitk\n"
   ]
  },
  {
   "cell_type": "code",
   "execution_count": 2,
   "metadata": {},
   "outputs": [
    {
     "ename": "AttributeError",
     "evalue": "'NoneType' object has no attribute 'name'",
     "output_type": "error",
     "traceback": [
      "\u001b[1;31m---------------------------------------------------------------------------\u001b[0m",
      "\u001b[1;31mAttributeError\u001b[0m                            Traceback (most recent call last)",
      "\u001b[1;32m<ipython-input-2-dfbcf51374f9>\u001b[0m in \u001b[0;36m<module>\u001b[1;34m\u001b[0m\n\u001b[1;32m----> 1\u001b[1;33m \u001b[0mna\u001b[0m\u001b[1;33m.\u001b[0m\u001b[0mpoints\u001b[0m\u001b[1;33m.\u001b[0m\u001b[0mconvert_anno\u001b[0m\u001b[1;33m(\u001b[0m\u001b[1;33m)\u001b[0m\u001b[1;33m\u001b[0m\u001b[1;33m\u001b[0m\u001b[0m\n\u001b[0m\u001b[0;32m      2\u001b[0m \u001b[1;31m# repeat for both axons and dendrites\u001b[0m\u001b[1;33m\u001b[0m\u001b[1;33m\u001b[0m\u001b[1;33m\u001b[0m\u001b[0m\n",
      "\u001b[1;32m~\\Image_registration\\Neuron_analysis\\points.py\u001b[0m in \u001b[0;36mconvert_anno\u001b[1;34m()\u001b[0m\n\u001b[0;32m     21\u001b[0m     \u001b[0mz\u001b[0m \u001b[1;33m=\u001b[0m \u001b[1;36m5\u001b[0m\u001b[1;33m\u001b[0m\u001b[1;33m\u001b[0m\u001b[0m\n\u001b[0;32m     22\u001b[0m     \u001b[0moutdir\u001b[0m \u001b[1;33m=\u001b[0m \u001b[0mfdialog\u001b[0m\u001b[1;33m.\u001b[0m\u001b[0maskdirectory\u001b[0m\u001b[1;33m(\u001b[0m\u001b[0mtitle\u001b[0m\u001b[1;33m=\u001b[0m\u001b[1;34m'Please select the output directory'\u001b[0m\u001b[1;33m)\u001b[0m\u001b[1;33m\u001b[0m\u001b[1;33m\u001b[0m\u001b[0m\n\u001b[1;32m---> 23\u001b[1;33m     \u001b[0manno_file\u001b[0m\u001b[1;33m=\u001b[0m\u001b[0mfdialog\u001b[0m\u001b[1;33m.\u001b[0m\u001b[0maskopenfile\u001b[0m\u001b[1;33m(\u001b[0m\u001b[0minitialdir\u001b[0m\u001b[1;33m=\u001b[0m\u001b[0moutdir\u001b[0m\u001b[1;33m,\u001b[0m \u001b[0mtitle\u001b[0m\u001b[1;33m=\u001b[0m\u001b[1;34m'Select the eswc file containing the annotations'\u001b[0m\u001b[1;33m)\u001b[0m\u001b[1;33m.\u001b[0m\u001b[0mname\u001b[0m\u001b[1;33m\u001b[0m\u001b[1;33m\u001b[0m\u001b[0m\n\u001b[0m\u001b[0;32m     24\u001b[0m     \u001b[0mprint\u001b[0m\u001b[1;33m(\u001b[0m\u001b[1;34m'Converting pixels to ums....'\u001b[0m\u001b[1;33m)\u001b[0m\u001b[1;33m\u001b[0m\u001b[1;33m\u001b[0m\u001b[0m\n\u001b[0;32m     25\u001b[0m \u001b[1;33m\u001b[0m\u001b[0m\n",
      "\u001b[1;31mAttributeError\u001b[0m: 'NoneType' object has no attribute 'name'"
     ]
    }
   ],
   "source": [
    "na.points.convert_anno()\n",
    "# repeat for both axons and dendrites"
   ]
  },
  {
   "cell_type": "markdown",
   "metadata": {},
   "source": [
    "#### Now, go to v3d and resample these files in 1um steps\n",
    "Under vaa3d plugin- resample. Repeat for both axons and dendrites\n",
    "\n",
    "Then come back and proceed to next step"
   ]
  },
  {
   "cell_type": "code",
   "execution_count": 4,
   "metadata": {},
   "outputs": [
    {
     "name": "stdout",
     "output_type": "stream",
     "text": [
      "Resampled annotation step size is 1 um in x y z. downsampling to 25 um. dowmsample ratio is 25.0.\n"
     ]
    },
    {
     "name": "stdin",
     "output_type": "stream",
     "text": [
      "Press Enter to continue... \n"
     ]
    },
    {
     "name": "stdout",
     "output_type": "stream",
     "text": [
      "AL131_25voxel_trace_1umStepsize.txt\n",
      "Downsampling annotation done.\n"
     ]
    }
   ],
   "source": [
    "na.points.downsample_anno()\n",
    "# repeat for both axons and dendrites"
   ]
  },
  {
   "cell_type": "markdown",
   "metadata": {},
   "source": [
    "#### For sample2ara\n",
    "to console and transform these points\n",
    "use Transform_points.py"
   ]
  },
  {
   "cell_type": "markdown",
   "metadata": {},
   "source": [
    "## two methods converge for the section below"
   ]
  },
  {
   "cell_type": "code",
   "execution_count": 2,
   "metadata": {},
   "outputs": [],
   "source": [
    "in_dir = fdialog.askdirectory(title='Please select the input directory')\n",
    "# ie: D:\\2PT electroporation time\\AL066\n",
    "axon= fdialog.askopenfilename(title='Selecte the transformed points for axons')\n",
    "dendrite= fdialog.askopenfilename(title='Selecte the transformed points for dendrites')"
   ]
  },
  {
   "cell_type": "code",
   "execution_count": 38,
   "metadata": {},
   "outputs": [],
   "source": [
    "# files= os.listdir(in_dir)\n",
    "# ending_files= [os.path.join(in_dir,i) for i in files if '_endings' in i]\n",
    "# axon_ending= [i for i in ending_files if 'D_' not in i][0]\n",
    "# dendrite_ending=[i for i in ending_files if 'D_' in i][0]\n"
   ]
  },
  {
   "cell_type": "code",
   "execution_count": 3,
   "metadata": {},
   "outputs": [],
   "source": [
    "out_dir='D:/Complete_points/'\n",
    "mouse_name=na.find_mousename(in_dir)\n",
    "out_name=out_dir+mouse_name"
   ]
  },
  {
   "cell_type": "code",
   "execution_count": 18,
   "metadata": {},
   "outputs": [],
   "source": []
  },
  {
   "cell_type": "markdown",
   "metadata": {},
   "source": [
    "### old section\n",
    "\n",
    "mostly for sample 2ara files"
   ]
  },
  {
   "cell_type": "code",
   "execution_count": 6,
   "metadata": {},
   "outputs": [
    {
     "name": "stdout",
     "output_type": "stream",
     "text": [
      "Starting to saving tif files..\n"
     ]
    },
    {
     "name": "stderr",
     "output_type": "stream",
     "text": [
      "C:\\Users\\liu\\AppData\\Local\\Continuum\\anaconda3\\lib\\site-packages\\skimage\\io\\_io.py:141: UserWarning: D:/Complete_points/AL175_axons.tif is a low contrast image\n",
      "  warn('%s is a low contrast image' % fname)\n"
     ]
    }
   ],
   "source": [
    "points,atlas_name=na.get_pt_natlas(file_type,in_dir,full=False)\n",
    "# reads in the points and get the corresponding atlas(cropped version cus we need to extract the cropped plane from its name)\n",
    "na.find_crop(atlas_name)\n",
    "# extract the cropped sections ie. section 100-394\n",
    "points_full=na.points.refill_section(points,atlas_name)\n",
    "# fills in the missing section by adding the leading slice to the z coordinates of the downsampled points\n",
    "na.atlas.make_tif(points_full, na.fullatlas_name,out_dir+mouse_name, is_axon)\n",
    "# projects the downsampled points(now in full z plane) to a tiff file, now ready to merge with the complete atlas and template"
   ]
  },
  {
   "cell_type": "code",
   "execution_count": 13,
   "metadata": {},
   "outputs": [],
   "source": [
    "region_counts, points_in_atlas=na.points.make_pd(points_full,file_ending,out_name,is_axon)\n",
    "# find the corresponding atlas ID for each point, store in pd datafile with counts for main and ends\n",
    "# also outputs an excel file\n",
    "na.points.make_point_csv(points_full, points_in_atlas,out_name,is_axon)\n",
    "# outputs a csv file with downsampled points and their associated id"
   ]
  },
  {
   "cell_type": "code",
   "execution_count": 14,
   "metadata": {},
   "outputs": [],
   "source": [
    "na.points.check_points(points_in_atlas)\n",
    "# check for IDs that are without atlas label"
   ]
  },
  {
   "cell_type": "code",
   "execution_count": 15,
   "metadata": {},
   "outputs": [],
   "source": [
    "points_original= fdialog.askopenfilename(title='Selecte the original resampled points')\n",
    "# asks for the non-downsampled annotation, usually the eswc file that has been converted to um and resampled at 1 um steps\n",
    "# typically in petersen server analysis folder\n",
    "\n",
    "original_withID=na.points.findID_origional(points_original, points_in_atlas,out_name,is_axon)\n",
    "#makes a csv file with original points and their associated id\n"
   ]
  },
  {
   "cell_type": "code",
   "execution_count": 89,
   "metadata": {},
   "outputs": [
    {
     "name": "stdin",
     "output_type": "stream",
     "text": [
      "what is it that you look for? 484682528\n"
     ]
    },
    {
     "name": "stdout",
     "output_type": "stream",
     "text": [
      "Atlas id= 529    484682528\n",
      "Name: id, dtype: int64\n",
      "Name= 529    commissural branch of stria terminalis\n",
      "Name: safe_name, dtype: object\n",
      "Hemisphere= 529    3\n",
      "Name: hemisphere_id, dtype: int64\n"
     ]
    }
   ],
   "source": [
    "na.whatis()"
   ]
  },
  {
   "cell_type": "code",
   "execution_count": 23,
   "metadata": {},
   "outputs": [],
   "source": [
    "points,atlas_name=na.get_pt_natlas(file_type,in_dir,full=False)\n"
   ]
  },
  {
   "cell_type": "code",
   "execution_count": 26,
   "metadata": {},
   "outputs": [
    {
     "ename": "TypeError",
     "evalue": "'NoneType' object is not subscriptable",
     "output_type": "error",
     "traceback": [
      "\u001b[1;31m---------------------------------------------------------------------------\u001b[0m",
      "\u001b[1;31mTypeError\u001b[0m                                 Traceback (most recent call last)",
      "\u001b[1;32m<ipython-input-26-9cf9495d5104>\u001b[0m in \u001b[0;36m<module>\u001b[1;34m\u001b[0m\n\u001b[1;32m----> 1\u001b[1;33m \u001b[0mna\u001b[0m\u001b[1;33m.\u001b[0m\u001b[0mfind_crop\u001b[0m\u001b[1;33m(\u001b[0m\u001b[0matlas_name\u001b[0m\u001b[1;33m)\u001b[0m\u001b[1;33m\u001b[0m\u001b[1;33m\u001b[0m\u001b[0m\n\u001b[0m",
      "\u001b[1;32m~\\Image_registration\\Neuron_analysis\\__init__.py\u001b[0m in \u001b[0;36mfind_crop\u001b[1;34m(name)\u001b[0m\n\u001b[0;32m     36\u001b[0m     \u001b[0mfinds\u001b[0m \u001b[0mthe\u001b[0m \u001b[0mmissing\u001b[0m \u001b[0msection\u001b[0m \u001b[1;32min\u001b[0m \u001b[0mz\u001b[0m \u001b[0mcoronal\u001b[0m \u001b[0mplane\u001b[0m \u001b[0mto\u001b[0m \u001b[0mtransform\u001b[0m \u001b[0mback\u001b[0m \u001b[0mto\u001b[0m \u001b[0moriginal\u001b[0m \u001b[0mfull\u001b[0m \u001b[0mspan\u001b[0m\u001b[1;33m(\u001b[0m\u001b[1;36m1\u001b[0m\u001b[1;33m-\u001b[0m\u001b[1;36m528\u001b[0m\u001b[1;33m)\u001b[0m\u001b[1;33m\u001b[0m\u001b[1;33m\u001b[0m\u001b[0m\n\u001b[0;32m     37\u001b[0m     For exmaple, for atlas_104-400.mhd, will output 103,128'''\n\u001b[1;32m---> 38\u001b[1;33m     \u001b[0mm\u001b[0m\u001b[1;33m=\u001b[0m \u001b[0mre\u001b[0m\u001b[1;33m.\u001b[0m\u001b[0msearch\u001b[0m\u001b[1;33m(\u001b[0m\u001b[1;34m\"[0-9]{2,3}.[0-9]{3}\"\u001b[0m\u001b[1;33m,\u001b[0m\u001b[0mname\u001b[0m\u001b[1;33m)\u001b[0m\u001b[1;33m[\u001b[0m\u001b[1;36m0\u001b[0m\u001b[1;33m]\u001b[0m\u001b[1;33m\u001b[0m\u001b[1;33m\u001b[0m\u001b[0m\n\u001b[0m\u001b[0;32m     39\u001b[0m     \u001b[0mto_add\u001b[0m\u001b[1;33m=\u001b[0m \u001b[0mm\u001b[0m\u001b[1;33m.\u001b[0m\u001b[0msplit\u001b[0m\u001b[1;33m(\u001b[0m\u001b[1;34m'-'\u001b[0m\u001b[1;33m)\u001b[0m\u001b[1;33m\u001b[0m\u001b[1;33m\u001b[0m\u001b[0m\n\u001b[0;32m     40\u001b[0m     \u001b[0mlead\u001b[0m\u001b[1;33m=\u001b[0m \u001b[0mint\u001b[0m\u001b[1;33m(\u001b[0m\u001b[0mto_add\u001b[0m\u001b[1;33m[\u001b[0m\u001b[1;36m0\u001b[0m\u001b[1;33m]\u001b[0m\u001b[1;33m)\u001b[0m\u001b[1;33m-\u001b[0m\u001b[1;36m1\u001b[0m\u001b[1;33m\u001b[0m\u001b[1;33m\u001b[0m\u001b[0m\n",
      "\u001b[1;31mTypeError\u001b[0m: 'NoneType' object is not subscriptable"
     ]
    }
   ],
   "source": [
    "na.find_crop(atlas_name)\n"
   ]
  },
  {
   "cell_type": "markdown",
   "metadata": {},
   "source": [
    "## update aug 2021 for anatomy MS\n",
    "## for ara2sample "
   ]
  },
  {
   "cell_type": "code",
   "execution_count": 4,
   "metadata": {},
   "outputs": [],
   "source": [
    "##useful functions\n",
    "\n",
    "def check_points(points_in_atlas):\n",
    "    '''Checks whether all your points' ID is within the atlas labels\n",
    "    Input: matching ID of the points (this is the second output from na.make_pd)\n",
    "    '''\n",
    "    id_inatlas=[]\n",
    "    for x in atlas_labels['region_id']:\n",
    "        intID = int(x)\n",
    "        id_inatlas.append(intID)\n",
    "\n",
    "    # need to format this first ourselves,otherwise problematic for 0 and very large numbers (idk why)    \n",
    "\n",
    "    num_of_zeros = [i for i, x in enumerate(points_in_atlas) if x == 0]\n",
    "    # find the indices for which carries an id =0\n",
    "    \n",
    "    unique_id=set(points_in_atlas)\n",
    "    \n",
    "    for id_inbrain in unique_id:\n",
    "        if id_inbrain not in id_inatlas:\n",
    "            if id_inbrain==0:\n",
    "                print(f'There are {len(num_of_zeros)} points with ID= {id_inbrain}, this index is outside of the brain, consider possible suboptimal image registration')\n",
    "            else: \n",
    "                print(id_inbrain,'this index does not exist in allen reference atlas, see https://github.com/ChristophKirst/ClearMap/issues/37')\n",
    "            warnings.warn('Some points do not have corresponding labels')\n",
    "    return \n"
   ]
  },
  {
   "cell_type": "code",
   "execution_count": 7,
   "metadata": {},
   "outputs": [],
   "source": [
    "atlas_labels=pd.read_csv('D:\\Allenbrainatlas\\ARA_25_micron_mhd_ccf2017\\wraped\\ccf_2017_itksnap_labels.csv', sep=',')\n"
   ]
  },
  {
   "cell_type": "code",
   "execution_count": 6,
   "metadata": {},
   "outputs": [],
   "source": [
    "is_axon=1\n",
    "\n",
    "if is_axon==1:\n",
    "    file_type=axon\n",
    "elif is_axon==0:\n",
    "    file_type=dendrite\n",
    "# put 0 if working with dendrites"
   ]
  },
  {
   "cell_type": "code",
   "execution_count": 7,
   "metadata": {},
   "outputs": [],
   "source": [
    "points,atlas_name=na.get_pt_natlas(file_type,in_dir)\n",
    "# read points and get path name of the corresponding atlas"
   ]
  },
  {
   "cell_type": "code",
   "execution_count": 8,
   "metadata": {},
   "outputs": [
    {
     "data": {
      "text/plain": [
       "'D:/2PT electroporation time/AL092/ara2sample_atlas/result.mhd'"
      ]
     },
     "execution_count": 8,
     "metadata": {},
     "output_type": "execute_result"
    }
   ],
   "source": [
    "atlas_name"
   ]
  },
  {
   "cell_type": "code",
   "execution_count": 73,
   "metadata": {},
   "outputs": [
    {
     "name": "stdout",
     "output_type": "stream",
     "text": [
      "Starting to saving tif files..\n"
     ]
    },
    {
     "name": "stderr",
     "output_type": "stream",
     "text": [
      "C:\\Users\\liu\\AppData\\Local\\Continuum\\anaconda3\\lib\\site-packages\\skimage\\io\\_io.py:141: UserWarning: D:/Complete_points/AL140_axons.tif is a low contrast image\n",
      "  warn('%s is a low contrast image' % fname)\n"
     ]
    }
   ],
   "source": [
    "if is_axon :\n",
    "    na.atlas.make_tif_1(points, atlas_name,out_dir+mouse_name, is_axon)\n",
    "else:\n",
    "    na.atlas.make_tif(points, atlas_name,out_dir+mouse_name, is_axon)\n",
    "# save points as a tiff file for visualization and overlay\n",
    "# for dendrites, keep the intensities different since...its too cramped up and will look bad!"
   ]
  },
  {
   "cell_type": "code",
   "execution_count": 9,
   "metadata": {},
   "outputs": [],
   "source": [
    "points_in_atlas= na.points.find_point_id(points,atlas_name)\n",
    "# find id of points in corresponding atlas"
   ]
  },
  {
   "cell_type": "code",
   "execution_count": 10,
   "metadata": {},
   "outputs": [
    {
     "name": "stdout",
     "output_type": "stream",
     "text": [
      "There are 36 points with ID= 0, this index is outside of the brain, consider possible suboptimal image registration\n"
     ]
    },
    {
     "ename": "NameError",
     "evalue": "name 'warnings' is not defined",
     "output_type": "error",
     "traceback": [
      "\u001b[1;31m---------------------------------------------------------------------------\u001b[0m",
      "\u001b[1;31mNameError\u001b[0m                                 Traceback (most recent call last)",
      "\u001b[1;32m<ipython-input-10-a710fdb02aca>\u001b[0m in \u001b[0;36m<module>\u001b[1;34m\u001b[0m\n\u001b[1;32m----> 1\u001b[1;33m \u001b[0mcheck_points\u001b[0m\u001b[1;33m(\u001b[0m\u001b[0mpoints_in_atlas\u001b[0m\u001b[1;33m)\u001b[0m\u001b[1;33m\u001b[0m\u001b[1;33m\u001b[0m\u001b[0m\n\u001b[0m\u001b[0;32m      2\u001b[0m \u001b[1;31m#we should only see id=0 as possibility now since now is using the itksnap_wraped atlas\u001b[0m\u001b[1;33m\u001b[0m\u001b[1;33m\u001b[0m\u001b[1;33m\u001b[0m\u001b[0m\n",
      "\u001b[1;32m<ipython-input-4-34af62f18265>\u001b[0m in \u001b[0;36mcheck_points\u001b[1;34m(points_in_atlas)\u001b[0m\n\u001b[0;32m     23\u001b[0m             \u001b[1;32melse\u001b[0m\u001b[1;33m:\u001b[0m\u001b[1;33m\u001b[0m\u001b[1;33m\u001b[0m\u001b[0m\n\u001b[0;32m     24\u001b[0m                 \u001b[0mprint\u001b[0m\u001b[1;33m(\u001b[0m\u001b[0mid_inbrain\u001b[0m\u001b[1;33m,\u001b[0m\u001b[1;34m'this index does not exist in allen reference atlas, see https://github.com/ChristophKirst/ClearMap/issues/37'\u001b[0m\u001b[1;33m)\u001b[0m\u001b[1;33m\u001b[0m\u001b[1;33m\u001b[0m\u001b[0m\n\u001b[1;32m---> 25\u001b[1;33m             \u001b[0mwarnings\u001b[0m\u001b[1;33m.\u001b[0m\u001b[0mwarn\u001b[0m\u001b[1;33m(\u001b[0m\u001b[1;34m'Some points do not have corresponding labels'\u001b[0m\u001b[1;33m)\u001b[0m\u001b[1;33m\u001b[0m\u001b[1;33m\u001b[0m\u001b[0m\n\u001b[0m\u001b[0;32m     26\u001b[0m     \u001b[1;32mreturn\u001b[0m\u001b[1;33m\u001b[0m\u001b[1;33m\u001b[0m\u001b[0m\n",
      "\u001b[1;31mNameError\u001b[0m: name 'warnings' is not defined"
     ]
    }
   ],
   "source": [
    "check_points(points_in_atlas)\n",
    "#we should only see id=0 as possibility now since now is using the itksnap_wraped atlas"
   ]
  },
  {
   "cell_type": "code",
   "execution_count": 12,
   "metadata": {},
   "outputs": [],
   "source": [
    "points_in_atlas= np.where(points_in_atlas==0, 844, points_in_atlas) \n",
    "# replace id= 0 with 844 (ssp-bfd layer1)\n",
    "\n",
    "if is_axon :\n",
    "    points_in_atlas= np.where(points_in_atlas==800 , 215 , points_in_atlas) \n",
    "    points_in_atlas= np.where(points_in_atlas==1092 , 215 , points_in_atlas)\n",
    "    # replace id= 800 (subependymal zone) and 1092 (lateral ventricle) with 215(caudoputamen)\n",
    "    # especially for AL131\n",
    "    \n",
    "    points_in_atlas= np.where(points_in_atlas==1242, 1296 , points_in_atlas) \n",
    "    points_in_atlas= np.where(points_in_atlas==1127, 1296 , points_in_atlas)\n",
    "    # replace id= 1242 (optic radiation)  and id= 1127 (auditory radiation) with 1296, stc(a subregion of fiber bundle)\n",
    "    # these are intrinsic issue of the allen atlas, the lavels for these regions are wrong\n",
    "\n",
    "check_points(points_in_atlas)\n",
    "# check again to see if 0 disappears"
   ]
  },
  {
   "cell_type": "code",
   "execution_count": null,
   "metadata": {},
   "outputs": [],
   "source": [
    "region_counts=na.points.make_pd_ara2sample(points_in_atlas.tolist(),atlas_labels,out_name,is_axon)"
   ]
  },
  {
   "cell_type": "code",
   "execution_count": null,
   "metadata": {},
   "outputs": [],
   "source": []
  },
  {
   "cell_type": "code",
   "execution_count": 32,
   "metadata": {},
   "outputs": [
    {
     "data": {
      "text/html": [
       "<div>\n",
       "<style scoped>\n",
       "    .dataframe tbody tr th:only-of-type {\n",
       "        vertical-align: middle;\n",
       "    }\n",
       "\n",
       "    .dataframe tbody tr th {\n",
       "        vertical-align: top;\n",
       "    }\n",
       "\n",
       "    .dataframe thead th {\n",
       "        text-align: right;\n",
       "    }\n",
       "</style>\n",
       "<table border=\"1\" class=\"dataframe\">\n",
       "  <thead>\n",
       "    <tr style=\"text-align: right;\">\n",
       "      <th></th>\n",
       "      <th>id</th>\n",
       "      <th>atlas_id</th>\n",
       "      <th>name</th>\n",
       "      <th>acronym</th>\n",
       "      <th>st_level</th>\n",
       "      <th>ontology_id</th>\n",
       "      <th>hemisphere_id</th>\n",
       "      <th>weight</th>\n",
       "      <th>parent_structure_id</th>\n",
       "      <th>depth</th>\n",
       "      <th>...</th>\n",
       "      <th>graph_order</th>\n",
       "      <th>structure_id_path</th>\n",
       "      <th>color_hex_triplet</th>\n",
       "      <th>neuro_name_structure_id</th>\n",
       "      <th>neuro_name_structure_id_path</th>\n",
       "      <th>failed</th>\n",
       "      <th>sphinx_id</th>\n",
       "      <th>structure_name_facet</th>\n",
       "      <th>failed_facet</th>\n",
       "      <th>safe_name</th>\n",
       "    </tr>\n",
       "  </thead>\n",
       "  <tbody>\n",
       "    <tr>\n",
       "      <th>0</th>\n",
       "      <td>1000</td>\n",
       "      <td>690.0</td>\n",
       "      <td>extrapyramidal fiber systems</td>\n",
       "      <td>eps</td>\n",
       "      <td>2</td>\n",
       "      <td>1</td>\n",
       "      <td>3</td>\n",
       "      <td>8690</td>\n",
       "      <td>1009.0</td>\n",
       "      <td>2</td>\n",
       "      <td>...</td>\n",
       "      <td>1218</td>\n",
       "      <td>/997/1009/1000/</td>\n",
       "      <td>CCCCCC</td>\n",
       "      <td>NaN</td>\n",
       "      <td>NaN</td>\n",
       "      <td>f</td>\n",
       "      <td>1219</td>\n",
       "      <td>738013408</td>\n",
       "      <td>734881840</td>\n",
       "      <td>extrapyramidal fiber systems</td>\n",
       "    </tr>\n",
       "    <tr>\n",
       "      <th>1</th>\n",
       "      <td>223</td>\n",
       "      <td>27.0</td>\n",
       "      <td>Arcuate hypothalamic nucleus</td>\n",
       "      <td>ARH</td>\n",
       "      <td>8</td>\n",
       "      <td>1</td>\n",
       "      <td>3</td>\n",
       "      <td>8690</td>\n",
       "      <td>157.0</td>\n",
       "      <td>6</td>\n",
       "      <td>...</td>\n",
       "      <td>733</td>\n",
       "      <td>/997/8/343/1129/1097/157/223/</td>\n",
       "      <td>FF5D50</td>\n",
       "      <td>NaN</td>\n",
       "      <td>NaN</td>\n",
       "      <td>f</td>\n",
       "      <td>734</td>\n",
       "      <td>218062747</td>\n",
       "      <td>734881840</td>\n",
       "      <td>Arcuate hypothalamic nucleus</td>\n",
       "    </tr>\n",
       "    <tr>\n",
       "      <th>2</th>\n",
       "      <td>12998</td>\n",
       "      <td>NaN</td>\n",
       "      <td>Somatosensory areas, layer 6b</td>\n",
       "      <td>SS6b</td>\n",
       "      <td>11</td>\n",
       "      <td>1</td>\n",
       "      <td>3</td>\n",
       "      <td>8690</td>\n",
       "      <td>453.0</td>\n",
       "      <td>7</td>\n",
       "      <td>...</td>\n",
       "      <td>36</td>\n",
       "      <td>/997/8/567/688/695/315/453/12998/</td>\n",
       "      <td>188064</td>\n",
       "      <td>NaN</td>\n",
       "      <td>NaN</td>\n",
       "      <td>f</td>\n",
       "      <td>37</td>\n",
       "      <td>3017218874</td>\n",
       "      <td>734881840</td>\n",
       "      <td>Somatosensory areas layer 6b</td>\n",
       "    </tr>\n",
       "    <tr>\n",
       "      <th>3</th>\n",
       "      <td>163</td>\n",
       "      <td>1010.0</td>\n",
       "      <td>Agranular insular area, posterior part, layer 2/3</td>\n",
       "      <td>AIp2/3</td>\n",
       "      <td>11</td>\n",
       "      <td>1</td>\n",
       "      <td>3</td>\n",
       "      <td>8690</td>\n",
       "      <td>111.0</td>\n",
       "      <td>8</td>\n",
       "      <td>...</td>\n",
       "      <td>287</td>\n",
       "      <td>/997/8/567/688/695/315/95/111/163/</td>\n",
       "      <td>219866</td>\n",
       "      <td>NaN</td>\n",
       "      <td>NaN</td>\n",
       "      <td>f</td>\n",
       "      <td>288</td>\n",
       "      <td>2735510231</td>\n",
       "      <td>734881840</td>\n",
       "      <td>Agranular insular area posterior part layer 2/3</td>\n",
       "    </tr>\n",
       "    <tr>\n",
       "      <th>4</th>\n",
       "      <td>552</td>\n",
       "      <td>917.0</td>\n",
       "      <td>Pontine reticular nucleus, ventral part</td>\n",
       "      <td>PRNv</td>\n",
       "      <td>8</td>\n",
       "      <td>1</td>\n",
       "      <td>3</td>\n",
       "      <td>8690</td>\n",
       "      <td>987.0</td>\n",
       "      <td>6</td>\n",
       "      <td>...</td>\n",
       "      <td>914</td>\n",
       "      <td>/997/8/343/1065/771/987/552/</td>\n",
       "      <td>FFBA86</td>\n",
       "      <td>NaN</td>\n",
       "      <td>NaN</td>\n",
       "      <td>f</td>\n",
       "      <td>915</td>\n",
       "      <td>3053786086</td>\n",
       "      <td>734881840</td>\n",
       "      <td>Pontine reticular nucleus ventral part</td>\n",
       "    </tr>\n",
       "    <tr>\n",
       "      <th>...</th>\n",
       "      <td>...</td>\n",
       "      <td>...</td>\n",
       "      <td>...</td>\n",
       "      <td>...</td>\n",
       "      <td>...</td>\n",
       "      <td>...</td>\n",
       "      <td>...</td>\n",
       "      <td>...</td>\n",
       "      <td>...</td>\n",
       "      <td>...</td>\n",
       "      <td>...</td>\n",
       "      <td>...</td>\n",
       "      <td>...</td>\n",
       "      <td>...</td>\n",
       "      <td>...</td>\n",
       "      <td>...</td>\n",
       "      <td>...</td>\n",
       "      <td>...</td>\n",
       "      <td>...</td>\n",
       "      <td>...</td>\n",
       "      <td>...</td>\n",
       "    </tr>\n",
       "    <tr>\n",
       "      <th>1322</th>\n",
       "      <td>324</td>\n",
       "      <td>1030.0</td>\n",
       "      <td>Entorhinal area, medial part, ventral zone, la...</td>\n",
       "      <td>ENTmv2</td>\n",
       "      <td>11</td>\n",
       "      <td>1</td>\n",
       "      <td>3</td>\n",
       "      <td>8690</td>\n",
       "      <td>934.0</td>\n",
       "      <td>9</td>\n",
       "      <td>...</td>\n",
       "      <td>519</td>\n",
       "      <td>/997/8/567/688/695/1089/822/909/934/324/</td>\n",
       "      <td>32B825</td>\n",
       "      <td>NaN</td>\n",
       "      <td>NaN</td>\n",
       "      <td>f</td>\n",
       "      <td>520</td>\n",
       "      <td>465925972</td>\n",
       "      <td>734881840</td>\n",
       "      <td>Entorhinal area medial part ventral zone layer 2</td>\n",
       "    </tr>\n",
       "    <tr>\n",
       "      <th>1323</th>\n",
       "      <td>321</td>\n",
       "      <td>464.0</td>\n",
       "      <td>Subgeniculate nucleus</td>\n",
       "      <td>SubG</td>\n",
       "      <td>8</td>\n",
       "      <td>1</td>\n",
       "      <td>3</td>\n",
       "      <td>8690</td>\n",
       "      <td>1014.0</td>\n",
       "      <td>7</td>\n",
       "      <td>...</td>\n",
       "      <td>710</td>\n",
       "      <td>/997/8/343/1129/549/856/1014/321/</td>\n",
       "      <td>FF909F</td>\n",
       "      <td>NaN</td>\n",
       "      <td>NaN</td>\n",
       "      <td>f</td>\n",
       "      <td>711</td>\n",
       "      <td>3545734096</td>\n",
       "      <td>734881840</td>\n",
       "      <td>Subgeniculate nucleus</td>\n",
       "    </tr>\n",
       "    <tr>\n",
       "      <th>1324</th>\n",
       "      <td>796</td>\n",
       "      <td>806.0</td>\n",
       "      <td>Dopaminergic A13 group</td>\n",
       "      <td>A13</td>\n",
       "      <td>9</td>\n",
       "      <td>1</td>\n",
       "      <td>3</td>\n",
       "      <td>8690</td>\n",
       "      <td>797.0</td>\n",
       "      <td>7</td>\n",
       "      <td>...</td>\n",
       "      <td>803</td>\n",
       "      <td>/997/8/343/1129/1097/290/797/796/</td>\n",
       "      <td>F2483B</td>\n",
       "      <td>NaN</td>\n",
       "      <td>NaN</td>\n",
       "      <td>f</td>\n",
       "      <td>804</td>\n",
       "      <td>4064653384</td>\n",
       "      <td>734881840</td>\n",
       "      <td>Dopaminergic A13 group</td>\n",
       "    </tr>\n",
       "    <tr>\n",
       "      <th>1325</th>\n",
       "      <td>436</td>\n",
       "      <td>478.0</td>\n",
       "      <td>columns of the fornix</td>\n",
       "      <td>fx</td>\n",
       "      <td>10</td>\n",
       "      <td>1</td>\n",
       "      <td>3</td>\n",
       "      <td>8690</td>\n",
       "      <td>737.0</td>\n",
       "      <td>6</td>\n",
       "      <td>...</td>\n",
       "      <td>1252</td>\n",
       "      <td>/997/1009/991/768/1099/737/436/</td>\n",
       "      <td>CCCCCC</td>\n",
       "      <td>NaN</td>\n",
       "      <td>NaN</td>\n",
       "      <td>f</td>\n",
       "      <td>1253</td>\n",
       "      <td>2234311931</td>\n",
       "      <td>734881840</td>\n",
       "      <td>columns of the fornix</td>\n",
       "    </tr>\n",
       "    <tr>\n",
       "      <th>1326</th>\n",
       "      <td>1051</td>\n",
       "      <td>555.0</td>\n",
       "      <td>direct tectospinal pathway</td>\n",
       "      <td>tspd</td>\n",
       "      <td>9</td>\n",
       "      <td>1</td>\n",
       "      <td>3</td>\n",
       "      <td>8690</td>\n",
       "      <td>877.0</td>\n",
       "      <td>4</td>\n",
       "      <td>...</td>\n",
       "      <td>1227</td>\n",
       "      <td>/997/1009/1000/877/1051/</td>\n",
       "      <td>CCCCCC</td>\n",
       "      <td>NaN</td>\n",
       "      <td>NaN</td>\n",
       "      <td>f</td>\n",
       "      <td>1228</td>\n",
       "      <td>1709212737</td>\n",
       "      <td>734881840</td>\n",
       "      <td>direct tectospinal pathway</td>\n",
       "    </tr>\n",
       "  </tbody>\n",
       "</table>\n",
       "<p>1327 rows × 21 columns</p>\n",
       "</div>"
      ],
      "text/plain": [
       "         id  atlas_id                                               name  \\\n",
       "0      1000     690.0                       extrapyramidal fiber systems   \n",
       "1       223      27.0                       Arcuate hypothalamic nucleus   \n",
       "2     12998       NaN                      Somatosensory areas, layer 6b   \n",
       "3       163    1010.0  Agranular insular area, posterior part, layer 2/3   \n",
       "4       552     917.0            Pontine reticular nucleus, ventral part   \n",
       "...     ...       ...                                                ...   \n",
       "1322    324    1030.0  Entorhinal area, medial part, ventral zone, la...   \n",
       "1323    321     464.0                              Subgeniculate nucleus   \n",
       "1324    796     806.0                             Dopaminergic A13 group   \n",
       "1325    436     478.0                              columns of the fornix   \n",
       "1326   1051     555.0                         direct tectospinal pathway   \n",
       "\n",
       "     acronym  st_level  ontology_id  hemisphere_id  weight  \\\n",
       "0        eps         2            1              3    8690   \n",
       "1        ARH         8            1              3    8690   \n",
       "2       SS6b        11            1              3    8690   \n",
       "3     AIp2/3        11            1              3    8690   \n",
       "4       PRNv         8            1              3    8690   \n",
       "...      ...       ...          ...            ...     ...   \n",
       "1322  ENTmv2        11            1              3    8690   \n",
       "1323    SubG         8            1              3    8690   \n",
       "1324     A13         9            1              3    8690   \n",
       "1325      fx        10            1              3    8690   \n",
       "1326    tspd         9            1              3    8690   \n",
       "\n",
       "      parent_structure_id  depth  ...  graph_order  \\\n",
       "0                  1009.0      2  ...         1218   \n",
       "1                   157.0      6  ...          733   \n",
       "2                   453.0      7  ...           36   \n",
       "3                   111.0      8  ...          287   \n",
       "4                   987.0      6  ...          914   \n",
       "...                   ...    ...  ...          ...   \n",
       "1322                934.0      9  ...          519   \n",
       "1323               1014.0      7  ...          710   \n",
       "1324                797.0      7  ...          803   \n",
       "1325                737.0      6  ...         1252   \n",
       "1326                877.0      4  ...         1227   \n",
       "\n",
       "                             structure_id_path color_hex_triplet  \\\n",
       "0                              /997/1009/1000/            CCCCCC   \n",
       "1                /997/8/343/1129/1097/157/223/            FF5D50   \n",
       "2            /997/8/567/688/695/315/453/12998/            188064   \n",
       "3           /997/8/567/688/695/315/95/111/163/            219866   \n",
       "4                 /997/8/343/1065/771/987/552/            FFBA86   \n",
       "...                                        ...               ...   \n",
       "1322  /997/8/567/688/695/1089/822/909/934/324/            32B825   \n",
       "1323         /997/8/343/1129/549/856/1014/321/            FF909F   \n",
       "1324         /997/8/343/1129/1097/290/797/796/            F2483B   \n",
       "1325           /997/1009/991/768/1099/737/436/            CCCCCC   \n",
       "1326                  /997/1009/1000/877/1051/            CCCCCC   \n",
       "\n",
       "     neuro_name_structure_id  neuro_name_structure_id_path  failed sphinx_id  \\\n",
       "0                        NaN                           NaN       f      1219   \n",
       "1                        NaN                           NaN       f       734   \n",
       "2                        NaN                           NaN       f        37   \n",
       "3                        NaN                           NaN       f       288   \n",
       "4                        NaN                           NaN       f       915   \n",
       "...                      ...                           ...     ...       ...   \n",
       "1322                     NaN                           NaN       f       520   \n",
       "1323                     NaN                           NaN       f       711   \n",
       "1324                     NaN                           NaN       f       804   \n",
       "1325                     NaN                           NaN       f      1253   \n",
       "1326                     NaN                           NaN       f      1228   \n",
       "\n",
       "      structure_name_facet  failed_facet  \\\n",
       "0                738013408     734881840   \n",
       "1                218062747     734881840   \n",
       "2               3017218874     734881840   \n",
       "3               2735510231     734881840   \n",
       "4               3053786086     734881840   \n",
       "...                    ...           ...   \n",
       "1322             465925972     734881840   \n",
       "1323            3545734096     734881840   \n",
       "1324            4064653384     734881840   \n",
       "1325            2234311931     734881840   \n",
       "1326            1709212737     734881840   \n",
       "\n",
       "                                             safe_name  \n",
       "0                         extrapyramidal fiber systems  \n",
       "1                         Arcuate hypothalamic nucleus  \n",
       "2                         Somatosensory areas layer 6b  \n",
       "3      Agranular insular area posterior part layer 2/3  \n",
       "4               Pontine reticular nucleus ventral part  \n",
       "...                                                ...  \n",
       "1322  Entorhinal area medial part ventral zone layer 2  \n",
       "1323                             Subgeniculate nucleus  \n",
       "1324                            Dopaminergic A13 group  \n",
       "1325                             columns of the fornix  \n",
       "1326                        direct tectospinal pathway  \n",
       "\n",
       "[1327 rows x 21 columns]"
      ]
     },
     "execution_count": 32,
     "metadata": {},
     "output_type": "execute_result"
    }
   ],
   "source": [
    "na.atlas_labels"
   ]
  },
  {
   "cell_type": "markdown",
   "metadata": {},
   "source": [
    "## Optional"
   ]
  },
  {
   "cell_type": "code",
   "execution_count": 13,
   "metadata": {},
   "outputs": [],
   "source": [
    "points_original= fdialog.askopenfilename(title='Selecte the original resampled points')\n",
    "# asks for the non-downsampled annotation, usually the eswc file that has been converted to um and resampled at 1 um steps\n",
    "# typically in petersen server analysis folder\n",
    "\n",
    "original_withID=na.points.findID_origional(points_original, points_in_atlas,out_name,is_axon)\n",
    "#makes a csv file with original points and their associated id"
   ]
  },
  {
   "cell_type": "code",
   "execution_count": 72,
   "metadata": {},
   "outputs": [
    {
     "data": {
      "text/html": [
       "<div>\n",
       "<style scoped>\n",
       "    .dataframe tbody tr th:only-of-type {\n",
       "        vertical-align: middle;\n",
       "    }\n",
       "\n",
       "    .dataframe tbody tr th {\n",
       "        vertical-align: top;\n",
       "    }\n",
       "\n",
       "    .dataframe thead th {\n",
       "        text-align: right;\n",
       "    }\n",
       "</style>\n",
       "<table border=\"1\" class=\"dataframe\">\n",
       "  <thead>\n",
       "    <tr style=\"text-align: right;\">\n",
       "      <th></th>\n",
       "      <th>x</th>\n",
       "      <th>y</th>\n",
       "      <th>z</th>\n",
       "      <th>atlasID</th>\n",
       "    </tr>\n",
       "  </thead>\n",
       "  <tbody>\n",
       "    <tr>\n",
       "      <th>0</th>\n",
       "      <td>3427.11</td>\n",
       "      <td>2251.2</td>\n",
       "      <td>4225.56</td>\n",
       "      <td>845</td>\n",
       "    </tr>\n",
       "    <tr>\n",
       "      <th>1</th>\n",
       "      <td>3427.13</td>\n",
       "      <td>2250.8</td>\n",
       "      <td>4226.47</td>\n",
       "      <td>845</td>\n",
       "    </tr>\n",
       "    <tr>\n",
       "      <th>2</th>\n",
       "      <td>3427.15</td>\n",
       "      <td>2250.4</td>\n",
       "      <td>4227.39</td>\n",
       "      <td>845</td>\n",
       "    </tr>\n",
       "    <tr>\n",
       "      <th>3</th>\n",
       "      <td>3427.17</td>\n",
       "      <td>2250.01</td>\n",
       "      <td>4228.31</td>\n",
       "      <td>845</td>\n",
       "    </tr>\n",
       "    <tr>\n",
       "      <th>4</th>\n",
       "      <td>3427.2</td>\n",
       "      <td>2249.61</td>\n",
       "      <td>4229.22</td>\n",
       "      <td>844</td>\n",
       "    </tr>\n",
       "    <tr>\n",
       "      <th>...</th>\n",
       "      <td>...</td>\n",
       "      <td>...</td>\n",
       "      <td>...</td>\n",
       "      <td>...</td>\n",
       "    </tr>\n",
       "    <tr>\n",
       "      <th>69429</th>\n",
       "      <td>4169.03</td>\n",
       "      <td>2465.77</td>\n",
       "      <td>5265.7</td>\n",
       "      <td>890</td>\n",
       "    </tr>\n",
       "    <tr>\n",
       "      <th>69430</th>\n",
       "      <td>4168.61</td>\n",
       "      <td>2465.45</td>\n",
       "      <td>5265</td>\n",
       "      <td>890</td>\n",
       "    </tr>\n",
       "    <tr>\n",
       "      <th>69431</th>\n",
       "      <td>4167.83</td>\n",
       "      <td>2464.83</td>\n",
       "      <td>5265</td>\n",
       "      <td>890</td>\n",
       "    </tr>\n",
       "    <tr>\n",
       "      <th>69432</th>\n",
       "      <td>4176.18</td>\n",
       "      <td>2535.2</td>\n",
       "      <td>5320</td>\n",
       "      <td>890</td>\n",
       "    </tr>\n",
       "    <tr>\n",
       "      <th>69433</th>\n",
       "      <td>4175.18</td>\n",
       "      <td>2535.2</td>\n",
       "      <td>5320</td>\n",
       "      <td>890</td>\n",
       "    </tr>\n",
       "  </tbody>\n",
       "</table>\n",
       "<p>69434 rows × 4 columns</p>\n",
       "</div>"
      ],
      "text/plain": [
       "             x        y        z  atlasID\n",
       "0      3427.11   2251.2  4225.56      845\n",
       "1      3427.13   2250.8  4226.47      845\n",
       "2      3427.15   2250.4  4227.39      845\n",
       "3      3427.17  2250.01  4228.31      845\n",
       "4       3427.2  2249.61  4229.22      844\n",
       "...        ...      ...      ...      ...\n",
       "69429  4169.03  2465.77   5265.7      890\n",
       "69430  4168.61  2465.45     5265      890\n",
       "69431  4167.83  2464.83     5265      890\n",
       "69432  4176.18   2535.2     5320      890\n",
       "69433  4175.18   2535.2     5320      890\n",
       "\n",
       "[69434 rows x 4 columns]"
      ]
     },
     "execution_count": 72,
     "metadata": {},
     "output_type": "execute_result"
    }
   ],
   "source": [
    "original_withID"
   ]
  },
  {
   "cell_type": "markdown",
   "metadata": {},
   "source": [
    "## Start here for grey vs white"
   ]
  },
  {
   "cell_type": "code",
   "execution_count": 2,
   "metadata": {},
   "outputs": [],
   "source": [
    "import matplotlib.pyplot as plt\n",
    "import tkinter.filedialog as fdialog\n",
    "\n",
    "import math\n"
   ]
  },
  {
   "cell_type": "code",
   "execution_count": 3,
   "metadata": {},
   "outputs": [],
   "source": [
    "out_dir='M:\\\\analysis\\Yanqi_Liu\\\\For_anatomy_manuscript\\\\Figures\\\\For_reviewers\\\\'\n"
   ]
  },
  {
   "cell_type": "code",
   "execution_count": 4,
   "metadata": {},
   "outputs": [],
   "source": [
    "atlas_labels=pd.read_csv('D:\\Allenbrainatlas\\ARA_25_micron_mhd_ccf2017\\wraped\\ccf_2017_itksnap_labels.csv', sep=',')\n"
   ]
  },
  {
   "cell_type": "code",
   "execution_count": 40,
   "metadata": {},
   "outputs": [
    {
     "data": {
      "text/plain": [
       "'AL080'"
      ]
     },
     "execution_count": 40,
     "metadata": {},
     "output_type": "execute_result"
    }
   ],
   "source": [
    "ori_pointsID= fdialog.askopenfilename(title='Selecte the original resampled points with ID excel file')\n",
    "mouse_name= na.find_mousename(ori_pointsID)\n",
    "out_name=out_dir+mouse_name\n",
    "mouse_name"
   ]
  },
  {
   "cell_type": "code",
   "execution_count": 41,
   "metadata": {},
   "outputs": [
    {
     "data": {
      "text/html": [
       "<div>\n",
       "<style scoped>\n",
       "    .dataframe tbody tr th:only-of-type {\n",
       "        vertical-align: middle;\n",
       "    }\n",
       "\n",
       "    .dataframe tbody tr th {\n",
       "        vertical-align: top;\n",
       "    }\n",
       "\n",
       "    .dataframe thead th {\n",
       "        text-align: right;\n",
       "    }\n",
       "</style>\n",
       "<table border=\"1\" class=\"dataframe\">\n",
       "  <thead>\n",
       "    <tr style=\"text-align: right;\">\n",
       "      <th></th>\n",
       "      <th>x</th>\n",
       "      <th>y</th>\n",
       "      <th>z</th>\n",
       "      <th>atlasID</th>\n",
       "    </tr>\n",
       "  </thead>\n",
       "  <tbody>\n",
       "    <tr>\n",
       "      <th>0</th>\n",
       "      <td>11204.0</td>\n",
       "      <td>2307.20</td>\n",
       "      <td>1745.00</td>\n",
       "      <td>1053</td>\n",
       "    </tr>\n",
       "    <tr>\n",
       "      <th>1</th>\n",
       "      <td>11204.3</td>\n",
       "      <td>2307.25</td>\n",
       "      <td>1745.95</td>\n",
       "      <td>1053</td>\n",
       "    </tr>\n",
       "    <tr>\n",
       "      <th>2</th>\n",
       "      <td>11204.6</td>\n",
       "      <td>2307.31</td>\n",
       "      <td>1746.91</td>\n",
       "      <td>1053</td>\n",
       "    </tr>\n",
       "    <tr>\n",
       "      <th>3</th>\n",
       "      <td>11204.6</td>\n",
       "      <td>2307.39</td>\n",
       "      <td>1747.91</td>\n",
       "      <td>1053</td>\n",
       "    </tr>\n",
       "    <tr>\n",
       "      <th>4</th>\n",
       "      <td>11204.7</td>\n",
       "      <td>2307.47</td>\n",
       "      <td>1748.90</td>\n",
       "      <td>1053</td>\n",
       "    </tr>\n",
       "  </tbody>\n",
       "</table>\n",
       "</div>"
      ],
      "text/plain": [
       "         x        y        z  atlasID\n",
       "0  11204.0  2307.20  1745.00     1053\n",
       "1  11204.3  2307.25  1745.95     1053\n",
       "2  11204.6  2307.31  1746.91     1053\n",
       "3  11204.6  2307.39  1747.91     1053\n",
       "4  11204.7  2307.47  1748.90     1053"
      ]
     },
     "execution_count": 41,
     "metadata": {},
     "output_type": "execute_result"
    }
   ],
   "source": [
    "original_withID= pd.read_csv (ori_pointsID)\n",
    "original_withID.head()"
   ]
  },
  {
   "cell_type": "code",
   "execution_count": 42,
   "metadata": {},
   "outputs": [],
   "source": [
    "full_label=pd.merge(na.atlas_labels, atlas_labels, on = 'acronym')"
   ]
  },
  {
   "cell_type": "code",
   "execution_count": 43,
   "metadata": {},
   "outputs": [],
   "source": [
    "fiber_tracts=full_label[full_label['structure_id_path'].str.contains(\"1009\")].region_id\n",
    "fiber_tracts=fiber_tracts.tolist()"
   ]
  },
  {
   "cell_type": "code",
   "execution_count": 44,
   "metadata": {},
   "outputs": [],
   "source": [
    "striatum=full_label[full_label['structure_id_path'].str.contains(\"477\")].region_id\n",
    "striatum=striatum.tolist()"
   ]
  },
  {
   "cell_type": "code",
   "execution_count": null,
   "metadata": {},
   "outputs": [],
   "source": []
  },
  {
   "cell_type": "code",
   "execution_count": 45,
   "metadata": {},
   "outputs": [],
   "source": [
    "white=original_withID.loc[original_withID['atlasID'].isin(fiber_tracts)]\n",
    "grey=original_withID.loc[~original_withID['atlasID'].isin(fiber_tracts) & ~original_withID['atlasID'].isin(striatum)]\n",
    "stri=original_withID.loc[original_withID['atlasID'].isin(striatum)]"
   ]
  },
  {
   "cell_type": "code",
   "execution_count": 46,
   "metadata": {},
   "outputs": [
    {
     "data": {
      "text/plain": [
       "False"
      ]
     },
     "execution_count": 46,
     "metadata": {},
     "output_type": "execute_result"
    }
   ],
   "source": [
    "white.empty"
   ]
  },
  {
   "cell_type": "code",
   "execution_count": 47,
   "metadata": {},
   "outputs": [
    {
     "data": {
      "text/plain": [
       "False"
      ]
     },
     "execution_count": 47,
     "metadata": {},
     "output_type": "execute_result"
    }
   ],
   "source": [
    "grey.empty"
   ]
  },
  {
   "cell_type": "code",
   "execution_count": 48,
   "metadata": {},
   "outputs": [
    {
     "data": {
      "text/plain": [
       "True"
      ]
     },
     "execution_count": 48,
     "metadata": {},
     "output_type": "execute_result"
    }
   ],
   "source": [
    "stri.empty"
   ]
  },
  {
   "cell_type": "code",
   "execution_count": 49,
   "metadata": {},
   "outputs": [],
   "source": [
    "xg= pd.to_numeric(grey['x']).round()\n",
    "yg= pd.to_numeric(grey['y']).round()\n",
    "zg= pd.to_numeric(grey['z']).round()\n",
    "\n",
    "xw= pd.to_numeric(white['x']).round()\n",
    "yw= pd.to_numeric(white['y']).round()\n",
    "zw= pd.to_numeric(white['z']).round()\n",
    "\n",
    "xs= pd.to_numeric(stri['x']).round()\n",
    "ys= pd.to_numeric(stri['y']).round()\n",
    "zs= pd.to_numeric(stri['z']).round()"
   ]
  },
  {
   "cell_type": "code",
   "execution_count": 50,
   "metadata": {},
   "outputs": [
    {
     "data": {
      "image/png": "[encoded data removed]",
      "text/plain": [
       "<Figure size 432x288 with 1 Axes>"
      ]
     },
     "metadata": {
      "needs_background": "light"
     },
     "output_type": "display_data"
    }
   ],
   "source": [
    "plt.scatter(xg[::5], yg[::5],s=0.01, c='red')\n",
    "plt.scatter(xw[::5], yw[::5], s= 0.01, c= 'deepskyblue')\n",
    "plt.scatter(xs[::5], ys[::5], s= 0.01, c= 'lime')\n",
    "frame1 = plt.gca()\n",
    "frame1.axes.get_xaxis().set_visible(False)\n",
    "frame1.axes.get_yaxis().set_visible(False)\n",
    "plt.savefig(out_name+\"_c_axons.svg\", format='svg')\n",
    "\n",
    "plt.show()"
   ]
  },
  {
   "cell_type": "code",
   "execution_count": 21,
   "metadata": {},
   "outputs": [
    {
     "data": {
      "image/png": "[encoded data removed]",
      "text/plain": [
       "<Figure size 432x288 with 1 Axes>"
      ]
     },
     "metadata": {
      "needs_background": "light"
     },
     "output_type": "display_data"
    }
   ],
   "source": [
    "plt.scatter(xg[::5], zg[::5],s=0.01, c='red')\n",
    "plt.scatter(xw[::5], zw[::5], s= 0.01, c= 'deepskyblue')\n",
    "plt.scatter(xs[::5], zs[::5], s= 0.01, c= 'lime')\n",
    "frame1 = plt.gca()\n",
    "frame1.axes.get_xaxis().set_visible(False)\n",
    "frame1.axes.get_yaxis().set_visible(False)\n",
    "plt.savefig(out_name+\"_h_axons.svg\", format='svg')\n",
    "plt.show()\n",
    "#horizontal view"
   ]
  },
  {
   "cell_type": "code",
   "execution_count": 51,
   "metadata": {},
   "outputs": [],
   "source": [
    "def rotate(x,y,xo,yo,degrees): #rotate x,y around xo,yo by x degrees\n",
    "    theta = np.deg2rad(degrees) # convert degrees to rad\n",
    "    xr=math.cos(theta)*(x-xo)-math.sin(theta)*(y-yo)  + xo\n",
    "    yr=math.sin(theta)*(x-xo)+math.cos(theta)*(y-yo)  + yo\n",
    "    return [xr,yr]"
   ]
  },
  {
   "cell_type": "code",
   "execution_count": 52,
   "metadata": {},
   "outputs": [],
   "source": [
    "# note that for AL 066, 092 and 080, the rotation angle is -30, due to the orientation how the brain is imaged\n",
    "# for all other brains in anatomy MS 2021, rotation angle is 30 degrees\n",
    "list_xy= list(zip(xg,yg))\n",
    "list_xy[1]\n",
    "rot_xg=[]\n",
    "rot_yg=[]\n",
    "for i in list_xy:\n",
    "    x= i[0]\n",
    "    y= i[1]\n",
    "    newx,newy= rotate(x,y,0,0,-30)\n",
    "    rot_xg.append(newx)\n",
    "    rot_yg.append(newy)\n",
    "\n",
    "list_xy= []"
   ]
  },
  {
   "cell_type": "code",
   "execution_count": 53,
   "metadata": {},
   "outputs": [],
   "source": [
    "if xw.empty:\n",
    "    rot_xw=[]\n",
    "    rot_yw=[]\n",
    "else: \n",
    "    list_xy= list(zip(xw,yw))\n",
    "    list_xy[1]\n",
    "    rot_xw=[]\n",
    "    rot_yw=[]\n",
    "    for i in list_xy:\n",
    "        x= i[0]\n",
    "        y= i[1]\n",
    "        newx,newy= rotate(x,y,0,0,-30)\n",
    "        rot_xw.append(newx)\n",
    "        rot_yw.append(newy)\n",
    "\n",
    "    list_xy= []"
   ]
  },
  {
   "cell_type": "code",
   "execution_count": 54,
   "metadata": {},
   "outputs": [],
   "source": [
    "if xs.empty:\n",
    "    rot_xs=[]\n",
    "    rot_ys=[]\n",
    "else:\n",
    "    list_xy= list(zip(xs,ys))\n",
    "    list_xy[1]\n",
    "    rot_xs=[]\n",
    "    rot_ys=[]\n",
    "    for i in list_xy:\n",
    "        x= i[0]\n",
    "        y= i[1]\n",
    "        newx,newy= rotate(x,y,0,0,-30)\n",
    "        rot_xs.append(newx)\n",
    "        rot_ys.append(newy)"
   ]
  },
  {
   "cell_type": "code",
   "execution_count": 55,
   "metadata": {},
   "outputs": [
    {
     "data": {
      "image/png": "[encoded data removed]",
      "text/plain": [
       "<Figure size 432x288 with 1 Axes>"
      ]
     },
     "metadata": {
      "needs_background": "light"
     },
     "output_type": "display_data"
    }
   ],
   "source": [
    "plt.scatter(rot_xg[::5], zg[::5],s=0.01, c='red')\n",
    "plt.scatter(rot_xw[::5], zw[::5], s= 0.01, c= 'deepskyblue')\n",
    "plt.scatter(rot_xs[::5], zs[::5], s= 0.01, c= 'lime')\n",
    "frame1 = plt.gca()\n",
    "frame1.axes.get_xaxis().set_visible(False)\n",
    "frame1.axes.get_yaxis().set_visible(False)\n",
    "plt.savefig(out_name+\"_bf_axons.svg\", format='svg')\n",
    "plt.show()"
   ]
  },
  {
   "cell_type": "code",
   "execution_count": null,
   "metadata": {},
   "outputs": [],
   "source": []
  },
  {
   "cell_type": "code",
   "execution_count": null,
   "metadata": {},
   "outputs": [],
   "source": []
  },
  {
   "cell_type": "code",
   "execution_count": null,
   "metadata": {},
   "outputs": [],
   "source": []
  }
 ],
 "metadata": {
  "kernelspec": {
   "display_name": "Python 3",
   "language": "python",
   "name": "python3"
  },
  "language_info": {
   "codemirror_mode": {
    "name": "ipython",
    "version": 3
   },
   "file_extension": ".py",
   "mimetype": "text/x-python",
   "name": "python",
   "nbconvert_exporter": "python",
   "pygments_lexer": "ipython3",
   "version": "3.7.3"
  }
 },
 "nbformat": 4,
 "nbformat_minor": 4
}
