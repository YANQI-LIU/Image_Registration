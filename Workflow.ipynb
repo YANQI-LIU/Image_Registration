{
 "cells": [
  {
   "cell_type": "code",
   "execution_count": 1,
   "metadata": {},
   "outputs": [],
   "source": [
    "import os\n",
    "import tkinter.filedialog as fdialog\n",
    "import Neuron_analysis as na\n",
    "from Neuron_analysis import *"
   ]
  },
  {
   "cell_type": "code",
   "execution_count": 2,
   "metadata": {},
   "outputs": [],
   "source": [
    "in_dir = fdialog.askdirectory(title='Please select the input directory')\n",
    "axon= fdialog.askopenfilename(title='Selecte the transformed points for axons')\n",
    "dendrite= fdialog.askopenfilename(title='Selecte the transformed points for dendrites')"
   ]
  },
  {
   "cell_type": "code",
   "execution_count": 3,
   "metadata": {},
   "outputs": [],
   "source": [
    "files= os.listdir(in_dir)\n",
    "ending_files= [os.path.join(in_dir,i) for i in files if '_endings' in i]\n",
    "axon_ending= [i for i in ending_files if 'D_' not in i][0]\n",
    "dendrite_ending=[i for i in ending_files if 'D_' in i][0]"
   ]
  },
  {
   "cell_type": "code",
   "execution_count": 4,
   "metadata": {},
   "outputs": [],
   "source": [
    "out_dir='D:/Complete_points/'\n",
    "mouse_name=na.find_mousename(in_dir)\n",
    "out_name=out_dir+mouse_name"
   ]
  },
  {
   "cell_type": "code",
   "execution_count": 5,
   "metadata": {},
   "outputs": [],
   "source": [
    "is_axon=1\n",
    "\n",
    "if is_axon==1:\n",
    "    file_type=axon\n",
    "    file_ending=axon_ending\n",
    "elif is_axon==0:\n",
    "    file_type=dendrite\n",
    "    file_ending=dendrite_ending\n",
    "# put 0 if working with dendrites"
   ]
  },
  {
   "cell_type": "code",
   "execution_count": 6,
   "metadata": {},
   "outputs": [],
   "source": [
    "points,atlas_name=na.get_pt_natlas(file_type,in_dir,full=False)\n",
    "# reads in the points and get the corresponding atlas(cropped version cus we need to extract the cropped plane from its name)\n",
    "na.find_crop(atlas_name)\n",
    "# extract the cropped sections ie. section 100-394\n",
    "points_full=na.points.refill_section(points,atlas_name)\n",
    "# fills in the missing section by adding the leading slice to the z coordinates of the downsampled points\n",
    "na.atlas.make_tif(points_full, na.fullatlas_name,out_dir+mouse_name, is_axon)\n",
    "# projects the downsampled points(now in full z plane) to a tiff file, now ready to merge with the complete atlas and template"
   ]
  },
  {
   "cell_type": "code",
   "execution_count": 7,
   "metadata": {},
   "outputs": [],
   "source": [
    "region_counts, points_in_atlas=na.points.make_pd(points_full,file_ending,out_name,is_axon)\n",
    "# find the corresponding atlas ID for each point, store in pd datafile with counts for main and ends\n",
    "# also outputs an excel file\n",
    "na.points.make_point_csv(points_full, points_in_atlas,out_name,is_axon)\n",
    "# outputs a csv file with downsampled points and their associated id"
   ]
  },
  {
   "cell_type": "code",
   "execution_count": 8,
   "metadata": {},
   "outputs": [
    {
     "name": "stdout",
     "output_type": "stream",
     "text": [
      "182305696 this index does not exist in allen reference atlas, see https://github.com/ChristophKirst/ClearMap/issues/37\n",
      "182305712 this index does not exist in allen reference atlas, see https://github.com/ChristophKirst/ClearMap/issues/37\n"
     ]
    },
    {
     "name": "stderr",
     "output_type": "stream",
     "text": [
      "C:\\Users\\liu\\Image_registration\\Neuron_analysis\\points.py:210: UserWarning: Some points do not have corresponding labels\n",
      "  warnings.warn('Some points do not have corresponding labels')\n"
     ]
    }
   ],
   "source": [
    "na.points.check_points(points_in_atlas)\n",
    "# check for IDs that are without atlas label"
   ]
  },
  {
   "cell_type": "code",
   "execution_count": 84,
   "metadata": {},
   "outputs": [],
   "source": [
    "points_original= fdialog.askopenfilename(title='Selecte the original resampled points')\n",
    "# asks for the non-downsampled annotation, usually the eswc file that has been converted to um and resampled at 1 um steps\n",
    "# typically in petersen server analysis folder\n",
    "\n",
    "original_withID=na.points.findID_origional(points_original, points_in_atlas,out_name,is_axon)\n",
    "#makes a csv file with original points and their associated id\n"
   ]
  },
  {
   "cell_type": "code",
   "execution_count": 89,
   "metadata": {},
   "outputs": [
    {
     "name": "stdin",
     "output_type": "stream",
     "text": [
      "what is it that you look for? 484682528\n"
     ]
    },
    {
     "name": "stdout",
     "output_type": "stream",
     "text": [
      "Atlas id= 529    484682528\n",
      "Name: id, dtype: int64\n",
      "Name= 529    commissural branch of stria terminalis\n",
      "Name: safe_name, dtype: object\n",
      "Hemisphere= 529    3\n",
      "Name: hemisphere_id, dtype: int64\n"
     ]
    }
   ],
   "source": [
    "na.whatis()"
   ]
  },
  {
   "cell_type": "code",
   "execution_count": null,
   "metadata": {},
   "outputs": [],
   "source": []
  }
 ],
 "metadata": {
  "kernelspec": {
   "display_name": "Python 3",
   "language": "python",
   "name": "python3"
  },
  "language_info": {
   "codemirror_mode": {
    "name": "ipython",
    "version": 3
   },
   "file_extension": ".py",
   "mimetype": "text/x-python",
   "name": "python",
   "nbconvert_exporter": "python",
   "pygments_lexer": "ipython3",
   "version": "3.7.3"
  }
 },
 "nbformat": 4,
 "nbformat_minor": 4
}
