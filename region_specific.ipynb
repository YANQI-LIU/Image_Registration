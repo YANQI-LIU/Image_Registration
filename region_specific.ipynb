{
 "cells": [
  {
   "cell_type": "markdown",
   "metadata": {
    "tags": []
   },
   "source": [
    "### for region specific visualzations \n",
    "Environment: region_specfic\n",
    "find all ids belonging to a parent (ie. 315, for isocortex), create mask and visualize using napari\n",
    "\n",
    "generate average image and multiply with the mask!\n"
   ]
  },
  {
   "cell_type": "code",
   "execution_count": 1,
   "metadata": {},
   "outputs": [],
   "source": [
    "import os\n",
    "\n",
    "import pandas as pd\n",
    "\n",
    "import numpy as np\n",
    "\n",
    "import Neuron_analysis as na\n",
    "\n",
    "import skimage\n",
    "from skimage import io\n",
    "\n",
    "import SimpleITK as sitk\n",
    "\n",
    "import re\n",
    "from tqdm import tqdm\n",
    "\n",
    "import napari\n",
    "\n",
    "import nrrd"
   ]
  },
  {
   "cell_type": "code",
   "execution_count": 2,
   "metadata": {
    "jupyter": {
     "source_hidden": true
    },
    "tags": []
   },
   "outputs": [],
   "source": [
    "def isolate_region(this_region):\n",
    "    \n",
    "    '''''' \n",
    "    \n",
    "    child_ids= atlas_labels.loc[atlas_labels['structure_id_path'].str.contains(f'/{this_region}/', case=False)].id\n",
    "    # child_ids\n",
    "\n",
    "    # find all regions with regionX inside the structure id path\n",
    "    # for example 315 - isocortex, 985- primary motor region\n",
    "    \n",
    "    this_mask= np.zeros(annot_h.shape)\n",
    "    # create empty array to store the mask\n",
    "    for i in tqdm(child_ids.values):\n",
    "        this_mask[annot_h==i]=1\n",
    "        #loop through all the region id and assign value of 1\n",
    "    # empty_array now is a matrix of 1 and 0s\n",
    "    \n",
    "    return this_mask\n",
    "\n",
    "def isolate_region_2(regions_list):\n",
    "    \n",
    "    '''useful for isolating one layer of multiple region, ie MOs 2/3 and MOp 2/3''' \n",
    "    \n",
    "    #child_ids= atlas_labels.loc[atlas_labels['structure_id_path'].str.contains('|'.join(regions_list), case=False)].id\n",
    "    # child_ids\n",
    "\n",
    "    # find all regions with regionX inside the structure id path\n",
    "    # for example 315 - isocortex, 985- primary motor region\n",
    "    \n",
    "    this_mask= np.zeros(annot_h.shape)\n",
    "    # create empty array to store the mask\n",
    "    for i in tqdm(regions_list):\n",
    "        this_mask[annot_h==i]=1\n",
    "        #loop through all the region id and assign value of 1\n",
    "    # empty_array now is a matrix of 1 and 0s\n",
    "    \n",
    "    return this_mask\n",
    "\n",
    "def save_tiff(numpystack, outname):\n",
    "    \n",
    "    '''save numpy stack as tiff stack and also save sum projections in horizontal, coronal, and saggital views'''\n",
    "    \n",
    "    print('Starting to saving tif files..')\n",
    "    \n",
    "    #io.imsave(outname+'_axons.tif',numpystack)\n",
    "    \n",
    "    sum_0=np.sum(numpystack, axis=0)\n",
    "    sum_1=np.sum(numpystack, axis=1)\n",
    "    sum_2=np.sum(numpystack, axis=2)\n",
    "    io.imsave(outname+ '_sum_0.tif',sum_0)\n",
    "    #io.imsave(outname+ '_sum_1.tif',sum_1)\n",
    "    #io.imsave(outname+ '_sum_2.tif',sum_2)\n",
    "\n",
    "def save_tiff_mask(numpystack, outname):\n",
    "\n",
    "    ''' most useful for saving max projection for region masks, to be used as outlines in illustrators\n",
    "    save numpy stack as png max projections in horizontal, coronal, and saggital views '''\n",
    "\n",
    "    print('Starting to saving tif files..')\n",
    "\n",
    "    #io.imsave(outname+'_axons.tif',numpystack)\n",
    "\n",
    "    sum_0=np.max(numpystack, axis=0)\n",
    "    #sum_1=np.sum(numpystack, axis=1)\n",
    "    #sum_2=np.sum(numpystack, axis=2)\n",
    "    \n",
    "    io.imsave(outname+ '_max_0.tif',sum_0)\n",
    "    #io.imsave(outname+ '_max_1.tif',sum_1)\n",
    "    #io.imsave(outname+ '_max_2.tif',sum_2)"
   ]
  },
  {
   "cell_type": "code",
   "execution_count": 3,
   "metadata": {},
   "outputs": [
    {
     "name": "stdout",
     "output_type": "stream",
     "text": [
      "Converted to horizontal atlas with shape (320, 528, 456)\n"
     ]
    }
   ],
   "source": [
    "file_name = r'C:/Users/liu/mouse_connectivity/annotation/ccf_2017/annotation_25.nrrd'\n",
    "data_array, metadata = nrrd.read(file_name)\n",
    "\n",
    "annot_h=np.moveaxis(data_array, 1, 0)\n",
    "print('Converted to horizontal atlas with shape', annot_h.shape)\n",
    "# reslice corontal atlas to horizontal atlas that is consistent with our sample's orientation\n",
    "\n",
    "atlas_labels=pd.read_csv('D:\\Allenbrainatlas\\ARA_25_micron_mhd_ccf2017\\labels.csv')\n",
    "#read labels"
   ]
  },
  {
   "cell_type": "markdown",
   "metadata": {
    "tags": []
   },
   "source": [
    "#### section to plot masked axons"
   ]
  },
  {
   "cell_type": "code",
   "execution_count": 8,
   "metadata": {
    "tags": []
   },
   "outputs": [],
   "source": [
    "#viewer = napari.Viewer()\n",
    "\n",
    "#viewer.add_image(template, name='template')\n",
    "#viewer.add_labels(annot_h, name='atlas')\n"
   ]
  },
  {
   "cell_type": "markdown",
   "metadata": {},
   "source": [
    "Stuff to try\n",
    "\n",
    "isocortec 315\n",
    "\n",
    "MOp1, MOs1 [320,656]\n",
    "\n",
    "MOp 2/3 943,  MOs 2/3 962. [943,962]\n",
    "\n",
    "MOp5, MOs 5. [648,767]\n",
    "\n",
    "MOp6a, MOs 6a [844,1021]\n",
    "\n",
    "MOp6b, MOs 6b [882,1085]\n",
    "\n",
    "\n",
    "region_dict= {\n",
    "    '1':[320,656],\n",
    "    '23':[943,962],\n",
    "    '5':[648,767],\n",
    "    '6a':[844,1021],\n",
    "    '6b':[882,1085]\n",
    "}"
   ]
  },
  {
   "cell_type": "code",
   "execution_count": null,
   "metadata": {},
   "outputs": [],
   "source": [
    "# loop sections\n",
    "regions=['s1', 's2']\n",
    "mouse_lines=['ras','scn','tlx','sim','rbp','nts']"
   ]
  },
  {
   "cell_type": "code",
   "execution_count": 7,
   "metadata": {},
   "outputs": [
    {
     "name": "stderr",
     "output_type": "stream",
     "text": [
      "100%|████████████████████████████████████████████████████████████████████████████████████| 3/3 [00:00<00:00,  5.10it/s]\n"
     ]
    },
    {
     "name": "stdout",
     "output_type": "stream",
     "text": [
      "Starting to saving tif files..\n"
     ]
    },
    {
     "name": "stderr",
     "output_type": "stream",
     "text": [
      "C:\\Users\\liu\\AppData\\Local\\Temp\\ipykernel_5880\\3522326721.py:50: UserWarning: D:\\viral_results\\s1_s2\\region\\CP\\s1_ras_avg_sum_0.tif is a low contrast image\n",
      "  io.imsave(outname+ '_sum_0.tif',sum_0)\n"
     ]
    },
    {
     "name": "stdout",
     "output_type": "stream",
     "text": [
      "Starting to saving tif files..\n"
     ]
    },
    {
     "name": "stderr",
     "output_type": "stream",
     "text": [
      "C:\\Users\\liu\\AppData\\Local\\Temp\\ipykernel_5880\\3522326721.py:50: UserWarning: D:\\viral_results\\s1_s2\\region\\CP\\s1_scn_avg_sum_0.tif is a low contrast image\n",
      "  io.imsave(outname+ '_sum_0.tif',sum_0)\n"
     ]
    },
    {
     "name": "stdout",
     "output_type": "stream",
     "text": [
      "Starting to saving tif files..\n"
     ]
    },
    {
     "name": "stderr",
     "output_type": "stream",
     "text": [
      "C:\\Users\\liu\\AppData\\Local\\Temp\\ipykernel_5880\\3522326721.py:50: UserWarning: D:\\viral_results\\s1_s2\\region\\CP\\s1_tlx_avg_sum_0.tif is a low contrast image\n",
      "  io.imsave(outname+ '_sum_0.tif',sum_0)\n"
     ]
    },
    {
     "name": "stdout",
     "output_type": "stream",
     "text": [
      "Starting to saving tif files..\n"
     ]
    },
    {
     "name": "stderr",
     "output_type": "stream",
     "text": [
      "C:\\Users\\liu\\AppData\\Local\\Temp\\ipykernel_5880\\3522326721.py:50: UserWarning: D:\\viral_results\\s1_s2\\region\\CP\\s1_sim_avg_sum_0.tif is a low contrast image\n",
      "  io.imsave(outname+ '_sum_0.tif',sum_0)\n"
     ]
    },
    {
     "name": "stdout",
     "output_type": "stream",
     "text": [
      "Starting to saving tif files..\n"
     ]
    },
    {
     "name": "stderr",
     "output_type": "stream",
     "text": [
      "C:\\Users\\liu\\AppData\\Local\\Temp\\ipykernel_5880\\3522326721.py:50: UserWarning: D:\\viral_results\\s1_s2\\region\\CP\\s1_rbp_avg_sum_0.tif is a low contrast image\n",
      "  io.imsave(outname+ '_sum_0.tif',sum_0)\n"
     ]
    },
    {
     "name": "stdout",
     "output_type": "stream",
     "text": [
      "Starting to saving tif files..\n"
     ]
    },
    {
     "name": "stderr",
     "output_type": "stream",
     "text": [
      "C:\\Users\\liu\\AppData\\Local\\Temp\\ipykernel_5880\\3522326721.py:50: UserWarning: D:\\viral_results\\s1_s2\\region\\CP\\s1_nts_avg_sum_0.tif is a low contrast image\n",
      "  io.imsave(outname+ '_sum_0.tif',sum_0)\n"
     ]
    },
    {
     "name": "stdout",
     "output_type": "stream",
     "text": [
      "Starting to saving tif files..\n"
     ]
    },
    {
     "name": "stderr",
     "output_type": "stream",
     "text": [
      "C:\\Users\\liu\\AppData\\Local\\Temp\\ipykernel_5880\\3522326721.py:50: UserWarning: D:\\viral_results\\s1_s2\\region\\CP\\s2_ras_avg_sum_0.tif is a low contrast image\n",
      "  io.imsave(outname+ '_sum_0.tif',sum_0)\n"
     ]
    },
    {
     "name": "stdout",
     "output_type": "stream",
     "text": [
      "Starting to saving tif files..\n"
     ]
    },
    {
     "name": "stderr",
     "output_type": "stream",
     "text": [
      "C:\\Users\\liu\\AppData\\Local\\Temp\\ipykernel_5880\\3522326721.py:50: UserWarning: D:\\viral_results\\s1_s2\\region\\CP\\s2_scn_avg_sum_0.tif is a low contrast image\n",
      "  io.imsave(outname+ '_sum_0.tif',sum_0)\n"
     ]
    },
    {
     "name": "stdout",
     "output_type": "stream",
     "text": [
      "Starting to saving tif files..\n"
     ]
    },
    {
     "name": "stderr",
     "output_type": "stream",
     "text": [
      "C:\\Users\\liu\\AppData\\Local\\Temp\\ipykernel_5880\\3522326721.py:50: UserWarning: D:\\viral_results\\s1_s2\\region\\CP\\s2_tlx_avg_sum_0.tif is a low contrast image\n",
      "  io.imsave(outname+ '_sum_0.tif',sum_0)\n"
     ]
    },
    {
     "name": "stdout",
     "output_type": "stream",
     "text": [
      "Starting to saving tif files..\n"
     ]
    },
    {
     "name": "stderr",
     "output_type": "stream",
     "text": [
      "C:\\Users\\liu\\AppData\\Local\\Temp\\ipykernel_5880\\3522326721.py:50: UserWarning: D:\\viral_results\\s1_s2\\region\\CP\\s2_sim_avg_sum_0.tif is a low contrast image\n",
      "  io.imsave(outname+ '_sum_0.tif',sum_0)\n"
     ]
    },
    {
     "name": "stdout",
     "output_type": "stream",
     "text": [
      "Starting to saving tif files..\n"
     ]
    },
    {
     "name": "stderr",
     "output_type": "stream",
     "text": [
      "C:\\Users\\liu\\AppData\\Local\\Temp\\ipykernel_5880\\3522326721.py:50: UserWarning: D:\\viral_results\\s1_s2\\region\\CP\\s2_rbp_avg_sum_0.tif is a low contrast image\n",
      "  io.imsave(outname+ '_sum_0.tif',sum_0)\n"
     ]
    },
    {
     "name": "stdout",
     "output_type": "stream",
     "text": [
      "Starting to saving tif files..\n"
     ]
    },
    {
     "name": "stderr",
     "output_type": "stream",
     "text": [
      "C:\\Users\\liu\\AppData\\Local\\Temp\\ipykernel_5880\\3522326721.py:50: UserWarning: D:\\viral_results\\s1_s2\\region\\CP\\s2_nts_avg_sum_0.tif is a low contrast image\n",
      "  io.imsave(outname+ '_sum_0.tif',sum_0)\n"
     ]
    }
   ],
   "source": [
    "# for isolating all regions belonging to one region, ie. isocortex 315, or caudoputamen, 672\n",
    "\n",
    "\n",
    "region_id= ['672']\n",
    "region_mask= isolate_region(region_id)\n",
    "# generate mask outside of the loop since it will be the same!\n",
    "\n",
    "for i in regions:\n",
    "    for j in mouse_lines:\n",
    "        file_path= f'D:\\\\viral_results\\\\{i}_average\\\\{j}_average.npy'\n",
    "\n",
    "        axons=np.load(file_path)\n",
    "        axons[0,0,0]=0\n",
    "        axons[0,1,0]=0\n",
    "        \n",
    "        axons_masked= axons*region_mask\n",
    "        \n",
    "        out_name= f'D:\\\\viral_results\\\\s1_s2\\\\region\\\\CP\\\\{i}_{j}_avg'\n",
    "        save_tiff(axons_masked,out_name)\n"
   ]
  },
  {
   "cell_type": "code",
   "execution_count": 22,
   "metadata": {},
   "outputs": [],
   "source": [
    "# for isolating one layer of multiple region, ie MOs 2/3 and MOp 2/3''' \n",
    "\n",
    "\n",
    "region_dict= {\n",
    "    '1':[320,656],\n",
    "    '23':[943,962],\n",
    "    '5':[648,767],\n",
    "    '6a':[844,1021],\n",
    "    '6b':[882,1085]\n",
    "}"
   ]
  },
  {
   "cell_type": "code",
   "execution_count": null,
   "metadata": {
    "collapsed": true,
    "jupyter": {
     "outputs_hidden": true
    },
    "tags": []
   },
   "outputs": [
    {
     "name": "stderr",
     "output_type": "stream",
     "text": [
      "100%|████████████████████████████████████████████████████████████████████████████████████| 2/2 [00:00<00:00,  8.51it/s]\n"
     ]
    },
    {
     "ename": "FileNotFoundError",
     "evalue": "[Errno 2] No such file or directory: 'D:\\\\viral_results\\\\s1_s2\\\\averages\\\\s1_ras_avg.npy'",
     "output_type": "error",
     "traceback": [
      "\u001b[1;31m---------------------------------------------------------------------------\u001b[0m",
      "\u001b[1;31mFileNotFoundError\u001b[0m                         Traceback (most recent call last)",
      "Cell \u001b[1;32mIn[5], line 16\u001b[0m\n\u001b[0;32m     13\u001b[0m \u001b[38;5;28;01mfor\u001b[39;00m j \u001b[38;5;129;01min\u001b[39;00m mouse_lines:\n\u001b[0;32m     14\u001b[0m     file_path\u001b[38;5;241m=\u001b[39m \u001b[38;5;124mf\u001b[39m\u001b[38;5;124m'\u001b[39m\u001b[38;5;124mD:\u001b[39m\u001b[38;5;130;01m\\\\\u001b[39;00m\u001b[38;5;124mviral_results\u001b[39m\u001b[38;5;130;01m\\\\\u001b[39;00m\u001b[38;5;124ms1_s2\u001b[39m\u001b[38;5;130;01m\\\\\u001b[39;00m\u001b[38;5;124maverages\u001b[39m\u001b[38;5;130;01m\\\\\u001b[39;00m\u001b[38;5;132;01m{\u001b[39;00mi\u001b[38;5;132;01m}\u001b[39;00m\u001b[38;5;124m_\u001b[39m\u001b[38;5;132;01m{\u001b[39;00mj\u001b[38;5;132;01m}\u001b[39;00m\u001b[38;5;124m_avg.npy\u001b[39m\u001b[38;5;124m'\u001b[39m\n\u001b[1;32m---> 16\u001b[0m     axons\u001b[38;5;241m=\u001b[39m\u001b[43mnp\u001b[49m\u001b[38;5;241;43m.\u001b[39;49m\u001b[43mload\u001b[49m\u001b[43m(\u001b[49m\u001b[43mfile_path\u001b[49m\u001b[43m)\u001b[49m\n\u001b[0;32m     17\u001b[0m     axons[\u001b[38;5;241m0\u001b[39m,\u001b[38;5;241m0\u001b[39m,\u001b[38;5;241m0\u001b[39m]\u001b[38;5;241m=\u001b[39m\u001b[38;5;241m0\u001b[39m\n\u001b[0;32m     18\u001b[0m     axons[\u001b[38;5;241m0\u001b[39m,\u001b[38;5;241m1\u001b[39m,\u001b[38;5;241m0\u001b[39m]\u001b[38;5;241m=\u001b[39m\u001b[38;5;241m0\u001b[39m\n",
      "File \u001b[1;32m~\\AppData\\Local\\Continuum\\anaconda3\\envs\\region_specific\\lib\\site-packages\\numpy\\lib\\npyio.py:405\u001b[0m, in \u001b[0;36mload\u001b[1;34m(file, mmap_mode, allow_pickle, fix_imports, encoding, max_header_size)\u001b[0m\n\u001b[0;32m    403\u001b[0m     own_fid \u001b[38;5;241m=\u001b[39m \u001b[38;5;28;01mFalse\u001b[39;00m\n\u001b[0;32m    404\u001b[0m \u001b[38;5;28;01melse\u001b[39;00m:\n\u001b[1;32m--> 405\u001b[0m     fid \u001b[38;5;241m=\u001b[39m stack\u001b[38;5;241m.\u001b[39menter_context(\u001b[38;5;28;43mopen\u001b[39;49m\u001b[43m(\u001b[49m\u001b[43mos_fspath\u001b[49m\u001b[43m(\u001b[49m\u001b[43mfile\u001b[49m\u001b[43m)\u001b[49m\u001b[43m,\u001b[49m\u001b[43m \u001b[49m\u001b[38;5;124;43m\"\u001b[39;49m\u001b[38;5;124;43mrb\u001b[39;49m\u001b[38;5;124;43m\"\u001b[39;49m\u001b[43m)\u001b[49m)\n\u001b[0;32m    406\u001b[0m     own_fid \u001b[38;5;241m=\u001b[39m \u001b[38;5;28;01mTrue\u001b[39;00m\n\u001b[0;32m    408\u001b[0m \u001b[38;5;66;03m# Code to distinguish from NumPy binary files and pickles.\u001b[39;00m\n",
      "\u001b[1;31mFileNotFoundError\u001b[0m: [Errno 2] No such file or directory: 'D:\\\\viral_results\\\\s1_s2\\\\averages\\\\s1_ras_avg.npy'"
     ]
    }
   ],
   "source": [
    "# for isolating one layer of multiple region, ie MOs 2/3 and MOp 2/3''' \n",
    "\n",
    "region_id= [320,656]\n",
    "layer= '1'\n",
    "\n",
    "# cannot be string to use isolate region2\n",
    "region_mask= isolate_region_2(region_id)\n",
    "# generate mask outside of the loop since it will be the same!\n",
    "\n",
    "#region_id= ['315']\n",
    "#region_mask= isolate_region(region_id)\n",
    "# generate mask outside of the loop since it will be the same!\n",
    "\n",
    "for i in regions:\n",
    "    for j in mouse_lines:\n",
    "        file_path= f'D:\\\\viral_results\\\\s1_s2\\\\averages\\\\{i}_{j}_avg.npy'\n",
    "\n",
    "        axons=np.load(file_path)\n",
    "        axons[0,0,0]=0\n",
    "        axons[0,1,0]=0\n",
    "        \n",
    "        axons_masked= axons*region_mask\n",
    "        \n",
    "        out_name= f'D:\\\\viral_results\\\\s1_s2\\\\region\\\\MO\\\\{layer}_{i}_{j}_avg'\n",
    "        save_tiff(axons_masked,out_name)\n"
   ]
  },
  {
   "cell_type": "code",
   "execution_count": 4,
   "metadata": {},
   "outputs": [],
   "source": [
    "# example section\n",
    "\n",
    "#axons1= sitk.ReadImage(r'D:\\viral_results\\s2\\AL278_axons.tif')\n",
    "#axons1=sitk.GetArrayFromImage(axons2) \n",
    "# issue with image with 64 bit samples, since the normalized images have values like 10e-5\n",
    "# hence we work with npy files directly\n",
    "\n",
    "region='s1'\n",
    "mouseline='ras'\n",
    "\n",
    "file_path= f'D:\\\\viral_results\\\\s1_s2\\\\averages\\\\{region}_{mouseline}_avg.npy'\n",
    "\n",
    "axons=np.load(file_path)\n",
    "axons[0,0,0]=0\n",
    "axons[0,1,0]=0\n",
    "# dont forget to change the [0,0,0] position from the total number of axons back to 0!\n",
    "#viewer.add_image(axons)\n"
   ]
  },
  {
   "cell_type": "code",
   "execution_count": 6,
   "metadata": {
    "tags": []
   },
   "outputs": [
    {
     "name": "stderr",
     "output_type": "stream",
     "text": [
      "100%|████████████████████████████████████████████████████████████████████████████████| 374/374 [00:48<00:00,  7.69it/s]\n"
     ]
    },
    {
     "name": "stdout",
     "output_type": "stream",
     "text": [
      "Starting to saving tif files..\n"
     ]
    },
    {
     "name": "stderr",
     "output_type": "stream",
     "text": [
      "C:\\Users\\liu\\AppData\\Local\\Temp\\ipykernel_4124\\2350469427.py:34: UserWarning: D:\\viral_results\\s1_s2\\region\\315_s2_ras_avg_sum_0.tif is a low contrast image\n",
      "  io.imsave(outname+ '_sum_0.tif',sum_0)\n",
      "C:\\Users\\liu\\AppData\\Local\\Temp\\ipykernel_4124\\2350469427.py:35: UserWarning: D:\\viral_results\\s1_s2\\region\\315_s2_ras_avg_sum_1.tif is a low contrast image\n",
      "  io.imsave(outname+ '_sum_1.tif',sum_1)\n",
      "C:\\Users\\liu\\AppData\\Local\\Temp\\ipykernel_4124\\2350469427.py:36: UserWarning: D:\\viral_results\\s1_s2\\region\\315_s2_ras_avg_sum_2.tif is a low contrast image\n",
      "  io.imsave(outname+ '_sum_2.tif',sum_2)\n"
     ]
    }
   ],
   "source": [
    "# for a given mouse line\n",
    "\n",
    "region_id= ['315']\n",
    "# can be a list such as region_id= ['943', '962'] , but will have two separate files\n",
    "# or can be one big region ie. 315 the isocortex wich have multiple child - use isolate_region\n",
    "\n",
    "for i in region_id: \n",
    "    \n",
    "    #region_mask= isolate_region(i)\n",
    "    axons_masked= axons*region_mask\n",
    "    \n",
    "    out_name= f'D:\\\\viral_results\\\\s1_s2\\\\region\\\\{i}_{region}_{mouseline}_avg'\n",
    "    \n",
    "    save_tiff(axons_masked,out_name)"
   ]
  },
  {
   "cell_type": "markdown",
   "metadata": {
    "jp-MarkdownHeadingCollapsed": true,
    "tags": []
   },
   "source": [
    "##### plot region mask itself for outlines\n",
    "not useful..yet?"
   ]
  },
  {
   "cell_type": "code",
   "execution_count": 45,
   "metadata": {},
   "outputs": [],
   "source": [
    "region_dict= {\n",
    "    '1':[320,656],\n",
    "    '23':[943,962],\n",
    "    '5':[648,767],\n",
    "    '6a':[844,1021],\n",
    "    '6b':[882,1085]\n",
    "}"
   ]
  },
  {
   "cell_type": "code",
   "execution_count": 46,
   "metadata": {
    "tags": []
   },
   "outputs": [
    {
     "name": "stderr",
     "output_type": "stream",
     "text": [
      "100%|████████████████████████████████████████████████████████████████████████████████████| 2/2 [00:00<00:00,  5.17it/s]\n"
     ]
    },
    {
     "name": "stdout",
     "output_type": "stream",
     "text": [
      "Starting to saving tif files..\n"
     ]
    },
    {
     "name": "stderr",
     "output_type": "stream",
     "text": [
      "100%|████████████████████████████████████████████████████████████████████████████████████| 2/2 [00:00<00:00,  5.10it/s]\n"
     ]
    },
    {
     "name": "stdout",
     "output_type": "stream",
     "text": [
      "Starting to saving tif files..\n"
     ]
    },
    {
     "name": "stderr",
     "output_type": "stream",
     "text": [
      "100%|████████████████████████████████████████████████████████████████████████████████████| 2/2 [00:00<00:00,  5.42it/s]\n"
     ]
    },
    {
     "name": "stdout",
     "output_type": "stream",
     "text": [
      "Starting to saving tif files..\n"
     ]
    },
    {
     "name": "stderr",
     "output_type": "stream",
     "text": [
      "100%|████████████████████████████████████████████████████████████████████████████████████| 2/2 [00:00<00:00,  5.17it/s]\n"
     ]
    },
    {
     "name": "stdout",
     "output_type": "stream",
     "text": [
      "Starting to saving tif files..\n"
     ]
    },
    {
     "name": "stderr",
     "output_type": "stream",
     "text": [
      "100%|████████████████████████████████████████████████████████████████████████████████████| 2/2 [00:00<00:00,  5.40it/s]\n"
     ]
    },
    {
     "name": "stdout",
     "output_type": "stream",
     "text": [
      "Starting to saving tif files..\n"
     ]
    }
   ],
   "source": [
    "for key,value in region_dict.items(): \n",
    "\n",
    "    region_mask= isolate_region_2(value)\n",
    "    # generate mask outside of the loop since it will be the same!\n",
    "\n",
    "    out_name= f'D:\\\\viral_results\\\\s1_s2\\\\region\\\\MO\\\\{key}_mask'\n",
    "    save_tiff_mask(region_mask,out_name)"
   ]
  },
  {
   "cell_type": "markdown",
   "metadata": {
    "jp-MarkdownHeadingCollapsed": true,
    "tags": []
   },
   "source": [
    "#### section to plot contours and find centroid for masked axons"
   ]
  },
  {
   "cell_type": "code",
   "execution_count": 10,
   "metadata": {
    "tags": []
   },
   "outputs": [],
   "source": [
    "def find_contour_fractionmax(axon_array, fraction):\n",
    "    \n",
    "    ''' input axon stack as numpy array and fraction of maximal intensity wish to compute (ie. 0.95)\n",
    "    returns binary image and contour on horizontal sumprojection'''\n",
    "    \n",
    "    horizontal = np.sum(axons_masked,0)\n",
    "    #io.imshow(horizontal) \n",
    "    #io.show()\n",
    "    # show sum projection in horizontal view\n",
    "    \n",
    "    test1= skimage.filters.gaussian(horizontal, sigma=4)\n",
    "    # apply gaussian filter\n",
    "\n",
    "    #io.imshow(test1) \n",
    "    #io.show()\n",
    "    # show sum projection in horizontal view\n",
    "    \n",
    "    contour1= np.max(test1) * fraction\n",
    "    threshold1= test1>contour1\n",
    "    # find 95% of max intensity and threshold\n",
    "\n",
    "    #io.imshow(threshold1) \n",
    "    #io.show()\n",
    "    \n",
    "    outline= skimage.segmentation.find_boundaries(threshold1, mode='inner').astype(np.uint8)\n",
    "    #find outline of the segmentation\n",
    "\n",
    "    #io.imshow(outline) \n",
    "    #io.show()\n",
    "    \n",
    "    return threshold1, outline\n",
    "\n",
    "def find_contour_otsu(axons_array):\n",
    "    ''' input axon stack as numpy array,apply gaussian filter then threshold using otsu's method\n",
    "    returns binary image, and contour on horizontal sumprojection'''\n",
    "        \n",
    "    horizontal = np.sum(axons_masked,0)\n",
    "    #io.imshow(horizontal) \n",
    "    #io.show()\n",
    "    # show sum projection in horizontal view\n",
    "\n",
    "    test1= skimage.filters.gaussian(horizontal, sigma=4)\n",
    "\n",
    "    thresh = skimage.filters.threshold_otsu(test1)\n",
    "    binary = test1 > thresh\n",
    "\n",
    "    outline= skimage.segmentation.find_boundaries(binary, mode='inner').astype(np.uint8)\n",
    "\n",
    "    label_img = skimage.measure.label(binary)\n",
    "    region=skimage.measure.regionprops(label_img)\n",
    "    # measure connected components\n",
    "    \n",
    "    return binary, outline\n",
    "\n",
    "def conv_stereo(ML, AP, realum):\n",
    "    '''input data points in terms of pixels and real pixel size in micrometers \n",
    "    calculates stereotaxic coordinate and return as ML, AP values'''\n",
    "    bregma= [227.5, 215]\n",
    "    # bregma coordiantes in horizontal view, where image dimension is [456, 528]\n",
    "        \n",
    "    tmpmedlat= abs(bregma[0]-ML)\n",
    "    tmpantpos=bregma[1]- AP\n",
    "    \n",
    "    factor= realum/1000\n",
    "    medlat=tmpmedlat*factor\n",
    "    antpos= tmpantpos*factor\n",
    "    # convert pixels to real micrometers\n",
    "    \n",
    "    return round(medlat,2), round(antpos,2)\n"
   ]
  },
  {
   "cell_type": "code",
   "execution_count": 60,
   "metadata": {},
   "outputs": [
    {
     "name": "stderr",
     "output_type": "stream",
     "text": [
      "100%|████████████████████████████████████████████████████████████████████████████████████| 2/2 [00:00<00:00,  5.36it/s]\n"
     ]
    }
   ],
   "source": [
    "#######\n",
    "#finding contours\n",
    "\n",
    "region_id= [943,962]\n",
    "layer= '2/3'\n",
    "\n",
    "# cannot be string to use isolate region2\n",
    "region_mask= isolate_region_2(region_id)\n",
    "# generate mask outside of the loop since it will be the same!"
   ]
  },
  {
   "cell_type": "code",
   "execution_count": 61,
   "metadata": {},
   "outputs": [],
   "source": [
    "# loop sections\n",
    "regions=['s1', 's2']\n",
    "mouse_lines=['ras','scn','tlx','sim1','rbp','ntsr']"
   ]
  },
  {
   "cell_type": "code",
   "execution_count": 104,
   "metadata": {
    "collapsed": true,
    "jupyter": {
     "outputs_hidden": true
    },
    "tags": []
   },
   "outputs": [
    {
     "name": "stderr",
     "output_type": "stream",
     "text": [
      "C:\\Users\\liu\\AppData\\Local\\Temp\\ipykernel_5384\\721943737.py:15: UserWarning: 23_ras_s1.tiff is a low contrast image\n",
      "  skimage.io.imsave(f'23_{j}_{i}.tiff', outline)\n",
      "C:\\Users\\liu\\AppData\\Local\\Temp\\ipykernel_5384\\721943737.py:39: UserWarning: 23_ras_s1_centroid.tiff is a low contrast image\n",
      "  skimage.io.imsave(f'23_{j}_{i}_centroid.tiff', temp)\n"
     ]
    },
    {
     "name": "stdout",
     "output_type": "stream",
     "text": [
      "centroid for s1 injection in ras is ML= 1.01mm,AP= 1.45mm\n"
     ]
    },
    {
     "name": "stderr",
     "output_type": "stream",
     "text": [
      "C:\\Users\\liu\\AppData\\Local\\Temp\\ipykernel_5384\\721943737.py:15: UserWarning: 23_scn_s1.tiff is a low contrast image\n",
      "  skimage.io.imsave(f'23_{j}_{i}.tiff', outline)\n",
      "C:\\Users\\liu\\AppData\\Local\\Temp\\ipykernel_5384\\721943737.py:39: UserWarning: 23_scn_s1_centroid.tiff is a low contrast image\n",
      "  skimage.io.imsave(f'23_{j}_{i}_centroid.tiff', temp)\n"
     ]
    },
    {
     "name": "stdout",
     "output_type": "stream",
     "text": [
      "centroid for s1 injection in scn is ML= 0.81mm,AP= 1.23mm\n"
     ]
    },
    {
     "name": "stderr",
     "output_type": "stream",
     "text": [
      "C:\\Users\\liu\\AppData\\Local\\Temp\\ipykernel_5384\\721943737.py:15: UserWarning: 23_tlx_s1.tiff is a low contrast image\n",
      "  skimage.io.imsave(f'23_{j}_{i}.tiff', outline)\n",
      "C:\\Users\\liu\\AppData\\Local\\Temp\\ipykernel_5384\\721943737.py:39: UserWarning: 23_tlx_s1_centroid.tiff is a low contrast image\n",
      "  skimage.io.imsave(f'23_{j}_{i}_centroid.tiff', temp)\n"
     ]
    },
    {
     "name": "stdout",
     "output_type": "stream",
     "text": [
      "centroid for s1 injection in tlx is ML= 0.91mm,AP= 1.05mm\n",
      "centroid for s1 injection in tlx is ML= 0.84mm,AP= 1.15mm\n"
     ]
    },
    {
     "name": "stderr",
     "output_type": "stream",
     "text": [
      "C:\\Users\\liu\\AppData\\Local\\Temp\\ipykernel_5384\\721943737.py:15: UserWarning: 23_sim1_s1.tiff is a low contrast image\n",
      "  skimage.io.imsave(f'23_{j}_{i}.tiff', outline)\n",
      "C:\\Users\\liu\\AppData\\Local\\Temp\\ipykernel_5384\\721943737.py:39: UserWarning: 23_sim1_s1_centroid.tiff is a low contrast image\n",
      "  skimage.io.imsave(f'23_{j}_{i}_centroid.tiff', temp)\n"
     ]
    },
    {
     "name": "stdout",
     "output_type": "stream",
     "text": [
      "centroid for s1 injection in sim1 is ML= 0.91mm,AP= 1.03mm\n"
     ]
    },
    {
     "name": "stderr",
     "output_type": "stream",
     "text": [
      "C:\\Users\\liu\\AppData\\Local\\Temp\\ipykernel_5384\\721943737.py:15: UserWarning: 23_rbp_s1.tiff is a low contrast image\n",
      "  skimage.io.imsave(f'23_{j}_{i}.tiff', outline)\n",
      "C:\\Users\\liu\\AppData\\Local\\Temp\\ipykernel_5384\\721943737.py:39: UserWarning: 23_rbp_s1_centroid.tiff is a low contrast image\n",
      "  skimage.io.imsave(f'23_{j}_{i}_centroid.tiff', temp)\n"
     ]
    },
    {
     "name": "stdout",
     "output_type": "stream",
     "text": [
      "centroid for s1 injection in rbp is ML= 0.84mm,AP= 1.15mm\n"
     ]
    },
    {
     "name": "stderr",
     "output_type": "stream",
     "text": [
      "C:\\Users\\liu\\AppData\\Local\\Temp\\ipykernel_5384\\721943737.py:15: UserWarning: 23_ntsr_s1.tiff is a low contrast image\n",
      "  skimage.io.imsave(f'23_{j}_{i}.tiff', outline)\n",
      "C:\\Users\\liu\\AppData\\Local\\Temp\\ipykernel_5384\\721943737.py:39: UserWarning: 23_ntsr_s1_centroid.tiff is a low contrast image\n",
      "  skimage.io.imsave(f'23_{j}_{i}_centroid.tiff', temp)\n"
     ]
    },
    {
     "name": "stdout",
     "output_type": "stream",
     "text": [
      "centroid for s1 injection in ntsr is ML= 1.04mm,AP= 1.45mm\n"
     ]
    },
    {
     "name": "stderr",
     "output_type": "stream",
     "text": [
      "C:\\Users\\liu\\AppData\\Local\\Temp\\ipykernel_5384\\721943737.py:15: UserWarning: 23_ras_s2.tiff is a low contrast image\n",
      "  skimage.io.imsave(f'23_{j}_{i}.tiff', outline)\n",
      "C:\\Users\\liu\\AppData\\Local\\Temp\\ipykernel_5384\\721943737.py:39: UserWarning: 23_ras_s2_centroid.tiff is a low contrast image\n",
      "  skimage.io.imsave(f'23_{j}_{i}_centroid.tiff', temp)\n"
     ]
    },
    {
     "name": "stdout",
     "output_type": "stream",
     "text": [
      "centroid for s2 injection in ras is ML= 0.69mm,AP= 1.38mm\n"
     ]
    },
    {
     "name": "stderr",
     "output_type": "stream",
     "text": [
      "C:\\Users\\liu\\AppData\\Local\\Temp\\ipykernel_5384\\721943737.py:15: UserWarning: 23_scn_s2.tiff is a low contrast image\n",
      "  skimage.io.imsave(f'23_{j}_{i}.tiff', outline)\n",
      "C:\\Users\\liu\\AppData\\Local\\Temp\\ipykernel_5384\\721943737.py:39: UserWarning: 23_scn_s2_centroid.tiff is a low contrast image\n",
      "  skimage.io.imsave(f'23_{j}_{i}_centroid.tiff', temp)\n"
     ]
    },
    {
     "name": "stdout",
     "output_type": "stream",
     "text": [
      "centroid for s2 injection in scn is ML= 0.81mm,AP= 1.7mm\n"
     ]
    },
    {
     "name": "stderr",
     "output_type": "stream",
     "text": [
      "C:\\Users\\liu\\AppData\\Local\\Temp\\ipykernel_5384\\721943737.py:15: UserWarning: 23_tlx_s2.tiff is a low contrast image\n",
      "  skimage.io.imsave(f'23_{j}_{i}.tiff', outline)\n",
      "C:\\Users\\liu\\AppData\\Local\\Temp\\ipykernel_5384\\721943737.py:39: UserWarning: 23_tlx_s2_centroid.tiff is a low contrast image\n",
      "  skimage.io.imsave(f'23_{j}_{i}_centroid.tiff', temp)\n"
     ]
    },
    {
     "name": "stdout",
     "output_type": "stream",
     "text": [
      "centroid for s2 injection in tlx is ML= 0.86mm,AP= 1.3mm\n",
      "centroid for s2 injection in tlx is ML= 0.74mm,AP= 1.33mm\n"
     ]
    },
    {
     "name": "stderr",
     "output_type": "stream",
     "text": [
      "C:\\Users\\liu\\AppData\\Local\\Temp\\ipykernel_5384\\721943737.py:15: UserWarning: 23_sim1_s2.tiff is a low contrast image\n",
      "  skimage.io.imsave(f'23_{j}_{i}.tiff', outline)\n",
      "C:\\Users\\liu\\AppData\\Local\\Temp\\ipykernel_5384\\721943737.py:39: UserWarning: 23_sim1_s2_centroid.tiff is a low contrast image\n",
      "  skimage.io.imsave(f'23_{j}_{i}_centroid.tiff', temp)\n"
     ]
    },
    {
     "name": "stdout",
     "output_type": "stream",
     "text": [
      "centroid for s2 injection in sim1 is ML= 1.04mm,AP= 1.58mm\n"
     ]
    },
    {
     "name": "stderr",
     "output_type": "stream",
     "text": [
      "C:\\Users\\liu\\AppData\\Local\\Temp\\ipykernel_5384\\721943737.py:15: UserWarning: 23_rbp_s2.tiff is a low contrast image\n",
      "  skimage.io.imsave(f'23_{j}_{i}.tiff', outline)\n",
      "C:\\Users\\liu\\AppData\\Local\\Temp\\ipykernel_5384\\721943737.py:39: UserWarning: 23_rbp_s2_centroid.tiff is a low contrast image\n",
      "  skimage.io.imsave(f'23_{j}_{i}_centroid.tiff', temp)\n"
     ]
    },
    {
     "name": "stdout",
     "output_type": "stream",
     "text": [
      "centroid for s2 injection in rbp is ML= 0.94mm,AP= 1.4mm\n",
      "centroid for s2 injection in rbp is ML= 0.86mm,AP= 1.78mm\n",
      "centroid for s2 injection in ntsr is ML= 0.91mm,AP= 1.95mm\n",
      "centroid for s2 injection in ntsr is ML= 0.99mm,AP= 0.85mm\n",
      "centroid for s2 injection in ntsr is ML= 0.84mm,AP= -0.45mm\n"
     ]
    },
    {
     "name": "stderr",
     "output_type": "stream",
     "text": [
      "C:\\Users\\liu\\AppData\\Local\\Temp\\ipykernel_5384\\721943737.py:15: UserWarning: 23_ntsr_s2.tiff is a low contrast image\n",
      "  skimage.io.imsave(f'23_{j}_{i}.tiff', outline)\n",
      "C:\\Users\\liu\\AppData\\Local\\Temp\\ipykernel_5384\\721943737.py:39: UserWarning: 23_ntsr_s2_centroid.tiff is a low contrast image\n",
      "  skimage.io.imsave(f'23_{j}_{i}_centroid.tiff', temp)\n"
     ]
    }
   ],
   "source": [
    "for i in regions:\n",
    "    for j in mouse_lines:\n",
    "        file_path= f'D:\\\\viral_results\\\\s1_s2\\\\averages\\\\{i}_{j}_avg.npy'\n",
    "\n",
    "        axons=np.load(file_path)\n",
    "        axons[0,0,0]=0\n",
    "        axons[0,1,0]=0\n",
    "        \n",
    "        axons_masked= axons*region_mask\n",
    "        \n",
    "        #threshold, outline=find_contour_fractionmax(axons_masked, 0.95)\n",
    "        threshold, outline=find_contour_otsu(axons_masked)\n",
    "        # find thresholded image and draw contours\n",
    "        \n",
    "        skimage.io.imsave(f'23_{j}_{i}.tiff', outline)\n",
    "        # save the contour image\n",
    "        \n",
    "        label_img = skimage.measure.label(threshold)\n",
    "        region=skimage.measure.regionprops(label_img)\n",
    "        # measure connected components\n",
    "        \n",
    "        temp= np.zeros_like(horizontal)\n",
    "        # create empty array to plot the centoirds\n",
    "\n",
    "        for k in region:\n",
    "            AP_pix,ML_pix= k.centroid\n",
    "            # extract coordinates for centroid\n",
    "\n",
    "            AP_pix=int(AP_pix)\n",
    "            ML_pix=int(ML_pix)\n",
    "\n",
    "            temp[AP_pix,ML_pix]=1\n",
    "            # plot the centroid for each connected component\n",
    "\n",
    "            ML,AP= conv_stereo(ML_pix,AP_pix,25)\n",
    "            # convert pixel values to seterotaxis coordinate\n",
    "            print(f'centroid for {i} injection in {j} is ML= {ML}mm,AP= {AP}mm')\n",
    "        \n",
    "        skimage.io.imsave(f'23_{j}_{i}_centroid.tiff', temp)\n",
    "\n"
   ]
  },
  {
   "cell_type": "markdown",
   "metadata": {
    "tags": []
   },
   "source": [
    "##### load average 315 horizontal sections from s1 and s2 samples then find contour"
   ]
  },
  {
   "cell_type": "code",
   "execution_count": 16,
   "metadata": {},
   "outputs": [],
   "source": [
    "def find_contour_fractionmax2d(axon_array, fraction):\n",
    "    \n",
    "    ''' input axon stack as 2d numpy array (id, already in horizontal sum projection) and fraction of maximal intensity wish to compute (ie. 0.95)\n",
    "    returns binary image and contour on horizontal sumprojection'''\n",
    "\n",
    "    \n",
    "    test1= skimage.filters.gaussian(axon_array, sigma=4)\n",
    "    # apply gaussian filter\n",
    "\n",
    "    #io.imshow(test1) \n",
    "    #io.show()\n",
    "    # show sum projection in horizontal view\n",
    "    \n",
    "    contour1= np.max(test1) * fraction\n",
    "    threshold1= test1>contour1\n",
    "    # find 95% of max intensity and threshold\n",
    "\n",
    "    #io.imshow(threshold1) \n",
    "    #io.show()\n",
    "    \n",
    "    outline= skimage.segmentation.find_boundaries(threshold1, mode='inner').astype(np.uint8)\n",
    "    #find outline of the segmentation\n",
    "\n",
    "    #io.imshow(outline) \n",
    "    #io.show()\n",
    "    \n",
    "    return threshold1, outline"
   ]
  },
  {
   "cell_type": "code",
   "execution_count": 44,
   "metadata": {},
   "outputs": [],
   "source": [
    "s1=io.imread(r'M:\\analysis\\Yanqi_Liu\\viral_image_analysis\\viral_results\\s1_s2\\region\\MO\\all_layers\\MO_avg_all_s1.tif')\n",
    "s2=io.imread(r'M:\\analysis\\Yanqi_Liu\\viral_image_analysis\\viral_results\\s1_s2\\region\\MO\\all_layers\\MO_avg_all_s2.tif')"
   ]
  },
  {
   "cell_type": "code",
   "execution_count": 51,
   "metadata": {},
   "outputs": [],
   "source": [
    "fractionmax=0.75\n",
    "thres1,outline1=find_contour_fractionmax2d(s1, fractionmax)\n",
    "thres2,outline2=find_contour_fractionmax2d(s2, fractionmax)"
   ]
  },
  {
   "cell_type": "code",
   "execution_count": 49,
   "metadata": {},
   "outputs": [],
   "source": [
    "site='s1'\n",
    "outline=outline1\n",
    "threshold=thres1"
   ]
  },
  {
   "cell_type": "code",
   "execution_count": 50,
   "metadata": {},
   "outputs": [
    {
     "name": "stdout",
     "output_type": "stream",
     "text": [
      "centroid for s1 injection is ML= 0.96mm,AP= 1.03mm\n"
     ]
    },
    {
     "name": "stderr",
     "output_type": "stream",
     "text": [
      "C:\\Users\\liu\\AppData\\Local\\Temp\\ipykernel_14184\\92384439.py:3: UserWarning: s1_contour.tiff is a low contrast image\n",
      "  skimage.io.imsave(f'{site}_contour.tiff', outline)\n",
      "C:\\Users\\liu\\AppData\\Local\\Temp\\ipykernel_14184\\92384439.py:28: UserWarning: s1_centroid.tiff is a low contrast image\n",
      "  skimage.io.imsave(f'{site}_centroid.tiff', temp)\n"
     ]
    }
   ],
   "source": [
    "outline=outline.astype(np.int8)\n",
    "# convert to 8 bit, for easier merge in image J since the centoid image next will be 8 bit\n",
    "skimage.io.imsave(f'{site}_contour_{fractionmax}.tiff', outline)\n",
    "# save the contour image\n",
    "\n",
    "label_img = skimage.measure.label(threshold)\n",
    "region=skimage.measure.regionprops(label_img)\n",
    "# measure connected components\n",
    "\n",
    "temp= np.zeros_like(s1)\n",
    "# create empty array to plot the centoirds\n",
    "\n",
    "for k in region:\n",
    "    AP_pix,ML_pix= k.centroid\n",
    "    # extract coordinates for centroid\n",
    "\n",
    "    AP_pix=int(AP_pix)\n",
    "    ML_pix=int(ML_pix)\n",
    "\n",
    "    temp[AP_pix,ML_pix]=1\n",
    "    # plot the centroid for each connected component\n",
    "\n",
    "    ML,AP= conv_stereo(ML_pix,AP_pix,25)\n",
    "    # convert pixel values to seterotaxis coordinate\n",
    "    print(f'centroid for {site} injection is ML= {ML}mm,AP= {AP}mm')\n",
    "    \n",
    "temp=temp.astype(np.int8)\n",
    "skimage.io.imsave(f'{site}_centroid_{fractionmax}.tiff', temp)\n"
   ]
  },
  {
   "cell_type": "code",
   "execution_count": 48,
   "metadata": {},
   "outputs": [
    {
     "name": "stdout",
     "output_type": "stream",
     "text": [
      "centroid for s2 injection is ML= 0.81mm,AP= 1.43mm\n"
     ]
    },
    {
     "name": "stderr",
     "output_type": "stream",
     "text": [
      "C:\\Users\\liu\\AppData\\Local\\Temp\\ipykernel_14184\\2496800502.py:3: UserWarning: s2_contour.tiff is a low contrast image\n",
      "  skimage.io.imsave(f'{site}_contour.tiff', outline)\n",
      "C:\\Users\\liu\\AppData\\Local\\Temp\\ipykernel_14184\\2496800502.py:29: UserWarning: s2_centroid.tiff is a low contrast image\n",
      "  skimage.io.imsave(f'{site}_centroid.tiff', temp)\n"
     ]
    }
   ],
   "source": [
    "outline=outline.astype(np.int8)\n",
    "# convert to 8 bit, for easier merge in image J since the centoid image next will be 8 bit\n",
    "skimage.io.imsave(f'{site}_contour_{fractionmax}.tiff', outline)\n",
    "# save the contour image\n",
    "\n",
    "label_img = skimage.measure.label(threshold)\n",
    "region=skimage.measure.regionprops(label_img)\n",
    "# measure connected components\n",
    "\n",
    "temp= np.zeros_like(s1)\n",
    "# create empty array to plot the centoirds\n",
    "\n",
    "for k in region:\n",
    "    AP_pix,ML_pix= k.centroid\n",
    "    # extract coordinates for centroid\n",
    "\n",
    "    AP_pix=int(AP_pix)\n",
    "    ML_pix=int(ML_pix)\n",
    "\n",
    "    temp[AP_pix,ML_pix]=1\n",
    "    # plot the centroid for each connected component\n",
    "\n",
    "    ML,AP= conv_stereo(ML_pix,AP_pix,25)\n",
    "    # convert pixel values to seterotaxis coordinate\n",
    "    print(f'centroid for {site} injection is ML= {ML}mm,AP= {AP}mm')\n",
    "\n",
    "    \n",
    "temp=temp.astype(np.int8)\n",
    "skimage.io.imsave(f'{site}_centroid_{fractionmax}.tiff', temp)"
   ]
  },
  {
   "cell_type": "markdown",
   "metadata": {
    "jp-MarkdownHeadingCollapsed": true,
    "tags": []
   },
   "source": [
    "### section to create averaged image for a given injection site for a given mouse line\n",
    "\n",
    "Deprecated, this section is moved to layer_axon_analysis.ipynb\n",
    "\n",
    "6 mouselines *2 injection sites =12 total"
   ]
  },
  {
   "cell_type": "code",
   "execution_count": 2,
   "metadata": {},
   "outputs": [],
   "source": [
    "def save_tiff(numpystack, outname):\n",
    "    \n",
    "    '''save numpy stack as tiff'''\n",
    "    \n",
    "    print('Starting to saving tif files..')\n",
    "    \n",
    "    io.imsave(outname+'_axons.tif',numpystack)\n",
    "    \n",
    "    sum_0=np.sum(numpystack, axis=0)\n",
    "    sum_1=np.sum(numpystack, axis=1)\n",
    "    sum_2=np.sum(numpystack, axis=2)\n",
    "    io.imsave(outname+ '_sum_0.tif',sum_0)\n",
    "    io.imsave(outname+ '_sum_1.tif',sum_1)\n",
    "    io.imsave(outname+ '_sum_2.tif',sum_2)"
   ]
  },
  {
   "cell_type": "markdown",
   "metadata": {
    "tags": []
   },
   "source": [
    "#### s1 sim1 samples"
   ]
  },
  {
   "cell_type": "code",
   "execution_count": 29,
   "metadata": {},
   "outputs": [],
   "source": [
    "# s1 sim1 samples\n",
    "\n",
    "name_list= ['AL207','AL209','AL273']\n",
    "\n",
    "s1_sim1= np.zeros((320, 528, 456, len(name_list)))\n",
    "# create big empty array to store the axons arrays, with the first 3 dimensions as horizontal allen atlas and last dimension as number of samples in this group"
   ]
  },
  {
   "cell_type": "code",
   "execution_count": 31,
   "metadata": {},
   "outputs": [
    {
     "name": "stdout",
     "output_type": "stream",
     "text": [
      "loading AL207.npy\n",
      "loading AL209.npy\n",
      "loading AL273.npy\n"
     ]
    }
   ],
   "source": [
    "for count, i in enumerate (name_list):\n",
    "    print (f'loading {i}.npy')\n",
    "    axon= np.load (f'D:\\\\viral_results\\\\s1\\\\{i}.npy')\n",
    "    s1_sim1[:,:,:,count]=axon"
   ]
  },
  {
   "cell_type": "code",
   "execution_count": 44,
   "metadata": {},
   "outputs": [],
   "source": [
    "s1_sim1_avg= np.average(s1_sim1, axis=3)\n",
    "s1_sim1_avg.shape\n",
    "\n",
    "s1_sim1_avg[0,1,0]=len(name_list)\n",
    "# store the number of samples used to calculate this average at the [0,1,0] location\n",
    "# so that the value at [0,0,0] multiply by value at [0,1,0] equals the total number of axons for all samples in this group\n",
    "\n",
    "np.save('D:\\\\viral_results\\\\s1_s2\\\\s1_sim1_avg.npy', s1_sim1_avg)\n",
    "# save this averaged array\n"
   ]
  },
  {
   "cell_type": "code",
   "execution_count": 48,
   "metadata": {},
   "outputs": [
    {
     "name": "stdout",
     "output_type": "stream",
     "text": [
      "Starting to saving tif files..\n"
     ]
    },
    {
     "name": "stderr",
     "output_type": "stream",
     "text": [
      "C:\\Users\\liu\\AppData\\Local\\Temp\\ipykernel_12116\\828751201.py:7: UserWarning: D:\\viral_results\\s1_s2\\s1_sim1_avg_axons.tif is a low contrast image\n",
      "  io.imsave(outname+'_axons.tif',numpystack)\n",
      "C:\\Users\\liu\\AppData\\Local\\Temp\\ipykernel_12116\\828751201.py:12: UserWarning: D:\\viral_results\\s1_s2\\s1_sim1_avg_sum_0.tif is a low contrast image\n",
      "  io.imsave(outname+ '_sum_0.tif',sum_0)\n",
      "C:\\Users\\liu\\AppData\\Local\\Temp\\ipykernel_12116\\828751201.py:13: UserWarning: D:\\viral_results\\s1_s2\\s1_sim1_avg_sum_1.tif is a low contrast image\n",
      "  io.imsave(outname+ '_sum_1.tif',sum_1)\n",
      "C:\\Users\\liu\\AppData\\Local\\Temp\\ipykernel_12116\\828751201.py:14: UserWarning: D:\\viral_results\\s1_s2\\s1_sim1_avg_sum_2.tif is a low contrast image\n",
      "  io.imsave(outname+ '_sum_2.tif',sum_2)\n"
     ]
    }
   ],
   "source": [
    "# verify axons in plotly and then save as tiff stack & sum projections\n",
    "\n",
    "s1_sim1_avg[0,0,0]=0\n",
    "# dont forget to change the [0,0,0] position from the total number of axons back to 0!\n",
    "\n",
    "s1_sim1_avg[0,1,0]=0\n",
    "# dont forget to change the [0,1,0] position from the total number of samples in this group back to 0!\n",
    "\n",
    "viewer.add_image(s1_sim1_avg)\n",
    "\n",
    "save_tiff(s1_sim1_avg, 'D:\\\\viral_results\\\\s1_s2\\\\s1_sim1_avg')"
   ]
  },
  {
   "cell_type": "markdown",
   "metadata": {
    "jp-MarkdownHeadingCollapsed": true,
    "tags": []
   },
   "source": [
    "#### s2 sim1 samples"
   ]
  },
  {
   "cell_type": "code",
   "execution_count": 5,
   "metadata": {
    "tags": []
   },
   "outputs": [
    {
     "name": "stdout",
     "output_type": "stream",
     "text": [
      "loading AL281.npy\n",
      "loading AL286.npy\n",
      "loading AL321.npy\n",
      "loading AL322.npy\n",
      "Starting to saving tif files..\n"
     ]
    },
    {
     "name": "stderr",
     "output_type": "stream",
     "text": [
      "C:\\Users\\liu\\AppData\\Local\\Temp\\ipykernel_17252\\828751201.py:7: UserWarning: D:\\viral_results\\s1_s2\\s2_sim1_avg_axons.tif is a low contrast image\n",
      "  io.imsave(outname+'_axons.tif',numpystack)\n",
      "C:\\Users\\liu\\AppData\\Local\\Temp\\ipykernel_17252\\828751201.py:12: UserWarning: D:\\viral_results\\s1_s2\\s2_sim1_avg_sum_0.tif is a low contrast image\n",
      "  io.imsave(outname+ '_sum_0.tif',sum_0)\n",
      "C:\\Users\\liu\\AppData\\Local\\Temp\\ipykernel_17252\\828751201.py:13: UserWarning: D:\\viral_results\\s1_s2\\s2_sim1_avg_sum_1.tif is a low contrast image\n",
      "  io.imsave(outname+ '_sum_1.tif',sum_1)\n",
      "C:\\Users\\liu\\AppData\\Local\\Temp\\ipykernel_17252\\828751201.py:14: UserWarning: D:\\viral_results\\s1_s2\\s2_sim1_avg_sum_2.tif is a low contrast image\n",
      "  io.imsave(outname+ '_sum_2.tif',sum_2)\n"
     ]
    }
   ],
   "source": [
    "region='s2'\n",
    "mouse_line= 'sim1'\n",
    "\n",
    "name_list= ['AL281','AL286','AL321','AL322']\n",
    "\n",
    "emptyarray= np.zeros((320, 528, 456, len(name_list)))\n",
    "\n",
    "for count, i in enumerate (name_list):\n",
    "    print (f'loading {i}.npy')\n",
    "    axon= np.load (f'D:\\\\viral_results\\\\{region}\\\\{i}.npy')\n",
    "    emptyarray[:,:,:,count]=axon\n",
    "    \n",
    "emptyarray_avg= np.average(emptyarray, axis=3)\n",
    "emptyarray_avg.shape\n",
    "\n",
    "emptyarray_avg[0,1,0]=len(name_list)\n",
    "# store the number of samples used to calculate this average at the [0,1,0] location\n",
    "# so that the value at [0,0,0] multiply by value at [0,1,0] equals the total number of axons for all samples in this group\n",
    "\n",
    "np.save('D:\\\\viral_results\\\\s1_s2\\\\s2_sim1_avg.npy', emptyarray_avg)\n",
    "# save this averaged array\n",
    "\n",
    "emptyarray_avg[0,0,0]=0\n",
    "emptyarray_avg[0,1,0]=0\n",
    "\n",
    "save_tiff(emptyarray_avg, f'D:\\\\viral_results\\\\s1_s2\\\\{region}_{mouse_line}_avg')\n",
    "\n",
    "print(f'Done saving {region}_{mouse_line} data')"
   ]
  },
  {
   "cell_type": "markdown",
   "metadata": {
    "jp-MarkdownHeadingCollapsed": true,
    "tags": []
   },
   "source": [
    "#### s1 rbp samples"
   ]
  },
  {
   "cell_type": "code",
   "execution_count": 7,
   "metadata": {},
   "outputs": [
    {
     "name": "stdout",
     "output_type": "stream",
     "text": [
      "loading AL211.npy\n",
      "loading AL215.npy\n",
      "loading AL318.npy\n",
      "Starting to saving tif files..\n"
     ]
    },
    {
     "name": "stderr",
     "output_type": "stream",
     "text": [
      "C:\\Users\\liu\\AppData\\Local\\Temp\\ipykernel_17252\\828751201.py:7: UserWarning: D:\\viral_results\\s1_s2\\s1_rbp_avg_axons.tif is a low contrast image\n",
      "  io.imsave(outname+'_axons.tif',numpystack)\n"
     ]
    },
    {
     "name": "stdout",
     "output_type": "stream",
     "text": [
      "Done saving s1_rbp data\n"
     ]
    },
    {
     "name": "stderr",
     "output_type": "stream",
     "text": [
      "C:\\Users\\liu\\AppData\\Local\\Temp\\ipykernel_17252\\828751201.py:12: UserWarning: D:\\viral_results\\s1_s2\\s1_rbp_avg_sum_0.tif is a low contrast image\n",
      "  io.imsave(outname+ '_sum_0.tif',sum_0)\n",
      "C:\\Users\\liu\\AppData\\Local\\Temp\\ipykernel_17252\\828751201.py:13: UserWarning: D:\\viral_results\\s1_s2\\s1_rbp_avg_sum_1.tif is a low contrast image\n",
      "  io.imsave(outname+ '_sum_1.tif',sum_1)\n",
      "C:\\Users\\liu\\AppData\\Local\\Temp\\ipykernel_17252\\828751201.py:14: UserWarning: D:\\viral_results\\s1_s2\\s1_rbp_avg_sum_2.tif is a low contrast image\n",
      "  io.imsave(outname+ '_sum_2.tif',sum_2)\n"
     ]
    }
   ],
   "source": [
    "region='s1'\n",
    "mouse_line= 'rbp'\n",
    "\n",
    "name_list= ['AL211','AL215','AL318']\n",
    "\n",
    "emptyarray= np.zeros((320, 528, 456, len(name_list)))\n",
    "\n",
    "for count, i in enumerate (name_list):\n",
    "    print (f'loading {i}.npy')\n",
    "    axon= np.load (f'D:\\\\viral_results\\\\{region}\\\\{i}.npy')\n",
    "    emptyarray[:,:,:,count]=axon\n",
    "    \n",
    "emptyarray_avg= np.average(emptyarray, axis=3)\n",
    "emptyarray_avg.shape\n",
    "\n",
    "emptyarray_avg[0,1,0]=len(name_list)\n",
    "# store the number of samples used to calculate this average at the [0,1,0] location\n",
    "# so that the value at [0,0,0] multiply by value at [0,1,0] equals the total number of axons for all samples in this group\n",
    "\n",
    "np.save(f'D:\\\\viral_results\\\\s1_s2\\\\{region}_{mouse_line}_avg.npy', emptyarray_avg)\n",
    "# save this averaged array\n",
    "\n",
    "emptyarray_avg[0,0,0]=0\n",
    "emptyarray_avg[0,1,0]=0\n",
    "\n",
    "save_tiff(emptyarray_avg, f'D:\\\\viral_results\\\\s1_s2\\\\{region}_{mouse_line}_avg')\n",
    "\n",
    "print(f'Done saving {region}_{mouse_line} data')"
   ]
  },
  {
   "cell_type": "markdown",
   "metadata": {
    "jp-MarkdownHeadingCollapsed": true,
    "tags": []
   },
   "source": [
    "#### s2 rbp samples"
   ]
  },
  {
   "cell_type": "code",
   "execution_count": 7,
   "metadata": {},
   "outputs": [
    {
     "name": "stdout",
     "output_type": "stream",
     "text": [
      "loading AL211.npy\n",
      "loading AL215.npy\n",
      "loading AL318.npy\n",
      "Starting to saving tif files..\n"
     ]
    },
    {
     "name": "stderr",
     "output_type": "stream",
     "text": [
      "C:\\Users\\liu\\AppData\\Local\\Temp\\ipykernel_17252\\828751201.py:7: UserWarning: D:\\viral_results\\s1_s2\\s1_rbp_avg_axons.tif is a low contrast image\n",
      "  io.imsave(outname+'_axons.tif',numpystack)\n"
     ]
    },
    {
     "name": "stdout",
     "output_type": "stream",
     "text": [
      "Done saving s1_rbp data\n"
     ]
    },
    {
     "name": "stderr",
     "output_type": "stream",
     "text": [
      "C:\\Users\\liu\\AppData\\Local\\Temp\\ipykernel_17252\\828751201.py:12: UserWarning: D:\\viral_results\\s1_s2\\s1_rbp_avg_sum_0.tif is a low contrast image\n",
      "  io.imsave(outname+ '_sum_0.tif',sum_0)\n",
      "C:\\Users\\liu\\AppData\\Local\\Temp\\ipykernel_17252\\828751201.py:13: UserWarning: D:\\viral_results\\s1_s2\\s1_rbp_avg_sum_1.tif is a low contrast image\n",
      "  io.imsave(outname+ '_sum_1.tif',sum_1)\n",
      "C:\\Users\\liu\\AppData\\Local\\Temp\\ipykernel_17252\\828751201.py:14: UserWarning: D:\\viral_results\\s1_s2\\s1_rbp_avg_sum_2.tif is a low contrast image\n",
      "  io.imsave(outname+ '_sum_2.tif',sum_2)\n"
     ]
    }
   ],
   "source": [
    "region='s2'\n",
    "mouse_line= 'rbp'\n",
    "\n",
    "name_list= ['AL288','AL326','AL327']\n",
    "\n",
    "emptyarray= np.zeros((320, 528, 456, len(name_list)))\n",
    "\n",
    "for count, i in enumerate (name_list):\n",
    "    print (f'loading {i}.npy')\n",
    "    axon= np.load (f'D:\\\\viral_results\\\\{region}\\\\{i}.npy')\n",
    "    emptyarray[:,:,:,count]=axon\n",
    "    \n",
    "emptyarray_avg= np.average(emptyarray, axis=3)\n",
    "emptyarray_avg.shape\n",
    "\n",
    "emptyarray_avg[0,1,0]=len(name_list)\n",
    "# store the number of samples used to calculate this average at the [0,1,0] location\n",
    "# so that the value at [0,0,0] multiply by value at [0,1,0] equals the total number of axons for all samples in this group\n",
    "\n",
    "np.save(f'D:\\\\viral_results\\\\s1_s2\\\\{region}_{mouse_line}_avg.npy', emptyarray_avg)\n",
    "# save this averaged array\n",
    "\n",
    "emptyarray_avg[0,0,0]=0\n",
    "emptyarray_avg[0,1,0]=0\n",
    "\n",
    "save_tiff(emptyarray_avg, f'D:\\\\viral_results\\\\s1_s2\\\\{region}_{mouse_line}_avg')\n",
    "\n",
    "print(f'Done saving {region}_{mouse_line} data')"
   ]
  },
  {
   "cell_type": "markdown",
   "metadata": {
    "jp-MarkdownHeadingCollapsed": true,
    "tags": []
   },
   "source": [
    "#### s1 tlx samples"
   ]
  },
  {
   "cell_type": "code",
   "execution_count": 10,
   "metadata": {},
   "outputs": [
    {
     "name": "stdout",
     "output_type": "stream",
     "text": [
      "loading AL213.npy\n",
      "loading AL313.npy\n",
      "loading AL314.npy\n",
      "Starting to saving tif files..\n"
     ]
    },
    {
     "name": "stderr",
     "output_type": "stream",
     "text": [
      "C:\\Users\\liu\\AppData\\Local\\Temp\\ipykernel_17252\\828751201.py:7: UserWarning: D:\\viral_results\\s1_s2\\s1_tlx_avg_axons.tif is a low contrast image\n",
      "  io.imsave(outname+'_axons.tif',numpystack)\n"
     ]
    },
    {
     "name": "stdout",
     "output_type": "stream",
     "text": [
      "Done saving s1_tlx data\n"
     ]
    },
    {
     "name": "stderr",
     "output_type": "stream",
     "text": [
      "C:\\Users\\liu\\AppData\\Local\\Temp\\ipykernel_17252\\828751201.py:12: UserWarning: D:\\viral_results\\s1_s2\\s1_tlx_avg_sum_0.tif is a low contrast image\n",
      "  io.imsave(outname+ '_sum_0.tif',sum_0)\n",
      "C:\\Users\\liu\\AppData\\Local\\Temp\\ipykernel_17252\\828751201.py:13: UserWarning: D:\\viral_results\\s1_s2\\s1_tlx_avg_sum_1.tif is a low contrast image\n",
      "  io.imsave(outname+ '_sum_1.tif',sum_1)\n",
      "C:\\Users\\liu\\AppData\\Local\\Temp\\ipykernel_17252\\828751201.py:14: UserWarning: D:\\viral_results\\s1_s2\\s1_tlx_avg_sum_2.tif is a low contrast image\n",
      "  io.imsave(outname+ '_sum_2.tif',sum_2)\n"
     ]
    }
   ],
   "source": [
    "region='s1'\n",
    "mouse_line= 'tlx'\n",
    "\n",
    "name_list= ['AL213','AL313','AL314']\n",
    "\n",
    "emptyarray= np.zeros((320, 528, 456, len(name_list)))\n",
    "\n",
    "for count, i in enumerate (name_list):\n",
    "    print (f'loading {i}.npy')\n",
    "    axon= np.load (f'D:\\\\viral_results\\\\{region}\\\\{i}.npy')\n",
    "    emptyarray[:,:,:,count]=axon\n",
    "    \n",
    "emptyarray_avg= np.average(emptyarray, axis=3)\n",
    "emptyarray_avg.shape\n",
    "\n",
    "emptyarray_avg[0,1,0]=len(name_list)\n",
    "# store the number of samples used to calculate this average at the [0,1,0] location\n",
    "# so that the value at [0,0,0] multiply by value at [0,1,0] equals the total number of axons for all samples in this group\n",
    "\n",
    "np.save(f'D:\\\\viral_results\\\\s1_s2\\\\{region}_{mouse_line}_avg.npy', emptyarray_avg)\n",
    "# save this averaged array\n",
    "\n",
    "emptyarray_avg[0,0,0]=0\n",
    "emptyarray_avg[0,1,0]=0\n",
    "\n",
    "save_tiff(emptyarray_avg, f'D:\\\\viral_results\\\\s1_s2\\\\{region}_{mouse_line}_avg')\n",
    "\n",
    "print(f'Done saving {region}_{mouse_line} data')"
   ]
  },
  {
   "cell_type": "markdown",
   "metadata": {
    "jp-MarkdownHeadingCollapsed": true,
    "tags": []
   },
   "source": [
    "#### s2 tlx samples"
   ]
  },
  {
   "cell_type": "code",
   "execution_count": 11,
   "metadata": {},
   "outputs": [
    {
     "name": "stdout",
     "output_type": "stream",
     "text": [
      "loading AL278.npy\n",
      "loading AL280.npy\n",
      "loading AL319.npy\n",
      "Starting to saving tif files..\n"
     ]
    },
    {
     "name": "stderr",
     "output_type": "stream",
     "text": [
      "C:\\Users\\liu\\AppData\\Local\\Temp\\ipykernel_17252\\828751201.py:7: UserWarning: D:\\viral_results\\s1_s2\\s2_tlx_avg_axons.tif is a low contrast image\n",
      "  io.imsave(outname+'_axons.tif',numpystack)\n"
     ]
    },
    {
     "name": "stdout",
     "output_type": "stream",
     "text": [
      "Done saving s2_tlx data\n"
     ]
    },
    {
     "name": "stderr",
     "output_type": "stream",
     "text": [
      "C:\\Users\\liu\\AppData\\Local\\Temp\\ipykernel_17252\\828751201.py:12: UserWarning: D:\\viral_results\\s1_s2\\s2_tlx_avg_sum_0.tif is a low contrast image\n",
      "  io.imsave(outname+ '_sum_0.tif',sum_0)\n",
      "C:\\Users\\liu\\AppData\\Local\\Temp\\ipykernel_17252\\828751201.py:13: UserWarning: D:\\viral_results\\s1_s2\\s2_tlx_avg_sum_1.tif is a low contrast image\n",
      "  io.imsave(outname+ '_sum_1.tif',sum_1)\n",
      "C:\\Users\\liu\\AppData\\Local\\Temp\\ipykernel_17252\\828751201.py:14: UserWarning: D:\\viral_results\\s1_s2\\s2_tlx_avg_sum_2.tif is a low contrast image\n",
      "  io.imsave(outname+ '_sum_2.tif',sum_2)\n"
     ]
    }
   ],
   "source": [
    "region='s2'\n",
    "mouse_line= 'tlx'\n",
    "\n",
    "name_list= ['AL278','AL280','AL319']\n",
    "\n",
    "emptyarray= np.zeros((320, 528, 456, len(name_list)))\n",
    "\n",
    "for count, i in enumerate (name_list):\n",
    "    print (f'loading {i}.npy')\n",
    "    axon= np.load (f'D:\\\\viral_results\\\\{region}\\\\{i}.npy')\n",
    "    emptyarray[:,:,:,count]=axon\n",
    "    \n",
    "emptyarray_avg= np.average(emptyarray, axis=3)\n",
    "emptyarray_avg.shape\n",
    "\n",
    "emptyarray_avg[0,1,0]=len(name_list)\n",
    "# store the number of samples used to calculate this average at the [0,1,0] location\n",
    "# so that the value at [0,0,0] multiply by value at [0,1,0] equals the total number of axons for all samples in this group\n",
    "\n",
    "np.save(f'D:\\\\viral_results\\\\s1_s2\\\\{region}_{mouse_line}_avg.npy', emptyarray_avg)\n",
    "# save this averaged array\n",
    "\n",
    "emptyarray_avg[0,0,0]=0\n",
    "emptyarray_avg[0,1,0]=0\n",
    "\n",
    "save_tiff(emptyarray_avg, f'D:\\\\viral_results\\\\s1_s2\\\\{region}_{mouse_line}_avg')\n",
    "\n",
    "print(f'Done saving {region}_{mouse_line} data')"
   ]
  },
  {
   "cell_type": "markdown",
   "metadata": {
    "jp-MarkdownHeadingCollapsed": true,
    "tags": []
   },
   "source": [
    "#### s1 ras samples"
   ]
  },
  {
   "cell_type": "code",
   "execution_count": 12,
   "metadata": {},
   "outputs": [
    {
     "name": "stdout",
     "output_type": "stream",
     "text": [
      "loading AL254.npy\n",
      "loading AL255.npy\n",
      "loading AL257.npy\n",
      "Starting to saving tif files..\n"
     ]
    },
    {
     "name": "stderr",
     "output_type": "stream",
     "text": [
      "C:\\Users\\liu\\AppData\\Local\\Temp\\ipykernel_17252\\828751201.py:7: UserWarning: D:\\viral_results\\s1_s2\\s1_ras_avg_axons.tif is a low contrast image\n",
      "  io.imsave(outname+'_axons.tif',numpystack)\n"
     ]
    },
    {
     "name": "stdout",
     "output_type": "stream",
     "text": [
      "Done saving s1_ras data\n"
     ]
    },
    {
     "name": "stderr",
     "output_type": "stream",
     "text": [
      "C:\\Users\\liu\\AppData\\Local\\Temp\\ipykernel_17252\\828751201.py:12: UserWarning: D:\\viral_results\\s1_s2\\s1_ras_avg_sum_0.tif is a low contrast image\n",
      "  io.imsave(outname+ '_sum_0.tif',sum_0)\n",
      "C:\\Users\\liu\\AppData\\Local\\Temp\\ipykernel_17252\\828751201.py:13: UserWarning: D:\\viral_results\\s1_s2\\s1_ras_avg_sum_1.tif is a low contrast image\n",
      "  io.imsave(outname+ '_sum_1.tif',sum_1)\n",
      "C:\\Users\\liu\\AppData\\Local\\Temp\\ipykernel_17252\\828751201.py:14: UserWarning: D:\\viral_results\\s1_s2\\s1_ras_avg_sum_2.tif is a low contrast image\n",
      "  io.imsave(outname+ '_sum_2.tif',sum_2)\n"
     ]
    }
   ],
   "source": [
    "region='s1'\n",
    "mouse_line= 'ras'\n",
    "\n",
    "name_list= ['AL254','AL255','AL257']\n",
    "\n",
    "emptyarray= np.zeros((320, 528, 456, len(name_list)))\n",
    "\n",
    "for count, i in enumerate (name_list):\n",
    "    print (f'loading {i}.npy')\n",
    "    axon= np.load (f'D:\\\\viral_results\\\\{region}\\\\{i}.npy')\n",
    "    emptyarray[:,:,:,count]=axon\n",
    "    \n",
    "emptyarray_avg= np.average(emptyarray, axis=3)\n",
    "emptyarray_avg.shape\n",
    "\n",
    "emptyarray_avg[0,1,0]=len(name_list)\n",
    "# store the number of samples used to calculate this average at the [0,1,0] location\n",
    "# so that the value at [0,0,0] multiply by value at [0,1,0] equals the total number of axons for all samples in this group\n",
    "\n",
    "np.save(f'D:\\\\viral_results\\\\s1_s2\\\\{region}_{mouse_line}_avg.npy', emptyarray_avg)\n",
    "# save this averaged array\n",
    "\n",
    "emptyarray_avg[0,0,0]=0\n",
    "emptyarray_avg[0,1,0]=0\n",
    "\n",
    "save_tiff(emptyarray_avg, f'D:\\\\viral_results\\\\s1_s2\\\\{region}_{mouse_line}_avg')\n",
    "\n",
    "print(f'Done saving {region}_{mouse_line} data')"
   ]
  },
  {
   "cell_type": "markdown",
   "metadata": {
    "jp-MarkdownHeadingCollapsed": true,
    "tags": []
   },
   "source": [
    "#### s2 ras samples "
   ]
  },
  {
   "cell_type": "code",
   "execution_count": 4,
   "metadata": {
    "collapsed": true,
    "jupyter": {
     "outputs_hidden": true
    },
    "tags": []
   },
   "outputs": [
    {
     "name": "stdout",
     "output_type": "stream",
     "text": [
      "loading AL303.npy\n",
      "loading AL332.npy\n",
      "loading AL333.npy\n",
      "Starting to saving tif files..\n"
     ]
    },
    {
     "name": "stderr",
     "output_type": "stream",
     "text": [
      "C:\\Users\\liu\\AppData\\Local\\Temp\\ipykernel_7772\\828751201.py:7: UserWarning: D:\\viral_results\\s1_s2\\s2_ras_avg_axons.tif is a low contrast image\n",
      "  io.imsave(outname+'_axons.tif',numpystack)\n"
     ]
    },
    {
     "name": "stdout",
     "output_type": "stream",
     "text": [
      "Done saving s2_ras data\n"
     ]
    },
    {
     "name": "stderr",
     "output_type": "stream",
     "text": [
      "C:\\Users\\liu\\AppData\\Local\\Temp\\ipykernel_7772\\828751201.py:12: UserWarning: D:\\viral_results\\s1_s2\\s2_ras_avg_sum_0.tif is a low contrast image\n",
      "  io.imsave(outname+ '_sum_0.tif',sum_0)\n",
      "C:\\Users\\liu\\AppData\\Local\\Temp\\ipykernel_7772\\828751201.py:13: UserWarning: D:\\viral_results\\s1_s2\\s2_ras_avg_sum_1.tif is a low contrast image\n",
      "  io.imsave(outname+ '_sum_1.tif',sum_1)\n",
      "C:\\Users\\liu\\AppData\\Local\\Temp\\ipykernel_7772\\828751201.py:14: UserWarning: D:\\viral_results\\s1_s2\\s2_ras_avg_sum_2.tif is a low contrast image\n",
      "  io.imsave(outname+ '_sum_2.tif',sum_2)\n"
     ]
    }
   ],
   "source": [
    "region='s2'\n",
    "mouse_line= 'ras'\n",
    "\n",
    "name_list= ['AL303','AL332','AL333']\n",
    "\n",
    "emptyarray= np.zeros((320, 528, 456, len(name_list)))\n",
    "\n",
    "for count, i in enumerate (name_list):\n",
    "    print (f'loading {i}.npy')\n",
    "    axon= np.load (f'D:\\\\viral_results\\\\{region}\\\\{i}.npy')\n",
    "    emptyarray[:,:,:,count]=axon\n",
    "    \n",
    "emptyarray_avg= np.average(emptyarray, axis=3)\n",
    "emptyarray_avg.shape\n",
    "\n",
    "emptyarray_avg[0,1,0]=len(name_list)\n",
    "# store the number of samples used to calculate this average at the [0,1,0] location\n",
    "# so that the value at [0,0,0] multiply by value at [0,1,0] equals the total number of axons for all samples in this group\n",
    "\n",
    "np.save(f'D:\\\\viral_results\\\\s1_s2\\\\{region}_{mouse_line}_avg.npy', emptyarray_avg)\n",
    "# save this averaged array\n",
    "\n",
    "emptyarray_avg[0,0,0]=0\n",
    "emptyarray_avg[0,1,0]=0\n",
    "\n",
    "save_tiff(emptyarray_avg, f'D:\\\\viral_results\\\\s1_s2\\\\{region}_{mouse_line}_avg')\n",
    "\n",
    "print(f'Done saving {region}_{mouse_line} data')"
   ]
  },
  {
   "cell_type": "markdown",
   "metadata": {
    "jp-MarkdownHeadingCollapsed": true,
    "tags": []
   },
   "source": [
    "#### s1 scn sample"
   ]
  },
  {
   "cell_type": "code",
   "execution_count": 14,
   "metadata": {
    "tags": []
   },
   "outputs": [
    {
     "name": "stdout",
     "output_type": "stream",
     "text": [
      "loading AL290.npy\n",
      "loading AL291.npy\n",
      "loading AL292.npy\n",
      "loading AL293.npy\n",
      "Starting to saving tif files..\n"
     ]
    },
    {
     "name": "stderr",
     "output_type": "stream",
     "text": [
      "C:\\Users\\liu\\AppData\\Local\\Temp\\ipykernel_17252\\828751201.py:7: UserWarning: D:\\viral_results\\s1_s2\\s1_scn_avg_axons.tif is a low contrast image\n",
      "  io.imsave(outname+'_axons.tif',numpystack)\n"
     ]
    },
    {
     "name": "stdout",
     "output_type": "stream",
     "text": [
      "Done saving s1_scn data\n"
     ]
    },
    {
     "name": "stderr",
     "output_type": "stream",
     "text": [
      "C:\\Users\\liu\\AppData\\Local\\Temp\\ipykernel_17252\\828751201.py:12: UserWarning: D:\\viral_results\\s1_s2\\s1_scn_avg_sum_0.tif is a low contrast image\n",
      "  io.imsave(outname+ '_sum_0.tif',sum_0)\n",
      "C:\\Users\\liu\\AppData\\Local\\Temp\\ipykernel_17252\\828751201.py:13: UserWarning: D:\\viral_results\\s1_s2\\s1_scn_avg_sum_1.tif is a low contrast image\n",
      "  io.imsave(outname+ '_sum_1.tif',sum_1)\n",
      "C:\\Users\\liu\\AppData\\Local\\Temp\\ipykernel_17252\\828751201.py:14: UserWarning: D:\\viral_results\\s1_s2\\s1_scn_avg_sum_2.tif is a low contrast image\n",
      "  io.imsave(outname+ '_sum_2.tif',sum_2)\n"
     ]
    }
   ],
   "source": [
    "region='s1'\n",
    "mouse_line= 'scn'\n",
    "\n",
    "name_list= ['AL290','AL291','AL292','AL293']\n",
    "\n",
    "emptyarray= np.zeros((320, 528, 456, len(name_list)))\n",
    "\n",
    "for count, i in enumerate (name_list):\n",
    "    print (f'loading {i}.npy')\n",
    "    axon= np.load (f'D:\\\\viral_results\\\\{region}\\\\{i}.npy')\n",
    "    emptyarray[:,:,:,count]=axon\n",
    "    \n",
    "emptyarray_avg= np.average(emptyarray, axis=3)\n",
    "emptyarray_avg.shape\n",
    "\n",
    "emptyarray_avg[0,1,0]=len(name_list)\n",
    "# store the number of samples used to calculate this average at the [0,1,0] location\n",
    "# so that the value at [0,0,0] multiply by value at [0,1,0] equals the total number of axons for all samples in this group\n",
    "\n",
    "np.save(f'D:\\\\viral_results\\\\s1_s2\\\\{region}_{mouse_line}_avg.npy', emptyarray_avg)\n",
    "# save this averaged array\n",
    "\n",
    "emptyarray_avg[0,0,0]=0\n",
    "emptyarray_avg[0,1,0]=0\n",
    "\n",
    "save_tiff(emptyarray_avg, f'D:\\\\viral_results\\\\s1_s2\\\\{region}_{mouse_line}_avg')\n",
    "\n",
    "print(f'Done saving {region}_{mouse_line} data')"
   ]
  },
  {
   "cell_type": "markdown",
   "metadata": {
    "jp-MarkdownHeadingCollapsed": true,
    "tags": []
   },
   "source": [
    "#### s2 scn sample"
   ]
  },
  {
   "cell_type": "code",
   "execution_count": 16,
   "metadata": {},
   "outputs": [
    {
     "name": "stdout",
     "output_type": "stream",
     "text": [
      "loading AL290.npy\n",
      "loading AL292.npy\n",
      "loading AL323.npy\n",
      "Starting to saving tif files..\n"
     ]
    },
    {
     "name": "stderr",
     "output_type": "stream",
     "text": [
      "C:\\Users\\liu\\AppData\\Local\\Temp\\ipykernel_17252\\828751201.py:7: UserWarning: D:\\viral_results\\s1_s2\\s2_scn_avg_axons.tif is a low contrast image\n",
      "  io.imsave(outname+'_axons.tif',numpystack)\n"
     ]
    },
    {
     "name": "stdout",
     "output_type": "stream",
     "text": [
      "Done saving s2_scn data\n"
     ]
    },
    {
     "name": "stderr",
     "output_type": "stream",
     "text": [
      "C:\\Users\\liu\\AppData\\Local\\Temp\\ipykernel_17252\\828751201.py:12: UserWarning: D:\\viral_results\\s1_s2\\s2_scn_avg_sum_0.tif is a low contrast image\n",
      "  io.imsave(outname+ '_sum_0.tif',sum_0)\n",
      "C:\\Users\\liu\\AppData\\Local\\Temp\\ipykernel_17252\\828751201.py:13: UserWarning: D:\\viral_results\\s1_s2\\s2_scn_avg_sum_1.tif is a low contrast image\n",
      "  io.imsave(outname+ '_sum_1.tif',sum_1)\n",
      "C:\\Users\\liu\\AppData\\Local\\Temp\\ipykernel_17252\\828751201.py:14: UserWarning: D:\\viral_results\\s1_s2\\s2_scn_avg_sum_2.tif is a low contrast image\n",
      "  io.imsave(outname+ '_sum_2.tif',sum_2)\n"
     ]
    }
   ],
   "source": [
    "region='s2'\n",
    "mouse_line= 'scn'\n",
    "\n",
    "name_list= ['AL290','AL292','AL323']\n",
    "\n",
    "emptyarray= np.zeros((320, 528, 456, len(name_list)))\n",
    "\n",
    "for count, i in enumerate (name_list):\n",
    "    print (f'loading {i}.npy')\n",
    "    axon= np.load (f'D:\\\\viral_results\\\\{region}\\\\{i}.npy')\n",
    "    emptyarray[:,:,:,count]=axon\n",
    "    \n",
    "emptyarray_avg= np.average(emptyarray, axis=3)\n",
    "emptyarray_avg.shape\n",
    "\n",
    "emptyarray_avg[0,1,0]=len(name_list)\n",
    "# store the number of samples used to calculate this average at the [0,1,0] location\n",
    "# so that the value at [0,0,0] multiply by value at [0,1,0] equals the total number of axons for all samples in this group\n",
    "\n",
    "np.save(f'D:\\\\viral_results\\\\s1_s2\\\\{region}_{mouse_line}_avg.npy', emptyarray_avg)\n",
    "# save this averaged array\n",
    "\n",
    "emptyarray_avg[0,0,0]=0\n",
    "emptyarray_avg[0,1,0]=0\n",
    "\n",
    "save_tiff(emptyarray_avg, f'D:\\\\viral_results\\\\s1_s2\\\\{region}_{mouse_line}_avg')\n",
    "\n",
    "print(f'Done saving {region}_{mouse_line} data')"
   ]
  },
  {
   "cell_type": "markdown",
   "metadata": {
    "jp-MarkdownHeadingCollapsed": true,
    "tags": []
   },
   "source": [
    "#### s1 ntsr samples"
   ]
  },
  {
   "cell_type": "code",
   "execution_count": 17,
   "metadata": {},
   "outputs": [
    {
     "name": "stdout",
     "output_type": "stream",
     "text": [
      "loading AL274.npy\n",
      "loading AL285.npy\n",
      "loading AL311.npy\n",
      "Starting to saving tif files..\n"
     ]
    },
    {
     "name": "stderr",
     "output_type": "stream",
     "text": [
      "C:\\Users\\liu\\AppData\\Local\\Temp\\ipykernel_17252\\828751201.py:7: UserWarning: D:\\viral_results\\s1_s2\\s1_ntsr_avg_axons.tif is a low contrast image\n",
      "  io.imsave(outname+'_axons.tif',numpystack)\n"
     ]
    },
    {
     "name": "stdout",
     "output_type": "stream",
     "text": [
      "Done saving s1_ntsr data\n"
     ]
    },
    {
     "name": "stderr",
     "output_type": "stream",
     "text": [
      "C:\\Users\\liu\\AppData\\Local\\Temp\\ipykernel_17252\\828751201.py:12: UserWarning: D:\\viral_results\\s1_s2\\s1_ntsr_avg_sum_0.tif is a low contrast image\n",
      "  io.imsave(outname+ '_sum_0.tif',sum_0)\n",
      "C:\\Users\\liu\\AppData\\Local\\Temp\\ipykernel_17252\\828751201.py:13: UserWarning: D:\\viral_results\\s1_s2\\s1_ntsr_avg_sum_1.tif is a low contrast image\n",
      "  io.imsave(outname+ '_sum_1.tif',sum_1)\n",
      "C:\\Users\\liu\\AppData\\Local\\Temp\\ipykernel_17252\\828751201.py:14: UserWarning: D:\\viral_results\\s1_s2\\s1_ntsr_avg_sum_2.tif is a low contrast image\n",
      "  io.imsave(outname+ '_sum_2.tif',sum_2)\n"
     ]
    }
   ],
   "source": [
    "region='s1'\n",
    "mouse_line= 'ntsr'\n",
    "\n",
    "name_list= ['AL274','AL285','AL311']\n",
    "\n",
    "emptyarray= np.zeros((320, 528, 456, len(name_list)))\n",
    "\n",
    "for count, i in enumerate (name_list):\n",
    "    print (f'loading {i}.npy')\n",
    "    axon= np.load (f'D:\\\\viral_results\\\\{region}\\\\{i}.npy')\n",
    "    emptyarray[:,:,:,count]=axon\n",
    "    \n",
    "emptyarray_avg= np.average(emptyarray, axis=3)\n",
    "emptyarray_avg.shape\n",
    "\n",
    "emptyarray_avg[0,1,0]=len(name_list)\n",
    "# store the number of samples used to calculate this average at the [0,1,0] location\n",
    "# so that the value at [0,0,0] multiply by value at [0,1,0] equals the total number of axons for all samples in this group\n",
    "\n",
    "np.save(f'D:\\\\viral_results\\\\s1_s2\\\\{region}_{mouse_line}_avg.npy', emptyarray_avg)\n",
    "# save this averaged array\n",
    "\n",
    "emptyarray_avg[0,0,0]=0\n",
    "emptyarray_avg[0,1,0]=0\n",
    "\n",
    "save_tiff(emptyarray_avg, f'D:\\\\viral_results\\\\s1_s2\\\\{region}_{mouse_line}_avg')\n",
    "\n",
    "print(f'Done saving {region}_{mouse_line} data')"
   ]
  },
  {
   "cell_type": "markdown",
   "metadata": {
    "jp-MarkdownHeadingCollapsed": true,
    "tags": []
   },
   "source": [
    "#### s2 ntsr samples"
   ]
  },
  {
   "cell_type": "code",
   "execution_count": 3,
   "metadata": {},
   "outputs": [
    {
     "name": "stdout",
     "output_type": "stream",
     "text": [
      "loading AL274.npy\n",
      "loading AL310.npy\n",
      "loading AL330.npy\n",
      "Starting to saving tif files..\n"
     ]
    },
    {
     "name": "stderr",
     "output_type": "stream",
     "text": [
      "C:\\Users\\liu\\AppData\\Local\\Temp\\ipykernel_6316\\828751201.py:7: UserWarning: D:\\viral_results\\s1_s2\\s2_ntsr_avg_axons.tif is a low contrast image\n",
      "  io.imsave(outname+'_axons.tif',numpystack)\n"
     ]
    },
    {
     "name": "stdout",
     "output_type": "stream",
     "text": [
      "Done saving s2_ntsr data\n"
     ]
    },
    {
     "name": "stderr",
     "output_type": "stream",
     "text": [
      "C:\\Users\\liu\\AppData\\Local\\Temp\\ipykernel_6316\\828751201.py:12: UserWarning: D:\\viral_results\\s1_s2\\s2_ntsr_avg_sum_0.tif is a low contrast image\n",
      "  io.imsave(outname+ '_sum_0.tif',sum_0)\n",
      "C:\\Users\\liu\\AppData\\Local\\Temp\\ipykernel_6316\\828751201.py:13: UserWarning: D:\\viral_results\\s1_s2\\s2_ntsr_avg_sum_1.tif is a low contrast image\n",
      "  io.imsave(outname+ '_sum_1.tif',sum_1)\n",
      "C:\\Users\\liu\\AppData\\Local\\Temp\\ipykernel_6316\\828751201.py:14: UserWarning: D:\\viral_results\\s1_s2\\s2_ntsr_avg_sum_2.tif is a low contrast image\n",
      "  io.imsave(outname+ '_sum_2.tif',sum_2)\n"
     ]
    }
   ],
   "source": [
    "region='s2'\n",
    "mouse_line= 'ntsr'\n",
    "\n",
    "name_list= ['AL274','AL310','AL330']\n",
    "\n",
    "emptyarray= np.zeros((320, 528, 456, len(name_list)))\n",
    "\n",
    "for count, i in enumerate (name_list):\n",
    "    print (f'loading {i}.npy')\n",
    "    axon= np.load (f'D:\\\\viral_results\\\\{region}\\\\{i}.npy')\n",
    "    emptyarray[:,:,:,count]=axon\n",
    "    \n",
    "emptyarray_avg= np.average(emptyarray, axis=3)\n",
    "emptyarray_avg.shape\n",
    "\n",
    "emptyarray_avg[0,1,0]=len(name_list)\n",
    "# store the number of samples used to calculate this average at the [0,1,0] location\n",
    "# so that the value at [0,0,0] multiply by value at [0,1,0] equals the total number of axons for all samples in this group\n",
    "\n",
    "np.save(f'D:\\\\viral_results\\\\s1_s2\\\\{region}_{mouse_line}_avg.npy', emptyarray_avg)\n",
    "# save this averaged array\n",
    "\n",
    "emptyarray_avg[0,0,0]=0\n",
    "emptyarray_avg[0,1,0]=0\n",
    "\n",
    "save_tiff(emptyarray_avg, f'D:\\\\viral_results\\\\s1_s2\\\\{region}_{mouse_line}_avg')\n",
    "\n",
    "print(f'Done saving {region}_{mouse_line} data')"
   ]
  },
  {
   "cell_type": "markdown",
   "metadata": {
    "tags": []
   },
   "source": [
    "### section holder"
   ]
  },
  {
   "cell_type": "code",
   "execution_count": null,
   "metadata": {},
   "outputs": [],
   "source": []
  }
 ],
 "metadata": {
  "kernelspec": {
   "display_name": "region_specific",
   "language": "python",
   "name": "region_specific"
  },
  "language_info": {
   "codemirror_mode": {
    "name": "ipython",
    "version": 3
   },
   "file_extension": ".py",
   "mimetype": "text/x-python",
   "name": "python",
   "nbconvert_exporter": "python",
   "pygments_lexer": "ipython3",
   "version": "3.8.16"
  }
 },
 "nbformat": 4,
 "nbformat_minor": 4
}
