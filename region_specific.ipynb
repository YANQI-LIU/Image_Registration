{
 "cells": [
  {
   "cell_type": "markdown",
   "metadata": {
    "tags": []
   },
   "source": [
    "### for region specific visualzations \n",
    "Environment: region_specfic\n",
    "find all ids belonging to a parent (ie. 315, for isocortex), create mask and visualize using napari\n",
    "\n",
    "generate average image and multiply with the mask!\n",
    "\n",
    "NOTE that this environment can not read or write excel!!! installing the openpyxl package will break this environment\n"
   ]
  },
  {
   "cell_type": "code",
   "execution_count": 1,
   "metadata": {},
   "outputs": [],
   "source": [
    "import os\n",
    "\n",
    "import pandas as pd\n",
    "\n",
    "import numpy as np\n",
    "\n",
    "import Neuron_analysis as na\n",
    "\n",
    "import skimage\n",
    "from skimage import io\n",
    "\n",
    "import SimpleITK as sitk\n",
    "\n",
    "import re\n",
    "from tqdm import tqdm\n",
    "\n",
    "import napari\n",
    "\n",
    "import nrrd"
   ]
  },
  {
   "cell_type": "code",
   "execution_count": 2,
   "metadata": {
    "jupyter": {
     "source_hidden": true
    },
    "tags": []
   },
   "outputs": [],
   "source": [
    "def find_mousename(text):\n",
    "    #finds name of mouse that follows the typical LSENS pattern: two letters followed by 3 numbers, ie AL000\n",
    "    a= re.search('[a-zA-Z]{2}[0-9]{2,3}', text)\n",
    "    return a[0]\n",
    "\n",
    "def isolate_region(this_region):\n",
    "    \n",
    "    '''''' \n",
    "    \n",
    "    child_ids= atlas_labels.loc[atlas_labels['structure_id_path'].str.contains(f'/{this_region}/', case=False)].id\n",
    "    # child_ids\n",
    "\n",
    "    # find all regions with regionX inside the structure id path\n",
    "    # for example 315 - isocortex, 985- primary motor region\n",
    "    \n",
    "    this_mask= np.zeros(annot_h.shape)\n",
    "    # create empty array to store the mask\n",
    "    for i in tqdm(child_ids.values):\n",
    "        this_mask[annot_h==i]=1\n",
    "        #loop through all the region id and assign value of 1\n",
    "    # empty_array now is a matrix of 1 and 0s\n",
    "    \n",
    "    return this_mask\n",
    "\n",
    "def isolate_region_2(regions_list):\n",
    "    \n",
    "    '''useful for isolating one layer of multiple region, ie MOs 2/3 and MOp 2/3''' \n",
    "    \n",
    "    #child_ids= atlas_labels.loc[atlas_labels['structure_id_path'].str.contains('|'.join(regions_list), case=False)].id\n",
    "    # child_ids\n",
    "\n",
    "    # find all regions with regionX inside the structure id path\n",
    "    # for example 315 - isocortex, 985- primary motor region\n",
    "    \n",
    "    this_mask= np.zeros(annot_h.shape)\n",
    "    # create empty array to store the mask\n",
    "    for i in tqdm(regions_list):\n",
    "        this_mask[annot_h==i]=1\n",
    "        #loop through all the region id and assign value of 1\n",
    "    # empty_array now is a matrix of 1 and 0s\n",
    "    \n",
    "    return this_mask\n",
    "\n",
    "def save_tiff(numpystack, outname):\n",
    "    \n",
    "    '''save numpy stack as tiff stack and also save sum projections in horizontal, coronal, and saggital views'''\n",
    "    \n",
    "    print('Starting to saving tif files..')\n",
    "    \n",
    "    #io.imsave(outname+'_axons.tif',numpystack)\n",
    "    \n",
    "    sum_0=np.sum(numpystack, axis=0)\n",
    "    sum_1=np.sum(numpystack, axis=1)\n",
    "    sum_2=np.sum(numpystack, axis=2)\n",
    "    io.imsave(outname+ '_sum_0.tif',sum_0,check_contrast=False)\n",
    "    io.imsave(outname+ '_sum_1.tif',sum_1,check_contrast=False)\n",
    "    io.imsave(outname+ '_sum_2.tif',sum_2,check_contrast=False)\n",
    "\n",
    "def save_tiff_mask(numpystack, outname):\n",
    "\n",
    "    ''' most useful for saving max projection for region masks, to be used as outlines in illustrators\n",
    "    save numpy stack as png max projections in horizontal, coronal, and saggital views '''\n",
    "\n",
    "    print('Starting to saving tif files..')\n",
    "\n",
    "    #io.imsave(outname+'_axons.tif',numpystack)\n",
    "\n",
    "    sum_0=np.max(numpystack, axis=0)\n",
    "    #sum_1=np.sum(numpystack, axis=1)\n",
    "    #sum_2=np.sum(numpystack, axis=2)\n",
    "    \n",
    "    io.imsave(outname+ '_max_0.tif',sum_0)\n",
    "    #io.imsave(outname+ '_max_1.tif',sum_1)\n",
    "    #io.imsave(outname+ '_max_2.tif',sum_2)"
   ]
  },
  {
   "cell_type": "code",
   "execution_count": 5,
   "metadata": {},
   "outputs": [
    {
     "name": "stdout",
     "output_type": "stream",
     "text": [
      "Converted to horizontal atlas with shape (320, 528, 456)\n"
     ]
    }
   ],
   "source": [
    "file_name = r'C:/Users/liu/mouse_connectivity/annotation/ccf_2017/annotation_25.nrrd'\n",
    "data_array, metadata = nrrd.read(file_name)\n",
    "\n",
    "annot_h=np.moveaxis(data_array, 1, 0)\n",
    "print('Converted to horizontal atlas with shape', annot_h.shape)\n",
    "# reslice corontal atlas to horizontal atlas that is consistent with our sample's orientation\n",
    "\n",
    "atlas_labels=pd.read_csv('D:\\Allenbrainatlas\\ARA_25_micron_mhd_ccf2017\\labels.csv')\n",
    "#read labels"
   ]
  },
  {
   "cell_type": "code",
   "execution_count": 19,
   "metadata": {},
   "outputs": [],
   "source": [
    "#np.save('annotation_25.npy', data_array)\n",
    "# save the annotation file as npy to use in other environment (no need to install nrrd)"
   ]
  },
  {
   "cell_type": "markdown",
   "metadata": {
    "jp-MarkdownHeadingCollapsed": true,
    "tags": []
   },
   "source": [
    "### Section to plot masked axons"
   ]
  },
  {
   "cell_type": "code",
   "execution_count": 8,
   "metadata": {
    "tags": []
   },
   "outputs": [],
   "source": [
    "#viewer = napari.Viewer()\n",
    "\n",
    "#viewer.add_image(template, name='template')\n",
    "#viewer.add_labels(annot_h, name='atlas')\n"
   ]
  },
  {
   "cell_type": "markdown",
   "metadata": {},
   "source": [
    "Stuff to try\n",
    "\n",
    "isocortec 315\n",
    "\n",
    "MOp1, MOs1 [320,656]\n",
    "\n",
    "MOp 2/3 943,  MOs 2/3 962. [943,962]\n",
    "\n",
    "MOp5, MOs 5. [648,767]\n",
    "\n",
    "MOp6a, MOs 6a [844,1021]\n",
    "\n",
    "MOp6b, MOs 6b [882,1085]\n",
    "\n",
    "\n",
    "region_dict= {\n",
    "    '1':[320,656],\n",
    "    '23':[943,962],\n",
    "    '5':[648,767],\n",
    "    '6a':[844,1021],\n",
    "    '6b':[882,1085]\n",
    "}"
   ]
  },
  {
   "cell_type": "code",
   "execution_count": 9,
   "metadata": {},
   "outputs": [],
   "source": [
    "# loop sections\n",
    "regions=['s1', 's2']\n",
    "mouse_lines=['ras','scn','tlx','sim','rbp','nts']"
   ]
  },
  {
   "cell_type": "code",
   "execution_count": 10,
   "metadata": {},
   "outputs": [
    {
     "name": "stderr",
     "output_type": "stream",
     "text": [
      "100%|████████████████████████████████████████████████████████████████████████████████████| 1/1 [00:00<00:00,  5.16it/s]\n"
     ]
    },
    {
     "name": "stdout",
     "output_type": "stream",
     "text": [
      "Starting to saving tif files..\n",
      "Starting to saving tif files..\n",
      "Starting to saving tif files..\n",
      "Starting to saving tif files..\n",
      "Starting to saving tif files..\n",
      "Starting to saving tif files..\n",
      "Starting to saving tif files..\n",
      "Starting to saving tif files..\n",
      "Starting to saving tif files..\n",
      "Starting to saving tif files..\n",
      "Starting to saving tif files..\n",
      "Starting to saving tif files..\n"
     ]
    }
   ],
   "source": [
    "# for isolating all regions belonging to one region, ie. isocortex 315, or caudoputamen, 672\n",
    "\n",
    "outdir= r'D:\\viral_results\\s1_s2\\region\\CP'\n",
    "\n",
    "region_id= [672]\n",
    "region_mask= isolate_region_2(region_id)\n",
    "# generate mask outside of the loop since it will be the same!\n",
    "\n",
    "for i in regions:\n",
    "    for j in mouse_lines:\n",
    "        file_path= f'D:\\\\viral_results\\\\{i}_average\\\\{j}_average.npy'\n",
    "\n",
    "        axons=np.load(file_path)\n",
    "        axons[0,0,0]=0\n",
    "        axons[0,1,0]=0\n",
    "        \n",
    "        axons_masked= axons*region_mask\n",
    "        \n",
    "        out_name= f'{outdir}\\\\{i}_{j}_avg'\n",
    "        save_tiff(axons_masked,out_name)\n"
   ]
  },
  {
   "cell_type": "code",
   "execution_count": 11,
   "metadata": {},
   "outputs": [
    {
     "data": {
      "text/plain": [
       "'D:\\\\viral_results\\\\s1_s2\\\\region\\\\CP\\\\s2_nts_avg'"
      ]
     },
     "execution_count": 11,
     "metadata": {},
     "output_type": "execute_result"
    }
   ],
   "source": [
    "out_name"
   ]
  },
  {
   "cell_type": "code",
   "execution_count": 22,
   "metadata": {},
   "outputs": [],
   "source": [
    "# for isolating one layer of multiple region, ie MOs 2/3 and MOp 2/3''' \n",
    "\n",
    "\n",
    "region_dict= {\n",
    "    '1':[320,656],\n",
    "    '23':[943,962],\n",
    "    '5':[648,767],\n",
    "    '6a':[844,1021],\n",
    "    '6b':[882,1085]\n",
    "}"
   ]
  },
  {
   "cell_type": "code",
   "execution_count": null,
   "metadata": {
    "collapsed": true,
    "jupyter": {
     "outputs_hidden": true
    },
    "tags": []
   },
   "outputs": [
    {
     "name": "stderr",
     "output_type": "stream",
     "text": [
      "100%|████████████████████████████████████████████████████████████████████████████████████| 2/2 [00:00<00:00,  8.51it/s]\n"
     ]
    },
    {
     "ename": "FileNotFoundError",
     "evalue": "[Errno 2] No such file or directory: 'D:\\\\viral_results\\\\s1_s2\\\\averages\\\\s1_ras_avg.npy'",
     "output_type": "error",
     "traceback": [
      "\u001b[1;31m---------------------------------------------------------------------------\u001b[0m",
      "\u001b[1;31mFileNotFoundError\u001b[0m                         Traceback (most recent call last)",
      "Cell \u001b[1;32mIn[5], line 16\u001b[0m\n\u001b[0;32m     13\u001b[0m \u001b[38;5;28;01mfor\u001b[39;00m j \u001b[38;5;129;01min\u001b[39;00m mouse_lines:\n\u001b[0;32m     14\u001b[0m     file_path\u001b[38;5;241m=\u001b[39m \u001b[38;5;124mf\u001b[39m\u001b[38;5;124m'\u001b[39m\u001b[38;5;124mD:\u001b[39m\u001b[38;5;130;01m\\\\\u001b[39;00m\u001b[38;5;124mviral_results\u001b[39m\u001b[38;5;130;01m\\\\\u001b[39;00m\u001b[38;5;124ms1_s2\u001b[39m\u001b[38;5;130;01m\\\\\u001b[39;00m\u001b[38;5;124maverages\u001b[39m\u001b[38;5;130;01m\\\\\u001b[39;00m\u001b[38;5;132;01m{\u001b[39;00mi\u001b[38;5;132;01m}\u001b[39;00m\u001b[38;5;124m_\u001b[39m\u001b[38;5;132;01m{\u001b[39;00mj\u001b[38;5;132;01m}\u001b[39;00m\u001b[38;5;124m_avg.npy\u001b[39m\u001b[38;5;124m'\u001b[39m\n\u001b[1;32m---> 16\u001b[0m     axons\u001b[38;5;241m=\u001b[39m\u001b[43mnp\u001b[49m\u001b[38;5;241;43m.\u001b[39;49m\u001b[43mload\u001b[49m\u001b[43m(\u001b[49m\u001b[43mfile_path\u001b[49m\u001b[43m)\u001b[49m\n\u001b[0;32m     17\u001b[0m     axons[\u001b[38;5;241m0\u001b[39m,\u001b[38;5;241m0\u001b[39m,\u001b[38;5;241m0\u001b[39m]\u001b[38;5;241m=\u001b[39m\u001b[38;5;241m0\u001b[39m\n\u001b[0;32m     18\u001b[0m     axons[\u001b[38;5;241m0\u001b[39m,\u001b[38;5;241m1\u001b[39m,\u001b[38;5;241m0\u001b[39m]\u001b[38;5;241m=\u001b[39m\u001b[38;5;241m0\u001b[39m\n",
      "File \u001b[1;32m~\\AppData\\Local\\Continuum\\anaconda3\\envs\\region_specific\\lib\\site-packages\\numpy\\lib\\npyio.py:405\u001b[0m, in \u001b[0;36mload\u001b[1;34m(file, mmap_mode, allow_pickle, fix_imports, encoding, max_header_size)\u001b[0m\n\u001b[0;32m    403\u001b[0m     own_fid \u001b[38;5;241m=\u001b[39m \u001b[38;5;28;01mFalse\u001b[39;00m\n\u001b[0;32m    404\u001b[0m \u001b[38;5;28;01melse\u001b[39;00m:\n\u001b[1;32m--> 405\u001b[0m     fid \u001b[38;5;241m=\u001b[39m stack\u001b[38;5;241m.\u001b[39menter_context(\u001b[38;5;28;43mopen\u001b[39;49m\u001b[43m(\u001b[49m\u001b[43mos_fspath\u001b[49m\u001b[43m(\u001b[49m\u001b[43mfile\u001b[49m\u001b[43m)\u001b[49m\u001b[43m,\u001b[49m\u001b[43m \u001b[49m\u001b[38;5;124;43m\"\u001b[39;49m\u001b[38;5;124;43mrb\u001b[39;49m\u001b[38;5;124;43m\"\u001b[39;49m\u001b[43m)\u001b[49m)\n\u001b[0;32m    406\u001b[0m     own_fid \u001b[38;5;241m=\u001b[39m \u001b[38;5;28;01mTrue\u001b[39;00m\n\u001b[0;32m    408\u001b[0m \u001b[38;5;66;03m# Code to distinguish from NumPy binary files and pickles.\u001b[39;00m\n",
      "\u001b[1;31mFileNotFoundError\u001b[0m: [Errno 2] No such file or directory: 'D:\\\\viral_results\\\\s1_s2\\\\averages\\\\s1_ras_avg.npy'"
     ]
    }
   ],
   "source": [
    "# for isolating one layer of multiple region, ie MOs 2/3 and MOp 2/3''' \n",
    "\n",
    "region_id= [320,656]\n",
    "layer= '1'\n",
    "\n",
    "# cannot be string to use isolate region2\n",
    "region_mask= isolate_region_2(region_id)\n",
    "# generate mask outside of the loop since it will be the same!\n",
    "\n",
    "#region_id= ['315']\n",
    "#region_mask= isolate_region(region_id)\n",
    "# generate mask outside of the loop since it will be the same!\n",
    "\n",
    "for i in regions:\n",
    "    for j in mouse_lines:\n",
    "        file_path= f'D:\\\\viral_results\\\\s1_s2\\\\averages\\\\{i}_{j}_avg.npy'\n",
    "\n",
    "        axons=np.load(file_path)\n",
    "        axons[0,0,0]=0\n",
    "        axons[0,1,0]=0\n",
    "        \n",
    "        axons_masked= axons*region_mask\n",
    "        \n",
    "        out_name= f'D:\\\\viral_results\\\\s1_s2\\\\region\\\\MO\\\\{layer}_{i}_{j}_avg'\n",
    "        save_tiff(axons_masked,out_name)\n"
   ]
  },
  {
   "cell_type": "code",
   "execution_count": 4,
   "metadata": {},
   "outputs": [],
   "source": [
    "# example section\n",
    "\n",
    "#axons1= sitk.ReadImage(r'D:\\viral_results\\s2\\AL278_axons.tif')\n",
    "#axons1=sitk.GetArrayFromImage(axons2) \n",
    "# issue with image with 64 bit samples, since the normalized images have values like 10e-5\n",
    "# hence we work with npy files directly\n",
    "\n",
    "region='s1'\n",
    "mouseline='ras'\n",
    "\n",
    "file_path= f'D:\\\\viral_results\\\\s1_s2\\\\averages\\\\{region}_{mouseline}_avg.npy'\n",
    "\n",
    "axons=np.load(file_path)\n",
    "axons[0,0,0]=0\n",
    "axons[0,1,0]=0\n",
    "# dont forget to change the [0,0,0] position from the total number of axons back to 0!\n",
    "#viewer.add_image(axons)\n"
   ]
  },
  {
   "cell_type": "code",
   "execution_count": 6,
   "metadata": {
    "tags": []
   },
   "outputs": [
    {
     "name": "stderr",
     "output_type": "stream",
     "text": [
      "100%|████████████████████████████████████████████████████████████████████████████████| 374/374 [00:48<00:00,  7.69it/s]\n"
     ]
    },
    {
     "name": "stdout",
     "output_type": "stream",
     "text": [
      "Starting to saving tif files..\n"
     ]
    },
    {
     "name": "stderr",
     "output_type": "stream",
     "text": [
      "C:\\Users\\liu\\AppData\\Local\\Temp\\ipykernel_4124\\2350469427.py:34: UserWarning: D:\\viral_results\\s1_s2\\region\\315_s2_ras_avg_sum_0.tif is a low contrast image\n",
      "  io.imsave(outname+ '_sum_0.tif',sum_0)\n",
      "C:\\Users\\liu\\AppData\\Local\\Temp\\ipykernel_4124\\2350469427.py:35: UserWarning: D:\\viral_results\\s1_s2\\region\\315_s2_ras_avg_sum_1.tif is a low contrast image\n",
      "  io.imsave(outname+ '_sum_1.tif',sum_1)\n",
      "C:\\Users\\liu\\AppData\\Local\\Temp\\ipykernel_4124\\2350469427.py:36: UserWarning: D:\\viral_results\\s1_s2\\region\\315_s2_ras_avg_sum_2.tif is a low contrast image\n",
      "  io.imsave(outname+ '_sum_2.tif',sum_2)\n"
     ]
    }
   ],
   "source": [
    "# for a given mouse line\n",
    "\n",
    "region_id= ['315']\n",
    "# can be a list such as region_id= ['943', '962'] , but will have two separate files\n",
    "# or can be one big region ie. 315 the isocortex wich have multiple child - use isolate_region\n",
    "\n",
    "for i in region_id: \n",
    "    \n",
    "    #region_mask= isolate_region(i)\n",
    "    axons_masked= axons*region_mask\n",
    "    \n",
    "    out_name= f'D:\\\\viral_results\\\\s1_s2\\\\region\\\\{i}_{region}_{mouseline}_avg'\n",
    "    \n",
    "    save_tiff(axons_masked,out_name)"
   ]
  },
  {
   "cell_type": "markdown",
   "metadata": {
    "jp-MarkdownHeadingCollapsed": true,
    "tags": []
   },
   "source": [
    "##### plot region mask itself for outlines\n",
    "not useful..yet?"
   ]
  },
  {
   "cell_type": "code",
   "execution_count": 45,
   "metadata": {},
   "outputs": [],
   "source": [
    "region_dict= {\n",
    "    '1':[320,656],\n",
    "    '23':[943,962],\n",
    "    '5':[648,767],\n",
    "    '6a':[844,1021],\n",
    "    '6b':[882,1085]\n",
    "}"
   ]
  },
  {
   "cell_type": "code",
   "execution_count": 46,
   "metadata": {
    "tags": []
   },
   "outputs": [
    {
     "name": "stderr",
     "output_type": "stream",
     "text": [
      "100%|████████████████████████████████████████████████████████████████████████████████████| 2/2 [00:00<00:00,  5.17it/s]\n"
     ]
    },
    {
     "name": "stdout",
     "output_type": "stream",
     "text": [
      "Starting to saving tif files..\n"
     ]
    },
    {
     "name": "stderr",
     "output_type": "stream",
     "text": [
      "100%|████████████████████████████████████████████████████████████████████████████████████| 2/2 [00:00<00:00,  5.10it/s]\n"
     ]
    },
    {
     "name": "stdout",
     "output_type": "stream",
     "text": [
      "Starting to saving tif files..\n"
     ]
    },
    {
     "name": "stderr",
     "output_type": "stream",
     "text": [
      "100%|████████████████████████████████████████████████████████████████████████████████████| 2/2 [00:00<00:00,  5.42it/s]\n"
     ]
    },
    {
     "name": "stdout",
     "output_type": "stream",
     "text": [
      "Starting to saving tif files..\n"
     ]
    },
    {
     "name": "stderr",
     "output_type": "stream",
     "text": [
      "100%|████████████████████████████████████████████████████████████████████████████████████| 2/2 [00:00<00:00,  5.17it/s]\n"
     ]
    },
    {
     "name": "stdout",
     "output_type": "stream",
     "text": [
      "Starting to saving tif files..\n"
     ]
    },
    {
     "name": "stderr",
     "output_type": "stream",
     "text": [
      "100%|████████████████████████████████████████████████████████████████████████████████████| 2/2 [00:00<00:00,  5.40it/s]\n"
     ]
    },
    {
     "name": "stdout",
     "output_type": "stream",
     "text": [
      "Starting to saving tif files..\n"
     ]
    }
   ],
   "source": [
    "for key,value in region_dict.items(): \n",
    "\n",
    "    region_mask= isolate_region_2(value)\n",
    "    # generate mask outside of the loop since it will be the same!\n",
    "\n",
    "    out_name= f'D:\\\\viral_results\\\\s1_s2\\\\region\\\\MO\\\\{key}_mask'\n",
    "    save_tiff_mask(region_mask,out_name)"
   ]
  },
  {
   "cell_type": "markdown",
   "metadata": {
    "tags": []
   },
   "source": [
    "### Section to plot contours and find centroid for masked axons"
   ]
  },
  {
   "cell_type": "code",
   "execution_count": 4,
   "metadata": {
    "jupyter": {
     "source_hidden": true
    },
    "tags": []
   },
   "outputs": [],
   "source": [
    "def find_contour_fractionmax(axon_array, fraction):\n",
    "    \n",
    "    ''' input axon stack as numpy array and fraction of maximal intensity wish to compute (ie. 0.95)\n",
    "    returns binary image and contour on horizontal sumprojection'''\n",
    "    \n",
    "    horizontal = np.sum(axons_masked,0)\n",
    "    #io.imshow(horizontal) \n",
    "    #io.show()\n",
    "    # show sum projection in horizontal view\n",
    "    \n",
    "    test1= skimage.filters.gaussian(horizontal, sigma=4)\n",
    "    # apply gaussian filter\n",
    "\n",
    "    #io.imshow(test1) \n",
    "    #io.show()\n",
    "    # show sum projection in horizontal view\n",
    "    \n",
    "    contour1= np.max(test1) * fraction\n",
    "    threshold1= test1>contour1\n",
    "    # find 95% of max intensity and threshold\n",
    "\n",
    "    #io.imshow(threshold1) \n",
    "    #io.show()\n",
    "    \n",
    "    outline= skimage.segmentation.find_boundaries(threshold1, mode='inner').astype(np.uint8)\n",
    "    #find outline of the segmentation\n",
    "\n",
    "    #io.imshow(outline) \n",
    "    #io.show()\n",
    "    \n",
    "    return threshold1, outline\n",
    "\n",
    "def find_contour_otsu(axons_array):\n",
    "    ''' input axon stack as numpy array,apply gaussian filter then threshold using otsu's method\n",
    "    returns binary image, and contour on horizontal sumprojection'''\n",
    "        \n",
    "    horizontal = np.sum(axons_masked,0)\n",
    "    #io.imshow(horizontal) \n",
    "    #io.show()\n",
    "    # show sum projection in horizontal view\n",
    "\n",
    "    test1= skimage.filters.gaussian(horizontal, sigma=4)\n",
    "\n",
    "    thresh = skimage.filters.threshold_otsu(test1)\n",
    "    binary = test1 > thresh\n",
    "\n",
    "    outline= skimage.segmentation.find_boundaries(binary, mode='inner').astype(np.uint8)\n",
    "\n",
    "    label_img = skimage.measure.label(binary)\n",
    "    region=skimage.measure.regionprops(label_img)\n",
    "    # measure connected components\n",
    "    \n",
    "    return binary, outline\n",
    "\n",
    "def conv_stereo(ML, AP, realum):\n",
    "    '''input data points in terms of pixels and real pixel size in micrometers \n",
    "    calculates stereotaxic coordinate and return as ML, AP values'''\n",
    "    bregma= [227.5, 215]\n",
    "    # bregma coordiantes in horizontal view, where image dimension is [456, 528]\n",
    "        \n",
    "    tmpmedlat= abs(bregma[0]-ML)\n",
    "    tmpantpos=bregma[1]- AP\n",
    "    \n",
    "    factor= realum/1000\n",
    "    medlat=tmpmedlat*factor\n",
    "    antpos= tmpantpos*factor\n",
    "    # convert pixels to real micrometers\n",
    "    \n",
    "    return round(medlat,2), round(antpos,2)\n"
   ]
  },
  {
   "cell_type": "markdown",
   "metadata": {
    "jp-MarkdownHeadingCollapsed": true,
    "tags": []
   },
   "source": [
    "#### Contour and segmentation centroid for each individual sample\n",
    "MO axons horizontal sumprojections\n",
    "95% and 75% Contour on horizontal sum projection and 95% segmentation centroid \n",
    "also have areas of 75% contour and sum # of axons within the 95% segmentation"
   ]
  },
  {
   "cell_type": "code",
   "execution_count": 5,
   "metadata": {
    "tags": []
   },
   "outputs": [],
   "source": [
    "def find_contour_fractionmax2d(axon_array,fraction):\n",
    "    \n",
    "        \n",
    "    ''' input axon stack as 2d numpy array (id, already in horizontal sum projection) and fraction of maximal intensity wish to compute (ie. 0.95)\n",
    "    returns binary image and contour on horizontal sumprojection'''\n",
    "\n",
    "    \n",
    "    test1= skimage.filters.gaussian(axon_array, sigma=4)\n",
    "    # apply gaussian filter\n",
    "\n",
    "    #io.imshow(test1) \n",
    "    #io.show()\n",
    "    # show sum projection in horizontal view\n",
    "    \n",
    "    contour= np.max(test1) * fraction\n",
    "    threshold= test1>contour\n",
    "    # find X% of max intensity and threshold\n",
    "\n",
    "    #io.imshow(threshold) \n",
    "    #io.show()\n",
    "    \n",
    "    outline= skimage.segmentation.find_boundaries(threshold, mode='inner').astype(np.uint8)\n",
    "    #find outline of the segmentation\n",
    "\n",
    "    #io.imshow(outline) \n",
    "    #io.show()\n",
    "    \n",
    "    return threshold, outline\n",
    "\n",
    "def find_fractionmax2d(axon_array, fraction):\n",
    "    \n",
    "    ''' input axon stack as 2d numpy array (id, already in horizontal sum projection) and fraction of maximal intensity wish to compute (ie. 0.95)\n",
    "    returns binary image and contour on horizontal sumprojection'''\n",
    "\n",
    "    \n",
    "    test1= skimage.filters.gaussian(axon_array, sigma=4)\n",
    "    # apply gaussian filter\n",
    "\n",
    "    #io.imshow(test1) \n",
    "    #io.show()\n",
    "    # show sum projection in horizontal view\n",
    "    \n",
    "    contour= np.max(test1) * fraction\n",
    "    threshold= test1>contour\n",
    "    # find X% of max intensity and threshold\n",
    "\n",
    "    #io.imshow(threshold1) \n",
    "    #io.show()\n",
    "    \n",
    "    return threshold\n",
    "\n",
    "def find_outline(binary_image):\n",
    "    outline= skimage.segmentation.find_boundaries(binary_image, mode='inner').astype(np.uint8)\n",
    "    #find outline of the segmentation\n",
    "\n",
    "    #io.imshow(outline) \n",
    "    #io.show()\n",
    "    \n",
    "    return outline"
   ]
  },
  {
   "cell_type": "code",
   "execution_count": 6,
   "metadata": {},
   "outputs": [
    {
     "name": "stderr",
     "output_type": "stream",
     "text": [
      "100%|████████████████████████████████████████████████████████████████████████████████████| 4/4 [00:00<00:00,  5.86it/s]\n"
     ]
    }
   ],
   "source": [
    "# include axons from both L2/3 and L5\n",
    "\n",
    "region_id= [943,962, 648, 767]\n",
    "#atlas id for MOp2/3, MOs2/3, MOp5, MOs5\n",
    "\n",
    "# cannot be string to use isolate region2\n",
    "region_mask= isolate_region_2(region_id)\n",
    "# generate mask outside of the loop since it will be the same!"
   ]
  },
  {
   "cell_type": "code",
   "execution_count": 7,
   "metadata": {},
   "outputs": [
    {
     "data": {
      "text/plain": [
       "(320, 528, 456)"
      ]
     },
     "execution_count": 7,
     "metadata": {},
     "output_type": "execute_result"
    }
   ],
   "source": [
    "region_mask.shape"
   ]
  },
  {
   "cell_type": "code",
   "execution_count": 8,
   "metadata": {},
   "outputs": [],
   "source": [
    "site='s1'\n",
    "\n",
    "indir= f'D:\\\\viral_results\\\\{site}\\\\npy'\n",
    "outdir= r'D:\\viral_results\\ML_centoids\\MO'\n",
    "\n",
    "files= os.listdir(indir)"
   ]
  },
  {
   "cell_type": "code",
   "execution_count": 9,
   "metadata": {
    "jupyter": {
     "source_hidden": true
    },
    "tags": []
   },
   "outputs": [
    {
     "name": "stderr",
     "output_type": "stream",
     "text": [
      "100%|██████████████████████████████████████████████████████████████████████████████████| 18/18 [02:05<00:00,  6.98s/it]\n"
     ]
    }
   ],
   "source": [
    "# start working with the 95% max segmentations\n",
    "# we get lots of measurements using this segmentation: 95% contours, centroid locations, sum axon # within the 95% max (in the horizontal plane)\n",
    "\n",
    "\n",
    "MO_centroid_ML= []\n",
    "MO_centroid_AP= []\n",
    "\n",
    "values_95=[]\n",
    "sample_list=[]\n",
    "\n",
    "fractionmax=0.95\n",
    "\n",
    "for i in tqdm(files): \n",
    "    \n",
    "    file_path=os.path.join(indir,i)\n",
    "    this_sample= find_mousename(i)\n",
    "    # find the sample name\n",
    "    \n",
    "    sample_list.append(this_sample)\n",
    "    # append sample name to sample_list\n",
    "    \n",
    "    axons=np.load(file_path)\n",
    "    axons[0,0,0]=0\n",
    "    axons[0,1,0]=0\n",
    "    # load npy file and revert these two indices back to 0\n",
    "    \n",
    "    axons_masked= axons*region_mask\n",
    "    # multiply 3D axon stack with 3D mask stack\n",
    "    \n",
    "    axons_h= axons_masked.sum(0)\n",
    "    # create horizontal sum projection from the masked stack\n",
    "    skimage.io.imsave(f'{outdir}\\\\{site}\\\\{this_sample}_sum_projection.tiff', axons_h,check_contrast=False)\n",
    "    # save this horizontal sum projection\n",
    "    \n",
    "    \n",
    "    thresh= find_fractionmax2d(axons_h, fractionmax)\n",
    "    # get segmentation and outline of the horizontal sum projection\n",
    "    \n",
    "    label_img = skimage.measure.label(thresh)\n",
    "    # create connected component labels\n",
    "    \n",
    "    if label_img.max()==0:\n",
    "        # when there is no axons at all and thus no 95% contour \n",
    "        MO_centroid_ML.append(np.nan)\n",
    "        MO_centroid_AP.append(np.nan)\n",
    "        \n",
    "        values_95.append(0)\n",
    "        \n",
    "        # just assign nan as centroid and 0 as sum axons inside the 95% contour\n",
    "        \n",
    "    else: \n",
    "        # when there is axons\n",
    "        \n",
    "        largestCC = label_img == np.argmax(np.bincount(label_img.flat)[1:])+1\n",
    "        # return only the largest connected component, this is is a boolean array that can be used as mask (https://stackoverflow.com/questions/47540926/get-the-largest-connected-component-of-segmentation-image)\n",
    "        # for some samples, there are two connected components satisfying the 95% percent intensity \n",
    "\n",
    "        axons_95= largestCC*axons_h\n",
    "        values_95.append(axons_95.sum())\n",
    "        # get total number of axons within this segmentation, append to list\n",
    "\n",
    "        CC_img = largestCC*1\n",
    "        #convert the boolean into 0 and 1 for skimage.measure.regionprops to work\n",
    "        region=skimage.measure.regionprops(CC_img)\n",
    "        # measure connected components of thres in order to get centroid location\n",
    "        \n",
    "        outline=find_outline(CC_img)\n",
    "        outline=outline.astype(np.int8)\n",
    "        # convert to 8 bit, for easier merge in image J since the centoid image next will be 8 bit\n",
    "        skimage.io.imsave(f'{outdir}\\\\{site}\\\\{this_sample}_contour_{fractionmax}.tiff', outline,check_contrast=False)\n",
    "        # save the contour image\n",
    "\n",
    "        temp= np.zeros_like(axons_h)\n",
    "        # intialize empty array to plot the centroid\n",
    "\n",
    "        \n",
    "        for k in region:\n",
    "            # there should be only one region\n",
    "\n",
    "            AP_pix,ML_pix= k.centroid\n",
    "            # extract coordinates for centroid\n",
    "\n",
    "            AP_pix=int(AP_pix)\n",
    "            ML_pix=int(ML_pix)\n",
    "\n",
    "            temp[AP_pix,ML_pix]=1\n",
    "            # plot the centroid for each connected component\n",
    "\n",
    "            ML,AP= conv_stereo(ML_pix,AP_pix,25)\n",
    "            # convert pixel values to seterotaxis coordinate\n",
    "            #print(f'MO axon centroid for {this_sample} is ML= {ML}mm,AP= {AP}mm')\n",
    "\n",
    "            MO_centroid_ML.append(ML)\n",
    "            MO_centroid_AP.append(AP)\n",
    "            # append ML and AP position to list, for later making excel file\n",
    "\n",
    "    temp=temp.astype(np.int8)\n",
    "    skimage.io.imsave(f'{outdir}\\\\{site}\\\\{this_sample}_centroid_{fractionmax}.tiff', temp,check_contrast=False)\n",
    "    # save the centroid image\n"
   ]
  },
  {
   "cell_type": "code",
   "execution_count": null,
   "metadata": {},
   "outputs": [],
   "source": []
  },
  {
   "cell_type": "code",
   "execution_count": null,
   "metadata": {},
   "outputs": [],
   "source": []
  },
  {
   "cell_type": "code",
   "execution_count": 10,
   "metadata": {},
   "outputs": [
    {
     "name": "stderr",
     "output_type": "stream",
     "text": [
      "100%|██████████████████████████████████████████████████████████████████████████████████| 18/18 [00:59<00:00,  3.30s/it]\n"
     ]
    }
   ],
   "source": [
    "# get image and areas of 75% contour\n",
    "\n",
    "area_75=[]\n",
    "sample_list2=[]\n",
    "\n",
    "fractionmax=0.75\n",
    "\n",
    "for i in tqdm(files): \n",
    "    \n",
    "    file_path=os.path.join(indir,i)\n",
    "    this_sample= find_mousename(i)\n",
    "    # find the sample name\n",
    "    \n",
    "    axons=np.load(file_path)\n",
    "    axons[0,0,0]=0\n",
    "    axons[0,1,0]=0\n",
    "    # load npy file and revert these two indices back to 0\n",
    "    \n",
    "    axons_masked= axons*region_mask\n",
    "    \n",
    "    axons_h= axons_masked.sum(0)\n",
    "    # create horizontal sum projection from the masked stack\n",
    "    \n",
    "    thresh,outline= find_contour_fractionmax2d(axons_h, fractionmax)\n",
    "    \n",
    "    outline=outline.astype(np.int8)\n",
    "    # convert to 8 bit, for easier merge in image J since the centoid image next will be 8 bit\n",
    "    skimage.io.imsave(f'{outdir}\\\\{site}\\\\{this_sample}_contour_{fractionmax}.tiff', outline,check_contrast=False)\n",
    "    # save the contour image\n",
    "    \n",
    "    label_img = skimage.measure.label(thresh)\n",
    "    region=skimage.measure.regionprops(label_img)\n",
    "    \n",
    "    \n",
    "    area_list=[]\n",
    "    for k in region:\n",
    "        # loop over connected components (in most cases there is just 1), but for multiple connected components with 75% contour, sum the areas together\n",
    "\n",
    "        this_area=k.area\n",
    "        area_list.append(this_area)\n",
    "\n",
    "    sample_list2.append(this_sample)\n",
    "    area_75.append(sum(area_list))\n",
    "    # sum the areas together\n",
    "    \n",
    "    # append 75% contour area to list\n"
   ]
  },
  {
   "cell_type": "code",
   "execution_count": 11,
   "metadata": {
    "tags": []
   },
   "outputs": [
    {
     "data": {
      "text/html": [
       "<div>\n",
       "<style scoped>\n",
       "    .dataframe tbody tr th:only-of-type {\n",
       "        vertical-align: middle;\n",
       "    }\n",
       "\n",
       "    .dataframe tbody tr th {\n",
       "        vertical-align: top;\n",
       "    }\n",
       "\n",
       "    .dataframe thead th {\n",
       "        text-align: right;\n",
       "    }\n",
       "</style>\n",
       "<table border=\"1\" class=\"dataframe\">\n",
       "  <thead>\n",
       "    <tr style=\"text-align: right;\">\n",
       "      <th></th>\n",
       "      <th>sample</th>\n",
       "      <th>ML</th>\n",
       "      <th>AP</th>\n",
       "      <th>area_75</th>\n",
       "      <th>axons_95</th>\n",
       "    </tr>\n",
       "  </thead>\n",
       "  <tbody>\n",
       "    <tr>\n",
       "      <th>0</th>\n",
       "      <td>AL207</td>\n",
       "      <td>1.11</td>\n",
       "      <td>0.65</td>\n",
       "      <td>77.0</td>\n",
       "      <td>6.817623</td>\n",
       "    </tr>\n",
       "    <tr>\n",
       "      <th>1</th>\n",
       "      <td>AL209</td>\n",
       "      <td>0.94</td>\n",
       "      <td>1.05</td>\n",
       "      <td>136.0</td>\n",
       "      <td>7.350181</td>\n",
       "    </tr>\n",
       "    <tr>\n",
       "      <th>2</th>\n",
       "      <td>AL211</td>\n",
       "      <td>0.91</td>\n",
       "      <td>1.12</td>\n",
       "      <td>399.0</td>\n",
       "      <td>50.756286</td>\n",
       "    </tr>\n",
       "    <tr>\n",
       "      <th>3</th>\n",
       "      <td>AL213</td>\n",
       "      <td>1.09</td>\n",
       "      <td>1.75</td>\n",
       "      <td>682.0</td>\n",
       "      <td>50.776940</td>\n",
       "    </tr>\n",
       "    <tr>\n",
       "      <th>4</th>\n",
       "      <td>AL254</td>\n",
       "      <td>0.81</td>\n",
       "      <td>0.68</td>\n",
       "      <td>147.0</td>\n",
       "      <td>12.426752</td>\n",
       "    </tr>\n",
       "    <tr>\n",
       "      <th>5</th>\n",
       "      <td>AL255</td>\n",
       "      <td>0.89</td>\n",
       "      <td>1.20</td>\n",
       "      <td>178.0</td>\n",
       "      <td>23.469630</td>\n",
       "    </tr>\n",
       "    <tr>\n",
       "      <th>6</th>\n",
       "      <td>AL257</td>\n",
       "      <td>1.09</td>\n",
       "      <td>1.10</td>\n",
       "      <td>676.0</td>\n",
       "      <td>140.794258</td>\n",
       "    </tr>\n",
       "    <tr>\n",
       "      <th>7</th>\n",
       "      <td>AL273</td>\n",
       "      <td>1.14</td>\n",
       "      <td>0.83</td>\n",
       "      <td>109.0</td>\n",
       "      <td>8.212465</td>\n",
       "    </tr>\n",
       "    <tr>\n",
       "      <th>8</th>\n",
       "      <td>AL274</td>\n",
       "      <td>0.86</td>\n",
       "      <td>1.23</td>\n",
       "      <td>301.0</td>\n",
       "      <td>2.450144</td>\n",
       "    </tr>\n",
       "    <tr>\n",
       "      <th>9</th>\n",
       "      <td>AL285</td>\n",
       "      <td>0.96</td>\n",
       "      <td>1.45</td>\n",
       "      <td>357.0</td>\n",
       "      <td>3.097280</td>\n",
       "    </tr>\n",
       "    <tr>\n",
       "      <th>10</th>\n",
       "      <td>AL290</td>\n",
       "      <td>0.99</td>\n",
       "      <td>1.30</td>\n",
       "      <td>271.0</td>\n",
       "      <td>15.681490</td>\n",
       "    </tr>\n",
       "    <tr>\n",
       "      <th>11</th>\n",
       "      <td>AL291</td>\n",
       "      <td>0.91</td>\n",
       "      <td>1.07</td>\n",
       "      <td>211.0</td>\n",
       "      <td>6.210800</td>\n",
       "    </tr>\n",
       "    <tr>\n",
       "      <th>12</th>\n",
       "      <td>AL292</td>\n",
       "      <td>0.91</td>\n",
       "      <td>1.03</td>\n",
       "      <td>192.0</td>\n",
       "      <td>17.195556</td>\n",
       "    </tr>\n",
       "    <tr>\n",
       "      <th>13</th>\n",
       "      <td>AL293</td>\n",
       "      <td>0.71</td>\n",
       "      <td>0.98</td>\n",
       "      <td>257.0</td>\n",
       "      <td>13.488916</td>\n",
       "    </tr>\n",
       "    <tr>\n",
       "      <th>14</th>\n",
       "      <td>AL311</td>\n",
       "      <td>NaN</td>\n",
       "      <td>NaN</td>\n",
       "      <td>0.0</td>\n",
       "      <td>0.000000</td>\n",
       "    </tr>\n",
       "    <tr>\n",
       "      <th>15</th>\n",
       "      <td>AL313</td>\n",
       "      <td>0.99</td>\n",
       "      <td>0.80</td>\n",
       "      <td>521.0</td>\n",
       "      <td>24.613636</td>\n",
       "    </tr>\n",
       "    <tr>\n",
       "      <th>16</th>\n",
       "      <td>AL314</td>\n",
       "      <td>0.89</td>\n",
       "      <td>0.60</td>\n",
       "      <td>703.0</td>\n",
       "      <td>20.111013</td>\n",
       "    </tr>\n",
       "    <tr>\n",
       "      <th>17</th>\n",
       "      <td>AL318</td>\n",
       "      <td>0.91</td>\n",
       "      <td>1.07</td>\n",
       "      <td>437.0</td>\n",
       "      <td>54.247655</td>\n",
       "    </tr>\n",
       "  </tbody>\n",
       "</table>\n",
       "</div>"
      ],
      "text/plain": [
       "   sample    ML    AP  area_75    axons_95\n",
       "0   AL207  1.11  0.65     77.0    6.817623\n",
       "1   AL209  0.94  1.05    136.0    7.350181\n",
       "2   AL211  0.91  1.12    399.0   50.756286\n",
       "3   AL213  1.09  1.75    682.0   50.776940\n",
       "4   AL254  0.81  0.68    147.0   12.426752\n",
       "5   AL255  0.89  1.20    178.0   23.469630\n",
       "6   AL257  1.09  1.10    676.0  140.794258\n",
       "7   AL273  1.14  0.83    109.0    8.212465\n",
       "8   AL274  0.86  1.23    301.0    2.450144\n",
       "9   AL285  0.96  1.45    357.0    3.097280\n",
       "10  AL290  0.99  1.30    271.0   15.681490\n",
       "11  AL291  0.91  1.07    211.0    6.210800\n",
       "12  AL292  0.91  1.03    192.0   17.195556\n",
       "13  AL293  0.71  0.98    257.0   13.488916\n",
       "14  AL311   NaN   NaN      0.0    0.000000\n",
       "15  AL313  0.99  0.80    521.0   24.613636\n",
       "16  AL314  0.89  0.60    703.0   20.111013\n",
       "17  AL318  0.91  1.07    437.0   54.247655"
      ]
     },
     "execution_count": 11,
     "metadata": {},
     "output_type": "execute_result"
    }
   ],
   "source": [
    "d = {'sample': sample_list, 'ML': MO_centroid_ML,'AP': MO_centroid_AP, 'area_75': area_75, 'axons_95': values_95}\n",
    "df = pd.DataFrame(data=d)\n",
    "# create data frame with the info\n",
    "\n",
    "\n",
    "df.to_csv(f'{outdir}_{site}.csv')\n",
    "\n",
    "df"
   ]
  },
  {
   "cell_type": "code",
   "execution_count": 6,
   "metadata": {},
   "outputs": [],
   "source": [
    "annot_flat= annot_h.flatten()\n",
    "annot_flat_mask = np.argwhere(annot_flat>1)\n",
    "# flatten annotation as an 1d array\n",
    "# find indices of this 1d array that is not zero"
   ]
  },
  {
   "cell_type": "code",
   "execution_count": 7,
   "metadata": {},
   "outputs": [],
   "source": [
    "# load a sample\n",
    "site='s1'\n",
    "\n",
    "indir= f'D:\\\\viral_results\\\\{site}\\\\npy'\n",
    "\n",
    "files= os.listdir(indir)"
   ]
  },
  {
   "cell_type": "code",
   "execution_count": 10,
   "metadata": {},
   "outputs": [
    {
     "name": "stderr",
     "output_type": "stream",
     "text": [
      "100%|██████████████████████████████████████████████████████████████████████████████████| 18/18 [01:54<00:00,  6.37s/it]\n"
     ]
    }
   ],
   "source": [
    "axons_array= np.empty([len(annot_flat_mask), len(files)])\n",
    "# create empty array of shape ( 32380454, # of samples) to store the gaussian filtered, masked and flatted axons \n",
    "\n",
    "sample_name=[]\n",
    "\n",
    "for count, i in (enumerate(tqdm(files))): \n",
    "    \n",
    "    file_path=os.path.join(indir,i)\n",
    "    this_sample= find_mousename(i)\n",
    "    # find the sample name\n",
    "    \n",
    "    sample_name.append(this_sample)\n",
    "    \n",
    "    axons=np.load(file_path)\n",
    "    axons[0,0,0]=0\n",
    "    axons[0,1,0]=0\n",
    "    # load npy file and revert these two indices back to 0\n",
    "    \n",
    "    axons_filtered=skimage.filters.gaussian(axons, sigma=1)\n",
    "    # apply 3d gaussian filter to axon\n",
    "    \n",
    "    axons_flat= axons_filtered.flatten()\n",
    "    axons_flat_masked= axons_flat[annot_flat_mask]\n",
    "    # only take axons at indices that was non-zero in the atlas\n",
    "    \n",
    "    axons_array[:, count]= axons_flat_masked.T\n",
    "    # transpose flatted axons and assign into numpy array\n",
    "    \n",
    "# each column= 1 sample, each row= 1 axon in each position\n",
    "    "
   ]
  },
  {
   "cell_type": "code",
   "execution_count": 26,
   "metadata": {},
   "outputs": [
    {
     "data": {
      "text/plain": [
       "array([1.        , 0.39629633, 0.24875907, 0.09545479, 0.13214154,\n",
       "       0.13507054, 0.07338052, 0.3719203 , 0.16918648, 0.05477624,\n",
       "       0.10692929, 0.12442787, 0.12760439, 0.152486  , 0.08767797,\n",
       "       0.12023849, 0.06063019, 0.26328479])"
      ]
     },
     "execution_count": 26,
     "metadata": {},
     "output_type": "execute_result"
    }
   ],
   "source": [
    "np.corrcoef (axons_array[:,0], axons_array.T)[0][1:]\n",
    "\n",
    "# calculate correlation of the first column to all other columns"
   ]
  },
  {
   "cell_type": "code",
   "execution_count": null,
   "metadata": {},
   "outputs": [],
   "source": [
    "#pd.DataFrame.from_records(axons_array)\n",
    "# DONOT PUT into pandas array, this will freeze computer"
   ]
  },
  {
   "cell_type": "code",
   "execution_count": 140,
   "metadata": {},
   "outputs": [
    {
     "data": {
      "text/plain": [
       "6786.0949901783115"
      ]
     },
     "execution_count": 140,
     "metadata": {},
     "output_type": "execute_result"
    }
   ],
   "source": [
    "axons_flat_masked.sum()"
   ]
  },
  {
   "cell_type": "markdown",
   "metadata": {},
   "source": [
    "### Section to genereate consecutive coronal sections"
   ]
  },
  {
   "cell_type": "code",
   "execution_count": 3,
   "metadata": {},
   "outputs": [],
   "source": [
    "# loop sections\n",
    "regions=['s1', 's2']\n",
    "mouse_lines=['ras','scn','tlx','sim','rbp','nts']"
   ]
  },
  {
   "cell_type": "code",
   "execution_count": 8,
   "metadata": {},
   "outputs": [],
   "source": [
    "bregma= na.bregma[2]\n",
    "# bregma is section 215 in a coronal stack"
   ]
  },
  {
   "cell_type": "code",
   "execution_count": 35,
   "metadata": {},
   "outputs": [
    {
     "name": "stderr",
     "output_type": "stream",
     "text": [
      "100%|████████████████████████████████████████████████████████████████████████████████████████████████████████████████████████████████████████████| 6/6 [00:02<00:00,  2.06it/s]\n",
      "100%|████████████████████████████████████████████████████████████████████████████████████████████████████████████████████████████████████████████| 6/6 [00:02<00:00,  2.04it/s]\n"
     ]
    }
   ],
   "source": [
    "outdir= r'D:\\viral_results\\consecutive_coronal'\n",
    "\n",
    "\n",
    "for i in regions:\n",
    "    for j in tqdm(mouse_lines):\n",
    "        file_path= f'D:\\\\viral_results\\\\{i}_average\\\\{j}_average.npy'\n",
    "\n",
    "        axons=np.load(file_path)\n",
    "        axons[0,0,0]=0\n",
    "        axons[1,0,0]=0\n",
    "        # restore these values back to 0\n",
    "        \n",
    "        coronal= axons.swapaxes(0,1)\n",
    "        # reshape axons into coronal sections\n",
    "        \n",
    "        for k in range(-3,8):\n",
    "            #take -3 mm to 8 mm in 1 mm interval points with 5 sections (125 um) around this point, in terms of stereotaxic cordinate where bregma= 0\n",
    "            \n",
    "            midpoint= int( bregma + k/0.025)\n",
    "            # convert this stereotaxic point back\n",
    "            \n",
    "            this_plane=coronal[midpoint-2 : midpoint+3,:,:].sum(0)\n",
    "            # keep 2 slices before and 2 slices after the midpoint, which is 5 slices in total= 125um thickness\n",
    "\n",
    "            out_name= f'{outdir}\\\\{i}_{j}_avg_AP{k}'\n",
    "\n",
    "            io.imsave(out_name+ '_sum.tif',this_plane,check_contrast=False)\n",
    "        "
   ]
  },
  {
   "cell_type": "code",
   "execution_count": 36,
   "metadata": {},
   "outputs": [
    {
     "name": "stdout",
     "output_type": "stream",
     "text": [
      "95\n",
      "135\n",
      "175\n",
      "215\n",
      "255\n",
      "295\n",
      "335\n",
      "375\n",
      "415\n",
      "455\n",
      "495\n"
     ]
    }
   ],
   "source": [
    "for k in range(-3,8):\n",
    "    #take -3 mm to 8 mm in 1 mm interval points with 5 sections (125 um) around this point, in terms of stereotaxic cordinate where bregma= 0\n",
    "\n",
    "    midpoint= int( bregma + k/0.025)\n",
    "    # convert this stereotaxic point back\n",
    "    \n",
    "    print(midpoint)"
   ]
  },
  {
   "cell_type": "code",
   "execution_count": 34,
   "metadata": {},
   "outputs": [
    {
     "data": {
      "text/plain": [
       "<matplotlib.image.AxesImage at 0x28ce567b580>"
      ]
     },
     "execution_count": 34,
     "metadata": {},
     "output_type": "execute_result"
    },
    {
     "data": {
      "image/png": "[encoded data removed]",
      "text/plain": [
       "<Figure size 640x480 with 2 Axes>"
      ]
     },
     "metadata": {},
     "output_type": "display_data"
    }
   ],
   "source": [
    "io.imshow(this_plane)"
   ]
  },
  {
   "cell_type": "markdown",
   "metadata": {
    "tags": []
   },
   "source": [
    "## Deprecated section"
   ]
  },
  {
   "cell_type": "markdown",
   "metadata": {
    "jp-MarkdownHeadingCollapsed": true,
    "tags": []
   },
   "source": [
    "#### on group averages.npy"
   ]
  },
  {
   "cell_type": "code",
   "execution_count": null,
   "metadata": {},
   "outputs": [
    {
     "name": "stderr",
     "output_type": "stream",
     "text": [
      "100%|████████████████████████████████████████████████████████████████████████████████████| 2/2 [00:00<00:00,  5.05it/s]\n"
     ]
    }
   ],
   "source": [
    "#######\n",
    "#finding contours\n",
    "\n",
    "region_id= [943,962]\n",
    "layer= '2/3'\n",
    "\n",
    "# cannot be string to use isolate region2\n",
    "region_mask= isolate_region_2(region_id)\n",
    "# generate mask outside of the loop since it will be the same!"
   ]
  },
  {
   "cell_type": "code",
   "execution_count": null,
   "metadata": {},
   "outputs": [],
   "source": [
    "# loop sections\n",
    "regions=['s1', 's2']\n",
    "mouse_lines=['ras','scn','tlx','sim1','rbp','ntsr']"
   ]
  },
  {
   "cell_type": "code",
   "execution_count": 104,
   "metadata": {
    "jupyter": {
     "source_hidden": true
    },
    "tags": []
   },
   "outputs": [
    {
     "name": "stderr",
     "output_type": "stream",
     "text": [
      "C:\\Users\\liu\\AppData\\Local\\Temp\\ipykernel_5384\\721943737.py:15: UserWarning: 23_ras_s1.tiff is a low contrast image\n",
      "  skimage.io.imsave(f'23_{j}_{i}.tiff', outline)\n",
      "C:\\Users\\liu\\AppData\\Local\\Temp\\ipykernel_5384\\721943737.py:39: UserWarning: 23_ras_s1_centroid.tiff is a low contrast image\n",
      "  skimage.io.imsave(f'23_{j}_{i}_centroid.tiff', temp)\n"
     ]
    },
    {
     "name": "stdout",
     "output_type": "stream",
     "text": [
      "centroid for s1 injection in ras is ML= 1.01mm,AP= 1.45mm\n"
     ]
    },
    {
     "name": "stderr",
     "output_type": "stream",
     "text": [
      "C:\\Users\\liu\\AppData\\Local\\Temp\\ipykernel_5384\\721943737.py:15: UserWarning: 23_scn_s1.tiff is a low contrast image\n",
      "  skimage.io.imsave(f'23_{j}_{i}.tiff', outline)\n",
      "C:\\Users\\liu\\AppData\\Local\\Temp\\ipykernel_5384\\721943737.py:39: UserWarning: 23_scn_s1_centroid.tiff is a low contrast image\n",
      "  skimage.io.imsave(f'23_{j}_{i}_centroid.tiff', temp)\n"
     ]
    },
    {
     "name": "stdout",
     "output_type": "stream",
     "text": [
      "centroid for s1 injection in scn is ML= 0.81mm,AP= 1.23mm\n"
     ]
    },
    {
     "name": "stderr",
     "output_type": "stream",
     "text": [
      "C:\\Users\\liu\\AppData\\Local\\Temp\\ipykernel_5384\\721943737.py:15: UserWarning: 23_tlx_s1.tiff is a low contrast image\n",
      "  skimage.io.imsave(f'23_{j}_{i}.tiff', outline)\n",
      "C:\\Users\\liu\\AppData\\Local\\Temp\\ipykernel_5384\\721943737.py:39: UserWarning: 23_tlx_s1_centroid.tiff is a low contrast image\n",
      "  skimage.io.imsave(f'23_{j}_{i}_centroid.tiff', temp)\n"
     ]
    },
    {
     "name": "stdout",
     "output_type": "stream",
     "text": [
      "centroid for s1 injection in tlx is ML= 0.91mm,AP= 1.05mm\n",
      "centroid for s1 injection in tlx is ML= 0.84mm,AP= 1.15mm\n"
     ]
    },
    {
     "name": "stderr",
     "output_type": "stream",
     "text": [
      "C:\\Users\\liu\\AppData\\Local\\Temp\\ipykernel_5384\\721943737.py:15: UserWarning: 23_sim1_s1.tiff is a low contrast image\n",
      "  skimage.io.imsave(f'23_{j}_{i}.tiff', outline)\n",
      "C:\\Users\\liu\\AppData\\Local\\Temp\\ipykernel_5384\\721943737.py:39: UserWarning: 23_sim1_s1_centroid.tiff is a low contrast image\n",
      "  skimage.io.imsave(f'23_{j}_{i}_centroid.tiff', temp)\n"
     ]
    },
    {
     "name": "stdout",
     "output_type": "stream",
     "text": [
      "centroid for s1 injection in sim1 is ML= 0.91mm,AP= 1.03mm\n"
     ]
    },
    {
     "name": "stderr",
     "output_type": "stream",
     "text": [
      "C:\\Users\\liu\\AppData\\Local\\Temp\\ipykernel_5384\\721943737.py:15: UserWarning: 23_rbp_s1.tiff is a low contrast image\n",
      "  skimage.io.imsave(f'23_{j}_{i}.tiff', outline)\n",
      "C:\\Users\\liu\\AppData\\Local\\Temp\\ipykernel_5384\\721943737.py:39: UserWarning: 23_rbp_s1_centroid.tiff is a low contrast image\n",
      "  skimage.io.imsave(f'23_{j}_{i}_centroid.tiff', temp)\n"
     ]
    },
    {
     "name": "stdout",
     "output_type": "stream",
     "text": [
      "centroid for s1 injection in rbp is ML= 0.84mm,AP= 1.15mm\n"
     ]
    },
    {
     "name": "stderr",
     "output_type": "stream",
     "text": [
      "C:\\Users\\liu\\AppData\\Local\\Temp\\ipykernel_5384\\721943737.py:15: UserWarning: 23_ntsr_s1.tiff is a low contrast image\n",
      "  skimage.io.imsave(f'23_{j}_{i}.tiff', outline)\n",
      "C:\\Users\\liu\\AppData\\Local\\Temp\\ipykernel_5384\\721943737.py:39: UserWarning: 23_ntsr_s1_centroid.tiff is a low contrast image\n",
      "  skimage.io.imsave(f'23_{j}_{i}_centroid.tiff', temp)\n"
     ]
    },
    {
     "name": "stdout",
     "output_type": "stream",
     "text": [
      "centroid for s1 injection in ntsr is ML= 1.04mm,AP= 1.45mm\n"
     ]
    },
    {
     "name": "stderr",
     "output_type": "stream",
     "text": [
      "C:\\Users\\liu\\AppData\\Local\\Temp\\ipykernel_5384\\721943737.py:15: UserWarning: 23_ras_s2.tiff is a low contrast image\n",
      "  skimage.io.imsave(f'23_{j}_{i}.tiff', outline)\n",
      "C:\\Users\\liu\\AppData\\Local\\Temp\\ipykernel_5384\\721943737.py:39: UserWarning: 23_ras_s2_centroid.tiff is a low contrast image\n",
      "  skimage.io.imsave(f'23_{j}_{i}_centroid.tiff', temp)\n"
     ]
    },
    {
     "name": "stdout",
     "output_type": "stream",
     "text": [
      "centroid for s2 injection in ras is ML= 0.69mm,AP= 1.38mm\n"
     ]
    },
    {
     "name": "stderr",
     "output_type": "stream",
     "text": [
      "C:\\Users\\liu\\AppData\\Local\\Temp\\ipykernel_5384\\721943737.py:15: UserWarning: 23_scn_s2.tiff is a low contrast image\n",
      "  skimage.io.imsave(f'23_{j}_{i}.tiff', outline)\n",
      "C:\\Users\\liu\\AppData\\Local\\Temp\\ipykernel_5384\\721943737.py:39: UserWarning: 23_scn_s2_centroid.tiff is a low contrast image\n",
      "  skimage.io.imsave(f'23_{j}_{i}_centroid.tiff', temp)\n"
     ]
    },
    {
     "name": "stdout",
     "output_type": "stream",
     "text": [
      "centroid for s2 injection in scn is ML= 0.81mm,AP= 1.7mm\n"
     ]
    },
    {
     "name": "stderr",
     "output_type": "stream",
     "text": [
      "C:\\Users\\liu\\AppData\\Local\\Temp\\ipykernel_5384\\721943737.py:15: UserWarning: 23_tlx_s2.tiff is a low contrast image\n",
      "  skimage.io.imsave(f'23_{j}_{i}.tiff', outline)\n",
      "C:\\Users\\liu\\AppData\\Local\\Temp\\ipykernel_5384\\721943737.py:39: UserWarning: 23_tlx_s2_centroid.tiff is a low contrast image\n",
      "  skimage.io.imsave(f'23_{j}_{i}_centroid.tiff', temp)\n"
     ]
    },
    {
     "name": "stdout",
     "output_type": "stream",
     "text": [
      "centroid for s2 injection in tlx is ML= 0.86mm,AP= 1.3mm\n",
      "centroid for s2 injection in tlx is ML= 0.74mm,AP= 1.33mm\n"
     ]
    },
    {
     "name": "stderr",
     "output_type": "stream",
     "text": [
      "C:\\Users\\liu\\AppData\\Local\\Temp\\ipykernel_5384\\721943737.py:15: UserWarning: 23_sim1_s2.tiff is a low contrast image\n",
      "  skimage.io.imsave(f'23_{j}_{i}.tiff', outline)\n",
      "C:\\Users\\liu\\AppData\\Local\\Temp\\ipykernel_5384\\721943737.py:39: UserWarning: 23_sim1_s2_centroid.tiff is a low contrast image\n",
      "  skimage.io.imsave(f'23_{j}_{i}_centroid.tiff', temp)\n"
     ]
    },
    {
     "name": "stdout",
     "output_type": "stream",
     "text": [
      "centroid for s2 injection in sim1 is ML= 1.04mm,AP= 1.58mm\n"
     ]
    },
    {
     "name": "stderr",
     "output_type": "stream",
     "text": [
      "C:\\Users\\liu\\AppData\\Local\\Temp\\ipykernel_5384\\721943737.py:15: UserWarning: 23_rbp_s2.tiff is a low contrast image\n",
      "  skimage.io.imsave(f'23_{j}_{i}.tiff', outline)\n",
      "C:\\Users\\liu\\AppData\\Local\\Temp\\ipykernel_5384\\721943737.py:39: UserWarning: 23_rbp_s2_centroid.tiff is a low contrast image\n",
      "  skimage.io.imsave(f'23_{j}_{i}_centroid.tiff', temp)\n"
     ]
    },
    {
     "name": "stdout",
     "output_type": "stream",
     "text": [
      "centroid for s2 injection in rbp is ML= 0.94mm,AP= 1.4mm\n",
      "centroid for s2 injection in rbp is ML= 0.86mm,AP= 1.78mm\n",
      "centroid for s2 injection in ntsr is ML= 0.91mm,AP= 1.95mm\n",
      "centroid for s2 injection in ntsr is ML= 0.99mm,AP= 0.85mm\n",
      "centroid for s2 injection in ntsr is ML= 0.84mm,AP= -0.45mm\n"
     ]
    },
    {
     "name": "stderr",
     "output_type": "stream",
     "text": [
      "C:\\Users\\liu\\AppData\\Local\\Temp\\ipykernel_5384\\721943737.py:15: UserWarning: 23_ntsr_s2.tiff is a low contrast image\n",
      "  skimage.io.imsave(f'23_{j}_{i}.tiff', outline)\n",
      "C:\\Users\\liu\\AppData\\Local\\Temp\\ipykernel_5384\\721943737.py:39: UserWarning: 23_ntsr_s2_centroid.tiff is a low contrast image\n",
      "  skimage.io.imsave(f'23_{j}_{i}_centroid.tiff', temp)\n"
     ]
    }
   ],
   "source": [
    "for i in regions:\n",
    "    for j in mouse_lines:\n",
    "        file_path= f'D:\\\\viral_results\\\\{i}_averages\\\\{j}_average.npy'\n",
    "\n",
    "        axons=np.load(file_path)\n",
    "        axons[0,0,0]=0\n",
    "        axons[0,1,0]=0\n",
    "        \n",
    "        axons_masked= axons*region_mask\n",
    "        \n",
    "        #threshold, outline=find_contour_fractionmax(axons_masked, 0.95)\n",
    "        threshold, outline=find_contour_otsu(axons_masked)\n",
    "        # find thresholded image and draw contours\n",
    "        \n",
    "        skimage.io.imsave(f'23_{j}_{i}.tiff', outline)\n",
    "        # save the contour image\n",
    "        \n",
    "        label_img = skimage.measure.label(threshold)\n",
    "        region=skimage.measure.regionprops(label_img)\n",
    "        # measure connected components\n",
    "        \n",
    "        temp= np.zeros_like(horizontal)\n",
    "        # create empty array to plot the centoirds\n",
    "\n",
    "        for k in region:\n",
    "            AP_pix,ML_pix= k.centroid\n",
    "            # extract coordinates for centroid\n",
    "\n",
    "            AP_pix=int(AP_pix)\n",
    "            ML_pix=int(ML_pix)\n",
    "\n",
    "            temp[AP_pix,ML_pix]=1\n",
    "            # plot the centroid for each connected component\n",
    "\n",
    "            ML,AP= conv_stereo(ML_pix,AP_pix,25)\n",
    "            # convert pixel values to seterotaxis coordinate\n",
    "            print(f'centroid for {i} injection in {j} is ML= {ML}mm,AP= {AP}mm')\n",
    "        \n",
    "        skimage.io.imsave(f'23_{j}_{i}_centroid.tiff', temp)\n",
    "\n"
   ]
  },
  {
   "cell_type": "markdown",
   "metadata": {
    "tags": []
   },
   "source": [
    "##### load average 315 horizontal sections from s1 and s2 samples then find contour"
   ]
  },
  {
   "cell_type": "code",
   "execution_count": 13,
   "metadata": {
    "tags": []
   },
   "outputs": [],
   "source": [
    "def find_contour_fractionmax2d(axon_array, fraction):\n",
    "    \n",
    "    ''' input axon stack as 2d numpy array (id, already in horizontal sum projection) and fraction of maximal intensity wish to compute (ie. 0.95)\n",
    "    returns binary image and contour on horizontal sumprojection'''\n",
    "\n",
    "    \n",
    "    test1= skimage.filters.gaussian(axon_array, sigma=4)\n",
    "    # apply gaussian filter\n",
    "\n",
    "    #io.imshow(test1) \n",
    "    #io.show()\n",
    "    # show sum projection in horizontal view\n",
    "    \n",
    "    contour1= np.max(test1) * fraction\n",
    "    threshold1= test1>contour1\n",
    "    # find 95% of max intensity and threshold\n",
    "\n",
    "    #io.imshow(threshold1) \n",
    "    #io.show()\n",
    "    \n",
    "    outline= skimage.segmentation.find_boundaries(threshold1, mode='inner').astype(np.uint8)\n",
    "    #find outline of the segmentation\n",
    "\n",
    "    #io.imshow(outline) \n",
    "    #io.show()\n",
    "    \n",
    "    return threshold1, outline"
   ]
  },
  {
   "cell_type": "code",
   "execution_count": 7,
   "metadata": {},
   "outputs": [],
   "source": [
    "s1=io.imread(r'M:\\analysis\\Yanqi_Liu\\viral_image_analysis\\viral_results\\s1_s2\\region\\MO\\MO_ AVG_s1_all_0.tif')\n",
    "s2=io.imread(r'M:\\analysis\\Yanqi_Liu\\viral_image_analysis\\viral_results\\s1_s2\\region\\MO\\MO_ AVG_s2_all_0.tif')"
   ]
  },
  {
   "cell_type": "code",
   "execution_count": 14,
   "metadata": {},
   "outputs": [],
   "source": [
    "fractionmax=0.95\n",
    "thres1,outline1=find_contour_fractionmax2d(s1, fractionmax)\n",
    "thres2,outline2=find_contour_fractionmax2d(s2, fractionmax)"
   ]
  },
  {
   "cell_type": "code",
   "execution_count": 15,
   "metadata": {},
   "outputs": [],
   "source": [
    "site='s1'\n",
    "outline=outline1\n",
    "threshold=thres1"
   ]
  },
  {
   "cell_type": "code",
   "execution_count": 16,
   "metadata": {},
   "outputs": [
    {
     "name": "stdout",
     "output_type": "stream",
     "text": [
      "centroid for s1 injection is ML= 1.01mm,AP= 1.05mm\n"
     ]
    },
    {
     "name": "stderr",
     "output_type": "stream",
     "text": [
      "C:\\Users\\liu\\AppData\\Local\\Temp\\ipykernel_2052\\2254015230.py:3: UserWarning: s1_contour_0.95.tiff is a low contrast image\n",
      "  skimage.io.imsave(f'{site}_contour_{fractionmax}.tiff', outline)\n",
      "C:\\Users\\liu\\AppData\\Local\\Temp\\ipykernel_2052\\2254015230.py:28: UserWarning: s1_centroid_0.95.tiff is a low contrast image\n",
      "  skimage.io.imsave(f'{site}_centroid_{fractionmax}.tiff', temp)\n"
     ]
    }
   ],
   "source": [
    "outline=outline.astype(np.int8)\n",
    "# convert to 8 bit, for easier merge in image J since the centoid image next will be 8 bit\n",
    "skimage.io.imsave(f'{site}_contour_{fractionmax}.tiff', outline)\n",
    "# save the contour image\n",
    "\n",
    "label_img = skimage.measure.label(threshold)\n",
    "region=skimage.measure.regionprops(label_img)\n",
    "# measure connected components\n",
    "\n",
    "temp= np.zeros_like(s1)\n",
    "# create empty array to plot the centoirds\n",
    "\n",
    "for k in region:\n",
    "    AP_pix,ML_pix= k.centroid\n",
    "    # extract coordinates for centroid\n",
    "\n",
    "    AP_pix=int(AP_pix)\n",
    "    ML_pix=int(ML_pix)\n",
    "\n",
    "    temp[AP_pix,ML_pix]=1\n",
    "    # plot the centroid for each connected component\n",
    "\n",
    "    ML,AP= conv_stereo(ML_pix,AP_pix,25)\n",
    "    # convert pixel values to seterotaxis coordinate\n",
    "    print(f'centroid for {site} injection is ML= {ML}mm,AP= {AP}mm')\n",
    "    \n",
    "temp=temp.astype(np.int8)\n",
    "skimage.io.imsave(f'{site}_centroid_{fractionmax}.tiff', temp)\n"
   ]
  },
  {
   "cell_type": "code",
   "execution_count": 17,
   "metadata": {},
   "outputs": [],
   "source": [
    "site='s2'\n",
    "outline=outline2\n",
    "threshold=thres2"
   ]
  },
  {
   "cell_type": "code",
   "execution_count": 18,
   "metadata": {
    "jupyter": {
     "source_hidden": true
    },
    "tags": []
   },
   "outputs": [
    {
     "name": "stdout",
     "output_type": "stream",
     "text": [
      "centroid for s2 injection is ML= 0.89mm,AP= 1.45mm\n"
     ]
    },
    {
     "name": "stderr",
     "output_type": "stream",
     "text": [
      "C:\\Users\\liu\\AppData\\Local\\Temp\\ipykernel_2052\\2844885372.py:3: UserWarning: s2_contour_0.95.tiff is a low contrast image\n",
      "  skimage.io.imsave(f'{site}_contour_{fractionmax}.tiff', outline)\n",
      "C:\\Users\\liu\\AppData\\Local\\Temp\\ipykernel_2052\\2844885372.py:29: UserWarning: s2_centroid_0.95.tiff is a low contrast image\n",
      "  skimage.io.imsave(f'{site}_centroid_{fractionmax}.tiff', temp)\n"
     ]
    }
   ],
   "source": [
    "outline=outline.astype(np.int8)\n",
    "# convert to 8 bit, for easier merge in image J since the centoid image next will be 8 bit\n",
    "skimage.io.imsave(f'{site}_contour_{fractionmax}.tiff', outline)\n",
    "# save the contour image\n",
    "\n",
    "label_img = skimage.measure.label(threshold)\n",
    "region=skimage.measure.regionprops(label_img)\n",
    "# measure connected components\n",
    "\n",
    "temp= np.zeros_like(s1)\n",
    "# create empty array to plot the centoirds\n",
    "\n",
    "for k in region:\n",
    "    AP_pix,ML_pix= k.centroid\n",
    "    # extract coordinates for centroid\n",
    "\n",
    "    AP_pix=int(AP_pix)\n",
    "    ML_pix=int(ML_pix)\n",
    "\n",
    "    temp[AP_pix,ML_pix]=1\n",
    "    # plot the centroid for each connected component\n",
    "\n",
    "    ML,AP= conv_stereo(ML_pix,AP_pix,25)\n",
    "    # convert pixel values to seterotaxis coordinate\n",
    "    print(f'centroid for {site} injection is ML= {ML}mm,AP= {AP}mm')\n",
    "\n",
    "    \n",
    "temp=temp.astype(np.int8)\n",
    "skimage.io.imsave(f'{site}_centroid_{fractionmax}.tiff', temp)"
   ]
  },
  {
   "cell_type": "code",
   "execution_count": 2,
   "metadata": {},
   "outputs": [],
   "source": [
    "def save_tiff(numpystack, outname):\n",
    "    \n",
    "    '''save numpy stack as tiff'''\n",
    "    \n",
    "    print('Starting to saving tif files..')\n",
    "    \n",
    "    io.imsave(outname+'_axons.tif',numpystack)\n",
    "    \n",
    "    sum_0=np.sum(numpystack, axis=0)\n",
    "    sum_1=np.sum(numpystack, axis=1)\n",
    "    sum_2=np.sum(numpystack, axis=2)\n",
    "    io.imsave(outname+ '_sum_0.tif',sum_0)\n",
    "    io.imsave(outname+ '_sum_1.tif',sum_1)\n",
    "    io.imsave(outname+ '_sum_2.tif',sum_2)"
   ]
  },
  {
   "cell_type": "markdown",
   "metadata": {
    "jp-MarkdownHeadingCollapsed": true,
    "tags": []
   },
   "source": [
    "#### s1 sim1 samples"
   ]
  },
  {
   "cell_type": "code",
   "execution_count": 29,
   "metadata": {},
   "outputs": [],
   "source": [
    "# s1 sim1 samples\n",
    "\n",
    "name_list= ['AL207','AL209','AL273']\n",
    "\n",
    "s1_sim1= np.zeros((320, 528, 456, len(name_list)))\n",
    "# create big empty array to store the axons arrays, with the first 3 dimensions as horizontal allen atlas and last dimension as number of samples in this group"
   ]
  },
  {
   "cell_type": "code",
   "execution_count": 31,
   "metadata": {},
   "outputs": [
    {
     "name": "stdout",
     "output_type": "stream",
     "text": [
      "loading AL207.npy\n",
      "loading AL209.npy\n",
      "loading AL273.npy\n"
     ]
    }
   ],
   "source": [
    "for count, i in enumerate (name_list):\n",
    "    print (f'loading {i}.npy')\n",
    "    axon= np.load (f'D:\\\\viral_results\\\\s1\\\\{i}.npy')\n",
    "    s1_sim1[:,:,:,count]=axon"
   ]
  },
  {
   "cell_type": "code",
   "execution_count": 44,
   "metadata": {},
   "outputs": [],
   "source": [
    "s1_sim1_avg= np.average(s1_sim1, axis=3)\n",
    "s1_sim1_avg.shape\n",
    "\n",
    "s1_sim1_avg[0,1,0]=len(name_list)\n",
    "# store the number of samples used to calculate this average at the [0,1,0] location\n",
    "# so that the value at [0,0,0] multiply by value at [0,1,0] equals the total number of axons for all samples in this group\n",
    "\n",
    "np.save('D:\\\\viral_results\\\\s1_s2\\\\s1_sim1_avg.npy', s1_sim1_avg)\n",
    "# save this averaged array\n"
   ]
  },
  {
   "cell_type": "code",
   "execution_count": 48,
   "metadata": {},
   "outputs": [
    {
     "name": "stdout",
     "output_type": "stream",
     "text": [
      "Starting to saving tif files..\n"
     ]
    },
    {
     "name": "stderr",
     "output_type": "stream",
     "text": [
      "C:\\Users\\liu\\AppData\\Local\\Temp\\ipykernel_12116\\828751201.py:7: UserWarning: D:\\viral_results\\s1_s2\\s1_sim1_avg_axons.tif is a low contrast image\n",
      "  io.imsave(outname+'_axons.tif',numpystack)\n",
      "C:\\Users\\liu\\AppData\\Local\\Temp\\ipykernel_12116\\828751201.py:12: UserWarning: D:\\viral_results\\s1_s2\\s1_sim1_avg_sum_0.tif is a low contrast image\n",
      "  io.imsave(outname+ '_sum_0.tif',sum_0)\n",
      "C:\\Users\\liu\\AppData\\Local\\Temp\\ipykernel_12116\\828751201.py:13: UserWarning: D:\\viral_results\\s1_s2\\s1_sim1_avg_sum_1.tif is a low contrast image\n",
      "  io.imsave(outname+ '_sum_1.tif',sum_1)\n",
      "C:\\Users\\liu\\AppData\\Local\\Temp\\ipykernel_12116\\828751201.py:14: UserWarning: D:\\viral_results\\s1_s2\\s1_sim1_avg_sum_2.tif is a low contrast image\n",
      "  io.imsave(outname+ '_sum_2.tif',sum_2)\n"
     ]
    }
   ],
   "source": [
    "# verify axons in plotly and then save as tiff stack & sum projections\n",
    "\n",
    "s1_sim1_avg[0,0,0]=0\n",
    "# dont forget to change the [0,0,0] position from the total number of axons back to 0!\n",
    "\n",
    "s1_sim1_avg[0,1,0]=0\n",
    "# dont forget to change the [0,1,0] position from the total number of samples in this group back to 0!\n",
    "\n",
    "viewer.add_image(s1_sim1_avg)\n",
    "\n",
    "save_tiff(s1_sim1_avg, 'D:\\\\viral_results\\\\s1_s2\\\\s1_sim1_avg')"
   ]
  },
  {
   "cell_type": "markdown",
   "metadata": {
    "jp-MarkdownHeadingCollapsed": true,
    "tags": []
   },
   "source": [
    "#### s2 sim1 samples"
   ]
  },
  {
   "cell_type": "code",
   "execution_count": 5,
   "metadata": {
    "tags": []
   },
   "outputs": [
    {
     "name": "stdout",
     "output_type": "stream",
     "text": [
      "loading AL281.npy\n",
      "loading AL286.npy\n",
      "loading AL321.npy\n",
      "loading AL322.npy\n",
      "Starting to saving tif files..\n"
     ]
    },
    {
     "name": "stderr",
     "output_type": "stream",
     "text": [
      "C:\\Users\\liu\\AppData\\Local\\Temp\\ipykernel_17252\\828751201.py:7: UserWarning: D:\\viral_results\\s1_s2\\s2_sim1_avg_axons.tif is a low contrast image\n",
      "  io.imsave(outname+'_axons.tif',numpystack)\n",
      "C:\\Users\\liu\\AppData\\Local\\Temp\\ipykernel_17252\\828751201.py:12: UserWarning: D:\\viral_results\\s1_s2\\s2_sim1_avg_sum_0.tif is a low contrast image\n",
      "  io.imsave(outname+ '_sum_0.tif',sum_0)\n",
      "C:\\Users\\liu\\AppData\\Local\\Temp\\ipykernel_17252\\828751201.py:13: UserWarning: D:\\viral_results\\s1_s2\\s2_sim1_avg_sum_1.tif is a low contrast image\n",
      "  io.imsave(outname+ '_sum_1.tif',sum_1)\n",
      "C:\\Users\\liu\\AppData\\Local\\Temp\\ipykernel_17252\\828751201.py:14: UserWarning: D:\\viral_results\\s1_s2\\s2_sim1_avg_sum_2.tif is a low contrast image\n",
      "  io.imsave(outname+ '_sum_2.tif',sum_2)\n"
     ]
    }
   ],
   "source": [
    "region='s2'\n",
    "mouse_line= 'sim1'\n",
    "\n",
    "name_list= ['AL281','AL286','AL321','AL322']\n",
    "\n",
    "emptyarray= np.zeros((320, 528, 456, len(name_list)))\n",
    "\n",
    "for count, i in enumerate (name_list):\n",
    "    print (f'loading {i}.npy')\n",
    "    axon= np.load (f'D:\\\\viral_results\\\\{region}\\\\{i}.npy')\n",
    "    emptyarray[:,:,:,count]=axon\n",
    "    \n",
    "emptyarray_avg= np.average(emptyarray, axis=3)\n",
    "emptyarray_avg.shape\n",
    "\n",
    "emptyarray_avg[0,1,0]=len(name_list)\n",
    "# store the number of samples used to calculate this average at the [0,1,0] location\n",
    "# so that the value at [0,0,0] multiply by value at [0,1,0] equals the total number of axons for all samples in this group\n",
    "\n",
    "np.save('D:\\\\viral_results\\\\s1_s2\\\\s2_sim1_avg.npy', emptyarray_avg)\n",
    "# save this averaged array\n",
    "\n",
    "emptyarray_avg[0,0,0]=0\n",
    "emptyarray_avg[0,1,0]=0\n",
    "\n",
    "save_tiff(emptyarray_avg, f'D:\\\\viral_results\\\\s1_s2\\\\{region}_{mouse_line}_avg')\n",
    "\n",
    "print(f'Done saving {region}_{mouse_line} data')"
   ]
  },
  {
   "cell_type": "markdown",
   "metadata": {
    "jp-MarkdownHeadingCollapsed": true,
    "tags": []
   },
   "source": [
    "#### s1 rbp samples"
   ]
  },
  {
   "cell_type": "code",
   "execution_count": 7,
   "metadata": {},
   "outputs": [
    {
     "name": "stdout",
     "output_type": "stream",
     "text": [
      "loading AL211.npy\n",
      "loading AL215.npy\n",
      "loading AL318.npy\n",
      "Starting to saving tif files..\n"
     ]
    },
    {
     "name": "stderr",
     "output_type": "stream",
     "text": [
      "C:\\Users\\liu\\AppData\\Local\\Temp\\ipykernel_17252\\828751201.py:7: UserWarning: D:\\viral_results\\s1_s2\\s1_rbp_avg_axons.tif is a low contrast image\n",
      "  io.imsave(outname+'_axons.tif',numpystack)\n"
     ]
    },
    {
     "name": "stdout",
     "output_type": "stream",
     "text": [
      "Done saving s1_rbp data\n"
     ]
    },
    {
     "name": "stderr",
     "output_type": "stream",
     "text": [
      "C:\\Users\\liu\\AppData\\Local\\Temp\\ipykernel_17252\\828751201.py:12: UserWarning: D:\\viral_results\\s1_s2\\s1_rbp_avg_sum_0.tif is a low contrast image\n",
      "  io.imsave(outname+ '_sum_0.tif',sum_0)\n",
      "C:\\Users\\liu\\AppData\\Local\\Temp\\ipykernel_17252\\828751201.py:13: UserWarning: D:\\viral_results\\s1_s2\\s1_rbp_avg_sum_1.tif is a low contrast image\n",
      "  io.imsave(outname+ '_sum_1.tif',sum_1)\n",
      "C:\\Users\\liu\\AppData\\Local\\Temp\\ipykernel_17252\\828751201.py:14: UserWarning: D:\\viral_results\\s1_s2\\s1_rbp_avg_sum_2.tif is a low contrast image\n",
      "  io.imsave(outname+ '_sum_2.tif',sum_2)\n"
     ]
    }
   ],
   "source": [
    "region='s1'\n",
    "mouse_line= 'rbp'\n",
    "\n",
    "name_list= ['AL211','AL215','AL318']\n",
    "\n",
    "emptyarray= np.zeros((320, 528, 456, len(name_list)))\n",
    "\n",
    "for count, i in enumerate (name_list):\n",
    "    print (f'loading {i}.npy')\n",
    "    axon= np.load (f'D:\\\\viral_results\\\\{region}\\\\{i}.npy')\n",
    "    emptyarray[:,:,:,count]=axon\n",
    "    \n",
    "emptyarray_avg= np.average(emptyarray, axis=3)\n",
    "emptyarray_avg.shape\n",
    "\n",
    "emptyarray_avg[0,1,0]=len(name_list)\n",
    "# store the number of samples used to calculate this average at the [0,1,0] location\n",
    "# so that the value at [0,0,0] multiply by value at [0,1,0] equals the total number of axons for all samples in this group\n",
    "\n",
    "np.save(f'D:\\\\viral_results\\\\s1_s2\\\\{region}_{mouse_line}_avg.npy', emptyarray_avg)\n",
    "# save this averaged array\n",
    "\n",
    "emptyarray_avg[0,0,0]=0\n",
    "emptyarray_avg[0,1,0]=0\n",
    "\n",
    "save_tiff(emptyarray_avg, f'D:\\\\viral_results\\\\s1_s2\\\\{region}_{mouse_line}_avg')\n",
    "\n",
    "print(f'Done saving {region}_{mouse_line} data')"
   ]
  },
  {
   "cell_type": "markdown",
   "metadata": {
    "jp-MarkdownHeadingCollapsed": true,
    "tags": []
   },
   "source": [
    "#### s2 rbp samples"
   ]
  },
  {
   "cell_type": "code",
   "execution_count": 7,
   "metadata": {},
   "outputs": [
    {
     "name": "stdout",
     "output_type": "stream",
     "text": [
      "loading AL211.npy\n",
      "loading AL215.npy\n",
      "loading AL318.npy\n",
      "Starting to saving tif files..\n"
     ]
    },
    {
     "name": "stderr",
     "output_type": "stream",
     "text": [
      "C:\\Users\\liu\\AppData\\Local\\Temp\\ipykernel_17252\\828751201.py:7: UserWarning: D:\\viral_results\\s1_s2\\s1_rbp_avg_axons.tif is a low contrast image\n",
      "  io.imsave(outname+'_axons.tif',numpystack)\n"
     ]
    },
    {
     "name": "stdout",
     "output_type": "stream",
     "text": [
      "Done saving s1_rbp data\n"
     ]
    },
    {
     "name": "stderr",
     "output_type": "stream",
     "text": [
      "C:\\Users\\liu\\AppData\\Local\\Temp\\ipykernel_17252\\828751201.py:12: UserWarning: D:\\viral_results\\s1_s2\\s1_rbp_avg_sum_0.tif is a low contrast image\n",
      "  io.imsave(outname+ '_sum_0.tif',sum_0)\n",
      "C:\\Users\\liu\\AppData\\Local\\Temp\\ipykernel_17252\\828751201.py:13: UserWarning: D:\\viral_results\\s1_s2\\s1_rbp_avg_sum_1.tif is a low contrast image\n",
      "  io.imsave(outname+ '_sum_1.tif',sum_1)\n",
      "C:\\Users\\liu\\AppData\\Local\\Temp\\ipykernel_17252\\828751201.py:14: UserWarning: D:\\viral_results\\s1_s2\\s1_rbp_avg_sum_2.tif is a low contrast image\n",
      "  io.imsave(outname+ '_sum_2.tif',sum_2)\n"
     ]
    }
   ],
   "source": [
    "region='s2'\n",
    "mouse_line= 'rbp'\n",
    "\n",
    "name_list= ['AL288','AL326','AL327']\n",
    "\n",
    "emptyarray= np.zeros((320, 528, 456, len(name_list)))\n",
    "\n",
    "for count, i in enumerate (name_list):\n",
    "    print (f'loading {i}.npy')\n",
    "    axon= np.load (f'D:\\\\viral_results\\\\{region}\\\\{i}.npy')\n",
    "    emptyarray[:,:,:,count]=axon\n",
    "    \n",
    "emptyarray_avg= np.average(emptyarray, axis=3)\n",
    "emptyarray_avg.shape\n",
    "\n",
    "emptyarray_avg[0,1,0]=len(name_list)\n",
    "# store the number of samples used to calculate this average at the [0,1,0] location\n",
    "# so that the value at [0,0,0] multiply by value at [0,1,0] equals the total number of axons for all samples in this group\n",
    "\n",
    "np.save(f'D:\\\\viral_results\\\\s1_s2\\\\{region}_{mouse_line}_avg.npy', emptyarray_avg)\n",
    "# save this averaged array\n",
    "\n",
    "emptyarray_avg[0,0,0]=0\n",
    "emptyarray_avg[0,1,0]=0\n",
    "\n",
    "save_tiff(emptyarray_avg, f'D:\\\\viral_results\\\\s1_s2\\\\{region}_{mouse_line}_avg')\n",
    "\n",
    "print(f'Done saving {region}_{mouse_line} data')"
   ]
  },
  {
   "cell_type": "markdown",
   "metadata": {
    "jp-MarkdownHeadingCollapsed": true,
    "tags": []
   },
   "source": [
    "#### s1 tlx samples"
   ]
  },
  {
   "cell_type": "code",
   "execution_count": 10,
   "metadata": {},
   "outputs": [
    {
     "name": "stdout",
     "output_type": "stream",
     "text": [
      "loading AL213.npy\n",
      "loading AL313.npy\n",
      "loading AL314.npy\n",
      "Starting to saving tif files..\n"
     ]
    },
    {
     "name": "stderr",
     "output_type": "stream",
     "text": [
      "C:\\Users\\liu\\AppData\\Local\\Temp\\ipykernel_17252\\828751201.py:7: UserWarning: D:\\viral_results\\s1_s2\\s1_tlx_avg_axons.tif is a low contrast image\n",
      "  io.imsave(outname+'_axons.tif',numpystack)\n"
     ]
    },
    {
     "name": "stdout",
     "output_type": "stream",
     "text": [
      "Done saving s1_tlx data\n"
     ]
    },
    {
     "name": "stderr",
     "output_type": "stream",
     "text": [
      "C:\\Users\\liu\\AppData\\Local\\Temp\\ipykernel_17252\\828751201.py:12: UserWarning: D:\\viral_results\\s1_s2\\s1_tlx_avg_sum_0.tif is a low contrast image\n",
      "  io.imsave(outname+ '_sum_0.tif',sum_0)\n",
      "C:\\Users\\liu\\AppData\\Local\\Temp\\ipykernel_17252\\828751201.py:13: UserWarning: D:\\viral_results\\s1_s2\\s1_tlx_avg_sum_1.tif is a low contrast image\n",
      "  io.imsave(outname+ '_sum_1.tif',sum_1)\n",
      "C:\\Users\\liu\\AppData\\Local\\Temp\\ipykernel_17252\\828751201.py:14: UserWarning: D:\\viral_results\\s1_s2\\s1_tlx_avg_sum_2.tif is a low contrast image\n",
      "  io.imsave(outname+ '_sum_2.tif',sum_2)\n"
     ]
    }
   ],
   "source": [
    "region='s1'\n",
    "mouse_line= 'tlx'\n",
    "\n",
    "name_list= ['AL213','AL313','AL314']\n",
    "\n",
    "emptyarray= np.zeros((320, 528, 456, len(name_list)))\n",
    "\n",
    "for count, i in enumerate (name_list):\n",
    "    print (f'loading {i}.npy')\n",
    "    axon= np.load (f'D:\\\\viral_results\\\\{region}\\\\{i}.npy')\n",
    "    emptyarray[:,:,:,count]=axon\n",
    "    \n",
    "emptyarray_avg= np.average(emptyarray, axis=3)\n",
    "emptyarray_avg.shape\n",
    "\n",
    "emptyarray_avg[0,1,0]=len(name_list)\n",
    "# store the number of samples used to calculate this average at the [0,1,0] location\n",
    "# so that the value at [0,0,0] multiply by value at [0,1,0] equals the total number of axons for all samples in this group\n",
    "\n",
    "np.save(f'D:\\\\viral_results\\\\s1_s2\\\\{region}_{mouse_line}_avg.npy', emptyarray_avg)\n",
    "# save this averaged array\n",
    "\n",
    "emptyarray_avg[0,0,0]=0\n",
    "emptyarray_avg[0,1,0]=0\n",
    "\n",
    "save_tiff(emptyarray_avg, f'D:\\\\viral_results\\\\s1_s2\\\\{region}_{mouse_line}_avg')\n",
    "\n",
    "print(f'Done saving {region}_{mouse_line} data')"
   ]
  },
  {
   "cell_type": "markdown",
   "metadata": {
    "jp-MarkdownHeadingCollapsed": true,
    "tags": []
   },
   "source": [
    "#### s2 tlx samples"
   ]
  },
  {
   "cell_type": "code",
   "execution_count": 11,
   "metadata": {},
   "outputs": [
    {
     "name": "stdout",
     "output_type": "stream",
     "text": [
      "loading AL278.npy\n",
      "loading AL280.npy\n",
      "loading AL319.npy\n",
      "Starting to saving tif files..\n"
     ]
    },
    {
     "name": "stderr",
     "output_type": "stream",
     "text": [
      "C:\\Users\\liu\\AppData\\Local\\Temp\\ipykernel_17252\\828751201.py:7: UserWarning: D:\\viral_results\\s1_s2\\s2_tlx_avg_axons.tif is a low contrast image\n",
      "  io.imsave(outname+'_axons.tif',numpystack)\n"
     ]
    },
    {
     "name": "stdout",
     "output_type": "stream",
     "text": [
      "Done saving s2_tlx data\n"
     ]
    },
    {
     "name": "stderr",
     "output_type": "stream",
     "text": [
      "C:\\Users\\liu\\AppData\\Local\\Temp\\ipykernel_17252\\828751201.py:12: UserWarning: D:\\viral_results\\s1_s2\\s2_tlx_avg_sum_0.tif is a low contrast image\n",
      "  io.imsave(outname+ '_sum_0.tif',sum_0)\n",
      "C:\\Users\\liu\\AppData\\Local\\Temp\\ipykernel_17252\\828751201.py:13: UserWarning: D:\\viral_results\\s1_s2\\s2_tlx_avg_sum_1.tif is a low contrast image\n",
      "  io.imsave(outname+ '_sum_1.tif',sum_1)\n",
      "C:\\Users\\liu\\AppData\\Local\\Temp\\ipykernel_17252\\828751201.py:14: UserWarning: D:\\viral_results\\s1_s2\\s2_tlx_avg_sum_2.tif is a low contrast image\n",
      "  io.imsave(outname+ '_sum_2.tif',sum_2)\n"
     ]
    }
   ],
   "source": [
    "region='s2'\n",
    "mouse_line= 'tlx'\n",
    "\n",
    "name_list= ['AL278','AL280','AL319']\n",
    "\n",
    "emptyarray= np.zeros((320, 528, 456, len(name_list)))\n",
    "\n",
    "for count, i in enumerate (name_list):\n",
    "    print (f'loading {i}.npy')\n",
    "    axon= np.load (f'D:\\\\viral_results\\\\{region}\\\\{i}.npy')\n",
    "    emptyarray[:,:,:,count]=axon\n",
    "    \n",
    "emptyarray_avg= np.average(emptyarray, axis=3)\n",
    "emptyarray_avg.shape\n",
    "\n",
    "emptyarray_avg[0,1,0]=len(name_list)\n",
    "# store the number of samples used to calculate this average at the [0,1,0] location\n",
    "# so that the value at [0,0,0] multiply by value at [0,1,0] equals the total number of axons for all samples in this group\n",
    "\n",
    "np.save(f'D:\\\\viral_results\\\\s1_s2\\\\{region}_{mouse_line}_avg.npy', emptyarray_avg)\n",
    "# save this averaged array\n",
    "\n",
    "emptyarray_avg[0,0,0]=0\n",
    "emptyarray_avg[0,1,0]=0\n",
    "\n",
    "save_tiff(emptyarray_avg, f'D:\\\\viral_results\\\\s1_s2\\\\{region}_{mouse_line}_avg')\n",
    "\n",
    "print(f'Done saving {region}_{mouse_line} data')"
   ]
  },
  {
   "cell_type": "markdown",
   "metadata": {
    "jp-MarkdownHeadingCollapsed": true,
    "tags": []
   },
   "source": [
    "#### s1 ras samples"
   ]
  },
  {
   "cell_type": "code",
   "execution_count": 12,
   "metadata": {},
   "outputs": [
    {
     "name": "stdout",
     "output_type": "stream",
     "text": [
      "loading AL254.npy\n",
      "loading AL255.npy\n",
      "loading AL257.npy\n",
      "Starting to saving tif files..\n"
     ]
    },
    {
     "name": "stderr",
     "output_type": "stream",
     "text": [
      "C:\\Users\\liu\\AppData\\Local\\Temp\\ipykernel_17252\\828751201.py:7: UserWarning: D:\\viral_results\\s1_s2\\s1_ras_avg_axons.tif is a low contrast image\n",
      "  io.imsave(outname+'_axons.tif',numpystack)\n"
     ]
    },
    {
     "name": "stdout",
     "output_type": "stream",
     "text": [
      "Done saving s1_ras data\n"
     ]
    },
    {
     "name": "stderr",
     "output_type": "stream",
     "text": [
      "C:\\Users\\liu\\AppData\\Local\\Temp\\ipykernel_17252\\828751201.py:12: UserWarning: D:\\viral_results\\s1_s2\\s1_ras_avg_sum_0.tif is a low contrast image\n",
      "  io.imsave(outname+ '_sum_0.tif',sum_0)\n",
      "C:\\Users\\liu\\AppData\\Local\\Temp\\ipykernel_17252\\828751201.py:13: UserWarning: D:\\viral_results\\s1_s2\\s1_ras_avg_sum_1.tif is a low contrast image\n",
      "  io.imsave(outname+ '_sum_1.tif',sum_1)\n",
      "C:\\Users\\liu\\AppData\\Local\\Temp\\ipykernel_17252\\828751201.py:14: UserWarning: D:\\viral_results\\s1_s2\\s1_ras_avg_sum_2.tif is a low contrast image\n",
      "  io.imsave(outname+ '_sum_2.tif',sum_2)\n"
     ]
    }
   ],
   "source": [
    "region='s1'\n",
    "mouse_line= 'ras'\n",
    "\n",
    "name_list= ['AL254','AL255','AL257']\n",
    "\n",
    "emptyarray= np.zeros((320, 528, 456, len(name_list)))\n",
    "\n",
    "for count, i in enumerate (name_list):\n",
    "    print (f'loading {i}.npy')\n",
    "    axon= np.load (f'D:\\\\viral_results\\\\{region}\\\\{i}.npy')\n",
    "    emptyarray[:,:,:,count]=axon\n",
    "    \n",
    "emptyarray_avg= np.average(emptyarray, axis=3)\n",
    "emptyarray_avg.shape\n",
    "\n",
    "emptyarray_avg[0,1,0]=len(name_list)\n",
    "# store the number of samples used to calculate this average at the [0,1,0] location\n",
    "# so that the value at [0,0,0] multiply by value at [0,1,0] equals the total number of axons for all samples in this group\n",
    "\n",
    "np.save(f'D:\\\\viral_results\\\\s1_s2\\\\{region}_{mouse_line}_avg.npy', emptyarray_avg)\n",
    "# save this averaged array\n",
    "\n",
    "emptyarray_avg[0,0,0]=0\n",
    "emptyarray_avg[0,1,0]=0\n",
    "\n",
    "save_tiff(emptyarray_avg, f'D:\\\\viral_results\\\\s1_s2\\\\{region}_{mouse_line}_avg')\n",
    "\n",
    "print(f'Done saving {region}_{mouse_line} data')"
   ]
  },
  {
   "cell_type": "markdown",
   "metadata": {
    "jp-MarkdownHeadingCollapsed": true,
    "tags": []
   },
   "source": [
    "#### s2 ras samples "
   ]
  },
  {
   "cell_type": "code",
   "execution_count": 4,
   "metadata": {
    "collapsed": true,
    "jupyter": {
     "outputs_hidden": true
    },
    "tags": []
   },
   "outputs": [
    {
     "name": "stdout",
     "output_type": "stream",
     "text": [
      "loading AL303.npy\n",
      "loading AL332.npy\n",
      "loading AL333.npy\n",
      "Starting to saving tif files..\n"
     ]
    },
    {
     "name": "stderr",
     "output_type": "stream",
     "text": [
      "C:\\Users\\liu\\AppData\\Local\\Temp\\ipykernel_7772\\828751201.py:7: UserWarning: D:\\viral_results\\s1_s2\\s2_ras_avg_axons.tif is a low contrast image\n",
      "  io.imsave(outname+'_axons.tif',numpystack)\n"
     ]
    },
    {
     "name": "stdout",
     "output_type": "stream",
     "text": [
      "Done saving s2_ras data\n"
     ]
    },
    {
     "name": "stderr",
     "output_type": "stream",
     "text": [
      "C:\\Users\\liu\\AppData\\Local\\Temp\\ipykernel_7772\\828751201.py:12: UserWarning: D:\\viral_results\\s1_s2\\s2_ras_avg_sum_0.tif is a low contrast image\n",
      "  io.imsave(outname+ '_sum_0.tif',sum_0)\n",
      "C:\\Users\\liu\\AppData\\Local\\Temp\\ipykernel_7772\\828751201.py:13: UserWarning: D:\\viral_results\\s1_s2\\s2_ras_avg_sum_1.tif is a low contrast image\n",
      "  io.imsave(outname+ '_sum_1.tif',sum_1)\n",
      "C:\\Users\\liu\\AppData\\Local\\Temp\\ipykernel_7772\\828751201.py:14: UserWarning: D:\\viral_results\\s1_s2\\s2_ras_avg_sum_2.tif is a low contrast image\n",
      "  io.imsave(outname+ '_sum_2.tif',sum_2)\n"
     ]
    }
   ],
   "source": [
    "region='s2'\n",
    "mouse_line= 'ras'\n",
    "\n",
    "name_list= ['AL303','AL332','AL333']\n",
    "\n",
    "emptyarray= np.zeros((320, 528, 456, len(name_list)))\n",
    "\n",
    "for count, i in enumerate (name_list):\n",
    "    print (f'loading {i}.npy')\n",
    "    axon= np.load (f'D:\\\\viral_results\\\\{region}\\\\{i}.npy')\n",
    "    emptyarray[:,:,:,count]=axon\n",
    "    \n",
    "emptyarray_avg= np.average(emptyarray, axis=3)\n",
    "emptyarray_avg.shape\n",
    "\n",
    "emptyarray_avg[0,1,0]=len(name_list)\n",
    "# store the number of samples used to calculate this average at the [0,1,0] location\n",
    "# so that the value at [0,0,0] multiply by value at [0,1,0] equals the total number of axons for all samples in this group\n",
    "\n",
    "np.save(f'D:\\\\viral_results\\\\s1_s2\\\\{region}_{mouse_line}_avg.npy', emptyarray_avg)\n",
    "# save this averaged array\n",
    "\n",
    "emptyarray_avg[0,0,0]=0\n",
    "emptyarray_avg[0,1,0]=0\n",
    "\n",
    "save_tiff(emptyarray_avg, f'D:\\\\viral_results\\\\s1_s2\\\\{region}_{mouse_line}_avg')\n",
    "\n",
    "print(f'Done saving {region}_{mouse_line} data')"
   ]
  },
  {
   "cell_type": "markdown",
   "metadata": {
    "jp-MarkdownHeadingCollapsed": true,
    "tags": []
   },
   "source": [
    "#### s1 scn sample"
   ]
  },
  {
   "cell_type": "code",
   "execution_count": 14,
   "metadata": {
    "tags": []
   },
   "outputs": [
    {
     "name": "stdout",
     "output_type": "stream",
     "text": [
      "loading AL290.npy\n",
      "loading AL291.npy\n",
      "loading AL292.npy\n",
      "loading AL293.npy\n",
      "Starting to saving tif files..\n"
     ]
    },
    {
     "name": "stderr",
     "output_type": "stream",
     "text": [
      "C:\\Users\\liu\\AppData\\Local\\Temp\\ipykernel_17252\\828751201.py:7: UserWarning: D:\\viral_results\\s1_s2\\s1_scn_avg_axons.tif is a low contrast image\n",
      "  io.imsave(outname+'_axons.tif',numpystack)\n"
     ]
    },
    {
     "name": "stdout",
     "output_type": "stream",
     "text": [
      "Done saving s1_scn data\n"
     ]
    },
    {
     "name": "stderr",
     "output_type": "stream",
     "text": [
      "C:\\Users\\liu\\AppData\\Local\\Temp\\ipykernel_17252\\828751201.py:12: UserWarning: D:\\viral_results\\s1_s2\\s1_scn_avg_sum_0.tif is a low contrast image\n",
      "  io.imsave(outname+ '_sum_0.tif',sum_0)\n",
      "C:\\Users\\liu\\AppData\\Local\\Temp\\ipykernel_17252\\828751201.py:13: UserWarning: D:\\viral_results\\s1_s2\\s1_scn_avg_sum_1.tif is a low contrast image\n",
      "  io.imsave(outname+ '_sum_1.tif',sum_1)\n",
      "C:\\Users\\liu\\AppData\\Local\\Temp\\ipykernel_17252\\828751201.py:14: UserWarning: D:\\viral_results\\s1_s2\\s1_scn_avg_sum_2.tif is a low contrast image\n",
      "  io.imsave(outname+ '_sum_2.tif',sum_2)\n"
     ]
    }
   ],
   "source": [
    "region='s1'\n",
    "mouse_line= 'scn'\n",
    "\n",
    "name_list= ['AL290','AL291','AL292','AL293']\n",
    "\n",
    "emptyarray= np.zeros((320, 528, 456, len(name_list)))\n",
    "\n",
    "for count, i in enumerate (name_list):\n",
    "    print (f'loading {i}.npy')\n",
    "    axon= np.load (f'D:\\\\viral_results\\\\{region}\\\\{i}.npy')\n",
    "    emptyarray[:,:,:,count]=axon\n",
    "    \n",
    "emptyarray_avg= np.average(emptyarray, axis=3)\n",
    "emptyarray_avg.shape\n",
    "\n",
    "emptyarray_avg[0,1,0]=len(name_list)\n",
    "# store the number of samples used to calculate this average at the [0,1,0] location\n",
    "# so that the value at [0,0,0] multiply by value at [0,1,0] equals the total number of axons for all samples in this group\n",
    "\n",
    "np.save(f'D:\\\\viral_results\\\\s1_s2\\\\{region}_{mouse_line}_avg.npy', emptyarray_avg)\n",
    "# save this averaged array\n",
    "\n",
    "emptyarray_avg[0,0,0]=0\n",
    "emptyarray_avg[0,1,0]=0\n",
    "\n",
    "save_tiff(emptyarray_avg, f'D:\\\\viral_results\\\\s1_s2\\\\{region}_{mouse_line}_avg')\n",
    "\n",
    "print(f'Done saving {region}_{mouse_line} data')"
   ]
  },
  {
   "cell_type": "markdown",
   "metadata": {
    "jp-MarkdownHeadingCollapsed": true,
    "tags": []
   },
   "source": [
    "#### s2 scn sample"
   ]
  },
  {
   "cell_type": "code",
   "execution_count": 16,
   "metadata": {},
   "outputs": [
    {
     "name": "stdout",
     "output_type": "stream",
     "text": [
      "loading AL290.npy\n",
      "loading AL292.npy\n",
      "loading AL323.npy\n",
      "Starting to saving tif files..\n"
     ]
    },
    {
     "name": "stderr",
     "output_type": "stream",
     "text": [
      "C:\\Users\\liu\\AppData\\Local\\Temp\\ipykernel_17252\\828751201.py:7: UserWarning: D:\\viral_results\\s1_s2\\s2_scn_avg_axons.tif is a low contrast image\n",
      "  io.imsave(outname+'_axons.tif',numpystack)\n"
     ]
    },
    {
     "name": "stdout",
     "output_type": "stream",
     "text": [
      "Done saving s2_scn data\n"
     ]
    },
    {
     "name": "stderr",
     "output_type": "stream",
     "text": [
      "C:\\Users\\liu\\AppData\\Local\\Temp\\ipykernel_17252\\828751201.py:12: UserWarning: D:\\viral_results\\s1_s2\\s2_scn_avg_sum_0.tif is a low contrast image\n",
      "  io.imsave(outname+ '_sum_0.tif',sum_0)\n",
      "C:\\Users\\liu\\AppData\\Local\\Temp\\ipykernel_17252\\828751201.py:13: UserWarning: D:\\viral_results\\s1_s2\\s2_scn_avg_sum_1.tif is a low contrast image\n",
      "  io.imsave(outname+ '_sum_1.tif',sum_1)\n",
      "C:\\Users\\liu\\AppData\\Local\\Temp\\ipykernel_17252\\828751201.py:14: UserWarning: D:\\viral_results\\s1_s2\\s2_scn_avg_sum_2.tif is a low contrast image\n",
      "  io.imsave(outname+ '_sum_2.tif',sum_2)\n"
     ]
    }
   ],
   "source": [
    "region='s2'\n",
    "mouse_line= 'scn'\n",
    "\n",
    "name_list= ['AL290','AL292','AL323']\n",
    "\n",
    "emptyarray= np.zeros((320, 528, 456, len(name_list)))\n",
    "\n",
    "for count, i in enumerate (name_list):\n",
    "    print (f'loading {i}.npy')\n",
    "    axon= np.load (f'D:\\\\viral_results\\\\{region}\\\\{i}.npy')\n",
    "    emptyarray[:,:,:,count]=axon\n",
    "    \n",
    "emptyarray_avg= np.average(emptyarray, axis=3)\n",
    "emptyarray_avg.shape\n",
    "\n",
    "emptyarray_avg[0,1,0]=len(name_list)\n",
    "# store the number of samples used to calculate this average at the [0,1,0] location\n",
    "# so that the value at [0,0,0] multiply by value at [0,1,0] equals the total number of axons for all samples in this group\n",
    "\n",
    "np.save(f'D:\\\\viral_results\\\\s1_s2\\\\{region}_{mouse_line}_avg.npy', emptyarray_avg)\n",
    "# save this averaged array\n",
    "\n",
    "emptyarray_avg[0,0,0]=0\n",
    "emptyarray_avg[0,1,0]=0\n",
    "\n",
    "save_tiff(emptyarray_avg, f'D:\\\\viral_results\\\\s1_s2\\\\{region}_{mouse_line}_avg')\n",
    "\n",
    "print(f'Done saving {region}_{mouse_line} data')"
   ]
  },
  {
   "cell_type": "markdown",
   "metadata": {
    "jp-MarkdownHeadingCollapsed": true,
    "tags": []
   },
   "source": [
    "#### s1 ntsr samples"
   ]
  },
  {
   "cell_type": "code",
   "execution_count": 17,
   "metadata": {},
   "outputs": [
    {
     "name": "stdout",
     "output_type": "stream",
     "text": [
      "loading AL274.npy\n",
      "loading AL285.npy\n",
      "loading AL311.npy\n",
      "Starting to saving tif files..\n"
     ]
    },
    {
     "name": "stderr",
     "output_type": "stream",
     "text": [
      "C:\\Users\\liu\\AppData\\Local\\Temp\\ipykernel_17252\\828751201.py:7: UserWarning: D:\\viral_results\\s1_s2\\s1_ntsr_avg_axons.tif is a low contrast image\n",
      "  io.imsave(outname+'_axons.tif',numpystack)\n"
     ]
    },
    {
     "name": "stdout",
     "output_type": "stream",
     "text": [
      "Done saving s1_ntsr data\n"
     ]
    },
    {
     "name": "stderr",
     "output_type": "stream",
     "text": [
      "C:\\Users\\liu\\AppData\\Local\\Temp\\ipykernel_17252\\828751201.py:12: UserWarning: D:\\viral_results\\s1_s2\\s1_ntsr_avg_sum_0.tif is a low contrast image\n",
      "  io.imsave(outname+ '_sum_0.tif',sum_0)\n",
      "C:\\Users\\liu\\AppData\\Local\\Temp\\ipykernel_17252\\828751201.py:13: UserWarning: D:\\viral_results\\s1_s2\\s1_ntsr_avg_sum_1.tif is a low contrast image\n",
      "  io.imsave(outname+ '_sum_1.tif',sum_1)\n",
      "C:\\Users\\liu\\AppData\\Local\\Temp\\ipykernel_17252\\828751201.py:14: UserWarning: D:\\viral_results\\s1_s2\\s1_ntsr_avg_sum_2.tif is a low contrast image\n",
      "  io.imsave(outname+ '_sum_2.tif',sum_2)\n"
     ]
    }
   ],
   "source": [
    "region='s1'\n",
    "mouse_line= 'ntsr'\n",
    "\n",
    "name_list= ['AL274','AL285','AL311']\n",
    "\n",
    "emptyarray= np.zeros((320, 528, 456, len(name_list)))\n",
    "\n",
    "for count, i in enumerate (name_list):\n",
    "    print (f'loading {i}.npy')\n",
    "    axon= np.load (f'D:\\\\viral_results\\\\{region}\\\\{i}.npy')\n",
    "    emptyarray[:,:,:,count]=axon\n",
    "    \n",
    "emptyarray_avg= np.average(emptyarray, axis=3)\n",
    "emptyarray_avg.shape\n",
    "\n",
    "emptyarray_avg[0,1,0]=len(name_list)\n",
    "# store the number of samples used to calculate this average at the [0,1,0] location\n",
    "# so that the value at [0,0,0] multiply by value at [0,1,0] equals the total number of axons for all samples in this group\n",
    "\n",
    "np.save(f'D:\\\\viral_results\\\\s1_s2\\\\{region}_{mouse_line}_avg.npy', emptyarray_avg)\n",
    "# save this averaged array\n",
    "\n",
    "emptyarray_avg[0,0,0]=0\n",
    "emptyarray_avg[0,1,0]=0\n",
    "\n",
    "save_tiff(emptyarray_avg, f'D:\\\\viral_results\\\\s1_s2\\\\{region}_{mouse_line}_avg')\n",
    "\n",
    "print(f'Done saving {region}_{mouse_line} data')"
   ]
  },
  {
   "cell_type": "markdown",
   "metadata": {
    "jp-MarkdownHeadingCollapsed": true,
    "tags": []
   },
   "source": [
    "#### s2 ntsr samples"
   ]
  },
  {
   "cell_type": "code",
   "execution_count": 3,
   "metadata": {},
   "outputs": [
    {
     "name": "stdout",
     "output_type": "stream",
     "text": [
      "loading AL274.npy\n",
      "loading AL310.npy\n",
      "loading AL330.npy\n",
      "Starting to saving tif files..\n"
     ]
    },
    {
     "name": "stderr",
     "output_type": "stream",
     "text": [
      "C:\\Users\\liu\\AppData\\Local\\Temp\\ipykernel_6316\\828751201.py:7: UserWarning: D:\\viral_results\\s1_s2\\s2_ntsr_avg_axons.tif is a low contrast image\n",
      "  io.imsave(outname+'_axons.tif',numpystack)\n"
     ]
    },
    {
     "name": "stdout",
     "output_type": "stream",
     "text": [
      "Done saving s2_ntsr data\n"
     ]
    },
    {
     "name": "stderr",
     "output_type": "stream",
     "text": [
      "C:\\Users\\liu\\AppData\\Local\\Temp\\ipykernel_6316\\828751201.py:12: UserWarning: D:\\viral_results\\s1_s2\\s2_ntsr_avg_sum_0.tif is a low contrast image\n",
      "  io.imsave(outname+ '_sum_0.tif',sum_0)\n",
      "C:\\Users\\liu\\AppData\\Local\\Temp\\ipykernel_6316\\828751201.py:13: UserWarning: D:\\viral_results\\s1_s2\\s2_ntsr_avg_sum_1.tif is a low contrast image\n",
      "  io.imsave(outname+ '_sum_1.tif',sum_1)\n",
      "C:\\Users\\liu\\AppData\\Local\\Temp\\ipykernel_6316\\828751201.py:14: UserWarning: D:\\viral_results\\s1_s2\\s2_ntsr_avg_sum_2.tif is a low contrast image\n",
      "  io.imsave(outname+ '_sum_2.tif',sum_2)\n"
     ]
    }
   ],
   "source": [
    "region='s2'\n",
    "mouse_line= 'ntsr'\n",
    "\n",
    "name_list= ['AL274','AL310','AL330']\n",
    "\n",
    "emptyarray= np.zeros((320, 528, 456, len(name_list)))\n",
    "\n",
    "for count, i in enumerate (name_list):\n",
    "    print (f'loading {i}.npy')\n",
    "    axon= np.load (f'D:\\\\viral_results\\\\{region}\\\\{i}.npy')\n",
    "    emptyarray[:,:,:,count]=axon\n",
    "    \n",
    "emptyarray_avg= np.average(emptyarray, axis=3)\n",
    "emptyarray_avg.shape\n",
    "\n",
    "emptyarray_avg[0,1,0]=len(name_list)\n",
    "# store the number of samples used to calculate this average at the [0,1,0] location\n",
    "# so that the value at [0,0,0] multiply by value at [0,1,0] equals the total number of axons for all samples in this group\n",
    "\n",
    "np.save(f'D:\\\\viral_results\\\\s1_s2\\\\{region}_{mouse_line}_avg.npy', emptyarray_avg)\n",
    "# save this averaged array\n",
    "\n",
    "emptyarray_avg[0,0,0]=0\n",
    "emptyarray_avg[0,1,0]=0\n",
    "\n",
    "save_tiff(emptyarray_avg, f'D:\\\\viral_results\\\\s1_s2\\\\{region}_{mouse_line}_avg')\n",
    "\n",
    "print(f'Done saving {region}_{mouse_line} data')"
   ]
  },
  {
   "cell_type": "markdown",
   "metadata": {
    "tags": []
   },
   "source": [
    "### section holder"
   ]
  },
  {
   "cell_type": "code",
   "execution_count": null,
   "metadata": {},
   "outputs": [],
   "source": []
  }
 ],
 "metadata": {
  "kernelspec": {
   "display_name": "region_specific",
   "language": "python",
   "name": "region_specific"
  },
  "language_info": {
   "codemirror_mode": {
    "name": "ipython",
    "version": 3
   },
   "file_extension": ".py",
   "mimetype": "text/x-python",
   "name": "python",
   "nbconvert_exporter": "python",
   "pygments_lexer": "ipython3",
   "version": "3.8.16"
  }
 },
 "nbformat": 4,
 "nbformat_minor": 4
}
