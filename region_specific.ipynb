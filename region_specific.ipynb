{
 "cells": [
  {
   "cell_type": "markdown",
   "metadata": {
    "tags": []
   },
   "source": [
    "### for region specific visualzations \n",
    "Environment: region_specfic\n",
    "find all ids belonging to a parent (ie. 315, for isocortex), create mask and visualize using napari\n",
    "\n",
    "generate average image and multiply with the mask!\n"
   ]
  },
  {
   "cell_type": "code",
   "execution_count": 41,
   "metadata": {},
   "outputs": [],
   "source": [
    "import os\n",
    "\n",
    "import pandas as pd\n",
    "\n",
    "import numpy as np\n",
    "\n",
    "import Neuron_analysis as na\n",
    "\n",
    "import skimage\n",
    "from skimage import io\n",
    "\n",
    "import SimpleITK as sitk\n",
    "\n",
    "import re\n",
    "from tqdm import tqdm\n",
    "\n",
    "import napari\n",
    "\n",
    "import nrrd"
   ]
  },
  {
   "cell_type": "code",
   "execution_count": 44,
   "metadata": {
    "tags": []
   },
   "outputs": [],
   "source": [
    "def isolate_region(this_region):\n",
    "    \n",
    "    '''''' \n",
    "    \n",
    "    child_ids= atlas_labels.loc[atlas_labels['structure_id_path'].str.contains(f'/{this_region}/', case=False)].id\n",
    "    # child_ids\n",
    "\n",
    "    # find all regions with regionX inside the structure id path\n",
    "    # for example 315 - isocortex, 985- primary motor region\n",
    "    \n",
    "    this_mask= np.zeros(annot_h.shape)\n",
    "    # create empty array to store the mask\n",
    "    for i in tqdm(child_ids.values):\n",
    "        this_mask[annot_h==i]=1\n",
    "        #loop through all the region id and assign value of 1\n",
    "    # empty_array now is a matrix of 1 and 0s\n",
    "    \n",
    "    return this_mask\n",
    "\n",
    "def isolate_region_2(regions_list):\n",
    "    \n",
    "    '''useful for isolating one layer of multiple region, ie MOs 2/3 and MOp 2/3''' \n",
    "    \n",
    "    #child_ids= atlas_labels.loc[atlas_labels['structure_id_path'].str.contains('|'.join(regions_list), case=False)].id\n",
    "    # child_ids\n",
    "\n",
    "    # find all regions with regionX inside the structure id path\n",
    "    # for example 315 - isocortex, 985- primary motor region\n",
    "    \n",
    "    this_mask= np.zeros(annot_h.shape)\n",
    "    # create empty array to store the mask\n",
    "    for i in tqdm(regions_list):\n",
    "        this_mask[annot_h==i]=1\n",
    "        #loop through all the region id and assign value of 1\n",
    "    # empty_array now is a matrix of 1 and 0s\n",
    "    \n",
    "    return this_mask\n",
    "\n",
    "def save_tiff(numpystack, outname):\n",
    "    \n",
    "    '''save numpy stack as tiff stack and also save sum projections in horizontal, coronal, and saggital views'''\n",
    "    \n",
    "    print('Starting to saving tif files..')\n",
    "    \n",
    "    #io.imsave(outname+'_axons.tif',numpystack)\n",
    "    \n",
    "    sum_0=np.sum(numpystack, axis=0)\n",
    "    sum_1=np.sum(numpystack, axis=1)\n",
    "    sum_2=np.sum(numpystack, axis=2)\n",
    "    io.imsave(outname+ '_sum_0.tif',sum_0)\n",
    "    #io.imsave(outname+ '_sum_1.tif',sum_1)\n",
    "    #io.imsave(outname+ '_sum_2.tif',sum_2)\n",
    "\n",
    "def save_tiff_mask(numpystack, outname):\n",
    "\n",
    "    ''' most useful for saving max projection for region masks, to be used as outlines in illustrators\n",
    "    save numpy stack as png max projections in horizontal, coronal, and saggital views '''\n",
    "\n",
    "    print('Starting to saving tif files..')\n",
    "\n",
    "    #io.imsave(outname+'_axons.tif',numpystack)\n",
    "\n",
    "    sum_0=np.max(numpystack, axis=0)\n",
    "    #sum_1=np.sum(numpystack, axis=1)\n",
    "    #sum_2=np.sum(numpystack, axis=2)\n",
    "    \n",
    "    io.imsave(outname+ '_max_0.tif',sum_0)\n",
    "    #io.imsave(outname+ '_max_1.tif',sum_1)\n",
    "    #io.imsave(outname+ '_max_2.tif',sum_2)"
   ]
  },
  {
   "cell_type": "code",
   "execution_count": 3,
   "metadata": {},
   "outputs": [
    {
     "name": "stdout",
     "output_type": "stream",
     "text": [
      "Converted to horizontal atlas with shape (320, 528, 456)\n"
     ]
    }
   ],
   "source": [
    "file_name = r'C:/Users/liu/mouse_connectivity/annotation/ccf_2017/annotation_25.nrrd'\n",
    "data_array, metadata = nrrd.read(file_name)\n",
    "\n",
    "annot_h=np.moveaxis(data_array, 1, 0)\n",
    "print('Converted to horizontal atlas with shape', annot_h.shape)\n",
    "# reslice corontal atlas to horizontal atlas that is consistent with our sample's orientation\n",
    "\n",
    "atlas_labels=pd.read_csv('D:\\Allenbrainatlas\\ARA_25_micron_mhd_ccf2017\\labels.csv')\n",
    "#read labels"
   ]
  },
  {
   "cell_type": "code",
   "execution_count": 8,
   "metadata": {
    "tags": []
   },
   "outputs": [],
   "source": [
    "#viewer = napari.Viewer()\n",
    "\n",
    "#viewer.add_image(template, name='template')\n",
    "#viewer.add_labels(annot_h, name='atlas')\n"
   ]
  },
  {
   "cell_type": "code",
   "execution_count": 4,
   "metadata": {},
   "outputs": [],
   "source": [
    "#axons1= sitk.ReadImage(r'D:\\viral_results\\s2\\AL278_axons.tif')\n",
    "#axons1=sitk.GetArrayFromImage(axons2) \n",
    "# issue with image with 64 bit samples, since the normalized images have values like 10e-5\n",
    "# hence we work with npy files directly\n",
    "\n",
    "region='s1'\n",
    "mouseline='ras'\n",
    "\n",
    "file_path= f'D:\\\\viral_results\\\\s1_s2\\\\averages\\\\{region}_{mouseline}_avg.npy'\n",
    "\n",
    "axons=np.load(file_path)\n",
    "axons[0,0,0]=0\n",
    "axons[0,1,0]=0\n",
    "# dont forget to change the [0,0,0] position from the total number of axons back to 0!\n",
    "#viewer.add_image(axons)\n"
   ]
  },
  {
   "cell_type": "markdown",
   "metadata": {},
   "source": [
    "Stuff to try\n",
    "\n",
    "isocortec 315\n",
    "\n",
    "MOp1, MOs1 [320,656]\n",
    "\n",
    "MOp 2/3 943,  MOs 2/3 962. [943,962]\n",
    "\n",
    "MOp5, MOs 5. [648,767]\n",
    "\n",
    "MOp6a, MOs 6a [844,1021]\n",
    "\n",
    "MOp6b, MOs 6b [882,1085]\n",
    "\n",
    "\n",
    "region_dict= {\n",
    "    '1':[320,656],\n",
    "    '23':[943,962],\n",
    "    '5':[648,767],\n",
    "    '6a':[844,1021],\n",
    "    '6b':[882,1085]\n",
    "}"
   ]
  },
  {
   "cell_type": "code",
   "execution_count": 6,
   "metadata": {},
   "outputs": [
    {
     "name": "stderr",
     "output_type": "stream",
     "text": [
      "100%|████████████████████████████████████████████████████████████████████████████████| 374/374 [00:48<00:00,  7.69it/s]\n"
     ]
    },
    {
     "name": "stdout",
     "output_type": "stream",
     "text": [
      "Starting to saving tif files..\n"
     ]
    },
    {
     "name": "stderr",
     "output_type": "stream",
     "text": [
      "C:\\Users\\liu\\AppData\\Local\\Temp\\ipykernel_4124\\2350469427.py:34: UserWarning: D:\\viral_results\\s1_s2\\region\\315_s2_ras_avg_sum_0.tif is a low contrast image\n",
      "  io.imsave(outname+ '_sum_0.tif',sum_0)\n",
      "C:\\Users\\liu\\AppData\\Local\\Temp\\ipykernel_4124\\2350469427.py:35: UserWarning: D:\\viral_results\\s1_s2\\region\\315_s2_ras_avg_sum_1.tif is a low contrast image\n",
      "  io.imsave(outname+ '_sum_1.tif',sum_1)\n",
      "C:\\Users\\liu\\AppData\\Local\\Temp\\ipykernel_4124\\2350469427.py:36: UserWarning: D:\\viral_results\\s1_s2\\region\\315_s2_ras_avg_sum_2.tif is a low contrast image\n",
      "  io.imsave(outname+ '_sum_2.tif',sum_2)\n"
     ]
    }
   ],
   "source": [
    "region_id= ['315']\n",
    "# can be a list such as region_id= ['943', '962'] , but will have two separate files\n",
    "# or can be one big region ie. 315 the isocortex wich have multiple child - use isolate_region\n",
    "\n",
    "for i in region_id: \n",
    "    \n",
    "    #region_mask= isolate_region(i)\n",
    "    axons_masked= axons*region_mask\n",
    "    \n",
    "    out_name= f'D:\\\\viral_results\\\\s1_s2\\\\region\\\\{i}_{region}_{mouseline}_avg'\n",
    "    \n",
    "    save_tiff(axons_masked,out_name)"
   ]
  },
  {
   "cell_type": "code",
   "execution_count": 5,
   "metadata": {},
   "outputs": [],
   "source": [
    "# loop sections\n",
    "regions=['s1', 's2']\n",
    "mouse_lines=['ras','scn','tlx','sim1','rbp','ntsr']"
   ]
  },
  {
   "cell_type": "code",
   "execution_count": 22,
   "metadata": {},
   "outputs": [],
   "source": [
    "region_dict= {\n",
    "    '1':[320,656],\n",
    "    '23':[943,962],\n",
    "    '5':[648,767],\n",
    "    '6a':[844,1021],\n",
    "    '6b':[882,1085]\n",
    "}"
   ]
  },
  {
   "cell_type": "code",
   "execution_count": 21,
   "metadata": {},
   "outputs": [
    {
     "name": "stderr",
     "output_type": "stream",
     "text": [
      "100%|████████████████████████████████████████████████████████████████████████████████████| 2/2 [00:00<00:00,  4.95it/s]\n"
     ]
    },
    {
     "name": "stdout",
     "output_type": "stream",
     "text": [
      "Starting to saving tif files..\n"
     ]
    },
    {
     "name": "stderr",
     "output_type": "stream",
     "text": [
      "C:\\Users\\liu\\AppData\\Local\\Temp\\ipykernel_15532\\280341463.py:50: UserWarning: D:\\viral_results\\s1_s2\\region\\MO\\1_s1_ras_avg_sum_0.tif is a low contrast image\n",
      "  io.imsave(outname+ '_sum_0.tif',sum_0)\n"
     ]
    },
    {
     "name": "stdout",
     "output_type": "stream",
     "text": [
      "Starting to saving tif files..\n"
     ]
    },
    {
     "name": "stderr",
     "output_type": "stream",
     "text": [
      "C:\\Users\\liu\\AppData\\Local\\Temp\\ipykernel_15532\\280341463.py:50: UserWarning: D:\\viral_results\\s1_s2\\region\\MO\\1_s1_scn_avg_sum_0.tif is a low contrast image\n",
      "  io.imsave(outname+ '_sum_0.tif',sum_0)\n"
     ]
    },
    {
     "name": "stdout",
     "output_type": "stream",
     "text": [
      "Starting to saving tif files..\n"
     ]
    },
    {
     "name": "stderr",
     "output_type": "stream",
     "text": [
      "C:\\Users\\liu\\AppData\\Local\\Temp\\ipykernel_15532\\280341463.py:50: UserWarning: D:\\viral_results\\s1_s2\\region\\MO\\1_s1_tlx_avg_sum_0.tif is a low contrast image\n",
      "  io.imsave(outname+ '_sum_0.tif',sum_0)\n"
     ]
    },
    {
     "name": "stdout",
     "output_type": "stream",
     "text": [
      "Starting to saving tif files..\n"
     ]
    },
    {
     "name": "stderr",
     "output_type": "stream",
     "text": [
      "C:\\Users\\liu\\AppData\\Local\\Temp\\ipykernel_15532\\280341463.py:50: UserWarning: D:\\viral_results\\s1_s2\\region\\MO\\1_s1_sim1_avg_sum_0.tif is a low contrast image\n",
      "  io.imsave(outname+ '_sum_0.tif',sum_0)\n"
     ]
    },
    {
     "name": "stdout",
     "output_type": "stream",
     "text": [
      "Starting to saving tif files..\n"
     ]
    },
    {
     "name": "stderr",
     "output_type": "stream",
     "text": [
      "C:\\Users\\liu\\AppData\\Local\\Temp\\ipykernel_15532\\280341463.py:50: UserWarning: D:\\viral_results\\s1_s2\\region\\MO\\1_s1_rbp_avg_sum_0.tif is a low contrast image\n",
      "  io.imsave(outname+ '_sum_0.tif',sum_0)\n"
     ]
    },
    {
     "name": "stdout",
     "output_type": "stream",
     "text": [
      "Starting to saving tif files..\n"
     ]
    },
    {
     "name": "stderr",
     "output_type": "stream",
     "text": [
      "C:\\Users\\liu\\AppData\\Local\\Temp\\ipykernel_15532\\280341463.py:50: UserWarning: D:\\viral_results\\s1_s2\\region\\MO\\1_s1_ntsr_avg_sum_0.tif is a low contrast image\n",
      "  io.imsave(outname+ '_sum_0.tif',sum_0)\n"
     ]
    },
    {
     "name": "stdout",
     "output_type": "stream",
     "text": [
      "Starting to saving tif files..\n"
     ]
    },
    {
     "name": "stderr",
     "output_type": "stream",
     "text": [
      "C:\\Users\\liu\\AppData\\Local\\Temp\\ipykernel_15532\\280341463.py:50: UserWarning: D:\\viral_results\\s1_s2\\region\\MO\\1_s2_ras_avg_sum_0.tif is a low contrast image\n",
      "  io.imsave(outname+ '_sum_0.tif',sum_0)\n"
     ]
    },
    {
     "name": "stdout",
     "output_type": "stream",
     "text": [
      "Starting to saving tif files..\n"
     ]
    },
    {
     "name": "stderr",
     "output_type": "stream",
     "text": [
      "C:\\Users\\liu\\AppData\\Local\\Temp\\ipykernel_15532\\280341463.py:50: UserWarning: D:\\viral_results\\s1_s2\\region\\MO\\1_s2_scn_avg_sum_0.tif is a low contrast image\n",
      "  io.imsave(outname+ '_sum_0.tif',sum_0)\n"
     ]
    },
    {
     "name": "stdout",
     "output_type": "stream",
     "text": [
      "Starting to saving tif files..\n"
     ]
    },
    {
     "name": "stderr",
     "output_type": "stream",
     "text": [
      "C:\\Users\\liu\\AppData\\Local\\Temp\\ipykernel_15532\\280341463.py:50: UserWarning: D:\\viral_results\\s1_s2\\region\\MO\\1_s2_tlx_avg_sum_0.tif is a low contrast image\n",
      "  io.imsave(outname+ '_sum_0.tif',sum_0)\n"
     ]
    },
    {
     "name": "stdout",
     "output_type": "stream",
     "text": [
      "Starting to saving tif files..\n"
     ]
    },
    {
     "name": "stderr",
     "output_type": "stream",
     "text": [
      "C:\\Users\\liu\\AppData\\Local\\Temp\\ipykernel_15532\\280341463.py:50: UserWarning: D:\\viral_results\\s1_s2\\region\\MO\\1_s2_sim1_avg_sum_0.tif is a low contrast image\n",
      "  io.imsave(outname+ '_sum_0.tif',sum_0)\n"
     ]
    },
    {
     "name": "stdout",
     "output_type": "stream",
     "text": [
      "Starting to saving tif files..\n"
     ]
    },
    {
     "name": "stderr",
     "output_type": "stream",
     "text": [
      "C:\\Users\\liu\\AppData\\Local\\Temp\\ipykernel_15532\\280341463.py:50: UserWarning: D:\\viral_results\\s1_s2\\region\\MO\\1_s2_rbp_avg_sum_0.tif is a low contrast image\n",
      "  io.imsave(outname+ '_sum_0.tif',sum_0)\n"
     ]
    },
    {
     "name": "stdout",
     "output_type": "stream",
     "text": [
      "Starting to saving tif files..\n"
     ]
    },
    {
     "name": "stderr",
     "output_type": "stream",
     "text": [
      "C:\\Users\\liu\\AppData\\Local\\Temp\\ipykernel_15532\\280341463.py:50: UserWarning: D:\\viral_results\\s1_s2\\region\\MO\\1_s2_ntsr_avg_sum_0.tif is a low contrast image\n",
      "  io.imsave(outname+ '_sum_0.tif',sum_0)\n"
     ]
    }
   ],
   "source": [
    "region_id= [320,656]\n",
    "layer= '1'\n",
    "\n",
    "# cannot be string to use isolate region2\n",
    "region_mask= isolate_region_2(region_id)\n",
    "# generate mask outside of the loop since it will be the same!\n",
    "\n",
    "#region_id= ['315']\n",
    "#region_mask= isolate_region(region_id)\n",
    "# generate mask outside of the loop since it will be the same!\n",
    "\n",
    "for i in regions:\n",
    "    for j in mouse_lines:\n",
    "        file_path= f'D:\\\\viral_results\\\\s1_s2\\\\averages\\\\{i}_{j}_avg.npy'\n",
    "\n",
    "        axons=np.load(file_path)\n",
    "        axons[0,0,0]=0\n",
    "        axons[0,1,0]=0\n",
    "        \n",
    "        axons_masked= axons*region_mask\n",
    "        \n",
    "        out_name= f'D:\\\\viral_results\\\\s1_s2\\\\region\\\\MO\\\\{layer}_{i}_{j}_avg'\n",
    "        save_tiff(axons_masked,out_name)\n"
   ]
  },
  {
   "cell_type": "code",
   "execution_count": 4,
   "metadata": {},
   "outputs": [],
   "source": [
    "### plot region mask itself for outlines"
   ]
  },
  {
   "cell_type": "code",
   "execution_count": 45,
   "metadata": {},
   "outputs": [],
   "source": [
    "region_dict= {\n",
    "    '1':[320,656],\n",
    "    '23':[943,962],\n",
    "    '5':[648,767],\n",
    "    '6a':[844,1021],\n",
    "    '6b':[882,1085]\n",
    "}"
   ]
  },
  {
   "cell_type": "code",
   "execution_count": 46,
   "metadata": {
    "tags": []
   },
   "outputs": [
    {
     "name": "stderr",
     "output_type": "stream",
     "text": [
      "100%|████████████████████████████████████████████████████████████████████████████████████| 2/2 [00:00<00:00,  5.17it/s]\n"
     ]
    },
    {
     "name": "stdout",
     "output_type": "stream",
     "text": [
      "Starting to saving tif files..\n"
     ]
    },
    {
     "name": "stderr",
     "output_type": "stream",
     "text": [
      "100%|████████████████████████████████████████████████████████████████████████████████████| 2/2 [00:00<00:00,  5.10it/s]\n"
     ]
    },
    {
     "name": "stdout",
     "output_type": "stream",
     "text": [
      "Starting to saving tif files..\n"
     ]
    },
    {
     "name": "stderr",
     "output_type": "stream",
     "text": [
      "100%|████████████████████████████████████████████████████████████████████████████████████| 2/2 [00:00<00:00,  5.42it/s]\n"
     ]
    },
    {
     "name": "stdout",
     "output_type": "stream",
     "text": [
      "Starting to saving tif files..\n"
     ]
    },
    {
     "name": "stderr",
     "output_type": "stream",
     "text": [
      "100%|████████████████████████████████████████████████████████████████████████████████████| 2/2 [00:00<00:00,  5.17it/s]\n"
     ]
    },
    {
     "name": "stdout",
     "output_type": "stream",
     "text": [
      "Starting to saving tif files..\n"
     ]
    },
    {
     "name": "stderr",
     "output_type": "stream",
     "text": [
      "100%|████████████████████████████████████████████████████████████████████████████████████| 2/2 [00:00<00:00,  5.40it/s]\n"
     ]
    },
    {
     "name": "stdout",
     "output_type": "stream",
     "text": [
      "Starting to saving tif files..\n"
     ]
    }
   ],
   "source": [
    "for key,value in region_dict.items(): \n",
    "\n",
    "    region_mask= isolate_region_2(value)\n",
    "    # generate mask outside of the loop since it will be the same!\n",
    "\n",
    "    out_name= f'D:\\\\viral_results\\\\s1_s2\\\\region\\\\MO\\\\{key}_mask'\n",
    "    save_tiff_mask(region_mask,out_name)"
   ]
  },
  {
   "cell_type": "code",
   "execution_count": null,
   "metadata": {},
   "outputs": [],
   "source": []
  },
  {
   "cell_type": "markdown",
   "metadata": {
    "tags": []
   },
   "source": [
    "### section to create averaged image for a given injection site for a given mouse line\n",
    "\n",
    "6 mouselines *2 injection sites =12 total"
   ]
  },
  {
   "cell_type": "code",
   "execution_count": 2,
   "metadata": {},
   "outputs": [],
   "source": [
    "def save_tiff(numpystack, outname):\n",
    "    \n",
    "    '''save numpy stack as tiff'''\n",
    "    \n",
    "    print('Starting to saving tif files..')\n",
    "    \n",
    "    io.imsave(outname+'_axons.tif',numpystack)\n",
    "    \n",
    "    sum_0=np.sum(numpystack, axis=0)\n",
    "    sum_1=np.sum(numpystack, axis=1)\n",
    "    sum_2=np.sum(numpystack, axis=2)\n",
    "    io.imsave(outname+ '_sum_0.tif',sum_0)\n",
    "    io.imsave(outname+ '_sum_1.tif',sum_1)\n",
    "    io.imsave(outname+ '_sum_2.tif',sum_2)"
   ]
  },
  {
   "cell_type": "markdown",
   "metadata": {
    "jp-MarkdownHeadingCollapsed": true,
    "tags": []
   },
   "source": [
    "#### s1 sim1 samples"
   ]
  },
  {
   "cell_type": "code",
   "execution_count": 29,
   "metadata": {},
   "outputs": [],
   "source": [
    "# s1 sim1 samples\n",
    "\n",
    "name_list= ['AL207','AL209','AL273']\n",
    "\n",
    "s1_sim1= np.zeros((320, 528, 456, len(name_list)))\n",
    "# create big empty array to store the axons arrays, with the first 3 dimensions as horizontal allen atlas and last dimension as number of samples in this group"
   ]
  },
  {
   "cell_type": "code",
   "execution_count": 31,
   "metadata": {},
   "outputs": [
    {
     "name": "stdout",
     "output_type": "stream",
     "text": [
      "loading AL207.npy\n",
      "loading AL209.npy\n",
      "loading AL273.npy\n"
     ]
    }
   ],
   "source": [
    "for count, i in enumerate (name_list):\n",
    "    print (f'loading {i}.npy')\n",
    "    axon= np.load (f'D:\\\\viral_results\\\\s1\\\\{i}.npy')\n",
    "    s1_sim1[:,:,:,count]=axon"
   ]
  },
  {
   "cell_type": "code",
   "execution_count": 44,
   "metadata": {},
   "outputs": [],
   "source": [
    "s1_sim1_avg= np.average(s1_sim1, axis=3)\n",
    "s1_sim1_avg.shape\n",
    "\n",
    "s1_sim1_avg[0,1,0]=len(name_list)\n",
    "# store the number of samples used to calculate this average at the [0,1,0] location\n",
    "# so that the value at [0,0,0] multiply by value at [0,1,0] equals the total number of axons for all samples in this group\n",
    "\n",
    "np.save('D:\\\\viral_results\\\\s1_s2\\\\s1_sim1_avg.npy', s1_sim1_avg)\n",
    "# save this averaged array\n"
   ]
  },
  {
   "cell_type": "code",
   "execution_count": 48,
   "metadata": {},
   "outputs": [
    {
     "name": "stdout",
     "output_type": "stream",
     "text": [
      "Starting to saving tif files..\n"
     ]
    },
    {
     "name": "stderr",
     "output_type": "stream",
     "text": [
      "C:\\Users\\liu\\AppData\\Local\\Temp\\ipykernel_12116\\828751201.py:7: UserWarning: D:\\viral_results\\s1_s2\\s1_sim1_avg_axons.tif is a low contrast image\n",
      "  io.imsave(outname+'_axons.tif',numpystack)\n",
      "C:\\Users\\liu\\AppData\\Local\\Temp\\ipykernel_12116\\828751201.py:12: UserWarning: D:\\viral_results\\s1_s2\\s1_sim1_avg_sum_0.tif is a low contrast image\n",
      "  io.imsave(outname+ '_sum_0.tif',sum_0)\n",
      "C:\\Users\\liu\\AppData\\Local\\Temp\\ipykernel_12116\\828751201.py:13: UserWarning: D:\\viral_results\\s1_s2\\s1_sim1_avg_sum_1.tif is a low contrast image\n",
      "  io.imsave(outname+ '_sum_1.tif',sum_1)\n",
      "C:\\Users\\liu\\AppData\\Local\\Temp\\ipykernel_12116\\828751201.py:14: UserWarning: D:\\viral_results\\s1_s2\\s1_sim1_avg_sum_2.tif is a low contrast image\n",
      "  io.imsave(outname+ '_sum_2.tif',sum_2)\n"
     ]
    }
   ],
   "source": [
    "# verify axons in plotly and then save as tiff stack & sum projections\n",
    "\n",
    "s1_sim1_avg[0,0,0]=0\n",
    "# dont forget to change the [0,0,0] position from the total number of axons back to 0!\n",
    "\n",
    "s1_sim1_avg[0,1,0]=0\n",
    "# dont forget to change the [0,1,0] position from the total number of samples in this group back to 0!\n",
    "\n",
    "viewer.add_image(s1_sim1_avg)\n",
    "\n",
    "save_tiff(s1_sim1_avg, 'D:\\\\viral_results\\\\s1_s2\\\\s1_sim1_avg')"
   ]
  },
  {
   "cell_type": "markdown",
   "metadata": {
    "jp-MarkdownHeadingCollapsed": true,
    "tags": []
   },
   "source": [
    "#### s2 sim1 samples"
   ]
  },
  {
   "cell_type": "code",
   "execution_count": 5,
   "metadata": {
    "tags": []
   },
   "outputs": [
    {
     "name": "stdout",
     "output_type": "stream",
     "text": [
      "loading AL281.npy\n",
      "loading AL286.npy\n",
      "loading AL321.npy\n",
      "loading AL322.npy\n",
      "Starting to saving tif files..\n"
     ]
    },
    {
     "name": "stderr",
     "output_type": "stream",
     "text": [
      "C:\\Users\\liu\\AppData\\Local\\Temp\\ipykernel_17252\\828751201.py:7: UserWarning: D:\\viral_results\\s1_s2\\s2_sim1_avg_axons.tif is a low contrast image\n",
      "  io.imsave(outname+'_axons.tif',numpystack)\n",
      "C:\\Users\\liu\\AppData\\Local\\Temp\\ipykernel_17252\\828751201.py:12: UserWarning: D:\\viral_results\\s1_s2\\s2_sim1_avg_sum_0.tif is a low contrast image\n",
      "  io.imsave(outname+ '_sum_0.tif',sum_0)\n",
      "C:\\Users\\liu\\AppData\\Local\\Temp\\ipykernel_17252\\828751201.py:13: UserWarning: D:\\viral_results\\s1_s2\\s2_sim1_avg_sum_1.tif is a low contrast image\n",
      "  io.imsave(outname+ '_sum_1.tif',sum_1)\n",
      "C:\\Users\\liu\\AppData\\Local\\Temp\\ipykernel_17252\\828751201.py:14: UserWarning: D:\\viral_results\\s1_s2\\s2_sim1_avg_sum_2.tif is a low contrast image\n",
      "  io.imsave(outname+ '_sum_2.tif',sum_2)\n"
     ]
    }
   ],
   "source": [
    "region='s2'\n",
    "mouse_line= 'sim1'\n",
    "\n",
    "name_list= ['AL281','AL286','AL321','AL322']\n",
    "\n",
    "emptyarray= np.zeros((320, 528, 456, len(name_list)))\n",
    "\n",
    "for count, i in enumerate (name_list):\n",
    "    print (f'loading {i}.npy')\n",
    "    axon= np.load (f'D:\\\\viral_results\\\\{region}\\\\{i}.npy')\n",
    "    emptyarray[:,:,:,count]=axon\n",
    "    \n",
    "emptyarray_avg= np.average(emptyarray, axis=3)\n",
    "emptyarray_avg.shape\n",
    "\n",
    "emptyarray_avg[0,1,0]=len(name_list)\n",
    "# store the number of samples used to calculate this average at the [0,1,0] location\n",
    "# so that the value at [0,0,0] multiply by value at [0,1,0] equals the total number of axons for all samples in this group\n",
    "\n",
    "np.save('D:\\\\viral_results\\\\s1_s2\\\\s2_sim1_avg.npy', emptyarray_avg)\n",
    "# save this averaged array\n",
    "\n",
    "emptyarray_avg[0,0,0]=0\n",
    "emptyarray_avg[0,1,0]=0\n",
    "\n",
    "save_tiff(emptyarray_avg, f'D:\\\\viral_results\\\\s1_s2\\\\{region}_{mouse_line}_avg')\n",
    "\n",
    "print(f'Done saving {region}_{mouse_line} data')"
   ]
  },
  {
   "cell_type": "markdown",
   "metadata": {
    "jp-MarkdownHeadingCollapsed": true,
    "tags": []
   },
   "source": [
    "#### s1 rbp samples"
   ]
  },
  {
   "cell_type": "code",
   "execution_count": 7,
   "metadata": {},
   "outputs": [
    {
     "name": "stdout",
     "output_type": "stream",
     "text": [
      "loading AL211.npy\n",
      "loading AL215.npy\n",
      "loading AL318.npy\n",
      "Starting to saving tif files..\n"
     ]
    },
    {
     "name": "stderr",
     "output_type": "stream",
     "text": [
      "C:\\Users\\liu\\AppData\\Local\\Temp\\ipykernel_17252\\828751201.py:7: UserWarning: D:\\viral_results\\s1_s2\\s1_rbp_avg_axons.tif is a low contrast image\n",
      "  io.imsave(outname+'_axons.tif',numpystack)\n"
     ]
    },
    {
     "name": "stdout",
     "output_type": "stream",
     "text": [
      "Done saving s1_rbp data\n"
     ]
    },
    {
     "name": "stderr",
     "output_type": "stream",
     "text": [
      "C:\\Users\\liu\\AppData\\Local\\Temp\\ipykernel_17252\\828751201.py:12: UserWarning: D:\\viral_results\\s1_s2\\s1_rbp_avg_sum_0.tif is a low contrast image\n",
      "  io.imsave(outname+ '_sum_0.tif',sum_0)\n",
      "C:\\Users\\liu\\AppData\\Local\\Temp\\ipykernel_17252\\828751201.py:13: UserWarning: D:\\viral_results\\s1_s2\\s1_rbp_avg_sum_1.tif is a low contrast image\n",
      "  io.imsave(outname+ '_sum_1.tif',sum_1)\n",
      "C:\\Users\\liu\\AppData\\Local\\Temp\\ipykernel_17252\\828751201.py:14: UserWarning: D:\\viral_results\\s1_s2\\s1_rbp_avg_sum_2.tif is a low contrast image\n",
      "  io.imsave(outname+ '_sum_2.tif',sum_2)\n"
     ]
    }
   ],
   "source": [
    "region='s1'\n",
    "mouse_line= 'rbp'\n",
    "\n",
    "name_list= ['AL211','AL215','AL318']\n",
    "\n",
    "emptyarray= np.zeros((320, 528, 456, len(name_list)))\n",
    "\n",
    "for count, i in enumerate (name_list):\n",
    "    print (f'loading {i}.npy')\n",
    "    axon= np.load (f'D:\\\\viral_results\\\\{region}\\\\{i}.npy')\n",
    "    emptyarray[:,:,:,count]=axon\n",
    "    \n",
    "emptyarray_avg= np.average(emptyarray, axis=3)\n",
    "emptyarray_avg.shape\n",
    "\n",
    "emptyarray_avg[0,1,0]=len(name_list)\n",
    "# store the number of samples used to calculate this average at the [0,1,0] location\n",
    "# so that the value at [0,0,0] multiply by value at [0,1,0] equals the total number of axons for all samples in this group\n",
    "\n",
    "np.save(f'D:\\\\viral_results\\\\s1_s2\\\\{region}_{mouse_line}_avg.npy', emptyarray_avg)\n",
    "# save this averaged array\n",
    "\n",
    "emptyarray_avg[0,0,0]=0\n",
    "emptyarray_avg[0,1,0]=0\n",
    "\n",
    "save_tiff(emptyarray_avg, f'D:\\\\viral_results\\\\s1_s2\\\\{region}_{mouse_line}_avg')\n",
    "\n",
    "print(f'Done saving {region}_{mouse_line} data')"
   ]
  },
  {
   "cell_type": "markdown",
   "metadata": {
    "jp-MarkdownHeadingCollapsed": true,
    "tags": []
   },
   "source": [
    "#### s2 rbp samples"
   ]
  },
  {
   "cell_type": "code",
   "execution_count": 7,
   "metadata": {},
   "outputs": [
    {
     "name": "stdout",
     "output_type": "stream",
     "text": [
      "loading AL211.npy\n",
      "loading AL215.npy\n",
      "loading AL318.npy\n",
      "Starting to saving tif files..\n"
     ]
    },
    {
     "name": "stderr",
     "output_type": "stream",
     "text": [
      "C:\\Users\\liu\\AppData\\Local\\Temp\\ipykernel_17252\\828751201.py:7: UserWarning: D:\\viral_results\\s1_s2\\s1_rbp_avg_axons.tif is a low contrast image\n",
      "  io.imsave(outname+'_axons.tif',numpystack)\n"
     ]
    },
    {
     "name": "stdout",
     "output_type": "stream",
     "text": [
      "Done saving s1_rbp data\n"
     ]
    },
    {
     "name": "stderr",
     "output_type": "stream",
     "text": [
      "C:\\Users\\liu\\AppData\\Local\\Temp\\ipykernel_17252\\828751201.py:12: UserWarning: D:\\viral_results\\s1_s2\\s1_rbp_avg_sum_0.tif is a low contrast image\n",
      "  io.imsave(outname+ '_sum_0.tif',sum_0)\n",
      "C:\\Users\\liu\\AppData\\Local\\Temp\\ipykernel_17252\\828751201.py:13: UserWarning: D:\\viral_results\\s1_s2\\s1_rbp_avg_sum_1.tif is a low contrast image\n",
      "  io.imsave(outname+ '_sum_1.tif',sum_1)\n",
      "C:\\Users\\liu\\AppData\\Local\\Temp\\ipykernel_17252\\828751201.py:14: UserWarning: D:\\viral_results\\s1_s2\\s1_rbp_avg_sum_2.tif is a low contrast image\n",
      "  io.imsave(outname+ '_sum_2.tif',sum_2)\n"
     ]
    }
   ],
   "source": [
    "region='s2'\n",
    "mouse_line= 'rbp'\n",
    "\n",
    "name_list= ['AL288','AL326','AL327']\n",
    "\n",
    "emptyarray= np.zeros((320, 528, 456, len(name_list)))\n",
    "\n",
    "for count, i in enumerate (name_list):\n",
    "    print (f'loading {i}.npy')\n",
    "    axon= np.load (f'D:\\\\viral_results\\\\{region}\\\\{i}.npy')\n",
    "    emptyarray[:,:,:,count]=axon\n",
    "    \n",
    "emptyarray_avg= np.average(emptyarray, axis=3)\n",
    "emptyarray_avg.shape\n",
    "\n",
    "emptyarray_avg[0,1,0]=len(name_list)\n",
    "# store the number of samples used to calculate this average at the [0,1,0] location\n",
    "# so that the value at [0,0,0] multiply by value at [0,1,0] equals the total number of axons for all samples in this group\n",
    "\n",
    "np.save(f'D:\\\\viral_results\\\\s1_s2\\\\{region}_{mouse_line}_avg.npy', emptyarray_avg)\n",
    "# save this averaged array\n",
    "\n",
    "emptyarray_avg[0,0,0]=0\n",
    "emptyarray_avg[0,1,0]=0\n",
    "\n",
    "save_tiff(emptyarray_avg, f'D:\\\\viral_results\\\\s1_s2\\\\{region}_{mouse_line}_avg')\n",
    "\n",
    "print(f'Done saving {region}_{mouse_line} data')"
   ]
  },
  {
   "cell_type": "markdown",
   "metadata": {
    "jp-MarkdownHeadingCollapsed": true,
    "tags": []
   },
   "source": [
    "#### s1 tlx samples"
   ]
  },
  {
   "cell_type": "code",
   "execution_count": 10,
   "metadata": {},
   "outputs": [
    {
     "name": "stdout",
     "output_type": "stream",
     "text": [
      "loading AL213.npy\n",
      "loading AL313.npy\n",
      "loading AL314.npy\n",
      "Starting to saving tif files..\n"
     ]
    },
    {
     "name": "stderr",
     "output_type": "stream",
     "text": [
      "C:\\Users\\liu\\AppData\\Local\\Temp\\ipykernel_17252\\828751201.py:7: UserWarning: D:\\viral_results\\s1_s2\\s1_tlx_avg_axons.tif is a low contrast image\n",
      "  io.imsave(outname+'_axons.tif',numpystack)\n"
     ]
    },
    {
     "name": "stdout",
     "output_type": "stream",
     "text": [
      "Done saving s1_tlx data\n"
     ]
    },
    {
     "name": "stderr",
     "output_type": "stream",
     "text": [
      "C:\\Users\\liu\\AppData\\Local\\Temp\\ipykernel_17252\\828751201.py:12: UserWarning: D:\\viral_results\\s1_s2\\s1_tlx_avg_sum_0.tif is a low contrast image\n",
      "  io.imsave(outname+ '_sum_0.tif',sum_0)\n",
      "C:\\Users\\liu\\AppData\\Local\\Temp\\ipykernel_17252\\828751201.py:13: UserWarning: D:\\viral_results\\s1_s2\\s1_tlx_avg_sum_1.tif is a low contrast image\n",
      "  io.imsave(outname+ '_sum_1.tif',sum_1)\n",
      "C:\\Users\\liu\\AppData\\Local\\Temp\\ipykernel_17252\\828751201.py:14: UserWarning: D:\\viral_results\\s1_s2\\s1_tlx_avg_sum_2.tif is a low contrast image\n",
      "  io.imsave(outname+ '_sum_2.tif',sum_2)\n"
     ]
    }
   ],
   "source": [
    "region='s1'\n",
    "mouse_line= 'tlx'\n",
    "\n",
    "name_list= ['AL213','AL313','AL314']\n",
    "\n",
    "emptyarray= np.zeros((320, 528, 456, len(name_list)))\n",
    "\n",
    "for count, i in enumerate (name_list):\n",
    "    print (f'loading {i}.npy')\n",
    "    axon= np.load (f'D:\\\\viral_results\\\\{region}\\\\{i}.npy')\n",
    "    emptyarray[:,:,:,count]=axon\n",
    "    \n",
    "emptyarray_avg= np.average(emptyarray, axis=3)\n",
    "emptyarray_avg.shape\n",
    "\n",
    "emptyarray_avg[0,1,0]=len(name_list)\n",
    "# store the number of samples used to calculate this average at the [0,1,0] location\n",
    "# so that the value at [0,0,0] multiply by value at [0,1,0] equals the total number of axons for all samples in this group\n",
    "\n",
    "np.save(f'D:\\\\viral_results\\\\s1_s2\\\\{region}_{mouse_line}_avg.npy', emptyarray_avg)\n",
    "# save this averaged array\n",
    "\n",
    "emptyarray_avg[0,0,0]=0\n",
    "emptyarray_avg[0,1,0]=0\n",
    "\n",
    "save_tiff(emptyarray_avg, f'D:\\\\viral_results\\\\s1_s2\\\\{region}_{mouse_line}_avg')\n",
    "\n",
    "print(f'Done saving {region}_{mouse_line} data')"
   ]
  },
  {
   "cell_type": "markdown",
   "metadata": {
    "jp-MarkdownHeadingCollapsed": true,
    "tags": []
   },
   "source": [
    "#### s2 tlx samples"
   ]
  },
  {
   "cell_type": "code",
   "execution_count": 11,
   "metadata": {},
   "outputs": [
    {
     "name": "stdout",
     "output_type": "stream",
     "text": [
      "loading AL278.npy\n",
      "loading AL280.npy\n",
      "loading AL319.npy\n",
      "Starting to saving tif files..\n"
     ]
    },
    {
     "name": "stderr",
     "output_type": "stream",
     "text": [
      "C:\\Users\\liu\\AppData\\Local\\Temp\\ipykernel_17252\\828751201.py:7: UserWarning: D:\\viral_results\\s1_s2\\s2_tlx_avg_axons.tif is a low contrast image\n",
      "  io.imsave(outname+'_axons.tif',numpystack)\n"
     ]
    },
    {
     "name": "stdout",
     "output_type": "stream",
     "text": [
      "Done saving s2_tlx data\n"
     ]
    },
    {
     "name": "stderr",
     "output_type": "stream",
     "text": [
      "C:\\Users\\liu\\AppData\\Local\\Temp\\ipykernel_17252\\828751201.py:12: UserWarning: D:\\viral_results\\s1_s2\\s2_tlx_avg_sum_0.tif is a low contrast image\n",
      "  io.imsave(outname+ '_sum_0.tif',sum_0)\n",
      "C:\\Users\\liu\\AppData\\Local\\Temp\\ipykernel_17252\\828751201.py:13: UserWarning: D:\\viral_results\\s1_s2\\s2_tlx_avg_sum_1.tif is a low contrast image\n",
      "  io.imsave(outname+ '_sum_1.tif',sum_1)\n",
      "C:\\Users\\liu\\AppData\\Local\\Temp\\ipykernel_17252\\828751201.py:14: UserWarning: D:\\viral_results\\s1_s2\\s2_tlx_avg_sum_2.tif is a low contrast image\n",
      "  io.imsave(outname+ '_sum_2.tif',sum_2)\n"
     ]
    }
   ],
   "source": [
    "region='s2'\n",
    "mouse_line= 'tlx'\n",
    "\n",
    "name_list= ['AL278','AL280','AL319']\n",
    "\n",
    "emptyarray= np.zeros((320, 528, 456, len(name_list)))\n",
    "\n",
    "for count, i in enumerate (name_list):\n",
    "    print (f'loading {i}.npy')\n",
    "    axon= np.load (f'D:\\\\viral_results\\\\{region}\\\\{i}.npy')\n",
    "    emptyarray[:,:,:,count]=axon\n",
    "    \n",
    "emptyarray_avg= np.average(emptyarray, axis=3)\n",
    "emptyarray_avg.shape\n",
    "\n",
    "emptyarray_avg[0,1,0]=len(name_list)\n",
    "# store the number of samples used to calculate this average at the [0,1,0] location\n",
    "# so that the value at [0,0,0] multiply by value at [0,1,0] equals the total number of axons for all samples in this group\n",
    "\n",
    "np.save(f'D:\\\\viral_results\\\\s1_s2\\\\{region}_{mouse_line}_avg.npy', emptyarray_avg)\n",
    "# save this averaged array\n",
    "\n",
    "emptyarray_avg[0,0,0]=0\n",
    "emptyarray_avg[0,1,0]=0\n",
    "\n",
    "save_tiff(emptyarray_avg, f'D:\\\\viral_results\\\\s1_s2\\\\{region}_{mouse_line}_avg')\n",
    "\n",
    "print(f'Done saving {region}_{mouse_line} data')"
   ]
  },
  {
   "cell_type": "markdown",
   "metadata": {
    "jp-MarkdownHeadingCollapsed": true,
    "tags": []
   },
   "source": [
    "#### s1 ras samples"
   ]
  },
  {
   "cell_type": "code",
   "execution_count": 12,
   "metadata": {},
   "outputs": [
    {
     "name": "stdout",
     "output_type": "stream",
     "text": [
      "loading AL254.npy\n",
      "loading AL255.npy\n",
      "loading AL257.npy\n",
      "Starting to saving tif files..\n"
     ]
    },
    {
     "name": "stderr",
     "output_type": "stream",
     "text": [
      "C:\\Users\\liu\\AppData\\Local\\Temp\\ipykernel_17252\\828751201.py:7: UserWarning: D:\\viral_results\\s1_s2\\s1_ras_avg_axons.tif is a low contrast image\n",
      "  io.imsave(outname+'_axons.tif',numpystack)\n"
     ]
    },
    {
     "name": "stdout",
     "output_type": "stream",
     "text": [
      "Done saving s1_ras data\n"
     ]
    },
    {
     "name": "stderr",
     "output_type": "stream",
     "text": [
      "C:\\Users\\liu\\AppData\\Local\\Temp\\ipykernel_17252\\828751201.py:12: UserWarning: D:\\viral_results\\s1_s2\\s1_ras_avg_sum_0.tif is a low contrast image\n",
      "  io.imsave(outname+ '_sum_0.tif',sum_0)\n",
      "C:\\Users\\liu\\AppData\\Local\\Temp\\ipykernel_17252\\828751201.py:13: UserWarning: D:\\viral_results\\s1_s2\\s1_ras_avg_sum_1.tif is a low contrast image\n",
      "  io.imsave(outname+ '_sum_1.tif',sum_1)\n",
      "C:\\Users\\liu\\AppData\\Local\\Temp\\ipykernel_17252\\828751201.py:14: UserWarning: D:\\viral_results\\s1_s2\\s1_ras_avg_sum_2.tif is a low contrast image\n",
      "  io.imsave(outname+ '_sum_2.tif',sum_2)\n"
     ]
    }
   ],
   "source": [
    "region='s1'\n",
    "mouse_line= 'ras'\n",
    "\n",
    "name_list= ['AL254','AL255','AL257']\n",
    "\n",
    "emptyarray= np.zeros((320, 528, 456, len(name_list)))\n",
    "\n",
    "for count, i in enumerate (name_list):\n",
    "    print (f'loading {i}.npy')\n",
    "    axon= np.load (f'D:\\\\viral_results\\\\{region}\\\\{i}.npy')\n",
    "    emptyarray[:,:,:,count]=axon\n",
    "    \n",
    "emptyarray_avg= np.average(emptyarray, axis=3)\n",
    "emptyarray_avg.shape\n",
    "\n",
    "emptyarray_avg[0,1,0]=len(name_list)\n",
    "# store the number of samples used to calculate this average at the [0,1,0] location\n",
    "# so that the value at [0,0,0] multiply by value at [0,1,0] equals the total number of axons for all samples in this group\n",
    "\n",
    "np.save(f'D:\\\\viral_results\\\\s1_s2\\\\{region}_{mouse_line}_avg.npy', emptyarray_avg)\n",
    "# save this averaged array\n",
    "\n",
    "emptyarray_avg[0,0,0]=0\n",
    "emptyarray_avg[0,1,0]=0\n",
    "\n",
    "save_tiff(emptyarray_avg, f'D:\\\\viral_results\\\\s1_s2\\\\{region}_{mouse_line}_avg')\n",
    "\n",
    "print(f'Done saving {region}_{mouse_line} data')"
   ]
  },
  {
   "cell_type": "markdown",
   "metadata": {
    "jp-MarkdownHeadingCollapsed": true,
    "tags": []
   },
   "source": [
    "#### s2 ras samples "
   ]
  },
  {
   "cell_type": "code",
   "execution_count": 4,
   "metadata": {
    "collapsed": true,
    "jupyter": {
     "outputs_hidden": true
    },
    "tags": []
   },
   "outputs": [
    {
     "name": "stdout",
     "output_type": "stream",
     "text": [
      "loading AL303.npy\n",
      "loading AL332.npy\n",
      "loading AL333.npy\n",
      "Starting to saving tif files..\n"
     ]
    },
    {
     "name": "stderr",
     "output_type": "stream",
     "text": [
      "C:\\Users\\liu\\AppData\\Local\\Temp\\ipykernel_7772\\828751201.py:7: UserWarning: D:\\viral_results\\s1_s2\\s2_ras_avg_axons.tif is a low contrast image\n",
      "  io.imsave(outname+'_axons.tif',numpystack)\n"
     ]
    },
    {
     "name": "stdout",
     "output_type": "stream",
     "text": [
      "Done saving s2_ras data\n"
     ]
    },
    {
     "name": "stderr",
     "output_type": "stream",
     "text": [
      "C:\\Users\\liu\\AppData\\Local\\Temp\\ipykernel_7772\\828751201.py:12: UserWarning: D:\\viral_results\\s1_s2\\s2_ras_avg_sum_0.tif is a low contrast image\n",
      "  io.imsave(outname+ '_sum_0.tif',sum_0)\n",
      "C:\\Users\\liu\\AppData\\Local\\Temp\\ipykernel_7772\\828751201.py:13: UserWarning: D:\\viral_results\\s1_s2\\s2_ras_avg_sum_1.tif is a low contrast image\n",
      "  io.imsave(outname+ '_sum_1.tif',sum_1)\n",
      "C:\\Users\\liu\\AppData\\Local\\Temp\\ipykernel_7772\\828751201.py:14: UserWarning: D:\\viral_results\\s1_s2\\s2_ras_avg_sum_2.tif is a low contrast image\n",
      "  io.imsave(outname+ '_sum_2.tif',sum_2)\n"
     ]
    }
   ],
   "source": [
    "region='s2'\n",
    "mouse_line= 'ras'\n",
    "\n",
    "name_list= ['AL303','AL332','AL333']\n",
    "\n",
    "emptyarray= np.zeros((320, 528, 456, len(name_list)))\n",
    "\n",
    "for count, i in enumerate (name_list):\n",
    "    print (f'loading {i}.npy')\n",
    "    axon= np.load (f'D:\\\\viral_results\\\\{region}\\\\{i}.npy')\n",
    "    emptyarray[:,:,:,count]=axon\n",
    "    \n",
    "emptyarray_avg= np.average(emptyarray, axis=3)\n",
    "emptyarray_avg.shape\n",
    "\n",
    "emptyarray_avg[0,1,0]=len(name_list)\n",
    "# store the number of samples used to calculate this average at the [0,1,0] location\n",
    "# so that the value at [0,0,0] multiply by value at [0,1,0] equals the total number of axons for all samples in this group\n",
    "\n",
    "np.save(f'D:\\\\viral_results\\\\s1_s2\\\\{region}_{mouse_line}_avg.npy', emptyarray_avg)\n",
    "# save this averaged array\n",
    "\n",
    "emptyarray_avg[0,0,0]=0\n",
    "emptyarray_avg[0,1,0]=0\n",
    "\n",
    "save_tiff(emptyarray_avg, f'D:\\\\viral_results\\\\s1_s2\\\\{region}_{mouse_line}_avg')\n",
    "\n",
    "print(f'Done saving {region}_{mouse_line} data')"
   ]
  },
  {
   "cell_type": "markdown",
   "metadata": {
    "jp-MarkdownHeadingCollapsed": true,
    "tags": []
   },
   "source": [
    "#### s1 scn sample"
   ]
  },
  {
   "cell_type": "code",
   "execution_count": 14,
   "metadata": {
    "tags": []
   },
   "outputs": [
    {
     "name": "stdout",
     "output_type": "stream",
     "text": [
      "loading AL290.npy\n",
      "loading AL291.npy\n",
      "loading AL292.npy\n",
      "loading AL293.npy\n",
      "Starting to saving tif files..\n"
     ]
    },
    {
     "name": "stderr",
     "output_type": "stream",
     "text": [
      "C:\\Users\\liu\\AppData\\Local\\Temp\\ipykernel_17252\\828751201.py:7: UserWarning: D:\\viral_results\\s1_s2\\s1_scn_avg_axons.tif is a low contrast image\n",
      "  io.imsave(outname+'_axons.tif',numpystack)\n"
     ]
    },
    {
     "name": "stdout",
     "output_type": "stream",
     "text": [
      "Done saving s1_scn data\n"
     ]
    },
    {
     "name": "stderr",
     "output_type": "stream",
     "text": [
      "C:\\Users\\liu\\AppData\\Local\\Temp\\ipykernel_17252\\828751201.py:12: UserWarning: D:\\viral_results\\s1_s2\\s1_scn_avg_sum_0.tif is a low contrast image\n",
      "  io.imsave(outname+ '_sum_0.tif',sum_0)\n",
      "C:\\Users\\liu\\AppData\\Local\\Temp\\ipykernel_17252\\828751201.py:13: UserWarning: D:\\viral_results\\s1_s2\\s1_scn_avg_sum_1.tif is a low contrast image\n",
      "  io.imsave(outname+ '_sum_1.tif',sum_1)\n",
      "C:\\Users\\liu\\AppData\\Local\\Temp\\ipykernel_17252\\828751201.py:14: UserWarning: D:\\viral_results\\s1_s2\\s1_scn_avg_sum_2.tif is a low contrast image\n",
      "  io.imsave(outname+ '_sum_2.tif',sum_2)\n"
     ]
    }
   ],
   "source": [
    "region='s1'\n",
    "mouse_line= 'scn'\n",
    "\n",
    "name_list= ['AL290','AL291','AL292','AL293']\n",
    "\n",
    "emptyarray= np.zeros((320, 528, 456, len(name_list)))\n",
    "\n",
    "for count, i in enumerate (name_list):\n",
    "    print (f'loading {i}.npy')\n",
    "    axon= np.load (f'D:\\\\viral_results\\\\{region}\\\\{i}.npy')\n",
    "    emptyarray[:,:,:,count]=axon\n",
    "    \n",
    "emptyarray_avg= np.average(emptyarray, axis=3)\n",
    "emptyarray_avg.shape\n",
    "\n",
    "emptyarray_avg[0,1,0]=len(name_list)\n",
    "# store the number of samples used to calculate this average at the [0,1,0] location\n",
    "# so that the value at [0,0,0] multiply by value at [0,1,0] equals the total number of axons for all samples in this group\n",
    "\n",
    "np.save(f'D:\\\\viral_results\\\\s1_s2\\\\{region}_{mouse_line}_avg.npy', emptyarray_avg)\n",
    "# save this averaged array\n",
    "\n",
    "emptyarray_avg[0,0,0]=0\n",
    "emptyarray_avg[0,1,0]=0\n",
    "\n",
    "save_tiff(emptyarray_avg, f'D:\\\\viral_results\\\\s1_s2\\\\{region}_{mouse_line}_avg')\n",
    "\n",
    "print(f'Done saving {region}_{mouse_line} data')"
   ]
  },
  {
   "cell_type": "markdown",
   "metadata": {
    "jp-MarkdownHeadingCollapsed": true,
    "tags": []
   },
   "source": [
    "#### s2 scn sample"
   ]
  },
  {
   "cell_type": "code",
   "execution_count": 16,
   "metadata": {},
   "outputs": [
    {
     "name": "stdout",
     "output_type": "stream",
     "text": [
      "loading AL290.npy\n",
      "loading AL292.npy\n",
      "loading AL323.npy\n",
      "Starting to saving tif files..\n"
     ]
    },
    {
     "name": "stderr",
     "output_type": "stream",
     "text": [
      "C:\\Users\\liu\\AppData\\Local\\Temp\\ipykernel_17252\\828751201.py:7: UserWarning: D:\\viral_results\\s1_s2\\s2_scn_avg_axons.tif is a low contrast image\n",
      "  io.imsave(outname+'_axons.tif',numpystack)\n"
     ]
    },
    {
     "name": "stdout",
     "output_type": "stream",
     "text": [
      "Done saving s2_scn data\n"
     ]
    },
    {
     "name": "stderr",
     "output_type": "stream",
     "text": [
      "C:\\Users\\liu\\AppData\\Local\\Temp\\ipykernel_17252\\828751201.py:12: UserWarning: D:\\viral_results\\s1_s2\\s2_scn_avg_sum_0.tif is a low contrast image\n",
      "  io.imsave(outname+ '_sum_0.tif',sum_0)\n",
      "C:\\Users\\liu\\AppData\\Local\\Temp\\ipykernel_17252\\828751201.py:13: UserWarning: D:\\viral_results\\s1_s2\\s2_scn_avg_sum_1.tif is a low contrast image\n",
      "  io.imsave(outname+ '_sum_1.tif',sum_1)\n",
      "C:\\Users\\liu\\AppData\\Local\\Temp\\ipykernel_17252\\828751201.py:14: UserWarning: D:\\viral_results\\s1_s2\\s2_scn_avg_sum_2.tif is a low contrast image\n",
      "  io.imsave(outname+ '_sum_2.tif',sum_2)\n"
     ]
    }
   ],
   "source": [
    "region='s2'\n",
    "mouse_line= 'scn'\n",
    "\n",
    "name_list= ['AL290','AL292','AL323']\n",
    "\n",
    "emptyarray= np.zeros((320, 528, 456, len(name_list)))\n",
    "\n",
    "for count, i in enumerate (name_list):\n",
    "    print (f'loading {i}.npy')\n",
    "    axon= np.load (f'D:\\\\viral_results\\\\{region}\\\\{i}.npy')\n",
    "    emptyarray[:,:,:,count]=axon\n",
    "    \n",
    "emptyarray_avg= np.average(emptyarray, axis=3)\n",
    "emptyarray_avg.shape\n",
    "\n",
    "emptyarray_avg[0,1,0]=len(name_list)\n",
    "# store the number of samples used to calculate this average at the [0,1,0] location\n",
    "# so that the value at [0,0,0] multiply by value at [0,1,0] equals the total number of axons for all samples in this group\n",
    "\n",
    "np.save(f'D:\\\\viral_results\\\\s1_s2\\\\{region}_{mouse_line}_avg.npy', emptyarray_avg)\n",
    "# save this averaged array\n",
    "\n",
    "emptyarray_avg[0,0,0]=0\n",
    "emptyarray_avg[0,1,0]=0\n",
    "\n",
    "save_tiff(emptyarray_avg, f'D:\\\\viral_results\\\\s1_s2\\\\{region}_{mouse_line}_avg')\n",
    "\n",
    "print(f'Done saving {region}_{mouse_line} data')"
   ]
  },
  {
   "cell_type": "markdown",
   "metadata": {
    "jp-MarkdownHeadingCollapsed": true,
    "tags": []
   },
   "source": [
    "#### s1 ntsr samples"
   ]
  },
  {
   "cell_type": "code",
   "execution_count": 17,
   "metadata": {},
   "outputs": [
    {
     "name": "stdout",
     "output_type": "stream",
     "text": [
      "loading AL274.npy\n",
      "loading AL285.npy\n",
      "loading AL311.npy\n",
      "Starting to saving tif files..\n"
     ]
    },
    {
     "name": "stderr",
     "output_type": "stream",
     "text": [
      "C:\\Users\\liu\\AppData\\Local\\Temp\\ipykernel_17252\\828751201.py:7: UserWarning: D:\\viral_results\\s1_s2\\s1_ntsr_avg_axons.tif is a low contrast image\n",
      "  io.imsave(outname+'_axons.tif',numpystack)\n"
     ]
    },
    {
     "name": "stdout",
     "output_type": "stream",
     "text": [
      "Done saving s1_ntsr data\n"
     ]
    },
    {
     "name": "stderr",
     "output_type": "stream",
     "text": [
      "C:\\Users\\liu\\AppData\\Local\\Temp\\ipykernel_17252\\828751201.py:12: UserWarning: D:\\viral_results\\s1_s2\\s1_ntsr_avg_sum_0.tif is a low contrast image\n",
      "  io.imsave(outname+ '_sum_0.tif',sum_0)\n",
      "C:\\Users\\liu\\AppData\\Local\\Temp\\ipykernel_17252\\828751201.py:13: UserWarning: D:\\viral_results\\s1_s2\\s1_ntsr_avg_sum_1.tif is a low contrast image\n",
      "  io.imsave(outname+ '_sum_1.tif',sum_1)\n",
      "C:\\Users\\liu\\AppData\\Local\\Temp\\ipykernel_17252\\828751201.py:14: UserWarning: D:\\viral_results\\s1_s2\\s1_ntsr_avg_sum_2.tif is a low contrast image\n",
      "  io.imsave(outname+ '_sum_2.tif',sum_2)\n"
     ]
    }
   ],
   "source": [
    "region='s1'\n",
    "mouse_line= 'ntsr'\n",
    "\n",
    "name_list= ['AL274','AL285','AL311']\n",
    "\n",
    "emptyarray= np.zeros((320, 528, 456, len(name_list)))\n",
    "\n",
    "for count, i in enumerate (name_list):\n",
    "    print (f'loading {i}.npy')\n",
    "    axon= np.load (f'D:\\\\viral_results\\\\{region}\\\\{i}.npy')\n",
    "    emptyarray[:,:,:,count]=axon\n",
    "    \n",
    "emptyarray_avg= np.average(emptyarray, axis=3)\n",
    "emptyarray_avg.shape\n",
    "\n",
    "emptyarray_avg[0,1,0]=len(name_list)\n",
    "# store the number of samples used to calculate this average at the [0,1,0] location\n",
    "# so that the value at [0,0,0] multiply by value at [0,1,0] equals the total number of axons for all samples in this group\n",
    "\n",
    "np.save(f'D:\\\\viral_results\\\\s1_s2\\\\{region}_{mouse_line}_avg.npy', emptyarray_avg)\n",
    "# save this averaged array\n",
    "\n",
    "emptyarray_avg[0,0,0]=0\n",
    "emptyarray_avg[0,1,0]=0\n",
    "\n",
    "save_tiff(emptyarray_avg, f'D:\\\\viral_results\\\\s1_s2\\\\{region}_{mouse_line}_avg')\n",
    "\n",
    "print(f'Done saving {region}_{mouse_line} data')"
   ]
  },
  {
   "cell_type": "markdown",
   "metadata": {
    "jp-MarkdownHeadingCollapsed": true,
    "tags": []
   },
   "source": [
    "#### s2 ntsr samples"
   ]
  },
  {
   "cell_type": "code",
   "execution_count": 3,
   "metadata": {},
   "outputs": [
    {
     "name": "stdout",
     "output_type": "stream",
     "text": [
      "loading AL274.npy\n",
      "loading AL310.npy\n",
      "loading AL330.npy\n",
      "Starting to saving tif files..\n"
     ]
    },
    {
     "name": "stderr",
     "output_type": "stream",
     "text": [
      "C:\\Users\\liu\\AppData\\Local\\Temp\\ipykernel_6316\\828751201.py:7: UserWarning: D:\\viral_results\\s1_s2\\s2_ntsr_avg_axons.tif is a low contrast image\n",
      "  io.imsave(outname+'_axons.tif',numpystack)\n"
     ]
    },
    {
     "name": "stdout",
     "output_type": "stream",
     "text": [
      "Done saving s2_ntsr data\n"
     ]
    },
    {
     "name": "stderr",
     "output_type": "stream",
     "text": [
      "C:\\Users\\liu\\AppData\\Local\\Temp\\ipykernel_6316\\828751201.py:12: UserWarning: D:\\viral_results\\s1_s2\\s2_ntsr_avg_sum_0.tif is a low contrast image\n",
      "  io.imsave(outname+ '_sum_0.tif',sum_0)\n",
      "C:\\Users\\liu\\AppData\\Local\\Temp\\ipykernel_6316\\828751201.py:13: UserWarning: D:\\viral_results\\s1_s2\\s2_ntsr_avg_sum_1.tif is a low contrast image\n",
      "  io.imsave(outname+ '_sum_1.tif',sum_1)\n",
      "C:\\Users\\liu\\AppData\\Local\\Temp\\ipykernel_6316\\828751201.py:14: UserWarning: D:\\viral_results\\s1_s2\\s2_ntsr_avg_sum_2.tif is a low contrast image\n",
      "  io.imsave(outname+ '_sum_2.tif',sum_2)\n"
     ]
    }
   ],
   "source": [
    "region='s2'\n",
    "mouse_line= 'ntsr'\n",
    "\n",
    "name_list= ['AL274','AL310','AL330']\n",
    "\n",
    "emptyarray= np.zeros((320, 528, 456, len(name_list)))\n",
    "\n",
    "for count, i in enumerate (name_list):\n",
    "    print (f'loading {i}.npy')\n",
    "    axon= np.load (f'D:\\\\viral_results\\\\{region}\\\\{i}.npy')\n",
    "    emptyarray[:,:,:,count]=axon\n",
    "    \n",
    "emptyarray_avg= np.average(emptyarray, axis=3)\n",
    "emptyarray_avg.shape\n",
    "\n",
    "emptyarray_avg[0,1,0]=len(name_list)\n",
    "# store the number of samples used to calculate this average at the [0,1,0] location\n",
    "# so that the value at [0,0,0] multiply by value at [0,1,0] equals the total number of axons for all samples in this group\n",
    "\n",
    "np.save(f'D:\\\\viral_results\\\\s1_s2\\\\{region}_{mouse_line}_avg.npy', emptyarray_avg)\n",
    "# save this averaged array\n",
    "\n",
    "emptyarray_avg[0,0,0]=0\n",
    "emptyarray_avg[0,1,0]=0\n",
    "\n",
    "save_tiff(emptyarray_avg, f'D:\\\\viral_results\\\\s1_s2\\\\{region}_{mouse_line}_avg')\n",
    "\n",
    "print(f'Done saving {region}_{mouse_line} data')"
   ]
  },
  {
   "cell_type": "markdown",
   "metadata": {},
   "source": [
    "### section holder"
   ]
  },
  {
   "cell_type": "code",
   "execution_count": null,
   "metadata": {},
   "outputs": [],
   "source": []
  }
 ],
 "metadata": {
  "kernelspec": {
   "display_name": "region_specific",
   "language": "python",
   "name": "region_specific"
  },
  "language_info": {
   "codemirror_mode": {
    "name": "ipython",
    "version": 3
   },
   "file_extension": ".py",
   "mimetype": "text/x-python",
   "name": "python",
   "nbconvert_exporter": "python",
   "pygments_lexer": "ipython3",
   "version": "3.8.16"
  }
 },
 "nbformat": 4,
 "nbformat_minor": 4
}
