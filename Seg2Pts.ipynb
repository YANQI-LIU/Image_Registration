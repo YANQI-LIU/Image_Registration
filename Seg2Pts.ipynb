{
 "cells": [
  {
   "cell_type": "markdown",
   "metadata": {},
   "source": [
    "### Analysis for viral image segmentation stacks, an output of trailmap"
   ]
  },
  {
   "cell_type": "code",
   "execution_count": 1,
   "metadata": {},
   "outputs": [],
   "source": [
    "import os\n",
    "\n",
    "import tkinter as tk\n",
    "import tkinter.filedialog as fdialog\n",
    "# this is the gui for finding directory and files\n",
    "\n",
    "# from PIL import Image\n",
    "#Image.MAX_IMAGE_PIXELS = 1000000000     \n",
    "# this line is needed to load full res image because PIL sees images larger than 36mb as potential decompressed bomb for DOS attacks\n",
    "# here we increase the upper limit of the image size from 89,478,485 (hard coded default value in pil) \n",
    "\n",
    "import skimage\n",
    "from skimage import io\n",
    "\n",
    "import pandas as pd\n",
    "\n",
    "from tqdm import tqdm\n",
    "\n",
    "import numpy as np\n",
    "import numpy.ma as ma\n",
    "\n",
    "import matplotlib.pyplot as plt"
   ]
  },
  {
   "cell_type": "code",
   "execution_count": 2,
   "metadata": {},
   "outputs": [],
   "source": [
    "# Select the directory containing already image sequences of segmentation\n",
    "imgseq = fdialog.askdirectory(initialdir='X:\\mesoSPIM', title='Please select the directory containing segmentation image sequences')\n",
    "outdir = fdialog.askdirectory(title='Please select the output directory')"
   ]
  },
  {
   "cell_type": "code",
   "execution_count": 9,
   "metadata": {},
   "outputs": [
    {
     "name": "stderr",
     "output_type": "stream",
     "text": [
      "100%|██████████████████████████████████████████████████████████████████████████████| 1200/1200 [15:32<00:00,  1.29it/s]\n"
     ]
    }
   ],
   "source": [
    "# Initialize 3 list to store the xyz coordinates\n",
    "x=[]\n",
    "y=[]\n",
    "z=[]\n",
    "\n",
    "#Initialize a pandas dataframe\n",
    "coordinates= pd.DataFrame(columns=['x','y','z'])\n",
    "\n",
    "#list all the images in the directory\n",
    "images=os.listdir(imgseq)\n",
    "real_images=[i for i in images if i.endswith('.tif')]\n",
    "#gets rid of some random data base files\n",
    "\n",
    "real_images.sort()\n",
    "#Need to sort so that the file name is ordered accordingly!!!\n",
    "\n",
    "#Loops through all image, this will run for at least 15 minutes for a half brain, should be faster on computer with an optic fiber\n",
    "for count,item in enumerate(tqdm(real_images)):\n",
    "    this_image= os.path.join(imgseq, item)\n",
    "    im = io.imread(this_image) # reads image\n",
    "    \n",
    "    mask= ma.masked_greater_equal(im, 0.7) # threshold, so that only pixels with values 0.7 or greater is kept\n",
    "    mask_im=mask.mask*1 # convert true- false mask to 0 and 1\n",
    "    this_plane=np.argwhere(mask_im>0) # get xy indices of any that is 1\n",
    "    \n",
    "    for j in this_plane:\n",
    "        #append the xy indices to list, append the z to list\n",
    "        # note that the shape of the image is rows, columns (hnece y, x)\n",
    "        x.append(j[1])\n",
    "        y.append(j[0])\n",
    "        z.append(count)\n",
    "\n"
   ]
  },
  {
   "cell_type": "code",
   "execution_count": 10,
   "metadata": {},
   "outputs": [
    {
     "data": {
      "text/html": [
       "<div>\n",
       "<style scoped>\n",
       "    .dataframe tbody tr th:only-of-type {\n",
       "        vertical-align: middle;\n",
       "    }\n",
       "\n",
       "    .dataframe tbody tr th {\n",
       "        vertical-align: top;\n",
       "    }\n",
       "\n",
       "    .dataframe thead th {\n",
       "        text-align: right;\n",
       "    }\n",
       "</style>\n",
       "<table border=\"1\" class=\"dataframe\">\n",
       "  <thead>\n",
       "    <tr style=\"text-align: right;\">\n",
       "      <th></th>\n",
       "      <th>x</th>\n",
       "      <th>y</th>\n",
       "      <th>z</th>\n",
       "    </tr>\n",
       "  </thead>\n",
       "  <tbody>\n",
       "    <tr>\n",
       "      <th>0</th>\n",
       "      <td>39</td>\n",
       "      <td>1008</td>\n",
       "      <td>0</td>\n",
       "    </tr>\n",
       "    <tr>\n",
       "      <th>1</th>\n",
       "      <td>40</td>\n",
       "      <td>1008</td>\n",
       "      <td>0</td>\n",
       "    </tr>\n",
       "    <tr>\n",
       "      <th>2</th>\n",
       "      <td>39</td>\n",
       "      <td>1009</td>\n",
       "      <td>0</td>\n",
       "    </tr>\n",
       "    <tr>\n",
       "      <th>3</th>\n",
       "      <td>40</td>\n",
       "      <td>1009</td>\n",
       "      <td>0</td>\n",
       "    </tr>\n",
       "    <tr>\n",
       "      <th>4</th>\n",
       "      <td>40</td>\n",
       "      <td>1010</td>\n",
       "      <td>0</td>\n",
       "    </tr>\n",
       "    <tr>\n",
       "      <th>...</th>\n",
       "      <td>...</td>\n",
       "      <td>...</td>\n",
       "      <td>...</td>\n",
       "    </tr>\n",
       "    <tr>\n",
       "      <th>15592349</th>\n",
       "      <td>935</td>\n",
       "      <td>1844</td>\n",
       "      <td>1199</td>\n",
       "    </tr>\n",
       "    <tr>\n",
       "      <th>15592350</th>\n",
       "      <td>933</td>\n",
       "      <td>1845</td>\n",
       "      <td>1199</td>\n",
       "    </tr>\n",
       "    <tr>\n",
       "      <th>15592351</th>\n",
       "      <td>934</td>\n",
       "      <td>1845</td>\n",
       "      <td>1199</td>\n",
       "    </tr>\n",
       "    <tr>\n",
       "      <th>15592352</th>\n",
       "      <td>933</td>\n",
       "      <td>1846</td>\n",
       "      <td>1199</td>\n",
       "    </tr>\n",
       "    <tr>\n",
       "      <th>15592353</th>\n",
       "      <td>934</td>\n",
       "      <td>1846</td>\n",
       "      <td>1199</td>\n",
       "    </tr>\n",
       "  </tbody>\n",
       "</table>\n",
       "<p>15592354 rows × 3 columns</p>\n",
       "</div>"
      ],
      "text/plain": [
       "            x     y     z\n",
       "0          39  1008     0\n",
       "1          40  1008     0\n",
       "2          39  1009     0\n",
       "3          40  1009     0\n",
       "4          40  1010     0\n",
       "...       ...   ...   ...\n",
       "15592349  935  1844  1199\n",
       "15592350  933  1845  1199\n",
       "15592351  934  1845  1199\n",
       "15592352  933  1846  1199\n",
       "15592353  934  1846  1199\n",
       "\n",
       "[15592354 rows x 3 columns]"
      ]
     },
     "execution_count": 10,
     "metadata": {},
     "output_type": "execute_result"
    }
   ],
   "source": [
    "coordinates['x']=x\n",
    "coordinates['y']=y\n",
    "coordinates['z']=z\n",
    "coordinates"
   ]
  },
  {
   "cell_type": "code",
   "execution_count": 21,
   "metadata": {},
   "outputs": [],
   "source": [
    "xyz=5\n",
    "goalxyz=25\n",
    "ratio= goalxyz/xyz\n",
    "\n",
    "# Now, we want to reslice this horizontal view to coronal view (so that matches the orientation of our transformation and atlas)\n",
    "x=pd.to_numeric(coordinates['x'])\n",
    "y=pd.to_numeric(coordinates['y'])\n",
    "z=pd.to_numeric(coordinates['z'])\n",
    "\n",
    "ds_x=x//ratio\n",
    "ds_y=y//ratio\n",
    "ds_z=z//ratio"
   ]
  },
  {
   "cell_type": "code",
   "execution_count": 22,
   "metadata": {},
   "outputs": [
    {
     "name": "stdout",
     "output_type": "stream",
     "text": [
      "saved at D:/AL211_1-1200_half/AL211_test_25um_points.txt\n"
     ]
    }
   ],
   "source": [
    "q = [' '.join(i) for i in zip(ds_x.astype(str),ds_y.astype(str),ds_z.astype(str))]\n",
    "\n",
    "out_name= 'AL211_test'+ f'_{goalxyz}um_points.txt'\n",
    "\n",
    "num_row=len(x)\n",
    "f=open(outdir+'/'+out_name,'w+')\n",
    "f.write('point'+'\\n')\n",
    "f.write(str(num_row)+'\\n')\n",
    "for lines in q:\n",
    "    f.write(lines+'\\n')\n",
    "f.close()\n",
    "\n",
    "print(f'saved at {outdir}/{out_name}')\n"
   ]
  },
  {
   "cell_type": "markdown",
   "metadata": {},
   "source": [
    "### test area"
   ]
  },
  {
   "cell_type": "code",
   "execution_count": 3,
   "metadata": {},
   "outputs": [],
   "source": [
    "images=os.listdir(imgseq)\n",
    "real_images=[i for i in images if i.endswith('.tif')]\n",
    "#gets rid of some random data base files"
   ]
  },
  {
   "cell_type": "code",
   "execution_count": 4,
   "metadata": {},
   "outputs": [
    {
     "data": {
      "image/png": "[encoded data removed]",
      "text/plain": [
       "<Figure size 1080x1080 with 1 Axes>"
      ]
     },
     "metadata": {
      "needs_background": "light"
     },
     "output_type": "display_data"
    }
   ],
   "source": [
    "this_image= os.path.join(imgseq, real_images[100])\n",
    "im = io.imread(this_image)\n",
    "\n",
    "plt.figure(figsize=(15,15))\n",
    "plt.imshow(im)\n",
    "plt.show()"
   ]
  },
  {
   "cell_type": "code",
   "execution_count": 102,
   "metadata": {
    "collapsed": true,
    "jupyter": {
     "outputs_hidden": true
    }
   },
   "outputs": [
    {
     "data": {
      "image/png": "[encoded data removed]",
      "text/plain": [
       "<Figure size 1080x1080 with 1 Axes>"
      ]
     },
     "metadata": {
      "needs_background": "light"
     },
     "output_type": "display_data"
    }
   ],
   "source": [
    "mask= ma.masked_greater_equal(im, 0.5)\n",
    "plt.figure(figsize=(15,15))\n",
    "plt.imshow(mask)\n",
    "plt.show()"
   ]
  },
  {
   "cell_type": "code",
   "execution_count": 43,
   "metadata": {},
   "outputs": [],
   "source": [
    "mask_im=mask.mask*1"
   ]
  },
  {
   "cell_type": "code",
   "execution_count": 52,
   "metadata": {},
   "outputs": [],
   "source": [
    "this_plane=np.argwhere(mask_im>0)"
   ]
  },
  {
   "cell_type": "code",
   "execution_count": 14,
   "metadata": {},
   "outputs": [
    {
     "ename": "NameError",
     "evalue": "name 'out_dir' is not defined",
     "output_type": "error",
     "traceback": [
      "\u001b[1;31m---------------------------------------------------------------------------\u001b[0m",
      "\u001b[1;31mNameError\u001b[0m                                 Traceback (most recent call last)",
      "\u001b[1;32m<ipython-input-14-78fa2f2f1209>\u001b[0m in \u001b[0;36m<module>\u001b[1;34m\u001b[0m\n\u001b[1;32m----> 1\u001b[1;33m \u001b[0mout_dir\u001b[0m\u001b[1;33m\u001b[0m\u001b[1;33m\u001b[0m\u001b[0m\n\u001b[0m",
      "\u001b[1;31mNameError\u001b[0m: name 'out_dir' is not defined"
     ]
    }
   ],
   "source": []
  },
  {
   "cell_type": "code",
   "execution_count": 10,
   "metadata": {},
   "outputs": [
    {
     "data": {
      "text/html": [
       "<div>\n",
       "<style scoped>\n",
       "    .dataframe tbody tr th:only-of-type {\n",
       "        vertical-align: middle;\n",
       "    }\n",
       "\n",
       "    .dataframe tbody tr th {\n",
       "        vertical-align: top;\n",
       "    }\n",
       "\n",
       "    .dataframe thead th {\n",
       "        text-align: right;\n",
       "    }\n",
       "</style>\n",
       "<table border=\"1\" class=\"dataframe\">\n",
       "  <thead>\n",
       "    <tr style=\"text-align: right;\">\n",
       "      <th></th>\n",
       "      <th>x</th>\n",
       "      <th>y</th>\n",
       "      <th>z</th>\n",
       "    </tr>\n",
       "  </thead>\n",
       "  <tbody>\n",
       "    <tr>\n",
       "      <th>0</th>\n",
       "      <td>1008</td>\n",
       "      <td>39</td>\n",
       "      <td>0</td>\n",
       "    </tr>\n",
       "    <tr>\n",
       "      <th>1</th>\n",
       "      <td>1008</td>\n",
       "      <td>40</td>\n",
       "      <td>0</td>\n",
       "    </tr>\n",
       "    <tr>\n",
       "      <th>2</th>\n",
       "      <td>1009</td>\n",
       "      <td>39</td>\n",
       "      <td>0</td>\n",
       "    </tr>\n",
       "    <tr>\n",
       "      <th>3</th>\n",
       "      <td>1009</td>\n",
       "      <td>40</td>\n",
       "      <td>0</td>\n",
       "    </tr>\n",
       "    <tr>\n",
       "      <th>4</th>\n",
       "      <td>1010</td>\n",
       "      <td>40</td>\n",
       "      <td>0</td>\n",
       "    </tr>\n",
       "    <tr>\n",
       "      <th>...</th>\n",
       "      <td>...</td>\n",
       "      <td>...</td>\n",
       "      <td>...</td>\n",
       "    </tr>\n",
       "    <tr>\n",
       "      <th>15592349</th>\n",
       "      <td>1834</td>\n",
       "      <td>941</td>\n",
       "      <td>1199</td>\n",
       "    </tr>\n",
       "    <tr>\n",
       "      <th>15592350</th>\n",
       "      <td>1834</td>\n",
       "      <td>942</td>\n",
       "      <td>1199</td>\n",
       "    </tr>\n",
       "    <tr>\n",
       "      <th>15592351</th>\n",
       "      <td>1834</td>\n",
       "      <td>943</td>\n",
       "      <td>1199</td>\n",
       "    </tr>\n",
       "    <tr>\n",
       "      <th>15592352</th>\n",
       "      <td>1834</td>\n",
       "      <td>944</td>\n",
       "      <td>1199</td>\n",
       "    </tr>\n",
       "    <tr>\n",
       "      <th>15592353</th>\n",
       "      <td>1835</td>\n",
       "      <td>943</td>\n",
       "      <td>1199</td>\n",
       "    </tr>\n",
       "  </tbody>\n",
       "</table>\n",
       "<p>15592354 rows × 3 columns</p>\n",
       "</div>"
      ],
      "text/plain": [
       "             x    y     z\n",
       "0         1008   39     0\n",
       "1         1008   40     0\n",
       "2         1009   39     0\n",
       "3         1009   40     0\n",
       "4         1010   40     0\n",
       "...        ...  ...   ...\n",
       "15592349  1834  941  1199\n",
       "15592350  1834  942  1199\n",
       "15592351  1834  943  1199\n",
       "15592352  1834  944  1199\n",
       "15592353  1835  943  1199\n",
       "\n",
       "[15592354 rows x 3 columns]"
      ]
     },
     "execution_count": 10,
     "metadata": {},
     "output_type": "execute_result"
    }
   ],
   "source": [
    "coordinates['x']=x\n",
    "coordinates['y']=y\n",
    "coordinates['z']=z\n",
    "coordinates"
   ]
  },
  {
   "cell_type": "code",
   "execution_count": 18,
   "metadata": {},
   "outputs": [
    {
     "data": {
      "text/plain": [
       "204.4"
      ]
     },
     "execution_count": 18,
     "metadata": {},
     "output_type": "execute_result"
    }
   ],
   "source": [
    "coordinates.x.max()/5"
   ]
  },
  {
   "cell_type": "code",
   "execution_count": 19,
   "metadata": {},
   "outputs": [
    {
     "data": {
      "text/plain": [
       "409.4"
      ]
     },
     "execution_count": 19,
     "metadata": {},
     "output_type": "execute_result"
    }
   ],
   "source": [
    "coordinates.y.max()/5"
   ]
  },
  {
   "cell_type": "code",
   "execution_count": 20,
   "metadata": {},
   "outputs": [
    {
     "data": {
      "text/plain": [
       "239.8"
      ]
     },
     "execution_count": 20,
     "metadata": {},
     "output_type": "execute_result"
    }
   ],
   "source": [
    "coordinates.z.max()/5"
   ]
  },
  {
   "cell_type": "code",
   "execution_count": 65,
   "metadata": {},
   "outputs": [
    {
     "data": {
      "text/plain": [
       "['seg-AL211_rLS1090.tif',\n",
       " 'seg-AL211_rLS1091.tif',\n",
       " 'seg-AL211_rLS1092.tif',\n",
       " 'seg-AL211_rLS1100.tif',\n",
       " 'seg-AL211_rLS1113.tif',\n",
       " 'seg-AL211_rLS1118.tif',\n",
       " 'seg-AL211_rLS1151.tif',\n",
       " 'seg-AL211_rLS1153.tif',\n",
       " 'seg-AL211_rLS1154.tif',\n",
       " 'seg-AL211_rLS1164.tif',\n",
       " 'seg-AL211_rLS1165.tif',\n",
       " 'seg-AL211_rLS1168.tif',\n",
       " 'seg-AL211_rLS1169.tif',\n",
       " 'seg-AL211_rLS1175.tif',\n",
       " 'seg-AL211_rLS1176.tif',\n",
       " 'seg-AL211_rLS1179.tif',\n",
       " 'seg-AL211_rLS1181.tif',\n",
       " 'seg-AL211_rLS1185.tif',\n",
       " 'seg-AL211_rLS1188.tif']"
      ]
     },
     "execution_count": 65,
     "metadata": {},
     "output_type": "execute_result"
    }
   ],
   "source": [
    "real_images[1180:1199]"
   ]
  },
  {
   "cell_type": "code",
   "execution_count": null,
   "metadata": {},
   "outputs": [],
   "source": []
  },
  {
   "cell_type": "code",
   "execution_count": null,
   "metadata": {},
   "outputs": [],
   "source": []
  },
  {
   "cell_type": "code",
   "execution_count": null,
   "metadata": {},
   "outputs": [],
   "source": []
  }
 ],
 "metadata": {
  "kernelspec": {
   "display_name": "Python 3",
   "language": "python",
   "name": "python3"
  },
  "language_info": {
   "codemirror_mode": {
    "name": "ipython",
    "version": 3
   },
   "file_extension": ".py",
   "mimetype": "text/x-python",
   "name": "python",
   "nbconvert_exporter": "python",
   "pygments_lexer": "ipython3",
   "version": "3.7.3"
  }
 },
 "nbformat": 4,
 "nbformat_minor": 4
}
