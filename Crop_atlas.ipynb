{
 "cells": [
  {
   "cell_type": "markdown",
   "metadata": {},
   "source": [
    "## Crops atlas and saves as mhd file for image registration\n",
    "### Do not save any segmentation files in imageJ, imageJ some how mess up several ids with very high values!"
   ]
  },
  {
   "cell_type": "code",
   "execution_count": 24,
   "metadata": {},
   "outputs": [],
   "source": [
    "from allensdk.core.mouse_connectivity_cache import MouseConnectivityCache\n",
    "\n",
    "import os\n",
    "import re\n",
    "\n",
    "import numpy as np\n",
    "\n",
    "import SimpleITK as sitk\n",
    "\n",
    "import tkinter.filedialog as fdialog\n",
    "\n",
    "import Neuron_analysis as na\n",
    "from Neuron_analysis import *"
   ]
  },
  {
   "cell_type": "code",
   "execution_count": 5,
   "metadata": {},
   "outputs": [],
   "source": [
    "outdir = fdialog.askdirectory(title='Please select the output directory')"
   ]
  },
  {
   "cell_type": "code",
   "execution_count": 25,
   "metadata": {},
   "outputs": [],
   "source": [
    "# Get segmentation file from allenSDK\n",
    "\n",
    "mcc = MouseConnectivityCache(resolution=25)\n",
    "\n",
    "annot, annot_info = mcc.get_annotation_volume()\n"
   ]
  },
  {
   "cell_type": "code",
   "execution_count": 4,
   "metadata": {},
   "outputs": [],
   "source": [
    "def get_template_name(outdir):\n",
    "    '''Get corresponding template name for finding the coronal crop'''\n",
    "    files=os.listdir(outdir)\n",
    "    template_name=[i for i in files if re.search(\"template.+\\.mhd\",i)][0]\n",
    "    return template_name"
   ]
  },
  {
   "cell_type": "code",
   "execution_count": 11,
   "metadata": {},
   "outputs": [
    {
     "data": {
      "text/plain": [
       "(92, 443)"
      ]
     },
     "execution_count": 11,
     "metadata": {},
     "output_type": "execute_result"
    }
   ],
   "source": [
    "template_name= get_template_name(outdir)\n",
    "lead,trail= na.find_crop(template_name)\n",
    "# identify cropped section\n",
    "\n",
    "end= 528 -trail\n",
    "\n",
    "lead, end"
   ]
  },
  {
   "cell_type": "code",
   "execution_count": 26,
   "metadata": {},
   "outputs": [
    {
     "name": "stderr",
     "output_type": "stream",
     "text": [
      "C:\\Users\\liu\\AppData\\Local\\Continuum\\anaconda3\\lib\\site-packages\\napari\\_vispy\\vispy_camera.py:109: RuntimeWarning: divide by zero encountered in true_divide\n",
      "  zoom = np.min(canvas_size / scale)\n"
     ]
    },
    {
     "data": {
      "text/plain": [
       "<Labels layer 'atlas' at 0x27d82363ef0>"
      ]
     },
     "execution_count": 26,
     "metadata": {},
     "output_type": "execute_result"
    }
   ],
   "source": [
    "import napari\n",
    "viewer = napari.Viewer()\n",
    "viewer.add_labels(annot, name='atlas')"
   ]
  },
  {
   "cell_type": "code",
   "execution_count": 27,
   "metadata": {},
   "outputs": [],
   "source": [
    "def create_mask(x):\n",
    "    #create mask based on selected atlas index (an int)\n",
    "    mask=np.zeros_like(annot)\n",
    "    mask_idx= annot==x\n",
    "    mask[mask_idx]=1\n",
    "    return mask"
   ]
  },
  {
   "cell_type": "code",
   "execution_count": 28,
   "metadata": {},
   "outputs": [
    {
     "data": {
      "text/plain": [
       "<Labels layer '312782592' at 0x27d99a918d0>"
      ]
     },
     "execution_count": 28,
     "metadata": {},
     "output_type": "execute_result"
    }
   ],
   "source": [
    "img_id=312782592\n",
    "mask=create_mask(img_id)\n",
    "viewer.add_labels(mask, name=f'{img_id}')"
   ]
  },
  {
   "cell_type": "code",
   "execution_count": 38,
   "metadata": {},
   "outputs": [
    {
     "data": {
      "text/plain": [
       "[{'acronym': 'VISa6a',\n",
       "  'graph_id': 1,\n",
       "  'graph_order': 351,\n",
       "  'id': 312782566,\n",
       "  'name': 'Anterior area, layer 6a',\n",
       "  'structure_id_path': [997, 8, 567, 688, 695, 315, 22, 312782546, 312782566],\n",
       "  'structure_set_ids': [667481449, 184527634, 396673091, 691663206],\n",
       "  'rgb_triplet': [0, 159, 172]}]"
      ]
     },
     "execution_count": 38,
     "metadata": {},
     "output_type": "execute_result"
    }
   ],
   "source": [
    "#structure_tree.get_structures_by_id([312782566])"
   ]
  },
  {
   "cell_type": "code",
   "execution_count": 20,
   "metadata": {},
   "outputs": [],
   "source": [
    "crop_annot =annot [lead:end,:,:]\n",
    "image = sitk.GetImageFromArray(crop_annot)"
   ]
  },
  {
   "cell_type": "code",
   "execution_count": 21,
   "metadata": {},
   "outputs": [],
   "source": [
    "outputImageFileName= f'/atlas_{lead}-{end}.mhd'\n",
    "\n",
    "writer = sitk.ImageFileWriter()\n",
    "writer.SetFileName(outdir + outputImageFileName)\n",
    "writer.Execute(image)"
   ]
  },
  {
   "cell_type": "code",
   "execution_count": 23,
   "metadata": {},
   "outputs": [
    {
     "data": {
      "text/plain": [
       "'D:/2PT electroporation time/GF243atlas_92-443.mhd'"
      ]
     },
     "execution_count": 23,
     "metadata": {},
     "output_type": "execute_result"
    }
   ],
   "source": []
  },
  {
   "cell_type": "code",
   "execution_count": 46,
   "metadata": {},
   "outputs": [],
   "source": [
    "# reader = sitk.ImageFileReader()\n",
    "# reader.SetFileName(\"test_atlas.mhd\")\n",
    "# image = reader.Execute();"
   ]
  },
  {
   "cell_type": "code",
   "execution_count": 50,
   "metadata": {},
   "outputs": [
    {
     "name": "stderr",
     "output_type": "stream",
     "text": [
      "C:\\Users\\liu\\AppData\\Local\\Continuum\\anaconda3\\lib\\site-packages\\napari\\_vispy\\vispy_camera.py:109: RuntimeWarning: divide by zero encountered in true_divide\n",
      "  zoom = np.min(canvas_size / scale)\n"
     ]
    },
    {
     "data": {
      "text/plain": [
       "<Labels layer 'atlas' at 0x132ba147b38>"
      ]
     },
     "execution_count": 50,
     "metadata": {},
     "output_type": "execute_result"
    }
   ],
   "source": []
  },
  {
   "cell_type": "code",
   "execution_count": 14,
   "metadata": {},
   "outputs": [
    {
     "data": {
      "text/plain": [
       "(528, 320, 456)"
      ]
     },
     "execution_count": 14,
     "metadata": {},
     "output_type": "execute_result"
    }
   ],
   "source": []
  },
  {
   "cell_type": "code",
   "execution_count": 19,
   "metadata": {},
   "outputs": [
    {
     "data": {
      "text/plain": [
       "(351, 320, 456)"
      ]
     },
     "execution_count": 19,
     "metadata": {},
     "output_type": "execute_result"
    }
   ],
   "source": []
  },
  {
   "cell_type": "code",
   "execution_count": 30,
   "metadata": {},
   "outputs": [],
   "source": [
    "atlas_name='D:/2PT electroporation time/GF243/ara2sample_atlas/result.mhd'\n",
    "atlas2= sitk.ReadImage(atlas_name) \n",
    "atlas2= sitk.GetArrayFromImage(atlas2)"
   ]
  },
  {
   "cell_type": "code",
   "execution_count": 32,
   "metadata": {},
   "outputs": [
    {
     "name": "stderr",
     "output_type": "stream",
     "text": [
      "C:\\Users\\liu\\AppData\\Local\\Continuum\\anaconda3\\lib\\site-packages\\napari\\layers\\labels\\labels.py:839: RuntimeWarning: overflow encountered in long_scalars\n",
      "  if max_label_val * nbytes_low_discrepancy > max_nbytes:\n",
      "C:\\Users\\liu\\AppData\\Local\\Continuum\\anaconda3\\lib\\site-packages\\napari\\layers\\labels\\labels.py:839: RuntimeWarning: overflow encountered in long_scalars\n",
      "  if max_label_val * nbytes_low_discrepancy > max_nbytes:\n"
     ]
    },
    {
     "data": {
      "text/plain": [
       "<Labels layer 'atlas2' at 0x27d9545c4a8>"
      ]
     },
     "execution_count": 32,
     "metadata": {},
     "output_type": "execute_result"
    }
   ],
   "source": [
    "viewer.add_labels(atlas2, name='atlas2')"
   ]
  },
  {
   "cell_type": "code",
   "execution_count": 1,
   "metadata": {},
   "outputs": [],
   "source": [
    "from allensdk.core.reference_space_cache import ReferenceSpaceCache\n",
    "\n",
    "reference_space_key = 'annotation/ccf_2017'\n",
    "resolution = 25\n",
    "rspc = ReferenceSpaceCache(resolution, reference_space_key, manifest='manifest.json')\n",
    "# ID 1 is the adult mouse structure graph\n",
    "tree = rspc.get_structure_tree(structure_graph_id=1) "
   ]
  },
  {
   "cell_type": "code",
   "execution_count": 4,
   "metadata": {},
   "outputs": [
    {
     "name": "stderr",
     "output_type": "stream",
     "text": [
      "2021-09-23 17:54:29,962 allensdk.api.api.retrieve_file_over_http INFO     Downloading URL: http://download.alleninstitute.org/informatics-archive/current-release/mouse_ccf/annotation/ccf_2017/annotation_25.nrrd\n"
     ]
    }
   ],
   "source": [
    "rsp = rspc.get_reference_space()\n",
    "rsp.write_itksnap_labels('ccf_2017_itksnap.nrrd', 'ccf_2017_itksnap_labels.txt')"
   ]
  },
  {
   "cell_type": "code",
   "execution_count": 5,
   "metadata": {},
   "outputs": [
    {
     "data": {
      "text/plain": [
       "\u001b[1;31mSignature:\u001b[0m \u001b[0mrsp\u001b[0m\u001b[1;33m.\u001b[0m\u001b[0mwrite_itksnap_labels\u001b[0m\u001b[1;33m(\u001b[0m\u001b[0mannotation_path\u001b[0m\u001b[1;33m,\u001b[0m \u001b[0mlabel_path\u001b[0m\u001b[1;33m,\u001b[0m \u001b[1;33m**\u001b[0m\u001b[0mkwargs\u001b[0m\u001b[1;33m)\u001b[0m\u001b[1;33m\u001b[0m\u001b[1;33m\u001b[0m\u001b[0m\n",
       "\u001b[1;31mDocstring:\u001b[0m\n",
       "Generate a label file (nrrd) and a label_description file (csv) for use with ITKSnap\n",
       "\n",
       "Parameters\n",
       "----------\n",
       "annotation_path : str\n",
       "    write generated label file here\n",
       "label_path : str\n",
       "    write generated label_description file here\n",
       "**kwargs : \n",
       "    will be passed to self.export_itksnap_labels\n",
       "\u001b[1;31mFile:\u001b[0m      c:\\users\\liu\\appdata\\local\\continuum\\anaconda3\\lib\\site-packages\\allensdk\\core\\reference_space.py\n",
       "\u001b[1;31mType:\u001b[0m      method\n"
      ]
     },
     "metadata": {},
     "output_type": "display_data"
    }
   ],
   "source": [
    "rsp.write_itksnap_labels?"
   ]
  },
  {
   "cell_type": "code",
   "execution_count": null,
   "metadata": {},
   "outputs": [],
   "source": []
  }
 ],
 "metadata": {
  "kernelspec": {
   "display_name": "Python 3",
   "language": "python",
   "name": "python3"
  },
  "language_info": {
   "codemirror_mode": {
    "name": "ipython",
    "version": 3
   },
   "file_extension": ".py",
   "mimetype": "text/x-python",
   "name": "python",
   "nbconvert_exporter": "python",
   "pygments_lexer": "ipython3",
   "version": "3.7.3"
  }
 },
 "nbformat": 4,
 "nbformat_minor": 4
}
