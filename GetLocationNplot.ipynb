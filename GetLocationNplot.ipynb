{
 "cells": [
  {
   "cell_type": "markdown",
   "metadata": {},
   "source": [
    "### Identify locations of downsampled points and make plot(bar and 3d)\n",
    "\n",
    "Input: \n",
    "Output directory that also contains the corresponding points, endings, and atlas\n",
    "\n",
    "Origional converted and resampled points\n",
    "\n",
    "\n",
    "Outputs:\n",
    "2 excel file (dendrite and axon) for regions with total points count and ending points count\n",
    "\n",
    "1 html bar plot\n",
    "\n",
    "1 html 3D scatter plot"
   ]
  },
  {
   "cell_type": "code",
   "execution_count": 318,
   "metadata": {},
   "outputs": [
    {
     "data": {
      "text/html": [
       "        <script type=\"text/javascript\">\n",
       "        window.PlotlyConfig = {MathJaxConfig: 'local'};\n",
       "        if (window.MathJax) {MathJax.Hub.Config({SVG: {font: \"STIX-Web\"}});}\n",
       "        if (typeof require !== 'undefined') {\n",
       "        require.undef(\"plotly\");\n",
       "        requirejs.config({\n",
       "            paths: {\n",
       "                'plotly': ['https://cdn.plot.ly/plotly-latest.min']\n",
       "            }\n",
       "        });\n",
       "        require(['plotly'], function(Plotly) {\n",
       "            window._Plotly = Plotly;\n",
       "        });\n",
       "        }\n",
       "        </script>\n",
       "        "
      ]
     },
     "metadata": {},
     "output_type": "display_data"
    }
   ],
   "source": [
    "import os\n",
    "\n",
    "import pandas as pd\n",
    "\n",
    "import numpy as np\n",
    "\n",
    "import SimpleITK as sitk\n",
    "\n",
    "import warnings\n",
    "\n",
    "import tkinter.filedialog as fdialog\n",
    "\n",
    "import skimage\n",
    "from skimage import io\n",
    "\n",
    "import random\n",
    "\n",
    "import matplotlib.pyplot as plt\n",
    "import seaborn as sns\n",
    "\n",
    "import re\n",
    "\n",
    "import plotly\n",
    "import plotly.offline\n",
    "import plotly.graph_objects as go\n",
    "from plotly.subplots import make_subplots\n",
    "\n",
    "from plotly.offline import download_plotlyjs, init_notebook_mode, plot, iplot\n",
    "init_notebook_mode(connected=True)"
   ]
  },
  {
   "cell_type": "code",
   "execution_count": 263,
   "metadata": {},
   "outputs": [],
   "source": [
    "outdir = fdialog.askdirectory(title='Please select the output directory')\n",
    "m=re.search('\\D{2}[0-9]{3}', outdir)\n",
    "name=m[0]"
   ]
  },
  {
   "cell_type": "code",
   "execution_count": 265,
   "metadata": {},
   "outputs": [],
   "source": [
    "atlas_name=outdir+'/ara2sample_atlas/result.mhd'\n",
    "atlas= sitk.ReadImage(atlas_name)\n",
    "atlas_labels=pd.read_csv('D:\\Allenbrainatlas\\ARA_25_micron_mhd_ccf2017\\labels.csv')"
   ]
  },
  {
   "cell_type": "code",
   "execution_count": 266,
   "metadata": {},
   "outputs": [],
   "source": [
    "files= os.listdir(outdir)\n",
    "points=[i for i in files if 'Stepsize' in i]\n",
    "dendrite= [i for i in points if name+'D' in i]\n",
    "axon= [i for i in points if name+'D' not in i]"
   ]
  },
  {
   "cell_type": "code",
   "execution_count": 267,
   "metadata": {},
   "outputs": [],
   "source": [
    "endings= [i for i in files if '_endings' in i]\n",
    "dendrite_ending= [i for i in endings if name+'D' in i]\n",
    "axon_ending= [i for i in endings if name+'D' not in i]"
   ]
  },
  {
   "cell_type": "code",
   "execution_count": 287,
   "metadata": {},
   "outputs": [],
   "source": [
    "def make_pd(all_points, ending_indices):\n",
    "    ''' \n",
    "    Reads in all points as well as ending indices and formulates a pd structure.\n",
    "    Input: all downsampled points (in transformix compatible format), corresponding indicies of endings \n",
    "    ouputs: a pandas dataframe with anatomical regions and their corresponding total points count and ending points count\n",
    "    \n",
    "    '''\n",
    "    ending_indices = np.genfromtxt(ending_indices, delimiter=',', dtype='int')\n",
    "    \n",
    "    output=open(all_points,'r')\n",
    "    outputpoint= output.readlines()\n",
    "    all_points=[]\n",
    "    for lines in outputpoint[2:]:\n",
    "        this_line= lines.split (' ')\n",
    "        mypoints= [int(stuff) for stuff in this_line]\n",
    "        all_points.append(mypoints)\n",
    "        \n",
    "    points_in_atlas=[int(atlas[i]) for i in all_points ]\n",
    "    #find an ID for all points\n",
    "    endings_in_atlas=[points_in_atlas[i] for i in ending_indices]\n",
    "    # find the IDs associated with endings\n",
    "\n",
    "    unique_id=set(points_in_atlas)\n",
    "\n",
    "    our_regions=atlas_labels.loc[atlas_labels['id'].isin (unique_id)]\n",
    "\n",
    "    id_withcounts=[]\n",
    "    for i in unique_id:\n",
    "        id_withcounts.append([i, points_in_atlas.count(i), endings_in_atlas.count(i)])\n",
    "\n",
    "    new_df= pd.DataFrame(id_withcounts, columns=['id', 'Total_counts','Endings_counts'])\n",
    "    our_regionWcounts=pd.merge(atlas_labels, new_df)\n",
    "    return our_regionWcounts.sort_values(by=['Total_counts']), points_in_atlas"
   ]
  },
  {
   "cell_type": "code",
   "execution_count": 282,
   "metadata": {
    "jupyter": {
     "source_hidden": true
    }
   },
   "outputs": [],
   "source": [
    "def plot_hist(pd_axon, pd_dendrite, outdir, mousename):\n",
    "    ''' \n",
    "    Plot horizontal histogram of all points and ending points of axons and dendrites\n",
    "    Input: pandas dataframe of axon, pandas dataframe of dendrite, output directory, and mousename\n",
    "    '''\n",
    "    y=pd_axon['acronym']\n",
    "    fig = make_subplots(\n",
    "        shared_yaxes=True,\n",
    "        rows=2, cols=2,\n",
    "        row_heights=[0.9, 0.1],\n",
    "        column_titles=['Length (um)','# of endings'], \n",
    "        row_titles=['Axons', 'Dendrites'],\n",
    "    )\n",
    "    fig.add_trace(\n",
    "        go.Bar(\n",
    "        y=y, x=pd_axon['Total_counts'], \n",
    "        marker_color='olive',\n",
    "        name='',\n",
    "        text=pd_axon['name'],\n",
    "        hovertemplate=\n",
    "            '<i>%{x}</i>, '+\n",
    "            '<b>%{text}</b>',\n",
    "        orientation='h'),\n",
    "        row=1,col=1\n",
    "    )\n",
    "    fig.add_trace(\n",
    "        go.Bar(\n",
    "        y=y, x=pd_axon['Endings_counts'],\n",
    "        marker_color='seagreen',\n",
    "        name='',\n",
    "        text=pd_axon['name'],\n",
    "        hovertemplate=\n",
    "        '<i>%{x}</i>, '+\n",
    "        '<b>%{text}</b>',\n",
    "        orientation='h'),\n",
    "        row=1,col=2\n",
    "    )\n",
    "\n",
    "    z=pd_dendrite['acronym']\n",
    "    fig.add_trace(\n",
    "        go.Bar(\n",
    "        y=z, x=pd_dendrite['Total_counts'], \n",
    "        marker_color='blue',\n",
    "        name='',\n",
    "        text=pd_dendrite['name'],\n",
    "        hovertemplate=\n",
    "        '<i>%{x}</i>, '+\n",
    "        '<b>%{text}</b>',\n",
    "        orientation='h'),\n",
    "        row=2,col=1\n",
    "    )\n",
    "    fig.add_trace(\n",
    "        go.Bar(\n",
    "        y=z, x=pd_dendrite['Endings_counts'],\n",
    "        marker_color='lightblue',\n",
    "        name='',\n",
    "        text=pd_dendrite['name'],\n",
    "        hovertemplate=\n",
    "        '<i>%{x}</i>, '+\n",
    "        '<b>%{text}</b>',\n",
    "        orientation='h'),\n",
    "        row=2,col=2\n",
    "    )\n",
    "    \n",
    "    fig.update_layout(yaxis={'categoryorder':'trace'}, \n",
    "                      title='Annotations in respective brain regions',\n",
    "                      height=800\n",
    "                     )\n",
    "    fig.show()\n",
    "    plotly.offline.plot(fig,filename=outdir+'/'+ mousename+'BarPlot.html')"
   ]
  },
  {
   "cell_type": "code",
   "execution_count": 288,
   "metadata": {},
   "outputs": [],
   "source": [
    "axons, axonal_points_in_atlas=make_pd(outdir+'/'+ axon[0], outdir+'/'+ axon_ending[0])\n",
    "axons.to_excel(outdir+'/axons_RegionCounts.xlsx')"
   ]
  },
  {
   "cell_type": "code",
   "execution_count": 289,
   "metadata": {},
   "outputs": [],
   "source": [
    "dendrites, dendritic_points_in_atlas=make_pd(outdir+'/'+ dendrite[0], outdir+'/'+ dendrite_ending[0])\n",
    "dendrites.to_excel(outdir+'/dendrites_RegionCounts.xlsx')"
   ]
  },
  {
   "cell_type": "code",
   "execution_count": 280,
   "metadata": {
    "collapsed": true,
    "jupyter": {
     "outputs_hidden": true
    }
   },
   "outputs": [
    {
     "data": {
      "application/vnd.plotly.v1+json": {
       "config": {
        "plotlyServerURL": "https://plot.ly"
       },
       "data": [
        {
         "hovertemplate": "<i>%{x}</i>, <b>%{text}</b>",
         "marker": {
          "color": "olive"
         },
         "name": "",
         "orientation": "h",
         "text": [
          "Secondary motor area, layer 6b",
          "Primary somatosensory area, trunk, layer 4",
          "commissural branch of stria terminalis",
          "Primary somatosensory area, trunk, layer 2/3",
          "Primary motor area, Layer 6b",
          "Primary motor area, Layer 6a",
          "Primary somatosensory area, upper limb, layer 1",
          "Primary somatosensory area, barrel field, layer 6a",
          "cingulum bundle",
          "Primary somatosensory area, trunk, layer 1",
          "Primary somatosensory area, trunk, layer 5",
          "Primary somatosensory area, trunk, layer 6a",
          "Primary somatosensory area, upper limb, layer 5",
          "Primary somatosensory area, lower limb, layer 6a",
          "Primary somatosensory area, barrel field, layer 5",
          "Primary somatosensory area, upper limb, layer 6a",
          "Primary somatosensory area, upper limb, layer 2/3",
          "Secondary motor area, layer 6a",
          "Primary somatosensory area, upper limb, layer 4",
          "Primary somatosensory area, barrel field, layer 4",
          "Primary somatosensory area, barrel field, layer 2/3",
          "Primary somatosensory area, barrel field, layer 1"
         ],
         "type": "bar",
         "x": [
          18,
          27,
          78,
          211,
          423,
          479,
          812,
          839,
          896,
          1179,
          1283,
          1291,
          1443,
          1497,
          1587,
          1752,
          2047,
          2557,
          5121,
          9168,
          10166,
          21379
         ],
         "xaxis": "x",
         "y": [
          "MOs6b",
          "SSp-tr4",
          "stc",
          "SSp-tr2/3",
          "MOp6b",
          "MOp6a",
          "SSp-ul1",
          "SSp-bfd6a",
          "cing",
          "SSp-tr1",
          "SSp-tr5",
          "SSp-tr6a",
          "SSp-ul5",
          "SSp-ll6a",
          "SSp-bfd5",
          "SSp-ul6a",
          "SSp-ul2/3",
          "MOs6a",
          "SSp-ul4",
          "SSp-bfd4",
          "SSp-bfd2/3",
          "SSp-bfd1"
         ],
         "yaxis": "y"
        },
        {
         "hovertemplate": "<i>%{x}</i>, <b>%{text}</b>",
         "marker": {
          "color": "seagreen"
         },
         "name": "",
         "orientation": "h",
         "text": [
          "Secondary motor area, layer 6b",
          "Primary somatosensory area, trunk, layer 4",
          "commissural branch of stria terminalis",
          "Primary somatosensory area, trunk, layer 2/3",
          "Primary motor area, Layer 6b",
          "Primary motor area, Layer 6a",
          "Primary somatosensory area, upper limb, layer 1",
          "Primary somatosensory area, barrel field, layer 6a",
          "cingulum bundle",
          "Primary somatosensory area, trunk, layer 1",
          "Primary somatosensory area, trunk, layer 5",
          "Primary somatosensory area, trunk, layer 6a",
          "Primary somatosensory area, upper limb, layer 5",
          "Primary somatosensory area, lower limb, layer 6a",
          "Primary somatosensory area, barrel field, layer 5",
          "Primary somatosensory area, upper limb, layer 6a",
          "Primary somatosensory area, upper limb, layer 2/3",
          "Secondary motor area, layer 6a",
          "Primary somatosensory area, upper limb, layer 4",
          "Primary somatosensory area, barrel field, layer 4",
          "Primary somatosensory area, barrel field, layer 2/3",
          "Primary somatosensory area, barrel field, layer 1"
         ],
         "type": "bar",
         "x": [
          0,
          0,
          1,
          2,
          0,
          1,
          5,
          0,
          3,
          2,
          2,
          3,
          4,
          0,
          5,
          3,
          16,
          9,
          34,
          61,
          61,
          159
         ],
         "xaxis": "x2",
         "y": [
          "MOs6b",
          "SSp-tr4",
          "stc",
          "SSp-tr2/3",
          "MOp6b",
          "MOp6a",
          "SSp-ul1",
          "SSp-bfd6a",
          "cing",
          "SSp-tr1",
          "SSp-tr5",
          "SSp-tr6a",
          "SSp-ul5",
          "SSp-ll6a",
          "SSp-bfd5",
          "SSp-ul6a",
          "SSp-ul2/3",
          "MOs6a",
          "SSp-ul4",
          "SSp-bfd4",
          "SSp-bfd2/3",
          "SSp-bfd1"
         ],
         "yaxis": "y2"
        },
        {
         "hovertemplate": "<i>%{x}</i>, <b>%{text}</b>",
         "marker": {
          "color": "blue"
         },
         "name": "",
         "orientation": "h",
         "text": [
          "Primary somatosensory area, barrel field, layer 2/3",
          "Primary somatosensory area, barrel field, layer 1"
         ],
         "type": "bar",
         "x": [
          1325,
          6338
         ],
         "xaxis": "x3",
         "y": [
          "SSp-bfd2/3",
          "SSp-bfd1"
         ],
         "yaxis": "y3"
        },
        {
         "hovertemplate": "<i>%{x}</i>, <b>%{text}</b>",
         "marker": {
          "color": "lightblue"
         },
         "name": "",
         "orientation": "h",
         "text": [
          "Primary somatosensory area, barrel field, layer 2/3",
          "Primary somatosensory area, barrel field, layer 1"
         ],
         "type": "bar",
         "x": [
          27,
          100
         ],
         "xaxis": "x4",
         "y": [
          "SSp-bfd2/3",
          "SSp-bfd1"
         ],
         "yaxis": "y4"
        }
       ],
       "layout": {
        "annotations": [
         {
          "font": {
           "size": 16
          },
          "showarrow": false,
          "text": "Length (um)",
          "x": 0.22,
          "xanchor": "center",
          "xref": "paper",
          "y": 1,
          "yanchor": "bottom",
          "yref": "paper"
         },
         {
          "font": {
           "size": 16
          },
          "showarrow": false,
          "text": "# of endings",
          "x": 0.76,
          "xanchor": "center",
          "xref": "paper",
          "y": 1,
          "yanchor": "bottom",
          "yref": "paper"
         },
         {
          "font": {
           "size": 16
          },
          "showarrow": false,
          "text": "Axons",
          "textangle": 90,
          "x": 0.98,
          "xanchor": "left",
          "xref": "paper",
          "y": 0.6174999999999999,
          "yanchor": "middle",
          "yref": "paper"
         },
         {
          "font": {
           "size": 16
          },
          "showarrow": false,
          "text": "Dendrites",
          "textangle": 90,
          "x": 0.98,
          "xanchor": "left",
          "xref": "paper",
          "y": 0.0425,
          "yanchor": "middle",
          "yref": "paper"
         }
        ],
        "autosize": true,
        "template": {
         "data": {
          "bar": [
           {
            "error_x": {
             "color": "#2a3f5f"
            },
            "error_y": {
             "color": "#2a3f5f"
            },
            "marker": {
             "line": {
              "color": "#E5ECF6",
              "width": 0.5
             }
            },
            "type": "bar"
           }
          ],
          "barpolar": [
           {
            "marker": {
             "line": {
              "color": "#E5ECF6",
              "width": 0.5
             }
            },
            "type": "barpolar"
           }
          ],
          "carpet": [
           {
            "aaxis": {
             "endlinecolor": "#2a3f5f",
             "gridcolor": "white",
             "linecolor": "white",
             "minorgridcolor": "white",
             "startlinecolor": "#2a3f5f"
            },
            "baxis": {
             "endlinecolor": "#2a3f5f",
             "gridcolor": "white",
             "linecolor": "white",
             "minorgridcolor": "white",
             "startlinecolor": "#2a3f5f"
            },
            "type": "carpet"
           }
          ],
          "choropleth": [
           {
            "colorbar": {
             "outlinewidth": 0,
             "ticks": ""
            },
            "type": "choropleth"
           }
          ],
          "contour": [
           {
            "colorbar": {
             "outlinewidth": 0,
             "ticks": ""
            },
            "colorscale": [
             [
              0,
              "#0d0887"
             ],
             [
              0.1111111111111111,
              "#46039f"
             ],
             [
              0.2222222222222222,
              "#7201a8"
             ],
             [
              0.3333333333333333,
              "#9c179e"
             ],
             [
              0.4444444444444444,
              "#bd3786"
             ],
             [
              0.5555555555555556,
              "#d8576b"
             ],
             [
              0.6666666666666666,
              "#ed7953"
             ],
             [
              0.7777777777777778,
              "#fb9f3a"
             ],
             [
              0.8888888888888888,
              "#fdca26"
             ],
             [
              1,
              "#f0f921"
             ]
            ],
            "type": "contour"
           }
          ],
          "contourcarpet": [
           {
            "colorbar": {
             "outlinewidth": 0,
             "ticks": ""
            },
            "type": "contourcarpet"
           }
          ],
          "heatmap": [
           {
            "colorbar": {
             "outlinewidth": 0,
             "ticks": ""
            },
            "colorscale": [
             [
              0,
              "#0d0887"
             ],
             [
              0.1111111111111111,
              "#46039f"
             ],
             [
              0.2222222222222222,
              "#7201a8"
             ],
             [
              0.3333333333333333,
              "#9c179e"
             ],
             [
              0.4444444444444444,
              "#bd3786"
             ],
             [
              0.5555555555555556,
              "#d8576b"
             ],
             [
              0.6666666666666666,
              "#ed7953"
             ],
             [
              0.7777777777777778,
              "#fb9f3a"
             ],
             [
              0.8888888888888888,
              "#fdca26"
             ],
             [
              1,
              "#f0f921"
             ]
            ],
            "type": "heatmap"
           }
          ],
          "heatmapgl": [
           {
            "colorbar": {
             "outlinewidth": 0,
             "ticks": ""
            },
            "colorscale": [
             [
              0,
              "#0d0887"
             ],
             [
              0.1111111111111111,
              "#46039f"
             ],
             [
              0.2222222222222222,
              "#7201a8"
             ],
             [
              0.3333333333333333,
              "#9c179e"
             ],
             [
              0.4444444444444444,
              "#bd3786"
             ],
             [
              0.5555555555555556,
              "#d8576b"
             ],
             [
              0.6666666666666666,
              "#ed7953"
             ],
             [
              0.7777777777777778,
              "#fb9f3a"
             ],
             [
              0.8888888888888888,
              "#fdca26"
             ],
             [
              1,
              "#f0f921"
             ]
            ],
            "type": "heatmapgl"
           }
          ],
          "histogram": [
           {
            "marker": {
             "colorbar": {
              "outlinewidth": 0,
              "ticks": ""
             }
            },
            "type": "histogram"
           }
          ],
          "histogram2d": [
           {
            "colorbar": {
             "outlinewidth": 0,
             "ticks": ""
            },
            "colorscale": [
             [
              0,
              "#0d0887"
             ],
             [
              0.1111111111111111,
              "#46039f"
             ],
             [
              0.2222222222222222,
              "#7201a8"
             ],
             [
              0.3333333333333333,
              "#9c179e"
             ],
             [
              0.4444444444444444,
              "#bd3786"
             ],
             [
              0.5555555555555556,
              "#d8576b"
             ],
             [
              0.6666666666666666,
              "#ed7953"
             ],
             [
              0.7777777777777778,
              "#fb9f3a"
             ],
             [
              0.8888888888888888,
              "#fdca26"
             ],
             [
              1,
              "#f0f921"
             ]
            ],
            "type": "histogram2d"
           }
          ],
          "histogram2dcontour": [
           {
            "colorbar": {
             "outlinewidth": 0,
             "ticks": ""
            },
            "colorscale": [
             [
              0,
              "#0d0887"
             ],
             [
              0.1111111111111111,
              "#46039f"
             ],
             [
              0.2222222222222222,
              "#7201a8"
             ],
             [
              0.3333333333333333,
              "#9c179e"
             ],
             [
              0.4444444444444444,
              "#bd3786"
             ],
             [
              0.5555555555555556,
              "#d8576b"
             ],
             [
              0.6666666666666666,
              "#ed7953"
             ],
             [
              0.7777777777777778,
              "#fb9f3a"
             ],
             [
              0.8888888888888888,
              "#fdca26"
             ],
             [
              1,
              "#f0f921"
             ]
            ],
            "type": "histogram2dcontour"
           }
          ],
          "mesh3d": [
           {
            "colorbar": {
             "outlinewidth": 0,
             "ticks": ""
            },
            "type": "mesh3d"
           }
          ],
          "parcoords": [
           {
            "line": {
             "colorbar": {
              "outlinewidth": 0,
              "ticks": ""
             }
            },
            "type": "parcoords"
           }
          ],
          "pie": [
           {
            "automargin": true,
            "type": "pie"
           }
          ],
          "scatter": [
           {
            "marker": {
             "colorbar": {
              "outlinewidth": 0,
              "ticks": ""
             }
            },
            "type": "scatter"
           }
          ],
          "scatter3d": [
           {
            "line": {
             "colorbar": {
              "outlinewidth": 0,
              "ticks": ""
             }
            },
            "marker": {
             "colorbar": {
              "outlinewidth": 0,
              "ticks": ""
             }
            },
            "type": "scatter3d"
           }
          ],
          "scattercarpet": [
           {
            "marker": {
             "colorbar": {
              "outlinewidth": 0,
              "ticks": ""
             }
            },
            "type": "scattercarpet"
           }
          ],
          "scattergeo": [
           {
            "marker": {
             "colorbar": {
              "outlinewidth": 0,
              "ticks": ""
             }
            },
            "type": "scattergeo"
           }
          ],
          "scattergl": [
           {
            "marker": {
             "colorbar": {
              "outlinewidth": 0,
              "ticks": ""
             }
            },
            "type": "scattergl"
           }
          ],
          "scattermapbox": [
           {
            "marker": {
             "colorbar": {
              "outlinewidth": 0,
              "ticks": ""
             }
            },
            "type": "scattermapbox"
           }
          ],
          "scatterpolar": [
           {
            "marker": {
             "colorbar": {
              "outlinewidth": 0,
              "ticks": ""
             }
            },
            "type": "scatterpolar"
           }
          ],
          "scatterpolargl": [
           {
            "marker": {
             "colorbar": {
              "outlinewidth": 0,
              "ticks": ""
             }
            },
            "type": "scatterpolargl"
           }
          ],
          "scatterternary": [
           {
            "marker": {
             "colorbar": {
              "outlinewidth": 0,
              "ticks": ""
             }
            },
            "type": "scatterternary"
           }
          ],
          "surface": [
           {
            "colorbar": {
             "outlinewidth": 0,
             "ticks": ""
            },
            "colorscale": [
             [
              0,
              "#0d0887"
             ],
             [
              0.1111111111111111,
              "#46039f"
             ],
             [
              0.2222222222222222,
              "#7201a8"
             ],
             [
              0.3333333333333333,
              "#9c179e"
             ],
             [
              0.4444444444444444,
              "#bd3786"
             ],
             [
              0.5555555555555556,
              "#d8576b"
             ],
             [
              0.6666666666666666,
              "#ed7953"
             ],
             [
              0.7777777777777778,
              "#fb9f3a"
             ],
             [
              0.8888888888888888,
              "#fdca26"
             ],
             [
              1,
              "#f0f921"
             ]
            ],
            "type": "surface"
           }
          ],
          "table": [
           {
            "cells": {
             "fill": {
              "color": "#EBF0F8"
             },
             "line": {
              "color": "white"
             }
            },
            "header": {
             "fill": {
              "color": "#C8D4E3"
             },
             "line": {
              "color": "white"
             }
            },
            "type": "table"
           }
          ]
         },
         "layout": {
          "annotationdefaults": {
           "arrowcolor": "#2a3f5f",
           "arrowhead": 0,
           "arrowwidth": 1
          },
          "coloraxis": {
           "colorbar": {
            "outlinewidth": 0,
            "ticks": ""
           }
          },
          "colorscale": {
           "diverging": [
            [
             0,
             "#8e0152"
            ],
            [
             0.1,
             "#c51b7d"
            ],
            [
             0.2,
             "#de77ae"
            ],
            [
             0.3,
             "#f1b6da"
            ],
            [
             0.4,
             "#fde0ef"
            ],
            [
             0.5,
             "#f7f7f7"
            ],
            [
             0.6,
             "#e6f5d0"
            ],
            [
             0.7,
             "#b8e186"
            ],
            [
             0.8,
             "#7fbc41"
            ],
            [
             0.9,
             "#4d9221"
            ],
            [
             1,
             "#276419"
            ]
           ],
           "sequential": [
            [
             0,
             "#0d0887"
            ],
            [
             0.1111111111111111,
             "#46039f"
            ],
            [
             0.2222222222222222,
             "#7201a8"
            ],
            [
             0.3333333333333333,
             "#9c179e"
            ],
            [
             0.4444444444444444,
             "#bd3786"
            ],
            [
             0.5555555555555556,
             "#d8576b"
            ],
            [
             0.6666666666666666,
             "#ed7953"
            ],
            [
             0.7777777777777778,
             "#fb9f3a"
            ],
            [
             0.8888888888888888,
             "#fdca26"
            ],
            [
             1,
             "#f0f921"
            ]
           ],
           "sequentialminus": [
            [
             0,
             "#0d0887"
            ],
            [
             0.1111111111111111,
             "#46039f"
            ],
            [
             0.2222222222222222,
             "#7201a8"
            ],
            [
             0.3333333333333333,
             "#9c179e"
            ],
            [
             0.4444444444444444,
             "#bd3786"
            ],
            [
             0.5555555555555556,
             "#d8576b"
            ],
            [
             0.6666666666666666,
             "#ed7953"
            ],
            [
             0.7777777777777778,
             "#fb9f3a"
            ],
            [
             0.8888888888888888,
             "#fdca26"
            ],
            [
             1,
             "#f0f921"
            ]
           ]
          },
          "colorway": [
           "#636efa",
           "#EF553B",
           "#00cc96",
           "#ab63fa",
           "#FFA15A",
           "#19d3f3",
           "#FF6692",
           "#B6E880",
           "#FF97FF",
           "#FECB52"
          ],
          "font": {
           "color": "#2a3f5f"
          },
          "geo": {
           "bgcolor": "white",
           "lakecolor": "white",
           "landcolor": "#E5ECF6",
           "showlakes": true,
           "showland": true,
           "subunitcolor": "white"
          },
          "hoverlabel": {
           "align": "left"
          },
          "hovermode": "closest",
          "mapbox": {
           "style": "light"
          },
          "paper_bgcolor": "white",
          "plot_bgcolor": "#E5ECF6",
          "polar": {
           "angularaxis": {
            "gridcolor": "white",
            "linecolor": "white",
            "ticks": ""
           },
           "bgcolor": "#E5ECF6",
           "radialaxis": {
            "gridcolor": "white",
            "linecolor": "white",
            "ticks": ""
           }
          },
          "scene": {
           "xaxis": {
            "backgroundcolor": "#E5ECF6",
            "gridcolor": "white",
            "gridwidth": 2,
            "linecolor": "white",
            "showbackground": true,
            "ticks": "",
            "zerolinecolor": "white"
           },
           "yaxis": {
            "backgroundcolor": "#E5ECF6",
            "gridcolor": "white",
            "gridwidth": 2,
            "linecolor": "white",
            "showbackground": true,
            "ticks": "",
            "zerolinecolor": "white"
           },
           "zaxis": {
            "backgroundcolor": "#E5ECF6",
            "gridcolor": "white",
            "gridwidth": 2,
            "linecolor": "white",
            "showbackground": true,
            "ticks": "",
            "zerolinecolor": "white"
           }
          },
          "shapedefaults": {
           "line": {
            "color": "#2a3f5f"
           }
          },
          "ternary": {
           "aaxis": {
            "gridcolor": "white",
            "linecolor": "white",
            "ticks": ""
           },
           "baxis": {
            "gridcolor": "white",
            "linecolor": "white",
            "ticks": ""
           },
           "bgcolor": "#E5ECF6",
           "caxis": {
            "gridcolor": "white",
            "linecolor": "white",
            "ticks": ""
           }
          },
          "title": {
           "x": 0.05
          },
          "xaxis": {
           "automargin": true,
           "gridcolor": "white",
           "linecolor": "white",
           "ticks": "",
           "title": {
            "standoff": 15
           },
           "zerolinecolor": "white",
           "zerolinewidth": 2
          },
          "yaxis": {
           "automargin": true,
           "gridcolor": "white",
           "linecolor": "white",
           "ticks": "",
           "title": {
            "standoff": 15
           },
           "zerolinecolor": "white",
           "zerolinewidth": 2
          }
         }
        },
        "title": {
         "text": "Annotations in respective brain regions"
        },
        "xaxis": {
         "anchor": "y",
         "autorange": true,
         "domain": [
          0,
          0.44
         ],
         "range": [
          0,
          22504.21052631579
         ],
         "type": "linear"
        },
        "xaxis2": {
         "anchor": "y2",
         "autorange": true,
         "domain": [
          0.54,
          0.98
         ],
         "range": [
          0,
          167.3684210526316
         ],
         "type": "linear"
        },
        "xaxis3": {
         "anchor": "y3",
         "autorange": true,
         "domain": [
          0,
          0.44
         ],
         "range": [
          0,
          6671.578947368421
         ],
         "type": "linear"
        },
        "xaxis4": {
         "anchor": "y4",
         "autorange": true,
         "domain": [
          0.54,
          0.98
         ],
         "range": [
          0,
          105.26315789473685
         ],
         "type": "linear"
        },
        "yaxis": {
         "anchor": "x",
         "autorange": true,
         "categoryorder": "trace",
         "domain": [
          0.235,
          1
         ],
         "range": [
          -0.5,
          21.5
         ],
         "type": "category"
        },
        "yaxis2": {
         "anchor": "x2",
         "autorange": true,
         "domain": [
          0.235,
          1
         ],
         "matches": "y",
         "range": [
          -0.5,
          21.5
         ],
         "showticklabels": false,
         "type": "category"
        },
        "yaxis3": {
         "anchor": "x3",
         "autorange": true,
         "domain": [
          0,
          0.085
         ],
         "range": [
          -0.5,
          1.5
         ],
         "type": "category"
        },
        "yaxis4": {
         "anchor": "x4",
         "autorange": true,
         "domain": [
          0,
          0.085
         ],
         "matches": "y3",
         "range": [
          -0.5,
          1.5
         ],
         "showticklabels": false,
         "type": "category"
        }
       }
      },
      "image/png": "[encoded data removed]",
      "text/html": [
       "<div>\n",
       "        \n",
       "        \n",
       "            <div id=\"ac995bcf-87c8-4e40-b558-b22e5550469f\" class=\"plotly-graph-div\" style=\"height:800px; width:100%;\"></div>\n",
       "            <script type=\"text/javascript\">\n",
       "                require([\"plotly\"], function(Plotly) {\n",
       "                    window.PLOTLYENV=window.PLOTLYENV || {};\n",
       "                    \n",
       "                if (document.getElementById(\"ac995bcf-87c8-4e40-b558-b22e5550469f\")) {\n",
       "                    Plotly.newPlot(\n",
       "                        'ac995bcf-87c8-4e40-b558-b22e5550469f',\n",
       "                        [{\"hovertemplate\": \"<i>%{x}</i>, <b>%{text}</b>\", \"marker\": {\"color\": \"olive\"}, \"name\": \"\", \"orientation\": \"h\", \"text\": [\"Secondary motor area, layer 6b\", \"Primary somatosensory area, trunk, layer 4\", \"commissural branch of stria terminalis\", \"Primary somatosensory area, trunk, layer 2/3\", \"Primary motor area, Layer 6b\", \"Primary motor area, Layer 6a\", \"Primary somatosensory area, upper limb, layer 1\", \"Primary somatosensory area, barrel field, layer 6a\", \"cingulum bundle\", \"Primary somatosensory area, trunk, layer 1\", \"Primary somatosensory area, trunk, layer 5\", \"Primary somatosensory area, trunk, layer 6a\", \"Primary somatosensory area, upper limb, layer 5\", \"Primary somatosensory area, lower limb, layer 6a\", \"Primary somatosensory area, barrel field, layer 5\", \"Primary somatosensory area, upper limb, layer 6a\", \"Primary somatosensory area, upper limb, layer 2/3\", \"Secondary motor area, layer 6a\", \"Primary somatosensory area, upper limb, layer 4\", \"Primary somatosensory area, barrel field, layer 4\", \"Primary somatosensory area, barrel field, layer 2/3\", \"Primary somatosensory area, barrel field, layer 1\"], \"type\": \"bar\", \"x\": [18, 27, 78, 211, 423, 479, 812, 839, 896, 1179, 1283, 1291, 1443, 1497, 1587, 1752, 2047, 2557, 5121, 9168, 10166, 21379], \"xaxis\": \"x\", \"y\": [\"MOs6b\", \"SSp-tr4\", \"stc\", \"SSp-tr2/3\", \"MOp6b\", \"MOp6a\", \"SSp-ul1\", \"SSp-bfd6a\", \"cing\", \"SSp-tr1\", \"SSp-tr5\", \"SSp-tr6a\", \"SSp-ul5\", \"SSp-ll6a\", \"SSp-bfd5\", \"SSp-ul6a\", \"SSp-ul2/3\", \"MOs6a\", \"SSp-ul4\", \"SSp-bfd4\", \"SSp-bfd2/3\", \"SSp-bfd1\"], \"yaxis\": \"y\"}, {\"hovertemplate\": \"<i>%{x}</i>, <b>%{text}</b>\", \"marker\": {\"color\": \"seagreen\"}, \"name\": \"\", \"orientation\": \"h\", \"text\": [\"Secondary motor area, layer 6b\", \"Primary somatosensory area, trunk, layer 4\", \"commissural branch of stria terminalis\", \"Primary somatosensory area, trunk, layer 2/3\", \"Primary motor area, Layer 6b\", \"Primary motor area, Layer 6a\", \"Primary somatosensory area, upper limb, layer 1\", \"Primary somatosensory area, barrel field, layer 6a\", \"cingulum bundle\", \"Primary somatosensory area, trunk, layer 1\", \"Primary somatosensory area, trunk, layer 5\", \"Primary somatosensory area, trunk, layer 6a\", \"Primary somatosensory area, upper limb, layer 5\", \"Primary somatosensory area, lower limb, layer 6a\", \"Primary somatosensory area, barrel field, layer 5\", \"Primary somatosensory area, upper limb, layer 6a\", \"Primary somatosensory area, upper limb, layer 2/3\", \"Secondary motor area, layer 6a\", \"Primary somatosensory area, upper limb, layer 4\", \"Primary somatosensory area, barrel field, layer 4\", \"Primary somatosensory area, barrel field, layer 2/3\", \"Primary somatosensory area, barrel field, layer 1\"], \"type\": \"bar\", \"x\": [0, 0, 1, 2, 0, 1, 5, 0, 3, 2, 2, 3, 4, 0, 5, 3, 16, 9, 34, 61, 61, 159], \"xaxis\": \"x2\", \"y\": [\"MOs6b\", \"SSp-tr4\", \"stc\", \"SSp-tr2/3\", \"MOp6b\", \"MOp6a\", \"SSp-ul1\", \"SSp-bfd6a\", \"cing\", \"SSp-tr1\", \"SSp-tr5\", \"SSp-tr6a\", \"SSp-ul5\", \"SSp-ll6a\", \"SSp-bfd5\", \"SSp-ul6a\", \"SSp-ul2/3\", \"MOs6a\", \"SSp-ul4\", \"SSp-bfd4\", \"SSp-bfd2/3\", \"SSp-bfd1\"], \"yaxis\": \"y2\"}, {\"hovertemplate\": \"<i>%{x}</i>, <b>%{text}</b>\", \"marker\": {\"color\": \"blue\"}, \"name\": \"\", \"orientation\": \"h\", \"text\": [\"Primary somatosensory area, barrel field, layer 2/3\", \"Primary somatosensory area, barrel field, layer 1\"], \"type\": \"bar\", \"x\": [1325, 6338], \"xaxis\": \"x3\", \"y\": [\"SSp-bfd2/3\", \"SSp-bfd1\"], \"yaxis\": \"y3\"}, {\"hovertemplate\": \"<i>%{x}</i>, <b>%{text}</b>\", \"marker\": {\"color\": \"lightblue\"}, \"name\": \"\", \"orientation\": \"h\", \"text\": [\"Primary somatosensory area, barrel field, layer 2/3\", \"Primary somatosensory area, barrel field, layer 1\"], \"type\": \"bar\", \"x\": [27, 100], \"xaxis\": \"x4\", \"y\": [\"SSp-bfd2/3\", \"SSp-bfd1\"], \"yaxis\": \"y4\"}],\n",
       "                        {\"annotations\": [{\"font\": {\"size\": 16}, \"showarrow\": false, \"text\": \"Length (um)\", \"x\": 0.22, \"xanchor\": \"center\", \"xref\": \"paper\", \"y\": 1.0, \"yanchor\": \"bottom\", \"yref\": \"paper\"}, {\"font\": {\"size\": 16}, \"showarrow\": false, \"text\": \"# of endings\", \"x\": 0.76, \"xanchor\": \"center\", \"xref\": \"paper\", \"y\": 1.0, \"yanchor\": \"bottom\", \"yref\": \"paper\"}, {\"font\": {\"size\": 16}, \"showarrow\": false, \"text\": \"Axons\", \"textangle\": 90, \"x\": 0.98, \"xanchor\": \"left\", \"xref\": \"paper\", \"y\": 0.6174999999999999, \"yanchor\": \"middle\", \"yref\": \"paper\"}, {\"font\": {\"size\": 16}, \"showarrow\": false, \"text\": \"Dendrites\", \"textangle\": 90, \"x\": 0.98, \"xanchor\": \"left\", \"xref\": \"paper\", \"y\": 0.0425, \"yanchor\": \"middle\", \"yref\": \"paper\"}], \"height\": 800, \"template\": {\"data\": {\"bar\": [{\"error_x\": {\"color\": \"#2a3f5f\"}, \"error_y\": {\"color\": \"#2a3f5f\"}, \"marker\": {\"line\": {\"color\": \"#E5ECF6\", \"width\": 0.5}}, \"type\": \"bar\"}], \"barpolar\": [{\"marker\": {\"line\": {\"color\": \"#E5ECF6\", \"width\": 0.5}}, \"type\": \"barpolar\"}], \"carpet\": [{\"aaxis\": {\"endlinecolor\": \"#2a3f5f\", \"gridcolor\": \"white\", \"linecolor\": \"white\", \"minorgridcolor\": \"white\", \"startlinecolor\": \"#2a3f5f\"}, \"baxis\": {\"endlinecolor\": \"#2a3f5f\", \"gridcolor\": \"white\", \"linecolor\": \"white\", \"minorgridcolor\": \"white\", \"startlinecolor\": \"#2a3f5f\"}, \"type\": \"carpet\"}], \"choropleth\": [{\"colorbar\": {\"outlinewidth\": 0, \"ticks\": \"\"}, \"type\": \"choropleth\"}], \"contour\": [{\"colorbar\": {\"outlinewidth\": 0, \"ticks\": \"\"}, \"colorscale\": [[0.0, \"#0d0887\"], [0.1111111111111111, \"#46039f\"], [0.2222222222222222, \"#7201a8\"], [0.3333333333333333, \"#9c179e\"], [0.4444444444444444, \"#bd3786\"], [0.5555555555555556, \"#d8576b\"], [0.6666666666666666, \"#ed7953\"], [0.7777777777777778, \"#fb9f3a\"], [0.8888888888888888, \"#fdca26\"], [1.0, \"#f0f921\"]], \"type\": \"contour\"}], \"contourcarpet\": [{\"colorbar\": {\"outlinewidth\": 0, \"ticks\": \"\"}, \"type\": \"contourcarpet\"}], \"heatmap\": [{\"colorbar\": {\"outlinewidth\": 0, \"ticks\": \"\"}, \"colorscale\": [[0.0, \"#0d0887\"], [0.1111111111111111, \"#46039f\"], [0.2222222222222222, \"#7201a8\"], [0.3333333333333333, \"#9c179e\"], [0.4444444444444444, \"#bd3786\"], [0.5555555555555556, \"#d8576b\"], [0.6666666666666666, \"#ed7953\"], [0.7777777777777778, \"#fb9f3a\"], [0.8888888888888888, \"#fdca26\"], [1.0, \"#f0f921\"]], \"type\": \"heatmap\"}], \"heatmapgl\": [{\"colorbar\": {\"outlinewidth\": 0, \"ticks\": \"\"}, \"colorscale\": [[0.0, \"#0d0887\"], [0.1111111111111111, \"#46039f\"], [0.2222222222222222, \"#7201a8\"], [0.3333333333333333, \"#9c179e\"], [0.4444444444444444, \"#bd3786\"], [0.5555555555555556, \"#d8576b\"], [0.6666666666666666, \"#ed7953\"], [0.7777777777777778, \"#fb9f3a\"], [0.8888888888888888, \"#fdca26\"], [1.0, \"#f0f921\"]], \"type\": \"heatmapgl\"}], \"histogram\": [{\"marker\": {\"colorbar\": {\"outlinewidth\": 0, \"ticks\": \"\"}}, \"type\": \"histogram\"}], \"histogram2d\": [{\"colorbar\": {\"outlinewidth\": 0, \"ticks\": \"\"}, \"colorscale\": [[0.0, \"#0d0887\"], [0.1111111111111111, \"#46039f\"], [0.2222222222222222, \"#7201a8\"], [0.3333333333333333, \"#9c179e\"], [0.4444444444444444, \"#bd3786\"], [0.5555555555555556, \"#d8576b\"], [0.6666666666666666, \"#ed7953\"], [0.7777777777777778, \"#fb9f3a\"], [0.8888888888888888, \"#fdca26\"], [1.0, \"#f0f921\"]], \"type\": \"histogram2d\"}], \"histogram2dcontour\": [{\"colorbar\": {\"outlinewidth\": 0, \"ticks\": \"\"}, \"colorscale\": [[0.0, \"#0d0887\"], [0.1111111111111111, \"#46039f\"], [0.2222222222222222, \"#7201a8\"], [0.3333333333333333, \"#9c179e\"], [0.4444444444444444, \"#bd3786\"], [0.5555555555555556, \"#d8576b\"], [0.6666666666666666, \"#ed7953\"], [0.7777777777777778, \"#fb9f3a\"], [0.8888888888888888, \"#fdca26\"], [1.0, \"#f0f921\"]], \"type\": \"histogram2dcontour\"}], \"mesh3d\": [{\"colorbar\": {\"outlinewidth\": 0, \"ticks\": \"\"}, \"type\": \"mesh3d\"}], \"parcoords\": [{\"line\": {\"colorbar\": {\"outlinewidth\": 0, \"ticks\": \"\"}}, \"type\": \"parcoords\"}], \"pie\": [{\"automargin\": true, \"type\": \"pie\"}], \"scatter\": [{\"marker\": {\"colorbar\": {\"outlinewidth\": 0, \"ticks\": \"\"}}, \"type\": \"scatter\"}], \"scatter3d\": [{\"line\": {\"colorbar\": {\"outlinewidth\": 0, \"ticks\": \"\"}}, \"marker\": {\"colorbar\": {\"outlinewidth\": 0, \"ticks\": \"\"}}, \"type\": \"scatter3d\"}], \"scattercarpet\": [{\"marker\": {\"colorbar\": {\"outlinewidth\": 0, \"ticks\": \"\"}}, \"type\": \"scattercarpet\"}], \"scattergeo\": [{\"marker\": {\"colorbar\": {\"outlinewidth\": 0, \"ticks\": \"\"}}, \"type\": \"scattergeo\"}], \"scattergl\": [{\"marker\": {\"colorbar\": {\"outlinewidth\": 0, \"ticks\": \"\"}}, \"type\": \"scattergl\"}], \"scattermapbox\": [{\"marker\": {\"colorbar\": {\"outlinewidth\": 0, \"ticks\": \"\"}}, \"type\": \"scattermapbox\"}], \"scatterpolar\": [{\"marker\": {\"colorbar\": {\"outlinewidth\": 0, \"ticks\": \"\"}}, \"type\": \"scatterpolar\"}], \"scatterpolargl\": [{\"marker\": {\"colorbar\": {\"outlinewidth\": 0, \"ticks\": \"\"}}, \"type\": \"scatterpolargl\"}], \"scatterternary\": [{\"marker\": {\"colorbar\": {\"outlinewidth\": 0, \"ticks\": \"\"}}, \"type\": \"scatterternary\"}], \"surface\": [{\"colorbar\": {\"outlinewidth\": 0, \"ticks\": \"\"}, \"colorscale\": [[0.0, \"#0d0887\"], [0.1111111111111111, \"#46039f\"], [0.2222222222222222, \"#7201a8\"], [0.3333333333333333, \"#9c179e\"], [0.4444444444444444, \"#bd3786\"], [0.5555555555555556, \"#d8576b\"], [0.6666666666666666, \"#ed7953\"], [0.7777777777777778, \"#fb9f3a\"], [0.8888888888888888, \"#fdca26\"], [1.0, \"#f0f921\"]], \"type\": \"surface\"}], \"table\": [{\"cells\": {\"fill\": {\"color\": \"#EBF0F8\"}, \"line\": {\"color\": \"white\"}}, \"header\": {\"fill\": {\"color\": \"#C8D4E3\"}, \"line\": {\"color\": \"white\"}}, \"type\": \"table\"}]}, \"layout\": {\"annotationdefaults\": {\"arrowcolor\": \"#2a3f5f\", \"arrowhead\": 0, \"arrowwidth\": 1}, \"coloraxis\": {\"colorbar\": {\"outlinewidth\": 0, \"ticks\": \"\"}}, \"colorscale\": {\"diverging\": [[0, \"#8e0152\"], [0.1, \"#c51b7d\"], [0.2, \"#de77ae\"], [0.3, \"#f1b6da\"], [0.4, \"#fde0ef\"], [0.5, \"#f7f7f7\"], [0.6, \"#e6f5d0\"], [0.7, \"#b8e186\"], [0.8, \"#7fbc41\"], [0.9, \"#4d9221\"], [1, \"#276419\"]], \"sequential\": [[0.0, \"#0d0887\"], [0.1111111111111111, \"#46039f\"], [0.2222222222222222, \"#7201a8\"], [0.3333333333333333, \"#9c179e\"], [0.4444444444444444, \"#bd3786\"], [0.5555555555555556, \"#d8576b\"], [0.6666666666666666, \"#ed7953\"], [0.7777777777777778, \"#fb9f3a\"], [0.8888888888888888, \"#fdca26\"], [1.0, \"#f0f921\"]], \"sequentialminus\": [[0.0, \"#0d0887\"], [0.1111111111111111, \"#46039f\"], [0.2222222222222222, \"#7201a8\"], [0.3333333333333333, \"#9c179e\"], [0.4444444444444444, \"#bd3786\"], [0.5555555555555556, \"#d8576b\"], [0.6666666666666666, \"#ed7953\"], [0.7777777777777778, \"#fb9f3a\"], [0.8888888888888888, \"#fdca26\"], [1.0, \"#f0f921\"]]}, \"colorway\": [\"#636efa\", \"#EF553B\", \"#00cc96\", \"#ab63fa\", \"#FFA15A\", \"#19d3f3\", \"#FF6692\", \"#B6E880\", \"#FF97FF\", \"#FECB52\"], \"font\": {\"color\": \"#2a3f5f\"}, \"geo\": {\"bgcolor\": \"white\", \"lakecolor\": \"white\", \"landcolor\": \"#E5ECF6\", \"showlakes\": true, \"showland\": true, \"subunitcolor\": \"white\"}, \"hoverlabel\": {\"align\": \"left\"}, \"hovermode\": \"closest\", \"mapbox\": {\"style\": \"light\"}, \"paper_bgcolor\": \"white\", \"plot_bgcolor\": \"#E5ECF6\", \"polar\": {\"angularaxis\": {\"gridcolor\": \"white\", \"linecolor\": \"white\", \"ticks\": \"\"}, \"bgcolor\": \"#E5ECF6\", \"radialaxis\": {\"gridcolor\": \"white\", \"linecolor\": \"white\", \"ticks\": \"\"}}, \"scene\": {\"xaxis\": {\"backgroundcolor\": \"#E5ECF6\", \"gridcolor\": \"white\", \"gridwidth\": 2, \"linecolor\": \"white\", \"showbackground\": true, \"ticks\": \"\", \"zerolinecolor\": \"white\"}, \"yaxis\": {\"backgroundcolor\": \"#E5ECF6\", \"gridcolor\": \"white\", \"gridwidth\": 2, \"linecolor\": \"white\", \"showbackground\": true, \"ticks\": \"\", \"zerolinecolor\": \"white\"}, \"zaxis\": {\"backgroundcolor\": \"#E5ECF6\", \"gridcolor\": \"white\", \"gridwidth\": 2, \"linecolor\": \"white\", \"showbackground\": true, \"ticks\": \"\", \"zerolinecolor\": \"white\"}}, \"shapedefaults\": {\"line\": {\"color\": \"#2a3f5f\"}}, \"ternary\": {\"aaxis\": {\"gridcolor\": \"white\", \"linecolor\": \"white\", \"ticks\": \"\"}, \"baxis\": {\"gridcolor\": \"white\", \"linecolor\": \"white\", \"ticks\": \"\"}, \"bgcolor\": \"#E5ECF6\", \"caxis\": {\"gridcolor\": \"white\", \"linecolor\": \"white\", \"ticks\": \"\"}}, \"title\": {\"x\": 0.05}, \"xaxis\": {\"automargin\": true, \"gridcolor\": \"white\", \"linecolor\": \"white\", \"ticks\": \"\", \"title\": {\"standoff\": 15}, \"zerolinecolor\": \"white\", \"zerolinewidth\": 2}, \"yaxis\": {\"automargin\": true, \"gridcolor\": \"white\", \"linecolor\": \"white\", \"ticks\": \"\", \"title\": {\"standoff\": 15}, \"zerolinecolor\": \"white\", \"zerolinewidth\": 2}}}, \"title\": {\"text\": \"Annotations in respective brain regions\"}, \"xaxis\": {\"anchor\": \"y\", \"domain\": [0.0, 0.44]}, \"xaxis2\": {\"anchor\": \"y2\", \"domain\": [0.54, 0.98]}, \"xaxis3\": {\"anchor\": \"y3\", \"domain\": [0.0, 0.44]}, \"xaxis4\": {\"anchor\": \"y4\", \"domain\": [0.54, 0.98]}, \"yaxis\": {\"anchor\": \"x\", \"categoryorder\": \"trace\", \"domain\": [0.235, 1.0]}, \"yaxis2\": {\"anchor\": \"x2\", \"domain\": [0.235, 1.0], \"matches\": \"y\", \"showticklabels\": false}, \"yaxis3\": {\"anchor\": \"x3\", \"domain\": [0.0, 0.085]}, \"yaxis4\": {\"anchor\": \"x4\", \"domain\": [0.0, 0.085], \"matches\": \"y3\", \"showticklabels\": false}},\n",
       "                        {\"responsive\": true}\n",
       "                    ).then(function(){\n",
       "                            \n",
       "var gd = document.getElementById('ac995bcf-87c8-4e40-b558-b22e5550469f');\n",
       "var x = new MutationObserver(function (mutations, observer) {{\n",
       "        var display = window.getComputedStyle(gd).display;\n",
       "        if (!display || display === 'none') {{\n",
       "            console.log([gd, 'removed!']);\n",
       "            Plotly.purge(gd);\n",
       "            observer.disconnect();\n",
       "        }}\n",
       "}});\n",
       "\n",
       "// Listen for the removal of the full notebook cells\n",
       "var notebookContainer = gd.closest('#notebook-container');\n",
       "if (notebookContainer) {{\n",
       "    x.observe(notebookContainer, {childList: true});\n",
       "}}\n",
       "\n",
       "// Listen for the clearing of the current output cell\n",
       "var outputEl = gd.closest('.output');\n",
       "if (outputEl) {{\n",
       "    x.observe(outputEl, {childList: true});\n",
       "}}\n",
       "\n",
       "                        })\n",
       "                };\n",
       "                });\n",
       "            </script>\n",
       "        </div>"
      ]
     },
     "metadata": {},
     "output_type": "display_data"
    }
   ],
   "source": [
    "plot_hist(axons, dendrites, outdir, name)"
   ]
  },
  {
   "cell_type": "markdown",
   "metadata": {},
   "source": [
    "### now plots the full resolution points in 3D scatter"
   ]
  },
  {
   "cell_type": "code",
   "execution_count": null,
   "metadata": {},
   "outputs": [],
   "source": [
    "ori_points_name=fdialog.askopenfile( title='Select the converted&resampled origional points').name"
   ]
  },
  {
   "cell_type": "code",
   "execution_count": 305,
   "metadata": {},
   "outputs": [],
   "source": [
    "def findID_origional(origional_points, points_in_atlas):\n",
    "    '''\n",
    "    Associate origional converted resampled points with atlas ID and name\n",
    "    Ouputs a pd dataframe with x, y, z, atlas ID, region name, colour\n",
    "    '''\n",
    "    #Load the origional points\n",
    "    anno=open(origional_points,'r')\n",
    "    anno_data=anno.readlines()\n",
    "    # heading is stored in anno_data[2], 1st line basically useless\n",
    "\n",
    "    headings=anno_data[2].rstrip('\\n').replace(' ', '').split(',')\n",
    "    annotations=[lines.rstrip('0 1\\n').split(' ') for lines in anno_data[3:]]\n",
    "    #slight modification on replacing and stripping due to the format of the resampled swc\n",
    "    annotation_df=pd.DataFrame(annotations, columns=headings)\n",
    "\n",
    "    points_with_id= pd.DataFrame (zip(annotation_df['x'],annotation_df['y'], annotation_df['z'],points_in_atlas ), columns=['x', 'y','z', 'atlasID'])\n",
    "    #points_with_id.to_csv (outdir+'/resamp_oripoints_withID.csv', index = None, header=True) #Don't forget to add '.csv' at the end of the path\n",
    "    \n",
    "    #Creates colour for each region\n",
    "    uniqueID=np.unique(points_with_id['atlasID'])\n",
    "    colour= np.linspace(1,np.size(uniqueID)+1, num=np.size(uniqueID),dtype='int')\n",
    "    colourdict=dict(zip(uniqueID,colour))\n",
    "    \n",
    "    # find region name based on ID\n",
    "    namedict=dict(zip(atlas_labels['id'],atlas_labels['name']))\n",
    "    points_with_id['name'] = points_with_id['atlasID'].map(namedict)\n",
    "    points_with_id['colour'] = points_with_id['atlasID'].map(colourdict)\n",
    "    return points_with_id"
   ]
  },
  {
   "cell_type": "code",
   "execution_count": 365,
   "metadata": {},
   "outputs": [],
   "source": [
    "def make_scatter(points_with_id, ending_indices):\n",
    "    \n",
    "    ending_indices = np.genfromtxt(ending_indices, delimiter=',', dtype='int')\n",
    "    \n",
    "    trace= go.Scatter3d( \n",
    "        x=points_with_id[::3]['x'],\n",
    "        y=points_with_id[::3]['y'],\n",
    "        z=points_with_id[::3]['z'],\n",
    "        mode='markers',\n",
    "        name='Non-endings',\n",
    "        marker=dict(\n",
    "            size=1,\n",
    "            color=points_with_id[::3]['colour'],\n",
    "            opacity=0.5\n",
    "        ),\n",
    "        hovertext= points_with_id[::3]['name'],\n",
    "        hoverinfo='text'\n",
    "    )\n",
    "\n",
    "    layout=go.Layout(\n",
    "        margin=dict(\n",
    "            l=0,\n",
    "            r=0,\n",
    "            b=0,\n",
    "            t=0)\n",
    "    )\n",
    "    \n",
    "    trace_endings=go.Scatter3d(\n",
    "        x=points_with_id.iloc[ending_indices]['x'],\n",
    "        y=points_with_id.iloc[ending_indices]['y'],\n",
    "        z=points_with_id.iloc[ending_indices]['z'],\n",
    "        mode='markers',\n",
    "        name='Endings',\n",
    "        marker=dict(\n",
    "            size=2,\n",
    "            color=points_with_id.iloc[ending_indices]['colour'],\n",
    "            opacity=0.5,\n",
    "            symbol='diamond')\n",
    "    )\n",
    "\n",
    "#Here we want horizontal view with dorsal surface toward us\n",
    "#first we set a xz view for coronal section this is done by setting x and z as 0 in eye\n",
    "# then, for y we want the smaller values to point toward us (because in our original coronal images dorsal surface is pointed up)\n",
    "    camera = dict(\n",
    "        eye=dict(x=0, y=-1, z=0)\n",
    "    )\n",
    "\n",
    "\n",
    "    #Need to change the axis title depending on the direction and orientation of the origional image (ie, imaging started from cerebellum vs. imaging started from olfactorybulb)\n",
    "    fig=go.Figure(data=trace,layout=layout)\n",
    "    fig.update_layout(scene_camera=camera, \n",
    "                      scene=dict(\n",
    "                        xaxis_title='Smaller=more medial',\n",
    "                        yaxis_title='Smaller=more dorsal',\n",
    "                        zaxis_title='Smaller=more anterior'))\n",
    "    plot(fig,filename=outdir+'/'+'3Dplot.html')\n",
    "    "
   ]
  },
  {
   "cell_type": "code",
   "execution_count": 310,
   "metadata": {},
   "outputs": [],
   "source": [
    "axonal_points_with_id= findID_origional(ori_points_name, axonal_points_in_atlas)"
   ]
  },
  {
   "cell_type": "code",
   "execution_count": 366,
   "metadata": {},
   "outputs": [],
   "source": [
    "make_scatter(axonal_points_with_id,outdir+'/'+ axon_ending[0] )"
   ]
  },
  {
   "cell_type": "code",
   "execution_count": null,
   "metadata": {},
   "outputs": [],
   "source": []
  }
 ],
 "metadata": {
  "kernelspec": {
   "display_name": "Python 3",
   "language": "python",
   "name": "python3"
  },
  "language_info": {
   "codemirror_mode": {
    "name": "ipython",
    "version": 3
   },
   "file_extension": ".py",
   "mimetype": "text/x-python",
   "name": "python",
   "nbconvert_exporter": "python",
   "pygments_lexer": "ipython3",
   "version": "3.7.3"
  }
 },
 "nbformat": 4,
 "nbformat_minor": 4
}
