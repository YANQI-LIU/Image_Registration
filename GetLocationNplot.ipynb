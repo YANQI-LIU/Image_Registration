{
 "cells": [
  {
   "cell_type": "markdown",
   "metadata": {},
   "source": [
    "### Identify locations of downsampled points and make plot(bar and 3d)\n",
    "\n",
    "Input: \n",
    "Output directory that also contains the corresponding points, endings, and atlas\n",
    "\n",
    "Origional converted and resampled points\n",
    "\n",
    "\n",
    "Outputs:\n",
    "2 excel file (dendrite and axon) for regions with total points count and ending points count\n",
    "\n",
    "1 html bar plot\n",
    "\n",
    "1 html 3D scatter plot"
   ]
  },
  {
   "cell_type": "code",
   "execution_count": 1,
   "metadata": {},
   "outputs": [
    {
     "data": {
      "text/html": [
       "        <script type=\"text/javascript\">\n",
       "        window.PlotlyConfig = {MathJaxConfig: 'local'};\n",
       "        if (window.MathJax) {MathJax.Hub.Config({SVG: {font: \"STIX-Web\"}});}\n",
       "        if (typeof require !== 'undefined') {\n",
       "        require.undef(\"plotly\");\n",
       "        requirejs.config({\n",
       "            paths: {\n",
       "                'plotly': ['https://cdn.plot.ly/plotly-latest.min']\n",
       "            }\n",
       "        });\n",
       "        require(['plotly'], function(Plotly) {\n",
       "            window._Plotly = Plotly;\n",
       "        });\n",
       "        }\n",
       "        </script>\n",
       "        "
      ]
     },
     "metadata": {},
     "output_type": "display_data"
    }
   ],
   "source": [
    "import os\n",
    "\n",
    "import pandas as pd\n",
    "\n",
    "import tkinter.filedialog as fdialog\n",
    "\n",
    "import re\n",
    "\n",
    "import analysis_tools\n",
    "\n",
    "import plotly\n",
    "import plotly.offline\n",
    "import plotly.graph_objects as go\n",
    "from plotly.subplots import make_subplots\n",
    "\n",
    "from plotly.offline import download_plotlyjs, init_notebook_mode, plot, iplot\n",
    "init_notebook_mode(connected=True)"
   ]
  },
  {
   "cell_type": "code",
   "execution_count": 2,
   "metadata": {},
   "outputs": [],
   "source": [
    "outdir = fdialog.askdirectory(title='Please select the output directory')\n",
    "m=re.search('\\D{2}[0-9]{3}', outdir)\n",
    "name=m[0]"
   ]
  },
  {
   "cell_type": "code",
   "execution_count": 14,
   "metadata": {},
   "outputs": [],
   "source": [
    "files= os.listdir(outdir)\n",
    "points=[os.path.join(outdir,i) for i in files if 'Stepsize' in i]\n",
    "dendrite= [i for i in points if name+'D' in i]\n",
    "axon= [i for i in points if name+'D' not in i]"
   ]
  },
  {
   "cell_type": "code",
   "execution_count": 15,
   "metadata": {},
   "outputs": [],
   "source": [
    "endings= [os.path.join(outdir,i) for i in files if '_endings' in i]\n",
    "dendrite_ending= [i for i in endings if name+'D' in i]\n",
    "axon_ending= [i for i in endings if name+'D' not in i]"
   ]
  },
  {
   "cell_type": "code",
   "execution_count": 17,
   "metadata": {},
   "outputs": [],
   "source": [
    "def plot_hist(pd_axon, pd_dendrite, outdir, mousename):\n",
    "    ''' \n",
    "    Plot horizontal histogram of all points and ending points of axons and dendrites\n",
    "    Input: pandas dataframe of axon, pandas dataframe of dendrite, output directory, and mousename\n",
    "    '''\n",
    "    y=pd_axon['acronym']\n",
    "    fig = make_subplots(\n",
    "        shared_yaxes=True,\n",
    "        rows=2, cols=2,\n",
    "        row_heights=[0.9, 0.1],\n",
    "        column_titles=['Length (um)','# of endings'], \n",
    "        row_titles=['Axons', 'Dendrites'],\n",
    "    )\n",
    "    fig.add_trace(\n",
    "        go.Bar(\n",
    "        y=y, x=pd_axon['Total_counts'], \n",
    "        marker_color='olive',\n",
    "        name='',\n",
    "        text=pd_axon['name'],\n",
    "        hovertemplate=\n",
    "            '<i>%{x}</i>, '+\n",
    "            '<b>%{text}</b>',\n",
    "        orientation='h'),\n",
    "        row=1,col=1\n",
    "    )\n",
    "    fig.add_trace(\n",
    "        go.Bar(\n",
    "        y=y, x=pd_axon['Endings_counts'],\n",
    "        marker_color='seagreen',\n",
    "        name='',\n",
    "        text=pd_axon['name'],\n",
    "        hovertemplate=\n",
    "        '<i>%{x}</i>, '+\n",
    "        '<b>%{text}</b>',\n",
    "        orientation='h'),\n",
    "        row=1,col=2\n",
    "    )\n",
    "\n",
    "    z=pd_dendrite['acronym']\n",
    "    fig.add_trace(\n",
    "        go.Bar(\n",
    "        y=z, x=pd_dendrite['Total_counts'], \n",
    "        marker_color='blue',\n",
    "        name='',\n",
    "        text=pd_dendrite['name'],\n",
    "        hovertemplate=\n",
    "        '<i>%{x}</i>, '+\n",
    "        '<b>%{text}</b>',\n",
    "        orientation='h'),\n",
    "        row=2,col=1\n",
    "    )\n",
    "    fig.add_trace(\n",
    "        go.Bar(\n",
    "        y=z, x=pd_dendrite['Endings_counts'],\n",
    "        marker_color='lightblue',\n",
    "        name='',\n",
    "        text=pd_dendrite['name'],\n",
    "        hovertemplate=\n",
    "        '<i>%{x}</i>, '+\n",
    "        '<b>%{text}</b>',\n",
    "        orientation='h'),\n",
    "        row=2,col=2\n",
    "    )\n",
    "    \n",
    "    fig.update_layout(yaxis={'categoryorder':'trace'}, \n",
    "                      title='Annotations in respective brain regions',\n",
    "                      height=800\n",
    "                     )\n",
    "    fig.show()\n",
    "    plotly.offline.plot(fig,filename=outdir+'/'+ mousename+'BarPlot.html')"
   ]
  },
  {
   "cell_type": "code",
   "execution_count": 18,
   "metadata": {},
   "outputs": [],
   "source": [
    "axons, axonal_points_in_atlas=analysis_tools.make_pd(axon[0],  axon_ending[0], outdir)\n",
    "axons.to_excel(outdir+'/axons_RegionCounts.xlsx')"
   ]
  },
  {
   "cell_type": "code",
   "execution_count": 19,
   "metadata": {},
   "outputs": [],
   "source": [
    "dendrites, dendritic_points_in_atlas=analysis_tools.make_pd( dendrite[0],dendrite_ending[0], outdir)\n",
    "dendrites.to_excel(outdir+'/dendrites_RegionCounts.xlsx')"
   ]
  },
  {
   "cell_type": "code",
   "execution_count": 20,
   "metadata": {},
   "outputs": [
    {
     "name": "stdout",
     "output_type": "stream",
     "text": [
      "There are 325 points with ID= 0, this index is outside of the brain, consider possible suboptimal image registration\n",
      "312782592 this index does not exist in allen reference atlas, see https://github.com/ChristophKirst/ClearMap/issues/37\n",
      "182305696 this index does not exist in allen reference atlas, see https://github.com/ChristophKirst/ClearMap/issues/37\n",
      "182305712 this index does not exist in allen reference atlas, see https://github.com/ChristophKirst/ClearMap/issues/37\n",
      "312782560 this index does not exist in allen reference atlas, see https://github.com/ChristophKirst/ClearMap/issues/37\n"
     ]
    },
    {
     "name": "stderr",
     "output_type": "stream",
     "text": [
      "C:\\Users\\liu\\Image_registration\\analysis_tools.py:75: UserWarning:\n",
      "\n",
      "Some points do not have corresponding labels\n",
      "\n"
     ]
    }
   ],
   "source": [
    "# check if all the points have an ID that exist in the label\n",
    "analysis_tools.check_points(axonal_points_in_atlas)"
   ]
  },
  {
   "cell_type": "code",
   "execution_count": 21,
   "metadata": {},
   "outputs": [
    {
     "data": {
      "application/vnd.plotly.v1+json": {
       "config": {
        "plotlyServerURL": "https://plot.ly"
       },
       "data": [
        {
         "hovertemplate": "<i>%{x}</i>, <b>%{text}</b>",
         "marker": {
          "color": "olive"
         },
         "name": "",
         "orientation": "h",
         "text": [
          "Primary somatosensory area, upper limb, layer 4",
          "Rostrolateral area, layer 6b",
          "Primary somatosensory area, upper limb, layer 6b",
          "Primary somatosensory area, barrel field, layer 6b",
          "Primary somatosensory area, trunk, layer 1",
          "Primary somatosensory area, trunk, layer 4",
          "Primary somatosensory area, trunk, layer 2/3",
          "cingulum bundle",
          "Primary somatosensory area, trunk, layer 6b",
          "Primary somatosensory area, barrel field, layer 6a",
          "Primary somatosensory area, trunk, layer 6a",
          "commissural branch of stria terminalis",
          "Prosubiculum, ventral part, molecular layer",
          "Primary somatosensory area, trunk, layer 5",
          "Primary somatosensory area, barrel field, layer 4",
          "Primary somatosensory area, barrel field, layer 5",
          "Primary somatosensory area, barrel field, layer 2/3",
          "Primary somatosensory area, barrel field, layer 1"
         ],
         "type": "bar",
         "x": [
          3,
          19,
          32,
          67,
          192,
          293,
          340,
          393,
          398,
          419,
          508,
          695,
          983,
          1245,
          4770,
          8975,
          14048,
          19056
         ],
         "xaxis": "x",
         "y": [
          "SSp-ul4",
          "VISrl6b",
          "SSp-ul6b",
          "SSp-bfd6b",
          "SSp-tr1",
          "SSp-tr4",
          "SSp-tr2/3",
          "cing",
          "SSp-tr6b",
          "SSp-bfd6a",
          "SSp-tr6a",
          "stc",
          "ProSv-m",
          "SSp-tr5",
          "SSp-bfd4",
          "SSp-bfd5",
          "SSp-bfd2/3",
          "SSp-bfd1"
         ],
         "yaxis": "y"
        },
        {
         "hovertemplate": "<i>%{x}</i>, <b>%{text}</b>",
         "marker": {
          "color": "seagreen"
         },
         "name": "",
         "orientation": "h",
         "text": [
          "Primary somatosensory area, upper limb, layer 4",
          "Rostrolateral area, layer 6b",
          "Primary somatosensory area, upper limb, layer 6b",
          "Primary somatosensory area, barrel field, layer 6b",
          "Primary somatosensory area, trunk, layer 1",
          "Primary somatosensory area, trunk, layer 4",
          "Primary somatosensory area, trunk, layer 2/3",
          "cingulum bundle",
          "Primary somatosensory area, trunk, layer 6b",
          "Primary somatosensory area, barrel field, layer 6a",
          "Primary somatosensory area, trunk, layer 6a",
          "commissural branch of stria terminalis",
          "Prosubiculum, ventral part, molecular layer",
          "Primary somatosensory area, trunk, layer 5",
          "Primary somatosensory area, barrel field, layer 4",
          "Primary somatosensory area, barrel field, layer 5",
          "Primary somatosensory area, barrel field, layer 2/3",
          "Primary somatosensory area, barrel field, layer 1"
         ],
         "type": "bar",
         "x": [
          0,
          1,
          0,
          0,
          0,
          1,
          0,
          0,
          2,
          1,
          0,
          2,
          2,
          7,
          51,
          70,
          197,
          281
         ],
         "xaxis": "x2",
         "y": [
          "SSp-ul4",
          "VISrl6b",
          "SSp-ul6b",
          "SSp-bfd6b",
          "SSp-tr1",
          "SSp-tr4",
          "SSp-tr2/3",
          "cing",
          "SSp-tr6b",
          "SSp-bfd6a",
          "SSp-tr6a",
          "stc",
          "ProSv-m",
          "SSp-tr5",
          "SSp-bfd4",
          "SSp-bfd5",
          "SSp-bfd2/3",
          "SSp-bfd1"
         ],
         "yaxis": "y2"
        },
        {
         "hovertemplate": "<i>%{x}</i>, <b>%{text}</b>",
         "marker": {
          "color": "blue"
         },
         "name": "",
         "orientation": "h",
         "text": [
          "Primary somatosensory area, barrel field, layer 1",
          "Primary somatosensory area, barrel field, layer 2/3"
         ],
         "type": "bar",
         "x": [
          2572,
          4029
         ],
         "xaxis": "x3",
         "y": [
          "SSp-bfd1",
          "SSp-bfd2/3"
         ],
         "yaxis": "y3"
        },
        {
         "hovertemplate": "<i>%{x}</i>, <b>%{text}</b>",
         "marker": {
          "color": "lightblue"
         },
         "name": "",
         "orientation": "h",
         "text": [
          "Primary somatosensory area, barrel field, layer 1",
          "Primary somatosensory area, barrel field, layer 2/3"
         ],
         "type": "bar",
         "x": [
          46,
          101
         ],
         "xaxis": "x4",
         "y": [
          "SSp-bfd1",
          "SSp-bfd2/3"
         ],
         "yaxis": "y4"
        }
       ],
       "layout": {
        "annotations": [
         {
          "font": {
           "size": 16
          },
          "showarrow": false,
          "text": "Length (um)",
          "x": 0.22,
          "xanchor": "center",
          "xref": "paper",
          "y": 1,
          "yanchor": "bottom",
          "yref": "paper"
         },
         {
          "font": {
           "size": 16
          },
          "showarrow": false,
          "text": "# of endings",
          "x": 0.76,
          "xanchor": "center",
          "xref": "paper",
          "y": 1,
          "yanchor": "bottom",
          "yref": "paper"
         },
         {
          "font": {
           "size": 16
          },
          "showarrow": false,
          "text": "Axons",
          "textangle": 90,
          "x": 0.98,
          "xanchor": "left",
          "xref": "paper",
          "y": 0.6174999999999999,
          "yanchor": "middle",
          "yref": "paper"
         },
         {
          "font": {
           "size": 16
          },
          "showarrow": false,
          "text": "Dendrites",
          "textangle": 90,
          "x": 0.98,
          "xanchor": "left",
          "xref": "paper",
          "y": 0.0425,
          "yanchor": "middle",
          "yref": "paper"
         }
        ],
        "autosize": true,
        "template": {
         "data": {
          "bar": [
           {
            "error_x": {
             "color": "#2a3f5f"
            },
            "error_y": {
             "color": "#2a3f5f"
            },
            "marker": {
             "line": {
              "color": "#E5ECF6",
              "width": 0.5
             }
            },
            "type": "bar"
           }
          ],
          "barpolar": [
           {
            "marker": {
             "line": {
              "color": "#E5ECF6",
              "width": 0.5
             }
            },
            "type": "barpolar"
           }
          ],
          "carpet": [
           {
            "aaxis": {
             "endlinecolor": "#2a3f5f",
             "gridcolor": "white",
             "linecolor": "white",
             "minorgridcolor": "white",
             "startlinecolor": "#2a3f5f"
            },
            "baxis": {
             "endlinecolor": "#2a3f5f",
             "gridcolor": "white",
             "linecolor": "white",
             "minorgridcolor": "white",
             "startlinecolor": "#2a3f5f"
            },
            "type": "carpet"
           }
          ],
          "choropleth": [
           {
            "colorbar": {
             "outlinewidth": 0,
             "ticks": ""
            },
            "type": "choropleth"
           }
          ],
          "contour": [
           {
            "colorbar": {
             "outlinewidth": 0,
             "ticks": ""
            },
            "colorscale": [
             [
              0,
              "#0d0887"
             ],
             [
              0.1111111111111111,
              "#46039f"
             ],
             [
              0.2222222222222222,
              "#7201a8"
             ],
             [
              0.3333333333333333,
              "#9c179e"
             ],
             [
              0.4444444444444444,
              "#bd3786"
             ],
             [
              0.5555555555555556,
              "#d8576b"
             ],
             [
              0.6666666666666666,
              "#ed7953"
             ],
             [
              0.7777777777777778,
              "#fb9f3a"
             ],
             [
              0.8888888888888888,
              "#fdca26"
             ],
             [
              1,
              "#f0f921"
             ]
            ],
            "type": "contour"
           }
          ],
          "contourcarpet": [
           {
            "colorbar": {
             "outlinewidth": 0,
             "ticks": ""
            },
            "type": "contourcarpet"
           }
          ],
          "heatmap": [
           {
            "colorbar": {
             "outlinewidth": 0,
             "ticks": ""
            },
            "colorscale": [
             [
              0,
              "#0d0887"
             ],
             [
              0.1111111111111111,
              "#46039f"
             ],
             [
              0.2222222222222222,
              "#7201a8"
             ],
             [
              0.3333333333333333,
              "#9c179e"
             ],
             [
              0.4444444444444444,
              "#bd3786"
             ],
             [
              0.5555555555555556,
              "#d8576b"
             ],
             [
              0.6666666666666666,
              "#ed7953"
             ],
             [
              0.7777777777777778,
              "#fb9f3a"
             ],
             [
              0.8888888888888888,
              "#fdca26"
             ],
             [
              1,
              "#f0f921"
             ]
            ],
            "type": "heatmap"
           }
          ],
          "heatmapgl": [
           {
            "colorbar": {
             "outlinewidth": 0,
             "ticks": ""
            },
            "colorscale": [
             [
              0,
              "#0d0887"
             ],
             [
              0.1111111111111111,
              "#46039f"
             ],
             [
              0.2222222222222222,
              "#7201a8"
             ],
             [
              0.3333333333333333,
              "#9c179e"
             ],
             [
              0.4444444444444444,
              "#bd3786"
             ],
             [
              0.5555555555555556,
              "#d8576b"
             ],
             [
              0.6666666666666666,
              "#ed7953"
             ],
             [
              0.7777777777777778,
              "#fb9f3a"
             ],
             [
              0.8888888888888888,
              "#fdca26"
             ],
             [
              1,
              "#f0f921"
             ]
            ],
            "type": "heatmapgl"
           }
          ],
          "histogram": [
           {
            "marker": {
             "colorbar": {
              "outlinewidth": 0,
              "ticks": ""
             }
            },
            "type": "histogram"
           }
          ],
          "histogram2d": [
           {
            "colorbar": {
             "outlinewidth": 0,
             "ticks": ""
            },
            "colorscale": [
             [
              0,
              "#0d0887"
             ],
             [
              0.1111111111111111,
              "#46039f"
             ],
             [
              0.2222222222222222,
              "#7201a8"
             ],
             [
              0.3333333333333333,
              "#9c179e"
             ],
             [
              0.4444444444444444,
              "#bd3786"
             ],
             [
              0.5555555555555556,
              "#d8576b"
             ],
             [
              0.6666666666666666,
              "#ed7953"
             ],
             [
              0.7777777777777778,
              "#fb9f3a"
             ],
             [
              0.8888888888888888,
              "#fdca26"
             ],
             [
              1,
              "#f0f921"
             ]
            ],
            "type": "histogram2d"
           }
          ],
          "histogram2dcontour": [
           {
            "colorbar": {
             "outlinewidth": 0,
             "ticks": ""
            },
            "colorscale": [
             [
              0,
              "#0d0887"
             ],
             [
              0.1111111111111111,
              "#46039f"
             ],
             [
              0.2222222222222222,
              "#7201a8"
             ],
             [
              0.3333333333333333,
              "#9c179e"
             ],
             [
              0.4444444444444444,
              "#bd3786"
             ],
             [
              0.5555555555555556,
              "#d8576b"
             ],
             [
              0.6666666666666666,
              "#ed7953"
             ],
             [
              0.7777777777777778,
              "#fb9f3a"
             ],
             [
              0.8888888888888888,
              "#fdca26"
             ],
             [
              1,
              "#f0f921"
             ]
            ],
            "type": "histogram2dcontour"
           }
          ],
          "mesh3d": [
           {
            "colorbar": {
             "outlinewidth": 0,
             "ticks": ""
            },
            "type": "mesh3d"
           }
          ],
          "parcoords": [
           {
            "line": {
             "colorbar": {
              "outlinewidth": 0,
              "ticks": ""
             }
            },
            "type": "parcoords"
           }
          ],
          "pie": [
           {
            "automargin": true,
            "type": "pie"
           }
          ],
          "scatter": [
           {
            "marker": {
             "colorbar": {
              "outlinewidth": 0,
              "ticks": ""
             }
            },
            "type": "scatter"
           }
          ],
          "scatter3d": [
           {
            "line": {
             "colorbar": {
              "outlinewidth": 0,
              "ticks": ""
             }
            },
            "marker": {
             "colorbar": {
              "outlinewidth": 0,
              "ticks": ""
             }
            },
            "type": "scatter3d"
           }
          ],
          "scattercarpet": [
           {
            "marker": {
             "colorbar": {
              "outlinewidth": 0,
              "ticks": ""
             }
            },
            "type": "scattercarpet"
           }
          ],
          "scattergeo": [
           {
            "marker": {
             "colorbar": {
              "outlinewidth": 0,
              "ticks": ""
             }
            },
            "type": "scattergeo"
           }
          ],
          "scattergl": [
           {
            "marker": {
             "colorbar": {
              "outlinewidth": 0,
              "ticks": ""
             }
            },
            "type": "scattergl"
           }
          ],
          "scattermapbox": [
           {
            "marker": {
             "colorbar": {
              "outlinewidth": 0,
              "ticks": ""
             }
            },
            "type": "scattermapbox"
           }
          ],
          "scatterpolar": [
           {
            "marker": {
             "colorbar": {
              "outlinewidth": 0,
              "ticks": ""
             }
            },
            "type": "scatterpolar"
           }
          ],
          "scatterpolargl": [
           {
            "marker": {
             "colorbar": {
              "outlinewidth": 0,
              "ticks": ""
             }
            },
            "type": "scatterpolargl"
           }
          ],
          "scatterternary": [
           {
            "marker": {
             "colorbar": {
              "outlinewidth": 0,
              "ticks": ""
             }
            },
            "type": "scatterternary"
           }
          ],
          "surface": [
           {
            "colorbar": {
             "outlinewidth": 0,
             "ticks": ""
            },
            "colorscale": [
             [
              0,
              "#0d0887"
             ],
             [
              0.1111111111111111,
              "#46039f"
             ],
             [
              0.2222222222222222,
              "#7201a8"
             ],
             [
              0.3333333333333333,
              "#9c179e"
             ],
             [
              0.4444444444444444,
              "#bd3786"
             ],
             [
              0.5555555555555556,
              "#d8576b"
             ],
             [
              0.6666666666666666,
              "#ed7953"
             ],
             [
              0.7777777777777778,
              "#fb9f3a"
             ],
             [
              0.8888888888888888,
              "#fdca26"
             ],
             [
              1,
              "#f0f921"
             ]
            ],
            "type": "surface"
           }
          ],
          "table": [
           {
            "cells": {
             "fill": {
              "color": "#EBF0F8"
             },
             "line": {
              "color": "white"
             }
            },
            "header": {
             "fill": {
              "color": "#C8D4E3"
             },
             "line": {
              "color": "white"
             }
            },
            "type": "table"
           }
          ]
         },
         "layout": {
          "annotationdefaults": {
           "arrowcolor": "#2a3f5f",
           "arrowhead": 0,
           "arrowwidth": 1
          },
          "coloraxis": {
           "colorbar": {
            "outlinewidth": 0,
            "ticks": ""
           }
          },
          "colorscale": {
           "diverging": [
            [
             0,
             "#8e0152"
            ],
            [
             0.1,
             "#c51b7d"
            ],
            [
             0.2,
             "#de77ae"
            ],
            [
             0.3,
             "#f1b6da"
            ],
            [
             0.4,
             "#fde0ef"
            ],
            [
             0.5,
             "#f7f7f7"
            ],
            [
             0.6,
             "#e6f5d0"
            ],
            [
             0.7,
             "#b8e186"
            ],
            [
             0.8,
             "#7fbc41"
            ],
            [
             0.9,
             "#4d9221"
            ],
            [
             1,
             "#276419"
            ]
           ],
           "sequential": [
            [
             0,
             "#0d0887"
            ],
            [
             0.1111111111111111,
             "#46039f"
            ],
            [
             0.2222222222222222,
             "#7201a8"
            ],
            [
             0.3333333333333333,
             "#9c179e"
            ],
            [
             0.4444444444444444,
             "#bd3786"
            ],
            [
             0.5555555555555556,
             "#d8576b"
            ],
            [
             0.6666666666666666,
             "#ed7953"
            ],
            [
             0.7777777777777778,
             "#fb9f3a"
            ],
            [
             0.8888888888888888,
             "#fdca26"
            ],
            [
             1,
             "#f0f921"
            ]
           ],
           "sequentialminus": [
            [
             0,
             "#0d0887"
            ],
            [
             0.1111111111111111,
             "#46039f"
            ],
            [
             0.2222222222222222,
             "#7201a8"
            ],
            [
             0.3333333333333333,
             "#9c179e"
            ],
            [
             0.4444444444444444,
             "#bd3786"
            ],
            [
             0.5555555555555556,
             "#d8576b"
            ],
            [
             0.6666666666666666,
             "#ed7953"
            ],
            [
             0.7777777777777778,
             "#fb9f3a"
            ],
            [
             0.8888888888888888,
             "#fdca26"
            ],
            [
             1,
             "#f0f921"
            ]
           ]
          },
          "colorway": [
           "#636efa",
           "#EF553B",
           "#00cc96",
           "#ab63fa",
           "#FFA15A",
           "#19d3f3",
           "#FF6692",
           "#B6E880",
           "#FF97FF",
           "#FECB52"
          ],
          "font": {
           "color": "#2a3f5f"
          },
          "geo": {
           "bgcolor": "white",
           "lakecolor": "white",
           "landcolor": "#E5ECF6",
           "showlakes": true,
           "showland": true,
           "subunitcolor": "white"
          },
          "hoverlabel": {
           "align": "left"
          },
          "hovermode": "closest",
          "mapbox": {
           "style": "light"
          },
          "paper_bgcolor": "white",
          "plot_bgcolor": "#E5ECF6",
          "polar": {
           "angularaxis": {
            "gridcolor": "white",
            "linecolor": "white",
            "ticks": ""
           },
           "bgcolor": "#E5ECF6",
           "radialaxis": {
            "gridcolor": "white",
            "linecolor": "white",
            "ticks": ""
           }
          },
          "scene": {
           "xaxis": {
            "backgroundcolor": "#E5ECF6",
            "gridcolor": "white",
            "gridwidth": 2,
            "linecolor": "white",
            "showbackground": true,
            "ticks": "",
            "zerolinecolor": "white"
           },
           "yaxis": {
            "backgroundcolor": "#E5ECF6",
            "gridcolor": "white",
            "gridwidth": 2,
            "linecolor": "white",
            "showbackground": true,
            "ticks": "",
            "zerolinecolor": "white"
           },
           "zaxis": {
            "backgroundcolor": "#E5ECF6",
            "gridcolor": "white",
            "gridwidth": 2,
            "linecolor": "white",
            "showbackground": true,
            "ticks": "",
            "zerolinecolor": "white"
           }
          },
          "shapedefaults": {
           "line": {
            "color": "#2a3f5f"
           }
          },
          "ternary": {
           "aaxis": {
            "gridcolor": "white",
            "linecolor": "white",
            "ticks": ""
           },
           "baxis": {
            "gridcolor": "white",
            "linecolor": "white",
            "ticks": ""
           },
           "bgcolor": "#E5ECF6",
           "caxis": {
            "gridcolor": "white",
            "linecolor": "white",
            "ticks": ""
           }
          },
          "title": {
           "x": 0.05
          },
          "xaxis": {
           "automargin": true,
           "gridcolor": "white",
           "linecolor": "white",
           "ticks": "",
           "title": {
            "standoff": 15
           },
           "zerolinecolor": "white",
           "zerolinewidth": 2
          },
          "yaxis": {
           "automargin": true,
           "gridcolor": "white",
           "linecolor": "white",
           "ticks": "",
           "title": {
            "standoff": 15
           },
           "zerolinecolor": "white",
           "zerolinewidth": 2
          }
         }
        },
        "title": {
         "text": "Annotations in respective brain regions"
        },
        "xaxis": {
         "anchor": "y",
         "autorange": true,
         "domain": [
          0,
          0.44
         ],
         "range": [
          0,
          20058.947368421053
         ],
         "type": "linear"
        },
        "xaxis2": {
         "anchor": "y2",
         "autorange": true,
         "domain": [
          0.54,
          0.98
         ],
         "range": [
          0,
          295.7894736842105
         ],
         "type": "linear"
        },
        "xaxis3": {
         "anchor": "y3",
         "autorange": true,
         "domain": [
          0,
          0.44
         ],
         "range": [
          0,
          4241.0526315789475
         ],
         "type": "linear"
        },
        "xaxis4": {
         "anchor": "y4",
         "autorange": true,
         "domain": [
          0.54,
          0.98
         ],
         "range": [
          0,
          106.3157894736842
         ],
         "type": "linear"
        },
        "yaxis": {
         "anchor": "x",
         "autorange": true,
         "categoryorder": "trace",
         "domain": [
          0.235,
          1
         ],
         "range": [
          -0.5,
          17.5
         ],
         "type": "category"
        },
        "yaxis2": {
         "anchor": "x2",
         "autorange": true,
         "domain": [
          0.235,
          1
         ],
         "matches": "y",
         "range": [
          -0.5,
          17.5
         ],
         "showticklabels": false,
         "type": "category"
        },
        "yaxis3": {
         "anchor": "x3",
         "autorange": true,
         "domain": [
          0,
          0.085
         ],
         "range": [
          -0.5,
          1.5
         ],
         "type": "category"
        },
        "yaxis4": {
         "anchor": "x4",
         "autorange": true,
         "domain": [
          0,
          0.085
         ],
         "matches": "y3",
         "range": [
          -0.5,
          1.5
         ],
         "showticklabels": false,
         "type": "category"
        }
       }
      },
      "image/png": "[encoded data removed]",
      "text/html": [
       "<div>\n",
       "        \n",
       "        \n",
       "            <div id=\"6845fdde-4080-499e-b228-d20f6fa19634\" class=\"plotly-graph-div\" style=\"height:800px; width:100%;\"></div>\n",
       "            <script type=\"text/javascript\">\n",
       "                require([\"plotly\"], function(Plotly) {\n",
       "                    window.PLOTLYENV=window.PLOTLYENV || {};\n",
       "                    \n",
       "                if (document.getElementById(\"6845fdde-4080-499e-b228-d20f6fa19634\")) {\n",
       "                    Plotly.newPlot(\n",
       "                        '6845fdde-4080-499e-b228-d20f6fa19634',\n",
       "                        [{\"hovertemplate\": \"<i>%{x}</i>, <b>%{text}</b>\", \"marker\": {\"color\": \"olive\"}, \"name\": \"\", \"orientation\": \"h\", \"text\": [\"Primary somatosensory area, upper limb, layer 4\", \"Rostrolateral area, layer 6b\", \"Primary somatosensory area, upper limb, layer 6b\", \"Primary somatosensory area, barrel field, layer 6b\", \"Primary somatosensory area, trunk, layer 1\", \"Primary somatosensory area, trunk, layer 4\", \"Primary somatosensory area, trunk, layer 2/3\", \"cingulum bundle\", \"Primary somatosensory area, trunk, layer 6b\", \"Primary somatosensory area, barrel field, layer 6a\", \"Primary somatosensory area, trunk, layer 6a\", \"commissural branch of stria terminalis\", \"Prosubiculum, ventral part, molecular layer\", \"Primary somatosensory area, trunk, layer 5\", \"Primary somatosensory area, barrel field, layer 4\", \"Primary somatosensory area, barrel field, layer 5\", \"Primary somatosensory area, barrel field, layer 2/3\", \"Primary somatosensory area, barrel field, layer 1\"], \"type\": \"bar\", \"x\": [3, 19, 32, 67, 192, 293, 340, 393, 398, 419, 508, 695, 983, 1245, 4770, 8975, 14048, 19056], \"xaxis\": \"x\", \"y\": [\"SSp-ul4\", \"VISrl6b\", \"SSp-ul6b\", \"SSp-bfd6b\", \"SSp-tr1\", \"SSp-tr4\", \"SSp-tr2/3\", \"cing\", \"SSp-tr6b\", \"SSp-bfd6a\", \"SSp-tr6a\", \"stc\", \"ProSv-m\", \"SSp-tr5\", \"SSp-bfd4\", \"SSp-bfd5\", \"SSp-bfd2/3\", \"SSp-bfd1\"], \"yaxis\": \"y\"}, {\"hovertemplate\": \"<i>%{x}</i>, <b>%{text}</b>\", \"marker\": {\"color\": \"seagreen\"}, \"name\": \"\", \"orientation\": \"h\", \"text\": [\"Primary somatosensory area, upper limb, layer 4\", \"Rostrolateral area, layer 6b\", \"Primary somatosensory area, upper limb, layer 6b\", \"Primary somatosensory area, barrel field, layer 6b\", \"Primary somatosensory area, trunk, layer 1\", \"Primary somatosensory area, trunk, layer 4\", \"Primary somatosensory area, trunk, layer 2/3\", \"cingulum bundle\", \"Primary somatosensory area, trunk, layer 6b\", \"Primary somatosensory area, barrel field, layer 6a\", \"Primary somatosensory area, trunk, layer 6a\", \"commissural branch of stria terminalis\", \"Prosubiculum, ventral part, molecular layer\", \"Primary somatosensory area, trunk, layer 5\", \"Primary somatosensory area, barrel field, layer 4\", \"Primary somatosensory area, barrel field, layer 5\", \"Primary somatosensory area, barrel field, layer 2/3\", \"Primary somatosensory area, barrel field, layer 1\"], \"type\": \"bar\", \"x\": [0, 1, 0, 0, 0, 1, 0, 0, 2, 1, 0, 2, 2, 7, 51, 70, 197, 281], \"xaxis\": \"x2\", \"y\": [\"SSp-ul4\", \"VISrl6b\", \"SSp-ul6b\", \"SSp-bfd6b\", \"SSp-tr1\", \"SSp-tr4\", \"SSp-tr2/3\", \"cing\", \"SSp-tr6b\", \"SSp-bfd6a\", \"SSp-tr6a\", \"stc\", \"ProSv-m\", \"SSp-tr5\", \"SSp-bfd4\", \"SSp-bfd5\", \"SSp-bfd2/3\", \"SSp-bfd1\"], \"yaxis\": \"y2\"}, {\"hovertemplate\": \"<i>%{x}</i>, <b>%{text}</b>\", \"marker\": {\"color\": \"blue\"}, \"name\": \"\", \"orientation\": \"h\", \"text\": [\"Primary somatosensory area, barrel field, layer 1\", \"Primary somatosensory area, barrel field, layer 2/3\"], \"type\": \"bar\", \"x\": [2572, 4029], \"xaxis\": \"x3\", \"y\": [\"SSp-bfd1\", \"SSp-bfd2/3\"], \"yaxis\": \"y3\"}, {\"hovertemplate\": \"<i>%{x}</i>, <b>%{text}</b>\", \"marker\": {\"color\": \"lightblue\"}, \"name\": \"\", \"orientation\": \"h\", \"text\": [\"Primary somatosensory area, barrel field, layer 1\", \"Primary somatosensory area, barrel field, layer 2/3\"], \"type\": \"bar\", \"x\": [46, 101], \"xaxis\": \"x4\", \"y\": [\"SSp-bfd1\", \"SSp-bfd2/3\"], \"yaxis\": \"y4\"}],\n",
       "                        {\"annotations\": [{\"font\": {\"size\": 16}, \"showarrow\": false, \"text\": \"Length (um)\", \"x\": 0.22, \"xanchor\": \"center\", \"xref\": \"paper\", \"y\": 1.0, \"yanchor\": \"bottom\", \"yref\": \"paper\"}, {\"font\": {\"size\": 16}, \"showarrow\": false, \"text\": \"# of endings\", \"x\": 0.76, \"xanchor\": \"center\", \"xref\": \"paper\", \"y\": 1.0, \"yanchor\": \"bottom\", \"yref\": \"paper\"}, {\"font\": {\"size\": 16}, \"showarrow\": false, \"text\": \"Axons\", \"textangle\": 90, \"x\": 0.98, \"xanchor\": \"left\", \"xref\": \"paper\", \"y\": 0.6174999999999999, \"yanchor\": \"middle\", \"yref\": \"paper\"}, {\"font\": {\"size\": 16}, \"showarrow\": false, \"text\": \"Dendrites\", \"textangle\": 90, \"x\": 0.98, \"xanchor\": \"left\", \"xref\": \"paper\", \"y\": 0.0425, \"yanchor\": \"middle\", \"yref\": \"paper\"}], \"height\": 800, \"template\": {\"data\": {\"bar\": [{\"error_x\": {\"color\": \"#2a3f5f\"}, \"error_y\": {\"color\": \"#2a3f5f\"}, \"marker\": {\"line\": {\"color\": \"#E5ECF6\", \"width\": 0.5}}, \"type\": \"bar\"}], \"barpolar\": [{\"marker\": {\"line\": {\"color\": \"#E5ECF6\", \"width\": 0.5}}, \"type\": \"barpolar\"}], \"carpet\": [{\"aaxis\": {\"endlinecolor\": \"#2a3f5f\", \"gridcolor\": \"white\", \"linecolor\": \"white\", \"minorgridcolor\": \"white\", \"startlinecolor\": \"#2a3f5f\"}, \"baxis\": {\"endlinecolor\": \"#2a3f5f\", \"gridcolor\": \"white\", \"linecolor\": \"white\", \"minorgridcolor\": \"white\", \"startlinecolor\": \"#2a3f5f\"}, \"type\": \"carpet\"}], \"choropleth\": [{\"colorbar\": {\"outlinewidth\": 0, \"ticks\": \"\"}, \"type\": \"choropleth\"}], \"contour\": [{\"colorbar\": {\"outlinewidth\": 0, \"ticks\": \"\"}, \"colorscale\": [[0.0, \"#0d0887\"], [0.1111111111111111, \"#46039f\"], [0.2222222222222222, \"#7201a8\"], [0.3333333333333333, \"#9c179e\"], [0.4444444444444444, \"#bd3786\"], [0.5555555555555556, \"#d8576b\"], [0.6666666666666666, \"#ed7953\"], [0.7777777777777778, \"#fb9f3a\"], [0.8888888888888888, \"#fdca26\"], [1.0, \"#f0f921\"]], \"type\": \"contour\"}], \"contourcarpet\": [{\"colorbar\": {\"outlinewidth\": 0, \"ticks\": \"\"}, \"type\": \"contourcarpet\"}], \"heatmap\": [{\"colorbar\": {\"outlinewidth\": 0, \"ticks\": \"\"}, \"colorscale\": [[0.0, \"#0d0887\"], [0.1111111111111111, \"#46039f\"], [0.2222222222222222, \"#7201a8\"], [0.3333333333333333, \"#9c179e\"], [0.4444444444444444, \"#bd3786\"], [0.5555555555555556, \"#d8576b\"], [0.6666666666666666, \"#ed7953\"], [0.7777777777777778, \"#fb9f3a\"], [0.8888888888888888, \"#fdca26\"], [1.0, \"#f0f921\"]], \"type\": \"heatmap\"}], \"heatmapgl\": [{\"colorbar\": {\"outlinewidth\": 0, \"ticks\": \"\"}, \"colorscale\": [[0.0, \"#0d0887\"], [0.1111111111111111, \"#46039f\"], [0.2222222222222222, \"#7201a8\"], [0.3333333333333333, \"#9c179e\"], [0.4444444444444444, \"#bd3786\"], [0.5555555555555556, \"#d8576b\"], [0.6666666666666666, \"#ed7953\"], [0.7777777777777778, \"#fb9f3a\"], [0.8888888888888888, \"#fdca26\"], [1.0, \"#f0f921\"]], \"type\": \"heatmapgl\"}], \"histogram\": [{\"marker\": {\"colorbar\": {\"outlinewidth\": 0, \"ticks\": \"\"}}, \"type\": \"histogram\"}], \"histogram2d\": [{\"colorbar\": {\"outlinewidth\": 0, \"ticks\": \"\"}, \"colorscale\": [[0.0, \"#0d0887\"], [0.1111111111111111, \"#46039f\"], [0.2222222222222222, \"#7201a8\"], [0.3333333333333333, \"#9c179e\"], [0.4444444444444444, \"#bd3786\"], [0.5555555555555556, \"#d8576b\"], [0.6666666666666666, \"#ed7953\"], [0.7777777777777778, \"#fb9f3a\"], [0.8888888888888888, \"#fdca26\"], [1.0, \"#f0f921\"]], \"type\": \"histogram2d\"}], \"histogram2dcontour\": [{\"colorbar\": {\"outlinewidth\": 0, \"ticks\": \"\"}, \"colorscale\": [[0.0, \"#0d0887\"], [0.1111111111111111, \"#46039f\"], [0.2222222222222222, \"#7201a8\"], [0.3333333333333333, \"#9c179e\"], [0.4444444444444444, \"#bd3786\"], [0.5555555555555556, \"#d8576b\"], [0.6666666666666666, \"#ed7953\"], [0.7777777777777778, \"#fb9f3a\"], [0.8888888888888888, \"#fdca26\"], [1.0, \"#f0f921\"]], \"type\": \"histogram2dcontour\"}], \"mesh3d\": [{\"colorbar\": {\"outlinewidth\": 0, \"ticks\": \"\"}, \"type\": \"mesh3d\"}], \"parcoords\": [{\"line\": {\"colorbar\": {\"outlinewidth\": 0, \"ticks\": \"\"}}, \"type\": \"parcoords\"}], \"pie\": [{\"automargin\": true, \"type\": \"pie\"}], \"scatter\": [{\"marker\": {\"colorbar\": {\"outlinewidth\": 0, \"ticks\": \"\"}}, \"type\": \"scatter\"}], \"scatter3d\": [{\"line\": {\"colorbar\": {\"outlinewidth\": 0, \"ticks\": \"\"}}, \"marker\": {\"colorbar\": {\"outlinewidth\": 0, \"ticks\": \"\"}}, \"type\": \"scatter3d\"}], \"scattercarpet\": [{\"marker\": {\"colorbar\": {\"outlinewidth\": 0, \"ticks\": \"\"}}, \"type\": \"scattercarpet\"}], \"scattergeo\": [{\"marker\": {\"colorbar\": {\"outlinewidth\": 0, \"ticks\": \"\"}}, \"type\": \"scattergeo\"}], \"scattergl\": [{\"marker\": {\"colorbar\": {\"outlinewidth\": 0, \"ticks\": \"\"}}, \"type\": \"scattergl\"}], \"scattermapbox\": [{\"marker\": {\"colorbar\": {\"outlinewidth\": 0, \"ticks\": \"\"}}, \"type\": \"scattermapbox\"}], \"scatterpolar\": [{\"marker\": {\"colorbar\": {\"outlinewidth\": 0, \"ticks\": \"\"}}, \"type\": \"scatterpolar\"}], \"scatterpolargl\": [{\"marker\": {\"colorbar\": {\"outlinewidth\": 0, \"ticks\": \"\"}}, \"type\": \"scatterpolargl\"}], \"scatterternary\": [{\"marker\": {\"colorbar\": {\"outlinewidth\": 0, \"ticks\": \"\"}}, \"type\": \"scatterternary\"}], \"surface\": [{\"colorbar\": {\"outlinewidth\": 0, \"ticks\": \"\"}, \"colorscale\": [[0.0, \"#0d0887\"], [0.1111111111111111, \"#46039f\"], [0.2222222222222222, \"#7201a8\"], [0.3333333333333333, \"#9c179e\"], [0.4444444444444444, \"#bd3786\"], [0.5555555555555556, \"#d8576b\"], [0.6666666666666666, \"#ed7953\"], [0.7777777777777778, \"#fb9f3a\"], [0.8888888888888888, \"#fdca26\"], [1.0, \"#f0f921\"]], \"type\": \"surface\"}], \"table\": [{\"cells\": {\"fill\": {\"color\": \"#EBF0F8\"}, \"line\": {\"color\": \"white\"}}, \"header\": {\"fill\": {\"color\": \"#C8D4E3\"}, \"line\": {\"color\": \"white\"}}, \"type\": \"table\"}]}, \"layout\": {\"annotationdefaults\": {\"arrowcolor\": \"#2a3f5f\", \"arrowhead\": 0, \"arrowwidth\": 1}, \"coloraxis\": {\"colorbar\": {\"outlinewidth\": 0, \"ticks\": \"\"}}, \"colorscale\": {\"diverging\": [[0, \"#8e0152\"], [0.1, \"#c51b7d\"], [0.2, \"#de77ae\"], [0.3, \"#f1b6da\"], [0.4, \"#fde0ef\"], [0.5, \"#f7f7f7\"], [0.6, \"#e6f5d0\"], [0.7, \"#b8e186\"], [0.8, \"#7fbc41\"], [0.9, \"#4d9221\"], [1, \"#276419\"]], \"sequential\": [[0.0, \"#0d0887\"], [0.1111111111111111, \"#46039f\"], [0.2222222222222222, \"#7201a8\"], [0.3333333333333333, \"#9c179e\"], [0.4444444444444444, \"#bd3786\"], [0.5555555555555556, \"#d8576b\"], [0.6666666666666666, \"#ed7953\"], [0.7777777777777778, \"#fb9f3a\"], [0.8888888888888888, \"#fdca26\"], [1.0, \"#f0f921\"]], \"sequentialminus\": [[0.0, \"#0d0887\"], [0.1111111111111111, \"#46039f\"], [0.2222222222222222, \"#7201a8\"], [0.3333333333333333, \"#9c179e\"], [0.4444444444444444, \"#bd3786\"], [0.5555555555555556, \"#d8576b\"], [0.6666666666666666, \"#ed7953\"], [0.7777777777777778, \"#fb9f3a\"], [0.8888888888888888, \"#fdca26\"], [1.0, \"#f0f921\"]]}, \"colorway\": [\"#636efa\", \"#EF553B\", \"#00cc96\", \"#ab63fa\", \"#FFA15A\", \"#19d3f3\", \"#FF6692\", \"#B6E880\", \"#FF97FF\", \"#FECB52\"], \"font\": {\"color\": \"#2a3f5f\"}, \"geo\": {\"bgcolor\": \"white\", \"lakecolor\": \"white\", \"landcolor\": \"#E5ECF6\", \"showlakes\": true, \"showland\": true, \"subunitcolor\": \"white\"}, \"hoverlabel\": {\"align\": \"left\"}, \"hovermode\": \"closest\", \"mapbox\": {\"style\": \"light\"}, \"paper_bgcolor\": \"white\", \"plot_bgcolor\": \"#E5ECF6\", \"polar\": {\"angularaxis\": {\"gridcolor\": \"white\", \"linecolor\": \"white\", \"ticks\": \"\"}, \"bgcolor\": \"#E5ECF6\", \"radialaxis\": {\"gridcolor\": \"white\", \"linecolor\": \"white\", \"ticks\": \"\"}}, \"scene\": {\"xaxis\": {\"backgroundcolor\": \"#E5ECF6\", \"gridcolor\": \"white\", \"gridwidth\": 2, \"linecolor\": \"white\", \"showbackground\": true, \"ticks\": \"\", \"zerolinecolor\": \"white\"}, \"yaxis\": {\"backgroundcolor\": \"#E5ECF6\", \"gridcolor\": \"white\", \"gridwidth\": 2, \"linecolor\": \"white\", \"showbackground\": true, \"ticks\": \"\", \"zerolinecolor\": \"white\"}, \"zaxis\": {\"backgroundcolor\": \"#E5ECF6\", \"gridcolor\": \"white\", \"gridwidth\": 2, \"linecolor\": \"white\", \"showbackground\": true, \"ticks\": \"\", \"zerolinecolor\": \"white\"}}, \"shapedefaults\": {\"line\": {\"color\": \"#2a3f5f\"}}, \"ternary\": {\"aaxis\": {\"gridcolor\": \"white\", \"linecolor\": \"white\", \"ticks\": \"\"}, \"baxis\": {\"gridcolor\": \"white\", \"linecolor\": \"white\", \"ticks\": \"\"}, \"bgcolor\": \"#E5ECF6\", \"caxis\": {\"gridcolor\": \"white\", \"linecolor\": \"white\", \"ticks\": \"\"}}, \"title\": {\"x\": 0.05}, \"xaxis\": {\"automargin\": true, \"gridcolor\": \"white\", \"linecolor\": \"white\", \"ticks\": \"\", \"title\": {\"standoff\": 15}, \"zerolinecolor\": \"white\", \"zerolinewidth\": 2}, \"yaxis\": {\"automargin\": true, \"gridcolor\": \"white\", \"linecolor\": \"white\", \"ticks\": \"\", \"title\": {\"standoff\": 15}, \"zerolinecolor\": \"white\", \"zerolinewidth\": 2}}}, \"title\": {\"text\": \"Annotations in respective brain regions\"}, \"xaxis\": {\"anchor\": \"y\", \"domain\": [0.0, 0.44]}, \"xaxis2\": {\"anchor\": \"y2\", \"domain\": [0.54, 0.98]}, \"xaxis3\": {\"anchor\": \"y3\", \"domain\": [0.0, 0.44]}, \"xaxis4\": {\"anchor\": \"y4\", \"domain\": [0.54, 0.98]}, \"yaxis\": {\"anchor\": \"x\", \"categoryorder\": \"trace\", \"domain\": [0.235, 1.0]}, \"yaxis2\": {\"anchor\": \"x2\", \"domain\": [0.235, 1.0], \"matches\": \"y\", \"showticklabels\": false}, \"yaxis3\": {\"anchor\": \"x3\", \"domain\": [0.0, 0.085]}, \"yaxis4\": {\"anchor\": \"x4\", \"domain\": [0.0, 0.085], \"matches\": \"y3\", \"showticklabels\": false}},\n",
       "                        {\"responsive\": true}\n",
       "                    ).then(function(){\n",
       "                            \n",
       "var gd = document.getElementById('6845fdde-4080-499e-b228-d20f6fa19634');\n",
       "var x = new MutationObserver(function (mutations, observer) {{\n",
       "        var display = window.getComputedStyle(gd).display;\n",
       "        if (!display || display === 'none') {{\n",
       "            console.log([gd, 'removed!']);\n",
       "            Plotly.purge(gd);\n",
       "            observer.disconnect();\n",
       "        }}\n",
       "}});\n",
       "\n",
       "// Listen for the removal of the full notebook cells\n",
       "var notebookContainer = gd.closest('#notebook-container');\n",
       "if (notebookContainer) {{\n",
       "    x.observe(notebookContainer, {childList: true});\n",
       "}}\n",
       "\n",
       "// Listen for the clearing of the current output cell\n",
       "var outputEl = gd.closest('.output');\n",
       "if (outputEl) {{\n",
       "    x.observe(outputEl, {childList: true});\n",
       "}}\n",
       "\n",
       "                        })\n",
       "                };\n",
       "                });\n",
       "            </script>\n",
       "        </div>"
      ]
     },
     "metadata": {},
     "output_type": "display_data"
    }
   ],
   "source": [
    "plot_hist(axons, dendrites, outdir, name)"
   ]
  },
  {
   "cell_type": "markdown",
   "metadata": {},
   "source": [
    "### now plots the full resolution points in 3D scatter"
   ]
  },
  {
   "cell_type": "code",
   "execution_count": 24,
   "metadata": {},
   "outputs": [],
   "source": [
    "ori_points_name=fdialog.askopenfile( title='Select the converted&resampled origional points').name"
   ]
  },
  {
   "cell_type": "code",
   "execution_count": 23,
   "metadata": {},
   "outputs": [],
   "source": [
    "axonal_points_with_id= analysis_tools.findID_origional(ori_points_name, axonal_points_in_atlas, outdir,axon=True)"
   ]
  },
  {
   "cell_type": "code",
   "execution_count": 25,
   "metadata": {},
   "outputs": [],
   "source": [
    "dendritic_points_with_id= analysis_tools.findID_origional(ori_points_name, dendritic_points_in_atlas, outdir,axon=False)"
   ]
  },
  {
   "cell_type": "code",
   "execution_count": 26,
   "metadata": {},
   "outputs": [],
   "source": [
    "def make_scatter(axons, dendrites):\n",
    "        \n",
    "    fig=go.Figure()\n",
    "    fig.add_trace(go.Scatter3d( \n",
    "        x=axons[::3]['x'],\n",
    "        y=axons[::3]['y'],\n",
    "        z=axons[::3]['z'],\n",
    "        mode='markers',\n",
    "        name='Axons',\n",
    "        marker=dict(\n",
    "            size=1,\n",
    "            color='blue',\n",
    "            opacity=0.5\n",
    "        ),\n",
    "        hovertext= axons[::3]['name'],\n",
    "        hoverinfo='text'\n",
    "    ))\n",
    "    \n",
    "    fig.add_trace(go.Scatter3d(\n",
    "        x=dendrites['x'],\n",
    "        y=dendrites['y'],\n",
    "        z=dendrites['z'],\n",
    "        mode='markers',\n",
    "        name='Dendrites',\n",
    "        marker=dict(\n",
    "            size=2,\n",
    "            color='red',\n",
    "            opacity=0.5),\n",
    "        hovertext= dendrites['name'],\n",
    "        hoverinfo='text'\n",
    "    ))\n",
    "\n",
    "#Here we want horizontal view with dorsal surface toward us\n",
    "#first we set a xz view for coronal section this is done by setting x and z as 0 in eye\n",
    "# then, for y we want the smaller values to point toward us (because in our original coronal images dorsal surface is pointed up)\n",
    "    camera = dict(\n",
    "        eye=dict(x=0, y=-1, z=0)\n",
    "    )\n",
    "\n",
    "\n",
    "    #Need to change the axis title depending on the direction and orientation of the origional image (ie, imaging started from cerebellum vs. imaging started from olfactorybulb)\n",
    "    fig.update_layout(scene_camera=camera, \n",
    "                      scene=dict(\n",
    "                        xaxis_title='Smaller=more medial',\n",
    "                        yaxis_title='Smaller=more dorsal',\n",
    "                        zaxis_title='Smaller=more anterior'))\n",
    "    plot(fig,filename=outdir+'/'+'3Dplot.html')\n",
    "    "
   ]
  },
  {
   "cell_type": "code",
   "execution_count": 27,
   "metadata": {},
   "outputs": [],
   "source": [
    "make_scatter(axonal_points_with_id,dendritic_points_with_id)"
   ]
  },
  {
   "cell_type": "code",
   "execution_count": 28,
   "metadata": {},
   "outputs": [
    {
     "name": "stdout",
     "output_type": "stream",
     "text": [
      "saving tif files..\n"
     ]
    },
    {
     "name": "stderr",
     "output_type": "stream",
     "text": [
      "C:\\Users\\liu\\AppData\\Local\\Continuum\\anaconda3\\lib\\site-packages\\skimage\\io\\_io.py:141: UserWarning:\n",
      "\n",
      "D:/GF243/DSpoints.tif is a low contrast image\n",
      "\n"
     ]
    }
   ],
   "source": [
    "dspoints = fdialog.askopenfile(title='Please select the downsampled points').name\n",
    "\n",
    "analysis_tools.make_tif(dspoints,outdir)"
   ]
  },
  {
   "cell_type": "code",
   "execution_count": 8,
   "metadata": {},
   "outputs": [
    {
     "name": "stdout",
     "output_type": "stream",
     "text": [
      "Help on function make_tif in module analysis_tools:\n",
      "\n",
      "make_tif(all_points, dir, axon=True)\n",
      "    Project downsampled points on to a tiff stack, useful for overlaping with brain or template (ie, in imageJ)\n",
      "    input: downsampled points, directory containing it (this is also the output directory) and whether annotation is axon or not (default True)\n",
      "    output: a tiff stack with the same dimensions of the brain/template/atlas mhd files with downsampled points only\n",
      "    each point has a value of the number of occurences (since downsampling combines multiple points as one)\n",
      "\n"
     ]
    }
   ],
   "source": [
    "help(analysis_tools.make_tif)"
   ]
  },
  {
   "cell_type": "code",
   "execution_count": null,
   "metadata": {},
   "outputs": [],
   "source": []
  }
 ],
 "metadata": {
  "kernelspec": {
   "display_name": "Python 3",
   "language": "python",
   "name": "python3"
  },
  "language_info": {
   "codemirror_mode": {
    "name": "ipython",
    "version": 3
   },
   "file_extension": ".py",
   "mimetype": "text/x-python",
   "name": "python",
   "nbconvert_exporter": "python",
   "pygments_lexer": "ipython3",
   "version": "3.7.3"
  }
 },
 "nbformat": 4,
 "nbformat_minor": 4
}
