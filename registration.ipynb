{
 "cells": [
  {
   "cell_type": "markdown",
   "metadata": {},
   "source": [
    "## Formulating commandline for registration through elastix\n",
    "\n",
    "Works for both sample2ara and ara2sample, just switch the 2 image file accordingly\n",
    "\n",
    "Currently still need to manually run in cmd\n",
    "\n",
    "Requirements: *mhd* formats of your image stack and allen brain template in the correct z orientation (can be done in imageJ to flip the Y order. Image->transform->flipz)\n",
    "\n",
    "User inputs: define output directory, moving image, fixed image, elastix parameter file (in order)"
   ]
  },
  {
   "cell_type": "code",
   "execution_count": 1,
   "metadata": {},
   "outputs": [],
   "source": [
    "import os\n",
    "\n",
    "import subprocess\n",
    "\n",
    "import tkinter.filedialog as fdialog\n",
    "\n",
    "# this is the gui for finding directory and files"
   ]
  },
  {
   "cell_type": "markdown",
   "metadata": {},
   "source": [
    "First, we register allen template to our data (hence, ARA2Sample)\n",
    "- fixed image= our data\n",
    "- moving image= allen\n",
    "\n",
    "Then, we use the same transform parameter files to the allen atlas\n",
    "(affine first and then bspline provided by robcampbell UC in Han et al,2014)\n",
    "\n",
    "The following works also for sample2ara by redefining the fixed and moving image\n",
    "- fixedimage=allen\n",
    "- moving image=data\n",
    "\n",
    "In this case we need to transform an inverse transform and apply the inverse transform to our annotation"
   ]
  },
  {
   "cell_type": "code",
   "execution_count": 2,
   "metadata": {},
   "outputs": [],
   "source": [
    "tempdir = fdialog.askdirectory(title='Please select a output directory')"
   ]
  },
  {
   "cell_type": "code",
   "execution_count": 10,
   "metadata": {},
   "outputs": [],
   "source": [
    "fixed_img=fdialog.askopenfile(initialdir=tempdir, title='select the fixed image').name\n",
    "# need the .name part because askopenfile returns an io.textiowrapper not the full str name\n",
    "moving_img=fdialog.askopenfile(initialdir=tempdir, title='select the moving image').name\n"
   ]
  },
  {
   "cell_type": "code",
   "execution_count": 17,
   "metadata": {},
   "outputs": [],
   "source": [
    "#Start with the transform parameters in the backup folder. If things don't work then switch to the working folder for adjustments.\n",
    "param1=fdialog.askopenfile(initialdir=tempdir, title='select the first parameter file').name\n",
    "param2=fdialog.askopenfile(initialdir=tempdir, title='select the second parameter file').name"
   ]
  },
  {
   "cell_type": "code",
   "execution_count": 18,
   "metadata": {},
   "outputs": [
    {
     "name": "stdout",
     "output_type": "stream",
     "text": [
      "formulated commandline:  ['elastix -f D:/AL092/AL092_25.0um_inverted.mhd -m D:/AL092/template_100to365_crop.mhd -out D:/AL092/ara2sample -p D:/elastix_params/ara2sample/01_ARA_affine.txt -p D:/elastix_params/ara2sample/02_ARA_bspline.txt']\n"
     ]
    }
   ],
   "source": [
    "command_line= ['elastix -f '+ fixed_img+ ' -m ' + moving_img+ \n",
    "               ' -out '+ tempdir+ ' -p '+ param1+\n",
    "              ' -p ' + param2]\n",
    "print('formulated commandline: ' , command_line)\n",
    "\n",
    "#this step typically takes 10-20min"
   ]
  },
  {
   "cell_type": "markdown",
   "metadata": {},
   "source": [
    "open cmd, cd into the folder containing elastix.exe\n",
    "Copy the entire thing inside quotation marks and run in cmd\n",
    "\n",
    "To do: run this commandline in cmd through python\n"
   ]
  },
  {
   "cell_type": "markdown",
   "metadata": {},
   "source": [
    "## For ARA2Sample: Transform the atlas\n",
    "Now, we transform the atlas using the transform parameter values we got from the previous step\n",
    "\n",
    "first need to chain the two parameter files (IntialTransformParametersFile )\n",
    "Here, transformparam0 which has the affine values change (IntialTransformParametersFileName \"NoInitialTransform\")\n",
    "and, transformparam1 which has the bspline values change (IntialTransformParametersFileName \"insert_fullpathto_transformparam0\")\n",
    "\n",
    "then in transformparam1 change (FinalBSplineInterpolationOrder 0) and (ResultImagePixelType \"int\")\n",
    "This is to stop interpolation (ie, for binary or masks images where the index is important to keep) and make resulting image type int \n",
    "\n",
    "\n",
    "finally use transformix "
   ]
  },
  {
   "cell_type": "code",
   "execution_count": 19,
   "metadata": {},
   "outputs": [],
   "source": [
    "tempdir = fdialog.askdirectory(title='Please select a output directory')"
   ]
  },
  {
   "cell_type": "code",
   "execution_count": 20,
   "metadata": {},
   "outputs": [],
   "source": [
    "transparam0=fdialog.askopenfile(initialdir=tempdir, title='select the transformparameter0 file').name\n",
    "transparam1=fdialog.askopenfile(initialdir=tempdir, title='select the transformparameter1 file').name\n",
    "atlasname=fdialog.askopenfile(initialdir=tempdir, title='select the corresponding atlas file').name"
   ]
  },
  {
   "cell_type": "code",
   "execution_count": 21,
   "metadata": {},
   "outputs": [
    {
     "data": {
      "text/plain": [
       "['(Transform \"AffineTransform\")\\n',\n",
       " '(NumberOfParameters 12)\\n',\n",
       " '(TransformParameters 0.945459 0.043254 -0.018887 -0.024127 1.028460 0.248582 0.011969 -0.198497 0.810783 -31.725734 -41.097986 -38.082063)\\n',\n",
       " '(InitialTransformParametersFileName \"NoInitialTransform\")\\n',\n",
       " '(HowToCombineTransforms \"Compose\")\\n',\n",
       " '\\n',\n",
       " '// Image specific\\n',\n",
       " '(FixedImageDimension 3)\\n',\n",
       " '(MovingImageDimension 3)\\n',\n",
       " '(FixedInternalImagePixelType \"float\")\\n',\n",
       " '(MovingInternalImagePixelType \"float\")\\n',\n",
       " '(Size 516 374 340)\\n',\n",
       " '(Index 0 0 0)\\n',\n",
       " '(Spacing 1.0000000000 1.0000000000 1.0000000000)\\n',\n",
       " '(Origin 0.0000000000 0.0000000000 0.0000000000)\\n',\n",
       " '(Direction 1.0000000000 0.0000000000 0.0000000000 0.0000000000 1.0000000000 0.0000000000 0.0000000000 0.0000000000 1.0000000000)\\n',\n",
       " '(UseDirectionCosines \"true\")\\n',\n",
       " '\\n',\n",
       " '// AdvancedAffineTransform specific\\n',\n",
       " '(CenterOfRotationPoint 257.5000000000 186.5000000000 169.5000000000)\\n',\n",
       " '\\n',\n",
       " '// ResampleInterpolator specific\\n',\n",
       " '(ResampleInterpolator \"FinalBSplineInterpolator\")\\n',\n",
       " '(FinalBSplineInterpolationOrder 3)\\n',\n",
       " '\\n',\n",
       " '// Resampler specific\\n',\n",
       " '(Resampler \"DefaultResampler\")\\n',\n",
       " '(DefaultPixelValue 0.000000)\\n',\n",
       " '(ResultImageFormat \"mhd\")\\n',\n",
       " '(ResultImagePixelType \"short\")\\n',\n",
       " '(CompressResultImage \"false\")\\n']"
      ]
     },
     "execution_count": 21,
     "metadata": {},
     "output_type": "execute_result"
    }
   ],
   "source": [
    "# make the changes in transform parameters affine \n",
    "tparam0=open(transparam0,'r')\n",
    "tparam0_data=tparam0.readlines()\n",
    "\n",
    "tparam0_data\n",
    "# looks like (IntialTransformParametersFileName \"NoInitialTransform\") is already taken care of by elastix\n",
    "# only need to change transparam1"
   ]
  },
  {
   "cell_type": "code",
   "execution_count": 22,
   "metadata": {},
   "outputs": [
    {
     "name": "stdout",
     "output_type": "stream",
     "text": [
      "(FinalBSplineInterpolationOrder 3)\n",
      "\n",
      "Changing FinalBSplineInterpolationOrder 3 to 0\n",
      " \n",
      "(ResultImagePixelType \"short\")\n",
      "\n",
      "Changing ResultImagePixelType to int\n"
     ]
    }
   ],
   "source": [
    "# make the changes in transform parameters bspline\n",
    "\n",
    "tparam1=open(transparam1,'r')\n",
    "tparam1_data=tparam1.readlines()\n",
    "tparam1.close()\n",
    "\n",
    "\n",
    "new_transparam1_name=tempdir+'/tx_transparam1.txt'\n",
    "new_tparam1=open(new_transparam1_name,'w+')\n",
    "\n",
    "for lines in tparam1_data:\n",
    "    if 'FinalBSplineInterpolationOrder' in lines:\n",
    "        print(lines)\n",
    "        print('Changing FinalBSplineInterpolationOrder 3 to 0')\n",
    "        print(' ')\n",
    "        new_line=lines.replace('3','0')\n",
    "        new_tparam1.write(new_line)\n",
    "    elif 'ResultImagePixelType ' in lines:\n",
    "        print(lines)\n",
    "        print('Changing ResultImagePixelType to int')\n",
    "        new_line1=lines.replace('short', 'int')\n",
    "        new_tparam1.write(new_line1)\n",
    "    else:\n",
    "        new_tparam1.write(lines)\n",
    "new_tparam1.close()\n"
   ]
  },
  {
   "cell_type": "code",
   "execution_count": 23,
   "metadata": {},
   "outputs": [
    {
     "name": "stdout",
     "output_type": "stream",
     "text": [
      "formulated commandline for transformix:  ['transformix -out D:/AL092/ara2sample_atlas -tp D:/AL092/ara2sample_atlas/tx_transparam1.txt -in D:/AL092/atlas_100to365_crop.mhd']\n"
     ]
    }
   ],
   "source": [
    "command_line_transformix=['transformix -out '+ tempdir+ ' -tp ' + new_transparam1_name+ \n",
    "               ' -in ' + atlasname]\n",
    "print('formulated commandline for transformix: ' , command_line_transformix)\n",
    "\n",
    "# this step is really quick, normally 1min or so"
   ]
  },
  {
   "cell_type": "code",
   "execution_count": null,
   "metadata": {},
   "outputs": [],
   "source": []
  }
 ],
 "metadata": {
  "kernelspec": {
   "display_name": "Python 3",
   "language": "python",
   "name": "python3"
  },
  "language_info": {
   "codemirror_mode": {
    "name": "ipython",
    "version": 3
   },
   "file_extension": ".py",
   "mimetype": "text/x-python",
   "name": "python",
   "nbconvert_exporter": "python",
   "pygments_lexer": "ipython3",
   "version": "3.7.3"
  }
 },
 "nbformat": 4,
 "nbformat_minor": 4
}
